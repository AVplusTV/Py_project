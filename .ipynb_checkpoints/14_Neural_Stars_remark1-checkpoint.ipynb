{
 "cells": [
  {
   "cell_type": "markdown",
   "metadata": {},
   "source": [
    "<div style=\"border:solid green 2px; padding: 20px\">\n",
    "<b>Привет, Роман!</b>\n",
    "\n",
    "Меня зовут Александр Пономаренко, и я буду проверять твой проект. Предлагаю общаться на «ты» :) Но если это не удобно - дай знать, и мы перейдем на \"вы\". \n",
    "\n",
    "Моя основная цель — не указать на совершенные тобою ошибки, а поделиться своим опытом и помочь тебе стать data science. Ты уже проделал большую работу над проектом, но давай сделаем его еще лучше. Ниже ты найдешь мои комментарии - **пожалуйста, не перемещай, не изменяй и не удаляй их**. Увидев у тебя ошибку, в первый раз я лишь укажу на ее наличие и дам тебе возможность самой найти и исправить ее. На реальной работе твой начальник будет поступать так же, а я пытаюсь подготовить тебя именно к работе аналитиком. Но если ты пока не справишься с такой задачей - при следующей проверке я дам более точную подсказку. Я буду использовать цветовую разметку:\n",
    "\n",
    "<div class=\"alert alert-danger\">\n",
    "<b>Комментарий ревьюера ❌:</b> Так выделены самые важные замечания. Без их отработки проект не будет принят. </div>\n",
    "\n",
    "<div class=\"alert alert-warning\">\n",
    "<b>Комментарий ревьюера ⚠️:</b> Так выделены небольшие замечания. Я надеюсь, что их ты тоже учтешь - твой проект от этого станет только лучше. Но настаивать на их отработке не буду.\n",
    "\n",
    "</div>\n",
    "\n",
    "<div class=\"alert alert-success\">\n",
    "<b>Комментарий ревьюера ✔️:</b> Так я выделяю все остальные комментарии.</div>\n",
    "\n",
    "Давай работать над проектом в диалоге: **если ты что-то меняешь в проекте или отвечаешь на мои комменатри — пиши об этом.** Мне будет легче отследить изменения, если ты выделишь свои комментарии:\n",
    "<div class=\"alert alert-info\"> <b>Комментарий студента:</b> Например, вот так.</div>\n",
    "\n",
    "Всё это поможет выполнить повторную проверку твоего проекта оперативнее. "
   ]
  },
  {
   "cell_type": "markdown",
   "metadata": {},
   "source": [
    "The version of the notebook server is: 6.1.4\n",
    "\n",
    "The server is running on this version of Python: Python 3.8.5\n",
    "\n",
    "OS Windows 10 Home\n",
    "\n",
    "Configurable nbextensions Table of Contents (2) compatibility: 4.x, 5.x (https://www.codegrepper.com/code-examples/shell/install+toc2+jupyter+notebook)"
   ]
  },
  {
   "cell_type": "markdown",
   "metadata": {},
   "source": [
    "<b>Описание проекта:</b>\n",
    "\n",
    "<b>Прогнозирование температуры звезды</b>\n",
    "\n",
    "Вам пришла задача от обсерватории «Небо на ладони»: придумать, как с помощью нейросети определять температуру на поверхности обнаруженных звёзд. \n",
    "\n",
    "<b>Обычно для расчёта температуры учёные пользуются следующими методами:</b>\n",
    "\n",
    "* Закон смещения Вина.\n",
    "\n",
    "* Закон Стефана-Больцмана.\n",
    "\n",
    "* Спектральный анализ.\n",
    "\n",
    "Каждый из них имеет плюсы и минусы. Обсерватория хочет внедрить технологии машинного обучения для предсказания температуры звёзд, надеясь, что этот метод будет наиболее точным и удобным.\n",
    "\n",
    "В базе обсерватории есть характеристики уже изученных 240 звёзд."
   ]
  },
  {
   "cell_type": "markdown",
   "metadata": {},
   "source": [
    "Импортируем модули и библиотеки:"
   ]
  },
  {
   "cell_type": "code",
   "execution_count": 1,
   "metadata": {},
   "outputs": [],
   "source": [
    "import pandas as pd # импорт библиотеки pandas\n",
    "import matplotlib.pyplot as plt # импорт библиотеки работы с графиками\n",
    "import numpy as np # импорт библиотеки для вычислений\n",
    "import warnings\n",
    "\n",
    "warnings.filterwarnings('ignore') # отключаем сообщения об ошибках pandas\n",
    "pd.set_option('display.max_columns', None) # Сброс ограничений на число выводимых столбцов\n",
    "\n",
    "from sklearn.model_selection import train_test_split # импорт метода для разделения таблицы\n",
    "from sklearn.preprocessing import StandardScaler # импорт метода для массштабирования данных\n",
    "import torch.nn as nn # импорт библиотеки для построения нейросети\n",
    "import torch\n",
    "from torchmetrics import MeanSquaredError as mse\n",
    "from catboost import CatBoostRegressor\n",
    "from sklearn.metrics import mean_squared_error as msem\n",
    "import random\n",
    "from math import ceil"
   ]
  },
  {
   "cell_type": "markdown",
   "metadata": {},
   "source": [
    "## Исследование данных"
   ]
  },
  {
   "cell_type": "markdown",
   "metadata": {},
   "source": [
    "### Открываем файл с данными и анализируем содержимое"
   ]
  },
  {
   "cell_type": "markdown",
   "metadata": {},
   "source": [
    "Функция для чтения файла в таблицу с учетом возможности работы на разных платформах и заодно исследование данных в таблицах:"
   ]
  },
  {
   "cell_type": "code",
   "execution_count": 2,
   "metadata": {},
   "outputs": [],
   "source": [
    "def read_csv(link):\n",
    "    link1 = 'datasets/' + link\n",
    "    link2 = '/datasets/' + link\n",
    "    try:\n",
    "        name_link = pd.read_csv(link1)\n",
    "    except:\n",
    "        name_link = pd.read_csv(link2)\n",
    "    print('просмотрим первые пять строк')\n",
    "    display(name_link.head())\n",
    "    print('+++++++++++++++++++++++++++++++++++++++++++++++++++++++++')\n",
    "    print('просмотрим информацию')\n",
    "    display(name_link.info())\n",
    "    print('+++++++++++++++++++++++++++++++++++++++++++++++++++++++++')\n",
    "    print('посчитаем уникальные значения')\n",
    "    display(name_link.nunique()) \n",
    "    print('+++++++++++++++++++++++++++++++++++++++++++++++++++++++++')\n",
    "    print('проверим имена столбцов')\n",
    "    display(name_link.columns) \n",
    "    print('+++++++++++++++++++++++++++++++++++++++++++++++++++++++++')\n",
    "    print('проверка на явные дубликаты')\n",
    "    display('Количество явных дубликатов:', name_link.duplicated().sum()) \n",
    "    print('+++++++++++++++++++++++++++++++++++++++++++++++++++++++++')\n",
    "    print('проверим численные данные')\n",
    "    display(name_link.describe()) \n",
    "    print('+++++++++++++++++++++++++++++++++++++++++++++++++++++++++')\n",
    "    print('проверим корреляции')\n",
    "    display(name_link.corr())\n",
    "    print('+++++++++++++++++++++++++++++++++++++++++++++++++++++++++')\n",
    "    return name_link"
   ]
  },
  {
   "cell_type": "code",
   "execution_count": 3,
   "metadata": {},
   "outputs": [
    {
     "name": "stdout",
     "output_type": "stream",
     "text": [
      "просмотрим первые пять строк\n"
     ]
    },
    {
     "data": {
      "text/html": [
       "<div>\n",
       "<style scoped>\n",
       "    .dataframe tbody tr th:only-of-type {\n",
       "        vertical-align: middle;\n",
       "    }\n",
       "\n",
       "    .dataframe tbody tr th {\n",
       "        vertical-align: top;\n",
       "    }\n",
       "\n",
       "    .dataframe thead th {\n",
       "        text-align: right;\n",
       "    }\n",
       "</style>\n",
       "<table border=\"1\" class=\"dataframe\">\n",
       "  <thead>\n",
       "    <tr style=\"text-align: right;\">\n",
       "      <th></th>\n",
       "      <th>Unnamed: 0</th>\n",
       "      <th>Temperature (K)</th>\n",
       "      <th>Luminosity(L/Lo)</th>\n",
       "      <th>Radius(R/Ro)</th>\n",
       "      <th>Absolute magnitude(Mv)</th>\n",
       "      <th>Star type</th>\n",
       "      <th>Star color</th>\n",
       "    </tr>\n",
       "  </thead>\n",
       "  <tbody>\n",
       "    <tr>\n",
       "      <th>0</th>\n",
       "      <td>0</td>\n",
       "      <td>3068</td>\n",
       "      <td>0.002400</td>\n",
       "      <td>0.1700</td>\n",
       "      <td>16.12</td>\n",
       "      <td>0</td>\n",
       "      <td>Red</td>\n",
       "    </tr>\n",
       "    <tr>\n",
       "      <th>1</th>\n",
       "      <td>1</td>\n",
       "      <td>3042</td>\n",
       "      <td>0.000500</td>\n",
       "      <td>0.1542</td>\n",
       "      <td>16.60</td>\n",
       "      <td>0</td>\n",
       "      <td>Red</td>\n",
       "    </tr>\n",
       "    <tr>\n",
       "      <th>2</th>\n",
       "      <td>2</td>\n",
       "      <td>2600</td>\n",
       "      <td>0.000300</td>\n",
       "      <td>0.1020</td>\n",
       "      <td>18.70</td>\n",
       "      <td>0</td>\n",
       "      <td>Red</td>\n",
       "    </tr>\n",
       "    <tr>\n",
       "      <th>3</th>\n",
       "      <td>3</td>\n",
       "      <td>2800</td>\n",
       "      <td>0.000200</td>\n",
       "      <td>0.1600</td>\n",
       "      <td>16.65</td>\n",
       "      <td>0</td>\n",
       "      <td>Red</td>\n",
       "    </tr>\n",
       "    <tr>\n",
       "      <th>4</th>\n",
       "      <td>4</td>\n",
       "      <td>1939</td>\n",
       "      <td>0.000138</td>\n",
       "      <td>0.1030</td>\n",
       "      <td>20.06</td>\n",
       "      <td>0</td>\n",
       "      <td>Red</td>\n",
       "    </tr>\n",
       "  </tbody>\n",
       "</table>\n",
       "</div>"
      ],
      "text/plain": [
       "   Unnamed: 0  Temperature (K)  Luminosity(L/Lo)  Radius(R/Ro)  \\\n",
       "0           0             3068          0.002400        0.1700   \n",
       "1           1             3042          0.000500        0.1542   \n",
       "2           2             2600          0.000300        0.1020   \n",
       "3           3             2800          0.000200        0.1600   \n",
       "4           4             1939          0.000138        0.1030   \n",
       "\n",
       "   Absolute magnitude(Mv)  Star type Star color  \n",
       "0                   16.12          0        Red  \n",
       "1                   16.60          0        Red  \n",
       "2                   18.70          0        Red  \n",
       "3                   16.65          0        Red  \n",
       "4                   20.06          0        Red  "
      ]
     },
     "metadata": {},
     "output_type": "display_data"
    },
    {
     "name": "stdout",
     "output_type": "stream",
     "text": [
      "+++++++++++++++++++++++++++++++++++++++++++++++++++++++++\n",
      "просмотрим информацию\n",
      "<class 'pandas.core.frame.DataFrame'>\n",
      "RangeIndex: 240 entries, 0 to 239\n",
      "Data columns (total 7 columns):\n",
      " #   Column                  Non-Null Count  Dtype  \n",
      "---  ------                  --------------  -----  \n",
      " 0   Unnamed: 0              240 non-null    int64  \n",
      " 1   Temperature (K)         240 non-null    int64  \n",
      " 2   Luminosity(L/Lo)        240 non-null    float64\n",
      " 3   Radius(R/Ro)            240 non-null    float64\n",
      " 4   Absolute magnitude(Mv)  240 non-null    float64\n",
      " 5   Star type               240 non-null    int64  \n",
      " 6   Star color              240 non-null    object \n",
      "dtypes: float64(3), int64(3), object(1)\n",
      "memory usage: 13.2+ KB\n"
     ]
    },
    {
     "data": {
      "text/plain": [
       "None"
      ]
     },
     "metadata": {},
     "output_type": "display_data"
    },
    {
     "name": "stdout",
     "output_type": "stream",
     "text": [
      "+++++++++++++++++++++++++++++++++++++++++++++++++++++++++\n",
      "посчитаем уникальные значения\n"
     ]
    },
    {
     "data": {
      "text/plain": [
       "Unnamed: 0                240\n",
       "Temperature (K)           228\n",
       "Luminosity(L/Lo)          208\n",
       "Radius(R/Ro)              216\n",
       "Absolute magnitude(Mv)    228\n",
       "Star type                   6\n",
       "Star color                 19\n",
       "dtype: int64"
      ]
     },
     "metadata": {},
     "output_type": "display_data"
    },
    {
     "name": "stdout",
     "output_type": "stream",
     "text": [
      "+++++++++++++++++++++++++++++++++++++++++++++++++++++++++\n",
      "проверим имена столбцов\n"
     ]
    },
    {
     "data": {
      "text/plain": [
       "Index(['Unnamed: 0', 'Temperature (K)', 'Luminosity(L/Lo)', 'Radius(R/Ro)',\n",
       "       'Absolute magnitude(Mv)', 'Star type', 'Star color'],\n",
       "      dtype='object')"
      ]
     },
     "metadata": {},
     "output_type": "display_data"
    },
    {
     "name": "stdout",
     "output_type": "stream",
     "text": [
      "+++++++++++++++++++++++++++++++++++++++++++++++++++++++++\n",
      "проверка на явные дубликаты\n"
     ]
    },
    {
     "data": {
      "text/plain": [
       "'Количество явных дубликатов:'"
      ]
     },
     "metadata": {},
     "output_type": "display_data"
    },
    {
     "data": {
      "text/plain": [
       "0"
      ]
     },
     "metadata": {},
     "output_type": "display_data"
    },
    {
     "name": "stdout",
     "output_type": "stream",
     "text": [
      "+++++++++++++++++++++++++++++++++++++++++++++++++++++++++\n",
      "проверим численные данные\n"
     ]
    },
    {
     "data": {
      "text/html": [
       "<div>\n",
       "<style scoped>\n",
       "    .dataframe tbody tr th:only-of-type {\n",
       "        vertical-align: middle;\n",
       "    }\n",
       "\n",
       "    .dataframe tbody tr th {\n",
       "        vertical-align: top;\n",
       "    }\n",
       "\n",
       "    .dataframe thead th {\n",
       "        text-align: right;\n",
       "    }\n",
       "</style>\n",
       "<table border=\"1\" class=\"dataframe\">\n",
       "  <thead>\n",
       "    <tr style=\"text-align: right;\">\n",
       "      <th></th>\n",
       "      <th>Unnamed: 0</th>\n",
       "      <th>Temperature (K)</th>\n",
       "      <th>Luminosity(L/Lo)</th>\n",
       "      <th>Radius(R/Ro)</th>\n",
       "      <th>Absolute magnitude(Mv)</th>\n",
       "      <th>Star type</th>\n",
       "    </tr>\n",
       "  </thead>\n",
       "  <tbody>\n",
       "    <tr>\n",
       "      <th>count</th>\n",
       "      <td>240.00000</td>\n",
       "      <td>240.000000</td>\n",
       "      <td>240.000000</td>\n",
       "      <td>240.000000</td>\n",
       "      <td>240.000000</td>\n",
       "      <td>240.000000</td>\n",
       "    </tr>\n",
       "    <tr>\n",
       "      <th>mean</th>\n",
       "      <td>119.50000</td>\n",
       "      <td>10497.462500</td>\n",
       "      <td>107188.361635</td>\n",
       "      <td>237.157781</td>\n",
       "      <td>4.382396</td>\n",
       "      <td>2.500000</td>\n",
       "    </tr>\n",
       "    <tr>\n",
       "      <th>std</th>\n",
       "      <td>69.42622</td>\n",
       "      <td>9552.425037</td>\n",
       "      <td>179432.244940</td>\n",
       "      <td>517.155763</td>\n",
       "      <td>10.532512</td>\n",
       "      <td>1.711394</td>\n",
       "    </tr>\n",
       "    <tr>\n",
       "      <th>min</th>\n",
       "      <td>0.00000</td>\n",
       "      <td>1939.000000</td>\n",
       "      <td>0.000080</td>\n",
       "      <td>0.008400</td>\n",
       "      <td>-11.920000</td>\n",
       "      <td>0.000000</td>\n",
       "    </tr>\n",
       "    <tr>\n",
       "      <th>25%</th>\n",
       "      <td>59.75000</td>\n",
       "      <td>3344.250000</td>\n",
       "      <td>0.000865</td>\n",
       "      <td>0.102750</td>\n",
       "      <td>-6.232500</td>\n",
       "      <td>1.000000</td>\n",
       "    </tr>\n",
       "    <tr>\n",
       "      <th>50%</th>\n",
       "      <td>119.50000</td>\n",
       "      <td>5776.000000</td>\n",
       "      <td>0.070500</td>\n",
       "      <td>0.762500</td>\n",
       "      <td>8.313000</td>\n",
       "      <td>2.500000</td>\n",
       "    </tr>\n",
       "    <tr>\n",
       "      <th>75%</th>\n",
       "      <td>179.25000</td>\n",
       "      <td>15055.500000</td>\n",
       "      <td>198050.000000</td>\n",
       "      <td>42.750000</td>\n",
       "      <td>13.697500</td>\n",
       "      <td>4.000000</td>\n",
       "    </tr>\n",
       "    <tr>\n",
       "      <th>max</th>\n",
       "      <td>239.00000</td>\n",
       "      <td>40000.000000</td>\n",
       "      <td>849420.000000</td>\n",
       "      <td>1948.500000</td>\n",
       "      <td>20.060000</td>\n",
       "      <td>5.000000</td>\n",
       "    </tr>\n",
       "  </tbody>\n",
       "</table>\n",
       "</div>"
      ],
      "text/plain": [
       "       Unnamed: 0  Temperature (K)  Luminosity(L/Lo)  Radius(R/Ro)  \\\n",
       "count   240.00000       240.000000        240.000000    240.000000   \n",
       "mean    119.50000     10497.462500     107188.361635    237.157781   \n",
       "std      69.42622      9552.425037     179432.244940    517.155763   \n",
       "min       0.00000      1939.000000          0.000080      0.008400   \n",
       "25%      59.75000      3344.250000          0.000865      0.102750   \n",
       "50%     119.50000      5776.000000          0.070500      0.762500   \n",
       "75%     179.25000     15055.500000     198050.000000     42.750000   \n",
       "max     239.00000     40000.000000     849420.000000   1948.500000   \n",
       "\n",
       "       Absolute magnitude(Mv)   Star type  \n",
       "count              240.000000  240.000000  \n",
       "mean                 4.382396    2.500000  \n",
       "std                 10.532512    1.711394  \n",
       "min                -11.920000    0.000000  \n",
       "25%                 -6.232500    1.000000  \n",
       "50%                  8.313000    2.500000  \n",
       "75%                 13.697500    4.000000  \n",
       "max                 20.060000    5.000000  "
      ]
     },
     "metadata": {},
     "output_type": "display_data"
    },
    {
     "name": "stdout",
     "output_type": "stream",
     "text": [
      "+++++++++++++++++++++++++++++++++++++++++++++++++++++++++\n",
      "проверим корреляции\n"
     ]
    },
    {
     "data": {
      "text/html": [
       "<div>\n",
       "<style scoped>\n",
       "    .dataframe tbody tr th:only-of-type {\n",
       "        vertical-align: middle;\n",
       "    }\n",
       "\n",
       "    .dataframe tbody tr th {\n",
       "        vertical-align: top;\n",
       "    }\n",
       "\n",
       "    .dataframe thead th {\n",
       "        text-align: right;\n",
       "    }\n",
       "</style>\n",
       "<table border=\"1\" class=\"dataframe\">\n",
       "  <thead>\n",
       "    <tr style=\"text-align: right;\">\n",
       "      <th></th>\n",
       "      <th>Unnamed: 0</th>\n",
       "      <th>Temperature (K)</th>\n",
       "      <th>Luminosity(L/Lo)</th>\n",
       "      <th>Radius(R/Ro)</th>\n",
       "      <th>Absolute magnitude(Mv)</th>\n",
       "      <th>Star type</th>\n",
       "    </tr>\n",
       "  </thead>\n",
       "  <tbody>\n",
       "    <tr>\n",
       "      <th>Unnamed: 0</th>\n",
       "      <td>1.000000</td>\n",
       "      <td>0.391056</td>\n",
       "      <td>0.322719</td>\n",
       "      <td>0.167608</td>\n",
       "      <td>-0.257015</td>\n",
       "      <td>0.246505</td>\n",
       "    </tr>\n",
       "    <tr>\n",
       "      <th>Temperature (K)</th>\n",
       "      <td>0.391056</td>\n",
       "      <td>1.000000</td>\n",
       "      <td>0.393404</td>\n",
       "      <td>0.064216</td>\n",
       "      <td>-0.420261</td>\n",
       "      <td>0.411129</td>\n",
       "    </tr>\n",
       "    <tr>\n",
       "      <th>Luminosity(L/Lo)</th>\n",
       "      <td>0.322719</td>\n",
       "      <td>0.393404</td>\n",
       "      <td>1.000000</td>\n",
       "      <td>0.526516</td>\n",
       "      <td>-0.692619</td>\n",
       "      <td>0.676845</td>\n",
       "    </tr>\n",
       "    <tr>\n",
       "      <th>Radius(R/Ro)</th>\n",
       "      <td>0.167608</td>\n",
       "      <td>0.064216</td>\n",
       "      <td>0.526516</td>\n",
       "      <td>1.000000</td>\n",
       "      <td>-0.608728</td>\n",
       "      <td>0.660975</td>\n",
       "    </tr>\n",
       "    <tr>\n",
       "      <th>Absolute magnitude(Mv)</th>\n",
       "      <td>-0.257015</td>\n",
       "      <td>-0.420261</td>\n",
       "      <td>-0.692619</td>\n",
       "      <td>-0.608728</td>\n",
       "      <td>1.000000</td>\n",
       "      <td>-0.955276</td>\n",
       "    </tr>\n",
       "    <tr>\n",
       "      <th>Star type</th>\n",
       "      <td>0.246505</td>\n",
       "      <td>0.411129</td>\n",
       "      <td>0.676845</td>\n",
       "      <td>0.660975</td>\n",
       "      <td>-0.955276</td>\n",
       "      <td>1.000000</td>\n",
       "    </tr>\n",
       "  </tbody>\n",
       "</table>\n",
       "</div>"
      ],
      "text/plain": [
       "                        Unnamed: 0  Temperature (K)  Luminosity(L/Lo)  \\\n",
       "Unnamed: 0                1.000000         0.391056          0.322719   \n",
       "Temperature (K)           0.391056         1.000000          0.393404   \n",
       "Luminosity(L/Lo)          0.322719         0.393404          1.000000   \n",
       "Radius(R/Ro)              0.167608         0.064216          0.526516   \n",
       "Absolute magnitude(Mv)   -0.257015        -0.420261         -0.692619   \n",
       "Star type                 0.246505         0.411129          0.676845   \n",
       "\n",
       "                        Radius(R/Ro)  Absolute magnitude(Mv)  Star type  \n",
       "Unnamed: 0                  0.167608               -0.257015   0.246505  \n",
       "Temperature (K)             0.064216               -0.420261   0.411129  \n",
       "Luminosity(L/Lo)            0.526516               -0.692619   0.676845  \n",
       "Radius(R/Ro)                1.000000               -0.608728   0.660975  \n",
       "Absolute magnitude(Mv)     -0.608728                1.000000  -0.955276  \n",
       "Star type                   0.660975               -0.955276   1.000000  "
      ]
     },
     "metadata": {},
     "output_type": "display_data"
    },
    {
     "name": "stdout",
     "output_type": "stream",
     "text": [
      "+++++++++++++++++++++++++++++++++++++++++++++++++++++++++\n"
     ]
    }
   ],
   "source": [
    "df = read_csv('6_class.csv')"
   ]
  },
  {
   "attachments": {
    "image-2.png": {
     "image/png": "[encoded data removed]"
    }
   },
   "cell_type": "markdown",
   "metadata": {},
   "source": [
    "Таблица содержит 240 строк - маловато данных для нормального обучения нейросети\n",
    "\n",
    "колонка Unnamed: 0 явно дублирует индексы ее можно удалить\n",
    "\n",
    "\n",
    "<b>Признаки для обучения</b>\n",
    "\n",
    "\n",
    "Luminosity(L/Lo) - Относительная светимость L/Lo — светимость звезды относительно Солнца. ТИП - float64\n",
    "\n",
    "Radius(R/Ro) - Относительный радиус R/Ro — радиус звезды относительно радиуса Солнца.ТИП - float64\n",
    "\n",
    "Absolute magnitude(Mv)  - Абсолютная звёздная величина Mv — физическая величина, характеризующая блеск звезды.ТИП - float64\n",
    "\n",
    "Star color - Звёздный цвет (white, red, blue, yellow, yellow-orange и др.) — цвет звезды, который определяют на основе спектрального анализа. ТИП  - object\n",
    "\n",
    "Star type - Тип звезды. ТИП - int64 \n",
    "![image-2.png](attachment:image-2.png)\n",
    "\n",
    "\n",
    "\n",
    "\n",
    "\n",
    "<b>Целевой признак</b>\n",
    "\n",
    "Temperature (K) - Абсолютная температура T(K) — температура на поверхности звезды в Кельвинах. ТИП - int64 \n",
    "\n"
   ]
  },
  {
   "cell_type": "markdown",
   "metadata": {},
   "source": [
    "<div class=\"alert alert-success\">\n",
    "<b>Комментарий ревьюера ✔️:</b>Поддерживаю, описание проекта важная часть</div>"
   ]
  },
  {
   "cell_type": "markdown",
   "metadata": {},
   "source": [
    "### Посмотрим на распределения: Построение гистограмм"
   ]
  },
  {
   "cell_type": "code",
   "execution_count": 4,
   "metadata": {},
   "outputs": [
    {
     "data": {
      "image/png": "[encoded data removed]",
      "text/plain": [
       "<Figure size 432x288 with 1 Axes>"
      ]
     },
     "metadata": {
      "needs_background": "light"
     },
     "output_type": "display_data"
    }
   ],
   "source": [
    "plt.hist(df['Temperature (K)'], range = (0, 40000), bins=100, label = 'Temperature (K)')\n",
    "plt.ylabel('Частотность')\n",
    "plt.xlabel('Temperature (K)')\n",
    "plt.legend()\n",
    "plt.grid()"
   ]
  },
  {
   "cell_type": "markdown",
   "metadata": {},
   "source": [
    "<b>Большинство звезд с температурой около 3000 К"
   ]
  },
  {
   "cell_type": "markdown",
   "metadata": {},
   "source": [
    "Посчитаем количество строк с температурами ну скажем выше 20000 К"
   ]
  },
  {
   "cell_type": "code",
   "execution_count": 5,
   "metadata": {},
   "outputs": [
    {
     "data": {
      "text/plain": [
       "Unnamed: 0                40\n",
       "Temperature (K)           40\n",
       "Luminosity(L/Lo)          40\n",
       "Radius(R/Ro)              40\n",
       "Absolute magnitude(Mv)    40\n",
       "Star type                 40\n",
       "Star color                40\n",
       "dtype: int64"
      ]
     },
     "metadata": {},
     "output_type": "display_data"
    }
   ],
   "source": [
    "display(df[df['Temperature (K)'] >20000].count())"
   ]
  },
  {
   "cell_type": "markdown",
   "metadata": {},
   "source": [
    "ТО есть 200 звезд до 20000 К и 40 звезд выше. Для горячих звезд явно будет не хватать обучающей выборки"
   ]
  },
  {
   "cell_type": "code",
   "execution_count": 6,
   "metadata": {},
   "outputs": [
    {
     "data": {
      "image/png": "[encoded data removed]",
      "text/plain": [
       "<Figure size 432x288 with 1 Axes>"
      ]
     },
     "metadata": {
      "needs_background": "light"
     },
     "output_type": "display_data"
    }
   ],
   "source": [
    "plt.hist(df['Luminosity(L/Lo)'], range = (0, 850000), bins=150, label = 'Luminosity(L/Lo)')\n",
    "plt.ylabel('Частотность')\n",
    "plt.xlabel('Luminosity(L/Lo)')\n",
    "plt.legend()\n",
    "plt.grid()"
   ]
  },
  {
   "cell_type": "markdown",
   "metadata": {},
   "source": [
    "<b>Явное скопление светимостей около нуля, помотрим пристальнее:"
   ]
  },
  {
   "cell_type": "code",
   "execution_count": 7,
   "metadata": {
    "scrolled": true
   },
   "outputs": [
    {
     "data": {
      "text/html": [
       "<div>\n",
       "<style scoped>\n",
       "    .dataframe tbody tr th:only-of-type {\n",
       "        vertical-align: middle;\n",
       "    }\n",
       "\n",
       "    .dataframe tbody tr th {\n",
       "        vertical-align: top;\n",
       "    }\n",
       "\n",
       "    .dataframe thead th {\n",
       "        text-align: right;\n",
       "    }\n",
       "</style>\n",
       "<table border=\"1\" class=\"dataframe\">\n",
       "  <thead>\n",
       "    <tr style=\"text-align: right;\">\n",
       "      <th></th>\n",
       "      <th>Unnamed: 0</th>\n",
       "      <th>Temperature (K)</th>\n",
       "      <th>Luminosity(L/Lo)</th>\n",
       "      <th>Radius(R/Ro)</th>\n",
       "      <th>Absolute magnitude(Mv)</th>\n",
       "      <th>Star type</th>\n",
       "      <th>Star color</th>\n",
       "    </tr>\n",
       "  </thead>\n",
       "  <tbody>\n",
       "    <tr>\n",
       "      <th>0</th>\n",
       "      <td>0</td>\n",
       "      <td>3068</td>\n",
       "      <td>0.002400</td>\n",
       "      <td>0.17000</td>\n",
       "      <td>16.12</td>\n",
       "      <td>0</td>\n",
       "      <td>Red</td>\n",
       "    </tr>\n",
       "    <tr>\n",
       "      <th>1</th>\n",
       "      <td>1</td>\n",
       "      <td>3042</td>\n",
       "      <td>0.000500</td>\n",
       "      <td>0.15420</td>\n",
       "      <td>16.60</td>\n",
       "      <td>0</td>\n",
       "      <td>Red</td>\n",
       "    </tr>\n",
       "    <tr>\n",
       "      <th>2</th>\n",
       "      <td>2</td>\n",
       "      <td>2600</td>\n",
       "      <td>0.000300</td>\n",
       "      <td>0.10200</td>\n",
       "      <td>18.70</td>\n",
       "      <td>0</td>\n",
       "      <td>Red</td>\n",
       "    </tr>\n",
       "    <tr>\n",
       "      <th>3</th>\n",
       "      <td>3</td>\n",
       "      <td>2800</td>\n",
       "      <td>0.000200</td>\n",
       "      <td>0.16000</td>\n",
       "      <td>16.65</td>\n",
       "      <td>0</td>\n",
       "      <td>Red</td>\n",
       "    </tr>\n",
       "    <tr>\n",
       "      <th>4</th>\n",
       "      <td>4</td>\n",
       "      <td>1939</td>\n",
       "      <td>0.000138</td>\n",
       "      <td>0.10300</td>\n",
       "      <td>20.06</td>\n",
       "      <td>0</td>\n",
       "      <td>Red</td>\n",
       "    </tr>\n",
       "    <tr>\n",
       "      <th>...</th>\n",
       "      <td>...</td>\n",
       "      <td>...</td>\n",
       "      <td>...</td>\n",
       "      <td>...</td>\n",
       "      <td>...</td>\n",
       "      <td>...</td>\n",
       "      <td>...</td>\n",
       "    </tr>\n",
       "    <tr>\n",
       "      <th>205</th>\n",
       "      <td>205</td>\n",
       "      <td>19920</td>\n",
       "      <td>0.001560</td>\n",
       "      <td>0.01420</td>\n",
       "      <td>11.34</td>\n",
       "      <td>2</td>\n",
       "      <td>Blue</td>\n",
       "    </tr>\n",
       "    <tr>\n",
       "      <th>206</th>\n",
       "      <td>206</td>\n",
       "      <td>24020</td>\n",
       "      <td>0.001590</td>\n",
       "      <td>0.01270</td>\n",
       "      <td>10.55</td>\n",
       "      <td>2</td>\n",
       "      <td>Blue</td>\n",
       "    </tr>\n",
       "    <tr>\n",
       "      <th>207</th>\n",
       "      <td>207</td>\n",
       "      <td>23092</td>\n",
       "      <td>0.001320</td>\n",
       "      <td>0.01040</td>\n",
       "      <td>10.18</td>\n",
       "      <td>2</td>\n",
       "      <td>Blue</td>\n",
       "    </tr>\n",
       "    <tr>\n",
       "      <th>208</th>\n",
       "      <td>208</td>\n",
       "      <td>17920</td>\n",
       "      <td>0.001110</td>\n",
       "      <td>0.01060</td>\n",
       "      <td>11.66</td>\n",
       "      <td>2</td>\n",
       "      <td>Blue</td>\n",
       "    </tr>\n",
       "    <tr>\n",
       "      <th>209</th>\n",
       "      <td>209</td>\n",
       "      <td>19360</td>\n",
       "      <td>0.001250</td>\n",
       "      <td>0.00998</td>\n",
       "      <td>11.62</td>\n",
       "      <td>2</td>\n",
       "      <td>Blue</td>\n",
       "    </tr>\n",
       "  </tbody>\n",
       "</table>\n",
       "<p>121 rows × 7 columns</p>\n",
       "</div>"
      ],
      "text/plain": [
       "     Unnamed: 0  Temperature (K)  Luminosity(L/Lo)  Radius(R/Ro)  \\\n",
       "0             0             3068          0.002400       0.17000   \n",
       "1             1             3042          0.000500       0.15420   \n",
       "2             2             2600          0.000300       0.10200   \n",
       "3             3             2800          0.000200       0.16000   \n",
       "4             4             1939          0.000138       0.10300   \n",
       "..          ...              ...               ...           ...   \n",
       "205         205            19920          0.001560       0.01420   \n",
       "206         206            24020          0.001590       0.01270   \n",
       "207         207            23092          0.001320       0.01040   \n",
       "208         208            17920          0.001110       0.01060   \n",
       "209         209            19360          0.001250       0.00998   \n",
       "\n",
       "     Absolute magnitude(Mv)  Star type Star color  \n",
       "0                     16.12          0        Red  \n",
       "1                     16.60          0        Red  \n",
       "2                     18.70          0        Red  \n",
       "3                     16.65          0        Red  \n",
       "4                     20.06          0        Red  \n",
       "..                      ...        ...        ...  \n",
       "205                   11.34          2       Blue  \n",
       "206                   10.55          2       Blue  \n",
       "207                   10.18          2       Blue  \n",
       "208                   11.66          2       Blue  \n",
       "209                   11.62          2       Blue  \n",
       "\n",
       "[121 rows x 7 columns]"
      ]
     },
     "metadata": {},
     "output_type": "display_data"
    }
   ],
   "source": [
    "display(df[df['Luminosity(L/Lo)'] < 0.1])"
   ]
  },
  {
   "cell_type": "markdown",
   "metadata": {},
   "source": [
    "<b>Мда уж 209 из 240 звезд почти не светятся - тут весьма мало данных для ярких звезд"
   ]
  },
  {
   "cell_type": "code",
   "execution_count": 8,
   "metadata": {},
   "outputs": [
    {
     "data": {
      "image/png": "[encoded data removed]",
      "text/plain": [
       "<Figure size 432x288 with 1 Axes>"
      ]
     },
     "metadata": {
      "needs_background": "light"
     },
     "output_type": "display_data"
    }
   ],
   "source": [
    "plt.hist(df['Radius(R/Ro)'], range = (0, 2000), bins=50, label = 'Radius(R/Ro)')\n",
    "plt.ylabel('Частотность')\n",
    "plt.xlabel('Radius(R/Ro)')\n",
    "plt.legend()\n",
    "plt.grid()"
   ]
  },
  {
   "cell_type": "markdown",
   "metadata": {},
   "source": [
    "<b>Большинство звезд с радиусом близким к Солнцу или не сильно большие, посмотрим внимательнее"
   ]
  },
  {
   "cell_type": "code",
   "execution_count": 9,
   "metadata": {},
   "outputs": [
    {
     "data": {
      "image/png": "[encoded data removed]",
      "text/plain": [
       "<Figure size 432x288 with 1 Axes>"
      ]
     },
     "metadata": {
      "needs_background": "light"
     },
     "output_type": "display_data"
    }
   ],
   "source": [
    "plt.hist(df['Radius(R/Ro)'], range = (0, 2), bins=50, label = 'Radius(R/Ro)')\n",
    "plt.ylabel('Частотность')\n",
    "plt.xlabel('Radius(R/Ro)')\n",
    "plt.legend()\n",
    "plt.grid()"
   ]
  },
  {
   "cell_type": "markdown",
   "metadata": {},
   "source": [
    "Посмотрим на звезды меньше солнца"
   ]
  },
  {
   "cell_type": "code",
   "execution_count": 10,
   "metadata": {},
   "outputs": [
    {
     "data": {
      "image/png": "[encoded data removed]",
      "text/plain": [
       "<Figure size 432x288 with 1 Axes>"
      ]
     },
     "metadata": {
      "needs_background": "light"
     },
     "output_type": "display_data"
    }
   ],
   "source": [
    "plt.hist(df['Radius(R/Ro)'], range = (0, 0.1), bins=50, label = 'Radius(R/Ro)')\n",
    "plt.ylabel('Частотность')\n",
    "plt.xlabel('Radius(R/Ro)')\n",
    "plt.legend()\n",
    "plt.grid()"
   ]
  },
  {
   "cell_type": "code",
   "execution_count": 11,
   "metadata": {},
   "outputs": [
    {
     "data": {
      "image/png": "[encoded data removed]",
      "text/plain": [
       "<Figure size 432x288 with 1 Axes>"
      ]
     },
     "metadata": {
      "needs_background": "light"
     },
     "output_type": "display_data"
    }
   ],
   "source": [
    "plt.hist(df['Absolute magnitude(Mv)'], range = (-15, 21), bins=50, label = 'Absolute magnitude(Mv)')\n",
    "plt.ylabel('Частотность')\n",
    "plt.xlabel('Absolute magnitude(Mv)')\n",
    "plt.legend()\n",
    "plt.grid()"
   ]
  },
  {
   "cell_type": "markdown",
   "metadata": {},
   "source": [
    "<b>Наблюдаются две области скопления показателей: в районе 15 и -7 Mv"
   ]
  },
  {
   "cell_type": "code",
   "execution_count": 12,
   "metadata": {},
   "outputs": [
    {
     "data": {
      "image/png": "[encoded data removed]",
      "text/plain": [
       "<Figure size 432x288 with 1 Axes>"
      ]
     },
     "metadata": {
      "needs_background": "light"
     },
     "output_type": "display_data"
    }
   ],
   "source": [
    "plt.hist(df['Star type'], range = (0, 7), bins=7, label = 'Star type')\n",
    "plt.ylabel('Частотность')\n",
    "plt.xlabel('Star type')\n",
    "plt.legend()\n",
    "plt.grid()"
   ]
  },
  {
   "cell_type": "markdown",
   "metadata": {},
   "source": [
    "сранный график, посчитаем уникальные значения."
   ]
  },
  {
   "cell_type": "code",
   "execution_count": 13,
   "metadata": {},
   "outputs": [
    {
     "data": {
      "text/plain": [
       "5    40\n",
       "4    40\n",
       "3    40\n",
       "2    40\n",
       "1    40\n",
       "0    40\n",
       "Name: Star type, dtype: int64"
      ]
     },
     "execution_count": 13,
     "metadata": {},
     "output_type": "execute_result"
    }
   ],
   "source": [
    "df['Star type'].value_counts()"
   ]
  },
  {
   "cell_type": "markdown",
   "metadata": {},
   "source": [
    "<b>Ну здесь вообще весьма странная подборка по типу - ибо другие данные явно тяготеют к  показателям Солнца и не наблюдается разбиение по показателям, а тут по типу как то одинаково разбиты данные - тут вполне возможно закралась ошибка в определении типов, искуственно как то. Хотя судя по корреляции этот параметр весьма хорошо влияет на температуру звезды."
   ]
  },
  {
   "cell_type": "markdown",
   "metadata": {},
   "source": [
    "### Проверка на не явные дубликаты:"
   ]
  },
  {
   "cell_type": "code",
   "execution_count": 14,
   "metadata": {},
   "outputs": [
    {
     "data": {
      "text/plain": [
       "array(['Red', 'Blue White', 'White', 'Yellowish White', 'Blue white',\n",
       "       'Pale yellow orange', 'Blue', 'Blue-white', 'Whitish',\n",
       "       'yellow-white', 'Orange', 'White-Yellow', 'white', 'Blue ',\n",
       "       'yellowish', 'Yellowish', 'Orange-Red', 'Blue white ',\n",
       "       'Blue-White'], dtype=object)"
      ]
     },
     "execution_count": 14,
     "metadata": {},
     "output_type": "execute_result"
    }
   ],
   "source": [
    "df['Star color'].unique()"
   ]
  },
  {
   "cell_type": "markdown",
   "metadata": {},
   "source": [
    "Наблюдаются не явные дубликаты, следует переименовать некоторые значения, а именно приведем к следующим названиям:\n",
    "\n",
    "Whitish Это White\n",
    "\n",
    "Yellowish White - желтоватый, можно оставить просто Yellowish (тут же yellow-white и 'White-Yellow')\n",
    "\n",
    "ИТОГО:\n",
    "\n",
    "'Red', 'Blue-White', 'White', 'Yellowish', 'Pale-Yellow-Orange', 'Blue', 'Orange', 'Orange-Red'\n",
    "\n",
    "'Red', 'White', 'Pale yellow orange', 'Orange', 'white','Orange-Red'"
   ]
  },
  {
   "cell_type": "markdown",
   "metadata": {},
   "source": [
    "### <b>Выводы и замечания по анализу данных:</b>"
   ]
  },
  {
   "cell_type": "markdown",
   "metadata": {},
   "source": [
    "* требуется переименование всех столбцов в формат snake_case (думаю единицы измерения вообще можно убрать из названий)\n",
    "* пропусков и пустых значений в даных не наблюдается\n",
    "* явных дубликатов нет\n",
    "* проблем с минимальными и максимальными значениями нет\n",
    "* температура хорошо коррелирует со всеми числовыми данными кроме относительного радиуса\n",
    "* есть не явные дубликаты - требуется переименование\n",
    "* столбец Unnamed: 0\tможно удалить\n",
    "* 240 строк данных это очень мало, для обучения нейросети хорошо бы увеличить количество строк данных\n",
    "* в столбце Star color категориальные данные - требуется преобразование OHE\n",
    "* масштаб данных в столбцах различный - требуется массштабирование данных"
   ]
  },
  {
   "cell_type": "markdown",
   "metadata": {},
   "source": [
    "<div class=\"alert alert-success\">\n",
    "<b>Комментарий ревьюера ✔️:</b>С рассуждениями твоими согласен:)</div>"
   ]
  },
  {
   "cell_type": "markdown",
   "metadata": {},
   "source": [
    "## Предобработка данных по результатам анализа"
   ]
  },
  {
   "cell_type": "markdown",
   "metadata": {},
   "source": [
    "### Удалим столбцы не влияющие на предсказания"
   ]
  },
  {
   "cell_type": "code",
   "execution_count": 15,
   "metadata": {},
   "outputs": [],
   "source": [
    "df = df.drop(['Unnamed: 0'], axis=1)"
   ]
  },
  {
   "cell_type": "code",
   "execution_count": 16,
   "metadata": {},
   "outputs": [
    {
     "data": {
      "text/html": [
       "<div>\n",
       "<style scoped>\n",
       "    .dataframe tbody tr th:only-of-type {\n",
       "        vertical-align: middle;\n",
       "    }\n",
       "\n",
       "    .dataframe tbody tr th {\n",
       "        vertical-align: top;\n",
       "    }\n",
       "\n",
       "    .dataframe thead th {\n",
       "        text-align: right;\n",
       "    }\n",
       "</style>\n",
       "<table border=\"1\" class=\"dataframe\">\n",
       "  <thead>\n",
       "    <tr style=\"text-align: right;\">\n",
       "      <th></th>\n",
       "      <th>Temperature (K)</th>\n",
       "      <th>Luminosity(L/Lo)</th>\n",
       "      <th>Radius(R/Ro)</th>\n",
       "      <th>Absolute magnitude(Mv)</th>\n",
       "      <th>Star type</th>\n",
       "      <th>Star color</th>\n",
       "    </tr>\n",
       "  </thead>\n",
       "  <tbody>\n",
       "    <tr>\n",
       "      <th>0</th>\n",
       "      <td>3068</td>\n",
       "      <td>0.002400</td>\n",
       "      <td>0.1700</td>\n",
       "      <td>16.12</td>\n",
       "      <td>0</td>\n",
       "      <td>Red</td>\n",
       "    </tr>\n",
       "    <tr>\n",
       "      <th>1</th>\n",
       "      <td>3042</td>\n",
       "      <td>0.000500</td>\n",
       "      <td>0.1542</td>\n",
       "      <td>16.60</td>\n",
       "      <td>0</td>\n",
       "      <td>Red</td>\n",
       "    </tr>\n",
       "    <tr>\n",
       "      <th>2</th>\n",
       "      <td>2600</td>\n",
       "      <td>0.000300</td>\n",
       "      <td>0.1020</td>\n",
       "      <td>18.70</td>\n",
       "      <td>0</td>\n",
       "      <td>Red</td>\n",
       "    </tr>\n",
       "    <tr>\n",
       "      <th>3</th>\n",
       "      <td>2800</td>\n",
       "      <td>0.000200</td>\n",
       "      <td>0.1600</td>\n",
       "      <td>16.65</td>\n",
       "      <td>0</td>\n",
       "      <td>Red</td>\n",
       "    </tr>\n",
       "    <tr>\n",
       "      <th>4</th>\n",
       "      <td>1939</td>\n",
       "      <td>0.000138</td>\n",
       "      <td>0.1030</td>\n",
       "      <td>20.06</td>\n",
       "      <td>0</td>\n",
       "      <td>Red</td>\n",
       "    </tr>\n",
       "  </tbody>\n",
       "</table>\n",
       "</div>"
      ],
      "text/plain": [
       "   Temperature (K)  Luminosity(L/Lo)  Radius(R/Ro)  Absolute magnitude(Mv)  \\\n",
       "0             3068          0.002400        0.1700                   16.12   \n",
       "1             3042          0.000500        0.1542                   16.60   \n",
       "2             2600          0.000300        0.1020                   18.70   \n",
       "3             2800          0.000200        0.1600                   16.65   \n",
       "4             1939          0.000138        0.1030                   20.06   \n",
       "\n",
       "   Star type Star color  \n",
       "0          0        Red  \n",
       "1          0        Red  \n",
       "2          0        Red  \n",
       "3          0        Red  \n",
       "4          0        Red  "
      ]
     },
     "execution_count": 16,
     "metadata": {},
     "output_type": "execute_result"
    }
   ],
   "source": [
    "df.head()"
   ]
  },
  {
   "cell_type": "markdown",
   "metadata": {},
   "source": [
    "### Переименование столбцов\n"
   ]
  },
  {
   "cell_type": "code",
   "execution_count": 17,
   "metadata": {},
   "outputs": [
    {
     "data": {
      "text/plain": [
       "Index(['Temperature (K)', 'Luminosity(L/Lo)', 'Radius(R/Ro)',\n",
       "       'Absolute magnitude(Mv)', 'Star type', 'Star color'],\n",
       "      dtype='object')"
      ]
     },
     "metadata": {},
     "output_type": "display_data"
    }
   ],
   "source": [
    "display(df.columns)"
   ]
  },
  {
   "cell_type": "code",
   "execution_count": 18,
   "metadata": {},
   "outputs": [],
   "source": [
    "df.set_axis(['temperature', 'luminosity', 'radius', 'absolute_magnitude',\n",
    "       'star_type', 'star_color'],axis = 'columns',inplace = True)"
   ]
  },
  {
   "cell_type": "code",
   "execution_count": 19,
   "metadata": {},
   "outputs": [
    {
     "data": {
      "text/html": [
       "<div>\n",
       "<style scoped>\n",
       "    .dataframe tbody tr th:only-of-type {\n",
       "        vertical-align: middle;\n",
       "    }\n",
       "\n",
       "    .dataframe tbody tr th {\n",
       "        vertical-align: top;\n",
       "    }\n",
       "\n",
       "    .dataframe thead th {\n",
       "        text-align: right;\n",
       "    }\n",
       "</style>\n",
       "<table border=\"1\" class=\"dataframe\">\n",
       "  <thead>\n",
       "    <tr style=\"text-align: right;\">\n",
       "      <th></th>\n",
       "      <th>temperature</th>\n",
       "      <th>luminosity</th>\n",
       "      <th>radius</th>\n",
       "      <th>absolute_magnitude</th>\n",
       "      <th>star_type</th>\n",
       "      <th>star_color</th>\n",
       "    </tr>\n",
       "  </thead>\n",
       "  <tbody>\n",
       "    <tr>\n",
       "      <th>0</th>\n",
       "      <td>3068</td>\n",
       "      <td>0.002400</td>\n",
       "      <td>0.1700</td>\n",
       "      <td>16.12</td>\n",
       "      <td>0</td>\n",
       "      <td>Red</td>\n",
       "    </tr>\n",
       "    <tr>\n",
       "      <th>1</th>\n",
       "      <td>3042</td>\n",
       "      <td>0.000500</td>\n",
       "      <td>0.1542</td>\n",
       "      <td>16.60</td>\n",
       "      <td>0</td>\n",
       "      <td>Red</td>\n",
       "    </tr>\n",
       "    <tr>\n",
       "      <th>2</th>\n",
       "      <td>2600</td>\n",
       "      <td>0.000300</td>\n",
       "      <td>0.1020</td>\n",
       "      <td>18.70</td>\n",
       "      <td>0</td>\n",
       "      <td>Red</td>\n",
       "    </tr>\n",
       "    <tr>\n",
       "      <th>3</th>\n",
       "      <td>2800</td>\n",
       "      <td>0.000200</td>\n",
       "      <td>0.1600</td>\n",
       "      <td>16.65</td>\n",
       "      <td>0</td>\n",
       "      <td>Red</td>\n",
       "    </tr>\n",
       "    <tr>\n",
       "      <th>4</th>\n",
       "      <td>1939</td>\n",
       "      <td>0.000138</td>\n",
       "      <td>0.1030</td>\n",
       "      <td>20.06</td>\n",
       "      <td>0</td>\n",
       "      <td>Red</td>\n",
       "    </tr>\n",
       "  </tbody>\n",
       "</table>\n",
       "</div>"
      ],
      "text/plain": [
       "   temperature  luminosity  radius  absolute_magnitude  star_type star_color\n",
       "0         3068    0.002400  0.1700               16.12          0        Red\n",
       "1         3042    0.000500  0.1542               16.60          0        Red\n",
       "2         2600    0.000300  0.1020               18.70          0        Red\n",
       "3         2800    0.000200  0.1600               16.65          0        Red\n",
       "4         1939    0.000138  0.1030               20.06          0        Red"
      ]
     },
     "execution_count": 19,
     "metadata": {},
     "output_type": "execute_result"
    }
   ],
   "source": [
    "df.head()"
   ]
  },
  {
   "cell_type": "markdown",
   "metadata": {},
   "source": [
    "### Удаление не явных дубликатов"
   ]
  },
  {
   "cell_type": "markdown",
   "metadata": {},
   "source": [
    "Напишем функцию замены"
   ]
  },
  {
   "cell_type": "code",
   "execution_count": 20,
   "metadata": {},
   "outputs": [],
   "source": [
    "def replace(column, lists, word):\n",
    "    for i in lists:\n",
    "        df[column] = df[column].str.replace(i, word)"
   ]
  },
  {
   "cell_type": "code",
   "execution_count": 21,
   "metadata": {},
   "outputs": [],
   "source": [
    "replace('star_color', ['Blue White', 'Blue white', 'Blue-white', 'Blue white ', 'Blue-White '], 'Blue-White')"
   ]
  },
  {
   "cell_type": "code",
   "execution_count": 22,
   "metadata": {},
   "outputs": [],
   "source": [
    "replace('star_color', ['Yellowish White', 'Whitish', 'yellow-white', 'White-Yellow', 'yellowish'], 'Yellowish')"
   ]
  },
  {
   "cell_type": "code",
   "execution_count": 23,
   "metadata": {},
   "outputs": [],
   "source": [
    "replace('star_color', ['Blue '], 'Blue')"
   ]
  },
  {
   "cell_type": "code",
   "execution_count": 24,
   "metadata": {},
   "outputs": [],
   "source": [
    "replace('star_color', ['white'], 'White')"
   ]
  },
  {
   "cell_type": "code",
   "execution_count": 25,
   "metadata": {},
   "outputs": [],
   "source": [
    "replace('star_color', ['Pale yellow orange'], 'Pale-Yellow-Orange')"
   ]
  },
  {
   "cell_type": "code",
   "execution_count": 26,
   "metadata": {},
   "outputs": [
    {
     "data": {
      "text/plain": [
       "array(['Red', 'Blue-White', 'White', 'Yellowish', 'Pale-Yellow-Orange',\n",
       "       'Blue', 'Orange', 'Orange-Red'], dtype=object)"
      ]
     },
     "execution_count": 26,
     "metadata": {},
     "output_type": "execute_result"
    }
   ],
   "source": [
    "df['star_color'].unique()"
   ]
  },
  {
   "cell_type": "markdown",
   "metadata": {},
   "source": [
    "Теперь все в порядке, OHE даст нужные результаты"
   ]
  },
  {
   "cell_type": "code",
   "execution_count": 27,
   "metadata": {},
   "outputs": [
    {
     "data": {
      "text/html": [
       "<div>\n",
       "<style scoped>\n",
       "    .dataframe tbody tr th:only-of-type {\n",
       "        vertical-align: middle;\n",
       "    }\n",
       "\n",
       "    .dataframe tbody tr th {\n",
       "        vertical-align: top;\n",
       "    }\n",
       "\n",
       "    .dataframe thead th {\n",
       "        text-align: right;\n",
       "    }\n",
       "</style>\n",
       "<table border=\"1\" class=\"dataframe\">\n",
       "  <thead>\n",
       "    <tr style=\"text-align: right;\">\n",
       "      <th></th>\n",
       "      <th>temperature</th>\n",
       "      <th>luminosity</th>\n",
       "      <th>radius</th>\n",
       "      <th>absolute_magnitude</th>\n",
       "      <th>star_type</th>\n",
       "      <th>star_color</th>\n",
       "    </tr>\n",
       "  </thead>\n",
       "  <tbody>\n",
       "    <tr>\n",
       "      <th>0</th>\n",
       "      <td>3068</td>\n",
       "      <td>0.002400</td>\n",
       "      <td>0.1700</td>\n",
       "      <td>16.12</td>\n",
       "      <td>0</td>\n",
       "      <td>Red</td>\n",
       "    </tr>\n",
       "    <tr>\n",
       "      <th>1</th>\n",
       "      <td>3042</td>\n",
       "      <td>0.000500</td>\n",
       "      <td>0.1542</td>\n",
       "      <td>16.60</td>\n",
       "      <td>0</td>\n",
       "      <td>Red</td>\n",
       "    </tr>\n",
       "    <tr>\n",
       "      <th>2</th>\n",
       "      <td>2600</td>\n",
       "      <td>0.000300</td>\n",
       "      <td>0.1020</td>\n",
       "      <td>18.70</td>\n",
       "      <td>0</td>\n",
       "      <td>Red</td>\n",
       "    </tr>\n",
       "    <tr>\n",
       "      <th>3</th>\n",
       "      <td>2800</td>\n",
       "      <td>0.000200</td>\n",
       "      <td>0.1600</td>\n",
       "      <td>16.65</td>\n",
       "      <td>0</td>\n",
       "      <td>Red</td>\n",
       "    </tr>\n",
       "    <tr>\n",
       "      <th>4</th>\n",
       "      <td>1939</td>\n",
       "      <td>0.000138</td>\n",
       "      <td>0.1030</td>\n",
       "      <td>20.06</td>\n",
       "      <td>0</td>\n",
       "      <td>Red</td>\n",
       "    </tr>\n",
       "  </tbody>\n",
       "</table>\n",
       "</div>"
      ],
      "text/plain": [
       "   temperature  luminosity  radius  absolute_magnitude  star_type star_color\n",
       "0         3068    0.002400  0.1700               16.12          0        Red\n",
       "1         3042    0.000500  0.1542               16.60          0        Red\n",
       "2         2600    0.000300  0.1020               18.70          0        Red\n",
       "3         2800    0.000200  0.1600               16.65          0        Red\n",
       "4         1939    0.000138  0.1030               20.06          0        Red"
      ]
     },
     "execution_count": 27,
     "metadata": {},
     "output_type": "execute_result"
    }
   ],
   "source": [
    "df.head()"
   ]
  },
  {
   "cell_type": "markdown",
   "metadata": {},
   "source": [
    "Выводы: необходимая предобработка данных произведена, теперь можно приступать к разделению на выборки,преобразованию категориальных данных и массштабированию данных"
   ]
  },
  {
   "cell_type": "markdown",
   "metadata": {},
   "source": [
    "<div class=\"alert alert-success\">\n",
    "<b>Комментарий ревьюера ✔️:</b>Отлично, стало лучше</div>"
   ]
  },
  {
   "cell_type": "markdown",
   "metadata": {},
   "source": [
    "## Разделение на выбрки, OHE , массштабирование"
   ]
  },
  {
   "cell_type": "markdown",
   "metadata": {},
   "source": [
    "### Разделяем таблицу на признаки для обучения и на целевой признак\n"
   ]
  },
  {
   "cell_type": "code",
   "execution_count": 28,
   "metadata": {},
   "outputs": [],
   "source": [
    "features = df.drop('temperature', axis=1)\n",
    "target = df['temperature']"
   ]
  },
  {
   "cell_type": "markdown",
   "metadata": {},
   "source": [
    "### OHE для признаков"
   ]
  },
  {
   "cell_type": "code",
   "execution_count": 29,
   "metadata": {},
   "outputs": [
    {
     "data": {
      "text/html": [
       "<div>\n",
       "<style scoped>\n",
       "    .dataframe tbody tr th:only-of-type {\n",
       "        vertical-align: middle;\n",
       "    }\n",
       "\n",
       "    .dataframe tbody tr th {\n",
       "        vertical-align: top;\n",
       "    }\n",
       "\n",
       "    .dataframe thead th {\n",
       "        text-align: right;\n",
       "    }\n",
       "</style>\n",
       "<table border=\"1\" class=\"dataframe\">\n",
       "  <thead>\n",
       "    <tr style=\"text-align: right;\">\n",
       "      <th></th>\n",
       "      <th>luminosity</th>\n",
       "      <th>radius</th>\n",
       "      <th>absolute_magnitude</th>\n",
       "      <th>star_type</th>\n",
       "      <th>star_color_Blue-White</th>\n",
       "      <th>star_color_Orange</th>\n",
       "      <th>star_color_Orange-Red</th>\n",
       "      <th>star_color_Pale-Yellow-Orange</th>\n",
       "      <th>star_color_Red</th>\n",
       "      <th>star_color_White</th>\n",
       "      <th>star_color_Yellowish</th>\n",
       "    </tr>\n",
       "  </thead>\n",
       "  <tbody>\n",
       "    <tr>\n",
       "      <th>0</th>\n",
       "      <td>0.002400</td>\n",
       "      <td>0.1700</td>\n",
       "      <td>16.12</td>\n",
       "      <td>0</td>\n",
       "      <td>0</td>\n",
       "      <td>0</td>\n",
       "      <td>0</td>\n",
       "      <td>0</td>\n",
       "      <td>1</td>\n",
       "      <td>0</td>\n",
       "      <td>0</td>\n",
       "    </tr>\n",
       "    <tr>\n",
       "      <th>1</th>\n",
       "      <td>0.000500</td>\n",
       "      <td>0.1542</td>\n",
       "      <td>16.60</td>\n",
       "      <td>0</td>\n",
       "      <td>0</td>\n",
       "      <td>0</td>\n",
       "      <td>0</td>\n",
       "      <td>0</td>\n",
       "      <td>1</td>\n",
       "      <td>0</td>\n",
       "      <td>0</td>\n",
       "    </tr>\n",
       "    <tr>\n",
       "      <th>2</th>\n",
       "      <td>0.000300</td>\n",
       "      <td>0.1020</td>\n",
       "      <td>18.70</td>\n",
       "      <td>0</td>\n",
       "      <td>0</td>\n",
       "      <td>0</td>\n",
       "      <td>0</td>\n",
       "      <td>0</td>\n",
       "      <td>1</td>\n",
       "      <td>0</td>\n",
       "      <td>0</td>\n",
       "    </tr>\n",
       "    <tr>\n",
       "      <th>3</th>\n",
       "      <td>0.000200</td>\n",
       "      <td>0.1600</td>\n",
       "      <td>16.65</td>\n",
       "      <td>0</td>\n",
       "      <td>0</td>\n",
       "      <td>0</td>\n",
       "      <td>0</td>\n",
       "      <td>0</td>\n",
       "      <td>1</td>\n",
       "      <td>0</td>\n",
       "      <td>0</td>\n",
       "    </tr>\n",
       "    <tr>\n",
       "      <th>4</th>\n",
       "      <td>0.000138</td>\n",
       "      <td>0.1030</td>\n",
       "      <td>20.06</td>\n",
       "      <td>0</td>\n",
       "      <td>0</td>\n",
       "      <td>0</td>\n",
       "      <td>0</td>\n",
       "      <td>0</td>\n",
       "      <td>1</td>\n",
       "      <td>0</td>\n",
       "      <td>0</td>\n",
       "    </tr>\n",
       "  </tbody>\n",
       "</table>\n",
       "</div>"
      ],
      "text/plain": [
       "   luminosity  radius  absolute_magnitude  star_type  star_color_Blue-White  \\\n",
       "0    0.002400  0.1700               16.12          0                      0   \n",
       "1    0.000500  0.1542               16.60          0                      0   \n",
       "2    0.000300  0.1020               18.70          0                      0   \n",
       "3    0.000200  0.1600               16.65          0                      0   \n",
       "4    0.000138  0.1030               20.06          0                      0   \n",
       "\n",
       "   star_color_Orange  star_color_Orange-Red  star_color_Pale-Yellow-Orange  \\\n",
       "0                  0                      0                              0   \n",
       "1                  0                      0                              0   \n",
       "2                  0                      0                              0   \n",
       "3                  0                      0                              0   \n",
       "4                  0                      0                              0   \n",
       "\n",
       "   star_color_Red  star_color_White  star_color_Yellowish  \n",
       "0               1                 0                     0  \n",
       "1               1                 0                     0  \n",
       "2               1                 0                     0  \n",
       "3               1                 0                     0  \n",
       "4               1                 0                     0  "
      ]
     },
     "execution_count": 29,
     "metadata": {},
     "output_type": "execute_result"
    }
   ],
   "source": [
    "features_ohe = pd.get_dummies(features, columns=['star_color'], drop_first=True)\n",
    "features_ohe.head()"
   ]
  },
  {
   "cell_type": "markdown",
   "metadata": {},
   "source": [
    "<div class=\"alert alert-success\">\n",
    "<b>Комментарий ревьюера ✔️:</b>drop_first на месте:)</div>"
   ]
  },
  {
   "cell_type": "markdown",
   "metadata": {},
   "source": [
    "### Выделяем данные для обученияи тестовые данные"
   ]
  },
  {
   "cell_type": "code",
   "execution_count": 30,
   "metadata": {},
   "outputs": [],
   "source": [
    "x_train, x_test, y_train, y_test = train_test_split(features_ohe, target, test_size=0.2, shuffle=True, random_state=12345)"
   ]
  },
  {
   "cell_type": "code",
   "execution_count": 31,
   "metadata": {},
   "outputs": [
    {
     "data": {
      "text/plain": [
       "(192, 11)"
      ]
     },
     "execution_count": 31,
     "metadata": {},
     "output_type": "execute_result"
    }
   ],
   "source": [
    "x_train.shape"
   ]
  },
  {
   "cell_type": "code",
   "execution_count": 32,
   "metadata": {},
   "outputs": [
    {
     "data": {
      "text/plain": [
       "(48, 11)"
      ]
     },
     "execution_count": 32,
     "metadata": {},
     "output_type": "execute_result"
    }
   ],
   "source": [
    "x_test.shape"
   ]
  },
  {
   "cell_type": "code",
   "execution_count": 33,
   "metadata": {},
   "outputs": [
    {
     "data": {
      "text/plain": [
       "(48,)"
      ]
     },
     "execution_count": 33,
     "metadata": {},
     "output_type": "execute_result"
    }
   ],
   "source": [
    "y_test.shape"
   ]
  },
  {
   "cell_type": "markdown",
   "metadata": {},
   "source": [
    "### Масштабирование признаков "
   ]
  },
  {
   "cell_type": "markdown",
   "metadata": {},
   "source": [
    "Обучение скейлера на тренировочной выборке"
   ]
  },
  {
   "cell_type": "code",
   "execution_count": 34,
   "metadata": {},
   "outputs": [
    {
     "data": {
      "text/plain": [
       "StandardScaler()"
      ]
     },
     "execution_count": 34,
     "metadata": {},
     "output_type": "execute_result"
    }
   ],
   "source": [
    "numeric = ['luminosity', 'radius', 'absolute_magnitude']\n",
    "\n",
    "scaler = StandardScaler()\n",
    "\n",
    "scaler.fit(x_train[numeric])"
   ]
  },
  {
   "cell_type": "markdown",
   "metadata": {},
   "source": [
    "Масштабирование признаков"
   ]
  },
  {
   "cell_type": "code",
   "execution_count": 35,
   "metadata": {},
   "outputs": [],
   "source": [
    "x_train[numeric] = scaler.transform(x_train[numeric])\n",
    "x_test[numeric] = scaler.transform(x_test[numeric])"
   ]
  },
  {
   "cell_type": "markdown",
   "metadata": {},
   "source": [
    "<div class=\"alert alert-success\">\n",
    "<b>Комментарий ревьюера ✔️:</b>Отмасштабировал корректно;)</div>"
   ]
  },
  {
   "cell_type": "code",
   "execution_count": 36,
   "metadata": {},
   "outputs": [
    {
     "data": {
      "text/html": [
       "<div>\n",
       "<style scoped>\n",
       "    .dataframe tbody tr th:only-of-type {\n",
       "        vertical-align: middle;\n",
       "    }\n",
       "\n",
       "    .dataframe tbody tr th {\n",
       "        vertical-align: top;\n",
       "    }\n",
       "\n",
       "    .dataframe thead th {\n",
       "        text-align: right;\n",
       "    }\n",
       "</style>\n",
       "<table border=\"1\" class=\"dataframe\">\n",
       "  <thead>\n",
       "    <tr style=\"text-align: right;\">\n",
       "      <th></th>\n",
       "      <th>luminosity</th>\n",
       "      <th>radius</th>\n",
       "      <th>absolute_magnitude</th>\n",
       "      <th>star_type</th>\n",
       "      <th>star_color_Blue-White</th>\n",
       "      <th>star_color_Orange</th>\n",
       "      <th>star_color_Orange-Red</th>\n",
       "      <th>star_color_Pale-Yellow-Orange</th>\n",
       "      <th>star_color_Red</th>\n",
       "      <th>star_color_White</th>\n",
       "      <th>star_color_Yellowish</th>\n",
       "    </tr>\n",
       "  </thead>\n",
       "  <tbody>\n",
       "    <tr>\n",
       "      <th>139</th>\n",
       "      <td>-0.573535</td>\n",
       "      <td>-0.425464</td>\n",
       "      <td>0.869405</td>\n",
       "      <td>1</td>\n",
       "      <td>0</td>\n",
       "      <td>0</td>\n",
       "      <td>0</td>\n",
       "      <td>0</td>\n",
       "      <td>1</td>\n",
       "      <td>0</td>\n",
       "      <td>0</td>\n",
       "    </tr>\n",
       "    <tr>\n",
       "      <th>14</th>\n",
       "      <td>-0.573535</td>\n",
       "      <td>-0.425707</td>\n",
       "      <td>0.626075</td>\n",
       "      <td>1</td>\n",
       "      <td>0</td>\n",
       "      <td>0</td>\n",
       "      <td>0</td>\n",
       "      <td>0</td>\n",
       "      <td>1</td>\n",
       "      <td>0</td>\n",
       "      <td>0</td>\n",
       "    </tr>\n",
       "    <tr>\n",
       "      <th>67</th>\n",
       "      <td>-0.573535</td>\n",
       "      <td>-0.425810</td>\n",
       "      <td>1.071862</td>\n",
       "      <td>0</td>\n",
       "      <td>0</td>\n",
       "      <td>0</td>\n",
       "      <td>0</td>\n",
       "      <td>0</td>\n",
       "      <td>1</td>\n",
       "      <td>0</td>\n",
       "      <td>0</td>\n",
       "    </tr>\n",
       "    <tr>\n",
       "      <th>17</th>\n",
       "      <td>-0.573535</td>\n",
       "      <td>-0.425014</td>\n",
       "      <td>0.532295</td>\n",
       "      <td>1</td>\n",
       "      <td>0</td>\n",
       "      <td>0</td>\n",
       "      <td>0</td>\n",
       "      <td>0</td>\n",
       "      <td>1</td>\n",
       "      <td>0</td>\n",
       "      <td>0</td>\n",
       "    </tr>\n",
       "    <tr>\n",
       "      <th>148</th>\n",
       "      <td>-0.573535</td>\n",
       "      <td>-0.425983</td>\n",
       "      <td>0.915244</td>\n",
       "      <td>2</td>\n",
       "      <td>0</td>\n",
       "      <td>0</td>\n",
       "      <td>0</td>\n",
       "      <td>0</td>\n",
       "      <td>0</td>\n",
       "      <td>1</td>\n",
       "      <td>0</td>\n",
       "    </tr>\n",
       "  </tbody>\n",
       "</table>\n",
       "</div>"
      ],
      "text/plain": [
       "     luminosity    radius  absolute_magnitude  star_type  \\\n",
       "139   -0.573535 -0.425464            0.869405          1   \n",
       "14    -0.573535 -0.425707            0.626075          1   \n",
       "67    -0.573535 -0.425810            1.071862          0   \n",
       "17    -0.573535 -0.425014            0.532295          1   \n",
       "148   -0.573535 -0.425983            0.915244          2   \n",
       "\n",
       "     star_color_Blue-White  star_color_Orange  star_color_Orange-Red  \\\n",
       "139                      0                  0                      0   \n",
       "14                       0                  0                      0   \n",
       "67                       0                  0                      0   \n",
       "17                       0                  0                      0   \n",
       "148                      0                  0                      0   \n",
       "\n",
       "     star_color_Pale-Yellow-Orange  star_color_Red  star_color_White  \\\n",
       "139                              0               1                 0   \n",
       "14                               0               1                 0   \n",
       "67                               0               1                 0   \n",
       "17                               0               1                 0   \n",
       "148                              0               0                 1   \n",
       "\n",
       "     star_color_Yellowish  \n",
       "139                     0  \n",
       "14                      0  \n",
       "67                      0  \n",
       "17                      0  \n",
       "148                     0  "
      ]
     },
     "execution_count": 36,
     "metadata": {},
     "output_type": "execute_result"
    }
   ],
   "source": [
    "x_train.head()"
   ]
  },
  {
   "cell_type": "markdown",
   "metadata": {},
   "source": [
    "данные подготовлены для построения модели нейросети\n"
   ]
  },
  {
   "cell_type": "code",
   "execution_count": null,
   "metadata": {},
   "outputs": [],
   "source": []
  },
  {
   "cell_type": "markdown",
   "metadata": {},
   "source": [
    "##  Построение простой модели нейронной сети — baseline"
   ]
  },
  {
   "cell_type": "markdown",
   "metadata": {},
   "source": [
    "### Класс для задания архитектуры нейронной сети и параметры"
   ]
  },
  {
   "cell_type": "code",
   "execution_count": 37,
   "metadata": {},
   "outputs": [],
   "source": [
    "random.seed(0)\n",
    "np.random.seed(0)\n",
    "torch.manual_seed(0)\n",
    "torch.use_deterministic_algorithms(True)\n",
    "\n",
    "class Net(nn.Module):\n",
    "    def __init__(self, n_in_neurons, n_hidden_neurons_1, n_hidden_neurons_2, n_out_neurons):\n",
    "        super(Net, self).__init__()\n",
    "        self.fc1 = nn.Linear(n_in_neurons, n_hidden_neurons_1)\n",
    "        self.act1 = nn.Tanh()\n",
    "        self.fc2 = nn.Linear(n_hidden_neurons_1, n_hidden_neurons_2)\n",
    "        self.act2 = nn.ReLU()\n",
    "        self.fc3 = nn.Linear(n_hidden_neurons_2, n_out_neurons)        \n",
    "        self.act3 = nn.ReLU()\n",
    "        \n",
    "        # Инициализация весов\n",
    "        nn.init.uniform_(self.fc1.weight, a=-1, b=1)\n",
    "        nn.init.uniform_(self.fc1.bias, a=-1, b=3)\n",
    "        nn.init.uniform_(self.fc2.weight, b=3)\n",
    "        nn.init.uniform_(self.fc2.bias, a=-1)\n",
    "        nn.init.uniform_(self.fc3.weight, b=2)\n",
    "        nn.init.uniform_(self.fc3.bias, a=-1)\n",
    "\n",
    "    def forward(self, x):\n",
    "        x = self.fc1(x)\n",
    "        x = self.act1(x)\n",
    "        x = self.fc2(x)\n",
    "        x = self.act2(x)\n",
    "        x = self.fc3(x)\n",
    "        x = self.act3(x)\n",
    "        return x"
   ]
  },
  {
   "cell_type": "markdown",
   "metadata": {},
   "source": [
    "<div class=\"alert alert-success\">\n",
    "<b>Комментарий ревьюера ✔️:</b>За инициализацию весов лайк:) Вот тут еще можешь про них почитать:\n",
    "\n",
    "+  https://towardsdatascience.com/understand-kaiming-initialization-and-implementation-detail-in-pytorch-f7aa967e9138\n",
    "\n",
    "\n",
    "</div>"
   ]
  },
  {
   "cell_type": "markdown",
   "metadata": {},
   "source": [
    "Задаем количество нейронов"
   ]
  },
  {
   "cell_type": "code",
   "execution_count": 38,
   "metadata": {},
   "outputs": [],
   "source": [
    "net = Net(11, 20, 20, 1) "
   ]
  },
  {
   "cell_type": "markdown",
   "metadata": {},
   "source": [
    "Преобразование данных в тензоры"
   ]
  },
  {
   "cell_type": "code",
   "execution_count": 39,
   "metadata": {},
   "outputs": [],
   "source": [
    "x_train_tensor = torch.FloatTensor(x_train.values)\n",
    "x_test_tensor = torch.FloatTensor(x_test.values)\n",
    "y_train_tensor = torch.FloatTensor(y_train.values)\n",
    "y_test_tensor = torch.FloatTensor(y_test.values)"
   ]
  },
  {
   "cell_type": "markdown",
   "metadata": {},
   "source": [
    "Оптимизация"
   ]
  },
  {
   "cell_type": "code",
   "execution_count": 40,
   "metadata": {},
   "outputs": [],
   "source": [
    "optimizer = torch.optim.Adam(net.parameters(), lr=0.05)"
   ]
  },
  {
   "cell_type": "markdown",
   "metadata": {},
   "source": [
    "Функция потерь"
   ]
  },
  {
   "cell_type": "code",
   "execution_count": 41,
   "metadata": {},
   "outputs": [],
   "source": [
    "loss = nn.L1Loss()# инициализируйте функцию потерь"
   ]
  },
  {
   "cell_type": "markdown",
   "metadata": {},
   "source": [
    "### Прогон сети по эпохам обучения, нахождение предсказаний при минимуме RMSE"
   ]
  },
  {
   "cell_type": "code",
   "execution_count": 42,
   "metadata": {},
   "outputs": [
    {
     "name": "stdout",
     "output_type": "stream",
     "text": [
      "tensor(15782.7490, grad_fn=<PowBackward0>)\n",
      "tensor(11260.9287, grad_fn=<PowBackward0>)\n",
      "tensor(7626.9502, grad_fn=<PowBackward0>)\n",
      "tensor(6614.5737, grad_fn=<PowBackward0>)\n",
      "tensor(6249.2754, grad_fn=<PowBackward0>)\n",
      "tensor(5679.6460, grad_fn=<PowBackward0>)\n",
      "tensor(5324.5146, grad_fn=<PowBackward0>)\n",
      "tensor(5062.0742, grad_fn=<PowBackward0>)\n",
      "tensor(4847.1670, grad_fn=<PowBackward0>)\n",
      "tensor(4614.7148, grad_fn=<PowBackward0>)\n",
      "tensor(4756.6372, grad_fn=<PowBackward0>)\n",
      "tensor(4750.6528, grad_fn=<PowBackward0>)\n",
      "tensor(4756.6626, grad_fn=<PowBackward0>)\n",
      "tensor(4729.7251, grad_fn=<PowBackward0>)\n",
      "tensor(4689.1470, grad_fn=<PowBackward0>)\n",
      "tensor(4614.9141, grad_fn=<PowBackward0>)\n",
      "tensor(4588.8481, grad_fn=<PowBackward0>)\n",
      "tensor(4615.9731, grad_fn=<PowBackward0>)\n",
      "tensor(4570.1836, grad_fn=<PowBackward0>)\n",
      "tensor(4489.1895, grad_fn=<PowBackward0>)\n",
      "tensor(4560.2871, grad_fn=<PowBackward0>)\n",
      "tensor(4524.8530, grad_fn=<PowBackward0>)\n",
      "tensor(4485.8838, grad_fn=<PowBackward0>)\n",
      "tensor(4490.3564, grad_fn=<PowBackward0>)\n",
      "tensor(4454.8188, grad_fn=<PowBackward0>)\n",
      "tensor(4425.4961, grad_fn=<PowBackward0>)\n",
      "tensor(4484.8315, grad_fn=<PowBackward0>)\n",
      "tensor(4479.4526, grad_fn=<PowBackward0>)\n",
      "tensor(4460.7812, grad_fn=<PowBackward0>)\n",
      "tensor(4556.9141, grad_fn=<PowBackward0>)\n",
      "tensor(4551.7622, grad_fn=<PowBackward0>)\n",
      "tensor(4594.9707, grad_fn=<PowBackward0>)\n",
      "tensor(4594.7886, grad_fn=<PowBackward0>)\n",
      "tensor(4605.3755, grad_fn=<PowBackward0>)\n",
      "tensor(4637.5249, grad_fn=<PowBackward0>)\n",
      "tensor(4558.9751, grad_fn=<PowBackward0>)\n",
      "tensor(4702.5396, grad_fn=<PowBackward0>)\n",
      "tensor(4861.2065, grad_fn=<PowBackward0>)\n",
      "tensor(4860.5859, grad_fn=<PowBackward0>)\n",
      "tensor(4945.5586, grad_fn=<PowBackward0>)\n",
      "tensor(4963.8159, grad_fn=<PowBackward0>)\n",
      "\n",
      "Лучшее RMSE:  tensor(4425., grad_fn=<RoundBackward0>)\n",
      "\n",
      "Лучшее предсказание:  tensor([34522., 34352.,  9867.,  3634.,  9631.,  2779., 16722., 15503., 19585.,\n",
      "         2778., 20176.,  3672.,  3185., 10168.,  3315., 13755., 11552.,  3628.,\n",
      "        10109.,  2916., 27053., 19349., 24021.,  5642., 27006., 13738., 34210.,\n",
      "        21389., 19598.,  3244.,  3577., 18245.,  3863., 17383.,  3564.,  3085.,\n",
      "         3895.,  3629.,  3689.,  3310.,  3693., 34396.,  2940.,  2918.,  2926.,\n",
      "        18413.,  5789., 14160.], grad_fn=<RoundBackward0>)\n",
      "\n",
      "Тестовые данные:  tensor([32489., 39000.,  9320.,  3834.,  9030.,  3218., 22012., 11250., 19860.,\n",
      "         3574., 18340.,  3614.,  3150.,  8250.,  3100., 25000.,  8945.,  3459.,\n",
      "         9700.,  2945., 27739., 17120., 11096.,  4980., 30839., 11000., 29560.,\n",
      "        16787.,  5752.,  3462.,  3826., 19360.,  3607., 24630.,  3615.,  2700.,\n",
      "         3570.,  3450.,  3490.,  2799.,  3650., 37800.,  2889.,  2774.,  3323.,\n",
      "        33421.,  7700., 13023.])\n"
     ]
    }
   ],
   "source": [
    "num_epochs = 4000\n",
    "best_rmse = 10000\n",
    "test_preds_best = 0\n",
    "\n",
    "for epoch in range(num_epochs):\n",
    "    optimizer.zero_grad()\n",
    "\n",
    "    preds = net.forward(x_train_tensor).flatten()\n",
    "    \n",
    "    loss_value = loss(preds, y_train_tensor)\n",
    "    \n",
    "    loss_value.backward()\n",
    "\n",
    "    optimizer.step()\n",
    "    \n",
    "    if epoch % 100 == 0 or epoch == num_epochs - 1:\n",
    "        net.eval()\n",
    "        test_preds = net.forward(x_test_tensor).flatten()\n",
    "        \n",
    "        rmse = mse()**0.5\n",
    "        RMSE = rmse(test_preds, y_test_tensor)\n",
    "    \n",
    "        print(RMSE)\n",
    "        \n",
    "    if best_rmse > RMSE:\n",
    "        best_rmse = torch.round(RMSE)\n",
    "        test_preds_best = torch.round(test_preds)\n",
    "        \n",
    "print()        \n",
    "print('Лучшее RMSE: ', best_rmse)\n",
    "print()\n",
    "print('Лучшее предсказание: ', test_preds_best)\n",
    "print()\n",
    "print('Тестовые данные: ', y_test_tensor)"
   ]
  },
  {
   "cell_type": "code",
   "execution_count": 43,
   "metadata": {},
   "outputs": [
    {
     "name": "stderr",
     "output_type": "stream",
     "text": [
      "Loss: 1110.1293; RMSE: 5698.3516: 100%|███████████████████████████████████████████| 4000/4000 [00:22<00:00, 176.77it/s]"
     ]
    },
    {
     "name": "stdout",
     "output_type": "stream",
     "text": [
      "Лучшее RMSE:  10000\n",
      "\n",
      "Лучшее предсказание:  tensor([34522., 34352.,  9867.,  3634.,  9631.,  2779., 16722., 15503., 19585.,\n",
      "         2778., 20176.,  3672.,  3185., 10168.,  3315., 13755., 11552.,  3628.,\n",
      "        10109.,  2916., 27053., 19349., 24021.,  5642., 27006., 13738., 34210.,\n",
      "        21389., 19598.,  3244.,  3577., 18245.,  3863., 17383.,  3564.,  3085.,\n",
      "         3895.,  3629.,  3689.,  3310.,  3693., 34396.,  2940.,  2918.,  2926.,\n",
      "        18413.,  5789., 14160.], grad_fn=<RoundBackward0>)\n",
      "\n",
      "Тестовые данные:  tensor([32489., 39000.,  9320.,  3834.,  9030.,  3218., 22012., 11250., 19860.,\n",
      "         3574., 18340.,  3614.,  3150.,  8250.,  3100., 25000.,  8945.,  3459.,\n",
      "         9700.,  2945., 27739., 17120., 11096.,  4980., 30839., 11000., 29560.,\n",
      "        16787.,  5752.,  3462.,  3826., 19360.,  3607., 24630.,  3615.,  2700.,\n",
      "         3570.,  3450.,  3490.,  2799.,  3650., 37800.,  2889.,  2774.,  3323.,\n",
      "        33421.,  7700., 13023.])\n"
     ]
    },
    {
     "name": "stderr",
     "output_type": "stream",
     "text": [
      "\n"
     ]
    }
   ],
   "source": [
    "from tqdm import tqdm\n",
    "EPOCHS = 4000\n",
    "best_rmse10 = 10000\n",
    "\n",
    "with tqdm(total=len(range(EPOCHS))) as pbar:\n",
    "    for i in range(EPOCHS):\n",
    "            optimizer.zero_grad()\n",
    "            preds = net(x_train_tensor).flatten()\n",
    "            loss_value = loss(preds, y_train_tensor)\n",
    "            loss_value.backward()\n",
    "            optimizer.step()\n",
    "            if i % 250 == 0:\n",
    "                with torch.no_grad():\n",
    "                    net.eval()\n",
    "                    test_preds = net.forward(x_test_tensor).flatten()\n",
    "                    rmse = mse(squared=False)\n",
    "                    RMSE = rmse(test_preds, y_test_tensor)\n",
    "                    loss_test = loss(test_preds, y_test_tensor)\n",
    "                \n",
    "            if best_rmse > RMSE:\n",
    "                best_rmse = torch.round(RMSE)\n",
    "                test_preds_best = torch.round(test_preds)\n",
    "        \n",
    "            pbar.set_description('Loss: {:.4f}; RMSE: {:.4f}'.format(loss_value.item(), RMSE))    \n",
    "            pbar.update(1)\n",
    "            \n",
    "print('Лучшее RMSE: ', best_rmse10)\n",
    "print()\n",
    "print('Лучшее предсказание: ', test_preds_best)\n",
    "print()\n",
    "print('Тестовые данные: ', y_test_tensor)"
   ]
  },
  {
   "cell_type": "markdown",
   "metadata": {},
   "source": [
    "<div class=\"alert alert-success\">\n",
    "<b>Комментарий ревьюера ✔️:</b>Попробуй может так понравится следить за выполнением \n",
    "    \n",
    "+  Единственное смотри у mse есть параметр squared=False он сразу возвращает RMSE\n",
    "    \n",
    "    \n",
    "</div>"
   ]
  },
  {
   "cell_type": "markdown",
   "metadata": {},
   "source": [
    "<div class=\"alert alert-info\"> <b>Комментарий студента:</b> Я думал лучше добавить построение графика RMSE в реальном времени, но что то пока не нашел решение живого графика</div>"
   ]
  },
  {
   "cell_type": "markdown",
   "metadata": {},
   "source": [
    "Эксперименты с разными параметрами, архитектурой выдавали RMSE 4000 - 6000. Если проанализировать  предсказания и тестовую выборку, то наиболее выпадающие результаты на высоких температурах, что логично по причине малого количества данных для горячих звезд."
   ]
  },
  {
   "cell_type": "markdown",
   "metadata": {},
   "source": [
    "### Посмотрим на линейную регрессию CatBoostRegressor классического обучения"
   ]
  },
  {
   "cell_type": "code",
   "execution_count": 44,
   "metadata": {
    "scrolled": true
   },
   "outputs": [
    {
     "name": "stdout",
     "output_type": "stream",
     "text": [
      "RMSE CatBoostRegressor:  5604.81\n"
     ]
    }
   ],
   "source": [
    "model_cr = CatBoostRegressor(silent=True)\n",
    "model_cr.fit(x_train, y_train)\n",
    "predictions_valid_cr = model_cr.predict(x_test) # получим предсказания модели на валидационной выборке\n",
    "result_cr = round(msem(y_test, predictions_valid_cr)**0.5, 2)\n",
    "print('RMSE CatBoostRegressor: ', result_cr)# RMSE"
   ]
  },
  {
   "cell_type": "markdown",
   "metadata": {},
   "source": [
    "Точность классического обучения в итоге получается ниже, чем лучшие показатели нейросети."
   ]
  },
  {
   "cell_type": "markdown",
   "metadata": {},
   "source": [
    "### Сравнение Факт - Прогноз, график."
   ]
  },
  {
   "cell_type": "code",
   "execution_count": 45,
   "metadata": {},
   "outputs": [
    {
     "data": {
      "image/png": "[encoded data removed]",
      "text/plain": [
       "<Figure size 1152x576 with 1 Axes>"
      ]
     },
     "metadata": {
      "needs_background": "light"
     },
     "output_type": "display_data"
    }
   ],
   "source": [
    "index = np.arange(48)\n",
    "values1 = y_test_tensor.tolist()\n",
    "values2 = test_preds_best.tolist()\n",
    "values3 = predictions_valid_cr.round()\n",
    "plt.figure(figsize=(16, 8))\n",
    "plt.title('График сравнения фактической и предсказанной температуры звезд. '\n",
    "          'Нейронная сеть Torch и классическое обучение CatBoost')\n",
    "plt.bar(index, values1, alpha=0.6, label='ФАКТ', width=0.9)\n",
    "plt.bar(index, values2, alpha=0.7, label='ПРОГНОЗ Torch', width=0.6)\n",
    "plt.bar(index, values3, alpha=0.8, label='ПРОГНОЗ CatBoost', width=0.3)\n",
    "plt.legend()\n",
    "plt.xlabel('Номер звезды')\n",
    "plt.ylabel('Температура К')\n",
    "plt.show();\n"
   ]
  },
  {
   "cell_type": "markdown",
   "metadata": {},
   "source": [
    "Да хорошо видно, что прогноз по температурам близким к 3000-4000 К наиболее точен. При этом есть несколько звезд для которых как нейронная модель, так и классическое обучение дает очень не точные результаты - видимо параметры сильно выбиваются из общих данных, и/или таких выбивающихся очень мало для нормального обучения."
   ]
  },
  {
   "cell_type": "markdown",
   "metadata": {},
   "source": [
    "<div class=\"alert alert-success\">\n",
    "<b>Комментарий ревьюера ✔️:</b>Молодец, что построил график и сравнил с Catboost:)</div>"
   ]
  },
  {
   "cell_type": "markdown",
   "metadata": {},
   "source": [
    "## Улучшение нейронной сети разбиением на батчи и введением регуляризации"
   ]
  },
  {
   "cell_type": "markdown",
   "metadata": {},
   "source": [
    "<div class=\"alert alert-info\"> <b>Комментарий студента:</b> Нахождение размера батча на валидационной выборке и прогнозирование на тестовой выборке.\n",
    "\n",
    "Ниже изменения</div>"
   ]
  },
  {
   "cell_type": "markdown",
   "metadata": {},
   "source": [
    "Для этого разобьем x_train на тренировочную и валидационную выборки"
   ]
  },
  {
   "cell_type": "code",
   "execution_count": 46,
   "metadata": {},
   "outputs": [],
   "source": [
    "x_train_1, x_valid, y_train_1, y_valid = train_test_split(x_train, y_train, test_size=0.2, shuffle=True, random_state=12345)"
   ]
  },
  {
   "cell_type": "code",
   "execution_count": 47,
   "metadata": {},
   "outputs": [
    {
     "data": {
      "text/plain": [
       "(153, 11)"
      ]
     },
     "execution_count": 47,
     "metadata": {},
     "output_type": "execute_result"
    }
   ],
   "source": [
    "x_train_1.shape"
   ]
  },
  {
   "cell_type": "code",
   "execution_count": 48,
   "metadata": {},
   "outputs": [
    {
     "data": {
      "text/plain": [
       "(39, 11)"
      ]
     },
     "execution_count": 48,
     "metadata": {},
     "output_type": "execute_result"
    }
   ],
   "source": [
    "x_valid.shape"
   ]
  },
  {
   "cell_type": "markdown",
   "metadata": {},
   "source": [
    "Делаем тензоры"
   ]
  },
  {
   "cell_type": "code",
   "execution_count": 49,
   "metadata": {},
   "outputs": [],
   "source": [
    "x_train_1_tensor = torch.FloatTensor(x_train_1.values)\n",
    "x_valid_tensor = torch.FloatTensor(x_valid.values)\n",
    "y_train_1_tensor = torch.FloatTensor(y_train_1.values)\n",
    "y_valid_tensor = torch.FloatTensor(y_valid.values)"
   ]
  },
  {
   "cell_type": "code",
   "execution_count": null,
   "metadata": {},
   "outputs": [],
   "source": []
  },
  {
   "cell_type": "markdown",
   "metadata": {},
   "source": [
    "### Добавление разбиения на батчи\n"
   ]
  },
  {
   "cell_type": "markdown",
   "metadata": {},
   "source": [
    "#### Находим оптимальный размер батча на валидационной выборке"
   ]
  },
  {
   "cell_type": "code",
   "execution_count": 50,
   "metadata": {},
   "outputs": [
    {
     "name": "stdout",
     "output_type": "stream",
     "text": [
      "tensor(14301.2998, grad_fn=<PowBackward0>)\n",
      "tensor(5668.2412, grad_fn=<PowBackward0>)\n",
      "tensor(5545.4575, grad_fn=<PowBackward0>)\n",
      "tensor(5711.0430, grad_fn=<PowBackward0>)\n",
      "tensor(5575.4648, grad_fn=<PowBackward0>)\n",
      "tensor(5505.8350, grad_fn=<PowBackward0>)\n",
      "tensor(5508.0542, grad_fn=<PowBackward0>)\n",
      "tensor(5738.8774, grad_fn=<PowBackward0>)\n",
      "tensor(5504.9702, grad_fn=<PowBackward0>)\n",
      "tensor(5710.3447, grad_fn=<PowBackward0>)\n",
      "tensor(6053.8198, grad_fn=<PowBackward0>)\n",
      "tensor(5672.4829, grad_fn=<PowBackward0>)\n",
      "tensor(5826.8745, grad_fn=<PowBackward0>)\n",
      "tensor(5787.8325, grad_fn=<PowBackward0>)\n",
      "tensor(5113.8940, grad_fn=<PowBackward0>)\n",
      "tensor(5005.9272, grad_fn=<PowBackward0>)\n",
      "tensor(5014.7036, grad_fn=<PowBackward0>)\n",
      "tensor(4728.3208, grad_fn=<PowBackward0>)\n",
      "tensor(4822.3833, grad_fn=<PowBackward0>)\n",
      "tensor(4631.2603, grad_fn=<PowBackward0>)\n",
      "tensor(4978.8169, grad_fn=<PowBackward0>)\n",
      "tensor(4898.5376, grad_fn=<PowBackward0>)\n",
      "tensor(4441.6909, grad_fn=<PowBackward0>)\n",
      "tensor(4468.1860, grad_fn=<PowBackward0>)\n",
      "tensor(4841.7480, grad_fn=<PowBackward0>)\n",
      "tensor(4658.0674, grad_fn=<PowBackward0>)\n",
      "tensor(4648.1040, grad_fn=<PowBackward0>)\n",
      "tensor(4639.2202, grad_fn=<PowBackward0>)\n",
      "tensor(4916.2617, grad_fn=<PowBackward0>)\n",
      "tensor(4898.2764, grad_fn=<PowBackward0>)\n",
      "tensor(4853.1211, grad_fn=<PowBackward0>)\n",
      "tensor(4854.7231, grad_fn=<PowBackward0>)\n",
      "tensor(4922.4614, grad_fn=<PowBackward0>)\n",
      "tensor(4879.7642, grad_fn=<PowBackward0>)\n",
      "tensor(5430.8643, grad_fn=<PowBackward0>)\n",
      "tensor(4849.8843, grad_fn=<PowBackward0>)\n",
      "tensor(4993.3574, grad_fn=<PowBackward0>)\n",
      "tensor(4537.9751, grad_fn=<PowBackward0>)\n",
      "tensor(5281.2549, grad_fn=<PowBackward0>)\n",
      "tensor(4631.3555, grad_fn=<PowBackward0>)\n",
      "tensor(5103.8872, grad_fn=<PowBackward0>)\n",
      "tensor(4817.7061, grad_fn=<PowBackward0>)\n",
      "tensor(4879.2266, grad_fn=<PowBackward0>)\n",
      "tensor(5454.2905, grad_fn=<PowBackward0>)\n",
      "tensor(4807.3774, grad_fn=<PowBackward0>)\n",
      "tensor(4504.5474, grad_fn=<PowBackward0>)\n",
      "tensor(4795.0220, grad_fn=<PowBackward0>)\n",
      "tensor(4478.5156, grad_fn=<PowBackward0>)\n",
      "tensor(5618.6528, grad_fn=<PowBackward0>)\n",
      "tensor(5136.1089, grad_fn=<PowBackward0>)\n",
      "tensor(5693.4995, grad_fn=<PowBackward0>)\n",
      "tensor(5164.6196, grad_fn=<PowBackward0>)\n",
      "tensor(5466.0049, grad_fn=<PowBackward0>)\n",
      "tensor(5725.5986, grad_fn=<PowBackward0>)\n",
      "tensor(5253.3184, grad_fn=<PowBackward0>)\n",
      "tensor(5394.7285, grad_fn=<PowBackward0>)\n",
      "tensor(5312.7681, grad_fn=<PowBackward0>)\n",
      "tensor(5656.4019, grad_fn=<PowBackward0>)\n",
      "tensor(5418.2358, grad_fn=<PowBackward0>)\n",
      "tensor(5132.4951, grad_fn=<PowBackward0>)\n",
      "tensor(5659.9771, grad_fn=<PowBackward0>)\n",
      "tensor(5113.0342, grad_fn=<PowBackward0>)\n",
      "tensor(5486.7764, grad_fn=<PowBackward0>)\n",
      "tensor(5472.7471, grad_fn=<PowBackward0>)\n",
      "tensor(5642.0176, grad_fn=<PowBackward0>)\n",
      "tensor(5742.2534, grad_fn=<PowBackward0>)\n",
      "tensor(5988.3428, grad_fn=<PowBackward0>)\n",
      "tensor(6043.2671, grad_fn=<PowBackward0>)\n",
      "tensor(5921.7319, grad_fn=<PowBackward0>)\n",
      "tensor(6073.2578, grad_fn=<PowBackward0>)\n",
      "tensor(6197.6699, grad_fn=<PowBackward0>)\n",
      "tensor(5961.2329, grad_fn=<PowBackward0>)\n",
      "tensor(6191.1084, grad_fn=<PowBackward0>)\n",
      "tensor(5976.7686, grad_fn=<PowBackward0>)\n",
      "tensor(5826.5229, grad_fn=<PowBackward0>)\n",
      "tensor(5889.8438, grad_fn=<PowBackward0>)\n",
      "tensor(6213.7529, grad_fn=<PowBackward0>)\n",
      "tensor(5978.8218, grad_fn=<PowBackward0>)\n",
      "tensor(6131.5269, grad_fn=<PowBackward0>)\n",
      "tensor(6092.8989, grad_fn=<PowBackward0>)\n",
      "tensor(6067.1709, grad_fn=<PowBackward0>)\n",
      "tensor(6001.3599, grad_fn=<PowBackward0>)\n",
      "tensor(6055.3345, grad_fn=<PowBackward0>)\n",
      "tensor(6056.5488, grad_fn=<PowBackward0>)\n",
      "tensor(6037.4287, grad_fn=<PowBackward0>)\n",
      "tensor(6095.9214, grad_fn=<PowBackward0>)\n",
      "tensor(6186.2896, grad_fn=<PowBackward0>)\n",
      "tensor(6234.1113, grad_fn=<PowBackward0>)\n",
      "tensor(6294.5669, grad_fn=<PowBackward0>)\n",
      "tensor(5898.2290, grad_fn=<PowBackward0>)\n",
      "tensor(5657.4736, grad_fn=<PowBackward0>)\n",
      "tensor(5701.9224, grad_fn=<PowBackward0>)\n",
      "tensor(5518.6934, grad_fn=<PowBackward0>)\n",
      "tensor(5742.8398, grad_fn=<PowBackward0>)\n",
      "tensor(5800.6558, grad_fn=<PowBackward0>)\n",
      "tensor(5536.3159, grad_fn=<PowBackward0>)\n",
      "tensor(5623.2285, grad_fn=<PowBackward0>)\n",
      "tensor(5487.2227, grad_fn=<PowBackward0>)\n",
      "tensor(5474.1572, grad_fn=<PowBackward0>)\n",
      "tensor(5544.3770, grad_fn=<PowBackward0>)\n",
      "tensor(5432.5845, grad_fn=<PowBackward0>)\n",
      "tensor(5472.7925, grad_fn=<PowBackward0>)\n",
      "tensor(5448.6479, grad_fn=<PowBackward0>)\n",
      "tensor(5358.0474, grad_fn=<PowBackward0>)\n",
      "tensor(5450.3032, grad_fn=<PowBackward0>)\n",
      "tensor(5493.0474, grad_fn=<PowBackward0>)\n",
      "tensor(5389.0537, grad_fn=<PowBackward0>)\n",
      "tensor(5527.9976, grad_fn=<PowBackward0>)\n",
      "tensor(5429.1396, grad_fn=<PowBackward0>)\n",
      "tensor(5478.9204, grad_fn=<PowBackward0>)\n",
      "tensor(5427.2471, grad_fn=<PowBackward0>)\n",
      "tensor(5356.8071, grad_fn=<PowBackward0>)\n",
      "tensor(5590.3208, grad_fn=<PowBackward0>)\n",
      "tensor(5576.6982, grad_fn=<PowBackward0>)\n",
      "tensor(5539.4155, grad_fn=<PowBackward0>)\n",
      "tensor(5625.2412, grad_fn=<PowBackward0>)\n",
      "tensor(5566.1577, grad_fn=<PowBackward0>)\n",
      "tensor(5527.7578, grad_fn=<PowBackward0>)\n",
      "tensor(5524.2720, grad_fn=<PowBackward0>)\n",
      "tensor(5558.7197, grad_fn=<PowBackward0>)\n",
      "tensor(5922.6665, grad_fn=<PowBackward0>)\n",
      "tensor(5858.1831, grad_fn=<PowBackward0>)\n",
      "tensor(5800.1714, grad_fn=<PowBackward0>)\n",
      "tensor(5734.5210, grad_fn=<PowBackward0>)\n",
      "tensor(5692.1353, grad_fn=<PowBackward0>)\n",
      "tensor(6161.5273, grad_fn=<PowBackward0>)\n",
      "tensor(5997.1938, grad_fn=<PowBackward0>)\n",
      "tensor(6136.4917, grad_fn=<PowBackward0>)\n",
      "tensor(5088.0703, grad_fn=<PowBackward0>)\n",
      "tensor(5721.0342, grad_fn=<PowBackward0>)\n",
      "tensor(5098.5234, grad_fn=<PowBackward0>)\n",
      "tensor(6745.7212, grad_fn=<PowBackward0>)\n",
      "tensor(4648.4824, grad_fn=<PowBackward0>)\n",
      "tensor(4668.3008, grad_fn=<PowBackward0>)\n",
      "tensor(4671.5190, grad_fn=<PowBackward0>)\n",
      "tensor(5251.9814, grad_fn=<PowBackward0>)\n",
      "tensor(5194.3032, grad_fn=<PowBackward0>)\n",
      "tensor(5129.7920, grad_fn=<PowBackward0>)\n",
      "tensor(5533.0117, grad_fn=<PowBackward0>)\n",
      "tensor(4798.1221, grad_fn=<PowBackward0>)\n",
      "tensor(4712.2603, grad_fn=<PowBackward0>)\n",
      "tensor(4638.9463, grad_fn=<PowBackward0>)\n",
      "tensor(4733.6143, grad_fn=<PowBackward0>)\n",
      "tensor(4616.0898, grad_fn=<PowBackward0>)\n",
      "tensor(5266.7720, grad_fn=<PowBackward0>)\n",
      "tensor(4758.3296, grad_fn=<PowBackward0>)\n",
      "tensor(4707.6943, grad_fn=<PowBackward0>)\n",
      "tensor(4705.1860, grad_fn=<PowBackward0>)\n",
      "tensor(4882.0610, grad_fn=<PowBackward0>)\n",
      "tensor(5479.7324, grad_fn=<PowBackward0>)\n",
      "tensor(4796.4600, grad_fn=<PowBackward0>)\n",
      "tensor(4977.4307, grad_fn=<PowBackward0>)\n",
      "tensor(5077.3867, grad_fn=<PowBackward0>)\n",
      "tensor(5010.2803, grad_fn=<PowBackward0>)\n",
      "tensor(5618.6846, grad_fn=<PowBackward0>)\n",
      "tensor(5409.3926, grad_fn=<PowBackward0>)\n",
      "tensor(4256.1479, grad_fn=<PowBackward0>)\n",
      "tensor(4387.7261, grad_fn=<PowBackward0>)\n",
      "tensor(4054.1350, grad_fn=<PowBackward0>)\n",
      "tensor(4395.4360, grad_fn=<PowBackward0>)\n",
      "tensor(3896.7007, grad_fn=<PowBackward0>)\n",
      "tensor(4204.9810, grad_fn=<PowBackward0>)\n",
      "tensor(4089.9248, grad_fn=<PowBackward0>)\n",
      "tensor(4569.3467, grad_fn=<PowBackward0>)\n",
      "tensor(4423.3940, grad_fn=<PowBackward0>)\n",
      "tensor(4266.3325, grad_fn=<PowBackward0>)\n",
      "tensor(3731.0815, grad_fn=<PowBackward0>)\n",
      "tensor(4784.6450, grad_fn=<PowBackward0>)\n",
      "tensor(4791.8252, grad_fn=<PowBackward0>)\n",
      "tensor(4615.3652, grad_fn=<PowBackward0>)\n",
      "tensor(4601.7710, grad_fn=<PowBackward0>)\n",
      "tensor(4594.2769, grad_fn=<PowBackward0>)\n",
      "tensor(4576.9087, grad_fn=<PowBackward0>)\n",
      "tensor(4587.3184, grad_fn=<PowBackward0>)\n",
      "tensor(4594.8989, grad_fn=<PowBackward0>)\n",
      "tensor(4603.8984, grad_fn=<PowBackward0>)\n",
      "tensor(4627.0264, grad_fn=<PowBackward0>)\n",
      "tensor(4636.7236, grad_fn=<PowBackward0>)\n",
      "tensor(4658.1509, grad_fn=<PowBackward0>)\n",
      "tensor(4690.3965, grad_fn=<PowBackward0>)\n",
      "tensor(4711.6274, grad_fn=<PowBackward0>)\n",
      "tensor(4623.3052, grad_fn=<PowBackward0>)\n",
      "tensor(4648.1484, grad_fn=<PowBackward0>)\n",
      "tensor(4644.4302, grad_fn=<PowBackward0>)\n",
      "tensor(4664.7002, grad_fn=<PowBackward0>)\n",
      "tensor(4687.5059, grad_fn=<PowBackward0>)\n",
      "tensor(4695.2983, grad_fn=<PowBackward0>)\n",
      "tensor(4695.2891, grad_fn=<PowBackward0>)\n",
      "tensor(4701.0991, grad_fn=<PowBackward0>)\n",
      "tensor(4702.1992, grad_fn=<PowBackward0>)\n",
      "tensor(4674.4619, grad_fn=<PowBackward0>)\n",
      "tensor(4662.8369, grad_fn=<PowBackward0>)\n",
      "tensor(4660.2710, grad_fn=<PowBackward0>)\n",
      "tensor(4633.3906, grad_fn=<PowBackward0>)\n",
      "tensor(4609.5708, grad_fn=<PowBackward0>)\n"
     ]
    },
    {
     "name": "stdout",
     "output_type": "stream",
     "text": [
      "tensor(4614.3643, grad_fn=<PowBackward0>)\n",
      "tensor(4588.9873, grad_fn=<PowBackward0>)\n",
      "tensor(4590.4243, grad_fn=<PowBackward0>)\n",
      "tensor(4567.2051, grad_fn=<PowBackward0>)\n",
      "tensor(4579.2871, grad_fn=<PowBackward0>)\n",
      "tensor(4551.2944, grad_fn=<PowBackward0>)\n",
      "tensor(4557.2520, grad_fn=<PowBackward0>)\n",
      "tensor(4530.1001, grad_fn=<PowBackward0>)\n",
      "tensor(4543.5693, grad_fn=<PowBackward0>)\n",
      "tensor(4518.2241, grad_fn=<PowBackward0>)\n",
      "tensor(4509.8188, grad_fn=<PowBackward0>)\n",
      "tensor(4505.4995, grad_fn=<PowBackward0>)\n",
      "tensor(4522.4746, grad_fn=<PowBackward0>)\n",
      "tensor(4694.8467, grad_fn=<PowBackward0>)\n",
      "tensor(4691.2988, grad_fn=<PowBackward0>)\n"
     ]
    }
   ],
   "source": [
    "random.seed(0)\n",
    "np.random.seed(0)\n",
    "torch.manual_seed(0)\n",
    "torch.use_deterministic_algorithms(True)\n",
    "\n",
    "class Net(nn.Module):\n",
    "    def __init__(self, n_in_neurons, n_hidden_neurons_1, n_hidden_neurons_2, n_out_neurons):\n",
    "        super(Net, self).__init__()\n",
    "        self.fc1 = nn.Linear(n_in_neurons, n_hidden_neurons_1)\n",
    "        self.act1 = nn.Tanh()\n",
    "        self.fc2 = nn.Linear(n_hidden_neurons_1, n_hidden_neurons_2)\n",
    "        self.act2 = nn.ReLU()\n",
    "        self.fc3 = nn.Linear(n_hidden_neurons_2, n_out_neurons)        \n",
    "        self.act3 = nn.ReLU()\n",
    "        \n",
    "        # Инициализация весов\n",
    "        nn.init.uniform_(self.fc1.weight, a=-1, b=1)\n",
    "        nn.init.uniform_(self.fc1.bias, a=-1, b=3)\n",
    "        nn.init.uniform_(self.fc2.weight, b=3)\n",
    "        nn.init.uniform_(self.fc2.bias, a=-1)\n",
    "        nn.init.uniform_(self.fc3.weight, b=2)\n",
    "        nn.init.uniform_(self.fc3.bias, a=-1)\n",
    "\n",
    "    def forward(self, x):\n",
    "        x = self.fc1(x)\n",
    "        x = self.act1(x)\n",
    "        x = self.fc2(x)\n",
    "        x = self.act2(x)\n",
    "        x = self.fc3(x)\n",
    "        x = self.act3(x)\n",
    "        return x\n",
    "    \n",
    "    \n",
    "net = Net(11, 20, 20, 1) \n",
    "optimizer = torch.optim.Adam(net.parameters(), lr=0.05)\n",
    "loss = nn.L1Loss()# инициализируйте функцию потерь\n",
    "\n",
    "num_epochs = 2000\n",
    "best_rmse1 = 10000\n",
    "valid_preds_best1 = 0\n",
    "best_batch = 0\n",
    "\n",
    "for batch_size in range(10, 200, 20):\n",
    "\n",
    "    num_batches = ceil(len(x_train_1_tensor)/batch_size)\n",
    "\n",
    "    for epoch in range(num_epochs):\n",
    "        order = np.random.permutation(len(x_train_1_tensor))# создайте случайную перестановку индексов объектов\n",
    "        for batch_idx in range(num_batches):\n",
    "            start_index = batch_idx * batch_size# посчитайте номер стартового объекта батча\n",
    "            optimizer.zero_grad()\n",
    "  \n",
    "            batch_indexes = order[start_index:start_index+batch_size]# извлеките индексы объектов текущего обатча\n",
    "            X_batch = x_train_1_tensor[batch_indexes]\n",
    "            y_batch = y_train_1_tensor[batch_indexes]\n",
    "  \n",
    "            preds = net.forward(X_batch).flatten()\n",
    "             \n",
    "            loss_value = loss(preds, y_batch)\n",
    "\n",
    "            loss_value.backward()\n",
    "            \n",
    "            optimizer.step()    \n",
    "    \n",
    "   \n",
    "        if epoch % 100 == 0 or epoch == num_epochs - 1:\n",
    "            net.eval()\n",
    "            valid_preds = net.forward(x_valid_tensor).flatten()\n",
    "        \n",
    "            rmse = mse()**0.5\n",
    "            RMSE = rmse(valid_preds, y_valid_tensor)\n",
    "    \n",
    "            print(RMSE)\n",
    "        \n",
    "        if best_rmse1 > RMSE:\n",
    "            best_rmse1 = torch.round(RMSE)\n",
    "            valid_preds_best1 = torch.round(valid_preds)\n",
    "            best_batch = batch_size\n",
    "        "
   ]
  },
  {
   "cell_type": "markdown",
   "metadata": {},
   "source": [
    "<div class=\"alert alert-danger\">\n",
    "<b>Комментарий ревьюера ❌:</b> Основная проблема в том, что ты по сути подбираешь параметр на тесте, то есть смотришь, что лучше взять, чтобы тест показал вот такой результат:( А это не честно, тут нужна валидационная выборка\n",
    "\n",
    "А в самом конце лучше обучить train+valid(так как мало данных) и проверить на тесте \n",
    "\n",
    "</div>"
   ]
  },
  {
   "cell_type": "markdown",
   "metadata": {},
   "source": [
    "<div class=\"alert alert-info\"> <b>Комментарий студента:</b> Но может быть что размер батча на урезанной тренировочной выборке находим наилучший, не факт что на полной тренировочной он будет лучший, кстати проверим это.</div>"
   ]
  },
  {
   "cell_type": "markdown",
   "metadata": {},
   "source": [
    "Данные на валидацонной выборке"
   ]
  },
  {
   "cell_type": "code",
   "execution_count": 51,
   "metadata": {},
   "outputs": [
    {
     "name": "stdout",
     "output_type": "stream",
     "text": [
      "\n",
      "Лучшее RMSE:  tensor(3731., grad_fn=<RoundBackward0>)\n",
      "\n",
      "Лучшее предсказание:  tensor([12054.,  8010.,  3345., 25945.,  8734.,  3345., 11944., 27904.,  3317.,\n",
      "         3782., 20618., 25537., 27427., 23050., 25443.,  3345.,  3663.,  3348.,\n",
      "         2841.,  3346., 25526.,  2846., 12054., 15742., 23889., 12053.,  3368.,\n",
      "        11786.,  2842.,  2835., 23837.,  2843.,  2955.,  2821.,  2822., 11376.,\n",
      "        12392., 23241.,  3291.], grad_fn=<RoundBackward0>)\n",
      "\n",
      "Тестовые данные:  tensor([14520.,  9675.,  3129., 18000., 13420.,  3304., 12990., 24490.,  2983.,\n",
      "         4526., 16390., 38234., 23092., 25070., 26373.,  3091.,  3575.,  3441.,\n",
      "         2650.,  3243., 19923.,  3432., 11900., 23440., 23678., 17200.,  3257.,\n",
      "        12749.,  3419.,  2840., 30000.,  2600.,  2861.,  3531.,  3511.,  5112.,\n",
      "        14732., 28700.,  2831.])\n",
      "\n",
      "Лучший размер Батча:  150\n"
     ]
    }
   ],
   "source": [
    "print()        \n",
    "print('Лучшее RMSE: ', best_rmse1)\n",
    "print()\n",
    "print('Лучшее предсказание: ', valid_preds_best1)\n",
    "print()\n",
    "print('Тестовые данные: ', y_valid_tensor)   \n",
    "print()\n",
    "print('Лучший размер Батча: ', best_batch) "
   ]
  },
  {
   "cell_type": "markdown",
   "metadata": {},
   "source": [
    "под конкретный набор данных выпал низкий RMSE, посмотрим что нам даст на тестовой выборке"
   ]
  },
  {
   "cell_type": "markdown",
   "metadata": {},
   "source": [
    "#### Обучаем нейросеть на полной тренировочной выборке с размеров батча 150"
   ]
  },
  {
   "cell_type": "code",
   "execution_count": 52,
   "metadata": {},
   "outputs": [
    {
     "name": "stdout",
     "output_type": "stream",
     "text": [
      "tensor(15718.6426, grad_fn=<PowBackward0>)\n",
      "tensor(13068.1006, grad_fn=<PowBackward0>)\n",
      "tensor(12315.7324, grad_fn=<PowBackward0>)\n",
      "tensor(10274.7998, grad_fn=<PowBackward0>)\n",
      "tensor(9180.2500, grad_fn=<PowBackward0>)\n",
      "tensor(8619.9453, grad_fn=<PowBackward0>)\n",
      "tensor(8086.0986, grad_fn=<PowBackward0>)\n",
      "tensor(7893.1460, grad_fn=<PowBackward0>)\n",
      "tensor(7824.3628, grad_fn=<PowBackward0>)\n",
      "tensor(7695.1484, grad_fn=<PowBackward0>)\n",
      "tensor(7658.6006, grad_fn=<PowBackward0>)\n",
      "tensor(7747.1675, grad_fn=<PowBackward0>)\n",
      "tensor(7599.4897, grad_fn=<PowBackward0>)\n",
      "tensor(7520.0718, grad_fn=<PowBackward0>)\n",
      "tensor(7161.7451, grad_fn=<PowBackward0>)\n",
      "tensor(6852.4243, grad_fn=<PowBackward0>)\n",
      "tensor(6598.4712, grad_fn=<PowBackward0>)\n",
      "tensor(6593.3618, grad_fn=<PowBackward0>)\n",
      "tensor(6433.6323, grad_fn=<PowBackward0>)\n",
      "tensor(6449.6587, grad_fn=<PowBackward0>)\n",
      "tensor(6425.8618, grad_fn=<PowBackward0>)\n",
      "tensor(6173.5991, grad_fn=<PowBackward0>)\n",
      "tensor(6118.8540, grad_fn=<PowBackward0>)\n",
      "tensor(5908.8872, grad_fn=<PowBackward0>)\n",
      "tensor(5754.3789, grad_fn=<PowBackward0>)\n",
      "tensor(5707.9580, grad_fn=<PowBackward0>)\n",
      "tensor(5606.4341, grad_fn=<PowBackward0>)\n",
      "tensor(5437.6021, grad_fn=<PowBackward0>)\n",
      "tensor(5288.5469, grad_fn=<PowBackward0>)\n",
      "tensor(5211.8794, grad_fn=<PowBackward0>)\n",
      "tensor(5005.8398, grad_fn=<PowBackward0>)\n",
      "tensor(5071.4409, grad_fn=<PowBackward0>)\n",
      "tensor(5023.3564, grad_fn=<PowBackward0>)\n",
      "tensor(4982.2856, grad_fn=<PowBackward0>)\n",
      "tensor(4938.4565, grad_fn=<PowBackward0>)\n",
      "tensor(4889.0850, grad_fn=<PowBackward0>)\n",
      "tensor(4814.9434, grad_fn=<PowBackward0>)\n",
      "tensor(4838.2075, grad_fn=<PowBackward0>)\n",
      "tensor(4675.1709, grad_fn=<PowBackward0>)\n",
      "tensor(4763.5757, grad_fn=<PowBackward0>)\n",
      "tensor(4769.7866, grad_fn=<PowBackward0>)\n",
      "tensor(4709.4097, grad_fn=<PowBackward0>)\n",
      "tensor(4690.5195, grad_fn=<PowBackward0>)\n",
      "tensor(4741.6709, grad_fn=<PowBackward0>)\n",
      "tensor(4633.6758, grad_fn=<PowBackward0>)\n",
      "tensor(4799.2227, grad_fn=<PowBackward0>)\n",
      "tensor(4776.9800, grad_fn=<PowBackward0>)\n",
      "tensor(4845.4102, grad_fn=<PowBackward0>)\n",
      "tensor(4825.5078, grad_fn=<PowBackward0>)\n",
      "tensor(4810.7871, grad_fn=<PowBackward0>)\n",
      "tensor(4806.7324, grad_fn=<PowBackward0>)\n",
      "tensor(4915.1743, grad_fn=<PowBackward0>)\n",
      "tensor(4863.8950, grad_fn=<PowBackward0>)\n",
      "tensor(4850.1660, grad_fn=<PowBackward0>)\n",
      "tensor(4823.1465, grad_fn=<PowBackward0>)\n",
      "tensor(4858.3882, grad_fn=<PowBackward0>)\n",
      "tensor(4981.2305, grad_fn=<PowBackward0>)\n",
      "tensor(4906.3335, grad_fn=<PowBackward0>)\n",
      "tensor(4765.6855, grad_fn=<PowBackward0>)\n",
      "tensor(4934.2935, grad_fn=<PowBackward0>)\n",
      "tensor(4935.1216, grad_fn=<PowBackward0>)\n",
      "tensor(5015.6763, grad_fn=<PowBackward0>)\n",
      "tensor(5152.9268, grad_fn=<PowBackward0>)\n",
      "tensor(5160.1406, grad_fn=<PowBackward0>)\n",
      "tensor(5029.5049, grad_fn=<PowBackward0>)\n",
      "tensor(5188.1157, grad_fn=<PowBackward0>)\n",
      "tensor(5054.9873, grad_fn=<PowBackward0>)\n",
      "tensor(5329.2031, grad_fn=<PowBackward0>)\n",
      "tensor(5250.0063, grad_fn=<PowBackward0>)\n",
      "tensor(5368.3735, grad_fn=<PowBackward0>)\n",
      "tensor(5372.7832, grad_fn=<PowBackward0>)\n",
      "tensor(5321.6494, grad_fn=<PowBackward0>)\n",
      "tensor(5331.2241, grad_fn=<PowBackward0>)\n",
      "tensor(5195.6650, grad_fn=<PowBackward0>)\n",
      "tensor(5399.5337, grad_fn=<PowBackward0>)\n",
      "tensor(5458.9570, grad_fn=<PowBackward0>)\n",
      "tensor(5243.3267, grad_fn=<PowBackward0>)\n",
      "tensor(5217.0352, grad_fn=<PowBackward0>)\n",
      "tensor(5323.4331, grad_fn=<PowBackward0>)\n",
      "tensor(5351.8569, grad_fn=<PowBackward0>)\n",
      "tensor(5322.7412, grad_fn=<PowBackward0>)\n",
      "tensor(5321.1621, grad_fn=<PowBackward0>)\n",
      "tensor(5185.6719, grad_fn=<PowBackward0>)\n",
      "tensor(5350.2266, grad_fn=<PowBackward0>)\n",
      "tensor(5078.2959, grad_fn=<PowBackward0>)\n",
      "tensor(5191.9600, grad_fn=<PowBackward0>)\n",
      "tensor(5378.9839, grad_fn=<PowBackward0>)\n",
      "tensor(5209.3047, grad_fn=<PowBackward0>)\n",
      "tensor(5383.2476, grad_fn=<PowBackward0>)\n",
      "tensor(5259.5430, grad_fn=<PowBackward0>)\n",
      "tensor(5426.6094, grad_fn=<PowBackward0>)\n",
      "tensor(5110.4810, grad_fn=<PowBackward0>)\n",
      "tensor(5341.3145, grad_fn=<PowBackward0>)\n",
      "tensor(5238.8647, grad_fn=<PowBackward0>)\n",
      "tensor(5163.7378, grad_fn=<PowBackward0>)\n",
      "tensor(5254.4248, grad_fn=<PowBackward0>)\n",
      "tensor(5339.3311, grad_fn=<PowBackward0>)\n",
      "tensor(5066.2158, grad_fn=<PowBackward0>)\n",
      "tensor(5159.4604, grad_fn=<PowBackward0>)\n",
      "tensor(5166.9434, grad_fn=<PowBackward0>)\n",
      "tensor(5312.9775, grad_fn=<PowBackward0>)\n",
      "tensor(5340.2896, grad_fn=<PowBackward0>)\n",
      "tensor(4995.6611, grad_fn=<PowBackward0>)\n",
      "tensor(5166.0977, grad_fn=<PowBackward0>)\n",
      "tensor(5355.5596, grad_fn=<PowBackward0>)\n",
      "tensor(5406.2417, grad_fn=<PowBackward0>)\n",
      "tensor(5140.9482, grad_fn=<PowBackward0>)\n",
      "tensor(5511.0674, grad_fn=<PowBackward0>)\n",
      "tensor(5395.7578, grad_fn=<PowBackward0>)\n",
      "tensor(5196.1465, grad_fn=<PowBackward0>)\n",
      "tensor(5219.9829, grad_fn=<PowBackward0>)\n",
      "tensor(5098.1060, grad_fn=<PowBackward0>)\n",
      "tensor(5306.1230, grad_fn=<PowBackward0>)\n",
      "tensor(5206.7910, grad_fn=<PowBackward0>)\n",
      "tensor(5233.5562, grad_fn=<PowBackward0>)\n",
      "tensor(5270.2744, grad_fn=<PowBackward0>)\n",
      "tensor(5101.4604, grad_fn=<PowBackward0>)\n",
      "tensor(4994.5059, grad_fn=<PowBackward0>)\n",
      "tensor(5247.0161, grad_fn=<PowBackward0>)\n",
      "tensor(5215.4219, grad_fn=<PowBackward0>)\n",
      "tensor(5197.7988, grad_fn=<PowBackward0>)\n",
      "tensor(5318.7021, grad_fn=<PowBackward0>)\n",
      "tensor(5214.4473, grad_fn=<PowBackward0>)\n",
      "tensor(5332.9722, grad_fn=<PowBackward0>)\n",
      "tensor(5422.8848, grad_fn=<PowBackward0>)\n",
      "tensor(5211.6577, grad_fn=<PowBackward0>)\n",
      "tensor(5144.4209, grad_fn=<PowBackward0>)\n",
      "tensor(5166.0444, grad_fn=<PowBackward0>)\n",
      "tensor(5320.8408, grad_fn=<PowBackward0>)\n",
      "tensor(5229.2080, grad_fn=<PowBackward0>)\n",
      "tensor(5470.4194, grad_fn=<PowBackward0>)\n",
      "tensor(5390.1807, grad_fn=<PowBackward0>)\n",
      "tensor(5344.9946, grad_fn=<PowBackward0>)\n",
      "tensor(5212.1494, grad_fn=<PowBackward0>)\n",
      "tensor(5079.2749, grad_fn=<PowBackward0>)\n",
      "tensor(5192.2319, grad_fn=<PowBackward0>)\n",
      "tensor(5219.0156, grad_fn=<PowBackward0>)\n",
      "tensor(5268.9561, grad_fn=<PowBackward0>)\n",
      "tensor(5341.3081, grad_fn=<PowBackward0>)\n",
      "tensor(5173.5195, grad_fn=<PowBackward0>)\n",
      "tensor(5282.6445, grad_fn=<PowBackward0>)\n",
      "tensor(5208.5464, grad_fn=<PowBackward0>)\n",
      "tensor(5153.7656, grad_fn=<PowBackward0>)\n",
      "tensor(5114.2690, grad_fn=<PowBackward0>)\n",
      "tensor(5218.5015, grad_fn=<PowBackward0>)\n",
      "tensor(5337.0464, grad_fn=<PowBackward0>)\n",
      "tensor(5212.5571, grad_fn=<PowBackward0>)\n",
      "tensor(5318.2974, grad_fn=<PowBackward0>)\n",
      "tensor(5409.1455, grad_fn=<PowBackward0>)\n",
      "tensor(5143.8198, grad_fn=<PowBackward0>)\n",
      "tensor(5198.7031, grad_fn=<PowBackward0>)\n",
      "tensor(5210.8481, grad_fn=<PowBackward0>)\n",
      "tensor(5157.6343, grad_fn=<PowBackward0>)\n",
      "tensor(5357.7388, grad_fn=<PowBackward0>)\n",
      "tensor(5158.4473, grad_fn=<PowBackward0>)\n",
      "tensor(5273.8975, grad_fn=<PowBackward0>)\n",
      "tensor(5196.2793, grad_fn=<PowBackward0>)\n",
      "tensor(5150.3403, grad_fn=<PowBackward0>)\n",
      "tensor(5335.0034, grad_fn=<PowBackward0>)\n",
      "tensor(5276.4927, grad_fn=<PowBackward0>)\n",
      "tensor(5151.9795, grad_fn=<PowBackward0>)\n",
      "tensor(5311.7617, grad_fn=<PowBackward0>)\n",
      "tensor(5263.4331, grad_fn=<PowBackward0>)\n",
      "tensor(5311.7822, grad_fn=<PowBackward0>)\n",
      "tensor(5066.4092, grad_fn=<PowBackward0>)\n",
      "tensor(5258.5713, grad_fn=<PowBackward0>)\n",
      "tensor(5056.1646, grad_fn=<PowBackward0>)\n",
      "tensor(5347.1538, grad_fn=<PowBackward0>)\n",
      "tensor(5280.1313, grad_fn=<PowBackward0>)\n",
      "tensor(5310.7729, grad_fn=<PowBackward0>)\n",
      "tensor(5188.8286, grad_fn=<PowBackward0>)\n",
      "tensor(5258.8354, grad_fn=<PowBackward0>)\n",
      "tensor(5313.0586, grad_fn=<PowBackward0>)\n",
      "tensor(5356.0571, grad_fn=<PowBackward0>)\n",
      "tensor(5316.7495, grad_fn=<PowBackward0>)\n",
      "tensor(5287.8667, grad_fn=<PowBackward0>)\n",
      "tensor(5245.2319, grad_fn=<PowBackward0>)\n",
      "tensor(5298.3062, grad_fn=<PowBackward0>)\n",
      "tensor(5059.0518, grad_fn=<PowBackward0>)\n",
      "tensor(5106.8809, grad_fn=<PowBackward0>)\n",
      "tensor(5106.1318, grad_fn=<PowBackward0>)\n",
      "tensor(5097.7285, grad_fn=<PowBackward0>)\n",
      "tensor(5169.0259, grad_fn=<PowBackward0>)\n",
      "tensor(5105.4551, grad_fn=<PowBackward0>)\n",
      "tensor(5011.2617, grad_fn=<PowBackward0>)\n",
      "tensor(5357.7695, grad_fn=<PowBackward0>)\n",
      "tensor(5192.0669, grad_fn=<PowBackward0>)\n",
      "tensor(5226.8569, grad_fn=<PowBackward0>)\n",
      "tensor(5372.4780, grad_fn=<PowBackward0>)\n",
      "tensor(5052.4780, grad_fn=<PowBackward0>)\n",
      "tensor(5332.3418, grad_fn=<PowBackward0>)\n",
      "tensor(5162.0420, grad_fn=<PowBackward0>)\n",
      "tensor(5470.9810, grad_fn=<PowBackward0>)\n",
      "tensor(5409.8179, grad_fn=<PowBackward0>)\n",
      "tensor(5319.1206, grad_fn=<PowBackward0>)\n",
      "tensor(5162.7407, grad_fn=<PowBackward0>)\n"
     ]
    },
    {
     "name": "stdout",
     "output_type": "stream",
     "text": [
      "tensor(5137.4087, grad_fn=<PowBackward0>)\n",
      "tensor(5158.4731, grad_fn=<PowBackward0>)\n",
      "tensor(5261.6284, grad_fn=<PowBackward0>)\n",
      "tensor(5118.5767, grad_fn=<PowBackward0>)\n",
      "tensor(5309.4995, grad_fn=<PowBackward0>)\n"
     ]
    }
   ],
   "source": [
    "random.seed(0)\n",
    "np.random.seed(0)\n",
    "torch.manual_seed(0)\n",
    "torch.use_deterministic_algorithms(True)\n",
    "\n",
    "class Net(nn.Module):\n",
    "    def __init__(self, n_in_neurons, n_hidden_neurons_1, n_hidden_neurons_2, n_out_neurons):\n",
    "        super(Net, self).__init__()\n",
    "        self.fc1 = nn.Linear(n_in_neurons, n_hidden_neurons_1)\n",
    "        self.act1 = nn.Tanh()\n",
    "        self.fc2 = nn.Linear(n_hidden_neurons_1, n_hidden_neurons_2)\n",
    "        self.act2 = nn.ReLU()\n",
    "        self.fc3 = nn.Linear(n_hidden_neurons_2, n_out_neurons)        \n",
    "        self.act3 = nn.ReLU()\n",
    "        \n",
    "        # Инициализация весов\n",
    "        nn.init.uniform_(self.fc1.weight, a=-1, b=1)\n",
    "        nn.init.uniform_(self.fc1.bias, a=-1, b=3)\n",
    "        nn.init.uniform_(self.fc2.weight, b=3)\n",
    "        nn.init.uniform_(self.fc2.bias, a=-1)\n",
    "        nn.init.uniform_(self.fc3.weight, b=2)\n",
    "        nn.init.uniform_(self.fc3.bias, a=-1)\n",
    "\n",
    "    def forward(self, x):\n",
    "        x = self.fc1(x)\n",
    "        x = self.act1(x)\n",
    "        x = self.fc2(x)\n",
    "        x = self.act2(x)\n",
    "        x = self.fc3(x)\n",
    "        x = self.act3(x)\n",
    "        return x\n",
    "    \n",
    "    \n",
    "net = Net(11, 20, 20, 1) \n",
    "optimizer = torch.optim.Adam(net.parameters(), lr=0.05)\n",
    "loss = nn.L1Loss()# инициализируйте функцию потерь\n",
    "\n",
    "\n",
    "num_epochs = 4000\n",
    "best_rmse3 = 10000\n",
    "test_preds_best1 = 0\n",
    "\n",
    "batch_size = 150\n",
    "\n",
    "num_batches = ceil(len(x_train_tensor)/batch_size)\n",
    "\n",
    "for epoch in range(num_epochs):\n",
    "    order = np.random.permutation(len(x_train_tensor))# создайте случайную перестановку индексов объектов\n",
    "    for batch_idx in range(num_batches):\n",
    "        start_index = batch_idx * batch_size# посчитайте номер стартового объекта батча\n",
    "        optimizer.zero_grad()\n",
    "  \n",
    "        batch_indexes = order[start_index:start_index+batch_size]# извлеките индексы объектов текущего обатча\n",
    "        X_batch = x_train_tensor[batch_indexes]\n",
    "        y_batch = y_train_tensor[batch_indexes]\n",
    "  \n",
    "        preds = net.forward(X_batch).flatten()\n",
    "             \n",
    "        loss_value = loss(preds, y_batch)\n",
    "\n",
    "        loss_value.backward()\n",
    "            \n",
    "        optimizer.step()    \n",
    "    \n",
    "   \n",
    "    if epoch % 20 == 0 or epoch == num_epochs - 1:\n",
    "        net.eval()\n",
    "        test_preds = net.forward(x_test_tensor).flatten()\n",
    "        \n",
    "        rmse = mse()**0.5\n",
    "        RMSE = rmse(test_preds, y_test_tensor)\n",
    "    \n",
    "        print(RMSE)\n",
    "        \n",
    "    if best_rmse3 > RMSE:\n",
    "        best_rmse3 = torch.round(RMSE)\n",
    "        test_preds_best1 = torch.round(test_preds)"
   ]
  },
  {
   "cell_type": "code",
   "execution_count": 53,
   "metadata": {},
   "outputs": [
    {
     "name": "stdout",
     "output_type": "stream",
     "text": [
      "\n",
      "Лучшее RMSE:  tensor(4634., grad_fn=<RoundBackward0>)\n",
      "\n",
      "Лучшее предсказание:  tensor([30690., 33061., 13061.,  3714., 13050.,  2778., 16630., 15110., 19586.,\n",
      "         3374., 20062.,  3760.,  3224.,  6807.,  3248., 12888., 13188.,  3713.,\n",
      "         6822.,  2905., 24844., 18398., 23577.,  6026., 30836.,  3164., 35309.,\n",
      "        18921., 18180.,  3232.,  3514., 18455.,  3448., 17754.,  3745.,  3003.,\n",
      "         3819.,  3713.,  3761.,  3290.,  3734., 33145.,  2963.,  2944.,  2953.,\n",
      "        17788.,  5849., 13898.], grad_fn=<RoundBackward0>)\n",
      "\n",
      "Тестовые данные:  tensor([32489., 39000.,  9320.,  3834.,  9030.,  3218., 22012., 11250., 19860.,\n",
      "         3574., 18340.,  3614.,  3150.,  8250.,  3100., 25000.,  8945.,  3459.,\n",
      "         9700.,  2945., 27739., 17120., 11096.,  4980., 30839., 11000., 29560.,\n",
      "        16787.,  5752.,  3462.,  3826., 19360.,  3607., 24630.,  3615.,  2700.,\n",
      "         3570.,  3450.,  3490.,  2799.,  3650., 37800.,  2889.,  2774.,  3323.,\n",
      "        33421.,  7700., 13023.])\n"
     ]
    }
   ],
   "source": [
    "print()        \n",
    "print('Лучшее RMSE: ', best_rmse3)\n",
    "print()\n",
    "print('Лучшее предсказание: ', test_preds_best1)\n",
    "print()\n",
    "print('Тестовые данные: ', y_test_tensor)   \n"
   ]
  },
  {
   "cell_type": "markdown",
   "metadata": {},
   "source": [
    "Не лучший результат"
   ]
  },
  {
   "cell_type": "markdown",
   "metadata": {},
   "source": [
    "#### Обучаем нейросеть на не полной тренировочной выборке с размеров батча 150"
   ]
  },
  {
   "cell_type": "code",
   "execution_count": 54,
   "metadata": {},
   "outputs": [
    {
     "name": "stdout",
     "output_type": "stream",
     "text": [
      "tensor(15721.7842, grad_fn=<PowBackward0>)\n",
      "tensor(11770.4648, grad_fn=<PowBackward0>)\n",
      "tensor(9644.7139, grad_fn=<PowBackward0>)\n",
      "tensor(8610.9795, grad_fn=<PowBackward0>)\n",
      "tensor(8498.6221, grad_fn=<PowBackward0>)\n",
      "tensor(7744.1201, grad_fn=<PowBackward0>)\n",
      "tensor(7472.1079, grad_fn=<PowBackward0>)\n",
      "tensor(7247.5571, grad_fn=<PowBackward0>)\n",
      "tensor(7084.3389, grad_fn=<PowBackward0>)\n",
      "tensor(7155.4702, grad_fn=<PowBackward0>)\n",
      "tensor(6932.3154, grad_fn=<PowBackward0>)\n",
      "tensor(6778.9585, grad_fn=<PowBackward0>)\n",
      "tensor(6668.9790, grad_fn=<PowBackward0>)\n",
      "tensor(6659.4717, grad_fn=<PowBackward0>)\n",
      "tensor(6423.1812, grad_fn=<PowBackward0>)\n",
      "tensor(6177.1514, grad_fn=<PowBackward0>)\n",
      "tensor(7027.9419, grad_fn=<PowBackward0>)\n",
      "tensor(6092.0938, grad_fn=<PowBackward0>)\n",
      "tensor(6304.9595, grad_fn=<PowBackward0>)\n",
      "tensor(6032.6880, grad_fn=<PowBackward0>)\n",
      "tensor(6083.7900, grad_fn=<PowBackward0>)\n",
      "tensor(5699.9854, grad_fn=<PowBackward0>)\n",
      "tensor(5791.4263, grad_fn=<PowBackward0>)\n",
      "tensor(6030.4390, grad_fn=<PowBackward0>)\n",
      "tensor(6003.9302, grad_fn=<PowBackward0>)\n",
      "tensor(5348.5938, grad_fn=<PowBackward0>)\n",
      "tensor(5017.3535, grad_fn=<PowBackward0>)\n",
      "tensor(5449.4712, grad_fn=<PowBackward0>)\n",
      "tensor(5764.4341, grad_fn=<PowBackward0>)\n",
      "tensor(5800.2104, grad_fn=<PowBackward0>)\n",
      "tensor(5864.9507, grad_fn=<PowBackward0>)\n",
      "tensor(6381.7056, grad_fn=<PowBackward0>)\n",
      "tensor(5298.3936, grad_fn=<PowBackward0>)\n",
      "tensor(5155.6553, grad_fn=<PowBackward0>)\n",
      "tensor(5512.9141, grad_fn=<PowBackward0>)\n",
      "tensor(5497.1079, grad_fn=<PowBackward0>)\n",
      "tensor(5674.3276, grad_fn=<PowBackward0>)\n",
      "tensor(4799.6958, grad_fn=<PowBackward0>)\n",
      "tensor(5407.8115, grad_fn=<PowBackward0>)\n",
      "tensor(5686.6113, grad_fn=<PowBackward0>)\n",
      "tensor(5759.7266, grad_fn=<PowBackward0>)\n",
      "tensor(4649.4121, grad_fn=<PowBackward0>)\n",
      "tensor(5215.5000, grad_fn=<PowBackward0>)\n",
      "tensor(5074.8955, grad_fn=<PowBackward0>)\n",
      "tensor(5259.9492, grad_fn=<PowBackward0>)\n",
      "tensor(4914.1455, grad_fn=<PowBackward0>)\n",
      "tensor(4876.2139, grad_fn=<PowBackward0>)\n",
      "tensor(4981.3555, grad_fn=<PowBackward0>)\n",
      "tensor(5368.9541, grad_fn=<PowBackward0>)\n",
      "tensor(4881.4644, grad_fn=<PowBackward0>)\n",
      "tensor(4938.1201, grad_fn=<PowBackward0>)\n",
      "tensor(4989.1079, grad_fn=<PowBackward0>)\n",
      "tensor(5288.9263, grad_fn=<PowBackward0>)\n",
      "tensor(4576.7305, grad_fn=<PowBackward0>)\n",
      "tensor(4786.7959, grad_fn=<PowBackward0>)\n",
      "tensor(5538.1875, grad_fn=<PowBackward0>)\n",
      "tensor(4761.9844, grad_fn=<PowBackward0>)\n",
      "tensor(5231.1895, grad_fn=<PowBackward0>)\n",
      "tensor(4805.7188, grad_fn=<PowBackward0>)\n",
      "tensor(4973.5654, grad_fn=<PowBackward0>)\n",
      "tensor(4984.8398, grad_fn=<PowBackward0>)\n",
      "tensor(4724.5273, grad_fn=<PowBackward0>)\n",
      "tensor(4754.1191, grad_fn=<PowBackward0>)\n",
      "tensor(4825.7881, grad_fn=<PowBackward0>)\n",
      "tensor(4740.3164, grad_fn=<PowBackward0>)\n",
      "tensor(4979.5249, grad_fn=<PowBackward0>)\n",
      "tensor(5284.3545, grad_fn=<PowBackward0>)\n",
      "tensor(4874.1323, grad_fn=<PowBackward0>)\n",
      "tensor(5045.0942, grad_fn=<PowBackward0>)\n",
      "tensor(4848.4302, grad_fn=<PowBackward0>)\n",
      "tensor(4712.6641, grad_fn=<PowBackward0>)\n",
      "tensor(4977.3945, grad_fn=<PowBackward0>)\n",
      "tensor(4913.5347, grad_fn=<PowBackward0>)\n",
      "tensor(4795.0840, grad_fn=<PowBackward0>)\n",
      "tensor(4593.7124, grad_fn=<PowBackward0>)\n",
      "tensor(4755.9194, grad_fn=<PowBackward0>)\n",
      "tensor(5158.6519, grad_fn=<PowBackward0>)\n",
      "tensor(4861.8745, grad_fn=<PowBackward0>)\n",
      "tensor(5092.8540, grad_fn=<PowBackward0>)\n",
      "tensor(5189.2227, grad_fn=<PowBackward0>)\n",
      "tensor(4935.9790, grad_fn=<PowBackward0>)\n"
     ]
    }
   ],
   "source": [
    "random.seed(0)\n",
    "np.random.seed(0)\n",
    "torch.manual_seed(0)\n",
    "torch.use_deterministic_algorithms(True)\n",
    "\n",
    "class Net(nn.Module):\n",
    "    def __init__(self, n_in_neurons, n_hidden_neurons_1, n_hidden_neurons_2, n_out_neurons):\n",
    "        super(Net, self).__init__()\n",
    "        self.fc1 = nn.Linear(n_in_neurons, n_hidden_neurons_1)\n",
    "        self.act1 = nn.Tanh()\n",
    "        self.fc2 = nn.Linear(n_hidden_neurons_1, n_hidden_neurons_2)\n",
    "        self.act2 = nn.ReLU()\n",
    "        self.fc3 = nn.Linear(n_hidden_neurons_2, n_out_neurons)        \n",
    "        self.act3 = nn.ReLU()\n",
    "        \n",
    "        # Инициализация весов\n",
    "        nn.init.uniform_(self.fc1.weight, a=-1, b=1)\n",
    "        nn.init.uniform_(self.fc1.bias, a=-1, b=3)\n",
    "        nn.init.uniform_(self.fc2.weight, b=3)\n",
    "        nn.init.uniform_(self.fc2.bias, a=-1)\n",
    "        nn.init.uniform_(self.fc3.weight, b=2)\n",
    "        nn.init.uniform_(self.fc3.bias, a=-1)\n",
    "\n",
    "    def forward(self, x):\n",
    "        x = self.fc1(x)\n",
    "        x = self.act1(x)\n",
    "        x = self.fc2(x)\n",
    "        x = self.act2(x)\n",
    "        x = self.fc3(x)\n",
    "        x = self.act3(x)\n",
    "        return x\n",
    "    \n",
    "    \n",
    "net = Net(11, 20, 20, 1) \n",
    "optimizer = torch.optim.Adam(net.parameters(), lr=0.05)\n",
    "loss = nn.L1Loss()# инициализируйте функцию потерь\n",
    "\n",
    "\n",
    "num_epochs = 4000\n",
    "best_rmse4 = 10000\n",
    "test_preds_best3 = 0\n",
    "\n",
    "batch_size = 150\n",
    "\n",
    "num_batches = ceil(len(x_train_1_tensor)/batch_size)\n",
    "\n",
    "for epoch in range(num_epochs):\n",
    "    order = np.random.permutation(len(x_train_1_tensor))# создайте случайную перестановку индексов объектов\n",
    "    for batch_idx in range(num_batches):\n",
    "        start_index = batch_idx * batch_size# посчитайте номер стартового объекта батча\n",
    "        optimizer.zero_grad()\n",
    "  \n",
    "        batch_indexes = order[start_index:start_index+batch_size]# извлеките индексы объектов текущего обатча\n",
    "        X_batch = x_train_1_tensor[batch_indexes]\n",
    "        y_batch = y_train_1_tensor[batch_indexes]\n",
    "  \n",
    "        preds = net.forward(X_batch).flatten()\n",
    "             \n",
    "        loss_value = loss(preds, y_batch)\n",
    "\n",
    "        loss_value.backward()\n",
    "            \n",
    "        optimizer.step()    \n",
    "    \n",
    "   \n",
    "    if epoch % 50 == 0 or epoch == num_epochs - 1:\n",
    "        net.eval()\n",
    "        test_preds = net.forward(x_test_tensor).flatten()\n",
    "        \n",
    "        rmse = mse()**0.5\n",
    "        RMSE = rmse(test_preds, y_test_tensor)\n",
    "    \n",
    "        print(RMSE)\n",
    "        \n",
    "    if best_rmse4 > RMSE:\n",
    "        best_rmse4 = torch.round(RMSE)\n",
    "        test_preds_best3 = torch.round(test_preds)"
   ]
  },
  {
   "cell_type": "code",
   "execution_count": 55,
   "metadata": {},
   "outputs": [
    {
     "name": "stdout",
     "output_type": "stream",
     "text": [
      "\n",
      "Лучшее RMSE:  tensor(4577., grad_fn=<RoundBackward0>)\n",
      "\n",
      "Лучшее предсказание:  tensor([26112., 33669., 12061.,  3556., 12040.,  2688., 19776., 17876., 19831.,\n",
      "         3555., 20154.,  3705.,  3000.,  9442.,  3019., 11989., 12382.,  3556.,\n",
      "         9431.,  2730., 26137., 15922., 21683.,  5427., 25829., 18679., 26039.,\n",
      "        16091., 15990.,  3008.,  3556., 19060.,  3156., 16704.,  3595.,  2790.,\n",
      "         3600.,  3556.,  3581.,  2997.,  3561., 33846.,  2764.,  2752.,  2758.,\n",
      "        16559.,  8164., 14599.], grad_fn=<RoundBackward0>)\n",
      "\n",
      "Тестовые данные:  tensor([32489., 39000.,  9320.,  3834.,  9030.,  3218., 22012., 11250., 19860.,\n",
      "         3574., 18340.,  3614.,  3150.,  8250.,  3100., 25000.,  8945.,  3459.,\n",
      "         9700.,  2945., 27739., 17120., 11096.,  4980., 30839., 11000., 29560.,\n",
      "        16787.,  5752.,  3462.,  3826., 19360.,  3607., 24630.,  3615.,  2700.,\n",
      "         3570.,  3450.,  3490.,  2799.,  3650., 37800.,  2889.,  2774.,  3323.,\n",
      "        33421.,  7700., 13023.])\n"
     ]
    }
   ],
   "source": [
    "print()        \n",
    "print('Лучшее RMSE: ', best_rmse4)\n",
    "print()\n",
    "print('Лучшее предсказание: ', test_preds_best3)\n",
    "print()\n",
    "print('Тестовые данные: ', y_test_tensor)  "
   ]
  },
  {
   "cell_type": "markdown",
   "metadata": {},
   "source": [
    "Не лучший результат явно. Видимо просто добавление батчей без поиска наилучших параметров и характеристик конкретной архитектуры не обойтись. Хотя предположение, что если находили оптимальный размер батча на меньшей тренировочной выборке, то останется оптимальным и для тестовой выборки, повышение состава на обучающей выборке показала результат хуже."
   ]
  },
  {
   "cell_type": "markdown",
   "metadata": {},
   "source": [
    "### Добавим регуляризацию Dropout сохранив размер батча в 150"
   ]
  },
  {
   "cell_type": "markdown",
   "metadata": {},
   "source": [
    "\n",
    "\n",
    "<div class=\"alert alert-info\"> <b>Комментарий студента:</b> Так же видимо нужно найти лучший параметр Dropout на валидационной выборке</div>"
   ]
  },
  {
   "cell_type": "markdown",
   "metadata": {},
   "source": [
    "#### Находим оптимальный размер параметра Dropout на валидационной выборке"
   ]
  },
  {
   "cell_type": "code",
   "execution_count": 56,
   "metadata": {},
   "outputs": [
    {
     "name": "stdout",
     "output_type": "stream",
     "text": [
      "tensor(15171.3984, grad_fn=<PowBackward0>)\n",
      "tensor(6902.2778, grad_fn=<PowBackward0>)\n",
      "tensor(6820.9497, grad_fn=<PowBackward0>)\n",
      "tensor(6773.9146, grad_fn=<PowBackward0>)\n",
      "tensor(6399.1924, grad_fn=<PowBackward0>)\n",
      "tensor(5490.9062, grad_fn=<PowBackward0>)\n",
      "tensor(4817.6895, grad_fn=<PowBackward0>)\n",
      "tensor(4576.9941, grad_fn=<PowBackward0>)\n",
      "tensor(4251.1157, grad_fn=<PowBackward0>)\n",
      "tensor(4657.1401, grad_fn=<PowBackward0>)\n",
      "tensor(5546.1270, grad_fn=<PowBackward0>)\n",
      "tensor(3801.8669, grad_fn=<PowBackward0>)\n",
      "tensor(4345.2803, grad_fn=<PowBackward0>)\n",
      "tensor(3632.3030, grad_fn=<PowBackward0>)\n",
      "tensor(4015.3765, grad_fn=<PowBackward0>)\n",
      "tensor(4736.4453, grad_fn=<PowBackward0>)\n",
      "tensor(3579.1626, grad_fn=<PowBackward0>)\n",
      "tensor(3428.9912, grad_fn=<PowBackward0>)\n",
      "tensor(3380.4900, grad_fn=<PowBackward0>)\n",
      "tensor(3456.3152, grad_fn=<PowBackward0>)\n",
      "tensor(3625.4919, grad_fn=<PowBackward0>)\n",
      "tensor(3447.4788, grad_fn=<PowBackward0>)\n",
      "tensor(3440.0146, grad_fn=<PowBackward0>)\n",
      "tensor(4148.9517, grad_fn=<PowBackward0>)\n",
      "tensor(4064.7864, grad_fn=<PowBackward0>)\n",
      "tensor(3875.7949, grad_fn=<PowBackward0>)\n",
      "tensor(3592.9827, grad_fn=<PowBackward0>)\n",
      "tensor(3439.5796, grad_fn=<PowBackward0>)\n",
      "tensor(3851.5222, grad_fn=<PowBackward0>)\n",
      "tensor(3400.3904, grad_fn=<PowBackward0>)\n",
      "tensor(3695.3447, grad_fn=<PowBackward0>)\n",
      "tensor(3555.6731, grad_fn=<PowBackward0>)\n",
      "tensor(3752.8335, grad_fn=<PowBackward0>)\n",
      "tensor(3505.4912, grad_fn=<PowBackward0>)\n",
      "tensor(3429.8201, grad_fn=<PowBackward0>)\n",
      "tensor(3270.5132, grad_fn=<PowBackward0>)\n",
      "tensor(3416.5896, grad_fn=<PowBackward0>)\n",
      "tensor(3385.2495, grad_fn=<PowBackward0>)\n",
      "tensor(3821.6050, grad_fn=<PowBackward0>)\n",
      "tensor(3299.1245, grad_fn=<PowBackward0>)\n",
      "tensor(3413.7842, grad_fn=<PowBackward0>)\n",
      "tensor(15274.9180, grad_fn=<PowBackward0>)\n",
      "tensor(8187.7729, grad_fn=<PowBackward0>)\n",
      "tensor(7262.9248, grad_fn=<PowBackward0>)\n",
      "tensor(5338.0537, grad_fn=<PowBackward0>)\n",
      "tensor(4990.1743, grad_fn=<PowBackward0>)\n",
      "tensor(4892.7432, grad_fn=<PowBackward0>)\n",
      "tensor(4580.7114, grad_fn=<PowBackward0>)\n",
      "tensor(3897.9353, grad_fn=<PowBackward0>)\n",
      "tensor(3656.8347, grad_fn=<PowBackward0>)\n",
      "tensor(4375.4570, grad_fn=<PowBackward0>)\n",
      "tensor(3874.7339, grad_fn=<PowBackward0>)\n",
      "tensor(3443.9619, grad_fn=<PowBackward0>)\n",
      "tensor(3745.6372, grad_fn=<PowBackward0>)\n",
      "tensor(3668.3767, grad_fn=<PowBackward0>)\n",
      "tensor(3387.9558, grad_fn=<PowBackward0>)\n",
      "tensor(3321.5215, grad_fn=<PowBackward0>)\n",
      "tensor(3692.7627, grad_fn=<PowBackward0>)\n",
      "tensor(3489.4561, grad_fn=<PowBackward0>)\n",
      "tensor(3486.6960, grad_fn=<PowBackward0>)\n",
      "tensor(3322.4971, grad_fn=<PowBackward0>)\n",
      "tensor(3103.5269, grad_fn=<PowBackward0>)\n",
      "tensor(3560.0234, grad_fn=<PowBackward0>)\n",
      "tensor(3536.9192, grad_fn=<PowBackward0>)\n",
      "tensor(3366.7905, grad_fn=<PowBackward0>)\n",
      "tensor(3398.7549, grad_fn=<PowBackward0>)\n",
      "tensor(3336.5676, grad_fn=<PowBackward0>)\n",
      "tensor(3328.6379, grad_fn=<PowBackward0>)\n",
      "tensor(3316.9578, grad_fn=<PowBackward0>)\n",
      "tensor(3228.6428, grad_fn=<PowBackward0>)\n",
      "tensor(3408.6501, grad_fn=<PowBackward0>)\n",
      "tensor(3376.5315, grad_fn=<PowBackward0>)\n",
      "tensor(3355.1719, grad_fn=<PowBackward0>)\n",
      "tensor(3136.0435, grad_fn=<PowBackward0>)\n",
      "tensor(3334.0815, grad_fn=<PowBackward0>)\n",
      "tensor(3393.3762, grad_fn=<PowBackward0>)\n",
      "tensor(3481.9680, grad_fn=<PowBackward0>)\n",
      "tensor(3052.7849, grad_fn=<PowBackward0>)\n",
      "tensor(3073.6814, grad_fn=<PowBackward0>)\n",
      "tensor(3551.9883, grad_fn=<PowBackward0>)\n",
      "tensor(3266.4648, grad_fn=<PowBackward0>)\n",
      "tensor(2951.2603, grad_fn=<PowBackward0>)\n",
      "tensor(15344.8701, grad_fn=<PowBackward0>)\n",
      "tensor(7611.5688, grad_fn=<PowBackward0>)\n",
      "tensor(6218.5317, grad_fn=<PowBackward0>)\n",
      "tensor(5982.6245, grad_fn=<PowBackward0>)\n",
      "tensor(5427.7920, grad_fn=<PowBackward0>)\n",
      "tensor(5511.2949, grad_fn=<PowBackward0>)\n",
      "tensor(4271.2446, grad_fn=<PowBackward0>)\n",
      "tensor(4249.1406, grad_fn=<PowBackward0>)\n",
      "tensor(4527.4375, grad_fn=<PowBackward0>)\n",
      "tensor(3825.2444, grad_fn=<PowBackward0>)\n",
      "tensor(4095.7812, grad_fn=<PowBackward0>)\n",
      "tensor(3592.8000, grad_fn=<PowBackward0>)\n",
      "tensor(3800.4055, grad_fn=<PowBackward0>)\n",
      "tensor(4178.2129, grad_fn=<PowBackward0>)\n",
      "tensor(3503.5149, grad_fn=<PowBackward0>)\n",
      "tensor(3222.1833, grad_fn=<PowBackward0>)\n",
      "tensor(3923.7566, grad_fn=<PowBackward0>)\n",
      "tensor(3994.7363, grad_fn=<PowBackward0>)\n",
      "tensor(4002.0156, grad_fn=<PowBackward0>)\n",
      "tensor(3551.6436, grad_fn=<PowBackward0>)\n",
      "tensor(3444.9888, grad_fn=<PowBackward0>)\n",
      "tensor(3382.4443, grad_fn=<PowBackward0>)\n",
      "tensor(3412.9390, grad_fn=<PowBackward0>)\n",
      "tensor(3385.8391, grad_fn=<PowBackward0>)\n",
      "tensor(3886.7703, grad_fn=<PowBackward0>)\n",
      "tensor(3113.9573, grad_fn=<PowBackward0>)\n",
      "tensor(3404.4600, grad_fn=<PowBackward0>)\n",
      "tensor(3047.1755, grad_fn=<PowBackward0>)\n",
      "tensor(3246.8376, grad_fn=<PowBackward0>)\n",
      "tensor(3291.7803, grad_fn=<PowBackward0>)\n",
      "tensor(3501.9629, grad_fn=<PowBackward0>)\n",
      "tensor(3394.0483, grad_fn=<PowBackward0>)\n",
      "tensor(3417.9773, grad_fn=<PowBackward0>)\n",
      "tensor(2701.1914, grad_fn=<PowBackward0>)\n",
      "tensor(2829.6128, grad_fn=<PowBackward0>)\n",
      "tensor(2628.2634, grad_fn=<PowBackward0>)\n",
      "tensor(2668.5005, grad_fn=<PowBackward0>)\n",
      "tensor(2684.4932, grad_fn=<PowBackward0>)\n",
      "tensor(2994.7417, grad_fn=<PowBackward0>)\n",
      "tensor(2773.9714, grad_fn=<PowBackward0>)\n",
      "tensor(2777.1262, grad_fn=<PowBackward0>)\n",
      "tensor(15380.5547, grad_fn=<PowBackward0>)\n",
      "tensor(7671.9312, grad_fn=<PowBackward0>)\n",
      "tensor(5846.4727, grad_fn=<PowBackward0>)\n",
      "tensor(5595.8633, grad_fn=<PowBackward0>)\n",
      "tensor(4933.6704, grad_fn=<PowBackward0>)\n",
      "tensor(4829.6201, grad_fn=<PowBackward0>)\n",
      "tensor(5200.0039, grad_fn=<PowBackward0>)\n",
      "tensor(4033.1196, grad_fn=<PowBackward0>)\n",
      "tensor(3683.9155, grad_fn=<PowBackward0>)\n",
      "tensor(4527.2681, grad_fn=<PowBackward0>)\n",
      "tensor(3521.2249, grad_fn=<PowBackward0>)\n",
      "tensor(3963.1978, grad_fn=<PowBackward0>)\n",
      "tensor(5338.1606, grad_fn=<PowBackward0>)\n",
      "tensor(3837.3928, grad_fn=<PowBackward0>)\n",
      "tensor(3515.3894, grad_fn=<PowBackward0>)\n",
      "tensor(3599.7227, grad_fn=<PowBackward0>)\n",
      "tensor(3384.5918, grad_fn=<PowBackward0>)\n",
      "tensor(3419.6030, grad_fn=<PowBackward0>)\n",
      "tensor(3445.0315, grad_fn=<PowBackward0>)\n",
      "tensor(3531.4216, grad_fn=<PowBackward0>)\n",
      "tensor(3526.0403, grad_fn=<PowBackward0>)\n",
      "tensor(3404.5024, grad_fn=<PowBackward0>)\n",
      "tensor(3840.9409, grad_fn=<PowBackward0>)\n",
      "tensor(3649.3899, grad_fn=<PowBackward0>)\n",
      "tensor(3351.4641, grad_fn=<PowBackward0>)\n",
      "tensor(3739.2300, grad_fn=<PowBackward0>)\n",
      "tensor(5200.6260, grad_fn=<PowBackward0>)\n",
      "tensor(4046.5903, grad_fn=<PowBackward0>)\n",
      "tensor(3322.9358, grad_fn=<PowBackward0>)\n",
      "tensor(3406.3643, grad_fn=<PowBackward0>)\n",
      "tensor(3492.5747, grad_fn=<PowBackward0>)\n",
      "tensor(3673.0134, grad_fn=<PowBackward0>)\n",
      "tensor(3706.9868, grad_fn=<PowBackward0>)\n",
      "tensor(3615.6350, grad_fn=<PowBackward0>)\n",
      "tensor(3227.0122, grad_fn=<PowBackward0>)\n",
      "tensor(3135.2266, grad_fn=<PowBackward0>)\n",
      "tensor(3177.6138, grad_fn=<PowBackward0>)\n",
      "tensor(3219.6084, grad_fn=<PowBackward0>)\n",
      "tensor(3815.2505, grad_fn=<PowBackward0>)\n",
      "tensor(3399.8516, grad_fn=<PowBackward0>)\n",
      "tensor(3073.4844, grad_fn=<PowBackward0>)\n",
      "tensor(15244.7100, grad_fn=<PowBackward0>)\n",
      "tensor(7372.3706, grad_fn=<PowBackward0>)\n",
      "tensor(7075.2021, grad_fn=<PowBackward0>)\n",
      "tensor(5902.6948, grad_fn=<PowBackward0>)\n",
      "tensor(5654.9526, grad_fn=<PowBackward0>)\n",
      "tensor(5133.2007, grad_fn=<PowBackward0>)\n",
      "tensor(4160.0649, grad_fn=<PowBackward0>)\n",
      "tensor(4231.6934, grad_fn=<PowBackward0>)\n",
      "tensor(4468.1499, grad_fn=<PowBackward0>)\n",
      "tensor(4815.2285, grad_fn=<PowBackward0>)\n",
      "tensor(4058.0562, grad_fn=<PowBackward0>)\n",
      "tensor(3991.4910, grad_fn=<PowBackward0>)\n",
      "tensor(4549.5522, grad_fn=<PowBackward0>)\n",
      "tensor(3659.7556, grad_fn=<PowBackward0>)\n",
      "tensor(3627.5273, grad_fn=<PowBackward0>)\n",
      "tensor(3853.0522, grad_fn=<PowBackward0>)\n",
      "tensor(4632.4546, grad_fn=<PowBackward0>)\n",
      "tensor(3486.7563, grad_fn=<PowBackward0>)\n",
      "tensor(3819.7405, grad_fn=<PowBackward0>)\n",
      "tensor(3753.9834, grad_fn=<PowBackward0>)\n",
      "tensor(3374.8184, grad_fn=<PowBackward0>)\n",
      "tensor(3329.4990, grad_fn=<PowBackward0>)\n",
      "tensor(3874.0242, grad_fn=<PowBackward0>)\n",
      "tensor(3462.8970, grad_fn=<PowBackward0>)\n",
      "tensor(3585.4553, grad_fn=<PowBackward0>)\n",
      "tensor(3599.8926, grad_fn=<PowBackward0>)\n",
      "tensor(3279.8159, grad_fn=<PowBackward0>)\n",
      "tensor(3516.3918, grad_fn=<PowBackward0>)\n",
      "tensor(3564.9434, grad_fn=<PowBackward0>)\n",
      "tensor(3366.6658, grad_fn=<PowBackward0>)\n",
      "tensor(3168.4028, grad_fn=<PowBackward0>)\n"
     ]
    },
    {
     "name": "stdout",
     "output_type": "stream",
     "text": [
      "tensor(3067.0464, grad_fn=<PowBackward0>)\n",
      "tensor(3162.9795, grad_fn=<PowBackward0>)\n",
      "tensor(3302.5195, grad_fn=<PowBackward0>)\n",
      "tensor(3394.9048, grad_fn=<PowBackward0>)\n",
      "tensor(2909.8796, grad_fn=<PowBackward0>)\n",
      "tensor(3400.7561, grad_fn=<PowBackward0>)\n",
      "tensor(3623.1479, grad_fn=<PowBackward0>)\n",
      "tensor(3071.2808, grad_fn=<PowBackward0>)\n",
      "tensor(3462.0632, grad_fn=<PowBackward0>)\n",
      "tensor(2931.6094, grad_fn=<PowBackward0>)\n",
      "tensor(15426.6797, grad_fn=<PowBackward0>)\n",
      "tensor(8155.8926, grad_fn=<PowBackward0>)\n",
      "tensor(7412.7227, grad_fn=<PowBackward0>)\n",
      "tensor(6773.6406, grad_fn=<PowBackward0>)\n",
      "tensor(6335.5610, grad_fn=<PowBackward0>)\n",
      "tensor(5522.9937, grad_fn=<PowBackward0>)\n",
      "tensor(5115.8730, grad_fn=<PowBackward0>)\n",
      "tensor(5020.4521, grad_fn=<PowBackward0>)\n",
      "tensor(5384.3359, grad_fn=<PowBackward0>)\n",
      "tensor(5335.0586, grad_fn=<PowBackward0>)\n",
      "tensor(5120.8198, grad_fn=<PowBackward0>)\n",
      "tensor(4785.5396, grad_fn=<PowBackward0>)\n",
      "tensor(4756.1333, grad_fn=<PowBackward0>)\n",
      "tensor(4791.9683, grad_fn=<PowBackward0>)\n",
      "tensor(4529.8042, grad_fn=<PowBackward0>)\n",
      "tensor(4565.2451, grad_fn=<PowBackward0>)\n",
      "tensor(4502.8745, grad_fn=<PowBackward0>)\n",
      "tensor(4468.9795, grad_fn=<PowBackward0>)\n",
      "tensor(4252.3516, grad_fn=<PowBackward0>)\n",
      "tensor(4528.3579, grad_fn=<PowBackward0>)\n",
      "tensor(4458.1562, grad_fn=<PowBackward0>)\n",
      "tensor(4270.6841, grad_fn=<PowBackward0>)\n",
      "tensor(4237.4346, grad_fn=<PowBackward0>)\n",
      "tensor(5334.8003, grad_fn=<PowBackward0>)\n",
      "tensor(3882.8037, grad_fn=<PowBackward0>)\n",
      "tensor(3928.7222, grad_fn=<PowBackward0>)\n",
      "tensor(3809.9065, grad_fn=<PowBackward0>)\n",
      "tensor(3902.2148, grad_fn=<PowBackward0>)\n",
      "tensor(3985.2766, grad_fn=<PowBackward0>)\n",
      "tensor(3771.5786, grad_fn=<PowBackward0>)\n",
      "tensor(4205.2319, grad_fn=<PowBackward0>)\n",
      "tensor(3908.0544, grad_fn=<PowBackward0>)\n",
      "tensor(3874.6877, grad_fn=<PowBackward0>)\n",
      "tensor(3673.8369, grad_fn=<PowBackward0>)\n",
      "tensor(3860.9641, grad_fn=<PowBackward0>)\n",
      "tensor(3601.4155, grad_fn=<PowBackward0>)\n",
      "tensor(3683.3577, grad_fn=<PowBackward0>)\n",
      "tensor(3709.1694, grad_fn=<PowBackward0>)\n",
      "tensor(4133.0640, grad_fn=<PowBackward0>)\n",
      "tensor(4418.2393, grad_fn=<PowBackward0>)\n",
      "tensor(3751.6719, grad_fn=<PowBackward0>)\n"
     ]
    }
   ],
   "source": [
    "random.seed(0)\n",
    "np.random.seed(0)\n",
    "torch.manual_seed(0)\n",
    "torch.use_deterministic_algorithms(True)\n",
    "\n",
    "class Net(nn.Module):\n",
    "    def __init__(self, n_in_neurons, n_hidden_neurons_1, n_hidden_neurons_2, n_out_neurons, dp):\n",
    "        super(Net, self).__init__()\n",
    "        self.fc1 = nn.Linear(n_in_neurons, n_hidden_neurons_1)\n",
    "        self.act1 = nn.Tanh()\n",
    "        self.dp1 = nn.Dropout(p=dp/10)\n",
    "        self.fc2 = nn.Linear(n_hidden_neurons_1, n_hidden_neurons_2)\n",
    "        self.act2 = nn.ReLU()\n",
    "        self.dp2 = nn.Dropout(p=dp/10)    \n",
    "        self.fc3 = nn.Linear(n_hidden_neurons_2, n_out_neurons)        \n",
    "        self.act3 = nn.ReLU()\n",
    "        \n",
    "         # Инициализация весов\n",
    "        nn.init.uniform_(self.fc1.weight, a=-1, b=1)\n",
    "        nn.init.uniform_(self.fc1.bias, a=-1, b=3)\n",
    "        nn.init.uniform_(self.fc2.weight, b=3)\n",
    "        nn.init.uniform_(self.fc2.bias, a=-1)\n",
    "        nn.init.uniform_(self.fc3.weight, b=2)\n",
    "        nn.init.uniform_(self.fc3.bias, a=-1)\n",
    "\n",
    "    def forward(self, x):\n",
    "        x = self.fc1(x)\n",
    "        x = self.act1(x)\n",
    "        x = self.dp1(x)\n",
    "        x = self.fc2(x)\n",
    "        x = self.act2(x)\n",
    "        x = self.dp2(x)\n",
    "        x = self.fc3(x)\n",
    "        x = self.act3(x)\n",
    "        return x\n",
    "\n",
    "    \n",
    "num_epochs = 4000\n",
    "best_rmse2 = 10000\n",
    "valid_preds_best2 = 0\n",
    "best_Dropout = 0   \n",
    "    \n",
    "for dp in range(4, 10, 1): \n",
    "\n",
    "    net = Net(11, 20, 20, 1, dp) \n",
    "    optimizer = torch.optim.Adam(net.parameters(), lr=0.05)\n",
    "    loss = nn.L1Loss()# инициализируйте функцию потерь\n",
    "\n",
    "    batch_size = 150\n",
    "\n",
    "    num_batches = ceil(len(x_train_1_tensor)/batch_size)\n",
    "\n",
    "    for epoch in range(num_epochs):\n",
    "        order = np.random.permutation(len(x_train_1_tensor))# создайте случайную перестановку индексов объектов\n",
    "        for batch_idx in range(num_batches):\n",
    "            start_index = batch_idx * batch_size# посчитайте номер стартового объекта батча\n",
    "            optimizer.zero_grad()\n",
    "  \n",
    "            batch_indexes = order[start_index:start_index+batch_size]# извлеките индексы объектов текущего обатча\n",
    "            X_batch = x_train_tensor[batch_indexes]\n",
    "            y_batch = y_train_tensor[batch_indexes]\n",
    "  \n",
    "            preds = net.forward(X_batch).flatten()\n",
    "             \n",
    "            loss_value = loss(preds, y_batch)\n",
    "\n",
    "            loss_value.backward()\n",
    "            \n",
    "            optimizer.step()  \n",
    "   \n",
    "        if epoch % 100 == 0 or epoch == num_epochs - 1:\n",
    "             net.eval()\n",
    "             valid_preds = net.forward(x_valid_tensor).flatten()\n",
    "        \n",
    "             rmse = mse()**0.5\n",
    "             RMSE = rmse(valid_preds, y_valid_tensor)\n",
    "    \n",
    "             print(RMSE)\n",
    "        \n",
    "        if best_rmse2 > RMSE:\n",
    "            best_rmse2 = torch.round(RMSE)\n",
    "            valid_preds_best2 = torch.round(valid_preds)\n",
    "            best_Dropout = dp/10       \n"
   ]
  },
  {
   "cell_type": "code",
   "execution_count": 57,
   "metadata": {},
   "outputs": [
    {
     "name": "stdout",
     "output_type": "stream",
     "text": [
      "\n",
      "Лучшее RMSE:  tensor(2628., grad_fn=<RoundBackward0>)\n",
      "\n",
      "Лучшее предсказание:  tensor([12836., 12836.,  3544., 27232., 12836.,  3538., 15094., 25164.,  3150.,\n",
      "         5569., 19565., 34706., 24394., 26229., 25431.,  3548.,  3736.,  3552.,\n",
      "         3146.,  3536., 22106.,  3147., 12837., 13144., 24030., 12836.,  3564.,\n",
      "        12768.,  3146.,  3147., 29268.,  3138.,  3148.,  3099.,  3147.,  5297.,\n",
      "        13045., 27158.,  3149.], grad_fn=<RoundBackward0>)\n",
      "\n",
      "Тестовые данные:  tensor([14520.,  9675.,  3129., 18000., 13420.,  3304., 12990., 24490.,  2983.,\n",
      "         4526., 16390., 38234., 23092., 25070., 26373.,  3091.,  3575.,  3441.,\n",
      "         2650.,  3243., 19923.,  3432., 11900., 23440., 23678., 17200.,  3257.,\n",
      "        12749.,  3419.,  2840., 30000.,  2600.,  2861.,  3531.,  3511.,  5112.,\n",
      "        14732., 28700.,  2831.])\n",
      "\n",
      "Лучший гиперпараметр Dropout:  0.6\n"
     ]
    }
   ],
   "source": [
    "print()        \n",
    "print('Лучшее RMSE: ', best_rmse2)\n",
    "print()\n",
    "print('Лучшее предсказание: ', valid_preds_best2)\n",
    "print()\n",
    "print('Тестовые данные: ', y_valid_tensor) \n",
    "print()\n",
    "print('Лучший гиперпараметр Dropout: ', best_Dropout) \n"
   ]
  },
  {
   "cell_type": "markdown",
   "metadata": {},
   "source": [
    "<div class=\"alert alert-warning\">\n",
    "<b>Комментарий ревьюера ⚠️:</b> Класс из цикла вынеси, пожалуйста:) Просто передавай параметр dp в класс и все</div>"
   ]
  },
  {
   "cell_type": "markdown",
   "metadata": {},
   "source": [
    "<div class=\"alert alert-info\"> <b>Комментарий студента:</b> Сделано</div>"
   ]
  },
  {
   "cell_type": "markdown",
   "metadata": {},
   "source": [
    "Проверим работу нейросети с размером батча 150 и параметра Dropout 0.6. Так же посмотрим с обучением на этой же выборке, или полной выборке."
   ]
  },
  {
   "cell_type": "markdown",
   "metadata": {},
   "source": [
    "#### Обучение на меньшей тренировочной выборке"
   ]
  },
  {
   "cell_type": "code",
   "execution_count": 58,
   "metadata": {},
   "outputs": [
    {
     "name": "stdout",
     "output_type": "stream",
     "text": [
      "tensor(15730.5400, grad_fn=<PowBackward0>)\n",
      "tensor(13335.3643, grad_fn=<PowBackward0>)\n",
      "tensor(13069.1045, grad_fn=<PowBackward0>)\n",
      "tensor(11653.5732, grad_fn=<PowBackward0>)\n",
      "tensor(10335.9424, grad_fn=<PowBackward0>)\n",
      "tensor(9126.3076, grad_fn=<PowBackward0>)\n",
      "tensor(9130.3154, grad_fn=<PowBackward0>)\n",
      "tensor(8700.1543, grad_fn=<PowBackward0>)\n",
      "tensor(8594.2852, grad_fn=<PowBackward0>)\n",
      "tensor(8576.1611, grad_fn=<PowBackward0>)\n",
      "tensor(8907.8291, grad_fn=<PowBackward0>)\n",
      "tensor(7875.4297, grad_fn=<PowBackward0>)\n",
      "tensor(7788.3540, grad_fn=<PowBackward0>)\n",
      "tensor(7717.4346, grad_fn=<PowBackward0>)\n",
      "tensor(7584.2891, grad_fn=<PowBackward0>)\n",
      "tensor(7911.7529, grad_fn=<PowBackward0>)\n",
      "tensor(7935.0693, grad_fn=<PowBackward0>)\n",
      "tensor(7632.7144, grad_fn=<PowBackward0>)\n",
      "tensor(7113.7334, grad_fn=<PowBackward0>)\n",
      "tensor(7258.6504, grad_fn=<PowBackward0>)\n",
      "tensor(7531.2349, grad_fn=<PowBackward0>)\n",
      "tensor(7575.5015, grad_fn=<PowBackward0>)\n",
      "tensor(7046.1899, grad_fn=<PowBackward0>)\n",
      "tensor(7115.8901, grad_fn=<PowBackward0>)\n",
      "tensor(7387.7607, grad_fn=<PowBackward0>)\n",
      "tensor(7266.7490, grad_fn=<PowBackward0>)\n",
      "tensor(7596.2764, grad_fn=<PowBackward0>)\n",
      "tensor(6801.2856, grad_fn=<PowBackward0>)\n",
      "tensor(7443.7397, grad_fn=<PowBackward0>)\n",
      "tensor(6730.3857, grad_fn=<PowBackward0>)\n",
      "tensor(7083.6465, grad_fn=<PowBackward0>)\n",
      "tensor(7370.4351, grad_fn=<PowBackward0>)\n",
      "tensor(8008.3823, grad_fn=<PowBackward0>)\n",
      "tensor(7113.8164, grad_fn=<PowBackward0>)\n",
      "tensor(7424.8281, grad_fn=<PowBackward0>)\n",
      "tensor(7103.8887, grad_fn=<PowBackward0>)\n",
      "tensor(7399.8892, grad_fn=<PowBackward0>)\n",
      "tensor(7259.8950, grad_fn=<PowBackward0>)\n",
      "tensor(7067.8193, grad_fn=<PowBackward0>)\n",
      "tensor(7107.6187, grad_fn=<PowBackward0>)\n",
      "tensor(7448.2817, grad_fn=<PowBackward0>)\n",
      "tensor(6911.8091, grad_fn=<PowBackward0>)\n",
      "tensor(7372.4741, grad_fn=<PowBackward0>)\n",
      "tensor(6899.3018, grad_fn=<PowBackward0>)\n",
      "tensor(6784.5449, grad_fn=<PowBackward0>)\n",
      "tensor(6801.1948, grad_fn=<PowBackward0>)\n",
      "tensor(6792.2251, grad_fn=<PowBackward0>)\n",
      "tensor(6921.7896, grad_fn=<PowBackward0>)\n",
      "tensor(7298.0952, grad_fn=<PowBackward0>)\n",
      "tensor(6819.4536, grad_fn=<PowBackward0>)\n",
      "tensor(7152.6172, grad_fn=<PowBackward0>)\n",
      "tensor(6994.2969, grad_fn=<PowBackward0>)\n",
      "tensor(6486.7988, grad_fn=<PowBackward0>)\n",
      "tensor(6437.2246, grad_fn=<PowBackward0>)\n",
      "tensor(6886.4438, grad_fn=<PowBackward0>)\n",
      "tensor(7379.2710, grad_fn=<PowBackward0>)\n",
      "tensor(6851.8247, grad_fn=<PowBackward0>)\n",
      "tensor(6548.6636, grad_fn=<PowBackward0>)\n",
      "tensor(6902.7358, grad_fn=<PowBackward0>)\n",
      "tensor(6724.2012, grad_fn=<PowBackward0>)\n",
      "tensor(6652.1548, grad_fn=<PowBackward0>)\n",
      "tensor(6553.7676, grad_fn=<PowBackward0>)\n",
      "tensor(6617.0596, grad_fn=<PowBackward0>)\n",
      "tensor(6724.8623, grad_fn=<PowBackward0>)\n",
      "tensor(6764.6914, grad_fn=<PowBackward0>)\n",
      "tensor(6450.0527, grad_fn=<PowBackward0>)\n",
      "tensor(6432.5234, grad_fn=<PowBackward0>)\n",
      "tensor(6394.4497, grad_fn=<PowBackward0>)\n",
      "tensor(6519.7339, grad_fn=<PowBackward0>)\n",
      "tensor(7143.3223, grad_fn=<PowBackward0>)\n",
      "tensor(6910.2563, grad_fn=<PowBackward0>)\n",
      "tensor(6518.5840, grad_fn=<PowBackward0>)\n",
      "tensor(6824.7959, grad_fn=<PowBackward0>)\n",
      "tensor(6453.1079, grad_fn=<PowBackward0>)\n",
      "tensor(6290.0112, grad_fn=<PowBackward0>)\n",
      "tensor(6703.5938, grad_fn=<PowBackward0>)\n",
      "tensor(6340.3369, grad_fn=<PowBackward0>)\n",
      "tensor(6597.3179, grad_fn=<PowBackward0>)\n",
      "tensor(6468.1465, grad_fn=<PowBackward0>)\n",
      "tensor(6149.8511, grad_fn=<PowBackward0>)\n",
      "tensor(6392.2720, grad_fn=<PowBackward0>)\n",
      "tensor(6240.6626, grad_fn=<PowBackward0>)\n",
      "tensor(6160.4004, grad_fn=<PowBackward0>)\n",
      "tensor(6488.2812, grad_fn=<PowBackward0>)\n",
      "tensor(6221.7910, grad_fn=<PowBackward0>)\n",
      "tensor(5958.4639, grad_fn=<PowBackward0>)\n",
      "tensor(6093.7520, grad_fn=<PowBackward0>)\n",
      "tensor(6172.8345, grad_fn=<PowBackward0>)\n",
      "tensor(6734.0376, grad_fn=<PowBackward0>)\n",
      "tensor(6231.1597, grad_fn=<PowBackward0>)\n",
      "tensor(6270.8599, grad_fn=<PowBackward0>)\n",
      "tensor(6305.1260, grad_fn=<PowBackward0>)\n",
      "tensor(5938.1201, grad_fn=<PowBackward0>)\n",
      "tensor(6655.0508, grad_fn=<PowBackward0>)\n",
      "tensor(6732.0718, grad_fn=<PowBackward0>)\n",
      "tensor(6197.2852, grad_fn=<PowBackward0>)\n",
      "tensor(7006.9624, grad_fn=<PowBackward0>)\n",
      "tensor(6448.5220, grad_fn=<PowBackward0>)\n",
      "tensor(6920.3438, grad_fn=<PowBackward0>)\n",
      "tensor(6655.2759, grad_fn=<PowBackward0>)\n",
      "tensor(6607.9116, grad_fn=<PowBackward0>)\n",
      "tensor(6492.2749, grad_fn=<PowBackward0>)\n",
      "tensor(6117.8350, grad_fn=<PowBackward0>)\n",
      "tensor(6253.0264, grad_fn=<PowBackward0>)\n",
      "tensor(6329.6323, grad_fn=<PowBackward0>)\n",
      "tensor(6258.3994, grad_fn=<PowBackward0>)\n",
      "tensor(6539.0635, grad_fn=<PowBackward0>)\n",
      "tensor(6338.8931, grad_fn=<PowBackward0>)\n",
      "tensor(5986.6284, grad_fn=<PowBackward0>)\n",
      "tensor(6566.1680, grad_fn=<PowBackward0>)\n",
      "tensor(6986.9756, grad_fn=<PowBackward0>)\n",
      "tensor(6255.6782, grad_fn=<PowBackward0>)\n",
      "tensor(6591.2080, grad_fn=<PowBackward0>)\n",
      "tensor(6320.0566, grad_fn=<PowBackward0>)\n",
      "tensor(6505.5962, grad_fn=<PowBackward0>)\n",
      "tensor(6542.6323, grad_fn=<PowBackward0>)\n",
      "tensor(6449.9468, grad_fn=<PowBackward0>)\n",
      "tensor(6475.5073, grad_fn=<PowBackward0>)\n",
      "tensor(6604.2861, grad_fn=<PowBackward0>)\n",
      "tensor(6549.3506, grad_fn=<PowBackward0>)\n",
      "tensor(6274.7505, grad_fn=<PowBackward0>)\n",
      "tensor(6251.9224, grad_fn=<PowBackward0>)\n",
      "tensor(6535.1533, grad_fn=<PowBackward0>)\n",
      "tensor(6414.6172, grad_fn=<PowBackward0>)\n",
      "tensor(6351.0327, grad_fn=<PowBackward0>)\n",
      "tensor(6047.8257, grad_fn=<PowBackward0>)\n",
      "tensor(6177.4453, grad_fn=<PowBackward0>)\n",
      "tensor(6312.3447, grad_fn=<PowBackward0>)\n",
      "tensor(6169.4321, grad_fn=<PowBackward0>)\n",
      "tensor(6609.9141, grad_fn=<PowBackward0>)\n",
      "tensor(6232.9087, grad_fn=<PowBackward0>)\n",
      "tensor(7254.0039, grad_fn=<PowBackward0>)\n",
      "tensor(7191.1299, grad_fn=<PowBackward0>)\n",
      "tensor(6678.0659, grad_fn=<PowBackward0>)\n",
      "tensor(6500.9160, grad_fn=<PowBackward0>)\n",
      "tensor(6577.2422, grad_fn=<PowBackward0>)\n",
      "tensor(6058.9888, grad_fn=<PowBackward0>)\n",
      "tensor(6219.0322, grad_fn=<PowBackward0>)\n",
      "tensor(7352.8423, grad_fn=<PowBackward0>)\n",
      "tensor(7284.2803, grad_fn=<PowBackward0>)\n",
      "tensor(6917.0562, grad_fn=<PowBackward0>)\n",
      "tensor(6935.1831, grad_fn=<PowBackward0>)\n",
      "tensor(7230.8330, grad_fn=<PowBackward0>)\n",
      "tensor(6863.9468, grad_fn=<PowBackward0>)\n",
      "tensor(6632.8726, grad_fn=<PowBackward0>)\n",
      "tensor(5906.2534, grad_fn=<PowBackward0>)\n",
      "tensor(6635.9766, grad_fn=<PowBackward0>)\n",
      "tensor(6750.0010, grad_fn=<PowBackward0>)\n",
      "tensor(6691.3545, grad_fn=<PowBackward0>)\n",
      "tensor(6502.3628, grad_fn=<PowBackward0>)\n",
      "tensor(6673.3926, grad_fn=<PowBackward0>)\n",
      "tensor(6766.4438, grad_fn=<PowBackward0>)\n",
      "tensor(5918.2412, grad_fn=<PowBackward0>)\n",
      "tensor(6548.9487, grad_fn=<PowBackward0>)\n",
      "tensor(6801.8276, grad_fn=<PowBackward0>)\n",
      "tensor(6039.6250, grad_fn=<PowBackward0>)\n",
      "tensor(6751.6494, grad_fn=<PowBackward0>)\n",
      "tensor(6791.5586, grad_fn=<PowBackward0>)\n",
      "tensor(6119.7505, grad_fn=<PowBackward0>)\n",
      "tensor(6822.2788, grad_fn=<PowBackward0>)\n",
      "tensor(6587.3262, grad_fn=<PowBackward0>)\n",
      "tensor(6211.4326, grad_fn=<PowBackward0>)\n",
      "tensor(6048.3989, grad_fn=<PowBackward0>)\n",
      "tensor(5917.0791, grad_fn=<PowBackward0>)\n",
      "tensor(5884.6978, grad_fn=<PowBackward0>)\n",
      "tensor(6440.0454, grad_fn=<PowBackward0>)\n",
      "tensor(6712.4683, grad_fn=<PowBackward0>)\n",
      "tensor(6470.7437, grad_fn=<PowBackward0>)\n",
      "tensor(6472.6206, grad_fn=<PowBackward0>)\n",
      "tensor(5974.3286, grad_fn=<PowBackward0>)\n",
      "tensor(6404.2695, grad_fn=<PowBackward0>)\n",
      "tensor(7083.0459, grad_fn=<PowBackward0>)\n",
      "tensor(6615.7852, grad_fn=<PowBackward0>)\n",
      "tensor(7069.4688, grad_fn=<PowBackward0>)\n",
      "tensor(6351.6084, grad_fn=<PowBackward0>)\n",
      "tensor(5990.2578, grad_fn=<PowBackward0>)\n",
      "tensor(7179.0132, grad_fn=<PowBackward0>)\n",
      "tensor(7048.7241, grad_fn=<PowBackward0>)\n",
      "tensor(6562.2754, grad_fn=<PowBackward0>)\n",
      "tensor(6442.8071, grad_fn=<PowBackward0>)\n",
      "tensor(6463.9116, grad_fn=<PowBackward0>)\n",
      "tensor(6539.6187, grad_fn=<PowBackward0>)\n",
      "tensor(6844.7095, grad_fn=<PowBackward0>)\n",
      "tensor(6631.8623, grad_fn=<PowBackward0>)\n",
      "tensor(6398.0493, grad_fn=<PowBackward0>)\n",
      "tensor(5860.7476, grad_fn=<PowBackward0>)\n",
      "tensor(6685.0415, grad_fn=<PowBackward0>)\n",
      "tensor(6739.5376, grad_fn=<PowBackward0>)\n",
      "tensor(6702.3745, grad_fn=<PowBackward0>)\n",
      "tensor(6961.5137, grad_fn=<PowBackward0>)\n",
      "tensor(6491.6831, grad_fn=<PowBackward0>)\n",
      "tensor(6619.0928, grad_fn=<PowBackward0>)\n",
      "tensor(6757.9043, grad_fn=<PowBackward0>)\n",
      "tensor(6546.3887, grad_fn=<PowBackward0>)\n",
      "tensor(6668.0215, grad_fn=<PowBackward0>)\n",
      "tensor(6785.3501, grad_fn=<PowBackward0>)\n",
      "tensor(7188.5513, grad_fn=<PowBackward0>)\n"
     ]
    },
    {
     "name": "stdout",
     "output_type": "stream",
     "text": [
      "tensor(6847.4238, grad_fn=<PowBackward0>)\n",
      "tensor(7074.0708, grad_fn=<PowBackward0>)\n",
      "tensor(6872.1846, grad_fn=<PowBackward0>)\n",
      "tensor(7181.0713, grad_fn=<PowBackward0>)\n"
     ]
    }
   ],
   "source": [
    "random.seed(0)\n",
    "np.random.seed(0)\n",
    "torch.manual_seed(0)\n",
    "torch.use_deterministic_algorithms(True)\n",
    "\n",
    "class Net(nn.Module):\n",
    "    def __init__(self, n_in_neurons, n_hidden_neurons_1, n_hidden_neurons_2, n_out_neurons, dp):\n",
    "        super(Net, self).__init__()\n",
    "        self.fc1 = nn.Linear(n_in_neurons, n_hidden_neurons_1)\n",
    "        self.act1 = nn.Tanh()\n",
    "        self.dp1 = nn.Dropout(p=dp)\n",
    "        self.fc2 = nn.Linear(n_hidden_neurons_1, n_hidden_neurons_2)\n",
    "        self.act2 = nn.ReLU()\n",
    "        self.dp2 = nn.Dropout(p=dp)    \n",
    "        self.fc3 = nn.Linear(n_hidden_neurons_2, n_out_neurons)        \n",
    "        self.act3 = nn.ReLU()\n",
    "        \n",
    "         # Инициализация весов\n",
    "        nn.init.uniform_(self.fc1.weight, a=-1, b=1)\n",
    "        nn.init.uniform_(self.fc1.bias, a=-1, b=3)\n",
    "        nn.init.uniform_(self.fc2.weight, b=3)\n",
    "        nn.init.uniform_(self.fc2.bias, a=-1)\n",
    "        nn.init.uniform_(self.fc3.weight, b=2)\n",
    "        nn.init.uniform_(self.fc3.bias, a=-1)\n",
    "\n",
    "    def forward(self, x):\n",
    "        x = self.fc1(x)\n",
    "        x = self.act1(x)\n",
    "        x = self.dp1(x)\n",
    "        x = self.fc2(x)\n",
    "        x = self.act2(x)\n",
    "        x = self.dp2(x)\n",
    "        x = self.fc3(x)\n",
    "        x = self.act3(x)\n",
    "        return x\n",
    "\n",
    "    \n",
    "num_epochs = 4000\n",
    "best_rmse5 = 10000\n",
    "test_preds_best5 = 0\n",
    "dp = 0.6\n",
    "    \n",
    "net = Net(11, 20, 20, 1, dp) \n",
    "optimizer = torch.optim.Adam(net.parameters(), lr=0.05)\n",
    "loss = nn.L1Loss()# инициализируйте функцию потерь\n",
    "\n",
    "batch_size = 150\n",
    "\n",
    "num_batches = ceil(len(x_train_1_tensor)/batch_size)\n",
    "\n",
    "for epoch in range(num_epochs):\n",
    "    order = np.random.permutation(len(x_train_1_tensor))# создайте случайную перестановку индексов объектов\n",
    "    for batch_idx in range(num_batches):\n",
    "        start_index = batch_idx * batch_size# посчитайте номер стартового объекта батча\n",
    "        optimizer.zero_grad()\n",
    "  \n",
    "        batch_indexes = order[start_index:start_index+batch_size]# извлеките индексы объектов текущего обатча\n",
    "        X_batch = x_train_tensor[batch_indexes]\n",
    "        y_batch = y_train_tensor[batch_indexes]\n",
    "  \n",
    "        preds = net.forward(X_batch).flatten()\n",
    "             \n",
    "        loss_value = loss(preds, y_batch)\n",
    "\n",
    "        loss_value.backward()\n",
    "            \n",
    "        optimizer.step()  \n",
    "   \n",
    "    if epoch % 20 == 0 or epoch == num_epochs - 1:\n",
    "        net.eval()\n",
    "        test_preds = net.forward(x_test_tensor).flatten()\n",
    "        \n",
    "        rmse = mse()**0.5\n",
    "        RMSE = rmse(test_preds, y_test_tensor)\n",
    "    \n",
    "        print(RMSE)\n",
    "        \n",
    "    if best_rmse5 > RMSE:\n",
    "        best_rmse5 = torch.round(RMSE)\n",
    "        test_preds_best5 = torch.round(test_preds)     "
   ]
  },
  {
   "cell_type": "code",
   "execution_count": 59,
   "metadata": {},
   "outputs": [
    {
     "name": "stdout",
     "output_type": "stream",
     "text": [
      "\n",
      "Лучшее RMSE:  tensor(5861., grad_fn=<RoundBackward0>)\n",
      "\n",
      "Лучшее предсказание:  tensor([19798., 34713., 12910.,  3544., 12911.,  3116., 16158., 14734., 19925.,\n",
      "         3545., 20421.,  5288.,  3477., 14283.,  3506., 12926., 12919.,  3596.,\n",
      "        13811.,  3120., 26828., 21031., 23688.,  5473., 12653., 24244., 36812.,\n",
      "        22093., 19861.,  3491.,  3545., 18717.,  3669., 19884.,  3545.,  3123.,\n",
      "         3544.,  3545.,  3544.,  3465.,  3544., 34762.,  3122.,  3121.,  3122.,\n",
      "        20149.,  6185., 13317.], grad_fn=<RoundBackward0>)\n",
      "\n",
      "Тестовые данные:  tensor([32489., 39000.,  9320.,  3834.,  9030.,  3218., 22012., 11250., 19860.,\n",
      "         3574., 18340.,  3614.,  3150.,  8250.,  3100., 25000.,  8945.,  3459.,\n",
      "         9700.,  2945., 27739., 17120., 11096.,  4980., 30839., 11000., 29560.,\n",
      "        16787.,  5752.,  3462.,  3826., 19360.,  3607., 24630.,  3615.,  2700.,\n",
      "         3570.,  3450.,  3490.,  2799.,  3650., 37800.,  2889.,  2774.,  3323.,\n",
      "        33421.,  7700., 13023.])\n"
     ]
    }
   ],
   "source": [
    "print()        \n",
    "print('Лучшее RMSE: ', best_rmse5)\n",
    "print()\n",
    "print('Лучшее предсказание: ', test_preds_best5)\n",
    "print()\n",
    "print('Тестовые данные: ', y_test_tensor)"
   ]
  },
  {
   "cell_type": "markdown",
   "metadata": {},
   "source": [
    "#### Обучение на большей тренеровочной выборке - np.random.seed(0)"
   ]
  },
  {
   "cell_type": "code",
   "execution_count": 60,
   "metadata": {},
   "outputs": [
    {
     "name": "stdout",
     "output_type": "stream",
     "text": [
      "tensor(15723.7246, grad_fn=<PowBackward0>)\n",
      "tensor(13069.7031, grad_fn=<PowBackward0>)\n",
      "tensor(12313.0195, grad_fn=<PowBackward0>)\n",
      "tensor(10289.9424, grad_fn=<PowBackward0>)\n",
      "tensor(9279.9961, grad_fn=<PowBackward0>)\n",
      "tensor(8652.6729, grad_fn=<PowBackward0>)\n",
      "tensor(7735.6001, grad_fn=<PowBackward0>)\n",
      "tensor(7593.7617, grad_fn=<PowBackward0>)\n",
      "tensor(7379.7725, grad_fn=<PowBackward0>)\n",
      "tensor(7152.4141, grad_fn=<PowBackward0>)\n",
      "tensor(7067.0332, grad_fn=<PowBackward0>)\n",
      "tensor(7058.4507, grad_fn=<PowBackward0>)\n",
      "tensor(6884.6655, grad_fn=<PowBackward0>)\n",
      "tensor(6917.8320, grad_fn=<PowBackward0>)\n",
      "tensor(6788.5493, grad_fn=<PowBackward0>)\n",
      "tensor(6750.3696, grad_fn=<PowBackward0>)\n",
      "tensor(6570.9600, grad_fn=<PowBackward0>)\n",
      "tensor(6642.0874, grad_fn=<PowBackward0>)\n",
      "tensor(6513.6577, grad_fn=<PowBackward0>)\n",
      "tensor(6579.0425, grad_fn=<PowBackward0>)\n",
      "tensor(6443.2534, grad_fn=<PowBackward0>)\n",
      "tensor(5904.4946, grad_fn=<PowBackward0>)\n",
      "tensor(5816.2300, grad_fn=<PowBackward0>)\n",
      "tensor(5827.3467, grad_fn=<PowBackward0>)\n",
      "tensor(5789.6494, grad_fn=<PowBackward0>)\n",
      "tensor(5825.4951, grad_fn=<PowBackward0>)\n",
      "tensor(5675.9697, grad_fn=<PowBackward0>)\n",
      "tensor(5683.3687, grad_fn=<PowBackward0>)\n",
      "tensor(5459.5576, grad_fn=<PowBackward0>)\n",
      "tensor(5358.8198, grad_fn=<PowBackward0>)\n",
      "tensor(5284.2607, grad_fn=<PowBackward0>)\n",
      "tensor(5346.3833, grad_fn=<PowBackward0>)\n",
      "tensor(5264.2700, grad_fn=<PowBackward0>)\n",
      "tensor(5187.0425, grad_fn=<PowBackward0>)\n",
      "tensor(5153.9868, grad_fn=<PowBackward0>)\n",
      "tensor(5183.9502, grad_fn=<PowBackward0>)\n",
      "tensor(5037.9653, grad_fn=<PowBackward0>)\n",
      "tensor(5031.1279, grad_fn=<PowBackward0>)\n",
      "tensor(4893.9180, grad_fn=<PowBackward0>)\n",
      "tensor(4988.6353, grad_fn=<PowBackward0>)\n",
      "tensor(5154.8081, grad_fn=<PowBackward0>)\n",
      "tensor(4968.3608, grad_fn=<PowBackward0>)\n",
      "tensor(4807.3789, grad_fn=<PowBackward0>)\n",
      "tensor(5036.0293, grad_fn=<PowBackward0>)\n",
      "tensor(4815.9419, grad_fn=<PowBackward0>)\n",
      "tensor(4886.8916, grad_fn=<PowBackward0>)\n",
      "tensor(4934.2539, grad_fn=<PowBackward0>)\n",
      "tensor(5017.0093, grad_fn=<PowBackward0>)\n",
      "tensor(4681.6362, grad_fn=<PowBackward0>)\n",
      "tensor(4757.5044, grad_fn=<PowBackward0>)\n",
      "tensor(4726.3149, grad_fn=<PowBackward0>)\n",
      "tensor(4787.5176, grad_fn=<PowBackward0>)\n",
      "tensor(4835.4072, grad_fn=<PowBackward0>)\n",
      "tensor(4951.7236, grad_fn=<PowBackward0>)\n",
      "tensor(4663.9463, grad_fn=<PowBackward0>)\n",
      "tensor(4702.8555, grad_fn=<PowBackward0>)\n",
      "tensor(4710.4038, grad_fn=<PowBackward0>)\n",
      "tensor(4805.2788, grad_fn=<PowBackward0>)\n",
      "tensor(4689.9624, grad_fn=<PowBackward0>)\n",
      "tensor(4810.0674, grad_fn=<PowBackward0>)\n",
      "tensor(4804.0107, grad_fn=<PowBackward0>)\n",
      "tensor(4618.2246, grad_fn=<PowBackward0>)\n",
      "tensor(4796.9629, grad_fn=<PowBackward0>)\n",
      "tensor(5310.2959, grad_fn=<PowBackward0>)\n",
      "tensor(4887.7163, grad_fn=<PowBackward0>)\n",
      "tensor(4994.9102, grad_fn=<PowBackward0>)\n",
      "tensor(5006.8018, grad_fn=<PowBackward0>)\n",
      "tensor(5078.2588, grad_fn=<PowBackward0>)\n",
      "tensor(4916.9043, grad_fn=<PowBackward0>)\n",
      "tensor(5126.6294, grad_fn=<PowBackward0>)\n",
      "tensor(5119.3838, grad_fn=<PowBackward0>)\n",
      "tensor(5221.7583, grad_fn=<PowBackward0>)\n",
      "tensor(4863.6001, grad_fn=<PowBackward0>)\n",
      "tensor(4707.7856, grad_fn=<PowBackward0>)\n",
      "tensor(5356.3667, grad_fn=<PowBackward0>)\n",
      "tensor(5276.4229, grad_fn=<PowBackward0>)\n",
      "tensor(5000.5254, grad_fn=<PowBackward0>)\n",
      "tensor(5271.5801, grad_fn=<PowBackward0>)\n",
      "tensor(5190.4736, grad_fn=<PowBackward0>)\n",
      "tensor(5475.2192, grad_fn=<PowBackward0>)\n",
      "tensor(5307.2939, grad_fn=<PowBackward0>)\n",
      "tensor(5397.6401, grad_fn=<PowBackward0>)\n",
      "tensor(4995.3979, grad_fn=<PowBackward0>)\n",
      "tensor(5238.4272, grad_fn=<PowBackward0>)\n",
      "tensor(4993.8311, grad_fn=<PowBackward0>)\n",
      "tensor(5326.7441, grad_fn=<PowBackward0>)\n",
      "tensor(5171.5610, grad_fn=<PowBackward0>)\n",
      "tensor(5448.6655, grad_fn=<PowBackward0>)\n",
      "tensor(5244.5918, grad_fn=<PowBackward0>)\n",
      "tensor(5346.2529, grad_fn=<PowBackward0>)\n",
      "tensor(5461.1060, grad_fn=<PowBackward0>)\n",
      "tensor(5453.4727, grad_fn=<PowBackward0>)\n",
      "tensor(5259.1997, grad_fn=<PowBackward0>)\n",
      "tensor(4929.1631, grad_fn=<PowBackward0>)\n",
      "tensor(5028.5366, grad_fn=<PowBackward0>)\n",
      "tensor(5228.8579, grad_fn=<PowBackward0>)\n",
      "tensor(4946.7637, grad_fn=<PowBackward0>)\n",
      "tensor(5084.8882, grad_fn=<PowBackward0>)\n",
      "tensor(5239.2769, grad_fn=<PowBackward0>)\n",
      "tensor(4965.3359, grad_fn=<PowBackward0>)\n",
      "tensor(5157.8184, grad_fn=<PowBackward0>)\n",
      "tensor(4944.8945, grad_fn=<PowBackward0>)\n",
      "tensor(4822.6685, grad_fn=<PowBackward0>)\n",
      "tensor(5173.4453, grad_fn=<PowBackward0>)\n",
      "tensor(5260.2051, grad_fn=<PowBackward0>)\n",
      "tensor(5165.7056, grad_fn=<PowBackward0>)\n",
      "tensor(5261.3994, grad_fn=<PowBackward0>)\n",
      "tensor(5018.9155, grad_fn=<PowBackward0>)\n",
      "tensor(5449.2051, grad_fn=<PowBackward0>)\n",
      "tensor(5052.2690, grad_fn=<PowBackward0>)\n",
      "tensor(5207.1343, grad_fn=<PowBackward0>)\n",
      "tensor(4994.0361, grad_fn=<PowBackward0>)\n",
      "tensor(5221.6958, grad_fn=<PowBackward0>)\n",
      "tensor(5087.1743, grad_fn=<PowBackward0>)\n",
      "tensor(5111.5942, grad_fn=<PowBackward0>)\n",
      "tensor(5105.2681, grad_fn=<PowBackward0>)\n",
      "tensor(5250.8843, grad_fn=<PowBackward0>)\n",
      "tensor(5071.6958, grad_fn=<PowBackward0>)\n",
      "tensor(5148.3979, grad_fn=<PowBackward0>)\n",
      "tensor(4972.6460, grad_fn=<PowBackward0>)\n",
      "tensor(5035.5181, grad_fn=<PowBackward0>)\n",
      "tensor(5082.5312, grad_fn=<PowBackward0>)\n",
      "tensor(4965.1362, grad_fn=<PowBackward0>)\n",
      "tensor(5047.1387, grad_fn=<PowBackward0>)\n",
      "tensor(5028.6733, grad_fn=<PowBackward0>)\n",
      "tensor(4996.0366, grad_fn=<PowBackward0>)\n",
      "tensor(4875.7354, grad_fn=<PowBackward0>)\n",
      "tensor(5084.0820, grad_fn=<PowBackward0>)\n",
      "tensor(4976.9409, grad_fn=<PowBackward0>)\n",
      "tensor(5319.5718, grad_fn=<PowBackward0>)\n",
      "tensor(5144.3608, grad_fn=<PowBackward0>)\n",
      "tensor(5388.7466, grad_fn=<PowBackward0>)\n",
      "tensor(4905.6270, grad_fn=<PowBackward0>)\n",
      "tensor(5423.2988, grad_fn=<PowBackward0>)\n",
      "tensor(5254.5601, grad_fn=<PowBackward0>)\n",
      "tensor(5148.5366, grad_fn=<PowBackward0>)\n",
      "tensor(5189.6445, grad_fn=<PowBackward0>)\n",
      "tensor(5105.8164, grad_fn=<PowBackward0>)\n",
      "tensor(4955.7441, grad_fn=<PowBackward0>)\n",
      "tensor(5186.4829, grad_fn=<PowBackward0>)\n",
      "tensor(5148.8501, grad_fn=<PowBackward0>)\n",
      "tensor(5110.9819, grad_fn=<PowBackward0>)\n",
      "tensor(5013.5532, grad_fn=<PowBackward0>)\n",
      "tensor(5138.8047, grad_fn=<PowBackward0>)\n",
      "tensor(5060.5796, grad_fn=<PowBackward0>)\n",
      "tensor(4975.4131, grad_fn=<PowBackward0>)\n",
      "tensor(5181.5898, grad_fn=<PowBackward0>)\n",
      "tensor(5034.9370, grad_fn=<PowBackward0>)\n",
      "tensor(5172.9131, grad_fn=<PowBackward0>)\n",
      "tensor(5199.7983, grad_fn=<PowBackward0>)\n",
      "tensor(5114.0923, grad_fn=<PowBackward0>)\n",
      "tensor(5213.2930, grad_fn=<PowBackward0>)\n",
      "tensor(5332.2710, grad_fn=<PowBackward0>)\n",
      "tensor(5175.7114, grad_fn=<PowBackward0>)\n",
      "tensor(5246.5000, grad_fn=<PowBackward0>)\n",
      "tensor(5006.4712, grad_fn=<PowBackward0>)\n",
      "tensor(4952.1201, grad_fn=<PowBackward0>)\n",
      "tensor(5094.5620, grad_fn=<PowBackward0>)\n",
      "tensor(5230.8862, grad_fn=<PowBackward0>)\n",
      "tensor(5012.4717, grad_fn=<PowBackward0>)\n",
      "tensor(5074.3931, grad_fn=<PowBackward0>)\n",
      "tensor(5301.2637, grad_fn=<PowBackward0>)\n",
      "tensor(5015.1006, grad_fn=<PowBackward0>)\n",
      "tensor(5068.6982, grad_fn=<PowBackward0>)\n",
      "tensor(5141.3301, grad_fn=<PowBackward0>)\n",
      "tensor(5106.7598, grad_fn=<PowBackward0>)\n",
      "tensor(4937.9883, grad_fn=<PowBackward0>)\n",
      "tensor(5067.2983, grad_fn=<PowBackward0>)\n",
      "tensor(5145.9028, grad_fn=<PowBackward0>)\n",
      "tensor(4871.0532, grad_fn=<PowBackward0>)\n",
      "tensor(5086.6694, grad_fn=<PowBackward0>)\n",
      "tensor(5008.8984, grad_fn=<PowBackward0>)\n",
      "tensor(4878.3350, grad_fn=<PowBackward0>)\n",
      "tensor(5095.0273, grad_fn=<PowBackward0>)\n",
      "tensor(5185.9561, grad_fn=<PowBackward0>)\n",
      "tensor(5106.8423, grad_fn=<PowBackward0>)\n",
      "tensor(4848.8872, grad_fn=<PowBackward0>)\n",
      "tensor(5042.9404, grad_fn=<PowBackward0>)\n",
      "tensor(4989.6528, grad_fn=<PowBackward0>)\n",
      "tensor(5105.1982, grad_fn=<PowBackward0>)\n",
      "tensor(5179.7974, grad_fn=<PowBackward0>)\n",
      "tensor(5097.5449, grad_fn=<PowBackward0>)\n",
      "tensor(5254.1772, grad_fn=<PowBackward0>)\n",
      "tensor(5081.4668, grad_fn=<PowBackward0>)\n",
      "tensor(5035.2954, grad_fn=<PowBackward0>)\n",
      "tensor(5312.9043, grad_fn=<PowBackward0>)\n",
      "tensor(5131.7344, grad_fn=<PowBackward0>)\n",
      "tensor(5208.8877, grad_fn=<PowBackward0>)\n",
      "tensor(5054.8101, grad_fn=<PowBackward0>)\n",
      "tensor(4955.0137, grad_fn=<PowBackward0>)\n",
      "tensor(4847.3423, grad_fn=<PowBackward0>)\n",
      "tensor(5245.9531, grad_fn=<PowBackward0>)\n",
      "tensor(5195.5581, grad_fn=<PowBackward0>)\n",
      "tensor(5210.5708, grad_fn=<PowBackward0>)\n",
      "tensor(4997.7900, grad_fn=<PowBackward0>)\n"
     ]
    },
    {
     "name": "stdout",
     "output_type": "stream",
     "text": [
      "tensor(5134.1187, grad_fn=<PowBackward0>)\n",
      "tensor(5215.8770, grad_fn=<PowBackward0>)\n",
      "tensor(5412.4951, grad_fn=<PowBackward0>)\n",
      "tensor(5059.2769, grad_fn=<PowBackward0>)\n",
      "tensor(5065.5674, grad_fn=<PowBackward0>)\n",
      "tensor(5240.6309, grad_fn=<PowBackward0>)\n"
     ]
    }
   ],
   "source": [
    "random.seed(0)\n",
    "np.random.seed(0)\n",
    "torch.manual_seed(0)\n",
    "torch.use_deterministic_algorithms(True)\n",
    "\n",
    "class Net(nn.Module):\n",
    "    def __init__(self, n_in_neurons, n_hidden_neurons_1, n_hidden_neurons_2, n_out_neurons, dp):\n",
    "        super(Net, self).__init__()\n",
    "        self.fc1 = nn.Linear(n_in_neurons, n_hidden_neurons_1)\n",
    "        self.act1 = nn.Tanh()\n",
    "        self.dp1 = nn.Dropout(p=dp)\n",
    "        self.fc2 = nn.Linear(n_hidden_neurons_1, n_hidden_neurons_2)\n",
    "        self.act2 = nn.ReLU()\n",
    "        self.dp2 = nn.Dropout(p=dp)    \n",
    "        self.fc3 = nn.Linear(n_hidden_neurons_2, n_out_neurons)        \n",
    "        self.act3 = nn.ReLU()\n",
    "        \n",
    "         # Инициализация весов\n",
    "        nn.init.uniform_(self.fc1.weight, a=-1, b=1)\n",
    "        nn.init.uniform_(self.fc1.bias, a=-1, b=3)\n",
    "        nn.init.uniform_(self.fc2.weight, b=3)\n",
    "        nn.init.uniform_(self.fc2.bias, a=-1)\n",
    "        nn.init.uniform_(self.fc3.weight, b=2)\n",
    "        nn.init.uniform_(self.fc3.bias, a=-1)\n",
    "\n",
    "    def forward(self, x):\n",
    "        x = self.fc1(x)\n",
    "        x = self.act1(x)\n",
    "        x = self.dp1(x)\n",
    "        x = self.fc2(x)\n",
    "        x = self.act2(x)\n",
    "        x = self.dp2(x)\n",
    "        x = self.fc3(x)\n",
    "        x = self.act3(x)\n",
    "        return x\n",
    "\n",
    "    \n",
    "num_epochs = 4000\n",
    "best_rmse7 = 10000\n",
    "test_preds_best7 = 0\n",
    "dp = 0.6\n",
    "    \n",
    "net = Net(11, 20, 20, 1, dp) \n",
    "optimizer = torch.optim.Adam(net.parameters(), lr=0.05)\n",
    "loss = nn.L1Loss()# инициализируйте функцию потерь\n",
    "\n",
    "batch_size = 150\n",
    "\n",
    "num_batches = ceil(len(x_train_tensor)/batch_size)\n",
    "\n",
    "for epoch in range(num_epochs):\n",
    "    order = np.random.permutation(len(x_train_tensor))# создайте случайную перестановку индексов объектов\n",
    "    for batch_idx in range(num_batches):\n",
    "        start_index = batch_idx * batch_size# посчитайте номер стартового объекта батча\n",
    "        optimizer.zero_grad()\n",
    "  \n",
    "        batch_indexes = order[start_index:start_index+batch_size]# извлеките индексы объектов текущего обатча\n",
    "        X_batch = x_train_tensor[batch_indexes]\n",
    "        y_batch = y_train_tensor[batch_indexes]\n",
    "  \n",
    "        preds = net.forward(X_batch).flatten()\n",
    "             \n",
    "        loss_value = loss(preds, y_batch)\n",
    "\n",
    "        loss_value.backward()\n",
    "            \n",
    "        optimizer.step()  \n",
    "   \n",
    "    if epoch % 20 == 0 or epoch == num_epochs - 1:\n",
    "        net.eval()\n",
    "        test_preds = net.forward(x_test_tensor).flatten()\n",
    "        \n",
    "        rmse = mse()**0.5\n",
    "        RMSE = rmse(test_preds, y_test_tensor)\n",
    "    \n",
    "        print(RMSE)\n",
    "        \n",
    "    if best_rmse7 > RMSE:\n",
    "        best_rmse7 = torch.round(RMSE)\n",
    "        test_preds_best7 = torch.round(test_preds)"
   ]
  },
  {
   "cell_type": "code",
   "execution_count": 61,
   "metadata": {},
   "outputs": [
    {
     "name": "stdout",
     "output_type": "stream",
     "text": [
      "\n",
      "Лучшее RMSE:  tensor(4618., grad_fn=<RoundBackward0>)\n",
      "\n",
      "Лучшее предсказание:  tensor([30679., 34250., 11839.,  3495., 11770.,  2863., 15841., 14396., 19092.,\n",
      "         3490., 19535.,  3494.,  3145.,  7499.,  3184., 14034., 12175.,  3542.,\n",
      "         7490.,  2953., 24676., 21394., 21705.,  5679., 26650., 20984., 29046.,\n",
      "        21557., 21858.,  3156.,  3517., 18126.,  3528., 18665.,  3506.,  3034.,\n",
      "         3519.,  3542.,  3504.,  3273.,  3505., 34261.,  3003.,  2987.,  2995.,\n",
      "        19274.,  5094., 13025.], grad_fn=<RoundBackward0>)\n",
      "\n",
      "Тестовые данные:  tensor([32489., 39000.,  9320.,  3834.,  9030.,  3218., 22012., 11250., 19860.,\n",
      "         3574., 18340.,  3614.,  3150.,  8250.,  3100., 25000.,  8945.,  3459.,\n",
      "         9700.,  2945., 27739., 17120., 11096.,  4980., 30839., 11000., 29560.,\n",
      "        16787.,  5752.,  3462.,  3826., 19360.,  3607., 24630.,  3615.,  2700.,\n",
      "         3570.,  3450.,  3490.,  2799.,  3650., 37800.,  2889.,  2774.,  3323.,\n",
      "        33421.,  7700., 13023.])\n"
     ]
    }
   ],
   "source": [
    "print()        \n",
    "print('Лучшее RMSE: ', best_rmse7)\n",
    "print()\n",
    "print('Лучшее предсказание: ', test_preds_best7)\n",
    "print()\n",
    "print('Тестовые данные: ', y_test_tensor)"
   ]
  },
  {
   "cell_type": "markdown",
   "metadata": {},
   "source": [
    "#### Обучение на большей тренеровочной выборке - np.random.seed(19191919)"
   ]
  },
  {
   "cell_type": "code",
   "execution_count": 83,
   "metadata": {},
   "outputs": [
    {
     "name": "stdout",
     "output_type": "stream",
     "text": [
      "tensor(15721.9746, grad_fn=<PowBackward0>)\n",
      "tensor(13057.1963, grad_fn=<PowBackward0>)\n",
      "tensor(12376.7354, grad_fn=<PowBackward0>)\n",
      "tensor(10505.0654, grad_fn=<PowBackward0>)\n",
      "tensor(9102.5791, grad_fn=<PowBackward0>)\n",
      "tensor(8249.4688, grad_fn=<PowBackward0>)\n",
      "tensor(8004.4639, grad_fn=<PowBackward0>)\n",
      "tensor(7541.0068, grad_fn=<PowBackward0>)\n",
      "tensor(7480.0239, grad_fn=<PowBackward0>)\n",
      "tensor(7246.0620, grad_fn=<PowBackward0>)\n",
      "tensor(6924.1973, grad_fn=<PowBackward0>)\n",
      "tensor(6733.3042, grad_fn=<PowBackward0>)\n",
      "tensor(6625.8188, grad_fn=<PowBackward0>)\n",
      "tensor(6523.7900, grad_fn=<PowBackward0>)\n",
      "tensor(6322.8628, grad_fn=<PowBackward0>)\n",
      "tensor(6069.2241, grad_fn=<PowBackward0>)\n",
      "tensor(5996.1152, grad_fn=<PowBackward0>)\n",
      "tensor(5923.9785, grad_fn=<PowBackward0>)\n",
      "tensor(5779.9341, grad_fn=<PowBackward0>)\n",
      "tensor(5513.4937, grad_fn=<PowBackward0>)\n",
      "tensor(5418.1445, grad_fn=<PowBackward0>)\n",
      "tensor(5448.1797, grad_fn=<PowBackward0>)\n",
      "tensor(5351.0898, grad_fn=<PowBackward0>)\n",
      "tensor(5120.0142, grad_fn=<PowBackward0>)\n",
      "tensor(5516.6445, grad_fn=<PowBackward0>)\n",
      "tensor(5116.1792, grad_fn=<PowBackward0>)\n",
      "tensor(4899.8628, grad_fn=<PowBackward0>)\n",
      "tensor(5071.6450, grad_fn=<PowBackward0>)\n",
      "tensor(5019.8311, grad_fn=<PowBackward0>)\n",
      "tensor(4998.9839, grad_fn=<PowBackward0>)\n",
      "tensor(4756.8071, grad_fn=<PowBackward0>)\n",
      "tensor(4746.9189, grad_fn=<PowBackward0>)\n",
      "tensor(4797.2715, grad_fn=<PowBackward0>)\n",
      "tensor(4985.3291, grad_fn=<PowBackward0>)\n",
      "tensor(4674.6260, grad_fn=<PowBackward0>)\n",
      "tensor(4765.6743, grad_fn=<PowBackward0>)\n",
      "tensor(4703.3735, grad_fn=<PowBackward0>)\n",
      "tensor(4494.4644, grad_fn=<PowBackward0>)\n",
      "tensor(4899.9175, grad_fn=<PowBackward0>)\n",
      "tensor(4675.8975, grad_fn=<PowBackward0>)\n",
      "tensor(4693.1445, grad_fn=<PowBackward0>)\n",
      "tensor(4862.6050, grad_fn=<PowBackward0>)\n",
      "tensor(4752.0952, grad_fn=<PowBackward0>)\n",
      "tensor(4675.1260, grad_fn=<PowBackward0>)\n",
      "tensor(4673.8652, grad_fn=<PowBackward0>)\n",
      "tensor(4761.9795, grad_fn=<PowBackward0>)\n",
      "tensor(4713.2720, grad_fn=<PowBackward0>)\n",
      "tensor(4636.0957, grad_fn=<PowBackward0>)\n",
      "tensor(4742.2974, grad_fn=<PowBackward0>)\n",
      "tensor(4757.1509, grad_fn=<PowBackward0>)\n",
      "tensor(4843.3755, grad_fn=<PowBackward0>)\n",
      "tensor(4838.4531, grad_fn=<PowBackward0>)\n",
      "tensor(4839.6357, grad_fn=<PowBackward0>)\n",
      "tensor(4876.1084, grad_fn=<PowBackward0>)\n",
      "tensor(4871.4517, grad_fn=<PowBackward0>)\n",
      "tensor(4930.6855, grad_fn=<PowBackward0>)\n",
      "tensor(4864.2764, grad_fn=<PowBackward0>)\n",
      "tensor(4798.1279, grad_fn=<PowBackward0>)\n",
      "tensor(4902.1001, grad_fn=<PowBackward0>)\n",
      "tensor(5083.3555, grad_fn=<PowBackward0>)\n",
      "tensor(4861.4307, grad_fn=<PowBackward0>)\n",
      "tensor(4988.5640, grad_fn=<PowBackward0>)\n",
      "tensor(4859.9775, grad_fn=<PowBackward0>)\n",
      "tensor(5101.0688, grad_fn=<PowBackward0>)\n",
      "tensor(4893.2036, grad_fn=<PowBackward0>)\n",
      "tensor(4904.2476, grad_fn=<PowBackward0>)\n",
      "tensor(4897.3486, grad_fn=<PowBackward0>)\n",
      "tensor(4932.6118, grad_fn=<PowBackward0>)\n",
      "tensor(5000.9585, grad_fn=<PowBackward0>)\n",
      "tensor(4899.7754, grad_fn=<PowBackward0>)\n",
      "tensor(5102.3955, grad_fn=<PowBackward0>)\n",
      "tensor(5013.4961, grad_fn=<PowBackward0>)\n",
      "tensor(5157.4951, grad_fn=<PowBackward0>)\n",
      "tensor(4985.1548, grad_fn=<PowBackward0>)\n",
      "tensor(4983.4307, grad_fn=<PowBackward0>)\n",
      "tensor(5206.2534, grad_fn=<PowBackward0>)\n",
      "tensor(5130.4033, grad_fn=<PowBackward0>)\n",
      "tensor(5050.5200, grad_fn=<PowBackward0>)\n",
      "tensor(4935.1455, grad_fn=<PowBackward0>)\n",
      "tensor(5036.9365, grad_fn=<PowBackward0>)\n",
      "tensor(5035.4868, grad_fn=<PowBackward0>)\n",
      "tensor(5039.4819, grad_fn=<PowBackward0>)\n",
      "tensor(5078.0859, grad_fn=<PowBackward0>)\n",
      "tensor(5033.9360, grad_fn=<PowBackward0>)\n",
      "tensor(4987.6738, grad_fn=<PowBackward0>)\n",
      "tensor(4809.8628, grad_fn=<PowBackward0>)\n",
      "tensor(5023.7749, grad_fn=<PowBackward0>)\n",
      "tensor(4897.8125, grad_fn=<PowBackward0>)\n",
      "tensor(4939.9917, grad_fn=<PowBackward0>)\n",
      "tensor(5010.1245, grad_fn=<PowBackward0>)\n",
      "tensor(4959.9277, grad_fn=<PowBackward0>)\n",
      "tensor(5004.7266, grad_fn=<PowBackward0>)\n",
      "tensor(5021.2246, grad_fn=<PowBackward0>)\n",
      "tensor(5024.3740, grad_fn=<PowBackward0>)\n",
      "tensor(5004.2998, grad_fn=<PowBackward0>)\n",
      "tensor(4945.6821, grad_fn=<PowBackward0>)\n",
      "tensor(4994.4746, grad_fn=<PowBackward0>)\n",
      "tensor(5024.2178, grad_fn=<PowBackward0>)\n",
      "tensor(4925.0161, grad_fn=<PowBackward0>)\n",
      "tensor(4713.1196, grad_fn=<PowBackward0>)\n",
      "tensor(4758.6943, grad_fn=<PowBackward0>)\n",
      "tensor(5134.7007, grad_fn=<PowBackward0>)\n",
      "tensor(4743.6670, grad_fn=<PowBackward0>)\n",
      "tensor(5028.9912, grad_fn=<PowBackward0>)\n",
      "tensor(4922.5938, grad_fn=<PowBackward0>)\n",
      "tensor(4902.2700, grad_fn=<PowBackward0>)\n",
      "tensor(4974.2329, grad_fn=<PowBackward0>)\n",
      "tensor(5140.7769, grad_fn=<PowBackward0>)\n",
      "tensor(4969.1392, grad_fn=<PowBackward0>)\n",
      "tensor(4899.5806, grad_fn=<PowBackward0>)\n",
      "tensor(4856.0581, grad_fn=<PowBackward0>)\n",
      "tensor(4868.3677, grad_fn=<PowBackward0>)\n",
      "tensor(4871.9131, grad_fn=<PowBackward0>)\n",
      "tensor(4969.2231, grad_fn=<PowBackward0>)\n",
      "tensor(4968.1445, grad_fn=<PowBackward0>)\n",
      "tensor(5196.8721, grad_fn=<PowBackward0>)\n",
      "tensor(4874.8813, grad_fn=<PowBackward0>)\n",
      "tensor(5062.1411, grad_fn=<PowBackward0>)\n",
      "tensor(4962.2334, grad_fn=<PowBackward0>)\n",
      "tensor(4977.2983, grad_fn=<PowBackward0>)\n",
      "tensor(5120.9282, grad_fn=<PowBackward0>)\n",
      "tensor(5032.1553, grad_fn=<PowBackward0>)\n",
      "tensor(4987.9834, grad_fn=<PowBackward0>)\n",
      "tensor(5058.9619, grad_fn=<PowBackward0>)\n",
      "tensor(5054.0322, grad_fn=<PowBackward0>)\n",
      "tensor(4906.6812, grad_fn=<PowBackward0>)\n",
      "tensor(5116.5947, grad_fn=<PowBackward0>)\n",
      "tensor(4823.4575, grad_fn=<PowBackward0>)\n",
      "tensor(4858.9790, grad_fn=<PowBackward0>)\n",
      "tensor(4947.5884, grad_fn=<PowBackward0>)\n",
      "tensor(5080.6426, grad_fn=<PowBackward0>)\n",
      "tensor(4950.6133, grad_fn=<PowBackward0>)\n",
      "tensor(4887.2153, grad_fn=<PowBackward0>)\n",
      "tensor(5015.3540, grad_fn=<PowBackward0>)\n",
      "tensor(5167.3467, grad_fn=<PowBackward0>)\n",
      "tensor(4888.1978, grad_fn=<PowBackward0>)\n",
      "tensor(5004.5815, grad_fn=<PowBackward0>)\n",
      "tensor(4960.1313, grad_fn=<PowBackward0>)\n",
      "tensor(4989.5840, grad_fn=<PowBackward0>)\n",
      "tensor(5123.5444, grad_fn=<PowBackward0>)\n",
      "tensor(4848.2183, grad_fn=<PowBackward0>)\n",
      "tensor(5103.7124, grad_fn=<PowBackward0>)\n",
      "tensor(5049.0562, grad_fn=<PowBackward0>)\n",
      "tensor(5054.7217, grad_fn=<PowBackward0>)\n",
      "tensor(5008.9512, grad_fn=<PowBackward0>)\n",
      "tensor(5085.4644, grad_fn=<PowBackward0>)\n",
      "tensor(4809.3584, grad_fn=<PowBackward0>)\n",
      "tensor(5034.7266, grad_fn=<PowBackward0>)\n",
      "tensor(4932.0972, grad_fn=<PowBackward0>)\n",
      "tensor(5004.1416, grad_fn=<PowBackward0>)\n",
      "tensor(4691.9629, grad_fn=<PowBackward0>)\n",
      "tensor(5146.6562, grad_fn=<PowBackward0>)\n",
      "tensor(5006.5801, grad_fn=<PowBackward0>)\n",
      "tensor(4907.0640, grad_fn=<PowBackward0>)\n",
      "tensor(4881.5127, grad_fn=<PowBackward0>)\n",
      "tensor(4958.8618, grad_fn=<PowBackward0>)\n",
      "tensor(4905.6816, grad_fn=<PowBackward0>)\n",
      "tensor(4863.2183, grad_fn=<PowBackward0>)\n",
      "tensor(4850.7466, grad_fn=<PowBackward0>)\n",
      "tensor(4898.6885, grad_fn=<PowBackward0>)\n",
      "tensor(4680.3101, grad_fn=<PowBackward0>)\n",
      "tensor(4954.9053, grad_fn=<PowBackward0>)\n",
      "tensor(4657.6865, grad_fn=<PowBackward0>)\n",
      "tensor(4996.4551, grad_fn=<PowBackward0>)\n",
      "tensor(5009.2295, grad_fn=<PowBackward0>)\n",
      "tensor(4800.6162, grad_fn=<PowBackward0>)\n",
      "tensor(4846.2397, grad_fn=<PowBackward0>)\n",
      "tensor(4964.5029, grad_fn=<PowBackward0>)\n",
      "tensor(4943.5820, grad_fn=<PowBackward0>)\n",
      "tensor(5037.3174, grad_fn=<PowBackward0>)\n",
      "tensor(4942.6318, grad_fn=<PowBackward0>)\n",
      "tensor(4956.3950, grad_fn=<PowBackward0>)\n",
      "tensor(4724.0811, grad_fn=<PowBackward0>)\n",
      "tensor(5010.0156, grad_fn=<PowBackward0>)\n",
      "tensor(5167.4458, grad_fn=<PowBackward0>)\n",
      "tensor(4815.4849, grad_fn=<PowBackward0>)\n",
      "tensor(4771.1304, grad_fn=<PowBackward0>)\n",
      "tensor(5119.5752, grad_fn=<PowBackward0>)\n",
      "tensor(4986.4712, grad_fn=<PowBackward0>)\n",
      "tensor(4795.2383, grad_fn=<PowBackward0>)\n",
      "tensor(4948.6963, grad_fn=<PowBackward0>)\n",
      "tensor(4974.2925, grad_fn=<PowBackward0>)\n",
      "tensor(5054.2632, grad_fn=<PowBackward0>)\n",
      "tensor(4979.2783, grad_fn=<PowBackward0>)\n",
      "tensor(5297.2822, grad_fn=<PowBackward0>)\n",
      "tensor(4971.9683, grad_fn=<PowBackward0>)\n",
      "tensor(4919.5376, grad_fn=<PowBackward0>)\n",
      "tensor(4899.8730, grad_fn=<PowBackward0>)\n",
      "tensor(5179.9170, grad_fn=<PowBackward0>)\n",
      "tensor(4846.4189, grad_fn=<PowBackward0>)\n",
      "tensor(4677.5059, grad_fn=<PowBackward0>)\n",
      "tensor(5086.7427, grad_fn=<PowBackward0>)\n",
      "tensor(4919.1328, grad_fn=<PowBackward0>)\n",
      "tensor(4940.1279, grad_fn=<PowBackward0>)\n",
      "tensor(5014.2920, grad_fn=<PowBackward0>)\n",
      "tensor(4855.8164, grad_fn=<PowBackward0>)\n",
      "tensor(4848.1045, grad_fn=<PowBackward0>)\n"
     ]
    },
    {
     "name": "stdout",
     "output_type": "stream",
     "text": [
      "tensor(5042.9331, grad_fn=<PowBackward0>)\n",
      "tensor(5014.0654, grad_fn=<PowBackward0>)\n",
      "tensor(4946.9863, grad_fn=<PowBackward0>)\n",
      "tensor(5137.9956, grad_fn=<PowBackward0>)\n"
     ]
    }
   ],
   "source": [
    "random.seed(0)\n",
    "np.random.seed(19191919)\n",
    "torch.manual_seed(0)\n",
    "torch.use_deterministic_algorithms(True)\n",
    "\n",
    "class Net(nn.Module):\n",
    "    def __init__(self, n_in_neurons, n_hidden_neurons_1, n_hidden_neurons_2, n_out_neurons, dp):\n",
    "        super(Net, self).__init__()\n",
    "        self.fc1 = nn.Linear(n_in_neurons, n_hidden_neurons_1)\n",
    "        self.act1 = nn.Tanh()\n",
    "        self.dp1 = nn.Dropout(p=dp)\n",
    "        self.fc2 = nn.Linear(n_hidden_neurons_1, n_hidden_neurons_2)\n",
    "        self.act2 = nn.ReLU()\n",
    "        self.dp2 = nn.Dropout(p=dp)    \n",
    "        self.fc3 = nn.Linear(n_hidden_neurons_2, n_out_neurons)        \n",
    "        self.act3 = nn.ReLU()\n",
    "        \n",
    "         # Инициализация весов\n",
    "        nn.init.uniform_(self.fc1.weight, a=-1, b=1)\n",
    "        nn.init.uniform_(self.fc1.bias, a=-1, b=3)\n",
    "        nn.init.uniform_(self.fc2.weight, b=3)\n",
    "        nn.init.uniform_(self.fc2.bias, a=-1)\n",
    "        nn.init.uniform_(self.fc3.weight, b=2)\n",
    "        nn.init.uniform_(self.fc3.bias, a=-1)\n",
    "\n",
    "    def forward(self, x):\n",
    "        x = self.fc1(x)\n",
    "        x = self.act1(x)\n",
    "        x = self.dp1(x)\n",
    "        x = self.fc2(x)\n",
    "        x = self.act2(x)\n",
    "        x = self.dp2(x)\n",
    "        x = self.fc3(x)\n",
    "        x = self.act3(x)\n",
    "        return x\n",
    "\n",
    "    \n",
    "num_epochs = 4000\n",
    "best_rmse6 = 10000\n",
    "test_preds_best6 = 0\n",
    "dp = 0.6\n",
    "    \n",
    "net = Net(11, 20, 20, 1, dp) \n",
    "optimizer = torch.optim.Adam(net.parameters(), lr=0.05)\n",
    "loss = nn.L1Loss()# инициализируйте функцию потерь\n",
    "\n",
    "batch_size = 150\n",
    "\n",
    "num_batches = ceil(len(x_train_tensor)/batch_size)\n",
    "\n",
    "for epoch in range(num_epochs):\n",
    "    order = np.random.permutation(len(x_train_tensor))# создайте случайную перестановку индексов объектов\n",
    "    for batch_idx in range(num_batches):\n",
    "        start_index = batch_idx * batch_size# посчитайте номер стартового объекта батча\n",
    "        optimizer.zero_grad()\n",
    "  \n",
    "        batch_indexes = order[start_index:start_index+batch_size]# извлеките индексы объектов текущего обатча\n",
    "        X_batch = x_train_tensor[batch_indexes]\n",
    "        y_batch = y_train_tensor[batch_indexes]\n",
    "  \n",
    "        preds = net.forward(X_batch).flatten()\n",
    "             \n",
    "        loss_value = loss(preds, y_batch)\n",
    "\n",
    "        loss_value.backward()\n",
    "            \n",
    "        optimizer.step()  \n",
    "   \n",
    "    if epoch % 20 == 0 or epoch == num_epochs - 1:\n",
    "        net.eval()\n",
    "        test_preds = net.forward(x_test_tensor).flatten()\n",
    "        \n",
    "        rmse = mse()**0.5\n",
    "        RMSE = rmse(test_preds, y_test_tensor)\n",
    "    \n",
    "        print(RMSE)\n",
    "        \n",
    "    if best_rmse6 > RMSE:\n",
    "        best_rmse6 = torch.round(RMSE)\n",
    "        test_preds_best6 = torch.round(test_preds)"
   ]
  },
  {
   "cell_type": "code",
   "execution_count": 84,
   "metadata": {},
   "outputs": [
    {
     "name": "stdout",
     "output_type": "stream",
     "text": [
      "\n",
      "Лучшее RMSE:  tensor(4494., grad_fn=<RoundBackward0>)\n",
      "\n",
      "Лучшее предсказание:  tensor([32992., 32344., 12516.,  3703., 12553.,  2763., 14329., 13137., 19220.,\n",
      "         3688., 19590.,  3761.,  3273.,  9759.,  3342., 12970., 12331.,  3691.,\n",
      "         9467.,  2955., 25134., 17307., 21661.,  5095., 25084., 13746., 32527.,\n",
      "        17430., 17139.,  3298.,  3695., 18389.,  3877., 16580.,  3723.,  3018.,\n",
      "         3778.,  3695.,  3737.,  3339.,  3726., 32470.,  3000.,  2989.,  2995.,\n",
      "        16606.,  6001., 12415.], grad_fn=<RoundBackward0>)\n",
      "\n",
      "Тестовые данные:  tensor([32489., 39000.,  9320.,  3834.,  9030.,  3218., 22012., 11250., 19860.,\n",
      "         3574., 18340.,  3614.,  3150.,  8250.,  3100., 25000.,  8945.,  3459.,\n",
      "         9700.,  2945., 27739., 17120., 11096.,  4980., 30839., 11000., 29560.,\n",
      "        16787.,  5752.,  3462.,  3826., 19360.,  3607., 24630.,  3615.,  2700.,\n",
      "         3570.,  3450.,  3490.,  2799.,  3650., 37800.,  2889.,  2774.,  3323.,\n",
      "        33421.,  7700., 13023.])\n"
     ]
    }
   ],
   "source": [
    "print()        \n",
    "print('Лучшее RMSE: ', best_rmse6)\n",
    "print()\n",
    "print('Лучшее предсказание: ', test_preds_best6)\n",
    "print()\n",
    "print('Тестовые данные: ', y_test_tensor)"
   ]
  },
  {
   "cell_type": "markdown",
   "metadata": {},
   "source": [
    "### Сравнение Факт - Прогноз, график."
   ]
  },
  {
   "cell_type": "code",
   "execution_count": 87,
   "metadata": {},
   "outputs": [
    {
     "data": {
      "image/png": "[encoded data removed]",
      "text/plain": [
       "<Figure size 1152x576 with 1 Axes>"
      ]
     },
     "metadata": {
      "needs_background": "light"
     },
     "output_type": "display_data"
    }
   ],
   "source": [
    "index = np.arange(48)\n",
    "values1 = y_test_tensor.tolist()\n",
    "values2 = test_preds_best7.tolist()\n",
    "values3 = test_preds_best6.tolist()\n",
    "plt.figure(figsize=(16, 8))\n",
    "plt.title('График сравнения фактической и предсказанной температуры звезд.')\n",
    "plt.bar(index, values1, alpha=0.6, label='ФАКТ', width=0.9)\n",
    "plt.bar(index, values2, alpha=0.7, label='ПРОГНОЗ np.random.seed(0)', width=0.6)\n",
    "plt.bar(index, values3, alpha=0.7, label='ПРОГНОЗ np.random.seed(19191919)', width=0.4)\n",
    "plt.legend()\n",
    "plt.xlabel('Номер звезды')\n",
    "plt.ylabel('Температура К')\n",
    "plt.show();"
   ]
  },
  {
   "cell_type": "markdown",
   "metadata": {},
   "source": [
    "Мда уж видим еще и влияние показателя np.random.seed"
   ]
  },
  {
   "cell_type": "markdown",
   "metadata": {},
   "source": [
    "## Сравнение метрик RMSE и параметров"
   ]
  },
  {
   "cell_type": "code",
   "execution_count": 88,
   "metadata": {},
   "outputs": [
    {
     "data": {
      "text/html": [
       "<div>\n",
       "<style scoped>\n",
       "    .dataframe tbody tr th:only-of-type {\n",
       "        vertical-align: middle;\n",
       "    }\n",
       "\n",
       "    .dataframe tbody tr th {\n",
       "        vertical-align: top;\n",
       "    }\n",
       "\n",
       "    .dataframe thead th {\n",
       "        text-align: right;\n",
       "    }\n",
       "</style>\n",
       "<table border=\"1\" class=\"dataframe\">\n",
       "  <thead>\n",
       "    <tr style=\"text-align: right;\">\n",
       "      <th></th>\n",
       "      <th>Параметр</th>\n",
       "      <th>Классика CatBoostRegressor</th>\n",
       "      <th>Базовое обучение нейросети - ручной подбор параметров</th>\n",
       "      <th>Обучение нейросети с батчами</th>\n",
       "      <th>Обучение нейросети с батчами и Dropout np.random.seed(0)</th>\n",
       "      <th>Обучение нейросети с батчами и Dropout np.random.seed(19191919)</th>\n",
       "    </tr>\n",
       "  </thead>\n",
       "  <tbody>\n",
       "    <tr>\n",
       "      <th>0</th>\n",
       "      <td>Лучший RMSE</td>\n",
       "      <td>5604.81</td>\n",
       "      <td>4425</td>\n",
       "      <td>4634</td>\n",
       "      <td>4618.0</td>\n",
       "      <td>4494.0</td>\n",
       "    </tr>\n",
       "    <tr>\n",
       "      <th>1</th>\n",
       "      <td>Лучший размер Батча</td>\n",
       "      <td>Нет</td>\n",
       "      <td>Нет</td>\n",
       "      <td>150</td>\n",
       "      <td>150.0</td>\n",
       "      <td>150.0</td>\n",
       "    </tr>\n",
       "    <tr>\n",
       "      <th>2</th>\n",
       "      <td>Лучший параметр Dropout</td>\n",
       "      <td>Нет</td>\n",
       "      <td>Нет</td>\n",
       "      <td>Нет</td>\n",
       "      <td>0.6</td>\n",
       "      <td>0.6</td>\n",
       "    </tr>\n",
       "  </tbody>\n",
       "</table>\n",
       "</div>"
      ],
      "text/plain": [
       "                  Параметр Классика CatBoostRegressor  \\\n",
       "0              Лучший RMSE                    5604.81   \n",
       "1      Лучший размер Батча                        Нет   \n",
       "2  Лучший параметр Dropout                        Нет   \n",
       "\n",
       "  Базовое обучение нейросети - ручной подбор параметров  \\\n",
       "0                                               4425      \n",
       "1                                                Нет      \n",
       "2                                                Нет      \n",
       "\n",
       "  Обучение нейросети с батчами  \\\n",
       "0                         4634   \n",
       "1                          150   \n",
       "2                          Нет   \n",
       "\n",
       "   Обучение нейросети с батчами и Dropout np.random.seed(0)  \\\n",
       "0                                             4618.0          \n",
       "1                                              150.0          \n",
       "2                                                0.6          \n",
       "\n",
       "   Обучение нейросети с батчами и Dropout np.random.seed(19191919)  \n",
       "0                                             4494.0                \n",
       "1                                              150.0                \n",
       "2                                                0.6                "
      ]
     },
     "metadata": {},
     "output_type": "display_data"
    }
   ],
   "source": [
    "compare = pd.DataFrame(data=[['Лучший RMSE', result_cr, best_rmse.tolist(), best_rmse3.tolist(),\n",
    "                              best_rmse7.tolist(),best_rmse6.tolist()],\n",
    "                            ['Лучший размер Батча', 'Нет', 'Нет', best_batch, best_batch, best_batch],\n",
    "                            ['Лучший параметр Dropout', 'Нет', 'Нет', 'Нет', best_Dropout, best_Dropout]],\n",
    "                   columns=['Параметр','Классика CatBoostRegressor', 'Базовое обучение нейросети - ручной подбор параметров',\n",
    "                            'Обучение нейросети с батчами',\n",
    "                            'Обучение нейросети с батчами и Dropout np.random.seed(0)',\n",
    "                            'Обучение нейросети с батчами и Dropout np.random.seed(19191919)'])\n",
    "display(compare)"
   ]
  },
  {
   "cell_type": "markdown",
   "metadata": {},
   "source": [
    "## <b>Общие выводы</b>"
   ]
  },
  {
   "cell_type": "markdown",
   "metadata": {},
   "source": [
    "* В таблице всего 240 строк и наибольшее количество звезд по показателям ближе к земному Солнцу - мало данных с большими параметрами.\n",
    "\n",
    "\n",
    "* Именно в диапазоне ближе к Солнечным наблюдается наибольшая точность предсказаний\n",
    "\n",
    "\n",
    "* При надлежащем терпении, по подбору различных параметров нейросети, можно уже на базовой модели достигнуть высоких показателей точности предсказаний:\n",
    "\n",
    "\n",
    "* Точность предсказаний модели нейросети выше точности предсказаний классического обучения\n",
    "\n",
    "\n",
    "* Введение разбияние на батчи и регуляризации Dropout без поиска других оптимаьных параметров обучения и сети даже ухудшило точность предсказаний, видимо из-за малого количества обучающих данных, очень сильно влияение выбора обучающей выборки данных - какие данные в обучающих выборках, в валидационной и тестовой.\n",
    "\n",
    "\n",
    "\n",
    "* np.random.seed и прочие фиксирующие случайности могут выступать как еще одни параметры обучения нейросети"
   ]
  },
  {
   "cell_type": "markdown",
   "metadata": {},
   "source": [
    "<div class=\"alert alert-success\">\n",
    "<b>Комментарий ревьюера ✔️:</b>\n",
    "    \n",
    "Немного полезного материала:    \n",
    "\n",
    "1) Интересный контент вот здесь есть: https://neural-university.ru/ - институт нейросетей. <br>\n",
    "2) Ребята из-за \"бугра\": https://www.reg.ru/blog/stenfordskij-kurs-lekciya-1-vvedenie/ (тут про свёрточные, но интересно)<br>\n",
    "3) Интересная статья специалиста Тесла: https://karpathy.github.io/neuralnets/ <br>\n",
    "4) Список книг на выбор: https://habr.com/ru/company/neurodatalab/blog/336218/ <br>\n",
    "\n",
    "\n",
    "\n",
    "Кстати есть еще нейросеть TabNet, которая заточена для работы с табличными данными:\n",
    "+  https://habr.com/ru/post/540736/    \n",
    "+  https://www.kaggle.com/code/carlmcbrideellis/tabnet-a-very-simple-regression-example/notebook\n",
    "\n",
    "</div>"
   ]
  },
  {
   "cell_type": "markdown",
   "metadata": {},
   "source": [
    "<font color='blue'><b>Итоговый комментарий ревьюера</b></font>\n",
    "<div class=\"alert alert-success\">\n",
    "<b>Комментарий ревьюера ✔️:</b>Роман, получился хороший проект! \n",
    "    \n",
    "Если есть  если есть какие либо вопросы я с удовольствием на них отвечу:) <br> Исправь, пожалуйста, замечания и жду проект на следующую проверку:) </div>\n"
   ]
  },
  {
   "cell_type": "markdown",
   "metadata": {},
   "source": [
    "<div class=\"alert alert-info\"> <b>Комментарий студента:</b> Да в общем то в процессе изучения проясняется много всяких вопросов, но основное понимание, что нейросети какая то область черного ящика - методы работают, нашли эмпирическим путем, а почему работают непонятно пока))))</div>"
   ]
  },
  {
   "cell_type": "code",
   "execution_count": null,
   "metadata": {},
   "outputs": [],
   "source": []
  }
 ],
 "metadata": {
  "kernelspec": {
   "display_name": "Python 3",
   "language": "python",
   "name": "python3"
  },
  "language_info": {
   "codemirror_mode": {
    "name": "ipython",
    "version": 3
   },
   "file_extension": ".py",
   "mimetype": "text/x-python",
   "name": "python",
   "nbconvert_exporter": "python",
   "pygments_lexer": "ipython3",
   "version": "3.8.5"
  },
  "toc": {
   "base_numbering": 1,
   "nav_menu": {},
   "number_sections": true,
   "sideBar": true,
   "skip_h1_title": false,
   "title_cell": "Table of Contents",
   "title_sidebar": "Contents",
   "toc_cell": false,
   "toc_position": {
    "height": "calc(100% - 180px)",
    "left": "10px",
    "top": "150px",
    "width": "355.556px"
   },
   "toc_section_display": true,
   "toc_window_display": true
  }
 },
 "nbformat": 4,
 "nbformat_minor": 4
}
