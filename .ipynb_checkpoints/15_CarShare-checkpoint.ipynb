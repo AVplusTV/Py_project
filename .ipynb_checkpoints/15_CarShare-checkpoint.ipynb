{
 "cells": [
  {
   "cell_type": "markdown",
   "metadata": {
    "toc": true
   },
   "source": [
    "<h1>Table of Contents<span class=\"tocSkip\"></span></h1>\n",
    "<div class=\"toc\"><ul class=\"toc-item\"><li><span><a href=\"#Загрузка-и-исследование-данных-базы-SQL\" data-toc-modified-id=\"Загрузка-и-исследование-данных-базы-SQL-1\"><span class=\"toc-item-num\">1&nbsp;&nbsp;</span>Загрузка и исследование данных базы SQL</a></span><ul class=\"toc-item\"><li><span><a href=\"#Подсоединяемся-к-базе-данных-SQL\" data-toc-modified-id=\"Подсоединяемся-к-базе-данных-SQL-1.1\"><span class=\"toc-item-num\">1.1&nbsp;&nbsp;</span>Подсоединяемся к базе данных SQL</a></span></li><li><span><a href=\"#ER---диаграмма\" data-toc-modified-id=\"ER---диаграмма-1.2\"><span class=\"toc-item-num\">1.2&nbsp;&nbsp;</span>ER - диаграмма</a></span></li></ul></li><li><span><a href=\"#Проведем-первичное-исследование-таблиц\" data-toc-modified-id=\"Проведем-первичное-исследование-таблиц-2\"><span class=\"toc-item-num\">2&nbsp;&nbsp;</span>Проведем первичное исследование таблиц</a></span><ul class=\"toc-item\"><li><span><a href=\"#Таблица-collisions-—-общая-информация-о-ДТП\" data-toc-modified-id=\"Таблица-collisions-—-общая-информация-о-ДТП-2.1\"><span class=\"toc-item-num\">2.1&nbsp;&nbsp;</span>Таблица collisions — общая информация о ДТП</a></span><ul class=\"toc-item\"><li><span><a href=\"#Замечания-и-выводы:\" data-toc-modified-id=\"Замечания-и-выводы:-2.1.1\"><span class=\"toc-item-num\">2.1.1&nbsp;&nbsp;</span><b>Замечания и выводы:</b></a></span></li></ul></li><li><span><a href=\"#Таблица-case_ids\" data-toc-modified-id=\"Таблица-case_ids-2.2\"><span class=\"toc-item-num\">2.2&nbsp;&nbsp;</span>Таблица case_ids</a></span></li><li><span><a href=\"#Таблица-parties-—-информация-об-участниках-ДТП\" data-toc-modified-id=\"Таблица-parties-—-информация-об-участниках-ДТП-2.3\"><span class=\"toc-item-num\">2.3&nbsp;&nbsp;</span>Таблица parties — информация об участниках ДТП</a></span><ul class=\"toc-item\"><li><span><a href=\"#Замечания-и-выводы:\" data-toc-modified-id=\"Замечания-и-выводы:-2.3.1\"><span class=\"toc-item-num\">2.3.1&nbsp;&nbsp;</span><b>Замечания и выводы:</b></a></span></li></ul></li><li><span><a href=\"#Таблица-vehicles-—-информация-о-пострадавших-машинах\" data-toc-modified-id=\"Таблица-vehicles-—-информация-о-пострадавших-машинах-2.4\"><span class=\"toc-item-num\">2.4&nbsp;&nbsp;</span>Таблица vehicles — информация о пострадавших машинах</a></span><ul class=\"toc-item\"><li><span><a href=\"#Замечания-и-выводы:\" data-toc-modified-id=\"Замечания-и-выводы:-2.4.1\"><span class=\"toc-item-num\">2.4.1&nbsp;&nbsp;</span><b>Замечания и выводы:</b></a></span></li></ul></li></ul></li><li><span><a href=\"#Проведем-статистический-анализ-факторов-ДТП\" data-toc-modified-id=\"Проведем-статистический-анализ-факторов-ДТП-3\"><span class=\"toc-item-num\">3&nbsp;&nbsp;</span>Проведем статистический анализ факторов ДТП</a></span><ul class=\"toc-item\"><li><span><a href=\"#Выясним,-в-какие-месяцы-происходит-наибольшее-количество-аварий.-Проанализируем-весь-период-наблюдений-(таблица-collisions).\" data-toc-modified-id=\"Выясним,-в-какие-месяцы-происходит-наибольшее-количество-аварий.-Проанализируем-весь-период-наблюдений-(таблица-collisions).-3.1\"><span class=\"toc-item-num\">3.1&nbsp;&nbsp;</span>Выясним, в какие месяцы происходит наибольшее количество аварий. Проанализируем весь период наблюдений (таблица collisions).</a></span></li><li><span><a href=\"#Постановка-задач-коллегам-для-общего-понимания-данных-коллегами-и-нахождения-дополнительных-закономерностей\" data-toc-modified-id=\"Постановка-задач-коллегам-для-общего-понимания-данных-коллегами-и-нахождения-дополнительных-закономерностей-3.2\"><span class=\"toc-item-num\">3.2&nbsp;&nbsp;</span>Постановка задач коллегам для общего понимания данных коллегами и нахождения дополнительных закономерностей</a></span></li><li><span><a href=\"#Решим-первые-три-первых-задачи,-остальное-оставим-добрым-коллегам\" data-toc-modified-id=\"Решим-первые-три-первых-задачи,-остальное-оставим-добрым-коллегам-3.3\"><span class=\"toc-item-num\">3.3&nbsp;&nbsp;</span>Решим первые три первых задачи, остальное оставим добрым коллегам</a></span><ul class=\"toc-item\"><li><span><a href=\"#Проанализируйте-влияние-фактора-физического-состояния-участника-на-ДТП-в-феврале-и-в-октябре-(наименьшее-и-наибольшее-количество-дтп)-за-3-года---с-09-по-11.\" data-toc-modified-id=\"Проанализируйте-влияние-фактора-физического-состояния-участника-на-ДТП-в-феврале-и-в-октябре-(наименьшее-и-наибольшее-количество-дтп)-за-3-года---с-09-по-11.-3.3.1\"><span class=\"toc-item-num\">3.3.1&nbsp;&nbsp;</span>Проанализируйте влияние фактора физического состояния участника на ДТП в феврале и в октябре (наименьшее и наибольшее количество дтп) за 3 года - с 09 по 11.</a></span></li><li><span><a href=\"#Проанализируйте-как-влияет-наличие-или-отсутствие-громкой-связи-в-автомобиле-на-тяжесть-ДТП\" data-toc-modified-id=\"Проанализируйте-как-влияет-наличие-или-отсутствие-громкой-связи-в-автомобиле-на-тяжесть-ДТП-3.3.2\"><span class=\"toc-item-num\">3.3.2&nbsp;&nbsp;</span>Проанализируйте как влияет наличие или отсутствие громкой связи в автомобиле на тяжесть ДТП</a></span><ul class=\"toc-item\"><li><span><a href=\"#Вывод:\" data-toc-modified-id=\"Вывод:-3.3.2.1\"><span class=\"toc-item-num\">3.3.2.1&nbsp;&nbsp;</span><b>Вывод:</b></a></span></li></ul></li><li><span><a href=\"#Проанализируйте-какая-наиболее-частая-причина-аварий-аварий-вообще-и-тяжелых-в-частности\" data-toc-modified-id=\"Проанализируйте-какая-наиболее-частая-причина-аварий-аварий-вообще-и-тяжелых-в-частности-3.3.3\"><span class=\"toc-item-num\">3.3.3&nbsp;&nbsp;</span>Проанализируйте какая наиболее частая причина аварий аварий вообще и тяжелых в частности</a></span><ul class=\"toc-item\"><li><span><a href=\"#Вывод:\" data-toc-modified-id=\"Вывод:-3.3.3.1\"><span class=\"toc-item-num\">3.3.3.1&nbsp;&nbsp;</span><b>Вывод:</b></a></span></li></ul></li></ul></li></ul></li><li><span><a href=\"#Подготовим-данные-для-оценки-водительского-риска\" data-toc-modified-id=\"Подготовим-данные-для-оценки-водительского-риска-4\"><span class=\"toc-item-num\">4&nbsp;&nbsp;</span>Подготовим данные для оценки водительского риска</a></span><ul class=\"toc-item\"><li><span><a href=\"#Подготовим-набор-данных-на-основе-первичного-предположения-заказчика:\" data-toc-modified-id=\"Подготовим-набор-данных-на-основе-первичного-предположения-заказчика:-4.1\"><span class=\"toc-item-num\">4.1&nbsp;&nbsp;</span>Подготовим набор данных на основе первичного предположения заказчика:</a></span><ul class=\"toc-item\"><li><span><a href=\"#SQL-запрос\" data-toc-modified-id=\"SQL-запрос-4.1.1\"><span class=\"toc-item-num\">4.1.1&nbsp;&nbsp;</span>SQL запрос</a></span></li></ul></li><li><span><a href=\"#Анализ-столбцов-для-удаления\" data-toc-modified-id=\"Анализ-столбцов-для-удаления-4.2\"><span class=\"toc-item-num\">4.2&nbsp;&nbsp;</span>Анализ столбцов для удаления</a></span></li><li><span><a href=\"#Пустые-значения-ячеек\" data-toc-modified-id=\"Пустые-значения-ячеек-4.3\"><span class=\"toc-item-num\">4.3&nbsp;&nbsp;</span>Пустые значения ячеек</a></span></li><li><span><a href=\"#Стратификация-целевого-признака\" data-toc-modified-id=\"Стратификация-целевого-признака-4.4\"><span class=\"toc-item-num\">4.4&nbsp;&nbsp;</span>Стратификация целевого признака</a></span></li><li><span><a href=\"#Работа-со-столбцом-county_city_location\" data-toc-modified-id=\"Работа-со-столбцом-county_city_location-4.5\"><span class=\"toc-item-num\">4.5&nbsp;&nbsp;</span>Работа со столбцом county_city_location</a></span></li><li><span><a href=\"#Работа-со-столбцом-collision_time\" data-toc-modified-id=\"Работа-со-столбцом-collision_time-4.6\"><span class=\"toc-item-num\">4.6&nbsp;&nbsp;</span>Работа со столбцом collision_time</a></span></li><li><span><a href=\"#Преобразование-OHE-для-категориальных-столбцов\" data-toc-modified-id=\"Преобразование-OHE-для-категориальных-столбцов-4.7\"><span class=\"toc-item-num\">4.7&nbsp;&nbsp;</span>Преобразование OHE для категориальных столбцов</a></span></li><li><span><a href=\"#Feature-importance\" data-toc-modified-id=\"Feature-importance-4.8\"><span class=\"toc-item-num\">4.8&nbsp;&nbsp;</span>Feature importance</a></span><ul class=\"toc-item\"><li><span><a href=\"#Вывод:\" data-toc-modified-id=\"Вывод:-4.8.1\"><span class=\"toc-item-num\">4.8.1&nbsp;&nbsp;</span><b>Вывод:</b></a></span></li></ul></li><li><span><a href=\"#Выделяем-данные-для-обучения,-валидационные-и-тестовые-данные-с-сохранением-стратификации\" data-toc-modified-id=\"Выделяем-данные-для-обучения,-валидационные-и-тестовые-данные-с-сохранением-стратификации-4.9\"><span class=\"toc-item-num\">4.9&nbsp;&nbsp;</span>Выделяем данные для обучения, валидационные и тестовые данные с сохранением стратификации</a></span></li><li><span><a href=\"#Масштабирование-данных\" data-toc-modified-id=\"Масштабирование-данных-4.10\"><span class=\"toc-item-num\">4.10&nbsp;&nbsp;</span>Масштабирование данных</a></span></li></ul></li><li><span><a href=\"#Находим-лучшую-модель.-Используем-классическое-обучение-и-нейросети.\" data-toc-modified-id=\"Находим-лучшую-модель.-Используем-классическое-обучение-и-нейросети.-5\"><span class=\"toc-item-num\">5&nbsp;&nbsp;</span>Находим лучшую модель. Используем классическое обучение и нейросети.</a></span><ul class=\"toc-item\"><li><span><a href=\"#Работа-с-классическими-моделями-машинного-обучения\" data-toc-modified-id=\"Работа-с-классическими-моделями-машинного-обучения-5.1\"><span class=\"toc-item-num\">5.1&nbsp;&nbsp;</span>Работа с классическими моделями машинного обучения</a></span><ul class=\"toc-item\"><li><span><a href=\"#Логистическая-регрессия\" data-toc-modified-id=\"Логистическая-регрессия-5.1.1\"><span class=\"toc-item-num\">5.1.1&nbsp;&nbsp;</span>Логистическая регрессия</a></span></li><li><span><a href=\"#Модель-решающего-дерева:\" data-toc-modified-id=\"Модель-решающего-дерева:-5.1.2\"><span class=\"toc-item-num\">5.1.2&nbsp;&nbsp;</span>Модель решающего дерева:</a></span></li><li><span><a href=\"#Модель-случайного-леса\" data-toc-modified-id=\"Модель-случайного-леса-5.1.3\"><span class=\"toc-item-num\">5.1.3&nbsp;&nbsp;</span>Модель случайного леса</a></span></li><li><span><a href=\"#Модель-CatBoost\" data-toc-modified-id=\"Модель-CatBoost-5.1.4\"><span class=\"toc-item-num\">5.1.4&nbsp;&nbsp;</span>Модель CatBoost</a></span></li><li><span><a href=\"#-Промежуточный-Вывод:\" data-toc-modified-id=\"-Промежуточный-Вывод:-5.1.5\"><span class=\"toc-item-num\">5.1.5&nbsp;&nbsp;</span><b> Промежуточный Вывод:</b></a></span></li><li><span><a href=\"#Изменим-балланс-классов-обучающей-и-валидационной-выборки,-тестовую-выборку-оставим--как-есть\" data-toc-modified-id=\"Изменим-балланс-классов-обучающей-и-валидационной-выборки,-тестовую-выборку-оставим--как-есть-5.1.6\"><span class=\"toc-item-num\">5.1.6&nbsp;&nbsp;</span>Изменим балланс классов обучающей и валидационной выборки, тестовую выборку оставим  как есть</a></span></li><li><span><a href=\"#Логистическая-регрессия-на-сбалансированных-данных\" data-toc-modified-id=\"Логистическая-регрессия-на-сбалансированных-данных-5.1.7\"><span class=\"toc-item-num\">5.1.7&nbsp;&nbsp;</span>Логистическая регрессия на сбалансированных данных</a></span></li><li><span><a href=\"#Случайный-лес-на-сбалансированных-данных\" data-toc-modified-id=\"Случайный-лес-на-сбалансированных-данных-5.1.8\"><span class=\"toc-item-num\">5.1.8&nbsp;&nbsp;</span>Случайный лес на сбалансированных данных</a></span></li><li><span><a href=\"#CAT-BOOST-модель-на-выборках-с-баллансом-классов,-параметры-по-умолчанию\" data-toc-modified-id=\"CAT-BOOST-модель-на-выборках-с-баллансом-классов,-параметры-по-умолчанию-5.1.9\"><span class=\"toc-item-num\">5.1.9&nbsp;&nbsp;</span>CAT BOOST модель на выборках с баллансом классов, параметры по умолчанию</a></span></li><li><span><a href=\"#Сделаем-GridSearchCV-для-Модели-CAT-BOOST\" data-toc-modified-id=\"Сделаем-GridSearchCV-для-Модели-CAT-BOOST-5.1.10\"><span class=\"toc-item-num\">5.1.10&nbsp;&nbsp;</span>Сделаем GridSearchCV для Модели CAT BOOST</a></span></li></ul></li><li><span><a href=\"#Вывод-в-виде-таблицы\" data-toc-modified-id=\"Вывод-в-виде-таблицы-5.2\"><span class=\"toc-item-num\">5.2&nbsp;&nbsp;</span><b>Вывод в виде таблицы</b></a></span></li></ul></li><li><span><a href=\"#Посмотрим-на-работу-лучших-моделей-на-тестовой-выборке\" data-toc-modified-id=\"Посмотрим-на-работу-лучших-моделей-на-тестовой-выборке-6\"><span class=\"toc-item-num\">6&nbsp;&nbsp;</span>Посмотрим на работу лучших моделей на тестовой выборке</a></span><ul class=\"toc-item\"><li><span><a href=\"#Лучшая-модель-случайного-леса\" data-toc-modified-id=\"Лучшая-модель-случайного-леса-6.1\"><span class=\"toc-item-num\">6.1&nbsp;&nbsp;</span>Лучшая модель случайного леса</a></span></li><li><span><a href=\"#Лучшая-модель-CatBoost\" data-toc-modified-id=\"Лучшая-модель-CatBoost-6.2\"><span class=\"toc-item-num\">6.2&nbsp;&nbsp;</span>Лучшая модель CatBoost</a></span></li><li><span><a href=\"#Вывод-в-виде-таблицы\" data-toc-modified-id=\"Вывод-в-виде-таблицы-6.3\"><span class=\"toc-item-num\">6.3&nbsp;&nbsp;</span><b>Вывод в виде таблицы</b></a></span></li></ul></li><li><span><a href=\"#Общие-выводы:\" data-toc-modified-id=\"Общие-выводы:-7\"><span class=\"toc-item-num\">7&nbsp;&nbsp;</span>Общие выводы:</a></span></li></ul></div>"
   ]
  },
  {
   "cell_type": "markdown",
   "metadata": {
    "id": "sRW85nPMDWKb"
   },
   "source": [
    "<b>Описание проекта</b>\n",
    "\n",
    "Поступил заказ: нужно создать систему, которая могла бы оценить риск ДТП по выбранному маршруту движения. Под риском понимается вероятность ДТП с любым повреждением транспортного средства. Как только водитель забронировал автомобиль, сел за руль и выбрал маршрут, система должна оценить уровень риска. Если уровень риска высок, водитель увидит предупреждение и рекомендации по маршруту.\n",
    "\n",
    "\n",
    "Идея создания такой системы находится в стадии предварительного обсуждения и проработки. Чёткого алгоритма работы и подобных решений на рынке ещё не существует.\n",
    "\n",
    "Текущая задача — понять, возможно ли предсказывать ДТП, опираясь на исторические данные одного из регионов.\n",
    "\n",
    "\n",
    "<b>Идея решения задачи от заказчика:</b>\n",
    "\n",
    "\n",
    "* Создать модель предсказания ДТП (целевое значение — at_fault (виновник) в таблице parties)\n",
    "\n",
    "* Для модели выбрать тип виновника — только машина (car).\n",
    "\n",
    "* Выбрать случаи, когда ДТП привело к любым повреждениям транспортного средства, кроме типа SCRATCH (царапина).\n",
    "\n",
    "* Для моделирования ограничиться данными за 2012 год — они самые свежие.\n",
    "\n",
    "* Обязательное условие — учесть фактор возраста автомобиля.\n",
    "\n",
    "* На основе модели исследовать основные факторы ДТП.\n",
    "\n",
    "\n",
    "<b>Понять, помогут ли результаты моделирования и анализ важности факторов ответить на вопросы:</b>\n",
    "\n",
    "* Возможно ли создать адекватную системы оценки водительского риска при выдаче авто?\n",
    "\n",
    "* Какие ещё факторы нужно учесть?\n",
    "\n",
    "* Нужно ли оборудовать автомобиль какими-либо датчиками или камерой?\n",
    "\n",
    "* Заказчик предлагает вам поработать с базой данных по происшествиям и сформировать свои идеи создания такой системы.\n"
   ]
  },
  {
   "cell_type": "markdown",
   "metadata": {},
   "source": [
    "Загрузка необходимых библиотек и методов:"
   ]
  },
  {
   "cell_type": "code",
   "execution_count": 430,
   "metadata": {
    "id": "nlZBlglMDWKe"
   },
   "outputs": [],
   "source": [
    "import pandas as pd\n",
    "import matplotlib.pyplot as plt\n",
    "from sqlalchemy import create_engine\n",
    "import seaborn as sns\n",
    "import warnings\n",
    "warnings.filterwarnings('ignore') # отключаем сообщения об ошибках pandas\n",
    "pd.set_option('display.max_columns', None) # Сброс ограничений на число выводимых столбцов\n",
    "from sklearn.ensemble import RandomForestClassifier\n",
    "from sklearn.model_selection import train_test_split\n",
    "from sklearn.preprocessing import StandardScaler\n",
    "from sklearn.tree import DecisionTreeClassifier\n",
    "from sklearn.linear_model import LogisticRegression\n",
    "from sklearn.metrics import f1_score \n",
    "from sklearn.metrics import roc_auc_score\n",
    "from sklearn.metrics import recall_score\n",
    "from sklearn.metrics import precision_score\n",
    "import torch.nn as nn # импорт библиотеки для построения нейросети\n",
    "import torch\n",
    "import random\n",
    "from torchmetrics import ROC\n",
    "import numpy as np\n",
    "from math import ceil\n",
    "from torchmetrics import MetricCollection, Accuracy, Precision, Recall\n"
   ]
  },
  {
   "cell_type": "markdown",
   "metadata": {
    "id": "XnOE3n28DWKg"
   },
   "source": [
    "## Загрузка и исследование данных базы SQL"
   ]
  },
  {
   "cell_type": "markdown",
   "metadata": {},
   "source": [
    "### Подсоединяемся к базе данных SQL"
   ]
  },
  {
   "cell_type": "code",
   "execution_count": 2,
   "metadata": {
    "id": "6p-yGp7qDWKg"
   },
   "outputs": [],
   "source": [
    "db_config = {\n",
    "'user': 'praktikum_student', # имя пользователя,\n",
    "'pwd': 'Sdf4$2;d-d30pp', # пароль,\n",
    "'host': 'rc1b-wcoijxj3yxfsf3fs.mdb.yandexcloud.net',\n",
    "'port': 6432, # порт подключения,\n",
    "'db': 'data-science-vehicle-db' # название базы данных,\n",
    "}  \n",
    "\n",
    "connection_string = 'postgresql://{}:{}@{}:{}/{}'.format(\n",
    "    db_config['user'],\n",
    "    db_config['pwd'],\n",
    "    db_config['host'],\n",
    "    db_config['port'],\n",
    "    db_config['db'],\n",
    ")"
   ]
  },
  {
   "cell_type": "markdown",
   "metadata": {
    "id": "2Rg8ZpS0DWKh"
   },
   "source": [
    "Создание подключения"
   ]
  },
  {
   "cell_type": "code",
   "execution_count": 3,
   "metadata": {
    "id": "DamCUTR6DWKi"
   },
   "outputs": [],
   "source": [
    "engine = create_engine(connection_string) "
   ]
  },
  {
   "cell_type": "markdown",
   "metadata": {},
   "source": [
    "### ER - диаграмма"
   ]
  },
  {
   "attachments": {
    "image.png": {
     "image/png": "[encoded data removed]"
    }
   },
   "cell_type": "markdown",
   "metadata": {},
   "source": [
    "![image.png](attachment:image.png)"
   ]
  },
  {
   "cell_type": "markdown",
   "metadata": {},
   "source": [
    "## Проведем первичное исследование таблиц"
   ]
  },
  {
   "cell_type": "markdown",
   "metadata": {},
   "source": [
    "### Таблица collisions — общая информация о ДТП"
   ]
  },
  {
   "cell_type": "markdown",
   "metadata": {
    "id": "bel8XeSlDWKj"
   },
   "source": [
    "Запрос к базе данных и сохранение в виде таблицы Пандас, c фильтрацией для 2012 года (по условиям от клиента)"
   ]
  },
  {
   "cell_type": "code",
   "execution_count": 4,
   "metadata": {
    "id": "6Z_fw0yLDWKk"
   },
   "outputs": [],
   "source": [
    "query_collisions = '''\n",
    "SELECT *\n",
    "FROM collisions\n",
    "WHERE CAST(collision_date AS date) between '2012-01-01' and '2012-12-31';\n",
    "'''"
   ]
  },
  {
   "cell_type": "code",
   "execution_count": 5,
   "metadata": {
    "id": "ZpuZ290oDWKk",
    "outputId": "22785a0a-e2bc-4559-ec3c-4879c4b377eb"
   },
   "outputs": [
    {
     "name": "stdout",
     "output_type": "stream",
     "text": [
      "CPU times: total: 2.14 s\n",
      "Wall time: 8.11 s\n"
     ]
    },
    {
     "data": {
      "text/html": [
       "<div>\n",
       "<style scoped>\n",
       "    .dataframe tbody tr th:only-of-type {\n",
       "        vertical-align: middle;\n",
       "    }\n",
       "\n",
       "    .dataframe tbody tr th {\n",
       "        vertical-align: top;\n",
       "    }\n",
       "\n",
       "    .dataframe thead th {\n",
       "        text-align: right;\n",
       "    }\n",
       "</style>\n",
       "<table border=\"1\" class=\"dataframe\">\n",
       "  <thead>\n",
       "    <tr style=\"text-align: right;\">\n",
       "      <th></th>\n",
       "      <th>case_id</th>\n",
       "      <th>county_city_location</th>\n",
       "      <th>county_location</th>\n",
       "      <th>distance</th>\n",
       "      <th>direction</th>\n",
       "      <th>intersection</th>\n",
       "      <th>weather_1</th>\n",
       "      <th>location_type</th>\n",
       "      <th>collision_damage</th>\n",
       "      <th>party_count</th>\n",
       "      <th>primary_collision_factor</th>\n",
       "      <th>pcf_violation_category</th>\n",
       "      <th>type_of_collision</th>\n",
       "      <th>motor_vehicle_involved_with</th>\n",
       "      <th>road_surface</th>\n",
       "      <th>road_condition_1</th>\n",
       "      <th>lighting</th>\n",
       "      <th>control_device</th>\n",
       "      <th>collision_date</th>\n",
       "      <th>collision_time</th>\n",
       "    </tr>\n",
       "  </thead>\n",
       "  <tbody>\n",
       "    <tr>\n",
       "      <th>0</th>\n",
       "      <td>4750401</td>\n",
       "      <td>0103</td>\n",
       "      <td>alameda</td>\n",
       "      <td>0.0</td>\n",
       "      <td>None</td>\n",
       "      <td>1.0</td>\n",
       "      <td>cloudy</td>\n",
       "      <td>None</td>\n",
       "      <td>scratch</td>\n",
       "      <td>2</td>\n",
       "      <td>vehicle code violation</td>\n",
       "      <td>traffic signals and signs</td>\n",
       "      <td>broadside</td>\n",
       "      <td>other motor vehicle</td>\n",
       "      <td>wet</td>\n",
       "      <td>normal</td>\n",
       "      <td>daylight</td>\n",
       "      <td>functioning</td>\n",
       "      <td>2012-04-10</td>\n",
       "      <td>13:47:00</td>\n",
       "    </tr>\n",
       "    <tr>\n",
       "      <th>1</th>\n",
       "      <td>5087612</td>\n",
       "      <td>3300</td>\n",
       "      <td>riverside</td>\n",
       "      <td>450.0</td>\n",
       "      <td>north</td>\n",
       "      <td>0.0</td>\n",
       "      <td>clear</td>\n",
       "      <td>ramp</td>\n",
       "      <td>scratch</td>\n",
       "      <td>2</td>\n",
       "      <td>vehicle code violation</td>\n",
       "      <td>dui</td>\n",
       "      <td>rear end</td>\n",
       "      <td>other motor vehicle</td>\n",
       "      <td>dry</td>\n",
       "      <td>normal</td>\n",
       "      <td>dark with street lights not functioning</td>\n",
       "      <td>none</td>\n",
       "      <td>2012-01-15</td>\n",
       "      <td>20:23:00</td>\n",
       "    </tr>\n",
       "    <tr>\n",
       "      <th>2</th>\n",
       "      <td>5125192</td>\n",
       "      <td>4312</td>\n",
       "      <td>santa clara</td>\n",
       "      <td>30.0</td>\n",
       "      <td>south</td>\n",
       "      <td>0.0</td>\n",
       "      <td>cloudy</td>\n",
       "      <td>None</td>\n",
       "      <td>small damage</td>\n",
       "      <td>2</td>\n",
       "      <td>vehicle code violation</td>\n",
       "      <td>unsafe starting or backing</td>\n",
       "      <td>other</td>\n",
       "      <td>parked motor vehicle</td>\n",
       "      <td>dry</td>\n",
       "      <td>normal</td>\n",
       "      <td>daylight</td>\n",
       "      <td>functioning</td>\n",
       "      <td>2012-03-16</td>\n",
       "      <td>14:35:00</td>\n",
       "    </tr>\n",
       "    <tr>\n",
       "      <th>3</th>\n",
       "      <td>5457328</td>\n",
       "      <td>3711</td>\n",
       "      <td>san diego</td>\n",
       "      <td>5.0</td>\n",
       "      <td>west</td>\n",
       "      <td>0.0</td>\n",
       "      <td>clear</td>\n",
       "      <td>None</td>\n",
       "      <td>middle damage</td>\n",
       "      <td>2</td>\n",
       "      <td>None</td>\n",
       "      <td>None</td>\n",
       "      <td>broadside</td>\n",
       "      <td>bicycle</td>\n",
       "      <td>dry</td>\n",
       "      <td>normal</td>\n",
       "      <td>daylight</td>\n",
       "      <td>none</td>\n",
       "      <td>2012-01-20</td>\n",
       "      <td>13:30:00</td>\n",
       "    </tr>\n",
       "    <tr>\n",
       "      <th>4</th>\n",
       "      <td>5356548</td>\n",
       "      <td>3400</td>\n",
       "      <td>sacramento</td>\n",
       "      <td>10.0</td>\n",
       "      <td>south</td>\n",
       "      <td>0.0</td>\n",
       "      <td>clear</td>\n",
       "      <td>None</td>\n",
       "      <td>scratch</td>\n",
       "      <td>2</td>\n",
       "      <td>vehicle code violation</td>\n",
       "      <td>other hazardous violation</td>\n",
       "      <td>other</td>\n",
       "      <td>bicycle</td>\n",
       "      <td>dry</td>\n",
       "      <td>normal</td>\n",
       "      <td>daylight</td>\n",
       "      <td>functioning</td>\n",
       "      <td>2012-10-19</td>\n",
       "      <td>16:50:00</td>\n",
       "    </tr>\n",
       "  </tbody>\n",
       "</table>\n",
       "</div>"
      ],
      "text/plain": [
       "   case_id county_city_location county_location  distance direction  \\\n",
       "0  4750401                 0103         alameda       0.0      None   \n",
       "1  5087612                 3300       riverside     450.0     north   \n",
       "2  5125192                 4312     santa clara      30.0     south   \n",
       "3  5457328                 3711       san diego       5.0      west   \n",
       "4  5356548                 3400      sacramento      10.0     south   \n",
       "\n",
       "   intersection weather_1 location_type collision_damage  party_count  \\\n",
       "0           1.0    cloudy          None          scratch            2   \n",
       "1           0.0     clear          ramp          scratch            2   \n",
       "2           0.0    cloudy          None     small damage            2   \n",
       "3           0.0     clear          None    middle damage            2   \n",
       "4           0.0     clear          None          scratch            2   \n",
       "\n",
       "  primary_collision_factor      pcf_violation_category type_of_collision  \\\n",
       "0   vehicle code violation   traffic signals and signs         broadside   \n",
       "1   vehicle code violation                         dui          rear end   \n",
       "2   vehicle code violation  unsafe starting or backing             other   \n",
       "3                     None                        None         broadside   \n",
       "4   vehicle code violation   other hazardous violation             other   \n",
       "\n",
       "  motor_vehicle_involved_with road_surface road_condition_1  \\\n",
       "0         other motor vehicle          wet           normal   \n",
       "1         other motor vehicle          dry           normal   \n",
       "2        parked motor vehicle          dry           normal   \n",
       "3                     bicycle          dry           normal   \n",
       "4                     bicycle          dry           normal   \n",
       "\n",
       "                                  lighting control_device collision_date  \\\n",
       "0                                 daylight    functioning     2012-04-10   \n",
       "1  dark with street lights not functioning           none     2012-01-15   \n",
       "2                                 daylight    functioning     2012-03-16   \n",
       "3                                 daylight           none     2012-01-20   \n",
       "4                                 daylight    functioning     2012-10-19   \n",
       "\n",
       "  collision_time  \n",
       "0       13:47:00  \n",
       "1       20:23:00  \n",
       "2       14:35:00  \n",
       "3       13:30:00  \n",
       "4       16:50:00  "
      ]
     },
     "execution_count": 5,
     "metadata": {},
     "output_type": "execute_result"
    }
   ],
   "source": [
    "%%time\n",
    "df_collisions = pd.read_sql_query(query_collisions, con=engine) \n",
    "df_collisions.head()"
   ]
  },
  {
   "cell_type": "raw",
   "metadata": {},
   "source": [
    "Интересно что формирование полной этой таблицы в 1,4 млн строк занимает несколько минут, а таблиц с меньшим количеством столбцов (столько же строк) гораздо меньше."
   ]
  },
  {
   "cell_type": "markdown",
   "metadata": {},
   "source": [
    "<b>Описание таблицы\n",
    "\n",
    "\n",
    "CASE_ID\tУникальный номер для зарегистрированного происшествия в таблице происшествий.\n",
    "\n",
    ".\n",
    "\n",
    "Дата происшествия\tCOLLISION_DATE\tФормат год/месяц/день\n",
    "\n",
    "\n",
    "Время происшествия\tCOLLISION_TIME\tФормат: 24-часовой\n",
    "\n",
    "\n",
    "Является ли место происшествие перекрёстком\tINTERSECTION</b>\n",
    "\n",
    "1 — Intersection (перекрёсток)\n",
    "\n",
    "0 — Not Intersection (не перекрёсток)\n",
    "\n",
    " -- — Not stated (Не указано)\n",
    "\n",
    "\n",
    "<b>Погода\tWEATHER_1</b>\n",
    "\n",
    "A — Clear (Ясно)\n",
    "\n",
    "B — Cloudy (Облачно)\n",
    "\n",
    "C — Raining (Дождь)\n",
    "\n",
    "D — Snowing (Снегопад\n",
    ")\n",
    "E — Fog (Туман)\n",
    "\n",
    "F — Other (Другое)\n",
    "\n",
    "G — Wind (Ветер)\n",
    "\n",
    " — Not Stated (Не указано)\n",
    "\n",
    "\n",
    "<b>Серьёзность происшествия\tCOLLISION_DAMAGE</b>\n",
    "\n",
    "1 — FATAL ТС (Не подлежит восстановлению)\n",
    "\n",
    "2 — SEVERE DAMAGE (Серьёзный ремонт, большая часть под замену/Серьёзное повреждение капитального строения)\n",
    "\n",
    "3 — MIDDLE DAMAGE (Средний ремонт, машина в целом на ходу/Строение в целом устояло)\n",
    "\n",
    "4 — SMALL DAMAGE (Отдельный элемент кузова под замену/покраску)\n",
    "\n",
    "0 – SCRATCH (Царапина)\n",
    "\n",
    "\n",
    "\n",
    "<b>Основной фактор аварии\tPRIMARY_COLL_FACTOR</b>\n",
    "\n",
    "A — Code Violation (Нарушение правил ПДД)\n",
    "\n",
    "B — Other Improper Driving (Другое неправильное вождение)\n",
    "\n",
    "C — Other Than Driver (Кроме водителя)\n",
    "\n",
    "D — Unknown (Неизвестно)\n",
    "\n",
    "E — Fell Asleep (Заснул)\n",
    "\n",
    " — Not Stated (Не указано)\n",
    "\n",
    "\n",
    "<b>Состояние дороги\tROAD_SURFACE</b>\n",
    "\n",
    "A — Dry (Сухая)\n",
    "\n",
    "B — Wet (Мокрая)\n",
    "\n",
    "C — Snowy or Icy (Заснеженная или обледенелая)\n",
    "\n",
    "D — Slippery (Muddy, Oily, etc.) (Скользкая, грязная, маслянистая и т. д.)\n",
    "\n",
    " — Not Stated (Не указано)\n",
    "\n",
    "\n",
    "<b>Освещение\tLIGHTING</b>\n",
    "\n",
    "A — Daylight (Дневной свет)\n",
    "\n",
    "B — Dusk-Dawn (Сумерки-Рассвет)\n",
    "\n",
    "C — Dark-Street Lights (Темно-Уличные фонари)\n",
    "\n",
    "D — Dark-No Street Lights (Темно-Нет уличных фонарей)\n",
    "\n",
    "E — Dark-Street Lights Not Functioning (Темно-Уличные фонари не работают)\n",
    "\n",
    "  — Not Stated (Не указано)\n",
    "\n",
    "\n",
    "<b>Номер географических районов, где произошло ДТП\tCOUNTY_CITY_LOCATION</b>\tчисло\n",
    "    \n",
    "    \n",
    "<b>Названия географических районов, где произошло ДТП\tCOUNTY_LOCATION</b>\tсписок разных названий, категориальный тип данных\n",
    "\n",
    "\n",
    "<b>Направление движения на перекрёстке\tDIRECTION</b>\n",
    "\n",
    "N — North (Север)\n",
    "\n",
    "E — East (Восток)\n",
    "\n",
    "S — South (Юг)\n",
    "\n",
    "W — West (Запад)\n",
    "\n",
    " - or blank — Not State (Не указано)\n",
    "\n",
    "\n",
    "\n",
    "<b>Расстояние от главной дороги (метры)\tDISTANCE</b>\tчисло\n",
    "\n",
    "\n",
    "<b>Тип дороги\tLOCATION_TYPE</b>\n",
    "\n",
    "H — Highway (Шоссе)\n",
    "\n",
    "I — Intersection (Перекрёсток)\n",
    "\n",
    "R — Ramp (or Collector) (Рампа)\n",
    "\n",
    "- or blank — Not State Highway (Не указано)\n",
    "\n",
    "\n",
    "<b>Количество участников\tPARTY_COUNT</b>\tчисло\n",
    "    \n",
    "<b>Категория нарушения\tPCF_VIOLATION_CATEGORY</b>\n",
    "\n",
    "01 — Driving or Bicycling Under the Influence of Alcohol or Drug (Вождение или езда на велосипеде в состоянии алкогольного или наркотического опьянения)\n",
    "\n",
    "02 — Impeding Traffic (Препятствие движению транспорта)\n",
    "\n",
    "03 — Unsafe Speed (Превышение скорости)\n",
    "\n",
    "04 — Following Too Closely (Опасное сближение)\n",
    "\n",
    "05 — Wrong Side of Road (Неправильная сторона дороги)\n",
    "\n",
    "06 — Improper Passing (Неправильное движение)\n",
    "\n",
    "07 — Unsafe Lane Change (Небезопасная смена полосы движения)\n",
    "\n",
    "08 — Improper Turning (Неправильный поворот)\n",
    "\n",
    "09 — Automobile Right of Way (Автомобильное право проезда)\n",
    "\n",
    "10 — Pedestrian Right of Way (Пешеходное право проезда)\n",
    "\n",
    "11 — Pedestrian Violation (Нарушение пешеходами)\n",
    "\n",
    "12 — Traffic Signals and Signs (Дорожные сигналы и знаки)\n",
    "\n",
    "13 — Hazardous Parking (Неправильная парковка)\n",
    "\n",
    "14 — Lights (Освещение)\n",
    "\n",
    "15 — Brakes (Тормоза)\n",
    "\n",
    "16 — Other Equipment (Другое оборудование)\n",
    "\n",
    "17 — Other Hazardous Violation (Другие нарушения)\n",
    "\n",
    "18 — Other Than Driver (or Pedestrian) (Кроме водителя или пешехода)\n",
    "\n",
    "19 — Speeding (Скорость)\n",
    "\n",
    "20 — Pedestrian dui (Нарушение пешехода)\n",
    "\n",
    "21 — Unsafe Starting or Backing (Опасный старт)\n",
    "\n",
    "22 — Other Improper Driving (Другое неправильное вождение)\n",
    "\n",
    "23 — Pedestrian or “Other” Under the Influence of Alcohol or Drug (Пешеход или «Другой» в состоянии алкогольного или наркотического опьянения)\n",
    "\n",
    "24 — Fell Asleep (Заснул)\n",
    "\n",
    "00 — Unknown (Неизвестно)\n",
    "\n",
    "  — Not Stated (Не указано)\n",
    "\n",
    "\n",
    "<b>Тип аварии\tTYPE_OF_COLLISION</b>\n",
    "\n",
    "A — Head-On (Лоб в лоб)\n",
    "\n",
    "B — Sideswipe (Сторона)\n",
    "\n",
    "C — Rear End (Столкновение задней частью)\n",
    "\n",
    "D — Broadside (Боковой удар)\n",
    "\n",
    "E — Hit Object (Удар объекта)\n",
    "\n",
    "F — Overturned (Опрокинутый)\n",
    "\n",
    "G — Vehicle (транспортное средство/ Пешеход)\n",
    "\n",
    "H — Other (Другое)\n",
    "\n",
    "  — Not Stated (Не указано)\n",
    "\n",
    "\n",
    "<b>Дополнительные участники ДТП\tMOTOR_VEHICLE_INVOLVED_WITH</b>\n",
    "\n",
    "Other motor vehicle (Другой автомобиль)\n",
    "\n",
    "Fixed object (Неподвижный объект)\n",
    "\n",
    "Parked motor vehicle (Припаркованный автомобиль)\n",
    "\n",
    "Pedestrian (Пешеход)\n",
    "\n",
    "Bicycle (Велосипедист)\n",
    "\n",
    "Non-collision (Не столкновение)\n",
    "\n",
    "Other object (Другой объект)\n",
    "\n",
    "Motor vehicle on other roadway (Автомобиль на другой проезжей)\n",
    "\n",
    "Animal (Животное)\n",
    "\n",
    "Train (Поезд)\n",
    "\n",
    "\n",
    "<b>Дорожное состояние\tROAD_CONDITION_1</b>\n",
    "\n",
    "A — Holes, Deep Ruts (Ямы, глубокая колея)\n",
    "\n",
    "B — Loose Material on Roadway (Сыпучий материал на проезжей части)\n",
    "\n",
    "C — Obstruction on Roadway (Препятствие на проезжей части)\n",
    "\n",
    "D — Construction or Repair Zone (Зона строительства или ремонта)\n",
    "\n",
    "E — Reduced Roadway Width (Уменьшенная ширина проезжей части)\n",
    "\n",
    "F — Flooded (Затоплено)\n",
    "\n",
    "G — Other (Другое)\n",
    "\n",
    "H — No Unusual Condition (Нет ничего необычного)\n",
    "\n",
    "  — Not Stated (Не указано)\n",
    "\n",
    "\n",
    "<b>Устройство управления\tCONTROL_device</b>\n",
    "\n",
    "A — Functioning (Функционирует)\n",
    "\n",
    "B — Not Functioning (Не функционирует)\n",
    "\n",
    "C — Obscured (Затемнённый)\n",
    "\n",
    "D — None (Нет)\n",
    "\n",
    "  — Not Stated (Не указано)"
   ]
  },
  {
   "cell_type": "code",
   "execution_count": 6,
   "metadata": {},
   "outputs": [
    {
     "name": "stdout",
     "output_type": "stream",
     "text": [
      "<class 'pandas.core.frame.DataFrame'>\n",
      "RangeIndex: 154551 entries, 0 to 154550\n",
      "Data columns (total 20 columns):\n",
      " #   Column                       Non-Null Count   Dtype  \n",
      "---  ------                       --------------   -----  \n",
      " 0   case_id                      154551 non-null  object \n",
      " 1   county_city_location         154551 non-null  object \n",
      " 2   county_location              154551 non-null  object \n",
      " 3   distance                     154551 non-null  float64\n",
      " 4   direction                    118514 non-null  object \n",
      " 5   intersection                 153641 non-null  float64\n",
      " 6   weather_1                    154000 non-null  object \n",
      " 7   location_type                59407 non-null   object \n",
      " 8   collision_damage             154551 non-null  object \n",
      " 9   party_count                  154551 non-null  int64  \n",
      " 10  primary_collision_factor     153863 non-null  object \n",
      " 11  pcf_violation_category       151460 non-null  object \n",
      " 12  type_of_collision            153221 non-null  object \n",
      " 13  motor_vehicle_involved_with  153768 non-null  object \n",
      " 14  road_surface                 153371 non-null  object \n",
      " 15  road_condition_1             153543 non-null  object \n",
      " 16  lighting                     153886 non-null  object \n",
      " 17  control_device               153675 non-null  object \n",
      " 18  collision_date               154551 non-null  object \n",
      " 19  collision_time               153202 non-null  object \n",
      "dtypes: float64(2), int64(1), object(17)\n",
      "memory usage: 23.6+ MB\n"
     ]
    }
   ],
   "source": [
    "df_collisions.info()"
   ]
  },
  {
   "cell_type": "markdown",
   "metadata": {},
   "source": [
    "Проверим на явные дубликатЫ"
   ]
  },
  {
   "cell_type": "code",
   "execution_count": 7,
   "metadata": {},
   "outputs": [
    {
     "data": {
      "text/plain": [
       "0"
      ]
     },
     "execution_count": 7,
     "metadata": {},
     "output_type": "execute_result"
    }
   ],
   "source": [
    "df_collisions.duplicated().sum()"
   ]
  },
  {
   "cell_type": "markdown",
   "metadata": {},
   "source": [
    "Проверим все текстовые столбцы на не явные дубликаты"
   ]
  },
  {
   "cell_type": "markdown",
   "metadata": {},
   "source": [
    "Список нужных столбцов:"
   ]
  },
  {
   "cell_type": "code",
   "execution_count": 8,
   "metadata": {},
   "outputs": [],
   "source": [
    "lister = ['county_city_location', 'county_location',\n",
    "       'direction', 'intersection', 'weather_1', 'location_type',\n",
    "       'collision_damage', 'party_count', 'primary_collision_factor',\n",
    "       'pcf_violation_category', 'type_of_collision',\n",
    "       'motor_vehicle_involved_with', 'road_surface', 'road_condition_1',\n",
    "       'lighting', 'control_device']"
   ]
  },
  {
   "cell_type": "code",
   "execution_count": 9,
   "metadata": {},
   "outputs": [
    {
     "name": "stdout",
     "output_type": "stream",
     "text": [
      "county_city_location\n"
     ]
    },
    {
     "data": {
      "text/plain": [
       "array(['0103', '3300', '4312', '3711', '3400', '1942', '4313', '1500',\n",
       "       '3600', '3500', '3401', '4000', '1200', '1976', '1941', '1203',\n",
       "       '0900', '1915', '3700', '1919', '5002', '3900', '3100', '3200',\n",
       "       '1985', '0400', '4307', '2900', '2200', '3020', '1300', '3602',\n",
       "       '1600', '3404', '3302', '5703', '5400', '3906', '4900', '3019',\n",
       "       '5406', '4203', '3605', '3612', '1000', '5607', '4500', '3001',\n",
       "       '4400', '3029', '2300', '1964', '2002', '1900', '1800', '0105',\n",
       "       '1956', '4200', '2700', '3026', '5800', '1992', '3702', '2400',\n",
       "       '1952', '1931', '3105', '0112', '3619', '1950', '1301', '3616',\n",
       "       '4302', '1961', '3313', '2000', '5600', '3040', '0700', '3905',\n",
       "       '0100', '3607', '3325', '5405', '0109', '3010', '1975', '1925',\n",
       "       '1953', '5704', '3024', '0800', '1502', '3308', '0500', '0113',\n",
       "       '4803', '0106', '4113', '4402', '5202', '3490', '3012', '1922',\n",
       "       '1926', '1906', '3701', '2805', '2802', '3342', '1929', '4806',\n",
       "       '3604', '0710', '5604', '5601', '3630', '0403', '3312', '0300',\n",
       "       '5000', '4005', '3315', '3104', '2109', '1012', '1971', '3394',\n",
       "       '3015', '3022', '3008', '3345', '3016', '3003', '3318', '0791',\n",
       "       '4116', '0107', '4109', '3007', '1969', '4106', '3014', '3611',\n",
       "       '1967', '3712', '3710', '1995', '1960', '3009', '1932', '1937',\n",
       "       '4104', '2100', '3801', '2104', '3314', '4314', '3341', '3002',\n",
       "       '4801', '4114', '4117', '4111', '4807', '4800', '3450', '1920',\n",
       "       '3706', '3000', '0704', '1928', '3705', '2106', '5200', '1700',\n",
       "       '3045', '0600', '3343', '4204', '1994', '1951', '0402', '1990',\n",
       "       '4305', '2105', '0101', '1949', '1005', '5608', '3011', '1912',\n",
       "       '4102', '2800', '2500', '5609', '1955', '4300', '3618', '3402',\n",
       "       '4006', '1916', '3305', '1962', '4008', '4700', '2908', '0708',\n",
       "       '5007', '2701', '5700', '5701', '5500', '0108', '1902', '3311',\n",
       "       '4908', '4905', '3713', '4212', '3335', '2406', '1100', '5001',\n",
       "       '4118', '4120', '4311', '3028', '3018', '1908', '1936', '3496',\n",
       "       '0111', '2902', '0790', '4903', '1400', '3004', '2600', '1973',\n",
       "       '5801', '2401', '3310', '1972', '5602', '3336', '4802', '4100',\n",
       "       '1913', '1921', '1934', '2708', '4115', '5102', '2706', '4904',\n",
       "       '3025', '4316', '3309', '1965', '1989', '5690', '1948', '1702',\n",
       "       '0198', '3006', '3301', '3106', '3603', '1501', '3609', '0701',\n",
       "       '4310', '2405', '4214', '1905', '3101', '5100', '0792', '4502',\n",
       "       '4804', '4907', '3709', '4304', '4308', '4103', '3617', '1923',\n",
       "       '4001', '3050', '2108', '3903', '1910', '0734', '3640', '3049',\n",
       "       '1304', '1968', '5300', '0405', '0707', '5201', '0712', '1914',\n",
       "       '4004', '4403', '1509', '1909', '1943', '1944', '1977', '3708',\n",
       "       '2710', '0709', '1901', '4902', '4980', '2712', '1015', '4404',\n",
       "       '3920', '0715', '0714', '3720', '1903', '2102', '3017', '1001',\n",
       "       '2301', '1945', '4708', '1954', '1999', '1947', '3048', '1602',\n",
       "       '3621', '1959', '4206', '4107', '3610', '1907', '1101', '1002',\n",
       "       '4315', '3904', '0200', '1946', '3344', '1939', '0902', '4303',\n",
       "       '3703', '3307', '5006', '4127', '4306', '1974', '2901', '3601',\n",
       "       '3608', '2709', '2703', '4901', '4202', '3317', '1935', '1979',\n",
       "       '1938', '0104', '1917', '1013', '1918', '3680', '5004', '5603',\n",
       "       '1927', '4600', '1008', '3316', '4110', '3615', '0711', '0302',\n",
       "       '3781', '3013', '0706', '4401', '5605', '0716', '2303', '2110',\n",
       "       '4101', '4108', '4205', '3902', '3782', '3606', '5407', '1991',\n",
       "       '3392', '1205', '2707', '4706', '1801', '0102', '1993', '5606',\n",
       "       '1503', '4906', '5408', '1201', '3783', '1507', '4501', '5003',\n",
       "       '1933', '1603', '0702', '1401', '0110', '1510', '5404', '2111',\n",
       "       '3021', '3780', '0602', '4805', '5008', '3051', '0303', '1506',\n",
       "       '5101', '2601', '4002', '5403', '0901', '1511', '2804', '4119',\n",
       "       '4003', '0705', '3306', '1963', '0801', '3337', '1508', '3501',\n",
       "       '2704', '2001', '5005', '4201', '0305', '0404', '1007', '1302',\n",
       "       '3704', '5702', '3613', '4105', '0601', '0703', '1011', '3631',\n",
       "       '3103', '0301', '1924', '4580', '0501', '4112', '3707', '1004',\n",
       "       '3201', '3690', '2801', '1601', '2103', '2711', '1505', '5009',\n",
       "       '3023', '4709', '5501', '2803', '3005', '3901', '2403', '1970',\n",
       "       '1980', '1958', '1306', '1504', '1690', '5802', '2404', '2705',\n",
       "       '3303', '1305', '1515', '1010', '1930', '2101', '4702', '2304',\n",
       "       '5203', '3102', '0401', '4704', '1701', '1009', '1003', '1014',\n",
       "       '0713', '4701', '1102', '0304'], dtype=object)"
      ]
     },
     "metadata": {},
     "output_type": "display_data"
    },
    {
     "name": "stdout",
     "output_type": "stream",
     "text": [
      "\n",
      "county_location\n"
     ]
    },
    {
     "data": {
      "text/plain": [
       "array(['alameda', 'riverside', 'santa clara', 'san diego', 'sacramento',\n",
       "       'los angeles', 'kern', 'san bernardino', 'san benito',\n",
       "       'san luis obispo', 'humboldt', 'el dorado', 'stanislaus',\n",
       "       'san joaquin', 'placer', 'plumas', 'butte', 'nevada', 'mariposa',\n",
       "       'orange', 'imperial', 'kings', 'yolo', 'tulare', 'sonoma',\n",
       "       'santa barbara', 'fresno', 'ventura', 'shasta', 'santa cruz',\n",
       "       'mendocino', 'madera', 'lassen', 'monterey', 'yuba', 'merced',\n",
       "       'contra costa', 'del norte', 'calaveras', 'solano', 'san mateo',\n",
       "       'tehama', 'napa', 'amador', 'marin', 'san francisco', 'lake',\n",
       "       'colusa', 'modoc', 'siskiyou', 'tuolumne', 'glenn', 'inyo', 'mono',\n",
       "       'sutter', 'trinity', 'alpine', 'sierra'], dtype=object)"
      ]
     },
     "metadata": {},
     "output_type": "display_data"
    },
    {
     "name": "stdout",
     "output_type": "stream",
     "text": [
      "\n",
      "direction\n"
     ]
    },
    {
     "data": {
      "text/plain": [
       "array([None, 'north', 'south', 'west', 'east'], dtype=object)"
      ]
     },
     "metadata": {},
     "output_type": "display_data"
    },
    {
     "name": "stdout",
     "output_type": "stream",
     "text": [
      "\n",
      "intersection\n"
     ]
    },
    {
     "data": {
      "text/plain": [
       "array([ 1.,  0., nan])"
      ]
     },
     "metadata": {},
     "output_type": "display_data"
    },
    {
     "name": "stdout",
     "output_type": "stream",
     "text": [
      "\n",
      "weather_1\n"
     ]
    },
    {
     "data": {
      "text/plain": [
       "array(['cloudy', 'clear', 'fog', 'other', 'raining', None, 'snowing',\n",
       "       'wind'], dtype=object)"
      ]
     },
     "metadata": {},
     "output_type": "display_data"
    },
    {
     "name": "stdout",
     "output_type": "stream",
     "text": [
      "\n",
      "location_type\n"
     ]
    },
    {
     "data": {
      "text/plain": [
       "array([None, 'ramp', 'highway', 'intersection'], dtype=object)"
      ]
     },
     "metadata": {},
     "output_type": "display_data"
    },
    {
     "name": "stdout",
     "output_type": "stream",
     "text": [
      "\n",
      "collision_damage\n"
     ]
    },
    {
     "data": {
      "text/plain": [
       "array(['scratch', 'small damage', 'middle damage', 'fatal',\n",
       "       'severe damage'], dtype=object)"
      ]
     },
     "metadata": {},
     "output_type": "display_data"
    },
    {
     "name": "stdout",
     "output_type": "stream",
     "text": [
      "\n",
      "party_count\n"
     ]
    },
    {
     "data": {
      "text/plain": [
       "array([ 2,  3,  1,  5,  4,  7,  6,  8,  9, 10, 12], dtype=int64)"
      ]
     },
     "metadata": {},
     "output_type": "display_data"
    },
    {
     "name": "stdout",
     "output_type": "stream",
     "text": [
      "\n",
      "primary_collision_factor\n"
     ]
    },
    {
     "data": {
      "text/plain": [
       "array(['vehicle code violation', None, 'other improper driving',\n",
       "       'unknown', 'other than driver', 'fell asleep'], dtype=object)"
      ]
     },
     "metadata": {},
     "output_type": "display_data"
    },
    {
     "name": "stdout",
     "output_type": "stream",
     "text": [
      "\n",
      "pcf_violation_category\n"
     ]
    },
    {
     "data": {
      "text/plain": [
       "array(['traffic signals and signs', 'dui', 'unsafe starting or backing',\n",
       "       None, 'other hazardous violation', 'automobile right of way',\n",
       "       'other improper driving', 'improper turning', 'speeding',\n",
       "       'wrong side of road', 'unknown', 'improper passing',\n",
       "       'other equipment', 'pedestrian right of way', 'unsafe lane change',\n",
       "       'following too closely', 'hazardous parking', 'impeding traffic',\n",
       "       'other than driver (or pedestrian)', 'pedestrian violation',\n",
       "       'lights', 'brakes', 'fell asleep'], dtype=object)"
      ]
     },
     "metadata": {},
     "output_type": "display_data"
    },
    {
     "name": "stdout",
     "output_type": "stream",
     "text": [
      "\n",
      "type_of_collision\n"
     ]
    },
    {
     "data": {
      "text/plain": [
       "array(['broadside', 'rear end', 'other', 'hit object', 'overturned',\n",
       "       'head-on', 'sideswipe', None], dtype=object)"
      ]
     },
     "metadata": {},
     "output_type": "display_data"
    },
    {
     "name": "stdout",
     "output_type": "stream",
     "text": [
      "\n",
      "motor_vehicle_involved_with\n"
     ]
    },
    {
     "data": {
      "text/plain": [
       "array(['other motor vehicle', 'parked motor vehicle', 'bicycle', None,\n",
       "       'fixed object', 'non-collision', 'other object', 'train',\n",
       "       'motor vehicle on other roadway', 'animal'], dtype=object)"
      ]
     },
     "metadata": {},
     "output_type": "display_data"
    },
    {
     "name": "stdout",
     "output_type": "stream",
     "text": [
      "\n",
      "road_surface\n"
     ]
    },
    {
     "data": {
      "text/plain": [
       "array(['wet', 'dry', 'snowy', None, 'slippery'], dtype=object)"
      ]
     },
     "metadata": {},
     "output_type": "display_data"
    },
    {
     "name": "stdout",
     "output_type": "stream",
     "text": [
      "\n",
      "road_condition_1\n"
     ]
    },
    {
     "data": {
      "text/plain": [
       "array(['normal', 'loose material', 'construction', None, 'obstruction',\n",
       "       'flooded', 'holes', 'other', 'reduced width'], dtype=object)"
      ]
     },
     "metadata": {},
     "output_type": "display_data"
    },
    {
     "name": "stdout",
     "output_type": "stream",
     "text": [
      "\n",
      "lighting\n"
     ]
    },
    {
     "data": {
      "text/plain": [
       "array(['daylight', 'dark with street lights not functioning',\n",
       "       'dusk or dawn', 'dark with no street lights',\n",
       "       'dark with street lights', None], dtype=object)"
      ]
     },
     "metadata": {},
     "output_type": "display_data"
    },
    {
     "name": "stdout",
     "output_type": "stream",
     "text": [
      "\n",
      "control_device\n"
     ]
    },
    {
     "data": {
      "text/plain": [
       "array(['functioning', 'none', None, 'not functioning', 'obscured'],\n",
       "      dtype=object)"
      ]
     },
     "metadata": {},
     "output_type": "display_data"
    },
    {
     "name": "stdout",
     "output_type": "stream",
     "text": [
      "\n"
     ]
    }
   ],
   "source": [
    "for col in lister:\n",
    "    print(col)\n",
    "    display(df_collisions[col].unique())\n",
    "    print()"
   ]
  },
  {
   "cell_type": "markdown",
   "metadata": {},
   "source": [
    "Не явных дубликатов нет"
   ]
  },
  {
   "cell_type": "markdown",
   "metadata": {},
   "source": [
    "Посмотрим на основные причины аварий и в каких условиях чаще всего происходят:"
   ]
  },
  {
   "cell_type": "code",
   "execution_count": 10,
   "metadata": {},
   "outputs": [
    {
     "name": "stdout",
     "output_type": "stream",
     "text": [
      "county_city_location\n"
     ]
    },
    {
     "data": {
      "text/plain": [
       "1942    19638\n",
       "1900     5246\n",
       "3711     3507\n",
       "3400     2757\n",
       "4313     2593\n",
       "        ...  \n",
       "0301        1\n",
       "1504        1\n",
       "1958        1\n",
       "3201        1\n",
       "0304        1\n",
       "Name: county_city_location, Length: 516, dtype: int64"
      ]
     },
     "metadata": {},
     "output_type": "display_data"
    },
    {
     "name": "stdout",
     "output_type": "stream",
     "text": [
      "\n",
      "county_location\n"
     ]
    },
    {
     "data": {
      "text/plain": [
       "los angeles        49571\n",
       "orange             13994\n",
       "san diego           9262\n",
       "san bernardino      8403\n",
       "riverside           8000\n",
       "alameda             6311\n",
       "sacramento          5819\n",
       "santa clara         5504\n",
       "ventura             3888\n",
       "kern                3506\n",
       "contra costa        3352\n",
       "san mateo           2884\n",
       "fresno              2377\n",
       "san joaquin         2323\n",
       "santa barbara       2211\n",
       "tulare              2137\n",
       "stanislaus          2089\n",
       "sonoma              1969\n",
       "monterey            1689\n",
       "san francisco       1544\n",
       "placer              1519\n",
       "solano              1467\n",
       "san luis obispo     1268\n",
       "santa cruz          1230\n",
       "marin               1145\n",
       "merced              1036\n",
       "humboldt             826\n",
       "butte                795\n",
       "yolo                 794\n",
       "madera               684\n",
       "el dorado            639\n",
       "shasta               628\n",
       "napa                 615\n",
       "kings                491\n",
       "mendocino            482\n",
       "nevada               466\n",
       "imperial             453\n",
       "sutter               346\n",
       "tehama               325\n",
       "yuba                 253\n",
       "lake                 238\n",
       "tuolumne             235\n",
       "calaveras            218\n",
       "amador               195\n",
       "siskiyou             187\n",
       "san benito           169\n",
       "inyo                 132\n",
       "lassen               120\n",
       "colusa               115\n",
       "del norte            114\n",
       "mariposa             105\n",
       "mono                 104\n",
       "glenn                 96\n",
       "plumas                82\n",
       "trinity               54\n",
       "modoc                 38\n",
       "alpine                29\n",
       "sierra                25\n",
       "Name: county_location, dtype: int64"
      ]
     },
     "metadata": {},
     "output_type": "display_data"
    },
    {
     "name": "stdout",
     "output_type": "stream",
     "text": [
      "\n",
      "direction\n"
     ]
    },
    {
     "data": {
      "text/plain": [
       "north    32542\n",
       "south    32501\n",
       "east     26738\n",
       "west     26733\n",
       "Name: direction, dtype: int64"
      ]
     },
     "metadata": {},
     "output_type": "display_data"
    },
    {
     "name": "stdout",
     "output_type": "stream",
     "text": [
      "\n",
      "intersection\n"
     ]
    },
    {
     "data": {
      "text/plain": [
       "0.0    120558\n",
       "1.0     33083\n",
       "Name: intersection, dtype: int64"
      ]
     },
     "metadata": {},
     "output_type": "display_data"
    },
    {
     "name": "stdout",
     "output_type": "stream",
     "text": [
      "\n",
      "weather_1\n"
     ]
    },
    {
     "data": {
      "text/plain": [
       "clear      122592\n",
       "cloudy      23372\n",
       "raining      6938\n",
       "fog           515\n",
       "snowing       368\n",
       "other         169\n",
       "wind           46\n",
       "Name: weather_1, dtype: int64"
      ]
     },
     "metadata": {},
     "output_type": "display_data"
    },
    {
     "name": "stdout",
     "output_type": "stream",
     "text": [
      "\n",
      "location_type\n"
     ]
    },
    {
     "data": {
      "text/plain": [
       "highway         47784\n",
       "ramp             8702\n",
       "intersection     2921\n",
       "Name: location_type, dtype: int64"
      ]
     },
     "metadata": {},
     "output_type": "display_data"
    },
    {
     "name": "stdout",
     "output_type": "stream",
     "text": [
      "\n",
      "collision_damage\n"
     ]
    },
    {
     "data": {
      "text/plain": [
       "small damage     91814\n",
       "scratch          38881\n",
       "middle damage    17957\n",
       "severe damage     3328\n",
       "fatal             2571\n",
       "Name: collision_damage, dtype: int64"
      ]
     },
     "metadata": {},
     "output_type": "display_data"
    },
    {
     "name": "stdout",
     "output_type": "stream",
     "text": [
      "\n",
      "party_count\n"
     ]
    },
    {
     "data": {
      "text/plain": [
       "2     103839\n",
       "1      30805\n",
       "3      15662\n",
       "4       3299\n",
       "5        718\n",
       "6        172\n",
       "7         34\n",
       "8         12\n",
       "9          7\n",
       "10         2\n",
       "12         1\n",
       "Name: party_count, dtype: int64"
      ]
     },
     "metadata": {},
     "output_type": "display_data"
    },
    {
     "name": "stdout",
     "output_type": "stream",
     "text": [
      "\n",
      "primary_collision_factor\n"
     ]
    },
    {
     "data": {
      "text/plain": [
       "vehicle code violation    145804\n",
       "unknown                     3866\n",
       "other than driver           3324\n",
       "other improper driving       862\n",
       "fell asleep                    7\n",
       "Name: primary_collision_factor, dtype: int64"
      ]
     },
     "metadata": {},
     "output_type": "display_data"
    },
    {
     "name": "stdout",
     "output_type": "stream",
     "text": [
      "\n",
      "pcf_violation_category\n"
     ]
    },
    {
     "data": {
      "text/plain": [
       "speeding                             49515\n",
       "improper turning                     26453\n",
       "automobile right of way              16752\n",
       "dui                                  12274\n",
       "unsafe lane change                   10686\n",
       "traffic signals and signs             7813\n",
       "unsafe starting or backing            5808\n",
       "unknown                               4123\n",
       "wrong side of road                    3704\n",
       "other than driver (or pedestrian)     3324\n",
       "following too closely                 3323\n",
       "pedestrian violation                  1785\n",
       "pedestrian right of way               1779\n",
       "other hazardous violation             1458\n",
       "improper passing                      1241\n",
       "other improper driving                 862\n",
       "hazardous parking                      214\n",
       "other equipment                        180\n",
       "impeding traffic                       100\n",
       "brakes                                  30\n",
       "lights                                  29\n",
       "fell asleep                              7\n",
       "Name: pcf_violation_category, dtype: int64"
      ]
     },
     "metadata": {},
     "output_type": "display_data"
    },
    {
     "name": "stdout",
     "output_type": "stream",
     "text": [
      "\n",
      "type_of_collision\n"
     ]
    },
    {
     "data": {
      "text/plain": [
       "rear end      52089\n",
       "broadside     28293\n",
       "sideswipe     26408\n",
       "hit object    26403\n",
       "other          9103\n",
       "head-on        6524\n",
       "overturned     4401\n",
       "Name: type_of_collision, dtype: int64"
      ]
     },
     "metadata": {},
     "output_type": "display_data"
    },
    {
     "name": "stdout",
     "output_type": "stream",
     "text": [
      "\n",
      "motor_vehicle_involved_with\n"
     ]
    },
    {
     "data": {
      "text/plain": [
       "other motor vehicle               98130\n",
       "fixed object                      25576\n",
       "parked motor vehicle              10956\n",
       "other object                       8177\n",
       "bicycle                            4708\n",
       "non-collision                      4445\n",
       "motor vehicle on other roadway     1045\n",
       "animal                              697\n",
       "train                                34\n",
       "Name: motor_vehicle_involved_with, dtype: int64"
      ]
     },
     "metadata": {},
     "output_type": "display_data"
    },
    {
     "name": "stdout",
     "output_type": "stream",
     "text": [
      "\n",
      "road_surface\n"
     ]
    },
    {
     "data": {
      "text/plain": [
       "dry         136494\n",
       "wet          15894\n",
       "snowy          845\n",
       "slippery       138\n",
       "Name: road_surface, dtype: int64"
      ]
     },
     "metadata": {},
     "output_type": "display_data"
    },
    {
     "name": "stdout",
     "output_type": "stream",
     "text": [
      "\n",
      "road_condition_1\n"
     ]
    },
    {
     "data": {
      "text/plain": [
       "normal            148872\n",
       "construction        2250\n",
       "other                663\n",
       "holes                595\n",
       "obstruction          592\n",
       "loose material       294\n",
       "reduced width        177\n",
       "flooded              100\n",
       "Name: road_condition_1, dtype: int64"
      ]
     },
     "metadata": {},
     "output_type": "display_data"
    },
    {
     "name": "stdout",
     "output_type": "stream",
     "text": [
      "\n",
      "lighting\n"
     ]
    },
    {
     "data": {
      "text/plain": [
       "daylight                                   103402\n",
       "dark with street lights                     32715\n",
       "dark with no street lights                  12123\n",
       "dusk or dawn                                 5283\n",
       "dark with street lights not functioning       363\n",
       "Name: lighting, dtype: int64"
      ]
     },
     "metadata": {},
     "output_type": "display_data"
    },
    {
     "name": "stdout",
     "output_type": "stream",
     "text": [
      "\n",
      "control_device\n"
     ]
    },
    {
     "data": {
      "text/plain": [
       "none               102180\n",
       "functioning         51042\n",
       "not functioning       363\n",
       "obscured               90\n",
       "Name: control_device, dtype: int64"
      ]
     },
     "metadata": {},
     "output_type": "display_data"
    },
    {
     "name": "stdout",
     "output_type": "stream",
     "text": [
      "\n"
     ]
    }
   ],
   "source": [
    "for col in lister:\n",
    "    print(col)\n",
    "    display(df_collisions[col].value_counts())\n",
    "    print()"
   ]
  },
  {
   "cell_type": "markdown",
   "metadata": {},
   "source": [
    "Было бы интересно еще посмотреть какие причины при тяжелых авариях fatal и severe damage"
   ]
  },
  {
   "cell_type": "code",
   "execution_count": 11,
   "metadata": {},
   "outputs": [
    {
     "data": {
      "text/plain": [
       "dui                                  1154\n",
       "improper turning                     1112\n",
       "speeding                              976\n",
       "pedestrian violation                  614\n",
       "automobile right of way               537\n",
       "traffic signals and signs             324\n",
       "wrong side of road                    311\n",
       "pedestrian right of way               206\n",
       "unsafe lane change                    141\n",
       "unknown                               126\n",
       "other than driver (or pedestrian)     114\n",
       "improper passing                       44\n",
       "other hazardous violation              36\n",
       "other improper driving                 28\n",
       "following too closely                  22\n",
       "unsafe starting or backing             22\n",
       "other equipment                         7\n",
       "hazardous parking                       5\n",
       "brakes                                  3\n",
       "lights                                  3\n",
       "impeding traffic                        1\n",
       "Name: pcf_violation_category, dtype: int64"
      ]
     },
     "execution_count": 11,
     "metadata": {},
     "output_type": "execute_result"
    }
   ],
   "source": [
    "df_collisions['pcf_violation_category'][(df_collisions['collision_damage'] == 'fatal')|\n",
    "                                        (df_collisions['collision_damage'] == 'severe damage')].value_counts()"
   ]
  },
  {
   "cell_type": "markdown",
   "metadata": {},
   "source": [
    "#### <b>Замечания и выводы:</b>\n",
    "\n",
    "<b>1)</b>   Много пропусков в таблице. основная причина - не внесение данных. наибольшее количество пропусков в location_type и direction\n",
    "\n",
    "Not State Highway в location_type не совсем ясно место происшествия, но есть ощущение, что тут имели ввиду, что на остальных дорогах, не включеные в H — Highway (Шоссе) I — Intersection (Перекрёсток) R — Ramp (or Collector) (Рампа) - это скорее всего можно заполнить Other\n",
    "\n",
    "direction здесь или забыли заполнить или движение  точно не определяется, так же можно заполнить Others\n",
    "\n",
    "есть еще пропуску в pcf_violation_category тут явно можно заполнить Unknown\n",
    "\n",
    "в принципе все остальные пропуски в столбцах так же можно заполнить или Other или Unknown, в соответствии с описанием столбца.\n",
    "\n",
    "intersection пропуски можно заполнить 0 или вообще удалить\n",
    "\n",
    "\n",
    "<b>2)</b>  case_id,  county_city_location, distance и intersection  должены быть тип int, но case_id нам будет нужен только для объединения таблиц, для построения моделей предсказаний не требуется.\n",
    "\n",
    "<b>3)</b> collision_date и collision_time должны быть тип date.\n",
    "\n",
    "<b>4)</b> Название столбцов соответствуют стилю snake_case\n",
    "\n",
    "<b>5)</b> Явных дубликатов нет\n",
    "\n",
    "<b>6)</b> Не явных дубликовто нет\n",
    "\n",
    "<b>7)</b> Сделаем выводы по результатам анализа уникальных значений:\n",
    "\n",
    "* статистика для Калифорнии, Наибольшее количество аварий в Лос Анджелесе\n",
    "\n",
    "* дорог с севера на юг несколько больше, чем перпендикулярных им дорог\n",
    "\n",
    "* аварий вне перескрестков в 4 раза больше, чем на перекрестках\n",
    "\n",
    "* аварии или не зависят от погоды или скорее в калифорнии солнца гораздо больше дождя - отсюда и сухая дорога при аварии лидирует\n",
    "\n",
    "* по условию задачи scratch мы исключим из исследования, хотя по количеству этот случай на втором месте стоит. Наибольшее количество это небольшие аварии\n",
    "\n",
    "* наибольшее число аварий с двумя участниками\n",
    "\n",
    "* основная причина аварии - это нарушение ПДД - превышение скорости, неверный поворот, несаблюдение правила главной дороги и алкоголь\n",
    "\n",
    "* в калифорнии хорошие дороги\n",
    "\n",
    "* основные аварии днем, что логично, так как это время пик\n",
    "\n",
    "* чаще всего вторым пострадавшим является автомобиль\n",
    "\n",
    "* не очень ясно что такое control_device и что именно он контролирует и как, но похоже он не очень распространен в автомобилях\n",
    "\n",
    "* при тяжелых авариях основным фактором является <b>АЛКОГОЛЬ!</b>\n",
    "\n",
    "<b>8)</b> Судя по замечаниям из пункта 7 можно уже выработать меры по уменьшению аварийности:\n",
    "\n",
    "* Необходимы меры по профилактике нарушений ПДД - обучение водителей с разбором наиболее частых причин ДТП, социальные ролики и акции\n",
    "\n",
    "* технические средства по ограничению скорости автомобилей в сооответствии с ПДД - технические ограничений скорости авто на основе маршрутных устройств GPS, умных карт, камер регистрирующих дорожные знаки скорости, поворотов и главной дороги\n",
    "\n",
    "* ужесточение наказания за вождение в состоянии алкогольного опьянения не приносит обычно своих плодов, поэтому в автомобилях можно внести техничекие средства регистрации и постоянного мониторинга алкоголя в воздухе авто и остановка и глушение двигателя при улавливании паров, с обязательным дополнительным анализом дыхания водителя и удостоверением личности водителя камерой, по сетчатке глаза или отпечатками пальцев, дабы исколючить подлог водителя сторонним трезвым прохожим. в какой то мере это ограничение свободы человека, но это не аргумент для погибших в результате тяжелых аварий.\n"
   ]
  },
  {
   "cell_type": "markdown",
   "metadata": {},
   "source": [
    "### Таблица case_ids"
   ]
  },
  {
   "cell_type": "code",
   "execution_count": 12,
   "metadata": {},
   "outputs": [],
   "source": [
    "query_case = '''\n",
    "SELECT *\n",
    "FROM case_ids;\n",
    "'''"
   ]
  },
  {
   "cell_type": "code",
   "execution_count": 13,
   "metadata": {},
   "outputs": [
    {
     "name": "stdout",
     "output_type": "stream",
     "text": [
      "CPU times: total: 4.14 s\n",
      "Wall time: 9.89 s\n"
     ]
    },
    {
     "data": {
      "text/html": [
       "<div>\n",
       "<style scoped>\n",
       "    .dataframe tbody tr th:only-of-type {\n",
       "        vertical-align: middle;\n",
       "    }\n",
       "\n",
       "    .dataframe tbody tr th {\n",
       "        vertical-align: top;\n",
       "    }\n",
       "\n",
       "    .dataframe thead th {\n",
       "        text-align: right;\n",
       "    }\n",
       "</style>\n",
       "<table border=\"1\" class=\"dataframe\">\n",
       "  <thead>\n",
       "    <tr style=\"text-align: right;\">\n",
       "      <th></th>\n",
       "      <th>case_id</th>\n",
       "      <th>db_year</th>\n",
       "    </tr>\n",
       "  </thead>\n",
       "  <tbody>\n",
       "    <tr>\n",
       "      <th>0</th>\n",
       "      <td>0081715</td>\n",
       "      <td>2021</td>\n",
       "    </tr>\n",
       "    <tr>\n",
       "      <th>1</th>\n",
       "      <td>0726202</td>\n",
       "      <td>2021</td>\n",
       "    </tr>\n",
       "    <tr>\n",
       "      <th>2</th>\n",
       "      <td>3858022</td>\n",
       "      <td>2021</td>\n",
       "    </tr>\n",
       "    <tr>\n",
       "      <th>3</th>\n",
       "      <td>3899441</td>\n",
       "      <td>2021</td>\n",
       "    </tr>\n",
       "    <tr>\n",
       "      <th>4</th>\n",
       "      <td>3899442</td>\n",
       "      <td>2021</td>\n",
       "    </tr>\n",
       "  </tbody>\n",
       "</table>\n",
       "</div>"
      ],
      "text/plain": [
       "   case_id db_year\n",
       "0  0081715    2021\n",
       "1  0726202    2021\n",
       "2  3858022    2021\n",
       "3  3899441    2021\n",
       "4  3899442    2021"
      ]
     },
     "execution_count": 13,
     "metadata": {},
     "output_type": "execute_result"
    }
   ],
   "source": [
    "%%time\n",
    "df_case = pd.read_sql_query(query_case, con=engine) \n",
    "df_case.head()"
   ]
  },
  {
   "cell_type": "code",
   "execution_count": 14,
   "metadata": {},
   "outputs": [
    {
     "name": "stdout",
     "output_type": "stream",
     "text": [
      "<class 'pandas.core.frame.DataFrame'>\n",
      "RangeIndex: 1400000 entries, 0 to 1399999\n",
      "Data columns (total 2 columns):\n",
      " #   Column   Non-Null Count    Dtype \n",
      "---  ------   --------------    ----- \n",
      " 0   case_id  1400000 non-null  object\n",
      " 1   db_year  1400000 non-null  object\n",
      "dtypes: object(2)\n",
      "memory usage: 21.4+ MB\n"
     ]
    }
   ],
   "source": [
    "df_case.info()"
   ]
  },
  {
   "cell_type": "code",
   "execution_count": 15,
   "metadata": {},
   "outputs": [
    {
     "data": {
      "text/plain": [
       "2021    1400000\n",
       "Name: db_year, dtype: int64"
      ]
     },
     "execution_count": 15,
     "metadata": {},
     "output_type": "execute_result"
    }
   ],
   "source": [
    "df_case['db_year'].value_counts()"
   ]
  },
  {
   "cell_type": "markdown",
   "metadata": {},
   "source": [
    "<b>Содержание не соответствует ER - диаграмме (скорее всего ошибка в диаграмме). Судя по всему это просто весь список case_id, с датой выгрузки данных из общей базы заказчика. Для нас она не имеет значение. Интересно, что SQL запрос на 1,4 млн строк и 2 столбца обрабатывался всего 11 секунд.<b>"
   ]
  },
  {
   "cell_type": "markdown",
   "metadata": {},
   "source": [
    "### Таблица parties — информация об участниках ДТП"
   ]
  },
  {
   "cell_type": "markdown",
   "metadata": {},
   "source": [
    "С учетом 2012 года"
   ]
  },
  {
   "cell_type": "code",
   "execution_count": 16,
   "metadata": {},
   "outputs": [],
   "source": [
    "query_parties = '''\n",
    "SELECT *\n",
    "FROM parties\n",
    "WHERE case_id IN (SELECT case_id\n",
    "FROM collisions\n",
    "WHERE CAST(collision_date AS date) between '2012-01-01' and '2012-12-31');;\n",
    "'''"
   ]
  },
  {
   "cell_type": "code",
   "execution_count": 17,
   "metadata": {},
   "outputs": [
    {
     "name": "stdout",
     "output_type": "stream",
     "text": [
      "CPU times: total: 2 s\n",
      "Wall time: 6.88 s\n"
     ]
    },
    {
     "data": {
      "text/html": [
       "<div>\n",
       "<style scoped>\n",
       "    .dataframe tbody tr th:only-of-type {\n",
       "        vertical-align: middle;\n",
       "    }\n",
       "\n",
       "    .dataframe tbody tr th {\n",
       "        vertical-align: top;\n",
       "    }\n",
       "\n",
       "    .dataframe thead th {\n",
       "        text-align: right;\n",
       "    }\n",
       "</style>\n",
       "<table border=\"1\" class=\"dataframe\">\n",
       "  <thead>\n",
       "    <tr style=\"text-align: right;\">\n",
       "      <th></th>\n",
       "      <th>id</th>\n",
       "      <th>case_id</th>\n",
       "      <th>party_number</th>\n",
       "      <th>party_type</th>\n",
       "      <th>at_fault</th>\n",
       "      <th>insurance_premium</th>\n",
       "      <th>party_sobriety</th>\n",
       "      <th>party_drug_physical</th>\n",
       "      <th>cellphone_in_use</th>\n",
       "    </tr>\n",
       "  </thead>\n",
       "  <tbody>\n",
       "    <tr>\n",
       "      <th>0</th>\n",
       "      <td>2628600</td>\n",
       "      <td>5583730</td>\n",
       "      <td>2</td>\n",
       "      <td>road bumper</td>\n",
       "      <td>0</td>\n",
       "      <td>NaN</td>\n",
       "      <td>None</td>\n",
       "      <td>None</td>\n",
       "      <td>NaN</td>\n",
       "    </tr>\n",
       "    <tr>\n",
       "      <th>1</th>\n",
       "      <td>2469249</td>\n",
       "      <td>5488558</td>\n",
       "      <td>2</td>\n",
       "      <td>road bumper</td>\n",
       "      <td>0</td>\n",
       "      <td>NaN</td>\n",
       "      <td>None</td>\n",
       "      <td>None</td>\n",
       "      <td>NaN</td>\n",
       "    </tr>\n",
       "    <tr>\n",
       "      <th>2</th>\n",
       "      <td>2469250</td>\n",
       "      <td>5488558</td>\n",
       "      <td>3</td>\n",
       "      <td>road bumper</td>\n",
       "      <td>0</td>\n",
       "      <td>NaN</td>\n",
       "      <td>None</td>\n",
       "      <td>None</td>\n",
       "      <td>NaN</td>\n",
       "    </tr>\n",
       "    <tr>\n",
       "      <th>3</th>\n",
       "      <td>2473241</td>\n",
       "      <td>5490711</td>\n",
       "      <td>3</td>\n",
       "      <td>road bumper</td>\n",
       "      <td>0</td>\n",
       "      <td>NaN</td>\n",
       "      <td>None</td>\n",
       "      <td>None</td>\n",
       "      <td>NaN</td>\n",
       "    </tr>\n",
       "    <tr>\n",
       "      <th>4</th>\n",
       "      <td>2655544</td>\n",
       "      <td>5598712</td>\n",
       "      <td>2</td>\n",
       "      <td>road bumper</td>\n",
       "      <td>0</td>\n",
       "      <td>NaN</td>\n",
       "      <td>None</td>\n",
       "      <td>None</td>\n",
       "      <td>NaN</td>\n",
       "    </tr>\n",
       "  </tbody>\n",
       "</table>\n",
       "</div>"
      ],
      "text/plain": [
       "        id  case_id  party_number   party_type  at_fault  insurance_premium  \\\n",
       "0  2628600  5583730             2  road bumper         0                NaN   \n",
       "1  2469249  5488558             2  road bumper         0                NaN   \n",
       "2  2469250  5488558             3  road bumper         0                NaN   \n",
       "3  2473241  5490711             3  road bumper         0                NaN   \n",
       "4  2655544  5598712             2  road bumper         0                NaN   \n",
       "\n",
       "  party_sobriety party_drug_physical  cellphone_in_use  \n",
       "0           None                None               NaN  \n",
       "1           None                None               NaN  \n",
       "2           None                None               NaN  \n",
       "3           None                None               NaN  \n",
       "4           None                None               NaN  "
      ]
     },
     "execution_count": 17,
     "metadata": {},
     "output_type": "execute_result"
    }
   ],
   "source": [
    "%%time\n",
    "df_parties = pd.read_sql_query(query_parties, con=engine) \n",
    "df_parties.head()"
   ]
  },
  {
   "cell_type": "markdown",
   "metadata": {},
   "source": [
    "<b>Идентификационный  номер в базе данных\tCASE_ID</b>\tУникальный номер для зарегистрированного происшествия в таблице происшествий.\n",
    "\n",
    "\n",
    "<b>Номер участника происшествия\tPARTY_NUMBER</b>\n",
    "\n",
    "От 1 до N — по числу участников происшествия\n",
    "\n",
    "\n",
    "<b>Тип участника происшествия\tPARTY_TYPE</b>\n",
    "\n",
    "1 — Car (Авто)\n",
    "\n",
    "2 — Road bumper (Дорожные знаки)\n",
    "\n",
    "3 — Building (Строения)\n",
    "\n",
    "4 — Road signs (Отбойник)\n",
    "\n",
    "5 — Other (Другое)\n",
    "\n",
    "6 — Operator (Оператор)\n",
    "\n",
    "  — Not Stated (Не указано)\n",
    "\n",
    "\n",
    "<b>Виновность участника\tAT_FAULT\t0/1</b>\n",
    "\n",
    "\n",
    "<b>Сумма страховки (тыс. $)\tINSURANCE_PREMIUM</b>\tчисло\n",
    "\n",
    "\n",
    "<b>Состояние участника: физическое или с учётом принятых лекарств\tPARTY_DRUG_PHYSICAL</b>\n",
    "\n",
    "E — Under Drug Influence (Под воздействием лекарств)\n",
    "\n",
    "F — Impairment — Physical (Ухудшение состояния)\n",
    "\n",
    "G — Impairment Unknown (Не известно)\n",
    "\n",
    "H — Not Applicable (Не оценивался)\n",
    "\n",
    "I — Sleepy/Fatigued (Сонный/Усталый)\n",
    "\n",
    "  — Not Stated (Не указано)\n",
    "\n",
    "\n",
    "<b>Трезвость участника\tPARTY_SOBRIETY</b>\n",
    "\n",
    "A — Had Not Been Drinking (Не пил)\n",
    "\n",
    "B — Had Been Drinking, Under Influence (Был пьян, под влиянием)\n",
    "\n",
    "C — Had Been Drinking, Not Under Influence (Был пьян, не под влиянием)\n",
    "\n",
    "D — Had Been Drinking, Impairment Unknown (Был пьян, ухудшение неизвестно)\n",
    "\n",
    "G — Impairment Unknown (Неизвестно ухудшение)\n",
    "\n",
    "H — Not Applicable (Не оценивался)\n",
    "\n",
    "  — Not Stated (Не указано)\n",
    "\n",
    "\n",
    "<b>Наличие телефона в автомобиле (возможности разговаривать по громкой связи)\tCELLPHONE_IN_USE</b>\t0/1"
   ]
  },
  {
   "cell_type": "code",
   "execution_count": 18,
   "metadata": {},
   "outputs": [
    {
     "name": "stdout",
     "output_type": "stream",
     "text": [
      "<class 'pandas.core.frame.DataFrame'>\n",
      "RangeIndex: 303716 entries, 0 to 303715\n",
      "Data columns (total 9 columns):\n",
      " #   Column               Non-Null Count   Dtype  \n",
      "---  ------               --------------   -----  \n",
      " 0   id                   303716 non-null  int64  \n",
      " 1   case_id              303716 non-null  object \n",
      " 2   party_number         303716 non-null  int64  \n",
      " 3   party_type           303281 non-null  object \n",
      " 4   at_fault             303716 non-null  int64  \n",
      " 5   insurance_premium    260654 non-null  float64\n",
      " 6   party_sobriety       295640 non-null  object \n",
      " 7   party_drug_physical  46418 non-null   object \n",
      " 8   cellphone_in_use     253610 non-null  float64\n",
      "dtypes: float64(2), int64(3), object(4)\n",
      "memory usage: 20.9+ MB\n"
     ]
    }
   ],
   "source": [
    "df_parties.info()"
   ]
  },
  {
   "cell_type": "markdown",
   "metadata": {},
   "source": [
    "Видимо тут для одного и тогоже case_id могут быть 2 и более участников"
   ]
  },
  {
   "cell_type": "code",
   "execution_count": 19,
   "metadata": {},
   "outputs": [
    {
     "data": {
      "text/plain": [
       "154551"
      ]
     },
     "execution_count": 19,
     "metadata": {},
     "output_type": "execute_result"
    }
   ],
   "source": [
    "df_parties['case_id'].nunique()"
   ]
  },
  {
   "cell_type": "markdown",
   "metadata": {},
   "source": [
    "Вот и совпало с количеством строк в таблице collisions"
   ]
  },
  {
   "cell_type": "code",
   "execution_count": 20,
   "metadata": {},
   "outputs": [
    {
     "data": {
      "text/plain": [
       "Index(['id', 'case_id', 'party_number', 'party_type', 'at_fault',\n",
       "       'insurance_premium', 'party_sobriety', 'party_drug_physical',\n",
       "       'cellphone_in_use'],\n",
       "      dtype='object')"
      ]
     },
     "execution_count": 20,
     "metadata": {},
     "output_type": "execute_result"
    }
   ],
   "source": [
    "df_parties.columns"
   ]
  },
  {
   "cell_type": "markdown",
   "metadata": {},
   "source": [
    "Посмотрим на уникальные значения"
   ]
  },
  {
   "cell_type": "code",
   "execution_count": 21,
   "metadata": {},
   "outputs": [],
   "source": [
    "lister2 = ['party_number', 'party_type', 'at_fault',\n",
    "        'party_sobriety', 'party_drug_physical',\n",
    "       'cellphone_in_use']"
   ]
  },
  {
   "cell_type": "code",
   "execution_count": 22,
   "metadata": {},
   "outputs": [
    {
     "name": "stdout",
     "output_type": "stream",
     "text": [
      "party_number\n"
     ]
    },
    {
     "data": {
      "text/plain": [
       "1     154550\n",
       "2     123743\n",
       "3      19910\n",
       "4       4245\n",
       "5        946\n",
       "6        229\n",
       "7         56\n",
       "8         22\n",
       "9         10\n",
       "10         3\n",
       "11         1\n",
       "12         1\n",
       "Name: party_number, dtype: int64"
      ]
     },
     "metadata": {},
     "output_type": "display_data"
    },
    {
     "name": "stdout",
     "output_type": "stream",
     "text": [
      "\n",
      "party_type\n"
     ]
    },
    {
     "data": {
      "text/plain": [
       "car            273121\n",
       "road bumper     18185\n",
       "road signs       5548\n",
       "building         5457\n",
       "other             970\n",
       "Name: party_type, dtype: int64"
      ]
     },
     "metadata": {},
     "output_type": "display_data"
    },
    {
     "name": "stdout",
     "output_type": "stream",
     "text": [
      "\n",
      "at_fault\n"
     ]
    },
    {
     "data": {
      "text/plain": [
       "0    160094\n",
       "1    143622\n",
       "Name: at_fault, dtype: int64"
      ]
     },
     "metadata": {},
     "output_type": "display_data"
    },
    {
     "name": "stdout",
     "output_type": "stream",
     "text": [
      "\n",
      "party_sobriety\n"
     ]
    },
    {
     "data": {
      "text/plain": [
       "had not been drinking                     236465\n",
       "impairment unknown                         24995\n",
       "not applicable                             17520\n",
       "had been drinking, under influence         12501\n",
       "had been drinking, impairment unknown       2267\n",
       "had been drinking, not under influence      1892\n",
       "Name: party_sobriety, dtype: int64"
      ]
     },
     "metadata": {},
     "output_type": "display_data"
    },
    {
     "name": "stdout",
     "output_type": "stream",
     "text": [
      "\n",
      "party_drug_physical\n"
     ]
    },
    {
     "data": {
      "text/plain": [
       "G                        24995\n",
       "not applicable           17520\n",
       "under drug influence      1999\n",
       "sleepy/fatigued           1434\n",
       "impairment - physical      470\n",
       "Name: party_drug_physical, dtype: int64"
      ]
     },
     "metadata": {},
     "output_type": "display_data"
    },
    {
     "name": "stdout",
     "output_type": "stream",
     "text": [
      "\n",
      "cellphone_in_use\n"
     ]
    },
    {
     "data": {
      "text/plain": [
       "0.0    247787\n",
       "1.0      5823\n",
       "Name: cellphone_in_use, dtype: int64"
      ]
     },
     "metadata": {},
     "output_type": "display_data"
    },
    {
     "name": "stdout",
     "output_type": "stream",
     "text": [
      "\n"
     ]
    }
   ],
   "source": [
    "for col in lister2:\n",
    "    print(col)\n",
    "    display(df_parties[col].value_counts())\n",
    "    print()"
   ]
  },
  {
   "cell_type": "code",
   "execution_count": 23,
   "metadata": {},
   "outputs": [
    {
     "data": {
      "text/plain": [
       "0"
      ]
     },
     "execution_count": 23,
     "metadata": {},
     "output_type": "execute_result"
    }
   ],
   "source": [
    "df_parties.duplicated().sum()"
   ]
  },
  {
   "cell_type": "markdown",
   "metadata": {},
   "source": [
    "#### <b>Замечания и выводы:</b>\n",
    "\n",
    "<b>1)</b> Наблюдаются пропуски в столбцах party_type, insurance_premium, party_sobriety, party_drug_physica, cellphone_in_use\n",
    "\n",
    "заполнять их особо нечем, если только соответсвующие значения неизвестных в столбце типа not applicable или Impairment Unknown\n",
    "\n",
    "<b>2)</b> имена столбцов верные\n",
    "\n",
    "<b>3)</b> Во всех происшествиях учавствовали автомобили, для Car 273121 записи, из них скорее всего примерно половина виновных в ДТП\n",
    "\n",
    "<b>4)</b> Слава Богу большинство все таки трезвые, хотя 16 500 случаев с пьяными и еще часть под воздействием лекарств\n",
    "\n",
    "<b>5)</b> В большинстве автомобилей нет возможности разговаривать по громкой связи (это к возможности влияния скрытой причины дтп - люди разговаривали по мобильнику, держа его у уха в руке)\n",
    "\n",
    "<b>6)</b> Явных и не явных дубликатов нет\n",
    "\n",
    "\n"
   ]
  },
  {
   "cell_type": "markdown",
   "metadata": {},
   "source": [
    "### Таблица vehicles — информация о пострадавших машинах"
   ]
  },
  {
   "cell_type": "markdown",
   "metadata": {},
   "source": [
    "с учетом случаев 2012 года"
   ]
  },
  {
   "cell_type": "code",
   "execution_count": 24,
   "metadata": {},
   "outputs": [],
   "source": [
    "query_vehicles = '''\n",
    "SELECT *\n",
    "FROM vehicles\n",
    "WHERE case_id IN (SELECT case_id\n",
    "FROM collisions\n",
    "WHERE CAST(collision_date AS date) between '2012-01-01' and '2012-12-31');\n",
    "'''"
   ]
  },
  {
   "cell_type": "code",
   "execution_count": 25,
   "metadata": {
    "scrolled": true
   },
   "outputs": [
    {
     "name": "stdout",
     "output_type": "stream",
     "text": [
      "CPU times: total: 656 ms\n",
      "Wall time: 1.93 s\n"
     ]
    },
    {
     "data": {
      "text/html": [
       "<div>\n",
       "<style scoped>\n",
       "    .dataframe tbody tr th:only-of-type {\n",
       "        vertical-align: middle;\n",
       "    }\n",
       "\n",
       "    .dataframe tbody tr th {\n",
       "        vertical-align: top;\n",
       "    }\n",
       "\n",
       "    .dataframe thead th {\n",
       "        text-align: right;\n",
       "    }\n",
       "</style>\n",
       "<table border=\"1\" class=\"dataframe\">\n",
       "  <thead>\n",
       "    <tr style=\"text-align: right;\">\n",
       "      <th></th>\n",
       "      <th>id</th>\n",
       "      <th>case_id</th>\n",
       "      <th>party_number</th>\n",
       "      <th>vehicle_type</th>\n",
       "      <th>vehicle_transmission</th>\n",
       "      <th>vehicle_age</th>\n",
       "    </tr>\n",
       "  </thead>\n",
       "  <tbody>\n",
       "    <tr>\n",
       "      <th>0</th>\n",
       "      <td>1463625</td>\n",
       "      <td>5599516</td>\n",
       "      <td>2</td>\n",
       "      <td>sedan</td>\n",
       "      <td>auto</td>\n",
       "      <td>3.0</td>\n",
       "    </tr>\n",
       "    <tr>\n",
       "      <th>1</th>\n",
       "      <td>1463626</td>\n",
       "      <td>5599516</td>\n",
       "      <td>3</td>\n",
       "      <td>sedan</td>\n",
       "      <td>auto</td>\n",
       "      <td>2.0</td>\n",
       "    </tr>\n",
       "    <tr>\n",
       "      <th>2</th>\n",
       "      <td>1463632</td>\n",
       "      <td>5599528</td>\n",
       "      <td>2</td>\n",
       "      <td>sedan</td>\n",
       "      <td>auto</td>\n",
       "      <td>4.0</td>\n",
       "    </tr>\n",
       "    <tr>\n",
       "      <th>3</th>\n",
       "      <td>1463637</td>\n",
       "      <td>5599532</td>\n",
       "      <td>2</td>\n",
       "      <td>sedan</td>\n",
       "      <td>auto</td>\n",
       "      <td>0.0</td>\n",
       "    </tr>\n",
       "    <tr>\n",
       "      <th>4</th>\n",
       "      <td>1463638</td>\n",
       "      <td>5599535</td>\n",
       "      <td>2</td>\n",
       "      <td>sedan</td>\n",
       "      <td>auto</td>\n",
       "      <td>9.0</td>\n",
       "    </tr>\n",
       "  </tbody>\n",
       "</table>\n",
       "</div>"
      ],
      "text/plain": [
       "        id  case_id  party_number vehicle_type vehicle_transmission  \\\n",
       "0  1463625  5599516             2        sedan                 auto   \n",
       "1  1463626  5599516             3        sedan                 auto   \n",
       "2  1463632  5599528             2        sedan                 auto   \n",
       "3  1463637  5599532             2        sedan                 auto   \n",
       "4  1463638  5599535             2        sedan                 auto   \n",
       "\n",
       "   vehicle_age  \n",
       "0          3.0  \n",
       "1          2.0  \n",
       "2          4.0  \n",
       "3          0.0  \n",
       "4          9.0  "
      ]
     },
     "execution_count": 25,
     "metadata": {},
     "output_type": "execute_result"
    }
   ],
   "source": [
    "%%time\n",
    "df_vehicles = pd.read_sql_query(query_vehicles, con=engine) \n",
    "df_vehicles.head()"
   ]
  },
  {
   "cell_type": "markdown",
   "metadata": {},
   "source": [
    "Описание:\n",
    "\n",
    "<b>Индекс текущей таблицы\tID</b>\tНомер в таблице\n",
    "\n",
    "\n",
    "<b>Идентификационный номер в базе данных\tCASE_ID</b>\tУникальный номер для зарегистрированного происшествия в таблице происшествий.\n",
    "\n",
    "<b>party_number</b>  - в пояснениях расшифровки нет, но видимо это номер участника аварии\n",
    "\n",
    "\n",
    "<b>Тип кузова\tVEHICLE_TYPE</b>\n",
    "\n",
    "MINIVAN\n",
    "\n",
    "COUPE\n",
    "\n",
    "SEDAN\n",
    "\n",
    "HATCHBACK\n",
    "\n",
    "OTHER\n",
    "\n",
    "\n",
    "<b>Тип КПП\tVEHICLE_TRANSMISSION</b>\n",
    "\n",
    "auto (Автоматическая)\n",
    "\n",
    "manual (Ручная)\n",
    "\n",
    "  — Not Stated (Не указано)\n",
    "  \n",
    "  \n",
    "<b>Возраст автомобиля (в годах)\tVEHICLE_AGE</b>\tчисло"
   ]
  },
  {
   "cell_type": "code",
   "execution_count": 26,
   "metadata": {},
   "outputs": [
    {
     "name": "stdout",
     "output_type": "stream",
     "text": [
      "<class 'pandas.core.frame.DataFrame'>\n",
      "RangeIndex: 114483 entries, 0 to 114482\n",
      "Data columns (total 6 columns):\n",
      " #   Column                Non-Null Count   Dtype  \n",
      "---  ------                --------------   -----  \n",
      " 0   id                    114483 non-null  int64  \n",
      " 1   case_id               114483 non-null  object \n",
      " 2   party_number          114483 non-null  int64  \n",
      " 3   vehicle_type          114483 non-null  object \n",
      " 4   vehicle_transmission  112106 non-null  object \n",
      " 5   vehicle_age           111707 non-null  float64\n",
      "dtypes: float64(1), int64(2), object(3)\n",
      "memory usage: 5.2+ MB\n"
     ]
    }
   ],
   "source": [
    "df_vehicles.info()"
   ]
  },
  {
   "cell_type": "markdown",
   "metadata": {},
   "source": [
    "Интересно почему в collisions и в parties 154 151 уникальных случаев, а здесь 114 483? посмотрим на collisions, те, что не вошли в vehicles"
   ]
  },
  {
   "cell_type": "markdown",
   "metadata": {},
   "source": [
    "думаю 10000 записей достаточно посмотреть, что бы понять закономерности данных, не вошедших в таблицу vehicles"
   ]
  },
  {
   "cell_type": "code",
   "execution_count": 27,
   "metadata": {},
   "outputs": [],
   "source": [
    "query_vehicles1 = '''\n",
    "SELECT *\n",
    "FROM collisions\n",
    "WHERE CAST(collision_date AS date) between '2012-01-01' and '2012-12-31'\n",
    "AND\n",
    "case_id NOT IN\n",
    "(SELECT case_id\n",
    "FROM vehicles\n",
    "WHERE case_id IN (SELECT case_id\n",
    "FROM collisions\n",
    "WHERE CAST(collision_date AS date) between '2012-01-01' and '2012-12-31'))\n",
    "Limit 10000;\n",
    "'''"
   ]
  },
  {
   "cell_type": "code",
   "execution_count": 28,
   "metadata": {},
   "outputs": [
    {
     "name": "stdout",
     "output_type": "stream",
     "text": [
      "CPU times: total: 266 ms\n",
      "Wall time: 4min 32s\n"
     ]
    },
    {
     "data": {
      "text/html": [
       "<div>\n",
       "<style scoped>\n",
       "    .dataframe tbody tr th:only-of-type {\n",
       "        vertical-align: middle;\n",
       "    }\n",
       "\n",
       "    .dataframe tbody tr th {\n",
       "        vertical-align: top;\n",
       "    }\n",
       "\n",
       "    .dataframe thead th {\n",
       "        text-align: right;\n",
       "    }\n",
       "</style>\n",
       "<table border=\"1\" class=\"dataframe\">\n",
       "  <thead>\n",
       "    <tr style=\"text-align: right;\">\n",
       "      <th></th>\n",
       "      <th>case_id</th>\n",
       "      <th>county_city_location</th>\n",
       "      <th>county_location</th>\n",
       "      <th>distance</th>\n",
       "      <th>direction</th>\n",
       "      <th>intersection</th>\n",
       "      <th>weather_1</th>\n",
       "      <th>location_type</th>\n",
       "      <th>collision_damage</th>\n",
       "      <th>party_count</th>\n",
       "      <th>primary_collision_factor</th>\n",
       "      <th>pcf_violation_category</th>\n",
       "      <th>type_of_collision</th>\n",
       "      <th>motor_vehicle_involved_with</th>\n",
       "      <th>road_surface</th>\n",
       "      <th>road_condition_1</th>\n",
       "      <th>lighting</th>\n",
       "      <th>control_device</th>\n",
       "      <th>collision_date</th>\n",
       "      <th>collision_time</th>\n",
       "    </tr>\n",
       "  </thead>\n",
       "  <tbody>\n",
       "    <tr>\n",
       "      <th>0</th>\n",
       "      <td>5125192</td>\n",
       "      <td>4312</td>\n",
       "      <td>santa clara</td>\n",
       "      <td>30.0</td>\n",
       "      <td>south</td>\n",
       "      <td>0.0</td>\n",
       "      <td>cloudy</td>\n",
       "      <td>None</td>\n",
       "      <td>small damage</td>\n",
       "      <td>2</td>\n",
       "      <td>vehicle code violation</td>\n",
       "      <td>unsafe starting or backing</td>\n",
       "      <td>other</td>\n",
       "      <td>parked motor vehicle</td>\n",
       "      <td>dry</td>\n",
       "      <td>normal</td>\n",
       "      <td>daylight</td>\n",
       "      <td>functioning</td>\n",
       "      <td>2012-03-16</td>\n",
       "      <td>14:35:00</td>\n",
       "    </tr>\n",
       "    <tr>\n",
       "      <th>1</th>\n",
       "      <td>5448258</td>\n",
       "      <td>1942</td>\n",
       "      <td>los angeles</td>\n",
       "      <td>48.0</td>\n",
       "      <td>west</td>\n",
       "      <td>0.0</td>\n",
       "      <td>clear</td>\n",
       "      <td>None</td>\n",
       "      <td>small damage</td>\n",
       "      <td>1</td>\n",
       "      <td>vehicle code violation</td>\n",
       "      <td>speeding</td>\n",
       "      <td>hit object</td>\n",
       "      <td>fixed object</td>\n",
       "      <td>dry</td>\n",
       "      <td>normal</td>\n",
       "      <td>dark with street lights</td>\n",
       "      <td>none</td>\n",
       "      <td>2012-01-09</td>\n",
       "      <td>00:05:00</td>\n",
       "    </tr>\n",
       "    <tr>\n",
       "      <th>2</th>\n",
       "      <td>5448307</td>\n",
       "      <td>1900</td>\n",
       "      <td>los angeles</td>\n",
       "      <td>20.0</td>\n",
       "      <td>south</td>\n",
       "      <td>0.0</td>\n",
       "      <td>clear</td>\n",
       "      <td>highway</td>\n",
       "      <td>small damage</td>\n",
       "      <td>2</td>\n",
       "      <td>vehicle code violation</td>\n",
       "      <td>improper turning</td>\n",
       "      <td>sideswipe</td>\n",
       "      <td>other motor vehicle</td>\n",
       "      <td>dry</td>\n",
       "      <td>normal</td>\n",
       "      <td>daylight</td>\n",
       "      <td>none</td>\n",
       "      <td>2012-01-04</td>\n",
       "      <td>13:50:00</td>\n",
       "    </tr>\n",
       "    <tr>\n",
       "      <th>3</th>\n",
       "      <td>5448730</td>\n",
       "      <td>1500</td>\n",
       "      <td>kern</td>\n",
       "      <td>84.0</td>\n",
       "      <td>south</td>\n",
       "      <td>0.0</td>\n",
       "      <td>clear</td>\n",
       "      <td>None</td>\n",
       "      <td>small damage</td>\n",
       "      <td>2</td>\n",
       "      <td>vehicle code violation</td>\n",
       "      <td>improper turning</td>\n",
       "      <td>sideswipe</td>\n",
       "      <td>parked motor vehicle</td>\n",
       "      <td>dry</td>\n",
       "      <td>normal</td>\n",
       "      <td>dark with no street lights</td>\n",
       "      <td>none</td>\n",
       "      <td>2012-01-15</td>\n",
       "      <td>None</td>\n",
       "    </tr>\n",
       "    <tr>\n",
       "      <th>4</th>\n",
       "      <td>5448794</td>\n",
       "      <td>1925</td>\n",
       "      <td>los angeles</td>\n",
       "      <td>0.0</td>\n",
       "      <td>None</td>\n",
       "      <td>1.0</td>\n",
       "      <td>cloudy</td>\n",
       "      <td>None</td>\n",
       "      <td>small damage</td>\n",
       "      <td>1</td>\n",
       "      <td>vehicle code violation</td>\n",
       "      <td>improper turning</td>\n",
       "      <td>hit object</td>\n",
       "      <td>fixed object</td>\n",
       "      <td>dry</td>\n",
       "      <td>normal</td>\n",
       "      <td>daylight</td>\n",
       "      <td>functioning</td>\n",
       "      <td>2012-01-16</td>\n",
       "      <td>14:00:00</td>\n",
       "    </tr>\n",
       "    <tr>\n",
       "      <th>5</th>\n",
       "      <td>5448865</td>\n",
       "      <td>1500</td>\n",
       "      <td>kern</td>\n",
       "      <td>528.0</td>\n",
       "      <td>south</td>\n",
       "      <td>0.0</td>\n",
       "      <td>clear</td>\n",
       "      <td>None</td>\n",
       "      <td>small damage</td>\n",
       "      <td>2</td>\n",
       "      <td>vehicle code violation</td>\n",
       "      <td>speeding</td>\n",
       "      <td>rear end</td>\n",
       "      <td>other motor vehicle</td>\n",
       "      <td>dry</td>\n",
       "      <td>normal</td>\n",
       "      <td>dark with street lights</td>\n",
       "      <td>none</td>\n",
       "      <td>2012-01-06</td>\n",
       "      <td>05:55:00</td>\n",
       "    </tr>\n",
       "    <tr>\n",
       "      <th>6</th>\n",
       "      <td>5448870</td>\n",
       "      <td>1953</td>\n",
       "      <td>los angeles</td>\n",
       "      <td>0.0</td>\n",
       "      <td>None</td>\n",
       "      <td>NaN</td>\n",
       "      <td>clear</td>\n",
       "      <td>None</td>\n",
       "      <td>small damage</td>\n",
       "      <td>2</td>\n",
       "      <td>vehicle code violation</td>\n",
       "      <td>hazardous parking</td>\n",
       "      <td>sideswipe</td>\n",
       "      <td>parked motor vehicle</td>\n",
       "      <td>dry</td>\n",
       "      <td>normal</td>\n",
       "      <td>dark with street lights</td>\n",
       "      <td>none</td>\n",
       "      <td>2012-01-02</td>\n",
       "      <td>04:00:00</td>\n",
       "    </tr>\n",
       "    <tr>\n",
       "      <th>7</th>\n",
       "      <td>5448881</td>\n",
       "      <td>0500</td>\n",
       "      <td>calaveras</td>\n",
       "      <td>44.0</td>\n",
       "      <td>south</td>\n",
       "      <td>0.0</td>\n",
       "      <td>clear</td>\n",
       "      <td>None</td>\n",
       "      <td>small damage</td>\n",
       "      <td>2</td>\n",
       "      <td>vehicle code violation</td>\n",
       "      <td>dui</td>\n",
       "      <td>sideswipe</td>\n",
       "      <td>other motor vehicle</td>\n",
       "      <td>dry</td>\n",
       "      <td>normal</td>\n",
       "      <td>daylight</td>\n",
       "      <td>functioning</td>\n",
       "      <td>2012-01-16</td>\n",
       "      <td>15:00:00</td>\n",
       "    </tr>\n",
       "    <tr>\n",
       "      <th>8</th>\n",
       "      <td>5448882</td>\n",
       "      <td>0113</td>\n",
       "      <td>alameda</td>\n",
       "      <td>528.0</td>\n",
       "      <td>north</td>\n",
       "      <td>0.0</td>\n",
       "      <td>clear</td>\n",
       "      <td>highway</td>\n",
       "      <td>small damage</td>\n",
       "      <td>2</td>\n",
       "      <td>vehicle code violation</td>\n",
       "      <td>speeding</td>\n",
       "      <td>rear end</td>\n",
       "      <td>other motor vehicle</td>\n",
       "      <td>dry</td>\n",
       "      <td>normal</td>\n",
       "      <td>daylight</td>\n",
       "      <td>none</td>\n",
       "      <td>2012-01-17</td>\n",
       "      <td>16:00:00</td>\n",
       "    </tr>\n",
       "    <tr>\n",
       "      <th>9</th>\n",
       "      <td>5448930</td>\n",
       "      <td>0106</td>\n",
       "      <td>alameda</td>\n",
       "      <td>364.0</td>\n",
       "      <td>north</td>\n",
       "      <td>0.0</td>\n",
       "      <td>clear</td>\n",
       "      <td>ramp</td>\n",
       "      <td>small damage</td>\n",
       "      <td>2</td>\n",
       "      <td>vehicle code violation</td>\n",
       "      <td>speeding</td>\n",
       "      <td>rear end</td>\n",
       "      <td>other motor vehicle</td>\n",
       "      <td>dry</td>\n",
       "      <td>normal</td>\n",
       "      <td>daylight</td>\n",
       "      <td>none</td>\n",
       "      <td>2012-01-12</td>\n",
       "      <td>10:35:00</td>\n",
       "    </tr>\n",
       "  </tbody>\n",
       "</table>\n",
       "</div>"
      ],
      "text/plain": [
       "   case_id county_city_location county_location  distance direction  \\\n",
       "0  5125192                 4312     santa clara      30.0     south   \n",
       "1  5448258                 1942     los angeles      48.0      west   \n",
       "2  5448307                 1900     los angeles      20.0     south   \n",
       "3  5448730                 1500            kern      84.0     south   \n",
       "4  5448794                 1925     los angeles       0.0      None   \n",
       "5  5448865                 1500            kern     528.0     south   \n",
       "6  5448870                 1953     los angeles       0.0      None   \n",
       "7  5448881                 0500       calaveras      44.0     south   \n",
       "8  5448882                 0113         alameda     528.0     north   \n",
       "9  5448930                 0106         alameda     364.0     north   \n",
       "\n",
       "   intersection weather_1 location_type collision_damage  party_count  \\\n",
       "0           0.0    cloudy          None     small damage            2   \n",
       "1           0.0     clear          None     small damage            1   \n",
       "2           0.0     clear       highway     small damage            2   \n",
       "3           0.0     clear          None     small damage            2   \n",
       "4           1.0    cloudy          None     small damage            1   \n",
       "5           0.0     clear          None     small damage            2   \n",
       "6           NaN     clear          None     small damage            2   \n",
       "7           0.0     clear          None     small damage            2   \n",
       "8           0.0     clear       highway     small damage            2   \n",
       "9           0.0     clear          ramp     small damage            2   \n",
       "\n",
       "  primary_collision_factor      pcf_violation_category type_of_collision  \\\n",
       "0   vehicle code violation  unsafe starting or backing             other   \n",
       "1   vehicle code violation                    speeding        hit object   \n",
       "2   vehicle code violation            improper turning         sideswipe   \n",
       "3   vehicle code violation            improper turning         sideswipe   \n",
       "4   vehicle code violation            improper turning        hit object   \n",
       "5   vehicle code violation                    speeding          rear end   \n",
       "6   vehicle code violation           hazardous parking         sideswipe   \n",
       "7   vehicle code violation                         dui         sideswipe   \n",
       "8   vehicle code violation                    speeding          rear end   \n",
       "9   vehicle code violation                    speeding          rear end   \n",
       "\n",
       "  motor_vehicle_involved_with road_surface road_condition_1  \\\n",
       "0        parked motor vehicle          dry           normal   \n",
       "1                fixed object          dry           normal   \n",
       "2         other motor vehicle          dry           normal   \n",
       "3        parked motor vehicle          dry           normal   \n",
       "4                fixed object          dry           normal   \n",
       "5         other motor vehicle          dry           normal   \n",
       "6        parked motor vehicle          dry           normal   \n",
       "7         other motor vehicle          dry           normal   \n",
       "8         other motor vehicle          dry           normal   \n",
       "9         other motor vehicle          dry           normal   \n",
       "\n",
       "                     lighting control_device collision_date collision_time  \n",
       "0                    daylight    functioning     2012-03-16       14:35:00  \n",
       "1     dark with street lights           none     2012-01-09       00:05:00  \n",
       "2                    daylight           none     2012-01-04       13:50:00  \n",
       "3  dark with no street lights           none     2012-01-15           None  \n",
       "4                    daylight    functioning     2012-01-16       14:00:00  \n",
       "5     dark with street lights           none     2012-01-06       05:55:00  \n",
       "6     dark with street lights           none     2012-01-02       04:00:00  \n",
       "7                    daylight    functioning     2012-01-16       15:00:00  \n",
       "8                    daylight           none     2012-01-17       16:00:00  \n",
       "9                    daylight           none     2012-01-12       10:35:00  "
      ]
     },
     "execution_count": 28,
     "metadata": {},
     "output_type": "execute_result"
    }
   ],
   "source": [
    "%%time\n",
    "df_vehicles1 = pd.read_sql_query(query_vehicles1, con=engine) \n",
    "df_vehicles1.head(10)"
   ]
  },
  {
   "cell_type": "markdown",
   "metadata": {},
   "source": [
    "Судя по первым строчкам, одинаковые значения в столце collision_damage, посмотрим на него поближе:"
   ]
  },
  {
   "cell_type": "code",
   "execution_count": 29,
   "metadata": {},
   "outputs": [
    {
     "data": {
      "text/plain": [
       "small damage    9998\n",
       "scratch            2\n",
       "Name: collision_damage, dtype: int64"
      ]
     },
     "execution_count": 29,
     "metadata": {},
     "output_type": "execute_result"
    }
   ],
   "source": [
    "df_vehicles1['collision_damage'].value_counts()"
   ]
  },
  {
   "cell_type": "markdown",
   "metadata": {},
   "source": [
    "Здесь явно отражены очень мелкие случаи аварии, видимо при мелких происшествиях есть упрощенная процедура или  фиксированные оплаты без необходимости внесения описания автомобиля в базу данных. с другой стороны не ясно почему scratch так мало"
   ]
  },
  {
   "cell_type": "markdown",
   "metadata": {},
   "source": [
    "Посмотрим еще на primary_collision_factor"
   ]
  },
  {
   "cell_type": "code",
   "execution_count": 30,
   "metadata": {},
   "outputs": [
    {
     "data": {
      "text/plain": [
       "vehicle code violation    9248\n",
       "unknown                    361\n",
       "other than driver          272\n",
       "other improper driving      56\n",
       "fell asleep                  1\n",
       "Name: primary_collision_factor, dtype: int64"
      ]
     },
     "execution_count": 30,
     "metadata": {},
     "output_type": "execute_result"
    }
   ],
   "source": [
    "df_vehicles1['primary_collision_factor'].value_counts()"
   ]
  },
  {
   "cell_type": "markdown",
   "metadata": {},
   "source": [
    "Нет тут не заметна закономерность, зато очень хорошо видно, что основная причина дтп - нарушение правил"
   ]
  },
  {
   "cell_type": "code",
   "execution_count": 31,
   "metadata": {},
   "outputs": [
    {
     "data": {
      "text/plain": [
       "0"
      ]
     },
     "execution_count": 31,
     "metadata": {},
     "output_type": "execute_result"
    }
   ],
   "source": [
    "df_vehicles.duplicated().sum()"
   ]
  },
  {
   "cell_type": "markdown",
   "metadata": {},
   "source": [
    "Посмотрим на число уникальных значений в столбцах"
   ]
  },
  {
   "cell_type": "code",
   "execution_count": 32,
   "metadata": {},
   "outputs": [
    {
     "data": {
      "text/plain": [
       "Index(['id', 'case_id', 'party_number', 'vehicle_type', 'vehicle_transmission',\n",
       "       'vehicle_age'],\n",
       "      dtype='object')"
      ]
     },
     "execution_count": 32,
     "metadata": {},
     "output_type": "execute_result"
    }
   ],
   "source": [
    "df_vehicles.columns"
   ]
  },
  {
   "cell_type": "code",
   "execution_count": 33,
   "metadata": {},
   "outputs": [],
   "source": [
    "lister3  = ['party_number', 'vehicle_type', 'vehicle_transmission',\n",
    "       'vehicle_age']"
   ]
  },
  {
   "cell_type": "code",
   "execution_count": 34,
   "metadata": {},
   "outputs": [
    {
     "name": "stdout",
     "output_type": "stream",
     "text": [
      "party_number\n"
     ]
    },
    {
     "data": {
      "text/plain": [
       "1    54382\n",
       "2    52124\n",
       "3     6443\n",
       "4     1206\n",
       "5      247\n",
       "6       53\n",
       "7       17\n",
       "8        8\n",
       "9        3\n",
       "Name: party_number, dtype: int64"
      ]
     },
     "metadata": {},
     "output_type": "display_data"
    },
    {
     "name": "stdout",
     "output_type": "stream",
     "text": [
      "\n",
      "vehicle_type\n"
     ]
    },
    {
     "data": {
      "text/plain": [
       "sedan        53323\n",
       "coupe        50899\n",
       "hatchback     5243\n",
       "minivan       4889\n",
       "other          129\n",
       "Name: vehicle_type, dtype: int64"
      ]
     },
     "metadata": {},
     "output_type": "display_data"
    },
    {
     "name": "stdout",
     "output_type": "stream",
     "text": [
      "\n",
      "vehicle_transmission\n"
     ]
    },
    {
     "data": {
      "text/plain": [
       "manual    56313\n",
       "auto      55793\n",
       "Name: vehicle_transmission, dtype: int64"
      ]
     },
     "metadata": {},
     "output_type": "display_data"
    },
    {
     "name": "stdout",
     "output_type": "stream",
     "text": [
      "\n",
      "vehicle_age\n"
     ]
    },
    {
     "data": {
      "text/plain": [
       "3.0      20078\n",
       "4.0      14259\n",
       "5.0      11954\n",
       "2.0      10965\n",
       "7.0       9307\n",
       "6.0       9190\n",
       "8.0       8841\n",
       "9.0       6885\n",
       "10.0      4633\n",
       "0.0       4525\n",
       "1.0       4383\n",
       "11.0      3159\n",
       "12.0      1784\n",
       "13.0      1127\n",
       "14.0       522\n",
       "15.0        77\n",
       "16.0        11\n",
       "17.0         4\n",
       "161.0        2\n",
       "19.0         1\n",
       "Name: vehicle_age, dtype: int64"
      ]
     },
     "metadata": {},
     "output_type": "display_data"
    },
    {
     "name": "stdout",
     "output_type": "stream",
     "text": [
      "\n"
     ]
    }
   ],
   "source": [
    "for col in lister3:\n",
    "    print(col)\n",
    "    display(df_vehicles[col].value_counts())\n",
    "    print()"
   ]
  },
  {
   "cell_type": "markdown",
   "metadata": {},
   "source": [
    "#### <b>Замечания и выводы:</b>\n",
    "\n",
    "<b>1)</b> Наблюдаются пропуски в столбцах vehicle_transmission,  vehicle_age\n",
    "\n",
    "можно заполнить или other или unknown\n",
    "\n",
    "<b>2)</b> Седаны и купе наиболее часто покупаемые авто\n",
    "\n",
    "<b>3)</b> Ручная и автоматическая коробки передач распространены поровну\n",
    "\n",
    "<b>4)</b> Наибольшее количество авто до 10 лет. значения 161 скорее всего 16 лет\n",
    "\n",
    "<b>5)</b> Явных и не явных дубликатов нет\n",
    "\n",
    "<b>6)</b> Название столбцов верные\n"
   ]
  },
  {
   "cell_type": "markdown",
   "metadata": {},
   "source": [
    "## Проведем статистический анализ факторов ДТП"
   ]
  },
  {
   "cell_type": "markdown",
   "metadata": {},
   "source": [
    "### Выясним, в какие месяцы происходит наибольшее количество аварий. Проанализируем весь период наблюдений (таблица collisions)."
   ]
  },
  {
   "cell_type": "code",
   "execution_count": 65,
   "metadata": {},
   "outputs": [],
   "source": [
    "query_collisions_month = '''\n",
    "SELECT DISTINCT CAST(EXTRACT(month FROM collision_date) AS int) AS month,\n",
    "      COUNT(case_id) AS sum_collisions\n",
    "FROM collisions\n",
    "GROUP BY month\n",
    "ORDER BY sum_collisions DESC;\n",
    "'''"
   ]
  },
  {
   "cell_type": "code",
   "execution_count": 66,
   "metadata": {},
   "outputs": [
    {
     "name": "stdout",
     "output_type": "stream",
     "text": [
      "CPU times: total: 0 ns\n",
      "Wall time: 266 ms\n"
     ]
    },
    {
     "data": {
      "text/html": [
       "<div>\n",
       "<style scoped>\n",
       "    .dataframe tbody tr th:only-of-type {\n",
       "        vertical-align: middle;\n",
       "    }\n",
       "\n",
       "    .dataframe tbody tr th {\n",
       "        vertical-align: top;\n",
       "    }\n",
       "\n",
       "    .dataframe thead th {\n",
       "        text-align: right;\n",
       "    }\n",
       "</style>\n",
       "<table border=\"1\" class=\"dataframe\">\n",
       "  <thead>\n",
       "    <tr style=\"text-align: right;\">\n",
       "      <th></th>\n",
       "      <th>month</th>\n",
       "      <th>sum_collisions</th>\n",
       "    </tr>\n",
       "  </thead>\n",
       "  <tbody>\n",
       "    <tr>\n",
       "      <th>0</th>\n",
       "      <td>3</td>\n",
       "      <td>139581</td>\n",
       "    </tr>\n",
       "    <tr>\n",
       "      <th>1</th>\n",
       "      <td>1</td>\n",
       "      <td>132044</td>\n",
       "    </tr>\n",
       "    <tr>\n",
       "      <th>2</th>\n",
       "      <td>5</td>\n",
       "      <td>130316</td>\n",
       "    </tr>\n",
       "    <tr>\n",
       "      <th>3</th>\n",
       "      <td>4</td>\n",
       "      <td>130180</td>\n",
       "    </tr>\n",
       "    <tr>\n",
       "      <th>4</th>\n",
       "      <td>2</td>\n",
       "      <td>128858</td>\n",
       "    </tr>\n",
       "    <tr>\n",
       "      <th>5</th>\n",
       "      <td>10</td>\n",
       "      <td>112237</td>\n",
       "    </tr>\n",
       "    <tr>\n",
       "      <th>6</th>\n",
       "      <td>12</td>\n",
       "      <td>107945</td>\n",
       "    </tr>\n",
       "    <tr>\n",
       "      <th>7</th>\n",
       "      <td>9</td>\n",
       "      <td>105159</td>\n",
       "    </tr>\n",
       "    <tr>\n",
       "      <th>8</th>\n",
       "      <td>11</td>\n",
       "      <td>104770</td>\n",
       "    </tr>\n",
       "    <tr>\n",
       "      <th>9</th>\n",
       "      <td>8</td>\n",
       "      <td>104089</td>\n",
       "    </tr>\n",
       "    <tr>\n",
       "      <th>10</th>\n",
       "      <td>6</td>\n",
       "      <td>102594</td>\n",
       "    </tr>\n",
       "    <tr>\n",
       "      <th>11</th>\n",
       "      <td>7</td>\n",
       "      <td>102227</td>\n",
       "    </tr>\n",
       "  </tbody>\n",
       "</table>\n",
       "</div>"
      ],
      "text/plain": [
       "    month  sum_collisions\n",
       "0       3          139581\n",
       "1       1          132044\n",
       "2       5          130316\n",
       "3       4          130180\n",
       "4       2          128858\n",
       "5      10          112237\n",
       "6      12          107945\n",
       "7       9          105159\n",
       "8      11          104770\n",
       "9       8          104089\n",
       "10      6          102594\n",
       "11      7          102227"
      ]
     },
     "execution_count": 66,
     "metadata": {},
     "output_type": "execute_result"
    }
   ],
   "source": [
    "%%time\n",
    "df_collisions_month = pd.read_sql_query(query_collisions_month, con=engine) \n",
    "df_collisions_month"
   ]
  },
  {
   "cell_type": "code",
   "execution_count": 67,
   "metadata": {},
   "outputs": [
    {
     "data": {
      "image/png": "[encoded data removed]",
      "text/plain": [
       "<Figure size 432x288 with 1 Axes>"
      ]
     },
     "metadata": {
      "needs_background": "light"
     },
     "output_type": "display_data"
    }
   ],
   "source": [
    "sns.barplot(data = df_collisions_month, x='month', y='sum_collisions')\n",
    "plt.title('Распределение количества аварий по месяцам за все время наблюдений')\n",
    "plt.xticks(rotation=40)\n",
    "plt.xlabel('Месяц')\n",
    "plt.ylabel('Число аварий')\n",
    "plt.show()"
   ]
  },
  {
   "cell_type": "markdown",
   "metadata": {},
   "source": [
    "Хм очень странно сильное падение количества от 6 до 12 месяца, кажется нужно проверить количества аварий по годам точно ли все данные включают все 12 месяцев"
   ]
  },
  {
   "cell_type": "code",
   "execution_count": 68,
   "metadata": {},
   "outputs": [],
   "source": [
    "query_collisions_year = '''\n",
    "SELECT DISTINCT CAST(EXTRACT(year FROM collision_date) AS int) AS year,\n",
    "      COUNT(case_id) AS sum_collisions\n",
    "FROM collisions\n",
    "GROUP BY year\n",
    "ORDER BY sum_collisions DESC;\n",
    "'''"
   ]
  },
  {
   "cell_type": "code",
   "execution_count": 69,
   "metadata": {},
   "outputs": [
    {
     "name": "stdout",
     "output_type": "stream",
     "text": [
      "CPU times: total: 0 ns\n",
      "Wall time: 266 ms\n"
     ]
    },
    {
     "data": {
      "text/html": [
       "<div>\n",
       "<style scoped>\n",
       "    .dataframe tbody tr th:only-of-type {\n",
       "        vertical-align: middle;\n",
       "    }\n",
       "\n",
       "    .dataframe tbody tr th {\n",
       "        vertical-align: top;\n",
       "    }\n",
       "\n",
       "    .dataframe thead th {\n",
       "        text-align: right;\n",
       "    }\n",
       "</style>\n",
       "<table border=\"1\" class=\"dataframe\">\n",
       "  <thead>\n",
       "    <tr style=\"text-align: right;\">\n",
       "      <th></th>\n",
       "      <th>year</th>\n",
       "      <th>sum_collisions</th>\n",
       "    </tr>\n",
       "  </thead>\n",
       "  <tbody>\n",
       "    <tr>\n",
       "      <th>0</th>\n",
       "      <td>2009</td>\n",
       "      <td>426228</td>\n",
       "    </tr>\n",
       "    <tr>\n",
       "      <th>1</th>\n",
       "      <td>2010</td>\n",
       "      <td>416490</td>\n",
       "    </tr>\n",
       "    <tr>\n",
       "      <th>2</th>\n",
       "      <td>2011</td>\n",
       "      <td>402428</td>\n",
       "    </tr>\n",
       "    <tr>\n",
       "      <th>3</th>\n",
       "      <td>2012</td>\n",
       "      <td>154547</td>\n",
       "    </tr>\n",
       "    <tr>\n",
       "      <th>4</th>\n",
       "      <td>2013</td>\n",
       "      <td>305</td>\n",
       "    </tr>\n",
       "    <tr>\n",
       "      <th>5</th>\n",
       "      <td>2020</td>\n",
       "      <td>2</td>\n",
       "    </tr>\n",
       "  </tbody>\n",
       "</table>\n",
       "</div>"
      ],
      "text/plain": [
       "   year  sum_collisions\n",
       "0  2009          426228\n",
       "1  2010          416490\n",
       "2  2011          402428\n",
       "3  2012          154547\n",
       "4  2013             305\n",
       "5  2020               2"
      ]
     },
     "execution_count": 69,
     "metadata": {},
     "output_type": "execute_result"
    }
   ],
   "source": [
    "%%time\n",
    "df_collisions_year = pd.read_sql_query(query_collisions_year, con=engine) \n",
    "df_collisions_year"
   ]
  },
  {
   "cell_type": "markdown",
   "metadata": {},
   "source": [
    "так как у нас по условию в итоге нужно использовать данные 2012 года посмотрим какие месяцы сюда включены"
   ]
  },
  {
   "cell_type": "code",
   "execution_count": 95,
   "metadata": {},
   "outputs": [
    {
     "data": {
      "text/html": [
       "<div>\n",
       "<style scoped>\n",
       "    .dataframe tbody tr th:only-of-type {\n",
       "        vertical-align: middle;\n",
       "    }\n",
       "\n",
       "    .dataframe tbody tr th {\n",
       "        vertical-align: top;\n",
       "    }\n",
       "\n",
       "    .dataframe thead th {\n",
       "        text-align: right;\n",
       "    }\n",
       "</style>\n",
       "<table border=\"1\" class=\"dataframe\">\n",
       "  <thead>\n",
       "    <tr style=\"text-align: right;\">\n",
       "      <th></th>\n",
       "      <th>month</th>\n",
       "      <th>sum_collisions</th>\n",
       "    </tr>\n",
       "  </thead>\n",
       "  <tbody>\n",
       "    <tr>\n",
       "      <th>0</th>\n",
       "      <td>3</td>\n",
       "      <td>32498</td>\n",
       "    </tr>\n",
       "    <tr>\n",
       "      <th>1</th>\n",
       "      <td>1</td>\n",
       "      <td>32020</td>\n",
       "    </tr>\n",
       "    <tr>\n",
       "      <th>2</th>\n",
       "      <td>2</td>\n",
       "      <td>30377</td>\n",
       "    </tr>\n",
       "    <tr>\n",
       "      <th>3</th>\n",
       "      <td>4</td>\n",
       "      <td>29143</td>\n",
       "    </tr>\n",
       "    <tr>\n",
       "      <th>4</th>\n",
       "      <td>5</td>\n",
       "      <td>25168</td>\n",
       "    </tr>\n",
       "    <tr>\n",
       "      <th>5</th>\n",
       "      <td>6</td>\n",
       "      <td>3062</td>\n",
       "    </tr>\n",
       "    <tr>\n",
       "      <th>6</th>\n",
       "      <td>8</td>\n",
       "      <td>622</td>\n",
       "    </tr>\n",
       "    <tr>\n",
       "      <th>7</th>\n",
       "      <td>9</td>\n",
       "      <td>510</td>\n",
       "    </tr>\n",
       "    <tr>\n",
       "      <th>8</th>\n",
       "      <td>7</td>\n",
       "      <td>390</td>\n",
       "    </tr>\n",
       "    <tr>\n",
       "      <th>9</th>\n",
       "      <td>10</td>\n",
       "      <td>304</td>\n",
       "    </tr>\n",
       "    <tr>\n",
       "      <th>10</th>\n",
       "      <td>11</td>\n",
       "      <td>253</td>\n",
       "    </tr>\n",
       "    <tr>\n",
       "      <th>11</th>\n",
       "      <td>12</td>\n",
       "      <td>200</td>\n",
       "    </tr>\n",
       "  </tbody>\n",
       "</table>\n",
       "</div>"
      ],
      "text/plain": [
       "    month  sum_collisions\n",
       "0       3           32498\n",
       "1       1           32020\n",
       "2       2           30377\n",
       "3       4           29143\n",
       "4       5           25168\n",
       "5       6            3062\n",
       "6       8             622\n",
       "7       9             510\n",
       "8       7             390\n",
       "9      10             304\n",
       "10     11             253\n",
       "11     12             200"
      ]
     },
     "execution_count": 95,
     "metadata": {},
     "output_type": "execute_result"
    }
   ],
   "source": [
    "query_collisions_2012 = '''\n",
    "SELECT DISTINCT CAST(EXTRACT(month FROM collision_date) AS int) AS month,\n",
    "      COUNT(case_id) AS sum_collisions\n",
    "FROM collisions\n",
    "WHERE collision_date BETWEEN '2012-01-01' AND '2012-12-31'\n",
    "GROUP BY month\n",
    "ORDER BY sum_collisions DESC;\n",
    "'''\n",
    "df_collisions_2012 = pd.read_sql_query(query_collisions_2012, con=engine) \n",
    "df_collisions_2012\n"
   ]
  },
  {
   "cell_type": "markdown",
   "metadata": {},
   "source": [
    "<b>ВНИМАНИЕ:</b> ХМ явно что то случилось с накоплением данных с 6 по 12 месяцы, хорошо бы поднять вопрос с заказчиком, по причине их требования, что использовать нужно данные за 2012 год, но они не полные и как минимум анализ на год по ним производить некорректно.\n",
    "\n",
    "что характерно - тут март месяц первый по авариям"
   ]
  },
  {
   "cell_type": "markdown",
   "metadata": {},
   "source": [
    "неверно считать по всем месяцамм  -  нужно с 2009 по 2011 года"
   ]
  },
  {
   "cell_type": "code",
   "execution_count": 91,
   "metadata": {},
   "outputs": [],
   "source": [
    "query_collisions_month_2009_2010_2011 = '''\n",
    "SELECT DISTINCT CAST(EXTRACT(month FROM collision_date) AS int) AS month,\n",
    "      COUNT(case_id) AS sum_collisions\n",
    "FROM collisions\n",
    "WHERE collision_date BETWEEN '2009-01-01' AND '2011-12-31'\n",
    "GROUP BY month\n",
    "ORDER BY sum_collisions DESC;\n",
    "'''"
   ]
  },
  {
   "cell_type": "code",
   "execution_count": 92,
   "metadata": {},
   "outputs": [
    {
     "name": "stdout",
     "output_type": "stream",
     "text": [
      "CPU times: total: 0 ns\n",
      "Wall time: 271 ms\n"
     ]
    },
    {
     "data": {
      "text/html": [
       "<div>\n",
       "<style scoped>\n",
       "    .dataframe tbody tr th:only-of-type {\n",
       "        vertical-align: middle;\n",
       "    }\n",
       "\n",
       "    .dataframe tbody tr th {\n",
       "        vertical-align: top;\n",
       "    }\n",
       "\n",
       "    .dataframe thead th {\n",
       "        text-align: right;\n",
       "    }\n",
       "</style>\n",
       "<table border=\"1\" class=\"dataframe\">\n",
       "  <thead>\n",
       "    <tr style=\"text-align: right;\">\n",
       "      <th></th>\n",
       "      <th>month</th>\n",
       "      <th>sum_collisions</th>\n",
       "    </tr>\n",
       "  </thead>\n",
       "  <tbody>\n",
       "    <tr>\n",
       "      <th>0</th>\n",
       "      <td>10</td>\n",
       "      <td>111933</td>\n",
       "    </tr>\n",
       "    <tr>\n",
       "      <th>1</th>\n",
       "      <td>12</td>\n",
       "      <td>107745</td>\n",
       "    </tr>\n",
       "    <tr>\n",
       "      <th>2</th>\n",
       "      <td>3</td>\n",
       "      <td>107036</td>\n",
       "    </tr>\n",
       "    <tr>\n",
       "      <th>3</th>\n",
       "      <td>5</td>\n",
       "      <td>105148</td>\n",
       "    </tr>\n",
       "    <tr>\n",
       "      <th>4</th>\n",
       "      <td>9</td>\n",
       "      <td>104649</td>\n",
       "    </tr>\n",
       "    <tr>\n",
       "      <th>5</th>\n",
       "      <td>11</td>\n",
       "      <td>104517</td>\n",
       "    </tr>\n",
       "    <tr>\n",
       "      <th>6</th>\n",
       "      <td>8</td>\n",
       "      <td>103467</td>\n",
       "    </tr>\n",
       "    <tr>\n",
       "      <th>7</th>\n",
       "      <td>7</td>\n",
       "      <td>101835</td>\n",
       "    </tr>\n",
       "    <tr>\n",
       "      <th>8</th>\n",
       "      <td>4</td>\n",
       "      <td>101032</td>\n",
       "    </tr>\n",
       "    <tr>\n",
       "      <th>9</th>\n",
       "      <td>1</td>\n",
       "      <td>99880</td>\n",
       "    </tr>\n",
       "    <tr>\n",
       "      <th>10</th>\n",
       "      <td>6</td>\n",
       "      <td>99531</td>\n",
       "    </tr>\n",
       "    <tr>\n",
       "      <th>11</th>\n",
       "      <td>2</td>\n",
       "      <td>98373</td>\n",
       "    </tr>\n",
       "  </tbody>\n",
       "</table>\n",
       "</div>"
      ],
      "text/plain": [
       "    month  sum_collisions\n",
       "0      10          111933\n",
       "1      12          107745\n",
       "2       3          107036\n",
       "3       5          105148\n",
       "4       9          104649\n",
       "5      11          104517\n",
       "6       8          103467\n",
       "7       7          101835\n",
       "8       4          101032\n",
       "9       1           99880\n",
       "10      6           99531\n",
       "11      2           98373"
      ]
     },
     "execution_count": 92,
     "metadata": {},
     "output_type": "execute_result"
    }
   ],
   "source": [
    "%%time\n",
    "df_collisions_month_2009_2010_2011 = pd.read_sql_query(query_collisions_month_2009_2010_2011, con=engine) \n",
    "df_collisions_month_2009_2010_2011"
   ]
  },
  {
   "cell_type": "code",
   "execution_count": 93,
   "metadata": {},
   "outputs": [
    {
     "data": {
      "image/png": "[encoded data removed]",
      "text/plain": [
       "<Figure size 432x288 with 1 Axes>"
      ]
     },
     "metadata": {
      "needs_background": "light"
     },
     "output_type": "display_data"
    }
   ],
   "source": [
    "sns.barplot(data = df_collisions_month_2009_2010_2011, x='month', y='sum_collisions')\n",
    "plt.title('Распределение количества аварий по месяцам за все время наблюдений')\n",
    "plt.xticks(rotation=40)\n",
    "plt.xlabel('Месяц')\n",
    "plt.ylabel('Число аварий')\n",
    "plt.show()"
   ]
  },
  {
   "cell_type": "markdown",
   "metadata": {},
   "source": [
    "<b>ВЫВОД: </b>\n",
    "\n",
    "* Наибольшее количество аварий приходится на 10,12 и 3 месяцы года\n",
    "\n",
    "* Наименьшее во 2 и 6 месяце\n",
    "\n",
    "* есть проблема с данными на 2012 год - они включают в себя только данные за первые 6 месяцев года"
   ]
  },
  {
   "cell_type": "markdown",
   "metadata": {},
   "source": [
    "### Постановка задач коллегам для общего понимания данных коллегами и нахождения дополнительных закономерностей"
   ]
  },
  {
   "cell_type": "markdown",
   "metadata": {},
   "source": [
    "1) Проанализируйте влияние фактора физического состояния участника на ДТП в феврале и в октябре (наименьшее и наибольшее количество дтп) за 3 года - с 09 по 11."
   ]
  },
  {
   "cell_type": "markdown",
   "metadata": {},
   "source": [
    "2) Проанализируйте как влияет наличие или отсутствие громкой связи в автомобиле на тяжесть ДТП"
   ]
  },
  {
   "cell_type": "markdown",
   "metadata": {},
   "source": [
    "3) Проанализируйте какая наиболее частая причина аварий аварий вообще и тяжелых в частности"
   ]
  },
  {
   "cell_type": "markdown",
   "metadata": {},
   "source": [
    "4) Проанализируйте как влияет год автомобиля на сумму страховой выплаты"
   ]
  },
  {
   "cell_type": "markdown",
   "metadata": {},
   "source": [
    "5) Проанализируйте сколько в процентах виновников ДТП были в алкогольном опьянении для тяжелых случаев ДТП"
   ]
  },
  {
   "cell_type": "markdown",
   "metadata": {},
   "source": [
    "6) Определите в каком месте происходит наибольшее количество ДТП с участниками в алкогольном опьянении"
   ]
  },
  {
   "cell_type": "markdown",
   "metadata": {},
   "source": [
    "7) Определите в какое время дня происходит наибольшее количество аварий"
   ]
  },
  {
   "cell_type": "markdown",
   "metadata": {},
   "source": [
    "### Решим первые три первых задачи, остальное оставим добрым коллегам"
   ]
  },
  {
   "cell_type": "markdown",
   "metadata": {},
   "source": [
    "#### Проанализируйте влияние фактора физического состояния участника на ДТП в феврале и в октябре (наименьшее и наибольшее количество дтп) за 3 года - с 09 по 11.\n",
    "\n",
    "Для этого нам понадобятся таблицы collision и parties\n",
    "\n",
    "И найдем отношение выпивших участников к общему числу участников за 3 года по месяцам"
   ]
  },
  {
   "cell_type": "code",
   "execution_count": 149,
   "metadata": {},
   "outputs": [
    {
     "data": {
      "text/html": [
       "<div>\n",
       "<style scoped>\n",
       "    .dataframe tbody tr th:only-of-type {\n",
       "        vertical-align: middle;\n",
       "    }\n",
       "\n",
       "    .dataframe tbody tr th {\n",
       "        vertical-align: top;\n",
       "    }\n",
       "\n",
       "    .dataframe thead th {\n",
       "        text-align: right;\n",
       "    }\n",
       "</style>\n",
       "<table border=\"1\" class=\"dataframe\">\n",
       "  <thead>\n",
       "    <tr style=\"text-align: right;\">\n",
       "      <th></th>\n",
       "      <th>month</th>\n",
       "      <th>coun2</th>\n",
       "      <th>coun1</th>\n",
       "      <th>drunk_percent</th>\n",
       "    </tr>\n",
       "  </thead>\n",
       "  <tbody>\n",
       "    <tr>\n",
       "      <th>0</th>\n",
       "      <td>9</td>\n",
       "      <td>10514</td>\n",
       "      <td>207901</td>\n",
       "      <td>5.06</td>\n",
       "    </tr>\n",
       "    <tr>\n",
       "      <th>1</th>\n",
       "      <td>3</td>\n",
       "      <td>11253</td>\n",
       "      <td>210042</td>\n",
       "      <td>5.36</td>\n",
       "    </tr>\n",
       "    <tr>\n",
       "      <th>2</th>\n",
       "      <td>11</td>\n",
       "      <td>11146</td>\n",
       "      <td>206808</td>\n",
       "      <td>5.39</td>\n",
       "    </tr>\n",
       "    <tr>\n",
       "      <th>3</th>\n",
       "      <td>10</td>\n",
       "      <td>11963</td>\n",
       "      <td>220557</td>\n",
       "      <td>5.42</td>\n",
       "    </tr>\n",
       "    <tr>\n",
       "      <th>4</th>\n",
       "      <td>6</td>\n",
       "      <td>10608</td>\n",
       "      <td>195633</td>\n",
       "      <td>5.42</td>\n",
       "    </tr>\n",
       "    <tr>\n",
       "      <th>5</th>\n",
       "      <td>4</td>\n",
       "      <td>10951</td>\n",
       "      <td>198842</td>\n",
       "      <td>5.51</td>\n",
       "    </tr>\n",
       "    <tr>\n",
       "      <th>6</th>\n",
       "      <td>12</td>\n",
       "      <td>11686</td>\n",
       "      <td>211153</td>\n",
       "      <td>5.53</td>\n",
       "    </tr>\n",
       "    <tr>\n",
       "      <th>7</th>\n",
       "      <td>8</td>\n",
       "      <td>11333</td>\n",
       "      <td>203921</td>\n",
       "      <td>5.56</td>\n",
       "    </tr>\n",
       "    <tr>\n",
       "      <th>8</th>\n",
       "      <td>2</td>\n",
       "      <td>10712</td>\n",
       "      <td>191880</td>\n",
       "      <td>5.58</td>\n",
       "    </tr>\n",
       "    <tr>\n",
       "      <th>9</th>\n",
       "      <td>1</td>\n",
       "      <td>11051</td>\n",
       "      <td>194777</td>\n",
       "      <td>5.67</td>\n",
       "    </tr>\n",
       "    <tr>\n",
       "      <th>10</th>\n",
       "      <td>5</td>\n",
       "      <td>11791</td>\n",
       "      <td>206240</td>\n",
       "      <td>5.72</td>\n",
       "    </tr>\n",
       "    <tr>\n",
       "      <th>11</th>\n",
       "      <td>7</td>\n",
       "      <td>11715</td>\n",
       "      <td>200366</td>\n",
       "      <td>5.85</td>\n",
       "    </tr>\n",
       "  </tbody>\n",
       "</table>\n",
       "</div>"
      ],
      "text/plain": [
       "    month  coun2   coun1  drunk_percent\n",
       "0       9  10514  207901           5.06\n",
       "1       3  11253  210042           5.36\n",
       "2      11  11146  206808           5.39\n",
       "3      10  11963  220557           5.42\n",
       "4       6  10608  195633           5.42\n",
       "5       4  10951  198842           5.51\n",
       "6      12  11686  211153           5.53\n",
       "7       8  11333  203921           5.56\n",
       "8       2  10712  191880           5.58\n",
       "9       1  11051  194777           5.67\n",
       "10      5  11791  206240           5.72\n",
       "11      7  11715  200366           5.85"
      ]
     },
     "execution_count": 149,
     "metadata": {},
     "output_type": "execute_result"
    }
   ],
   "source": [
    "query_1 = '''\n",
    "WITH\n",
    "count_all AS\n",
    "(SELECT DISTINCT CAST(EXTRACT(month FROM collision_date) AS int) AS month,\n",
    "    COUNT(*) OVER(partition by EXTRACT(month FROM collision_date)) AS coun1\n",
    "FROM collisions AS co\n",
    "full JOIN parties AS pa ON co.case_id = pa.case_id\n",
    "WHERE co.collision_date BETWEEN '2009-01-01' AND '2011-12-31'),\n",
    "count_drank AS\n",
    "(SELECT DISTINCT CAST(EXTRACT(month FROM collision_date) AS int) AS month,\n",
    "    COUNT(*) OVER(partition by EXTRACT(month FROM collision_date)) AS coun2\n",
    "FROM collisions AS co\n",
    "full JOIN parties AS pa ON co.case_id = pa.case_id\n",
    "WHERE co.collision_date BETWEEN '2009-01-01' AND '2011-12-31' AND\n",
    "pa.party_sobriety LIKE '%%had been drinking%%')\n",
    "\n",
    "SELECT count_all.month,\n",
    "coun2,\n",
    "coun1,\n",
    "ROUND(CAST(CAST(count_drank.coun2 AS float)/CAST(count_all.coun1 AS float)*100 AS numeric), 2) AS drunk_percent\n",
    "FROM count_all INNER JOIN count_drank ON count_all.month = count_drank.month\n",
    "ORDER BY drunk_percent\n",
    "'''\n",
    "\n",
    "df_1 = pd.read_sql_query(query_1, con=engine) \n",
    "df_1"
   ]
  },
  {
   "cell_type": "code",
   "execution_count": 147,
   "metadata": {},
   "outputs": [
    {
     "data": {
      "image/png": "[encoded data removed]",
      "text/plain": [
       "<Figure size 432x288 with 1 Axes>"
      ]
     },
     "metadata": {
      "needs_background": "light"
     },
     "output_type": "display_data"
    }
   ],
   "source": [
    "sns.barplot(data = df_1, x='month', y='drunk_percent')\n",
    "plt.title('Процент участников ДТП в состоянии алкогольного опъянения. суммарно 2009-2011 года')\n",
    "plt.xticks(rotation=40)\n",
    "plt.xlabel('Месяц')\n",
    "plt.ylabel('Процент')\n",
    "plt.show()"
   ]
  },
  {
   "cell_type": "markdown",
   "metadata": {},
   "source": [
    "Посмотрим на 2 и 10 месяц - 5.58 и 5.42 соответственно. Вообще по месяцам процент пьяных за рулем не сильно отличается, хотя есть небольшое увеличение летом и зимой."
   ]
  },
  {
   "cell_type": "markdown",
   "metadata": {},
   "source": [
    "#### Проанализируйте как влияет наличие или отсутствие громкой связи в автомобиле на тяжесть ДТП\n",
    "\n",
    "для этого нам понадобятся таблицы collision и parties\n",
    "\n",
    "посмотрим на процентное содержание тяжелый аварий с наличием и отсутствием громкой связи"
   ]
  },
  {
   "cell_type": "code",
   "execution_count": 153,
   "metadata": {},
   "outputs": [
    {
     "data": {
      "text/html": [
       "<div>\n",
       "<style scoped>\n",
       "    .dataframe tbody tr th:only-of-type {\n",
       "        vertical-align: middle;\n",
       "    }\n",
       "\n",
       "    .dataframe tbody tr th {\n",
       "        vertical-align: top;\n",
       "    }\n",
       "\n",
       "    .dataframe thead th {\n",
       "        text-align: right;\n",
       "    }\n",
       "</style>\n",
       "<table border=\"1\" class=\"dataframe\">\n",
       "  <thead>\n",
       "    <tr style=\"text-align: right;\">\n",
       "      <th></th>\n",
       "      <th>count_not_phone</th>\n",
       "    </tr>\n",
       "  </thead>\n",
       "  <tbody>\n",
       "    <tr>\n",
       "      <th>0</th>\n",
       "      <td>61655</td>\n",
       "    </tr>\n",
       "  </tbody>\n",
       "</table>\n",
       "</div>"
      ],
      "text/plain": [
       "   count_not_phone\n",
       "0            61655"
      ]
     },
     "execution_count": 153,
     "metadata": {},
     "output_type": "execute_result"
    }
   ],
   "source": [
    "query_2 = '''\n",
    "SELECT COUNT(*) AS count_not_phone\n",
    "FROM collisions AS co\n",
    "full JOIN parties AS pa ON co.case_id = pa.case_id\n",
    "WHERE pa.cellphone_in_use = 0 AND\n",
    "co.collision_damage IN ('fatal','severe damage')\n",
    "limit 10\n",
    "\n",
    "'''\n",
    "\n",
    "df_2 = pd.read_sql_query(query_2, con=engine) \n",
    "df_2"
   ]
  },
  {
   "cell_type": "code",
   "execution_count": 154,
   "metadata": {},
   "outputs": [
    {
     "data": {
      "text/html": [
       "<div>\n",
       "<style scoped>\n",
       "    .dataframe tbody tr th:only-of-type {\n",
       "        vertical-align: middle;\n",
       "    }\n",
       "\n",
       "    .dataframe tbody tr th {\n",
       "        vertical-align: top;\n",
       "    }\n",
       "\n",
       "    .dataframe thead th {\n",
       "        text-align: right;\n",
       "    }\n",
       "</style>\n",
       "<table border=\"1\" class=\"dataframe\">\n",
       "  <thead>\n",
       "    <tr style=\"text-align: right;\">\n",
       "      <th></th>\n",
       "      <th>count_not_phone</th>\n",
       "    </tr>\n",
       "  </thead>\n",
       "  <tbody>\n",
       "    <tr>\n",
       "      <th>0</th>\n",
       "      <td>1163</td>\n",
       "    </tr>\n",
       "  </tbody>\n",
       "</table>\n",
       "</div>"
      ],
      "text/plain": [
       "   count_not_phone\n",
       "0             1163"
      ]
     },
     "execution_count": 154,
     "metadata": {},
     "output_type": "execute_result"
    }
   ],
   "source": [
    "query_3 = '''\n",
    "SELECT COUNT(*) AS count_not_phone\n",
    "FROM collisions AS co\n",
    "full JOIN parties AS pa ON co.case_id = pa.case_id\n",
    "WHERE pa.cellphone_in_use = 1 AND\n",
    "co.collision_damage IN ('fatal','severe damage')\n",
    "limit 10\n",
    "\n",
    "'''\n",
    "\n",
    "df_3 = pd.read_sql_query(query_3, con=engine) \n",
    "df_3"
   ]
  },
  {
   "cell_type": "markdown",
   "metadata": {},
   "source": [
    "Найдем всех участников с громкой и без громкой связи из таблицы parties"
   ]
  },
  {
   "cell_type": "code",
   "execution_count": 162,
   "metadata": {},
   "outputs": [
    {
     "name": "stdout",
     "output_type": "stream",
     "text": [
      "CPU times: total: 4.14 s\n",
      "Wall time: 9.9 s\n"
     ]
    },
    {
     "data": {
      "text/plain": [
       "cellphone_in_use\n",
       "0.0                 2194946\n",
       "1.0                   45825\n",
       "dtype: int64"
      ]
     },
     "execution_count": 162,
     "metadata": {},
     "output_type": "execute_result"
    }
   ],
   "source": [
    "%%time\n",
    "query_4 = '''\n",
    "SELECT cellphone_in_use\n",
    "FROM parties\n",
    "'''\n",
    "\n",
    "df_4 = pd.read_sql_query(query_4, con=engine) \n",
    "df_4.value_counts()"
   ]
  },
  {
   "cell_type": "markdown",
   "metadata": {},
   "source": [
    "Итого процентное отношение с громкой связью"
   ]
  },
  {
   "cell_type": "code",
   "execution_count": 163,
   "metadata": {},
   "outputs": [
    {
     "name": "stdout",
     "output_type": "stream",
     "text": [
      "2.537915984724495\n"
     ]
    }
   ],
   "source": [
    "print(1163/45825*100)"
   ]
  },
  {
   "cell_type": "markdown",
   "metadata": {},
   "source": [
    "Итого процентное отношение без громкой связи"
   ]
  },
  {
   "cell_type": "code",
   "execution_count": 164,
   "metadata": {},
   "outputs": [
    {
     "name": "stdout",
     "output_type": "stream",
     "text": [
      "2.8089529309604884\n"
     ]
    }
   ],
   "source": [
    "print(61655/2194946*100)"
   ]
  },
  {
   "cell_type": "markdown",
   "metadata": {},
   "source": [
    "Посмотрим на количество случаев на которое вполне себе возможно влияние отсутствия громкой связи:\n"
   ]
  },
  {
   "cell_type": "code",
   "execution_count": 165,
   "metadata": {},
   "outputs": [
    {
     "name": "stdout",
     "output_type": "stream",
     "text": [
      "5706.859599999995\n"
     ]
    }
   ],
   "source": [
    "print(2194946*(2.8-2.54)/100)"
   ]
  },
  {
   "cell_type": "markdown",
   "metadata": {},
   "source": [
    "А найдемка среднюю величину страховой выплаты по тяжелым авариям"
   ]
  },
  {
   "cell_type": "code",
   "execution_count": 166,
   "metadata": {},
   "outputs": [
    {
     "data": {
      "text/html": [
       "<div>\n",
       "<style scoped>\n",
       "    .dataframe tbody tr th:only-of-type {\n",
       "        vertical-align: middle;\n",
       "    }\n",
       "\n",
       "    .dataframe tbody tr th {\n",
       "        vertical-align: top;\n",
       "    }\n",
       "\n",
       "    .dataframe thead th {\n",
       "        text-align: right;\n",
       "    }\n",
       "</style>\n",
       "<table border=\"1\" class=\"dataframe\">\n",
       "  <thead>\n",
       "    <tr style=\"text-align: right;\">\n",
       "      <th></th>\n",
       "      <th>avg_insurance_premium</th>\n",
       "    </tr>\n",
       "  </thead>\n",
       "  <tbody>\n",
       "    <tr>\n",
       "      <th>0</th>\n",
       "      <td>39.805228</td>\n",
       "    </tr>\n",
       "  </tbody>\n",
       "</table>\n",
       "</div>"
      ],
      "text/plain": [
       "   avg_insurance_premium\n",
       "0              39.805228"
      ]
     },
     "execution_count": 166,
     "metadata": {},
     "output_type": "execute_result"
    }
   ],
   "source": [
    "query_5 = '''\n",
    "SELECT AVG(pa.insurance_premium) AS avg_insurance_premium \n",
    "FROM collisions AS co\n",
    "full JOIN parties AS pa ON co.case_id = pa.case_id\n",
    "WHERE pa.cellphone_in_use = 0 AND\n",
    "co.collision_damage IN ('fatal','severe damage')\n",
    "limit 10\n",
    "\n",
    "'''\n",
    "\n",
    "df_5 = pd.read_sql_query(query_5, con=engine) \n",
    "df_5"
   ]
  },
  {
   "cell_type": "markdown",
   "metadata": {},
   "source": [
    "Однако 39 000 долл за случай"
   ]
  },
  {
   "cell_type": "markdown",
   "metadata": {},
   "source": [
    "##### <b>Вывод:</b> \n",
    "\n",
    "наблюдается влияение наличия громкой связи в автомобиле в сторону уменьшения аварий, причем конкретно за весь период наблюдений, если бы громкая связь была во всех авто, то вполне возможно уменьшение количества аварий на 5700 случаев, и возможность съэкономить страховых выплат на 222 миллиона долларов!\n",
    "\n",
    "То есть отсутствие громкой связи в авто должно повышать страховой платеж, ну или необходимо во все новые автомобили обязательно устанавливать громкую связь для уменьшения количества тяжелых ДТП."
   ]
  },
  {
   "cell_type": "markdown",
   "metadata": {},
   "source": [
    "#### Проанализируйте какая наиболее частая причина аварий аварий вообще и тяжелых в частности"
   ]
  },
  {
   "cell_type": "code",
   "execution_count": 543,
   "metadata": {},
   "outputs": [
    {
     "data": {
      "text/html": [
       "<div>\n",
       "<style scoped>\n",
       "    .dataframe tbody tr th:only-of-type {\n",
       "        vertical-align: middle;\n",
       "    }\n",
       "\n",
       "    .dataframe tbody tr th {\n",
       "        vertical-align: top;\n",
       "    }\n",
       "\n",
       "    .dataframe thead th {\n",
       "        text-align: right;\n",
       "    }\n",
       "</style>\n",
       "<table border=\"1\" class=\"dataframe\">\n",
       "  <thead>\n",
       "    <tr style=\"text-align: right;\">\n",
       "      <th></th>\n",
       "      <th>pcf_violation_category</th>\n",
       "      <th>count_pcf</th>\n",
       "    </tr>\n",
       "  </thead>\n",
       "  <tbody>\n",
       "    <tr>\n",
       "      <th>0</th>\n",
       "      <td>speeding</td>\n",
       "      <td>438439</td>\n",
       "    </tr>\n",
       "    <tr>\n",
       "      <th>1</th>\n",
       "      <td>improper turning</td>\n",
       "      <td>238987</td>\n",
       "    </tr>\n",
       "    <tr>\n",
       "      <th>2</th>\n",
       "      <td>automobile right of way</td>\n",
       "      <td>158291</td>\n",
       "    </tr>\n",
       "    <tr>\n",
       "      <th>3</th>\n",
       "      <td>dui</td>\n",
       "      <td>110476</td>\n",
       "    </tr>\n",
       "    <tr>\n",
       "      <th>4</th>\n",
       "      <td>unsafe lane change</td>\n",
       "      <td>93962</td>\n",
       "    </tr>\n",
       "    <tr>\n",
       "      <th>5</th>\n",
       "      <td>traffic signals and signs</td>\n",
       "      <td>72751</td>\n",
       "    </tr>\n",
       "    <tr>\n",
       "      <th>6</th>\n",
       "      <td>unsafe starting or backing</td>\n",
       "      <td>55674</td>\n",
       "    </tr>\n",
       "    <tr>\n",
       "      <th>7</th>\n",
       "      <td>unknown</td>\n",
       "      <td>39558</td>\n",
       "    </tr>\n",
       "    <tr>\n",
       "      <th>8</th>\n",
       "      <td>wrong side of road</td>\n",
       "      <td>33631</td>\n",
       "    </tr>\n",
       "    <tr>\n",
       "      <th>9</th>\n",
       "      <td>following too closely</td>\n",
       "      <td>30033</td>\n",
       "    </tr>\n",
       "  </tbody>\n",
       "</table>\n",
       "</div>"
      ],
      "text/plain": [
       "       pcf_violation_category  count_pcf\n",
       "0                    speeding     438439\n",
       "1            improper turning     238987\n",
       "2     automobile right of way     158291\n",
       "3                         dui     110476\n",
       "4          unsafe lane change      93962\n",
       "5   traffic signals and signs      72751\n",
       "6  unsafe starting or backing      55674\n",
       "7                     unknown      39558\n",
       "8          wrong side of road      33631\n",
       "9       following too closely      30033"
      ]
     },
     "execution_count": 543,
     "metadata": {},
     "output_type": "execute_result"
    }
   ],
   "source": [
    "query_6 = '''\n",
    "SELECT pcf_violation_category,\n",
    "COUNT(*) AS count_pcf\n",
    "FROM collisions\n",
    "GROUP BY pcf_violation_category\n",
    "ORDER BY count_pcf desc\n",
    "limit 10\n",
    "\n",
    "'''\n",
    "\n",
    "df_6 = pd.read_sql_query(query_6, con=engine) \n",
    "df_6"
   ]
  },
  {
   "cell_type": "code",
   "execution_count": 551,
   "metadata": {},
   "outputs": [
    {
     "data": {
      "image/png": "[encoded data removed]",
      "text/plain": [
       "<Figure size 432x288 with 1 Axes>"
      ]
     },
     "metadata": {
      "needs_background": "light"
     },
     "output_type": "display_data"
    }
   ],
   "source": [
    "sns.barplot(data = df_6, x='pcf_violation_category', y='count_pcf')\n",
    "plt.title('Количество случаев аварий разделенные по причинам. суммарно 2009-2012 года')\n",
    "plt.xticks(rotation=90)\n",
    "plt.xlabel('Причины аварий')\n",
    "plt.ylabel('Количество по всем годам')\n",
    "plt.show()"
   ]
  },
  {
   "cell_type": "markdown",
   "metadata": {},
   "source": [
    "Теперь посмотрим на тяжелые аварии"
   ]
  },
  {
   "cell_type": "code",
   "execution_count": 550,
   "metadata": {},
   "outputs": [
    {
     "data": {
      "text/html": [
       "<div>\n",
       "<style scoped>\n",
       "    .dataframe tbody tr th:only-of-type {\n",
       "        vertical-align: middle;\n",
       "    }\n",
       "\n",
       "    .dataframe tbody tr th {\n",
       "        vertical-align: top;\n",
       "    }\n",
       "\n",
       "    .dataframe thead th {\n",
       "        text-align: right;\n",
       "    }\n",
       "</style>\n",
       "<table border=\"1\" class=\"dataframe\">\n",
       "  <thead>\n",
       "    <tr style=\"text-align: right;\">\n",
       "      <th></th>\n",
       "      <th>pcf_violation_category</th>\n",
       "      <th>count_pcf</th>\n",
       "    </tr>\n",
       "  </thead>\n",
       "  <tbody>\n",
       "    <tr>\n",
       "      <th>0</th>\n",
       "      <td>dui</td>\n",
       "      <td>8005</td>\n",
       "    </tr>\n",
       "    <tr>\n",
       "      <th>1</th>\n",
       "      <td>improper turning</td>\n",
       "      <td>7367</td>\n",
       "    </tr>\n",
       "    <tr>\n",
       "      <th>2</th>\n",
       "      <td>speeding</td>\n",
       "      <td>7252</td>\n",
       "    </tr>\n",
       "    <tr>\n",
       "      <th>3</th>\n",
       "      <td>automobile right of way</td>\n",
       "      <td>3997</td>\n",
       "    </tr>\n",
       "    <tr>\n",
       "      <th>4</th>\n",
       "      <td>pedestrian violation</td>\n",
       "      <td>3914</td>\n",
       "    </tr>\n",
       "    <tr>\n",
       "      <th>5</th>\n",
       "      <td>traffic signals and signs</td>\n",
       "      <td>2249</td>\n",
       "    </tr>\n",
       "    <tr>\n",
       "      <th>6</th>\n",
       "      <td>wrong side of road</td>\n",
       "      <td>2070</td>\n",
       "    </tr>\n",
       "    <tr>\n",
       "      <th>7</th>\n",
       "      <td>pedestrian right of way</td>\n",
       "      <td>1488</td>\n",
       "    </tr>\n",
       "    <tr>\n",
       "      <th>8</th>\n",
       "      <td>unsafe lane change</td>\n",
       "      <td>1138</td>\n",
       "    </tr>\n",
       "    <tr>\n",
       "      <th>9</th>\n",
       "      <td>other than driver (or pedestrian)</td>\n",
       "      <td>934</td>\n",
       "    </tr>\n",
       "  </tbody>\n",
       "</table>\n",
       "</div>"
      ],
      "text/plain": [
       "              pcf_violation_category  count_pcf\n",
       "0                                dui       8005\n",
       "1                   improper turning       7367\n",
       "2                           speeding       7252\n",
       "3            automobile right of way       3997\n",
       "4               pedestrian violation       3914\n",
       "5          traffic signals and signs       2249\n",
       "6                 wrong side of road       2070\n",
       "7            pedestrian right of way       1488\n",
       "8                 unsafe lane change       1138\n",
       "9  other than driver (or pedestrian)        934"
      ]
     },
     "execution_count": 550,
     "metadata": {},
     "output_type": "execute_result"
    }
   ],
   "source": [
    "query_7 = '''\n",
    "SELECT pcf_violation_category,\n",
    "COUNT(*) AS count_pcf\n",
    "FROM collisions\n",
    "WHERE collision_damage IN ('fatal','severe damage')\n",
    "GROUP BY pcf_violation_category\n",
    "ORDER BY count_pcf desc\n",
    "limit 10\n",
    "\n",
    "'''\n",
    "\n",
    "df_7 = pd.read_sql_query(query_7, con=engine) \n",
    "df_7"
   ]
  },
  {
   "cell_type": "code",
   "execution_count": 552,
   "metadata": {},
   "outputs": [
    {
     "data": {
      "image/png": "[encoded data removed]",
      "text/plain": [
       "<Figure size 432x288 with 1 Axes>"
      ]
     },
     "metadata": {
      "needs_background": "light"
     },
     "output_type": "display_data"
    }
   ],
   "source": [
    "sns.barplot(data = df_7, x='pcf_violation_category', y='count_pcf')\n",
    "plt.title('Количество случаев тяжелых аварий разделенные по причинам. суммарно 2009-2012 года')\n",
    "plt.xticks(rotation=90)\n",
    "plt.xlabel('Причины аварий')\n",
    "plt.ylabel('Количество по всем годам')\n",
    "plt.show()"
   ]
  },
  {
   "cell_type": "markdown",
   "metadata": {},
   "source": [
    "##### <b>Вывод:</b> \n",
    "\n",
    "И опять мы видим, что главная причина тяжелых аварий это алкоголь или другое влияние на состояние водителя"
   ]
  },
  {
   "cell_type": "markdown",
   "metadata": {},
   "source": [
    "## Подготовим данные для оценки водительского риска"
   ]
  },
  {
   "cell_type": "markdown",
   "metadata": {},
   "source": [
    "### Подготовим набор данных на основе первичного предположения заказчика:"
   ]
  },
  {
   "cell_type": "markdown",
   "metadata": {},
   "source": [
    "Выберите тип виновника — только машина (car)\n",
    "\n",
    "Возьмите случаи, когда ДТП привело к любым значимым повреждениям автомобиля любого из участников — все, кроме типа SCRATCH (царапина).\n",
    "\n",
    "Для моделирования возьмите данные только за 2012 год.\n",
    "\n",
    "Обязательное условие — учесть фактор возраста автомобиля - этот столбец точно оставляем.\n",
    "\n",
    "Целевой признак для предсказания столбец at_fault из таблицы parties 1- виновен, 0-не виновен\n",
    "\n",
    "Задача классификации\n",
    "\n",
    "Так же подумаем сразу какой показатель классификации на важен - нам важно максимально верно предсказывать как 1 так и 0  - но все же 1 предсказать важнее, так как лучше перебдеть, чем недобдеть (но без фанатизма, что бы в итоге не найти вообще ни одного безопастного маршрута).\n",
    "\n",
    "<b>Оптимизацию моделей будем делать по полноте recall, так же посмотрим и на точность precision дабы понять кому и сколько мы не верно предложили изменить маршрут.\n",
    "\n",
    "ну и само собой посмотрим на F1 меру, ROC AUC и Accuracy"
   ]
  },
  {
   "cell_type": "markdown",
   "metadata": {},
   "source": [
    "#### SQL запрос"
   ]
  },
  {
   "cell_type": "code",
   "execution_count": 205,
   "metadata": {},
   "outputs": [
    {
     "name": "stdout",
     "output_type": "stream",
     "text": [
      "CPU times: total: 3.58 s\n",
      "Wall time: 20.5 s\n"
     ]
    },
    {
     "data": {
      "text/html": [
       "<div>\n",
       "<style scoped>\n",
       "    .dataframe tbody tr th:only-of-type {\n",
       "        vertical-align: middle;\n",
       "    }\n",
       "\n",
       "    .dataframe tbody tr th {\n",
       "        vertical-align: top;\n",
       "    }\n",
       "\n",
       "    .dataframe thead th {\n",
       "        text-align: right;\n",
       "    }\n",
       "</style>\n",
       "<table border=\"1\" class=\"dataframe\">\n",
       "  <thead>\n",
       "    <tr style=\"text-align: right;\">\n",
       "      <th></th>\n",
       "      <th>case_id</th>\n",
       "      <th>county_city_location</th>\n",
       "      <th>county_location</th>\n",
       "      <th>distance</th>\n",
       "      <th>direction</th>\n",
       "      <th>intersection</th>\n",
       "      <th>weather_1</th>\n",
       "      <th>location_type</th>\n",
       "      <th>collision_damage</th>\n",
       "      <th>party_count</th>\n",
       "      <th>primary_collision_factor</th>\n",
       "      <th>pcf_violation_category</th>\n",
       "      <th>type_of_collision</th>\n",
       "      <th>motor_vehicle_involved_with</th>\n",
       "      <th>road_surface</th>\n",
       "      <th>road_condition_1</th>\n",
       "      <th>lighting</th>\n",
       "      <th>control_device</th>\n",
       "      <th>collision_date</th>\n",
       "      <th>collision_time</th>\n",
       "      <th>id</th>\n",
       "      <th>case_id</th>\n",
       "      <th>party_number</th>\n",
       "      <th>party_type</th>\n",
       "      <th>at_fault</th>\n",
       "      <th>insurance_premium</th>\n",
       "      <th>party_sobriety</th>\n",
       "      <th>party_drug_physical</th>\n",
       "      <th>cellphone_in_use</th>\n",
       "      <th>id</th>\n",
       "      <th>case_id</th>\n",
       "      <th>party_number</th>\n",
       "      <th>vehicle_type</th>\n",
       "      <th>vehicle_transmission</th>\n",
       "      <th>vehicle_age</th>\n",
       "    </tr>\n",
       "  </thead>\n",
       "  <tbody>\n",
       "    <tr>\n",
       "      <th>0</th>\n",
       "      <td>5455652</td>\n",
       "      <td>4806</td>\n",
       "      <td>solano</td>\n",
       "      <td>0.0</td>\n",
       "      <td>None</td>\n",
       "      <td>1.0</td>\n",
       "      <td>clear</td>\n",
       "      <td>None</td>\n",
       "      <td>middle damage</td>\n",
       "      <td>2</td>\n",
       "      <td>vehicle code violation</td>\n",
       "      <td>pedestrian violation</td>\n",
       "      <td>other</td>\n",
       "      <td>other object</td>\n",
       "      <td>dry</td>\n",
       "      <td>normal</td>\n",
       "      <td>dark with street lights</td>\n",
       "      <td>functioning</td>\n",
       "      <td>2012-01-01</td>\n",
       "      <td>17:53:00</td>\n",
       "      <td>2407881</td>\n",
       "      <td>5455652</td>\n",
       "      <td>2</td>\n",
       "      <td>car</td>\n",
       "      <td>0</td>\n",
       "      <td>33.0</td>\n",
       "      <td>had not been drinking</td>\n",
       "      <td>None</td>\n",
       "      <td>0.0</td>\n",
       "      <td>1327267</td>\n",
       "      <td>5455652</td>\n",
       "      <td>1</td>\n",
       "      <td>hatchback</td>\n",
       "      <td>manual</td>\n",
       "      <td>11.0</td>\n",
       "    </tr>\n",
       "    <tr>\n",
       "      <th>1</th>\n",
       "      <td>5457954</td>\n",
       "      <td>1992</td>\n",
       "      <td>los angeles</td>\n",
       "      <td>7.8</td>\n",
       "      <td>west</td>\n",
       "      <td>0.0</td>\n",
       "      <td>clear</td>\n",
       "      <td>ramp</td>\n",
       "      <td>small damage</td>\n",
       "      <td>2</td>\n",
       "      <td>vehicle code violation</td>\n",
       "      <td>automobile right of way</td>\n",
       "      <td>broadside</td>\n",
       "      <td>other motor vehicle</td>\n",
       "      <td>dry</td>\n",
       "      <td>normal</td>\n",
       "      <td>dark with street lights</td>\n",
       "      <td>none</td>\n",
       "      <td>2012-01-05</td>\n",
       "      <td>18:33:00</td>\n",
       "      <td>2412316</td>\n",
       "      <td>5457954</td>\n",
       "      <td>2</td>\n",
       "      <td>car</td>\n",
       "      <td>0</td>\n",
       "      <td>59.0</td>\n",
       "      <td>had not been drinking</td>\n",
       "      <td>None</td>\n",
       "      <td>NaN</td>\n",
       "      <td>1329594</td>\n",
       "      <td>5457954</td>\n",
       "      <td>2</td>\n",
       "      <td>sedan</td>\n",
       "      <td>manual</td>\n",
       "      <td>8.0</td>\n",
       "    </tr>\n",
       "    <tr>\n",
       "      <th>2</th>\n",
       "      <td>5458088</td>\n",
       "      <td>4000</td>\n",
       "      <td>san luis obispo</td>\n",
       "      <td>1584.0</td>\n",
       "      <td>south</td>\n",
       "      <td>0.0</td>\n",
       "      <td>raining</td>\n",
       "      <td>highway</td>\n",
       "      <td>small damage</td>\n",
       "      <td>2</td>\n",
       "      <td>vehicle code violation</td>\n",
       "      <td>following too closely</td>\n",
       "      <td>rear end</td>\n",
       "      <td>other motor vehicle</td>\n",
       "      <td>wet</td>\n",
       "      <td>normal</td>\n",
       "      <td>daylight</td>\n",
       "      <td>none</td>\n",
       "      <td>2012-02-07</td>\n",
       "      <td>07:48:00</td>\n",
       "      <td>2412594</td>\n",
       "      <td>5458088</td>\n",
       "      <td>1</td>\n",
       "      <td>car</td>\n",
       "      <td>1</td>\n",
       "      <td>18.0</td>\n",
       "      <td>had not been drinking</td>\n",
       "      <td>None</td>\n",
       "      <td>0.0</td>\n",
       "      <td>1329743</td>\n",
       "      <td>5458088</td>\n",
       "      <td>1</td>\n",
       "      <td>sedan</td>\n",
       "      <td>auto</td>\n",
       "      <td>8.0</td>\n",
       "    </tr>\n",
       "    <tr>\n",
       "      <th>3</th>\n",
       "      <td>5459255</td>\n",
       "      <td>4006</td>\n",
       "      <td>san luis obispo</td>\n",
       "      <td>60.0</td>\n",
       "      <td>south</td>\n",
       "      <td>0.0</td>\n",
       "      <td>clear</td>\n",
       "      <td>None</td>\n",
       "      <td>middle damage</td>\n",
       "      <td>3</td>\n",
       "      <td>vehicle code violation</td>\n",
       "      <td>speeding</td>\n",
       "      <td>rear end</td>\n",
       "      <td>other motor vehicle</td>\n",
       "      <td>dry</td>\n",
       "      <td>normal</td>\n",
       "      <td>daylight</td>\n",
       "      <td>functioning</td>\n",
       "      <td>2012-02-01</td>\n",
       "      <td>09:26:00</td>\n",
       "      <td>2414856</td>\n",
       "      <td>5459255</td>\n",
       "      <td>2</td>\n",
       "      <td>car</td>\n",
       "      <td>0</td>\n",
       "      <td>63.0</td>\n",
       "      <td>had not been drinking</td>\n",
       "      <td>None</td>\n",
       "      <td>0.0</td>\n",
       "      <td>1330785</td>\n",
       "      <td>5459255</td>\n",
       "      <td>2</td>\n",
       "      <td>coupe</td>\n",
       "      <td>auto</td>\n",
       "      <td>10.0</td>\n",
       "    </tr>\n",
       "    <tr>\n",
       "      <th>4</th>\n",
       "      <td>5461403</td>\n",
       "      <td>3009</td>\n",
       "      <td>orange</td>\n",
       "      <td>2112.0</td>\n",
       "      <td>east</td>\n",
       "      <td>0.0</td>\n",
       "      <td>clear</td>\n",
       "      <td>highway</td>\n",
       "      <td>small damage</td>\n",
       "      <td>2</td>\n",
       "      <td>vehicle code violation</td>\n",
       "      <td>speeding</td>\n",
       "      <td>rear end</td>\n",
       "      <td>other motor vehicle</td>\n",
       "      <td>dry</td>\n",
       "      <td>normal</td>\n",
       "      <td>dark with street lights</td>\n",
       "      <td>none</td>\n",
       "      <td>2012-01-27</td>\n",
       "      <td>19:30:00</td>\n",
       "      <td>2418569</td>\n",
       "      <td>5461403</td>\n",
       "      <td>2</td>\n",
       "      <td>car</td>\n",
       "      <td>0</td>\n",
       "      <td>45.0</td>\n",
       "      <td>had not been drinking</td>\n",
       "      <td>None</td>\n",
       "      <td>0.0</td>\n",
       "      <td>1332853</td>\n",
       "      <td>5461403</td>\n",
       "      <td>1</td>\n",
       "      <td>sedan</td>\n",
       "      <td>manual</td>\n",
       "      <td>3.0</td>\n",
       "    </tr>\n",
       "  </tbody>\n",
       "</table>\n",
       "</div>"
      ],
      "text/plain": [
       "   case_id county_city_location  county_location  distance direction  \\\n",
       "0  5455652                 4806           solano       0.0      None   \n",
       "1  5457954                 1992      los angeles       7.8      west   \n",
       "2  5458088                 4000  san luis obispo    1584.0     south   \n",
       "3  5459255                 4006  san luis obispo      60.0     south   \n",
       "4  5461403                 3009           orange    2112.0      east   \n",
       "\n",
       "   intersection weather_1 location_type collision_damage  party_count  \\\n",
       "0           1.0     clear          None    middle damage            2   \n",
       "1           0.0     clear          ramp     small damage            2   \n",
       "2           0.0   raining       highway     small damage            2   \n",
       "3           0.0     clear          None    middle damage            3   \n",
       "4           0.0     clear       highway     small damage            2   \n",
       "\n",
       "  primary_collision_factor   pcf_violation_category type_of_collision  \\\n",
       "0   vehicle code violation     pedestrian violation             other   \n",
       "1   vehicle code violation  automobile right of way         broadside   \n",
       "2   vehicle code violation    following too closely          rear end   \n",
       "3   vehicle code violation                 speeding          rear end   \n",
       "4   vehicle code violation                 speeding          rear end   \n",
       "\n",
       "  motor_vehicle_involved_with road_surface road_condition_1  \\\n",
       "0                other object          dry           normal   \n",
       "1         other motor vehicle          dry           normal   \n",
       "2         other motor vehicle          wet           normal   \n",
       "3         other motor vehicle          dry           normal   \n",
       "4         other motor vehicle          dry           normal   \n",
       "\n",
       "                  lighting control_device collision_date collision_time  \\\n",
       "0  dark with street lights    functioning     2012-01-01       17:53:00   \n",
       "1  dark with street lights           none     2012-01-05       18:33:00   \n",
       "2                 daylight           none     2012-02-07       07:48:00   \n",
       "3                 daylight    functioning     2012-02-01       09:26:00   \n",
       "4  dark with street lights           none     2012-01-27       19:30:00   \n",
       "\n",
       "        id  case_id  party_number party_type  at_fault  insurance_premium  \\\n",
       "0  2407881  5455652             2        car         0               33.0   \n",
       "1  2412316  5457954             2        car         0               59.0   \n",
       "2  2412594  5458088             1        car         1               18.0   \n",
       "3  2414856  5459255             2        car         0               63.0   \n",
       "4  2418569  5461403             2        car         0               45.0   \n",
       "\n",
       "          party_sobriety party_drug_physical  cellphone_in_use       id  \\\n",
       "0  had not been drinking                None               0.0  1327267   \n",
       "1  had not been drinking                None               NaN  1329594   \n",
       "2  had not been drinking                None               0.0  1329743   \n",
       "3  had not been drinking                None               0.0  1330785   \n",
       "4  had not been drinking                None               0.0  1332853   \n",
       "\n",
       "   case_id  party_number vehicle_type vehicle_transmission  vehicle_age  \n",
       "0  5455652             1    hatchback               manual         11.0  \n",
       "1  5457954             2        sedan               manual          8.0  \n",
       "2  5458088             1        sedan                 auto          8.0  \n",
       "3  5459255             2        coupe                 auto         10.0  \n",
       "4  5461403             1        sedan               manual          3.0  "
      ]
     },
     "execution_count": 205,
     "metadata": {},
     "output_type": "execute_result"
    }
   ],
   "source": [
    "%%time\n",
    "query_data = '''\n",
    "SELECT *\n",
    "FROM collisions AS co\n",
    "JOIN parties AS pa ON co.case_id = pa.case_id\n",
    "JOIN vehicles AS ve ON ve.case_id = pa.case_id\n",
    "WHERE CAST(co.collision_date AS date) BETWEEN '2012-01-01' and '2012-12-31' AND\n",
    "pa.party_type = 'car' AND co.collision_damage != 'scratch' \n",
    "\n",
    "'''\n",
    "\n",
    "df_data = pd.read_sql_query(query_data, con=engine) \n",
    "df_data.head()"
   ]
  },
  {
   "cell_type": "code",
   "execution_count": 206,
   "metadata": {},
   "outputs": [
    {
     "name": "stdout",
     "output_type": "stream",
     "text": [
      "<class 'pandas.core.frame.DataFrame'>\n",
      "RangeIndex: 118411 entries, 0 to 118410\n",
      "Data columns (total 35 columns):\n",
      " #   Column                       Non-Null Count   Dtype  \n",
      "---  ------                       --------------   -----  \n",
      " 0   case_id                      118411 non-null  object \n",
      " 1   county_city_location         118411 non-null  object \n",
      " 2   county_location              118411 non-null  object \n",
      " 3   distance                     118411 non-null  float64\n",
      " 4   direction                    89466 non-null   object \n",
      " 5   intersection                 118043 non-null  float64\n",
      " 6   weather_1                    118022 non-null  object \n",
      " 7   location_type                55137 non-null   object \n",
      " 8   collision_damage             118411 non-null  object \n",
      " 9   party_count                  118411 non-null  int64  \n",
      " 10  primary_collision_factor     118147 non-null  object \n",
      " 11  pcf_violation_category       116686 non-null  object \n",
      " 12  type_of_collision            117771 non-null  object \n",
      " 13  motor_vehicle_involved_with  118079 non-null  object \n",
      " 14  road_surface                 117645 non-null  object \n",
      " 15  road_condition_1             117843 non-null  object \n",
      " 16  lighting                     118080 non-null  object \n",
      " 17  control_device               117957 non-null  object \n",
      " 18  collision_date               118411 non-null  object \n",
      " 19  collision_time               118283 non-null  object \n",
      " 20  id                           118411 non-null  int64  \n",
      " 21  case_id                      118411 non-null  object \n",
      " 22  party_number                 118411 non-null  int64  \n",
      " 23  party_type                   118411 non-null  object \n",
      " 24  at_fault                     118411 non-null  int64  \n",
      " 25  insurance_premium            113289 non-null  float64\n",
      " 26  party_sobriety               116682 non-null  object \n",
      " 27  party_drug_physical          8695 non-null    object \n",
      " 28  cellphone_in_use             107507 non-null  float64\n",
      " 29  id                           118411 non-null  int64  \n",
      " 30  case_id                      118411 non-null  object \n",
      " 31  party_number                 118411 non-null  int64  \n",
      " 32  vehicle_type                 118411 non-null  object \n",
      " 33  vehicle_transmission         116545 non-null  object \n",
      " 34  vehicle_age                  115046 non-null  float64\n",
      "dtypes: float64(5), int64(6), object(24)\n",
      "memory usage: 31.6+ MB\n"
     ]
    }
   ],
   "source": [
    "df_data.info()"
   ]
  },
  {
   "cell_type": "markdown",
   "metadata": {},
   "source": [
    "### Анализ столбцов для удаления"
   ]
  },
  {
   "cell_type": "markdown",
   "metadata": {},
   "source": [
    "Первично проанализируем какие столбцы нам точно не понадобятся - обсудим удаляемые столбцы, должны остаться столбцы касающиеся состояния водителя, авто и выбора маршрута на возможность ДТП:\n",
    "\n",
    "* все столбцы id\n",
    "\n",
    "* оставим county_city_location как более точный, удалим county_location\n",
    "\n",
    "* думается что влияние distance и direction минимальны - если только в какие то моменты солнце светит в глаза, но количетво строк в direction говорит, что даже при наборе данных на это мало обращают внимание, хотя статистическое влияние в какую стороны двигался в момент аварии вполне может быть\n",
    "\n",
    "* location_type несколько дублирует столбец intersection - ибо на перекрестках явно вероятность ДТП выше, чем на дороге (кстати при расчете вероятности ДТП количество перекрестков на маршруте весьма важная величина)\n",
    "\n",
    "* collision_damage и type_of_collision  нам уже не важен, дасточно самого факта повреждений\n",
    "\n",
    "* party_count, party_number - нам не важно количество участников ДТП, лишь виновный и не виновный\n",
    "\n",
    "* primary_collision_factor - этот столбец пожалуй важен только если бы мы оценивали надежность конкретного водителя, и в таблицах были бы еще данные ID водителей (рецидивистов), но сама причина ДТП пожалуй не влияет на факт аварии\n",
    "\n",
    "* pcf_violation_category  - пожалуй в нужных нам факторах дублирует столбец party_sobriety\n",
    "\n",
    "* motor_vehicle_involved_with - удаляем ибо результат ДТП нам не важен\n",
    "\n",
    "* collision_date и  collision_time нужно преобразовать в столбец с месяцами и часами ведь весьма могут и влиять на дтп, но мы ранее определили что 2012 год не полный и collision_date можно удалить.\n",
    "\n",
    "* party_type нам не нужен данные в нем одинаковые car\n",
    "\n",
    "* insurance_premium удаляем, для понимания вероятности дтп она не важна\n",
    "\n",
    "Что же итого сведем все наши выводы в один список\n",
    "\n"
   ]
  },
  {
   "cell_type": "code",
   "execution_count": 207,
   "metadata": {},
   "outputs": [],
   "source": [
    "df_data = df_data.drop(['case_id', 'county_location', 'distance',\n",
    "       'direction', 'location_type',\n",
    "       'collision_damage', 'party_count', 'primary_collision_factor',\n",
    "       'pcf_violation_category', 'type_of_collision',\n",
    "       'motor_vehicle_involved_with', 'collision_date', 'id',\n",
    "       'party_number', 'party_type',\n",
    "       'insurance_premium', 'party_number'], axis=1)"
   ]
  },
  {
   "cell_type": "code",
   "execution_count": 208,
   "metadata": {},
   "outputs": [
    {
     "name": "stdout",
     "output_type": "stream",
     "text": [
      "<class 'pandas.core.frame.DataFrame'>\n",
      "RangeIndex: 118411 entries, 0 to 118410\n",
      "Data columns (total 15 columns):\n",
      " #   Column                Non-Null Count   Dtype  \n",
      "---  ------                --------------   -----  \n",
      " 0   county_city_location  118411 non-null  object \n",
      " 1   intersection          118043 non-null  float64\n",
      " 2   weather_1             118022 non-null  object \n",
      " 3   road_surface          117645 non-null  object \n",
      " 4   road_condition_1      117843 non-null  object \n",
      " 5   lighting              118080 non-null  object \n",
      " 6   control_device        117957 non-null  object \n",
      " 7   collision_time        118283 non-null  object \n",
      " 8   at_fault              118411 non-null  int64  \n",
      " 9   party_sobriety        116682 non-null  object \n",
      " 10  party_drug_physical   8695 non-null    object \n",
      " 11  cellphone_in_use      107507 non-null  float64\n",
      " 12  vehicle_type          118411 non-null  object \n",
      " 13  vehicle_transmission  116545 non-null  object \n",
      " 14  vehicle_age           115046 non-null  float64\n",
      "dtypes: float64(3), int64(1), object(11)\n",
      "memory usage: 13.6+ MB\n"
     ]
    }
   ],
   "source": [
    "df_data.info()"
   ]
  },
  {
   "cell_type": "markdown",
   "metadata": {},
   "source": [
    "Посмотрим на пустые ячейки:"
   ]
  },
  {
   "cell_type": "markdown",
   "metadata": {},
   "source": [
    "### Пустые значения ячеек"
   ]
  },
  {
   "cell_type": "code",
   "execution_count": 209,
   "metadata": {},
   "outputs": [
    {
     "data": {
      "text/plain": [
       "county_city_location    0.000000\n",
       "intersection            0.003108\n",
       "weather_1               0.003285\n",
       "road_surface            0.006469\n",
       "road_condition_1        0.004797\n",
       "lighting                0.002795\n",
       "control_device          0.003834\n",
       "collision_time          0.001081\n",
       "at_fault                0.000000\n",
       "party_sobriety          0.014602\n",
       "party_drug_physical     0.926569\n",
       "cellphone_in_use        0.092086\n",
       "vehicle_type            0.000000\n",
       "vehicle_transmission    0.015759\n",
       "vehicle_age             0.028418\n",
       "dtype: float64"
      ]
     },
     "execution_count": 209,
     "metadata": {},
     "output_type": "execute_result"
    }
   ],
   "source": [
    "df_data.isna().mean()"
   ]
  },
  {
   "cell_type": "markdown",
   "metadata": {},
   "source": [
    "Вопросы возникают к столбцам party_drug_physical и cellphone_in_use \n",
    "\n",
    "cellphone_in_use мы никак заполнить не можем, а вот еще подумаем: если алкогольное опьянение мы можем как то проконтролировать и повлиять, то принимал ли водитель наркотики или лекарства никак не проконтролируем, и поэтому реально такие факторы не учтешь в прогнозе аварии, значит этот столбец так же удаляем.\n",
    "\n",
    "Остальные пустые ячейки можно так же удалить без особой потери данных - тем более их заполнение словами other или unknown осбо не влияет на результат"
   ]
  },
  {
   "cell_type": "code",
   "execution_count": 210,
   "metadata": {},
   "outputs": [],
   "source": [
    "df_data = df_data.drop(['party_drug_physical'], axis=1)"
   ]
  },
  {
   "cell_type": "code",
   "execution_count": 211,
   "metadata": {},
   "outputs": [],
   "source": [
    "df_drop = df_data.dropna()"
   ]
  },
  {
   "cell_type": "code",
   "execution_count": 212,
   "metadata": {},
   "outputs": [
    {
     "name": "stdout",
     "output_type": "stream",
     "text": [
      "<class 'pandas.core.frame.DataFrame'>\n",
      "Int64Index: 100956 entries, 0 to 118409\n",
      "Data columns (total 14 columns):\n",
      " #   Column                Non-Null Count   Dtype  \n",
      "---  ------                --------------   -----  \n",
      " 0   county_city_location  100956 non-null  object \n",
      " 1   intersection          100956 non-null  float64\n",
      " 2   weather_1             100956 non-null  object \n",
      " 3   road_surface          100956 non-null  object \n",
      " 4   road_condition_1      100956 non-null  object \n",
      " 5   lighting              100956 non-null  object \n",
      " 6   control_device        100956 non-null  object \n",
      " 7   collision_time        100956 non-null  object \n",
      " 8   at_fault              100956 non-null  int64  \n",
      " 9   party_sobriety        100956 non-null  object \n",
      " 10  cellphone_in_use      100956 non-null  float64\n",
      " 11  vehicle_type          100956 non-null  object \n",
      " 12  vehicle_transmission  100956 non-null  object \n",
      " 13  vehicle_age           100956 non-null  float64\n",
      "dtypes: float64(3), int64(1), object(10)\n",
      "memory usage: 11.6+ MB\n"
     ]
    }
   ],
   "source": [
    "df_drop.info()"
   ]
  },
  {
   "cell_type": "markdown",
   "metadata": {},
   "source": [
    "Думаю что 100 000 строк нам вполне себе достаточно для обучения моделей\n",
    "\n",
    "Что еще нужно сделать с таблицей:\n",
    "\n",
    "* посмотрим на стратификацию целевого признака\n",
    "\n",
    "\n",
    "* county_city_location перевести в тип int\n",
    "\n",
    "\n",
    "* collision_time вместо него вывести столбец с часами\n",
    "\n",
    "\n",
    "* Провести преобразование OHE\n",
    "\n",
    "\n",
    "* Узнаем насколько важны те или иные параметры при помощи feature importance и модели RandomForestClassifier - возможно после него какие то столбцы еще удалим.\n"
   ]
  },
  {
   "cell_type": "markdown",
   "metadata": {},
   "source": [
    "### Стратификация целевого признака "
   ]
  },
  {
   "cell_type": "code",
   "execution_count": 213,
   "metadata": {},
   "outputs": [
    {
     "data": {
      "text/plain": [
       "0    53.877927\n",
       "1    46.122073\n",
       "Name: at_fault, dtype: float64"
      ]
     },
     "execution_count": 213,
     "metadata": {},
     "output_type": "execute_result"
    }
   ],
   "source": [
    "df_drop['at_fault'].value_counts(normalize=True)*100"
   ]
  },
  {
   "cell_type": "markdown",
   "metadata": {},
   "source": [
    "Данных с 0 чуть побольше чем 1. Посмотрим как пойдет обучение моделей, возможно можно будет изменить показатель для повышения качества моделей."
   ]
  },
  {
   "cell_type": "markdown",
   "metadata": {},
   "source": [
    "### Работа со столбцом county_city_location "
   ]
  },
  {
   "cell_type": "code",
   "execution_count": 214,
   "metadata": {},
   "outputs": [],
   "source": [
    "df_drop['county_city_location'] = df_drop['county_city_location'].astype('int64')"
   ]
  },
  {
   "cell_type": "markdown",
   "metadata": {},
   "source": [
    "### Работа со столбцом collision_time \n",
    "\n",
    "добавим столбец вместо него время в часах"
   ]
  },
  {
   "cell_type": "code",
   "execution_count": 215,
   "metadata": {},
   "outputs": [],
   "source": [
    "df_drop['collision_time'] = pd.to_datetime(df_drop['collision_time'], format='%H:%M:%S')\n",
    "# Возвращает новую колонку,"
   ]
  },
  {
   "cell_type": "code",
   "execution_count": 216,
   "metadata": {},
   "outputs": [],
   "source": [
    "df_drop['collision_hour'] =  pd.DatetimeIndex(df_drop['collision_time']).hour"
   ]
  },
  {
   "cell_type": "code",
   "execution_count": 217,
   "metadata": {},
   "outputs": [],
   "source": [
    "df_drop = df_drop.drop(['collision_time'], axis=1)"
   ]
  },
  {
   "cell_type": "code",
   "execution_count": 218,
   "metadata": {},
   "outputs": [
    {
     "name": "stdout",
     "output_type": "stream",
     "text": [
      "<class 'pandas.core.frame.DataFrame'>\n",
      "Int64Index: 100956 entries, 0 to 118409\n",
      "Data columns (total 14 columns):\n",
      " #   Column                Non-Null Count   Dtype  \n",
      "---  ------                --------------   -----  \n",
      " 0   county_city_location  100956 non-null  int64  \n",
      " 1   intersection          100956 non-null  float64\n",
      " 2   weather_1             100956 non-null  object \n",
      " 3   road_surface          100956 non-null  object \n",
      " 4   road_condition_1      100956 non-null  object \n",
      " 5   lighting              100956 non-null  object \n",
      " 6   control_device        100956 non-null  object \n",
      " 7   at_fault              100956 non-null  int64  \n",
      " 8   party_sobriety        100956 non-null  object \n",
      " 9   cellphone_in_use      100956 non-null  float64\n",
      " 10  vehicle_type          100956 non-null  object \n",
      " 11  vehicle_transmission  100956 non-null  object \n",
      " 12  vehicle_age           100956 non-null  float64\n",
      " 13  collision_hour        100956 non-null  int64  \n",
      "dtypes: float64(3), int64(3), object(8)\n",
      "memory usage: 11.6+ MB\n"
     ]
    }
   ],
   "source": [
    "df_drop.info()"
   ]
  },
  {
   "cell_type": "code",
   "execution_count": 219,
   "metadata": {},
   "outputs": [
    {
     "data": {
      "text/html": [
       "<div>\n",
       "<style scoped>\n",
       "    .dataframe tbody tr th:only-of-type {\n",
       "        vertical-align: middle;\n",
       "    }\n",
       "\n",
       "    .dataframe tbody tr th {\n",
       "        vertical-align: top;\n",
       "    }\n",
       "\n",
       "    .dataframe thead th {\n",
       "        text-align: right;\n",
       "    }\n",
       "</style>\n",
       "<table border=\"1\" class=\"dataframe\">\n",
       "  <thead>\n",
       "    <tr style=\"text-align: right;\">\n",
       "      <th></th>\n",
       "      <th>county_city_location</th>\n",
       "      <th>intersection</th>\n",
       "      <th>weather_1</th>\n",
       "      <th>road_surface</th>\n",
       "      <th>road_condition_1</th>\n",
       "      <th>lighting</th>\n",
       "      <th>control_device</th>\n",
       "      <th>at_fault</th>\n",
       "      <th>party_sobriety</th>\n",
       "      <th>cellphone_in_use</th>\n",
       "      <th>vehicle_type</th>\n",
       "      <th>vehicle_transmission</th>\n",
       "      <th>vehicle_age</th>\n",
       "      <th>collision_hour</th>\n",
       "    </tr>\n",
       "  </thead>\n",
       "  <tbody>\n",
       "    <tr>\n",
       "      <th>0</th>\n",
       "      <td>4806</td>\n",
       "      <td>1.0</td>\n",
       "      <td>clear</td>\n",
       "      <td>dry</td>\n",
       "      <td>normal</td>\n",
       "      <td>dark with street lights</td>\n",
       "      <td>functioning</td>\n",
       "      <td>0</td>\n",
       "      <td>had not been drinking</td>\n",
       "      <td>0.0</td>\n",
       "      <td>hatchback</td>\n",
       "      <td>manual</td>\n",
       "      <td>11.0</td>\n",
       "      <td>17</td>\n",
       "    </tr>\n",
       "    <tr>\n",
       "      <th>2</th>\n",
       "      <td>4000</td>\n",
       "      <td>0.0</td>\n",
       "      <td>raining</td>\n",
       "      <td>wet</td>\n",
       "      <td>normal</td>\n",
       "      <td>daylight</td>\n",
       "      <td>none</td>\n",
       "      <td>1</td>\n",
       "      <td>had not been drinking</td>\n",
       "      <td>0.0</td>\n",
       "      <td>sedan</td>\n",
       "      <td>auto</td>\n",
       "      <td>8.0</td>\n",
       "      <td>7</td>\n",
       "    </tr>\n",
       "    <tr>\n",
       "      <th>3</th>\n",
       "      <td>4006</td>\n",
       "      <td>0.0</td>\n",
       "      <td>clear</td>\n",
       "      <td>dry</td>\n",
       "      <td>normal</td>\n",
       "      <td>daylight</td>\n",
       "      <td>functioning</td>\n",
       "      <td>0</td>\n",
       "      <td>had not been drinking</td>\n",
       "      <td>0.0</td>\n",
       "      <td>coupe</td>\n",
       "      <td>auto</td>\n",
       "      <td>10.0</td>\n",
       "      <td>9</td>\n",
       "    </tr>\n",
       "    <tr>\n",
       "      <th>4</th>\n",
       "      <td>3009</td>\n",
       "      <td>0.0</td>\n",
       "      <td>clear</td>\n",
       "      <td>dry</td>\n",
       "      <td>normal</td>\n",
       "      <td>dark with street lights</td>\n",
       "      <td>none</td>\n",
       "      <td>0</td>\n",
       "      <td>had not been drinking</td>\n",
       "      <td>0.0</td>\n",
       "      <td>sedan</td>\n",
       "      <td>manual</td>\n",
       "      <td>3.0</td>\n",
       "      <td>19</td>\n",
       "    </tr>\n",
       "    <tr>\n",
       "      <th>5</th>\n",
       "      <td>3900</td>\n",
       "      <td>0.0</td>\n",
       "      <td>clear</td>\n",
       "      <td>dry</td>\n",
       "      <td>normal</td>\n",
       "      <td>dark with no street lights</td>\n",
       "      <td>none</td>\n",
       "      <td>0</td>\n",
       "      <td>had not been drinking</td>\n",
       "      <td>0.0</td>\n",
       "      <td>sedan</td>\n",
       "      <td>manual</td>\n",
       "      <td>4.0</td>\n",
       "      <td>5</td>\n",
       "    </tr>\n",
       "  </tbody>\n",
       "</table>\n",
       "</div>"
      ],
      "text/plain": [
       "   county_city_location  intersection weather_1 road_surface road_condition_1  \\\n",
       "0                  4806           1.0     clear          dry           normal   \n",
       "2                  4000           0.0   raining          wet           normal   \n",
       "3                  4006           0.0     clear          dry           normal   \n",
       "4                  3009           0.0     clear          dry           normal   \n",
       "5                  3900           0.0     clear          dry           normal   \n",
       "\n",
       "                     lighting control_device  at_fault         party_sobriety  \\\n",
       "0     dark with street lights    functioning         0  had not been drinking   \n",
       "2                    daylight           none         1  had not been drinking   \n",
       "3                    daylight    functioning         0  had not been drinking   \n",
       "4     dark with street lights           none         0  had not been drinking   \n",
       "5  dark with no street lights           none         0  had not been drinking   \n",
       "\n",
       "   cellphone_in_use vehicle_type vehicle_transmission  vehicle_age  \\\n",
       "0               0.0    hatchback               manual         11.0   \n",
       "2               0.0        sedan                 auto          8.0   \n",
       "3               0.0        coupe                 auto         10.0   \n",
       "4               0.0        sedan               manual          3.0   \n",
       "5               0.0        sedan               manual          4.0   \n",
       "\n",
       "   collision_hour  \n",
       "0              17  \n",
       "2               7  \n",
       "3               9  \n",
       "4              19  \n",
       "5               5  "
      ]
     },
     "execution_count": 219,
     "metadata": {},
     "output_type": "execute_result"
    }
   ],
   "source": [
    "df_drop.head()"
   ]
  },
  {
   "cell_type": "markdown",
   "metadata": {},
   "source": [
    "### Преобразование OHE для категориальных столбцов"
   ]
  },
  {
   "cell_type": "code",
   "execution_count": 220,
   "metadata": {},
   "outputs": [
    {
     "data": {
      "text/plain": [
       "Index(['county_city_location', 'intersection', 'weather_1', 'road_surface',\n",
       "       'road_condition_1', 'lighting', 'control_device', 'at_fault',\n",
       "       'party_sobriety', 'cellphone_in_use', 'vehicle_type',\n",
       "       'vehicle_transmission', 'vehicle_age', 'collision_hour'],\n",
       "      dtype='object')"
      ]
     },
     "execution_count": 220,
     "metadata": {},
     "output_type": "execute_result"
    }
   ],
   "source": [
    "df_drop.columns"
   ]
  },
  {
   "cell_type": "code",
   "execution_count": 222,
   "metadata": {},
   "outputs": [
    {
     "data": {
      "text/html": [
       "<div>\n",
       "<style scoped>\n",
       "    .dataframe tbody tr th:only-of-type {\n",
       "        vertical-align: middle;\n",
       "    }\n",
       "\n",
       "    .dataframe tbody tr th {\n",
       "        vertical-align: top;\n",
       "    }\n",
       "\n",
       "    .dataframe thead th {\n",
       "        text-align: right;\n",
       "    }\n",
       "</style>\n",
       "<table border=\"1\" class=\"dataframe\">\n",
       "  <thead>\n",
       "    <tr style=\"text-align: right;\">\n",
       "      <th></th>\n",
       "      <th>county_city_location</th>\n",
       "      <th>intersection</th>\n",
       "      <th>at_fault</th>\n",
       "      <th>cellphone_in_use</th>\n",
       "      <th>vehicle_age</th>\n",
       "      <th>collision_hour</th>\n",
       "      <th>weather_1_cloudy</th>\n",
       "      <th>weather_1_fog</th>\n",
       "      <th>weather_1_other</th>\n",
       "      <th>weather_1_raining</th>\n",
       "      <th>weather_1_snowing</th>\n",
       "      <th>weather_1_wind</th>\n",
       "      <th>road_surface_slippery</th>\n",
       "      <th>road_surface_snowy</th>\n",
       "      <th>road_surface_wet</th>\n",
       "      <th>road_condition_1_flooded</th>\n",
       "      <th>road_condition_1_holes</th>\n",
       "      <th>road_condition_1_loose material</th>\n",
       "      <th>road_condition_1_normal</th>\n",
       "      <th>road_condition_1_obstruction</th>\n",
       "      <th>road_condition_1_other</th>\n",
       "      <th>road_condition_1_reduced width</th>\n",
       "      <th>lighting_dark with street lights</th>\n",
       "      <th>lighting_dark with street lights not functioning</th>\n",
       "      <th>lighting_daylight</th>\n",
       "      <th>lighting_dusk or dawn</th>\n",
       "      <th>control_device_none</th>\n",
       "      <th>control_device_not functioning</th>\n",
       "      <th>control_device_obscured</th>\n",
       "      <th>party_sobriety_had been drinking, not under influence</th>\n",
       "      <th>party_sobriety_had been drinking, under influence</th>\n",
       "      <th>party_sobriety_had not been drinking</th>\n",
       "      <th>party_sobriety_impairment unknown</th>\n",
       "      <th>party_sobriety_not applicable</th>\n",
       "      <th>vehicle_type_hatchback</th>\n",
       "      <th>vehicle_type_minivan</th>\n",
       "      <th>vehicle_type_other</th>\n",
       "      <th>vehicle_type_sedan</th>\n",
       "      <th>vehicle_transmission_manual</th>\n",
       "    </tr>\n",
       "  </thead>\n",
       "  <tbody>\n",
       "    <tr>\n",
       "      <th>0</th>\n",
       "      <td>4806</td>\n",
       "      <td>1.0</td>\n",
       "      <td>0</td>\n",
       "      <td>0.0</td>\n",
       "      <td>11.0</td>\n",
       "      <td>17</td>\n",
       "      <td>0</td>\n",
       "      <td>0</td>\n",
       "      <td>0</td>\n",
       "      <td>0</td>\n",
       "      <td>0</td>\n",
       "      <td>0</td>\n",
       "      <td>0</td>\n",
       "      <td>0</td>\n",
       "      <td>0</td>\n",
       "      <td>0</td>\n",
       "      <td>0</td>\n",
       "      <td>0</td>\n",
       "      <td>1</td>\n",
       "      <td>0</td>\n",
       "      <td>0</td>\n",
       "      <td>0</td>\n",
       "      <td>1</td>\n",
       "      <td>0</td>\n",
       "      <td>0</td>\n",
       "      <td>0</td>\n",
       "      <td>0</td>\n",
       "      <td>0</td>\n",
       "      <td>0</td>\n",
       "      <td>0</td>\n",
       "      <td>0</td>\n",
       "      <td>1</td>\n",
       "      <td>0</td>\n",
       "      <td>0</td>\n",
       "      <td>1</td>\n",
       "      <td>0</td>\n",
       "      <td>0</td>\n",
       "      <td>0</td>\n",
       "      <td>1</td>\n",
       "    </tr>\n",
       "    <tr>\n",
       "      <th>2</th>\n",
       "      <td>4000</td>\n",
       "      <td>0.0</td>\n",
       "      <td>1</td>\n",
       "      <td>0.0</td>\n",
       "      <td>8.0</td>\n",
       "      <td>7</td>\n",
       "      <td>0</td>\n",
       "      <td>0</td>\n",
       "      <td>0</td>\n",
       "      <td>1</td>\n",
       "      <td>0</td>\n",
       "      <td>0</td>\n",
       "      <td>0</td>\n",
       "      <td>0</td>\n",
       "      <td>1</td>\n",
       "      <td>0</td>\n",
       "      <td>0</td>\n",
       "      <td>0</td>\n",
       "      <td>1</td>\n",
       "      <td>0</td>\n",
       "      <td>0</td>\n",
       "      <td>0</td>\n",
       "      <td>0</td>\n",
       "      <td>0</td>\n",
       "      <td>1</td>\n",
       "      <td>0</td>\n",
       "      <td>1</td>\n",
       "      <td>0</td>\n",
       "      <td>0</td>\n",
       "      <td>0</td>\n",
       "      <td>0</td>\n",
       "      <td>1</td>\n",
       "      <td>0</td>\n",
       "      <td>0</td>\n",
       "      <td>0</td>\n",
       "      <td>0</td>\n",
       "      <td>0</td>\n",
       "      <td>1</td>\n",
       "      <td>0</td>\n",
       "    </tr>\n",
       "    <tr>\n",
       "      <th>3</th>\n",
       "      <td>4006</td>\n",
       "      <td>0.0</td>\n",
       "      <td>0</td>\n",
       "      <td>0.0</td>\n",
       "      <td>10.0</td>\n",
       "      <td>9</td>\n",
       "      <td>0</td>\n",
       "      <td>0</td>\n",
       "      <td>0</td>\n",
       "      <td>0</td>\n",
       "      <td>0</td>\n",
       "      <td>0</td>\n",
       "      <td>0</td>\n",
       "      <td>0</td>\n",
       "      <td>0</td>\n",
       "      <td>0</td>\n",
       "      <td>0</td>\n",
       "      <td>0</td>\n",
       "      <td>1</td>\n",
       "      <td>0</td>\n",
       "      <td>0</td>\n",
       "      <td>0</td>\n",
       "      <td>0</td>\n",
       "      <td>0</td>\n",
       "      <td>1</td>\n",
       "      <td>0</td>\n",
       "      <td>0</td>\n",
       "      <td>0</td>\n",
       "      <td>0</td>\n",
       "      <td>0</td>\n",
       "      <td>0</td>\n",
       "      <td>1</td>\n",
       "      <td>0</td>\n",
       "      <td>0</td>\n",
       "      <td>0</td>\n",
       "      <td>0</td>\n",
       "      <td>0</td>\n",
       "      <td>0</td>\n",
       "      <td>0</td>\n",
       "    </tr>\n",
       "    <tr>\n",
       "      <th>4</th>\n",
       "      <td>3009</td>\n",
       "      <td>0.0</td>\n",
       "      <td>0</td>\n",
       "      <td>0.0</td>\n",
       "      <td>3.0</td>\n",
       "      <td>19</td>\n",
       "      <td>0</td>\n",
       "      <td>0</td>\n",
       "      <td>0</td>\n",
       "      <td>0</td>\n",
       "      <td>0</td>\n",
       "      <td>0</td>\n",
       "      <td>0</td>\n",
       "      <td>0</td>\n",
       "      <td>0</td>\n",
       "      <td>0</td>\n",
       "      <td>0</td>\n",
       "      <td>0</td>\n",
       "      <td>1</td>\n",
       "      <td>0</td>\n",
       "      <td>0</td>\n",
       "      <td>0</td>\n",
       "      <td>1</td>\n",
       "      <td>0</td>\n",
       "      <td>0</td>\n",
       "      <td>0</td>\n",
       "      <td>1</td>\n",
       "      <td>0</td>\n",
       "      <td>0</td>\n",
       "      <td>0</td>\n",
       "      <td>0</td>\n",
       "      <td>1</td>\n",
       "      <td>0</td>\n",
       "      <td>0</td>\n",
       "      <td>0</td>\n",
       "      <td>0</td>\n",
       "      <td>0</td>\n",
       "      <td>1</td>\n",
       "      <td>1</td>\n",
       "    </tr>\n",
       "    <tr>\n",
       "      <th>5</th>\n",
       "      <td>3900</td>\n",
       "      <td>0.0</td>\n",
       "      <td>0</td>\n",
       "      <td>0.0</td>\n",
       "      <td>4.0</td>\n",
       "      <td>5</td>\n",
       "      <td>0</td>\n",
       "      <td>0</td>\n",
       "      <td>0</td>\n",
       "      <td>0</td>\n",
       "      <td>0</td>\n",
       "      <td>0</td>\n",
       "      <td>0</td>\n",
       "      <td>0</td>\n",
       "      <td>0</td>\n",
       "      <td>0</td>\n",
       "      <td>0</td>\n",
       "      <td>0</td>\n",
       "      <td>1</td>\n",
       "      <td>0</td>\n",
       "      <td>0</td>\n",
       "      <td>0</td>\n",
       "      <td>0</td>\n",
       "      <td>0</td>\n",
       "      <td>0</td>\n",
       "      <td>0</td>\n",
       "      <td>1</td>\n",
       "      <td>0</td>\n",
       "      <td>0</td>\n",
       "      <td>0</td>\n",
       "      <td>0</td>\n",
       "      <td>1</td>\n",
       "      <td>0</td>\n",
       "      <td>0</td>\n",
       "      <td>0</td>\n",
       "      <td>0</td>\n",
       "      <td>0</td>\n",
       "      <td>1</td>\n",
       "      <td>1</td>\n",
       "    </tr>\n",
       "  </tbody>\n",
       "</table>\n",
       "</div>"
      ],
      "text/plain": [
       "   county_city_location  intersection  at_fault  cellphone_in_use  \\\n",
       "0                  4806           1.0         0               0.0   \n",
       "2                  4000           0.0         1               0.0   \n",
       "3                  4006           0.0         0               0.0   \n",
       "4                  3009           0.0         0               0.0   \n",
       "5                  3900           0.0         0               0.0   \n",
       "\n",
       "   vehicle_age  collision_hour  weather_1_cloudy  weather_1_fog  \\\n",
       "0         11.0              17                 0              0   \n",
       "2          8.0               7                 0              0   \n",
       "3         10.0               9                 0              0   \n",
       "4          3.0              19                 0              0   \n",
       "5          4.0               5                 0              0   \n",
       "\n",
       "   weather_1_other  weather_1_raining  weather_1_snowing  weather_1_wind  \\\n",
       "0                0                  0                  0               0   \n",
       "2                0                  1                  0               0   \n",
       "3                0                  0                  0               0   \n",
       "4                0                  0                  0               0   \n",
       "5                0                  0                  0               0   \n",
       "\n",
       "   road_surface_slippery  road_surface_snowy  road_surface_wet  \\\n",
       "0                      0                   0                 0   \n",
       "2                      0                   0                 1   \n",
       "3                      0                   0                 0   \n",
       "4                      0                   0                 0   \n",
       "5                      0                   0                 0   \n",
       "\n",
       "   road_condition_1_flooded  road_condition_1_holes  \\\n",
       "0                         0                       0   \n",
       "2                         0                       0   \n",
       "3                         0                       0   \n",
       "4                         0                       0   \n",
       "5                         0                       0   \n",
       "\n",
       "   road_condition_1_loose material  road_condition_1_normal  \\\n",
       "0                                0                        1   \n",
       "2                                0                        1   \n",
       "3                                0                        1   \n",
       "4                                0                        1   \n",
       "5                                0                        1   \n",
       "\n",
       "   road_condition_1_obstruction  road_condition_1_other  \\\n",
       "0                             0                       0   \n",
       "2                             0                       0   \n",
       "3                             0                       0   \n",
       "4                             0                       0   \n",
       "5                             0                       0   \n",
       "\n",
       "   road_condition_1_reduced width  lighting_dark with street lights  \\\n",
       "0                               0                                 1   \n",
       "2                               0                                 0   \n",
       "3                               0                                 0   \n",
       "4                               0                                 1   \n",
       "5                               0                                 0   \n",
       "\n",
       "   lighting_dark with street lights not functioning  lighting_daylight  \\\n",
       "0                                                 0                  0   \n",
       "2                                                 0                  1   \n",
       "3                                                 0                  1   \n",
       "4                                                 0                  0   \n",
       "5                                                 0                  0   \n",
       "\n",
       "   lighting_dusk or dawn  control_device_none  control_device_not functioning  \\\n",
       "0                      0                    0                               0   \n",
       "2                      0                    1                               0   \n",
       "3                      0                    0                               0   \n",
       "4                      0                    1                               0   \n",
       "5                      0                    1                               0   \n",
       "\n",
       "   control_device_obscured  \\\n",
       "0                        0   \n",
       "2                        0   \n",
       "3                        0   \n",
       "4                        0   \n",
       "5                        0   \n",
       "\n",
       "   party_sobriety_had been drinking, not under influence  \\\n",
       "0                                                  0       \n",
       "2                                                  0       \n",
       "3                                                  0       \n",
       "4                                                  0       \n",
       "5                                                  0       \n",
       "\n",
       "   party_sobriety_had been drinking, under influence  \\\n",
       "0                                                  0   \n",
       "2                                                  0   \n",
       "3                                                  0   \n",
       "4                                                  0   \n",
       "5                                                  0   \n",
       "\n",
       "   party_sobriety_had not been drinking  party_sobriety_impairment unknown  \\\n",
       "0                                     1                                  0   \n",
       "2                                     1                                  0   \n",
       "3                                     1                                  0   \n",
       "4                                     1                                  0   \n",
       "5                                     1                                  0   \n",
       "\n",
       "   party_sobriety_not applicable  vehicle_type_hatchback  \\\n",
       "0                              0                       1   \n",
       "2                              0                       0   \n",
       "3                              0                       0   \n",
       "4                              0                       0   \n",
       "5                              0                       0   \n",
       "\n",
       "   vehicle_type_minivan  vehicle_type_other  vehicle_type_sedan  \\\n",
       "0                     0                   0                   0   \n",
       "2                     0                   0                   1   \n",
       "3                     0                   0                   0   \n",
       "4                     0                   0                   1   \n",
       "5                     0                   0                   1   \n",
       "\n",
       "   vehicle_transmission_manual  \n",
       "0                            1  \n",
       "2                            0  \n",
       "3                            0  \n",
       "4                            1  \n",
       "5                            1  "
      ]
     },
     "execution_count": 222,
     "metadata": {},
     "output_type": "execute_result"
    }
   ],
   "source": [
    "df_ohe = pd.get_dummies(df_drop, drop_first=True, columns = [ 'weather_1', 'road_surface',\n",
    "                                                            'road_condition_1', 'lighting', 'control_device', \n",
    "                                                            'party_sobriety', 'vehicle_type',\n",
    "                                                            'vehicle_transmission'])\n",
    "df_ohe.head()"
   ]
  },
  {
   "cell_type": "markdown",
   "metadata": {},
   "source": [
    "### Feature importance"
   ]
  },
  {
   "cell_type": "code",
   "execution_count": 223,
   "metadata": {},
   "outputs": [
    {
     "data": {
      "image/png": "[encoded data removed]",
      "text/plain": [
       "<Figure size 1872x1008 with 1 Axes>"
      ]
     },
     "metadata": {
      "needs_background": "light"
     },
     "output_type": "display_data"
    }
   ],
   "source": [
    "model_skl = RandomForestClassifier()\n",
    "model_skl.fit(X = df_ohe.drop(['at_fault'], axis=1), y = df_ohe['at_fault'])\n",
    "\n",
    "skl_imp = pd.Series(model_skl.feature_importances_,\n",
    "                         df_ohe.drop(['at_fault'], axis=1).columns)\n",
    "\n",
    "fig, ax = plt.subplots(figsize=(26,14))\n",
    "skl_imp.plot.bar(ax=ax)\n",
    "ax.set_title(\"Важность признаков\")\n",
    "ax.set_ylabel('Важность')\n",
    "fig.tight_layout()"
   ]
  },
  {
   "cell_type": "markdown",
   "metadata": {},
   "source": [
    "#### <b>Вывод:</b> \n",
    "\n",
    "\n",
    "так или иначе все столбцы привносят свой вклад во влияение на целевой показатель, можно было бы еще поудалять какие то не столь важные стролбцы, возникшие после OHE преобразования, но думаю при 100 000 данных для одучения это не особо повлияет на скорость обучения.\n",
    "\n",
    "Отмечу что наиболее влияющие (данные весма смещены как по времени так и по местности):\n",
    "\n",
    "* место поездки - аварийность в городе выше, чем в деревне, хотя влияние на большое количсетво данных для города весьма большое\n",
    "\n",
    "* возраст авто - но здесь есть опять же влияние большего количсетва данных для новых авто - кстати для коллег можно так же поставить задачу определить процент аварий от возраста авто\n",
    "\n",
    "* часы поездки - логично, что ночью намного меньше машин и вероятность попасть в дтп так же меньше\n",
    "\n",
    "* ну и еслит сложить все had been drinking то получим большой фактор аварийности пьяными водителями - вот этот показатель уже не так зависит от часа пик или местности\n"
   ]
  },
  {
   "cell_type": "markdown",
   "metadata": {},
   "source": [
    "### Выделяем данные для обучения, валидационные и тестовые данные с сохранением стратификации"
   ]
  },
  {
   "cell_type": "code",
   "execution_count": 327,
   "metadata": {},
   "outputs": [],
   "source": [
    "x = df_ohe.drop('at_fault', axis=1)\n",
    "y = df_ohe['at_fault']"
   ]
  },
  {
   "cell_type": "markdown",
   "metadata": {},
   "source": [
    "Данные 100 000 достаточно много, можно разделить в соотношении 60/20/20"
   ]
  },
  {
   "cell_type": "code",
   "execution_count": 226,
   "metadata": {},
   "outputs": [],
   "source": [
    "x_train, x_temp, y_train, y_temp = train_test_split(x, y, stratify=y,\n",
    "                                                    test_size=0.40, shuffle=True, random_state=12345)"
   ]
  },
  {
   "cell_type": "code",
   "execution_count": 228,
   "metadata": {},
   "outputs": [],
   "source": [
    "x_valid, x_test, y_valid, y_test = train_test_split(x_temp, y_temp, stratify=y_temp,\n",
    "                                                    test_size=0.5, shuffle=True, random_state=12345)"
   ]
  },
  {
   "cell_type": "code",
   "execution_count": 229,
   "metadata": {},
   "outputs": [
    {
     "data": {
      "text/plain": [
       "(60573, 38)"
      ]
     },
     "execution_count": 229,
     "metadata": {},
     "output_type": "execute_result"
    }
   ],
   "source": [
    "x_train.shape"
   ]
  },
  {
   "cell_type": "code",
   "execution_count": 230,
   "metadata": {},
   "outputs": [
    {
     "data": {
      "text/plain": [
       "(20192, 38)"
      ]
     },
     "execution_count": 230,
     "metadata": {},
     "output_type": "execute_result"
    }
   ],
   "source": [
    "x_test.shape"
   ]
  },
  {
   "cell_type": "code",
   "execution_count": 231,
   "metadata": {},
   "outputs": [
    {
     "data": {
      "text/plain": [
       "(20191, 38)"
      ]
     },
     "execution_count": 231,
     "metadata": {},
     "output_type": "execute_result"
    }
   ],
   "source": [
    "x_valid.shape"
   ]
  },
  {
   "cell_type": "code",
   "execution_count": 232,
   "metadata": {},
   "outputs": [
    {
     "data": {
      "text/plain": [
       "(60573,)"
      ]
     },
     "execution_count": 232,
     "metadata": {},
     "output_type": "execute_result"
    }
   ],
   "source": [
    "y_train.shape"
   ]
  },
  {
   "cell_type": "markdown",
   "metadata": {},
   "source": [
    "Проверим стратификацию"
   ]
  },
  {
   "cell_type": "code",
   "execution_count": 233,
   "metadata": {},
   "outputs": [
    {
     "data": {
      "text/plain": [
       "0    53.87714\n",
       "1    46.12286\n",
       "Name: at_fault, dtype: float64"
      ]
     },
     "execution_count": 233,
     "metadata": {},
     "output_type": "execute_result"
    }
   ],
   "source": [
    "y_train.value_counts(normalize=True)*100"
   ]
  },
  {
   "cell_type": "code",
   "execution_count": 234,
   "metadata": {},
   "outputs": [
    {
     "data": {
      "text/plain": [
       "0    53.880442\n",
       "1    46.119558\n",
       "Name: at_fault, dtype: float64"
      ]
     },
     "execution_count": 234,
     "metadata": {},
     "output_type": "execute_result"
    }
   ],
   "source": [
    "y_valid.value_counts(normalize=True)*100"
   ]
  },
  {
   "cell_type": "code",
   "execution_count": 235,
   "metadata": {},
   "outputs": [
    {
     "data": {
      "text/plain": [
       "0    53.877773\n",
       "1    46.122227\n",
       "Name: at_fault, dtype: float64"
      ]
     },
     "execution_count": 235,
     "metadata": {},
     "output_type": "execute_result"
    }
   ],
   "source": [
    "y_test.value_counts(normalize=True)*100"
   ]
  },
  {
   "cell_type": "markdown",
   "metadata": {},
   "source": [
    "разница в втором знаке после запятой не существенна"
   ]
  },
  {
   "cell_type": "markdown",
   "metadata": {},
   "source": [
    "### Масштабирование данных"
   ]
  },
  {
   "cell_type": "markdown",
   "metadata": {},
   "source": [
    "Обучаем скейлер на тренировочных данных"
   ]
  },
  {
   "cell_type": "code",
   "execution_count": 239,
   "metadata": {},
   "outputs": [
    {
     "data": {
      "text/html": [
       "<style>#sk-container-id-1 {color: black;background-color: white;}#sk-container-id-1 pre{padding: 0;}#sk-container-id-1 div.sk-toggleable {background-color: white;}#sk-container-id-1 label.sk-toggleable__label {cursor: pointer;display: block;width: 100%;margin-bottom: 0;padding: 0.3em;box-sizing: border-box;text-align: center;}#sk-container-id-1 label.sk-toggleable__label-arrow:before {content: \"▸\";float: left;margin-right: 0.25em;color: #696969;}#sk-container-id-1 label.sk-toggleable__label-arrow:hover:before {color: black;}#sk-container-id-1 div.sk-estimator:hover label.sk-toggleable__label-arrow:before {color: black;}#sk-container-id-1 div.sk-toggleable__content {max-height: 0;max-width: 0;overflow: hidden;text-align: left;background-color: #f0f8ff;}#sk-container-id-1 div.sk-toggleable__content pre {margin: 0.2em;color: black;border-radius: 0.25em;background-color: #f0f8ff;}#sk-container-id-1 input.sk-toggleable__control:checked~div.sk-toggleable__content {max-height: 200px;max-width: 100%;overflow: auto;}#sk-container-id-1 input.sk-toggleable__control:checked~label.sk-toggleable__label-arrow:before {content: \"▾\";}#sk-container-id-1 div.sk-estimator input.sk-toggleable__control:checked~label.sk-toggleable__label {background-color: #d4ebff;}#sk-container-id-1 div.sk-label input.sk-toggleable__control:checked~label.sk-toggleable__label {background-color: #d4ebff;}#sk-container-id-1 input.sk-hidden--visually {border: 0;clip: rect(1px 1px 1px 1px);clip: rect(1px, 1px, 1px, 1px);height: 1px;margin: -1px;overflow: hidden;padding: 0;position: absolute;width: 1px;}#sk-container-id-1 div.sk-estimator {font-family: monospace;background-color: #f0f8ff;border: 1px dotted black;border-radius: 0.25em;box-sizing: border-box;margin-bottom: 0.5em;}#sk-container-id-1 div.sk-estimator:hover {background-color: #d4ebff;}#sk-container-id-1 div.sk-parallel-item::after {content: \"\";width: 100%;border-bottom: 1px solid gray;flex-grow: 1;}#sk-container-id-1 div.sk-label:hover label.sk-toggleable__label {background-color: #d4ebff;}#sk-container-id-1 div.sk-serial::before {content: \"\";position: absolute;border-left: 1px solid gray;box-sizing: border-box;top: 0;bottom: 0;left: 50%;z-index: 0;}#sk-container-id-1 div.sk-serial {display: flex;flex-direction: column;align-items: center;background-color: white;padding-right: 0.2em;padding-left: 0.2em;position: relative;}#sk-container-id-1 div.sk-item {position: relative;z-index: 1;}#sk-container-id-1 div.sk-parallel {display: flex;align-items: stretch;justify-content: center;background-color: white;position: relative;}#sk-container-id-1 div.sk-item::before, #sk-container-id-1 div.sk-parallel-item::before {content: \"\";position: absolute;border-left: 1px solid gray;box-sizing: border-box;top: 0;bottom: 0;left: 50%;z-index: -1;}#sk-container-id-1 div.sk-parallel-item {display: flex;flex-direction: column;z-index: 1;position: relative;background-color: white;}#sk-container-id-1 div.sk-parallel-item:first-child::after {align-self: flex-end;width: 50%;}#sk-container-id-1 div.sk-parallel-item:last-child::after {align-self: flex-start;width: 50%;}#sk-container-id-1 div.sk-parallel-item:only-child::after {width: 0;}#sk-container-id-1 div.sk-dashed-wrapped {border: 1px dashed gray;margin: 0 0.4em 0.5em 0.4em;box-sizing: border-box;padding-bottom: 0.4em;background-color: white;}#sk-container-id-1 div.sk-label label {font-family: monospace;font-weight: bold;display: inline-block;line-height: 1.2em;}#sk-container-id-1 div.sk-label-container {text-align: center;}#sk-container-id-1 div.sk-container {/* jupyter's `normalize.less` sets `[hidden] { display: none; }` but bootstrap.min.css set `[hidden] { display: none !important; }` so we also need the `!important` here to be able to override the default hidden behavior on the sphinx rendered scikit-learn.org. See: https://github.com/scikit-learn/scikit-learn/issues/21755 */display: inline-block !important;position: relative;}#sk-container-id-1 div.sk-text-repr-fallback {display: none;}</style><div id=\"sk-container-id-1\" class=\"sk-top-container\"><div class=\"sk-text-repr-fallback\"><pre>StandardScaler()</pre><b>In a Jupyter environment, please rerun this cell to show the HTML representation or trust the notebook. <br />On GitHub, the HTML representation is unable to render, please try loading this page with nbviewer.org.</b></div><div class=\"sk-container\" hidden><div class=\"sk-item\"><div class=\"sk-estimator sk-toggleable\"><input class=\"sk-toggleable__control sk-hidden--visually\" id=\"sk-estimator-id-1\" type=\"checkbox\" checked><label for=\"sk-estimator-id-1\" class=\"sk-toggleable__label sk-toggleable__label-arrow\">StandardScaler</label><div class=\"sk-toggleable__content\"><pre>StandardScaler()</pre></div></div></div></div></div>"
      ],
      "text/plain": [
       "StandardScaler()"
      ]
     },
     "execution_count": 239,
     "metadata": {},
     "output_type": "execute_result"
    }
   ],
   "source": [
    "numeric = ['county_city_location', 'vehicle_age', 'collision_hour']\n",
    "\n",
    "scaler = StandardScaler()\n",
    "\n",
    "scaler.fit(x_train[numeric])"
   ]
  },
  {
   "cell_type": "markdown",
   "metadata": {},
   "source": [
    "Масштабирование признаков"
   ]
  },
  {
   "cell_type": "code",
   "execution_count": 240,
   "metadata": {},
   "outputs": [],
   "source": [
    "x_train[numeric] = scaler.transform(x_train[numeric])\n",
    "x_valid[numeric] = scaler.transform(x_valid[numeric])\n",
    "x_test[numeric] = scaler.transform(x_test[numeric])"
   ]
  },
  {
   "cell_type": "code",
   "execution_count": 241,
   "metadata": {},
   "outputs": [
    {
     "data": {
      "text/html": [
       "<div>\n",
       "<style scoped>\n",
       "    .dataframe tbody tr th:only-of-type {\n",
       "        vertical-align: middle;\n",
       "    }\n",
       "\n",
       "    .dataframe tbody tr th {\n",
       "        vertical-align: top;\n",
       "    }\n",
       "\n",
       "    .dataframe thead th {\n",
       "        text-align: right;\n",
       "    }\n",
       "</style>\n",
       "<table border=\"1\" class=\"dataframe\">\n",
       "  <thead>\n",
       "    <tr style=\"text-align: right;\">\n",
       "      <th></th>\n",
       "      <th>county_city_location</th>\n",
       "      <th>intersection</th>\n",
       "      <th>cellphone_in_use</th>\n",
       "      <th>vehicle_age</th>\n",
       "      <th>collision_hour</th>\n",
       "      <th>weather_1_cloudy</th>\n",
       "      <th>weather_1_fog</th>\n",
       "      <th>weather_1_other</th>\n",
       "      <th>weather_1_raining</th>\n",
       "      <th>weather_1_snowing</th>\n",
       "      <th>weather_1_wind</th>\n",
       "      <th>road_surface_slippery</th>\n",
       "      <th>road_surface_snowy</th>\n",
       "      <th>road_surface_wet</th>\n",
       "      <th>road_condition_1_flooded</th>\n",
       "      <th>road_condition_1_holes</th>\n",
       "      <th>road_condition_1_loose material</th>\n",
       "      <th>road_condition_1_normal</th>\n",
       "      <th>road_condition_1_obstruction</th>\n",
       "      <th>road_condition_1_other</th>\n",
       "      <th>road_condition_1_reduced width</th>\n",
       "      <th>lighting_dark with street lights</th>\n",
       "      <th>lighting_dark with street lights not functioning</th>\n",
       "      <th>lighting_daylight</th>\n",
       "      <th>lighting_dusk or dawn</th>\n",
       "      <th>control_device_none</th>\n",
       "      <th>control_device_not functioning</th>\n",
       "      <th>control_device_obscured</th>\n",
       "      <th>party_sobriety_had been drinking, not under influence</th>\n",
       "      <th>party_sobriety_had been drinking, under influence</th>\n",
       "      <th>party_sobriety_had not been drinking</th>\n",
       "      <th>party_sobriety_impairment unknown</th>\n",
       "      <th>party_sobriety_not applicable</th>\n",
       "      <th>vehicle_type_hatchback</th>\n",
       "      <th>vehicle_type_minivan</th>\n",
       "      <th>vehicle_type_other</th>\n",
       "      <th>vehicle_type_sedan</th>\n",
       "      <th>vehicle_transmission_manual</th>\n",
       "    </tr>\n",
       "  </thead>\n",
       "  <tbody>\n",
       "    <tr>\n",
       "      <th>97395</th>\n",
       "      <td>-0.738360</td>\n",
       "      <td>1.0</td>\n",
       "      <td>0.0</td>\n",
       "      <td>-0.583105</td>\n",
       "      <td>0.099141</td>\n",
       "      <td>0</td>\n",
       "      <td>0</td>\n",
       "      <td>0</td>\n",
       "      <td>0</td>\n",
       "      <td>0</td>\n",
       "      <td>0</td>\n",
       "      <td>0</td>\n",
       "      <td>0</td>\n",
       "      <td>0</td>\n",
       "      <td>0</td>\n",
       "      <td>0</td>\n",
       "      <td>0</td>\n",
       "      <td>1</td>\n",
       "      <td>0</td>\n",
       "      <td>0</td>\n",
       "      <td>0</td>\n",
       "      <td>0</td>\n",
       "      <td>0</td>\n",
       "      <td>1</td>\n",
       "      <td>0</td>\n",
       "      <td>0</td>\n",
       "      <td>0</td>\n",
       "      <td>0</td>\n",
       "      <td>0</td>\n",
       "      <td>0</td>\n",
       "      <td>1</td>\n",
       "      <td>0</td>\n",
       "      <td>0</td>\n",
       "      <td>0</td>\n",
       "      <td>0</td>\n",
       "      <td>0</td>\n",
       "      <td>1</td>\n",
       "      <td>0</td>\n",
       "    </tr>\n",
       "    <tr>\n",
       "      <th>76200</th>\n",
       "      <td>-1.678494</td>\n",
       "      <td>0.0</td>\n",
       "      <td>0.0</td>\n",
       "      <td>-0.583105</td>\n",
       "      <td>-0.677387</td>\n",
       "      <td>0</td>\n",
       "      <td>0</td>\n",
       "      <td>0</td>\n",
       "      <td>1</td>\n",
       "      <td>0</td>\n",
       "      <td>0</td>\n",
       "      <td>0</td>\n",
       "      <td>0</td>\n",
       "      <td>1</td>\n",
       "      <td>0</td>\n",
       "      <td>0</td>\n",
       "      <td>0</td>\n",
       "      <td>1</td>\n",
       "      <td>0</td>\n",
       "      <td>0</td>\n",
       "      <td>0</td>\n",
       "      <td>0</td>\n",
       "      <td>0</td>\n",
       "      <td>1</td>\n",
       "      <td>0</td>\n",
       "      <td>1</td>\n",
       "      <td>0</td>\n",
       "      <td>0</td>\n",
       "      <td>0</td>\n",
       "      <td>0</td>\n",
       "      <td>1</td>\n",
       "      <td>0</td>\n",
       "      <td>0</td>\n",
       "      <td>0</td>\n",
       "      <td>0</td>\n",
       "      <td>0</td>\n",
       "      <td>1</td>\n",
       "      <td>0</td>\n",
       "    </tr>\n",
       "    <tr>\n",
       "      <th>80199</th>\n",
       "      <td>-1.604480</td>\n",
       "      <td>1.0</td>\n",
       "      <td>0.0</td>\n",
       "      <td>-0.890669</td>\n",
       "      <td>-1.065650</td>\n",
       "      <td>1</td>\n",
       "      <td>0</td>\n",
       "      <td>0</td>\n",
       "      <td>0</td>\n",
       "      <td>0</td>\n",
       "      <td>0</td>\n",
       "      <td>0</td>\n",
       "      <td>0</td>\n",
       "      <td>1</td>\n",
       "      <td>0</td>\n",
       "      <td>0</td>\n",
       "      <td>0</td>\n",
       "      <td>1</td>\n",
       "      <td>0</td>\n",
       "      <td>0</td>\n",
       "      <td>0</td>\n",
       "      <td>0</td>\n",
       "      <td>0</td>\n",
       "      <td>1</td>\n",
       "      <td>0</td>\n",
       "      <td>0</td>\n",
       "      <td>0</td>\n",
       "      <td>0</td>\n",
       "      <td>0</td>\n",
       "      <td>0</td>\n",
       "      <td>1</td>\n",
       "      <td>0</td>\n",
       "      <td>0</td>\n",
       "      <td>0</td>\n",
       "      <td>0</td>\n",
       "      <td>0</td>\n",
       "      <td>1</td>\n",
       "      <td>0</td>\n",
       "    </tr>\n",
       "    <tr>\n",
       "      <th>116987</th>\n",
       "      <td>0.139570</td>\n",
       "      <td>0.0</td>\n",
       "      <td>0.0</td>\n",
       "      <td>2.184976</td>\n",
       "      <td>-0.483255</td>\n",
       "      <td>0</td>\n",
       "      <td>0</td>\n",
       "      <td>0</td>\n",
       "      <td>0</td>\n",
       "      <td>0</td>\n",
       "      <td>0</td>\n",
       "      <td>0</td>\n",
       "      <td>0</td>\n",
       "      <td>0</td>\n",
       "      <td>0</td>\n",
       "      <td>0</td>\n",
       "      <td>0</td>\n",
       "      <td>1</td>\n",
       "      <td>0</td>\n",
       "      <td>0</td>\n",
       "      <td>0</td>\n",
       "      <td>0</td>\n",
       "      <td>0</td>\n",
       "      <td>1</td>\n",
       "      <td>0</td>\n",
       "      <td>1</td>\n",
       "      <td>0</td>\n",
       "      <td>0</td>\n",
       "      <td>0</td>\n",
       "      <td>0</td>\n",
       "      <td>1</td>\n",
       "      <td>0</td>\n",
       "      <td>0</td>\n",
       "      <td>0</td>\n",
       "      <td>0</td>\n",
       "      <td>0</td>\n",
       "      <td>1</td>\n",
       "      <td>0</td>\n",
       "    </tr>\n",
       "    <tr>\n",
       "      <th>77021</th>\n",
       "      <td>-0.972213</td>\n",
       "      <td>1.0</td>\n",
       "      <td>0.0</td>\n",
       "      <td>-1.505798</td>\n",
       "      <td>0.487405</td>\n",
       "      <td>0</td>\n",
       "      <td>0</td>\n",
       "      <td>0</td>\n",
       "      <td>0</td>\n",
       "      <td>0</td>\n",
       "      <td>0</td>\n",
       "      <td>0</td>\n",
       "      <td>0</td>\n",
       "      <td>0</td>\n",
       "      <td>0</td>\n",
       "      <td>0</td>\n",
       "      <td>0</td>\n",
       "      <td>1</td>\n",
       "      <td>0</td>\n",
       "      <td>0</td>\n",
       "      <td>0</td>\n",
       "      <td>0</td>\n",
       "      <td>0</td>\n",
       "      <td>1</td>\n",
       "      <td>0</td>\n",
       "      <td>1</td>\n",
       "      <td>0</td>\n",
       "      <td>0</td>\n",
       "      <td>0</td>\n",
       "      <td>0</td>\n",
       "      <td>1</td>\n",
       "      <td>0</td>\n",
       "      <td>0</td>\n",
       "      <td>0</td>\n",
       "      <td>0</td>\n",
       "      <td>0</td>\n",
       "      <td>1</td>\n",
       "      <td>0</td>\n",
       "    </tr>\n",
       "  </tbody>\n",
       "</table>\n",
       "</div>"
      ],
      "text/plain": [
       "        county_city_location  intersection  cellphone_in_use  vehicle_age  \\\n",
       "97395              -0.738360           1.0               0.0    -0.583105   \n",
       "76200              -1.678494           0.0               0.0    -0.583105   \n",
       "80199              -1.604480           1.0               0.0    -0.890669   \n",
       "116987              0.139570           0.0               0.0     2.184976   \n",
       "77021              -0.972213           1.0               0.0    -1.505798   \n",
       "\n",
       "        collision_hour  weather_1_cloudy  weather_1_fog  weather_1_other  \\\n",
       "97395         0.099141                 0              0                0   \n",
       "76200        -0.677387                 0              0                0   \n",
       "80199        -1.065650                 1              0                0   \n",
       "116987       -0.483255                 0              0                0   \n",
       "77021         0.487405                 0              0                0   \n",
       "\n",
       "        weather_1_raining  weather_1_snowing  weather_1_wind  \\\n",
       "97395                   0                  0               0   \n",
       "76200                   1                  0               0   \n",
       "80199                   0                  0               0   \n",
       "116987                  0                  0               0   \n",
       "77021                   0                  0               0   \n",
       "\n",
       "        road_surface_slippery  road_surface_snowy  road_surface_wet  \\\n",
       "97395                       0                   0                 0   \n",
       "76200                       0                   0                 1   \n",
       "80199                       0                   0                 1   \n",
       "116987                      0                   0                 0   \n",
       "77021                       0                   0                 0   \n",
       "\n",
       "        road_condition_1_flooded  road_condition_1_holes  \\\n",
       "97395                          0                       0   \n",
       "76200                          0                       0   \n",
       "80199                          0                       0   \n",
       "116987                         0                       0   \n",
       "77021                          0                       0   \n",
       "\n",
       "        road_condition_1_loose material  road_condition_1_normal  \\\n",
       "97395                                 0                        1   \n",
       "76200                                 0                        1   \n",
       "80199                                 0                        1   \n",
       "116987                                0                        1   \n",
       "77021                                 0                        1   \n",
       "\n",
       "        road_condition_1_obstruction  road_condition_1_other  \\\n",
       "97395                              0                       0   \n",
       "76200                              0                       0   \n",
       "80199                              0                       0   \n",
       "116987                             0                       0   \n",
       "77021                              0                       0   \n",
       "\n",
       "        road_condition_1_reduced width  lighting_dark with street lights  \\\n",
       "97395                                0                                 0   \n",
       "76200                                0                                 0   \n",
       "80199                                0                                 0   \n",
       "116987                               0                                 0   \n",
       "77021                                0                                 0   \n",
       "\n",
       "        lighting_dark with street lights not functioning  lighting_daylight  \\\n",
       "97395                                                  0                  1   \n",
       "76200                                                  0                  1   \n",
       "80199                                                  0                  1   \n",
       "116987                                                 0                  1   \n",
       "77021                                                  0                  1   \n",
       "\n",
       "        lighting_dusk or dawn  control_device_none  \\\n",
       "97395                       0                    0   \n",
       "76200                       0                    1   \n",
       "80199                       0                    0   \n",
       "116987                      0                    1   \n",
       "77021                       0                    1   \n",
       "\n",
       "        control_device_not functioning  control_device_obscured  \\\n",
       "97395                                0                        0   \n",
       "76200                                0                        0   \n",
       "80199                                0                        0   \n",
       "116987                               0                        0   \n",
       "77021                                0                        0   \n",
       "\n",
       "        party_sobriety_had been drinking, not under influence  \\\n",
       "97395                                                   0       \n",
       "76200                                                   0       \n",
       "80199                                                   0       \n",
       "116987                                                  0       \n",
       "77021                                                   0       \n",
       "\n",
       "        party_sobriety_had been drinking, under influence  \\\n",
       "97395                                                   0   \n",
       "76200                                                   0   \n",
       "80199                                                   0   \n",
       "116987                                                  0   \n",
       "77021                                                   0   \n",
       "\n",
       "        party_sobriety_had not been drinking  \\\n",
       "97395                                      1   \n",
       "76200                                      1   \n",
       "80199                                      1   \n",
       "116987                                     1   \n",
       "77021                                      1   \n",
       "\n",
       "        party_sobriety_impairment unknown  party_sobriety_not applicable  \\\n",
       "97395                                   0                              0   \n",
       "76200                                   0                              0   \n",
       "80199                                   0                              0   \n",
       "116987                                  0                              0   \n",
       "77021                                   0                              0   \n",
       "\n",
       "        vehicle_type_hatchback  vehicle_type_minivan  vehicle_type_other  \\\n",
       "97395                        0                     0                   0   \n",
       "76200                        0                     0                   0   \n",
       "80199                        0                     0                   0   \n",
       "116987                       0                     0                   0   \n",
       "77021                        0                     0                   0   \n",
       "\n",
       "        vehicle_type_sedan  vehicle_transmission_manual  \n",
       "97395                    1                            0  \n",
       "76200                    1                            0  \n",
       "80199                    1                            0  \n",
       "116987                   1                            0  \n",
       "77021                    1                            0  "
      ]
     },
     "execution_count": 241,
     "metadata": {},
     "output_type": "execute_result"
    }
   ],
   "source": [
    "x_train.head()"
   ]
  },
  {
   "cell_type": "markdown",
   "metadata": {},
   "source": [
    "<b>Для построения моделей предсказаний данные подготовлены</b>"
   ]
  },
  {
   "cell_type": "markdown",
   "metadata": {},
   "source": [
    "## Находим лучшую модель. Используем классическое обучение и нейросети."
   ]
  },
  {
   "cell_type": "markdown",
   "metadata": {},
   "source": [
    "Задача классификации\n",
    "\n",
    "Так же подумаем сразу какой показатель классификации на важен - нам важно максимально верно предсказывать как 1 так и 0  - но все же 1 предсказать важнее, так как лучше перебдеть, чем недобдеть (но без фанатизма, что бы в итоге не найти вообще ни одного безопастного маршрута).\n",
    "\n",
    "<b>Оптимизацию моделей будем делать по полноте recall, так же посмотрим и на точность precision дабы понять кому и сколько мы не верно предложили изменить маршрут.\n",
    "\n",
    "ну и само собой посмотрим на F1 меру, ROC AUC и Accuracy"
   ]
  },
  {
   "cell_type": "markdown",
   "metadata": {},
   "source": [
    "### Работа с классическими моделями машинного обучения"
   ]
  },
  {
   "cell_type": "markdown",
   "metadata": {},
   "source": [
    "#### Логистическая регрессия"
   ]
  },
  {
   "cell_type": "code",
   "execution_count": 459,
   "metadata": {},
   "outputs": [
    {
     "name": "stdout",
     "output_type": "stream",
     "text": [
      "F1-мера модели : 0.34062765055131466\n",
      "roc_auc модели 0.613791015051856\n",
      "Accuracy модели: 0.6149769699371007\n",
      "Полнота модели: 0.21563573883161513\n",
      "Точность модели: 0.8103309120258273\n",
      "CPU times: total: 3.45 s\n",
      "Wall time: 939 ms\n"
     ]
    }
   ],
   "source": [
    "%%time\n",
    "model_log = LogisticRegression(random_state=12345)\n",
    "# инициализируйте модель логистической регрессии с параметром random_state=12345\n",
    "model_log.fit(x_train, y_train) # обучите модель на тренировочной выборке\n",
    "predictions1 = model_log.predict(x_valid)\n",
    "F1_log = f1_score(y_valid, predictions1) # получите метрику качества модели на валидационной выборке\n",
    "probabilities_valid = model_log.predict_proba(x_valid)\n",
    "probabilities_one_valid = probabilities_valid[:, 1]\n",
    "roc_auc_log = roc_auc_score(y_valid, probabilities_one_valid)\n",
    "rec_log = recall_score(y_valid, predictions1)\n",
    "prec_log = precision_score(y_valid, predictions1)                       \n",
    "\n",
    "print(\"F1-мера модели :\", F1_log)\n",
    "print(\"roc_auc модели\", roc_auc_log)\n",
    "print(\"Accuracy модели:\", model_log.score(x_valid, y_valid))\n",
    "print(\"Полнота модели:\", rec_log) # сколько единиц мы верно предсказали?\n",
    "print(\"Точность модели:\", prec_log) # сколько нулей мы верно предсказали?"
   ]
  },
  {
   "cell_type": "markdown",
   "metadata": {},
   "source": [
    "#### Модель решающего дерева:"
   ]
  },
  {
   "cell_type": "code",
   "execution_count": 462,
   "metadata": {},
   "outputs": [
    {
     "name": "stdout",
     "output_type": "stream",
     "text": [
      "Наилучшая depth: 18\n",
      "F1-мера : 0.3844214065564584\n",
      "roc_auc  0.5378261301921891\n",
      "Accuracy модели: 0.5647565747115051\n",
      "Полнота модели: 0.29467353951890035\n",
      "Точность модели: 0.5527800161160354\n",
      "CPU times: total: 3.86 s\n",
      "Wall time: 3.87 s\n"
     ]
    }
   ],
   "source": [
    "%%time\n",
    "best_model_tree = None\n",
    "rec_tree = 0\n",
    "roc_auc_tree = 0\n",
    "best_depth = 0\n",
    "f1_tree = 0\n",
    "prec_tree = 0\n",
    "for depth in range(1, 20):\n",
    "    model_tree = DecisionTreeClassifier(random_state=12345, max_depth=depth) # обучите модель с заданной глубиной дерева\n",
    "    model_tree.fit(x_train, y_train) # обучите модель\n",
    "    predictions = model_tree.predict(x_valid) # получите предсказания модели\n",
    "    f1_1 = f1_score(y_valid, predictions) # посчитайте качество модели\n",
    "    probabilities_valid = model_tree.predict_proba(x_valid)\n",
    "    probabilities_one_valid = probabilities_valid[:, 1]\n",
    "    auc_roc = roc_auc_score(y_valid, probabilities_one_valid)\n",
    "    result = recall_score(y_valid, predictions)\n",
    "    precision = precision_score(y_valid, predictions)\n",
    "    if result > rec_tree:\n",
    "        best_model_tree = model_tree # сохраните наилучшую модель\n",
    "        rec_tree = result\n",
    "        roc_auc_tree = auc_roc\n",
    "        best_depth = depth\n",
    "        f1_tree = f1_1\n",
    "        prec_tree  = precision\n",
    "print(\"Наилучшая depth:\", best_depth)\n",
    "print(\"F1-мера :\", f1_tree)\n",
    "print(\"roc_auc \", roc_auc_tree)\n",
    "print(\"Accuracy модели:\", best_model_tree.score(x_valid, y_valid))\n",
    "print(\"Полнота модели:\", rec_tree) # сколько единиц мы верно предсказали?\n",
    "print(\"Точность модели:\", prec_tree) # сколько нулей мы верно предсказали?"
   ]
  },
  {
   "cell_type": "markdown",
   "metadata": {},
   "source": [
    "#### Модель случайного леса"
   ]
  },
  {
   "cell_type": "code",
   "execution_count": 466,
   "metadata": {},
   "outputs": [
    {
     "name": "stdout",
     "output_type": "stream",
     "text": [
      "Наилучшая n_estimators: 1\n",
      "Наилучшая depth: 2\n",
      "F1-мера  0.3165354330708661\n",
      "roc_auc 0.5974684401345132\n",
      "Accuracy модели: 0.6130949432915656\n",
      "Полнота модели: 0.19426546391752578\n",
      "Точность модели: 0.8541076487252125\n",
      "CPU times: total: 3min 49s\n",
      "Wall time: 3min 49s\n"
     ]
    }
   ],
   "source": [
    "%%time\n",
    "best_model_forest = None\n",
    "rec_forest = 0\n",
    "best_est = 0\n",
    "roc_auc_forest = 0\n",
    "best_depth = 0\n",
    "f1_forest = 0\n",
    "prec_tree = 0\n",
    "for est in range(1, 50):\n",
    "    for depth in range(1, 10):\n",
    "        model_forest = RandomForestClassifier(random_state=12345, n_estimators=est, max_depth=depth)\n",
    "        # обучите модель с заданным количеством деревьев И ГЛУБИНЫ ДЕРЕВЬЕВ\n",
    "        model_forest.fit(x_train, y_train) # обучите модель на тренировочной выборке\n",
    "        predictions = model_forest.predict(x_valid)\n",
    "        f1_1 = f1_score(y_valid, predictions) # посчитайте качество модели на валидационной выборке\n",
    "        probabilities_valid = model_forest.predict_proba(x_valid)\n",
    "        probabilities_one_valid = probabilities_valid[:, 1]\n",
    "        auc_roc = roc_auc_score(y_valid, probabilities_one_valid)\n",
    "        result = recall_score(y_valid, predictions)\n",
    "        precision = precision_score(y_valid, predictions)\n",
    "        \n",
    "        if result > roc_auc_forest:\n",
    "            best_model_forest = model_forest# сохраните наилучшую модель\n",
    "            rec_forest = result#  сохраните наилучшее значение метрики F1 на валидационных данных\n",
    "            best_est = est\n",
    "            roc_auc_forest = auc_roc\n",
    "            best_depth = depth\n",
    "            f1_forest = f1_1\n",
    "            prec_tree  = precision\n",
    "print(\"Наилучшая n_estimators:\", best_est)\n",
    "print(\"Наилучшая depth:\", best_depth)\n",
    "print(\"F1-мера \", f1_forest)\n",
    "print(\"roc_auc\", roc_auc_forest)\n",
    "print(\"Accuracy модели:\",best_model_forest.score(x_valid, y_valid))\n",
    "print(\"Полнота модели:\", rec_forest) # сколько единиц мы верно предсказали?\n",
    "print(\"Точность модели:\", prec_tree) # сколько нулей мы верно предсказали?"
   ]
  },
  {
   "cell_type": "markdown",
   "metadata": {},
   "source": [
    "#### Модель CatBoost"
   ]
  },
  {
   "cell_type": "code",
   "execution_count": 469,
   "metadata": {},
   "outputs": [
    {
     "name": "stdout",
     "output_type": "stream",
     "text": [
      "ROC AUC: 0.612042497541687\n",
      "Полнота: 0.27835051546391754\n",
      "Точность: 0.6926777124532336\n",
      "\n",
      "\n",
      "confusion matrix for CAT BOOST\n"
     ]
    },
    {
     "data": {
      "image/png": "[encoded data removed]",
      "text/plain": [
       "<Figure size 432x288 with 2 Axes>"
      ]
     },
     "metadata": {
      "needs_background": "light"
     },
     "output_type": "display_data"
    }
   ],
   "source": [
    "from catboost import CatBoostClassifier\n",
    "from sklearn.metrics import plot_confusion_matrix\n",
    "from sklearn.metrics import classification_report\n",
    "\n",
    "cc = CatBoostClassifier(silent=True, thread_count = -1)\n",
    "model12=cc.fit(x_train, y_train)\n",
    "\n",
    "predictions = model12.predict(x_valid)\n",
    "\n",
    "ccpred = cc.predict(x_valid)\n",
    "probabilities_valid_сс = model12.predict_proba(x_valid)\n",
    "probabilities_one_valid_сс = probabilities_valid_сс[:, 1]\n",
    "roc_auc_cat = roc_auc_score(y_valid, probabilities_one_valid_сс)\n",
    "rec_cat = recall_score(y_valid, predictions)\n",
    "prec_cat = precision_score(y_valid, predictions)                            \n",
    "\n",
    "print('ROC AUC:', roc_auc_cat)\n",
    "print('Полнота:', rec_cat)\n",
    "print('Точность:', prec_cat)\n",
    "\n",
    "print(\"\\n\")\n",
    "print(\"confusion matrix for CAT BOOST\")\n",
    "displr = plot_confusion_matrix(cc, x_valid, y_valid,cmap=plt.cm.OrRd , values_format='d')"
   ]
  },
  {
   "cell_type": "markdown",
   "metadata": {},
   "source": [
    "#### <b> Промежуточный Вывод:</b> \n",
    "\n",
    "Модели явно считают очень плохо целевые 1, но хорошо 0 - видимо это происходит из дисбалланса тренировочной выборки в сторону нуля,\n",
    "\n",
    "Попробуем изменить балланс классов на тренировочной и валидационной выборке - повысим количество 1 в целевом признаке, тестировать же будем на x_test с баллансом классов пришедшем из самих данных.\n",
    "\n",
    "Но из этих моделей выберем логистичекую регрессию, случайный лес и  CAT BOOST модель, для следующего расчета"
   ]
  },
  {
   "cell_type": "markdown",
   "metadata": {},
   "source": [
    "#### Изменим балланс классов обучающей и валидационной выборки, тестовую выборку оставим  как есть"
   ]
  },
  {
   "cell_type": "code",
   "execution_count": 316,
   "metadata": {},
   "outputs": [],
   "source": [
    "from sklearn.utils import shuffle"
   ]
  },
  {
   "cell_type": "code",
   "execution_count": 317,
   "metadata": {},
   "outputs": [],
   "source": [
    "def downsample(features, target, fraction):\n",
    "    features_zeros = features[target == 0]\n",
    "    features_ones = features[target == 1]\n",
    "    target_zeros = target[target == 0]\n",
    "    target_ones = target[target == 1]\n",
    "\n",
    "    features_downsampled = pd.concat(\n",
    "        [features_zeros.sample(frac=fraction, random_state=12345)] + [features_ones])\n",
    "    target_downsampled = pd.concat(\n",
    "        [target_zeros.sample(frac=fraction, random_state=12345)] + [target_ones])\n",
    "    \n",
    "    features_downsampled, target_downsampled = shuffle(\n",
    "        features_downsampled, target_downsampled, random_state=12347)\n",
    "    \n",
    "    return features_downsampled, target_downsampled"
   ]
  },
  {
   "cell_type": "code",
   "execution_count": 341,
   "metadata": {},
   "outputs": [],
   "source": [
    "x_temp, x_test1, y_temp, y_test1 = train_test_split(x, y, stratify=y,\n",
    "                                                    test_size=0.20, shuffle=True, random_state=12345)"
   ]
  },
  {
   "cell_type": "code",
   "execution_count": 502,
   "metadata": {},
   "outputs": [],
   "source": [
    "features_down, target_down = downsample(x_temp, y_temp, 0.7)"
   ]
  },
  {
   "cell_type": "code",
   "execution_count": 503,
   "metadata": {},
   "outputs": [
    {
     "data": {
      "text/plain": [
       "1    0.55014\n",
       "0    0.44986\n",
       "Name: at_fault, dtype: float64"
      ]
     },
     "execution_count": 503,
     "metadata": {},
     "output_type": "execute_result"
    }
   ],
   "source": [
    "target_down.value_counts(normalize=True)"
   ]
  },
  {
   "cell_type": "markdown",
   "metadata": {},
   "source": [
    "окей увеличили количество целевого признака 1"
   ]
  },
  {
   "cell_type": "code",
   "execution_count": 504,
   "metadata": {},
   "outputs": [],
   "source": [
    "features_train_down, features_valid_down1, target_train_down, target_valid_down1 = train_test_split(features_down,\n",
    "                                                              target_down, stratify=target_down,\n",
    "                                                              test_size=0.3, shuffle=True, random_state=12345)"
   ]
  },
  {
   "cell_type": "markdown",
   "metadata": {},
   "source": [
    "#### Логистическая регрессия на сбалансированных данных"
   ]
  },
  {
   "cell_type": "code",
   "execution_count": 505,
   "metadata": {},
   "outputs": [
    {
     "name": "stdout",
     "output_type": "stream",
     "text": [
      "F1-мера модели : 0.6279918519775929\n",
      "roc_auc модели 0.608732059208468\n",
      "Accuracy модели: 0.5684536996012406\n",
      "Полнота модели: 0.6621029082774049\n",
      "Точность модели: 0.597223343288401\n",
      "\n",
      "\n",
      "confusion matrix LogisticRegression\n",
      "CPU times: total: 141 ms\n",
      "Wall time: 3.44 s\n"
     ]
    },
    {
     "data": {
      "image/png": "[encoded data removed]",
      "text/plain": [
       "<Figure size 432x288 with 2 Axes>"
      ]
     },
     "metadata": {
      "needs_background": "light"
     },
     "output_type": "display_data"
    }
   ],
   "source": [
    "%%time\n",
    "model_log = LogisticRegression(random_state=12345, n_jobs= -1)\n",
    "# инициализируйте модель логистической регрессии с параметром random_state=12345\n",
    "model_log.fit(features_train_down, target_train_down) # обучите модель на тренировочной выборке\n",
    "predictions1 = model_log.predict(features_valid_down1)\n",
    "F1_log = f1_score(target_valid_down1, predictions1) # получите метрику качества модели на валидационной выборке\n",
    "probabilities_valid = model_log.predict_proba(features_valid_down1)\n",
    "probabilities_one_valid = probabilities_valid[:, 1]\n",
    "roc_auc_log = roc_auc_score(target_valid_down1, probabilities_one_valid)\n",
    "rec_log = recall_score(target_valid_down1, predictions1)\n",
    "prec_log = precision_score(target_valid_down1, predictions1)                       \n",
    "\n",
    "print(\"F1-мера модели :\", F1_log)\n",
    "print(\"roc_auc модели\", roc_auc_log)\n",
    "print(\"Accuracy модели:\", model_log.score(features_valid_down1, target_valid_down1))\n",
    "print(\"Полнота модели:\", rec_log) # сколько единиц мы верно предсказали?\n",
    "print(\"Точность модели:\", prec_log) # сколько нулей мы верно предсказали?\n",
    "\n",
    "print(\"\\n\")\n",
    "print(\"confusion matrix LogisticRegression\")\n",
    "displr = plot_confusion_matrix(model_log, features_valid_down1, target_valid_down1,\n",
    "                               cmap=plt.cm.OrRd , values_format='d')"
   ]
  },
  {
   "cell_type": "markdown",
   "metadata": {},
   "source": [
    "ROC_AUC хуже чем у катбуста до балансирования выборок, но полнота стала лучше"
   ]
  },
  {
   "cell_type": "markdown",
   "metadata": {},
   "source": [
    "#### Случайный лес на сбалансированных данных"
   ]
  },
  {
   "cell_type": "code",
   "execution_count": 515,
   "metadata": {},
   "outputs": [
    {
     "name": "stdout",
     "output_type": "stream",
     "text": [
      "Наилучшая n_estimators: 109\n",
      "Наилучшая depth: 9\n",
      "F1-мера  0.6522241248855084\n",
      "roc_auc 0.6158971387274321\n",
      "Accuracy модели: 0.5700782749963078\n",
      "Полнота модели: 0.7327964205816555\n",
      "Точность модели: 0.5876148105625718\n",
      "\n",
      "\n",
      "confusion matrix RandomForest\n",
      "CPU times: total: 8min 13s\n",
      "Wall time: 1min 53s\n"
     ]
    },
    {
     "data": {
      "image/png": "[encoded data removed]",
      "text/plain": [
       "<Figure size 432x288 with 2 Axes>"
      ]
     },
     "metadata": {
      "needs_background": "light"
     },
     "output_type": "display_data"
    }
   ],
   "source": [
    "%%time\n",
    "best_model_forest = None\n",
    "rec_forest = 0\n",
    "best_est = 0\n",
    "roc_auc_forest = 0\n",
    "best_depth = 0\n",
    "f1_forest = 0\n",
    "prec_tree = 0\n",
    "for est in range(95, 110):\n",
    "    for depth in range(1, 10):\n",
    "        model_forest = RandomForestClassifier(random_state=12345, n_estimators=est, max_depth=depth, n_jobs= -1)\n",
    "        # обучите модель с заданным количеством деревьев И ГЛУБИНЫ ДЕРЕВЬЕВ\n",
    "        model_forest.fit(features_train_down, target_train_down) # обучите модель на тренировочной выборке\n",
    "        predictions = model_forest.predict(features_valid_down1)\n",
    "        f1_1 = f1_score(target_valid_down1, predictions) # посчитайте качество модели на валидационной выборке\n",
    "        probabilities_valid = model_forest.predict_proba(features_valid_down1)\n",
    "        probabilities_one_valid = probabilities_valid[:, 1]\n",
    "        auc_roc = roc_auc_score(target_valid_down1, probabilities_one_valid)\n",
    "        result = recall_score(target_valid_down1, predictions)\n",
    "        precision = precision_score(target_valid_down1, predictions)\n",
    "        \n",
    "        if result > roc_auc_forest:\n",
    "            best_model_forest = model_forest# сохраните наилучшую модель\n",
    "            rec_forest = result#  сохраните наилучшее значение метрики F1 на валидационных данных\n",
    "            best_est = est\n",
    "            roc_auc_forest = auc_roc\n",
    "            best_depth = depth\n",
    "            f1_forest = f1_1\n",
    "            prec_tree  = precision\n",
    "print(\"Наилучшая n_estimators:\", best_est)\n",
    "print(\"Наилучшая depth:\", best_depth)\n",
    "print(\"F1-мера \", f1_forest)\n",
    "print(\"roc_auc\", roc_auc_forest)\n",
    "print(\"Accuracy модели:\",best_model_forest.score(features_valid_down1, target_valid_down1))\n",
    "print(\"Полнота модели:\", rec_forest) # сколько единиц мы верно предсказали?\n",
    "print(\"Точность модели:\", prec_tree) # сколько нулей мы верно предсказали?\n",
    "print(\"\\n\")\n",
    "print(\"confusion matrix RandomForest\")\n",
    "displr = plot_confusion_matrix(best_model_forest, features_valid_down1, target_valid_down1,cmap=plt.cm.OrRd , values_format='d')"
   ]
  },
  {
   "cell_type": "markdown",
   "metadata": {},
   "source": []
  },
  {
   "cell_type": "markdown",
   "metadata": {},
   "source": [
    "#### CAT BOOST модель на выборках с баллансом классов, параметры по умолчанию"
   ]
  },
  {
   "cell_type": "code",
   "execution_count": 530,
   "metadata": {},
   "outputs": [
    {
     "name": "stdout",
     "output_type": "stream",
     "text": [
      "F1 мера 0.6067545377890204\n",
      "ROC AUC: 0.6069763599943789\n",
      "Полнота: 0.6117225950782997\n",
      "Точность: 0.6018665257967952\n",
      "\n",
      "\n",
      "confusion matrix for CAT BOOST\n",
      "CPU times: total: 44.9 s\n",
      "Wall time: 15.7 s\n"
     ]
    },
    {
     "data": {
      "image/png": "[encoded data removed]",
      "text/plain": [
       "<Figure size 432x288 with 2 Axes>"
      ]
     },
     "metadata": {
      "needs_background": "light"
     },
     "output_type": "display_data"
    }
   ],
   "source": [
    "%%time\n",
    "cc = CatBoostClassifier(silent=True, thread_count = -1)\n",
    "model12=cc.fit(features_train_down, target_train_down)\n",
    "\n",
    "\n",
    "predictions = model12.predict(features_valid_down1)\n",
    "\n",
    "probabilities_valid_сс = model12.predict_proba(features_valid_down1)\n",
    "probabilities_one_valid_сс = probabilities_valid_сс[:, 1]\n",
    "roc_auc_cat = roc_auc_score(target_valid_down1, probabilities_one_valid_сс)\n",
    "rec_cat = recall_score(target_valid_down1, predictions)\n",
    "prec_cat = precision_score(target_valid_down1, predictions)  \n",
    "f1_cat = f1_score(target_valid_down1, predictions)\n",
    "\n",
    "print('F1 мера', f1_cat)\n",
    "print('ROC AUC:', roc_auc_cat)\n",
    "print('Полнота:', rec_cat)\n",
    "print('Точность:', prec_cat)\n",
    "\n",
    "print(\"\\n\")\n",
    "print(\"confusion matrix for CAT BOOST\")\n",
    "displr = plot_confusion_matrix(cc, features_valid_down1, target_valid_down1,cmap=plt.cm.OrRd , values_format='d')"
   ]
  },
  {
   "cell_type": "markdown",
   "metadata": {},
   "source": [
    "Вот теперь количество важных единичек побольше, при этом нули предсказываем 60\\40. И ROС AUC повысился."
   ]
  },
  {
   "cell_type": "markdown",
   "metadata": {},
   "source": [
    "хуже предсказывает 1 зато лучше 0"
   ]
  },
  {
   "cell_type": "markdown",
   "metadata": {},
   "source": [
    "#### Сделаем GridSearchCV для Модели CAT BOOST\n"
   ]
  },
  {
   "cell_type": "code",
   "execution_count": 532,
   "metadata": {},
   "outputs": [],
   "source": [
    "from sklearn.model_selection import GridSearchCV"
   ]
  },
  {
   "cell_type": "code",
   "execution_count": 523,
   "metadata": {},
   "outputs": [],
   "source": [
    "parameters = {\n",
    "    'iterations':[50, 90, 120],\n",
    "    'depth':[2, 3, 4],\n",
    "    'learning_rate':[0.2, 0.3, 0.4]    \n",
    "}"
   ]
  },
  {
   "cell_type": "code",
   "execution_count": 524,
   "metadata": {},
   "outputs": [
    {
     "name": "stdout",
     "output_type": "stream",
     "text": [
      "CPU times: total: 8.02 s\n",
      "Wall time: 1min 41s\n"
     ]
    },
    {
     "data": {
      "text/html": [
       "<style>#sk-container-id-5 {color: black;background-color: white;}#sk-container-id-5 pre{padding: 0;}#sk-container-id-5 div.sk-toggleable {background-color: white;}#sk-container-id-5 label.sk-toggleable__label {cursor: pointer;display: block;width: 100%;margin-bottom: 0;padding: 0.3em;box-sizing: border-box;text-align: center;}#sk-container-id-5 label.sk-toggleable__label-arrow:before {content: \"▸\";float: left;margin-right: 0.25em;color: #696969;}#sk-container-id-5 label.sk-toggleable__label-arrow:hover:before {color: black;}#sk-container-id-5 div.sk-estimator:hover label.sk-toggleable__label-arrow:before {color: black;}#sk-container-id-5 div.sk-toggleable__content {max-height: 0;max-width: 0;overflow: hidden;text-align: left;background-color: #f0f8ff;}#sk-container-id-5 div.sk-toggleable__content pre {margin: 0.2em;color: black;border-radius: 0.25em;background-color: #f0f8ff;}#sk-container-id-5 input.sk-toggleable__control:checked~div.sk-toggleable__content {max-height: 200px;max-width: 100%;overflow: auto;}#sk-container-id-5 input.sk-toggleable__control:checked~label.sk-toggleable__label-arrow:before {content: \"▾\";}#sk-container-id-5 div.sk-estimator input.sk-toggleable__control:checked~label.sk-toggleable__label {background-color: #d4ebff;}#sk-container-id-5 div.sk-label input.sk-toggleable__control:checked~label.sk-toggleable__label {background-color: #d4ebff;}#sk-container-id-5 input.sk-hidden--visually {border: 0;clip: rect(1px 1px 1px 1px);clip: rect(1px, 1px, 1px, 1px);height: 1px;margin: -1px;overflow: hidden;padding: 0;position: absolute;width: 1px;}#sk-container-id-5 div.sk-estimator {font-family: monospace;background-color: #f0f8ff;border: 1px dotted black;border-radius: 0.25em;box-sizing: border-box;margin-bottom: 0.5em;}#sk-container-id-5 div.sk-estimator:hover {background-color: #d4ebff;}#sk-container-id-5 div.sk-parallel-item::after {content: \"\";width: 100%;border-bottom: 1px solid gray;flex-grow: 1;}#sk-container-id-5 div.sk-label:hover label.sk-toggleable__label {background-color: #d4ebff;}#sk-container-id-5 div.sk-serial::before {content: \"\";position: absolute;border-left: 1px solid gray;box-sizing: border-box;top: 0;bottom: 0;left: 50%;z-index: 0;}#sk-container-id-5 div.sk-serial {display: flex;flex-direction: column;align-items: center;background-color: white;padding-right: 0.2em;padding-left: 0.2em;position: relative;}#sk-container-id-5 div.sk-item {position: relative;z-index: 1;}#sk-container-id-5 div.sk-parallel {display: flex;align-items: stretch;justify-content: center;background-color: white;position: relative;}#sk-container-id-5 div.sk-item::before, #sk-container-id-5 div.sk-parallel-item::before {content: \"\";position: absolute;border-left: 1px solid gray;box-sizing: border-box;top: 0;bottom: 0;left: 50%;z-index: -1;}#sk-container-id-5 div.sk-parallel-item {display: flex;flex-direction: column;z-index: 1;position: relative;background-color: white;}#sk-container-id-5 div.sk-parallel-item:first-child::after {align-self: flex-end;width: 50%;}#sk-container-id-5 div.sk-parallel-item:last-child::after {align-self: flex-start;width: 50%;}#sk-container-id-5 div.sk-parallel-item:only-child::after {width: 0;}#sk-container-id-5 div.sk-dashed-wrapped {border: 1px dashed gray;margin: 0 0.4em 0.5em 0.4em;box-sizing: border-box;padding-bottom: 0.4em;background-color: white;}#sk-container-id-5 div.sk-label label {font-family: monospace;font-weight: bold;display: inline-block;line-height: 1.2em;}#sk-container-id-5 div.sk-label-container {text-align: center;}#sk-container-id-5 div.sk-container {/* jupyter's `normalize.less` sets `[hidden] { display: none; }` but bootstrap.min.css set `[hidden] { display: none !important; }` so we also need the `!important` here to be able to override the default hidden behavior on the sphinx rendered scikit-learn.org. See: https://github.com/scikit-learn/scikit-learn/issues/21755 */display: inline-block !important;position: relative;}#sk-container-id-5 div.sk-text-repr-fallback {display: none;}</style><div id=\"sk-container-id-5\" class=\"sk-top-container\"><div class=\"sk-text-repr-fallback\"><pre>GridSearchCV(cv=10,\n",
       "             estimator=&lt;catboost.core.CatBoostClassifier object at 0x0000029B9EDB3F70&gt;,\n",
       "             n_jobs=-1,\n",
       "             param_grid={&#x27;depth&#x27;: [2, 3, 4], &#x27;iterations&#x27;: [50, 90, 120],\n",
       "                         &#x27;learning_rate&#x27;: [0.2, 0.3, 0.4]},\n",
       "             scoring=&#x27;roc_auc&#x27;)</pre><b>In a Jupyter environment, please rerun this cell to show the HTML representation or trust the notebook. <br />On GitHub, the HTML representation is unable to render, please try loading this page with nbviewer.org.</b></div><div class=\"sk-container\" hidden><div class=\"sk-item sk-dashed-wrapped\"><div class=\"sk-label-container\"><div class=\"sk-label sk-toggleable\"><input class=\"sk-toggleable__control sk-hidden--visually\" id=\"sk-estimator-id-11\" type=\"checkbox\" ><label for=\"sk-estimator-id-11\" class=\"sk-toggleable__label sk-toggleable__label-arrow\">GridSearchCV</label><div class=\"sk-toggleable__content\"><pre>GridSearchCV(cv=10,\n",
       "             estimator=&lt;catboost.core.CatBoostClassifier object at 0x0000029B9EDB3F70&gt;,\n",
       "             n_jobs=-1,\n",
       "             param_grid={&#x27;depth&#x27;: [2, 3, 4], &#x27;iterations&#x27;: [50, 90, 120],\n",
       "                         &#x27;learning_rate&#x27;: [0.2, 0.3, 0.4]},\n",
       "             scoring=&#x27;roc_auc&#x27;)</pre></div></div></div><div class=\"sk-parallel\"><div class=\"sk-parallel-item\"><div class=\"sk-item\"><div class=\"sk-label-container\"><div class=\"sk-label sk-toggleable\"><input class=\"sk-toggleable__control sk-hidden--visually\" id=\"sk-estimator-id-12\" type=\"checkbox\" ><label for=\"sk-estimator-id-12\" class=\"sk-toggleable__label sk-toggleable__label-arrow\">estimator: CatBoostClassifier</label><div class=\"sk-toggleable__content\"><pre>&lt;catboost.core.CatBoostClassifier object at 0x0000029B9EDB3F70&gt;</pre></div></div></div><div class=\"sk-serial\"><div class=\"sk-item\"><div class=\"sk-estimator sk-toggleable\"><input class=\"sk-toggleable__control sk-hidden--visually\" id=\"sk-estimator-id-13\" type=\"checkbox\" ><label for=\"sk-estimator-id-13\" class=\"sk-toggleable__label sk-toggleable__label-arrow\">CatBoostClassifier</label><div class=\"sk-toggleable__content\"><pre>&lt;catboost.core.CatBoostClassifier object at 0x0000029B9EDB3F70&gt;</pre></div></div></div></div></div></div></div></div></div></div>"
      ],
      "text/plain": [
       "GridSearchCV(cv=10,\n",
       "             estimator=<catboost.core.CatBoostClassifier object at 0x0000029B9EDB3F70>,\n",
       "             n_jobs=-1,\n",
       "             param_grid={'depth': [2, 3, 4], 'iterations': [50, 90, 120],\n",
       "                         'learning_rate': [0.2, 0.3, 0.4]},\n",
       "             scoring='roc_auc')"
      ]
     },
     "execution_count": 524,
     "metadata": {},
     "output_type": "execute_result"
    }
   ],
   "source": [
    "%%time\n",
    "cc = CatBoostClassifier(silent=True, thread_count = -1)\n",
    "clf = GridSearchCV(cc, parameters, scoring = 'roc_auc', cv = 10, n_jobs=-1)\n",
    "clf.fit(features_train_down, target_train_down)\n"
   ]
  },
  {
   "cell_type": "code",
   "execution_count": 525,
   "metadata": {},
   "outputs": [
    {
     "data": {
      "text/plain": [
       "0.6230875585857465"
      ]
     },
     "execution_count": 525,
     "metadata": {},
     "output_type": "execute_result"
    }
   ],
   "source": [
    "clf.best_score_"
   ]
  },
  {
   "cell_type": "code",
   "execution_count": 526,
   "metadata": {},
   "outputs": [
    {
     "data": {
      "text/plain": [
       "{'depth': 3, 'iterations': 90, 'learning_rate': 0.2}"
      ]
     },
     "execution_count": 526,
     "metadata": {},
     "output_type": "execute_result"
    }
   ],
   "source": [
    "clf.best_params_"
   ]
  },
  {
   "cell_type": "markdown",
   "metadata": {},
   "source": [
    "Мда поиск параметров дал хуже результат, чем с параметрами по умолчанию"
   ]
  },
  {
   "cell_type": "code",
   "execution_count": 531,
   "metadata": {},
   "outputs": [
    {
     "name": "stdout",
     "output_type": "stream",
     "text": [
      "F1 мера 0.6309611151870873\n",
      "ROC AUC: 0.6232869405383914\n",
      "Полнота: 0.6541387024608502\n",
      "Точность: 0.6093697899299767\n",
      "\n",
      "\n",
      "confusion matrix for CAT BOOST\n",
      "CPU times: total: 3.2 s\n",
      "Wall time: 508 ms\n"
     ]
    },
    {
     "data": {
      "image/png": "[encoded data removed]",
      "text/plain": [
       "<Figure size 432x288 with 2 Axes>"
      ]
     },
     "metadata": {
      "needs_background": "light"
     },
     "output_type": "display_data"
    }
   ],
   "source": [
    "%%time\n",
    "cc = CatBoostClassifier(silent=True, thread_count = -1, iterations=90, depth=3, learning_rate=0.2)\n",
    "model12=cc.fit(features_train_down, target_train_down)\n",
    "\n",
    "\n",
    "predictions = model12.predict(features_valid_down1)\n",
    "\n",
    "probabilities_valid_сс = model12.predict_proba(features_valid_down1)\n",
    "probabilities_one_valid_сс = probabilities_valid_сс[:, 1]\n",
    "roc_auc_cat = roc_auc_score(target_valid_down1, probabilities_one_valid_сс)\n",
    "rec_cat = recall_score(target_valid_down1, predictions)\n",
    "prec_cat = precision_score(target_valid_down1, predictions)  \n",
    "f1_cat = f1_score(target_valid_down1, predictions)\n",
    "\n",
    "print('F1 мера', f1_cat)\n",
    "print('ROC AUC:', roc_auc_cat)\n",
    "print('Полнота:', rec_cat)\n",
    "print('Точность:', prec_cat)\n",
    "\n",
    "print(\"\\n\")\n",
    "print(\"confusion matrix for CAT BOOST\")\n",
    "displr = plot_confusion_matrix(cc, features_valid_down1, target_valid_down1,cmap=plt.cm.OrRd , values_format='d')"
   ]
  },
  {
   "cell_type": "code",
   "execution_count": null,
   "metadata": {},
   "outputs": [],
   "source": []
  },
  {
   "cell_type": "markdown",
   "metadata": {},
   "source": [
    "### <b>Вывод в виде таблицы"
   ]
  },
  {
   "cell_type": "code",
   "execution_count": 537,
   "metadata": {},
   "outputs": [
    {
     "data": {
      "text/html": [
       "<div>\n",
       "<style scoped>\n",
       "    .dataframe tbody tr th:only-of-type {\n",
       "        vertical-align: middle;\n",
       "    }\n",
       "\n",
       "    .dataframe tbody tr th {\n",
       "        vertical-align: top;\n",
       "    }\n",
       "\n",
       "    .dataframe thead th {\n",
       "        text-align: right;\n",
       "    }\n",
       "</style>\n",
       "<table border=\"1\" class=\"dataframe\">\n",
       "  <thead>\n",
       "    <tr style=\"text-align: right;\">\n",
       "      <th></th>\n",
       "      <th>Параметр</th>\n",
       "      <th>Логистическая регрессия</th>\n",
       "      <th>Случайный лес</th>\n",
       "      <th>CatBoost</th>\n",
       "    </tr>\n",
       "  </thead>\n",
       "  <tbody>\n",
       "    <tr>\n",
       "      <th>0</th>\n",
       "      <td>ROC_AUC</td>\n",
       "      <td>0.608732</td>\n",
       "      <td>0.615897</td>\n",
       "      <td>0.623287</td>\n",
       "    </tr>\n",
       "    <tr>\n",
       "      <th>1</th>\n",
       "      <td>Recall</td>\n",
       "      <td>0.662103</td>\n",
       "      <td>0.732796</td>\n",
       "      <td>0.654139</td>\n",
       "    </tr>\n",
       "    <tr>\n",
       "      <th>2</th>\n",
       "      <td>Precisiont</td>\n",
       "      <td>0.597223</td>\n",
       "      <td>0.587615</td>\n",
       "      <td>0.609370</td>\n",
       "    </tr>\n",
       "    <tr>\n",
       "      <th>3</th>\n",
       "      <td>F1 мера</td>\n",
       "      <td>0.627992</td>\n",
       "      <td>0.652224</td>\n",
       "      <td>0.630961</td>\n",
       "    </tr>\n",
       "  </tbody>\n",
       "</table>\n",
       "</div>"
      ],
      "text/plain": [
       "     Параметр  Логистическая регрессия  Случайный лес  CatBoost\n",
       "0     ROC_AUC                 0.608732       0.615897  0.623287\n",
       "1      Recall                 0.662103       0.732796  0.654139\n",
       "2  Precisiont                 0.597223       0.587615  0.609370\n",
       "3     F1 мера                 0.627992       0.652224  0.630961"
      ]
     },
     "metadata": {},
     "output_type": "display_data"
    }
   ],
   "source": [
    "compare = pd.DataFrame(data=[['ROC_AUC', roc_auc_log, roc_auc_forest, roc_auc_cat],\n",
    "                            ['Recall', rec_log, rec_forest, rec_cat],\n",
    "                            ['Precisiont', prec_log, prec_tree, prec_cat],\n",
    "                            ['F1 мера', F1_log, f1_forest, f1_cat]],\n",
    "                   columns=['Параметр','Логистическая регрессия', 'Случайный лес', 'CatBoost'])\n",
    "display(compare)"
   ]
  },
  {
   "cell_type": "markdown",
   "metadata": {},
   "source": [
    "Как видно из таблицы лучшая модели могут быть следующими:\n",
    "\n",
    "*модель CatBoost c параметрами: {'depth': 3, 'iterations': 90, 'learning_rate': 0.2}\n",
    "\n",
    "*модель случайного леса с параметрами: Наилучшая n_estimators: 109  Наилучшая depth: 9\n",
    "\n",
    "на тестовой выборке проверим обе модели\n"
   ]
  },
  {
   "cell_type": "markdown",
   "metadata": {},
   "source": [
    "## Посмотрим на работу лучших моделей на тестовой выборке"
   ]
  },
  {
   "cell_type": "markdown",
   "metadata": {},
   "source": [
    "### Лучшая модель случайного леса"
   ]
  },
  {
   "cell_type": "code",
   "execution_count": 518,
   "metadata": {},
   "outputs": [
    {
     "name": "stdout",
     "output_type": "stream",
     "text": [
      "Полнота модели: 0.7296252550198647\n"
     ]
    }
   ],
   "source": [
    "predictions = best_model_forest.predict(x_test1)\n",
    "print(\"Полнота модели:\", recall_score(y_test1, predictions))"
   ]
  },
  {
   "cell_type": "code",
   "execution_count": 519,
   "metadata": {},
   "outputs": [
    {
     "name": "stdout",
     "output_type": "stream",
     "text": [
      "Точность модели: 0.4974377745241581\n"
     ]
    }
   ],
   "source": [
    "print(\"Точность модели:\", precision_score(y_test1, predictions))"
   ]
  },
  {
   "cell_type": "code",
   "execution_count": 520,
   "metadata": {},
   "outputs": [
    {
     "name": "stdout",
     "output_type": "stream",
     "text": [
      "ROC AUC: 0.6168846939836142 F1 мера: 0.5915640099246943\n"
     ]
    }
   ],
   "source": [
    "f1 = f1_score(y_test1, predictions)\n",
    "probabilities_test = best_model_forest.predict_proba(x_test1)\n",
    "probabilities_one_test = probabilities_test[:, 1]\n",
    "auc_roc = roc_auc_score(y_test1, probabilities_one_test)\n",
    "print('ROC AUC:', auc_roc, 'F1 мера:', f1)"
   ]
  },
  {
   "cell_type": "code",
   "execution_count": 521,
   "metadata": {},
   "outputs": [
    {
     "data": {
      "image/png": "[encoded data removed]",
      "text/plain": [
       "<Figure size 432x288 with 2 Axes>"
      ]
     },
     "metadata": {
      "needs_background": "light"
     },
     "output_type": "display_data"
    }
   ],
   "source": [
    "displr = plot_confusion_matrix(best_model_forest, x_test1, y_test1,cmap=plt.cm.OrRd , values_format='d')"
   ]
  },
  {
   "cell_type": "markdown",
   "metadata": {},
   "source": [
    "Тут явно перебор с ошибочными нулями, зато  предсказано гораздо больше 1"
   ]
  },
  {
   "cell_type": "markdown",
   "metadata": {},
   "source": [
    "### Лучшая модель CatBoost"
   ]
  },
  {
   "cell_type": "code",
   "execution_count": 533,
   "metadata": {},
   "outputs": [
    {
     "name": "stdout",
     "output_type": "stream",
     "text": [
      "Полнота модели: 0.6505959411575217\n"
     ]
    }
   ],
   "source": [
    "predictions = model12.predict(x_test1)\n",
    "print(\"Полнота модели:\", recall_score(y_test1, predictions))"
   ]
  },
  {
   "cell_type": "code",
   "execution_count": 534,
   "metadata": {},
   "outputs": [
    {
     "name": "stdout",
     "output_type": "stream",
     "text": [
      "Точность модели: 0.5209354311753074\n"
     ]
    }
   ],
   "source": [
    "print(\"Точность модели:\", precision_score(y_test1, predictions))"
   ]
  },
  {
   "cell_type": "code",
   "execution_count": 535,
   "metadata": {},
   "outputs": [
    {
     "name": "stdout",
     "output_type": "stream",
     "text": [
      "ROC AUC: 0.62459820932555 F1 мера: 0.5785905271199389\n"
     ]
    }
   ],
   "source": [
    "f1 = f1_score(y_test1, predictions)\n",
    "probabilities_test = model12.predict_proba(x_test1)\n",
    "probabilities_one_test = probabilities_test[:, 1]\n",
    "auc_roc = roc_auc_score(y_test1, probabilities_one_test)\n",
    "print('ROC AUC:', auc_roc, 'F1 мера:', f1)"
   ]
  },
  {
   "cell_type": "code",
   "execution_count": 536,
   "metadata": {},
   "outputs": [
    {
     "data": {
      "image/png": "[encoded data removed]",
      "text/plain": [
       "<Figure size 432x288 with 2 Axes>"
      ]
     },
     "metadata": {
      "needs_background": "light"
     },
     "output_type": "display_data"
    }
   ],
   "source": [
    "displr = plot_confusion_matrix(model12, x_test1, y_test1,cmap=plt.cm.OrRd , values_format='d')"
   ]
  },
  {
   "cell_type": "markdown",
   "metadata": {},
   "source": [
    "Здесь вроде бы более сбалансировано предсказаны нули, но и 1 вполне хорошо предсказаны."
   ]
  },
  {
   "cell_type": "markdown",
   "metadata": {},
   "source": [
    "### <b>Вывод в виде таблицы"
   ]
  },
  {
   "cell_type": "code",
   "execution_count": 554,
   "metadata": {},
   "outputs": [
    {
     "data": {
      "text/html": [
       "<div>\n",
       "<style scoped>\n",
       "    .dataframe tbody tr th:only-of-type {\n",
       "        vertical-align: middle;\n",
       "    }\n",
       "\n",
       "    .dataframe tbody tr th {\n",
       "        vertical-align: top;\n",
       "    }\n",
       "\n",
       "    .dataframe thead th {\n",
       "        text-align: right;\n",
       "    }\n",
       "</style>\n",
       "<table border=\"1\" class=\"dataframe\">\n",
       "  <thead>\n",
       "    <tr style=\"text-align: right;\">\n",
       "      <th></th>\n",
       "      <th>Параметр</th>\n",
       "      <th>Случайный лес</th>\n",
       "      <th>CatBoost</th>\n",
       "    </tr>\n",
       "  </thead>\n",
       "  <tbody>\n",
       "    <tr>\n",
       "      <th>0</th>\n",
       "      <td>ROC_AUC</td>\n",
       "      <td>0.615897</td>\n",
       "      <td>0.623287</td>\n",
       "    </tr>\n",
       "    <tr>\n",
       "      <th>1</th>\n",
       "      <td>Recall</td>\n",
       "      <td>0.732796</td>\n",
       "      <td>0.654139</td>\n",
       "    </tr>\n",
       "    <tr>\n",
       "      <th>2</th>\n",
       "      <td>Precisiont</td>\n",
       "      <td>0.587615</td>\n",
       "      <td>0.609370</td>\n",
       "    </tr>\n",
       "    <tr>\n",
       "      <th>3</th>\n",
       "      <td>F1 мера</td>\n",
       "      <td>0.652224</td>\n",
       "      <td>0.630961</td>\n",
       "    </tr>\n",
       "  </tbody>\n",
       "</table>\n",
       "</div>"
      ],
      "text/plain": [
       "     Параметр  Случайный лес  CatBoost\n",
       "0     ROC_AUC       0.615897  0.623287\n",
       "1      Recall       0.732796  0.654139\n",
       "2  Precisiont       0.587615  0.609370\n",
       "3     F1 мера       0.652224  0.630961"
      ]
     },
     "metadata": {},
     "output_type": "display_data"
    }
   ],
   "source": [
    "compare = pd.DataFrame(data=[['ROC_AUC', roc_auc_forest, roc_auc_cat],\n",
    "                            ['Recall', rec_forest, rec_cat],\n",
    "                            ['Precisiont', prec_tree, prec_cat],\n",
    "                            ['F1 мера', f1_forest, f1_cat]],\n",
    "                   columns=['Параметр', 'Случайный лес', 'CatBoost'])\n",
    "display(compare)"
   ]
  },
  {
   "cell_type": "markdown",
   "metadata": {},
   "source": [
    "Можно конечно повысить полноту за счет увеличения в тренировочной выборке целей 1, но тогда начнем еще хуже предсказывать цели 0"
   ]
  },
  {
   "cell_type": "markdown",
   "metadata": {},
   "source": [
    "в процессе продакшена приложения скорее всего понадобится искать баланс между надежностью предсказаний возможности аварии и адекватной частотой предложений других маршрутов."
   ]
  },
  {
   "cell_type": "markdown",
   "metadata": {},
   "source": [
    "Вообще сама суть данных весьма случайна, вполне себе вероятно, что есть много похожих данных у которых целевой показатель 1 и 0 встречаются одинаково часто - один человек виновник, второй не виновен - они в одной и той же локации, на одноим и том же перекрестке, в одно и то же время, на одинаковых авто, просто им не повезло - один из них отвлекся на пролетающую птичку.\n",
    "\n",
    "Пожалуй есть только один очень влияющий показатель на вероятности аварии, в том числе и с тяжелыми последствиями, если человек пьян или трезв."
   ]
  },
  {
   "cell_type": "markdown",
   "metadata": {},
   "source": [
    "## Общие выводы:"
   ]
  },
  {
   "cell_type": "markdown",
   "metadata": {},
   "source": [
    "1) Отсутствие громкой связи в автомобиле поднимает риск аварии на 0,26 % с учетом миллионов случаев аварий, эти проценты исчисляются тысячами случаев. Необходимо во всех новых автомобилях обеспечить наличие громкой связи или поднять страховые взносы для тех у кого отсутствует."
   ]
  },
  {
   "cell_type": "markdown",
   "metadata": {},
   "source": [
    "2) Наиболее частая причина тяжелых аварий - это состояние водителя под алкоголем или под влияние других веществ. Необходимо установить алкотестер в авто и камеру для идентификации проверяемого."
   ]
  },
  {
   "cell_type": "markdown",
   "metadata": {},
   "source": [
    "3) Наиболее частая причина аварий вообще  - это превышение скорости - необходимо в авто устанавливать прибор знающий скоростной режим в конкретном месте дороги и ограничивающий скорость"
   ]
  },
  {
   "cell_type": "markdown",
   "metadata": {},
   "source": [
    "4) вторая по значимости причина - перекресток - неверный поворот - здесь сложнее - нужен круговой контроль ситуации вокруг авто"
   ]
  },
  {
   "cell_type": "markdown",
   "metadata": {},
   "source": [
    "5) По предложенным данным можно установить степень опастность той или иной локации - то есть присвоить некие баллы аварийности маршрута, но так же не забывать о времени движения по маршруту - находит некий компромис."
   ]
  },
  {
   "cell_type": "markdown",
   "metadata": {},
   "source": [
    "6) Модели явно не блестяще предсказывают аварии, и фактически предсказания зависят от баланса классов в тренеровочной выборке.\n",
    "\n",
    "Объясняется это тем, что в большинстве случаев показатели признаков таблиц похожи, а вот целевой признак виновности может быть 1 и 0.  Поэтому нужно еще вводить показатель личности водителя - история его поездок, манера вождения, история аварий или конфликтов, наличие заболеваний, возраст, зрение и другое."
   ]
  },
  {
   "cell_type": "markdown",
   "metadata": {},
   "source": [
    "7) Поэтому в этот набор данных нужно добавлять еще одну таблицу - личности водителей."
   ]
  },
  {
   "cell_type": "markdown",
   "metadata": {},
   "source": [
    "<b>ВОПРОС : пытался построить нейросеть классификации, по сбалансированным данным - менял разные параметры сети и не смог получить адекватные показатели качества.\n",
    "в чем может быть проблема? эта задача вообще может быть решена нейросетью или высокая степень спутанности/неопределенности данных не дает это сделать?"
   ]
  },
  {
   "cell_type": "markdown",
   "metadata": {},
   "source": []
  },
  {
   "cell_type": "markdown",
   "metadata": {},
   "source": []
  }
 ],
 "metadata": {
  "ExecuteTimeLog": [
   {
    "duration": 3,
    "start_time": "2022-06-06T20:48:18.246Z"
   },
   {
    "duration": 4,
    "start_time": "2022-06-06T20:48:20.814Z"
   },
   {
    "duration": 3,
    "start_time": "2022-06-06T20:48:22.121Z"
   },
   {
    "duration": 179,
    "start_time": "2022-06-06T20:48:23.165Z"
   },
   {
    "duration": 10,
    "start_time": "2022-06-06T20:48:23.894Z"
   },
   {
    "duration": 91,
    "start_time": "2022-06-06T21:03:48.993Z"
   },
   {
    "duration": 21,
    "start_time": "2022-06-06T21:04:18.567Z"
   },
   {
    "duration": 7,
    "start_time": "2022-06-06T21:04:23.929Z"
   },
   {
    "duration": 1013,
    "start_time": "2022-06-07T22:09:56.864Z"
   },
   {
    "duration": 4,
    "start_time": "2022-06-07T22:10:00.748Z"
   },
   {
    "duration": 67,
    "start_time": "2022-06-07T22:10:02.500Z"
   },
   {
    "duration": 196,
    "start_time": "2022-06-07T22:10:04.140Z"
   },
   {
    "duration": 15,
    "start_time": "2022-06-07T22:10:07.678Z"
   },
   {
    "duration": 97,
    "start_time": "2022-06-07T22:10:10.855Z"
   },
   {
    "duration": 8,
    "start_time": "2022-06-07T22:10:13.592Z"
   },
   {
    "duration": 3,
    "start_time": "2022-06-07T22:10:17.755Z"
   },
   {
    "duration": 2502,
    "start_time": "2022-06-07T22:10:38.555Z"
   },
   {
    "duration": 10,
    "start_time": "2022-06-07T22:10:48.069Z"
   },
   {
    "duration": 10,
    "start_time": "2022-06-07T22:18:15.380Z"
   },
   {
    "duration": 12,
    "start_time": "2022-06-07T22:20:15.402Z"
   },
   {
    "duration": 19,
    "start_time": "2022-06-07T22:20:31.526Z"
   },
   {
    "duration": 94,
    "start_time": "2022-06-07T22:28:55.411Z"
   },
   {
    "duration": 8,
    "start_time": "2022-06-07T22:28:57.452Z"
   },
   {
    "duration": 26738,
    "start_time": "2022-06-07T22:46:59.936Z"
   },
   {
    "duration": 8,
    "start_time": "2022-06-07T22:47:30.198Z"
   },
   {
    "duration": 7,
    "start_time": "2022-06-07T22:47:42.864Z"
   },
   {
    "duration": 25893,
    "start_time": "2022-06-07T22:48:18.128Z"
   },
   {
    "duration": 206,
    "start_time": "2022-06-07T23:31:41.670Z"
   },
   {
    "duration": 220,
    "start_time": "2022-06-07T23:31:52.241Z"
   },
   {
    "duration": 11,
    "start_time": "2022-06-07T23:31:54.151Z"
   },
   {
    "duration": 3,
    "start_time": "2022-06-07T23:50:41.449Z"
   },
   {
    "duration": 1251,
    "start_time": "2022-06-07T23:51:06.464Z"
   },
   {
    "duration": 1348,
    "start_time": "2022-06-07T23:51:17.523Z"
   },
   {
    "duration": 1272,
    "start_time": "2022-06-07T23:51:42.280Z"
   },
   {
    "duration": 54,
    "start_time": "2022-06-08T11:40:50.914Z"
   },
   {
    "duration": 32730,
    "start_time": "2022-06-08T11:40:59.628Z"
   },
   {
    "duration": 4,
    "start_time": "2022-06-08T11:41:32.360Z"
   },
   {
    "duration": 45,
    "start_time": "2022-06-08T11:41:32.365Z"
   },
   {
    "duration": 210,
    "start_time": "2022-06-08T11:41:32.411Z"
   },
   {
    "duration": 13,
    "start_time": "2022-06-08T11:41:32.623Z"
   },
   {
    "duration": 113,
    "start_time": "2022-06-08T11:41:32.638Z"
   },
   {
    "duration": 7,
    "start_time": "2022-06-08T11:41:32.752Z"
   },
   {
    "duration": 257,
    "start_time": "2022-06-08T11:41:32.761Z"
   },
   {
    "duration": 9,
    "start_time": "2022-06-08T11:41:33.020Z"
   },
   {
    "duration": 216,
    "start_time": "2022-06-08T11:41:33.032Z"
   },
   {
    "duration": 8,
    "start_time": "2022-06-08T11:41:33.250Z"
   },
   {
    "duration": 1274,
    "start_time": "2022-06-08T11:41:33.259Z"
   },
   {
    "duration": 76,
    "start_time": "2022-06-08T11:41:34.534Z"
   },
   {
    "duration": 903,
    "start_time": "2022-06-08T16:33:34.509Z"
   },
   {
    "duration": 4,
    "start_time": "2022-06-08T16:33:35.431Z"
   },
   {
    "duration": 53,
    "start_time": "2022-06-08T16:33:35.704Z"
   },
   {
    "duration": 66,
    "start_time": "2022-06-08T16:33:35.922Z"
   },
   {
    "duration": 15,
    "start_time": "2022-06-08T16:33:36.037Z"
   },
   {
    "duration": 74,
    "start_time": "2022-06-08T16:33:36.511Z"
   },
   {
    "duration": 9,
    "start_time": "2022-06-08T16:33:36.818Z"
   },
   {
    "duration": 218,
    "start_time": "2022-06-08T16:33:37.418Z"
   },
   {
    "duration": 10,
    "start_time": "2022-06-08T16:33:37.782Z"
   },
   {
    "duration": 172,
    "start_time": "2022-06-08T16:33:38.388Z"
   },
   {
    "duration": 7,
    "start_time": "2022-06-08T16:33:38.782Z"
   },
   {
    "duration": 1135,
    "start_time": "2022-06-08T16:33:39.598Z"
   },
   {
    "duration": 43,
    "start_time": "2022-06-08T16:33:41.085Z"
   },
   {
    "duration": 43,
    "start_time": "2022-06-08T16:33:43.786Z"
   },
   {
    "duration": 39,
    "start_time": "2022-06-08T16:33:58.033Z"
   },
   {
    "duration": 42,
    "start_time": "2022-06-08T16:34:42.494Z"
   },
   {
    "duration": 27,
    "start_time": "2022-06-08T16:37:55.386Z"
   },
   {
    "duration": 27,
    "start_time": "2022-06-08T16:38:22.541Z"
   },
   {
    "duration": 28,
    "start_time": "2022-06-08T16:38:35.489Z"
   },
   {
    "duration": 40,
    "start_time": "2022-06-08T16:38:44.560Z"
   },
   {
    "duration": 41,
    "start_time": "2022-06-08T16:38:55.402Z"
   },
   {
    "duration": 825,
    "start_time": "2022-06-08T22:58:34.116Z"
   },
   {
    "duration": 4,
    "start_time": "2022-06-08T22:58:34.943Z"
   },
   {
    "duration": 174,
    "start_time": "2022-06-08T22:58:34.952Z"
   },
   {
    "duration": 272,
    "start_time": "2022-06-08T22:58:35.128Z"
   },
   {
    "duration": 15,
    "start_time": "2022-06-08T22:58:35.402Z"
   },
   {
    "duration": 104,
    "start_time": "2022-06-08T22:58:35.418Z"
   },
   {
    "duration": 6,
    "start_time": "2022-06-08T22:58:35.524Z"
   },
   {
    "duration": 249,
    "start_time": "2022-06-08T22:58:35.531Z"
   },
   {
    "duration": 9,
    "start_time": "2022-06-08T22:58:35.782Z"
   },
   {
    "duration": 205,
    "start_time": "2022-06-08T22:58:35.792Z"
   },
   {
    "duration": 7,
    "start_time": "2022-06-08T22:58:35.999Z"
   },
   {
    "duration": 1149,
    "start_time": "2022-06-08T22:58:36.008Z"
   },
   {
    "duration": 71,
    "start_time": "2022-06-08T22:58:37.158Z"
   },
   {
    "duration": 64,
    "start_time": "2022-06-08T22:58:37.232Z"
   },
   {
    "duration": 1149,
    "start_time": "2022-06-08T22:59:01.512Z"
   },
   {
    "duration": 1116,
    "start_time": "2022-06-08T23:01:03.283Z"
   },
   {
    "duration": 1305,
    "start_time": "2022-06-08T23:01:16.199Z"
   },
   {
    "duration": 1174,
    "start_time": "2022-06-08T23:01:23.478Z"
   },
   {
    "duration": 1317,
    "start_time": "2022-06-08T23:01:31.964Z"
   },
   {
    "duration": 1181,
    "start_time": "2022-06-08T23:01:38.920Z"
   },
   {
    "duration": 1278,
    "start_time": "2022-06-08T23:01:49.191Z"
   },
   {
    "duration": 1222,
    "start_time": "2022-06-08T23:02:27.975Z"
   },
   {
    "duration": 1219,
    "start_time": "2022-06-08T23:02:37.957Z"
   },
   {
    "duration": 1257,
    "start_time": "2022-06-08T23:02:52.315Z"
   },
   {
    "duration": 36031,
    "start_time": "2022-06-16T17:59:49.845Z"
   },
   {
    "duration": 3,
    "start_time": "2022-06-16T18:00:25.878Z"
   },
   {
    "duration": 41,
    "start_time": "2022-06-16T18:00:25.882Z"
   },
   {
    "duration": 70,
    "start_time": "2022-06-16T18:00:25.925Z"
   },
   {
    "duration": 13,
    "start_time": "2022-06-16T18:00:25.997Z"
   },
   {
    "duration": 79,
    "start_time": "2022-06-16T18:00:26.011Z"
   },
   {
    "duration": 7,
    "start_time": "2022-06-16T18:00:26.092Z"
   },
   {
    "duration": 235,
    "start_time": "2022-06-16T18:00:26.100Z"
   },
   {
    "duration": 9,
    "start_time": "2022-06-16T18:00:26.337Z"
   },
   {
    "duration": 182,
    "start_time": "2022-06-16T18:00:26.348Z"
   },
   {
    "duration": 7,
    "start_time": "2022-06-16T18:00:26.532Z"
   },
   {
    "duration": 1189,
    "start_time": "2022-06-16T18:00:26.541Z"
   },
   {
    "duration": 45,
    "start_time": "2022-06-16T18:00:27.731Z"
   },
   {
    "duration": 39,
    "start_time": "2022-06-16T18:00:27.778Z"
   },
   {
    "duration": 1220,
    "start_time": "2022-06-16T18:00:27.819Z"
   },
   {
    "duration": 2,
    "start_time": "2022-06-16T18:00:29.041Z"
   },
   {
    "duration": 39,
    "start_time": "2022-06-16T18:00:42.347Z"
   },
   {
    "duration": 451,
    "start_time": "2022-06-16T18:00:54.896Z"
   },
   {
    "duration": 404,
    "start_time": "2022-06-16T18:01:02.600Z"
   },
   {
    "duration": 68,
    "start_time": "2022-06-16T18:02:38.290Z"
   },
   {
    "duration": 14,
    "start_time": "2022-06-16T18:02:49.941Z"
   },
   {
    "duration": 34973,
    "start_time": "2022-06-16T18:03:04.958Z"
   },
   {
    "duration": 428,
    "start_time": "2022-06-16T18:05:42.430Z"
   },
   {
    "duration": 528,
    "start_time": "2022-06-16T19:07:01.788Z"
   },
   {
    "duration": 541,
    "start_time": "2022-06-16T19:07:32.888Z"
   },
   {
    "duration": 487,
    "start_time": "2022-06-16T19:07:57.317Z"
   },
   {
    "duration": 539,
    "start_time": "2022-06-16T19:08:29.991Z"
   },
   {
    "duration": 519,
    "start_time": "2022-06-16T19:10:02.659Z"
   },
   {
    "duration": 204,
    "start_time": "2022-06-16T20:01:51.293Z"
   },
   {
    "duration": 35,
    "start_time": "2022-06-16T20:05:48.749Z"
   },
   {
    "duration": 73,
    "start_time": "2022-06-16T20:06:04.874Z"
   },
   {
    "duration": 38207,
    "start_time": "2022-06-16T20:06:29.410Z"
   },
   {
    "duration": 207,
    "start_time": "2022-06-16T20:07:36.392Z"
   },
   {
    "duration": 509,
    "start_time": "2022-06-16T20:08:07.632Z"
   },
   {
    "duration": 110,
    "start_time": "2022-06-16T20:08:36.260Z"
   },
   {
    "duration": 100,
    "start_time": "2022-06-16T20:08:54.665Z"
   },
   {
    "duration": 86,
    "start_time": "2022-06-16T20:09:40.264Z"
   },
   {
    "duration": 85,
    "start_time": "2022-06-16T20:10:01.449Z"
   },
   {
    "duration": 72,
    "start_time": "2022-06-16T20:13:08.121Z"
   },
   {
    "duration": 37,
    "start_time": "2022-06-16T20:13:30.869Z"
   },
   {
    "duration": 67,
    "start_time": "2022-06-16T20:13:40.126Z"
   },
   {
    "duration": 163,
    "start_time": "2022-06-16T20:18:44.924Z"
   },
   {
    "duration": 83,
    "start_time": "2022-06-16T20:21:43.995Z"
   },
   {
    "duration": 74,
    "start_time": "2022-06-16T20:22:15.317Z"
   },
   {
    "duration": 83,
    "start_time": "2022-06-16T20:22:28.290Z"
   },
   {
    "duration": 75,
    "start_time": "2022-06-16T20:22:38.577Z"
   },
   {
    "duration": 113,
    "start_time": "2022-06-16T20:23:35.444Z"
   },
   {
    "duration": 87,
    "start_time": "2022-06-16T20:23:46.890Z"
   },
   {
    "duration": 69,
    "start_time": "2022-06-16T20:28:46.355Z"
   },
   {
    "duration": 33,
    "start_time": "2022-06-16T20:30:43.061Z"
   },
   {
    "duration": 36,
    "start_time": "2022-06-16T20:33:09.011Z"
   },
   {
    "duration": 76,
    "start_time": "2022-06-16T20:33:21.991Z"
   },
   {
    "duration": 118,
    "start_time": "2022-06-16T20:33:59.426Z"
   },
   {
    "duration": 114,
    "start_time": "2022-06-16T20:35:03.027Z"
   },
   {
    "duration": 73,
    "start_time": "2022-06-16T20:35:09.595Z"
   },
   {
    "duration": 80,
    "start_time": "2022-06-16T20:35:26.392Z"
   },
   {
    "duration": 106,
    "start_time": "2022-06-16T20:35:47.391Z"
   },
   {
    "duration": 167,
    "start_time": "2022-06-16T20:36:22.695Z"
   },
   {
    "duration": 76,
    "start_time": "2022-06-16T20:36:36.408Z"
   },
   {
    "duration": 82,
    "start_time": "2022-06-16T20:36:46.567Z"
   },
   {
    "duration": 80,
    "start_time": "2022-06-16T20:37:02.491Z"
   },
   {
    "duration": 76,
    "start_time": "2022-06-16T20:37:16.458Z"
   },
   {
    "duration": 73,
    "start_time": "2022-06-16T20:37:43.949Z"
   },
   {
    "duration": 116,
    "start_time": "2022-06-16T20:38:11.165Z"
   },
   {
    "duration": 74,
    "start_time": "2022-06-16T20:38:22.472Z"
   },
   {
    "duration": 75,
    "start_time": "2022-06-16T20:38:33.575Z"
   },
   {
    "duration": 100,
    "start_time": "2022-06-16T20:39:37.214Z"
   },
   {
    "duration": 92,
    "start_time": "2022-06-16T20:39:52.430Z"
   },
   {
    "duration": 103,
    "start_time": "2022-06-16T20:40:00.657Z"
   },
   {
    "duration": 241,
    "start_time": "2022-06-16T20:40:29.792Z"
   },
   {
    "duration": 211,
    "start_time": "2022-06-16T20:41:40.356Z"
   },
   {
    "duration": 323,
    "start_time": "2022-06-16T20:41:59.725Z"
   },
   {
    "duration": 207,
    "start_time": "2022-06-16T20:42:03.212Z"
   },
   {
    "duration": 215,
    "start_time": "2022-06-16T20:42:17.142Z"
   },
   {
    "duration": 203,
    "start_time": "2022-06-16T20:42:20.501Z"
   },
   {
    "duration": 40,
    "start_time": "2022-06-16T20:44:17.700Z"
   },
   {
    "duration": 202,
    "start_time": "2022-06-16T20:44:34.054Z"
   },
   {
    "duration": 210,
    "start_time": "2022-06-16T20:45:29.678Z"
   },
   {
    "duration": 217,
    "start_time": "2022-06-16T20:45:55.472Z"
   },
   {
    "duration": 183,
    "start_time": "2022-06-16T20:46:05.699Z"
   },
   {
    "duration": 193,
    "start_time": "2022-06-16T20:46:16.607Z"
   },
   {
    "duration": 4,
    "start_time": "2022-06-16T20:46:52.213Z"
   },
   {
    "duration": 192,
    "start_time": "2022-06-16T20:47:03.005Z"
   },
   {
    "duration": 158,
    "start_time": "2022-06-16T21:16:17.442Z"
   },
   {
    "duration": 96,
    "start_time": "2022-06-16T21:16:49.237Z"
   },
   {
    "duration": 94,
    "start_time": "2022-06-16T21:17:33.227Z"
   },
   {
    "duration": 100,
    "start_time": "2022-06-16T21:17:50.709Z"
   },
   {
    "duration": 94,
    "start_time": "2022-06-16T21:18:02.188Z"
   },
   {
    "duration": 822,
    "start_time": "2022-06-16T21:21:10.812Z"
   },
   {
    "duration": 4,
    "start_time": "2022-06-16T21:21:11.638Z"
   },
   {
    "duration": 154,
    "start_time": "2022-06-16T21:21:11.659Z"
   },
   {
    "duration": 89,
    "start_time": "2022-06-16T21:21:11.823Z"
   },
   {
    "duration": 18,
    "start_time": "2022-06-16T21:21:11.923Z"
   },
   {
    "duration": 76,
    "start_time": "2022-06-16T21:21:11.946Z"
   },
   {
    "duration": 14,
    "start_time": "2022-06-16T21:21:12.027Z"
   },
   {
    "duration": 260,
    "start_time": "2022-06-16T21:21:12.044Z"
   },
   {
    "duration": 19,
    "start_time": "2022-06-16T21:21:12.309Z"
   },
   {
    "duration": 175,
    "start_time": "2022-06-16T21:21:12.332Z"
   },
   {
    "duration": 8,
    "start_time": "2022-06-16T21:21:12.511Z"
   },
   {
    "duration": 1230,
    "start_time": "2022-06-16T21:21:12.523Z"
   },
   {
    "duration": 57,
    "start_time": "2022-06-16T21:21:13.760Z"
   },
   {
    "duration": 44,
    "start_time": "2022-06-16T21:21:13.822Z"
   },
   {
    "duration": 1459,
    "start_time": "2022-06-16T21:21:13.871Z"
   },
   {
    "duration": 528,
    "start_time": "2022-06-16T21:21:15.337Z"
   },
   {
    "duration": 1137,
    "start_time": "2022-06-16T21:21:15.870Z"
   },
   {
    "duration": 220,
    "start_time": "2022-06-16T21:21:17.011Z"
   },
   {
    "duration": 368,
    "start_time": "2022-06-16T21:21:17.237Z"
   },
   {
    "duration": 126,
    "start_time": "2022-06-16T21:21:17.612Z"
   },
   {
    "duration": 777,
    "start_time": "2022-06-16T21:27:06.333Z"
   },
   {
    "duration": 6,
    "start_time": "2022-06-16T21:27:07.115Z"
   },
   {
    "duration": 39,
    "start_time": "2022-06-16T21:27:07.124Z"
   },
   {
    "duration": 60,
    "start_time": "2022-06-16T21:27:07.166Z"
   },
   {
    "duration": 13,
    "start_time": "2022-06-16T21:27:07.229Z"
   },
   {
    "duration": 80,
    "start_time": "2022-06-16T21:27:07.246Z"
   },
   {
    "duration": 11,
    "start_time": "2022-06-16T21:27:07.331Z"
   },
   {
    "duration": 240,
    "start_time": "2022-06-16T21:27:07.347Z"
   },
   {
    "duration": 14,
    "start_time": "2022-06-16T21:27:07.591Z"
   },
   {
    "duration": 201,
    "start_time": "2022-06-16T21:27:07.609Z"
   },
   {
    "duration": 8,
    "start_time": "2022-06-16T21:27:07.815Z"
   },
   {
    "duration": 1237,
    "start_time": "2022-06-16T21:27:07.827Z"
   },
   {
    "duration": 50,
    "start_time": "2022-06-16T21:27:09.070Z"
   },
   {
    "duration": 39,
    "start_time": "2022-06-16T21:27:09.124Z"
   },
   {
    "duration": 1182,
    "start_time": "2022-06-16T21:27:09.166Z"
   },
   {
    "duration": 568,
    "start_time": "2022-06-16T21:27:10.352Z"
   },
   {
    "duration": 923,
    "start_time": "2022-06-16T21:27:10.924Z"
   },
   {
    "duration": 212,
    "start_time": "2022-06-16T21:27:11.851Z"
   },
   {
    "duration": 242,
    "start_time": "2022-06-16T21:27:12.067Z"
   },
   {
    "duration": 101,
    "start_time": "2022-06-16T21:27:12.314Z"
   },
   {
    "duration": 595,
    "start_time": "2022-06-16T22:25:15.516Z"
   },
   {
    "duration": 3,
    "start_time": "2022-06-16T22:25:16.113Z"
   },
   {
    "duration": 37,
    "start_time": "2022-06-16T22:25:16.118Z"
   },
   {
    "duration": 55,
    "start_time": "2022-06-16T22:25:16.156Z"
   },
   {
    "duration": 12,
    "start_time": "2022-06-16T22:25:16.213Z"
   },
   {
    "duration": 75,
    "start_time": "2022-06-16T22:25:16.226Z"
   },
   {
    "duration": 7,
    "start_time": "2022-06-16T22:25:16.302Z"
   },
   {
    "duration": 228,
    "start_time": "2022-06-16T22:25:16.310Z"
   },
   {
    "duration": 8,
    "start_time": "2022-06-16T22:25:16.540Z"
   },
   {
    "duration": 178,
    "start_time": "2022-06-16T22:25:16.550Z"
   },
   {
    "duration": 6,
    "start_time": "2022-06-16T22:25:16.729Z"
   },
   {
    "duration": 1447,
    "start_time": "2022-06-16T22:25:16.736Z"
   },
   {
    "duration": 46,
    "start_time": "2022-06-16T22:25:18.185Z"
   },
   {
    "duration": 39,
    "start_time": "2022-06-16T22:25:18.233Z"
   },
   {
    "duration": 1174,
    "start_time": "2022-06-16T22:25:18.274Z"
   },
   {
    "duration": 526,
    "start_time": "2022-06-16T22:25:19.449Z"
   },
   {
    "duration": 823,
    "start_time": "2022-06-16T22:25:19.976Z"
   },
   {
    "duration": 209,
    "start_time": "2022-06-16T22:25:20.801Z"
   },
   {
    "duration": 199,
    "start_time": "2022-06-16T22:25:21.012Z"
   },
   {
    "duration": 94,
    "start_time": "2022-06-16T22:25:21.212Z"
   },
   {
    "duration": 525,
    "start_time": "2022-06-16T22:31:11.240Z"
   },
   {
    "duration": 517,
    "start_time": "2022-06-16T22:31:15.504Z"
   },
   {
    "duration": 46,
    "start_time": "2022-06-16T23:16:08.874Z"
   },
   {
    "duration": 37236,
    "start_time": "2022-06-16T23:16:18.455Z"
   },
   {
    "duration": 4,
    "start_time": "2022-06-16T23:16:55.693Z"
   },
   {
    "duration": 44,
    "start_time": "2022-06-16T23:16:55.698Z"
   },
   {
    "duration": 198,
    "start_time": "2022-06-16T23:16:55.744Z"
   },
   {
    "duration": 13,
    "start_time": "2022-06-16T23:16:55.943Z"
   },
   {
    "duration": 117,
    "start_time": "2022-06-16T23:16:55.957Z"
   },
   {
    "duration": 6,
    "start_time": "2022-06-16T23:16:56.076Z"
   },
   {
    "duration": 246,
    "start_time": "2022-06-16T23:16:56.084Z"
   },
   {
    "duration": 8,
    "start_time": "2022-06-16T23:16:56.332Z"
   },
   {
    "duration": 205,
    "start_time": "2022-06-16T23:16:56.343Z"
   },
   {
    "duration": 6,
    "start_time": "2022-06-16T23:16:56.550Z"
   },
   {
    "duration": 1128,
    "start_time": "2022-06-16T23:16:56.557Z"
   },
   {
    "duration": 73,
    "start_time": "2022-06-16T23:16:57.687Z"
   },
   {
    "duration": 67,
    "start_time": "2022-06-16T23:16:57.762Z"
   },
   {
    "duration": 1158,
    "start_time": "2022-06-16T23:16:57.831Z"
   },
   {
    "duration": 554,
    "start_time": "2022-06-16T23:16:58.990Z"
   },
   {
    "duration": 849,
    "start_time": "2022-06-16T23:16:59.546Z"
   },
   {
    "duration": 238,
    "start_time": "2022-06-16T23:17:00.396Z"
   },
   {
    "duration": 217,
    "start_time": "2022-06-16T23:17:00.635Z"
   },
   {
    "duration": 123,
    "start_time": "2022-06-16T23:17:00.854Z"
   },
   {
    "duration": 168,
    "start_time": "2022-06-16T23:17:37.538Z"
   }
  ],
  "colab": {
   "name": "AdvansedSQLProjectTemplate.ipynb",
   "provenance": []
  },
  "kernelspec": {
   "display_name": "Python 3 (ipykernel)",
   "language": "python",
   "name": "python3"
  },
  "language_info": {
   "codemirror_mode": {
    "name": "ipython",
    "version": 3
   },
   "file_extension": ".py",
   "mimetype": "text/x-python",
   "name": "python",
   "nbconvert_exporter": "python",
   "pygments_lexer": "ipython3",
   "version": "3.8.13"
  },
  "toc": {
   "base_numbering": 1,
   "nav_menu": {},
   "number_sections": true,
   "sideBar": true,
   "skip_h1_title": true,
   "title_cell": "Table of Contents",
   "title_sidebar": "Contents",
   "toc_cell": true,
   "toc_position": {
    "height": "calc(100% - 180px)",
    "left": "10px",
    "top": "150px",
    "width": "542px"
   },
   "toc_section_display": true,
   "toc_window_display": true
  },
  "varInspector": {
   "cols": {
    "lenName": 16,
    "lenType": 16,
    "lenVar": 40
   },
   "kernels_config": {
    "python": {
     "delete_cmd_postfix": "",
     "delete_cmd_prefix": "del ",
     "library": "var_list.py",
     "varRefreshCmd": "print(var_dic_list())"
    },
    "r": {
     "delete_cmd_postfix": ") ",
     "delete_cmd_prefix": "rm(",
     "library": "var_list.r",
     "varRefreshCmd": "cat(var_dic_list()) "
    }
   },
   "types_to_exclude": [
    "module",
    "function",
    "builtin_function_or_method",
    "instance",
    "_Feature"
   ],
   "window_display": false
  }
 },
 "nbformat": 4,
 "nbformat_minor": 1
}
