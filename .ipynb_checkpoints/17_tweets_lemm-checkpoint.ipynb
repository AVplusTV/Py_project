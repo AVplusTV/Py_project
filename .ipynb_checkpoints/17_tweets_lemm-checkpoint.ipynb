{
 "cells": [
  {
   "cell_type": "markdown",
   "id": "7bb1a458",
   "metadata": {
    "cellId": "uxhlnqt76fdi1se92zm2",
    "execution_id": "5485db79-14c4-4ce4-a370-318a215c199b",
    "id": "8eab17ed"
   },
   "source": [
    "## Формулировка задачи\n"
   ]
  },
  {
   "cell_type": "markdown",
   "id": "51af8fd8",
   "metadata": {
    "cellId": "pzn2gdvb5njrtpk754xra",
    "execution_id": "9f52f366-62b1-4be4-981a-23544cbb24ca",
    "id": "2729cc18"
   },
   "source": [
    "Лемматизированные и очищенные тексты твитов для обучения находятся в файле tweets_lemm_train.csv\n",
    "\n",
    "Подсчитайте величину TF-IDF для текстов.\n",
    "\n",
    "Обучите логистическую регрессию так, чтобы она определяла тональность текста.\n",
    "\n",
    "Целевой признак вы найдёте в столбце positive.\n",
    "\n",
    "Обученной моделью классификации определите результаты предсказания для тестовой выборки твитов, которая лежит в файле tweets_lemm_test.csv. Так же уже лемматизированы и очищены\n",
    "\n",
    "В этой выборке целевого признака нет. \n",
    "\n",
    "Сохраните предсказания в столбце positive.\n",
    "\n",
    "Таблицу с результатом сохраните как csv-файл, но чтобы тренажёр принял файл, не указывайте расширение (например, назовите файл 'predictions')\n",
    "\n",
    "Значение accuracy вашей модели должно быть не меньше 0.62.\n",
    "\n",
    "Файлы: tweets_lemm_train , tweets_lemm_test."
   ]
  },
  {
   "cell_type": "markdown",
   "id": "781ba328",
   "metadata": {
    "cellId": "wqk6wp11dr0pyimcnk9jo",
    "execution_id": "66290a10-3c7c-439d-b50f-ae7023f9576d",
    "id": "788e24b8"
   },
   "source": [
    "## Загрузим необходимые модули"
   ]
  },
  {
   "cell_type": "code",
   "execution_count": 1,
   "id": "ef9ebee3",
   "metadata": {
    "cellId": "8l5f6vp6fi6r8sq6u3nt",
    "id": "d4576d3c"
   },
   "outputs": [],
   "source": [
    "import pandas as pd\n",
    "import matplotlib.pyplot as plt\n",
    "from catboost import CatBoostClassifier\n",
    "from sklearn.metrics import plot_confusion_matrix\n",
    "import numpy as np\n",
    "from sklearn.model_selection import train_test_split\n",
    "from sklearn.linear_model import LogisticRegression\n",
    "from sklearn.model_selection import GridSearchCV\n",
    "from sklearn.model_selection import cross_val_score\n",
    "from sklearn.metrics import accuracy_score\n",
    "from sklearn.metrics import f1_score \n",
    "from sklearn.metrics import roc_auc_score\n",
    "from sklearn.metrics import recall_score\n",
    "from sklearn.metrics import precision_score\n",
    "import torch\n",
    "import transformers as ppb\n",
    "import warnings\n",
    "warnings.filterwarnings('ignore')"
   ]
  },
  {
   "cell_type": "code",
   "execution_count": 2,
   "id": "3639c06e",
   "metadata": {
    "cellId": "rkr0w0109g9xa0s79f3i6h",
    "colab": {
     "base_uri": "https://localhost:8080/",
     "height": 39,
     "resources": {
      "http://localhost:8080/nbextensions/google.colab/files.js": {
       "data": "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",
       "headers": [
        [
         "content-type",
         "application/javascript"
        ]
       ],
       "ok": true,
       "status": 200,
       "status_text": ""
      }
     }
    },
    "id": "9qXzz5CC4fPL",
    "outputId": "cc8457c4-6c5d-468d-c103-e0d92c7ab948"
   },
   "outputs": [],
   "source": [
    "#from google.colab import files\n",
    "#uploaded = files.upload()"
   ]
  },
  {
   "cell_type": "code",
   "execution_count": null,
   "id": "381c7813",
   "metadata": {
    "cellId": "3x666zzz4t6g3e2te3mdrg",
    "id": "ZC3ryQv54KxG"
   },
   "outputs": [],
   "source": []
  },
  {
   "cell_type": "markdown",
   "id": "8f8a36d8",
   "metadata": {
    "cellId": "dprg5i7i546mywjnaposwd",
    "execution_id": "81fcf444-0c38-49f0-aed1-8152efae1671",
    "id": "8a5db2ae"
   },
   "source": [
    "## Загрузим и проанализируем данные"
   ]
  },
  {
   "cell_type": "markdown",
   "id": "c6b7f6a9",
   "metadata": {
    "cellId": "r7dw762jcdile3uk467o",
    "execution_id": "112456f8-4b69-4960-b60b-3e7734de0247",
    "id": "083d7fbe"
   },
   "source": [
    "### Открываем файл с данными и анализируем содержимое"
   ]
  },
  {
   "cell_type": "markdown",
   "id": "9d56b107",
   "metadata": {
    "cellId": "dnzfz563d1spvrac2j74e",
    "execution_id": "e233a5f7-e09f-4cac-abbb-d8b31332b862",
    "id": "0b7bd432"
   },
   "source": [
    "Функция для чтения файла в таблицу с учетом возможности работы на разных платформах и заодно исследование данных в таблицах:"
   ]
  },
  {
   "cell_type": "code",
   "execution_count": null,
   "id": "a17adddf",
   "metadata": {
    "cellId": "kb48qrxbhtnps5y3xbs39p",
    "id": "62d37539"
   },
   "outputs": [],
   "source": []
  },
  {
   "cell_type": "code",
   "execution_count": 3,
   "id": "85f72661",
   "metadata": {
    "cellId": "ia2puvvpdcq0ay4t1j43b",
    "colab": {
     "base_uri": "https://localhost:8080/",
     "height": 424
    },
    "id": "ed032800",
    "outputId": "b52a37b5-f263-414d-eb73-cf05cb56dcfa"
   },
   "outputs": [
    {
     "data": {
      "text/html": [
       "<div>\n",
       "<style scoped>\n",
       "    .dataframe tbody tr th:only-of-type {\n",
       "        vertical-align: middle;\n",
       "    }\n",
       "\n",
       "    .dataframe tbody tr th {\n",
       "        vertical-align: top;\n",
       "    }\n",
       "\n",
       "    .dataframe thead th {\n",
       "        text-align: right;\n",
       "    }\n",
       "</style>\n",
       "<table border=\"1\" class=\"dataframe\">\n",
       "  <thead>\n",
       "    <tr style=\"text-align: right;\">\n",
       "      <th></th>\n",
       "      <th>text</th>\n",
       "      <th>positive</th>\n",
       "      <th>lemm_text</th>\n",
       "    </tr>\n",
       "  </thead>\n",
       "  <tbody>\n",
       "    <tr>\n",
       "      <th>0</th>\n",
       "      <td>@first_timee хоть я и школота, но поверь, у на...</td>\n",
       "      <td>1</td>\n",
       "      <td>хоть я и школотый но поверь у мы то же самый о...</td>\n",
       "    </tr>\n",
       "    <tr>\n",
       "      <th>1</th>\n",
       "      <td>Да, все-таки он немного похож на него. Но мой ...</td>\n",
       "      <td>1</td>\n",
       "      <td>да весь таки он немного похожий на он но мой м...</td>\n",
       "    </tr>\n",
       "    <tr>\n",
       "      <th>2</th>\n",
       "      <td>RT @KatiaCheh: Ну ты идиотка) я испугалась за ...</td>\n",
       "      <td>1</td>\n",
       "      <td>ну ты идиотка я испугаться за ты</td>\n",
       "    </tr>\n",
       "    <tr>\n",
       "      <th>3</th>\n",
       "      <td>RT @digger2912: \"Кто то в углу сидит и погибае...</td>\n",
       "      <td>1</td>\n",
       "      <td>кто то в угол сидеть и погибать от голод а мы ...</td>\n",
       "    </tr>\n",
       "    <tr>\n",
       "      <th>4</th>\n",
       "      <td>@irina_dyshkant Вот что значит страшилка :D\\r\\...</td>\n",
       "      <td>1</td>\n",
       "      <td>вот что значит страшилка но блин посмотреть ве...</td>\n",
       "    </tr>\n",
       "    <tr>\n",
       "      <th>...</th>\n",
       "      <td>...</td>\n",
       "      <td>...</td>\n",
       "      <td>...</td>\n",
       "    </tr>\n",
       "    <tr>\n",
       "      <th>4995</th>\n",
       "      <td>Вроде дружили 10 лет и в один момент все разру...</td>\n",
       "      <td>0</td>\n",
       "      <td>вроде дружить год и в один момент весь разруши...</td>\n",
       "    </tr>\n",
       "    <tr>\n",
       "      <th>4996</th>\n",
       "      <td>@m_gulko \\r\\nПоэтому и поздравляю заранее, что...</td>\n",
       "      <td>0</td>\n",
       "      <td>поэтому и поздравлять заранее что не получитьс...</td>\n",
       "    </tr>\n",
       "    <tr>\n",
       "      <th>4997</th>\n",
       "      <td>RT @kubudojede: черт, ну зачем они переделали ...</td>\n",
       "      <td>0</td>\n",
       "      <td>черта ну зачем они переделать</td>\n",
       "    </tr>\n",
       "    <tr>\n",
       "      <th>4998</th>\n",
       "      <td>RT @xidewojopiba: Вроде бы и любим друг друга,...</td>\n",
       "      <td>0</td>\n",
       "      <td>вроде бы и любим друг друг и быть вместе не мо...</td>\n",
       "    </tr>\n",
       "    <tr>\n",
       "      <th>4999</th>\n",
       "      <td>Одна из самых скучных суббот за последнее врем...</td>\n",
       "      <td>0</td>\n",
       "      <td>один из самый скучный суббота за последний вре...</td>\n",
       "    </tr>\n",
       "  </tbody>\n",
       "</table>\n",
       "<p>5000 rows × 3 columns</p>\n",
       "</div>"
      ],
      "text/plain": [
       "                                                   text  positive  \\\n",
       "0     @first_timee хоть я и школота, но поверь, у на...         1   \n",
       "1     Да, все-таки он немного похож на него. Но мой ...         1   \n",
       "2     RT @KatiaCheh: Ну ты идиотка) я испугалась за ...         1   \n",
       "3     RT @digger2912: \"Кто то в углу сидит и погибае...         1   \n",
       "4     @irina_dyshkant Вот что значит страшилка :D\\r\\...         1   \n",
       "...                                                 ...       ...   \n",
       "4995  Вроде дружили 10 лет и в один момент все разру...         0   \n",
       "4996  @m_gulko \\r\\nПоэтому и поздравляю заранее, что...         0   \n",
       "4997  RT @kubudojede: черт, ну зачем они переделали ...         0   \n",
       "4998  RT @xidewojopiba: Вроде бы и любим друг друга,...         0   \n",
       "4999  Одна из самых скучных суббот за последнее врем...         0   \n",
       "\n",
       "                                              lemm_text  \n",
       "0     хоть я и школотый но поверь у мы то же самый о...  \n",
       "1     да весь таки он немного похожий на он но мой м...  \n",
       "2                     ну ты идиотка я испугаться за ты   \n",
       "3     кто то в угол сидеть и погибать от голод а мы ...  \n",
       "4     вот что значит страшилка но блин посмотреть ве...  \n",
       "...                                                 ...  \n",
       "4995  вроде дружить год и в один момент весь разруши...  \n",
       "4996  поэтому и поздравлять заранее что не получитьс...  \n",
       "4997                     черта ну зачем они переделать   \n",
       "4998  вроде бы и любим друг друг и быть вместе не мо...  \n",
       "4999  один из самый скучный суббота за последний вре...  \n",
       "\n",
       "[5000 rows x 3 columns]"
      ]
     },
     "execution_count": 3,
     "metadata": {},
     "output_type": "execute_result"
    }
   ],
   "source": [
    "df_train = pd.read_csv('tweets_lemm_train.csv')\n",
    "df_train"
   ]
  },
  {
   "cell_type": "code",
   "execution_count": 4,
   "id": "e931db0c",
   "metadata": {
    "cellId": "hpijxevhr5qa5h484532q",
    "colab": {
     "base_uri": "https://localhost:8080/",
     "height": 424
    },
    "id": "3f8bb945",
    "outputId": "96e8bdde-2a40-4a49-afd0-c4fd0fd8ae9f"
   },
   "outputs": [
    {
     "data": {
      "text/html": [
       "<div>\n",
       "<style scoped>\n",
       "    .dataframe tbody tr th:only-of-type {\n",
       "        vertical-align: middle;\n",
       "    }\n",
       "\n",
       "    .dataframe tbody tr th {\n",
       "        vertical-align: top;\n",
       "    }\n",
       "\n",
       "    .dataframe thead th {\n",
       "        text-align: right;\n",
       "    }\n",
       "</style>\n",
       "<table border=\"1\" class=\"dataframe\">\n",
       "  <thead>\n",
       "    <tr style=\"text-align: right;\">\n",
       "      <th></th>\n",
       "      <th>text</th>\n",
       "      <th>lemm_text</th>\n",
       "    </tr>\n",
       "  </thead>\n",
       "  <tbody>\n",
       "    <tr>\n",
       "      <th>0</th>\n",
       "      <td>RT @tiredfennel: если криса так интересуют дет...</td>\n",
       "      <td>если крис так интересовать ребёнок то либо они...</td>\n",
       "    </tr>\n",
       "    <tr>\n",
       "      <th>1</th>\n",
       "      <td>@xsealord по 200 руб. в месяц можно разместить...</td>\n",
       "      <td>по рубль в месяц можно разместить ссылка на те...</td>\n",
       "    </tr>\n",
       "    <tr>\n",
       "      <th>2</th>\n",
       "      <td>@haosANDlaw @Etishkindyx учитывая, что сейчас ...</td>\n",
       "      <td>учитывать что сейчас преобладать один половина...</td>\n",
       "    </tr>\n",
       "    <tr>\n",
       "      <th>3</th>\n",
       "      <td>Товарищ    :) Но я никак не могу отдельно не о...</td>\n",
       "      <td>товарищ но я никак не мочь отдельно не отметит...</td>\n",
       "    </tr>\n",
       "    <tr>\n",
       "      <th>4</th>\n",
       "      <td>RT @BodyaNick: Квн был отличный !) Оооочень по...</td>\n",
       "      <td>квн быть отличный оооочень понравиться женский...</td>\n",
       "    </tr>\n",
       "    <tr>\n",
       "      <th>...</th>\n",
       "      <td>...</td>\n",
       "      <td>...</td>\n",
       "    </tr>\n",
       "    <tr>\n",
       "      <th>2995</th>\n",
       "      <td>жуйк, ачивки в контре — зло! мой младший брат ...</td>\n",
       "      <td>жуйк ачивка в контра зло мой младший брат втян...</td>\n",
       "    </tr>\n",
       "    <tr>\n",
       "      <th>2996</th>\n",
       "      <td>Не хочу идти на танцы :( http://t.co/5OdPjbYXOC</td>\n",
       "      <td>не хотеть идти на танец</td>\n",
       "    </tr>\n",
       "    <tr>\n",
       "      <th>2997</th>\n",
       "      <td>На улице пусто!ни людей,ни машин,наверно холод...</td>\n",
       "      <td>на улица пусто ни человек ни машина наверно хо...</td>\n",
       "    </tr>\n",
       "    <tr>\n",
       "      <th>2998</th>\n",
       "      <td>По-моему мы и ходили за водкой в три часа за э...</td>\n",
       "      <td>по мой мы и ходить за водка в три час за это ч...</td>\n",
       "    </tr>\n",
       "    <tr>\n",
       "      <th>2999</th>\n",
       "      <td>Р.В сказал,что с утра будет самостоятельная,ну...</td>\n",
       "      <td>р в сказать что с утро быть самостоятельный ну...</td>\n",
       "    </tr>\n",
       "  </tbody>\n",
       "</table>\n",
       "<p>3000 rows × 2 columns</p>\n",
       "</div>"
      ],
      "text/plain": [
       "                                                   text  \\\n",
       "0     RT @tiredfennel: если криса так интересуют дет...   \n",
       "1     @xsealord по 200 руб. в месяц можно разместить...   \n",
       "2     @haosANDlaw @Etishkindyx учитывая, что сейчас ...   \n",
       "3     Товарищ    :) Но я никак не могу отдельно не о...   \n",
       "4     RT @BodyaNick: Квн был отличный !) Оооочень по...   \n",
       "...                                                 ...   \n",
       "2995  жуйк, ачивки в контре — зло! мой младший брат ...   \n",
       "2996    Не хочу идти на танцы :( http://t.co/5OdPjbYXOC   \n",
       "2997  На улице пусто!ни людей,ни машин,наверно холод...   \n",
       "2998  По-моему мы и ходили за водкой в три часа за э...   \n",
       "2999  Р.В сказал,что с утра будет самостоятельная,ну...   \n",
       "\n",
       "                                              lemm_text  \n",
       "0     если крис так интересовать ребёнок то либо они...  \n",
       "1     по рубль в месяц можно разместить ссылка на те...  \n",
       "2     учитывать что сейчас преобладать один половина...  \n",
       "3     товарищ но я никак не мочь отдельно не отметит...  \n",
       "4     квн быть отличный оооочень понравиться женский...  \n",
       "...                                                 ...  \n",
       "2995  жуйк ачивка в контра зло мой младший брат втян...  \n",
       "2996                           не хотеть идти на танец   \n",
       "2997  на улица пусто ни человек ни машина наверно хо...  \n",
       "2998  по мой мы и ходить за водка в три час за это ч...  \n",
       "2999  р в сказать что с утро быть самостоятельный ну...  \n",
       "\n",
       "[3000 rows x 2 columns]"
      ]
     },
     "execution_count": 4,
     "metadata": {},
     "output_type": "execute_result"
    }
   ],
   "source": [
    "test = pd.read_csv('tweets_lemm_test.csv')\n",
    "test"
   ]
  },
  {
   "cell_type": "markdown",
   "id": "2c3838a2",
   "metadata": {
    "cellId": "nm15sidmj2lewzz3gf6c",
    "execution_id": "552e169b-5d97-4172-b6f7-731d2f65a642",
    "id": "a7d94ba9"
   },
   "source": [
    "### Балланс классов в тестовой выборке"
   ]
  },
  {
   "cell_type": "code",
   "execution_count": 5,
   "id": "63222b47",
   "metadata": {
    "cellId": "13nx80uupa5h288tdxa7qh",
    "colab": {
     "base_uri": "https://localhost:8080/"
    },
    "id": "30db66b4",
    "outputId": "52e35c7e-074e-4898-c341-781c31967857"
   },
   "outputs": [
    {
     "data": {
      "text/plain": [
       "1    50.0\n",
       "0    50.0\n",
       "Name: positive, dtype: float64"
      ]
     },
     "execution_count": 5,
     "metadata": {},
     "output_type": "execute_result"
    }
   ],
   "source": [
    "df_train['positive'].value_counts(normalize=True)*100"
   ]
  },
  {
   "cell_type": "markdown",
   "id": "d148b0de",
   "metadata": {
    "cellId": "pqxqvz5jv9mykz4he9z6p",
    "execution_id": "d92376ee-d55d-4afc-b55f-91694e37e19a",
    "id": "76e4eeaa"
   },
   "source": [
    "Так как обучение Берт моделей ресурсоемкий процесс ограничим количество данных для обучения 3000 строками, но не забудем сохранить балланс классов"
   ]
  },
  {
   "cell_type": "code",
   "execution_count": 6,
   "id": "ef30425b",
   "metadata": {
    "cellId": "ric0d81xpp1vfsnuy0vbu",
    "id": "e9d103d4"
   },
   "outputs": [],
   "source": [
    "train, valid = train_test_split(df_train, stratify=df_train['positive'],test_size=0.30,\n",
    "                                   shuffle=True, random_state=12345)"
   ]
  },
  {
   "cell_type": "code",
   "execution_count": 7,
   "id": "765614e4",
   "metadata": {
    "cellId": "ol8c8rcajdaucdffysvul",
    "colab": {
     "base_uri": "https://localhost:8080/",
     "height": 424
    },
    "id": "e83dde38",
    "outputId": "04ee220f-f7e7-4636-b995-b2a5b75db0f4"
   },
   "outputs": [
    {
     "data": {
      "text/html": [
       "<div>\n",
       "<style scoped>\n",
       "    .dataframe tbody tr th:only-of-type {\n",
       "        vertical-align: middle;\n",
       "    }\n",
       "\n",
       "    .dataframe tbody tr th {\n",
       "        vertical-align: top;\n",
       "    }\n",
       "\n",
       "    .dataframe thead th {\n",
       "        text-align: right;\n",
       "    }\n",
       "</style>\n",
       "<table border=\"1\" class=\"dataframe\">\n",
       "  <thead>\n",
       "    <tr style=\"text-align: right;\">\n",
       "      <th></th>\n",
       "      <th>text</th>\n",
       "      <th>positive</th>\n",
       "      <th>lemm_text</th>\n",
       "    </tr>\n",
       "  </thead>\n",
       "  <tbody>\n",
       "    <tr>\n",
       "      <th>4309</th>\n",
       "      <td>Последние секунды были ожесточены. И я проигра...</td>\n",
       "      <td>0</td>\n",
       "      <td>последний секунда быть ожесточить и я проиграт...</td>\n",
       "    </tr>\n",
       "    <tr>\n",
       "      <th>455</th>\n",
       "      <td>Срочно всем альбом Skillet Rise всем в уши)неч...</td>\n",
       "      <td>1</td>\n",
       "      <td>срочно весь альбом весь в ухо нечто</td>\n",
       "    </tr>\n",
       "    <tr>\n",
       "      <th>3180</th>\n",
       "      <td>Попросили попеть в школьном хоре, я не хочу. Н...</td>\n",
       "      <td>0</td>\n",
       "      <td>попросить попеть в школьный хор я не хотеть но...</td>\n",
       "    </tr>\n",
       "    <tr>\n",
       "      <th>3159</th>\n",
       "      <td>Спела песню - сразу четверо отписалось. Я что ...</td>\n",
       "      <td>0</td>\n",
       "      <td>спеть песня сразу четверо отписаться я что даж...</td>\n",
       "    </tr>\n",
       "    <tr>\n",
       "      <th>2795</th>\n",
       "      <td>Такие мелкие и страшные, а уже замуж хотят(</td>\n",
       "      <td>0</td>\n",
       "      <td>такой мелкий и страшный а уже замуж хотеть</td>\n",
       "    </tr>\n",
       "    <tr>\n",
       "      <th>...</th>\n",
       "      <td>...</td>\n",
       "      <td>...</td>\n",
       "      <td>...</td>\n",
       "    </tr>\n",
       "    <tr>\n",
       "      <th>583</th>\n",
       "      <td>Как же хорошо быть с тем кого ты реально любиш...</td>\n",
       "      <td>1</td>\n",
       "      <td>как же хорошо быть с тем кто ты реально любиш</td>\n",
       "    </tr>\n",
       "    <tr>\n",
       "      <th>1370</th>\n",
       "      <td>Q: Хватит обижаться)\\r\\nя ведь скучаю)  A: htt...</td>\n",
       "      <td>1</td>\n",
       "      <td>хватить обижаться я ведь скучать</td>\n",
       "    </tr>\n",
       "    <tr>\n",
       "      <th>548</th>\n",
       "      <td>@_MaLiNaNiLaM_ @outaveli это все потому,что он...</td>\n",
       "      <td>1</td>\n",
       "      <td>это весь потому что он хач</td>\n",
       "    </tr>\n",
       "    <tr>\n",
       "      <th>3805</th>\n",
       "      <td>@Weasley31 я встал за 10 минут до выхода :( а ...</td>\n",
       "      <td>0</td>\n",
       "      <td>я встать за минута до выход а исчо я вряд ли п...</td>\n",
       "    </tr>\n",
       "    <tr>\n",
       "      <th>724</th>\n",
       "      <td>RT @ciguqihir: Интернет отключился, не получив...</td>\n",
       "      <td>1</td>\n",
       "      <td>интернет отключиться не получить оплата но джа...</td>\n",
       "    </tr>\n",
       "  </tbody>\n",
       "</table>\n",
       "<p>3500 rows × 3 columns</p>\n",
       "</div>"
      ],
      "text/plain": [
       "                                                   text  positive  \\\n",
       "4309  Последние секунды были ожесточены. И я проигра...         0   \n",
       "455   Срочно всем альбом Skillet Rise всем в уши)неч...         1   \n",
       "3180  Попросили попеть в школьном хоре, я не хочу. Н...         0   \n",
       "3159  Спела песню - сразу четверо отписалось. Я что ...         0   \n",
       "2795        Такие мелкие и страшные, а уже замуж хотят(         0   \n",
       "...                                                 ...       ...   \n",
       "583   Как же хорошо быть с тем кого ты реально любиш...         1   \n",
       "1370  Q: Хватит обижаться)\\r\\nя ведь скучаю)  A: htt...         1   \n",
       "548   @_MaLiNaNiLaM_ @outaveli это все потому,что он...         1   \n",
       "3805  @Weasley31 я встал за 10 минут до выхода :( а ...         0   \n",
       "724   RT @ciguqihir: Интернет отключился, не получив...         1   \n",
       "\n",
       "                                              lemm_text  \n",
       "4309  последний секунда быть ожесточить и я проиграт...  \n",
       "455                срочно весь альбом весь в ухо нечто   \n",
       "3180  попросить попеть в школьный хор я не хотеть но...  \n",
       "3159  спеть песня сразу четверо отписаться я что даж...  \n",
       "2795        такой мелкий и страшный а уже замуж хотеть   \n",
       "...                                                 ...  \n",
       "583      как же хорошо быть с тем кто ты реально любиш   \n",
       "1370                  хватить обижаться я ведь скучать   \n",
       "548                         это весь потому что он хач   \n",
       "3805  я встать за минута до выход а исчо я вряд ли п...  \n",
       "724   интернет отключиться не получить оплата но джа...  \n",
       "\n",
       "[3500 rows x 3 columns]"
      ]
     },
     "execution_count": 7,
     "metadata": {},
     "output_type": "execute_result"
    }
   ],
   "source": [
    "train"
   ]
  },
  {
   "cell_type": "code",
   "execution_count": 8,
   "id": "479af789",
   "metadata": {
    "cellId": "wm9vleb0vnb1nsyze40l",
    "colab": {
     "base_uri": "https://localhost:8080/"
    },
    "id": "7b930614",
    "outputId": "634e29d2-69f1-4b26-bc57-a0252ba7589e"
   },
   "outputs": [
    {
     "data": {
      "text/plain": [
       "1    50.0\n",
       "0    50.0\n",
       "Name: positive, dtype: float64"
      ]
     },
     "execution_count": 8,
     "metadata": {},
     "output_type": "execute_result"
    }
   ],
   "source": [
    "train['positive'].value_counts(normalize=True)*100"
   ]
  },
  {
   "cell_type": "code",
   "execution_count": 9,
   "id": "5038b905",
   "metadata": {
    "cellId": "vpmxf4ffuoeminpdh6ewsb",
    "colab": {
     "base_uri": "https://localhost:8080/"
    },
    "id": "94fd11b2",
    "outputId": "cd1807da-835a-4f8e-e2d5-60a0151b811d"
   },
   "outputs": [
    {
     "data": {
      "text/plain": [
       "(3500, 3)"
      ]
     },
     "execution_count": 9,
     "metadata": {},
     "output_type": "execute_result"
    }
   ],
   "source": [
    "train.shape"
   ]
  },
  {
   "cell_type": "markdown",
   "id": "e20d4b5c",
   "metadata": {
    "cellId": "dv1mw9pz36fowxhjd5hxk",
    "execution_id": "854fe68c-adeb-4f3a-a187-1f08b52a5f68",
    "id": "09dac631"
   },
   "source": [
    " ### Выводы:\n",
    " \n",
    " \n",
    "содержание файлов соответствует формулировке задачи, пропусков нет, классы полностью сбалансированы"
   ]
  },
  {
   "cell_type": "markdown",
   "id": "165b692a",
   "metadata": {
    "cellId": "j56jat5vepn67le6ydjzc4",
    "execution_id": "7390d23c-0737-4f22-bf3b-6f8a27ef6513",
    "id": "e9a50a7f"
   },
   "source": [
    "## Подготовка BERT модели"
   ]
  },
  {
   "cell_type": "code",
   "execution_count": 10,
   "id": "4708294f",
   "metadata": {
    "cellId": "wx2wq6kzcdxfpwquc90fg",
    "colab": {
     "base_uri": "https://localhost:8080/"
    },
    "id": "a463f332",
    "outputId": "86d4bc5b-3829-4a04-9220-46d68c954f8c"
   },
   "outputs": [
    {
     "data": {
      "application/vnd.jupyter.widget-view+json": {
       "model_id": "bc57ad20c3ce420995707e40b35e3a69",
       "version_major": 2,
       "version_minor": 0
      },
      "text/plain": [
       "HBox(children=(HTML(value='Downloading'), FloatProgress(value=0.0, max=231508.0), HTML(value='')))"
      ]
     },
     "metadata": {},
     "output_type": "display_data"
    },
    {
     "name": "stdout",
     "output_type": "stream",
     "text": [
      "\n"
     ]
    },
    {
     "data": {
      "application/vnd.jupyter.widget-view+json": {
       "model_id": "5d6ef47a04fa46489bc10fb002829ec0",
       "version_major": 2,
       "version_minor": 0
      },
      "text/plain": [
       "HBox(children=(HTML(value='Downloading'), FloatProgress(value=0.0, max=28.0), HTML(value='')))"
      ]
     },
     "metadata": {},
     "output_type": "display_data"
    },
    {
     "name": "stdout",
     "output_type": "stream",
     "text": [
      "\n"
     ]
    },
    {
     "data": {
      "application/vnd.jupyter.widget-view+json": {
       "model_id": "774d80651fcc40fca39c57fa631b538a",
       "version_major": 2,
       "version_minor": 0
      },
      "text/plain": [
       "HBox(children=(HTML(value='Downloading'), FloatProgress(value=0.0, max=466062.0), HTML(value='')))"
      ]
     },
     "metadata": {},
     "output_type": "display_data"
    },
    {
     "name": "stdout",
     "output_type": "stream",
     "text": [
      "\n"
     ]
    },
    {
     "data": {
      "application/vnd.jupyter.widget-view+json": {
       "model_id": "57a06f43cb984322923862f39c91e710",
       "version_major": 2,
       "version_minor": 0
      },
      "text/plain": [
       "HBox(children=(HTML(value='Downloading'), FloatProgress(value=0.0, max=483.0), HTML(value='')))"
      ]
     },
     "metadata": {},
     "output_type": "display_data"
    },
    {
     "name": "stdout",
     "output_type": "stream",
     "text": [
      "\n"
     ]
    },
    {
     "data": {
      "application/vnd.jupyter.widget-view+json": {
       "model_id": "6912fab692664697a0fef1c5c48da488",
       "version_major": 2,
       "version_minor": 0
      },
      "text/plain": [
       "HBox(children=(HTML(value='Downloading'), FloatProgress(value=0.0, max=267967963.0), HTML(value='')))"
      ]
     },
     "metadata": {},
     "output_type": "display_data"
    },
    {
     "name": "stdout",
     "output_type": "stream",
     "text": [
      "\n"
     ]
    },
    {
     "name": "stderr",
     "output_type": "stream",
     "text": [
      "Some weights of the model checkpoint at distilbert-base-uncased were not used when initializing DistilBertModel: ['vocab_layer_norm.weight', 'vocab_transform.weight', 'vocab_layer_norm.bias', 'vocab_projector.bias', 'vocab_transform.bias', 'vocab_projector.weight']\n",
      "- This IS expected if you are initializing DistilBertModel from the checkpoint of a model trained on another task or with another architecture (e.g. initializing a BertForSequenceClassification model from a BertForPreTraining model).\n",
      "- This IS NOT expected if you are initializing DistilBertModel from the checkpoint of a model that you expect to be exactly identical (initializing a BertForSequenceClassification model from a BertForSequenceClassification model).\n"
     ]
    }
   ],
   "source": [
    "# For DistilBERT:\n",
    "model_class, tokenizer_class, pretrained_weights = (ppb.DistilBertModel, ppb.DistilBertTokenizer, 'distilbert-base-uncased')\n",
    "\n",
    "## Want BERT instead of distilBERT? Uncomment the following line:\n",
    "#model_class, tokenizer_class, pretrained_weights = (ppb.BertModel, ppb.BertTokenizer, 'bert-base-uncased')\n",
    "\n",
    "# Load pretrained model/tokenizer\n",
    "tokenizer = tokenizer_class.from_pretrained(pretrained_weights)\n",
    "model = model_class.from_pretrained(pretrained_weights)"
   ]
  },
  {
   "cell_type": "markdown",
   "id": "0f1f2680",
   "metadata": {
    "cellId": "sm1ztk6p9xlhtt70t2mey6",
    "execution_id": "d6a6ee9c-9354-4b92-a5a1-4ade3741c215",
    "id": "e8e411d6"
   },
   "source": [
    "## Подготовка данных"
   ]
  },
  {
   "cell_type": "markdown",
   "id": "99f8970f",
   "metadata": {
    "cellId": "xgzt4q3xm1t59lafhdxxj",
    "execution_id": "1dc49540-4e1e-43e8-ba08-58610ef20c03",
    "id": "f745b1ff"
   },
   "source": [
    "### Токинезация"
   ]
  },
  {
   "cell_type": "markdown",
   "id": "e7951a22",
   "metadata": {
    "cellId": "68xfe7kh9r6yunozhnxbu",
    "execution_id": "510f25d5-59ed-46eb-af69-f0e880bfee47",
    "id": "a38e6ffb"
   },
   "source": [
    "Преобразовываем слова в цифры"
   ]
  },
  {
   "cell_type": "code",
   "execution_count": 11,
   "id": "f334fa95",
   "metadata": {
    "cellId": "y4n062ifkr7c1alf6oxlo",
    "id": "72e1151c"
   },
   "outputs": [],
   "source": [
    "token_train = train['lemm_text'].apply((lambda x: tokenizer.encode(x, add_special_tokens=True)))"
   ]
  },
  {
   "cell_type": "code",
   "execution_count": 12,
   "id": "16667f84",
   "metadata": {
    "cellId": "v3tts3kwn6hf92v1or26g",
    "id": "lfyVSPdhyEmZ"
   },
   "outputs": [],
   "source": [
    "token_valid = valid['lemm_text'].apply((lambda x: tokenizer.encode(x, add_special_tokens=True)))"
   ]
  },
  {
   "cell_type": "code",
   "execution_count": 13,
   "id": "ade96717",
   "metadata": {
    "cellId": "bxz7i0edleoypqk5azf2y",
    "id": "x50BcRlEyFAu"
   },
   "outputs": [],
   "source": [
    "token_test = test['lemm_text'].apply((lambda x: tokenizer.encode(x, add_special_tokens=True)))"
   ]
  },
  {
   "cell_type": "markdown",
   "id": "62a89748",
   "metadata": {
    "cellId": "dphrpf7c27i7iesztixw34",
    "execution_id": "bff5385b-9e1a-44dd-aad9-ed8de1b6e3b3",
    "id": "b124ade1"
   },
   "source": [
    "### Добавление данных в каждый список для выравниявания длины и создания массива"
   ]
  },
  {
   "cell_type": "markdown",
   "id": "627da58a",
   "metadata": {
    "cellId": "r2bahx8h3gj494xh638tg",
    "execution_id": "754d1ea8-2ce6-4e04-8533-324f45d54c3f",
    "id": "1933b861"
   },
   "source": [
    "После токенизации tokenized представляет собой список предложений - каждое предложение представлено в виде списка токенов. Мы хотим, чтобы БЕРТ обрабатывал наши примеры все сразу (как один пакет). Просто так будет быстрее. По этой причине нам нужно заполнить все списки одинаковым размером, чтобы мы могли представлять входные данные в виде одного двумерного массива, а не списка списков (разной длины)."
   ]
  },
  {
   "cell_type": "code",
   "execution_count": 14,
   "id": "ddad47cc",
   "metadata": {
    "cellId": "lotab6f2tkeavhatrl9w5",
    "id": "1779f302"
   },
   "outputs": [],
   "source": [
    "max_len = 0\n",
    "for i in token_train.values:\n",
    "    if len(i) > max_len:\n",
    "        max_len = len(i)\n",
    "\n",
    "padded_train = np.array([i + [0]*(max_len+1-len(i)) for i in token_train.values])"
   ]
  },
  {
   "cell_type": "code",
   "execution_count": 15,
   "id": "bb9d0062",
   "metadata": {
    "cellId": "zhoa7s85dgn01qony3o5lp8",
    "colab": {
     "base_uri": "https://localhost:8080/"
    },
    "id": "b7a38af7",
    "outputId": "cd650963-7f5e-42df-9b49-126fcc451e7e"
   },
   "outputs": [
    {
     "data": {
      "text/plain": [
       "array([[  101,  1194, 14150, ...,     0,     0,     0],\n",
       "       [  101,  1196, 16856, ...,     0,     0,     0],\n",
       "       [  101,  1194, 14150, ...,     0,     0,     0],\n",
       "       ...,\n",
       "       [  101,  1208, 22919, ...,     0,     0,     0],\n",
       "       [  101,  1210,  1182, ...,     0,     0,     0],\n",
       "       [  101,  1188, 18947, ...,     0,     0,     0]])"
      ]
     },
     "execution_count": 15,
     "metadata": {},
     "output_type": "execute_result"
    }
   ],
   "source": [
    "padded_train"
   ]
  },
  {
   "cell_type": "code",
   "execution_count": 16,
   "id": "f426d3f4",
   "metadata": {
    "cellId": "g4epplwcndt5aiscxwnirx",
    "colab": {
     "base_uri": "https://localhost:8080/"
    },
    "id": "423b049b",
    "outputId": "8d039a8d-e5d6-43b8-a746-0a0a11801604"
   },
   "outputs": [
    {
     "data": {
      "text/plain": [
       "(3500, 118)"
      ]
     },
     "execution_count": 16,
     "metadata": {},
     "output_type": "execute_result"
    }
   ],
   "source": [
    "np.array(padded_train).shape"
   ]
  },
  {
   "cell_type": "code",
   "execution_count": 17,
   "id": "7f15a3a6",
   "metadata": {
    "cellId": "2hevybs0fcnitj6ia85th9",
    "id": "Mze5Wav8yrwh"
   },
   "outputs": [],
   "source": [
    "max_len = 0\n",
    "for i in token_valid.values:\n",
    "    if len(i) > max_len:\n",
    "        max_len = len(i)\n",
    "\n",
    "padded_valid = np.array([i + [0]*(max_len-len(i)) for i in token_valid.values])"
   ]
  },
  {
   "cell_type": "code",
   "execution_count": 18,
   "id": "aaf2a4ba",
   "metadata": {
    "cellId": "7t4z9xnp87q2mv7lfogul1",
    "colab": {
     "base_uri": "https://localhost:8080/"
    },
    "id": "IHqkIn0ZysJ0",
    "outputId": "13d849f2-c4cd-4280-ef4b-4a4fb95b9911"
   },
   "outputs": [
    {
     "data": {
      "text/plain": [
       "(1500, 118)"
      ]
     },
     "execution_count": 18,
     "metadata": {},
     "output_type": "execute_result"
    }
   ],
   "source": [
    "np.array(padded_valid).shape"
   ]
  },
  {
   "cell_type": "code",
   "execution_count": 19,
   "id": "70c84c4c",
   "metadata": {
    "cellId": "jz1ns7ytdkhr4c5t9jttj",
    "id": "eBHo19gLzz-j"
   },
   "outputs": [],
   "source": [
    "max_len = 0\n",
    "for i in token_test.values:\n",
    "    if len(i) > max_len:\n",
    "        max_len = len(i)\n",
    "\n",
    "padded_test = np.array([i + [0]*(max_len+4-len(i)) for i in token_test.values])"
   ]
  },
  {
   "cell_type": "code",
   "execution_count": 20,
   "id": "b44b3c13",
   "metadata": {
    "cellId": "v4r7yfkiqd3xgpzjwjylt",
    "colab": {
     "base_uri": "https://localhost:8080/"
    },
    "id": "RLta1TFxz01D",
    "outputId": "711e24e4-e68d-4bc1-f9c8-dea2bd43b332"
   },
   "outputs": [
    {
     "data": {
      "text/plain": [
       "(3000, 118)"
      ]
     },
     "execution_count": 20,
     "metadata": {},
     "output_type": "execute_result"
    }
   ],
   "source": [
    "np.array(padded_test).shape"
   ]
  },
  {
   "cell_type": "code",
   "execution_count": null,
   "id": "11b0864d",
   "metadata": {
    "cellId": "3oikvi0n5ykmz84i8bxy0q",
    "id": "1VAbkyqk0ZgC"
   },
   "outputs": [],
   "source": []
  },
  {
   "cell_type": "markdown",
   "id": "8a603a22",
   "metadata": {
    "cellId": "ab3mfow3h0qt1qpf3bjtmk",
    "execution_id": "58b85f59-ba97-4cba-bd9f-ea8f88fbf484",
    "id": "17732bf0"
   },
   "source": [
    "### Маскируем лишние данные"
   ]
  },
  {
   "cell_type": "markdown",
   "id": "1f0bd13e",
   "metadata": {
    "cellId": "j5j3x39euwt2n97v6uawg",
    "execution_id": "aae39adf-dceb-461f-8966-f6ceb531876d",
    "id": "dfc2c0fe"
   },
   "source": [
    "Но фавктически эти добавленные данные нам не нужны для обучения. нужно создать переменную, для игнорирования (маскировки) добавленных нами данных."
   ]
  },
  {
   "cell_type": "code",
   "execution_count": 21,
   "id": "8c1f482d",
   "metadata": {
    "cellId": "el7hqjwgm4azk451plpzqd",
    "colab": {
     "base_uri": "https://localhost:8080/"
    },
    "id": "f5b515fb",
    "outputId": "9066e9cc-1e18-4cd1-e049-7648f4a98840"
   },
   "outputs": [
    {
     "data": {
      "text/plain": [
       "(3500, 118)"
      ]
     },
     "execution_count": 21,
     "metadata": {},
     "output_type": "execute_result"
    }
   ],
   "source": [
    "attention_mask_train = np.where(padded_train != 0, 1, 0)\n",
    "attention_mask_train.shape"
   ]
  },
  {
   "cell_type": "code",
   "execution_count": 22,
   "id": "303af4d8",
   "metadata": {
    "cellId": "u8fq9cpcef7yihqd005ikr",
    "colab": {
     "base_uri": "https://localhost:8080/"
    },
    "id": "0da79086",
    "outputId": "b9776467-9059-4c06-87a3-eb1c5ac71c67"
   },
   "outputs": [
    {
     "data": {
      "text/plain": [
       "(1500, 118)"
      ]
     },
     "execution_count": 22,
     "metadata": {},
     "output_type": "execute_result"
    }
   ],
   "source": [
    "attention_mask_valid = np.where(padded_valid != 0, 1, 0)\n",
    "attention_mask_valid.shape"
   ]
  },
  {
   "cell_type": "code",
   "execution_count": 23,
   "id": "8dd0b54d",
   "metadata": {
    "cellId": "80kwuik3esfit099aoofh",
    "colab": {
     "base_uri": "https://localhost:8080/"
    },
    "id": "RDbkWEFs0azs",
    "outputId": "b0ba0639-7f91-4148-b6dd-80c1ee55e94c"
   },
   "outputs": [
    {
     "data": {
      "text/plain": [
       "(3000, 118)"
      ]
     },
     "execution_count": 23,
     "metadata": {},
     "output_type": "execute_result"
    }
   ],
   "source": [
    "attention_mask_test = np.where(padded_test != 0, 1, 0)\n",
    "attention_mask_test.shape"
   ]
  },
  {
   "cell_type": "markdown",
   "id": "9e09ac2a",
   "metadata": {
    "cellId": "4j5it3gl4dy4fnv4ndgva3",
    "execution_id": "aa513a50-d0a3-4585-b5a4-198e9c951707",
    "id": "00b95c22"
   },
   "source": [
    "## Обучение Берт модели и продолжение подготовки данных"
   ]
  },
  {
   "cell_type": "code",
   "execution_count": null,
   "id": "e2a1ff65",
   "metadata": {
    "cellId": "hgr9iwo7rn8r51aw093419",
    "id": "QFiuYbFBGZHQ"
   },
   "outputs": [],
   "source": []
  },
  {
   "cell_type": "code",
   "execution_count": 24,
   "id": "c75306c2",
   "metadata": {
    "cellId": "0mlmzbapwrghd1sdtle8uw",
    "colab": {
     "base_uri": "https://localhost:8080/"
    },
    "id": "RUytYiNnGZwO",
    "outputId": "3dfa3299-8c30-40b6-bb0f-a804cbfe39e9"
   },
   "outputs": [
    {
     "data": {
      "text/plain": [
       "False"
      ]
     },
     "execution_count": 24,
     "metadata": {},
     "output_type": "execute_result"
    }
   ],
   "source": [
    "torch.cuda.is_available()"
   ]
  },
  {
   "cell_type": "code",
   "execution_count": 25,
   "id": "962758c8",
   "metadata": {
    "cellId": "jgqvgrmk9ionoifz0j7mq",
    "colab": {
     "base_uri": "https://localhost:8080/"
    },
    "id": "afcce2e2",
    "outputId": "3907ddeb-938f-43b6-b718-7336f424de9e"
   },
   "outputs": [
    {
     "name": "stdout",
     "output_type": "stream",
     "text": [
      "CPU times: user 6min 28s, sys: 2min 15s, total: 8min 44s\n",
      "Wall time: 4min 22s\n"
     ]
    }
   ],
   "source": [
    "%%time\n",
    "input_ids_train = torch.tensor(padded_train)  \n",
    "attention_mask_train = torch.tensor(attention_mask_train)\n",
    "\n",
    "with torch.no_grad():\n",
    "    last_hidden_states_train = model(input_ids_train, attention_mask=attention_mask_train)"
   ]
  },
  {
   "cell_type": "code",
   "execution_count": 26,
   "id": "f3d240b8",
   "metadata": {
    "cellId": "ibgla7eey1jna09g1ox8t",
    "colab": {
     "base_uri": "https://localhost:8080/"
    },
    "id": "1de5728e",
    "outputId": "2516fd65-b715-4c9b-ff31-da471facd834"
   },
   "outputs": [
    {
     "name": "stdout",
     "output_type": "stream",
     "text": [
      "CPU times: user 3min 14s, sys: 53.2 s, total: 4min 7s\n",
      "Wall time: 2min 5s\n"
     ]
    }
   ],
   "source": [
    "%%time\n",
    "input_ids_valid = torch.tensor(padded_valid)  \n",
    "attention_mask_valid = torch.tensor(attention_mask_valid)\n",
    "\n",
    "with torch.no_grad():\n",
    "    last_hidden_states_valid = model(input_ids_valid, attention_mask=attention_mask_valid)"
   ]
  },
  {
   "cell_type": "code",
   "execution_count": 27,
   "id": "d3a4fd71",
   "metadata": {
    "cellId": "ii551qij0ur3lx4cvem77p",
    "id": "0eb8e9e5"
   },
   "outputs": [
    {
     "name": "stdout",
     "output_type": "stream",
     "text": [
      "CPU times: user 5min 45s, sys: 1min 43s, total: 7min 29s\n",
      "Wall time: 3min 45s\n"
     ]
    }
   ],
   "source": [
    "%%time\n",
    "input_ids_test = torch.tensor(padded_test)  \n",
    "attention_mask_test = torch.tensor(attention_mask_test)\n",
    "\n",
    "with torch.no_grad():\n",
    "    last_hidden_states_test = model(input_ids_test, attention_mask=attention_mask_test)"
   ]
  },
  {
   "cell_type": "markdown",
   "id": "e12ca740",
   "metadata": {
    "cellId": "ozx197iv0g8dxheuxt04nv",
    "execution_id": "62e18f85-03ac-4181-ba1a-5a6f899a6df0"
   },
   "source": [
    "### Выделение тренировочных и целевых признаков"
   ]
  },
  {
   "cell_type": "code",
   "execution_count": 28,
   "id": "d4ac269f",
   "metadata": {
    "cellId": "3sy6vu0zt7x0qsydxbmo1q",
    "id": "ZeEpRNZlGXxF"
   },
   "outputs": [
    {
     "data": {
      "text/plain": [
       "array([[-0.22488166,  0.16040495, -0.20865849, ..., -0.26391083,\n",
       "         0.6328301 ,  0.51214933],\n",
       "       [-0.23535529,  0.05423606, -0.15235181, ..., -0.2710064 ,\n",
       "         0.48008135,  0.47398692],\n",
       "       [-0.2184521 ,  0.17344972, -0.16746679, ..., -0.30913645,\n",
       "         0.5916822 ,  0.52316105],\n",
       "       ...,\n",
       "       [-0.2822859 ,  0.03941746, -0.13659112, ..., -0.26516587,\n",
       "         0.488944  ,  0.4479974 ],\n",
       "       [-0.11805911,  0.07996156, -0.21402651, ..., -0.23869775,\n",
       "         0.6017719 ,  0.41423604],\n",
       "       [-0.25092292,  0.07101478, -0.21018642, ..., -0.29751566,\n",
       "         0.54567236,  0.5755889 ]], dtype=float32)"
      ]
     },
     "execution_count": 28,
     "metadata": {},
     "output_type": "execute_result"
    }
   ],
   "source": [
    "features_train = last_hidden_states_train[0][:,0,:].numpy()\n",
    "features_train"
   ]
  },
  {
   "cell_type": "code",
   "execution_count": 29,
   "id": "ebf7aa69",
   "metadata": {
    "cellId": "g4och53ati53cajb6a1fr3",
    "id": "e897dca0"
   },
   "outputs": [
    {
     "data": {
      "text/plain": [
       "4309    0\n",
       "455     1\n",
       "3180    0\n",
       "3159    0\n",
       "2795    0\n",
       "       ..\n",
       "583     1\n",
       "1370    1\n",
       "548     1\n",
       "3805    0\n",
       "724     1\n",
       "Name: positive, Length: 3500, dtype: int64"
      ]
     },
     "execution_count": 29,
     "metadata": {},
     "output_type": "execute_result"
    }
   ],
   "source": [
    "labels_train = train['positive']\n",
    "labels_train"
   ]
  },
  {
   "cell_type": "code",
   "execution_count": 30,
   "id": "8d25139f",
   "metadata": {
    "cellId": "0jp69wle2qgodo1bik0doo4",
    "id": "0de9b953"
   },
   "outputs": [],
   "source": [
    "features_valid = last_hidden_states_valid[0][:,0,:].numpy()"
   ]
  },
  {
   "cell_type": "code",
   "execution_count": 31,
   "id": "6b8eb617",
   "metadata": {
    "cellId": "2v9znmpf971v148ge5wxc9",
    "id": "24616440"
   },
   "outputs": [],
   "source": [
    "labels_valid = valid['positive']"
   ]
  },
  {
   "cell_type": "code",
   "execution_count": 32,
   "id": "b664e3a0",
   "metadata": {
    "cellId": "c9p4kfdpibgjmvnm6hxoa",
    "id": "ab10c575"
   },
   "outputs": [],
   "source": [
    "features_test = last_hidden_states_test[0][:,0,:].numpy()"
   ]
  },
  {
   "cell_type": "markdown",
   "id": "9a0b9302",
   "metadata": {
    "cellId": "h26jzwzu6llpw82cq6px2a",
    "execution_id": "0aa3bbe3-798e-40cd-b5e4-c92b3646719a",
    "id": "2de6bc2f"
   },
   "source": [
    "## Обучение модели CATBOOST"
   ]
  },
  {
   "cell_type": "code",
   "execution_count": 33,
   "id": "0da24762",
   "metadata": {
    "cellId": "jtj8obwfsnwofx6yn46j",
    "id": "9ac67092"
   },
   "outputs": [
    {
     "name": "stdout",
     "output_type": "stream",
     "text": [
      "Accurancy: 0.5893333333333334\n",
      "ROC AUC: 0.6196302222222223\n",
      "Полнота: 0.5853333333333334\n",
      "Точность: 0.5900537634408602\n",
      "\n",
      "\n",
      "confusion matrix for CAT BOOST\n",
      "CPU times: user 7min 25s, sys: 7.71 s, total: 7min 33s\n",
      "Wall time: 2min 8s\n"
     ]
    },
    {
     "data": {
      "image/png": "[encoded data removed]",
      "text/plain": [
       "<Figure size 432x288 with 2 Axes>"
      ]
     },
     "metadata": {
      "needs_background": "light"
     },
     "output_type": "display_data"
    }
   ],
   "source": [
    "%%time\n",
    "cc = CatBoostClassifier(silent=True, thread_count = -1)\n",
    "model12=cc.fit(features_train, labels_train)\n",
    "\n",
    "predictions = model12.predict(features_valid)\n",
    "\n",
    "ccpred = cc.predict(features_valid)\n",
    "probabilities_valid_сс = model12.predict_proba(features_valid)\n",
    "probabilities_one_valid_сс = probabilities_valid_сс[:, 1]\n",
    "roc_auc_cat = roc_auc_score(labels_valid, probabilities_one_valid_сс)\n",
    "rec_cat = recall_score(labels_valid, predictions)\n",
    "prec_cat = precision_score(labels_valid, predictions)  \n",
    "result = accuracy_score(labels_valid, predictions)\n",
    "\n",
    "print('Accurancy:', result)\n",
    "print('ROC AUC:', roc_auc_cat)\n",
    "print('Полнота:', rec_cat)\n",
    "print('Точность:', prec_cat)\n",
    "\n",
    "print(\"\\n\")\n",
    "print(\"confusion matrix for CAT BOOST\")\n",
    "displr = plot_confusion_matrix(cc, features_valid, labels_valid,cmap=plt.cm.OrRd , values_format='d')"
   ]
  },
  {
   "cell_type": "code",
   "execution_count": null,
   "id": "9011688b",
   "metadata": {
    "cellId": "ylpcpb489bbvm59jkz8x7s"
   },
   "outputs": [],
   "source": []
  },
  {
   "cell_type": "markdown",
   "id": "e1759d10",
   "metadata": {
    "cellId": "0q9cyj98bg1k517boq1uf",
    "execution_id": "004b4d95-bdca-48f7-b0d4-800ddc609beb"
   },
   "source": [
    "## Обучение логистической регрессии"
   ]
  },
  {
   "cell_type": "code",
   "execution_count": 34,
   "id": "e6a19dc7",
   "metadata": {
    "cellId": "jtkatgc89lhv8bhe7j31la",
    "id": "b40cdd0a"
   },
   "outputs": [
    {
     "name": "stdout",
     "output_type": "stream",
     "text": [
      "0.5913333333333334\n"
     ]
    }
   ],
   "source": [
    "lr_clf = LogisticRegression()\n",
    "model_log = lr_clf.fit(features_train, labels_train)\n",
    "predictions_log = model_log.predict(features_valid)\n",
    "print(accuracy_score(labels_valid, predictions_log))"
   ]
  },
  {
   "cell_type": "code",
   "execution_count": 54,
   "id": "c08b6e3f",
   "metadata": {
    "cellId": "b93x5t94hkwey3ojcxpfsl",
    "id": "f8f499e0"
   },
   "outputs": [
    {
     "data": {
      "text/plain": [
       "0.4886666666666667"
      ]
     },
     "execution_count": 54,
     "metadata": {},
     "output_type": "execute_result"
    }
   ],
   "source": [
    "sum(predictions_log)/len(predictions_log)"
   ]
  },
  {
   "cell_type": "code",
   "execution_count": 36,
   "id": "8329cf40",
   "metadata": {
    "cellId": "ban2a4adwm0jfp976gdkb",
    "id": "41662910"
   },
   "outputs": [
    {
     "name": "stdout",
     "output_type": "stream",
     "text": [
      "Dummy classifier score: 0.507 (+/- 0.02)\n"
     ]
    }
   ],
   "source": [
    "from sklearn.dummy import DummyClassifier\n",
    "clf = DummyClassifier()\n",
    "\n",
    "scores = cross_val_score(clf, features_train, labels_train)\n",
    "print(\"Dummy classifier score: %0.3f (+/- %0.2f)\" % (scores.mean(), scores.std() * 2))"
   ]
  },
  {
   "cell_type": "markdown",
   "id": "e5943d9b",
   "metadata": {
    "cellId": "c1pzqcv1hnn9iakv4k7qci",
    "execution_id": "8af2c798-fbd4-4068-adc3-6e13355bed8d"
   },
   "source": [
    "## GridSearchCV"
   ]
  },
  {
   "cell_type": "code",
   "execution_count": 37,
   "id": "45ab52a9",
   "metadata": {
    "cellId": "qbnxizndd7jz3t8qcpkido"
   },
   "outputs": [],
   "source": [
    "from sklearn.model_selection import GridSearchCV"
   ]
  },
  {
   "cell_type": "code",
   "execution_count": 38,
   "id": "156da176",
   "metadata": {
    "cellId": "gy5hcai4nlgts1fvrh9ros"
   },
   "outputs": [],
   "source": [
    "parameters = {\n",
    "    'iterations':[50, 90, 120],\n",
    "    'depth':[2, 3, 4],\n",
    "    'learning_rate':[0.2, 0.3, 0.4]    \n",
    "}"
   ]
  },
  {
   "cell_type": "code",
   "execution_count": 39,
   "id": "9e3e16f3",
   "metadata": {
    "cellId": "eha9one9ip8wjxhh0tg4zl"
   },
   "outputs": [
    {
     "name": "stdout",
     "output_type": "stream",
     "text": [
      "CPU times: user 11.2 s, sys: 9.18 s, total: 20.4 s\n",
      "Wall time: 7min 40s\n"
     ]
    },
    {
     "data": {
      "text/plain": [
       "GridSearchCV(cv=6, error_score=nan,\n",
       "             estimator=<catboost.core.CatBoostClassifier object at 0x7f030d625ac0>,\n",
       "             iid='deprecated', n_jobs=-1,\n",
       "             param_grid={'depth': [2, 3, 4], 'iterations': [50, 90, 120],\n",
       "                         'learning_rate': [0.2, 0.3, 0.4]},\n",
       "             pre_dispatch='2*n_jobs', refit=True, return_train_score=False,\n",
       "             scoring=None, verbose=0)"
      ]
     },
     "execution_count": 39,
     "metadata": {},
     "output_type": "execute_result"
    }
   ],
   "source": [
    "%%time\n",
    "cc = CatBoostClassifier(silent=True, thread_count = -1)\n",
    "clf = GridSearchCV(cc, parameters, cv = 6, n_jobs=-1)\n",
    "clf.fit(features_train, labels_train)"
   ]
  },
  {
   "cell_type": "code",
   "execution_count": 40,
   "id": "f92ffe72",
   "metadata": {
    "cellId": "d5fd06dvtme9se23oqcnzt"
   },
   "outputs": [
    {
     "data": {
      "text/plain": [
       "0.5885662648715118"
      ]
     },
     "execution_count": 40,
     "metadata": {},
     "output_type": "execute_result"
    }
   ],
   "source": [
    "clf.best_score_"
   ]
  },
  {
   "cell_type": "code",
   "execution_count": 41,
   "id": "47dd5e24",
   "metadata": {
    "cellId": "a1vbj1ylhuvp7gzy7e5ebf"
   },
   "outputs": [
    {
     "name": "stdout",
     "output_type": "stream",
     "text": [
      "hello\n"
     ]
    }
   ],
   "source": [
    "print('hello')"
   ]
  },
  {
   "cell_type": "code",
   "execution_count": 42,
   "id": "a3365ec6",
   "metadata": {
    "cellId": "6u07cppmtxwl9538191u4m"
   },
   "outputs": [
    {
     "data": {
      "text/plain": [
       "{'depth': 2, 'iterations': 90, 'learning_rate': 0.2}"
      ]
     },
     "execution_count": 42,
     "metadata": {},
     "output_type": "execute_result"
    }
   ],
   "source": [
    "clf.best_params_"
   ]
  },
  {
   "cell_type": "markdown",
   "id": "b22b0423",
   "metadata": {
    "cellId": "zqqkb9gmjzzr08snh85os",
    "execution_id": "993e649d-54f3-4be7-b132-daebe7178b23"
   },
   "source": [
    "## Модель случайного леса"
   ]
  },
  {
   "cell_type": "code",
   "execution_count": 45,
   "id": "23432810",
   "metadata": {
    "cellId": "qy1x7e7cf2me07nxug2saf"
   },
   "outputs": [],
   "source": [
    "from sklearn.ensemble import RandomForestClassifier"
   ]
  },
  {
   "cell_type": "code",
   "execution_count": 47,
   "id": "13c37dce",
   "metadata": {
    "cellId": "91glgjc1r8qr62dk28683"
   },
   "outputs": [
    {
     "name": "stdout",
     "output_type": "stream",
     "text": [
      "Наилучшая n_estimators: 60\n",
      "Наилучшая depth: 15\n",
      "Accurancy  0.592\n",
      "CPU times: user 1h 19min 50s, sys: 40.6 s, total: 1h 20min 31s\n",
      "Wall time: 1h 19min 22s\n"
     ]
    }
   ],
   "source": [
    "%%time\n",
    "best_model_forest = None\n",
    "best = 0\n",
    "best_est = 0\n",
    "best_dep = 0\n",
    "for est in range(1, 100):\n",
    "    for depth in range(1, 20):\n",
    "        model_forest = RandomForestClassifier(random_state=12345, n_estimators=est, max_depth=depth)\n",
    "        # обучите модель с заданным количеством деревьев И ГЛУБИНЫ ДЕРЕВЬЕВ\n",
    "        model_forest.fit(features_train, labels_train) # обучите модель на тренировочной выборке\n",
    "        predictions = model_forest.predict(features_valid)\n",
    "        result = accuracy_score(labels_valid, predictions)\n",
    "        \n",
    "        if result > best:\n",
    "            best_model_forest = model_forest# сохраните наилучшую модель\n",
    "            best = result\n",
    "            best_est = est\n",
    "            best_dep = depth\n",
    "            \n",
    "print(\"Наилучшая n_estimators:\", best_est)\n",
    "print(\"Наилучшая depth:\", best_dep)\n",
    "print(\"Accurancy \", best)"
   ]
  },
  {
   "cell_type": "markdown",
   "id": "5ac33e66",
   "metadata": {
    "cellId": "x3unxamfuoi7rjcdhcwp3m",
    "execution_id": "bd9d49fe-1f7a-457f-bb45-3d355d746e38"
   },
   "source": [
    "Предсказания по тестовым данным лучшей модели"
   ]
  },
  {
   "cell_type": "code",
   "execution_count": 48,
   "id": "71bc69dd",
   "metadata": {
    "cellId": "hvumobswy7e43t84ya60me"
   },
   "outputs": [],
   "source": [
    "predictions = best_model_forest.predict(features_test)"
   ]
  },
  {
   "cell_type": "code",
   "execution_count": 53,
   "id": "5d532e59",
   "metadata": {
    "cellId": "754clo1jbsh3l8934tdyvi"
   },
   "outputs": [
    {
     "data": {
      "text/plain": [
       "0.4623333333333333"
      ]
     },
     "execution_count": 53,
     "metadata": {},
     "output_type": "execute_result"
    }
   ],
   "source": [
    "sum(predictions)/len(predictions)"
   ]
  },
  {
   "cell_type": "code",
   "execution_count": 50,
   "id": "bf9058ca",
   "metadata": {
    "cellId": "igrv4ck188p133igx9sxjui"
   },
   "outputs": [],
   "source": [
    "test['positive'] = predictions"
   ]
  },
  {
   "cell_type": "code",
   "execution_count": 51,
   "id": "6aa392a4",
   "metadata": {
    "cellId": "kfj7h1dv58o6lonud5rc"
   },
   "outputs": [
    {
     "data": {
      "text/html": [
       "<div>\n",
       "<style scoped>\n",
       "    .dataframe tbody tr th:only-of-type {\n",
       "        vertical-align: middle;\n",
       "    }\n",
       "\n",
       "    .dataframe tbody tr th {\n",
       "        vertical-align: top;\n",
       "    }\n",
       "\n",
       "    .dataframe thead th {\n",
       "        text-align: right;\n",
       "    }\n",
       "</style>\n",
       "<table border=\"1\" class=\"dataframe\">\n",
       "  <thead>\n",
       "    <tr style=\"text-align: right;\">\n",
       "      <th></th>\n",
       "      <th>text</th>\n",
       "      <th>lemm_text</th>\n",
       "      <th>positive</th>\n",
       "    </tr>\n",
       "  </thead>\n",
       "  <tbody>\n",
       "    <tr>\n",
       "      <th>0</th>\n",
       "      <td>RT @tiredfennel: если криса так интересуют дет...</td>\n",
       "      <td>если крис так интересовать ребёнок то либо они...</td>\n",
       "      <td>0</td>\n",
       "    </tr>\n",
       "    <tr>\n",
       "      <th>1</th>\n",
       "      <td>@xsealord по 200 руб. в месяц можно разместить...</td>\n",
       "      <td>по рубль в месяц можно разместить ссылка на те...</td>\n",
       "      <td>1</td>\n",
       "    </tr>\n",
       "    <tr>\n",
       "      <th>2</th>\n",
       "      <td>@haosANDlaw @Etishkindyx учитывая, что сейчас ...</td>\n",
       "      <td>учитывать что сейчас преобладать один половина...</td>\n",
       "      <td>1</td>\n",
       "    </tr>\n",
       "    <tr>\n",
       "      <th>3</th>\n",
       "      <td>Товарищ    :) Но я никак не могу отдельно не о...</td>\n",
       "      <td>товарищ но я никак не мочь отдельно не отметит...</td>\n",
       "      <td>1</td>\n",
       "    </tr>\n",
       "    <tr>\n",
       "      <th>4</th>\n",
       "      <td>RT @BodyaNick: Квн был отличный !) Оооочень по...</td>\n",
       "      <td>квн быть отличный оооочень понравиться женский...</td>\n",
       "      <td>1</td>\n",
       "    </tr>\n",
       "    <tr>\n",
       "      <th>...</th>\n",
       "      <td>...</td>\n",
       "      <td>...</td>\n",
       "      <td>...</td>\n",
       "    </tr>\n",
       "    <tr>\n",
       "      <th>2995</th>\n",
       "      <td>жуйк, ачивки в контре — зло! мой младший брат ...</td>\n",
       "      <td>жуйк ачивка в контра зло мой младший брат втян...</td>\n",
       "      <td>0</td>\n",
       "    </tr>\n",
       "    <tr>\n",
       "      <th>2996</th>\n",
       "      <td>Не хочу идти на танцы :( http://t.co/5OdPjbYXOC</td>\n",
       "      <td>не хотеть идти на танец</td>\n",
       "      <td>0</td>\n",
       "    </tr>\n",
       "    <tr>\n",
       "      <th>2997</th>\n",
       "      <td>На улице пусто!ни людей,ни машин,наверно холод...</td>\n",
       "      <td>на улица пусто ни человек ни машина наверно хо...</td>\n",
       "      <td>0</td>\n",
       "    </tr>\n",
       "    <tr>\n",
       "      <th>2998</th>\n",
       "      <td>По-моему мы и ходили за водкой в три часа за э...</td>\n",
       "      <td>по мой мы и ходить за водка в три час за это ч...</td>\n",
       "      <td>0</td>\n",
       "    </tr>\n",
       "    <tr>\n",
       "      <th>2999</th>\n",
       "      <td>Р.В сказал,что с утра будет самостоятельная,ну...</td>\n",
       "      <td>р в сказать что с утро быть самостоятельный ну...</td>\n",
       "      <td>1</td>\n",
       "    </tr>\n",
       "  </tbody>\n",
       "</table>\n",
       "<p>3000 rows × 3 columns</p>\n",
       "</div>"
      ],
      "text/plain": [
       "                                                   text  \\\n",
       "0     RT @tiredfennel: если криса так интересуют дет...   \n",
       "1     @xsealord по 200 руб. в месяц можно разместить...   \n",
       "2     @haosANDlaw @Etishkindyx учитывая, что сейчас ...   \n",
       "3     Товарищ    :) Но я никак не могу отдельно не о...   \n",
       "4     RT @BodyaNick: Квн был отличный !) Оооочень по...   \n",
       "...                                                 ...   \n",
       "2995  жуйк, ачивки в контре — зло! мой младший брат ...   \n",
       "2996    Не хочу идти на танцы :( http://t.co/5OdPjbYXOC   \n",
       "2997  На улице пусто!ни людей,ни машин,наверно холод...   \n",
       "2998  По-моему мы и ходили за водкой в три часа за э...   \n",
       "2999  Р.В сказал,что с утра будет самостоятельная,ну...   \n",
       "\n",
       "                                              lemm_text  positive  \n",
       "0     если крис так интересовать ребёнок то либо они...         0  \n",
       "1     по рубль в месяц можно разместить ссылка на те...         1  \n",
       "2     учитывать что сейчас преобладать один половина...         1  \n",
       "3     товарищ но я никак не мочь отдельно не отметит...         1  \n",
       "4     квн быть отличный оооочень понравиться женский...         1  \n",
       "...                                                 ...       ...  \n",
       "2995  жуйк ачивка в контра зло мой младший брат втян...         0  \n",
       "2996                           не хотеть идти на танец          0  \n",
       "2997  на улица пусто ни человек ни машина наверно хо...         0  \n",
       "2998  по мой мы и ходить за водка в три час за это ч...         0  \n",
       "2999  р в сказать что с утро быть самостоятельный ну...         1  \n",
       "\n",
       "[3000 rows x 3 columns]"
      ]
     },
     "execution_count": 51,
     "metadata": {},
     "output_type": "execute_result"
    }
   ],
   "source": [
    "test"
   ]
  },
  {
   "cell_type": "code",
   "execution_count": 52,
   "id": "6aec3e18",
   "metadata": {
    "cellId": "wwck9podmt7gue0byrju0p"
   },
   "outputs": [],
   "source": [
    "test.to_csv(\"./predictions\",index=False)"
   ]
  },
  {
   "cell_type": "code",
   "execution_count": null,
   "id": "bc161397",
   "metadata": {
    "cellId": "uvpsgmqqxwkkrj5krk3xk",
    "id": "44c96282"
   },
   "outputs": [],
   "source": []
  },
  {
   "cell_type": "code",
   "execution_count": null,
   "id": "0f886dcb",
   "metadata": {
    "cellId": "kyq3z4tlun9b60v3tr9wk9",
    "id": "02dbf8f9"
   },
   "outputs": [],
   "source": []
  }
 ],
 "metadata": {
  "accelerator": "GPU",
  "colab": {
   "collapsed_sections": [
    "09dac631"
   ],
   "provenance": []
  },
  "gpuClass": "standard",
  "kernelspec": {
   "display_name": "Python 3 (ipykernel)",
   "language": "python",
   "name": "python3"
  },
  "language_info": {
   "codemirror_mode": {
    "name": "ipython",
    "version": 3
   },
   "file_extension": ".py",
   "mimetype": "text/x-python",
   "name": "python",
   "nbconvert_exporter": "python",
   "pygments_lexer": "ipython3",
   "version": "3.8.13"
  },
  "notebookId": "71d6dab8-0a26-4c2e-9f65-65e8bc6c3f27",
  "notebookPath": "17_tweets_lemm_colab.ipynb",
  "toc": {
   "base_numbering": 1,
   "nav_menu": {},
   "number_sections": true,
   "sideBar": true,
   "skip_h1_title": false,
   "title_cell": "Table of Contents",
   "title_sidebar": "Contents",
   "toc_cell": false,
   "toc_position": {},
   "toc_section_display": true,
   "toc_window_display": true
  }
 },
 "nbformat": 4,
 "nbformat_minor": 5
}
