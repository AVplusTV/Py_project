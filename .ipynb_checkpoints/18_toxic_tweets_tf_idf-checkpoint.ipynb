{
 "cells": [
  {
   "cell_type": "markdown",
   "id": "911de89b",
   "metadata": {
    "toc": true
   },
   "source": [
    "<h1>Table of Contents<span class=\"tocSkip\"></span></h1>\n",
    "<div class=\"toc\"><ul class=\"toc-item\"><li><span><a href=\"#Формулировка-задачи\" data-toc-modified-id=\"Формулировка-задачи-1\"><span class=\"toc-item-num\">1&nbsp;&nbsp;</span>Формулировка задачи</a></span></li><li><span><a href=\"#Загрузим-необходимые-модули\" data-toc-modified-id=\"Загрузим-необходимые-модули-2\"><span class=\"toc-item-num\">2&nbsp;&nbsp;</span>Загрузим необходимые модули</a></span></li><li><span><a href=\"#Загрузим-и-проанализируем-данные\" data-toc-modified-id=\"Загрузим-и-проанализируем-данные-3\"><span class=\"toc-item-num\">3&nbsp;&nbsp;</span>Загрузим и проанализируем данные</a></span><ul class=\"toc-item\"><li><span><a href=\"#Открываем-файл-с-данными-и-анализируем-содержимое\" data-toc-modified-id=\"Открываем-файл-с-данными-и-анализируем-содержимое-3.1\"><span class=\"toc-item-num\">3.1&nbsp;&nbsp;</span>Открываем файл с данными и анализируем содержимое</a></span></li><li><span><a href=\"#Балланс-классов\" data-toc-modified-id=\"Балланс-классов-3.2\"><span class=\"toc-item-num\">3.2&nbsp;&nbsp;</span>Балланс классов</a></span></li><li><span><a href=\"#Выводы:\" data-toc-modified-id=\"Выводы:-3.3\"><span class=\"toc-item-num\">3.3&nbsp;&nbsp;</span>Выводы:</a></span></li></ul></li><li><span><a href=\"#Подготовка-данных-c-применением-метода-TF_IDF\" data-toc-modified-id=\"Подготовка-данных-c-применением-метода-TF_IDF-4\"><span class=\"toc-item-num\">4&nbsp;&nbsp;</span>Подготовка данных c применением метода TF_IDF</a></span><ul class=\"toc-item\"><li><span><a href=\"#Лемматизация-текста\" data-toc-modified-id=\"Лемматизация-текста-4.1\"><span class=\"toc-item-num\">4.1&nbsp;&nbsp;</span>Лемматизация текста</a></span></li><li><span><a href=\"#Очистка-текста\" data-toc-modified-id=\"Очистка-текста-4.2\"><span class=\"toc-item-num\">4.2&nbsp;&nbsp;</span>Очистка текста</a></span></li><li><span><a href=\"#Разделение-таблицы-на-выборки\" data-toc-modified-id=\"Разделение-таблицы-на-выборки-4.3\"><span class=\"toc-item-num\">4.3&nbsp;&nbsp;</span>Разделение таблицы на выборки</a></span></li><li><span><a href=\"#Выделение-целевых-признаков-для-тренировочной-и-валидационной-выборки\" data-toc-modified-id=\"Выделение-целевых-признаков-для-тренировочной-и-валидационной-выборки-4.4\"><span class=\"toc-item-num\">4.4&nbsp;&nbsp;</span>Выделение целевых признаков для тренировочной и валидационной выборки</a></span></li><li><span><a href=\"#Изменение-балланса-классов-тренировочной-выборки-для-повышения-полноты-предсказаний\" data-toc-modified-id=\"Изменение-балланса-классов-тренировочной-выборки-для-повышения-полноты-предсказаний-4.5\"><span class=\"toc-item-num\">4.5&nbsp;&nbsp;</span>Изменение балланса классов тренировочной выборки для повышения полноты предсказаний</a></span></li><li><span><a href=\"#Векторизация-данных\" data-toc-modified-id=\"Векторизация-данных-4.6\"><span class=\"toc-item-num\">4.6&nbsp;&nbsp;</span>Векторизация данных</a></span></li></ul></li><li><span><a href=\"#Обучение-логистической-регрессии\" data-toc-modified-id=\"Обучение-логистической-регрессии-5\"><span class=\"toc-item-num\">5&nbsp;&nbsp;</span>Обучение логистической регрессии</a></span></li><li><span><a href=\"#Проверим-на-тестовой-выборке,-для-полной-уверенности\" data-toc-modified-id=\"Проверим-на-тестовой-выборке,-для-полной-уверенности-6\"><span class=\"toc-item-num\">6&nbsp;&nbsp;</span>Проверим на тестовой выборке, для полной уверенности</a></span></li><li><span><a href=\"#ROC-кривая\" data-toc-modified-id=\"ROC-кривая-7\"><span class=\"toc-item-num\">7&nbsp;&nbsp;</span>ROC кривая</a></span></li><li><span><a href=\"#Матрица-ошибок\" data-toc-modified-id=\"Матрица-ошибок-8\"><span class=\"toc-item-num\">8&nbsp;&nbsp;</span>Матрица ошибок</a></span></li><li><span><a href=\"#Выводы-и-результаты-применения-TF_IDF\" data-toc-modified-id=\"Выводы-и-результаты-применения-TF_IDF-9\"><span class=\"toc-item-num\">9&nbsp;&nbsp;</span>Выводы и результаты применения TF_IDF</a></span></li></ul></div>"
   ]
  },
  {
   "cell_type": "markdown",
   "id": "74603dc0",
   "metadata": {
    "cellId": "uxhlnqt76fdi1se92zm2",
    "execution_id": "5485db79-14c4-4ce4-a370-318a215c199b",
    "id": "8eab17ed"
   },
   "source": [
    "## Формулировка задачи\n"
   ]
  },
  {
   "cell_type": "markdown",
   "id": "c39a4d94",
   "metadata": {
    "cellId": "pzn2gdvb5njrtpk754xra",
    "execution_id": "9f52f366-62b1-4be4-981a-23544cbb24ca",
    "id": "2729cc18"
   },
   "source": [
    "Интернет-магазин «Викишоп» запускает новый сервис.\n",
    "\n",
    "Теперь пользователи могут редактировать и дополнять описания товаров, как в вики-сообществах. То есть клиенты предлагают свои правки и комментируют изменения других. Магазину нужен инструмент, который будет искать токсичные комментарии и отправлять их на модерацию.\n",
    "\n",
    "\n",
    "Обучите модель классифицировать комментарии на позитивные и негативные. В вашем распоряжении набор данных с разметкой о токсичности правок.\n",
    "\n",
    "\n",
    "Постройте модель со значением метрики качества F1 не меньше 0.75."
   ]
  },
  {
   "cell_type": "markdown",
   "id": "bd70808f",
   "metadata": {
    "cellId": "wqk6wp11dr0pyimcnk9jo",
    "execution_id": "66290a10-3c7c-439d-b50f-ae7023f9576d",
    "id": "788e24b8"
   },
   "source": [
    "## Загрузим необходимые модули"
   ]
  },
  {
   "cell_type": "code",
   "execution_count": 1,
   "id": "3520bc4a",
   "metadata": {
    "cellId": "8l5f6vp6fi6r8sq6u3nt",
    "id": "d4576d3c"
   },
   "outputs": [
    {
     "name": "stderr",
     "output_type": "stream",
     "text": [
      "C:\\Users\\AVplusTV\\.conda\\envs\\notebook\\lib\\site-packages\\tqdm\\auto.py:22: TqdmWarning: IProgress not found. Please update jupyter and ipywidgets. See https://ipywidgets.readthedocs.io/en/stable/user_install.html\n",
      "  from .autonotebook import tqdm as notebook_tqdm\n",
      "[nltk_data] Downloading package wordnet to\n",
      "[nltk_data]     C:\\Users\\AVplusTV\\AppData\\Roaming\\nltk_data...\n",
      "[nltk_data]   Package wordnet is already up-to-date!\n",
      "[nltk_data] Downloading package stopwords to\n",
      "[nltk_data]     C:\\Users\\AVplusTV\\AppData\\Roaming\\nltk_data...\n",
      "[nltk_data]   Package stopwords is already up-to-date!\n",
      "[nltk_data] Downloading package omw-1.4 to\n",
      "[nltk_data]     C:\\Users\\AVplusTV\\AppData\\Roaming\\nltk_data...\n",
      "[nltk_data]   Package omw-1.4 is already up-to-date!\n"
     ]
    }
   ],
   "source": [
    "import pandas as pd\n",
    "import matplotlib.pyplot as plt\n",
    "from catboost import CatBoostClassifier\n",
    "from sklearn.metrics import plot_confusion_matrix\n",
    "import numpy as np\n",
    "from pymystem3 import Mystem\n",
    "from nltk.stem import WordNetLemmatizer\n",
    "from sklearn.model_selection import train_test_split\n",
    "from sklearn.linear_model import LogisticRegression\n",
    "from sklearn.model_selection import GridSearchCV\n",
    "from sklearn.model_selection import cross_val_score\n",
    "from sklearn.metrics import accuracy_score\n",
    "from sklearn.metrics import f1_score \n",
    "from sklearn.metrics import roc_auc_score\n",
    "from sklearn.metrics import recall_score\n",
    "from sklearn.metrics import precision_score\n",
    "import torch\n",
    "import transformers as ppb\n",
    "import warnings\n",
    "warnings.filterwarnings('ignore')\n",
    "\n",
    "from sklearn.feature_extraction.text import CountVectorizer \n",
    "from nltk.corpus import stopwords\n",
    "import nltk\n",
    "import nltk.corpus\n",
    "nltk.download('wordnet')\n",
    "nltk.download('stopwords')\n",
    "nltk.download('omw-1.4')\n",
    "from sklearn.feature_extraction.text import TfidfVectorizer "
   ]
  },
  {
   "cell_type": "markdown",
   "id": "b1d5d6f5",
   "metadata": {
    "cellId": "dprg5i7i546mywjnaposwd",
    "execution_id": "81fcf444-0c38-49f0-aed1-8152efae1671",
    "id": "8a5db2ae"
   },
   "source": [
    "## Загрузим и проанализируем данные"
   ]
  },
  {
   "cell_type": "markdown",
   "id": "819df05f",
   "metadata": {
    "cellId": "r7dw762jcdile3uk467o",
    "execution_id": "112456f8-4b69-4960-b60b-3e7734de0247",
    "id": "083d7fbe"
   },
   "source": [
    "### Открываем файл с данными и анализируем содержимое"
   ]
  },
  {
   "cell_type": "markdown",
   "id": "b564900d",
   "metadata": {
    "cellId": "dnzfz563d1spvrac2j74e",
    "execution_id": "e233a5f7-e09f-4cac-abbb-d8b31332b862",
    "id": "0b7bd432"
   },
   "source": [
    "Функция для чтения файла в таблицу с учетом возможности работы на разных платформах и заодно исследование данных в таблицах:"
   ]
  },
  {
   "cell_type": "code",
   "execution_count": 2,
   "id": "918329c3",
   "metadata": {
    "cellId": "kb48qrxbhtnps5y3xbs39p",
    "id": "62d37539"
   },
   "outputs": [],
   "source": [
    "def read_csv(link):\n",
    "    link1 = 'datasets/' + link\n",
    "    link2 = '/datasets/' + link\n",
    "    try:\n",
    "        name_link = pd.read_csv(link1)\n",
    "    except:\n",
    "        name_link = pd.read_csv(link2)\n",
    "    display(name_link.head()) #просмотрим сразу первые пять строк\n",
    "    display(name_link.info()) #просмотрим информацию    \n",
    "    display(name_link.nunique()) # посчитаем уникальные значения\n",
    "    display(name_link.columns) #проверим имена столбцов\n",
    "    display('Количество явных дубликатов:', name_link.duplicated().sum()) #проверка на явные дубликаты\n",
    "    \n",
    "    return name_link"
   ]
  },
  {
   "cell_type": "code",
   "execution_count": 3,
   "id": "f5cc348e",
   "metadata": {
    "cellId": "ia2puvvpdcq0ay4t1j43b",
    "colab": {
     "base_uri": "https://localhost:8080/",
     "height": 424
    },
    "id": "ed032800",
    "outputId": "b52a37b5-f263-414d-eb73-cf05cb56dcfa"
   },
   "outputs": [
    {
     "data": {
      "text/html": [
       "<div>\n",
       "<style scoped>\n",
       "    .dataframe tbody tr th:only-of-type {\n",
       "        vertical-align: middle;\n",
       "    }\n",
       "\n",
       "    .dataframe tbody tr th {\n",
       "        vertical-align: top;\n",
       "    }\n",
       "\n",
       "    .dataframe thead th {\n",
       "        text-align: right;\n",
       "    }\n",
       "</style>\n",
       "<table border=\"1\" class=\"dataframe\">\n",
       "  <thead>\n",
       "    <tr style=\"text-align: right;\">\n",
       "      <th></th>\n",
       "      <th>Unnamed: 0</th>\n",
       "      <th>text</th>\n",
       "      <th>toxic</th>\n",
       "    </tr>\n",
       "  </thead>\n",
       "  <tbody>\n",
       "    <tr>\n",
       "      <th>0</th>\n",
       "      <td>0</td>\n",
       "      <td>Explanation\\nWhy the edits made under my usern...</td>\n",
       "      <td>0</td>\n",
       "    </tr>\n",
       "    <tr>\n",
       "      <th>1</th>\n",
       "      <td>1</td>\n",
       "      <td>D'aww! He matches this background colour I'm s...</td>\n",
       "      <td>0</td>\n",
       "    </tr>\n",
       "    <tr>\n",
       "      <th>2</th>\n",
       "      <td>2</td>\n",
       "      <td>Hey man, I'm really not trying to edit war. It...</td>\n",
       "      <td>0</td>\n",
       "    </tr>\n",
       "    <tr>\n",
       "      <th>3</th>\n",
       "      <td>3</td>\n",
       "      <td>\"\\nMore\\nI can't make any real suggestions on ...</td>\n",
       "      <td>0</td>\n",
       "    </tr>\n",
       "    <tr>\n",
       "      <th>4</th>\n",
       "      <td>4</td>\n",
       "      <td>You, sir, are my hero. Any chance you remember...</td>\n",
       "      <td>0</td>\n",
       "    </tr>\n",
       "  </tbody>\n",
       "</table>\n",
       "</div>"
      ],
      "text/plain": [
       "   Unnamed: 0                                               text  toxic\n",
       "0           0  Explanation\\nWhy the edits made under my usern...      0\n",
       "1           1  D'aww! He matches this background colour I'm s...      0\n",
       "2           2  Hey man, I'm really not trying to edit war. It...      0\n",
       "3           3  \"\\nMore\\nI can't make any real suggestions on ...      0\n",
       "4           4  You, sir, are my hero. Any chance you remember...      0"
      ]
     },
     "metadata": {},
     "output_type": "display_data"
    },
    {
     "name": "stdout",
     "output_type": "stream",
     "text": [
      "<class 'pandas.core.frame.DataFrame'>\n",
      "RangeIndex: 159292 entries, 0 to 159291\n",
      "Data columns (total 3 columns):\n",
      " #   Column      Non-Null Count   Dtype \n",
      "---  ------      --------------   ----- \n",
      " 0   Unnamed: 0  159292 non-null  int64 \n",
      " 1   text        159292 non-null  object\n",
      " 2   toxic       159292 non-null  int64 \n",
      "dtypes: int64(2), object(1)\n",
      "memory usage: 3.6+ MB\n"
     ]
    },
    {
     "data": {
      "text/plain": [
       "None"
      ]
     },
     "metadata": {},
     "output_type": "display_data"
    },
    {
     "data": {
      "text/plain": [
       "Unnamed: 0    159292\n",
       "text          159292\n",
       "toxic              2\n",
       "dtype: int64"
      ]
     },
     "metadata": {},
     "output_type": "display_data"
    },
    {
     "data": {
      "text/plain": [
       "Index(['Unnamed: 0', 'text', 'toxic'], dtype='object')"
      ]
     },
     "metadata": {},
     "output_type": "display_data"
    },
    {
     "data": {
      "text/plain": [
       "'Количество явных дубликатов:'"
      ]
     },
     "metadata": {},
     "output_type": "display_data"
    },
    {
     "data": {
      "text/plain": [
       "0"
      ]
     },
     "metadata": {},
     "output_type": "display_data"
    }
   ],
   "source": [
    "df = read_csv('toxic_comments.csv')"
   ]
  },
  {
   "cell_type": "markdown",
   "id": "c18a9e1a",
   "metadata": {
    "cellId": "nm15sidmj2lewzz3gf6c",
    "execution_id": "552e169b-5d97-4172-b6f7-731d2f65a642",
    "id": "a7d94ba9"
   },
   "source": [
    "### Балланс классов"
   ]
  },
  {
   "cell_type": "code",
   "execution_count": 4,
   "id": "0265af6d",
   "metadata": {
    "cellId": "13nx80uupa5h288tdxa7qh",
    "colab": {
     "base_uri": "https://localhost:8080/"
    },
    "id": "30db66b4",
    "outputId": "52e35c7e-074e-4898-c341-781c31967857"
   },
   "outputs": [
    {
     "data": {
      "text/plain": [
       "0    89.838787\n",
       "1    10.161213\n",
       "Name: toxic, dtype: float64"
      ]
     },
     "execution_count": 4,
     "metadata": {},
     "output_type": "execute_result"
    }
   ],
   "source": [
    "df['toxic'].value_counts(normalize=True)*100"
   ]
  },
  {
   "cell_type": "markdown",
   "id": "00e4ca6c",
   "metadata": {},
   "source": [
    "Удалим лишний столбец"
   ]
  },
  {
   "cell_type": "code",
   "execution_count": 5,
   "id": "587dbace",
   "metadata": {},
   "outputs": [],
   "source": [
    "df = df.drop(['Unnamed: 0'], axis=1)"
   ]
  },
  {
   "cell_type": "markdown",
   "id": "ca5a8236",
   "metadata": {
    "cellId": "dv1mw9pz36fowxhjd5hxk",
    "execution_id": "854fe68c-adeb-4f3a-a187-1f08b52a5f68",
    "id": "09dac631"
   },
   "source": [
    " ### Выводы:\n",
    " \n",
    " \n",
    "* содержание файлов соответствует задаче, пропусков нет\n",
    "\n",
    "* необходимо провести лемматизацию и очистку теста и далее векторизацию\n",
    "\n",
    "* Данные дисбалансированны в сторону 0, поэтому предсказания моделей скорее всего будут так же еще сильнее дисбалансится в больший ноль. Понадобится балансировка классов"
   ]
  },
  {
   "cell_type": "markdown",
   "id": "57723da4",
   "metadata": {
    "cellId": "sm1ztk6p9xlhtt70t2mey6",
    "execution_id": "d6a6ee9c-9354-4b92-a5a1-4ade3741c215",
    "id": "e8e411d6"
   },
   "source": [
    "## Подготовка данных c применением метода TF_IDF"
   ]
  },
  {
   "cell_type": "markdown",
   "id": "e76631df",
   "metadata": {},
   "source": [
    "### Лемматизация текста\n"
   ]
  },
  {
   "cell_type": "markdown",
   "id": "28603928",
   "metadata": {},
   "source": [
    "Функция лемматизации текста"
   ]
  },
  {
   "cell_type": "code",
   "execution_count": 6,
   "id": "d534f79a",
   "metadata": {},
   "outputs": [],
   "source": [
    "lemmatizer = WordNetLemmatizer()"
   ]
  },
  {
   "cell_type": "code",
   "execution_count": 7,
   "id": "07a7e316",
   "metadata": {},
   "outputs": [
    {
     "name": "stdout",
     "output_type": "stream",
     "text": [
      "CPU times: total: 1min 29s\n",
      "Wall time: 1min 29s\n"
     ]
    }
   ],
   "source": [
    "%%time\n",
    "def df_lemmatize(row):\n",
    "    row.at['lemma_words'] = \" \".join([lemmatizer.lemmatize(w,pos='a') for w in row['text'].split()])\n",
    "    return row\n",
    "    \n",
    "df = df.apply(df_lemmatize, axis=1)  "
   ]
  },
  {
   "cell_type": "code",
   "execution_count": 8,
   "id": "06a247a8",
   "metadata": {},
   "outputs": [
    {
     "data": {
      "text/html": [
       "<div>\n",
       "<style scoped>\n",
       "    .dataframe tbody tr th:only-of-type {\n",
       "        vertical-align: middle;\n",
       "    }\n",
       "\n",
       "    .dataframe tbody tr th {\n",
       "        vertical-align: top;\n",
       "    }\n",
       "\n",
       "    .dataframe thead th {\n",
       "        text-align: right;\n",
       "    }\n",
       "</style>\n",
       "<table border=\"1\" class=\"dataframe\">\n",
       "  <thead>\n",
       "    <tr style=\"text-align: right;\">\n",
       "      <th></th>\n",
       "      <th>text</th>\n",
       "      <th>toxic</th>\n",
       "      <th>lemma_words</th>\n",
       "    </tr>\n",
       "  </thead>\n",
       "  <tbody>\n",
       "    <tr>\n",
       "      <th>0</th>\n",
       "      <td>Explanation\\nWhy the edits made under my usern...</td>\n",
       "      <td>0</td>\n",
       "      <td>Explanation Why the edits made under my userna...</td>\n",
       "    </tr>\n",
       "    <tr>\n",
       "      <th>1</th>\n",
       "      <td>D'aww! He matches this background colour I'm s...</td>\n",
       "      <td>0</td>\n",
       "      <td>D'aww! He matches this background colour I'm s...</td>\n",
       "    </tr>\n",
       "    <tr>\n",
       "      <th>2</th>\n",
       "      <td>Hey man, I'm really not trying to edit war. It...</td>\n",
       "      <td>0</td>\n",
       "      <td>Hey man, I'm really not trying to edit war. It...</td>\n",
       "    </tr>\n",
       "    <tr>\n",
       "      <th>3</th>\n",
       "      <td>\"\\nMore\\nI can't make any real suggestions on ...</td>\n",
       "      <td>0</td>\n",
       "      <td>\" More I can't make any real suggestions on im...</td>\n",
       "    </tr>\n",
       "    <tr>\n",
       "      <th>4</th>\n",
       "      <td>You, sir, are my hero. Any chance you remember...</td>\n",
       "      <td>0</td>\n",
       "      <td>You, sir, are my hero. Any chance you remember...</td>\n",
       "    </tr>\n",
       "  </tbody>\n",
       "</table>\n",
       "</div>"
      ],
      "text/plain": [
       "                                                text  toxic  \\\n",
       "0  Explanation\\nWhy the edits made under my usern...      0   \n",
       "1  D'aww! He matches this background colour I'm s...      0   \n",
       "2  Hey man, I'm really not trying to edit war. It...      0   \n",
       "3  \"\\nMore\\nI can't make any real suggestions on ...      0   \n",
       "4  You, sir, are my hero. Any chance you remember...      0   \n",
       "\n",
       "                                         lemma_words  \n",
       "0  Explanation Why the edits made under my userna...  \n",
       "1  D'aww! He matches this background colour I'm s...  \n",
       "2  Hey man, I'm really not trying to edit war. It...  \n",
       "3  \" More I can't make any real suggestions on im...  \n",
       "4  You, sir, are my hero. Any chance you remember...  "
      ]
     },
     "execution_count": 8,
     "metadata": {},
     "output_type": "execute_result"
    }
   ],
   "source": [
    "df.head()"
   ]
  },
  {
   "cell_type": "markdown",
   "id": "a6c68854",
   "metadata": {},
   "source": [
    "### Очистка текста"
   ]
  },
  {
   "cell_type": "code",
   "execution_count": 9,
   "id": "dde9eb99",
   "metadata": {},
   "outputs": [],
   "source": [
    "stop_words = stopwords.words('english')\n",
    "\n",
    "df['clean_words'] = df['lemma_words'].apply(lambda x: ' '.join([word for\n",
    "                    word in x.split() if word not in (stop_words)]))"
   ]
  },
  {
   "cell_type": "code",
   "execution_count": 10,
   "id": "d5e26a41",
   "metadata": {},
   "outputs": [
    {
     "data": {
      "text/html": [
       "<div>\n",
       "<style scoped>\n",
       "    .dataframe tbody tr th:only-of-type {\n",
       "        vertical-align: middle;\n",
       "    }\n",
       "\n",
       "    .dataframe tbody tr th {\n",
       "        vertical-align: top;\n",
       "    }\n",
       "\n",
       "    .dataframe thead th {\n",
       "        text-align: right;\n",
       "    }\n",
       "</style>\n",
       "<table border=\"1\" class=\"dataframe\">\n",
       "  <thead>\n",
       "    <tr style=\"text-align: right;\">\n",
       "      <th></th>\n",
       "      <th>text</th>\n",
       "      <th>toxic</th>\n",
       "      <th>lemma_words</th>\n",
       "      <th>clean_words</th>\n",
       "    </tr>\n",
       "  </thead>\n",
       "  <tbody>\n",
       "    <tr>\n",
       "      <th>0</th>\n",
       "      <td>Explanation\\nWhy the edits made under my usern...</td>\n",
       "      <td>0</td>\n",
       "      <td>Explanation Why the edits made under my userna...</td>\n",
       "      <td>Explanation Why edits made username Hardcore M...</td>\n",
       "    </tr>\n",
       "    <tr>\n",
       "      <th>1</th>\n",
       "      <td>D'aww! He matches this background colour I'm s...</td>\n",
       "      <td>0</td>\n",
       "      <td>D'aww! He matches this background colour I'm s...</td>\n",
       "      <td>D'aww! He matches background colour I'm seemin...</td>\n",
       "    </tr>\n",
       "    <tr>\n",
       "      <th>2</th>\n",
       "      <td>Hey man, I'm really not trying to edit war. It...</td>\n",
       "      <td>0</td>\n",
       "      <td>Hey man, I'm really not trying to edit war. It...</td>\n",
       "      <td>Hey man, I'm really trying edit war. It's guy ...</td>\n",
       "    </tr>\n",
       "    <tr>\n",
       "      <th>3</th>\n",
       "      <td>\"\\nMore\\nI can't make any real suggestions on ...</td>\n",
       "      <td>0</td>\n",
       "      <td>\" More I can't make any real suggestions on im...</td>\n",
       "      <td>\" More I can't make real suggestions improveme...</td>\n",
       "    </tr>\n",
       "    <tr>\n",
       "      <th>4</th>\n",
       "      <td>You, sir, are my hero. Any chance you remember...</td>\n",
       "      <td>0</td>\n",
       "      <td>You, sir, are my hero. Any chance you remember...</td>\n",
       "      <td>You, sir, hero. Any chance remember page that'...</td>\n",
       "    </tr>\n",
       "  </tbody>\n",
       "</table>\n",
       "</div>"
      ],
      "text/plain": [
       "                                                text  toxic  \\\n",
       "0  Explanation\\nWhy the edits made under my usern...      0   \n",
       "1  D'aww! He matches this background colour I'm s...      0   \n",
       "2  Hey man, I'm really not trying to edit war. It...      0   \n",
       "3  \"\\nMore\\nI can't make any real suggestions on ...      0   \n",
       "4  You, sir, are my hero. Any chance you remember...      0   \n",
       "\n",
       "                                         lemma_words  \\\n",
       "0  Explanation Why the edits made under my userna...   \n",
       "1  D'aww! He matches this background colour I'm s...   \n",
       "2  Hey man, I'm really not trying to edit war. It...   \n",
       "3  \" More I can't make any real suggestions on im...   \n",
       "4  You, sir, are my hero. Any chance you remember...   \n",
       "\n",
       "                                         clean_words  \n",
       "0  Explanation Why edits made username Hardcore M...  \n",
       "1  D'aww! He matches background colour I'm seemin...  \n",
       "2  Hey man, I'm really trying edit war. It's guy ...  \n",
       "3  \" More I can't make real suggestions improveme...  \n",
       "4  You, sir, hero. Any chance remember page that'...  "
      ]
     },
     "execution_count": 10,
     "metadata": {},
     "output_type": "execute_result"
    }
   ],
   "source": [
    "df.head()"
   ]
  },
  {
   "cell_type": "markdown",
   "id": "0b140766",
   "metadata": {},
   "source": [
    "### Разделение таблицы на выборки"
   ]
  },
  {
   "cell_type": "code",
   "execution_count": 11,
   "id": "6b9b5c3c",
   "metadata": {
    "cellId": "ric0d81xpp1vfsnuy0vbu",
    "id": "e9d103d4"
   },
   "outputs": [],
   "source": [
    "temp, valid = train_test_split(df, stratify=df['toxic'],test_size=0.1,\n",
    "                                   shuffle=True, random_state=12345)"
   ]
  },
  {
   "cell_type": "code",
   "execution_count": 12,
   "id": "dbaaa430",
   "metadata": {},
   "outputs": [],
   "source": [
    "train, test = train_test_split(temp, stratify=temp['toxic'],test_size=0.1,\n",
    "                                   shuffle=True, random_state=12345)"
   ]
  },
  {
   "cell_type": "code",
   "execution_count": 13,
   "id": "eccbca02",
   "metadata": {
    "cellId": "ol8c8rcajdaucdffysvul",
    "colab": {
     "base_uri": "https://localhost:8080/",
     "height": 424
    },
    "id": "e83dde38",
    "outputId": "04ee220f-f7e7-4636-b995-b2a5b75db0f4"
   },
   "outputs": [
    {
     "data": {
      "text/plain": [
       "(129025, 4)"
      ]
     },
     "execution_count": 13,
     "metadata": {},
     "output_type": "execute_result"
    }
   ],
   "source": [
    "train.shape"
   ]
  },
  {
   "cell_type": "code",
   "execution_count": 14,
   "id": "45887a4d",
   "metadata": {
    "cellId": "wm9vleb0vnb1nsyze40l",
    "colab": {
     "base_uri": "https://localhost:8080/"
    },
    "id": "7b930614",
    "outputId": "634e29d2-69f1-4b26-bc57-a0252ba7589e"
   },
   "outputs": [
    {
     "data": {
      "text/plain": [
       "0    89.839178\n",
       "1    10.160822\n",
       "Name: toxic, dtype: float64"
      ]
     },
     "execution_count": 14,
     "metadata": {},
     "output_type": "execute_result"
    }
   ],
   "source": [
    "train['toxic'].value_counts(normalize=True)*100"
   ]
  },
  {
   "cell_type": "code",
   "execution_count": 15,
   "id": "c2614b78",
   "metadata": {
    "cellId": "vpmxf4ffuoeminpdh6ewsb",
    "colab": {
     "base_uri": "https://localhost:8080/"
    },
    "id": "94fd11b2",
    "outputId": "cd1807da-835a-4f8e-e2d5-60a0151b811d",
    "scrolled": true
   },
   "outputs": [
    {
     "data": {
      "text/plain": [
       "(15930, 4)"
      ]
     },
     "execution_count": 15,
     "metadata": {},
     "output_type": "execute_result"
    }
   ],
   "source": [
    "valid.shape"
   ]
  },
  {
   "cell_type": "code",
   "execution_count": 16,
   "id": "0c1b2c0c",
   "metadata": {},
   "outputs": [
    {
     "data": {
      "text/plain": [
       "(14337, 4)"
      ]
     },
     "execution_count": 16,
     "metadata": {},
     "output_type": "execute_result"
    }
   ],
   "source": [
    "test.shape"
   ]
  },
  {
   "cell_type": "markdown",
   "id": "c0652f28",
   "metadata": {
    "cellId": "ozx197iv0g8dxheuxt04nv",
    "execution_id": "62e18f85-03ac-4181-ba1a-5a6f899a6df0"
   },
   "source": [
    "### Выделение целевых признаков для тренировочной и валидационной выборки"
   ]
  },
  {
   "cell_type": "code",
   "execution_count": 17,
   "id": "5ff6ab30",
   "metadata": {},
   "outputs": [
    {
     "data": {
      "text/plain": [
       "10831     0\n",
       "101498    0\n",
       "93397     0\n",
       "36671     0\n",
       "49978     0\n",
       "Name: toxic, dtype: int64"
      ]
     },
     "execution_count": 17,
     "metadata": {},
     "output_type": "execute_result"
    }
   ],
   "source": [
    "y_train = train['toxic']\n",
    "y_train.head()"
   ]
  },
  {
   "cell_type": "code",
   "execution_count": 18,
   "id": "ff6cd4bd",
   "metadata": {
    "cellId": "g4och53ati53cajb6a1fr3",
    "id": "e897dca0"
   },
   "outputs": [
    {
     "data": {
      "text/plain": [
       "149182    1\n",
       "120994    0\n",
       "102071    0\n",
       "114282    0\n",
       "110680    0\n",
       "Name: toxic, dtype: int64"
      ]
     },
     "execution_count": 18,
     "metadata": {},
     "output_type": "execute_result"
    }
   ],
   "source": [
    "y_valid = valid['toxic']\n",
    "y_valid.head()"
   ]
  },
  {
   "cell_type": "code",
   "execution_count": 19,
   "id": "1e9674f0",
   "metadata": {},
   "outputs": [
    {
     "data": {
      "text/plain": [
       "128267    0\n",
       "96052     1\n",
       "9691      0\n",
       "148662    0\n",
       "59423     1\n",
       "Name: toxic, dtype: int64"
      ]
     },
     "execution_count": 19,
     "metadata": {},
     "output_type": "execute_result"
    }
   ],
   "source": [
    "y_test = test['toxic']\n",
    "y_test.head()"
   ]
  },
  {
   "cell_type": "markdown",
   "id": "09923263",
   "metadata": {},
   "source": [
    "### Изменение балланса классов тренировочной выборки для повышения полноты предсказаний"
   ]
  },
  {
   "cell_type": "code",
   "execution_count": 20,
   "id": "6be58e86",
   "metadata": {},
   "outputs": [],
   "source": [
    "from sklearn.utils import shuffle"
   ]
  },
  {
   "cell_type": "code",
   "execution_count": 21,
   "id": "bd4de7dc",
   "metadata": {},
   "outputs": [],
   "source": [
    "def downsample(features, target, fraction):\n",
    "    features_zeros = features[target == 0]\n",
    "    features_ones = features[target == 1]\n",
    "    target_zeros = target[target == 0]\n",
    "    target_ones = target[target == 1]\n",
    "\n",
    "    features_downsampled = pd.concat(\n",
    "        [features_zeros.sample(frac=fraction, random_state=12345)] + [features_ones])\n",
    "    target_downsampled = pd.concat(\n",
    "        [target_zeros.sample(frac=fraction, random_state=12345)] + [target_ones])\n",
    "    \n",
    "    features_downsampled, target_downsampled = shuffle(\n",
    "        features_downsampled, target_downsampled, random_state=12347)\n",
    "    \n",
    "    return features_downsampled, target_downsampled"
   ]
  },
  {
   "cell_type": "code",
   "execution_count": 22,
   "id": "7f019908",
   "metadata": {},
   "outputs": [],
   "source": [
    "train_down, y_train_down = downsample(train, y_train, 0.5)"
   ]
  },
  {
   "cell_type": "code",
   "execution_count": 23,
   "id": "ca669265",
   "metadata": {},
   "outputs": [
    {
     "data": {
      "text/plain": [
       "0    0.815529\n",
       "1    0.184471\n",
       "Name: toxic, dtype: float64"
      ]
     },
     "execution_count": 23,
     "metadata": {},
     "output_type": "execute_result"
    }
   ],
   "source": [
    "y_train_down.value_counts(normalize=True)"
   ]
  },
  {
   "cell_type": "markdown",
   "id": "0bbfe286",
   "metadata": {
    "cellId": "xgzt4q3xm1t59lafhdxxj",
    "execution_id": "1dc49540-4e1e-43e8-ba08-58610ef20c03",
    "id": "f745b1ff"
   },
   "source": [
    "### Векторизация данных"
   ]
  },
  {
   "cell_type": "markdown",
   "id": "40a6d932",
   "metadata": {
    "cellId": "68xfe7kh9r6yunozhnxbu",
    "execution_id": "510f25d5-59ed-46eb-af69-f0e880bfee47",
    "id": "a38e6ffb"
   },
   "source": [
    "Преобразовываем слова в цифры"
   ]
  },
  {
   "cell_type": "markdown",
   "id": "d15d0773",
   "metadata": {},
   "source": [
    "Преобразуем тип данных в юникод"
   ]
  },
  {
   "cell_type": "code",
   "execution_count": 24,
   "id": "ce41c26c",
   "metadata": {},
   "outputs": [
    {
     "data": {
      "text/plain": [
       "(71068,)"
      ]
     },
     "execution_count": 24,
     "metadata": {},
     "output_type": "execute_result"
    }
   ],
   "source": [
    "corpus_train = train_down['clean_words'].values.astype('U')\n",
    "corpus_train.shape"
   ]
  },
  {
   "cell_type": "code",
   "execution_count": 25,
   "id": "34f1a280",
   "metadata": {},
   "outputs": [
    {
     "data": {
      "text/plain": [
       "(15930,)"
      ]
     },
     "execution_count": 25,
     "metadata": {},
     "output_type": "execute_result"
    }
   ],
   "source": [
    "corpus_valid = valid['clean_words'].values.astype('U')\n",
    "corpus_valid.shape"
   ]
  },
  {
   "cell_type": "code",
   "execution_count": 26,
   "id": "a57e78e9",
   "metadata": {},
   "outputs": [
    {
     "data": {
      "text/plain": [
       "(14337,)"
      ]
     },
     "execution_count": 26,
     "metadata": {},
     "output_type": "execute_result"
    }
   ],
   "source": [
    "corpus_test = test['clean_words'].values.astype('U')\n",
    "corpus_test.shape"
   ]
  },
  {
   "cell_type": "markdown",
   "id": "19ccb41e",
   "metadata": {},
   "source": [
    "Векторизация"
   ]
  },
  {
   "cell_type": "code",
   "execution_count": 27,
   "id": "d317ddeb",
   "metadata": {},
   "outputs": [],
   "source": [
    "count_tf_idf = TfidfVectorizer()"
   ]
  },
  {
   "cell_type": "code",
   "execution_count": 28,
   "id": "fd764859",
   "metadata": {},
   "outputs": [
    {
     "data": {
      "text/plain": [
       "<71068x114818 sparse matrix of type '<class 'numpy.float64'>'\n",
       "\twith 2161402 stored elements in Compressed Sparse Row format>"
      ]
     },
     "execution_count": 28,
     "metadata": {},
     "output_type": "execute_result"
    }
   ],
   "source": [
    "x_train = count_tf_idf.fit_transform(corpus_train)\n",
    "x_train"
   ]
  },
  {
   "cell_type": "code",
   "execution_count": 29,
   "id": "86d09554",
   "metadata": {},
   "outputs": [
    {
     "data": {
      "text/plain": [
       "<15930x114818 sparse matrix of type '<class 'numpy.float64'>'\n",
       "\twith 480413 stored elements in Compressed Sparse Row format>"
      ]
     },
     "execution_count": 29,
     "metadata": {},
     "output_type": "execute_result"
    }
   ],
   "source": [
    "x_valid = count_tf_idf.transform(corpus_valid)\n",
    "x_valid"
   ]
  },
  {
   "cell_type": "code",
   "execution_count": 30,
   "id": "1b33fe10",
   "metadata": {},
   "outputs": [
    {
     "data": {
      "text/plain": [
       "<14337x114818 sparse matrix of type '<class 'numpy.float64'>'\n",
       "\twith 435857 stored elements in Compressed Sparse Row format>"
      ]
     },
     "execution_count": 30,
     "metadata": {},
     "output_type": "execute_result"
    }
   ],
   "source": [
    "x_test = count_tf_idf.transform(corpus_test)\n",
    "x_test"
   ]
  },
  {
   "cell_type": "markdown",
   "id": "bd6e60d0",
   "metadata": {
    "cellId": "0q9cyj98bg1k517boq1uf",
    "execution_id": "004b4d95-bdca-48f7-b0d4-800ddc609beb"
   },
   "source": [
    "## Обучение логистической регрессии"
   ]
  },
  {
   "cell_type": "code",
   "execution_count": 31,
   "id": "479bd063",
   "metadata": {
    "cellId": "jtkatgc89lhv8bhe7j31la",
    "id": "b40cdd0a"
   },
   "outputs": [
    {
     "name": "stdout",
     "output_type": "stream",
     "text": [
      "F1-мера модели : 0.7678509830976198\n",
      "roc_auc модели 0.9707767221135329\n",
      "Accuracy модели: 0.9577526679221594\n",
      "Полнота модели: 0.6874613959234095\n",
      "Точность модели: 0.86953125\n",
      "CPU times: total: 2.66 s\n",
      "Wall time: 2.71 s\n"
     ]
    }
   ],
   "source": [
    "%%time\n",
    "model_log = LogisticRegression(random_state=12345)\n",
    "# инициализируйте модель логистической регрессии с параметром random_state=12345\n",
    "model_log.fit(x_train, y_train_down) # обучите модель на тренировочной выборке\n",
    "predictions = model_log.predict(x_valid)\n",
    "F1_log = f1_score(y_valid, predictions) # получите метрику качества модели на валидационной выборке\n",
    "probabilities_valid = model_log.predict_proba(x_valid)\n",
    "probabilities_one_valid = probabilities_valid[:, 1]\n",
    "roc_auc_log = roc_auc_score(y_valid, probabilities_one_valid)\n",
    "rec_log = recall_score(y_valid, predictions)\n",
    "prec_log = precision_score(y_valid, predictions)                       \n",
    "\n",
    "print(\"F1-мера модели :\", F1_log)\n",
    "print(\"roc_auc модели\", roc_auc_log)\n",
    "print(\"Accuracy модели:\", model_log.score(x_valid, y_valid))\n",
    "print(\"Полнота модели:\", rec_log) # сколько единиц мы верно предсказали?\n",
    "print(\"Точность модели:\", prec_log) # сколько нулей мы верно предсказали?"
   ]
  },
  {
   "cell_type": "markdown",
   "id": "62888eb8",
   "metadata": {},
   "source": [
    "Баланс класов предсказаний по валидационной выборке"
   ]
  },
  {
   "cell_type": "code",
   "execution_count": 32,
   "id": "528bfc07",
   "metadata": {
    "cellId": "b93x5t94hkwey3ojcxpfsl",
    "id": "f8f499e0"
   },
   "outputs": [
    {
     "data": {
      "text/plain": [
       "8.035153797865663"
      ]
     },
     "execution_count": 32,
     "metadata": {},
     "output_type": "execute_result"
    }
   ],
   "source": [
    "sum(predictions)/len(predictions) * 100"
   ]
  },
  {
   "cell_type": "markdown",
   "id": "a6ded26d",
   "metadata": {},
   "source": [
    "явно еще не дотягиваем до баланса в 10%, но целевой показатель F1 в 0,75 преодолен"
   ]
  },
  {
   "cell_type": "markdown",
   "id": "86a61111",
   "metadata": {},
   "source": [
    "## Проверим на тестовой выборке, для полной уверенности"
   ]
  },
  {
   "cell_type": "code",
   "execution_count": 33,
   "id": "e15c599d",
   "metadata": {},
   "outputs": [],
   "source": [
    "predictions_test = model_log.predict(x_test)"
   ]
  },
  {
   "cell_type": "markdown",
   "id": "ecb9a4ee",
   "metadata": {},
   "source": [
    "F1"
   ]
  },
  {
   "cell_type": "code",
   "execution_count": 34,
   "id": "b8d76aff",
   "metadata": {},
   "outputs": [
    {
     "data": {
      "text/plain": [
       "0.763416477702192"
      ]
     },
     "execution_count": 34,
     "metadata": {},
     "output_type": "execute_result"
    }
   ],
   "source": [
    "f1_score(y_test, predictions_test)"
   ]
  },
  {
   "cell_type": "markdown",
   "id": "bc8e3c19",
   "metadata": {},
   "source": [
    "Баланс класов предсказаний по тестовой выборке"
   ]
  },
  {
   "cell_type": "code",
   "execution_count": 35,
   "id": "ac8ec400",
   "metadata": {},
   "outputs": [
    {
     "data": {
      "text/plain": [
       "8.293227313942946"
      ]
     },
     "execution_count": 35,
     "metadata": {},
     "output_type": "execute_result"
    }
   ],
   "source": [
    "sum(predictions_test)/len(predictions_test) * 100"
   ]
  },
  {
   "cell_type": "markdown",
   "id": "f86f89a4",
   "metadata": {},
   "source": [
    "Целевой показатель F1 в 0,75 превзойден"
   ]
  },
  {
   "cell_type": "markdown",
   "id": "2126388b",
   "metadata": {},
   "source": [
    "Вообще для определения тональности текста именно логистическая регрессия показывает лучшие результаты в отличии от деревянных моделей и катбуста. И скорость работы так же имеет значение."
   ]
  },
  {
   "cell_type": "markdown",
   "id": "e873b4f0",
   "metadata": {},
   "source": [
    "## ROC кривая"
   ]
  },
  {
   "cell_type": "code",
   "execution_count": 36,
   "id": "9b3af9d9",
   "metadata": {},
   "outputs": [],
   "source": [
    "from sklearn.metrics import roc_curve "
   ]
  },
  {
   "cell_type": "code",
   "execution_count": 38,
   "id": "7071e09b",
   "metadata": {},
   "outputs": [],
   "source": [
    "fpr, tpr, thresholds = roc_curve(y_valid, probabilities_one_valid)"
   ]
  },
  {
   "cell_type": "code",
   "execution_count": 39,
   "id": "5171a0ff",
   "metadata": {},
   "outputs": [
    {
     "data": {
      "image/png": "[encoded data removed]",
      "text/plain": [
       "<Figure size 432x288 with 1 Axes>"
      ]
     },
     "metadata": {
      "needs_background": "light"
     },
     "output_type": "display_data"
    }
   ],
   "source": [
    "plt.figure()\n",
    "plt.plot(fpr, tpr)\n",
    "plt.plot([0, 1], [0, 1], linestyle='--')\n",
    "plt.xlim([0.0, 1.0])\n",
    "plt.ylim([0.0, 1.0])\n",
    "plt.xlabel('False Positive Rate')\n",
    "plt.ylabel('True Positive Rate')\n",
    "plt.title('ROC-кривая')\n",
    "plt.show() "
   ]
  },
  {
   "cell_type": "markdown",
   "id": "2e066216",
   "metadata": {},
   "source": [
    "Весьма хорошее качество предсказаний"
   ]
  },
  {
   "cell_type": "markdown",
   "id": "f44b8049",
   "metadata": {},
   "source": [
    "## Матрица ошибок"
   ]
  },
  {
   "cell_type": "code",
   "execution_count": 42,
   "id": "39fbce63",
   "metadata": {},
   "outputs": [
    {
     "name": "stdout",
     "output_type": "stream",
     "text": [
      "Матрица ошибок работы модели логистической регрессии\n"
     ]
    },
    {
     "data": {
      "image/png": "[encoded data removed]",
      "text/plain": [
       "<Figure size 432x288 with 2 Axes>"
      ]
     },
     "metadata": {
      "needs_background": "light"
     },
     "output_type": "display_data"
    }
   ],
   "source": [
    "print(\"Матрица ошибок работы модели логистической регрессии\")\n",
    "displr = plot_confusion_matrix(model_log, x_valid, y_valid,cmap=plt.cm.OrRd , values_format='d')"
   ]
  },
  {
   "cell_type": "markdown",
   "id": "1fcb20d6",
   "metadata": {},
   "source": [
    "Видим что в результате предсказаний модели в работу модератора пришло 167 лишних постов для проверки и 506 постов с негативной тональностью не проходили ручную модерацию."
   ]
  },
  {
   "cell_type": "markdown",
   "id": "9537f17a",
   "metadata": {},
   "source": [
    "## Выводы и результаты применения TF_IDF"
   ]
  },
  {
   "cell_type": "markdown",
   "id": "e1eed4f4",
   "metadata": {},
   "source": [
    "* Целевой показатель F1 в 0,75 превзойден с двойной проверкой на валидационной и тестовой выборке\n",
    "\n",
    "* при необходимости повышения полноты предсказаний именно параметра 1, можно еще повышать баланс тренировочной выборки - повышая количество постов с негативной тональностью, но тогда и лишних позитивных постов будет больше падать на проверку.\n",
    "\n",
    "* Логистическая регрессия достаточна для получения необходимых показателей качества обучения и предсказаний"
   ]
  },
  {
   "cell_type": "code",
   "execution_count": null,
   "id": "f5be8571",
   "metadata": {},
   "outputs": [],
   "source": []
  },
  {
   "cell_type": "code",
   "execution_count": null,
   "id": "cc08457e",
   "metadata": {
    "cellId": "gcxrd3umvmoik2n9vzzx7i",
    "id": "d2802ae6"
   },
   "outputs": [],
   "source": []
  },
  {
   "cell_type": "code",
   "execution_count": null,
   "id": "136e85cb",
   "metadata": {
    "cellId": "uvpsgmqqxwkkrj5krk3xk",
    "id": "44c96282"
   },
   "outputs": [],
   "source": []
  },
  {
   "cell_type": "code",
   "execution_count": null,
   "id": "52d5c419",
   "metadata": {
    "cellId": "kyq3z4tlun9b60v3tr9wk9",
    "id": "02dbf8f9"
   },
   "outputs": [],
   "source": []
  }
 ],
 "metadata": {
  "accelerator": "GPU",
  "colab": {
   "collapsed_sections": [
    "09dac631"
   ],
   "provenance": []
  },
  "gpuClass": "standard",
  "kernelspec": {
   "display_name": "Python 3 (ipykernel)",
   "language": "python",
   "name": "python3"
  },
  "language_info": {
   "codemirror_mode": {
    "name": "ipython",
    "version": 3
   },
   "file_extension": ".py",
   "mimetype": "text/x-python",
   "name": "python",
   "nbconvert_exporter": "python",
   "pygments_lexer": "ipython3",
   "version": "3.8.13"
  },
  "notebookId": "71d6dab8-0a26-4c2e-9f65-65e8bc6c3f27",
  "notebookPath": "17_tweets_lemm_colab.ipynb",
  "toc": {
   "base_numbering": 1,
   "nav_menu": {},
   "number_sections": true,
   "sideBar": true,
   "skip_h1_title": false,
   "title_cell": "Table of Contents",
   "title_sidebar": "Contents",
   "toc_cell": true,
   "toc_position": {
    "height": "calc(100% - 180px)",
    "left": "10px",
    "top": "150px",
    "width": "387.825px"
   },
   "toc_section_display": true,
   "toc_window_display": true
  }
 },
 "nbformat": 4,
 "nbformat_minor": 5
}
