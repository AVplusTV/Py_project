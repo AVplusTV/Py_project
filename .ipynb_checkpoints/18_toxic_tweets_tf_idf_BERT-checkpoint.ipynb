{
 "cells": [
  {
   "cell_type": "markdown",
   "id": "d1e1f46b",
   "metadata": {
    "cellId": "xcjtfr5ao0ptou7vq4yenl",
    "execution_id": "2b94490d-aa40-4066-8d1a-7075026171b1",
    "toc": true
   },
   "source": [
    "<h1>Table of Contents<span class=\"tocSkip\"></span></h1>\n",
    "<div class=\"toc\"><ul class=\"toc-item\"><li><span><a href=\"#Проект-для-&quot;Викишоп&quot;-с-BERT\" data-toc-modified-id=\"Проект-для-&quot;Викишоп&quot;-с-BERT-1\"><span class=\"toc-item-num\">1&nbsp;&nbsp;</span>Проект для \"Викишоп\" с BERT</a></span></li><li><span><a href=\"#Загрузим-необходимые-модули\" data-toc-modified-id=\"Загрузим-необходимые-модули-2\"><span class=\"toc-item-num\">2&nbsp;&nbsp;</span>Загрузим необходимые модули</a></span></li><li><span><a href=\"#Загрузим-и-проанализируем-данные\" data-toc-modified-id=\"Загрузим-и-проанализируем-данные-3\"><span class=\"toc-item-num\">3&nbsp;&nbsp;</span>Загрузим и проанализируем данные</a></span><ul class=\"toc-item\"><li><span><a href=\"#Открываем-файл-с-данными-и-анализируем-содержимое\" data-toc-modified-id=\"Открываем-файл-с-данными-и-анализируем-содержимое-3.1\"><span class=\"toc-item-num\">3.1&nbsp;&nbsp;</span>Открываем файл с данными и анализируем содержимое</a></span></li><li><span><a href=\"#Балланс-классов\" data-toc-modified-id=\"Балланс-классов-3.2\"><span class=\"toc-item-num\">3.2&nbsp;&nbsp;</span>Балланс классов</a></span></li><li><span><a href=\"#Выводы:\" data-toc-modified-id=\"Выводы:-3.3\"><span class=\"toc-item-num\">3.3&nbsp;&nbsp;</span>Выводы:</a></span></li></ul></li><li><span><a href=\"#Подготовка-данных-c-применением-метода-TF_IDF\" data-toc-modified-id=\"Подготовка-данных-c-применением-метода-TF_IDF-4\"><span class=\"toc-item-num\">4&nbsp;&nbsp;</span>Подготовка данных c применением метода TF_IDF</a></span><ul class=\"toc-item\"><li><span><a href=\"#Лемматизация-текста\" data-toc-modified-id=\"Лемматизация-текста-4.1\"><span class=\"toc-item-num\">4.1&nbsp;&nbsp;</span>Лемматизация текста</a></span></li><li><span><a href=\"#Очистка-текста\" data-toc-modified-id=\"Очистка-текста-4.2\"><span class=\"toc-item-num\">4.2&nbsp;&nbsp;</span>Очистка текста</a></span></li><li><span><a href=\"#Разделение-таблицы-на-выборки\" data-toc-modified-id=\"Разделение-таблицы-на-выборки-4.3\"><span class=\"toc-item-num\">4.3&nbsp;&nbsp;</span>Разделение таблицы на выборки</a></span></li><li><span><a href=\"#Выделение-целевых-признаков-для-тренировочной-и-валидационной-выборки\" data-toc-modified-id=\"Выделение-целевых-признаков-для-тренировочной-и-валидационной-выборки-4.4\"><span class=\"toc-item-num\">4.4&nbsp;&nbsp;</span>Выделение целевых признаков для тренировочной и валидационной выборки</a></span></li><li><span><a href=\"#Изменение-балланса-классов-тренировочной-выборки-для-повышения-полноты-предсказаний\" data-toc-modified-id=\"Изменение-балланса-классов-тренировочной-выборки-для-повышения-полноты-предсказаний-4.5\"><span class=\"toc-item-num\">4.5&nbsp;&nbsp;</span>Изменение балланса классов тренировочной выборки для повышения полноты предсказаний</a></span></li><li><span><a href=\"#Векторизация-данных\" data-toc-modified-id=\"Векторизация-данных-4.6\"><span class=\"toc-item-num\">4.6&nbsp;&nbsp;</span>Векторизация данных</a></span></li></ul></li><li><span><a href=\"#Обучение-логистической-регрессии\" data-toc-modified-id=\"Обучение-логистической-регрессии-5\"><span class=\"toc-item-num\">5&nbsp;&nbsp;</span>Обучение логистической регрессии</a></span></li><li><span><a href=\"#Проверим-на-тестовой-выборке,-для-полной-уверенности\" data-toc-modified-id=\"Проверим-на-тестовой-выборке,-для-полной-уверенности-6\"><span class=\"toc-item-num\">6&nbsp;&nbsp;</span>Проверим на тестовой выборке, для полной уверенности</a></span></li><li><span><a href=\"#ROC-кривая\" data-toc-modified-id=\"ROC-кривая-7\"><span class=\"toc-item-num\">7&nbsp;&nbsp;</span>ROC кривая</a></span></li><li><span><a href=\"#Матрица-ошибок\" data-toc-modified-id=\"Матрица-ошибок-8\"><span class=\"toc-item-num\">8&nbsp;&nbsp;</span>Матрица ошибок</a></span></li><li><span><a href=\"#Выводы-и-результаты-применения-TF_IDF\" data-toc-modified-id=\"Выводы-и-результаты-применения-TF_IDF-9\"><span class=\"toc-item-num\">9&nbsp;&nbsp;</span>Выводы и результаты применения TF_IDF</a></span></li><li><span><a href=\"#Подготовка-BERT-модели\" data-toc-modified-id=\"Подготовка-BERT-модели-10\"><span class=\"toc-item-num\">10&nbsp;&nbsp;</span>Подготовка BERT модели</a></span></li><li><span><a href=\"#Подготовка-данных\" data-toc-modified-id=\"Подготовка-данных-11\"><span class=\"toc-item-num\">11&nbsp;&nbsp;</span>Подготовка данных</a></span><ul class=\"toc-item\"><li><span><a href=\"#Токинезация\" data-toc-modified-id=\"Токинезация-11.1\"><span class=\"toc-item-num\">11.1&nbsp;&nbsp;</span>Токинезация</a></span></li><li><span><a href=\"#Добавление-данных-в-каждый-список-для-выравниявания-длины-и-создания-массива\" data-toc-modified-id=\"Добавление-данных-в-каждый-список-для-выравниявания-длины-и-создания-массива-11.2\"><span class=\"toc-item-num\">11.2&nbsp;&nbsp;</span>Добавление данных в каждый список для выравниявания длины и создания массива</a></span></li></ul></li><li><span><a href=\"#Обучение-Берт-модели-и-продолжение-подготовки-данных\" data-toc-modified-id=\"Обучение-Берт-модели-и-продолжение-подготовки-данных-12\"><span class=\"toc-item-num\">12&nbsp;&nbsp;</span>Обучение Берт модели и продолжение подготовки данных</a></span></li></ul></div>"
   ]
  },
  {
   "cell_type": "markdown",
   "id": "fe000fc6",
   "metadata": {
    "cellId": "uxhlnqt76fdi1se92zm2",
    "execution_id": "1edde925-792a-4f39-9255-d10256a3d7ad",
    "id": "8eab17ed"
   },
   "source": [
    "## Проект для \"Викишоп\" с BERT\n"
   ]
  },
  {
   "cell_type": "markdown",
   "id": "353315a5",
   "metadata": {
    "cellId": "pzn2gdvb5njrtpk754xra",
    "execution_id": "5491eb17-560f-46cb-9ec3-d9ee4fdf8a0b",
    "id": "2729cc18"
   },
   "source": [
    "Интернет-магазин «Викишоп» запускает новый сервис.\n",
    "\n",
    "Теперь пользователи могут редактировать и дополнять описания товаров, как в вики-сообществах. То есть клиенты предлагают свои правки и комментируют изменения других. Магазину нужен инструмент, который будет искать токсичные комментарии и отправлять их на модерацию.\n",
    "\n",
    "\n",
    "Обучите модель классифицировать комментарии на позитивные и негативные. В вашем распоряжении набор данных с разметкой о токсичности правок.\n",
    "\n",
    "\n",
    "Постройте модель со значением метрики качества F1 не меньше 0.75."
   ]
  },
  {
   "cell_type": "markdown",
   "id": "04d34e58",
   "metadata": {
    "cellId": "wqk6wp11dr0pyimcnk9jo",
    "execution_id": "7f81b81d-423a-4dc4-aaca-830d3a04b575",
    "id": "788e24b8"
   },
   "source": [
    "## Загрузим необходимые модули"
   ]
  },
  {
   "cell_type": "code",
   "execution_count": 2,
   "id": "fad9dbc6",
   "metadata": {
    "cellId": "8l5f6vp6fi6r8sq6u3nt",
    "id": "d4576d3c"
   },
   "outputs": [
    {
     "name": "stderr",
     "output_type": "stream",
     "text": [
      "[nltk_data] Downloading package wordnet to\n",
      "[nltk_data]     C:\\Users\\AVplusTV\\AppData\\Roaming\\nltk_data...\n",
      "[nltk_data]   Package wordnet is already up-to-date!\n",
      "[nltk_data] Downloading package stopwords to\n",
      "[nltk_data]     C:\\Users\\AVplusTV\\AppData\\Roaming\\nltk_data...\n",
      "[nltk_data]   Package stopwords is already up-to-date!\n",
      "[nltk_data] Downloading package omw-1.4 to\n",
      "[nltk_data]     C:\\Users\\AVplusTV\\AppData\\Roaming\\nltk_data...\n",
      "[nltk_data]   Package omw-1.4 is already up-to-date!\n"
     ]
    }
   ],
   "source": [
    "import pandas as pd\n",
    "import matplotlib.pyplot as plt\n",
    "from catboost import CatBoostClassifier\n",
    "from sklearn.metrics import plot_confusion_matrix\n",
    "import numpy as np\n",
    "from pymystem3 import Mystem\n",
    "from nltk.stem import WordNetLemmatizer\n",
    "from sklearn.model_selection import train_test_split\n",
    "from sklearn.linear_model import LogisticRegression\n",
    "from sklearn.model_selection import GridSearchCV\n",
    "from sklearn.model_selection import cross_val_score\n",
    "from sklearn.metrics import accuracy_score\n",
    "from sklearn.metrics import f1_score \n",
    "from sklearn.metrics import roc_auc_score\n",
    "from sklearn.metrics import recall_score\n",
    "from sklearn.metrics import precision_score\n",
    "import torch\n",
    "import transformers\n",
    "import warnings\n",
    "warnings.filterwarnings('ignore')\n",
    "\n",
    "from sklearn.feature_extraction.text import CountVectorizer \n",
    "from nltk.corpus import stopwords\n",
    "import nltk\n",
    "import nltk.corpus\n",
    "nltk.download('wordnet')\n",
    "nltk.download('stopwords')\n",
    "nltk.download('omw-1.4')\n",
    "from sklearn.feature_extraction.text import TfidfVectorizer "
   ]
  },
  {
   "cell_type": "markdown",
   "id": "949f747a",
   "metadata": {
    "cellId": "dprg5i7i546mywjnaposwd",
    "execution_id": "7e1bedfa-b4f6-45a0-bc72-7f5034c0d1f9",
    "id": "8a5db2ae"
   },
   "source": [
    "## Загрузим и проанализируем данные"
   ]
  },
  {
   "cell_type": "markdown",
   "id": "3a5b0835",
   "metadata": {
    "cellId": "r7dw762jcdile3uk467o",
    "execution_id": "ff1336b7-3564-4fba-abe9-9c9b2dfd4bd9",
    "id": "083d7fbe"
   },
   "source": [
    "### Открываем файл с данными и анализируем содержимое"
   ]
  },
  {
   "cell_type": "markdown",
   "id": "c42561ff",
   "metadata": {
    "cellId": "dnzfz563d1spvrac2j74e",
    "execution_id": "d7174259-3748-47e3-a22c-29a2ea8d21c4",
    "id": "0b7bd432"
   },
   "source": [
    "Функция для чтения файла в таблицу с учетом возможности работы на разных платформах и заодно исследование данных в таблицах:"
   ]
  },
  {
   "cell_type": "code",
   "execution_count": 3,
   "id": "3221bdc9",
   "metadata": {
    "cellId": "kb48qrxbhtnps5y3xbs39p",
    "id": "62d37539"
   },
   "outputs": [],
   "source": [
    "def read_csv(link):\n",
    "    link1 = 'datasets/' + link\n",
    "    link2 = '/datasets/' + link\n",
    "    try:\n",
    "        name_link = pd.read_csv(link1)\n",
    "    except:\n",
    "        name_link = pd.read_csv(link2)\n",
    "    display(name_link.head()) #просмотрим сразу первые пять строк\n",
    "    display(name_link.info()) #просмотрим информацию    \n",
    "    display(name_link.nunique()) # посчитаем уникальные значения\n",
    "    display(name_link.columns) #проверим имена столбцов\n",
    "    display('Количество явных дубликатов:', name_link.duplicated().sum()) #проверка на явные дубликаты\n",
    "    \n",
    "    return name_link"
   ]
  },
  {
   "cell_type": "code",
   "execution_count": 4,
   "id": "415cfffd",
   "metadata": {
    "cellId": "ia2puvvpdcq0ay4t1j43b",
    "colab": {
     "base_uri": "https://localhost:8080/",
     "height": 424
    },
    "id": "ed032800",
    "outputId": "b52a37b5-f263-414d-eb73-cf05cb56dcfa"
   },
   "outputs": [
    {
     "data": {
      "text/html": [
       "<div>\n",
       "<style scoped>\n",
       "    .dataframe tbody tr th:only-of-type {\n",
       "        vertical-align: middle;\n",
       "    }\n",
       "\n",
       "    .dataframe tbody tr th {\n",
       "        vertical-align: top;\n",
       "    }\n",
       "\n",
       "    .dataframe thead th {\n",
       "        text-align: right;\n",
       "    }\n",
       "</style>\n",
       "<table border=\"1\" class=\"dataframe\">\n",
       "  <thead>\n",
       "    <tr style=\"text-align: right;\">\n",
       "      <th></th>\n",
       "      <th>Unnamed: 0</th>\n",
       "      <th>text</th>\n",
       "      <th>toxic</th>\n",
       "    </tr>\n",
       "  </thead>\n",
       "  <tbody>\n",
       "    <tr>\n",
       "      <th>0</th>\n",
       "      <td>0</td>\n",
       "      <td>Explanation\\nWhy the edits made under my usern...</td>\n",
       "      <td>0</td>\n",
       "    </tr>\n",
       "    <tr>\n",
       "      <th>1</th>\n",
       "      <td>1</td>\n",
       "      <td>D'aww! He matches this background colour I'm s...</td>\n",
       "      <td>0</td>\n",
       "    </tr>\n",
       "    <tr>\n",
       "      <th>2</th>\n",
       "      <td>2</td>\n",
       "      <td>Hey man, I'm really not trying to edit war. It...</td>\n",
       "      <td>0</td>\n",
       "    </tr>\n",
       "    <tr>\n",
       "      <th>3</th>\n",
       "      <td>3</td>\n",
       "      <td>\"\\nMore\\nI can't make any real suggestions on ...</td>\n",
       "      <td>0</td>\n",
       "    </tr>\n",
       "    <tr>\n",
       "      <th>4</th>\n",
       "      <td>4</td>\n",
       "      <td>You, sir, are my hero. Any chance you remember...</td>\n",
       "      <td>0</td>\n",
       "    </tr>\n",
       "  </tbody>\n",
       "</table>\n",
       "</div>"
      ],
      "text/plain": [
       "   Unnamed: 0                                               text  toxic\n",
       "0           0  Explanation\\nWhy the edits made under my usern...      0\n",
       "1           1  D'aww! He matches this background colour I'm s...      0\n",
       "2           2  Hey man, I'm really not trying to edit war. It...      0\n",
       "3           3  \"\\nMore\\nI can't make any real suggestions on ...      0\n",
       "4           4  You, sir, are my hero. Any chance you remember...      0"
      ]
     },
     "metadata": {},
     "output_type": "display_data"
    },
    {
     "name": "stdout",
     "output_type": "stream",
     "text": [
      "<class 'pandas.core.frame.DataFrame'>\n",
      "RangeIndex: 159292 entries, 0 to 159291\n",
      "Data columns (total 3 columns):\n",
      " #   Column      Non-Null Count   Dtype \n",
      "---  ------      --------------   ----- \n",
      " 0   Unnamed: 0  159292 non-null  int64 \n",
      " 1   text        159292 non-null  object\n",
      " 2   toxic       159292 non-null  int64 \n",
      "dtypes: int64(2), object(1)\n",
      "memory usage: 3.6+ MB\n"
     ]
    },
    {
     "data": {
      "text/plain": [
       "None"
      ]
     },
     "metadata": {},
     "output_type": "display_data"
    },
    {
     "data": {
      "text/plain": [
       "Unnamed: 0    159292\n",
       "text          159292\n",
       "toxic              2\n",
       "dtype: int64"
      ]
     },
     "metadata": {},
     "output_type": "display_data"
    },
    {
     "data": {
      "text/plain": [
       "Index(['Unnamed: 0', 'text', 'toxic'], dtype='object')"
      ]
     },
     "metadata": {},
     "output_type": "display_data"
    },
    {
     "data": {
      "text/plain": [
       "'Количество явных дубликатов:'"
      ]
     },
     "metadata": {},
     "output_type": "display_data"
    },
    {
     "data": {
      "text/plain": [
       "0"
      ]
     },
     "metadata": {},
     "output_type": "display_data"
    }
   ],
   "source": [
    "df = read_csv('toxic_comments.csv')"
   ]
  },
  {
   "cell_type": "markdown",
   "id": "b4438af1",
   "metadata": {
    "cellId": "nm15sidmj2lewzz3gf6c",
    "execution_id": "682a97e2-b88a-4e1f-9427-c2879c15f93d",
    "id": "a7d94ba9"
   },
   "source": [
    "### Балланс классов"
   ]
  },
  {
   "cell_type": "code",
   "execution_count": 5,
   "id": "4bc12bd7",
   "metadata": {
    "cellId": "13nx80uupa5h288tdxa7qh",
    "colab": {
     "base_uri": "https://localhost:8080/"
    },
    "id": "30db66b4",
    "outputId": "52e35c7e-074e-4898-c341-781c31967857"
   },
   "outputs": [
    {
     "data": {
      "text/plain": [
       "0    89.838787\n",
       "1    10.161213\n",
       "Name: toxic, dtype: float64"
      ]
     },
     "execution_count": 5,
     "metadata": {},
     "output_type": "execute_result"
    }
   ],
   "source": [
    "df['toxic'].value_counts(normalize=True)*100"
   ]
  },
  {
   "cell_type": "markdown",
   "id": "ec728a46",
   "metadata": {
    "cellId": "btztz08oc8anzsegkqgg2l",
    "execution_id": "5baa4682-b9cc-4cb7-9f57-a982a05f98ef"
   },
   "source": [
    "Удалим лишний столбец"
   ]
  },
  {
   "cell_type": "code",
   "execution_count": 6,
   "id": "deac4e66",
   "metadata": {
    "cellId": "a5re6oqnol20j1ehsc8fy"
   },
   "outputs": [],
   "source": [
    "df = df.drop(['Unnamed: 0'], axis=1)"
   ]
  },
  {
   "cell_type": "markdown",
   "id": "d3a94493",
   "metadata": {
    "cellId": "dv1mw9pz36fowxhjd5hxk",
    "execution_id": "f7669948-6dd3-4b24-8ab8-d1b64ba54158",
    "id": "09dac631"
   },
   "source": [
    " ### Выводы:\n",
    " \n",
    " \n",
    "* содержание файлов соответствует задаче, пропусков нет\n",
    "\n",
    "* необходимо провести лемматизацию и очистку теста и далее векторизацию\n",
    "\n",
    "* Данные дисбалансированны в сторону 0, поэтому предсказания моделей скорее всего будут так же еще сильнее дисбалансится в больший ноль. Понадобится балансировка классов"
   ]
  },
  {
   "cell_type": "markdown",
   "id": "b958e2c1",
   "metadata": {
    "cellId": "sm1ztk6p9xlhtt70t2mey6",
    "execution_id": "571ee286-16ed-4c74-9ad2-b6a4e8bf5550",
    "id": "e8e411d6"
   },
   "source": [
    "## Подготовка данных c применением метода TF_IDF"
   ]
  },
  {
   "cell_type": "markdown",
   "id": "5ddca60a",
   "metadata": {
    "cellId": "683m9930jabdcs49ok7b2o",
    "execution_id": "5fc0eb35-e328-443d-9ed7-83b47479215a"
   },
   "source": [
    "### Лемматизация текста\n"
   ]
  },
  {
   "cell_type": "markdown",
   "id": "d04f7d61",
   "metadata": {
    "cellId": "zxnco8lyoechgcrwnx1xo",
    "execution_id": "dd4ef537-7970-4acd-9a6d-fd1e89566c49"
   },
   "source": [
    "Функция лемматизации текста"
   ]
  },
  {
   "cell_type": "code",
   "execution_count": 7,
   "id": "16944903",
   "metadata": {
    "cellId": "6elms8gxjgw6tvp2c99kc"
   },
   "outputs": [],
   "source": [
    "lemmatizer = WordNetLemmatizer()"
   ]
  },
  {
   "cell_type": "code",
   "execution_count": null,
   "id": "b30f7a71",
   "metadata": {
    "cellId": "tto5z0td74ofwvqbawitzt"
   },
   "outputs": [],
   "source": [
    "%%time\n",
    "def df_lemmatize(row):\n",
    "    row.at['lemma_words'] = \" \".join([lemmatizer.lemmatize(w,pos='a') for w in row['text'].split()])\n",
    "    return row\n",
    "    \n",
    "df = df.apply(df_lemmatize, axis=1)  "
   ]
  },
  {
   "cell_type": "code",
   "execution_count": null,
   "id": "fbca903f",
   "metadata": {
    "cellId": "5qhzk2aeu49zxh11ayjxc"
   },
   "outputs": [],
   "source": [
    "df.head()"
   ]
  },
  {
   "cell_type": "markdown",
   "id": "ed5d3cf9",
   "metadata": {
    "cellId": "oj4ylolqjhtyoa9du7mxoq",
    "execution_id": "5500c06d-5085-4680-9f5b-d32c59012c5f"
   },
   "source": [
    "### Очистка текста"
   ]
  },
  {
   "cell_type": "code",
   "execution_count": null,
   "id": "c9e6222d",
   "metadata": {
    "cellId": "fkponienj8icesw95fnuok"
   },
   "outputs": [],
   "source": [
    "stop_words = stopwords.words('english')\n",
    "\n",
    "df['clean_words'] = df['lemma_words'].apply(lambda x: ' '.join([word for\n",
    "                    word in x.split() if word not in (stop_words)]))"
   ]
  },
  {
   "cell_type": "code",
   "execution_count": null,
   "id": "a0727012",
   "metadata": {
    "cellId": "eetb88fv7069fl1h7knm4j"
   },
   "outputs": [],
   "source": [
    "df.head()"
   ]
  },
  {
   "cell_type": "markdown",
   "id": "7c9e388d",
   "metadata": {
    "cellId": "k20zjiu9jl7iwre2a4tte",
    "execution_id": "607a5a93-3120-4327-9041-558e5d4c9108"
   },
   "source": [
    "### Разделение таблицы на выборки"
   ]
  },
  {
   "cell_type": "code",
   "execution_count": null,
   "id": "34a86361",
   "metadata": {
    "cellId": "ric0d81xpp1vfsnuy0vbu",
    "id": "e9d103d4"
   },
   "outputs": [],
   "source": [
    "temp, valid = train_test_split(df, stratify=df['toxic'],test_size=0.1,\n",
    "                                   shuffle=True, random_state=12345)"
   ]
  },
  {
   "cell_type": "code",
   "execution_count": null,
   "id": "4b8e1369",
   "metadata": {
    "cellId": "o0n6hl25cgqflbq3egvse"
   },
   "outputs": [],
   "source": [
    "train, test = train_test_split(temp, stratify=temp['toxic'],test_size=0.1,\n",
    "                                   shuffle=True, random_state=12345)"
   ]
  },
  {
   "cell_type": "code",
   "execution_count": null,
   "id": "857211cc",
   "metadata": {
    "cellId": "ol8c8rcajdaucdffysvul",
    "colab": {
     "base_uri": "https://localhost:8080/",
     "height": 424
    },
    "id": "e83dde38",
    "outputId": "04ee220f-f7e7-4636-b995-b2a5b75db0f4"
   },
   "outputs": [],
   "source": [
    "train.shape"
   ]
  },
  {
   "cell_type": "code",
   "execution_count": null,
   "id": "49d90353",
   "metadata": {
    "cellId": "wm9vleb0vnb1nsyze40l",
    "colab": {
     "base_uri": "https://localhost:8080/"
    },
    "id": "7b930614",
    "outputId": "634e29d2-69f1-4b26-bc57-a0252ba7589e"
   },
   "outputs": [],
   "source": [
    "train['toxic'].value_counts(normalize=True)*100"
   ]
  },
  {
   "cell_type": "code",
   "execution_count": null,
   "id": "83302832",
   "metadata": {
    "cellId": "vpmxf4ffuoeminpdh6ewsb",
    "colab": {
     "base_uri": "https://localhost:8080/"
    },
    "id": "94fd11b2",
    "outputId": "cd1807da-835a-4f8e-e2d5-60a0151b811d",
    "scrolled": true
   },
   "outputs": [],
   "source": [
    "valid.shape"
   ]
  },
  {
   "cell_type": "code",
   "execution_count": null,
   "id": "076507da",
   "metadata": {
    "cellId": "aqo6wz1gtoaivb33jan76"
   },
   "outputs": [],
   "source": [
    "test.shape"
   ]
  },
  {
   "cell_type": "markdown",
   "id": "c2a8af11",
   "metadata": {
    "cellId": "ozx197iv0g8dxheuxt04nv",
    "execution_id": "72324b1a-0030-451f-bfa6-c957ba876b84"
   },
   "source": [
    "### Выделение целевых признаков для тренировочной и валидационной выборки"
   ]
  },
  {
   "cell_type": "code",
   "execution_count": null,
   "id": "74644958",
   "metadata": {
    "cellId": "xvvpbr8qveeip47qejaaw"
   },
   "outputs": [],
   "source": [
    "y_train = train['toxic']\n",
    "y_train.head()"
   ]
  },
  {
   "cell_type": "code",
   "execution_count": null,
   "id": "934ac4d0",
   "metadata": {
    "cellId": "g4och53ati53cajb6a1fr3",
    "id": "e897dca0"
   },
   "outputs": [],
   "source": [
    "y_valid = valid['toxic']\n",
    "y_valid.head()"
   ]
  },
  {
   "cell_type": "code",
   "execution_count": null,
   "id": "17cb9d6f",
   "metadata": {
    "cellId": "rjflo6zittnusga5khmpc"
   },
   "outputs": [],
   "source": [
    "y_test = test['toxic']\n",
    "y_test.head()"
   ]
  },
  {
   "cell_type": "markdown",
   "id": "a0829ca9",
   "metadata": {
    "cellId": "wh4rr59yibbr9y3c6ctw7",
    "execution_id": "89fc3586-0060-4f4c-9985-e6e8e7c9ebdb"
   },
   "source": [
    "### Изменение балланса классов тренировочной выборки для повышения полноты предсказаний"
   ]
  },
  {
   "cell_type": "code",
   "execution_count": null,
   "id": "839ad1ca",
   "metadata": {
    "cellId": "0muo8bninxgmg1esymf5nfb"
   },
   "outputs": [],
   "source": [
    "from sklearn.utils import shuffle"
   ]
  },
  {
   "cell_type": "code",
   "execution_count": null,
   "id": "d76aca38",
   "metadata": {
    "cellId": "el8irlxhcnuekke9h1apns"
   },
   "outputs": [],
   "source": [
    "def downsample(features, target, fraction):\n",
    "    features_zeros = features[target == 0]\n",
    "    features_ones = features[target == 1]\n",
    "    target_zeros = target[target == 0]\n",
    "    target_ones = target[target == 1]\n",
    "\n",
    "    features_downsampled = pd.concat(\n",
    "        [features_zeros.sample(frac=fraction, random_state=12345)] + [features_ones])\n",
    "    target_downsampled = pd.concat(\n",
    "        [target_zeros.sample(frac=fraction, random_state=12345)] + [target_ones])\n",
    "    \n",
    "    features_downsampled, target_downsampled = shuffle(\n",
    "        features_downsampled, target_downsampled, random_state=12347)\n",
    "    \n",
    "    return features_downsampled, target_downsampled"
   ]
  },
  {
   "cell_type": "code",
   "execution_count": null,
   "id": "c1284005",
   "metadata": {
    "cellId": "apk0fraynsvnt8njsu2f"
   },
   "outputs": [],
   "source": [
    "train_down, y_train_down = downsample(train, y_train, 0.5)"
   ]
  },
  {
   "cell_type": "code",
   "execution_count": null,
   "id": "9e817975",
   "metadata": {
    "cellId": "21o15is0y5chb1csubco6"
   },
   "outputs": [],
   "source": [
    "y_train_down.value_counts(normalize=True)"
   ]
  },
  {
   "cell_type": "markdown",
   "id": "1e4f3a49",
   "metadata": {
    "cellId": "xgzt4q3xm1t59lafhdxxj",
    "execution_id": "f5885e26-bb42-419f-93d3-64c399839fe2",
    "id": "f745b1ff"
   },
   "source": [
    "### Векторизация данных"
   ]
  },
  {
   "cell_type": "markdown",
   "id": "17ac2ab0",
   "metadata": {
    "cellId": "68xfe7kh9r6yunozhnxbu",
    "execution_id": "19440fe4-c6d6-4430-9090-b347c3dd5b5e",
    "id": "a38e6ffb"
   },
   "source": [
    "Преобразовываем слова в цифры"
   ]
  },
  {
   "cell_type": "markdown",
   "id": "a26ac1eb",
   "metadata": {
    "cellId": "26bylh1qlpfemrmta3hicq",
    "execution_id": "17e51663-6d6d-41a4-ba07-4dda6e6b75d2"
   },
   "source": [
    "Преобразуем тип данных в юникод"
   ]
  },
  {
   "cell_type": "code",
   "execution_count": null,
   "id": "ed8adfe4",
   "metadata": {
    "cellId": "ss6uk9ls9ksuuvlyz2d8"
   },
   "outputs": [],
   "source": [
    "corpus_train = train_down['clean_words'].values.astype('U')\n",
    "corpus_train.shape"
   ]
  },
  {
   "cell_type": "code",
   "execution_count": null,
   "id": "22b46165",
   "metadata": {
    "cellId": "jnw292fnkqlshk3spsza8a"
   },
   "outputs": [],
   "source": [
    "corpus_valid = valid['clean_words'].values.astype('U')\n",
    "corpus_valid.shape"
   ]
  },
  {
   "cell_type": "code",
   "execution_count": null,
   "id": "0ad3fea0",
   "metadata": {
    "cellId": "cwb9biz0jisqobmrl94bb"
   },
   "outputs": [],
   "source": [
    "corpus_test = test['clean_words'].values.astype('U')\n",
    "corpus_test.shape"
   ]
  },
  {
   "cell_type": "markdown",
   "id": "de9da025",
   "metadata": {
    "cellId": "kft68xn1bxq559ezsle2",
    "execution_id": "ecadb9d0-c30e-4a7e-9b22-262025382d18"
   },
   "source": [
    "Векторизация"
   ]
  },
  {
   "cell_type": "code",
   "execution_count": null,
   "id": "9c680813",
   "metadata": {
    "cellId": "y0b6z9z5oun69scx30u6cg"
   },
   "outputs": [],
   "source": [
    "count_tf_idf = TfidfVectorizer()"
   ]
  },
  {
   "cell_type": "code",
   "execution_count": null,
   "id": "836c5507",
   "metadata": {
    "cellId": "5bh8omztmaeipbq4n34lq"
   },
   "outputs": [],
   "source": [
    "x_train = count_tf_idf.fit_transform(corpus_train)\n",
    "x_train"
   ]
  },
  {
   "cell_type": "code",
   "execution_count": null,
   "id": "1fc89a74",
   "metadata": {
    "cellId": "698oy9htuf272p781nh8hg"
   },
   "outputs": [],
   "source": [
    "x_valid = count_tf_idf.transform(corpus_valid)\n",
    "x_valid"
   ]
  },
  {
   "cell_type": "code",
   "execution_count": null,
   "id": "42d3264e",
   "metadata": {
    "cellId": "m32lok85jtd4myggegskq"
   },
   "outputs": [],
   "source": [
    "x_test = count_tf_idf.transform(corpus_test)\n",
    "x_test"
   ]
  },
  {
   "cell_type": "markdown",
   "id": "d5a39e21",
   "metadata": {
    "cellId": "0q9cyj98bg1k517boq1uf",
    "execution_id": "bef56f8c-dd85-4879-a3c5-ccd67f27f885"
   },
   "source": [
    "## Обучение логистической регрессии"
   ]
  },
  {
   "cell_type": "code",
   "execution_count": null,
   "id": "3b49b799",
   "metadata": {
    "cellId": "jtkatgc89lhv8bhe7j31la",
    "id": "b40cdd0a"
   },
   "outputs": [],
   "source": [
    "%%time\n",
    "model_log = LogisticRegression(random_state=12345)\n",
    "# инициализируйте модель логистической регрессии с параметром random_state=12345\n",
    "model_log.fit(x_train, y_train_down) # обучите модель на тренировочной выборке\n",
    "predictions = model_log.predict(x_valid)\n",
    "F1_log = f1_score(y_valid, predictions) # получите метрику качества модели на валидационной выборке\n",
    "probabilities_valid = model_log.predict_proba(x_valid)\n",
    "probabilities_one_valid = probabilities_valid[:, 1]\n",
    "roc_auc_log = roc_auc_score(y_valid, probabilities_one_valid)\n",
    "rec_log = recall_score(y_valid, predictions)\n",
    "prec_log = precision_score(y_valid, predictions)                       \n",
    "\n",
    "print(\"F1-мера модели :\", F1_log)\n",
    "print(\"roc_auc модели\", roc_auc_log)\n",
    "print(\"Accuracy модели:\", model_log.score(x_valid, y_valid))\n",
    "print(\"Полнота модели:\", rec_log) # сколько единиц мы верно предсказали?\n",
    "print(\"Точность модели:\", prec_log) # сколько нулей мы верно предсказали?"
   ]
  },
  {
   "cell_type": "markdown",
   "id": "abefecae",
   "metadata": {
    "cellId": "l1x2c64mah629000esohb",
    "execution_id": "c1acf821-d67c-435b-af92-3cf00b4552d1"
   },
   "source": [
    "Баланс класов предсказаний по валидационной выборке"
   ]
  },
  {
   "cell_type": "code",
   "execution_count": null,
   "id": "89680207",
   "metadata": {
    "cellId": "b93x5t94hkwey3ojcxpfsl",
    "id": "f8f499e0"
   },
   "outputs": [],
   "source": [
    "sum(predictions)/len(predictions) * 100"
   ]
  },
  {
   "cell_type": "markdown",
   "id": "9fdd1610",
   "metadata": {
    "cellId": "lcyvgek7omwy1vbwnijc",
    "execution_id": "fe23c0b7-fb53-482e-ad8d-b550eb4da533"
   },
   "source": [
    "явно еще не дотягиваем до баланса в 10%, но целевой показатель F1 в 0,75 преодолен"
   ]
  },
  {
   "cell_type": "markdown",
   "id": "c68239dd",
   "metadata": {
    "cellId": "owwsxzb1ufc2qf48dkwhq",
    "execution_id": "319bc1d3-2570-4fcc-a6cc-3c220805d7df"
   },
   "source": [
    "## Проверим на тестовой выборке, для полной уверенности"
   ]
  },
  {
   "cell_type": "code",
   "execution_count": null,
   "id": "486ed8bd",
   "metadata": {
    "cellId": "yu3d5q8wq27ksbuwyz8sc"
   },
   "outputs": [],
   "source": [
    "predictions_test = model_log.predict(x_test)"
   ]
  },
  {
   "cell_type": "markdown",
   "id": "33650283",
   "metadata": {
    "cellId": "glg790r7vuvli812p5bkpg",
    "execution_id": "d69269d4-986c-40a9-8484-438ad7c51626"
   },
   "source": [
    "F1"
   ]
  },
  {
   "cell_type": "code",
   "execution_count": null,
   "id": "f8479aa8",
   "metadata": {
    "cellId": "3dp833rjr6n10c07ro2e11n"
   },
   "outputs": [],
   "source": [
    "f1_score(y_test, predictions_test)"
   ]
  },
  {
   "cell_type": "markdown",
   "id": "5278cd45",
   "metadata": {
    "cellId": "y4fufj35iflpgkq8gxholk",
    "execution_id": "32a2af06-6dfa-405d-a61e-160d1d7dfbd1"
   },
   "source": [
    "Баланс класов предсказаний по тестовой выборке"
   ]
  },
  {
   "cell_type": "code",
   "execution_count": null,
   "id": "f16bf55f",
   "metadata": {
    "cellId": "cltrlf7uw7k9seyv9efbu"
   },
   "outputs": [],
   "source": [
    "sum(predictions_test)/len(predictions_test) * 100"
   ]
  },
  {
   "cell_type": "markdown",
   "id": "d1dc8d04",
   "metadata": {
    "cellId": "lz3jgytqu5pz577bfp4ab",
    "execution_id": "218e183f-dd45-4b25-b1ee-847c445f54cd"
   },
   "source": [
    "Целевой показатель F1 в 0,75 превзойден"
   ]
  },
  {
   "cell_type": "markdown",
   "id": "b4e0f522",
   "metadata": {
    "cellId": "3ehbvr3ytoy75rt3vk9nfh",
    "execution_id": "08c58f53-f811-472f-8e90-a839891d45ef"
   },
   "source": [
    "Вообще для определения тональности текста именно логистическая регрессия показывает лучшие результаты в отличии от деревянных моделей и катбуста. И скорость работы так же имеет значение."
   ]
  },
  {
   "cell_type": "markdown",
   "id": "58895c94",
   "metadata": {
    "cellId": "jgagcyas21k6o1fmj0xwp",
    "execution_id": "9cfc6e61-200d-46d5-aecf-60563a1cfdf6"
   },
   "source": [
    "## ROC кривая"
   ]
  },
  {
   "cell_type": "code",
   "execution_count": null,
   "id": "20c071aa",
   "metadata": {
    "cellId": "12conunar43jvwlx1cvmvj"
   },
   "outputs": [],
   "source": [
    "from sklearn.metrics import roc_curve "
   ]
  },
  {
   "cell_type": "code",
   "execution_count": null,
   "id": "8699938f",
   "metadata": {
    "cellId": "jfuqvt2ckcsz2s850z0z"
   },
   "outputs": [],
   "source": [
    "fpr, tpr, thresholds = roc_curve(y_valid, probabilities_one_valid)"
   ]
  },
  {
   "cell_type": "code",
   "execution_count": null,
   "id": "6a1e9f1d",
   "metadata": {
    "cellId": "q8jwh8b08zkasvp2xrh0wn"
   },
   "outputs": [],
   "source": [
    "plt.figure()\n",
    "plt.plot(fpr, tpr)\n",
    "plt.plot([0, 1], [0, 1], linestyle='--')\n",
    "plt.xlim([0.0, 1.0])\n",
    "plt.ylim([0.0, 1.0])\n",
    "plt.xlabel('False Positive Rate')\n",
    "plt.ylabel('True Positive Rate')\n",
    "plt.title('ROC-кривая')\n",
    "plt.show() "
   ]
  },
  {
   "cell_type": "markdown",
   "id": "ec32d8a5",
   "metadata": {
    "cellId": "o5cg0quf7wdoanb2pg9kf",
    "execution_id": "9adb67d6-2bf3-4c54-8641-bb5f4c41c39c"
   },
   "source": [
    "Весьма хорошее качество предсказаний"
   ]
  },
  {
   "cell_type": "markdown",
   "id": "e52fd865",
   "metadata": {
    "cellId": "sra2i453lbokvwv6x2x2h",
    "execution_id": "fd9250c4-8a57-4936-aa08-f498abae84aa"
   },
   "source": [
    "## Матрица ошибок"
   ]
  },
  {
   "cell_type": "code",
   "execution_count": null,
   "id": "dea1be4f",
   "metadata": {
    "cellId": "qy1rir67d77frz9wp9zaef"
   },
   "outputs": [],
   "source": [
    "print(\"Матрица ошибок работы модели логистической регресии\")\n",
    "displr = plot_confusion_matrix(model_log, x_valid, y_valid,cmap=plt.cm.OrRd , values_format='d')"
   ]
  },
  {
   "cell_type": "markdown",
   "id": "58add505",
   "metadata": {
    "cellId": "m8kr37f7ffau2didvl4c7j",
    "execution_id": "718f47a0-a1ce-4662-9291-c2a6d12e7a75"
   },
   "source": [
    "Видим что в результате предсказаний модели в работу модератора пришло 167 лишних постов для проверки и 506 постов с негативной тональностью не проходили ручную модерацию."
   ]
  },
  {
   "cell_type": "markdown",
   "id": "21623d8a",
   "metadata": {
    "cellId": "o6032ypmca1xhg236g2jm",
    "execution_id": "768a1af9-fdc9-497c-a163-108e563b3132"
   },
   "source": [
    "## Выводы и результаты применения TF_IDF"
   ]
  },
  {
   "cell_type": "markdown",
   "id": "0ff88313",
   "metadata": {
    "cellId": "a02ob1nlev4i7qy32240d",
    "execution_id": "3ac907cb-dabb-49da-8eb7-023e266c8ff3"
   },
   "source": [
    "* Целевой показатель F1 в 0,75 превзойден с двойной проверкой на валидационной и тестовой выборке\n",
    "\n",
    "* при необходимости повышения полноты предсказаний именно параметра 1, можно еще повышать баланс тренировочной выборки - повышая количество постов с негативной тональностью, но тогда и лишних позитивных постов будет больше падать на проверку.\n",
    "\n",
    "* Логистическая регрессия достаточна для получения необходимых показателей качества обучения и предсказаний"
   ]
  },
  {
   "cell_type": "markdown",
   "id": "c97cf1f4",
   "metadata": {
    "cellId": "g49ixcg1a4on0svk9vhajs",
    "execution_id": "41597755-22cb-43fe-921f-7d54ec0b410f"
   },
   "source": [
    "## Подготовка BERT модели"
   ]
  },
  {
   "cell_type": "code",
   "execution_count": null,
   "id": "e3973e64",
   "metadata": {
    "cellId": "dhmnpzocq0n443f8y5wqvl"
   },
   "outputs": [],
   "source": [
    "# For DistilBERT:\n",
    "model_class, tokenizer_class, pretrained_weights = (ppb.DistilBertModel, ppb.DistilBertTokenizer, 'distilbert-base-uncased')\n",
    "\n",
    "## Want BERT instead of distilBERT? Uncomment the following line:\n",
    "#model_class, tokenizer_class, pretrained_weights = (ppb.BertModel, ppb.BertTokenizer, 'bert-base-uncased')\n",
    "\n",
    "# Load pretrained model/tokenizer\n",
    "tokenizer = tokenizer_class.from_pretrained(pretrained_weights)\n",
    "model = model_class.from_pretrained(pretrained_weights)"
   ]
  },
  {
   "cell_type": "markdown",
   "id": "8709acf1",
   "metadata": {
    "cellId": "cyifquk3ebm4b40yu2o3sx",
    "execution_id": "9a2ebe2d-c26b-4853-a1c3-487ecd67e6ce"
   },
   "source": [
    "## Подготовка данных"
   ]
  },
  {
   "cell_type": "code",
   "execution_count": null,
   "id": "0ab31caa",
   "metadata": {
    "cellId": "1ju663amt9knr91n8mhrnm"
   },
   "outputs": [],
   "source": []
  },
  {
   "cell_type": "code",
   "execution_count": null,
   "id": "bc4fc820",
   "metadata": {
    "cellId": "wqnox8yfjy2115u6yxi6w"
   },
   "outputs": [],
   "source": []
  },
  {
   "cell_type": "markdown",
   "id": "a6673dd2",
   "metadata": {
    "cellId": "xf01s9wpe4vqivygns05o",
    "execution_id": "f7f07351-16d5-4eae-9b27-6d6aba046696"
   },
   "source": [
    "### Токинезация"
   ]
  },
  {
   "cell_type": "code",
   "execution_count": null,
   "id": "4bcda9b7",
   "metadata": {
    "cellId": "4vdup6x4dcqxcy4tl1y0ye"
   },
   "outputs": [],
   "source": [
    "token_train = train_down['clean_words'].apply((lambda x: tokenizer.encode(x, add_special_tokens=True)))"
   ]
  },
  {
   "cell_type": "code",
   "execution_count": null,
   "id": "dca6f113",
   "metadata": {
    "cellId": "h9cqrzam2lsis1nkcr9g9f"
   },
   "outputs": [],
   "source": [
    "token_train"
   ]
  },
  {
   "cell_type": "code",
   "execution_count": null,
   "id": "067dee25",
   "metadata": {
    "cellId": "anqof3qw31cnl48elgi9h"
   },
   "outputs": [],
   "source": [
    "token_valid = valid['clean_words'].apply((lambda x: tokenizer.encode(x, add_special_tokens=True)))"
   ]
  },
  {
   "cell_type": "code",
   "execution_count": null,
   "id": "92b9cecf",
   "metadata": {
    "cellId": "vpwjfdrhyqhmvtyxz5m19k"
   },
   "outputs": [],
   "source": [
    "token_test = test['clean_words'].apply((lambda x: tokenizer.encode(x, add_special_tokens=True)))"
   ]
  },
  {
   "cell_type": "markdown",
   "id": "5f211868",
   "metadata": {
    "cellId": "01r9sdnf58wz3azunco8g0u"
   },
   "source": [
    "### Добавление данных в каждый список для выравниявания длины и создания массива"
   ]
  },
  {
   "cell_type": "markdown",
   "id": "0225a5b6",
   "metadata": {
    "cellId": "c7nlam60kgeow6i5urmbmf",
    "execution_id": "b33c70f6-4ae7-44fe-8f55-2aee65c6f3bd"
   },
   "source": [
    "После токенизации tokenized представляет собой список предложений - каждое предложение представлено в виде списка токенов. Мы хотим, чтобы БЕРТ обрабатывал наши примеры все сразу (как один пакет). Просто так будет быстрее. По этой причине нам нужно заполнить все списки одинаковым размером, чтобы мы могли представлять входные данные в виде одного двумерного массива, а не списка списков (разной длины)."
   ]
  },
  {
   "cell_type": "code",
   "execution_count": null,
   "id": "d1ca7ba6",
   "metadata": {
    "cellId": "sdv4gqmo3em2aguatoq714"
   },
   "outputs": [],
   "source": [
    "max_len = 0\n",
    "for i in token_train.values:\n",
    "    if len(i) > max_len:\n",
    "        max_len = len(i)\n",
    "\n",
    "padded_train = np.array([i + [0]*(max_len+304-len(i)) for i in token_train.values])"
   ]
  },
  {
   "cell_type": "code",
   "execution_count": null,
   "id": "0add2d0d",
   "metadata": {
    "cellId": "02gs7h86ajru405irpl07ug"
   },
   "outputs": [],
   "source": [
    "np.array(padded_train).shape"
   ]
  },
  {
   "cell_type": "code",
   "execution_count": null,
   "id": "fd710608",
   "metadata": {
    "cellId": "akss65mceb7g9ogcnzc5kt"
   },
   "outputs": [],
   "source": [
    "max_len = 0\n",
    "for i in token_valid.values:\n",
    "    if len(i) > max_len:\n",
    "        max_len = len(i)\n",
    "\n",
    "padded_valid = np.array([i + [0]*(max_len+1555-len(i)) for i in token_valid.values])"
   ]
  },
  {
   "cell_type": "code",
   "execution_count": null,
   "id": "a9d4f76e",
   "metadata": {
    "cellId": "wn0lwk6suyss0f865dt3mr"
   },
   "outputs": [],
   "source": [
    "np.array(padded_valid).shape"
   ]
  },
  {
   "cell_type": "code",
   "execution_count": null,
   "id": "bfd52b85",
   "metadata": {
    "cellId": "k7ip4u4gytyx098aw26t8"
   },
   "outputs": [],
   "source": [
    "max_len = 0\n",
    "for i in token_test.values:\n",
    "    if len(i) > max_len:\n",
    "        max_len = len(i)\n",
    "\n",
    "padded_test = np.array([i + [0]*(max_len-len(i)) for i in token_test.values])"
   ]
  },
  {
   "cell_type": "code",
   "execution_count": null,
   "id": "1672b2a7",
   "metadata": {
    "cellId": "zpy5yi2xshmbpxhsqzueg7",
    "execution_id": "c7daf9a3-dcaf-4b16-bf78-26bdc78b8891"
   },
   "outputs": [],
   "source": [
    "np.array(padded_test).shape"
   ]
  },
  {
   "cell_type": "code",
   "execution_count": null,
   "id": "58092f1a",
   "metadata": {
    "cellId": "7dke4bhx65d2nh2fw8lqs"
   },
   "outputs": [],
   "source": [
    "### Маскируем лишние данные"
   ]
  },
  {
   "cell_type": "markdown",
   "id": "166c52f8",
   "metadata": {
    "cellId": "5xwt9n1revf4tm1wh9hwkb",
    "execution_id": "703de4f6-a1d9-428d-bf88-21bdc4fe27e9"
   },
   "source": [
    "Но фактически эти добавленные данные нам не нужны для обучения. нужно создать переменную, для игнорирования (маскировки) добавленных нами данных."
   ]
  },
  {
   "cell_type": "code",
   "execution_count": null,
   "id": "da28fb7f",
   "metadata": {
    "cellId": "6x4o6lwny7pbf2ck763nvv"
   },
   "outputs": [],
   "source": [
    "attention_mask_train = np.where(padded_train != 0, 1, 0)\n",
    "attention_mask_train.shape"
   ]
  },
  {
   "cell_type": "code",
   "execution_count": null,
   "id": "0e50a6b9",
   "metadata": {
    "cellId": "qy02aet0enjvljoto377"
   },
   "outputs": [],
   "source": [
    "attention_mask_valid = np.where(padded_valid != 0, 1, 0)\n",
    "attention_mask_valid.shape"
   ]
  },
  {
   "cell_type": "code",
   "execution_count": null,
   "id": "2497ddf0",
   "metadata": {
    "cellId": "v273gw7z9afbrn70b3cztc"
   },
   "outputs": [],
   "source": [
    "attention_mask_test = np.where(padded_test != 0, 1, 0)\n",
    "attention_mask_test.shape"
   ]
  },
  {
   "cell_type": "markdown",
   "id": "7fb854b9",
   "metadata": {
    "cellId": "2m9n4abqhaf8p13v9qk6p",
    "execution_id": "aa0b6b27-1989-423d-aba3-f74d22744bc6"
   },
   "source": [
    "## Обучение Берт модели и продолжение подготовки данных"
   ]
  },
  {
   "cell_type": "code",
   "execution_count": null,
   "id": "38842e7c",
   "metadata": {
    "cellId": "mujm81tuiw7h12lecbzygq"
   },
   "outputs": [],
   "source": [
    "from tqdm import notebook"
   ]
  },
  {
   "cell_type": "code",
   "execution_count": null,
   "id": "63f0e681",
   "metadata": {
    "cellId": "y3gcqleh73h87eij7vozhs",
    "execution_id": "67d5001d-dfed-405d-9993-7b7ed0b7a48a"
   },
   "outputs": [],
   "source": [
    "batch_size = 1000\n",
    "embeddings = []\n",
    "for i in notebook.tqdm(range(padded_train.shape[0] // batch_size)):\n",
    "        batch = torch.LongTensor(padded_train[batch_size*i:batch_size*(i+1)]) \n",
    "        attention_mask_batch = torch.LongTensor(attention_mask_train[batch_size*i:batch_size*(i+1)])\n",
    "        \n",
    "        with torch.no_grad():\n",
    "            batch_embeddings = model(batch, attention_mask=attention_mask_batch)\n",
    "        \n",
    "        embeddings.append(batch_embeddings[0][:,0,:].numpy())"
   ]
  },
  {
   "cell_type": "code",
   "execution_count": null,
   "id": "0c79e853",
   "metadata": {
    "cellId": "1j588b9okrsiwc3ycp1f2ys"
   },
   "outputs": [],
   "source": []
  },
  {
   "cell_type": "code",
   "execution_count": null,
   "id": "d0306d5b",
   "metadata": {
    "cellId": "8mt4eftf3ru2ar31la7iqd"
   },
   "outputs": [],
   "source": [
    "%%time\n",
    "input_ids_train = torch.tensor(padded_train)  \n",
    "attention_mask_train = torch.tensor(attention_mask_train)\n",
    "\n",
    "with torch.no_grad():\n",
    "    last_hidden_states_train = model(input_ids_train, attention_mask=attention_mask_train)"
   ]
  },
  {
   "cell_type": "code",
   "execution_count": null,
   "id": "7edfbcd2",
   "metadata": {
    "cellId": "ou4x5up8h6c82qm44nb5ri"
   },
   "outputs": [],
   "source": [
    "%%time\n",
    "input_ids_valid = torch.tensor(padded_valid)  \n",
    "attention_mask_valid = torch.tensor(attention_mask_valid)\n",
    "\n",
    "with torch.no_grad():\n",
    "    last_hidden_states_valid = model(input_ids_valid, attention_mask=attention_mask_valid)"
   ]
  },
  {
   "cell_type": "code",
   "execution_count": null,
   "id": "92abab16",
   "metadata": {
    "cellId": "x0a17krt37osuxhmfajeb"
   },
   "outputs": [],
   "source": [
    "%%time\n",
    "input_ids_test = torch.tensor(padded_test)  \n",
    "attention_mask_test = torch.tensor(attention_mask_test)\n",
    "\n",
    "with torch.no_grad():\n",
    "    last_hidden_states_test = model(input_ids_test, attention_mask=attention_mask_test)"
   ]
  },
  {
   "cell_type": "code",
   "execution_count": null,
   "id": "08ca276b",
   "metadata": {
    "cellId": "3f2i0mhzawzzc7h6zgz4y"
   },
   "outputs": [],
   "source": []
  },
  {
   "cell_type": "code",
   "execution_count": null,
   "id": "581c9b2d",
   "metadata": {
    "cellId": "3m7vrlpvmtzqluiul19xl"
   },
   "outputs": [],
   "source": []
  },
  {
   "cell_type": "code",
   "execution_count": null,
   "id": "4007b2d8",
   "metadata": {
    "cellId": "txplmu0dx1adc5ymx8xtsj"
   },
   "outputs": [],
   "source": []
  },
  {
   "cell_type": "code",
   "execution_count": null,
   "id": "6194eee5",
   "metadata": {
    "cellId": "nt75kq3rpj9tkobd87mvp"
   },
   "outputs": [],
   "source": []
  },
  {
   "cell_type": "code",
   "execution_count": null,
   "id": "d7ffba42",
   "metadata": {
    "cellId": "8s2iz8rwa69ltuckythdnn"
   },
   "outputs": [],
   "source": []
  },
  {
   "cell_type": "code",
   "execution_count": null,
   "id": "9ae6ca7c",
   "metadata": {
    "cellId": "1ewz4c01esbww8v422oxdh"
   },
   "outputs": [],
   "source": []
  },
  {
   "cell_type": "code",
   "execution_count": null,
   "id": "5eecb6fa",
   "metadata": {
    "cellId": "4wmoyvibxkenhnjyfz3r0m"
   },
   "outputs": [],
   "source": []
  },
  {
   "cell_type": "code",
   "execution_count": null,
   "id": "2e5a008e",
   "metadata": {
    "cellId": "3n5bu59k0qo0cp3ib1fqjfa"
   },
   "outputs": [],
   "source": []
  },
  {
   "cell_type": "code",
   "execution_count": null,
   "id": "6a6e0d55",
   "metadata": {
    "cellId": "3m1972615zejm8tf6fne6"
   },
   "outputs": [],
   "source": []
  },
  {
   "cell_type": "code",
   "execution_count": null,
   "id": "068c64f0",
   "metadata": {
    "cellId": "2ru5t23y15bw6lci14kouk"
   },
   "outputs": [],
   "source": []
  },
  {
   "cell_type": "code",
   "execution_count": null,
   "id": "a1e16a0e",
   "metadata": {
    "cellId": "0h2qfrunj5jdh2qb7viudkd"
   },
   "outputs": [],
   "source": []
  },
  {
   "cell_type": "code",
   "execution_count": null,
   "id": "0779903c",
   "metadata": {
    "cellId": "2naw4knxxf9u6qowsxhe18"
   },
   "outputs": [],
   "source": []
  },
  {
   "cell_type": "code",
   "execution_count": null,
   "id": "8c726d38",
   "metadata": {
    "cellId": "r3gas68crsai55hsvxokx"
   },
   "outputs": [],
   "source": []
  },
  {
   "cell_type": "code",
   "execution_count": null,
   "id": "0fb99530",
   "metadata": {
    "cellId": "7absz59o3ccv3d4qqiecyj"
   },
   "outputs": [],
   "source": []
  },
  {
   "cell_type": "code",
   "execution_count": null,
   "id": "e3f571f3",
   "metadata": {
    "cellId": "61vu4d48jg3a44465exal"
   },
   "outputs": [],
   "source": []
  },
  {
   "cell_type": "code",
   "execution_count": null,
   "id": "1c75d7df",
   "metadata": {
    "cellId": "ks2kcdfszyqb4xapseufr5"
   },
   "outputs": [],
   "source": []
  },
  {
   "cell_type": "code",
   "execution_count": null,
   "id": "28e23fd3",
   "metadata": {
    "cellId": "om2ihf9gqvrhioneu5g5k"
   },
   "outputs": [],
   "source": []
  },
  {
   "cell_type": "code",
   "execution_count": null,
   "id": "e16ff133",
   "metadata": {
    "cellId": "gcxrd3umvmoik2n9vzzx7i",
    "id": "d2802ae6"
   },
   "outputs": [],
   "source": []
  },
  {
   "cell_type": "code",
   "execution_count": null,
   "id": "cc08a2d4",
   "metadata": {
    "cellId": "uvpsgmqqxwkkrj5krk3xk",
    "id": "44c96282"
   },
   "outputs": [],
   "source": []
  },
  {
   "cell_type": "code",
   "execution_count": null,
   "id": "b18d5586",
   "metadata": {
    "cellId": "kyq3z4tlun9b60v3tr9wk9",
    "id": "02dbf8f9"
   },
   "outputs": [],
   "source": []
  }
 ],
 "metadata": {
  "accelerator": "GPU",
  "colab": {
   "collapsed_sections": [
    "09dac631"
   ],
   "provenance": []
  },
  "gpuClass": "standard",
  "kernelspec": {
   "display_name": "Python 3 (ipykernel)",
   "language": "python",
   "name": "python3"
  },
  "language_info": {
   "codemirror_mode": {
    "name": "ipython",
    "version": 3
   },
   "file_extension": ".py",
   "mimetype": "text/x-python",
   "name": "python",
   "nbconvert_exporter": "python",
   "pygments_lexer": "ipython3",
   "version": "3.8.13"
  },
  "notebookId": "71d6dab8-0a26-4c2e-9f65-65e8bc6c3f27",
  "notebookPath": "18_toxic_tweets_tf_idf.ipynb",
  "toc": {
   "base_numbering": 1,
   "nav_menu": {},
   "number_sections": true,
   "sideBar": true,
   "skip_h1_title": false,
   "title_cell": "Table of Contents",
   "title_sidebar": "Contents",
   "toc_cell": true,
   "toc_position": {
    "height": "calc(100% - 180px)",
    "left": "10px",
    "top": "150px",
    "width": "387.825px"
   },
   "toc_section_display": true,
   "toc_window_display": true
  }
 },
 "nbformat": 4,
 "nbformat_minor": 5
}
