{
 "cells": [
  {
   "cell_type": "markdown",
   "metadata": {
    "toc": true
   },
   "source": [
    "<h1>Table of Contents<span class=\"tocSkip\"></span></h1>\n",
    "<div class=\"toc\"><ul class=\"toc-item\"><li><span><a href=\"#Исследование-данных-Компании-«Мегалайн»\" data-toc-modified-id=\"Исследование-данных-Компании-«Мегалайн»-1\"><span class=\"toc-item-num\">1&nbsp;&nbsp;</span>Исследование данных Компании «Мегалайн»</a></span><ul class=\"toc-item\"><li><span><a href=\"#Открываем-файл-с-данными-и-анализируем-содержимое\" data-toc-modified-id=\"Открываем-файл-с-данными-и-анализируем-содержимое-1.1\"><span class=\"toc-item-num\">1.1&nbsp;&nbsp;</span>Открываем файл с данными и анализируем содержимое</a></span></li><li><span><a href=\"#Продолжим-исследование-данных-при-помощи-гистограмм-и-так-же-интересно-сколько-пользователей-не-пользовались-услугами.\" data-toc-modified-id=\"Продолжим-исследование-данных-при-помощи-гистограмм-и-так-же-интересно-сколько-пользователей-не-пользовались-услугами.-1.2\"><span class=\"toc-item-num\">1.2&nbsp;&nbsp;</span>Продолжим исследование данных при помощи гистограмм и так же интересно сколько пользователей не пользовались услугами.</a></span></li></ul></li><li><span><a href=\"#Разделим-исходные-данные-на-обучающую,-валидационную-и-тестовую-выборки.\" data-toc-modified-id=\"Разделим-исходные-данные-на-обучающую,-валидационную-и-тестовую-выборки.-2\"><span class=\"toc-item-num\">2&nbsp;&nbsp;</span>Разделим исходные данные на обучающую, валидационную и тестовую выборки.</a></span></li><li><span><a href=\"#Исследуем-качество-разных-моделей,-меняя-гиперпараметры.-Кратко-напишем-выводы-исследования.\" data-toc-modified-id=\"Исследуем-качество-разных-моделей,-меняя-гиперпараметры.-Кратко-напишем-выводы-исследования.-3\"><span class=\"toc-item-num\">3&nbsp;&nbsp;</span>Исследуем качество разных моделей, меняя гиперпараметры. Кратко напишем выводы исследования.</a></span><ul class=\"toc-item\"><li><span><a href=\"#Модель-решающего-дерева:\" data-toc-modified-id=\"Модель-решающего-дерева:-3.1\"><span class=\"toc-item-num\">3.1&nbsp;&nbsp;</span>Модель решающего дерева:</a></span></li><li><span><a href=\"#Модель-случайного-леса\" data-toc-modified-id=\"Модель-случайного-леса-3.2\"><span class=\"toc-item-num\">3.2&nbsp;&nbsp;</span>Модель случайного леса</a></span></li><li><span><a href=\"#Логистическая-регрессия\" data-toc-modified-id=\"Логистическая-регрессия-3.3\"><span class=\"toc-item-num\">3.3&nbsp;&nbsp;</span>Логистическая регрессия</a></span></li></ul></li><li><span><a href=\"#Проверим-качество-модели-на-тестовой-выборке.\" data-toc-modified-id=\"Проверим-качество-модели-на-тестовой-выборке.-4\"><span class=\"toc-item-num\">4&nbsp;&nbsp;</span>Проверим качество модели на тестовой выборке.</a></span><ul class=\"toc-item\"><li><span><a href=\"#Модель-решающего-дерева:\" data-toc-modified-id=\"Модель-решающего-дерева:-4.1\"><span class=\"toc-item-num\">4.1&nbsp;&nbsp;</span>Модель решающего дерева:</a></span></li><li><span><a href=\"#Модель-случайного-леса\" data-toc-modified-id=\"Модель-случайного-леса-4.2\"><span class=\"toc-item-num\">4.2&nbsp;&nbsp;</span>Модель случайного леса</a></span></li><li><span><a href=\"#Логистическая-регрессия\" data-toc-modified-id=\"Логистическая-регрессия-4.3\"><span class=\"toc-item-num\">4.3&nbsp;&nbsp;</span>Логистическая регрессия</a></span></li></ul></li><li><span><a href=\"#Посмортим-на-влияение-столбцов--calls-и-minutes-на-лучшую-модель\" data-toc-modified-id=\"Посмортим-на-влияение-столбцов--calls-и-minutes-на-лучшую-модель-5\"><span class=\"toc-item-num\">5&nbsp;&nbsp;</span>Посмортим на влияение столбцов  calls и minutes на лучшую модель</a></span></li><li><span><a href=\"#Дополнительное-задание:-проверим-модели-на-вменяемость.\" data-toc-modified-id=\"Дополнительное-задание:-проверим-модели-на-вменяемость.-6\"><span class=\"toc-item-num\">6&nbsp;&nbsp;</span>Дополнительное задание: проверим модели на вменяемость.</a></span></li><li><span><a href=\"#Общий-вывод-исследования\" data-toc-modified-id=\"Общий-вывод-исследования-7\"><span class=\"toc-item-num\">7&nbsp;&nbsp;</span>Общий вывод исследования</a></span></li></ul></div>"
   ]
  },
  {
   "cell_type": "markdown",
   "metadata": {},
   "source": [
    "<div style=\"border:solid green 2px; padding: 20px\">\n",
    "\n",
    "<b>Привет, Роман!</b>\n",
    "\n",
    "Меня зовут Ярослав П. и я буду проверять твой проект. Попробую помочь сделать тебе его еще лучше!\n",
    "\n",
    "Предлагаю общаться на «**ты**». Если это неприемлемо, обязательно напиши мне в комментариях — мы перейдем на «**вы**».\n",
    "\n",
    "Ниже ты найдешь мои комментарии - пожалуйста, не перемещай, не изменяй и не удаляй их. Я буду использовать цветовую разметку:\n",
    "\n",
    "<div class=\"alert alert-danger\">\n",
    "<b>Комментарий ревьюера:</b> Так выделены самые важные замечания. Без их отработки проект не будет принят. </div>\n",
    "\n",
    "<div class=\"alert alert-warning\">\n",
    "<b>Комментарий ревьюера:</b> Так выделены небольшие замечания или советы.\n",
    "\n",
    "</div>\n",
    "\n",
    "<div class=\"alert alert-success\">\n",
    "<b>Комментарий ревьюера:</b> Так я выделяю все остальные комментарии.</div>\n",
    "\n",
    "Давай работать над проектом в диалоге: если ты что-то меняешь в проекте или отвечаешь на мои комменатри — пиши об этом. Мне будет легче отследить изменения, если ты выделишь свои комментарии:\n",
    "<div class=\"alert alert-info\"> <b>Комментарий студента:</b> Например, вот так.</div>\n",
    "\n",
    "Всё это поможет выполнить повторную проверку твоего проекта оперативнее. \n",
    "    \n",
    "    \n",
    "### <span style=\"color:orange\">Обратная связь</span><a class=\"tocSkip\">\n",
    "\n",
    "- Проект выполнен на высоком уровне.\n",
    "- Это только начало моделирования, но ты уже делаешь успехи.\n",
    "- Хорошо реализован подбор гиперпараметров и тестирование моделей.\n",
    "- Предлагаю добавить один момент - проверка на мультиколлинеарность. Оставил комментарий.\n",
    "    \n",
    "### <span style=\"color:orange\">Обратная связь (v2)</span><a class=\"tocSkip\">\n",
    " \n",
    "- Проект отлично доработан, спасибо за уделенное время!\n",
    "    \n",
    "Проект принят, успехов в дальнейшем обучении!"
   ]
  },
  {
   "cell_type": "markdown",
   "metadata": {},
   "source": [
    "The version of the notebook server is: 6.1.4\n",
    "\n",
    "The server is running on this version of Python: Python 3.8.5\n",
    "\n",
    "OS Windows 10 Home\n",
    "\n",
    "Configurable nbextensions Table of Contents (2) compatibility: 4.x, 5.x (https://www.codegrepper.com/code-examples/shell/install+toc2+jupyter+notebook)"
   ]
  },
  {
   "cell_type": "markdown",
   "metadata": {},
   "source": [
    "Описание проекта:\n",
    "\n",
    "\n",
    "Оператор мобильной связи «Мегалайн» выяснил: многие клиенты пользуются архивными тарифами. Они хотят построить систему, способную проанализировать поведение клиентов и предложить пользователям новый тариф: «Смарт» или «Ультра».\n",
    "В вашем распоряжении данные о поведении клиентов, которые уже перешли на эти тарифы/\n",
    "\n",
    "Нужно построить модель для задачи классификации, которая выберет подходящий тариф."
   ]
  },
  {
   "cell_type": "markdown",
   "metadata": {},
   "source": [
    "<div class=\"alert alert-block alert-success\">\n",
    "<b>Комментарий ревьюера</b>\n",
    "\n",
    "Отличное введение. Разве что можно добавить оглавление.\n",
    "\n",
    "</div>\n"
   ]
  },
  {
   "cell_type": "markdown",
   "metadata": {},
   "source": [
    "<div class=\"alert alert-info\"> <b>Комментарий студента:</b> Модуль Table of Contents дает это самое оглавление автоматически слева, но можно добавить и в текст сюда.</div>"
   ]
  },
  {
   "cell_type": "markdown",
   "metadata": {},
   "source": [
    "<div class=\"alert alert-block alert-success\">\n",
    "<b>Комментарий ревьюера (v2)</b> \n",
    "    \n",
    "Да, я имел ввиду блоком в тетрадь - чтобы при отправке проекта тому, у кого оно не установлено, оно все равно было и  работало.\n",
    "\n",
    "</div>"
   ]
  },
  {
   "cell_type": "markdown",
   "metadata": {},
   "source": [
    "<h1>Прогнозирование наилучшего тарифа<span class=\"tocSkip\"></span></h1>\n",
    "<div class=\"toc\"><ul class=\"toc-item\"><li><span><a href=\"#Исследование-данных-Компании-«Мегалайн»\" data-toc-modified-id=\"Исследование-данных-Компании-«Мегалайн»-1\"><span class=\"toc-item-num\">1&nbsp;&nbsp;</span>Исследование данных Компании «Мегалайн»</a></span><ul class=\"toc-item\"><li><span><a href=\"#Открываем-файл-с-данными-и-анализируем-содержимое\" data-toc-modified-id=\"Открываем-файл-с-данными-и-анализируем-содержимое-1.1\"><span class=\"toc-item-num\">1.1&nbsp;&nbsp;</span>Открываем файл с данными и анализируем содержимое</a></span></li><li><span><a href=\"#Продолжим-исследование-данных-при-помощи-гистограмм-и-так-же-интересно-сколько-пользователей-не-пользовались-услугами.\" data-toc-modified-id=\"Продолжим-исследование-данных-при-помощи-гистограмм-и-так-же-интересно-сколько-пользователей-не-пользовались-услугами.-1.2\"><span class=\"toc-item-num\">1.2&nbsp;&nbsp;</span>Продолжим исследование данных при помощи гистограмм и так же интересно сколько пользователей не пользовались услугами.</a></span></li></ul></li><li><span><a href=\"#Разделим-исходные-данные-на-обучающую,-валидационную-и-тестовую-выборки.\" data-toc-modified-id=\"Разделим-исходные-данные-на-обучающую,-валидационную-и-тестовую-выборки.-2\"><span class=\"toc-item-num\">2&nbsp;&nbsp;</span>Разделим исходные данные на обучающую, валидационную и тестовую выборки.</a></span></li><li><span><a href=\"#Исследуем-качество-разных-моделей,-меняя-гиперпараметры.-Кратко-напишем-выводы-исследования.\" data-toc-modified-id=\"Исследуем-качество-разных-моделей,-меняя-гиперпараметры.-Кратко-напишем-выводы-исследования.-3\"><span class=\"toc-item-num\">3&nbsp;&nbsp;</span>Исследуем качество разных моделей, меняя гиперпараметры. Кратко напишем выводы исследования.</a></span><ul class=\"toc-item\"><li><span><a href=\"#Модель-решающего-дерева:\" data-toc-modified-id=\"Модель-решающего-дерева:-3.1\"><span class=\"toc-item-num\">3.1&nbsp;&nbsp;</span>Модель решающего дерева:</a></span></li><li><span><a href=\"#Модель-случайного-леса\" data-toc-modified-id=\"Модель-случайного-леса-3.2\"><span class=\"toc-item-num\">3.2&nbsp;&nbsp;</span>Модель случайного леса</a></span></li><li><span><a href=\"#Логистическая-регрессия\" data-toc-modified-id=\"Логистическая-регрессия-3.3\"><span class=\"toc-item-num\">3.3&nbsp;&nbsp;</span>Логистическая регрессия</a></span></li></ul></li><li><span><a href=\"#Проверим-качество-модели-на-тестовой-выборке.\" data-toc-modified-id=\"Проверим-качество-модели-на-тестовой-выборке.-4\"><span class=\"toc-item-num\">4&nbsp;&nbsp;</span>Проверим качество модели на тестовой выборке.</a></span><ul class=\"toc-item\"><li><span><a href=\"#Модель-решающего-дерева:\" data-toc-modified-id=\"Модель-решающего-дерева:-4.1\"><span class=\"toc-item-num\">4.1&nbsp;&nbsp;</span>Модель решающего дерева:</a></span></li><li><span><a href=\"#Модель-случайного-леса\" data-toc-modified-id=\"Модель-случайного-леса-4.2\"><span class=\"toc-item-num\">4.2&nbsp;&nbsp;</span>Модель случайного леса</a></span></li><li><span><a href=\"#Логистическая-регрессия\" data-toc-modified-id=\"Логистическая-регрессия-4.3\"><span class=\"toc-item-num\">4.3&nbsp;&nbsp;</span>Логистическая регрессия</a></span></li></ul></li><li><span><a href=\"#Посмортим-на-влияение-столбцов--calls-и-minutes-на-лучшую-модель\" data-toc-modified-id=\"Посмортим-на-влияение-столбцов--calls-и-minutes-на-лучшую-модель-5\"><span class=\"toc-item-num\">5&nbsp;&nbsp;</span>Посмортим на влияение столбцов  calls и minutes на лучшую модель</a></span></li><li><span><a href=\"#Дополнительное-задание:-проверим-модели-на-вменяемость.\" data-toc-modified-id=\"Дополнительное-задание:-проверим-модели-на-вменяемость.-6\"><span class=\"toc-item-num\">6&nbsp;&nbsp;</span>Дополнительное задание: проверим модели на вменяемость.</a></span></li><li><span><a href=\"#Общий-вывод-исследования\" data-toc-modified-id=\"Общий-вывод-исследования-7\"><span class=\"toc-item-num\">7&nbsp;&nbsp;</span>Общий вывод исследования</a></span></li></ul></div>"
   ]
  },
  {
   "cell_type": "markdown",
   "metadata": {},
   "source": [
    "Импортируем модули и библиотеки:"
   ]
  },
  {
   "cell_type": "code",
   "execution_count": 1,
   "metadata": {},
   "outputs": [],
   "source": [
    "import pandas as pd # импорт библиотеки pandas\n",
    "import matplotlib.pyplot as plt # импорт библиотеки работы с графиками\n",
    "import numpy as np # импорт библиотеки для вычислений\n",
    "import warnings\n",
    "warnings.filterwarnings('ignore') # отключаем сообщения об ошибках pandas\n",
    "pd.set_option('display.max_columns', None) # Сброс ограничений на число выводимых столбцов\n",
    "from sklearn.model_selection import train_test_split # импорт метода для разделения на выборки"
   ]
  },
  {
   "cell_type": "markdown",
   "metadata": {},
   "source": [
    "## Исследование данных Компании «Мегалайн»"
   ]
  },
  {
   "cell_type": "markdown",
   "metadata": {},
   "source": [
    "### Открываем файл с данными и анализируем содержимое\n",
    "\n",
    "\n",
    "От компании «Мегалайн» поступили следующие файлы: <b>users_behavior.csv\n",
    "    \n",
    "    Каждый строка в наборе данных — это информация о поведении одного пользователя за месяц.\n"
   ]
  },
  {
   "cell_type": "markdown",
   "metadata": {},
   "source": [
    "Функция для чтения файла в таблицу с учетом возможности работы на разных платформах:"
   ]
  },
  {
   "cell_type": "code",
   "execution_count": 2,
   "metadata": {},
   "outputs": [],
   "source": [
    "def read_csv(link):\n",
    "    link1 = 'datasets/'+link\n",
    "    link2 = '/datasets/'+link\n",
    "    try:\n",
    "        name_link = pd.read_csv(link1)\n",
    "    except:\n",
    "        name_link = pd.read_csv(link2)\n",
    "    return name_link"
   ]
  },
  {
   "cell_type": "code",
   "execution_count": 3,
   "metadata": {},
   "outputs": [],
   "source": [
    "df = read_csv('users_behavior.csv') #применяем функцию чтения"
   ]
  },
  {
   "cell_type": "code",
   "execution_count": 4,
   "metadata": {},
   "outputs": [
    {
     "data": {
      "text/html": [
       "<div>\n",
       "<style scoped>\n",
       "    .dataframe tbody tr th:only-of-type {\n",
       "        vertical-align: middle;\n",
       "    }\n",
       "\n",
       "    .dataframe tbody tr th {\n",
       "        vertical-align: top;\n",
       "    }\n",
       "\n",
       "    .dataframe thead th {\n",
       "        text-align: right;\n",
       "    }\n",
       "</style>\n",
       "<table border=\"1\" class=\"dataframe\">\n",
       "  <thead>\n",
       "    <tr style=\"text-align: right;\">\n",
       "      <th></th>\n",
       "      <th>calls</th>\n",
       "      <th>minutes</th>\n",
       "      <th>messages</th>\n",
       "      <th>mb_used</th>\n",
       "      <th>is_ultra</th>\n",
       "    </tr>\n",
       "  </thead>\n",
       "  <tbody>\n",
       "    <tr>\n",
       "      <th>0</th>\n",
       "      <td>40.0</td>\n",
       "      <td>311.90</td>\n",
       "      <td>83.0</td>\n",
       "      <td>19915.42</td>\n",
       "      <td>0</td>\n",
       "    </tr>\n",
       "    <tr>\n",
       "      <th>1</th>\n",
       "      <td>85.0</td>\n",
       "      <td>516.75</td>\n",
       "      <td>56.0</td>\n",
       "      <td>22696.96</td>\n",
       "      <td>0</td>\n",
       "    </tr>\n",
       "    <tr>\n",
       "      <th>2</th>\n",
       "      <td>77.0</td>\n",
       "      <td>467.66</td>\n",
       "      <td>86.0</td>\n",
       "      <td>21060.45</td>\n",
       "      <td>0</td>\n",
       "    </tr>\n",
       "    <tr>\n",
       "      <th>3</th>\n",
       "      <td>106.0</td>\n",
       "      <td>745.53</td>\n",
       "      <td>81.0</td>\n",
       "      <td>8437.39</td>\n",
       "      <td>1</td>\n",
       "    </tr>\n",
       "    <tr>\n",
       "      <th>4</th>\n",
       "      <td>66.0</td>\n",
       "      <td>418.74</td>\n",
       "      <td>1.0</td>\n",
       "      <td>14502.75</td>\n",
       "      <td>0</td>\n",
       "    </tr>\n",
       "  </tbody>\n",
       "</table>\n",
       "</div>"
      ],
      "text/plain": [
       "   calls  minutes  messages   mb_used  is_ultra\n",
       "0   40.0   311.90      83.0  19915.42         0\n",
       "1   85.0   516.75      56.0  22696.96         0\n",
       "2   77.0   467.66      86.0  21060.45         0\n",
       "3  106.0   745.53      81.0   8437.39         1\n",
       "4   66.0   418.74       1.0  14502.75         0"
      ]
     },
     "execution_count": 4,
     "metadata": {},
     "output_type": "execute_result"
    }
   ],
   "source": [
    "df.head()"
   ]
  },
  {
   "cell_type": "code",
   "execution_count": 5,
   "metadata": {},
   "outputs": [
    {
     "name": "stdout",
     "output_type": "stream",
     "text": [
      "<class 'pandas.core.frame.DataFrame'>\n",
      "RangeIndex: 3214 entries, 0 to 3213\n",
      "Data columns (total 5 columns):\n",
      " #   Column    Non-Null Count  Dtype  \n",
      "---  ------    --------------  -----  \n",
      " 0   calls     3214 non-null   float64\n",
      " 1   minutes   3214 non-null   float64\n",
      " 2   messages  3214 non-null   float64\n",
      " 3   mb_used   3214 non-null   float64\n",
      " 4   is_ultra  3214 non-null   int64  \n",
      "dtypes: float64(4), int64(1)\n",
      "memory usage: 125.7 KB\n"
     ]
    }
   ],
   "source": [
    "df.info()"
   ]
  },
  {
   "cell_type": "code",
   "execution_count": 6,
   "metadata": {},
   "outputs": [
    {
     "data": {
      "text/html": [
       "<div>\n",
       "<style scoped>\n",
       "    .dataframe tbody tr th:only-of-type {\n",
       "        vertical-align: middle;\n",
       "    }\n",
       "\n",
       "    .dataframe tbody tr th {\n",
       "        vertical-align: top;\n",
       "    }\n",
       "\n",
       "    .dataframe thead th {\n",
       "        text-align: right;\n",
       "    }\n",
       "</style>\n",
       "<table border=\"1\" class=\"dataframe\">\n",
       "  <thead>\n",
       "    <tr style=\"text-align: right;\">\n",
       "      <th></th>\n",
       "      <th>calls</th>\n",
       "      <th>minutes</th>\n",
       "      <th>messages</th>\n",
       "      <th>mb_used</th>\n",
       "      <th>is_ultra</th>\n",
       "    </tr>\n",
       "  </thead>\n",
       "  <tbody>\n",
       "    <tr>\n",
       "      <th>count</th>\n",
       "      <td>3214.000000</td>\n",
       "      <td>3214.000000</td>\n",
       "      <td>3214.000000</td>\n",
       "      <td>3214.000000</td>\n",
       "      <td>3214.000000</td>\n",
       "    </tr>\n",
       "    <tr>\n",
       "      <th>mean</th>\n",
       "      <td>63.038892</td>\n",
       "      <td>438.208787</td>\n",
       "      <td>38.281269</td>\n",
       "      <td>17207.673836</td>\n",
       "      <td>0.306472</td>\n",
       "    </tr>\n",
       "    <tr>\n",
       "      <th>std</th>\n",
       "      <td>33.236368</td>\n",
       "      <td>234.569872</td>\n",
       "      <td>36.148326</td>\n",
       "      <td>7570.968246</td>\n",
       "      <td>0.461100</td>\n",
       "    </tr>\n",
       "    <tr>\n",
       "      <th>min</th>\n",
       "      <td>0.000000</td>\n",
       "      <td>0.000000</td>\n",
       "      <td>0.000000</td>\n",
       "      <td>0.000000</td>\n",
       "      <td>0.000000</td>\n",
       "    </tr>\n",
       "    <tr>\n",
       "      <th>25%</th>\n",
       "      <td>40.000000</td>\n",
       "      <td>274.575000</td>\n",
       "      <td>9.000000</td>\n",
       "      <td>12491.902500</td>\n",
       "      <td>0.000000</td>\n",
       "    </tr>\n",
       "    <tr>\n",
       "      <th>50%</th>\n",
       "      <td>62.000000</td>\n",
       "      <td>430.600000</td>\n",
       "      <td>30.000000</td>\n",
       "      <td>16943.235000</td>\n",
       "      <td>0.000000</td>\n",
       "    </tr>\n",
       "    <tr>\n",
       "      <th>75%</th>\n",
       "      <td>82.000000</td>\n",
       "      <td>571.927500</td>\n",
       "      <td>57.000000</td>\n",
       "      <td>21424.700000</td>\n",
       "      <td>1.000000</td>\n",
       "    </tr>\n",
       "    <tr>\n",
       "      <th>max</th>\n",
       "      <td>244.000000</td>\n",
       "      <td>1632.060000</td>\n",
       "      <td>224.000000</td>\n",
       "      <td>49745.730000</td>\n",
       "      <td>1.000000</td>\n",
       "    </tr>\n",
       "  </tbody>\n",
       "</table>\n",
       "</div>"
      ],
      "text/plain": [
       "             calls      minutes     messages       mb_used     is_ultra\n",
       "count  3214.000000  3214.000000  3214.000000   3214.000000  3214.000000\n",
       "mean     63.038892   438.208787    38.281269  17207.673836     0.306472\n",
       "std      33.236368   234.569872    36.148326   7570.968246     0.461100\n",
       "min       0.000000     0.000000     0.000000      0.000000     0.000000\n",
       "25%      40.000000   274.575000     9.000000  12491.902500     0.000000\n",
       "50%      62.000000   430.600000    30.000000  16943.235000     0.000000\n",
       "75%      82.000000   571.927500    57.000000  21424.700000     1.000000\n",
       "max     244.000000  1632.060000   224.000000  49745.730000     1.000000"
      ]
     },
     "execution_count": 6,
     "metadata": {},
     "output_type": "execute_result"
    }
   ],
   "source": [
    "df.describe()"
   ]
  },
  {
   "cell_type": "markdown",
   "metadata": {},
   "source": [
    "В таблице всего строчек: 3214, пропусков в столбцах нет. Формат названия столбцов верный. Тип данных в столбцах верный, но можно было бы изменить тип в int64 с округлением minutes и mb_used в большую сторону, но особо не нужно. Нулевые значения - видимо пользователь не пользовался данными услугами. Максимальные значения так же вполне реальны.\n",
    "\n",
    "<b>Описание столбцов:</b>\n",
    "\n",
    "\n",
    "* сalls — количество звонков,\n",
    "* minutes — суммарная длительность звонков в минутах,\n",
    "* messages — количество sms-сообщений,\n",
    "* mb_used — израсходованный интернет-трафик в Мб,\n",
    "* is_ultra — каким тарифом пользовался в течение месяца («Ультра» — 1, «Смарт» — 0)."
   ]
  },
  {
   "cell_type": "markdown",
   "metadata": {},
   "source": [
    "### Продолжим исследование данных при помощи гистограмм и так же интересно сколько пользователей не пользовались услугами."
   ]
  },
  {
   "cell_type": "code",
   "execution_count": 7,
   "metadata": {},
   "outputs": [],
   "source": [
    "def hist(column):\n",
    "    max = df[column].max()\n",
    "    plt.hist(df[column] , range = (0, max), bins=200, label = column)\n",
    "    plt.ylabel('Частотность')\n",
    "    plt.xlabel(column)\n",
    "    plt.legend()\n",
    "    plt.grid();\n",
    "    print(\"Исследование столбца\", column)\n",
    "    print(\"Количество пользователей, не воспользовавшихся услугой:\", df[df[column] ==0][column].count())\n",
    "    # проверим количество пользователей, не воспользовавшихся услугой"
   ]
  },
  {
   "cell_type": "code",
   "execution_count": 8,
   "metadata": {},
   "outputs": [
    {
     "name": "stdout",
     "output_type": "stream",
     "text": [
      "Исследование столбца calls\n",
      "Количество пользователей, не воспользовавшихся услугой: 40\n"
     ]
    },
    {
     "data": {
      "image/png": "[encoded data removed]",
      "text/plain": [
       "<Figure size 432x288 with 1 Axes>"
      ]
     },
     "metadata": {
      "needs_background": "light"
     },
     "output_type": "display_data"
    }
   ],
   "source": [
    "hist('calls')"
   ]
  },
  {
   "cell_type": "code",
   "execution_count": 9,
   "metadata": {
    "scrolled": true
   },
   "outputs": [
    {
     "name": "stdout",
     "output_type": "stream",
     "text": [
      "Исследование столбца minutes\n",
      "Количество пользователей, не воспользовавшихся услугой: 40\n"
     ]
    },
    {
     "data": {
      "image/png": "[encoded data removed]",
      "text/plain": [
       "<Figure size 432x288 with 1 Axes>"
      ]
     },
     "metadata": {
      "needs_background": "light"
     },
     "output_type": "display_data"
    }
   ],
   "source": [
    "hist('minutes')"
   ]
  },
  {
   "cell_type": "code",
   "execution_count": 10,
   "metadata": {},
   "outputs": [
    {
     "name": "stdout",
     "output_type": "stream",
     "text": [
      "Исследование столбца messages\n",
      "Количество пользователей, не воспользовавшихся услугой: 497\n"
     ]
    },
    {
     "data": {
      "image/png": "[encoded data removed]",
      "text/plain": [
       "<Figure size 432x288 with 1 Axes>"
      ]
     },
     "metadata": {
      "needs_background": "light"
     },
     "output_type": "display_data"
    }
   ],
   "source": [
    "hist('messages')\n",
    "plt.ylim(0, 100); # уменьшил масштаб по оси Y дабы лучше увидеть гистограмму частотности по messages\n",
    "#(отсекаем нулевую частотность)"
   ]
  },
  {
   "cell_type": "code",
   "execution_count": 11,
   "metadata": {},
   "outputs": [
    {
     "name": "stdout",
     "output_type": "stream",
     "text": [
      "Исследование столбца mb_used\n",
      "Количество пользователей, не воспользовавшихся услугой: 11\n"
     ]
    },
    {
     "data": {
      "image/png": "[encoded data removed]",
      "text/plain": [
       "<Figure size 432x288 with 1 Axes>"
      ]
     },
     "metadata": {
      "needs_background": "light"
     },
     "output_type": "display_data"
    }
   ],
   "source": [
    "hist('mb_used')"
   ]
  },
  {
   "cell_type": "code",
   "execution_count": 12,
   "metadata": {},
   "outputs": [
    {
     "data": {
      "text/plain": [
       "0    2229\n",
       "1     985\n",
       "Name: is_ultra, dtype: int64"
      ]
     },
     "execution_count": 12,
     "metadata": {},
     "output_type": "execute_result"
    }
   ],
   "source": [
    "df['is_ultra'].value_counts()\n",
    "# посмотрим сколько пользователей и каким тарифом пользуются"
   ]
  },
  {
   "cell_type": "markdown",
   "metadata": {},
   "source": [
    "<b>Проверим нет ли пользователей, вообще не использовавших ни одну услугу"
   ]
  },
  {
   "cell_type": "code",
   "execution_count": 13,
   "metadata": {},
   "outputs": [
    {
     "data": {
      "text/html": [
       "<div>\n",
       "<style scoped>\n",
       "    .dataframe tbody tr th:only-of-type {\n",
       "        vertical-align: middle;\n",
       "    }\n",
       "\n",
       "    .dataframe tbody tr th {\n",
       "        vertical-align: top;\n",
       "    }\n",
       "\n",
       "    .dataframe thead th {\n",
       "        text-align: right;\n",
       "    }\n",
       "</style>\n",
       "<table border=\"1\" class=\"dataframe\">\n",
       "  <thead>\n",
       "    <tr style=\"text-align: right;\">\n",
       "      <th></th>\n",
       "      <th>calls</th>\n",
       "      <th>minutes</th>\n",
       "      <th>messages</th>\n",
       "      <th>mb_used</th>\n",
       "      <th>is_ultra</th>\n",
       "    </tr>\n",
       "  </thead>\n",
       "  <tbody>\n",
       "  </tbody>\n",
       "</table>\n",
       "</div>"
      ],
      "text/plain": [
       "Empty DataFrame\n",
       "Columns: [calls, minutes, messages, mb_used, is_ultra]\n",
       "Index: []"
      ]
     },
     "metadata": {},
     "output_type": "display_data"
    }
   ],
   "source": [
    "display(df[(df['calls'] == 0) & (df['messages'] == 0) & (df['mb_used'] == 0)])"
   ]
  },
  {
   "cell_type": "markdown",
   "metadata": {},
   "source": [
    "С нулевыми значениями тех или иных услуг - разные пользователи"
   ]
  },
  {
   "cell_type": "code",
   "execution_count": 14,
   "metadata": {},
   "outputs": [
    {
     "data": {
      "text/html": [
       "<div>\n",
       "<style scoped>\n",
       "    .dataframe tbody tr th:only-of-type {\n",
       "        vertical-align: middle;\n",
       "    }\n",
       "\n",
       "    .dataframe tbody tr th {\n",
       "        vertical-align: top;\n",
       "    }\n",
       "\n",
       "    .dataframe thead th {\n",
       "        text-align: right;\n",
       "    }\n",
       "</style>\n",
       "<table border=\"1\" class=\"dataframe\">\n",
       "  <thead>\n",
       "    <tr style=\"text-align: right;\">\n",
       "      <th></th>\n",
       "      <th>calls</th>\n",
       "      <th>minutes</th>\n",
       "      <th>messages</th>\n",
       "      <th>mb_used</th>\n",
       "      <th>is_ultra</th>\n",
       "    </tr>\n",
       "  </thead>\n",
       "  <tbody>\n",
       "    <tr>\n",
       "      <th>3107</th>\n",
       "      <td>0.0</td>\n",
       "      <td>0.0</td>\n",
       "      <td>0.0</td>\n",
       "      <td>530.78</td>\n",
       "      <td>1</td>\n",
       "    </tr>\n",
       "  </tbody>\n",
       "</table>\n",
       "</div>"
      ],
      "text/plain": [
       "      calls  minutes  messages  mb_used  is_ultra\n",
       "3107    0.0      0.0       0.0   530.78         1"
      ]
     },
     "metadata": {},
     "output_type": "display_data"
    }
   ],
   "source": [
    "display(df[(df['calls'] == 0) & (df['messages'] == 0)])"
   ]
  },
  {
   "cell_type": "markdown",
   "metadata": {},
   "source": [
    "Есть один пользователь, который в дорогом тарифе всего лишь использовал немного трафика"
   ]
  },
  {
   "cell_type": "markdown",
   "metadata": {},
   "source": [
    "<b>Проверим таблицу на присутствие явных дубликатов"
   ]
  },
  {
   "cell_type": "code",
   "execution_count": 15,
   "metadata": {},
   "outputs": [
    {
     "data": {
      "text/plain": [
       "0"
      ]
     },
     "execution_count": 15,
     "metadata": {},
     "output_type": "execute_result"
    }
   ],
   "source": [
    "df.duplicated().sum()"
   ]
  },
  {
   "cell_type": "markdown",
   "metadata": {},
   "source": [
    "<b>Вывод: судя по анализу, данные чистые и правдоподобные, предобработка не требуется, можно приступать к дальнейшей работе с данными. Целевым параметром для модели предсказания является столбец is_ultra. так как в столбце лишь 1 и 0 то у нас формируется задача Классификации."
   ]
  },
  {
   "cell_type": "markdown",
   "metadata": {},
   "source": [
    "<div class=\"alert alert-block alert-success\">\n",
    "<b>Комментарий ревьюера</b>\n",
    "\n",
    "Хороший первый взгляд на данные. Молодец, что изучил таблицу на предмет аномальных значений, построил гистограммы и т.д. Это правильный подход.\n",
    "\n",
    "</div>"
   ]
  },
  {
   "cell_type": "markdown",
   "metadata": {},
   "source": [
    "<div class=\"alert alert-block alert-warning\">\n",
    "<b>Комментарий ревьюера</b>\n",
    "\n",
    "Также предлагаю оценить мультиколлинеарность признаков (когда признаки модели имеют сильную связь друг с другом). Стоит найти коэффиценты корреляции, построить график скатерплот. После этого нужно принять решение о включении в модель одного из признаков. В общем случае такие признаки лишь мешают друг другу и утяжеляют модель.  Здесь стоит экспериментировать (эксперименты - основа нашего дела 😉). Если же модели дают одинаковые результаты что с двумя признаками (calls и minutes), что с одним из них, то тогда точно стоит один из них дропнуть. Меньше признаков - легче модель, быстрее обучается, быстрее предсказывает, что всегда хорошо.\n",
    "\n",
    "</div>\n"
   ]
  },
  {
   "cell_type": "markdown",
   "metadata": {},
   "source": [
    "<div class=\"alert alert-info\"> <b>Комментарий студента:</b> Оценка мультиколлинеарности признаков</div>\n",
    "\n",
    "Проверим столбцы calls и minutes на взаимную связь - посчитаем корреляцию друг с другом."
   ]
  },
  {
   "cell_type": "code",
   "execution_count": 16,
   "metadata": {},
   "outputs": [
    {
     "data": {
      "text/plain": [
       "0.9820832355742292"
      ]
     },
     "execution_count": 16,
     "metadata": {},
     "output_type": "execute_result"
    }
   ],
   "source": [
    "df['calls'].corr(df['minutes'])"
   ]
  },
  {
   "cell_type": "markdown",
   "metadata": {},
   "source": [
    "Корреляция близка к еденицы, значит для обучения моделей можно выбрать один из столбцов, что ниже и проделаем (пункт 5) - сравнив показатели лучшей модели."
   ]
  },
  {
   "cell_type": "code",
   "execution_count": 17,
   "metadata": {},
   "outputs": [
    {
     "data": {
      "image/png": "[encoded data removed]",
      "text/plain": [
       "<Figure size 432x288 with 1 Axes>"
      ]
     },
     "metadata": {
      "needs_background": "light"
     },
     "output_type": "display_data"
    }
   ],
   "source": [
    "df.plot(x=\"calls\", y=\"minutes\", kind=\"scatter\", alpha=0.6);\n",
    "plt.ylabel('minutes')\n",
    "plt.xlabel('calls')\n",
    "plt.grid();"
   ]
  },
  {
   "cell_type": "markdown",
   "metadata": {},
   "source": [
    "<div class=\"alert alert-info\"> <b>Комментарий студента:</b> Конец добавления</div>"
   ]
  },
  {
   "cell_type": "markdown",
   "metadata": {},
   "source": [
    "<div class=\"alert alert-block alert-success\">\n",
    "<b>Комментарий ревьюера (v2)</b> \n",
    "    \n",
    "Отличное дополнение.\n",
    "\n",
    "</div>"
   ]
  },
  {
   "cell_type": "markdown",
   "metadata": {},
   "source": [
    "## Разделим исходные данные на обучающую, валидационную и тестовую выборки."
   ]
  },
  {
   "cell_type": "markdown",
   "metadata": {},
   "source": [
    "Разделим данные на следующие части:\n",
    "\n",
    "* 60% - тренировочные данные,\n",
    "* 20% - валидационные данные,\n",
    "* 20% - тестовые данные"
   ]
  },
  {
   "cell_type": "markdown",
   "metadata": {},
   "source": [
    "Для разбиения на 3 выборки данных можно воспользоваться знакомой по курсу обучения from sklearn.model_selection import train_test_split два раза, но нашел решения с numpy гораздо быстрее - сразу в одну строчку получаем все три таблицы."
   ]
  },
  {
   "cell_type": "code",
   "execution_count": 18,
   "metadata": {},
   "outputs": [],
   "source": [
    "train, validate, test = np.split(df.sample(frac=1, random_state=12345),[int(.6*len(df)), int(.8*len(df))])\n",
    "# первый аргумент случайно перемешивает таблицу, второй разбивает на 60 и от 60 до 100%\n",
    "# и далее еще на два от 60 до 80 и от 80 до 100%"
   ]
  },
  {
   "cell_type": "code",
   "execution_count": 19,
   "metadata": {},
   "outputs": [
    {
     "data": {
      "text/plain": [
       "(1928, 5)"
      ]
     },
     "execution_count": 19,
     "metadata": {},
     "output_type": "execute_result"
    }
   ],
   "source": [
    "train.shape"
   ]
  },
  {
   "cell_type": "code",
   "execution_count": 20,
   "metadata": {},
   "outputs": [
    {
     "data": {
      "text/plain": [
       "(643, 5)"
      ]
     },
     "execution_count": 20,
     "metadata": {},
     "output_type": "execute_result"
    }
   ],
   "source": [
    "validate.shape"
   ]
  },
  {
   "cell_type": "code",
   "execution_count": 21,
   "metadata": {},
   "outputs": [
    {
     "data": {
      "text/plain": [
       "(643, 5)"
      ]
     },
     "execution_count": 21,
     "metadata": {},
     "output_type": "execute_result"
    }
   ],
   "source": [
    "test.shape"
   ]
  },
  {
   "cell_type": "markdown",
   "metadata": {},
   "source": [
    "Разделим каждую выборку на таблицу с колонкой целевых признаков и таблицу без них.\n"
   ]
  },
  {
   "cell_type": "code",
   "execution_count": 22,
   "metadata": {},
   "outputs": [],
   "source": [
    "features_train = train.drop(['is_ultra'], axis=1)\n",
    "target_train = train['is_ultra']"
   ]
  },
  {
   "cell_type": "code",
   "execution_count": 23,
   "metadata": {},
   "outputs": [],
   "source": [
    "features_valid = validate.drop(['is_ultra'], axis=1)\n",
    "target_valid = validate['is_ultra']"
   ]
  },
  {
   "cell_type": "code",
   "execution_count": 24,
   "metadata": {},
   "outputs": [],
   "source": [
    "features_test = test.drop(['is_ultra'], axis=1)\n",
    "target_test = test['is_ultra']"
   ]
  },
  {
   "cell_type": "markdown",
   "metadata": {},
   "source": [
    "Исходные данные разделены. Приступим к разработке разичных моделей, а именно: Дерево решений, случайный лес и логистическая регрессия "
   ]
  },
  {
   "cell_type": "markdown",
   "metadata": {},
   "source": [
    "<div class=\"alert alert-block alert-success\">\n",
    "<b>Комментарий ревьюера</b>\n",
    "\n",
    "Хорошо, данные разделены. Молодец, что проконтролировал размеры выборок.\n",
    "\n",
    "</div>\n",
    "\n"
   ]
  },
  {
   "cell_type": "markdown",
   "metadata": {},
   "source": [
    "<div class=\"alert alert-block alert-warning\">\n",
    "<b>Комментарий ревьюера</b>\n",
    "\n",
    "Также стоит проверить баланс классов в получившихся в выборках. У метода `train_test_split` есть параметр `stratify`. Если в него передать столбец с таргетом, то во всех выборках будет равное отношение классов (такое же, как в изначальном датафрейме).\n",
    "\n",
    "</div>\n"
   ]
  },
  {
   "cell_type": "markdown",
   "metadata": {},
   "source": [
    "<div class=\"alert alert-info\"> <b>Комментарий студента:</b> Разделение талицы с учетом баланса классов</div>\n",
    "\n",
    "\n",
    "Разделим таблицу сначала на 60 и 40 процентов и далее вторую выборку 50/50"
   ]
  },
  {
   "cell_type": "code",
   "execution_count": 25,
   "metadata": {},
   "outputs": [],
   "source": [
    "from sklearn.model_selection import train_test_split"
   ]
  },
  {
   "cell_type": "code",
   "execution_count": 26,
   "metadata": {},
   "outputs": [],
   "source": [
    "features = df.drop(['is_ultra'], axis=1)\n",
    "target = df['is_ultra']"
   ]
  },
  {
   "cell_type": "code",
   "execution_count": 27,
   "metadata": {},
   "outputs": [],
   "source": [
    "features_train, features_40, target_train, target_40 = train_test_split(features, target, stratify=target,\n",
    "                                                              test_size=0.4, random_state=12345)"
   ]
  },
  {
   "cell_type": "code",
   "execution_count": 28,
   "metadata": {},
   "outputs": [],
   "source": [
    "features_valid, features_test, target_valid, target_test = train_test_split(features_40, target_40, stratify=target_40,\n",
    "                                                              test_size=0.5, random_state=12345)"
   ]
  },
  {
   "cell_type": "code",
   "execution_count": 29,
   "metadata": {},
   "outputs": [
    {
     "data": {
      "text/html": [
       "<div>\n",
       "<style scoped>\n",
       "    .dataframe tbody tr th:only-of-type {\n",
       "        vertical-align: middle;\n",
       "    }\n",
       "\n",
       "    .dataframe tbody tr th {\n",
       "        vertical-align: top;\n",
       "    }\n",
       "\n",
       "    .dataframe thead th {\n",
       "        text-align: right;\n",
       "    }\n",
       "</style>\n",
       "<table border=\"1\" class=\"dataframe\">\n",
       "  <thead>\n",
       "    <tr style=\"text-align: right;\">\n",
       "      <th></th>\n",
       "      <th>calls</th>\n",
       "      <th>minutes</th>\n",
       "      <th>messages</th>\n",
       "      <th>mb_used</th>\n",
       "    </tr>\n",
       "  </thead>\n",
       "  <tbody>\n",
       "    <tr>\n",
       "      <th>78</th>\n",
       "      <td>73.0</td>\n",
       "      <td>562.27</td>\n",
       "      <td>11.0</td>\n",
       "      <td>17589.08</td>\n",
       "    </tr>\n",
       "    <tr>\n",
       "      <th>2024</th>\n",
       "      <td>27.0</td>\n",
       "      <td>147.66</td>\n",
       "      <td>39.0</td>\n",
       "      <td>7545.04</td>\n",
       "    </tr>\n",
       "    <tr>\n",
       "      <th>2907</th>\n",
       "      <td>164.0</td>\n",
       "      <td>1132.94</td>\n",
       "      <td>16.0</td>\n",
       "      <td>5998.50</td>\n",
       "    </tr>\n",
       "    <tr>\n",
       "      <th>680</th>\n",
       "      <td>126.0</td>\n",
       "      <td>848.92</td>\n",
       "      <td>57.0</td>\n",
       "      <td>19967.05</td>\n",
       "    </tr>\n",
       "    <tr>\n",
       "      <th>3078</th>\n",
       "      <td>13.0</td>\n",
       "      <td>60.13</td>\n",
       "      <td>22.0</td>\n",
       "      <td>29289.67</td>\n",
       "    </tr>\n",
       "    <tr>\n",
       "      <th>...</th>\n",
       "      <td>...</td>\n",
       "      <td>...</td>\n",
       "      <td>...</td>\n",
       "      <td>...</td>\n",
       "    </tr>\n",
       "    <tr>\n",
       "      <th>1554</th>\n",
       "      <td>82.0</td>\n",
       "      <td>618.35</td>\n",
       "      <td>56.0</td>\n",
       "      <td>19343.02</td>\n",
       "    </tr>\n",
       "    <tr>\n",
       "      <th>2018</th>\n",
       "      <td>62.0</td>\n",
       "      <td>468.96</td>\n",
       "      <td>10.0</td>\n",
       "      <td>28630.32</td>\n",
       "    </tr>\n",
       "    <tr>\n",
       "      <th>2981</th>\n",
       "      <td>57.0</td>\n",
       "      <td>317.27</td>\n",
       "      <td>27.0</td>\n",
       "      <td>13716.00</td>\n",
       "    </tr>\n",
       "    <tr>\n",
       "      <th>1391</th>\n",
       "      <td>35.0</td>\n",
       "      <td>202.92</td>\n",
       "      <td>25.0</td>\n",
       "      <td>12603.80</td>\n",
       "    </tr>\n",
       "    <tr>\n",
       "      <th>2434</th>\n",
       "      <td>45.0</td>\n",
       "      <td>313.72</td>\n",
       "      <td>38.0</td>\n",
       "      <td>14234.41</td>\n",
       "    </tr>\n",
       "  </tbody>\n",
       "</table>\n",
       "<p>643 rows × 4 columns</p>\n",
       "</div>"
      ],
      "text/plain": [
       "      calls  minutes  messages   mb_used\n",
       "78     73.0   562.27      11.0  17589.08\n",
       "2024   27.0   147.66      39.0   7545.04\n",
       "2907  164.0  1132.94      16.0   5998.50\n",
       "680   126.0   848.92      57.0  19967.05\n",
       "3078   13.0    60.13      22.0  29289.67\n",
       "...     ...      ...       ...       ...\n",
       "1554   82.0   618.35      56.0  19343.02\n",
       "2018   62.0   468.96      10.0  28630.32\n",
       "2981   57.0   317.27      27.0  13716.00\n",
       "1391   35.0   202.92      25.0  12603.80\n",
       "2434   45.0   313.72      38.0  14234.41\n",
       "\n",
       "[643 rows x 4 columns]"
      ]
     },
     "metadata": {},
     "output_type": "display_data"
    }
   ],
   "source": [
    "display(features_valid)"
   ]
  },
  {
   "cell_type": "code",
   "execution_count": 30,
   "metadata": {},
   "outputs": [
    {
     "data": {
      "text/plain": [
       "78      0\n",
       "2024    0\n",
       "2907    1\n",
       "680     0\n",
       "3078    1\n",
       "       ..\n",
       "1554    0\n",
       "2018    0\n",
       "2981    0\n",
       "1391    0\n",
       "2434    0\n",
       "Name: is_ultra, Length: 643, dtype: int64"
      ]
     },
     "metadata": {},
     "output_type": "display_data"
    }
   ],
   "source": [
    "display(target_valid)"
   ]
  },
  {
   "cell_type": "markdown",
   "metadata": {},
   "source": [
    "<div class=\"alert alert-block alert-success\">\n",
    "<b>Комментарий ревьюера (v2)</b> \n",
    "    \n",
    "👍\n",
    "\n",
    "</div>"
   ]
  },
  {
   "cell_type": "markdown",
   "metadata": {},
   "source": [
    "## Исследуем качество разных моделей, меняя гиперпараметры. Кратко напишем выводы исследования."
   ]
  },
  {
   "cell_type": "markdown",
   "metadata": {},
   "source": [
    "Импортируем все необхожимые модули:"
   ]
  },
  {
   "cell_type": "code",
   "execution_count": 31,
   "metadata": {},
   "outputs": [],
   "source": [
    "from sklearn.tree import DecisionTreeClassifier\n",
    "from sklearn.ensemble import RandomForestClassifier\n",
    "from sklearn.linear_model import LogisticRegression\n",
    "from sklearn.metrics import accuracy_score"
   ]
  },
  {
   "cell_type": "markdown",
   "metadata": {},
   "source": [
    "### Модель решающего дерева:\n"
   ]
  },
  {
   "cell_type": "code",
   "execution_count": 32,
   "metadata": {},
   "outputs": [
    {
     "name": "stdout",
     "output_type": "stream",
     "text": [
      "Наилучшая depth: 8\n",
      "Accuracy наилучшей модели на валидационной выборке: 0.80248833592535\n"
     ]
    }
   ],
   "source": [
    "best_model = None\n",
    "best_result = 0\n",
    "best_depth = 0\n",
    "for depth in range(1, 20):\n",
    "    model_tree = DecisionTreeClassifier(random_state=12345, max_depth=depth) # обучите модель с заданной глубиной дерева\n",
    "    model_tree.fit(features_train, target_train) # обучите модель\n",
    "    predictions = model_tree.predict(features_valid) # получите предсказания модели\n",
    "    result = accuracy_score(target_valid, predictions) # посчитайте качество модели\n",
    "    if result > best_result:\n",
    "        best_model = model_tree# сохраните наилучшую модель\n",
    "        best_result = result#  сохраните наилучшее значение метрики accuracy на валидационных данных\n",
    "        best_depth = depth\n",
    "print(\"Наилучшая depth:\", best_depth)\n",
    "print(\"Accuracy наилучшей модели на валидационной выборке:\", best_result)"
   ]
  },
  {
   "cell_type": "markdown",
   "metadata": {},
   "source": [
    "\n",
    "<div class=\"alert alert-info\"> <b>Комментарий студента:</b> До разделения с учетом классов было 0.7776049766718507\n",
    "</div>"
   ]
  },
  {
   "cell_type": "markdown",
   "metadata": {},
   "source": [
    "### Модель случайного леса"
   ]
  },
  {
   "cell_type": "code",
   "execution_count": 33,
   "metadata": {},
   "outputs": [
    {
     "name": "stdout",
     "output_type": "stream",
     "text": [
      "Наилучшая n_estimators: 19\n",
      "Accuracy наилучшей модели на валидационной выборке: 0.7931570762052877\n"
     ]
    }
   ],
   "source": [
    "best_model = None\n",
    "best_result = 0\n",
    "best_est = 0\n",
    "for est in range(1, 20):\n",
    "    model_forest = RandomForestClassifier(random_state=12345, n_estimators=est)\n",
    "    # обучите модель с заданным количеством деревьев\n",
    "    model_forest.fit(features_train, target_train) # обучите модель на тренировочной выборке\n",
    "    result = model_forest.score(features_valid, target_valid) # посчитайте качество модели на валидационной выборке\n",
    "    if result > best_result:\n",
    "        best_model = model_forest# сохраните наилучшую модель\n",
    "        best_result = result#  сохраните наилучшее значение метрики accuracy на валидационных данных\n",
    "        best_est = est\n",
    "        \n",
    "print(\"Наилучшая n_estimators:\", best_est)\n",
    "print(\"Accuracy наилучшей модели на валидационной выборке:\", best_result)"
   ]
  },
  {
   "cell_type": "markdown",
   "metadata": {},
   "source": [
    "\n",
    "<div class=\"alert alert-info\"> <b>Комментарий студента:</b> До разделения с учетом классов было 0.7822706065318819\n",
    "</div>"
   ]
  },
  {
   "cell_type": "markdown",
   "metadata": {},
   "source": [
    "<div class=\"alert alert-block alert-warning\">\n",
    "<b>Комментарий ревьюера</b>\n",
    "\n",
    "Также стоило настроить глубину дерева для случайного леса, то есть пройтись двойным циклом.\n",
    "\n",
    "</div>\n"
   ]
  },
  {
   "cell_type": "markdown",
   "metadata": {},
   "source": [
    "<div class=\"alert alert-info\"> <b>Комментарий студента:</b> Обучим модель случайного леса еще и с учетом глубины дерева\n",
    "</div>"
   ]
  },
  {
   "cell_type": "code",
   "execution_count": 34,
   "metadata": {},
   "outputs": [
    {
     "name": "stdout",
     "output_type": "stream",
     "text": [
      "Наилучшая n_estimators: 19\n",
      "Наилучшая depth: 8\n",
      "Accuracy наилучшей модели на валидационной выборке: 0.8118195956454122\n"
     ]
    }
   ],
   "source": [
    "best_model = None\n",
    "best_result = 0\n",
    "best_est = 0\n",
    "best_depth = 0\n",
    "for est in range(1, 20):\n",
    "    for depth in range(1, 20):\n",
    "        model_forest = RandomForestClassifier(random_state=12345, n_estimators=est, max_depth=depth)\n",
    "        # обучите модель с заданным количеством деревьев И ГЛУБИНЫ ДЕРЕВЬЕВ\n",
    "        model_forest.fit(features_train, target_train) # обучите модель на тренировочной выборке\n",
    "        result = model_forest.score(features_valid, target_valid) # посчитайте качество модели на валидационной выборке\n",
    "        if result > best_result:\n",
    "            best_model = model_forest# сохраните наилучшую модель\n",
    "            best_result = result#  сохраните наилучшее значение метрики accuracy на валидационных данных\n",
    "            best_est = est\n",
    "            best_depth = depth\n",
    "        \n",
    "print(\"Наилучшая n_estimators:\", best_est)\n",
    "print(\"Наилучшая depth:\", best_depth)\n",
    "print(\"Accuracy наилучшей модели на валидационной выборке:\", best_result)"
   ]
  },
  {
   "cell_type": "markdown",
   "metadata": {},
   "source": [
    "<div class=\"alert alert-info\"> <b>Комментарий студента:</b> Хм однако стало еще лучше\n",
    "</div>"
   ]
  },
  {
   "cell_type": "markdown",
   "metadata": {},
   "source": [
    "<div class=\"alert alert-block alert-success\">\n",
    "<b>Комментарий ревьюера (v2)</b> \n",
    "    \n",
    "Да, лес (почти) всегда выступает лучше чем дерево (ведь это много деревьев), поэтому если его метрика меньше, чем у дерева, то скорей всего что-то не так.\n",
    "\n",
    "</div>"
   ]
  },
  {
   "cell_type": "markdown",
   "metadata": {},
   "source": [
    "### Логистическая регрессия"
   ]
  },
  {
   "cell_type": "code",
   "execution_count": 35,
   "metadata": {},
   "outputs": [
    {
     "name": "stdout",
     "output_type": "stream",
     "text": [
      "Accuracy модели логистической регрессии на валидационной выборке: 0.7387247278382582\n"
     ]
    }
   ],
   "source": [
    "model_log = LogisticRegression(random_state=12345)\n",
    "# инициализируйте модель логистической регрессии с параметром random_state=12345\n",
    "model_log.fit(features_train, target_train) # обучите модель на тренировочной выборке\n",
    "result = model_log.score(features_valid, target_valid) # получите метрику качества модели на валидационной выборке\n",
    "\n",
    "print(\"Accuracy модели логистической регрессии на валидационной выборке:\", result)"
   ]
  },
  {
   "cell_type": "markdown",
   "metadata": {},
   "source": [
    "\n",
    "<div class=\"alert alert-info\"> <b>Комментарий студента:</b> До разделения с учетом классов было  0.6765163297045101\n",
    "</div>"
   ]
  },
  {
   "cell_type": "markdown",
   "metadata": {},
   "source": [
    "<b>Вывод: на валидационной выборке наилучший показател  качества достигнут на модели Случайного леса"
   ]
  },
  {
   "cell_type": "markdown",
   "metadata": {},
   "source": [
    "<div class=\"alert alert-info\"> <b>Комментарий студента:</b> Однако разделение выборок с учетом классов повышает Accuracy на 0.01 - 0.02\n",
    "    \n",
    "Добавление различных глубин решающего дерева в случайном лесе еще добавляет 0,02\n",
    "</div>"
   ]
  },
  {
   "cell_type": "markdown",
   "metadata": {},
   "source": [
    "<div class=\"alert alert-block alert-success\">\n",
    "<b>Комментарий ревьюера (v2)</b> \n",
    "    \n",
    "Довольно неплохая прибавка получилась :)\n",
    "\n",
    "</div>"
   ]
  },
  {
   "cell_type": "markdown",
   "metadata": {},
   "source": [
    "<div class=\"alert alert-block alert-success\">\n",
    "<b>Комментарий ревьюера</b>\n",
    "\n",
    "Все круто, шаг выполнен отлично.\n",
    "\n",
    "</div>\n"
   ]
  },
  {
   "cell_type": "markdown",
   "metadata": {},
   "source": [
    "## Проверим качество модели на тестовой выборке."
   ]
  },
  {
   "cell_type": "markdown",
   "metadata": {},
   "source": [
    "<div class=\"alert alert-block alert-warning\">\n",
    "<b>Комментарий ревьюера</b>\n",
    "\n",
    "Небольшой совет. Мы нашли лучшие параметры для наших моделей на валидационной выборке. Теперь стоит с найдеными параметрами обучить модели на выборке трейн+валид, и потом прогнать на тесте. Так показания должны улучшиться (но не факт 😉), так как наши модели обучатся на большем количестве данных.\n",
    "\n",
    "Логика такая. В нашем случае у нас не было отдельного датасета для тестирования, мы отрезали от основного небольшую часть (отложенная выборка). То есть остальные данные мы используем для обучения. Если обучить только на обучающей, что у нас полностью теряются валидационные данные - мы их не используем в модели, но они то у нас есть, жаль их выбрасывать.\n",
    "\n",
    "</div>\n"
   ]
  },
  {
   "cell_type": "markdown",
   "metadata": {},
   "source": [
    "<div class=\"alert alert-info\"> <b>Комментарий студента:</b> Для проверки работы моделей на тестовой выборке, обучим модель на 80% данных таблицы\n",
    "</div>"
   ]
  },
  {
   "cell_type": "code",
   "execution_count": 36,
   "metadata": {},
   "outputs": [],
   "source": [
    "features_train, features_test, target_train, target_test = train_test_split(features, target, stratify=target,\n",
    "                                                              test_size=0.2, random_state=12345)"
   ]
  },
  {
   "cell_type": "code",
   "execution_count": 37,
   "metadata": {},
   "outputs": [
    {
     "data": {
      "text/plain": [
       "(2571, 4)"
      ]
     },
     "execution_count": 37,
     "metadata": {},
     "output_type": "execute_result"
    }
   ],
   "source": [
    "features_train.shape"
   ]
  },
  {
   "cell_type": "markdown",
   "metadata": {},
   "source": [
    "### Модель решающего дерева:"
   ]
  },
  {
   "cell_type": "code",
   "execution_count": 38,
   "metadata": {},
   "outputs": [
    {
     "name": "stdout",
     "output_type": "stream",
     "text": [
      "Accuracy на тестовой выборке: 0.80248833592535\n"
     ]
    }
   ],
   "source": [
    "model_tree = DecisionTreeClassifier(random_state=12345, max_depth=10) # обучите модель с заданной глубиной дерева\n",
    "model_tree.fit(features_train, target_train) # обучите модель\n",
    "predictions = model_tree.predict(features_test) # получите предсказания модели\n",
    "result = accuracy_score(target_test, predictions) # посчитайте качество модели на тестовой выборке\n",
    "print(\"Accuracy на тестовой выборке:\", result)"
   ]
  },
  {
   "cell_type": "markdown",
   "metadata": {},
   "source": [
    "<div class=\"alert alert-info\"> <b>Комментарий студента:</b> при обучении на 60% выборки без стратификации было 0.7947122861586314\n",
    "</div>"
   ]
  },
  {
   "cell_type": "markdown",
   "metadata": {},
   "source": [
    "### Модель случайного леса"
   ]
  },
  {
   "cell_type": "code",
   "execution_count": 39,
   "metadata": {},
   "outputs": [
    {
     "name": "stdout",
     "output_type": "stream",
     "text": [
      "Accuracy на тестовой выборке: 0.7978227060653188\n"
     ]
    }
   ],
   "source": [
    "model_forest = RandomForestClassifier(random_state=12345, n_estimators=12) # обучите модель с заданным количеством деревьев\n",
    "model_forest.fit(features_train, target_train) # обучите модель на тренировочной выборке\n",
    "result = model_forest.score(features_test, target_test) # посчитайте качество модели на тестовой выборке\n",
    "print(\"Accuracy на тестовой выборке:\", result)"
   ]
  },
  {
   "cell_type": "markdown",
   "metadata": {},
   "source": [
    "\n",
    "<div class=\"alert alert-info\"> <b>Комментарий студента:</b> при обучении на 60% выборки без стратификации было 0.7822706065318819\n",
    "</div>"
   ]
  },
  {
   "cell_type": "markdown",
   "metadata": {},
   "source": [
    "Теперь проверим модель с учетом глубины дерева"
   ]
  },
  {
   "cell_type": "code",
   "execution_count": 40,
   "metadata": {},
   "outputs": [
    {
     "name": "stdout",
     "output_type": "stream",
     "text": [
      "Accuracy на тестовой выборке: 0.8164852255054432\n"
     ]
    }
   ],
   "source": [
    "model_forest = RandomForestClassifier(random_state=12345, n_estimators=19, max_depth=8) \n",
    "model_forest.fit(features_train, target_train) # обучите модель на тренировочной выборке\n",
    "result = model_forest.score(features_test, target_test) # посчитайте качество модели на тестовой выборке\n",
    "print(\"Accuracy на тестовой выборке:\", result)"
   ]
  },
  {
   "cell_type": "markdown",
   "metadata": {},
   "source": [
    "<div class=\"alert alert-info\"> <b>Комментарий студента:</b> Ну вот и нашли наибольшую точность на решающем дереве\n",
    "</div>"
   ]
  },
  {
   "cell_type": "markdown",
   "metadata": {},
   "source": [
    "### Логистическая регрессия"
   ]
  },
  {
   "cell_type": "code",
   "execution_count": 41,
   "metadata": {},
   "outputs": [
    {
     "name": "stdout",
     "output_type": "stream",
     "text": [
      "Accuracy модели логистической регрессии на тестовой выборке: 0.7091757387247278\n"
     ]
    }
   ],
   "source": [
    "model_log = LogisticRegression(random_state=12345)\n",
    "# инициализируйте модель логистической регрессии с параметром random_state=12345\n",
    "model_log.fit(features_train, target_train) # обучите модель на тренировочной выборке\n",
    "result = model_log.score(features_test, target_test) # получите метрику качества модели на тестовой выборке\n",
    "\n",
    "print(\"Accuracy модели логистической регрессии на тестовой выборке:\", result)"
   ]
  },
  {
   "cell_type": "markdown",
   "metadata": {},
   "source": [
    "\n",
    "<div class=\"alert alert-info\"> <b>Комментарий студента:</b> при обучении на 60% выборки без стратификации было 0.6765163297045101\n",
    "</div>"
   ]
  },
  {
   "cell_type": "markdown",
   "metadata": {},
   "source": [
    "<b>Вывод: на тестовой выборке наилучший показатель  качества достигнут на модели Решающего дерева"
   ]
  },
  {
   "cell_type": "markdown",
   "metadata": {},
   "source": [
    "<div class=\"alert alert-block alert-success\">\n",
    "<b>Комментарий ревьюера</b>\n",
    "\n",
    "Отличный результат.\n",
    "\n",
    "</div>\n"
   ]
  },
  {
   "cell_type": "markdown",
   "metadata": {},
   "source": [
    "<div class=\"alert alert-info\"> <b>Комментарий студента:</b> Однако повышение размера тренировочной выборки существенно стказалось на точности модели. в моделе Случайного леса с двумя гиперпараметрами добились значения точности 0,91\n",
    "</div>"
   ]
  },
  {
   "cell_type": "markdown",
   "metadata": {},
   "source": [
    "<div class=\"alert alert-block alert-success\">\n",
    "<b>Комментарий ревьюера (v2)</b> \n",
    "    \n",
    "Только 0.81 :)\n",
    "\n",
    "</div>"
   ]
  },
  {
   "cell_type": "markdown",
   "metadata": {},
   "source": [
    "## Посмортим на влияение столбцов  calls и minutes на лучшую модель\n",
    "\n",
    "<div class=\"alert alert-info\">Лучшая у нас модель Решающего дерева\n",
    "\n",
    "подготовим выборки с только столбцом calls и с только столбцом minutes, используя уже готовые выборки 80\\20</div>"
   ]
  },
  {
   "cell_type": "code",
   "execution_count": 42,
   "metadata": {},
   "outputs": [],
   "source": [
    "features_train_calls = features_train.drop(['minutes'], axis=1)\n",
    "features_train_min = features_train.drop(['calls'], axis=1)\n",
    "features_test_calls = features_test.drop(['minutes'], axis=1)\n",
    "features_test_min = features_test.drop(['calls'], axis=1)"
   ]
  },
  {
   "cell_type": "code",
   "execution_count": 43,
   "metadata": {},
   "outputs": [
    {
     "name": "stdout",
     "output_type": "stream",
     "text": [
      "Accuracy на тестовой выборке: 0.8009331259720062\n"
     ]
    }
   ],
   "source": [
    "model_forest = RandomForestClassifier(random_state=12345, n_estimators=19, max_depth=8) \n",
    "model_forest.fit(features_train_calls, target_train) # обучите модель на тренировочной выборке\n",
    "result = model_forest.score(features_test_calls, target_test) # посчитайте качество модели на тестовой выборке\n",
    "print(\"Accuracy на тестовой выборке:\", result)"
   ]
  },
  {
   "cell_type": "code",
   "execution_count": 44,
   "metadata": {},
   "outputs": [
    {
     "name": "stdout",
     "output_type": "stream",
     "text": [
      "Accuracy на тестовой выборке: 0.8102643856920684\n"
     ]
    }
   ],
   "source": [
    "model_forest.fit(features_train_min, target_train) # обучите модель на тренировочной выборке\n",
    "result = model_forest.score(features_test_min, target_test) # посчитайте качество модели на тестовой выборке\n",
    "print(\"Accuracy на тестовой выборке:\", result)"
   ]
  },
  {
   "cell_type": "markdown",
   "metadata": {},
   "source": [
    "<div class=\"alert alert-info\">И что у нас с точностью:\n",
    "    \n",
    "    \n",
    "с обоими столбцами - 0.8164852255054432\n",
    "\n",
    "со столбцом calls - 0.8009331259720062\n",
    "\n",
    "со столюцом minutes - 0.8102643856920684\n",
    "\n",
    "есть влияние в уменьшение, но минимальное, и видимо взаимосвязанными данными (корреляция близка к 1) при моделировании предсказаний можно пренебречь</div>"
   ]
  },
  {
   "cell_type": "markdown",
   "metadata": {},
   "source": [
    "<div class=\"alert alert-block alert-success\">\n",
    "<b>Комментарий ревьюера (v2)</b> \n",
    "    \n",
    "Да, вполне, зато меньше данных = быстрее обучение.\n",
    "    \n",
    "\n",
    "</div>"
   ]
  },
  {
   "cell_type": "markdown",
   "metadata": {},
   "source": [
    "## Дополнительное задание: проверим модели на вменяемость."
   ]
  },
  {
   "cell_type": "markdown",
   "metadata": {},
   "source": [
    "Проверку модели на вменяемость произведем в сравнении с целевыми параметрами в тестовойт выборке:\n",
    "\n",
    "* все числа 0\n",
    "* все числа 1"
   ]
  },
  {
   "cell_type": "markdown",
   "metadata": {},
   "source": [
    "Создадим таблицы с целевыми столбцами заполненными всеми нулями или всеми единицами и посчитаем точность"
   ]
  },
  {
   "cell_type": "code",
   "execution_count": 45,
   "metadata": {},
   "outputs": [
    {
     "name": "stdout",
     "output_type": "stream",
     "text": [
      "0.693528313627878\n"
     ]
    }
   ],
   "source": [
    "target_pred_0 = pd.Series(0, index=np.arange(len(df)))\n",
    "\n",
    "print(accuracy_score(df['is_ultra'], target_pred_0)) "
   ]
  },
  {
   "cell_type": "code",
   "execution_count": 46,
   "metadata": {},
   "outputs": [
    {
     "name": "stdout",
     "output_type": "stream",
     "text": [
      "0.30647168637212197\n"
     ]
    }
   ],
   "source": [
    "target_pred_1 = pd.Series(1, index=np.arange(len(df)))\n",
    "\n",
    "print(accuracy_score(df['is_ultra'], target_pred_1)) "
   ]
  },
  {
   "cell_type": "markdown",
   "metadata": {},
   "source": [
    "<b>Вывод: Если сравнивать наилучшее accuracy модели Решающего дерева - 0.7947122861586314, с accuracy нулевой таблицы 0.693528313627878, то видим разницу в более чем 0.1, что может говорить о вменяемости моделирования предсказаний, хотя с академической точки зрения мне еще не ясны вменяемые величины разницы предсказания по модели и случайной выборки..."
   ]
  },
  {
   "cell_type": "markdown",
   "metadata": {},
   "source": [
    "<div class=\"alert alert-block alert-success\">\n",
    "<b>Комментарий ревьюера</b>\n",
    "\n",
    "Все круто, ты отлично разобрался с проверкой на адекватность. Также эти значения можно получить чуть проще.\n",
    "\n",
    "    \n",
    " В следующем спринте вы будете изучать баланс классов. Так вот, при изучении таргета смотрим его разбиение - в нашем случае 30% первого класса и 70% нулевого класса (примерно). Из этих процентов сразу становится понятно, что если мы предскажем всем нулевой класс, то получим 70% accuracy. Это цифру можно сразу держать в голове при моделировании.\n",
    "\n",
    ">`df['is_ultra'].value_counts(normalize=True)`\n",
    "    \n",
    "<br> Проверку на адекватность достаточно удобно реализовывать с помощью <a href=\"https://scikit-learn.org/stable/modules/generated/sklearn.dummy.DummyClassifier.html\"> DummyClassifier </a>. \n",
    "    <br> Точность правильной константной модели должна быть равна доли бОльшего класса.\n",
    "\n",
    "</div>\n"
   ]
  },
  {
   "cell_type": "markdown",
   "metadata": {},
   "source": [
    "## Общий вывод исследования"
   ]
  },
  {
   "cell_type": "markdown",
   "metadata": {},
   "source": [
    "  <b>Во многих задачах предсказаний правильнее ставить цели по accuracy хотя бы в размере 0,9-0,95, ошибка в 0.2 весьма большая, что бы с уверенностью прогнозировать необходимость перехода пользователя на предпочтительный тариф, исходя из показателей потребления услуг.\n",
    "    \n",
    "  Но цена ошибки в данной задаче не высока, так как ничего страшного если алгоритм предложит перейти на кажущейся подходящим тариф, пользователю, которому этот тариф особо то и не подходит, и точность прогнозирования 0,79 в данной задаче вполне достаточна дабы предложить конктерному пользователю перейти с архивного тарифа на один из новых тарифов компании. \n",
    "    "
   ]
  },
  {
   "cell_type": "markdown",
   "metadata": {},
   "source": [
    "<b>То есть если известны показатели количества звонков, смс и мб интернета абонента архивного тарифа можно смело положиться на прогнозы модели обучающего дерева или случайного леса, для предложения абоненту конкретного нового тарифа, путем обзвона или рекламного смс сообщения, и, при этом, с достаточной долей вероятности попасть в потребности клиента по потреблению услуг, повышая лояльность клиентов компании."
   ]
  },
  {
   "cell_type": "markdown",
   "metadata": {},
   "source": [
    "<div class=\"alert alert-info\"> <b>Комментарий студента:</b> Спасибо за хорошие вопросы и подсказки, стало наглядно видно влияение на точность предсказаний многих параметров выборок и моделей\n",
    "</div>"
   ]
  },
  {
   "cell_type": "markdown",
   "metadata": {},
   "source": [
    "<div class=\"alert alert-block alert-success\">\n",
    "<b>Комментарий ревьюера (v2)</b> \n",
    "    \n",
    "Очень рад, если был полезен! Успехов!\n",
    "\n",
    "</div>"
   ]
  },
  {
   "cell_type": "markdown",
   "metadata": {},
   "source": [
    "<div class=\"alert alert-block alert-success\">\n",
    "<b>Комментарий ревьюера</b>\n",
    "\n",
    "Хороший, цельный проект, молодец.\n",
    "\n",
    "</div>\n"
   ]
  }
 ],
 "metadata": {
  "ExecuteTimeLog": [
   {
    "duration": 1514,
    "start_time": "2021-10-19T15:35:01.344Z"
   },
   {
    "duration": 5,
    "start_time": "2021-10-19T15:35:02.861Z"
   },
   {
    "duration": 451,
    "start_time": "2021-10-19T15:35:02.869Z"
   },
   {
    "duration": 20,
    "start_time": "2021-10-19T15:35:03.322Z"
   },
   {
    "duration": 11,
    "start_time": "2021-10-19T15:35:03.345Z"
   },
   {
    "duration": 65,
    "start_time": "2021-10-19T15:35:03.359Z"
   },
   {
    "duration": 7,
    "start_time": "2021-10-19T15:35:03.427Z"
   },
   {
    "duration": 971,
    "start_time": "2021-10-19T15:35:03.439Z"
   },
   {
    "duration": 1893,
    "start_time": "2021-10-19T15:35:04.422Z"
   },
   {
    "duration": 1806,
    "start_time": "2021-10-19T15:35:06.322Z"
   },
   {
    "duration": 960,
    "start_time": "2021-10-19T15:35:08.132Z"
   },
   {
    "duration": 8,
    "start_time": "2021-10-19T15:35:09.095Z"
   },
   {
    "duration": 26,
    "start_time": "2021-10-19T15:35:09.105Z"
   },
   {
    "duration": 14,
    "start_time": "2021-10-19T15:35:09.134Z"
   },
   {
    "duration": 13,
    "start_time": "2021-10-19T15:35:09.151Z"
   },
   {
    "duration": 10,
    "start_time": "2021-10-19T15:35:09.167Z"
   },
   {
    "duration": 45,
    "start_time": "2021-10-19T15:35:09.179Z"
   },
   {
    "duration": 10,
    "start_time": "2021-10-19T15:35:09.226Z"
   },
   {
    "duration": 12,
    "start_time": "2021-10-19T15:35:09.239Z"
   },
   {
    "duration": 7,
    "start_time": "2021-10-19T15:35:09.254Z"
   },
   {
    "duration": 9,
    "start_time": "2021-10-19T15:35:09.264Z"
   },
   {
    "duration": 11,
    "start_time": "2021-10-19T15:35:09.276Z"
   },
   {
    "duration": 47,
    "start_time": "2021-10-19T15:35:09.324Z"
   },
   {
    "duration": 199,
    "start_time": "2021-10-19T15:35:09.374Z"
   },
   {
    "duration": 1082,
    "start_time": "2021-10-19T15:35:09.575Z"
   },
   {
    "duration": 14,
    "start_time": "2021-10-19T15:35:10.659Z"
   },
   {
    "duration": 16,
    "start_time": "2021-10-19T15:35:10.676Z"
   },
   {
    "duration": 74,
    "start_time": "2021-10-19T15:35:10.723Z"
   },
   {
    "duration": 25,
    "start_time": "2021-10-19T15:35:10.799Z"
   },
   {
    "duration": 7,
    "start_time": "2021-10-19T15:35:10.827Z"
   },
   {
    "duration": 8,
    "start_time": "2021-10-19T15:35:10.836Z"
   },
   {
    "duration": 452,
    "start_time": "2021-10-19T18:41:26.844Z"
   },
   {
    "duration": 1474,
    "start_time": "2021-10-19T18:41:34.563Z"
   },
   {
    "duration": 4,
    "start_time": "2021-10-19T18:41:36.040Z"
   },
   {
    "duration": 267,
    "start_time": "2021-10-19T18:41:36.057Z"
   },
   {
    "duration": 18,
    "start_time": "2021-10-19T18:41:36.327Z"
   },
   {
    "duration": 11,
    "start_time": "2021-10-19T18:41:36.347Z"
   },
   {
    "duration": 32,
    "start_time": "2021-10-19T18:41:36.360Z"
   },
   {
    "duration": 5,
    "start_time": "2021-10-19T18:41:36.395Z"
   },
   {
    "duration": 1018,
    "start_time": "2021-10-19T18:41:36.404Z"
   },
   {
    "duration": 1050,
    "start_time": "2021-10-19T18:41:37.425Z"
   },
   {
    "duration": 1025,
    "start_time": "2021-10-19T18:41:38.478Z"
   },
   {
    "duration": 953,
    "start_time": "2021-10-19T18:41:39.505Z"
   },
   {
    "duration": 8,
    "start_time": "2021-10-19T18:41:40.460Z"
   },
   {
    "duration": 12,
    "start_time": "2021-10-19T18:41:40.470Z"
   },
   {
    "duration": 17,
    "start_time": "2021-10-19T18:41:40.485Z"
   },
   {
    "duration": 13,
    "start_time": "2021-10-19T18:41:40.504Z"
   },
   {
    "duration": 40,
    "start_time": "2021-10-19T18:41:40.519Z"
   },
   {
    "duration": 9,
    "start_time": "2021-10-19T18:41:40.562Z"
   },
   {
    "duration": 13,
    "start_time": "2021-10-19T18:41:40.573Z"
   },
   {
    "duration": 7,
    "start_time": "2021-10-19T18:41:40.588Z"
   },
   {
    "duration": 6,
    "start_time": "2021-10-19T18:41:40.597Z"
   },
   {
    "duration": 9,
    "start_time": "2021-10-19T18:41:40.605Z"
   },
   {
    "duration": 42,
    "start_time": "2021-10-19T18:41:40.616Z"
   },
   {
    "duration": 6,
    "start_time": "2021-10-19T18:41:40.662Z"
   },
   {
    "duration": 45,
    "start_time": "2021-10-19T18:41:40.671Z"
   },
   {
    "duration": 213,
    "start_time": "2021-10-19T18:41:40.719Z"
   },
   {
    "duration": 1057,
    "start_time": "2021-10-19T18:41:40.935Z"
   },
   {
    "duration": 13,
    "start_time": "2021-10-19T18:41:41.995Z"
   },
   {
    "duration": 19,
    "start_time": "2021-10-19T18:41:42.010Z"
   },
   {
    "duration": 100,
    "start_time": "2021-10-19T18:41:42.031Z"
   },
   {
    "duration": 8,
    "start_time": "2021-10-19T18:41:42.133Z"
   },
   {
    "duration": 7,
    "start_time": "2021-10-19T18:41:42.158Z"
   },
   {
    "duration": 9,
    "start_time": "2021-10-19T18:41:42.167Z"
   },
   {
    "duration": 4,
    "start_time": "2021-10-19T18:49:34.624Z"
   },
   {
    "duration": 7,
    "start_time": "2021-10-19T18:52:42.184Z"
   },
   {
    "duration": 117,
    "start_time": "2021-10-19T18:53:55.928Z"
   },
   {
    "duration": 539,
    "start_time": "2021-10-19T18:54:04.464Z"
   },
   {
    "duration": 8,
    "start_time": "2021-10-19T18:56:35.741Z"
   },
   {
    "duration": 9,
    "start_time": "2021-10-19T18:57:00.825Z"
   },
   {
    "duration": 9,
    "start_time": "2021-10-19T18:57:33.494Z"
   },
   {
    "duration": 15,
    "start_time": "2021-10-19T18:58:13.587Z"
   },
   {
    "duration": 8,
    "start_time": "2021-10-19T18:58:34.463Z"
   },
   {
    "duration": 8,
    "start_time": "2021-10-19T18:59:33.686Z"
   },
   {
    "duration": 10,
    "start_time": "2021-10-19T18:59:35.883Z"
   },
   {
    "duration": 12,
    "start_time": "2021-10-19T18:59:36.472Z"
   },
   {
    "duration": 15,
    "start_time": "2021-10-19T18:59:38.682Z"
   },
   {
    "duration": 7,
    "start_time": "2021-10-19T18:59:43.608Z"
   },
   {
    "duration": 8,
    "start_time": "2021-10-19T19:00:49.426Z"
   },
   {
    "duration": 7,
    "start_time": "2021-10-19T19:00:49.994Z"
   },
   {
    "duration": 15,
    "start_time": "2021-10-19T19:00:51.929Z"
   },
   {
    "duration": 7,
    "start_time": "2021-10-19T19:00:53.184Z"
   },
   {
    "duration": 6,
    "start_time": "2021-10-19T19:01:20.010Z"
   },
   {
    "duration": 9,
    "start_time": "2021-10-19T19:01:20.624Z"
   },
   {
    "duration": 9,
    "start_time": "2021-10-19T19:01:21.063Z"
   },
   {
    "duration": 16,
    "start_time": "2021-10-19T19:01:21.640Z"
   },
   {
    "duration": 7,
    "start_time": "2021-10-19T19:01:23.231Z"
   },
   {
    "duration": 4,
    "start_time": "2021-10-19T19:02:45.651Z"
   },
   {
    "duration": 177,
    "start_time": "2021-10-19T19:02:46.787Z"
   },
   {
    "duration": 1017,
    "start_time": "2021-10-19T19:02:51.573Z"
   },
   {
    "duration": 15,
    "start_time": "2021-10-19T19:02:57.301Z"
   },
   {
    "duration": 16887,
    "start_time": "2021-10-19T19:12:36.549Z"
   },
   {
    "duration": 9,
    "start_time": "2021-10-19T19:19:45.140Z"
   },
   {
    "duration": 95,
    "start_time": "2021-10-19T19:20:27.334Z"
   },
   {
    "duration": 19,
    "start_time": "2021-10-19T19:20:38.012Z"
   },
   {
    "duration": 9,
    "start_time": "2021-10-19T19:20:46.316Z"
   },
   {
    "duration": 5,
    "start_time": "2021-10-19T19:21:27.074Z"
   },
   {
    "duration": 64,
    "start_time": "2021-10-19T19:25:55.075Z"
   },
   {
    "duration": 20440,
    "start_time": "2021-10-19T19:27:15.691Z"
   },
   {
    "duration": 75,
    "start_time": "2021-10-19T19:28:17.367Z"
   },
   {
    "duration": 83,
    "start_time": "2021-10-19T19:28:25.811Z"
   },
   {
    "duration": 71,
    "start_time": "2021-10-19T19:28:30.719Z"
   },
   {
    "duration": 90,
    "start_time": "2021-10-19T19:28:36.093Z"
   },
   {
    "duration": 92,
    "start_time": "2021-10-19T19:28:43.483Z"
   },
   {
    "duration": 93,
    "start_time": "2021-10-19T19:29:30.783Z"
   },
   {
    "duration": 95,
    "start_time": "2021-10-19T19:29:34.676Z"
   },
   {
    "duration": 95,
    "start_time": "2021-10-19T19:29:37.621Z"
   },
   {
    "duration": 112,
    "start_time": "2021-10-19T19:29:41.558Z"
   },
   {
    "duration": 117,
    "start_time": "2021-10-19T19:29:45.274Z"
   },
   {
    "duration": 105,
    "start_time": "2021-10-19T19:29:48.977Z"
   },
   {
    "duration": 105,
    "start_time": "2021-10-19T19:29:51.829Z"
   },
   {
    "duration": 105,
    "start_time": "2021-10-19T19:29:54.441Z"
   },
   {
    "duration": 67,
    "start_time": "2021-10-19T19:29:59.417Z"
   },
   {
    "duration": 115,
    "start_time": "2021-10-19T19:30:02.550Z"
   },
   {
    "duration": 107,
    "start_time": "2021-10-19T19:30:06.670Z"
   },
   {
    "duration": 111,
    "start_time": "2021-10-19T19:31:18.340Z"
   },
   {
    "duration": 114,
    "start_time": "2021-10-19T19:31:21.514Z"
   },
   {
    "duration": 795,
    "start_time": "2021-10-19T19:31:25.216Z"
   },
   {
    "duration": 105,
    "start_time": "2021-10-19T19:31:33.783Z"
   },
   {
    "duration": 87,
    "start_time": "2021-10-19T19:35:07.472Z"
   },
   {
    "duration": 101,
    "start_time": "2021-10-19T19:35:20.571Z"
   },
   {
    "duration": 164,
    "start_time": "2021-10-19T19:35:40.068Z"
   },
   {
    "duration": 166,
    "start_time": "2021-10-19T19:35:43.522Z"
   },
   {
    "duration": 170,
    "start_time": "2021-10-19T19:35:47.261Z"
   },
   {
    "duration": 840,
    "start_time": "2021-10-19T19:35:50.161Z"
   },
   {
    "duration": 39,
    "start_time": "2021-10-19T19:35:56.932Z"
   },
   {
    "duration": 106,
    "start_time": "2021-10-19T19:35:59.657Z"
   },
   {
    "duration": 107,
    "start_time": "2021-10-19T19:36:02.877Z"
   },
   {
    "duration": 43,
    "start_time": "2021-10-19T19:36:05.585Z"
   },
   {
    "duration": 99,
    "start_time": "2021-10-19T19:36:10.623Z"
   },
   {
    "duration": 112,
    "start_time": "2021-10-19T19:36:15.097Z"
   },
   {
    "duration": 104,
    "start_time": "2021-10-19T19:36:22.268Z"
   },
   {
    "duration": 48,
    "start_time": "2021-10-19T19:36:25.195Z"
   },
   {
    "duration": 79,
    "start_time": "2021-10-19T19:36:28.587Z"
   },
   {
    "duration": 64,
    "start_time": "2021-10-19T19:36:36.028Z"
   },
   {
    "duration": 19,
    "start_time": "2021-10-19T19:37:13.063Z"
   },
   {
    "duration": 93,
    "start_time": "2021-10-19T19:37:15.999Z"
   },
   {
    "duration": 70,
    "start_time": "2021-10-19T19:37:19.676Z"
   },
   {
    "duration": 66,
    "start_time": "2021-10-19T19:37:24.198Z"
   },
   {
    "duration": 98,
    "start_time": "2021-10-19T19:38:16.911Z"
   },
   {
    "duration": 8,
    "start_time": "2021-10-19T19:39:47.603Z"
   },
   {
    "duration": 15,
    "start_time": "2021-10-19T19:40:27.601Z"
   },
   {
    "duration": 19,
    "start_time": "2021-10-19T19:40:47.482Z"
   },
   {
    "duration": 6,
    "start_time": "2021-10-19T19:41:00.743Z"
   },
   {
    "duration": 34,
    "start_time": "2021-10-19T19:41:00.751Z"
   },
   {
    "duration": 521,
    "start_time": "2021-10-19T19:41:00.788Z"
   },
   {
    "duration": 12,
    "start_time": "2021-10-19T19:41:01.312Z"
   },
   {
    "duration": 32,
    "start_time": "2021-10-19T19:41:01.326Z"
   },
   {
    "duration": 43,
    "start_time": "2021-10-19T19:41:01.361Z"
   },
   {
    "duration": 5,
    "start_time": "2021-10-19T19:41:01.407Z"
   },
   {
    "duration": 1195,
    "start_time": "2021-10-19T19:41:01.415Z"
   },
   {
    "duration": 1206,
    "start_time": "2021-10-19T19:41:02.616Z"
   },
   {
    "duration": 1011,
    "start_time": "2021-10-19T19:41:03.826Z"
   },
   {
    "duration": 1208,
    "start_time": "2021-10-19T19:41:04.840Z"
   },
   {
    "duration": 11,
    "start_time": "2021-10-19T19:41:06.051Z"
   },
   {
    "duration": 23,
    "start_time": "2021-10-19T19:41:06.064Z"
   },
   {
    "duration": 24,
    "start_time": "2021-10-19T19:41:06.090Z"
   },
   {
    "duration": 11,
    "start_time": "2021-10-19T19:41:06.117Z"
   },
   {
    "duration": 7,
    "start_time": "2021-10-19T19:41:06.130Z"
   },
   {
    "duration": 8,
    "start_time": "2021-10-19T19:41:06.158Z"
   },
   {
    "duration": 16,
    "start_time": "2021-10-19T19:41:06.169Z"
   },
   {
    "duration": 9,
    "start_time": "2021-10-19T19:41:06.187Z"
   },
   {
    "duration": 16,
    "start_time": "2021-10-19T19:41:06.198Z"
   },
   {
    "duration": 147,
    "start_time": "2021-10-19T19:41:06.216Z"
   },
   {
    "duration": 16,
    "start_time": "2021-10-19T19:41:06.366Z"
   },
   {
    "duration": 20,
    "start_time": "2021-10-19T19:41:06.384Z"
   },
   {
    "duration": 34,
    "start_time": "2021-10-19T19:41:06.407Z"
   },
   {
    "duration": 15,
    "start_time": "2021-10-19T19:41:06.443Z"
   },
   {
    "duration": 11,
    "start_time": "2021-10-19T19:41:06.460Z"
   },
   {
    "duration": 9,
    "start_time": "2021-10-19T19:41:06.476Z"
   },
   {
    "duration": 16,
    "start_time": "2021-10-19T19:41:06.490Z"
   },
   {
    "duration": 8,
    "start_time": "2021-10-19T19:41:06.508Z"
   },
   {
    "duration": 5,
    "start_time": "2021-10-19T19:41:06.518Z"
   },
   {
    "duration": 191,
    "start_time": "2021-10-19T19:41:06.559Z"
   },
   {
    "duration": 1066,
    "start_time": "2021-10-19T19:41:06.756Z"
   },
   {
    "duration": 16833,
    "start_time": "2021-10-19T19:41:07.825Z"
   },
   {
    "duration": 18,
    "start_time": "2021-10-19T19:41:24.661Z"
   },
   {
    "duration": 12,
    "start_time": "2021-10-19T19:41:24.683Z"
   },
   {
    "duration": 6,
    "start_time": "2021-10-19T19:41:24.698Z"
   },
   {
    "duration": 57,
    "start_time": "2021-10-19T19:41:24.707Z"
   },
   {
    "duration": 98,
    "start_time": "2021-10-19T19:41:24.767Z"
   },
   {
    "duration": 118,
    "start_time": "2021-10-19T19:41:24.867Z"
   },
   {
    "duration": 17,
    "start_time": "2021-10-19T19:41:24.988Z"
   },
   {
    "duration": 7,
    "start_time": "2021-10-19T19:41:25.007Z"
   },
   {
    "duration": 7,
    "start_time": "2021-10-19T19:41:25.016Z"
   },
   {
    "duration": 19,
    "start_time": "2021-10-19T19:42:10.551Z"
   },
   {
    "duration": 6,
    "start_time": "2021-10-19T19:48:19.012Z"
   },
   {
    "duration": 8,
    "start_time": "2021-10-19T19:49:38.577Z"
   },
   {
    "duration": 77,
    "start_time": "2021-10-19T19:49:55.452Z"
   },
   {
    "duration": 79,
    "start_time": "2021-10-19T19:50:21.113Z"
   },
   {
    "duration": 134,
    "start_time": "2021-10-19T19:57:12.620Z"
   },
   {
    "duration": 1581,
    "start_time": "2021-10-19T19:59:29.886Z"
   },
   {
    "duration": 6,
    "start_time": "2021-10-19T19:59:31.470Z"
   },
   {
    "duration": 483,
    "start_time": "2021-10-19T19:59:31.481Z"
   },
   {
    "duration": 18,
    "start_time": "2021-10-19T19:59:31.966Z"
   },
   {
    "duration": 9,
    "start_time": "2021-10-19T19:59:31.987Z"
   },
   {
    "duration": 38,
    "start_time": "2021-10-19T19:59:31.999Z"
   },
   {
    "duration": 6,
    "start_time": "2021-10-19T19:59:32.059Z"
   },
   {
    "duration": 959,
    "start_time": "2021-10-19T19:59:32.069Z"
   },
   {
    "duration": 998,
    "start_time": "2021-10-19T19:59:33.031Z"
   },
   {
    "duration": 1055,
    "start_time": "2021-10-19T19:59:34.032Z"
   },
   {
    "duration": 1021,
    "start_time": "2021-10-19T19:59:35.090Z"
   },
   {
    "duration": 9,
    "start_time": "2021-10-19T19:59:36.114Z"
   },
   {
    "duration": 34,
    "start_time": "2021-10-19T19:59:36.125Z"
   },
   {
    "duration": 23,
    "start_time": "2021-10-19T19:59:36.162Z"
   },
   {
    "duration": 9,
    "start_time": "2021-10-19T19:59:36.187Z"
   },
   {
    "duration": 7,
    "start_time": "2021-10-19T19:59:36.198Z"
   },
   {
    "duration": 9,
    "start_time": "2021-10-19T19:59:36.208Z"
   },
   {
    "duration": 40,
    "start_time": "2021-10-19T19:59:36.219Z"
   },
   {
    "duration": 7,
    "start_time": "2021-10-19T19:59:36.261Z"
   },
   {
    "duration": 6,
    "start_time": "2021-10-19T19:59:36.270Z"
   },
   {
    "duration": 8,
    "start_time": "2021-10-19T19:59:36.278Z"
   },
   {
    "duration": 6,
    "start_time": "2021-10-19T19:59:36.288Z"
   },
   {
    "duration": 6,
    "start_time": "2021-10-19T19:59:36.298Z"
   },
   {
    "duration": 8,
    "start_time": "2021-10-19T19:59:36.307Z"
   },
   {
    "duration": 45,
    "start_time": "2021-10-19T19:59:36.317Z"
   },
   {
    "duration": 21,
    "start_time": "2021-10-19T19:59:36.365Z"
   },
   {
    "duration": 9,
    "start_time": "2021-10-19T19:59:36.389Z"
   },
   {
    "duration": 17,
    "start_time": "2021-10-19T19:59:36.400Z"
   },
   {
    "duration": 9,
    "start_time": "2021-10-19T19:59:36.420Z"
   },
   {
    "duration": 54,
    "start_time": "2021-10-19T19:59:36.457Z"
   },
   {
    "duration": 205,
    "start_time": "2021-10-19T19:59:36.514Z"
   },
   {
    "duration": 1206,
    "start_time": "2021-10-19T19:59:36.721Z"
   },
   {
    "duration": 16109,
    "start_time": "2021-10-19T19:59:37.929Z"
   },
   {
    "duration": 23,
    "start_time": "2021-10-19T19:59:54.041Z"
   },
   {
    "duration": 9,
    "start_time": "2021-10-19T19:59:54.067Z"
   },
   {
    "duration": 5,
    "start_time": "2021-10-19T19:59:54.078Z"
   },
   {
    "duration": 25,
    "start_time": "2021-10-19T19:59:54.085Z"
   },
   {
    "duration": 123,
    "start_time": "2021-10-19T19:59:54.112Z"
   },
   {
    "duration": 109,
    "start_time": "2021-10-19T19:59:54.238Z"
   },
   {
    "duration": 19,
    "start_time": "2021-10-19T19:59:54.350Z"
   },
   {
    "duration": 9,
    "start_time": "2021-10-19T19:59:54.371Z"
   },
   {
    "duration": 100,
    "start_time": "2021-10-19T19:59:54.382Z"
   },
   {
    "duration": 91,
    "start_time": "2021-10-19T19:59:54.484Z"
   },
   {
    "duration": 7,
    "start_time": "2021-10-19T19:59:54.577Z"
   },
   {
    "duration": 16,
    "start_time": "2021-10-19T19:59:54.586Z"
   },
   {
    "duration": 10665,
    "start_time": "2021-10-19T21:08:52.571Z"
   },
   {
    "duration": 4,
    "start_time": "2021-10-19T21:09:14.053Z"
   },
   {
    "duration": 24,
    "start_time": "2021-10-19T21:09:14.060Z"
   },
   {
    "duration": 282,
    "start_time": "2021-10-19T21:09:14.087Z"
   },
   {
    "duration": 13,
    "start_time": "2021-10-19T21:09:14.371Z"
   },
   {
    "duration": 36,
    "start_time": "2021-10-19T21:09:14.387Z"
   },
   {
    "duration": 61,
    "start_time": "2021-10-19T21:09:14.426Z"
   },
   {
    "duration": 6,
    "start_time": "2021-10-19T21:09:14.490Z"
   },
   {
    "duration": 962,
    "start_time": "2021-10-19T21:09:14.499Z"
   },
   {
    "duration": 1100,
    "start_time": "2021-10-19T21:09:15.465Z"
   },
   {
    "duration": 948,
    "start_time": "2021-10-19T21:09:16.568Z"
   },
   {
    "duration": 967,
    "start_time": "2021-10-19T21:09:17.519Z"
   },
   {
    "duration": 7,
    "start_time": "2021-10-19T21:09:18.488Z"
   },
   {
    "duration": 13,
    "start_time": "2021-10-19T21:09:18.498Z"
   },
   {
    "duration": 18,
    "start_time": "2021-10-19T21:09:18.513Z"
   },
   {
    "duration": 11,
    "start_time": "2021-10-19T21:09:18.558Z"
   },
   {
    "duration": 7,
    "start_time": "2021-10-19T21:09:18.571Z"
   },
   {
    "duration": 9961,
    "start_time": "2021-10-19T21:09:18.580Z"
   },
   {
    "duration": 215,
    "start_time": "2021-10-19T21:09:28.331Z"
   },
   {
    "duration": 202,
    "start_time": "2021-10-19T21:09:28.345Z"
   },
   {
    "duration": 200,
    "start_time": "2021-10-19T21:09:28.349Z"
   },
   {
    "duration": 186,
    "start_time": "2021-10-19T21:09:28.364Z"
   },
   {
    "duration": 179,
    "start_time": "2021-10-19T21:09:28.373Z"
   },
   {
    "duration": 176,
    "start_time": "2021-10-19T21:09:28.378Z"
   },
   {
    "duration": 171,
    "start_time": "2021-10-19T21:09:28.384Z"
   },
   {
    "duration": 169,
    "start_time": "2021-10-19T21:09:28.388Z"
   },
   {
    "duration": 161,
    "start_time": "2021-10-19T21:09:28.397Z"
   },
   {
    "duration": 154,
    "start_time": "2021-10-19T21:09:28.406Z"
   },
   {
    "duration": 130,
    "start_time": "2021-10-19T21:09:28.431Z"
   },
   {
    "duration": 123,
    "start_time": "2021-10-19T21:09:28.440Z"
   },
   {
    "duration": 120,
    "start_time": "2021-10-19T21:09:28.444Z"
   },
   {
    "duration": 118,
    "start_time": "2021-10-19T21:09:28.448Z"
   },
   {
    "duration": 112,
    "start_time": "2021-10-19T21:09:28.455Z"
   },
   {
    "duration": 110,
    "start_time": "2021-10-19T21:09:28.459Z"
   },
   {
    "duration": 106,
    "start_time": "2021-10-19T21:09:28.464Z"
   },
   {
    "duration": 103,
    "start_time": "2021-10-19T21:09:28.469Z"
   },
   {
    "duration": 99,
    "start_time": "2021-10-19T21:09:28.474Z"
   },
   {
    "duration": 97,
    "start_time": "2021-10-19T21:09:28.477Z"
   },
   {
    "duration": 94,
    "start_time": "2021-10-19T21:09:28.482Z"
   },
   {
    "duration": 90,
    "start_time": "2021-10-19T21:09:28.488Z"
   },
   {
    "duration": 85,
    "start_time": "2021-10-19T21:09:28.494Z"
   },
   {
    "duration": 83,
    "start_time": "2021-10-19T21:09:28.498Z"
   },
   {
    "duration": 77,
    "start_time": "2021-10-19T21:09:28.505Z"
   },
   {
    "duration": 76,
    "start_time": "2021-10-19T21:09:28.508Z"
   },
   {
    "duration": 72,
    "start_time": "2021-10-19T21:09:28.513Z"
   },
   {
    "duration": 68,
    "start_time": "2021-10-19T21:09:28.519Z"
   },
   {
    "duration": 52,
    "start_time": "2021-10-19T21:09:28.537Z"
   },
   {
    "duration": 121,
    "start_time": "2021-10-19T21:10:07.757Z"
   },
   {
    "duration": 423,
    "start_time": "2021-10-19T21:10:17.702Z"
   },
   {
    "duration": 443,
    "start_time": "2021-10-19T21:12:26.706Z"
   },
   {
    "duration": 555,
    "start_time": "2021-10-19T21:12:58.556Z"
   },
   {
    "duration": 5,
    "start_time": "2021-10-19T21:14:06.863Z"
   },
   {
    "duration": 17,
    "start_time": "2021-10-19T21:14:06.870Z"
   },
   {
    "duration": 287,
    "start_time": "2021-10-19T21:14:06.891Z"
   },
   {
    "duration": 12,
    "start_time": "2021-10-19T21:14:07.180Z"
   },
   {
    "duration": 16,
    "start_time": "2021-10-19T21:14:07.195Z"
   },
   {
    "duration": 41,
    "start_time": "2021-10-19T21:14:07.214Z"
   },
   {
    "duration": 6,
    "start_time": "2021-10-19T21:14:07.258Z"
   },
   {
    "duration": 1069,
    "start_time": "2021-10-19T21:14:07.267Z"
   },
   {
    "duration": 981,
    "start_time": "2021-10-19T21:14:08.339Z"
   },
   {
    "duration": 1065,
    "start_time": "2021-10-19T21:14:09.322Z"
   },
   {
    "duration": 1183,
    "start_time": "2021-10-19T21:14:10.390Z"
   },
   {
    "duration": 8,
    "start_time": "2021-10-19T21:14:11.575Z"
   },
   {
    "duration": 14,
    "start_time": "2021-10-19T21:14:11.585Z"
   },
   {
    "duration": 14,
    "start_time": "2021-10-19T21:14:11.602Z"
   },
   {
    "duration": 42,
    "start_time": "2021-10-19T21:14:11.619Z"
   },
   {
    "duration": 8,
    "start_time": "2021-10-19T21:14:11.663Z"
   },
   {
    "duration": 452,
    "start_time": "2021-10-19T21:14:11.673Z"
   },
   {
    "duration": 10,
    "start_time": "2021-10-19T21:14:12.128Z"
   },
   {
    "duration": 17,
    "start_time": "2021-10-19T21:14:12.143Z"
   },
   {
    "duration": 6,
    "start_time": "2021-10-19T21:14:12.164Z"
   },
   {
    "duration": 7,
    "start_time": "2021-10-19T21:14:12.173Z"
   },
   {
    "duration": 8,
    "start_time": "2021-10-19T21:14:12.183Z"
   },
   {
    "duration": 8,
    "start_time": "2021-10-19T21:14:12.194Z"
   },
   {
    "duration": 55,
    "start_time": "2021-10-19T21:14:12.204Z"
   },
   {
    "duration": 6,
    "start_time": "2021-10-19T21:14:12.262Z"
   },
   {
    "duration": 8,
    "start_time": "2021-10-19T21:14:12.271Z"
   },
   {
    "duration": 10,
    "start_time": "2021-10-19T21:14:12.282Z"
   },
   {
    "duration": 10,
    "start_time": "2021-10-19T21:14:12.295Z"
   },
   {
    "duration": 56,
    "start_time": "2021-10-19T21:14:12.308Z"
   },
   {
    "duration": 10,
    "start_time": "2021-10-19T21:14:12.366Z"
   },
   {
    "duration": 5,
    "start_time": "2021-10-19T21:14:12.379Z"
   },
   {
    "duration": 219,
    "start_time": "2021-10-19T21:14:12.386Z"
   },
   {
    "duration": 1043,
    "start_time": "2021-10-19T21:14:12.608Z"
   },
   {
    "duration": 16156,
    "start_time": "2021-10-19T21:14:13.657Z"
   },
   {
    "duration": 17,
    "start_time": "2021-10-19T21:14:29.815Z"
   },
   {
    "duration": 32,
    "start_time": "2021-10-19T21:14:29.834Z"
   },
   {
    "duration": 7,
    "start_time": "2021-10-19T21:14:29.870Z"
   },
   {
    "duration": 26,
    "start_time": "2021-10-19T21:14:29.880Z"
   },
   {
    "duration": 130,
    "start_time": "2021-10-19T21:14:29.909Z"
   },
   {
    "duration": 112,
    "start_time": "2021-10-19T21:14:30.041Z"
   },
   {
    "duration": 18,
    "start_time": "2021-10-19T21:14:30.158Z"
   },
   {
    "duration": 10,
    "start_time": "2021-10-19T21:14:30.178Z"
   },
   {
    "duration": 111,
    "start_time": "2021-10-19T21:14:30.191Z"
   },
   {
    "duration": 96,
    "start_time": "2021-10-19T21:14:30.304Z"
   },
   {
    "duration": 7,
    "start_time": "2021-10-19T21:14:30.402Z"
   },
   {
    "duration": 18,
    "start_time": "2021-10-19T21:14:30.412Z"
   },
   {
    "duration": 1439,
    "start_time": "2022-02-17T20:35:51.454Z"
   },
   {
    "duration": 5,
    "start_time": "2022-02-17T20:35:52.896Z"
   },
   {
    "duration": 185,
    "start_time": "2022-02-17T20:35:52.903Z"
   },
   {
    "duration": 19,
    "start_time": "2022-02-17T20:35:53.092Z"
   },
   {
    "duration": 13,
    "start_time": "2022-02-17T20:35:53.114Z"
   },
   {
    "duration": 66,
    "start_time": "2022-02-17T20:35:53.130Z"
   },
   {
    "duration": 5,
    "start_time": "2022-02-17T20:35:53.199Z"
   },
   {
    "duration": 990,
    "start_time": "2022-02-17T20:35:53.210Z"
   },
   {
    "duration": 1047,
    "start_time": "2022-02-17T20:35:54.203Z"
   },
   {
    "duration": 1053,
    "start_time": "2022-02-17T20:35:55.252Z"
   },
   {
    "duration": 969,
    "start_time": "2022-02-17T20:35:56.307Z"
   },
   {
    "duration": 18,
    "start_time": "2022-02-17T20:35:57.279Z"
   },
   {
    "duration": 16,
    "start_time": "2022-02-17T20:35:57.299Z"
   },
   {
    "duration": 15,
    "start_time": "2022-02-17T20:35:57.317Z"
   },
   {
    "duration": 10,
    "start_time": "2022-02-17T20:35:57.335Z"
   },
   {
    "duration": 7,
    "start_time": "2022-02-17T20:35:57.347Z"
   },
   {
    "duration": 452,
    "start_time": "2022-02-17T20:35:57.395Z"
   },
   {
    "duration": 10,
    "start_time": "2022-02-17T20:35:57.851Z"
   },
   {
    "duration": 30,
    "start_time": "2022-02-17T20:35:57.863Z"
   },
   {
    "duration": 6,
    "start_time": "2022-02-17T20:35:57.896Z"
   },
   {
    "duration": 7,
    "start_time": "2022-02-17T20:35:57.904Z"
   },
   {
    "duration": 10,
    "start_time": "2022-02-17T20:35:57.914Z"
   },
   {
    "duration": 6,
    "start_time": "2022-02-17T20:35:57.929Z"
   },
   {
    "duration": 7,
    "start_time": "2022-02-17T20:35:57.938Z"
   },
   {
    "duration": 9,
    "start_time": "2022-02-17T20:35:57.947Z"
   },
   {
    "duration": 5,
    "start_time": "2022-02-17T20:35:57.995Z"
   },
   {
    "duration": 17,
    "start_time": "2022-02-17T20:35:58.002Z"
   },
   {
    "duration": 19,
    "start_time": "2022-02-17T20:35:58.021Z"
   },
   {
    "duration": 30,
    "start_time": "2022-02-17T20:35:58.042Z"
   },
   {
    "duration": 6,
    "start_time": "2022-02-17T20:35:58.094Z"
   },
   {
    "duration": 105,
    "start_time": "2022-02-17T20:35:58.103Z"
   },
   {
    "duration": 390,
    "start_time": "2022-02-17T20:35:58.211Z"
   },
   {
    "duration": 1423,
    "start_time": "2022-02-17T20:35:58.604Z"
   },
   {
    "duration": 15941,
    "start_time": "2022-02-17T20:36:00.030Z"
   },
   {
    "duration": 21,
    "start_time": "2022-02-17T20:36:15.973Z"
   },
   {
    "duration": 9,
    "start_time": "2022-02-17T20:36:15.996Z"
   },
   {
    "duration": 5,
    "start_time": "2022-02-17T20:36:16.008Z"
   },
   {
    "duration": 21,
    "start_time": "2022-02-17T20:36:16.015Z"
   },
   {
    "duration": 97,
    "start_time": "2022-02-17T20:36:16.038Z"
   },
   {
    "duration": 105,
    "start_time": "2022-02-17T20:36:16.137Z"
   },
   {
    "duration": 14,
    "start_time": "2022-02-17T20:36:16.244Z"
   },
   {
    "duration": 8,
    "start_time": "2022-02-17T20:36:16.260Z"
   },
   {
    "duration": 87,
    "start_time": "2022-02-17T20:36:16.271Z"
   },
   {
    "duration": 84,
    "start_time": "2022-02-17T20:36:16.360Z"
   },
   {
    "duration": 8,
    "start_time": "2022-02-17T20:36:16.446Z"
   },
   {
    "duration": 6,
    "start_time": "2022-02-17T20:36:16.456Z"
   }
  ],
  "kernelspec": {
   "display_name": "Python 3 (ipykernel)",
   "language": "python",
   "name": "python3"
  },
  "language_info": {
   "codemirror_mode": {
    "name": "ipython",
    "version": 3
   },
   "file_extension": ".py",
   "mimetype": "text/x-python",
   "name": "python",
   "nbconvert_exporter": "python",
   "pygments_lexer": "ipython3",
   "version": "3.8.13"
  },
  "toc": {
   "base_numbering": 1,
   "nav_menu": {},
   "number_sections": true,
   "sideBar": true,
   "skip_h1_title": false,
   "title_cell": "Table of Contents",
   "title_sidebar": "Contents",
   "toc_cell": true,
   "toc_position": {},
   "toc_section_display": true,
   "toc_window_display": true
  }
 },
 "nbformat": 4,
 "nbformat_minor": 4
}
