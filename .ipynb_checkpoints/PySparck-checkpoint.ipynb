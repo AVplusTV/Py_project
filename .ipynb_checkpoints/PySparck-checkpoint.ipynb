{
 "cells": [
  {
   "cell_type": "markdown",
   "metadata": {
    "id": "GEqQaHzsZ_bA"
   },
   "source": [
    "# Предсказание стоимости жилья\n",
    "\n",
    "В проекте вам нужно обучить модель линейной регрессии на данных о жилье в Калифорнии в 1990 году. На основе данных нужно предсказать медианную стоимость дома в жилом массиве. Обучите модель и сделайте предсказания на тестовой выборке. Для оценки качества модели используйте метрики RMSE, MAE и R2."
   ]
  },
  {
   "cell_type": "code",
   "execution_count": 1,
   "metadata": {},
   "outputs": [
    {
     "name": "stdout",
     "output_type": "stream",
     "text": [
      "2\n"
     ]
    }
   ],
   "source": [
    "n=1+1\n",
    "print(n)"
   ]
  },
  {
   "cell_type": "markdown",
   "metadata": {
    "id": "53871372"
   },
   "source": [
    "## Загрузка данных и первоначальный анализ"
   ]
  },
  {
   "cell_type": "markdown",
   "metadata": {},
   "source": [
    "Импортируем необходимые методы"
   ]
  },
  {
   "cell_type": "code",
   "execution_count": 3,
   "metadata": {
    "id": "df92e3ec"
   },
   "outputs": [],
   "source": [
    "import pandas as pd \n",
    "import numpy as np\n",
    "import matplotlib.pyplot as plt\n",
    "from pandas.plotting import scatter_matrix\n",
    "import pyspark\n",
    "from pyspark.sql import SparkSession\n",
    "from pyspark.sql.types import *\n",
    "import pyspark.sql.functions as F\n",
    "from pyspark.ml.evaluation import RegressionEvaluator\n",
    "from pyspark.mllib.evaluation import RegressionMetrics\n",
    "from pyspark.ml.tuning import CrossValidator, ParamGridBuilder\n",
    "from pyspark.ml.feature import StringIndexer, StandardScaler, OneHotEncoder, VectorAssembler\n",
    "from pyspark.ml.regression import LinearRegression\n",
    "      \n",
    "RANDOM_SEED = 1234"
   ]
  },
  {
   "cell_type": "markdown",
   "metadata": {},
   "source": [
    "Запускаем спарк сессию"
   ]
  },
  {
   "cell_type": "code",
   "execution_count": 4,
   "metadata": {},
   "outputs": [
    {
     "ename": "RuntimeError",
     "evalue": "Java gateway process exited before sending its port number",
     "output_type": "error",
     "traceback": [
      "\u001b[1;31m---------------------------------------------------------------------------\u001b[0m",
      "\u001b[1;31mRuntimeError\u001b[0m                              Traceback (most recent call last)",
      "\u001b[1;32m<ipython-input-4-a12c233ddd5f>\u001b[0m in \u001b[0;36m<module>\u001b[1;34m\u001b[0m\n\u001b[1;32m----> 1\u001b[1;33m \u001b[0mspark\u001b[0m \u001b[1;33m=\u001b[0m \u001b[0mSparkSession\u001b[0m\u001b[1;33m.\u001b[0m\u001b[0mbuilder\u001b[0m\u001b[0;31m \u001b[0m\u001b[0;31m\\\u001b[0m\u001b[1;33m\u001b[0m\u001b[1;33m\u001b[0m\u001b[0m\n\u001b[0m\u001b[0;32m      2\u001b[0m                     \u001b[1;33m.\u001b[0m\u001b[0mmaster\u001b[0m\u001b[1;33m(\u001b[0m\u001b[1;34m\"local\"\u001b[0m\u001b[1;33m)\u001b[0m\u001b[0;31m \u001b[0m\u001b[0;31m\\\u001b[0m\u001b[1;33m\u001b[0m\u001b[1;33m\u001b[0m\u001b[0m\n\u001b[0;32m      3\u001b[0m                     \u001b[1;33m.\u001b[0m\u001b[0mappName\u001b[0m\u001b[1;33m(\u001b[0m\u001b[1;34m\"California_Housing\"\u001b[0m\u001b[1;33m)\u001b[0m\u001b[0;31m \u001b[0m\u001b[0;31m\\\u001b[0m\u001b[1;33m\u001b[0m\u001b[1;33m\u001b[0m\u001b[0m\n\u001b[0;32m      4\u001b[0m                     \u001b[1;33m.\u001b[0m\u001b[0mgetOrCreate\u001b[0m\u001b[1;33m(\u001b[0m\u001b[1;33m)\u001b[0m\u001b[1;33m\u001b[0m\u001b[1;33m\u001b[0m\u001b[0m\n",
      "\u001b[1;32mC:\\anaconda\\lib\\site-packages\\pyspark\\sql\\session.py\u001b[0m in \u001b[0;36mgetOrCreate\u001b[1;34m(self)\u001b[0m\n\u001b[0;32m    226\u001b[0m                             \u001b[0msparkConf\u001b[0m\u001b[1;33m.\u001b[0m\u001b[0mset\u001b[0m\u001b[1;33m(\u001b[0m\u001b[0mkey\u001b[0m\u001b[1;33m,\u001b[0m \u001b[0mvalue\u001b[0m\u001b[1;33m)\u001b[0m\u001b[1;33m\u001b[0m\u001b[1;33m\u001b[0m\u001b[0m\n\u001b[0;32m    227\u001b[0m                         \u001b[1;31m# This SparkContext may be an existing one.\u001b[0m\u001b[1;33m\u001b[0m\u001b[1;33m\u001b[0m\u001b[1;33m\u001b[0m\u001b[0m\n\u001b[1;32m--> 228\u001b[1;33m                         \u001b[0msc\u001b[0m \u001b[1;33m=\u001b[0m \u001b[0mSparkContext\u001b[0m\u001b[1;33m.\u001b[0m\u001b[0mgetOrCreate\u001b[0m\u001b[1;33m(\u001b[0m\u001b[0msparkConf\u001b[0m\u001b[1;33m)\u001b[0m\u001b[1;33m\u001b[0m\u001b[1;33m\u001b[0m\u001b[0m\n\u001b[0m\u001b[0;32m    229\u001b[0m                     \u001b[1;31m# Do not update `SparkConf` for existing `SparkContext`, as it's shared\u001b[0m\u001b[1;33m\u001b[0m\u001b[1;33m\u001b[0m\u001b[1;33m\u001b[0m\u001b[0m\n\u001b[0;32m    230\u001b[0m                     \u001b[1;31m# by all sessions.\u001b[0m\u001b[1;33m\u001b[0m\u001b[1;33m\u001b[0m\u001b[1;33m\u001b[0m\u001b[0m\n",
      "\u001b[1;32mC:\\anaconda\\lib\\site-packages\\pyspark\\context.py\u001b[0m in \u001b[0;36mgetOrCreate\u001b[1;34m(cls, conf)\u001b[0m\n\u001b[0;32m    390\u001b[0m         \u001b[1;32mwith\u001b[0m \u001b[0mSparkContext\u001b[0m\u001b[1;33m.\u001b[0m\u001b[0m_lock\u001b[0m\u001b[1;33m:\u001b[0m\u001b[1;33m\u001b[0m\u001b[1;33m\u001b[0m\u001b[0m\n\u001b[0;32m    391\u001b[0m             \u001b[1;32mif\u001b[0m \u001b[0mSparkContext\u001b[0m\u001b[1;33m.\u001b[0m\u001b[0m_active_spark_context\u001b[0m \u001b[1;32mis\u001b[0m \u001b[1;32mNone\u001b[0m\u001b[1;33m:\u001b[0m\u001b[1;33m\u001b[0m\u001b[1;33m\u001b[0m\u001b[0m\n\u001b[1;32m--> 392\u001b[1;33m                 \u001b[0mSparkContext\u001b[0m\u001b[1;33m(\u001b[0m\u001b[0mconf\u001b[0m\u001b[1;33m=\u001b[0m\u001b[0mconf\u001b[0m \u001b[1;32mor\u001b[0m \u001b[0mSparkConf\u001b[0m\u001b[1;33m(\u001b[0m\u001b[1;33m)\u001b[0m\u001b[1;33m)\u001b[0m\u001b[1;33m\u001b[0m\u001b[1;33m\u001b[0m\u001b[0m\n\u001b[0m\u001b[0;32m    393\u001b[0m             \u001b[1;32mreturn\u001b[0m \u001b[0mSparkContext\u001b[0m\u001b[1;33m.\u001b[0m\u001b[0m_active_spark_context\u001b[0m\u001b[1;33m\u001b[0m\u001b[1;33m\u001b[0m\u001b[0m\n\u001b[0;32m    394\u001b[0m \u001b[1;33m\u001b[0m\u001b[0m\n",
      "\u001b[1;32mC:\\anaconda\\lib\\site-packages\\pyspark\\context.py\u001b[0m in \u001b[0;36m__init__\u001b[1;34m(self, master, appName, sparkHome, pyFiles, environment, batchSize, serializer, conf, gateway, jsc, profiler_cls)\u001b[0m\n\u001b[0;32m    142\u001b[0m                 \" is not allowed as it is a security risk.\")\n\u001b[0;32m    143\u001b[0m \u001b[1;33m\u001b[0m\u001b[0m\n\u001b[1;32m--> 144\u001b[1;33m         \u001b[0mSparkContext\u001b[0m\u001b[1;33m.\u001b[0m\u001b[0m_ensure_initialized\u001b[0m\u001b[1;33m(\u001b[0m\u001b[0mself\u001b[0m\u001b[1;33m,\u001b[0m \u001b[0mgateway\u001b[0m\u001b[1;33m=\u001b[0m\u001b[0mgateway\u001b[0m\u001b[1;33m,\u001b[0m \u001b[0mconf\u001b[0m\u001b[1;33m=\u001b[0m\u001b[0mconf\u001b[0m\u001b[1;33m)\u001b[0m\u001b[1;33m\u001b[0m\u001b[1;33m\u001b[0m\u001b[0m\n\u001b[0m\u001b[0;32m    145\u001b[0m         \u001b[1;32mtry\u001b[0m\u001b[1;33m:\u001b[0m\u001b[1;33m\u001b[0m\u001b[1;33m\u001b[0m\u001b[0m\n\u001b[0;32m    146\u001b[0m             self._do_init(master, appName, sparkHome, pyFiles, environment, batchSize, serializer,\n",
      "\u001b[1;32mC:\\anaconda\\lib\\site-packages\\pyspark\\context.py\u001b[0m in \u001b[0;36m_ensure_initialized\u001b[1;34m(cls, instance, gateway, conf)\u001b[0m\n\u001b[0;32m    337\u001b[0m         \u001b[1;32mwith\u001b[0m \u001b[0mSparkContext\u001b[0m\u001b[1;33m.\u001b[0m\u001b[0m_lock\u001b[0m\u001b[1;33m:\u001b[0m\u001b[1;33m\u001b[0m\u001b[1;33m\u001b[0m\u001b[0m\n\u001b[0;32m    338\u001b[0m             \u001b[1;32mif\u001b[0m \u001b[1;32mnot\u001b[0m \u001b[0mSparkContext\u001b[0m\u001b[1;33m.\u001b[0m\u001b[0m_gateway\u001b[0m\u001b[1;33m:\u001b[0m\u001b[1;33m\u001b[0m\u001b[1;33m\u001b[0m\u001b[0m\n\u001b[1;32m--> 339\u001b[1;33m                 \u001b[0mSparkContext\u001b[0m\u001b[1;33m.\u001b[0m\u001b[0m_gateway\u001b[0m \u001b[1;33m=\u001b[0m \u001b[0mgateway\u001b[0m \u001b[1;32mor\u001b[0m \u001b[0mlaunch_gateway\u001b[0m\u001b[1;33m(\u001b[0m\u001b[0mconf\u001b[0m\u001b[1;33m)\u001b[0m\u001b[1;33m\u001b[0m\u001b[1;33m\u001b[0m\u001b[0m\n\u001b[0m\u001b[0;32m    340\u001b[0m                 \u001b[0mSparkContext\u001b[0m\u001b[1;33m.\u001b[0m\u001b[0m_jvm\u001b[0m \u001b[1;33m=\u001b[0m \u001b[0mSparkContext\u001b[0m\u001b[1;33m.\u001b[0m\u001b[0m_gateway\u001b[0m\u001b[1;33m.\u001b[0m\u001b[0mjvm\u001b[0m\u001b[1;33m\u001b[0m\u001b[1;33m\u001b[0m\u001b[0m\n\u001b[0;32m    341\u001b[0m \u001b[1;33m\u001b[0m\u001b[0m\n",
      "\u001b[1;32mC:\\anaconda\\lib\\site-packages\\pyspark\\java_gateway.py\u001b[0m in \u001b[0;36mlaunch_gateway\u001b[1;34m(conf, popen_kwargs)\u001b[0m\n\u001b[0;32m    106\u001b[0m \u001b[1;33m\u001b[0m\u001b[0m\n\u001b[0;32m    107\u001b[0m             \u001b[1;32mif\u001b[0m \u001b[1;32mnot\u001b[0m \u001b[0mos\u001b[0m\u001b[1;33m.\u001b[0m\u001b[0mpath\u001b[0m\u001b[1;33m.\u001b[0m\u001b[0misfile\u001b[0m\u001b[1;33m(\u001b[0m\u001b[0mconn_info_file\u001b[0m\u001b[1;33m)\u001b[0m\u001b[1;33m:\u001b[0m\u001b[1;33m\u001b[0m\u001b[1;33m\u001b[0m\u001b[0m\n\u001b[1;32m--> 108\u001b[1;33m                 \u001b[1;32mraise\u001b[0m \u001b[0mRuntimeError\u001b[0m\u001b[1;33m(\u001b[0m\u001b[1;34m\"Java gateway process exited before sending its port number\"\u001b[0m\u001b[1;33m)\u001b[0m\u001b[1;33m\u001b[0m\u001b[1;33m\u001b[0m\u001b[0m\n\u001b[0m\u001b[0;32m    109\u001b[0m \u001b[1;33m\u001b[0m\u001b[0m\n\u001b[0;32m    110\u001b[0m             \u001b[1;32mwith\u001b[0m \u001b[0mopen\u001b[0m\u001b[1;33m(\u001b[0m\u001b[0mconn_info_file\u001b[0m\u001b[1;33m,\u001b[0m \u001b[1;34m\"rb\"\u001b[0m\u001b[1;33m)\u001b[0m \u001b[1;32mas\u001b[0m \u001b[0minfo\u001b[0m\u001b[1;33m:\u001b[0m\u001b[1;33m\u001b[0m\u001b[1;33m\u001b[0m\u001b[0m\n",
      "\u001b[1;31mRuntimeError\u001b[0m: Java gateway process exited before sending its port number"
     ]
    }
   ],
   "source": [
    "spark = SparkSession.builder \\\n",
    "                    .master(\"local\") \\\n",
    "                    .appName(\"California_Housing\") \\\n",
    "                    .getOrCreate()"
   ]
  },
  {
   "cell_type": "markdown",
   "metadata": {},
   "source": [
    "Читаем спарк методом данные и сохраняем в таблицу df"
   ]
  },
  {
   "cell_type": "code",
   "execution_count": null,
   "metadata": {},
   "outputs": [],
   "source": [
    "df = spark.read.option('header', 'true').csv('/datasets/housing.csv', inferSchema = True) \n",
    "df.printSchema()"
   ]
  },
  {
   "cell_type": "markdown",
   "metadata": {},
   "source": [
    "Посмотрим на первые десять строк"
   ]
  },
  {
   "cell_type": "code",
   "execution_count": null,
   "metadata": {},
   "outputs": [],
   "source": [
    "df.show(10)"
   ]
  },
  {
   "cell_type": "markdown",
   "metadata": {},
   "source": [
    "Не удобный формат просмотра данных, преобразуем в превычный формат Pandas"
   ]
  },
  {
   "cell_type": "code",
   "execution_count": null,
   "metadata": {},
   "outputs": [],
   "source": [
    "df_pd = df.toPandas()\n",
    "df_pd.head() # просмотрим первые пять строк"
   ]
  },
  {
   "cell_type": "code",
   "execution_count": null,
   "metadata": {},
   "outputs": [],
   "source": [
    "df_pd.info()"
   ]
  },
  {
   "cell_type": "markdown",
   "metadata": {},
   "source": [
    "всего строк данных - 20640\n",
    "\n",
    "<b>В колонках датасета содержатся следующие данные:</b>\n",
    "\n",
    "* longitude — широта;\n",
    "* latitude — долгота;\n",
    "* housing_median_age — медианный возраст жителей жилого массива;\n",
    "* total_rooms — общее количество комнат в домах жилого массива;\n",
    "* total_bedrooms — общее количество спален в домах жилого массива (<b>имеются пропуски</b>);\n",
    "* population — количество человек, которые проживают в жилом массиве;\n",
    "* households — количество домовладений в жилом массиве;\n",
    "* median_income — медианный доход жителей жилого массива;\n",
    "* median_house_value — медианная стоимость дома в жилом массиве;\n",
    "* ocean_proximity — близость к океану.\n",
    "\n",
    "\n",
    "все данные формата FLOAT64 кроме колонки ocean_proximity - формат object"
   ]
  },
  {
   "cell_type": "markdown",
   "metadata": {},
   "source": [
    "Посмотрим статистику"
   ]
  },
  {
   "cell_type": "code",
   "execution_count": null,
   "metadata": {},
   "outputs": [],
   "source": [
    "df_pd.describe()"
   ]
  },
  {
   "cell_type": "markdown",
   "metadata": {},
   "source": [
    "* На первый взгляд данные правдоподобные, не очень ясно в чем измеряется median_income, возможно в тысячах долларов в месяц."
   ]
  },
  {
   "cell_type": "code",
   "execution_count": null,
   "metadata": {},
   "outputs": [],
   "source": [
    "df_pd['ocean_proximity'].value_counts()"
   ]
  },
  {
   "cell_type": "markdown",
   "metadata": {},
   "source": [
    "* Видимо это значат следующее:\n",
    "\n",
    "<1H OCEAN:    один час езды до океана\n",
    "\n",
    "INLAND:        далеко от океана\n",
    "\n",
    "NEAR OCEAN:    рядом с океаном\n",
    "\n",
    "NEAR BAY:      рядом с бухтой\n",
    "\n",
    "ISLAND:        остров"
   ]
  },
  {
   "cell_type": "markdown",
   "metadata": {},
   "source": [
    "Просмотрим колонки "
   ]
  },
  {
   "cell_type": "code",
   "execution_count": null,
   "metadata": {},
   "outputs": [],
   "source": [
    "columns = df_pd.columns\n",
    "print(columns)"
   ]
  },
  {
   "cell_type": "markdown",
   "metadata": {},
   "source": [
    "* Названия колонок нормальные, править нет необходимости"
   ]
  },
  {
   "cell_type": "markdown",
   "metadata": {},
   "source": [
    "Посмотрим на распределения: Создадим функцию построения гистограмм"
   ]
  },
  {
   "cell_type": "code",
   "execution_count": null,
   "metadata": {},
   "outputs": [],
   "source": [
    "def hist(col):\n",
    "    plt.hist(df_pd[col], range = (df_pd[col].min(), df_pd[col].max()), bins=100, label = col)\n",
    "    plt.ylabel('Частотность')\n",
    "    plt.xlabel(col)\n",
    "    plt.legend()\n",
    "    plt.grid();"
   ]
  },
  {
   "cell_type": "code",
   "execution_count": null,
   "metadata": {},
   "outputs": [],
   "source": [
    "hist('longitude')"
   ]
  },
  {
   "cell_type": "code",
   "execution_count": null,
   "metadata": {},
   "outputs": [],
   "source": [
    "hist('latitude')"
   ]
  },
  {
   "cell_type": "markdown",
   "metadata": {},
   "source": [
    "* Видно что в данные входят 2 крупных города"
   ]
  },
  {
   "cell_type": "code",
   "execution_count": null,
   "metadata": {},
   "outputs": [],
   "source": [
    "hist('housing_median_age')"
   ]
  },
  {
   "cell_type": "markdown",
   "metadata": {},
   "source": [
    "* Видно выброс на 52 - есть предположение что либо все что получалось выше почему то запихали в 52, либо в местности достаточно много пожилого населения существенно влияющего на медианный возраст."
   ]
  },
  {
   "cell_type": "code",
   "execution_count": null,
   "metadata": {},
   "outputs": [],
   "source": [
    "hist('total_rooms')"
   ]
  },
  {
   "cell_type": "code",
   "execution_count": null,
   "metadata": {},
   "outputs": [],
   "source": [
    "hist('total_bedrooms')"
   ]
  },
  {
   "cell_type": "code",
   "execution_count": null,
   "metadata": {},
   "outputs": [],
   "source": [
    "hist('population')"
   ]
  },
  {
   "cell_type": "code",
   "execution_count": null,
   "metadata": {},
   "outputs": [],
   "source": [
    "hist('households')"
   ]
  },
  {
   "cell_type": "markdown",
   "metadata": {},
   "source": [
    "* 4 гистограммы выше вполне правдободобны, без выбросов"
   ]
  },
  {
   "cell_type": "code",
   "execution_count": null,
   "metadata": {},
   "outputs": [],
   "source": [
    "hist('median_income')"
   ]
  },
  {
   "cell_type": "markdown",
   "metadata": {},
   "source": [
    "* Здесь есть выброс по верхнему значению медианного дохода - опять же или у тех кто выше запихали в этот максимум или действительно есть много богатых массивов влияющих на медиану."
   ]
  },
  {
   "cell_type": "code",
   "execution_count": null,
   "metadata": {},
   "outputs": [],
   "source": [
    "hist('median_house_value')"
   ]
  },
  {
   "cell_type": "markdown",
   "metadata": {},
   "source": [
    "* здесь я склонен думать, что действительно есть много массивов с очень дорогими домами, хотя опять же запихивание более дорогих в эту медиану возможно."
   ]
  },
  {
   "cell_type": "markdown",
   "metadata": {},
   "source": [
    "Просмотрим таблицу корреляций"
   ]
  },
  {
   "cell_type": "code",
   "execution_count": null,
   "metadata": {},
   "outputs": [],
   "source": [
    "df_pd.corr()"
   ]
  },
  {
   "cell_type": "markdown",
   "metadata": {},
   "source": [
    "Визуализируем корреляции:"
   ]
  },
  {
   "cell_type": "code",
   "execution_count": null,
   "metadata": {},
   "outputs": [],
   "source": [
    "scatter_matrix(df_pd,diagonal='kde', figsize=(18, 18))\n",
    "\n",
    "plt.show()"
   ]
  },
  {
   "cell_type": "markdown",
   "metadata": {},
   "source": [
    "* 'total_rooms', 'total_bedrooms', 'population', 'households' по этим столбцам корреляция закономерна и понятна."
   ]
  },
  {
   "cell_type": "code",
   "execution_count": null,
   "metadata": {},
   "outputs": [],
   "source": [
    "df_pd.duplicated().sum() #проверка на явные дубликаты"
   ]
  },
  {
   "cell_type": "markdown",
   "metadata": {},
   "source": [
    "* Явных дубликатов нет"
   ]
  },
  {
   "cell_type": "markdown",
   "metadata": {},
   "source": [
    "* <b>Вывод: </b> Данные правдоподобны, наблюдаются выбросы по максимальным значениям медианного возраста и медианной стоимости, но интерпретировать их сложно без доступа к разработчикам.\n",
    "\n",
    "\n",
    "* необходимо изучить пропуски в столбце total_bedrooms и по возможности заполнить их правдоподобными значениями - как вариант выбрать медианное значение по столбцу.\n",
    "\n",
    "\n",
    "* столбец ocean_proximity необходимо преобразовать из строковых значений в числовые\n",
    "\n",
    "\n",
    "* столбец median_house_value является целевым для обучения"
   ]
  },
  {
   "cell_type": "markdown",
   "metadata": {},
   "source": [
    "## Преобразование и подготовка данных"
   ]
  },
  {
   "cell_type": "markdown",
   "metadata": {},
   "source": [
    "### Заполнение пропусков в столбце total_bedrooms"
   ]
  },
  {
   "cell_type": "markdown",
   "metadata": {},
   "source": [
    "Как я понял все нужные действия преобразования нужно осуществлять уже не методами Pandas, а методами PySpark, тогда как анализ выше привычными методами Pandas нормально."
   ]
  },
  {
   "cell_type": "markdown",
   "metadata": {},
   "source": [
    "Получим среднее значение по столбцу total_bedrooms\n"
   ]
  },
  {
   "cell_type": "code",
   "execution_count": null,
   "metadata": {},
   "outputs": [],
   "source": [
    "mean = df.select(F.mean('total_bedrooms')).collect()[0][0]\n",
    "print(mean)"
   ]
  },
  {
   "cell_type": "markdown",
   "metadata": {},
   "source": [
    "Заполним пустые ячейки в столбце:"
   ]
  },
  {
   "cell_type": "code",
   "execution_count": null,
   "metadata": {},
   "outputs": [],
   "source": [
    "df = df.na.fill({'total_bedrooms': mean})"
   ]
  },
  {
   "cell_type": "markdown",
   "metadata": {},
   "source": [
    "Проверим есть ли пропуски:\n"
   ]
  },
  {
   "cell_type": "code",
   "execution_count": null,
   "metadata": {},
   "outputs": [],
   "source": [
    "df.filter(df['total_bedrooms'].isNull()).show()"
   ]
  },
  {
   "cell_type": "markdown",
   "metadata": {},
   "source": [
    "В столбце больше нет пропусков"
   ]
  },
  {
   "cell_type": "markdown",
   "metadata": {},
   "source": [
    "### Преобразуем колонку ocean_proximity из строковых значений в числовые"
   ]
  },
  {
   "cell_type": "code",
   "execution_count": null,
   "metadata": {},
   "outputs": [],
   "source": [
    "idx = StringIndexer(inputCol = 'ocean_proximity', \n",
    "                        outputCol= 'ocean_proximity_idx') \n",
    "df_x = idx.fit(df).transform(df)\n",
    "df_x = df_x.drop('ocean_proximity')\n",
    "df_x.toPandas().head()"
   ]
  },
  {
   "cell_type": "markdown",
   "metadata": {},
   "source": [
    "Метод OHE "
   ]
  },
  {
   "cell_type": "code",
   "execution_count": null,
   "metadata": {},
   "outputs": [],
   "source": [
    "encoder = OneHotEncoder(inputCol = 'ocean_proximity_idx', \n",
    "                        outputCol= 'ocean_proximity_ohe')\n",
    "df_ohe = encoder.transform(df_x)\n",
    "df_ohe.toPandas().head()"
   ]
  },
  {
   "cell_type": "code",
   "execution_count": null,
   "metadata": {},
   "outputs": [],
   "source": []
  },
  {
   "cell_type": "markdown",
   "metadata": {},
   "source": [
    "### Масштабируем данные\n"
   ]
  },
  {
   "cell_type": "markdown",
   "metadata": {},
   "source": [
    "Преобразуем все столбцы кроме median_house_value, ocean_proximity_ohe и ocean_proximity_idx\n",
    "\n",
    "Что бы потом выделить обучение только по числовым данным и добавив категорияальные преобразованные OHE"
   ]
  },
  {
   "cell_type": "code",
   "execution_count": null,
   "metadata": {},
   "outputs": [],
   "source": [
    "numeric = ['longitude', 'latitude', 'housing_median_age', 'total_rooms', 'total_bedrooms',\n",
    "                  'population', 'households', 'median_income']\n",
    "\n",
    "numeric_assy = VectorAssembler(inputCols=numeric, outputCol=\"num_features\")\n",
    "\n",
    "df_num = numeric_assy.transform(df_ohe) "
   ]
  },
  {
   "cell_type": "code",
   "execution_count": null,
   "metadata": {},
   "outputs": [],
   "source": [
    "df_num.toPandas().head()"
   ]
  },
  {
   "cell_type": "markdown",
   "metadata": {},
   "source": [
    "Масштабируем числовые данные"
   ]
  },
  {
   "cell_type": "code",
   "execution_count": null,
   "metadata": {},
   "outputs": [],
   "source": [
    "scaler = StandardScaler(inputCol=\"num_features\", outputCol=\"num_features_scaled\")\n",
    "\n",
    "df_num = scaler.fit(df_num).transform(df_num) "
   ]
  },
  {
   "cell_type": "code",
   "execution_count": null,
   "metadata": {},
   "outputs": [],
   "source": [
    "df_num.toPandas().head()"
   ]
  },
  {
   "cell_type": "markdown",
   "metadata": {},
   "source": [
    "Выделяем таблицу с категориальными пробразованными данными, масштабированными числовыми данными и целевой столбец\n"
   ]
  },
  {
   "cell_type": "code",
   "execution_count": null,
   "metadata": {},
   "outputs": [],
   "source": [
    "df_catnum = df_num['ocean_proximity_ohe', 'num_features_scaled', 'median_house_value', ]\n",
    "df_catnum.show()"
   ]
  },
  {
   "cell_type": "markdown",
   "metadata": {},
   "source": [
    "Выделим только числовые данные и целевой признак"
   ]
  },
  {
   "cell_type": "code",
   "execution_count": null,
   "metadata": {},
   "outputs": [],
   "source": [
    "df_numer = df_num['num_features_scaled', 'median_house_value', ]\n",
    "df_numer.show()"
   ]
  },
  {
   "cell_type": "markdown",
   "metadata": {},
   "source": [
    "Далее разделим эти два типа данных на выборки, признаки и ели."
   ]
  },
  {
   "cell_type": "markdown",
   "metadata": {},
   "source": [
    "### Разделение на тренировочную, тестовую выборки таблица с категориями и числами"
   ]
  },
  {
   "cell_type": "code",
   "execution_count": null,
   "metadata": {},
   "outputs": [],
   "source": [
    "df_train_catnum, df_test_catnum = df_catnum.randomSplit([.8,.2], seed=RANDOM_SEED)"
   ]
  },
  {
   "cell_type": "code",
   "execution_count": null,
   "metadata": {},
   "outputs": [],
   "source": [
    "df_train_catnum.count()"
   ]
  },
  {
   "cell_type": "code",
   "execution_count": null,
   "metadata": {},
   "outputs": [],
   "source": [
    "df_test_catnum.count()"
   ]
  },
  {
   "cell_type": "markdown",
   "metadata": {},
   "source": [
    "Выделим признаки для обучения и целевой признак"
   ]
  },
  {
   "cell_type": "code",
   "execution_count": null,
   "metadata": {},
   "outputs": [],
   "source": [
    "target_train_catnum = df_train_catnum['median_house_value']\n",
    "features_train_catnum = df_train_catnum['ocean_proximity_ohe', 'num_features_scaled']"
   ]
  },
  {
   "cell_type": "code",
   "execution_count": null,
   "metadata": {},
   "outputs": [],
   "source": [
    "target_test_catnum = df_test_catnum['median_house_value']\n",
    "features_test_catnum = df_test_catnum['ocean_proximity_ohe', 'num_features_scaled']"
   ]
  },
  {
   "cell_type": "markdown",
   "metadata": {},
   "source": [
    "### Разделение на тренировочную, тестовую выборки таблица только числами"
   ]
  },
  {
   "cell_type": "code",
   "execution_count": null,
   "metadata": {},
   "outputs": [],
   "source": [
    "df_train_numer, df_test_numer = df_numer.randomSplit([.8,.2], seed=RANDOM_SEED)"
   ]
  },
  {
   "cell_type": "code",
   "execution_count": null,
   "metadata": {},
   "outputs": [],
   "source": [
    "df_train_numer.count()"
   ]
  },
  {
   "cell_type": "code",
   "execution_count": null,
   "metadata": {},
   "outputs": [],
   "source": [
    "df_test_numer.count()"
   ]
  },
  {
   "cell_type": "markdown",
   "metadata": {},
   "source": [
    "Выделим признаки для обучения и целевой признак"
   ]
  },
  {
   "cell_type": "code",
   "execution_count": null,
   "metadata": {},
   "outputs": [],
   "source": [
    "target_train_numer = df_train_numer['median_house_value']\n",
    "features_train_numer = df_train_numer['num_features_scaled']"
   ]
  },
  {
   "cell_type": "code",
   "execution_count": null,
   "metadata": {},
   "outputs": [],
   "source": [
    "target_test_numer = df_test_numer['median_house_value']\n",
    "features_test_numer = df_test_numer['num_features_scaled']"
   ]
  },
  {
   "cell_type": "markdown",
   "metadata": {
    "id": "9f0a82f3"
   },
   "source": [
    "## Обучение моделей только c числовыми данными  и числовые и категориальные данные"
   ]
  },
  {
   "cell_type": "markdown",
   "metadata": {},
   "source": [
    "Модель только числовые данные"
   ]
  },
  {
   "cell_type": "code",
   "execution_count": null,
   "metadata": {},
   "outputs": [],
   "source": [
    "model_numer = LinearRegression(featuresCol = features_train_numer, labelCol = target_train_numer)\n",
    "# инициализируем модель LinearRegression"
   ]
  },
  {
   "cell_type": "code",
   "execution_count": null,
   "metadata": {},
   "outputs": [],
   "source": []
  },
  {
   "cell_type": "code",
   "execution_count": null,
   "metadata": {},
   "outputs": [],
   "source": [
    "model_numer = LinearRegression(featuresCol = \"all_features\", labelCol = target) # инициализируем модель LinearRegression\n",
    "model_numer.fit(features_train_numer, target_train_numer) # обучим модель на тренировочной выборке\n",
    "predictions_valid_numer = model_numer.predict(features_test_numer) # получим предсказания модели на тестовой выборке"
   ]
  },
  {
   "cell_type": "code",
   "execution_count": null,
   "metadata": {},
   "outputs": [],
   "source": []
  },
  {
   "cell_type": "code",
   "execution_count": null,
   "metadata": {},
   "outputs": [],
   "source": []
  },
  {
   "cell_type": "code",
   "execution_count": null,
   "metadata": {},
   "outputs": [],
   "source": []
  },
  {
   "cell_type": "code",
   "execution_count": null,
   "metadata": {},
   "outputs": [],
   "source": []
  },
  {
   "cell_type": "code",
   "execution_count": null,
   "metadata": {
    "id": "bddb08c4"
   },
   "outputs": [],
   "source": []
  },
  {
   "cell_type": "markdown",
   "metadata": {
    "id": "757fd103"
   },
   "source": [
    "# Анализ результатов"
   ]
  },
  {
   "cell_type": "code",
   "execution_count": null,
   "metadata": {},
   "outputs": [],
   "source": []
  },
  {
   "cell_type": "code",
   "execution_count": null,
   "metadata": {},
   "outputs": [],
   "source": []
  },
  {
   "cell_type": "code",
   "execution_count": null,
   "metadata": {},
   "outputs": [],
   "source": []
  }
 ],
 "metadata": {
  "ExecuteTimeLog": [
   {
    "duration": 5,
    "start_time": "2022-03-13T22:03:17.880Z"
   },
   {
    "duration": 5,
    "start_time": "2022-03-13T22:03:17.886Z"
   },
   {
    "duration": 3,
    "start_time": "2022-03-13T22:06:40.482Z"
   },
   {
    "duration": 2,
    "start_time": "2022-03-13T22:30:47.011Z"
   },
   {
    "duration": 3,
    "start_time": "2022-03-13T22:30:50.182Z"
   },
   {
    "duration": 3,
    "start_time": "2022-03-13T22:30:50.705Z"
   },
   {
    "duration": 3,
    "start_time": "2022-03-13T22:30:51.770Z"
   },
   {
    "duration": 61,
    "start_time": "2022-03-13T22:36:10.640Z"
   },
   {
    "duration": 927,
    "start_time": "2022-03-13T22:36:17.771Z"
   },
   {
    "duration": 18366,
    "start_time": "2022-03-13T22:36:29.382Z"
   },
   {
    "duration": 7136,
    "start_time": "2022-03-13T22:36:52.952Z"
   },
   {
    "duration": 547,
    "start_time": "2022-03-13T22:42:03.942Z"
   },
   {
    "duration": 7,
    "start_time": "2022-03-13T22:42:57.294Z"
   },
   {
    "duration": 5,
    "start_time": "2022-03-13T22:42:58.872Z"
   },
   {
    "duration": 918,
    "start_time": "2022-03-13T22:42:59.954Z"
   },
   {
    "duration": 232,
    "start_time": "2022-03-13T22:43:02.550Z"
   },
   {
    "duration": 227,
    "start_time": "2022-03-13T22:43:50.936Z"
   },
   {
    "duration": 196,
    "start_time": "2022-03-13T22:43:56.697Z"
   },
   {
    "duration": 272,
    "start_time": "2022-03-13T22:44:44.980Z"
   },
   {
    "duration": 1216,
    "start_time": "2022-03-13T22:46:36.265Z"
   },
   {
    "duration": 11,
    "start_time": "2022-03-13T22:46:58.805Z"
   },
   {
    "duration": 73,
    "start_time": "2022-03-13T22:53:03.725Z"
   },
   {
    "duration": 37,
    "start_time": "2022-03-13T22:53:09.165Z"
   },
   {
    "duration": 5,
    "start_time": "2022-03-13T22:56:20.074Z"
   },
   {
    "duration": 8,
    "start_time": "2022-03-13T22:56:26.718Z"
   },
   {
    "duration": 613,
    "start_time": "2022-03-13T23:00:05.491Z"
   },
   {
    "duration": 189,
    "start_time": "2022-03-13T23:04:01.286Z"
   },
   {
    "duration": 202,
    "start_time": "2022-03-13T23:04:17.255Z"
   },
   {
    "duration": 196,
    "start_time": "2022-03-13T23:06:11.936Z"
   },
   {
    "duration": 3,
    "start_time": "2022-03-13T23:06:19.609Z"
   },
   {
    "duration": 2,
    "start_time": "2022-03-13T23:06:24.404Z"
   },
   {
    "duration": 3,
    "start_time": "2022-03-13T23:06:35.932Z"
   },
   {
    "duration": 174,
    "start_time": "2022-03-13T23:07:48.861Z"
   },
   {
    "duration": 74,
    "start_time": "2022-03-13T23:08:20.094Z"
   },
   {
    "duration": 5,
    "start_time": "2022-03-13T23:08:27.384Z"
   },
   {
    "duration": 185,
    "start_time": "2022-03-13T23:08:32.354Z"
   },
   {
    "duration": 466,
    "start_time": "2022-03-13T23:08:43.731Z"
   },
   {
    "duration": 249,
    "start_time": "2022-03-13T23:08:56.425Z"
   },
   {
    "duration": 250,
    "start_time": "2022-03-13T23:09:27.572Z"
   },
   {
    "duration": 187,
    "start_time": "2022-03-13T23:12:47.133Z"
   },
   {
    "duration": 3,
    "start_time": "2022-03-13T23:12:52.081Z"
   },
   {
    "duration": 1954,
    "start_time": "2022-03-13T23:12:52.948Z"
   },
   {
    "duration": 4,
    "start_time": "2022-03-13T23:16:30.700Z"
   },
   {
    "duration": 343,
    "start_time": "2022-03-13T23:16:54.732Z"
   },
   {
    "duration": 330,
    "start_time": "2022-03-13T23:17:21.492Z"
   },
   {
    "duration": 348,
    "start_time": "2022-03-13T23:18:05.865Z"
   },
   {
    "duration": 469,
    "start_time": "2022-03-13T23:19:59.111Z"
   },
   {
    "duration": 330,
    "start_time": "2022-03-13T23:20:32.629Z"
   },
   {
    "duration": 333,
    "start_time": "2022-03-13T23:20:55.766Z"
   },
   {
    "duration": 331,
    "start_time": "2022-03-13T23:21:18.414Z"
   },
   {
    "duration": 338,
    "start_time": "2022-03-13T23:21:41.693Z"
   },
   {
    "duration": 428,
    "start_time": "2022-03-13T23:22:29.168Z"
   },
   {
    "duration": 17,
    "start_time": "2022-03-13T23:25:44.638Z"
   },
   {
    "duration": 188,
    "start_time": "2022-03-13T23:27:00.582Z"
   },
   {
    "duration": 216,
    "start_time": "2022-03-13T23:28:05.912Z"
   },
   {
    "duration": 169,
    "start_time": "2022-03-13T23:28:39.062Z"
   },
   {
    "duration": 4,
    "start_time": "2022-03-13T23:28:56.988Z"
   },
   {
    "duration": 29785,
    "start_time": "2022-03-13T23:29:03.719Z"
   },
   {
    "duration": 30015,
    "start_time": "2022-03-13T23:31:19.308Z"
   },
   {
    "duration": 68,
    "start_time": "2022-03-13T23:33:51.013Z"
   },
   {
    "duration": 14,
    "start_time": "2022-03-13T23:33:55.672Z"
   },
   {
    "duration": 273,
    "start_time": "2022-03-14T07:30:04.370Z"
   },
   {
    "duration": 1440,
    "start_time": "2022-03-14T07:30:26.377Z"
   },
   {
    "duration": 36826,
    "start_time": "2022-03-14T07:30:30.897Z"
   },
   {
    "duration": 13276,
    "start_time": "2022-03-14T07:31:07.725Z"
   },
   {
    "duration": 715,
    "start_time": "2022-03-14T07:31:21.004Z"
   },
   {
    "duration": 1703,
    "start_time": "2022-03-14T07:31:21.721Z"
   },
   {
    "duration": 12,
    "start_time": "2022-03-14T07:31:23.426Z"
   },
   {
    "duration": 104,
    "start_time": "2022-03-14T07:31:23.440Z"
   },
   {
    "duration": 10,
    "start_time": "2022-03-14T07:31:23.601Z"
   },
   {
    "duration": 37,
    "start_time": "2022-03-14T07:31:23.614Z"
   },
   {
    "duration": 47,
    "start_time": "2022-03-14T07:31:23.654Z"
   },
   {
    "duration": 765,
    "start_time": "2022-03-14T07:31:23.703Z"
   },
   {
    "duration": 410,
    "start_time": "2022-03-14T07:31:24.470Z"
   },
   {
    "duration": 422,
    "start_time": "2022-03-14T07:31:24.882Z"
   },
   {
    "duration": 470,
    "start_time": "2022-03-14T07:31:25.306Z"
   },
   {
    "duration": 397,
    "start_time": "2022-03-14T07:31:25.778Z"
   },
   {
    "duration": 394,
    "start_time": "2022-03-14T07:31:26.178Z"
   },
   {
    "duration": 395,
    "start_time": "2022-03-14T07:31:26.574Z"
   },
   {
    "duration": 392,
    "start_time": "2022-03-14T07:31:26.971Z"
   },
   {
    "duration": 504,
    "start_time": "2022-03-14T07:31:27.365Z"
   },
   {
    "duration": 29,
    "start_time": "2022-03-14T07:31:27.871Z"
   },
   {
    "duration": 38741,
    "start_time": "2022-03-14T07:31:27.903Z"
   },
   {
    "duration": 15,
    "start_time": "2022-03-14T07:32:06.646Z"
   },
   {
    "duration": 3,
    "start_time": "2022-03-14T09:35:28.087Z"
   },
   {
    "duration": 70,
    "start_time": "2022-03-15T07:37:54.119Z"
   },
   {
    "duration": 15707,
    "start_time": "2022-03-15T07:37:54.193Z"
   },
   {
    "duration": 9189,
    "start_time": "2022-03-15T07:38:09.904Z"
   },
   {
    "duration": 899,
    "start_time": "2022-03-15T07:38:19.097Z"
   },
   {
    "duration": 2000,
    "start_time": "2022-03-15T07:38:19.999Z"
   },
   {
    "duration": 15,
    "start_time": "2022-03-15T07:38:22.002Z"
   },
   {
    "duration": 90,
    "start_time": "2022-03-15T07:38:22.020Z"
   },
   {
    "duration": 11,
    "start_time": "2022-03-15T07:38:22.116Z"
   },
   {
    "duration": 6,
    "start_time": "2022-03-15T07:38:22.131Z"
   },
   {
    "duration": 7,
    "start_time": "2022-03-15T07:38:22.140Z"
   },
   {
    "duration": 678,
    "start_time": "2022-03-15T07:38:22.150Z"
   },
   {
    "duration": 651,
    "start_time": "2022-03-15T07:38:22.831Z"
   },
   {
    "duration": 606,
    "start_time": "2022-03-15T07:38:23.485Z"
   },
   {
    "duration": 706,
    "start_time": "2022-03-15T07:38:24.093Z"
   },
   {
    "duration": 980,
    "start_time": "2022-03-15T07:38:24.802Z"
   },
   {
    "duration": 608,
    "start_time": "2022-03-15T07:38:25.784Z"
   },
   {
    "duration": 639,
    "start_time": "2022-03-15T07:38:26.395Z"
   },
   {
    "duration": 601,
    "start_time": "2022-03-15T07:38:27.037Z"
   },
   {
    "duration": 684,
    "start_time": "2022-03-15T07:38:27.642Z"
   },
   {
    "duration": 22,
    "start_time": "2022-03-15T07:38:28.329Z"
   },
   {
    "duration": 46981,
    "start_time": "2022-03-15T07:38:28.353Z"
   },
   {
    "duration": 45,
    "start_time": "2022-03-15T07:39:15.337Z"
   },
   {
    "duration": 22,
    "start_time": "2022-03-15T08:03:24.033Z"
   },
   {
    "duration": 21,
    "start_time": "2022-03-15T17:51:33.407Z"
   },
   {
    "duration": 1675,
    "start_time": "2022-03-15T17:52:06.515Z"
   },
   {
    "duration": 604,
    "start_time": "2022-03-15T17:52:49.298Z"
   },
   {
    "duration": 457,
    "start_time": "2022-03-15T17:53:40.727Z"
   },
   {
    "duration": 760,
    "start_time": "2022-03-15T17:54:02.272Z"
   },
   {
    "duration": 463,
    "start_time": "2022-03-15T17:55:26.738Z"
   },
   {
    "duration": 199,
    "start_time": "2022-03-15T17:56:14.285Z"
   },
   {
    "duration": 26,
    "start_time": "2022-03-15T17:56:19.583Z"
   },
   {
    "duration": 299,
    "start_time": "2022-03-15T17:56:47.922Z"
   },
   {
    "duration": 234,
    "start_time": "2022-03-15T17:57:02.396Z"
   },
   {
    "duration": 132,
    "start_time": "2022-03-15T17:57:33.666Z"
   },
   {
    "duration": 89,
    "start_time": "2022-03-16T13:51:45.513Z"
   },
   {
    "duration": 244,
    "start_time": "2022-03-16T13:59:15.728Z"
   },
   {
    "duration": 799,
    "start_time": "2022-03-16T13:59:26.000Z"
   },
   {
    "duration": 263,
    "start_time": "2022-03-16T14:01:17.573Z"
   },
   {
    "duration": 10,
    "start_time": "2022-03-16T14:08:53.296Z"
   },
   {
    "duration": 6,
    "start_time": "2022-03-16T14:09:04.352Z"
   },
   {
    "duration": 1259,
    "start_time": "2022-03-16T14:09:40.264Z"
   },
   {
    "duration": 740,
    "start_time": "2022-03-16T14:10:00.552Z"
   },
   {
    "duration": 1154,
    "start_time": "2022-03-16T14:10:16.361Z"
   },
   {
    "duration": 1011,
    "start_time": "2022-03-16T14:10:22.508Z"
   },
   {
    "duration": 2197,
    "start_time": "2022-03-16T14:10:51.091Z"
   },
   {
    "duration": 231,
    "start_time": "2022-03-16T14:17:45.587Z"
   },
   {
    "duration": 186,
    "start_time": "2022-03-16T14:20:04.697Z"
   },
   {
    "duration": 2777,
    "start_time": "2022-03-16T14:20:19.805Z"
   },
   {
    "duration": 110,
    "start_time": "2022-03-16T14:21:24.686Z"
   },
   {
    "duration": 30,
    "start_time": "2022-03-16T14:21:27.085Z"
   },
   {
    "duration": 1760,
    "start_time": "2022-03-16T14:21:28.065Z"
   },
   {
    "duration": 182,
    "start_time": "2022-03-16T14:22:12.814Z"
   },
   {
    "duration": 5,
    "start_time": "2022-03-16T14:22:34.795Z"
   },
   {
    "duration": 261,
    "start_time": "2022-03-16T14:23:27.426Z"
   },
   {
    "duration": 1017,
    "start_time": "2022-03-16T14:24:17.107Z"
   },
   {
    "duration": 3284,
    "start_time": "2022-03-16T14:24:24.636Z"
   },
   {
    "duration": 70,
    "start_time": "2022-03-16T14:37:29.463Z"
   },
   {
    "duration": 4,
    "start_time": "2022-03-16T14:38:49.633Z"
   },
   {
    "duration": 280,
    "start_time": "2022-03-16T14:39:04.244Z"
   },
   {
    "duration": 183,
    "start_time": "2022-03-16T14:39:49.609Z"
   },
   {
    "duration": 5,
    "start_time": "2022-03-16T14:39:58.220Z"
   },
   {
    "duration": 5,
    "start_time": "2022-03-16T14:41:02.373Z"
   },
   {
    "duration": 16,
    "start_time": "2022-03-16T14:43:40.764Z"
   },
   {
    "duration": 399,
    "start_time": "2022-03-16T14:43:50.310Z"
   },
   {
    "duration": 364,
    "start_time": "2022-03-16T14:44:04.926Z"
   },
   {
    "duration": 23,
    "start_time": "2022-03-16T14:45:07.654Z"
   },
   {
    "duration": 17,
    "start_time": "2022-03-16T14:45:33.904Z"
   },
   {
    "duration": 1570,
    "start_time": "2022-03-16T14:46:02.614Z"
   },
   {
    "duration": 2297,
    "start_time": "2022-03-16T14:46:13.187Z"
   },
   {
    "duration": 14,
    "start_time": "2022-03-16T14:46:26.476Z"
   },
   {
    "duration": 539,
    "start_time": "2022-03-16T14:46:32.759Z"
   },
   {
    "duration": 564,
    "start_time": "2022-03-16T14:46:35.535Z"
   },
   {
    "duration": 798,
    "start_time": "2022-03-16T14:46:49.084Z"
   },
   {
    "duration": 17,
    "start_time": "2022-03-16T14:47:01.406Z"
   },
   {
    "duration": 472,
    "start_time": "2022-03-16T14:47:01.846Z"
   },
   {
    "duration": 647,
    "start_time": "2022-03-16T14:47:02.862Z"
   },
   {
    "duration": 726,
    "start_time": "2022-03-16T14:47:03.998Z"
   },
   {
    "duration": 15,
    "start_time": "2022-03-16T14:47:22.031Z"
   },
   {
    "duration": 462,
    "start_time": "2022-03-16T14:47:22.626Z"
   },
   {
    "duration": 524,
    "start_time": "2022-03-16T14:47:23.583Z"
   },
   {
    "duration": 527,
    "start_time": "2022-03-16T14:47:24.655Z"
   },
   {
    "duration": 5,
    "start_time": "2022-03-16T14:49:58.524Z"
   },
   {
    "duration": 9,
    "start_time": "2022-03-16T14:51:48.264Z"
   },
   {
    "duration": 569,
    "start_time": "2022-03-16T14:51:49.017Z"
   },
   {
    "duration": 575,
    "start_time": "2022-03-16T14:51:50.254Z"
   },
   {
    "duration": 15,
    "start_time": "2022-03-16T14:52:19.023Z"
   },
   {
    "duration": 325,
    "start_time": "2022-03-16T14:52:19.510Z"
   },
   {
    "duration": 524,
    "start_time": "2022-03-16T14:52:20.372Z"
   },
   {
    "duration": 5,
    "start_time": "2022-03-16T14:52:22.011Z"
   },
   {
    "duration": 5,
    "start_time": "2022-03-16T14:52:22.654Z"
   },
   {
    "duration": 236,
    "start_time": "2022-03-16T14:52:44.728Z"
   },
   {
    "duration": 5,
    "start_time": "2022-03-16T14:53:05.056Z"
   },
   {
    "duration": 38,
    "start_time": "2022-03-16T14:59:08.386Z"
   },
   {
    "duration": 2674,
    "start_time": "2022-03-16T14:59:19.422Z"
   },
   {
    "duration": 6,
    "start_time": "2022-03-16T15:17:39.824Z"
   },
   {
    "duration": 6,
    "start_time": "2022-03-16T15:18:53.933Z"
   },
   {
    "duration": 104,
    "start_time": "2022-03-16T15:24:53.284Z"
   },
   {
    "duration": 3005,
    "start_time": "2022-03-16T15:24:54.966Z"
   },
   {
    "duration": 83,
    "start_time": "2022-03-16T15:26:38.499Z"
   },
   {
    "duration": 3068,
    "start_time": "2022-03-16T15:26:39.148Z"
   },
   {
    "duration": 599,
    "start_time": "2022-03-16T15:29:50.991Z"
   },
   {
    "duration": 3596,
    "start_time": "2022-03-16T15:29:59.060Z"
   },
   {
    "duration": 300,
    "start_time": "2022-03-16T15:30:20.014Z"
   },
   {
    "duration": 226,
    "start_time": "2022-03-16T15:31:41.602Z"
   },
   {
    "duration": 229,
    "start_time": "2022-03-16T15:32:35.770Z"
   },
   {
    "duration": 10,
    "start_time": "2022-03-16T15:35:33.181Z"
   },
   {
    "duration": 978,
    "start_time": "2022-03-16T15:35:33.628Z"
   },
   {
    "duration": 1385,
    "start_time": "2022-03-16T15:35:34.609Z"
   },
   {
    "duration": 10,
    "start_time": "2022-03-16T15:36:39.470Z"
   },
   {
    "duration": 538,
    "start_time": "2022-03-16T15:36:39.947Z"
   },
   {
    "duration": 547,
    "start_time": "2022-03-16T15:36:41.147Z"
   },
   {
    "duration": 4,
    "start_time": "2022-03-16T15:36:43.074Z"
   },
   {
    "duration": 4,
    "start_time": "2022-03-16T15:36:43.873Z"
   },
   {
    "duration": 13,
    "start_time": "2022-03-16T15:37:40.107Z"
   },
   {
    "duration": 550,
    "start_time": "2022-03-16T15:37:40.564Z"
   },
   {
    "duration": 895,
    "start_time": "2022-03-16T15:37:41.116Z"
   },
   {
    "duration": 9,
    "start_time": "2022-03-16T15:37:43.214Z"
   },
   {
    "duration": 5,
    "start_time": "2022-03-16T15:37:43.824Z"
   },
   {
    "duration": 13,
    "start_time": "2022-03-16T15:38:08.845Z"
   },
   {
    "duration": 512,
    "start_time": "2022-03-16T15:38:09.270Z"
   },
   {
    "duration": 479,
    "start_time": "2022-03-16T15:38:09.785Z"
   },
   {
    "duration": 15,
    "start_time": "2022-03-16T15:38:10.930Z"
   },
   {
    "duration": 14,
    "start_time": "2022-03-16T15:38:11.653Z"
   },
   {
    "duration": 10,
    "start_time": "2022-03-16T15:38:43.354Z"
   },
   {
    "duration": 389,
    "start_time": "2022-03-16T15:38:43.803Z"
   },
   {
    "duration": 574,
    "start_time": "2022-03-16T15:38:44.219Z"
   },
   {
    "duration": 4,
    "start_time": "2022-03-16T15:38:45.939Z"
   },
   {
    "duration": 4,
    "start_time": "2022-03-16T15:38:46.383Z"
   },
   {
    "duration": 317,
    "start_time": "2022-03-16T15:43:36.317Z"
   },
   {
    "duration": 206,
    "start_time": "2022-03-16T15:54:03.780Z"
   },
   {
    "duration": 12,
    "start_time": "2022-03-17T18:07:24.708Z"
   },
   {
    "duration": 1747,
    "start_time": "2022-03-17T18:07:57.786Z"
   },
   {
    "duration": 44,
    "start_time": "2022-03-17T18:21:07.767Z"
   },
   {
    "duration": 44,
    "start_time": "2022-03-17T18:26:08.058Z"
   },
   {
    "duration": 60,
    "start_time": "2022-03-17T18:26:34.368Z"
   },
   {
    "duration": 69,
    "start_time": "2022-03-17T20:53:24.068Z"
   },
   {
    "duration": 41,
    "start_time": "2022-03-17T20:55:17.758Z"
   },
   {
    "duration": 103,
    "start_time": "2022-03-18T12:28:20.763Z"
   },
   {
    "duration": 49,
    "start_time": "2022-03-18T12:28:24.940Z"
   },
   {
    "duration": 42,
    "start_time": "2022-03-18T12:29:33.584Z"
   }
  ],
  "colab": {
   "name": "PySparkSprint.ipynb",
   "provenance": []
  },
  "kernelspec": {
   "display_name": "Python 3",
   "language": "python",
   "name": "python3"
  },
  "language_info": {
   "codemirror_mode": {
    "name": "ipython",
    "version": 3
   },
   "file_extension": ".py",
   "mimetype": "text/x-python",
   "name": "python",
   "nbconvert_exporter": "python",
   "pygments_lexer": "ipython3",
   "version": "3.8.5"
  },
  "toc": {
   "base_numbering": 1,
   "nav_menu": {},
   "number_sections": true,
   "sideBar": true,
   "skip_h1_title": true,
   "title_cell": "Table of Contents",
   "title_sidebar": "Contents",
   "toc_cell": false,
   "toc_position": {},
   "toc_section_display": true,
   "toc_window_display": false
  }
 },
 "nbformat": 4,
 "nbformat_minor": 5
}
