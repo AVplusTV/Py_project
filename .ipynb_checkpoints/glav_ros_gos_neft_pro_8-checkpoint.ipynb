{
 "cells": [
  {
   "cell_type": "markdown",
   "metadata": {
    "toc": true
   },
   "source": [
    "<h1>Table of Contents<span class=\"tocSkip\"></span></h1>\n",
    "<div class=\"toc\"><ul class=\"toc-item\"><li><span><a href=\"#Исследование-данных-Компании-«ГлавРосГосНефть»\" data-toc-modified-id=\"Исследование-данных-Компании-«ГлавРосГосНефть»-1\"><span class=\"toc-item-num\">1&nbsp;&nbsp;</span>Исследование данных Компании «ГлавРосГосНефть»</a></span></li><li><span><a href=\"#Обучим-и-проверим-модель-для-каждого-региона:\" data-toc-modified-id=\"Обучим-и-проверим-модель-для-каждого-региона:-2\"><span class=\"toc-item-num\">2&nbsp;&nbsp;</span>Обучим и проверим модель для каждого региона:</a></span><ul class=\"toc-item\"><li><span><a href=\"#Разобьем-данные-на-обучающую-и-валидационную-выборки-в-соотношении-75:25\" data-toc-modified-id=\"Разобьем-данные-на-обучающую-и-валидационную-выборки-в-соотношении-75:25-2.1\"><span class=\"toc-item-num\">2.1&nbsp;&nbsp;</span>Разобьем данные на обучающую и валидационную выборки в соотношении 75:25</a></span></li><li><span><a href=\"#Обучим-модель-и-сделаем-предсказания-на-валидационной-выборке.\" data-toc-modified-id=\"Обучим-модель-и-сделаем-предсказания-на-валидационной-выборке.-2.2\"><span class=\"toc-item-num\">2.2&nbsp;&nbsp;</span>Обучим модель и сделаем предсказания на валидационной выборке.</a></span></li><li><span><a href=\"#Рассчитаем-предсказанные-средние-запасы-и-корень-из-средней-квадратичной-ошибки\" data-toc-modified-id=\"Рассчитаем-предсказанные-средние-запасы-и-корень-из-средней-квадратичной-ошибки-2.3\"><span class=\"toc-item-num\">2.3&nbsp;&nbsp;</span>Рассчитаем предсказанные средние запасы и корень из средней квадратичной ошибки</a></span></li></ul></li><li><span><a href=\"#Подготовка-к-расчёту-прибыли:\" data-toc-modified-id=\"Подготовка-к-расчёту-прибыли:-3\"><span class=\"toc-item-num\">3&nbsp;&nbsp;</span>Подготовка к расчёту прибыли:</a></span><ul class=\"toc-item\"><li><span><a href=\"#Все-ключевые-значения-для-расчётов-сохраним-в-отдельных-переменных.\" data-toc-modified-id=\"Все-ключевые-значения-для-расчётов-сохраним-в-отдельных-переменных.-3.1\"><span class=\"toc-item-num\">3.1&nbsp;&nbsp;</span>Все ключевые значения для расчётов сохраним в отдельных переменных.</a></span></li><li><span><a href=\"#Рассчитаем-достаточный-объём-сырья-для-безубыточной-разработки-новой-скважины.-Сравним-полученный-объём-сырья-со-средним-запасом-в-каждом-регионе.\" data-toc-modified-id=\"Рассчитаем-достаточный-объём-сырья-для-безубыточной-разработки-новой-скважины.-Сравним-полученный-объём-сырья-со-средним-запасом-в-каждом-регионе.-3.2\"><span class=\"toc-item-num\">3.2&nbsp;&nbsp;</span>Рассчитаем достаточный объём сырья для безубыточной разработки новой скважины. Сравним полученный объём сырья со средним запасом в каждом регионе.</a></span></li></ul></li><li><span><a href=\"#Напишем-функцию-для-расчёта-прибыли-по-выбранным-скважинам-и-предсказаниям-модели:\" data-toc-modified-id=\"Напишем-функцию-для-расчёта-прибыли-по-выбранным-скважинам-и-предсказаниям-модели:-4\"><span class=\"toc-item-num\">4&nbsp;&nbsp;</span>Напишем функцию для расчёта прибыли по выбранным скважинам и предсказаниям модели:</a></span></li><li><span><a href=\"#Посчитаем-риски-и-прибыль-для-каждого-региона:\" data-toc-modified-id=\"Посчитаем-риски-и-прибыль-для-каждого-региона:-5\"><span class=\"toc-item-num\">5&nbsp;&nbsp;</span>Посчитаем риски и прибыль для каждого региона:</a></span><ul class=\"toc-item\"><li><span><a href=\"#Применим-технику-Bootstrap-с-1000-выборок,-чтобы-найти-распределение-прибыли.\" data-toc-modified-id=\"Применим-технику-Bootstrap-с-1000-выборок,-чтобы-найти-распределение-прибыли.-5.1\"><span class=\"toc-item-num\">5.1&nbsp;&nbsp;</span>Применим технику Bootstrap с 1000 выборок, чтобы найти распределение прибыли.</a></span></li><li><span><a href=\"#Интересно-применить-технику-бутстреп-к-модели-линейной-регрессии\" data-toc-modified-id=\"Интересно-применить-технику-бутстреп-к-модели-линейной-регрессии-5.2\"><span class=\"toc-item-num\">5.2&nbsp;&nbsp;</span>Интересно применить технику бутстреп к модели линейной регрессии</a></span></li></ul></li></ul></div>"
   ]
  },
  {
   "cell_type": "markdown",
   "metadata": {},
   "source": [
    "<div style=\"background: #cceeaa; padding: 5px; border: 1px solid green; border-radius: 5px;\">\n",
    "    <font color='green'> <b><u>КОММЕНТАРИЙ РЕВЬЮЕРА</u></b>\n",
    "\n",
    "Роман, доброго дня! рад приветствовать тебя) <br />\n",
    "<br />\n",
    "Меня зовут Николай Шавлюго. <br />И на этом этапе твоего движения к новой профессии от меня будут комментарии по написанному коду. <br />Чтобы меньше \"мусорить эфир\" и чтобы максимально наглядно отделяться от основного кода, есть предложение условиться в некоторых обозначениях:<br /> <br />\n",
    "<u><b>ТАКОЙ ШРИФТ</b></u> - всегда начало комментария <br />\n",
    "<font color='green'>такой шрифт</font> - комментарии о том, что всё ОК <br/>\n",
    "<font color='orange'>такой шрифт</font> - комментарии о том, что всё ОК по результату,<br> однако есть на что обратить внимание в плане применения техник, или есть способы сделать более короткий или быстрый код <br/>\n",
    "<font color='red'>такой шрифт</font> - комментарии о том, что есть критичный момент, влияющий на бизнес-результат проекта.<br/>\n",
    "</font><br /><br />\n",
    "<font color='green'>Моей целью является не \"уличить\" в не знании, а просто высказать сверху твоих знаний - свой опыт, что бы ты мог использовать его для своего дальнейшего успеха) И очень здорово будет, если тебе удастся задавать вопросы, да и вообще - всячески доставать меня, если я по каким-то причинам не приму проект:) При этом, из своего опыта скажу, хорошо и важно, когда переписка ревьюера и студента - сохраняется на следующие проекты и даже на будущую практическую деятельность.<br>\n",
    "<br> Я сразу же начал общаться на ты:) но если это не очень удобно, то дай знать)) <BR> В ПУТЬ!<br>"
   ]
  },
  {
   "cell_type": "markdown",
   "metadata": {},
   "source": [
    "The version of the notebook server is: 6.1.4\n",
    "\n",
    "The server is running on this version of Python: Python 3.8.5\n",
    "\n",
    "OS Windows 10 Home\n",
    "\n",
    "Configurable nbextensions Table of Contents (2) compatibility: 4.x, 5.x (https://www.codegrepper.com/code-examples/shell/install+toc2+jupyter+notebook)\n",
    "\n",
    "<b>Описание проекта:</b>\n",
    "\n",
    "Нужно решить, где бурить новую скважину.\n",
    "\n",
    "Шаги для выбора локации обычно такие:\n",
    "В избранном регионе собирают характеристики для скважин: качество нефти и объём её запасов;\n",
    "Строят модель для предсказания объёма запасов в новых скважинах;\n",
    "Выбирают скважины с самыми высокими оценками значений;\n",
    "Определяют регион с максимальной суммарной прибылью отобранных скважин.\n",
    "\n",
    "Вам предоставлены пробы нефти в трёх регионах.\n",
    "\n",
    "Характеристики для каждой скважины в регионе уже известны. Постройте модель для определения региона, где добыча принесёт наибольшую прибыль."
   ]
  },
  {
   "cell_type": "markdown",
   "metadata": {},
   "source": [
    "<b>Условия задачи:</b>\n",
    "* Для обучения модели подходит только линейная регрессия (остальные — недостаточно предсказуемые).\n",
    "* При разведке региона исследуют 500 точек, из которых с помощью машинного обучения выбирают 200 лучших для разработки.\n",
    "* Бюджет на разработку скважин в регионе — 10 млрд рублей.\n",
    "* При нынешних ценах один баррель сырья приносит 450 рублей дохода. Доход с каждой единицы продукта составляет 450 тыс. рублей, поскольку объём указан в тысячах баррелей.\n",
    "* После оценки рисков нужно оставить лишь те регионы, в которых вероятность убытков меньше 2.5%. Среди них выбирают регион с наибольшей средней прибылью."
   ]
  },
  {
   "cell_type": "markdown",
   "metadata": {},
   "source": [
    "Импортируем модули и библиотеки:"
   ]
  },
  {
   "cell_type": "code",
   "execution_count": 1,
   "metadata": {},
   "outputs": [],
   "source": [
    "import pandas as pd # импорт библиотеки pandas\n",
    "import matplotlib.pyplot as plt # импорт библиотеки работы с графиками\n",
    "import numpy as np # импорт библиотеки для вычислений\n",
    "from sklearn.linear_model import LinearRegression # импорт модели линейной регрессии\n",
    "from sklearn.metrics import mean_squared_error #импорт метода для расчета средней кадратичной ошибки\n",
    "import warnings\n",
    "warnings.filterwarnings('ignore') # отключаем сообщения об ошибках pandas\n",
    "pd.set_option('display.max_columns', None) # Сброс ограничений на число выводимых столбцов"
   ]
  },
  {
   "cell_type": "markdown",
   "metadata": {},
   "source": [
    "## Исследование данных Компании «ГлавРосГосНефть»"
   ]
  },
  {
   "cell_type": "markdown",
   "metadata": {},
   "source": [
    "1.1  Открываем файл с данными и анализируем содержимое\n",
    "\n",
    "От компании «ГлавРосГосНефть» поступили следующие файлы: \n",
    "\n",
    "<b>geo_data_0</b> - даные первого региона\n",
    "\n",
    "<b>geo_data_1</b> - даные второго региона\n",
    "\n",
    "<b>geo_data_2</b> - даные третего региона\n",
    "\n",
    "    \n",
    "    Характеристики для каждой скважины в регионе\n",
    "    \n",
    "* id — уникальный идентификатор скважины;\n",
    "\n",
    "* f0, f1, f2 — три признака точек (неважно, что они означают, но сами признаки значимы);\n",
    "\n",
    "* product — объём запасов в скважине (тыс. баррелей)"
   ]
  },
  {
   "cell_type": "markdown",
   "metadata": {},
   "source": [
    "Функция для чтения файла в таблицу с учетом возможности работы на разных платформах и заодно исследование данных в таблицах:"
   ]
  },
  {
   "cell_type": "code",
   "execution_count": 2,
   "metadata": {},
   "outputs": [],
   "source": [
    "def read_csv(link):\n",
    "    link1 = 'datasets/' + link\n",
    "    link2 = '/datasets/' + link\n",
    "    try:\n",
    "        name_link = pd.read_csv(link1)\n",
    "    except:\n",
    "        name_link = pd.read_csv(link2)\n",
    "    display(name_link.head()) #просмотрим сразу первые пять строк\n",
    "    display(name_link.info()) #просмотрим информацию    \n",
    "    display(name_link.describe()) #просмотрим информацию  \n",
    "    display(name_link.corr()) #таблица корреляций\n",
    "    display(name_link.nunique()) # посчитаем уникальные значения\n",
    "    display(name_link['product'].value_counts()) # посмотрим на уникальность значений в столбце продукции\n",
    "    display(name_link['id'].value_counts()) # посмотрим на уникальность значений в столбце продукции\n",
    "    display('Количество явных дубликатов:', name_link.duplicated().sum()) #проверка на явные дубликаты\n",
    "    return name_link"
   ]
  },
  {
   "cell_type": "code",
   "execution_count": 3,
   "metadata": {},
   "outputs": [
    {
     "name": "stdout",
     "output_type": "stream",
     "text": [
      "+++++++++++++++++++++++++++++++++++++++++++Просмотр данных таблицы df_0+++++++++++++++++++++++++++++++++++++++++++\n"
     ]
    },
    {
     "data": {
      "text/html": [
       "<div>\n",
       "<style scoped>\n",
       "    .dataframe tbody tr th:only-of-type {\n",
       "        vertical-align: middle;\n",
       "    }\n",
       "\n",
       "    .dataframe tbody tr th {\n",
       "        vertical-align: top;\n",
       "    }\n",
       "\n",
       "    .dataframe thead th {\n",
       "        text-align: right;\n",
       "    }\n",
       "</style>\n",
       "<table border=\"1\" class=\"dataframe\">\n",
       "  <thead>\n",
       "    <tr style=\"text-align: right;\">\n",
       "      <th></th>\n",
       "      <th>id</th>\n",
       "      <th>f0</th>\n",
       "      <th>f1</th>\n",
       "      <th>f2</th>\n",
       "      <th>product</th>\n",
       "    </tr>\n",
       "  </thead>\n",
       "  <tbody>\n",
       "    <tr>\n",
       "      <th>0</th>\n",
       "      <td>txEyH</td>\n",
       "      <td>0.705745</td>\n",
       "      <td>-0.497823</td>\n",
       "      <td>1.221170</td>\n",
       "      <td>105.280062</td>\n",
       "    </tr>\n",
       "    <tr>\n",
       "      <th>1</th>\n",
       "      <td>2acmU</td>\n",
       "      <td>1.334711</td>\n",
       "      <td>-0.340164</td>\n",
       "      <td>4.365080</td>\n",
       "      <td>73.037750</td>\n",
       "    </tr>\n",
       "    <tr>\n",
       "      <th>2</th>\n",
       "      <td>409Wp</td>\n",
       "      <td>1.022732</td>\n",
       "      <td>0.151990</td>\n",
       "      <td>1.419926</td>\n",
       "      <td>85.265647</td>\n",
       "    </tr>\n",
       "    <tr>\n",
       "      <th>3</th>\n",
       "      <td>iJLyR</td>\n",
       "      <td>-0.032172</td>\n",
       "      <td>0.139033</td>\n",
       "      <td>2.978566</td>\n",
       "      <td>168.620776</td>\n",
       "    </tr>\n",
       "    <tr>\n",
       "      <th>4</th>\n",
       "      <td>Xdl7t</td>\n",
       "      <td>1.988431</td>\n",
       "      <td>0.155413</td>\n",
       "      <td>4.751769</td>\n",
       "      <td>154.036647</td>\n",
       "    </tr>\n",
       "  </tbody>\n",
       "</table>\n",
       "</div>"
      ],
      "text/plain": [
       "      id        f0        f1        f2     product\n",
       "0  txEyH  0.705745 -0.497823  1.221170  105.280062\n",
       "1  2acmU  1.334711 -0.340164  4.365080   73.037750\n",
       "2  409Wp  1.022732  0.151990  1.419926   85.265647\n",
       "3  iJLyR -0.032172  0.139033  2.978566  168.620776\n",
       "4  Xdl7t  1.988431  0.155413  4.751769  154.036647"
      ]
     },
     "metadata": {},
     "output_type": "display_data"
    },
    {
     "name": "stdout",
     "output_type": "stream",
     "text": [
      "<class 'pandas.core.frame.DataFrame'>\n",
      "RangeIndex: 100000 entries, 0 to 99999\n",
      "Data columns (total 5 columns):\n",
      " #   Column   Non-Null Count   Dtype  \n",
      "---  ------   --------------   -----  \n",
      " 0   id       100000 non-null  object \n",
      " 1   f0       100000 non-null  float64\n",
      " 2   f1       100000 non-null  float64\n",
      " 3   f2       100000 non-null  float64\n",
      " 4   product  100000 non-null  float64\n",
      "dtypes: float64(4), object(1)\n",
      "memory usage: 3.8+ MB\n"
     ]
    },
    {
     "data": {
      "text/plain": [
       "None"
      ]
     },
     "metadata": {},
     "output_type": "display_data"
    },
    {
     "data": {
      "text/html": [
       "<div>\n",
       "<style scoped>\n",
       "    .dataframe tbody tr th:only-of-type {\n",
       "        vertical-align: middle;\n",
       "    }\n",
       "\n",
       "    .dataframe tbody tr th {\n",
       "        vertical-align: top;\n",
       "    }\n",
       "\n",
       "    .dataframe thead th {\n",
       "        text-align: right;\n",
       "    }\n",
       "</style>\n",
       "<table border=\"1\" class=\"dataframe\">\n",
       "  <thead>\n",
       "    <tr style=\"text-align: right;\">\n",
       "      <th></th>\n",
       "      <th>f0</th>\n",
       "      <th>f1</th>\n",
       "      <th>f2</th>\n",
       "      <th>product</th>\n",
       "    </tr>\n",
       "  </thead>\n",
       "  <tbody>\n",
       "    <tr>\n",
       "      <th>count</th>\n",
       "      <td>100000.000000</td>\n",
       "      <td>100000.000000</td>\n",
       "      <td>100000.000000</td>\n",
       "      <td>100000.000000</td>\n",
       "    </tr>\n",
       "    <tr>\n",
       "      <th>mean</th>\n",
       "      <td>0.500419</td>\n",
       "      <td>0.250143</td>\n",
       "      <td>2.502647</td>\n",
       "      <td>92.500000</td>\n",
       "    </tr>\n",
       "    <tr>\n",
       "      <th>std</th>\n",
       "      <td>0.871832</td>\n",
       "      <td>0.504433</td>\n",
       "      <td>3.248248</td>\n",
       "      <td>44.288691</td>\n",
       "    </tr>\n",
       "    <tr>\n",
       "      <th>min</th>\n",
       "      <td>-1.408605</td>\n",
       "      <td>-0.848218</td>\n",
       "      <td>-12.088328</td>\n",
       "      <td>0.000000</td>\n",
       "    </tr>\n",
       "    <tr>\n",
       "      <th>25%</th>\n",
       "      <td>-0.072580</td>\n",
       "      <td>-0.200881</td>\n",
       "      <td>0.287748</td>\n",
       "      <td>56.497507</td>\n",
       "    </tr>\n",
       "    <tr>\n",
       "      <th>50%</th>\n",
       "      <td>0.502360</td>\n",
       "      <td>0.250252</td>\n",
       "      <td>2.515969</td>\n",
       "      <td>91.849972</td>\n",
       "    </tr>\n",
       "    <tr>\n",
       "      <th>75%</th>\n",
       "      <td>1.073581</td>\n",
       "      <td>0.700646</td>\n",
       "      <td>4.715088</td>\n",
       "      <td>128.564089</td>\n",
       "    </tr>\n",
       "    <tr>\n",
       "      <th>max</th>\n",
       "      <td>2.362331</td>\n",
       "      <td>1.343769</td>\n",
       "      <td>16.003790</td>\n",
       "      <td>185.364347</td>\n",
       "    </tr>\n",
       "  </tbody>\n",
       "</table>\n",
       "</div>"
      ],
      "text/plain": [
       "                  f0             f1             f2        product\n",
       "count  100000.000000  100000.000000  100000.000000  100000.000000\n",
       "mean        0.500419       0.250143       2.502647      92.500000\n",
       "std         0.871832       0.504433       3.248248      44.288691\n",
       "min        -1.408605      -0.848218     -12.088328       0.000000\n",
       "25%        -0.072580      -0.200881       0.287748      56.497507\n",
       "50%         0.502360       0.250252       2.515969      91.849972\n",
       "75%         1.073581       0.700646       4.715088     128.564089\n",
       "max         2.362331       1.343769      16.003790     185.364347"
      ]
     },
     "metadata": {},
     "output_type": "display_data"
    },
    {
     "data": {
      "text/html": [
       "<div>\n",
       "<style scoped>\n",
       "    .dataframe tbody tr th:only-of-type {\n",
       "        vertical-align: middle;\n",
       "    }\n",
       "\n",
       "    .dataframe tbody tr th {\n",
       "        vertical-align: top;\n",
       "    }\n",
       "\n",
       "    .dataframe thead th {\n",
       "        text-align: right;\n",
       "    }\n",
       "</style>\n",
       "<table border=\"1\" class=\"dataframe\">\n",
       "  <thead>\n",
       "    <tr style=\"text-align: right;\">\n",
       "      <th></th>\n",
       "      <th>f0</th>\n",
       "      <th>f1</th>\n",
       "      <th>f2</th>\n",
       "      <th>product</th>\n",
       "    </tr>\n",
       "  </thead>\n",
       "  <tbody>\n",
       "    <tr>\n",
       "      <th>f0</th>\n",
       "      <td>1.000000</td>\n",
       "      <td>-0.440723</td>\n",
       "      <td>-0.003153</td>\n",
       "      <td>0.143536</td>\n",
       "    </tr>\n",
       "    <tr>\n",
       "      <th>f1</th>\n",
       "      <td>-0.440723</td>\n",
       "      <td>1.000000</td>\n",
       "      <td>0.001724</td>\n",
       "      <td>-0.192356</td>\n",
       "    </tr>\n",
       "    <tr>\n",
       "      <th>f2</th>\n",
       "      <td>-0.003153</td>\n",
       "      <td>0.001724</td>\n",
       "      <td>1.000000</td>\n",
       "      <td>0.483663</td>\n",
       "    </tr>\n",
       "    <tr>\n",
       "      <th>product</th>\n",
       "      <td>0.143536</td>\n",
       "      <td>-0.192356</td>\n",
       "      <td>0.483663</td>\n",
       "      <td>1.000000</td>\n",
       "    </tr>\n",
       "  </tbody>\n",
       "</table>\n",
       "</div>"
      ],
      "text/plain": [
       "               f0        f1        f2   product\n",
       "f0       1.000000 -0.440723 -0.003153  0.143536\n",
       "f1      -0.440723  1.000000  0.001724 -0.192356\n",
       "f2      -0.003153  0.001724  1.000000  0.483663\n",
       "product  0.143536 -0.192356  0.483663  1.000000"
      ]
     },
     "metadata": {},
     "output_type": "display_data"
    },
    {
     "data": {
      "text/plain": [
       "id          99990\n",
       "f0         100000\n",
       "f1         100000\n",
       "f2         100000\n",
       "product    100000\n",
       "dtype: int64"
      ]
     },
     "metadata": {},
     "output_type": "display_data"
    },
    {
     "data": {
      "text/plain": [
       "133.484532    1\n",
       "62.168021     1\n",
       "132.876558    1\n",
       "72.311385     1\n",
       "126.226062    1\n",
       "             ..\n",
       "101.234649    1\n",
       "88.864080     1\n",
       "32.143997     1\n",
       "121.947543    1\n",
       "122.698141    1\n",
       "Name: product, Length: 100000, dtype: int64"
      ]
     },
     "metadata": {},
     "output_type": "display_data"
    },
    {
     "data": {
      "text/plain": [
       "bsk9y    2\n",
       "QcMuo    2\n",
       "A5aEY    2\n",
       "74z30    2\n",
       "Tdehs    2\n",
       "        ..\n",
       "gtIyW    1\n",
       "qv5M3    1\n",
       "1Wwls    1\n",
       "QBFpJ    1\n",
       "eh1oV    1\n",
       "Name: id, Length: 99990, dtype: int64"
      ]
     },
     "metadata": {},
     "output_type": "display_data"
    },
    {
     "data": {
      "text/plain": [
       "'Количество явных дубликатов:'"
      ]
     },
     "metadata": {},
     "output_type": "display_data"
    },
    {
     "data": {
      "text/plain": [
       "0"
      ]
     },
     "metadata": {},
     "output_type": "display_data"
    },
    {
     "name": "stdout",
     "output_type": "stream",
     "text": [
      "+++++++++++++++++++++++++++++++++++++++++++Просмотр данных таблицы df_1+++++++++++++++++++++++++++++++++++++++++++\n"
     ]
    },
    {
     "data": {
      "text/html": [
       "<div>\n",
       "<style scoped>\n",
       "    .dataframe tbody tr th:only-of-type {\n",
       "        vertical-align: middle;\n",
       "    }\n",
       "\n",
       "    .dataframe tbody tr th {\n",
       "        vertical-align: top;\n",
       "    }\n",
       "\n",
       "    .dataframe thead th {\n",
       "        text-align: right;\n",
       "    }\n",
       "</style>\n",
       "<table border=\"1\" class=\"dataframe\">\n",
       "  <thead>\n",
       "    <tr style=\"text-align: right;\">\n",
       "      <th></th>\n",
       "      <th>id</th>\n",
       "      <th>f0</th>\n",
       "      <th>f1</th>\n",
       "      <th>f2</th>\n",
       "      <th>product</th>\n",
       "    </tr>\n",
       "  </thead>\n",
       "  <tbody>\n",
       "    <tr>\n",
       "      <th>0</th>\n",
       "      <td>kBEdx</td>\n",
       "      <td>-15.001348</td>\n",
       "      <td>-8.276000</td>\n",
       "      <td>-0.005876</td>\n",
       "      <td>3.179103</td>\n",
       "    </tr>\n",
       "    <tr>\n",
       "      <th>1</th>\n",
       "      <td>62mP7</td>\n",
       "      <td>14.272088</td>\n",
       "      <td>-3.475083</td>\n",
       "      <td>0.999183</td>\n",
       "      <td>26.953261</td>\n",
       "    </tr>\n",
       "    <tr>\n",
       "      <th>2</th>\n",
       "      <td>vyE1P</td>\n",
       "      <td>6.263187</td>\n",
       "      <td>-5.948386</td>\n",
       "      <td>5.001160</td>\n",
       "      <td>134.766305</td>\n",
       "    </tr>\n",
       "    <tr>\n",
       "      <th>3</th>\n",
       "      <td>KcrkZ</td>\n",
       "      <td>-13.081196</td>\n",
       "      <td>-11.506057</td>\n",
       "      <td>4.999415</td>\n",
       "      <td>137.945408</td>\n",
       "    </tr>\n",
       "    <tr>\n",
       "      <th>4</th>\n",
       "      <td>AHL4O</td>\n",
       "      <td>12.702195</td>\n",
       "      <td>-8.147433</td>\n",
       "      <td>5.004363</td>\n",
       "      <td>134.766305</td>\n",
       "    </tr>\n",
       "  </tbody>\n",
       "</table>\n",
       "</div>"
      ],
      "text/plain": [
       "      id         f0         f1        f2     product\n",
       "0  kBEdx -15.001348  -8.276000 -0.005876    3.179103\n",
       "1  62mP7  14.272088  -3.475083  0.999183   26.953261\n",
       "2  vyE1P   6.263187  -5.948386  5.001160  134.766305\n",
       "3  KcrkZ -13.081196 -11.506057  4.999415  137.945408\n",
       "4  AHL4O  12.702195  -8.147433  5.004363  134.766305"
      ]
     },
     "metadata": {},
     "output_type": "display_data"
    },
    {
     "name": "stdout",
     "output_type": "stream",
     "text": [
      "<class 'pandas.core.frame.DataFrame'>\n",
      "RangeIndex: 100000 entries, 0 to 99999\n",
      "Data columns (total 5 columns):\n",
      " #   Column   Non-Null Count   Dtype  \n",
      "---  ------   --------------   -----  \n",
      " 0   id       100000 non-null  object \n",
      " 1   f0       100000 non-null  float64\n",
      " 2   f1       100000 non-null  float64\n",
      " 3   f2       100000 non-null  float64\n",
      " 4   product  100000 non-null  float64\n",
      "dtypes: float64(4), object(1)\n",
      "memory usage: 3.8+ MB\n"
     ]
    },
    {
     "data": {
      "text/plain": [
       "None"
      ]
     },
     "metadata": {},
     "output_type": "display_data"
    },
    {
     "data": {
      "text/html": [
       "<div>\n",
       "<style scoped>\n",
       "    .dataframe tbody tr th:only-of-type {\n",
       "        vertical-align: middle;\n",
       "    }\n",
       "\n",
       "    .dataframe tbody tr th {\n",
       "        vertical-align: top;\n",
       "    }\n",
       "\n",
       "    .dataframe thead th {\n",
       "        text-align: right;\n",
       "    }\n",
       "</style>\n",
       "<table border=\"1\" class=\"dataframe\">\n",
       "  <thead>\n",
       "    <tr style=\"text-align: right;\">\n",
       "      <th></th>\n",
       "      <th>f0</th>\n",
       "      <th>f1</th>\n",
       "      <th>f2</th>\n",
       "      <th>product</th>\n",
       "    </tr>\n",
       "  </thead>\n",
       "  <tbody>\n",
       "    <tr>\n",
       "      <th>count</th>\n",
       "      <td>100000.000000</td>\n",
       "      <td>100000.000000</td>\n",
       "      <td>100000.000000</td>\n",
       "      <td>100000.000000</td>\n",
       "    </tr>\n",
       "    <tr>\n",
       "      <th>mean</th>\n",
       "      <td>1.141296</td>\n",
       "      <td>-4.796579</td>\n",
       "      <td>2.494541</td>\n",
       "      <td>68.825000</td>\n",
       "    </tr>\n",
       "    <tr>\n",
       "      <th>std</th>\n",
       "      <td>8.965932</td>\n",
       "      <td>5.119872</td>\n",
       "      <td>1.703572</td>\n",
       "      <td>45.944423</td>\n",
       "    </tr>\n",
       "    <tr>\n",
       "      <th>min</th>\n",
       "      <td>-31.609576</td>\n",
       "      <td>-26.358598</td>\n",
       "      <td>-0.018144</td>\n",
       "      <td>0.000000</td>\n",
       "    </tr>\n",
       "    <tr>\n",
       "      <th>25%</th>\n",
       "      <td>-6.298551</td>\n",
       "      <td>-8.267985</td>\n",
       "      <td>1.000021</td>\n",
       "      <td>26.953261</td>\n",
       "    </tr>\n",
       "    <tr>\n",
       "      <th>50%</th>\n",
       "      <td>1.153055</td>\n",
       "      <td>-4.813172</td>\n",
       "      <td>2.011479</td>\n",
       "      <td>57.085625</td>\n",
       "    </tr>\n",
       "    <tr>\n",
       "      <th>75%</th>\n",
       "      <td>8.621015</td>\n",
       "      <td>-1.332816</td>\n",
       "      <td>3.999904</td>\n",
       "      <td>107.813044</td>\n",
       "    </tr>\n",
       "    <tr>\n",
       "      <th>max</th>\n",
       "      <td>29.421755</td>\n",
       "      <td>18.734063</td>\n",
       "      <td>5.019721</td>\n",
       "      <td>137.945408</td>\n",
       "    </tr>\n",
       "  </tbody>\n",
       "</table>\n",
       "</div>"
      ],
      "text/plain": [
       "                  f0             f1             f2        product\n",
       "count  100000.000000  100000.000000  100000.000000  100000.000000\n",
       "mean        1.141296      -4.796579       2.494541      68.825000\n",
       "std         8.965932       5.119872       1.703572      45.944423\n",
       "min       -31.609576     -26.358598      -0.018144       0.000000\n",
       "25%        -6.298551      -8.267985       1.000021      26.953261\n",
       "50%         1.153055      -4.813172       2.011479      57.085625\n",
       "75%         8.621015      -1.332816       3.999904     107.813044\n",
       "max        29.421755      18.734063       5.019721     137.945408"
      ]
     },
     "metadata": {},
     "output_type": "display_data"
    },
    {
     "data": {
      "text/html": [
       "<div>\n",
       "<style scoped>\n",
       "    .dataframe tbody tr th:only-of-type {\n",
       "        vertical-align: middle;\n",
       "    }\n",
       "\n",
       "    .dataframe tbody tr th {\n",
       "        vertical-align: top;\n",
       "    }\n",
       "\n",
       "    .dataframe thead th {\n",
       "        text-align: right;\n",
       "    }\n",
       "</style>\n",
       "<table border=\"1\" class=\"dataframe\">\n",
       "  <thead>\n",
       "    <tr style=\"text-align: right;\">\n",
       "      <th></th>\n",
       "      <th>f0</th>\n",
       "      <th>f1</th>\n",
       "      <th>f2</th>\n",
       "      <th>product</th>\n",
       "    </tr>\n",
       "  </thead>\n",
       "  <tbody>\n",
       "    <tr>\n",
       "      <th>f0</th>\n",
       "      <td>1.000000</td>\n",
       "      <td>0.182287</td>\n",
       "      <td>-0.001777</td>\n",
       "      <td>-0.030491</td>\n",
       "    </tr>\n",
       "    <tr>\n",
       "      <th>f1</th>\n",
       "      <td>0.182287</td>\n",
       "      <td>1.000000</td>\n",
       "      <td>-0.002595</td>\n",
       "      <td>-0.010155</td>\n",
       "    </tr>\n",
       "    <tr>\n",
       "      <th>f2</th>\n",
       "      <td>-0.001777</td>\n",
       "      <td>-0.002595</td>\n",
       "      <td>1.000000</td>\n",
       "      <td>0.999397</td>\n",
       "    </tr>\n",
       "    <tr>\n",
       "      <th>product</th>\n",
       "      <td>-0.030491</td>\n",
       "      <td>-0.010155</td>\n",
       "      <td>0.999397</td>\n",
       "      <td>1.000000</td>\n",
       "    </tr>\n",
       "  </tbody>\n",
       "</table>\n",
       "</div>"
      ],
      "text/plain": [
       "               f0        f1        f2   product\n",
       "f0       1.000000  0.182287 -0.001777 -0.030491\n",
       "f1       0.182287  1.000000 -0.002595 -0.010155\n",
       "f2      -0.001777 -0.002595  1.000000  0.999397\n",
       "product -0.030491 -0.010155  0.999397  1.000000"
      ]
     },
     "metadata": {},
     "output_type": "display_data"
    },
    {
     "data": {
      "text/plain": [
       "id          99996\n",
       "f0         100000\n",
       "f1         100000\n",
       "f2         100000\n",
       "product        12\n",
       "dtype: int64"
      ]
     },
     "metadata": {},
     "output_type": "display_data"
    },
    {
     "data": {
      "text/plain": [
       "53.906522     8472\n",
       "26.953261     8468\n",
       "84.038886     8431\n",
       "57.085625     8390\n",
       "3.179103      8337\n",
       "80.859783     8320\n",
       "30.132364     8306\n",
       "134.766305    8304\n",
       "110.992147    8303\n",
       "0.000000      8235\n",
       "137.945408    8233\n",
       "107.813044    8201\n",
       "Name: product, dtype: int64"
      ]
     },
     "metadata": {},
     "output_type": "display_data"
    },
    {
     "data": {
      "text/plain": [
       "LHZR0    2\n",
       "wt4Uk    2\n",
       "5ltQ6    2\n",
       "bfPNe    2\n",
       "AspCk    1\n",
       "        ..\n",
       "fPKTo    1\n",
       "H41Mv    1\n",
       "KnrLK    1\n",
       "l5aTF    1\n",
       "bBx2O    1\n",
       "Name: id, Length: 99996, dtype: int64"
      ]
     },
     "metadata": {},
     "output_type": "display_data"
    },
    {
     "data": {
      "text/plain": [
       "'Количество явных дубликатов:'"
      ]
     },
     "metadata": {},
     "output_type": "display_data"
    },
    {
     "data": {
      "text/plain": [
       "0"
      ]
     },
     "metadata": {},
     "output_type": "display_data"
    },
    {
     "name": "stdout",
     "output_type": "stream",
     "text": [
      "+++++++++++++++++++++++++++++++++++++++++++Просмотр данных таблицы df_2+++++++++++++++++++++++++++++++++++++++++++\n"
     ]
    },
    {
     "data": {
      "text/html": [
       "<div>\n",
       "<style scoped>\n",
       "    .dataframe tbody tr th:only-of-type {\n",
       "        vertical-align: middle;\n",
       "    }\n",
       "\n",
       "    .dataframe tbody tr th {\n",
       "        vertical-align: top;\n",
       "    }\n",
       "\n",
       "    .dataframe thead th {\n",
       "        text-align: right;\n",
       "    }\n",
       "</style>\n",
       "<table border=\"1\" class=\"dataframe\">\n",
       "  <thead>\n",
       "    <tr style=\"text-align: right;\">\n",
       "      <th></th>\n",
       "      <th>id</th>\n",
       "      <th>f0</th>\n",
       "      <th>f1</th>\n",
       "      <th>f2</th>\n",
       "      <th>product</th>\n",
       "    </tr>\n",
       "  </thead>\n",
       "  <tbody>\n",
       "    <tr>\n",
       "      <th>0</th>\n",
       "      <td>fwXo0</td>\n",
       "      <td>-1.146987</td>\n",
       "      <td>0.963328</td>\n",
       "      <td>-0.828965</td>\n",
       "      <td>27.758673</td>\n",
       "    </tr>\n",
       "    <tr>\n",
       "      <th>1</th>\n",
       "      <td>WJtFt</td>\n",
       "      <td>0.262778</td>\n",
       "      <td>0.269839</td>\n",
       "      <td>-2.530187</td>\n",
       "      <td>56.069697</td>\n",
       "    </tr>\n",
       "    <tr>\n",
       "      <th>2</th>\n",
       "      <td>ovLUW</td>\n",
       "      <td>0.194587</td>\n",
       "      <td>0.289035</td>\n",
       "      <td>-5.586433</td>\n",
       "      <td>62.871910</td>\n",
       "    </tr>\n",
       "    <tr>\n",
       "      <th>3</th>\n",
       "      <td>q6cA6</td>\n",
       "      <td>2.236060</td>\n",
       "      <td>-0.553760</td>\n",
       "      <td>0.930038</td>\n",
       "      <td>114.572842</td>\n",
       "    </tr>\n",
       "    <tr>\n",
       "      <th>4</th>\n",
       "      <td>WPMUX</td>\n",
       "      <td>-0.515993</td>\n",
       "      <td>1.716266</td>\n",
       "      <td>5.899011</td>\n",
       "      <td>149.600746</td>\n",
       "    </tr>\n",
       "  </tbody>\n",
       "</table>\n",
       "</div>"
      ],
      "text/plain": [
       "      id        f0        f1        f2     product\n",
       "0  fwXo0 -1.146987  0.963328 -0.828965   27.758673\n",
       "1  WJtFt  0.262778  0.269839 -2.530187   56.069697\n",
       "2  ovLUW  0.194587  0.289035 -5.586433   62.871910\n",
       "3  q6cA6  2.236060 -0.553760  0.930038  114.572842\n",
       "4  WPMUX -0.515993  1.716266  5.899011  149.600746"
      ]
     },
     "metadata": {},
     "output_type": "display_data"
    },
    {
     "name": "stdout",
     "output_type": "stream",
     "text": [
      "<class 'pandas.core.frame.DataFrame'>\n",
      "RangeIndex: 100000 entries, 0 to 99999\n",
      "Data columns (total 5 columns):\n",
      " #   Column   Non-Null Count   Dtype  \n",
      "---  ------   --------------   -----  \n",
      " 0   id       100000 non-null  object \n",
      " 1   f0       100000 non-null  float64\n",
      " 2   f1       100000 non-null  float64\n",
      " 3   f2       100000 non-null  float64\n",
      " 4   product  100000 non-null  float64\n",
      "dtypes: float64(4), object(1)\n",
      "memory usage: 3.8+ MB\n"
     ]
    },
    {
     "data": {
      "text/plain": [
       "None"
      ]
     },
     "metadata": {},
     "output_type": "display_data"
    },
    {
     "data": {
      "text/html": [
       "<div>\n",
       "<style scoped>\n",
       "    .dataframe tbody tr th:only-of-type {\n",
       "        vertical-align: middle;\n",
       "    }\n",
       "\n",
       "    .dataframe tbody tr th {\n",
       "        vertical-align: top;\n",
       "    }\n",
       "\n",
       "    .dataframe thead th {\n",
       "        text-align: right;\n",
       "    }\n",
       "</style>\n",
       "<table border=\"1\" class=\"dataframe\">\n",
       "  <thead>\n",
       "    <tr style=\"text-align: right;\">\n",
       "      <th></th>\n",
       "      <th>f0</th>\n",
       "      <th>f1</th>\n",
       "      <th>f2</th>\n",
       "      <th>product</th>\n",
       "    </tr>\n",
       "  </thead>\n",
       "  <tbody>\n",
       "    <tr>\n",
       "      <th>count</th>\n",
       "      <td>100000.000000</td>\n",
       "      <td>100000.000000</td>\n",
       "      <td>100000.000000</td>\n",
       "      <td>100000.000000</td>\n",
       "    </tr>\n",
       "    <tr>\n",
       "      <th>mean</th>\n",
       "      <td>0.002023</td>\n",
       "      <td>-0.002081</td>\n",
       "      <td>2.495128</td>\n",
       "      <td>95.000000</td>\n",
       "    </tr>\n",
       "    <tr>\n",
       "      <th>std</th>\n",
       "      <td>1.732045</td>\n",
       "      <td>1.730417</td>\n",
       "      <td>3.473445</td>\n",
       "      <td>44.749921</td>\n",
       "    </tr>\n",
       "    <tr>\n",
       "      <th>min</th>\n",
       "      <td>-8.760004</td>\n",
       "      <td>-7.084020</td>\n",
       "      <td>-11.970335</td>\n",
       "      <td>0.000000</td>\n",
       "    </tr>\n",
       "    <tr>\n",
       "      <th>25%</th>\n",
       "      <td>-1.162288</td>\n",
       "      <td>-1.174820</td>\n",
       "      <td>0.130359</td>\n",
       "      <td>59.450441</td>\n",
       "    </tr>\n",
       "    <tr>\n",
       "      <th>50%</th>\n",
       "      <td>0.009424</td>\n",
       "      <td>-0.009482</td>\n",
       "      <td>2.484236</td>\n",
       "      <td>94.925613</td>\n",
       "    </tr>\n",
       "    <tr>\n",
       "      <th>75%</th>\n",
       "      <td>1.158535</td>\n",
       "      <td>1.163678</td>\n",
       "      <td>4.858794</td>\n",
       "      <td>130.595027</td>\n",
       "    </tr>\n",
       "    <tr>\n",
       "      <th>max</th>\n",
       "      <td>7.238262</td>\n",
       "      <td>7.844801</td>\n",
       "      <td>16.739402</td>\n",
       "      <td>190.029838</td>\n",
       "    </tr>\n",
       "  </tbody>\n",
       "</table>\n",
       "</div>"
      ],
      "text/plain": [
       "                  f0             f1             f2        product\n",
       "count  100000.000000  100000.000000  100000.000000  100000.000000\n",
       "mean        0.002023      -0.002081       2.495128      95.000000\n",
       "std         1.732045       1.730417       3.473445      44.749921\n",
       "min        -8.760004      -7.084020     -11.970335       0.000000\n",
       "25%        -1.162288      -1.174820       0.130359      59.450441\n",
       "50%         0.009424      -0.009482       2.484236      94.925613\n",
       "75%         1.158535       1.163678       4.858794     130.595027\n",
       "max         7.238262       7.844801      16.739402     190.029838"
      ]
     },
     "metadata": {},
     "output_type": "display_data"
    },
    {
     "data": {
      "text/html": [
       "<div>\n",
       "<style scoped>\n",
       "    .dataframe tbody tr th:only-of-type {\n",
       "        vertical-align: middle;\n",
       "    }\n",
       "\n",
       "    .dataframe tbody tr th {\n",
       "        vertical-align: top;\n",
       "    }\n",
       "\n",
       "    .dataframe thead th {\n",
       "        text-align: right;\n",
       "    }\n",
       "</style>\n",
       "<table border=\"1\" class=\"dataframe\">\n",
       "  <thead>\n",
       "    <tr style=\"text-align: right;\">\n",
       "      <th></th>\n",
       "      <th>f0</th>\n",
       "      <th>f1</th>\n",
       "      <th>f2</th>\n",
       "      <th>product</th>\n",
       "    </tr>\n",
       "  </thead>\n",
       "  <tbody>\n",
       "    <tr>\n",
       "      <th>f0</th>\n",
       "      <td>1.000000</td>\n",
       "      <td>0.000528</td>\n",
       "      <td>-0.000448</td>\n",
       "      <td>-0.001987</td>\n",
       "    </tr>\n",
       "    <tr>\n",
       "      <th>f1</th>\n",
       "      <td>0.000528</td>\n",
       "      <td>1.000000</td>\n",
       "      <td>0.000779</td>\n",
       "      <td>-0.001012</td>\n",
       "    </tr>\n",
       "    <tr>\n",
       "      <th>f2</th>\n",
       "      <td>-0.000448</td>\n",
       "      <td>0.000779</td>\n",
       "      <td>1.000000</td>\n",
       "      <td>0.445871</td>\n",
       "    </tr>\n",
       "    <tr>\n",
       "      <th>product</th>\n",
       "      <td>-0.001987</td>\n",
       "      <td>-0.001012</td>\n",
       "      <td>0.445871</td>\n",
       "      <td>1.000000</td>\n",
       "    </tr>\n",
       "  </tbody>\n",
       "</table>\n",
       "</div>"
      ],
      "text/plain": [
       "               f0        f1        f2   product\n",
       "f0       1.000000  0.000528 -0.000448 -0.001987\n",
       "f1       0.000528  1.000000  0.000779 -0.001012\n",
       "f2      -0.000448  0.000779  1.000000  0.445871\n",
       "product -0.001987 -0.001012  0.445871  1.000000"
      ]
     },
     "metadata": {},
     "output_type": "display_data"
    },
    {
     "data": {
      "text/plain": [
       "id          99996\n",
       "f0         100000\n",
       "f1         100000\n",
       "f2         100000\n",
       "product    100000\n",
       "dtype: int64"
      ]
     },
     "metadata": {},
     "output_type": "display_data"
    },
    {
     "data": {
      "text/plain": [
       "133.530141    1\n",
       "33.643997     1\n",
       "12.244055     1\n",
       "100.428232    1\n",
       "44.765835     1\n",
       "             ..\n",
       "111.949405    1\n",
       "116.305618    1\n",
       "179.755799    1\n",
       "18.538959     1\n",
       "0.000000      1\n",
       "Name: product, Length: 100000, dtype: int64"
      ]
     },
     "metadata": {},
     "output_type": "display_data"
    },
    {
     "data": {
      "text/plain": [
       "VF7Jo    2\n",
       "Vcm5J    2\n",
       "xCHr8    2\n",
       "KUPhW    2\n",
       "N1bNW    1\n",
       "        ..\n",
       "wVE3n    1\n",
       "dgWjp    1\n",
       "7Pwu6    1\n",
       "dTUhw    1\n",
       "bC3bp    1\n",
       "Name: id, Length: 99996, dtype: int64"
      ]
     },
     "metadata": {},
     "output_type": "display_data"
    },
    {
     "data": {
      "text/plain": [
       "'Количество явных дубликатов:'"
      ]
     },
     "metadata": {},
     "output_type": "display_data"
    },
    {
     "data": {
      "text/plain": [
       "0"
      ]
     },
     "metadata": {},
     "output_type": "display_data"
    }
   ],
   "source": [
    "print('+++++++++++++++++++++++++++++++++++++++++++Просмотр данных таблицы df_0+++++++++++++++++++++++++++++++++++++++++++')\n",
    "df_0 = read_csv('geo_data_0.csv')\n",
    "print('+++++++++++++++++++++++++++++++++++++++++++Просмотр данных таблицы df_1+++++++++++++++++++++++++++++++++++++++++++')\n",
    "df_1 = read_csv('geo_data_1.csv')\n",
    "print('+++++++++++++++++++++++++++++++++++++++++++Просмотр данных таблицы df_2+++++++++++++++++++++++++++++++++++++++++++')\n",
    "df_2 = read_csv('geo_data_2.csv')\n",
    "#применяем функцию чтения"
   ]
  },
  {
   "cell_type": "markdown",
   "metadata": {},
   "source": [
    "<div style=\"background: #cceeaa; padding: 5px; border: 1px solid green; border-radius: 5px;\">\n",
    "<font color='green'> \n",
    "    <b><u>КОММЕНТАРИЙ РЕВЬЮЕРА</u></b>\n",
    "<font color='green'><br>Классная функция.<br>\n",
    "    \n",
    "В общем-то, данные на базе и там же первичный аналитический осмотр) ОК."
   ]
  },
  {
   "cell_type": "code",
   "execution_count": null,
   "metadata": {},
   "outputs": [],
   "source": []
  },
  {
   "cell_type": "markdown",
   "metadata": {},
   "source": [
    "Посмотрим на распределения по признакам и продукции"
   ]
  },
  {
   "cell_type": "code",
   "execution_count": 4,
   "metadata": {},
   "outputs": [
    {
     "data": {
      "image/png": "[encoded data removed]",
      "text/plain": [
       "<Figure size 432x288 with 1 Axes>"
      ]
     },
     "metadata": {
      "needs_background": "light"
     },
     "output_type": "display_data"
    }
   ],
   "source": [
    "plt.hist(df_0['f0'] , range = (-20, 20), bins=100, label = 'df_0[f0]')\n",
    "plt.hist(df_2['f0'] , range = (-20, 20), bins=100, label = 'df_2[f0]')\n",
    "plt.hist(df_1['f0'] , range = (-20, 20), bins=100, label = 'df_1[f0]')\n",
    "plt.ylabel('Частотность')\n",
    "plt.xlabel('Распределение признака')\n",
    "plt.legend()\n",
    "plt.grid();"
   ]
  },
  {
   "cell_type": "code",
   "execution_count": 5,
   "metadata": {},
   "outputs": [
    {
     "data": {
      "image/png": "[encoded data removed]",
      "text/plain": [
       "<Figure size 432x288 with 1 Axes>"
      ]
     },
     "metadata": {
      "needs_background": "light"
     },
     "output_type": "display_data"
    }
   ],
   "source": [
    "plt.hist(df_0['f1'] , range = (-20, 10), bins=100, label = 'df_0[f1]')\n",
    "plt.hist(df_2['f1'] , range = (-20, 10), bins=100, label = 'df_2[f1]')\n",
    "plt.hist(df_1['f1'] , range = (-20, 10), bins=100, label = 'df_1[f1]')\n",
    "plt.ylabel('Частотность')\n",
    "plt.xlabel('Распределение признака')\n",
    "plt.legend()\n",
    "plt.grid();"
   ]
  },
  {
   "cell_type": "code",
   "execution_count": 6,
   "metadata": {},
   "outputs": [
    {
     "data": {
      "image/png": "[encoded data removed]",
      "text/plain": [
       "<Figure size 432x288 with 1 Axes>"
      ]
     },
     "metadata": {
      "needs_background": "light"
     },
     "output_type": "display_data"
    }
   ],
   "source": [
    "plt.hist(df_0['f2'] , range = (-10, 15), bins=100, label = 'df_0[f2]')\n",
    "plt.hist(df_2['f2'] , range = (-10, 15), bins=100, label = 'df_2[f2]')\n",
    "plt.hist(df_1['f2'] , range = (-10, 15), bins=100, label = 'df_1[f2]')\n",
    "plt.ylabel('Частотность')\n",
    "plt.xlabel('Распределение признака')\n",
    "plt.legend()\n",
    "plt.grid();"
   ]
  },
  {
   "cell_type": "code",
   "execution_count": 7,
   "metadata": {},
   "outputs": [
    {
     "data": {
      "image/png": "[encoded data removed]",
      "text/plain": [
       "<Figure size 432x288 with 1 Axes>"
      ]
     },
     "metadata": {
      "needs_background": "light"
     },
     "output_type": "display_data"
    }
   ],
   "source": [
    "plt.hist(df_0['product'] , range = (-1, 200), bins=200, label = 'df_0[product]')\n",
    "plt.hist(df_2['product'] , range = (-1, 200), bins=200, label = 'df_2[product]')\n",
    "plt.hist(df_1['product'] , range = (-1, 200), bins=200, label = 'df_1[product]')\n",
    "plt.ylabel('Частотность')\n",
    "plt.xlabel('Распределение запасов сырья')\n",
    "plt.legend()\n",
    "plt.grid();"
   ]
  },
  {
   "cell_type": "code",
   "execution_count": null,
   "metadata": {},
   "outputs": [],
   "source": []
  },
  {
   "cell_type": "markdown",
   "metadata": {},
   "source": [
    "В каждой из таблиц 100000 строк данных\n",
    "\n",
    "\n",
    "<b>Выводы:</b>\n",
    "* Пропусков в таблицах нет;\n",
    "* Явных дубликатов нет;\n",
    "* Типы данных в столбцах верные;\n",
    "* Средний объем запасов во втором регионе на более 30% ниже, чем в первом и третьем регионах;\n",
    "* У всех трех регионов объем запасов сильно зависит от параметра f2, при этом во втором регионе эта зависимость полная - корреляция близка к единице;\n",
    "* Есть небольшая зависимость объема запасов в первом регионе от параметров f0 и f1, у других регионов такой зависимоти нет\n",
    "* Для обучения модели линейной регрессии нужно удалить столбец id\n",
    "* Несколько id повторяются, видимо для одних и тех же скважин проводилсь измерения в разное время\n",
    "* Во втором регионе только 12 уникальных значения запасов в скважине, да и распределения как на признаки так и на запасы явно отличаются неестественностью, похоже именно эта таблица поностью синтетическая. При этом в первом и третьем регионах распределения признаков близки к нормальным со средним около нуля для первых двух признаков и около 2,5 для третьего, но вот распределение запасов сырья то же имеют некоторые переодические максимумы, возможно  методики измерения и расчетов запасов в скважине тяготеют к присвоению опредеденных значений в зависимости от принадлежности признаков к определенному интервалу значений.\n",
    "\n"
   ]
  },
  {
   "cell_type": "markdown",
   "metadata": {},
   "source": [
    "<div style=\"background: #cceeaa; padding: 5px; border: 1px solid green; border-radius: 5px;\">\n",
    "    <font color='green'> <b><u>КОММЕНТАРИЙ РЕВЬЮЕРА</u></b>\n",
    "</font>\n",
    "<font color='green'><br>\n",
    "ОК, хорошо, когда есть аналитическая культура - обязательно делать первичный анализ данных, не смотря на проект)<br>\n",
    "Чёткая работа!.<br>\n",
    "    \n",
    "ТУт ещё (при первичном осмотре) можно корреляционный анализ добавлять)"
   ]
  },
  {
   "cell_type": "code",
   "execution_count": null,
   "metadata": {},
   "outputs": [],
   "source": []
  },
  {
   "cell_type": "markdown",
   "metadata": {},
   "source": [
    "## Обучим и проверим модель для каждого региона:"
   ]
  },
  {
   "cell_type": "markdown",
   "metadata": {},
   "source": [
    "### Разобьем данные на обучающую и валидационную выборки в соотношении 75:25"
   ]
  },
  {
   "cell_type": "markdown",
   "metadata": {},
   "source": [
    "Функция для разбиения"
   ]
  },
  {
   "cell_type": "code",
   "execution_count": 8,
   "metadata": {},
   "outputs": [],
   "source": [
    "def split(df):\n",
    "    train, validate = np.split(df.sample(frac=1, random_state=12345),[int(.75*len(df))])\n",
    "    features_train = train.drop(['id','product'], axis=1)\n",
    "    target_train = train['product']\n",
    "    features_validate = validate.drop(['id','product'], axis=1)\n",
    "    target_validate = validate['product']\n",
    "    display(features_train.shape, target_train.shape, features_validate.shape, target_validate.shape)\n",
    "    return features_train, target_train, features_validate, target_validate\n",
    "# первый аргумент случайно перемешивает таблицу, второй разбивает на от 0 до 75 и от 75 до 100%"
   ]
  },
  {
   "cell_type": "code",
   "execution_count": 9,
   "metadata": {
    "scrolled": true
   },
   "outputs": [
    {
     "data": {
      "text/plain": [
       "(75000, 3)"
      ]
     },
     "metadata": {},
     "output_type": "display_data"
    },
    {
     "data": {
      "text/plain": [
       "(75000,)"
      ]
     },
     "metadata": {},
     "output_type": "display_data"
    },
    {
     "data": {
      "text/plain": [
       "(25000, 3)"
      ]
     },
     "metadata": {},
     "output_type": "display_data"
    },
    {
     "data": {
      "text/plain": [
       "(25000,)"
      ]
     },
     "metadata": {},
     "output_type": "display_data"
    }
   ],
   "source": [
    "features_train_0, target_train_0, features_validate_0, target_validate_0 = split(df_0)"
   ]
  },
  {
   "cell_type": "code",
   "execution_count": 10,
   "metadata": {},
   "outputs": [
    {
     "data": {
      "text/plain": [
       "(75000, 3)"
      ]
     },
     "metadata": {},
     "output_type": "display_data"
    },
    {
     "data": {
      "text/plain": [
       "(75000,)"
      ]
     },
     "metadata": {},
     "output_type": "display_data"
    },
    {
     "data": {
      "text/plain": [
       "(25000, 3)"
      ]
     },
     "metadata": {},
     "output_type": "display_data"
    },
    {
     "data": {
      "text/plain": [
       "(25000,)"
      ]
     },
     "metadata": {},
     "output_type": "display_data"
    }
   ],
   "source": [
    "features_train_1, target_train_1, features_validate_1, target_validate_1 = split(df_1)"
   ]
  },
  {
   "cell_type": "code",
   "execution_count": 11,
   "metadata": {},
   "outputs": [
    {
     "data": {
      "text/plain": [
       "(75000, 3)"
      ]
     },
     "metadata": {},
     "output_type": "display_data"
    },
    {
     "data": {
      "text/plain": [
       "(75000,)"
      ]
     },
     "metadata": {},
     "output_type": "display_data"
    },
    {
     "data": {
      "text/plain": [
       "(25000, 3)"
      ]
     },
     "metadata": {},
     "output_type": "display_data"
    },
    {
     "data": {
      "text/plain": [
       "(25000,)"
      ]
     },
     "metadata": {},
     "output_type": "display_data"
    }
   ],
   "source": [
    "features_train_2, target_train_2, features_validate_2, target_validate_2 = split(df_2)"
   ]
  },
  {
   "cell_type": "markdown",
   "metadata": {},
   "source": [
    "<div style=\"background: #cceeaa; padding: 5px; border: 1px solid green; border-radius: 5px;\">\n",
    "    <font color='green'> <b><u>КОММЕНТАРИЙ РЕВЬЮЕРА</u></b>\n",
    "</font>\n",
    "<font color='green'><br>\n",
    "понятно."
   ]
  },
  {
   "cell_type": "markdown",
   "metadata": {},
   "source": [
    "### Обучим модель и сделаем предсказания на валидационной выборке."
   ]
  },
  {
   "cell_type": "code",
   "execution_count": 12,
   "metadata": {},
   "outputs": [],
   "source": [
    "model_0 = LinearRegression()# инициализируем модель LinearRegression\n",
    "model_0.fit(features_train_0, target_train_0) # обучим модель на тренировочной выборке\n",
    "predictions_valid_0 = model_0.predict(features_validate_0) # получим предсказания модели на валидационной выборке"
   ]
  },
  {
   "cell_type": "code",
   "execution_count": 13,
   "metadata": {},
   "outputs": [],
   "source": [
    "model_1 = LinearRegression()# инициализируем модель LinearRegression\n",
    "model_1.fit(features_train_1, target_train_1) # обучим модель на тренировочной выборке\n",
    "predictions_valid_1 = model_1.predict(features_validate_1) # получим предсказания модели на валидационной выборке"
   ]
  },
  {
   "cell_type": "code",
   "execution_count": 14,
   "metadata": {},
   "outputs": [],
   "source": [
    "model_2 = LinearRegression()# инициализируем модель LinearRegression\n",
    "model_2.fit(features_train_2, target_train_2) # обучим модель на тренировочной выборке\n",
    "predictions_valid_2 = model_2.predict(features_validate_2) # получим предсказания модели на валидационной выборке"
   ]
  },
  {
   "cell_type": "markdown",
   "metadata": {},
   "source": [
    "### Рассчитаем предсказанные средние запасы и корень из средней квадратичной ошибки"
   ]
  },
  {
   "cell_type": "code",
   "execution_count": 15,
   "metadata": {},
   "outputs": [
    {
     "data": {
      "text/html": [
       "<div>\n",
       "<style scoped>\n",
       "    .dataframe tbody tr th:only-of-type {\n",
       "        vertical-align: middle;\n",
       "    }\n",
       "\n",
       "    .dataframe tbody tr th {\n",
       "        vertical-align: top;\n",
       "    }\n",
       "\n",
       "    .dataframe thead th {\n",
       "        text-align: right;\n",
       "    }\n",
       "</style>\n",
       "<table border=\"1\" class=\"dataframe\">\n",
       "  <thead>\n",
       "    <tr style=\"text-align: right;\">\n",
       "      <th></th>\n",
       "      <th>param</th>\n",
       "      <th>first_geo</th>\n",
       "      <th>second_geo</th>\n",
       "      <th>third_geo</th>\n",
       "    </tr>\n",
       "  </thead>\n",
       "  <tbody>\n",
       "    <tr>\n",
       "      <th>0</th>\n",
       "      <td>rmse</td>\n",
       "      <td>37.680196</td>\n",
       "      <td>0.887329</td>\n",
       "      <td>40.111679</td>\n",
       "    </tr>\n",
       "    <tr>\n",
       "      <th>1</th>\n",
       "      <td>pred_mean</td>\n",
       "      <td>92.680422</td>\n",
       "      <td>68.859821</td>\n",
       "      <td>95.060939</td>\n",
       "    </tr>\n",
       "    <tr>\n",
       "      <th>2</th>\n",
       "      <td>real_mean</td>\n",
       "      <td>92.500000</td>\n",
       "      <td>68.825000</td>\n",
       "      <td>95.000000</td>\n",
       "    </tr>\n",
       "  </tbody>\n",
       "</table>\n",
       "</div>"
      ],
      "text/plain": [
       "       param  first_geo  second_geo  third_geo\n",
       "0       rmse  37.680196    0.887329  40.111679\n",
       "1  pred_mean  92.680422   68.859821  95.060939\n",
       "2  real_mean  92.500000   68.825000  95.000000"
      ]
     },
     "metadata": {},
     "output_type": "display_data"
    }
   ],
   "source": [
    "result_0 = mean_squared_error(target_validate_0, predictions_valid_0)**0.5\n",
    "# посчитаем значение метрики RMSE на валидационной выборке\n",
    "\n",
    "result_1 = mean_squared_error(target_validate_1, predictions_valid_1)**0.5\n",
    "# посчитаем значение метрики RMSE на валидационной выборке\n",
    "\n",
    "result_2 = mean_squared_error(target_validate_2, predictions_valid_2)**0.5\n",
    "# посчитаем значение метрики RMSE на валидационной выборке\n",
    "\n",
    "# Для удобства сведем данные в таблицу и заодно сравним с действительными средними запасами\n",
    "geo = pd.DataFrame(data=[['rmse', result_0, result_1, result_2],\n",
    "                        ['pred_mean', predictions_valid_0.mean(), predictions_valid_1.mean(), predictions_valid_2.mean()],\n",
    "                        ['real_mean', df_0['product'].mean(), df_1['product'].mean(), df_2['product'].mean()]],\n",
    "                   columns=['param', 'first_geo', 'second_geo', 'third_geo'])\n",
    "display(geo)"
   ]
  },
  {
   "cell_type": "markdown",
   "metadata": {},
   "source": [
    "<b>Вывод:</b> Для первого и третьего региона модель линейной регрессии достаточно хорошо предсказывает средние запасы, но лучше всего модель работает для второго региона.\n",
    "\n",
    "С учетом выводов из пункта один, видим, что если в данных есть зависимость целевой выборки от всех параметров (не нулевая корреляция параметров, например как в первом регионе), то точность предсказаний лучше, при этом если в выборке присутствуем параметр с корреляцией близкой к единице, то наблюдается резкое увеличение точности модели предсказаний."
   ]
  },
  {
   "cell_type": "markdown",
   "metadata": {},
   "source": [
    "<div style=\"background: #cceeaa; padding: 5px; border: 1px solid green; border-radius: 5px;\">\n",
    "    <font color='green'> <b><u>КОММЕНТАРИЙ РЕВЬЮЕРА</u></b>\n",
    "</font>\n",
    "<font color='green'><br>\n",
    "тааааак, с расчётами согласен) и код достаточно ёмкий получилс. <br>\n",
    "Точно, дле региона 2 - совсем мизерная ошибка. Это следствие высокой корреляции f2 И целевой)"
   ]
  },
  {
   "cell_type": "code",
   "execution_count": null,
   "metadata": {},
   "outputs": [],
   "source": []
  },
  {
   "cell_type": "markdown",
   "metadata": {},
   "source": [
    "Интересно какие результаты будут если третий признак исключить из модели второго региона"
   ]
  },
  {
   "cell_type": "code",
   "execution_count": 16,
   "metadata": {},
   "outputs": [
    {
     "name": "stdout",
     "output_type": "stream",
     "text": [
      "Модель для второго региона без параметра f2. rmse: 45.737899104403326, предсказание среднего: 68.81457735940884\n"
     ]
    }
   ],
   "source": [
    "features_train_1_f = features_train_1.drop(['f2'], axis=1)\n",
    "features_validate_1_f = features_validate_1.drop(['f2'], axis=1)\n",
    "model_1_f = LinearRegression()# инициализируем модель LinearRegression\n",
    "model_1_f.fit(features_train_1_f, target_train_1) # обучим модель на тренировочной выборке\n",
    "predictions_valid_1_f = model_1_f.predict(features_validate_1_f) # получим предсказания модели на валидационной выборке\n",
    "result_1_f = mean_squared_error(target_validate_1, predictions_valid_1_f)**0.5\n",
    "print(f'Модель для второго региона без параметра f2. rmse: {result_1_f}, предсказание среднего: {predictions_valid_1_f.mean()}')"
   ]
  },
  {
   "cell_type": "markdown",
   "metadata": {},
   "source": [
    "Видно, что ошибка тут же существенно подскочила до сравнимой с первым и третьим регионом и даже более."
   ]
  },
  {
   "cell_type": "markdown",
   "metadata": {},
   "source": [
    "Для дальнейшей работы с данными создадим новые таблицы, с осдержанием 10000 строк и со столбцом предсказанных объемов запасов - имитация того, что нам известны только признаки скважин и созданы модели предсказаний запасов."
   ]
  },
  {
   "cell_type": "markdown",
   "metadata": {},
   "source": [
    "<div style=\"background: #cceeaa; padding: 5px; border: 1px solid green; border-radius: 5px;\">\n",
    "    <font color='green'> <b><u>КОММЕНТАРИЙ РЕВЬЮЕРА</u></b>\n",
    "</font>\n",
    "<font color='green'><br>\n",
    "ок"
   ]
  },
  {
   "cell_type": "markdown",
   "metadata": {},
   "source": [
    "Выделим признаки:"
   ]
  },
  {
   "cell_type": "code",
   "execution_count": 17,
   "metadata": {},
   "outputs": [],
   "source": [
    "features_0 = df_0.drop(['id','product'], axis=1)\n",
    "features_1 = df_1.drop(['id','product'], axis=1)\n",
    "features_2 = df_2.drop(['id','product'], axis=1)"
   ]
  },
  {
   "cell_type": "markdown",
   "metadata": {},
   "source": [
    "Создадим таблицы без столбца запасов:"
   ]
  },
  {
   "cell_type": "code",
   "execution_count": 18,
   "metadata": {},
   "outputs": [],
   "source": [
    "df_0_w = df_0.drop(['product'], axis=1)\n",
    "df_1_w = df_1.drop(['product'], axis=1)\n",
    "df_2_w = df_2.drop(['product'], axis=1)"
   ]
  },
  {
   "cell_type": "markdown",
   "metadata": {},
   "source": [
    "Добавим к этим таблицам столец предсказанных запасов:"
   ]
  },
  {
   "cell_type": "code",
   "execution_count": 19,
   "metadata": {},
   "outputs": [],
   "source": [
    "df_0_w['pred_product'] = model_0.predict(features_0)\n",
    "df_1_w['pred_product'] = model_1.predict(features_1)\n",
    "df_2_w['pred_product'] = model_2.predict(features_2)"
   ]
  },
  {
   "cell_type": "markdown",
   "metadata": {},
   "source": [
    "Проверим содержание таблиц:"
   ]
  },
  {
   "cell_type": "code",
   "execution_count": 20,
   "metadata": {},
   "outputs": [
    {
     "data": {
      "text/html": [
       "<div>\n",
       "<style scoped>\n",
       "    .dataframe tbody tr th:only-of-type {\n",
       "        vertical-align: middle;\n",
       "    }\n",
       "\n",
       "    .dataframe tbody tr th {\n",
       "        vertical-align: top;\n",
       "    }\n",
       "\n",
       "    .dataframe thead th {\n",
       "        text-align: right;\n",
       "    }\n",
       "</style>\n",
       "<table border=\"1\" class=\"dataframe\">\n",
       "  <thead>\n",
       "    <tr style=\"text-align: right;\">\n",
       "      <th></th>\n",
       "      <th>id</th>\n",
       "      <th>f0</th>\n",
       "      <th>f1</th>\n",
       "      <th>f2</th>\n",
       "      <th>pred_product</th>\n",
       "    </tr>\n",
       "  </thead>\n",
       "  <tbody>\n",
       "    <tr>\n",
       "      <th>0</th>\n",
       "      <td>txEyH</td>\n",
       "      <td>0.705745</td>\n",
       "      <td>-0.497823</td>\n",
       "      <td>1.221170</td>\n",
       "      <td>95.140330</td>\n",
       "    </tr>\n",
       "    <tr>\n",
       "      <th>1</th>\n",
       "      <td>2acmU</td>\n",
       "      <td>1.334711</td>\n",
       "      <td>-0.340164</td>\n",
       "      <td>4.365080</td>\n",
       "      <td>116.246013</td>\n",
       "    </tr>\n",
       "    <tr>\n",
       "      <th>2</th>\n",
       "      <td>409Wp</td>\n",
       "      <td>1.022732</td>\n",
       "      <td>0.151990</td>\n",
       "      <td>1.419926</td>\n",
       "      <td>88.715673</td>\n",
       "    </tr>\n",
       "    <tr>\n",
       "      <th>3</th>\n",
       "      <td>iJLyR</td>\n",
       "      <td>-0.032172</td>\n",
       "      <td>0.139033</td>\n",
       "      <td>2.978566</td>\n",
       "      <td>95.029641</td>\n",
       "    </tr>\n",
       "    <tr>\n",
       "      <th>4</th>\n",
       "      <td>Xdl7t</td>\n",
       "      <td>1.988431</td>\n",
       "      <td>0.155413</td>\n",
       "      <td>4.751769</td>\n",
       "      <td>114.532538</td>\n",
       "    </tr>\n",
       "  </tbody>\n",
       "</table>\n",
       "</div>"
      ],
      "text/plain": [
       "      id        f0        f1        f2  pred_product\n",
       "0  txEyH  0.705745 -0.497823  1.221170     95.140330\n",
       "1  2acmU  1.334711 -0.340164  4.365080    116.246013\n",
       "2  409Wp  1.022732  0.151990  1.419926     88.715673\n",
       "3  iJLyR -0.032172  0.139033  2.978566     95.029641\n",
       "4  Xdl7t  1.988431  0.155413  4.751769    114.532538"
      ]
     },
     "metadata": {},
     "output_type": "display_data"
    },
    {
     "data": {
      "text/plain": [
       "92.45182947958217"
      ]
     },
     "execution_count": 20,
     "metadata": {},
     "output_type": "execute_result"
    }
   ],
   "source": [
    "display(df_0_w.head())\n",
    "df_0_w['pred_product'].mean()"
   ]
  },
  {
   "cell_type": "code",
   "execution_count": 21,
   "metadata": {},
   "outputs": [
    {
     "data": {
      "text/html": [
       "<div>\n",
       "<style scoped>\n",
       "    .dataframe tbody tr th:only-of-type {\n",
       "        vertical-align: middle;\n",
       "    }\n",
       "\n",
       "    .dataframe tbody tr th {\n",
       "        vertical-align: top;\n",
       "    }\n",
       "\n",
       "    .dataframe thead th {\n",
       "        text-align: right;\n",
       "    }\n",
       "</style>\n",
       "<table border=\"1\" class=\"dataframe\">\n",
       "  <thead>\n",
       "    <tr style=\"text-align: right;\">\n",
       "      <th></th>\n",
       "      <th>id</th>\n",
       "      <th>f0</th>\n",
       "      <th>f1</th>\n",
       "      <th>f2</th>\n",
       "      <th>pred_product</th>\n",
       "    </tr>\n",
       "  </thead>\n",
       "  <tbody>\n",
       "    <tr>\n",
       "      <th>0</th>\n",
       "      <td>kBEdx</td>\n",
       "      <td>-15.001348</td>\n",
       "      <td>-8.276000</td>\n",
       "      <td>-0.005876</td>\n",
       "      <td>3.850153</td>\n",
       "    </tr>\n",
       "    <tr>\n",
       "      <th>1</th>\n",
       "      <td>62mP7</td>\n",
       "      <td>14.272088</td>\n",
       "      <td>-3.475083</td>\n",
       "      <td>0.999183</td>\n",
       "      <td>26.589816</td>\n",
       "    </tr>\n",
       "    <tr>\n",
       "      <th>2</th>\n",
       "      <td>vyE1P</td>\n",
       "      <td>6.263187</td>\n",
       "      <td>-5.948386</td>\n",
       "      <td>5.001160</td>\n",
       "      <td>135.665048</td>\n",
       "    </tr>\n",
       "    <tr>\n",
       "      <th>3</th>\n",
       "      <td>KcrkZ</td>\n",
       "      <td>-13.081196</td>\n",
       "      <td>-11.506057</td>\n",
       "      <td>4.999415</td>\n",
       "      <td>138.542455</td>\n",
       "    </tr>\n",
       "    <tr>\n",
       "      <th>4</th>\n",
       "      <td>AHL4O</td>\n",
       "      <td>12.702195</td>\n",
       "      <td>-8.147433</td>\n",
       "      <td>5.004363</td>\n",
       "      <td>134.864240</td>\n",
       "    </tr>\n",
       "  </tbody>\n",
       "</table>\n",
       "</div>"
      ],
      "text/plain": [
       "      id         f0         f1        f2  pred_product\n",
       "0  kBEdx -15.001348  -8.276000 -0.005876      3.850153\n",
       "1  62mP7  14.272088  -3.475083  0.999183     26.589816\n",
       "2  vyE1P   6.263187  -5.948386  5.001160    135.665048\n",
       "3  KcrkZ -13.081196 -11.506057  4.999415    138.542455\n",
       "4  AHL4O  12.702195  -8.147433  5.004363    134.864240"
      ]
     },
     "metadata": {},
     "output_type": "display_data"
    },
    {
     "data": {
      "text/plain": [
       "68.82536490003884"
      ]
     },
     "execution_count": 21,
     "metadata": {},
     "output_type": "execute_result"
    }
   ],
   "source": [
    "display(df_1_w.head())\n",
    "df_1_w['pred_product'].mean()"
   ]
  },
  {
   "cell_type": "code",
   "execution_count": 22,
   "metadata": {},
   "outputs": [
    {
     "data": {
      "text/html": [
       "<div>\n",
       "<style scoped>\n",
       "    .dataframe tbody tr th:only-of-type {\n",
       "        vertical-align: middle;\n",
       "    }\n",
       "\n",
       "    .dataframe tbody tr th {\n",
       "        vertical-align: top;\n",
       "    }\n",
       "\n",
       "    .dataframe thead th {\n",
       "        text-align: right;\n",
       "    }\n",
       "</style>\n",
       "<table border=\"1\" class=\"dataframe\">\n",
       "  <thead>\n",
       "    <tr style=\"text-align: right;\">\n",
       "      <th></th>\n",
       "      <th>id</th>\n",
       "      <th>f0</th>\n",
       "      <th>f1</th>\n",
       "      <th>f2</th>\n",
       "      <th>pred_product</th>\n",
       "    </tr>\n",
       "  </thead>\n",
       "  <tbody>\n",
       "    <tr>\n",
       "      <th>0</th>\n",
       "      <td>fwXo0</td>\n",
       "      <td>-1.146987</td>\n",
       "      <td>0.963328</td>\n",
       "      <td>-0.828965</td>\n",
       "      <td>75.867088</td>\n",
       "    </tr>\n",
       "    <tr>\n",
       "      <th>1</th>\n",
       "      <td>WJtFt</td>\n",
       "      <td>0.262778</td>\n",
       "      <td>0.269839</td>\n",
       "      <td>-2.530187</td>\n",
       "      <td>66.076686</td>\n",
       "    </tr>\n",
       "    <tr>\n",
       "      <th>2</th>\n",
       "      <td>ovLUW</td>\n",
       "      <td>0.194587</td>\n",
       "      <td>0.289035</td>\n",
       "      <td>-5.586433</td>\n",
       "      <td>48.499971</td>\n",
       "    </tr>\n",
       "    <tr>\n",
       "      <th>3</th>\n",
       "      <td>q6cA6</td>\n",
       "      <td>2.236060</td>\n",
       "      <td>-0.553760</td>\n",
       "      <td>0.930038</td>\n",
       "      <td>85.958624</td>\n",
       "    </tr>\n",
       "    <tr>\n",
       "      <th>4</th>\n",
       "      <td>WPMUX</td>\n",
       "      <td>-0.515993</td>\n",
       "      <td>1.716266</td>\n",
       "      <td>5.899011</td>\n",
       "      <td>114.476686</td>\n",
       "    </tr>\n",
       "  </tbody>\n",
       "</table>\n",
       "</div>"
      ],
      "text/plain": [
       "      id        f0        f1        f2  pred_product\n",
       "0  fwXo0 -1.146987  0.963328 -0.828965     75.867088\n",
       "1  WJtFt  0.262778  0.269839 -2.530187     66.076686\n",
       "2  ovLUW  0.194587  0.289035 -5.586433     48.499971\n",
       "3  q6cA6  2.236060 -0.553760  0.930038     85.958624\n",
       "4  WPMUX -0.515993  1.716266  5.899011    114.476686"
      ]
     },
     "metadata": {},
     "output_type": "display_data"
    },
    {
     "data": {
      "text/plain": [
       "95.0126903770425"
      ]
     },
     "execution_count": 22,
     "metadata": {},
     "output_type": "execute_result"
    }
   ],
   "source": [
    "display(df_2_w.head())\n",
    "df_2_w['pred_product'].mean()"
   ]
  },
  {
   "cell_type": "markdown",
   "metadata": {},
   "source": [
    "<div style=\"background: #cceeaa; padding: 5px; border: 1px solid green; border-radius: 5px;\">\n",
    "    <font color='green'> <b><u>КОММЕНТАРИЙ РЕВЬЮЕРА</u></b>\n",
    "</font>\n",
    "<font color='green'><br>\n",
    "ясно, можно и так)"
   ]
  },
  {
   "cell_type": "markdown",
   "metadata": {},
   "source": [
    "## Подготовка к расчёту прибыли:"
   ]
  },
  {
   "cell_type": "markdown",
   "metadata": {},
   "source": [
    "### Все ключевые значения для расчётов сохраним в отдельных переменных."
   ]
  },
  {
   "cell_type": "code",
   "execution_count": 23,
   "metadata": {},
   "outputs": [],
   "source": [
    "best_prod = 200\n",
    "# При разведке региона исследуют 500 точек, из которых с помощью машинного обучения выбирают 200 лучших для разработки.\n",
    "budget = 10000000000 # 10 млрд рублей бюджет на разработку скважин региона\n",
    "profit = 450000 # 450 000 руб. доход с 1000 баррелей"
   ]
  },
  {
   "cell_type": "markdown",
   "metadata": {},
   "source": [
    "###  Рассчитаем достаточный объём сырья для безубыточной разработки новой скважины. Сравним полученный объём сырья со средним запасом в каждом регионе."
   ]
  },
  {
   "cell_type": "code",
   "execution_count": 24,
   "metadata": {},
   "outputs": [
    {
     "name": "stdout",
     "output_type": "stream",
     "text": [
      "Бюджет на разработку одной скважины 50000000.0 рублей\n",
      "Минимальный запас сырья в одной скважине равен 111.11 тысячей баррелей\n"
     ]
    }
   ],
   "source": [
    "# бюджет на разработку одной скважины из двухсот\n",
    "budget_1 = budget/200\n",
    "print(f'Бюджет на разработку одной скважины {budget_1} рублей')\n",
    "\n",
    "# что бы окупить разработку скважины необходимо иметь минимальный запас сырья в размере\n",
    "min_prod = budget_1/profit\n",
    "print(f'Минимальный запас сырья в одной скважине равен {round(min_prod,2)} тысячей баррелей')"
   ]
  },
  {
   "cell_type": "markdown",
   "metadata": {},
   "source": [
    "Посмотрим сколько таких предсказанных скважин по регионам и сравним с первоначальными данными:"
   ]
  },
  {
   "cell_type": "code",
   "execution_count": 25,
   "metadata": {},
   "outputs": [
    {
     "data": {
      "image/png": "[encoded data removed]",
      "text/plain": [
       "<Figure size 432x288 with 1 Axes>"
      ]
     },
     "metadata": {
      "needs_background": "light"
     },
     "output_type": "display_data"
    }
   ],
   "source": [
    "plt.hist(df_0_w['pred_product'] , range = (112, 200), bins=100, label = 'df_0_w[pred_product]')\n",
    "plt.hist(df_2_w['pred_product'] , range = (112, 200), bins=100, label = 'df_2_w[pred_product]')\n",
    "plt.hist(df_1_w['pred_product'] , range = (112, 200), bins=100, label = 'df_1_w[pred_product]')\n",
    "plt.ylabel('Частотность')\n",
    "plt.xlabel('Распределение запасов сырья')\n",
    "plt.legend()\n",
    "plt.grid();"
   ]
  },
  {
   "cell_type": "code",
   "execution_count": 26,
   "metadata": {},
   "outputs": [
    {
     "data": {
      "image/png": "[encoded data removed]",
      "text/plain": [
       "<Figure size 432x288 with 1 Axes>"
      ]
     },
     "metadata": {
      "needs_background": "light"
     },
     "output_type": "display_data"
    }
   ],
   "source": [
    "plt.hist(df_0['product'] , range = (112, 200), bins=100, label = 'df_0[product]')\n",
    "plt.hist(df_2['product'] , range = (112, 200), bins=100, label = 'df_2[product]')\n",
    "plt.hist(df_1['product'] , range = (112, 200), bins=100, label = 'df_1[product]')\n",
    "plt.ylabel('Частотность')\n",
    "plt.xlabel('Распределение запасов сырья')\n",
    "plt.legend()\n",
    "plt.grid();"
   ]
  },
  {
   "cell_type": "markdown",
   "metadata": {},
   "source": [
    "Интересно посмотреть на распределение предсказаний по всей оси х хапасов:"
   ]
  },
  {
   "cell_type": "code",
   "execution_count": 27,
   "metadata": {},
   "outputs": [
    {
     "data": {
      "image/png": "[encoded data removed]",
      "text/plain": [
       "<Figure size 432x288 with 1 Axes>"
      ]
     },
     "metadata": {
      "needs_background": "light"
     },
     "output_type": "display_data"
    }
   ],
   "source": [
    "plt.hist(df_0_w['pred_product'] , range = (0, 200), bins=100, label = 'df_0_w[pred_product]')\n",
    "plt.hist(df_2_w['pred_product'] , range = (0, 200), bins=100, label = 'df_2_w[pred_product]')\n",
    "plt.hist(df_1_w['pred_product'] , range = (0, 200), bins=100, label = 'df_1_w[pred_product]')\n",
    "plt.ylabel('Частотность')\n",
    "plt.xlabel('Распределение запасов сырья')\n",
    "plt.legend()\n",
    "plt.grid();"
   ]
  },
  {
   "cell_type": "markdown",
   "metadata": {},
   "source": [
    "И сравнить их в первоначальными данными:"
   ]
  },
  {
   "cell_type": "code",
   "execution_count": 28,
   "metadata": {},
   "outputs": [
    {
     "data": {
      "image/png": "[encoded data removed]",
      "text/plain": [
       "<Figure size 432x288 with 1 Axes>"
      ]
     },
     "metadata": {
      "needs_background": "light"
     },
     "output_type": "display_data"
    }
   ],
   "source": [
    "plt.hist(df_0_w['pred_product'] , range = (0, 200), bins=100, label = 'df_0_w[pred_product]')\n",
    "plt.hist(df_0['product'] , range = (0, 200), bins=100, label = 'df_0[product]')\n",
    "plt.ylabel('Частотность')\n",
    "plt.xlabel('Распределение запасов сырья')\n",
    "plt.legend()\n",
    "plt.grid();"
   ]
  },
  {
   "cell_type": "code",
   "execution_count": 29,
   "metadata": {},
   "outputs": [
    {
     "data": {
      "image/png": "[encoded data removed]",
      "text/plain": [
       "<Figure size 432x288 with 1 Axes>"
      ]
     },
     "metadata": {
      "needs_background": "light"
     },
     "output_type": "display_data"
    }
   ],
   "source": [
    "plt.hist(df_1_w['pred_product'] , range = (0, 200), bins=100, label = 'df_1_w[pred_product]')\n",
    "plt.hist(df_1['product'] , range = (0, 200), bins=100, label = 'df_1[product]')\n",
    "plt.ylabel('Частотность')\n",
    "plt.xlabel('Распределение запасов сырья')\n",
    "plt.legend()\n",
    "plt.grid();"
   ]
  },
  {
   "cell_type": "code",
   "execution_count": 30,
   "metadata": {},
   "outputs": [
    {
     "data": {
      "image/png": "[encoded data removed]",
      "text/plain": [
       "<Figure size 432x288 with 1 Axes>"
      ]
     },
     "metadata": {
      "needs_background": "light"
     },
     "output_type": "display_data"
    }
   ],
   "source": [
    "plt.hist(df_2_w['pred_product'] , range = (0, 200), bins=100, label = 'df_2_w[pred_product]')\n",
    "plt.hist(df_2['product'] , range = (0, 200), bins=100, label = 'df_2[product]')\n",
    "plt.ylabel('Частотность')\n",
    "plt.xlabel('Распределение запасов сырья')\n",
    "plt.legend()\n",
    "plt.grid();"
   ]
  },
  {
   "cell_type": "code",
   "execution_count": 31,
   "metadata": {},
   "outputs": [
    {
     "name": "stdout",
     "output_type": "stream",
     "text": [
      "Количество скважин с запасом более 112 тыс баррелей по первоначальным данным по первому региону\n"
     ]
    },
    {
     "data": {
      "text/plain": [
       "35901"
      ]
     },
     "metadata": {},
     "output_type": "display_data"
    },
    {
     "name": "stdout",
     "output_type": "stream",
     "text": [
      "Количество скважин с запасом более 112 тыс баррелей по предсказанным данным по первому региону\n"
     ]
    },
    {
     "data": {
      "text/plain": [
       "20361"
      ]
     },
     "execution_count": 31,
     "metadata": {},
     "output_type": "execute_result"
    }
   ],
   "source": [
    "print('Количество скважин с запасом более 112 тыс баррелей по первоначальным данным по первому региону')\n",
    "display(df_0[df_0['product'] > 112].count()['product'])\n",
    "print('Количество скважин с запасом более 112 тыс баррелей по предсказанным данным по первому региону')\n",
    "df_0_w[df_0_w['pred_product'] > 112].count()['pred_product']"
   ]
  },
  {
   "cell_type": "code",
   "execution_count": 32,
   "metadata": {},
   "outputs": [
    {
     "name": "stdout",
     "output_type": "stream",
     "text": [
      "Количество скважин с запасом более 112 тыс баррелей по первоначальным данным по второму региону\n"
     ]
    },
    {
     "data": {
      "text/plain": [
       "16537"
      ]
     },
     "metadata": {},
     "output_type": "display_data"
    },
    {
     "name": "stdout",
     "output_type": "stream",
     "text": [
      "Количество скважин с запасом более 112 тыс баррелей по предсказанным данным по второму региону\n"
     ]
    },
    {
     "data": {
      "text/plain": [
       "16734"
      ]
     },
     "execution_count": 32,
     "metadata": {},
     "output_type": "execute_result"
    }
   ],
   "source": [
    "print('Количество скважин с запасом более 112 тыс баррелей по первоначальным данным по второму региону')\n",
    "display(df_1[df_1['product'] > 112].count()['product'])\n",
    "print('Количество скважин с запасом более 112 тыс баррелей по предсказанным данным по второму региону')\n",
    "df_1_w[df_1_w['pred_product'] > 112].count()['pred_product']"
   ]
  },
  {
   "cell_type": "code",
   "execution_count": 33,
   "metadata": {},
   "outputs": [
    {
     "name": "stdout",
     "output_type": "stream",
     "text": [
      "Количество скважин с запасом более 112 тыс баррелей по первоначальным данным по третьему региону\n"
     ]
    },
    {
     "data": {
      "text/plain": [
       "37491"
      ]
     },
     "metadata": {},
     "output_type": "display_data"
    },
    {
     "name": "stdout",
     "output_type": "stream",
     "text": [
      "Количество скважин с запасом более 112 тыс баррелей по предсказанным данным по третьему региону\n"
     ]
    },
    {
     "data": {
      "text/plain": [
       "19938"
      ]
     },
     "execution_count": 33,
     "metadata": {},
     "output_type": "execute_result"
    }
   ],
   "source": [
    "print('Количество скважин с запасом более 112 тыс баррелей по первоначальным данным по третьему региону')\n",
    "display(df_2[df_2['product'] > 112].count()['product'])\n",
    "print('Количество скважин с запасом более 112 тыс баррелей по предсказанным данным по третьему региону')\n",
    "df_2_w[df_2_w['pred_product'] > 112].count()['pred_product']"
   ]
  },
  {
   "cell_type": "markdown",
   "metadata": {},
   "source": [
    "<b>Выводы:</b> С учетом, что средний запас сырья в скважинах по регионам от 68 до 95 тыс. баррелей, то стоит внимательно исследовать запасы сырья в скважине, дабы не только окупить затраты, но и выйти в прибыль. Но при этом если посмотреть на распределение и подсчеты по запасам, то в каждом из регионов есть достаточно скважин с большими спрогнозированными запасами сырья.\n",
    "\n",
    "Так же видно, что предсказанные запасы по скважинам явно искажают реальную картину запасов и стремятся к нормальному распределению с максимумом в среднем значении, что и видно по графикам, тогда как первоначальные данные распределены по частотности гораздо равномернее , без особо выраженных максимумов.\n",
    "\n",
    "При этом для синтетической таблицы по второму региону модель весьма близко попадает в первоначальные данные."
   ]
  },
  {
   "cell_type": "markdown",
   "metadata": {},
   "source": [
    "<div style=\"background: #cceeaa; padding: 5px; border: 1px solid green; border-radius: 5px;\">\n",
    "    <font color='green'> <b><u>КОММЕНТАРИЙ РЕВЬЮЕРА</u></b>\n",
    "</font>\n",
    "<font color='green'><br>\n",
    "СУПЕР анализ проблематики, молодец.<br>\n",
    "Тут добавить -то и нечего) Действиетльно, ни один регион не дотягивает в среденм до до точки безубыточности.<br>\n",
    "Видно, что нужны DS-специалисты нефтянке:)"
   ]
  },
  {
   "cell_type": "code",
   "execution_count": null,
   "metadata": {},
   "outputs": [],
   "source": []
  },
  {
   "cell_type": "markdown",
   "metadata": {},
   "source": [
    "## Напишем функцию для расчёта прибыли по выбранным скважинам и предсказаниям модели:"
   ]
  },
  {
   "cell_type": "markdown",
   "metadata": {},
   "source": [
    "Выберем 200 скважин с максимальными предсказаниями по запасам, суммируем по ним предсказанные запасы, умножим на 450 000 руб на каждый из тыс баррелей и вычтем 10 млрд затраты. и Так для каждого из регионов."
   ]
  },
  {
   "cell_type": "markdown",
   "metadata": {},
   "source": [
    "Посмотрим 200 первых предсказанных значений для певрого региона"
   ]
  },
  {
   "cell_type": "code",
   "execution_count": 34,
   "metadata": {},
   "outputs": [
    {
     "data": {
      "text/html": [
       "<div>\n",
       "<style scoped>\n",
       "    .dataframe tbody tr th:only-of-type {\n",
       "        vertical-align: middle;\n",
       "    }\n",
       "\n",
       "    .dataframe tbody tr th {\n",
       "        vertical-align: top;\n",
       "    }\n",
       "\n",
       "    .dataframe thead th {\n",
       "        text-align: right;\n",
       "    }\n",
       "</style>\n",
       "<table border=\"1\" class=\"dataframe\">\n",
       "  <thead>\n",
       "    <tr style=\"text-align: right;\">\n",
       "      <th></th>\n",
       "      <th>id</th>\n",
       "      <th>f0</th>\n",
       "      <th>f1</th>\n",
       "      <th>f2</th>\n",
       "      <th>pred_product</th>\n",
       "    </tr>\n",
       "  </thead>\n",
       "  <tbody>\n",
       "    <tr>\n",
       "      <th>51140</th>\n",
       "      <td>QFDWZ</td>\n",
       "      <td>1.092258</td>\n",
       "      <td>-0.541900</td>\n",
       "      <td>16.003790</td>\n",
       "      <td>195.072024</td>\n",
       "    </tr>\n",
       "    <tr>\n",
       "      <th>83095</th>\n",
       "      <td>xuWxm</td>\n",
       "      <td>1.888221</td>\n",
       "      <td>0.067384</td>\n",
       "      <td>15.428372</td>\n",
       "      <td>185.983184</td>\n",
       "    </tr>\n",
       "    <tr>\n",
       "      <th>51464</th>\n",
       "      <td>Fgte6</td>\n",
       "      <td>1.612452</td>\n",
       "      <td>-0.074593</td>\n",
       "      <td>15.230322</td>\n",
       "      <td>185.546455</td>\n",
       "    </tr>\n",
       "    <tr>\n",
       "      <th>93073</th>\n",
       "      <td>S96Jh</td>\n",
       "      <td>1.814871</td>\n",
       "      <td>-0.207268</td>\n",
       "      <td>14.087536</td>\n",
       "      <td>180.624365</td>\n",
       "    </tr>\n",
       "    <tr>\n",
       "      <th>52356</th>\n",
       "      <td>R5IYz</td>\n",
       "      <td>0.879559</td>\n",
       "      <td>0.258449</td>\n",
       "      <td>15.202838</td>\n",
       "      <td>177.853392</td>\n",
       "    </tr>\n",
       "    <tr>\n",
       "      <th>...</th>\n",
       "      <td>...</td>\n",
       "      <td>...</td>\n",
       "      <td>...</td>\n",
       "      <td>...</td>\n",
       "      <td>...</td>\n",
       "    </tr>\n",
       "    <tr>\n",
       "      <th>63713</th>\n",
       "      <td>CCKhe</td>\n",
       "      <td>0.950238</td>\n",
       "      <td>-0.576116</td>\n",
       "      <td>10.315346</td>\n",
       "      <td>157.352647</td>\n",
       "    </tr>\n",
       "    <tr>\n",
       "      <th>7930</th>\n",
       "      <td>Lo8Ec</td>\n",
       "      <td>1.815416</td>\n",
       "      <td>-0.070717</td>\n",
       "      <td>10.843568</td>\n",
       "      <td>157.276637</td>\n",
       "    </tr>\n",
       "    <tr>\n",
       "      <th>42127</th>\n",
       "      <td>bkasg</td>\n",
       "      <td>1.968339</td>\n",
       "      <td>0.255630</td>\n",
       "      <td>11.433221</td>\n",
       "      <td>157.265629</td>\n",
       "    </tr>\n",
       "    <tr>\n",
       "      <th>30100</th>\n",
       "      <td>0mnn0</td>\n",
       "      <td>1.636930</td>\n",
       "      <td>-0.050491</td>\n",
       "      <td>10.985233</td>\n",
       "      <td>157.227222</td>\n",
       "    </tr>\n",
       "    <tr>\n",
       "      <th>41886</th>\n",
       "      <td>E0QzL</td>\n",
       "      <td>0.962346</td>\n",
       "      <td>-0.629678</td>\n",
       "      <td>10.169191</td>\n",
       "      <td>157.175101</td>\n",
       "    </tr>\n",
       "  </tbody>\n",
       "</table>\n",
       "<p>200 rows × 5 columns</p>\n",
       "</div>"
      ],
      "text/plain": [
       "          id        f0        f1         f2  pred_product\n",
       "51140  QFDWZ  1.092258 -0.541900  16.003790    195.072024\n",
       "83095  xuWxm  1.888221  0.067384  15.428372    185.983184\n",
       "51464  Fgte6  1.612452 -0.074593  15.230322    185.546455\n",
       "93073  S96Jh  1.814871 -0.207268  14.087536    180.624365\n",
       "52356  R5IYz  0.879559  0.258449  15.202838    177.853392\n",
       "...      ...       ...       ...        ...           ...\n",
       "63713  CCKhe  0.950238 -0.576116  10.315346    157.352647\n",
       "7930   Lo8Ec  1.815416 -0.070717  10.843568    157.276637\n",
       "42127  bkasg  1.968339  0.255630  11.433221    157.265629\n",
       "30100  0mnn0  1.636930 -0.050491  10.985233    157.227222\n",
       "41886  E0QzL  0.962346 -0.629678  10.169191    157.175101\n",
       "\n",
       "[200 rows x 5 columns]"
      ]
     },
     "metadata": {},
     "output_type": "display_data"
    }
   ],
   "source": [
    "df_200_pred = df_0_w.sort_values(by='pred_product', ascending=False)[:200]\n",
    "display(df_200_pred)"
   ]
  },
  {
   "cell_type": "markdown",
   "metadata": {},
   "source": [
    "Сравним с первоначальными значениями запасов"
   ]
  },
  {
   "cell_type": "code",
   "execution_count": 35,
   "metadata": {},
   "outputs": [
    {
     "data": {
      "text/html": [
       "<div>\n",
       "<style scoped>\n",
       "    .dataframe tbody tr th:only-of-type {\n",
       "        vertical-align: middle;\n",
       "    }\n",
       "\n",
       "    .dataframe tbody tr th {\n",
       "        vertical-align: top;\n",
       "    }\n",
       "\n",
       "    .dataframe thead th {\n",
       "        text-align: right;\n",
       "    }\n",
       "</style>\n",
       "<table border=\"1\" class=\"dataframe\">\n",
       "  <thead>\n",
       "    <tr style=\"text-align: right;\">\n",
       "      <th></th>\n",
       "      <th>id</th>\n",
       "      <th>f0</th>\n",
       "      <th>f1</th>\n",
       "      <th>f2</th>\n",
       "      <th>product</th>\n",
       "    </tr>\n",
       "  </thead>\n",
       "  <tbody>\n",
       "    <tr>\n",
       "      <th>8826</th>\n",
       "      <td>rjMou</td>\n",
       "      <td>1.797736</td>\n",
       "      <td>0.098212</td>\n",
       "      <td>6.148260</td>\n",
       "      <td>185.364347</td>\n",
       "    </tr>\n",
       "    <tr>\n",
       "      <th>99818</th>\n",
       "      <td>7cHIv</td>\n",
       "      <td>0.518445</td>\n",
       "      <td>-0.412790</td>\n",
       "      <td>4.951916</td>\n",
       "      <td>185.362690</td>\n",
       "    </tr>\n",
       "    <tr>\n",
       "      <th>94175</th>\n",
       "      <td>uCDzR</td>\n",
       "      <td>0.351428</td>\n",
       "      <td>-0.400244</td>\n",
       "      <td>7.227618</td>\n",
       "      <td>185.355615</td>\n",
       "    </tr>\n",
       "    <tr>\n",
       "      <th>1925</th>\n",
       "      <td>IfqrC</td>\n",
       "      <td>0.624430</td>\n",
       "      <td>-0.469312</td>\n",
       "      <td>5.753677</td>\n",
       "      <td>185.354980</td>\n",
       "    </tr>\n",
       "    <tr>\n",
       "      <th>45291</th>\n",
       "      <td>5FEPb</td>\n",
       "      <td>1.758787</td>\n",
       "      <td>-0.395038</td>\n",
       "      <td>6.719085</td>\n",
       "      <td>185.352015</td>\n",
       "    </tr>\n",
       "    <tr>\n",
       "      <th>...</th>\n",
       "      <td>...</td>\n",
       "      <td>...</td>\n",
       "      <td>...</td>\n",
       "      <td>...</td>\n",
       "      <td>...</td>\n",
       "    </tr>\n",
       "    <tr>\n",
       "      <th>34856</th>\n",
       "      <td>Xqm8i</td>\n",
       "      <td>2.038708</td>\n",
       "      <td>0.271003</td>\n",
       "      <td>3.791803</td>\n",
       "      <td>184.366474</td>\n",
       "    </tr>\n",
       "    <tr>\n",
       "      <th>54135</th>\n",
       "      <td>oAHG7</td>\n",
       "      <td>1.108500</td>\n",
       "      <td>-0.583939</td>\n",
       "      <td>1.503254</td>\n",
       "      <td>184.362338</td>\n",
       "    </tr>\n",
       "    <tr>\n",
       "      <th>63598</th>\n",
       "      <td>CaN8V</td>\n",
       "      <td>1.330398</td>\n",
       "      <td>-0.523232</td>\n",
       "      <td>6.365799</td>\n",
       "      <td>184.360762</td>\n",
       "    </tr>\n",
       "    <tr>\n",
       "      <th>4941</th>\n",
       "      <td>orIzp</td>\n",
       "      <td>1.674001</td>\n",
       "      <td>0.016279</td>\n",
       "      <td>3.869249</td>\n",
       "      <td>184.358756</td>\n",
       "    </tr>\n",
       "    <tr>\n",
       "      <th>79494</th>\n",
       "      <td>obTWo</td>\n",
       "      <td>1.313813</td>\n",
       "      <td>-0.459792</td>\n",
       "      <td>9.423778</td>\n",
       "      <td>184.356455</td>\n",
       "    </tr>\n",
       "  </tbody>\n",
       "</table>\n",
       "<p>200 rows × 5 columns</p>\n",
       "</div>"
      ],
      "text/plain": [
       "          id        f0        f1        f2     product\n",
       "8826   rjMou  1.797736  0.098212  6.148260  185.364347\n",
       "99818  7cHIv  0.518445 -0.412790  4.951916  185.362690\n",
       "94175  uCDzR  0.351428 -0.400244  7.227618  185.355615\n",
       "1925   IfqrC  0.624430 -0.469312  5.753677  185.354980\n",
       "45291  5FEPb  1.758787 -0.395038  6.719085  185.352015\n",
       "...      ...       ...       ...       ...         ...\n",
       "34856  Xqm8i  2.038708  0.271003  3.791803  184.366474\n",
       "54135  oAHG7  1.108500 -0.583939  1.503254  184.362338\n",
       "63598  CaN8V  1.330398 -0.523232  6.365799  184.360762\n",
       "4941   orIzp  1.674001  0.016279  3.869249  184.358756\n",
       "79494  obTWo  1.313813 -0.459792  9.423778  184.356455\n",
       "\n",
       "[200 rows x 5 columns]"
      ]
     },
     "metadata": {},
     "output_type": "display_data"
    }
   ],
   "source": [
    "df_200_real = df_0.sort_values(by='product', ascending=False)[:200]\n",
    "display(df_200_real)"
   ]
  },
  {
   "cell_type": "markdown",
   "metadata": {},
   "source": [
    "Интересно, а сколько одинаковых id скважин входит в первую и вторую таблицы"
   ]
  },
  {
   "cell_type": "code",
   "execution_count": 36,
   "metadata": {},
   "outputs": [
    {
     "name": "stdout",
     "output_type": "stream",
     "text": [
      "397\n"
     ]
    }
   ],
   "source": [
    "lister = [*list(df_200_pred['id']), *list(df_200_real['id'])]\n",
    "print(len(set(lister)))"
   ]
  },
  {
   "cell_type": "markdown",
   "metadata": {},
   "source": [
    "всего лишь 3 значения совпадают, а сколько же из этих 200 попадают в прибыльные 35000 реальных значений?"
   ]
  },
  {
   "cell_type": "code",
   "execution_count": 37,
   "metadata": {},
   "outputs": [
    {
     "name": "stdout",
     "output_type": "stream",
     "text": [
      "187\n"
     ]
    }
   ],
   "source": [
    "count =[]\n",
    "for idx in df_200_pred['id']:\n",
    "    if idx in list(df_0.sort_values(by='product', ascending=False)[:35000]['id']):\n",
    "        count.append(idx)\n",
    "print(len(count))        "
   ]
  },
  {
   "cell_type": "markdown",
   "metadata": {},
   "source": [
    "то есть на 13 скважинах по предсказаниям мы точно получаем убыточную деятельность."
   ]
  },
  {
   "cell_type": "markdown",
   "metadata": {},
   "source": [
    "Далее посчитаем прибыль по предсказанным запасам сырья"
   ]
  },
  {
   "cell_type": "code",
   "execution_count": 38,
   "metadata": {},
   "outputs": [],
   "source": [
    "def profit_pred(df):\n",
    "    sum_prod = df.sort_values(by='pred_product', ascending=False)[:200]['pred_product'].sum()\n",
    "    profit_pred = int(sum_prod) * profit - budget\n",
    "    return profit_pred"
   ]
  },
  {
   "cell_type": "code",
   "execution_count": 39,
   "metadata": {},
   "outputs": [
    {
     "name": "stdout",
     "output_type": "stream",
     "text": [
      "Предсказанная прибыль с лучших 200-от скважин по первому региону: 4701500000 руб.\n",
      "Предсказанная прибыль с лучших 200-от скважин по второму региону: 2524400000 руб.\n",
      "Предсказанная прибыль с лучших 200-от скважин по третьему региону: 4104800000 руб.\n"
     ]
    }
   ],
   "source": [
    "print(f'Предсказанная прибыль с лучших 200-от скважин по первому региону: {profit_pred(df_0_w)} руб.')\n",
    "print(f'Предсказанная прибыль с лучших 200-от скважин по второму региону: {profit_pred(df_1_w)} руб.')\n",
    "print(f'Предсказанная прибыль с лучших 200-от скважин по третьему региону: {profit_pred(df_2_w)} руб.')"
   ]
  },
  {
   "cell_type": "markdown",
   "metadata": {},
   "source": [
    "Интересно, а по этим предсказанным id скважин сколько реально получится прибыли?"
   ]
  },
  {
   "cell_type": "code",
   "execution_count": 40,
   "metadata": {},
   "outputs": [],
   "source": [
    "def profit_per_idx(df_real, df_predict):\n",
    "    count = []\n",
    "    df_200_pred = df_predict.sort_values(by='pred_product', ascending=False)[:200]\n",
    "    for idx in df_200_pred['id']:\n",
    "        count.append(df_real[df_real['id'] == idx]['product'].tolist())\n",
    "    return np.sum(count)*profit - budget"
   ]
  },
  {
   "cell_type": "code",
   "execution_count": 41,
   "metadata": {},
   "outputs": [
    {
     "name": "stdout",
     "output_type": "stream",
     "text": [
      "Реальная прибыль с 200-от скважин по первому региону (по предсказанным индексам): 3516490849.079895 руб.\n",
      "Реальная прибыль с 200-от скважин по второму региону (по предсказанным индексам): 2415086696.681511 руб.\n",
      "Реальная прибыль с 200-от скважин по втретьему региону (по предсказанным индексам): 2591562707.3416786 руб.\n"
     ]
    }
   ],
   "source": [
    "print(f'Реальная прибыль с 200-от скважин по первому региону (по предсказанным индексам): {profit_per_idx(df_0, df_0_w)} руб.')\n",
    "print(f'Реальная прибыль с 200-от скважин по второму региону (по предсказанным индексам): {profit_per_idx(df_1, df_1_w)} руб.')\n",
    "print(f'Реальная прибыль с 200-от скважин по втретьему региону (по предсказанным индексам): {profit_per_idx(df_2, df_2_w)} руб.')"
   ]
  },
  {
   "cell_type": "markdown",
   "metadata": {},
   "source": [
    "И сколько же мы могли бы получить сырья и прбыли с действительно лучших скважин?"
   ]
  },
  {
   "cell_type": "code",
   "execution_count": 42,
   "metadata": {},
   "outputs": [
    {
     "name": "stdout",
     "output_type": "stream",
     "text": [
      "Первый регион 6635036568.082407\n",
      "Второй регион 2415086696.681511\n",
      "Третий регион 7059632928.358982\n"
     ]
    }
   ],
   "source": [
    "print('Первый регион', df_0.sort_values(by='product', ascending=False)[:200]['product'].sum()*profit - budget)\n",
    "print('Второй регион', df_1.sort_values(by='product', ascending=False)[:200]['product'].sum()*profit - budget)\n",
    "print('Третий регион', df_2.sort_values(by='product', ascending=False)[:200]['product'].sum()*profit - budget)"
   ]
  },
  {
   "cell_type": "markdown",
   "metadata": {},
   "source": [
    "<b>Выводы:</b> Видно, что прибыль по предсказаниям в первом и третьем регионх  в полтора раза выше, чем по реальным показаниям запасов для соответсвующих скважин, при этом по синтетическому второму региону различия уже не такие большие (а для реальных показателей так и вообще совпали).  Правда так же стоит отметить, что хотя в выбранные скважины явно попадают убыточные, все равно прибыль по предсказаниям остается в существенно положительной области.\n",
    "\n",
    "Но все же если выбрать 200 лучших скважин реальных показателей, прибыль с выбранных скважин уже существенно ниже реально возможной, при верном выборе наилучших скважин."
   ]
  },
  {
   "cell_type": "markdown",
   "metadata": {},
   "source": [
    "<div style=\"background: #cceeaa; padding: 5px; border: 1px solid green; border-radius: 5px;\">\n",
    "<font color='green'> \n",
    "    <b><u>КОММЕНТАРИЙ РЕВЬЮЕРА</u></b>\n",
    "<font color='green'><br>👍 "
   ]
  },
  {
   "cell_type": "markdown",
   "metadata": {},
   "source": [
    "## Посчитаем риски и прибыль для каждого региона:"
   ]
  },
  {
   "cell_type": "markdown",
   "metadata": {},
   "source": [
    "### Применим технику Bootstrap с 1000 выборок, чтобы найти распределение прибыли."
   ]
  },
  {
   "cell_type": "markdown",
   "metadata": {},
   "source": [
    "Функция для расчета прибыли и убыдков при выборе случайной выборки 500 скважин и лучших 200 скважин и проверка этих скважин по первоначальным показателям запасов в скважинах:"
   ]
  },
  {
   "cell_type": "markdown",
   "metadata": {},
   "source": [
    "По результатам первого составления функции с циклами (соответствие таблиц первоначальных и предсказанных), код выполнения функции был очень долгим, понял, что лучше чтобы колонки продуктов и предсказанных продуктов стояли рядом в одной таблице."
   ]
  },
  {
   "cell_type": "code",
   "execution_count": 43,
   "metadata": {},
   "outputs": [],
   "source": [
    "df_0_w['product'] = df_0['product']"
   ]
  },
  {
   "cell_type": "code",
   "execution_count": 44,
   "metadata": {},
   "outputs": [],
   "source": [
    "df_1_w['product'] = df_1['product']"
   ]
  },
  {
   "cell_type": "code",
   "execution_count": 45,
   "metadata": {},
   "outputs": [],
   "source": [
    "df_2_w['product'] = df_2['product']"
   ]
  },
  {
   "cell_type": "code",
   "execution_count": 46,
   "metadata": {},
   "outputs": [],
   "source": [
    "def bootstrap_pred(df):\n",
    "    state = np.random.RandomState(12345)\n",
    "    values = []\n",
    "    for i in range(1000): \n",
    "        # выберем 500 случайных скважин из 100 000\n",
    "        subsample_pred = df.sample(n=500, replace=True, random_state=state)\n",
    "        # получим наилучшие 200 скважин из случайных 500 по предсказаниям\n",
    "        df_200_pred = subsample_pred.sort_values(by='pred_product', ascending=False)[:200]\n",
    "        # посчитаем реальную прибыль с учетом выбора скважин из предсказаний\n",
    "        real_prod = df_200_pred['product'].sum()\n",
    "        profit_real = real_prod*profit - budget\n",
    "        values.append(profit_real)\n",
    "    values = pd.Series(values)\n",
    "    low = values.quantile(0.025)\n",
    "    up = values.quantile(0.975)\n",
    "    losses = values[values<0]\n",
    "    mean = values.mean()\n",
    "    print(f\"Средняя прибыль: {int(mean)} руб.\")\n",
    "    print(f\"95% доверительный интервал: от  {int(low)} руб. до {int(up)} руб.\")\n",
    "    print(f\"Всего убыточных экспериментов: {losses.count()} шт.\")\n",
    "    print(f\"Вероятность убытков: {round(losses.count()/len(values)*100, 2)} %\")\n",
    "    print(f\"Максимальный убыток: {int(losses.min())} руб.\")\n",
    "    print(f\"Максимальная прибыль: {int(values.max())} руб.\")"
   ]
  },
  {
   "cell_type": "code",
   "execution_count": 47,
   "metadata": {},
   "outputs": [
    {
     "name": "stdout",
     "output_type": "stream",
     "text": [
      "+++++++++++++++++++++++++++++++++++++ Показатели для первого региона ++++++++++++++++++++++++++++++++++++++++++++++++\n",
      "Средняя прибыль: 423141311 руб.\n",
      "95% доверительный интервал: от  -72414279 руб. до 968146429 руб.\n",
      "Всего убыточных экспериментов: 53 шт.\n",
      "Вероятность убытков: 5.3 %\n",
      "Максимальный убыток: -550651709 руб.\n",
      "Максимальная прибыль: 1513228899 руб.\n"
     ]
    }
   ],
   "source": [
    "print('+++++++++++++++++++++++++++++++++++++ Показатели для первого региона ++++++++++++++++++++++++++++++++++++++++++++++++')\n",
    "bootstrap_pred(df_0_w)"
   ]
  },
  {
   "cell_type": "code",
   "execution_count": 48,
   "metadata": {},
   "outputs": [
    {
     "name": "stdout",
     "output_type": "stream",
     "text": [
      "++++++++++++++++++++++++++++++++++++++ Показатели для второго региона ++++++++++++++++++++++++++++++++++++++++++++++++\n",
      "Средняя прибыль: 448723501 руб.\n",
      "95% доверительный интервал: от  37498074 руб. до 823829920 руб.\n",
      "Всего убыточных экспериментов: 14 шт.\n",
      "Вероятность убытков: 1.4 %\n",
      "Максимальный убыток: -272941292 руб.\n",
      "Максимальная прибыль: 1107646203 руб.\n"
     ]
    }
   ],
   "source": [
    "print('++++++++++++++++++++++++++++++++++++++ Показатели для второго региона ++++++++++++++++++++++++++++++++++++++++++++++++')\n",
    "bootstrap_pred(df_1_w)"
   ]
  },
  {
   "cell_type": "code",
   "execution_count": 49,
   "metadata": {},
   "outputs": [
    {
     "name": "stdout",
     "output_type": "stream",
     "text": [
      "+++++++++++++++++++++++++++++++++++++ Показатели для третьего региона ++++++++++++++++++++++++++++++++++++++++++++++++\n",
      "Средняя прибыль: 373793764 руб.\n",
      "95% доверительный интервал: от  -186230709 руб. до 891189293 руб.\n",
      "Всего убыточных экспериментов: 89 шт.\n",
      "Вероятность убытков: 8.9 %\n",
      "Максимальный убыток: -501064721 руб.\n",
      "Максимальная прибыль: 1143962958 руб.\n"
     ]
    }
   ],
   "source": [
    "print('+++++++++++++++++++++++++++++++++++++ Показатели для третьего региона ++++++++++++++++++++++++++++++++++++++++++++++++')\n",
    "bootstrap_pred(df_2_w)"
   ]
  },
  {
   "cell_type": "markdown",
   "metadata": {},
   "source": [
    "<b>Выводы:</b> Для второго региона (сильно синтетического) опять видим наилучшие показатели - наименьшее количество убыточных экспериментов, сильно меньший максимальный убыток и сопоставимая величина максимальной прибыли относительно первого и второго региона. Да и доверительный интервал для второго региона лежит в положительных величинах.\n",
    "\n",
    "ТО есть в данном случае второй регион наиболее предпочтителен в разработке случайных 200-от скважин.\n",
    "\n",
    "По первому и третьему региону наугад выбирать 200 произвольных скважин не очень хорошая идея, гораздо продуктивнее сразу выбрать 200 наилучших предсказанных скважин и хотя добыча будет не оптимальна, но гарантировано положительная."
   ]
  },
  {
   "cell_type": "markdown",
   "metadata": {},
   "source": [
    "<div style=\"background: #cceeaa; padding: 5px; border: 1px solid green; border-radius: 5px;\">\n",
    "<font color='green'> \n",
    "    <b><u>КОММЕНТАРИЙ РЕВЬЮЕРА</u></b>\n",
    "<font color='green'><br>Ну СУПЕР. Тут и оформление, и расчёты - всё в точку. Снимаю шляпу!"
   ]
  },
  {
   "cell_type": "code",
   "execution_count": null,
   "metadata": {},
   "outputs": [],
   "source": []
  },
  {
   "cell_type": "markdown",
   "metadata": {},
   "source": [
    "### Интересно применить технику бутстреп к модели линейной регрессии"
   ]
  },
  {
   "cell_type": "code",
   "execution_count": 50,
   "metadata": {},
   "outputs": [],
   "source": [
    "# разделим таблицу на 2 70/30 , на одной будем обучать модели с техникой бутстреп, а на другой собирать предсказания\n",
    "df_train, df_predict = np.split(df_0_w.sample(frac=1, random_state=12345),[int(.70*len(df_0_w))])\n",
    "state = np.random.RandomState(12345)\n",
    "df_sub = df_predict.drop(['f0','f1', 'f2', 'product', 'id'], axis=1)\n",
    "for i in range(9): \n",
    "    # выберем 100 случайных скважин из 70 000\n",
    "    df_sub_train = df_train.sample(n=5, replace=True, random_state=state)\n",
    "    features_sub_train = df_sub_train.drop(['id','pred_product', 'product'], axis=1)\n",
    "    target_sub_train = df_sub_train['product']\n",
    "    model = LinearRegression()# инициализируем модель LinearRegression\n",
    "    model.fit(features_sub_train, target_sub_train) # обучим модель\n",
    "    features_predict = df_predict.drop(['id','pred_product', 'product'], axis=1)\n",
    "    text = 'prediction_product'+ str(i)\n",
    "    df_sub[text] = model.predict(features_predict)\n",
    "   "
   ]
  },
  {
   "cell_type": "code",
   "execution_count": 51,
   "metadata": {},
   "outputs": [],
   "source": [
    "df_sub['mean']  = df_sub.mean(axis=1)"
   ]
  },
  {
   "cell_type": "code",
   "execution_count": 52,
   "metadata": {},
   "outputs": [
    {
     "data": {
      "image/png": "[encoded data removed]",
      "text/plain": [
       "<Figure size 432x288 with 1 Axes>"
      ]
     },
     "metadata": {
      "needs_background": "light"
     },
     "output_type": "display_data"
    }
   ],
   "source": [
    "plt.hist(df_predict['pred_product'] , range = (-1, 200), bins=200, label = 'df_pred')\n",
    "plt.hist(df_sub['mean'] , range = (-1, 200), bins=200, label = 'df_mean', alpha= 0.5)\n",
    "plt.hist(df_predict['product'] , range = (-1, 200), bins=200, label = 'df_real', alpha= 0.5)\n",
    "plt.ylabel('Частотность')\n",
    "plt.xlabel('Распределение запасов сырья')\n",
    "plt.legend()\n",
    "plt.grid();"
   ]
  },
  {
   "cell_type": "markdown",
   "metadata": {},
   "source": [
    "а что с rmse?"
   ]
  },
  {
   "cell_type": "code",
   "execution_count": 53,
   "metadata": {},
   "outputs": [
    {
     "data": {
      "text/plain": [
       "42.94591178009875"
      ]
     },
     "execution_count": 53,
     "metadata": {},
     "output_type": "execute_result"
    }
   ],
   "source": [
    "target_real = df_predict['product']\n",
    "predictions = df_sub['mean']\n",
    "mean_squared_error(target_real, predictions)**0.5"
   ]
  },
  {
   "cell_type": "markdown",
   "metadata": {},
   "source": [
    "Даже немного увеличился от расчетов пункта 2, хотя распределение выглядит гораздо лучше"
   ]
  },
  {
   "cell_type": "markdown",
   "metadata": {},
   "source": [
    "ну и визуально посмотрим\n"
   ]
  },
  {
   "cell_type": "code",
   "execution_count": 54,
   "metadata": {},
   "outputs": [],
   "source": [
    "df_predict['mean'] = df_sub['mean']"
   ]
  },
  {
   "cell_type": "code",
   "execution_count": 55,
   "metadata": {},
   "outputs": [
    {
     "data": {
      "text/html": [
       "<div>\n",
       "<style scoped>\n",
       "    .dataframe tbody tr th:only-of-type {\n",
       "        vertical-align: middle;\n",
       "    }\n",
       "\n",
       "    .dataframe tbody tr th {\n",
       "        vertical-align: top;\n",
       "    }\n",
       "\n",
       "    .dataframe thead th {\n",
       "        text-align: right;\n",
       "    }\n",
       "</style>\n",
       "<table border=\"1\" class=\"dataframe\">\n",
       "  <thead>\n",
       "    <tr style=\"text-align: right;\">\n",
       "      <th></th>\n",
       "      <th>id</th>\n",
       "      <th>f0</th>\n",
       "      <th>f1</th>\n",
       "      <th>f2</th>\n",
       "      <th>pred_product</th>\n",
       "      <th>product</th>\n",
       "      <th>mean</th>\n",
       "    </tr>\n",
       "  </thead>\n",
       "  <tbody>\n",
       "    <tr>\n",
       "      <th>40236</th>\n",
       "      <td>xLUP0</td>\n",
       "      <td>0.117833</td>\n",
       "      <td>0.929257</td>\n",
       "      <td>-2.730733</td>\n",
       "      <td>46.916862</td>\n",
       "      <td>24.400378</td>\n",
       "      <td>21.160648</td>\n",
       "    </tr>\n",
       "    <tr>\n",
       "      <th>91583</th>\n",
       "      <td>JBeDg</td>\n",
       "      <td>0.591988</td>\n",
       "      <td>0.926857</td>\n",
       "      <td>0.414448</td>\n",
       "      <td>69.633518</td>\n",
       "      <td>132.408990</td>\n",
       "      <td>66.487242</td>\n",
       "    </tr>\n",
       "    <tr>\n",
       "      <th>33363</th>\n",
       "      <td>JM5HI</td>\n",
       "      <td>0.100873</td>\n",
       "      <td>0.013945</td>\n",
       "      <td>1.132795</td>\n",
       "      <td>85.077435</td>\n",
       "      <td>134.909178</td>\n",
       "      <td>72.024954</td>\n",
       "    </tr>\n",
       "    <tr>\n",
       "      <th>93287</th>\n",
       "      <td>aNSlC</td>\n",
       "      <td>0.304949</td>\n",
       "      <td>-0.263974</td>\n",
       "      <td>-6.710023</td>\n",
       "      <td>37.849590</td>\n",
       "      <td>26.295784</td>\n",
       "      <td>-20.247778</td>\n",
       "    </tr>\n",
       "    <tr>\n",
       "      <th>93012</th>\n",
       "      <td>31X6K</td>\n",
       "      <td>0.579283</td>\n",
       "      <td>0.893261</td>\n",
       "      <td>5.755880</td>\n",
       "      <td>105.383406</td>\n",
       "      <td>72.402265</td>\n",
       "      <td>132.012285</td>\n",
       "    </tr>\n",
       "    <tr>\n",
       "      <th>...</th>\n",
       "      <td>...</td>\n",
       "      <td>...</td>\n",
       "      <td>...</td>\n",
       "      <td>...</td>\n",
       "      <td>...</td>\n",
       "      <td>...</td>\n",
       "      <td>...</td>\n",
       "    </tr>\n",
       "    <tr>\n",
       "      <th>4094</th>\n",
       "      <td>osNdz</td>\n",
       "      <td>1.863680</td>\n",
       "      <td>-0.298123</td>\n",
       "      <td>1.621324</td>\n",
       "      <td>99.607466</td>\n",
       "      <td>124.380793</td>\n",
       "      <td>104.213203</td>\n",
       "    </tr>\n",
       "    <tr>\n",
       "      <th>85412</th>\n",
       "      <td>YFN4o</td>\n",
       "      <td>-1.162682</td>\n",
       "      <td>-0.014822</td>\n",
       "      <td>6.819941</td>\n",
       "      <td>118.095503</td>\n",
       "      <td>144.874913</td>\n",
       "      <td>124.079255</td>\n",
       "    </tr>\n",
       "    <tr>\n",
       "      <th>2177</th>\n",
       "      <td>Ay91j</td>\n",
       "      <td>0.862688</td>\n",
       "      <td>-0.403776</td>\n",
       "      <td>1.867662</td>\n",
       "      <td>98.736639</td>\n",
       "      <td>134.967255</td>\n",
       "      <td>93.500971</td>\n",
       "    </tr>\n",
       "    <tr>\n",
       "      <th>77285</th>\n",
       "      <td>MfaH6</td>\n",
       "      <td>0.846235</td>\n",
       "      <td>-0.489533</td>\n",
       "      <td>1.058786</td>\n",
       "      <td>94.507562</td>\n",
       "      <td>64.494357</td>\n",
       "      <td>83.683181</td>\n",
       "    </tr>\n",
       "    <tr>\n",
       "      <th>86498</th>\n",
       "      <td>qiCZa</td>\n",
       "      <td>2.019850</td>\n",
       "      <td>0.263887</td>\n",
       "      <td>11.497239</td>\n",
       "      <td>157.778768</td>\n",
       "      <td>151.514894</td>\n",
       "      <td>225.398713</td>\n",
       "    </tr>\n",
       "  </tbody>\n",
       "</table>\n",
       "<p>30000 rows × 7 columns</p>\n",
       "</div>"
      ],
      "text/plain": [
       "          id        f0        f1         f2  pred_product     product  \\\n",
       "40236  xLUP0  0.117833  0.929257  -2.730733     46.916862   24.400378   \n",
       "91583  JBeDg  0.591988  0.926857   0.414448     69.633518  132.408990   \n",
       "33363  JM5HI  0.100873  0.013945   1.132795     85.077435  134.909178   \n",
       "93287  aNSlC  0.304949 -0.263974  -6.710023     37.849590   26.295784   \n",
       "93012  31X6K  0.579283  0.893261   5.755880    105.383406   72.402265   \n",
       "...      ...       ...       ...        ...           ...         ...   \n",
       "4094   osNdz  1.863680 -0.298123   1.621324     99.607466  124.380793   \n",
       "85412  YFN4o -1.162682 -0.014822   6.819941    118.095503  144.874913   \n",
       "2177   Ay91j  0.862688 -0.403776   1.867662     98.736639  134.967255   \n",
       "77285  MfaH6  0.846235 -0.489533   1.058786     94.507562   64.494357   \n",
       "86498  qiCZa  2.019850  0.263887  11.497239    157.778768  151.514894   \n",
       "\n",
       "             mean  \n",
       "40236   21.160648  \n",
       "91583   66.487242  \n",
       "33363   72.024954  \n",
       "93287  -20.247778  \n",
       "93012  132.012285  \n",
       "...           ...  \n",
       "4094   104.213203  \n",
       "85412  124.079255  \n",
       "2177    93.500971  \n",
       "77285   83.683181  \n",
       "86498  225.398713  \n",
       "\n",
       "[30000 rows x 7 columns]"
      ]
     },
     "metadata": {},
     "output_type": "display_data"
    }
   ],
   "source": [
    "display(df_predict)"
   ]
  },
  {
   "cell_type": "markdown",
   "metadata": {},
   "source": [
    "Хм вот оно как даже отрицательно значение выкинуло, думаю из-за них и rmse увеличился"
   ]
  },
  {
   "cell_type": "code",
   "execution_count": 56,
   "metadata": {},
   "outputs": [],
   "source": [
    "df_predict_plus = df_predict[df_predict['mean'] > 0]"
   ]
  },
  {
   "cell_type": "markdown",
   "metadata": {},
   "source": [
    "<b>Выводы:</b> увеличение n и количества циклов приводит распределение среднего к нормальному совпадая с предсказаниям по модели из пункта 2. при этом эти цифры превращаются как будто в некоторые гиперпараметры для описания конкретных данных и видимо пробегая по ним так же можно найти наименьшее значение ошибки.\n",
    "\n",
    "хотя явно здесь наблюдается искуственность результата моделирования )))\n",
    "\n",
    "ПО идее видимо стоит лучше разбивать выборки по парамктру f2 как имеющему наибольшую корреляцию с запасами, и уже строит модели по интервалам значений этого параметра."
   ]
  },
  {
   "cell_type": "markdown",
   "metadata": {},
   "source": [
    "<div style=\"background: #cceeaa; padding: 5px; border: 1px solid green; border-radius: 5px;\">\n",
    "<font color='green'> \n",
    "    <b><u>КОММЕНТАРИЙ РЕВЬЮЕРА</u></b>\n",
    "</font><br>\n",
    "<font color='green'><br>\n",
    "Роман, всё в яблочко у тебя получилось)<BR> \n",
    "Результ, выводы и даже доверительный интервал - тот, что нужен, именно для прогноза.<br>\n",
    "Оформление, структура изложения, аналитические размышления - мне понравилось работать с проектом.<br>\n",
    "Только значения 1000 и 500 в бутстрепе - лучше выносить в глобальные переменные и обозначать заглавными буквами)<br>\n",
    "    \n",
    "Данный проект не простой. И не только тем, что задание с первого раза может показатья не понятным.\n",
    "Но и потому, что его цель не просто построить прогноз по модели или прогноз продаж. А научиться выбирать лучшее управленческое решение на основе метода моделирования ситуации. Т.е. нужно было уйти чуть в сторону от классического моделирования как такового.\n",
    "Бутсреп - он близок к методам управленческого моделирования монте-карло.\n",
    "В этом ключе и есть смысл его рассматривать. Есть ещё одно направление в этой теме. Его продвигает российская компания - AnyLogic. И у неё есть хороший продукт с одноимённым названием. Мне приходилось как-то смотреть его... интересно. Можешь ролик из инета глянуть по какому-нибудь примеру с её использованием. Тогда тема управленческого моделирования и вообще моделирование с целью найти оптимальное решение - может по-другому \"зайти\"... <br>\n",
    "    \n",
    "Возможно, что у тебя остались/ появились вопросы?"
   ]
  },
  {
   "cell_type": "raw",
   "metadata": {},
   "source": [
    "как то так:"
   ]
  },
  {
   "cell_type": "code",
   "execution_count": 57,
   "metadata": {},
   "outputs": [],
   "source": [
    "ITERA = 1000\n",
    "QUANT = 500\n",
    "def bootstrap_pred_1(df):\n",
    "    global ITERA\n",
    "    global QUANT\n",
    "    state = np.random.RandomState(12345)\n",
    "    values = []\n",
    "    for i in range(ITERA): \n",
    "        # выберем 500 случайных скважин из 100 000\n",
    "        subsample_pred = df.sample(n=QUANT, replace=True, random_state=state)\n",
    "        # получим наилучшие 200 скважин из случайных 500 по предсказаниям\n",
    "        df_200_pred = subsample_pred.sort_values(by='pred_product', ascending=False)[:200]\n",
    "        # посчитаем реальную прибыль с учетом выбора скважин из предсказаний\n",
    "        real_prod = df_200_pred['product'].sum()\n",
    "        profit_real = real_prod*profit - budget\n",
    "        values.append(profit_real)\n",
    "    values = pd.Series(values)\n",
    "    low = values.quantile(0.025)\n",
    "    up = values.quantile(0.975)\n",
    "    losses = values[values<0]\n",
    "    mean = values.mean()\n",
    "    print(f\"Средняя прибыль: {int(mean)} руб.\")\n",
    "    print(f\"95% доверительный интервал: от  {int(low)} руб. до {int(up)} руб.\")\n",
    "    print(f\"Всего убыточных экспериментов: {losses.count()} шт.\")\n",
    "    print(f\"Вероятность убытков: {round(losses.count()/len(values)*100, 2)} %\")\n",
    "    print(f\"Максимальный убыток: {int(losses.min())} руб.\")\n",
    "    print(f\"Максимальная прибыль: {int(values.max())} руб.\")"
   ]
  },
  {
   "cell_type": "code",
   "execution_count": 58,
   "metadata": {},
   "outputs": [
    {
     "name": "stdout",
     "output_type": "stream",
     "text": [
      "+++++++++++++++++++++++++++++++++++++++++ Показатели для первого региона +++++++++++++++++++++++++++++++++++++++++++++\n",
      "Средняя прибыль: 423141311 руб.\n",
      "95% доверительный интервал: от  -72414279 руб. до 968146429 руб.\n",
      "Всего убыточных экспериментов: 53 шт.\n",
      "Вероятность убытков: 5.3 %\n",
      "Максимальный убыток: -550651709 руб.\n",
      "Максимальная прибыль: 1513228899 руб.\n"
     ]
    }
   ],
   "source": [
    "print('+++++++++++++++++++++++++++++++++++++++++ Показатели для первого региона +++++++++++++++++++++++++++++++++++++++++++++')\n",
    "bootstrap_pred_1(df_0_w)"
   ]
  },
  {
   "cell_type": "markdown",
   "metadata": {},
   "source": [
    "видимо в третьем пункте бюджет и профит так же надо было заглавными буквами\n"
   ]
  },
  {
   "cell_type": "markdown",
   "metadata": {},
   "source": [
    "<div style=\"background: #cceeaa; padding: 5px; border: 1px solid green; border-radius: 5px;\">\n",
    "<font color='green'> \n",
    "    <b><u>КОММЕНТАРИЙ РЕВЬЮЕРА 2</u></b>\n",
    "</font><br>\n",
    "<font color='green'><br>Привет, Роман!<br>\n",
    "Не ожидал, если честно, что скорректируешь этот момент. Здорово.<br>\n",
    "Cпасибо за проект) УСПЕШНОГО ДАЛЬНЕЙШЕГО ОБУЧЕНИЯ!"
   ]
  },
  {
   "cell_type": "code",
   "execution_count": null,
   "metadata": {},
   "outputs": [],
   "source": []
  }
 ],
 "metadata": {
  "ExecuteTimeLog": [
   {
    "duration": 1632,
    "start_time": "2021-11-30T23:04:11.665Z"
   },
   {
    "duration": 7,
    "start_time": "2021-11-30T23:04:17.049Z"
   },
   {
    "duration": 4231,
    "start_time": "2021-11-30T23:04:19.108Z"
   },
   {
    "duration": 2060,
    "start_time": "2021-11-30T23:04:23.342Z"
   },
   {
    "duration": 2102,
    "start_time": "2021-11-30T23:04:25.406Z"
   },
   {
    "duration": 2017,
    "start_time": "2021-11-30T23:04:27.511Z"
   },
   {
    "duration": 3944,
    "start_time": "2021-11-30T23:04:29.531Z"
   },
   {
    "duration": 6,
    "start_time": "2021-11-30T23:07:08.091Z"
   },
   {
    "duration": 37,
    "start_time": "2021-11-30T23:07:09.107Z"
   },
   {
    "duration": 41,
    "start_time": "2021-11-30T23:07:09.487Z"
   },
   {
    "duration": 41,
    "start_time": "2021-11-30T23:07:09.630Z"
   },
   {
    "duration": 21,
    "start_time": "2021-11-30T23:07:31.240Z"
   },
   {
    "duration": 14,
    "start_time": "2021-11-30T23:07:31.601Z"
   },
   {
    "duration": 17,
    "start_time": "2021-11-30T23:07:31.768Z"
   },
   {
    "duration": 20,
    "start_time": "2021-11-30T23:07:43.157Z"
   },
   {
    "duration": 18,
    "start_time": "2021-11-30T23:09:22.307Z"
   },
   {
    "duration": 13,
    "start_time": "2021-11-30T23:10:21.910Z"
   },
   {
    "duration": 23,
    "start_time": "2021-11-30T23:10:23.474Z"
   },
   {
    "duration": 48,
    "start_time": "2021-11-30T23:10:24.620Z"
   },
   {
    "duration": 18,
    "start_time": "2021-11-30T23:10:29.609Z"
   },
   {
    "duration": 17,
    "start_time": "2021-11-30T23:10:29.772Z"
   },
   {
    "duration": 16,
    "start_time": "2021-11-30T23:10:31.162Z"
   },
   {
    "duration": 4,
    "start_time": "2021-11-30T23:10:57.095Z"
   },
   {
    "duration": 6,
    "start_time": "2021-11-30T23:10:58.857Z"
   },
   {
    "duration": 1350,
    "start_time": "2021-11-30T23:11:02.788Z"
   },
   {
    "duration": 1368,
    "start_time": "2021-11-30T23:11:04.141Z"
   },
   {
    "duration": 1619,
    "start_time": "2021-11-30T23:11:05.512Z"
   },
   {
    "duration": 1021,
    "start_time": "2021-11-30T23:11:07.133Z"
   },
   {
    "duration": 1158,
    "start_time": "2021-11-30T23:11:08.157Z"
   },
   {
    "duration": 1276,
    "start_time": "2021-11-30T23:11:09.318Z"
   },
   {
    "duration": 31,
    "start_time": "2021-11-30T23:11:10.596Z"
   },
   {
    "duration": 64,
    "start_time": "2021-11-30T23:11:10.631Z"
   },
   {
    "duration": 69,
    "start_time": "2021-11-30T23:11:10.698Z"
   },
   {
    "duration": 41,
    "start_time": "2021-11-30T23:13:48.655Z"
   },
   {
    "duration": 41,
    "start_time": "2021-11-30T23:13:49.328Z"
   },
   {
    "duration": 6,
    "start_time": "2021-11-30T23:13:50.394Z"
   },
   {
    "duration": 6679,
    "start_time": "2021-11-30T23:13:51.730Z"
   },
   {
    "duration": 3,
    "start_time": "2021-11-30T23:13:58.412Z"
   },
   {
    "duration": 111,
    "start_time": "2021-11-30T23:13:58.418Z"
   },
   {
    "duration": 5,
    "start_time": "2021-11-30T23:14:04.429Z"
   },
   {
    "duration": 8258,
    "start_time": "2021-11-30T23:14:04.610Z"
   },
   {
    "duration": 122,
    "start_time": "2021-11-30T23:14:12.871Z"
   },
   {
    "duration": 7,
    "start_time": "2021-11-30T23:14:31.087Z"
   },
   {
    "duration": 6,
    "start_time": "2021-11-30T23:14:31.708Z"
   },
   {
    "duration": 6,
    "start_time": "2021-11-30T23:14:32.227Z"
   },
   {
    "duration": 8,
    "start_time": "2021-11-30T23:14:32.867Z"
   },
   {
    "duration": 3143,
    "start_time": "2021-11-30T23:14:34.314Z"
   },
   {
    "duration": 2672,
    "start_time": "2021-11-30T23:14:37.469Z"
   },
   {
    "duration": 2033,
    "start_time": "2021-11-30T23:14:40.145Z"
   },
   {
    "duration": 189,
    "start_time": "2021-12-01T08:42:57.256Z"
   },
   {
    "duration": 92,
    "start_time": "2021-12-01T08:43:14.441Z"
   },
   {
    "duration": 104,
    "start_time": "2021-12-01T08:43:25.702Z"
   },
   {
    "duration": 9,
    "start_time": "2021-12-01T08:44:36.368Z"
   },
   {
    "duration": 1649,
    "start_time": "2021-12-01T08:45:00.307Z"
   },
   {
    "duration": 6,
    "start_time": "2021-12-01T08:45:01.958Z"
   },
   {
    "duration": 3283,
    "start_time": "2021-12-01T08:45:01.967Z"
   },
   {
    "duration": 1318,
    "start_time": "2021-12-01T08:45:05.253Z"
   },
   {
    "duration": 1391,
    "start_time": "2021-12-01T08:45:06.573Z"
   },
   {
    "duration": 1425,
    "start_time": "2021-12-01T08:45:07.966Z"
   },
   {
    "duration": 3436,
    "start_time": "2021-12-01T08:45:09.393Z"
   },
   {
    "duration": 6,
    "start_time": "2021-12-01T08:45:12.832Z"
   },
   {
    "duration": 47,
    "start_time": "2021-12-01T08:45:12.841Z"
   },
   {
    "duration": 66,
    "start_time": "2021-12-01T08:45:12.891Z"
   },
   {
    "duration": 40,
    "start_time": "2021-12-01T08:45:12.960Z"
   },
   {
    "duration": 45,
    "start_time": "2021-12-01T08:45:13.002Z"
   },
   {
    "duration": 105,
    "start_time": "2021-12-01T08:45:13.132Z"
   },
   {
    "duration": 102,
    "start_time": "2021-12-01T08:45:13.240Z"
   },
   {
    "duration": 111,
    "start_time": "2021-12-01T08:45:13.432Z"
   },
   {
    "duration": 19,
    "start_time": "2021-12-01T08:45:13.546Z"
   },
   {
    "duration": 102,
    "start_time": "2021-12-01T08:45:13.631Z"
   },
   {
    "duration": 28,
    "start_time": "2021-12-01T08:45:13.736Z"
   },
   {
    "duration": 78,
    "start_time": "2021-12-01T08:45:13.766Z"
   },
   {
    "duration": 102,
    "start_time": "2021-12-01T08:45:13.933Z"
   },
   {
    "duration": 16,
    "start_time": "2021-12-01T08:45:14.037Z"
   },
   {
    "duration": 17,
    "start_time": "2021-12-01T08:45:14.055Z"
   },
   {
    "duration": 52,
    "start_time": "2021-12-01T08:45:14.077Z"
   },
   {
    "duration": 6,
    "start_time": "2021-12-01T08:45:14.133Z"
   },
   {
    "duration": 1438,
    "start_time": "2021-12-01T08:45:14.141Z"
   },
   {
    "duration": 1500,
    "start_time": "2021-12-01T08:45:15.582Z"
   },
   {
    "duration": 1448,
    "start_time": "2021-12-01T08:45:17.085Z"
   },
   {
    "duration": 1082,
    "start_time": "2021-12-01T08:45:18.535Z"
   },
   {
    "duration": 1036,
    "start_time": "2021-12-01T08:45:19.619Z"
   },
   {
    "duration": 1124,
    "start_time": "2021-12-01T08:45:20.657Z"
   },
   {
    "duration": 46,
    "start_time": "2021-12-01T08:45:21.783Z"
   },
   {
    "duration": 26,
    "start_time": "2021-12-01T08:45:21.831Z"
   },
   {
    "duration": 69,
    "start_time": "2021-12-01T08:45:21.860Z"
   },
   {
    "duration": 43,
    "start_time": "2021-12-01T08:45:21.931Z"
   },
   {
    "duration": 66,
    "start_time": "2021-12-01T08:45:21.976Z"
   },
   {
    "duration": 5,
    "start_time": "2021-12-01T08:45:22.044Z"
   },
   {
    "duration": 6913,
    "start_time": "2021-12-01T08:45:22.051Z"
   },
   {
    "duration": 4,
    "start_time": "2021-12-01T08:45:28.966Z"
   },
   {
    "duration": 105,
    "start_time": "2021-12-01T08:45:28.973Z"
   },
   {
    "duration": 5,
    "start_time": "2021-12-01T08:45:29.080Z"
   },
   {
    "duration": 4925,
    "start_time": "2021-12-01T08:45:29.087Z"
   },
   {
    "duration": 87,
    "start_time": "2021-12-01T08:45:34.014Z"
   },
   {
    "duration": 5,
    "start_time": "2021-12-01T08:45:34.103Z"
   },
   {
    "duration": 19,
    "start_time": "2021-12-01T08:45:34.110Z"
   },
   {
    "duration": 5,
    "start_time": "2021-12-01T08:45:34.132Z"
   },
   {
    "duration": 8,
    "start_time": "2021-12-01T08:45:34.140Z"
   },
   {
    "duration": 2015,
    "start_time": "2021-12-01T08:45:34.150Z"
   },
   {
    "duration": 1931,
    "start_time": "2021-12-01T08:45:36.167Z"
   },
   {
    "duration": 1931,
    "start_time": "2021-12-01T08:45:38.101Z"
   },
   {
    "duration": 597,
    "start_time": "2021-12-01T08:45:40.035Z"
   },
   {
    "duration": 98,
    "start_time": "2021-12-01T08:45:40.636Z"
   },
   {
    "duration": 2464,
    "start_time": "2021-12-01T08:45:40.737Z"
   },
   {
    "duration": 7,
    "start_time": "2021-12-01T08:45:43.203Z"
   },
   {
    "duration": 19,
    "start_time": "2021-12-01T08:45:43.212Z"
   },
   {
    "duration": 25,
    "start_time": "2021-12-01T08:45:43.234Z"
   },
   {
    "duration": 15,
    "start_time": "2021-12-01T08:45:43.261Z"
   },
   {
    "duration": 127,
    "start_time": "2021-12-01T08:45:43.278Z"
   },
   {
    "duration": 1865,
    "start_time": "2021-12-01T08:49:31.772Z"
   },
   {
    "duration": 8,
    "start_time": "2021-12-01T08:50:44.479Z"
   },
   {
    "duration": 1938,
    "start_time": "2021-12-01T08:50:45.463Z"
   }
  ],
  "kernelspec": {
   "display_name": "Python 3",
   "language": "python",
   "name": "python3"
  },
  "language_info": {
   "codemirror_mode": {
    "name": "ipython",
    "version": 3
   },
   "file_extension": ".py",
   "mimetype": "text/x-python",
   "name": "python",
   "nbconvert_exporter": "python",
   "pygments_lexer": "ipython3",
   "version": "3.8.5"
  },
  "toc": {
   "base_numbering": 1,
   "nav_menu": {},
   "number_sections": true,
   "sideBar": true,
   "skip_h1_title": false,
   "title_cell": "Table of Contents",
   "title_sidebar": "Contents",
   "toc_cell": true,
   "toc_position": {
    "height": "calc(100% - 180px)",
    "left": "10px",
    "top": "150px",
    "width": "320px"
   },
   "toc_section_display": true,
   "toc_window_display": true
  }
 },
 "nbformat": 4,
 "nbformat_minor": 4
}
