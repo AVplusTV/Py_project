{
 "cells": [
  {
   "cell_type": "markdown",
   "metadata": {
    "toc": true
   },
   "source": [
    "<h1>Table of Contents<span class=\"tocSkip\"></span></h1>\n",
    "<div class=\"toc\"><ul class=\"toc-item\"><li><span><a href=\"#Исследование-данных-Компании-«Мегалайн»\" data-toc-modified-id=\"Исследование-данных-Компании-«Мегалайн»-1\"><span class=\"toc-item-num\">1&nbsp;&nbsp;</span>Исследование данных Компании «Мегалайн»</a></span><ul class=\"toc-item\"><li><span><a href=\"#Открываем-файлы-с-данными-и-анализируем-содержимое,-особенно-на-предмет-возможности-объединения-данных-в-одну-таблицу.\" data-toc-modified-id=\"Открываем-файлы-с-данными-и-анализируем-содержимое,-особенно-на-предмет-возможности-объединения-данных-в-одну-таблицу.-1.1\"><span class=\"toc-item-num\">1.1&nbsp;&nbsp;</span>Открываем файлы с данными и анализируем содержимое, особенно на предмет возможности объединения данных в одну таблицу.</a></span></li><li><span><a href=\"#calls.csv---информация-о-звонках\" data-toc-modified-id=\"calls.csv---информация-о-звонках-1.2\"><span class=\"toc-item-num\">1.2&nbsp;&nbsp;</span>calls.csv - информация о звонках</a></span></li><li><span><a href=\"#internet.csv---информация-об-интернет-сессиях\" data-toc-modified-id=\"internet.csv---информация-об-интернет-сессиях-1.3\"><span class=\"toc-item-num\">1.3&nbsp;&nbsp;</span>internet.csv - информация об интернет-сессиях</a></span></li><li><span><a href=\"#messages.csv---информация-о-сообщениях\" data-toc-modified-id=\"messages.csv---информация-о-сообщениях-1.4\"><span class=\"toc-item-num\">1.4&nbsp;&nbsp;</span>messages.csv - информация о сообщениях</a></span></li><li><span><a href=\"#tariffs.csv---информация-о-тарифах\" data-toc-modified-id=\"tariffs.csv---информация-о-тарифах-1.5\"><span class=\"toc-item-num\">1.5&nbsp;&nbsp;</span>tariffs.csv - информация о тарифах</a></span></li><li><span><a href=\"#users.csv---информация-о-пользователях\" data-toc-modified-id=\"users.csv---информация-о-пользователях-1.6\"><span class=\"toc-item-num\">1.6&nbsp;&nbsp;</span>users.csv - информация о пользователях</a></span></li></ul></li><li><span><a href=\"#Предобработка-данных-таблиц\" data-toc-modified-id=\"Предобработка-данных-таблиц-2\"><span class=\"toc-item-num\">2&nbsp;&nbsp;</span>Предобработка данных таблиц</a></span><ul class=\"toc-item\"><li><span><a href=\"#Преобразования-таблицы-df_calls\" data-toc-modified-id=\"Преобразования-таблицы-df_calls-2.1\"><span class=\"toc-item-num\">2.1&nbsp;&nbsp;</span>Преобразования таблицы df_calls</a></span></li><li><span><a href=\"#Преобразования-таблицы-df_internet\" data-toc-modified-id=\"Преобразования-таблицы-df_internet-2.2\"><span class=\"toc-item-num\">2.2&nbsp;&nbsp;</span>Преобразования таблицы df_internet</a></span></li><li><span><a href=\"#Преобразования-таблицы-df_messages\" data-toc-modified-id=\"Преобразования-таблицы-df_messages-2.3\"><span class=\"toc-item-num\">2.3&nbsp;&nbsp;</span>Преобразования таблицы df_messages</a></span></li><li><span><a href=\"#Преобразования-таблицы-df_users\" data-toc-modified-id=\"Преобразования-таблицы-df_users-2.4\"><span class=\"toc-item-num\">2.4&nbsp;&nbsp;</span>Преобразования таблицы df_users</a></span></li></ul></li><li><span><a href=\"#Расчеты-для-каждого-пользователя\" data-toc-modified-id=\"Расчеты-для-каждого-пользователя-3\"><span class=\"toc-item-num\">3&nbsp;&nbsp;</span>Расчеты для каждого пользователя</a></span><ul class=\"toc-item\"><li><span><a href=\"#Количество-сделанных-звонков-и-израсходованных-минут-разговора-по-месяцам\" data-toc-modified-id=\"Количество-сделанных-звонков-и-израсходованных-минут-разговора-по-месяцам-3.1\"><span class=\"toc-item-num\">3.1&nbsp;&nbsp;</span>Количество сделанных звонков и израсходованных минут разговора по месяцам</a></span></li><li><span><a href=\"#Количество-отправленных-сообщений-по-месяцам\" data-toc-modified-id=\"Количество-отправленных-сообщений-по-месяцам-3.2\"><span class=\"toc-item-num\">3.2&nbsp;&nbsp;</span>Количество отправленных сообщений по месяцам</a></span></li><li><span><a href=\"#Объем-израсходованного-интернет-трафика-по-месяцам\" data-toc-modified-id=\"Объем-израсходованного-интернет-трафика-по-месяцам-3.3\"><span class=\"toc-item-num\">3.3&nbsp;&nbsp;</span>Объем израсходованного интернет-трафика по месяцам</a></span></li></ul></li><li><span><a href=\"#Объединение-всех-таблиц-расчетов-и-таблицы-информации-о-пользователях\" data-toc-modified-id=\"Объединение-всех-таблиц-расчетов-и-таблицы-информации-о-пользователях-4\"><span class=\"toc-item-num\">4&nbsp;&nbsp;</span>Объединение всех таблиц расчетов и таблицы информации о пользователях</a></span><ul class=\"toc-item\"><li><span><a href=\"#Объединяю-таблицы-звонки-и-сообщения\" data-toc-modified-id=\"Объединяю-таблицы-звонки-и-сообщения-4.1\"><span class=\"toc-item-num\">4.1&nbsp;&nbsp;</span>Объединяю таблицы звонки и сообщения</a></span></li><li><span><a href=\"#Объединяю-таблицы-звонки,-сообщения-и-интернет\" data-toc-modified-id=\"Объединяю-таблицы-звонки,-сообщения-и-интернет-4.2\"><span class=\"toc-item-num\">4.2&nbsp;&nbsp;</span>Объединяю таблицы звонки, сообщения и интернет</a></span></li><li><span><a href=\"#Объединяю-таблицы-звонки,-сообщения,-интернет-и-информацию-о-пользователях\" data-toc-modified-id=\"Объединяю-таблицы-звонки,-сообщения,-интернет-и-информацию-о-пользователях-4.3\"><span class=\"toc-item-num\">4.3&nbsp;&nbsp;</span>Объединяю таблицы звонки, сообщения, интернет и информацию о пользователях</a></span></li><li><span><a href=\"#Преобразование-объедененной-таблицы\" data-toc-modified-id=\"Преобразование-объедененной-таблицы-4.4\"><span class=\"toc-item-num\">4.4&nbsp;&nbsp;</span>Преобразование объедененной таблицы</a></span></li><li><span><a href=\"#Помесячная-выручка-с-каждого-пользователя\" data-toc-modified-id=\"Помесячная-выручка-с-каждого-пользователя-4.5\"><span class=\"toc-item-num\">4.5&nbsp;&nbsp;</span>Помесячная выручка с каждого пользователя</a></span></li></ul></li><li><span><a href=\"#Проанализируем-данные-из-полученной-таблицы\" data-toc-modified-id=\"Проанализируем-данные-из-полученной-таблицы-5\"><span class=\"toc-item-num\">5&nbsp;&nbsp;</span>Проанализируем данные из полученной таблицы</a></span><ul class=\"toc-item\"><li><span><a href=\"#Сколько-минут-разговора-требуется-пользователям-каждого-тарифа-в-месяц\" data-toc-modified-id=\"Сколько-минут-разговора-требуется-пользователям-каждого-тарифа-в-месяц-5.1\"><span class=\"toc-item-num\">5.1&nbsp;&nbsp;</span>Сколько минут разговора требуется пользователям каждого тарифа в месяц</a></span></li><li><span><a href=\"#Сколько-сообщений-требуется-пользователям-каждого-тарифа-в-месяц\" data-toc-modified-id=\"Сколько-сообщений-требуется-пользователям-каждого-тарифа-в-месяц-5.2\"><span class=\"toc-item-num\">5.2&nbsp;&nbsp;</span>Сколько сообщений требуется пользователям каждого тарифа в месяц</a></span></li><li><span><a href=\"#Сколько-мегабайт-требуется-пользователям-каждого-тарифа-в-месяц\" data-toc-modified-id=\"Сколько-мегабайт-требуется-пользователям-каждого-тарифа-в-месяц-5.3\"><span class=\"toc-item-num\">5.3&nbsp;&nbsp;</span>Сколько мегабайт требуется пользователям каждого тарифа в месяц</a></span></li><li><span><a href=\"#Общая-таблица-для-удобного-представления-и-сравнения-результатов-по-тарифам\" data-toc-modified-id=\"Общая-таблица-для-удобного-представления-и-сравнения-результатов-по-тарифам-5.4\"><span class=\"toc-item-num\">5.4&nbsp;&nbsp;</span>Общая таблица для удобного представления и сравнения результатов по тарифам</a></span></li><li><span><a href=\"#Анализ-выручки-с-пользователей-разных-тарифов\" data-toc-modified-id=\"Анализ-выручки-с-пользователей-разных-тарифов-5.5\"><span class=\"toc-item-num\">5.5&nbsp;&nbsp;</span>Анализ выручки с пользователей разных тарифов</a></span></li></ul></li><li><span><a href=\"#Проверим-гипотезы:-средняя-выручка-пользователей-тарифов-«Ультра»-и-«Смарт»-различаются;-средняя-выручка-пользователи-из-Москвы-отличается-от-выручки-пользователей-из-других-регионов.\" data-toc-modified-id=\"Проверим-гипотезы:-средняя-выручка-пользователей-тарифов-«Ультра»-и-«Смарт»-различаются;-средняя-выручка-пользователи-из-Москвы-отличается-от-выручки-пользователей-из-других-регионов.-6\"><span class=\"toc-item-num\">6&nbsp;&nbsp;</span>Проверим гипотезы: средняя выручка пользователей тарифов «Ультра» и «Смарт» различаются; средняя выручка пользователи из Москвы отличается от выручки пользователей из других регионов.</a></span><ul class=\"toc-item\"><li><span><a href=\"#Нулевая-гипотеза:-средняя-выручка-пользователей-тарифов-«Ультра»-и-«Смарт»-различаются\" data-toc-modified-id=\"Нулевая-гипотеза:-средняя-выручка-пользователей-тарифов-«Ультра»-и-«Смарт»-различаются-6.1\"><span class=\"toc-item-num\">6.1&nbsp;&nbsp;</span>Нулевая гипотеза: средняя выручка пользователей тарифов «Ультра» и «Смарт» различаются</a></span></li><li><span><a href=\"#Нулевая-гипотеза:-средняя-выручка-пользователи-из-Москвы-отличается-от-выручки-пользователей-из-других-регионов\" data-toc-modified-id=\"Нулевая-гипотеза:-средняя-выручка-пользователи-из-Москвы-отличается-от-выручки-пользователей-из-других-регионов-6.2\"><span class=\"toc-item-num\">6.2&nbsp;&nbsp;</span>Нулевая гипотеза: средняя выручка пользователи из Москвы отличается от выручки пользователей из других регионов</a></span></li><li><span><a href=\"#Нулевая-гипотеза:-молодое-поколение-использует-больше-интернет-трафика,-чем-люди-старшего-возраста\" data-toc-modified-id=\"Нулевая-гипотеза:-молодое-поколение-использует-больше-интернет-трафика,-чем-люди-старшего-возраста-6.3\"><span class=\"toc-item-num\">6.3&nbsp;&nbsp;</span>Нулевая гипотеза: молодое поколение использует больше интернет трафика, чем люди старшего возраста</a></span></li><li><span><a href=\"#Нулевая-гипотеза:-молодое-поколение-использует-больше-минут-разговоров,-чем-люди-старшего-возраста\" data-toc-modified-id=\"Нулевая-гипотеза:-молодое-поколение-использует-больше-минут-разговоров,-чем-люди-старшего-возраста-6.4\"><span class=\"toc-item-num\">6.4&nbsp;&nbsp;</span>Нулевая гипотеза: молодое поколение использует больше минут разговоров, чем люди старшего возраста</a></span></li><li><span><a href=\"#Нулевая-гипотеза:-молодое-поколение-использует-меньше-смс-сообщений,-чем-люди-старшего-возраста\" data-toc-modified-id=\"Нулевая-гипотеза:-молодое-поколение-использует-меньше-смс-сообщений,-чем-люди-старшего-возраста-6.5\"><span class=\"toc-item-num\">6.5&nbsp;&nbsp;</span>Нулевая гипотеза: молодое поколение использует меньше смс сообщений, чем люди старшего возраста</a></span></li></ul></li><li><span><a href=\"#Выводы-из-исследования\" data-toc-modified-id=\"Выводы-из-исследования-7\"><span class=\"toc-item-num\">7&nbsp;&nbsp;</span>Выводы из исследования</a></span></li></ul></div>"
   ]
  },
  {
   "cell_type": "markdown",
   "metadata": {},
   "source": [
    "<div style=\"border:solid purple 2px; padding: 20px\">\n",
    "    \n",
    "Роман привет! 👋 Меня зовут Рустам и мы уже знакомы, я проверял твою первую работу) Коротко обозначу вступление, я оставил комментарии, разных цветов, обрати в первую очередь на красные (если они будут 😊). Свои изменения прошу как-то выделять и также прошу не перемещать и не удалять мои комментарии. Про лайхаки ты уже знаешь)\n",
    "    \n",
    "Мне понравился твой проект, как и прошлый)))) После того, как ты все доработаешь (исправлять почти нечего), я смогу его принять!\n",
    "\n",
    "</div>"
   ]
  },
  {
   "cell_type": "markdown",
   "metadata": {},
   "source": [
    "<div class=\"alert alert-success\">\n",
    "<h2> Комментарий ревьюера v3 <a class=\"tocSkip\"> </h2>\n",
    "\n",
    "Спасибо за твоё терпение, ты справился со всеми критическими комментариями! Я надеюсь, что ты учтешь мои комментарии и советы в будущих проектах) Я принимаю твой проект и желаю удачи в прохождении курса!\n",
    "\n",
    "</div>\n"
   ]
  },
  {
   "cell_type": "markdown",
   "metadata": {},
   "source": [
    "Привет Рустам!\n",
    "<div class=\"alert alert-info\">\n",
    "<b>Комментарий выделю начало и конец или само добавление:</b> выделяется синим цветом. </div>"
   ]
  },
  {
   "cell_type": "markdown",
   "metadata": {},
   "source": [
    "The version of the notebook server is: 6.1.4\n",
    "\n",
    "The server is running on this version of Python: Python 3.8.5\n",
    "\n",
    "OS Windows 10 Home\n",
    "\n",
    "Configurable nbextensions Table of Contents (2) compatibility: 4.x, 5.x (https://www.codegrepper.com/code-examples/shell/install+toc2+jupyter+notebook)"
   ]
  },
  {
   "cell_type": "markdown",
   "metadata": {},
   "source": [
    "Компания <b>«Мегалайн» — федеральный оператор сотовой связи</b>, предлагает своим клиентам два тарифных плана: «Смарт» и «Ультра». Чтобы скорректировать рекламный бюджет, коммерческий департамент хочет понять, какой тариф приносит больше денег.\n",
    "\n",
    "Нобходимо сделать предварительный анализ тарифов на небольшой выборке клиентов. В вашем распоряжении данные 500 пользователей «Мегалайна»: кто они, откуда, каким тарифом пользуются, сколько звонков и сообщений каждый отправил за 2018 год. Нужно проанализировать поведение клиентов и сделать вывод — какой тариф лучше.\n",
    "\n",
    "<b>Описание тарифов</b>:\n",
    "\n",
    "Тариф «Смарт»\n",
    "Ежемесячная плата: 550 рублей\n",
    "Включено 500 минут разговора, 50 сообщений и 15 Гб интернет-трафика\n",
    "Стоимость услуг сверх тарифного пакета: 1. минута разговора: 3 рубля («Мегалайн» всегда округляет вверх значения минут и мегабайтов. Если пользователь проговорил всего 1 секунду, в тарифе засчитывается целая минута); 2. сообщение: 3 рубля; 3. 1 Гб интернет-трафика: 200 рублей.\n",
    "\n",
    "Тариф «Ультра»\n",
    "Ежемесячная плата: 1950 рублей\n",
    "Включено 3000 минут разговора, 1000 сообщений и 30 Гб интернет-трафика\n",
    "Стоимость услуг сверх тарифного пакета: 1. минута разговора: 1 рубль; 2. сообщение: 1 рубль; 3. 1 Гб интернет-трафика: 150 рублей.\n",
    "\n",
    "<b>Примечание:</b>\n",
    "«Мегалайн» всегда округляет секунды до минут, а мегабайты — до гигабайт. Каждый звонок округляется отдельно: даже если он длился всего 1 секунду, будет засчитан как 1 минута.\n",
    "Для веб-трафика отдельные сессии не считаются. Вместо этого общая сумма за месяц округляется в бо́льшую сторону. Если абонент использует 1025 мегабайт в этом месяце, с него возьмут плату за 2 гигабайта."
   ]
  },
  {
   "cell_type": "code",
   "execution_count": 1,
   "metadata": {},
   "outputs": [],
   "source": [
    "import pandas as pd # импорт библиотеки pandas\n",
    "import matplotlib.pyplot as plt # импорт библиотеки работы с графиками\n",
    "import numpy as np # импорт библиотеки для вычислений\n",
    "import math # импорт библиотеки для вычислений\n",
    "from scipy import stats as st # импорт библиотеки статистики\n",
    "import warnings\n",
    "warnings.filterwarnings('ignore') # отключаем сообщения об ошибках pandas\n",
    "pd.set_option('display.max_columns', None) # Сброс ограничений на число выводимых столбцов"
   ]
  },
  {
   "cell_type": "markdown",
   "metadata": {},
   "source": [
    "## Исследование данных Компании «Мегалайн»"
   ]
  },
  {
   "cell_type": "markdown",
   "metadata": {},
   "source": [
    "### Открываем файлы с данными и анализируем содержимое, особенно на предмет возможности объединения данных в одну таблицу.\n",
    "\n",
    "От компании «Мегалайн» поступили следующие файлы:\n",
    "\n",
    "* calls.csv - информация о звонках\n",
    "\n",
    "* internet.csv - информация об интернет-сессиях\n",
    "\n",
    "* messages.csv - информация о сообщениях\n",
    "\n",
    "* tariffs.csv - информация о тарифах\n",
    "\n",
    "* users.csv  - информация о пользователях"
   ]
  },
  {
   "cell_type": "markdown",
   "metadata": {},
   "source": [
    "Чтение файлов с данными и сохранение в датафреймы"
   ]
  },
  {
   "cell_type": "code",
   "execution_count": 2,
   "metadata": {},
   "outputs": [],
   "source": [
    "# df_calls = pd.read_csv('datasets/calls.csv')"
   ]
  },
  {
   "cell_type": "markdown",
   "metadata": {},
   "source": [
    "<div class=\"alert alert-danger\">\n",
    "<h2> Комментарий ревьюера <a class=\"tocSkip\"> </h2>\n",
    "\n",
    "Вот здесь вышла ошибка 👆 Кажется, ты выполнял проект локально и не поменял пути к файлам на общедоступные. Рекомендую тебе использовать конструкцию `try-except` для путей файлов. Например: Try - пути на локальном компьютере, except - пути на сервере. Тогда твой проект будет всегда работать и локально, и в тренажере. По правилам я должен вернуть такой проект на доработку. Я внес исправления, но будь внимательней в следующий раз.\n",
    "\n",
    "</div>"
   ]
  },
  {
   "cell_type": "markdown",
   "metadata": {},
   "source": [
    "<div class=\"alert alert-info\">\n",
    "<b>Комментарий</b> Да поэтому и написал в шапке типа requirements - так как онлайн и локально в win10 отличается слешем '/' </div>"
   ]
  },
  {
   "cell_type": "markdown",
   "metadata": {},
   "source": [
    "<div class=\"alert alert-success\">\n",
    "<h2> Комментарий ревьюера v2 <a class=\"tocSkip\"> </h2>\n",
    "\n",
    "Видел) Сейчас хаб ЯП имитируается как заказчик, поэтому нужно добиваться работоспособности кода именно на платформе"
   ]
  },
  {
   "cell_type": "code",
   "execution_count": 2,
   "metadata": {},
   "outputs": [],
   "source": [
    "    def read_csv(link):\n",
    "        link1 = 'datasets/'+link\n",
    "        link2 = '/datasets/'+link\n",
    "        try:\n",
    "            name_link = pd.read_csv(link1)\n",
    "        except:\n",
    "            name_link = pd.read_csv(link2)\n",
    "        return name_link"
   ]
  },
  {
   "cell_type": "code",
   "execution_count": 3,
   "metadata": {},
   "outputs": [],
   "source": [
    "df_calls = read_csv('calls.csv')\n",
    "df_internet = read_csv('internet.csv')\n",
    "df_messages = read_csv('messages.csv')\n",
    "df_tariffs = read_csv('tariffs.csv')\n",
    "df_users = read_csv('users.csv')"
   ]
  },
  {
   "cell_type": "markdown",
   "metadata": {},
   "source": [
    "<div class=\"alert alert-info\">\n",
    "<b>Комментарий</b> Хотел написать цикл для считывания кучи файлов csv с конструкцией try except и разными вариантами линка\n",
    "\n",
    "    <b>Но непойму почему цикл не работает - точнее он работает внутри себя, но наружу не выдает df_calls и др, или выдает что то другое?\n",
    "        \n",
    "        \n",
    "<b> Ниже в лоб написал try except \n",
    "</div>"
   ]
  },
  {
   "cell_type": "markdown",
   "metadata": {},
   "source": [
    "<div class=\"alert alert-success\">\n",
    "<h2> Комментарий ревьюера v2 <a class=\"tocSkip\"> </h2>\n",
    "\n",
    "Да, это особенность питона, по фатку, ты каждый раз переписывал переменную name_link, а не определял датафреймы"
   ]
  },
  {
   "cell_type": "markdown",
   "metadata": {},
   "source": [
    "<div class=\"alert alert-success\">\n",
    "<h2> Комментарий ревьюера v3 <a class=\"tocSkip\"> </h2>\n",
    "\n",
    "Отличный выход их ситуации"
   ]
  },
  {
   "cell_type": "markdown",
   "metadata": {},
   "source": [
    "<div class=\"alert alert-info\">\n",
    "<b>Комментарий V2</b> Да потом к вечеру я понял что происходит в этом коде. и реально у меня появляется только табица name_link.\n",
    "    переработал в функцию результатом вывода которого таблица name_link и присваивание уже другим df\n",
    "</div>"
   ]
  },
  {
   "cell_type": "markdown",
   "metadata": {},
   "source": [
    "try:\n",
    "    df_calls = pd.read_csv('datasets/calls.csv')\n",
    "    df_internet = pd.read_csv('datasets/internet.csv')\n",
    "    df_messages = pd.read_csv('datasets/messages.csv')\n",
    "    df_tariffs = pd.read_csv('datasets/tariffs.csv')\n",
    "    df_users = pd.read_csv('datasets/users.csv')\n",
    "except:\n",
    "    df_calls = pd.read_csv('https://code.s3.yandex.net/datasets/calls.csv')\n",
    "    df_internet = pd.read_csv('https://code.s3.yandex.net/datasets/internet.csv')\n",
    "    df_messages = pd.read_csv('https://code.s3.yandex.net/datasets/messages.csv')\n",
    "    df_tariffs = pd.read_csv('https://code.s3.yandex.net/datasets/tariffs.csv')\n",
    "    df_users = pd.read_csv('https://code.s3.yandex.net/datasets/users.csv')\n",
    "    "
   ]
  },
  {
   "cell_type": "code",
   "execution_count": 5,
   "metadata": {},
   "outputs": [],
   "source": [
    "# df_internet = pd.read_csv('datasets/internet.csv')"
   ]
  },
  {
   "cell_type": "code",
   "execution_count": 6,
   "metadata": {},
   "outputs": [],
   "source": [
    "# df_messages = pd.read_csv('datasets/messages.csv')"
   ]
  },
  {
   "cell_type": "code",
   "execution_count": 7,
   "metadata": {},
   "outputs": [],
   "source": [
    "# df_tariffs = pd.read_csv('datasets/tariffs.csv')"
   ]
  },
  {
   "cell_type": "code",
   "execution_count": 8,
   "metadata": {},
   "outputs": [],
   "source": [
    "# df_users = pd.read_csv('datasets/users.csv')"
   ]
  },
  {
   "cell_type": "code",
   "execution_count": 9,
   "metadata": {},
   "outputs": [],
   "source": [
    "#df_calls = pd.read_csv('https://code.s3.yandex.net/datasets/calls.csv')\n",
    "#df_internet = pd.read_csv('https://code.s3.yandex.net/datasets/internet.csv')\n",
    "#df_messages = pd.read_csv('https://code.s3.yandex.net/datasets/messages.csv')\n",
    "#df_tariffs = pd.read_csv('https://code.s3.yandex.net/datasets/tariffs.csv')\n",
    "#df_users = pd.read_csv('https://code.s3.yandex.net/datasets/users.csv')"
   ]
  },
  {
   "cell_type": "markdown",
   "metadata": {},
   "source": [
    "Просмотрим информацию по этим таблицам и содержимое.\n",
    "\n",
    "Проведем анализ содержащейся информации."
   ]
  },
  {
   "cell_type": "markdown",
   "metadata": {},
   "source": [
    "### calls.csv - информация о звонках"
   ]
  },
  {
   "cell_type": "code",
   "execution_count": 4,
   "metadata": {},
   "outputs": [
    {
     "name": "stdout",
     "output_type": "stream",
     "text": [
      "<class 'pandas.core.frame.DataFrame'>\n",
      "RangeIndex: 202607 entries, 0 to 202606\n",
      "Data columns (total 4 columns):\n",
      " #   Column     Non-Null Count   Dtype  \n",
      "---  ------     --------------   -----  \n",
      " 0   id         202607 non-null  object \n",
      " 1   call_date  202607 non-null  object \n",
      " 2   duration   202607 non-null  float64\n",
      " 3   user_id    202607 non-null  int64  \n",
      "dtypes: float64(1), int64(1), object(2)\n",
      "memory usage: 6.2+ MB\n"
     ]
    },
    {
     "data": {
      "text/html": [
       "<div>\n",
       "<style scoped>\n",
       "    .dataframe tbody tr th:only-of-type {\n",
       "        vertical-align: middle;\n",
       "    }\n",
       "\n",
       "    .dataframe tbody tr th {\n",
       "        vertical-align: top;\n",
       "    }\n",
       "\n",
       "    .dataframe thead th {\n",
       "        text-align: right;\n",
       "    }\n",
       "</style>\n",
       "<table border=\"1\" class=\"dataframe\">\n",
       "  <thead>\n",
       "    <tr style=\"text-align: right;\">\n",
       "      <th></th>\n",
       "      <th>id</th>\n",
       "      <th>call_date</th>\n",
       "      <th>duration</th>\n",
       "      <th>user_id</th>\n",
       "    </tr>\n",
       "  </thead>\n",
       "  <tbody>\n",
       "    <tr>\n",
       "      <th>0</th>\n",
       "      <td>1000_0</td>\n",
       "      <td>2018-07-25</td>\n",
       "      <td>0.00</td>\n",
       "      <td>1000</td>\n",
       "    </tr>\n",
       "    <tr>\n",
       "      <th>1</th>\n",
       "      <td>1000_1</td>\n",
       "      <td>2018-08-17</td>\n",
       "      <td>0.00</td>\n",
       "      <td>1000</td>\n",
       "    </tr>\n",
       "    <tr>\n",
       "      <th>2</th>\n",
       "      <td>1000_2</td>\n",
       "      <td>2018-06-11</td>\n",
       "      <td>2.85</td>\n",
       "      <td>1000</td>\n",
       "    </tr>\n",
       "    <tr>\n",
       "      <th>3</th>\n",
       "      <td>1000_3</td>\n",
       "      <td>2018-09-21</td>\n",
       "      <td>13.80</td>\n",
       "      <td>1000</td>\n",
       "    </tr>\n",
       "    <tr>\n",
       "      <th>4</th>\n",
       "      <td>1000_4</td>\n",
       "      <td>2018-12-15</td>\n",
       "      <td>5.18</td>\n",
       "      <td>1000</td>\n",
       "    </tr>\n",
       "    <tr>\n",
       "      <th>...</th>\n",
       "      <td>...</td>\n",
       "      <td>...</td>\n",
       "      <td>...</td>\n",
       "      <td>...</td>\n",
       "    </tr>\n",
       "    <tr>\n",
       "      <th>202602</th>\n",
       "      <td>1499_215</td>\n",
       "      <td>2018-12-26</td>\n",
       "      <td>0.76</td>\n",
       "      <td>1499</td>\n",
       "    </tr>\n",
       "    <tr>\n",
       "      <th>202603</th>\n",
       "      <td>1499_216</td>\n",
       "      <td>2018-10-18</td>\n",
       "      <td>18.83</td>\n",
       "      <td>1499</td>\n",
       "    </tr>\n",
       "    <tr>\n",
       "      <th>202604</th>\n",
       "      <td>1499_217</td>\n",
       "      <td>2018-11-10</td>\n",
       "      <td>10.81</td>\n",
       "      <td>1499</td>\n",
       "    </tr>\n",
       "    <tr>\n",
       "      <th>202605</th>\n",
       "      <td>1499_218</td>\n",
       "      <td>2018-10-06</td>\n",
       "      <td>4.27</td>\n",
       "      <td>1499</td>\n",
       "    </tr>\n",
       "    <tr>\n",
       "      <th>202606</th>\n",
       "      <td>1499_219</td>\n",
       "      <td>2018-12-14</td>\n",
       "      <td>19.62</td>\n",
       "      <td>1499</td>\n",
       "    </tr>\n",
       "  </tbody>\n",
       "</table>\n",
       "<p>202607 rows × 4 columns</p>\n",
       "</div>"
      ],
      "text/plain": [
       "              id   call_date  duration  user_id\n",
       "0         1000_0  2018-07-25      0.00     1000\n",
       "1         1000_1  2018-08-17      0.00     1000\n",
       "2         1000_2  2018-06-11      2.85     1000\n",
       "3         1000_3  2018-09-21     13.80     1000\n",
       "4         1000_4  2018-12-15      5.18     1000\n",
       "...          ...         ...       ...      ...\n",
       "202602  1499_215  2018-12-26      0.76     1499\n",
       "202603  1499_216  2018-10-18     18.83     1499\n",
       "202604  1499_217  2018-11-10     10.81     1499\n",
       "202605  1499_218  2018-10-06      4.27     1499\n",
       "202606  1499_219  2018-12-14     19.62     1499\n",
       "\n",
       "[202607 rows x 4 columns]"
      ]
     },
     "metadata": {},
     "output_type": "display_data"
    }
   ],
   "source": [
    "df_calls.info()\n",
    "display(df_calls)"
   ]
  },
  {
   "cell_type": "markdown",
   "metadata": {},
   "source": [
    "В таблице всего строчек: 202607, пропусков в столбцах нет. Формат названия столбцов верный.\n",
    "\n",
    "<b>Описание столбцов:</b>\n",
    "\n",
    "* <b>id — уникальный номер звонка\n",
    "\n",
    "тип данных object и формат данных (user_id)_(номер_звонка)\n",
    "\n",
    "\n",
    "* <b>call_date — дата звонка\n",
    "\n",
    "тип данных object, явно требуется преобразование в тип данных date\n",
    "\n",
    "\n",
    "* <b>duration — длительность звонка в минутах\n",
    "\n",
    "тип данных float64 верный\n",
    "\n",
    "но с учетом, что «Мегалайн» всегда округляет секунды до минут, то, для расчета оплаченных минут, здесь потребуется добавление нового столбца типа int64 с округлением секунд до минут в сторону большего.\n",
    "\n",
    "примечание: длительность 0.00 секунд означает, что не было ответа на звонок\n",
    "\n",
    "\n",
    "* <b>user_id — идентификатор пользователя, сделавшего звонок\n",
    "\n",
    "тип данных int64 верный\n",
    "    \n",
    "важный для нас столбец, так как по нему будем идентифицировать пользователя\n"
   ]
  },
  {
   "cell_type": "markdown",
   "metadata": {},
   "source": [
    "<div class=\"alert alert-success\">\n",
    "<h2> Комментарий ревьюера <a class=\"tocSkip\"> </h2>\n",
    "\n",
    "Пайплайн первичной обработки можно усилить добавив [describe](https://pandas.pydata.org/pandas-docs/stable/reference/api/pandas.DataFrame.describe.html)"
   ]
  },
  {
   "cell_type": "markdown",
   "metadata": {},
   "source": [
    "### internet.csv - информация об интернет-сессиях"
   ]
  },
  {
   "cell_type": "code",
   "execution_count": 11,
   "metadata": {},
   "outputs": [
    {
     "name": "stdout",
     "output_type": "stream",
     "text": [
      "<class 'pandas.core.frame.DataFrame'>\n",
      "RangeIndex: 149396 entries, 0 to 149395\n",
      "Data columns (total 5 columns):\n",
      "Unnamed: 0      149396 non-null int64\n",
      "id              149396 non-null object\n",
      "mb_used         149396 non-null float64\n",
      "session_date    149396 non-null object\n",
      "user_id         149396 non-null int64\n",
      "dtypes: float64(1), int64(2), object(2)\n",
      "memory usage: 5.7+ MB\n"
     ]
    },
    {
     "data": {
      "text/html": [
       "<div>\n",
       "<style scoped>\n",
       "    .dataframe tbody tr th:only-of-type {\n",
       "        vertical-align: middle;\n",
       "    }\n",
       "\n",
       "    .dataframe tbody tr th {\n",
       "        vertical-align: top;\n",
       "    }\n",
       "\n",
       "    .dataframe thead th {\n",
       "        text-align: right;\n",
       "    }\n",
       "</style>\n",
       "<table border=\"1\" class=\"dataframe\">\n",
       "  <thead>\n",
       "    <tr style=\"text-align: right;\">\n",
       "      <th></th>\n",
       "      <th>Unnamed: 0</th>\n",
       "      <th>id</th>\n",
       "      <th>mb_used</th>\n",
       "      <th>session_date</th>\n",
       "      <th>user_id</th>\n",
       "    </tr>\n",
       "  </thead>\n",
       "  <tbody>\n",
       "    <tr>\n",
       "      <td>0</td>\n",
       "      <td>0</td>\n",
       "      <td>1000_0</td>\n",
       "      <td>112.95</td>\n",
       "      <td>2018-11-25</td>\n",
       "      <td>1000</td>\n",
       "    </tr>\n",
       "    <tr>\n",
       "      <td>1</td>\n",
       "      <td>1</td>\n",
       "      <td>1000_1</td>\n",
       "      <td>1052.81</td>\n",
       "      <td>2018-09-07</td>\n",
       "      <td>1000</td>\n",
       "    </tr>\n",
       "    <tr>\n",
       "      <td>2</td>\n",
       "      <td>2</td>\n",
       "      <td>1000_2</td>\n",
       "      <td>1197.26</td>\n",
       "      <td>2018-06-25</td>\n",
       "      <td>1000</td>\n",
       "    </tr>\n",
       "    <tr>\n",
       "      <td>3</td>\n",
       "      <td>3</td>\n",
       "      <td>1000_3</td>\n",
       "      <td>550.27</td>\n",
       "      <td>2018-08-22</td>\n",
       "      <td>1000</td>\n",
       "    </tr>\n",
       "    <tr>\n",
       "      <td>4</td>\n",
       "      <td>4</td>\n",
       "      <td>1000_4</td>\n",
       "      <td>302.56</td>\n",
       "      <td>2018-09-24</td>\n",
       "      <td>1000</td>\n",
       "    </tr>\n",
       "    <tr>\n",
       "      <td>...</td>\n",
       "      <td>...</td>\n",
       "      <td>...</td>\n",
       "      <td>...</td>\n",
       "      <td>...</td>\n",
       "      <td>...</td>\n",
       "    </tr>\n",
       "    <tr>\n",
       "      <td>149391</td>\n",
       "      <td>149391</td>\n",
       "      <td>1499_152</td>\n",
       "      <td>318.90</td>\n",
       "      <td>2018-10-03</td>\n",
       "      <td>1499</td>\n",
       "    </tr>\n",
       "    <tr>\n",
       "      <td>149392</td>\n",
       "      <td>149392</td>\n",
       "      <td>1499_153</td>\n",
       "      <td>490.13</td>\n",
       "      <td>2018-12-14</td>\n",
       "      <td>1499</td>\n",
       "    </tr>\n",
       "    <tr>\n",
       "      <td>149393</td>\n",
       "      <td>149393</td>\n",
       "      <td>1499_154</td>\n",
       "      <td>0.00</td>\n",
       "      <td>2018-10-27</td>\n",
       "      <td>1499</td>\n",
       "    </tr>\n",
       "    <tr>\n",
       "      <td>149394</td>\n",
       "      <td>149394</td>\n",
       "      <td>1499_155</td>\n",
       "      <td>1246.32</td>\n",
       "      <td>2018-11-26</td>\n",
       "      <td>1499</td>\n",
       "    </tr>\n",
       "    <tr>\n",
       "      <td>149395</td>\n",
       "      <td>149395</td>\n",
       "      <td>1499_156</td>\n",
       "      <td>544.37</td>\n",
       "      <td>2018-10-26</td>\n",
       "      <td>1499</td>\n",
       "    </tr>\n",
       "  </tbody>\n",
       "</table>\n",
       "<p>149396 rows × 5 columns</p>\n",
       "</div>"
      ],
      "text/plain": [
       "        Unnamed: 0        id  mb_used session_date  user_id\n",
       "0                0    1000_0   112.95   2018-11-25     1000\n",
       "1                1    1000_1  1052.81   2018-09-07     1000\n",
       "2                2    1000_2  1197.26   2018-06-25     1000\n",
       "3                3    1000_3   550.27   2018-08-22     1000\n",
       "4                4    1000_4   302.56   2018-09-24     1000\n",
       "...            ...       ...      ...          ...      ...\n",
       "149391      149391  1499_152   318.90   2018-10-03     1499\n",
       "149392      149392  1499_153   490.13   2018-12-14     1499\n",
       "149393      149393  1499_154     0.00   2018-10-27     1499\n",
       "149394      149394  1499_155  1246.32   2018-11-26     1499\n",
       "149395      149395  1499_156   544.37   2018-10-26     1499\n",
       "\n",
       "[149396 rows x 5 columns]"
      ]
     },
     "metadata": {},
     "output_type": "display_data"
    }
   ],
   "source": [
    "df_internet.info()\n",
    "display(df_internet)"
   ]
  },
  {
   "cell_type": "markdown",
   "metadata": {},
   "source": [
    "<div class=\"alert alert-success\">\n",
    "<h2> Комментарий ревьюера <a class=\"tocSkip\"> </h2>\n",
    "\n",
    "Следующий шаг к аппгрейду - это выводить не только info и head, а еще и describe, дубликаты, пропуски и т.д. Для этого удобно создать функцию, чтобы на вход подавался датафрейм и, соответственно, выводилось вышеуказанное. Такая реализация будет полезна почти в каждом проекте"
   ]
  },
  {
   "cell_type": "markdown",
   "metadata": {},
   "source": [
    "В таблице всего строчек: 149395, пропусков в столбцах нет. Формат названия столбцов верный (кроме Unnamed: 0, который будем удалять).\n",
    "\n",
    "* <b>Unnamed: 0 - столбец совпадает с индексом строки, можно удалить.\n",
    "    \n",
    "\n",
    "* <b>id — уникальный номер сессии\n",
    "    \n",
    "тип данных object и формат данных (user_id)_(номер_сессии)\n",
    "    \n",
    "\n",
    "* <b>mb_used — объём потраченного за сессию интернет-трафика (в мегабайтах)\n",
    "\n",
    "тип даннх float64 верный, что бы верно учесть количество оплачиваемого трафика придется сложить трафик за месяц и округлить до гБ в большую сторону.\n",
    "    \n",
    "\n",
    "* <b>session_date — дата интернет-сессии\n",
    "\n",
    "тип данных object, явно требуется преобразование в тип данных date\n",
    "\n",
    "* <b>user_id — идентификатор пользователя\n",
    "    \n",
    "тип данных int64 верный, по столбцу будем идентифицировать пользователя\n"
   ]
  },
  {
   "cell_type": "markdown",
   "metadata": {},
   "source": [
    "### messages.csv - информация о сообщениях"
   ]
  },
  {
   "cell_type": "code",
   "execution_count": 12,
   "metadata": {},
   "outputs": [
    {
     "name": "stdout",
     "output_type": "stream",
     "text": [
      "<class 'pandas.core.frame.DataFrame'>\n",
      "RangeIndex: 123036 entries, 0 to 123035\n",
      "Data columns (total 3 columns):\n",
      "id              123036 non-null object\n",
      "message_date    123036 non-null object\n",
      "user_id         123036 non-null int64\n",
      "dtypes: int64(1), object(2)\n",
      "memory usage: 2.8+ MB\n"
     ]
    },
    {
     "data": {
      "text/html": [
       "<div>\n",
       "<style scoped>\n",
       "    .dataframe tbody tr th:only-of-type {\n",
       "        vertical-align: middle;\n",
       "    }\n",
       "\n",
       "    .dataframe tbody tr th {\n",
       "        vertical-align: top;\n",
       "    }\n",
       "\n",
       "    .dataframe thead th {\n",
       "        text-align: right;\n",
       "    }\n",
       "</style>\n",
       "<table border=\"1\" class=\"dataframe\">\n",
       "  <thead>\n",
       "    <tr style=\"text-align: right;\">\n",
       "      <th></th>\n",
       "      <th>id</th>\n",
       "      <th>message_date</th>\n",
       "      <th>user_id</th>\n",
       "    </tr>\n",
       "  </thead>\n",
       "  <tbody>\n",
       "    <tr>\n",
       "      <td>0</td>\n",
       "      <td>1000_0</td>\n",
       "      <td>2018-06-27</td>\n",
       "      <td>1000</td>\n",
       "    </tr>\n",
       "    <tr>\n",
       "      <td>1</td>\n",
       "      <td>1000_1</td>\n",
       "      <td>2018-10-08</td>\n",
       "      <td>1000</td>\n",
       "    </tr>\n",
       "    <tr>\n",
       "      <td>2</td>\n",
       "      <td>1000_2</td>\n",
       "      <td>2018-08-04</td>\n",
       "      <td>1000</td>\n",
       "    </tr>\n",
       "    <tr>\n",
       "      <td>3</td>\n",
       "      <td>1000_3</td>\n",
       "      <td>2018-06-16</td>\n",
       "      <td>1000</td>\n",
       "    </tr>\n",
       "    <tr>\n",
       "      <td>4</td>\n",
       "      <td>1000_4</td>\n",
       "      <td>2018-12-05</td>\n",
       "      <td>1000</td>\n",
       "    </tr>\n",
       "    <tr>\n",
       "      <td>5</td>\n",
       "      <td>1000_5</td>\n",
       "      <td>2018-06-20</td>\n",
       "      <td>1000</td>\n",
       "    </tr>\n",
       "    <tr>\n",
       "      <td>6</td>\n",
       "      <td>1000_6</td>\n",
       "      <td>2018-11-19</td>\n",
       "      <td>1000</td>\n",
       "    </tr>\n",
       "    <tr>\n",
       "      <td>7</td>\n",
       "      <td>1000_7</td>\n",
       "      <td>2018-10-29</td>\n",
       "      <td>1000</td>\n",
       "    </tr>\n",
       "    <tr>\n",
       "      <td>8</td>\n",
       "      <td>1000_8</td>\n",
       "      <td>2018-06-25</td>\n",
       "      <td>1000</td>\n",
       "    </tr>\n",
       "    <tr>\n",
       "      <td>9</td>\n",
       "      <td>1000_9</td>\n",
       "      <td>2018-12-18</td>\n",
       "      <td>1000</td>\n",
       "    </tr>\n",
       "  </tbody>\n",
       "</table>\n",
       "</div>"
      ],
      "text/plain": [
       "       id message_date  user_id\n",
       "0  1000_0   2018-06-27     1000\n",
       "1  1000_1   2018-10-08     1000\n",
       "2  1000_2   2018-08-04     1000\n",
       "3  1000_3   2018-06-16     1000\n",
       "4  1000_4   2018-12-05     1000\n",
       "5  1000_5   2018-06-20     1000\n",
       "6  1000_6   2018-11-19     1000\n",
       "7  1000_7   2018-10-29     1000\n",
       "8  1000_8   2018-06-25     1000\n",
       "9  1000_9   2018-12-18     1000"
      ]
     },
     "execution_count": 12,
     "metadata": {},
     "output_type": "execute_result"
    }
   ],
   "source": [
    "df_messages.info()\n",
    "df_messages.head(10)"
   ]
  },
  {
   "cell_type": "markdown",
   "metadata": {},
   "source": [
    "В таблице всего строчек: 123036, пропусков в столбцах нет. Формат названия столбцов верный.\n",
    "\n",
    "\n",
    "* <b>id — уникальный номер сообщения\n",
    "    \n",
    "тип данных object и формат данных (user_id)_(номер_сообщения)\n",
    "    \n",
    "    \n",
    "* <b>message_date — дата сообщения\n",
    "    \n",
    "тип данных object, явно требуется преобразование в тип данных date\n",
    "    \n",
    "    \n",
    "* <b>user_id — идентификатор пользователя, отправившего сообщение\n",
    " \n",
    "тип данных int64 верный, по столбцу будем идентифицировать пользователя\n",
    "    "
   ]
  },
  {
   "cell_type": "markdown",
   "metadata": {},
   "source": [
    "### tariffs.csv - информация о тарифах"
   ]
  },
  {
   "cell_type": "code",
   "execution_count": 13,
   "metadata": {},
   "outputs": [
    {
     "name": "stdout",
     "output_type": "stream",
     "text": [
      "<class 'pandas.core.frame.DataFrame'>\n",
      "RangeIndex: 2 entries, 0 to 1\n",
      "Data columns (total 8 columns):\n",
      "messages_included        2 non-null int64\n",
      "mb_per_month_included    2 non-null int64\n",
      "minutes_included         2 non-null int64\n",
      "rub_monthly_fee          2 non-null int64\n",
      "rub_per_gb               2 non-null int64\n",
      "rub_per_message          2 non-null int64\n",
      "rub_per_minute           2 non-null int64\n",
      "tariff_name              2 non-null object\n",
      "dtypes: int64(7), object(1)\n",
      "memory usage: 256.0+ bytes\n"
     ]
    },
    {
     "data": {
      "text/html": [
       "<div>\n",
       "<style scoped>\n",
       "    .dataframe tbody tr th:only-of-type {\n",
       "        vertical-align: middle;\n",
       "    }\n",
       "\n",
       "    .dataframe tbody tr th {\n",
       "        vertical-align: top;\n",
       "    }\n",
       "\n",
       "    .dataframe thead th {\n",
       "        text-align: right;\n",
       "    }\n",
       "</style>\n",
       "<table border=\"1\" class=\"dataframe\">\n",
       "  <thead>\n",
       "    <tr style=\"text-align: right;\">\n",
       "      <th></th>\n",
       "      <th>messages_included</th>\n",
       "      <th>mb_per_month_included</th>\n",
       "      <th>minutes_included</th>\n",
       "      <th>rub_monthly_fee</th>\n",
       "      <th>rub_per_gb</th>\n",
       "      <th>rub_per_message</th>\n",
       "      <th>rub_per_minute</th>\n",
       "      <th>tariff_name</th>\n",
       "    </tr>\n",
       "  </thead>\n",
       "  <tbody>\n",
       "    <tr>\n",
       "      <td>0</td>\n",
       "      <td>50</td>\n",
       "      <td>15360</td>\n",
       "      <td>500</td>\n",
       "      <td>550</td>\n",
       "      <td>200</td>\n",
       "      <td>3</td>\n",
       "      <td>3</td>\n",
       "      <td>smart</td>\n",
       "    </tr>\n",
       "    <tr>\n",
       "      <td>1</td>\n",
       "      <td>1000</td>\n",
       "      <td>30720</td>\n",
       "      <td>3000</td>\n",
       "      <td>1950</td>\n",
       "      <td>150</td>\n",
       "      <td>1</td>\n",
       "      <td>1</td>\n",
       "      <td>ultra</td>\n",
       "    </tr>\n",
       "  </tbody>\n",
       "</table>\n",
       "</div>"
      ],
      "text/plain": [
       "   messages_included  mb_per_month_included  minutes_included  \\\n",
       "0                 50                  15360               500   \n",
       "1               1000                  30720              3000   \n",
       "\n",
       "   rub_monthly_fee  rub_per_gb  rub_per_message  rub_per_minute tariff_name  \n",
       "0              550         200                3               3       smart  \n",
       "1             1950         150                1               1       ultra  "
      ]
     },
     "execution_count": 13,
     "metadata": {},
     "output_type": "execute_result"
    }
   ],
   "source": [
    "df_tariffs.info()\n",
    "df_tariffs.head()"
   ]
  },
  {
   "cell_type": "markdown",
   "metadata": {},
   "source": [
    "Небольшая табличка с данными по двум тарифам, все типы верные, последовательное описание столбцов:\n",
    "\n",
    "\n",
    "    Количество включенных сообщений,\n",
    "    количеcтво включенных мегабайт данных,\n",
    "    количество включенных минут,\n",
    "    абонентская плата в месяц,\n",
    "    стоимость дополнительного гигабайта данных сверх тарифа,\n",
    "    стоимость дополнительного сообщения сверх тарифа,\n",
    "    стоимость дополнительной минуты разговора сверх тарифа,\n",
    "    название тарифного плана."
   ]
  },
  {
   "cell_type": "markdown",
   "metadata": {},
   "source": [
    "### users.csv - информация о пользователях"
   ]
  },
  {
   "cell_type": "code",
   "execution_count": 14,
   "metadata": {},
   "outputs": [
    {
     "name": "stdout",
     "output_type": "stream",
     "text": [
      "<class 'pandas.core.frame.DataFrame'>\n",
      "RangeIndex: 500 entries, 0 to 499\n",
      "Data columns (total 8 columns):\n",
      "user_id       500 non-null int64\n",
      "age           500 non-null int64\n",
      "churn_date    38 non-null object\n",
      "city          500 non-null object\n",
      "first_name    500 non-null object\n",
      "last_name     500 non-null object\n",
      "reg_date      500 non-null object\n",
      "tariff        500 non-null object\n",
      "dtypes: int64(2), object(6)\n",
      "memory usage: 31.4+ KB\n"
     ]
    },
    {
     "data": {
      "text/html": [
       "<div>\n",
       "<style scoped>\n",
       "    .dataframe tbody tr th:only-of-type {\n",
       "        vertical-align: middle;\n",
       "    }\n",
       "\n",
       "    .dataframe tbody tr th {\n",
       "        vertical-align: top;\n",
       "    }\n",
       "\n",
       "    .dataframe thead th {\n",
       "        text-align: right;\n",
       "    }\n",
       "</style>\n",
       "<table border=\"1\" class=\"dataframe\">\n",
       "  <thead>\n",
       "    <tr style=\"text-align: right;\">\n",
       "      <th></th>\n",
       "      <th>user_id</th>\n",
       "      <th>age</th>\n",
       "      <th>churn_date</th>\n",
       "      <th>city</th>\n",
       "      <th>first_name</th>\n",
       "      <th>last_name</th>\n",
       "      <th>reg_date</th>\n",
       "      <th>tariff</th>\n",
       "    </tr>\n",
       "  </thead>\n",
       "  <tbody>\n",
       "    <tr>\n",
       "      <td>0</td>\n",
       "      <td>1000</td>\n",
       "      <td>52</td>\n",
       "      <td>NaN</td>\n",
       "      <td>Краснодар</td>\n",
       "      <td>Рафаил</td>\n",
       "      <td>Верещагин</td>\n",
       "      <td>2018-05-25</td>\n",
       "      <td>ultra</td>\n",
       "    </tr>\n",
       "    <tr>\n",
       "      <td>1</td>\n",
       "      <td>1001</td>\n",
       "      <td>41</td>\n",
       "      <td>NaN</td>\n",
       "      <td>Москва</td>\n",
       "      <td>Иван</td>\n",
       "      <td>Ежов</td>\n",
       "      <td>2018-11-01</td>\n",
       "      <td>smart</td>\n",
       "    </tr>\n",
       "    <tr>\n",
       "      <td>2</td>\n",
       "      <td>1002</td>\n",
       "      <td>59</td>\n",
       "      <td>NaN</td>\n",
       "      <td>Стерлитамак</td>\n",
       "      <td>Евгений</td>\n",
       "      <td>Абрамович</td>\n",
       "      <td>2018-06-17</td>\n",
       "      <td>smart</td>\n",
       "    </tr>\n",
       "    <tr>\n",
       "      <td>3</td>\n",
       "      <td>1003</td>\n",
       "      <td>23</td>\n",
       "      <td>NaN</td>\n",
       "      <td>Москва</td>\n",
       "      <td>Белла</td>\n",
       "      <td>Белякова</td>\n",
       "      <td>2018-08-17</td>\n",
       "      <td>ultra</td>\n",
       "    </tr>\n",
       "    <tr>\n",
       "      <td>4</td>\n",
       "      <td>1004</td>\n",
       "      <td>68</td>\n",
       "      <td>NaN</td>\n",
       "      <td>Новокузнецк</td>\n",
       "      <td>Татьяна</td>\n",
       "      <td>Авдеенко</td>\n",
       "      <td>2018-05-14</td>\n",
       "      <td>ultra</td>\n",
       "    </tr>\n",
       "    <tr>\n",
       "      <td>5</td>\n",
       "      <td>1005</td>\n",
       "      <td>67</td>\n",
       "      <td>NaN</td>\n",
       "      <td>Набережные Челны</td>\n",
       "      <td>Афанасий</td>\n",
       "      <td>Горлов</td>\n",
       "      <td>2018-01-25</td>\n",
       "      <td>smart</td>\n",
       "    </tr>\n",
       "    <tr>\n",
       "      <td>6</td>\n",
       "      <td>1006</td>\n",
       "      <td>21</td>\n",
       "      <td>NaN</td>\n",
       "      <td>Ульяновск</td>\n",
       "      <td>Леонид</td>\n",
       "      <td>Ермолаев</td>\n",
       "      <td>2018-02-26</td>\n",
       "      <td>smart</td>\n",
       "    </tr>\n",
       "    <tr>\n",
       "      <td>7</td>\n",
       "      <td>1007</td>\n",
       "      <td>65</td>\n",
       "      <td>NaN</td>\n",
       "      <td>Москва</td>\n",
       "      <td>Юна</td>\n",
       "      <td>Березина</td>\n",
       "      <td>2018-04-19</td>\n",
       "      <td>smart</td>\n",
       "    </tr>\n",
       "    <tr>\n",
       "      <td>8</td>\n",
       "      <td>1008</td>\n",
       "      <td>63</td>\n",
       "      <td>NaN</td>\n",
       "      <td>Челябинск</td>\n",
       "      <td>Рустэм</td>\n",
       "      <td>Пономарёв</td>\n",
       "      <td>2018-12-19</td>\n",
       "      <td>smart</td>\n",
       "    </tr>\n",
       "    <tr>\n",
       "      <td>9</td>\n",
       "      <td>1009</td>\n",
       "      <td>24</td>\n",
       "      <td>NaN</td>\n",
       "      <td>Пермь</td>\n",
       "      <td>Василиса</td>\n",
       "      <td>Блинова</td>\n",
       "      <td>2018-03-22</td>\n",
       "      <td>smart</td>\n",
       "    </tr>\n",
       "  </tbody>\n",
       "</table>\n",
       "</div>"
      ],
      "text/plain": [
       "   user_id  age churn_date              city first_name  last_name  \\\n",
       "0     1000   52        NaN         Краснодар     Рафаил  Верещагин   \n",
       "1     1001   41        NaN            Москва       Иван       Ежов   \n",
       "2     1002   59        NaN       Стерлитамак    Евгений  Абрамович   \n",
       "3     1003   23        NaN            Москва      Белла   Белякова   \n",
       "4     1004   68        NaN       Новокузнецк    Татьяна   Авдеенко   \n",
       "5     1005   67        NaN  Набережные Челны   Афанасий     Горлов   \n",
       "6     1006   21        NaN         Ульяновск     Леонид   Ермолаев   \n",
       "7     1007   65        NaN            Москва        Юна   Березина   \n",
       "8     1008   63        NaN         Челябинск     Рустэм  Пономарёв   \n",
       "9     1009   24        NaN             Пермь   Василиса    Блинова   \n",
       "\n",
       "     reg_date tariff  \n",
       "0  2018-05-25  ultra  \n",
       "1  2018-11-01  smart  \n",
       "2  2018-06-17  smart  \n",
       "3  2018-08-17  ultra  \n",
       "4  2018-05-14  ultra  \n",
       "5  2018-01-25  smart  \n",
       "6  2018-02-26  smart  \n",
       "7  2018-04-19  smart  \n",
       "8  2018-12-19  smart  \n",
       "9  2018-03-22  smart  "
      ]
     },
     "execution_count": 14,
     "metadata": {},
     "output_type": "execute_result"
    }
   ],
   "source": [
    "df_users.info()\n",
    "df_users.head(10)"
   ]
  },
  {
   "cell_type": "markdown",
   "metadata": {},
   "source": [
    "Подошли наконец к самой интересной табличке - информации о юзерах\n",
    "\n",
    "В таблице всего строчек: 500, пропусков в столбце churn_date. Формат названия столбцов верный.\n",
    "\n",
    "* <b>user_id — уникальный идентификатор пользователя\n",
    "    \n",
    "тип данных int64 верный\n",
    "    \n",
    "* <b>first_name — имя пользователя\n",
    "  \n",
    "тип данных object верный\n",
    "    \n",
    "   \n",
    "* <b>last_name — фамилия пользователя\n",
    "  \n",
    "тип данных object верный\n",
    "    \n",
    "* <b>age — возраст пользователя (годы)\n",
    " \n",
    "тип данных int64 верный\n",
    "    \n",
    "* <b>reg_date — дата подключения тарифа (день, месяц, год)\n",
    "    \n",
    "тип данных object, требуется преобразование в тип данных date\n",
    "    \n",
    "    \n",
    "* <b>churn_date — дата прекращения пользования тарифом (если значение пропущено, то тариф ещё действовал на момент выгрузки данных)\n",
    "    \n",
    "тип данных object, требуется преобразование в тип данных date\n",
    "    \n",
    "    \n",
    "* <b>city — город проживания пользователя\n",
    "    \n",
    "тип данных object верный    \n",
    "    \n",
    "    \n",
    "* <b>tarif — название тарифного плана\n",
    "  \n",
    "тип данных object верный, но стоит переименовать столбец в tariff_name, дабы имя совпадала с именем столбца в таблице df_tariffs"
   ]
  },
  {
   "cell_type": "code",
   "execution_count": 15,
   "metadata": {},
   "outputs": [
    {
     "name": "stdout",
     "output_type": "stream",
     "text": [
      "Процент пропусков в данных по столбцу \"churn_date\": 92.4 %\n"
     ]
    }
   ],
   "source": [
    "df_users_nan = df_users['churn_date'].isna().mean()*100\n",
    "print(f'Процент пропусков в данных по столбцу \"churn_date\": {df_users_nan} %') # найдем процент пропусков в данных по столбцу"
   ]
  },
  {
   "cell_type": "markdown",
   "metadata": {},
   "source": [
    "7,6 % пользователей ушли с тарифного плана в исследуемый промежуток времени."
   ]
  },
  {
   "cell_type": "markdown",
   "metadata": {},
   "source": [
    "Общий вывод: все данные в табличках заполнены верно, пропусков нет вообще, пропуска в стобце churn_date таблицы users.csv вполне функциональны и сами по себе несут важную информацию. Необходимо преобразование всех столбцов дат во всех таблицах."
   ]
  },
  {
   "cell_type": "markdown",
   "metadata": {},
   "source": [
    "<div class=\"alert alert-success\">\n",
    "<h2> Комментарий ревьюера <a class=\"tocSkip\"> </h2>\n",
    "\n",
    "Согласен"
   ]
  },
  {
   "cell_type": "markdown",
   "metadata": {},
   "source": [
    "## Предобработка данных таблиц"
   ]
  },
  {
   "cell_type": "markdown",
   "metadata": {},
   "source": [
    "Функция поиска явных дубликатов:"
   ]
  },
  {
   "cell_type": "code",
   "execution_count": 16,
   "metadata": {},
   "outputs": [],
   "source": [
    "def duplic(df):\n",
    "    print(f'Обнаружено явных дубликатов: {df.duplicated().sum()}')"
   ]
  },
  {
   "cell_type": "markdown",
   "metadata": {},
   "source": [
    "<div class=\"alert alert-success\">\n",
    "<h2> Комментарий ревьюера <a class=\"tocSkip\"> </h2>\n",
    "\n",
    "Вот это я бы включил в функции по знакомству с данными"
   ]
  },
  {
   "cell_type": "markdown",
   "metadata": {},
   "source": [
    "Функция преобразования типа date:"
   ]
  },
  {
   "cell_type": "code",
   "execution_count": 17,
   "metadata": {},
   "outputs": [],
   "source": [
    "def reptype(df, col):\n",
    "    df[col] = pd.to_datetime(df[col], format='%Y-%m-%d')\n",
    "    print(f'Тип столбца {col} преобразован в тип date')"
   ]
  },
  {
   "cell_type": "markdown",
   "metadata": {},
   "source": [
    "### Преобразования таблицы df_calls"
   ]
  },
  {
   "cell_type": "code",
   "execution_count": 18,
   "metadata": {},
   "outputs": [
    {
     "name": "stdout",
     "output_type": "stream",
     "text": [
      "Обнаружено явных дубликатов: 0\n"
     ]
    }
   ],
   "source": [
    "duplic(df_calls)# поиск явных дубликатов"
   ]
  },
  {
   "cell_type": "code",
   "execution_count": 19,
   "metadata": {},
   "outputs": [
    {
     "name": "stdout",
     "output_type": "stream",
     "text": [
      "Тип столбца call_date преобразован в тип date\n"
     ]
    }
   ],
   "source": [
    "reptype(df_calls, 'call_date') # изменение типа столбца в date"
   ]
  },
  {
   "cell_type": "markdown",
   "metadata": {},
   "source": [
    "Округляем значения столбца duration до минут вверх, так как именно так считается использование минут тариф, заодно преобразуем в тип int64"
   ]
  },
  {
   "cell_type": "code",
   "execution_count": 20,
   "metadata": {},
   "outputs": [],
   "source": [
    "df_calls['duration'] = df_calls['duration'].apply(np.ceil).astype(int)"
   ]
  },
  {
   "cell_type": "markdown",
   "metadata": {},
   "source": [
    "<div class = \"alert alert-success\">\n",
    "<h2> Комментарии ревьюера <a class=\"tocSkip\"> </h2>\n",
    "\n",
    "Молодец, что не забыл округлить данные. Кстати, метод `np.ceil` можно применять без `apply`, вот так `np.ceil(calls['duration'])`\n",
    "\n",
    "</div>"
   ]
  },
  {
   "cell_type": "code",
   "execution_count": 21,
   "metadata": {},
   "outputs": [
    {
     "data": {
      "text/html": [
       "<div>\n",
       "<style scoped>\n",
       "    .dataframe tbody tr th:only-of-type {\n",
       "        vertical-align: middle;\n",
       "    }\n",
       "\n",
       "    .dataframe tbody tr th {\n",
       "        vertical-align: top;\n",
       "    }\n",
       "\n",
       "    .dataframe thead th {\n",
       "        text-align: right;\n",
       "    }\n",
       "</style>\n",
       "<table border=\"1\" class=\"dataframe\">\n",
       "  <thead>\n",
       "    <tr style=\"text-align: right;\">\n",
       "      <th></th>\n",
       "      <th>id</th>\n",
       "      <th>call_date</th>\n",
       "      <th>duration</th>\n",
       "      <th>user_id</th>\n",
       "    </tr>\n",
       "  </thead>\n",
       "  <tbody>\n",
       "    <tr>\n",
       "      <td>0</td>\n",
       "      <td>1000_0</td>\n",
       "      <td>2018-07-25</td>\n",
       "      <td>0</td>\n",
       "      <td>1000</td>\n",
       "    </tr>\n",
       "    <tr>\n",
       "      <td>1</td>\n",
       "      <td>1000_1</td>\n",
       "      <td>2018-08-17</td>\n",
       "      <td>0</td>\n",
       "      <td>1000</td>\n",
       "    </tr>\n",
       "    <tr>\n",
       "      <td>2</td>\n",
       "      <td>1000_2</td>\n",
       "      <td>2018-06-11</td>\n",
       "      <td>3</td>\n",
       "      <td>1000</td>\n",
       "    </tr>\n",
       "    <tr>\n",
       "      <td>3</td>\n",
       "      <td>1000_3</td>\n",
       "      <td>2018-09-21</td>\n",
       "      <td>14</td>\n",
       "      <td>1000</td>\n",
       "    </tr>\n",
       "    <tr>\n",
       "      <td>4</td>\n",
       "      <td>1000_4</td>\n",
       "      <td>2018-12-15</td>\n",
       "      <td>6</td>\n",
       "      <td>1000</td>\n",
       "    </tr>\n",
       "  </tbody>\n",
       "</table>\n",
       "</div>"
      ],
      "text/plain": [
       "       id  call_date  duration  user_id\n",
       "0  1000_0 2018-07-25         0     1000\n",
       "1  1000_1 2018-08-17         0     1000\n",
       "2  1000_2 2018-06-11         3     1000\n",
       "3  1000_3 2018-09-21        14     1000\n",
       "4  1000_4 2018-12-15         6     1000"
      ]
     },
     "execution_count": 21,
     "metadata": {},
     "output_type": "execute_result"
    }
   ],
   "source": [
    "df_calls.head()"
   ]
  },
  {
   "cell_type": "markdown",
   "metadata": {},
   "source": [
    "### Преобразования таблицы df_internet"
   ]
  },
  {
   "cell_type": "code",
   "execution_count": 22,
   "metadata": {},
   "outputs": [],
   "source": [
    "df_internet = df_internet.drop(['Unnamed: 0'], axis = 1) #удаляем столбец Unnamed: 0"
   ]
  },
  {
   "cell_type": "markdown",
   "metadata": {},
   "source": [
    "<div class=\"alert alert-success\">\n",
    "<h2> Комментарий ревьюера <a class=\"tocSkip\"> </h2>\n",
    "\n",
    "Кстати, столбец `Unnamed: 0` можно было указать в качестве индексов, во время загрузки датафрейма. Для этого тебе нужно задать параметр [index_col](https://pandas.pydata.org/pandas-docs/stable/reference/api/pandas.read_excel.html)"
   ]
  },
  {
   "cell_type": "code",
   "execution_count": 23,
   "metadata": {},
   "outputs": [
    {
     "name": "stdout",
     "output_type": "stream",
     "text": [
      "Обнаружено явных дубликатов: 0\n"
     ]
    }
   ],
   "source": [
    "duplic(df_internet)# поиск явных дубликатов"
   ]
  },
  {
   "cell_type": "code",
   "execution_count": 24,
   "metadata": {},
   "outputs": [
    {
     "name": "stdout",
     "output_type": "stream",
     "text": [
      "Тип столбца session_date преобразован в тип date\n"
     ]
    }
   ],
   "source": [
    "reptype(df_internet, 'session_date') # изменение типа столбца в date"
   ]
  },
  {
   "cell_type": "code",
   "execution_count": 25,
   "metadata": {},
   "outputs": [
    {
     "data": {
      "text/plain": [
       "0.00      19598\n",
       "197.56        9\n",
       "447.30        9\n",
       "335.91        9\n",
       "108.95        8\n",
       "          ...  \n",
       "72.49         1\n",
       "846.22        1\n",
       "429.17        1\n",
       "899.03        1\n",
       "483.87        1\n",
       "Name: mb_used, Length: 70003, dtype: int64"
      ]
     },
     "execution_count": 25,
     "metadata": {},
     "output_type": "execute_result"
    }
   ],
   "source": [
    "df_internet['mb_used'].value_counts()"
   ]
  },
  {
   "cell_type": "markdown",
   "metadata": {},
   "source": [
    "Если про звонки длительностью 0 сек нас предупредили, тогда что это за интернет сессии с 0 скачанных мб? этот вопрос следует задать разработчикам оператора для уточнения, ошибка ли это и что это значит? в любом случае если ответа нет, то этот ноль будет влиять на наши расчеты и следует эти данные удалить."
   ]
  },
  {
   "cell_type": "markdown",
   "metadata": {},
   "source": [
    "<div class=\"alert alert-success\">\n",
    "<h2> Комментарий ревьюера <a class=\"tocSkip\"> </h2>\n",
    "\n",
    "Полностью согласен, нужно уточнять"
   ]
  },
  {
   "cell_type": "code",
   "execution_count": 26,
   "metadata": {},
   "outputs": [],
   "source": [
    "df_internet = df_internet.loc[df_internet['mb_used'] != 0]"
   ]
  },
  {
   "cell_type": "markdown",
   "metadata": {},
   "source": [
    "### Преобразования таблицы df_messages"
   ]
  },
  {
   "cell_type": "code",
   "execution_count": 27,
   "metadata": {},
   "outputs": [
    {
     "name": "stdout",
     "output_type": "stream",
     "text": [
      "Обнаружено явных дубликатов: 0\n"
     ]
    }
   ],
   "source": [
    "duplic(df_internet)# поиск явных дубликатов"
   ]
  },
  {
   "cell_type": "code",
   "execution_count": 28,
   "metadata": {},
   "outputs": [
    {
     "name": "stdout",
     "output_type": "stream",
     "text": [
      "Тип столбца message_date преобразован в тип date\n"
     ]
    }
   ],
   "source": [
    "reptype(df_messages, 'message_date') # изменение типа столбца в date"
   ]
  },
  {
   "cell_type": "markdown",
   "metadata": {},
   "source": [
    "### Преобразования таблицы df_users"
   ]
  },
  {
   "cell_type": "code",
   "execution_count": 29,
   "metadata": {},
   "outputs": [
    {
     "name": "stdout",
     "output_type": "stream",
     "text": [
      "Обнаружено явных дубликатов: 0\n"
     ]
    }
   ],
   "source": [
    "duplic(df_users)# поиск явных дубликатов"
   ]
  },
  {
   "cell_type": "code",
   "execution_count": 30,
   "metadata": {},
   "outputs": [
    {
     "name": "stdout",
     "output_type": "stream",
     "text": [
      "Тип столбца churn_date преобразован в тип date\n"
     ]
    }
   ],
   "source": [
    "reptype(df_users, 'churn_date') # изменение типа столбца в date"
   ]
  },
  {
   "cell_type": "code",
   "execution_count": 31,
   "metadata": {},
   "outputs": [
    {
     "name": "stdout",
     "output_type": "stream",
     "text": [
      "Тип столбца reg_date преобразован в тип date\n"
     ]
    }
   ],
   "source": [
    "reptype(df_users, 'reg_date') # изменение типа столбца в date"
   ]
  },
  {
   "cell_type": "code",
   "execution_count": 32,
   "metadata": {},
   "outputs": [],
   "source": [
    "df_users = df_users.rename(columns={'tariff': 'tariff_name'}) # переименуем столбец согласно таблицы df_tariffs"
   ]
  },
  {
   "cell_type": "markdown",
   "metadata": {},
   "source": [
    "Посмотрим на столбец городов, вдруг там есть не явные дубликаты."
   ]
  },
  {
   "cell_type": "code",
   "execution_count": 33,
   "metadata": {},
   "outputs": [
    {
     "name": "stdout",
     "output_type": "stream",
     "text": [
      "['Краснодар' 'Москва' 'Стерлитамак' 'Новокузнецк' 'Набережные Челны'\n",
      " 'Ульяновск' 'Челябинск' 'Пермь' 'Тюмень' 'Самара' 'Санкт-Петербург'\n",
      " 'Иваново' 'Чебоксары' 'Омск' 'Уфа' 'Томск' 'Чита' 'Мурманск'\n",
      " 'Петрозаводск' 'Тверь' 'Екатеринбург' 'Махачкала' 'Вологда' 'Череповец'\n",
      " 'Ярославль' 'Сочи' 'Хабаровск' 'Ставрополь' 'Рязань' 'Улан-Удэ' 'Тула'\n",
      " 'Саратов' 'Ростов-на-Дону' 'Казань' 'Иркутск' 'Курск' 'Калуга' 'Якутск'\n",
      " 'Астрахань' 'Химки' 'Владикавказ' 'Волгоград' 'Саранск' 'Ижевск'\n",
      " 'Новосибирск' 'Брянск' 'Тольятти' 'Нижний Тагил' 'Орёл' 'Белгород'\n",
      " 'Воронеж' 'Волжский' 'Курган' 'Барнаул' 'Красноярск' 'Архангельск'\n",
      " 'Липецк' 'Кемерово' 'Киров' 'Сургут' 'Пенза' 'Магнитогорск'\n",
      " 'Нижний Новгород' 'Кострома' 'Владивосток' 'Тамбов' 'Балашиха'\n",
      " 'Севастополь' 'Калининград' 'Оренбург' 'Смоленск' 'Нижневартовск'\n",
      " 'Владимир' 'Новороссийск' 'Грозный' 'Подольск']\n"
     ]
    }
   ],
   "source": [
    "cityes = df_users['city'].unique() #список вариантов возрастов\n",
    "print(cityes)"
   ]
  },
  {
   "cell_type": "markdown",
   "metadata": {},
   "source": [
    "дубликатов нет, все впорядке\n",
    "\n",
    "в столбцах возраста, имени и фамилии этот же способ показал, что проблем нет."
   ]
  },
  {
   "cell_type": "markdown",
   "metadata": {},
   "source": [
    "## Расчеты для каждого пользователя"
   ]
  },
  {
   "cell_type": "markdown",
   "metadata": {},
   "source": [
    "### Количество сделанных звонков и израсходованных минут разговора по месяцам"
   ]
  },
  {
   "cell_type": "markdown",
   "metadata": {},
   "source": [
    "Для этого нам потребуется поработать с таблцей df_calls и добавить дополнительную колонку месяца"
   ]
  },
  {
   "cell_type": "markdown",
   "metadata": {},
   "source": [
    "Напишем функцию, так как такая колонка нам понадобится и для других таблиц, ну и заодно сразу внесем и сводную таблицу"
   ]
  },
  {
   "cell_type": "code",
   "execution_count": 34,
   "metadata": {},
   "outputs": [],
   "source": [
    "def month(df, col):\n",
    "    df['month'] = pd.to_datetime(df[col]).dt.month"
   ]
  },
  {
   "cell_type": "code",
   "execution_count": 35,
   "metadata": {},
   "outputs": [],
   "source": [
    "month(df_calls, 'call_date')"
   ]
  },
  {
   "cell_type": "code",
   "execution_count": 36,
   "metadata": {},
   "outputs": [
    {
     "data": {
      "text/html": [
       "<div>\n",
       "<style scoped>\n",
       "    .dataframe tbody tr th:only-of-type {\n",
       "        vertical-align: middle;\n",
       "    }\n",
       "\n",
       "    .dataframe tbody tr th {\n",
       "        vertical-align: top;\n",
       "    }\n",
       "\n",
       "    .dataframe thead th {\n",
       "        text-align: right;\n",
       "    }\n",
       "</style>\n",
       "<table border=\"1\" class=\"dataframe\">\n",
       "  <thead>\n",
       "    <tr style=\"text-align: right;\">\n",
       "      <th></th>\n",
       "      <th></th>\n",
       "      <th>sum_calls</th>\n",
       "      <th>count_calls</th>\n",
       "    </tr>\n",
       "    <tr>\n",
       "      <th>user_id</th>\n",
       "      <th>month</th>\n",
       "      <th></th>\n",
       "      <th></th>\n",
       "    </tr>\n",
       "  </thead>\n",
       "  <tbody>\n",
       "    <tr>\n",
       "      <td rowspan=\"5\" valign=\"top\">1000</td>\n",
       "      <td>5</td>\n",
       "      <td>159</td>\n",
       "      <td>22</td>\n",
       "    </tr>\n",
       "    <tr>\n",
       "      <td>6</td>\n",
       "      <td>172</td>\n",
       "      <td>43</td>\n",
       "    </tr>\n",
       "    <tr>\n",
       "      <td>7</td>\n",
       "      <td>340</td>\n",
       "      <td>47</td>\n",
       "    </tr>\n",
       "    <tr>\n",
       "      <td>8</td>\n",
       "      <td>408</td>\n",
       "      <td>52</td>\n",
       "    </tr>\n",
       "    <tr>\n",
       "      <td>9</td>\n",
       "      <td>466</td>\n",
       "      <td>58</td>\n",
       "    </tr>\n",
       "    <tr>\n",
       "      <td>...</td>\n",
       "      <td>...</td>\n",
       "      <td>...</td>\n",
       "      <td>...</td>\n",
       "    </tr>\n",
       "    <tr>\n",
       "      <td>1498</td>\n",
       "      <td>10</td>\n",
       "      <td>247</td>\n",
       "      <td>41</td>\n",
       "    </tr>\n",
       "    <tr>\n",
       "      <td rowspan=\"4\" valign=\"top\">1499</td>\n",
       "      <td>9</td>\n",
       "      <td>70</td>\n",
       "      <td>9</td>\n",
       "    </tr>\n",
       "    <tr>\n",
       "      <td>10</td>\n",
       "      <td>449</td>\n",
       "      <td>68</td>\n",
       "    </tr>\n",
       "    <tr>\n",
       "      <td>11</td>\n",
       "      <td>612</td>\n",
       "      <td>74</td>\n",
       "    </tr>\n",
       "    <tr>\n",
       "      <td>12</td>\n",
       "      <td>492</td>\n",
       "      <td>69</td>\n",
       "    </tr>\n",
       "  </tbody>\n",
       "</table>\n",
       "<p>3174 rows × 2 columns</p>\n",
       "</div>"
      ],
      "text/plain": [
       "               sum_calls  count_calls\n",
       "user_id month                        \n",
       "1000    5            159           22\n",
       "        6            172           43\n",
       "        7            340           47\n",
       "        8            408           52\n",
       "        9            466           58\n",
       "...                  ...          ...\n",
       "1498    10           247           41\n",
       "1499    9             70            9\n",
       "        10           449           68\n",
       "        11           612           74\n",
       "        12           492           69\n",
       "\n",
       "[3174 rows x 2 columns]"
      ]
     },
     "metadata": {},
     "output_type": "display_data"
    }
   ],
   "source": [
    "df_calls_count = df_calls.groupby(['user_id', 'month'])['duration'].agg(sum_calls = 'sum', count_calls = 'count')\n",
    "# сводная таблица\n",
    "display(df_calls_count)"
   ]
  },
  {
   "cell_type": "markdown",
   "metadata": {},
   "source": [
    "<div class=\"alert alert-success\">\n",
    "<h2> Комментарий ревьюера <a class=\"tocSkip\"> </h2>\n",
    "\n",
    "Отличная сводная таблица!"
   ]
  },
  {
   "cell_type": "markdown",
   "metadata": {},
   "source": [
    "### Количество отправленных сообщений по месяцам"
   ]
  },
  {
   "cell_type": "markdown",
   "metadata": {},
   "source": [
    "Для этого нам потребуется поработать с таблцей df_messages и добавить дополнительную колонку месяца"
   ]
  },
  {
   "cell_type": "code",
   "execution_count": 37,
   "metadata": {},
   "outputs": [],
   "source": [
    "month(df_messages, 'message_date')"
   ]
  },
  {
   "cell_type": "code",
   "execution_count": 38,
   "metadata": {},
   "outputs": [
    {
     "data": {
      "text/html": [
       "<div>\n",
       "<style scoped>\n",
       "    .dataframe tbody tr th:only-of-type {\n",
       "        vertical-align: middle;\n",
       "    }\n",
       "\n",
       "    .dataframe tbody tr th {\n",
       "        vertical-align: top;\n",
       "    }\n",
       "\n",
       "    .dataframe thead th {\n",
       "        text-align: right;\n",
       "    }\n",
       "</style>\n",
       "<table border=\"1\" class=\"dataframe\">\n",
       "  <thead>\n",
       "    <tr style=\"text-align: right;\">\n",
       "      <th></th>\n",
       "      <th></th>\n",
       "      <th>count_mes</th>\n",
       "    </tr>\n",
       "    <tr>\n",
       "      <th>user_id</th>\n",
       "      <th>month</th>\n",
       "      <th></th>\n",
       "    </tr>\n",
       "  </thead>\n",
       "  <tbody>\n",
       "    <tr>\n",
       "      <td rowspan=\"5\" valign=\"top\">1000</td>\n",
       "      <td>5</td>\n",
       "      <td>22</td>\n",
       "    </tr>\n",
       "    <tr>\n",
       "      <td>6</td>\n",
       "      <td>60</td>\n",
       "    </tr>\n",
       "    <tr>\n",
       "      <td>7</td>\n",
       "      <td>75</td>\n",
       "    </tr>\n",
       "    <tr>\n",
       "      <td>8</td>\n",
       "      <td>81</td>\n",
       "    </tr>\n",
       "    <tr>\n",
       "      <td>9</td>\n",
       "      <td>57</td>\n",
       "    </tr>\n",
       "    <tr>\n",
       "      <td>...</td>\n",
       "      <td>...</td>\n",
       "      <td>...</td>\n",
       "    </tr>\n",
       "    <tr>\n",
       "      <td>1498</td>\n",
       "      <td>10</td>\n",
       "      <td>42</td>\n",
       "    </tr>\n",
       "    <tr>\n",
       "      <td rowspan=\"4\" valign=\"top\">1499</td>\n",
       "      <td>9</td>\n",
       "      <td>11</td>\n",
       "    </tr>\n",
       "    <tr>\n",
       "      <td>10</td>\n",
       "      <td>48</td>\n",
       "    </tr>\n",
       "    <tr>\n",
       "      <td>11</td>\n",
       "      <td>59</td>\n",
       "    </tr>\n",
       "    <tr>\n",
       "      <td>12</td>\n",
       "      <td>66</td>\n",
       "    </tr>\n",
       "  </tbody>\n",
       "</table>\n",
       "<p>2717 rows × 1 columns</p>\n",
       "</div>"
      ],
      "text/plain": [
       "               count_mes\n",
       "user_id month           \n",
       "1000    5             22\n",
       "        6             60\n",
       "        7             75\n",
       "        8             81\n",
       "        9             57\n",
       "...                  ...\n",
       "1498    10            42\n",
       "1499    9             11\n",
       "        10            48\n",
       "        11            59\n",
       "        12            66\n",
       "\n",
       "[2717 rows x 1 columns]"
      ]
     },
     "metadata": {},
     "output_type": "display_data"
    }
   ],
   "source": [
    "df_mes_count = df_messages.groupby(['user_id', 'month'])['id'].agg(count_mes = 'count') # сводная таблица\n",
    "display(df_mes_count)"
   ]
  },
  {
   "cell_type": "markdown",
   "metadata": {},
   "source": [
    "### Объем израсходованного интернет-трафика по месяцам"
   ]
  },
  {
   "cell_type": "markdown",
   "metadata": {},
   "source": [
    "Для этого нам потребуется поработать с таблцей df_internet и добавить дополнительную колонку месяца"
   ]
  },
  {
   "cell_type": "code",
   "execution_count": 39,
   "metadata": {},
   "outputs": [],
   "source": [
    "month(df_internet, 'session_date')"
   ]
  },
  {
   "cell_type": "code",
   "execution_count": 40,
   "metadata": {},
   "outputs": [
    {
     "data": {
      "text/html": [
       "<div>\n",
       "<style scoped>\n",
       "    .dataframe tbody tr th:only-of-type {\n",
       "        vertical-align: middle;\n",
       "    }\n",
       "\n",
       "    .dataframe tbody tr th {\n",
       "        vertical-align: top;\n",
       "    }\n",
       "\n",
       "    .dataframe thead th {\n",
       "        text-align: right;\n",
       "    }\n",
       "</style>\n",
       "<table border=\"1\" class=\"dataframe\">\n",
       "  <thead>\n",
       "    <tr style=\"text-align: right;\">\n",
       "      <th></th>\n",
       "      <th></th>\n",
       "      <th>sum_mb</th>\n",
       "    </tr>\n",
       "    <tr>\n",
       "      <th>user_id</th>\n",
       "      <th>month</th>\n",
       "      <th></th>\n",
       "    </tr>\n",
       "  </thead>\n",
       "  <tbody>\n",
       "    <tr>\n",
       "      <td rowspan=\"5\" valign=\"top\">1000</td>\n",
       "      <td>5</td>\n",
       "      <td>2253.49</td>\n",
       "    </tr>\n",
       "    <tr>\n",
       "      <td>6</td>\n",
       "      <td>23233.77</td>\n",
       "    </tr>\n",
       "    <tr>\n",
       "      <td>7</td>\n",
       "      <td>14003.64</td>\n",
       "    </tr>\n",
       "    <tr>\n",
       "      <td>8</td>\n",
       "      <td>14055.93</td>\n",
       "    </tr>\n",
       "    <tr>\n",
       "      <td>9</td>\n",
       "      <td>14568.91</td>\n",
       "    </tr>\n",
       "    <tr>\n",
       "      <td>...</td>\n",
       "      <td>...</td>\n",
       "      <td>...</td>\n",
       "    </tr>\n",
       "    <tr>\n",
       "      <td>1498</td>\n",
       "      <td>10</td>\n",
       "      <td>20579.36</td>\n",
       "    </tr>\n",
       "    <tr>\n",
       "      <td rowspan=\"4\" valign=\"top\">1499</td>\n",
       "      <td>9</td>\n",
       "      <td>1845.75</td>\n",
       "    </tr>\n",
       "    <tr>\n",
       "      <td>10</td>\n",
       "      <td>17788.51</td>\n",
       "    </tr>\n",
       "    <tr>\n",
       "      <td>11</td>\n",
       "      <td>17963.31</td>\n",
       "    </tr>\n",
       "    <tr>\n",
       "      <td>12</td>\n",
       "      <td>13055.58</td>\n",
       "    </tr>\n",
       "  </tbody>\n",
       "</table>\n",
       "<p>3201 rows × 1 columns</p>\n",
       "</div>"
      ],
      "text/plain": [
       "                 sum_mb\n",
       "user_id month          \n",
       "1000    5       2253.49\n",
       "        6      23233.77\n",
       "        7      14003.64\n",
       "        8      14055.93\n",
       "        9      14568.91\n",
       "...                 ...\n",
       "1498    10     20579.36\n",
       "1499    9       1845.75\n",
       "        10     17788.51\n",
       "        11     17963.31\n",
       "        12     13055.58\n",
       "\n",
       "[3201 rows x 1 columns]"
      ]
     },
     "metadata": {},
     "output_type": "display_data"
    }
   ],
   "source": [
    "df_mb_count = df_internet.groupby(['user_id', 'month'])['mb_used'].agg(sum_mb = 'sum') # сводная таблица\n",
    "display(df_mb_count)"
   ]
  },
  {
   "cell_type": "markdown",
   "metadata": {},
   "source": [
    "## Объединение всех таблиц расчетов и таблицы информации о пользователях"
   ]
  },
  {
   "cell_type": "markdown",
   "metadata": {},
   "source": [
    "### Объединяю таблицы звонки и сообщения"
   ]
  },
  {
   "cell_type": "code",
   "execution_count": 41,
   "metadata": {},
   "outputs": [],
   "source": [
    "df_mes_calls = df_mes_count.merge(df_calls_count,on=['user_id','month'],how='outer')\n",
    "# объединяю таблицу звонки и сообщения"
   ]
  },
  {
   "cell_type": "markdown",
   "metadata": {},
   "source": [
    "<div class=\"alert alert-success\">\n",
    "<h2> Комментарий ревьюера <a class=\"tocSkip\"> </h2>\n",
    "\n",
    "Молодец, что проводишь объединение задавая параметр `how='outer'`. Так мы не потеряем данные"
   ]
  },
  {
   "cell_type": "code",
   "execution_count": 42,
   "metadata": {},
   "outputs": [
    {
     "data": {
      "text/html": [
       "<div>\n",
       "<style scoped>\n",
       "    .dataframe tbody tr th:only-of-type {\n",
       "        vertical-align: middle;\n",
       "    }\n",
       "\n",
       "    .dataframe tbody tr th {\n",
       "        vertical-align: top;\n",
       "    }\n",
       "\n",
       "    .dataframe thead th {\n",
       "        text-align: right;\n",
       "    }\n",
       "</style>\n",
       "<table border=\"1\" class=\"dataframe\">\n",
       "  <thead>\n",
       "    <tr style=\"text-align: right;\">\n",
       "      <th></th>\n",
       "      <th></th>\n",
       "      <th>count_mes</th>\n",
       "      <th>sum_calls</th>\n",
       "      <th>count_calls</th>\n",
       "    </tr>\n",
       "    <tr>\n",
       "      <th>user_id</th>\n",
       "      <th>month</th>\n",
       "      <th></th>\n",
       "      <th></th>\n",
       "      <th></th>\n",
       "    </tr>\n",
       "  </thead>\n",
       "  <tbody>\n",
       "    <tr>\n",
       "      <td rowspan=\"5\" valign=\"top\">1000</td>\n",
       "      <td>5</td>\n",
       "      <td>22.0</td>\n",
       "      <td>159.0</td>\n",
       "      <td>22.0</td>\n",
       "    </tr>\n",
       "    <tr>\n",
       "      <td>6</td>\n",
       "      <td>60.0</td>\n",
       "      <td>172.0</td>\n",
       "      <td>43.0</td>\n",
       "    </tr>\n",
       "    <tr>\n",
       "      <td>7</td>\n",
       "      <td>75.0</td>\n",
       "      <td>340.0</td>\n",
       "      <td>47.0</td>\n",
       "    </tr>\n",
       "    <tr>\n",
       "      <td>8</td>\n",
       "      <td>81.0</td>\n",
       "      <td>408.0</td>\n",
       "      <td>52.0</td>\n",
       "    </tr>\n",
       "    <tr>\n",
       "      <td>9</td>\n",
       "      <td>57.0</td>\n",
       "      <td>466.0</td>\n",
       "      <td>58.0</td>\n",
       "    </tr>\n",
       "    <tr>\n",
       "      <td>...</td>\n",
       "      <td>...</td>\n",
       "      <td>...</td>\n",
       "      <td>...</td>\n",
       "      <td>...</td>\n",
       "    </tr>\n",
       "    <tr>\n",
       "      <td rowspan=\"5\" valign=\"top\">1494</td>\n",
       "      <td>8</td>\n",
       "      <td>NaN</td>\n",
       "      <td>262.0</td>\n",
       "      <td>32.0</td>\n",
       "    </tr>\n",
       "    <tr>\n",
       "      <td>9</td>\n",
       "      <td>NaN</td>\n",
       "      <td>501.0</td>\n",
       "      <td>66.0</td>\n",
       "    </tr>\n",
       "    <tr>\n",
       "      <td>10</td>\n",
       "      <td>NaN</td>\n",
       "      <td>354.0</td>\n",
       "      <td>52.0</td>\n",
       "    </tr>\n",
       "    <tr>\n",
       "      <td>11</td>\n",
       "      <td>NaN</td>\n",
       "      <td>411.0</td>\n",
       "      <td>63.0</td>\n",
       "    </tr>\n",
       "    <tr>\n",
       "      <td>12</td>\n",
       "      <td>NaN</td>\n",
       "      <td>418.0</td>\n",
       "      <td>62.0</td>\n",
       "    </tr>\n",
       "  </tbody>\n",
       "</table>\n",
       "<p>3213 rows × 3 columns</p>\n",
       "</div>"
      ],
      "text/plain": [
       "               count_mes  sum_calls  count_calls\n",
       "user_id month                                   \n",
       "1000    5           22.0      159.0         22.0\n",
       "        6           60.0      172.0         43.0\n",
       "        7           75.0      340.0         47.0\n",
       "        8           81.0      408.0         52.0\n",
       "        9           57.0      466.0         58.0\n",
       "...                  ...        ...          ...\n",
       "1494    8            NaN      262.0         32.0\n",
       "        9            NaN      501.0         66.0\n",
       "        10           NaN      354.0         52.0\n",
       "        11           NaN      411.0         63.0\n",
       "        12           NaN      418.0         62.0\n",
       "\n",
       "[3213 rows x 3 columns]"
      ]
     },
     "metadata": {},
     "output_type": "display_data"
    }
   ],
   "source": [
    "display(df_mes_calls)"
   ]
  },
  {
   "cell_type": "markdown",
   "metadata": {},
   "source": [
    "Видно, что у некоторых пользователей появились пустые ячейки - это значит, что они не пользовались услугой"
   ]
  },
  {
   "cell_type": "markdown",
   "metadata": {},
   "source": [
    "### Объединяю таблицы звонки, сообщения и интернет"
   ]
  },
  {
   "cell_type": "code",
   "execution_count": 43,
   "metadata": {},
   "outputs": [],
   "source": [
    "df_mes_calls_mb = df_mes_calls.merge(df_mb_count,on=['user_id','month'],how='outer')\n",
    "# объединяю таблицу звонки, сообщения и интернет"
   ]
  },
  {
   "cell_type": "code",
   "execution_count": 44,
   "metadata": {},
   "outputs": [
    {
     "data": {
      "text/html": [
       "<div>\n",
       "<style scoped>\n",
       "    .dataframe tbody tr th:only-of-type {\n",
       "        vertical-align: middle;\n",
       "    }\n",
       "\n",
       "    .dataframe tbody tr th {\n",
       "        vertical-align: top;\n",
       "    }\n",
       "\n",
       "    .dataframe thead th {\n",
       "        text-align: right;\n",
       "    }\n",
       "</style>\n",
       "<table border=\"1\" class=\"dataframe\">\n",
       "  <thead>\n",
       "    <tr style=\"text-align: right;\">\n",
       "      <th></th>\n",
       "      <th></th>\n",
       "      <th>count_mes</th>\n",
       "      <th>sum_calls</th>\n",
       "      <th>count_calls</th>\n",
       "      <th>sum_mb</th>\n",
       "    </tr>\n",
       "    <tr>\n",
       "      <th>user_id</th>\n",
       "      <th>month</th>\n",
       "      <th></th>\n",
       "      <th></th>\n",
       "      <th></th>\n",
       "      <th></th>\n",
       "    </tr>\n",
       "  </thead>\n",
       "  <tbody>\n",
       "    <tr>\n",
       "      <td rowspan=\"5\" valign=\"top\">1000</td>\n",
       "      <td>5</td>\n",
       "      <td>22.0</td>\n",
       "      <td>159.0</td>\n",
       "      <td>22.0</td>\n",
       "      <td>2253.49</td>\n",
       "    </tr>\n",
       "    <tr>\n",
       "      <td>6</td>\n",
       "      <td>60.0</td>\n",
       "      <td>172.0</td>\n",
       "      <td>43.0</td>\n",
       "      <td>23233.77</td>\n",
       "    </tr>\n",
       "    <tr>\n",
       "      <td>7</td>\n",
       "      <td>75.0</td>\n",
       "      <td>340.0</td>\n",
       "      <td>47.0</td>\n",
       "      <td>14003.64</td>\n",
       "    </tr>\n",
       "    <tr>\n",
       "      <td>8</td>\n",
       "      <td>81.0</td>\n",
       "      <td>408.0</td>\n",
       "      <td>52.0</td>\n",
       "      <td>14055.93</td>\n",
       "    </tr>\n",
       "    <tr>\n",
       "      <td>9</td>\n",
       "      <td>57.0</td>\n",
       "      <td>466.0</td>\n",
       "      <td>58.0</td>\n",
       "      <td>14568.91</td>\n",
       "    </tr>\n",
       "    <tr>\n",
       "      <td>...</td>\n",
       "      <td>...</td>\n",
       "      <td>...</td>\n",
       "      <td>...</td>\n",
       "      <td>...</td>\n",
       "      <td>...</td>\n",
       "    </tr>\n",
       "    <tr>\n",
       "      <td rowspan=\"4\" valign=\"top\">1494</td>\n",
       "      <td>9</td>\n",
       "      <td>NaN</td>\n",
       "      <td>501.0</td>\n",
       "      <td>66.0</td>\n",
       "      <td>16962.51</td>\n",
       "    </tr>\n",
       "    <tr>\n",
       "      <td>10</td>\n",
       "      <td>NaN</td>\n",
       "      <td>354.0</td>\n",
       "      <td>52.0</td>\n",
       "      <td>17767.24</td>\n",
       "    </tr>\n",
       "    <tr>\n",
       "      <td>11</td>\n",
       "      <td>NaN</td>\n",
       "      <td>411.0</td>\n",
       "      <td>63.0</td>\n",
       "      <td>18052.45</td>\n",
       "    </tr>\n",
       "    <tr>\n",
       "      <td>12</td>\n",
       "      <td>NaN</td>\n",
       "      <td>418.0</td>\n",
       "      <td>62.0</td>\n",
       "      <td>17621.21</td>\n",
       "    </tr>\n",
       "    <tr>\n",
       "      <td>1476</td>\n",
       "      <td>4</td>\n",
       "      <td>NaN</td>\n",
       "      <td>NaN</td>\n",
       "      <td>NaN</td>\n",
       "      <td>530.78</td>\n",
       "    </tr>\n",
       "  </tbody>\n",
       "</table>\n",
       "<p>3214 rows × 4 columns</p>\n",
       "</div>"
      ],
      "text/plain": [
       "               count_mes  sum_calls  count_calls    sum_mb\n",
       "user_id month                                             \n",
       "1000    5           22.0      159.0         22.0   2253.49\n",
       "        6           60.0      172.0         43.0  23233.77\n",
       "        7           75.0      340.0         47.0  14003.64\n",
       "        8           81.0      408.0         52.0  14055.93\n",
       "        9           57.0      466.0         58.0  14568.91\n",
       "...                  ...        ...          ...       ...\n",
       "1494    9            NaN      501.0         66.0  16962.51\n",
       "        10           NaN      354.0         52.0  17767.24\n",
       "        11           NaN      411.0         63.0  18052.45\n",
       "        12           NaN      418.0         62.0  17621.21\n",
       "1476    4            NaN        NaN          NaN    530.78\n",
       "\n",
       "[3214 rows x 4 columns]"
      ]
     },
     "metadata": {},
     "output_type": "display_data"
    }
   ],
   "source": [
    "display(df_mes_calls_mb)"
   ]
  },
  {
   "cell_type": "markdown",
   "metadata": {},
   "source": [
    "Осталось объеденить с таблицей о пользователях, но добавим сначала дополнительный столбец информации по месяцу."
   ]
  },
  {
   "cell_type": "code",
   "execution_count": 45,
   "metadata": {},
   "outputs": [],
   "source": [
    "for user_m in df_mes_calls_mb.index:\n",
    "        df_mes_calls_mb.loc[user_m, 'month'] = user_m[1]"
   ]
  },
  {
   "cell_type": "markdown",
   "metadata": {},
   "source": [
    "<div class=\"alert alert-warning\">\n",
    "<h2> Комментарий ревьюера <a class=\"tocSkip\"> </h2>\n",
    "\n",
    "Не совсем понятно, зачем) У нас же уже есть столбец с месяцем"
   ]
  },
  {
   "cell_type": "markdown",
   "metadata": {},
   "source": [
    "<div class=\"alert alert-info\">\n",
    "<b>Комментарий:</b> Далее когда объединяем все таблицы, в конечной таблице нужно сохранить столбец с месяцами, вдруг понадобится в дальнейшем анализе. При объединениии таблиц не нашел спосогб его сохранить из индексов таблиц без указания объединения по month </div>"
   ]
  },
  {
   "cell_type": "markdown",
   "metadata": {},
   "source": [
    "<div class=\"alert alert-success\">\n",
    "<h2> Комментарий ревьюера v2 <a class=\"tocSkip\"> </h2>\n",
    "\n",
    "Можно использовать `join` - у него объединение через индексы можно реализовать, либо можно сбросить индексы через `reset_index`"
   ]
  },
  {
   "cell_type": "code",
   "execution_count": 46,
   "metadata": {},
   "outputs": [
    {
     "data": {
      "text/html": [
       "<div>\n",
       "<style scoped>\n",
       "    .dataframe tbody tr th:only-of-type {\n",
       "        vertical-align: middle;\n",
       "    }\n",
       "\n",
       "    .dataframe tbody tr th {\n",
       "        vertical-align: top;\n",
       "    }\n",
       "\n",
       "    .dataframe thead th {\n",
       "        text-align: right;\n",
       "    }\n",
       "</style>\n",
       "<table border=\"1\" class=\"dataframe\">\n",
       "  <thead>\n",
       "    <tr style=\"text-align: right;\">\n",
       "      <th></th>\n",
       "      <th></th>\n",
       "      <th>count_mes</th>\n",
       "      <th>sum_calls</th>\n",
       "      <th>count_calls</th>\n",
       "      <th>sum_mb</th>\n",
       "      <th>month</th>\n",
       "    </tr>\n",
       "    <tr>\n",
       "      <th>user_id</th>\n",
       "      <th>month</th>\n",
       "      <th></th>\n",
       "      <th></th>\n",
       "      <th></th>\n",
       "      <th></th>\n",
       "      <th></th>\n",
       "    </tr>\n",
       "  </thead>\n",
       "  <tbody>\n",
       "    <tr>\n",
       "      <td rowspan=\"5\" valign=\"top\">1000</td>\n",
       "      <td>5</td>\n",
       "      <td>22.0</td>\n",
       "      <td>159.0</td>\n",
       "      <td>22.0</td>\n",
       "      <td>2253.49</td>\n",
       "      <td>5.0</td>\n",
       "    </tr>\n",
       "    <tr>\n",
       "      <td>6</td>\n",
       "      <td>60.0</td>\n",
       "      <td>172.0</td>\n",
       "      <td>43.0</td>\n",
       "      <td>23233.77</td>\n",
       "      <td>6.0</td>\n",
       "    </tr>\n",
       "    <tr>\n",
       "      <td>7</td>\n",
       "      <td>75.0</td>\n",
       "      <td>340.0</td>\n",
       "      <td>47.0</td>\n",
       "      <td>14003.64</td>\n",
       "      <td>7.0</td>\n",
       "    </tr>\n",
       "    <tr>\n",
       "      <td>8</td>\n",
       "      <td>81.0</td>\n",
       "      <td>408.0</td>\n",
       "      <td>52.0</td>\n",
       "      <td>14055.93</td>\n",
       "      <td>8.0</td>\n",
       "    </tr>\n",
       "    <tr>\n",
       "      <td>9</td>\n",
       "      <td>57.0</td>\n",
       "      <td>466.0</td>\n",
       "      <td>58.0</td>\n",
       "      <td>14568.91</td>\n",
       "      <td>9.0</td>\n",
       "    </tr>\n",
       "    <tr>\n",
       "      <td>...</td>\n",
       "      <td>...</td>\n",
       "      <td>...</td>\n",
       "      <td>...</td>\n",
       "      <td>...</td>\n",
       "      <td>...</td>\n",
       "      <td>...</td>\n",
       "    </tr>\n",
       "    <tr>\n",
       "      <td rowspan=\"4\" valign=\"top\">1494</td>\n",
       "      <td>9</td>\n",
       "      <td>NaN</td>\n",
       "      <td>501.0</td>\n",
       "      <td>66.0</td>\n",
       "      <td>16962.51</td>\n",
       "      <td>9.0</td>\n",
       "    </tr>\n",
       "    <tr>\n",
       "      <td>10</td>\n",
       "      <td>NaN</td>\n",
       "      <td>354.0</td>\n",
       "      <td>52.0</td>\n",
       "      <td>17767.24</td>\n",
       "      <td>10.0</td>\n",
       "    </tr>\n",
       "    <tr>\n",
       "      <td>11</td>\n",
       "      <td>NaN</td>\n",
       "      <td>411.0</td>\n",
       "      <td>63.0</td>\n",
       "      <td>18052.45</td>\n",
       "      <td>11.0</td>\n",
       "    </tr>\n",
       "    <tr>\n",
       "      <td>12</td>\n",
       "      <td>NaN</td>\n",
       "      <td>418.0</td>\n",
       "      <td>62.0</td>\n",
       "      <td>17621.21</td>\n",
       "      <td>12.0</td>\n",
       "    </tr>\n",
       "    <tr>\n",
       "      <td>1476</td>\n",
       "      <td>4</td>\n",
       "      <td>NaN</td>\n",
       "      <td>NaN</td>\n",
       "      <td>NaN</td>\n",
       "      <td>530.78</td>\n",
       "      <td>4.0</td>\n",
       "    </tr>\n",
       "  </tbody>\n",
       "</table>\n",
       "<p>3214 rows × 5 columns</p>\n",
       "</div>"
      ],
      "text/plain": [
       "               count_mes  sum_calls  count_calls    sum_mb  month\n",
       "user_id month                                                    \n",
       "1000    5           22.0      159.0         22.0   2253.49    5.0\n",
       "        6           60.0      172.0         43.0  23233.77    6.0\n",
       "        7           75.0      340.0         47.0  14003.64    7.0\n",
       "        8           81.0      408.0         52.0  14055.93    8.0\n",
       "        9           57.0      466.0         58.0  14568.91    9.0\n",
       "...                  ...        ...          ...       ...    ...\n",
       "1494    9            NaN      501.0         66.0  16962.51    9.0\n",
       "        10           NaN      354.0         52.0  17767.24   10.0\n",
       "        11           NaN      411.0         63.0  18052.45   11.0\n",
       "        12           NaN      418.0         62.0  17621.21   12.0\n",
       "1476    4            NaN        NaN          NaN    530.78    4.0\n",
       "\n",
       "[3214 rows x 5 columns]"
      ]
     },
     "metadata": {},
     "output_type": "display_data"
    }
   ],
   "source": [
    "display(df_mes_calls_mb)"
   ]
  },
  {
   "cell_type": "markdown",
   "metadata": {},
   "source": [
    "### Объединяю таблицы звонки, сообщения, интернет и информацию о пользователях"
   ]
  },
  {
   "cell_type": "code",
   "execution_count": 47,
   "metadata": {},
   "outputs": [],
   "source": [
    "df_mes_calls_mb_users = df_mes_calls_mb.merge(df_users,on=['user_id'],how='outer')\n",
    "# объединяю таблицу звонки, сообщения, интернет и информацию о пользователях"
   ]
  },
  {
   "cell_type": "markdown",
   "metadata": {},
   "source": [
    "Посмотрим на получившуюся таблицу"
   ]
  },
  {
   "cell_type": "code",
   "execution_count": 48,
   "metadata": {},
   "outputs": [
    {
     "data": {
      "text/html": [
       "<div>\n",
       "<style scoped>\n",
       "    .dataframe tbody tr th:only-of-type {\n",
       "        vertical-align: middle;\n",
       "    }\n",
       "\n",
       "    .dataframe tbody tr th {\n",
       "        vertical-align: top;\n",
       "    }\n",
       "\n",
       "    .dataframe thead th {\n",
       "        text-align: right;\n",
       "    }\n",
       "</style>\n",
       "<table border=\"1\" class=\"dataframe\">\n",
       "  <thead>\n",
       "    <tr style=\"text-align: right;\">\n",
       "      <th></th>\n",
       "      <th>user_id</th>\n",
       "      <th>count_mes</th>\n",
       "      <th>sum_calls</th>\n",
       "      <th>count_calls</th>\n",
       "      <th>sum_mb</th>\n",
       "      <th>month</th>\n",
       "      <th>age</th>\n",
       "      <th>churn_date</th>\n",
       "      <th>city</th>\n",
       "      <th>first_name</th>\n",
       "      <th>last_name</th>\n",
       "      <th>reg_date</th>\n",
       "      <th>tariff_name</th>\n",
       "    </tr>\n",
       "  </thead>\n",
       "  <tbody>\n",
       "    <tr>\n",
       "      <td>0</td>\n",
       "      <td>1000</td>\n",
       "      <td>22.0</td>\n",
       "      <td>159.0</td>\n",
       "      <td>22.0</td>\n",
       "      <td>2253.49</td>\n",
       "      <td>5.0</td>\n",
       "      <td>52</td>\n",
       "      <td>NaT</td>\n",
       "      <td>Краснодар</td>\n",
       "      <td>Рафаил</td>\n",
       "      <td>Верещагин</td>\n",
       "      <td>2018-05-25</td>\n",
       "      <td>ultra</td>\n",
       "    </tr>\n",
       "    <tr>\n",
       "      <td>1</td>\n",
       "      <td>1000</td>\n",
       "      <td>60.0</td>\n",
       "      <td>172.0</td>\n",
       "      <td>43.0</td>\n",
       "      <td>23233.77</td>\n",
       "      <td>6.0</td>\n",
       "      <td>52</td>\n",
       "      <td>NaT</td>\n",
       "      <td>Краснодар</td>\n",
       "      <td>Рафаил</td>\n",
       "      <td>Верещагин</td>\n",
       "      <td>2018-05-25</td>\n",
       "      <td>ultra</td>\n",
       "    </tr>\n",
       "    <tr>\n",
       "      <td>2</td>\n",
       "      <td>1000</td>\n",
       "      <td>75.0</td>\n",
       "      <td>340.0</td>\n",
       "      <td>47.0</td>\n",
       "      <td>14003.64</td>\n",
       "      <td>7.0</td>\n",
       "      <td>52</td>\n",
       "      <td>NaT</td>\n",
       "      <td>Краснодар</td>\n",
       "      <td>Рафаил</td>\n",
       "      <td>Верещагин</td>\n",
       "      <td>2018-05-25</td>\n",
       "      <td>ultra</td>\n",
       "    </tr>\n",
       "    <tr>\n",
       "      <td>3</td>\n",
       "      <td>1000</td>\n",
       "      <td>81.0</td>\n",
       "      <td>408.0</td>\n",
       "      <td>52.0</td>\n",
       "      <td>14055.93</td>\n",
       "      <td>8.0</td>\n",
       "      <td>52</td>\n",
       "      <td>NaT</td>\n",
       "      <td>Краснодар</td>\n",
       "      <td>Рафаил</td>\n",
       "      <td>Верещагин</td>\n",
       "      <td>2018-05-25</td>\n",
       "      <td>ultra</td>\n",
       "    </tr>\n",
       "    <tr>\n",
       "      <td>4</td>\n",
       "      <td>1000</td>\n",
       "      <td>57.0</td>\n",
       "      <td>466.0</td>\n",
       "      <td>58.0</td>\n",
       "      <td>14568.91</td>\n",
       "      <td>9.0</td>\n",
       "      <td>52</td>\n",
       "      <td>NaT</td>\n",
       "      <td>Краснодар</td>\n",
       "      <td>Рафаил</td>\n",
       "      <td>Верещагин</td>\n",
       "      <td>2018-05-25</td>\n",
       "      <td>ultra</td>\n",
       "    </tr>\n",
       "    <tr>\n",
       "      <td>...</td>\n",
       "      <td>...</td>\n",
       "      <td>...</td>\n",
       "      <td>...</td>\n",
       "      <td>...</td>\n",
       "      <td>...</td>\n",
       "      <td>...</td>\n",
       "      <td>...</td>\n",
       "      <td>...</td>\n",
       "      <td>...</td>\n",
       "      <td>...</td>\n",
       "      <td>...</td>\n",
       "      <td>...</td>\n",
       "      <td>...</td>\n",
       "    </tr>\n",
       "    <tr>\n",
       "      <td>3211</td>\n",
       "      <td>1494</td>\n",
       "      <td>NaN</td>\n",
       "      <td>354.0</td>\n",
       "      <td>52.0</td>\n",
       "      <td>17767.24</td>\n",
       "      <td>10.0</td>\n",
       "      <td>62</td>\n",
       "      <td>NaT</td>\n",
       "      <td>Омск</td>\n",
       "      <td>Ренат</td>\n",
       "      <td>Андропов</td>\n",
       "      <td>2018-08-17</td>\n",
       "      <td>smart</td>\n",
       "    </tr>\n",
       "    <tr>\n",
       "      <td>3212</td>\n",
       "      <td>1494</td>\n",
       "      <td>NaN</td>\n",
       "      <td>411.0</td>\n",
       "      <td>63.0</td>\n",
       "      <td>18052.45</td>\n",
       "      <td>11.0</td>\n",
       "      <td>62</td>\n",
       "      <td>NaT</td>\n",
       "      <td>Омск</td>\n",
       "      <td>Ренат</td>\n",
       "      <td>Андропов</td>\n",
       "      <td>2018-08-17</td>\n",
       "      <td>smart</td>\n",
       "    </tr>\n",
       "    <tr>\n",
       "      <td>3213</td>\n",
       "      <td>1494</td>\n",
       "      <td>NaN</td>\n",
       "      <td>418.0</td>\n",
       "      <td>62.0</td>\n",
       "      <td>17621.21</td>\n",
       "      <td>12.0</td>\n",
       "      <td>62</td>\n",
       "      <td>NaT</td>\n",
       "      <td>Омск</td>\n",
       "      <td>Ренат</td>\n",
       "      <td>Андропов</td>\n",
       "      <td>2018-08-17</td>\n",
       "      <td>smart</td>\n",
       "    </tr>\n",
       "    <tr>\n",
       "      <td>3214</td>\n",
       "      <td>1128</td>\n",
       "      <td>NaN</td>\n",
       "      <td>NaN</td>\n",
       "      <td>NaN</td>\n",
       "      <td>NaN</td>\n",
       "      <td>NaN</td>\n",
       "      <td>51</td>\n",
       "      <td>2018-12-23</td>\n",
       "      <td>Волжский</td>\n",
       "      <td>Ксения</td>\n",
       "      <td>Агаева</td>\n",
       "      <td>2018-12-15</td>\n",
       "      <td>ultra</td>\n",
       "    </tr>\n",
       "    <tr>\n",
       "      <td>3215</td>\n",
       "      <td>1371</td>\n",
       "      <td>NaN</td>\n",
       "      <td>NaN</td>\n",
       "      <td>NaN</td>\n",
       "      <td>NaN</td>\n",
       "      <td>NaN</td>\n",
       "      <td>50</td>\n",
       "      <td>2018-12-30</td>\n",
       "      <td>Омск</td>\n",
       "      <td>Ириней</td>\n",
       "      <td>Трофимов</td>\n",
       "      <td>2018-12-25</td>\n",
       "      <td>smart</td>\n",
       "    </tr>\n",
       "  </tbody>\n",
       "</table>\n",
       "<p>3216 rows × 13 columns</p>\n",
       "</div>"
      ],
      "text/plain": [
       "      user_id  count_mes  sum_calls  count_calls    sum_mb  month  age  \\\n",
       "0        1000       22.0      159.0         22.0   2253.49    5.0   52   \n",
       "1        1000       60.0      172.0         43.0  23233.77    6.0   52   \n",
       "2        1000       75.0      340.0         47.0  14003.64    7.0   52   \n",
       "3        1000       81.0      408.0         52.0  14055.93    8.0   52   \n",
       "4        1000       57.0      466.0         58.0  14568.91    9.0   52   \n",
       "...       ...        ...        ...          ...       ...    ...  ...   \n",
       "3211     1494        NaN      354.0         52.0  17767.24   10.0   62   \n",
       "3212     1494        NaN      411.0         63.0  18052.45   11.0   62   \n",
       "3213     1494        NaN      418.0         62.0  17621.21   12.0   62   \n",
       "3214     1128        NaN        NaN          NaN       NaN    NaN   51   \n",
       "3215     1371        NaN        NaN          NaN       NaN    NaN   50   \n",
       "\n",
       "     churn_date       city first_name  last_name   reg_date tariff_name  \n",
       "0           NaT  Краснодар     Рафаил  Верещагин 2018-05-25       ultra  \n",
       "1           NaT  Краснодар     Рафаил  Верещагин 2018-05-25       ultra  \n",
       "2           NaT  Краснодар     Рафаил  Верещагин 2018-05-25       ultra  \n",
       "3           NaT  Краснодар     Рафаил  Верещагин 2018-05-25       ultra  \n",
       "4           NaT  Краснодар     Рафаил  Верещагин 2018-05-25       ultra  \n",
       "...         ...        ...        ...        ...        ...         ...  \n",
       "3211        NaT       Омск      Ренат   Андропов 2018-08-17       smart  \n",
       "3212        NaT       Омск      Ренат   Андропов 2018-08-17       smart  \n",
       "3213        NaT       Омск      Ренат   Андропов 2018-08-17       smart  \n",
       "3214 2018-12-23   Волжский     Ксения     Агаева 2018-12-15       ultra  \n",
       "3215 2018-12-30       Омск     Ириней   Трофимов 2018-12-25       smart  \n",
       "\n",
       "[3216 rows x 13 columns]"
      ]
     },
     "metadata": {},
     "output_type": "display_data"
    },
    {
     "name": "stdout",
     "output_type": "stream",
     "text": [
      "<class 'pandas.core.frame.DataFrame'>\n",
      "Int64Index: 3216 entries, 0 to 3215\n",
      "Data columns (total 13 columns):\n",
      "user_id        3216 non-null int64\n",
      "count_mes      2717 non-null float64\n",
      "sum_calls      3174 non-null float64\n",
      "count_calls    3174 non-null float64\n",
      "sum_mb         3201 non-null float64\n",
      "month          3214 non-null float64\n",
      "age            3216 non-null int64\n",
      "churn_date     189 non-null datetime64[ns]\n",
      "city           3216 non-null object\n",
      "first_name     3216 non-null object\n",
      "last_name      3216 non-null object\n",
      "reg_date       3216 non-null datetime64[ns]\n",
      "tariff_name    3216 non-null object\n",
      "dtypes: datetime64[ns](2), float64(5), int64(2), object(4)\n",
      "memory usage: 351.8+ KB\n"
     ]
    }
   ],
   "source": [
    "display(df_mes_calls_mb_users)\n",
    "df_mes_calls_mb_users.info()"
   ]
  },
  {
   "cell_type": "markdown",
   "metadata": {},
   "source": [
    "Теперь мы знаем для каждого пользователя много информации, правда в полученной таблице много пропущенных значений. Исследуем эту таблицу и заполним пустые ячейки.\n",
    "\n",
    "Всего строк в таблице 3216\n",
    "\n",
    "В столбцах count_mes, sum_calls, count_calls, sum_mb есть пропущенные значения - они возникли либо из-за того что пользователь не пользовался данной услугой, или из-за ухода пользователя с тарифа, эти пропуски можно заполнить нулевыми значениями.\n",
    "\n",
    "есть 2 строки с индексами 3214 и 3215 с полным отсутсвием данных, их можно исследовать подробнее для понимания причины пропуска"
   ]
  },
  {
   "cell_type": "markdown",
   "metadata": {},
   "source": [
    "### Преобразование объедененной таблицы"
   ]
  },
  {
   "cell_type": "markdown",
   "metadata": {},
   "source": [
    "Заполнение нулевыми значениями ячеек столбцов count_mes, sum_calls, count_calls, sum_mb"
   ]
  },
  {
   "cell_type": "code",
   "execution_count": 49,
   "metadata": {},
   "outputs": [],
   "source": [
    "lister = ['count_mes', 'sum_calls', 'count_calls', 'sum_mb']\n",
    "for col in lister:\n",
    "    df_mes_calls_mb_users[col] = df_mes_calls_mb_users[col].fillna(0)"
   ]
  },
  {
   "cell_type": "markdown",
   "metadata": {},
   "source": [
    "<div class=\"alert alert-success\">\n",
    "<h2> Комментарий ревьюера <a class=\"tocSkip\"> </h2>\n",
    "\n",
    "А можно как-то так\n",
    "    \n",
    "```python\n",
    "data[['duration_count', 'duration_sum']].fillna(0, inplace=True)\n",
    "```"
   ]
  },
  {
   "cell_type": "markdown",
   "metadata": {},
   "source": [
    "Теперь посмотрим на странные пропуски, они явно связаны с конкретным пользователем, отфильтруем по идентификатору пользователя"
   ]
  },
  {
   "cell_type": "code",
   "execution_count": 50,
   "metadata": {},
   "outputs": [
    {
     "data": {
      "text/html": [
       "<div>\n",
       "<style scoped>\n",
       "    .dataframe tbody tr th:only-of-type {\n",
       "        vertical-align: middle;\n",
       "    }\n",
       "\n",
       "    .dataframe tbody tr th {\n",
       "        vertical-align: top;\n",
       "    }\n",
       "\n",
       "    .dataframe thead th {\n",
       "        text-align: right;\n",
       "    }\n",
       "</style>\n",
       "<table border=\"1\" class=\"dataframe\">\n",
       "  <thead>\n",
       "    <tr style=\"text-align: right;\">\n",
       "      <th></th>\n",
       "      <th>user_id</th>\n",
       "      <th>count_mes</th>\n",
       "      <th>sum_calls</th>\n",
       "      <th>count_calls</th>\n",
       "      <th>sum_mb</th>\n",
       "      <th>month</th>\n",
       "      <th>age</th>\n",
       "      <th>churn_date</th>\n",
       "      <th>city</th>\n",
       "      <th>first_name</th>\n",
       "      <th>last_name</th>\n",
       "      <th>reg_date</th>\n",
       "      <th>tariff_name</th>\n",
       "    </tr>\n",
       "  </thead>\n",
       "  <tbody>\n",
       "    <tr>\n",
       "      <td>3214</td>\n",
       "      <td>1128</td>\n",
       "      <td>0.0</td>\n",
       "      <td>0.0</td>\n",
       "      <td>0.0</td>\n",
       "      <td>0.0</td>\n",
       "      <td>NaN</td>\n",
       "      <td>51</td>\n",
       "      <td>2018-12-23</td>\n",
       "      <td>Волжский</td>\n",
       "      <td>Ксения</td>\n",
       "      <td>Агаева</td>\n",
       "      <td>2018-12-15</td>\n",
       "      <td>ultra</td>\n",
       "    </tr>\n",
       "  </tbody>\n",
       "</table>\n",
       "</div>"
      ],
      "text/plain": [
       "      user_id  count_mes  sum_calls  count_calls  sum_mb  month  age  \\\n",
       "3214     1128        0.0        0.0          0.0     0.0    NaN   51   \n",
       "\n",
       "     churn_date      city first_name last_name   reg_date tariff_name  \n",
       "3214 2018-12-23  Волжский     Ксения    Агаева 2018-12-15       ultra  "
      ]
     },
     "metadata": {},
     "output_type": "display_data"
    },
    {
     "data": {
      "text/html": [
       "<div>\n",
       "<style scoped>\n",
       "    .dataframe tbody tr th:only-of-type {\n",
       "        vertical-align: middle;\n",
       "    }\n",
       "\n",
       "    .dataframe tbody tr th {\n",
       "        vertical-align: top;\n",
       "    }\n",
       "\n",
       "    .dataframe thead th {\n",
       "        text-align: right;\n",
       "    }\n",
       "</style>\n",
       "<table border=\"1\" class=\"dataframe\">\n",
       "  <thead>\n",
       "    <tr style=\"text-align: right;\">\n",
       "      <th></th>\n",
       "      <th>user_id</th>\n",
       "      <th>count_mes</th>\n",
       "      <th>sum_calls</th>\n",
       "      <th>count_calls</th>\n",
       "      <th>sum_mb</th>\n",
       "      <th>month</th>\n",
       "      <th>age</th>\n",
       "      <th>churn_date</th>\n",
       "      <th>city</th>\n",
       "      <th>first_name</th>\n",
       "      <th>last_name</th>\n",
       "      <th>reg_date</th>\n",
       "      <th>tariff_name</th>\n",
       "    </tr>\n",
       "  </thead>\n",
       "  <tbody>\n",
       "    <tr>\n",
       "      <td>3215</td>\n",
       "      <td>1371</td>\n",
       "      <td>0.0</td>\n",
       "      <td>0.0</td>\n",
       "      <td>0.0</td>\n",
       "      <td>0.0</td>\n",
       "      <td>NaN</td>\n",
       "      <td>50</td>\n",
       "      <td>2018-12-30</td>\n",
       "      <td>Омск</td>\n",
       "      <td>Ириней</td>\n",
       "      <td>Трофимов</td>\n",
       "      <td>2018-12-25</td>\n",
       "      <td>smart</td>\n",
       "    </tr>\n",
       "  </tbody>\n",
       "</table>\n",
       "</div>"
      ],
      "text/plain": [
       "      user_id  count_mes  sum_calls  count_calls  sum_mb  month  age  \\\n",
       "3215     1371        0.0        0.0          0.0     0.0    NaN   50   \n",
       "\n",
       "     churn_date  city first_name last_name   reg_date tariff_name  \n",
       "3215 2018-12-30  Омск     Ириней  Трофимов 2018-12-25       smart  "
      ]
     },
     "metadata": {},
     "output_type": "display_data"
    }
   ],
   "source": [
    "df_filter1 = df_mes_calls_mb_users[df_mes_calls_mb_users['user_id'] == 1128]\n",
    "df_filter2 = df_mes_calls_mb_users[df_mes_calls_mb_users['user_id'] == 1371]\n",
    "display(df_filter1)\n",
    "display(df_filter2)"
   ]
  },
  {
   "cell_type": "markdown",
   "metadata": {},
   "source": [
    "Эти пользователи после регистрации, не пользуясь связью, ушли с тарифа. Интересно если составить таблицу только с возрастом, ФИО и городом, удастся ли определить они ушли вообще от оператора или перешли на другой тариф."
   ]
  },
  {
   "cell_type": "code",
   "execution_count": 51,
   "metadata": {},
   "outputs": [
    {
     "data": {
      "text/html": [
       "<div>\n",
       "<style scoped>\n",
       "    .dataframe tbody tr th:only-of-type {\n",
       "        vertical-align: middle;\n",
       "    }\n",
       "\n",
       "    .dataframe tbody tr th {\n",
       "        vertical-align: top;\n",
       "    }\n",
       "\n",
       "    .dataframe thead th {\n",
       "        text-align: right;\n",
       "    }\n",
       "</style>\n",
       "<table border=\"1\" class=\"dataframe\">\n",
       "  <thead>\n",
       "    <tr style=\"text-align: right;\">\n",
       "      <th></th>\n",
       "      <th>age</th>\n",
       "      <th>city</th>\n",
       "      <th>first_name</th>\n",
       "      <th>last_name</th>\n",
       "    </tr>\n",
       "  </thead>\n",
       "  <tbody>\n",
       "    <tr>\n",
       "      <td>0</td>\n",
       "      <td>52</td>\n",
       "      <td>Краснодар</td>\n",
       "      <td>Рафаил</td>\n",
       "      <td>Верещагин</td>\n",
       "    </tr>\n",
       "    <tr>\n",
       "      <td>1</td>\n",
       "      <td>41</td>\n",
       "      <td>Москва</td>\n",
       "      <td>Иван</td>\n",
       "      <td>Ежов</td>\n",
       "    </tr>\n",
       "    <tr>\n",
       "      <td>2</td>\n",
       "      <td>59</td>\n",
       "      <td>Стерлитамак</td>\n",
       "      <td>Евгений</td>\n",
       "      <td>Абрамович</td>\n",
       "    </tr>\n",
       "    <tr>\n",
       "      <td>3</td>\n",
       "      <td>23</td>\n",
       "      <td>Москва</td>\n",
       "      <td>Белла</td>\n",
       "      <td>Белякова</td>\n",
       "    </tr>\n",
       "    <tr>\n",
       "      <td>4</td>\n",
       "      <td>68</td>\n",
       "      <td>Новокузнецк</td>\n",
       "      <td>Татьяна</td>\n",
       "      <td>Авдеенко</td>\n",
       "    </tr>\n",
       "    <tr>\n",
       "      <td>...</td>\n",
       "      <td>...</td>\n",
       "      <td>...</td>\n",
       "      <td>...</td>\n",
       "      <td>...</td>\n",
       "    </tr>\n",
       "    <tr>\n",
       "      <td>495</td>\n",
       "      <td>65</td>\n",
       "      <td>Иркутск</td>\n",
       "      <td>Авксентий</td>\n",
       "      <td>Фокин</td>\n",
       "    </tr>\n",
       "    <tr>\n",
       "      <td>496</td>\n",
       "      <td>36</td>\n",
       "      <td>Вологда</td>\n",
       "      <td>Трифон</td>\n",
       "      <td>Блохин</td>\n",
       "    </tr>\n",
       "    <tr>\n",
       "      <td>497</td>\n",
       "      <td>32</td>\n",
       "      <td>Челябинск</td>\n",
       "      <td>Каролина</td>\n",
       "      <td>Агеева</td>\n",
       "    </tr>\n",
       "    <tr>\n",
       "      <td>498</td>\n",
       "      <td>68</td>\n",
       "      <td>Владикавказ</td>\n",
       "      <td>Всеволод</td>\n",
       "      <td>Акимчин</td>\n",
       "    </tr>\n",
       "    <tr>\n",
       "      <td>499</td>\n",
       "      <td>35</td>\n",
       "      <td>Пермь</td>\n",
       "      <td>Гектор</td>\n",
       "      <td>Корнилов</td>\n",
       "    </tr>\n",
       "  </tbody>\n",
       "</table>\n",
       "<p>500 rows × 4 columns</p>\n",
       "</div>"
      ],
      "text/plain": [
       "     age         city first_name  last_name\n",
       "0     52    Краснодар     Рафаил  Верещагин\n",
       "1     41       Москва       Иван       Ежов\n",
       "2     59  Стерлитамак    Евгений  Абрамович\n",
       "3     23       Москва      Белла   Белякова\n",
       "4     68  Новокузнецк    Татьяна   Авдеенко\n",
       "..   ...          ...        ...        ...\n",
       "495   65      Иркутск  Авксентий      Фокин\n",
       "496   36      Вологда     Трифон     Блохин\n",
       "497   32    Челябинск   Каролина     Агеева\n",
       "498   68  Владикавказ   Всеволод    Акимчин\n",
       "499   35        Пермь     Гектор   Корнилов\n",
       "\n",
       "[500 rows x 4 columns]"
      ]
     },
     "metadata": {},
     "output_type": "display_data"
    }
   ],
   "source": [
    "df_research = df_users[['age', 'city', 'first_name', 'last_name']]\n",
    "display(df_research)"
   ]
  },
  {
   "cell_type": "code",
   "execution_count": 52,
   "metadata": {},
   "outputs": [
    {
     "data": {
      "text/plain": [
       "0"
      ]
     },
     "execution_count": 52,
     "metadata": {},
     "output_type": "execute_result"
    }
   ],
   "source": [
    "df_research.duplicated().sum()"
   ]
  },
  {
   "cell_type": "markdown",
   "metadata": {},
   "source": [
    "Хм интересный результат, нет ни одного повторяющегося пользователя, значит те самые 7,6 % это не смена тарифа на другой, а полный уход пользователя от оператора.\n",
    "\n",
    "Вообщем двух этих пользователей можно удалять из таблицы"
   ]
  },
  {
   "cell_type": "markdown",
   "metadata": {},
   "source": [
    "<div class=\"alert alert-success\">\n",
    "<h2> Комментарий ревьюера <a class=\"tocSkip\"> </h2>\n",
    "\n",
    "Согласен"
   ]
  },
  {
   "cell_type": "code",
   "execution_count": 53,
   "metadata": {},
   "outputs": [],
   "source": [
    "df_mes_calls_mb_users = df_mes_calls_mb_users.drop(index=[3214, 3215])"
   ]
  },
  {
   "cell_type": "code",
   "execution_count": 54,
   "metadata": {},
   "outputs": [
    {
     "name": "stdout",
     "output_type": "stream",
     "text": [
      "<class 'pandas.core.frame.DataFrame'>\n",
      "Int64Index: 3214 entries, 0 to 3213\n",
      "Data columns (total 13 columns):\n",
      "user_id        3214 non-null int64\n",
      "count_mes      3214 non-null float64\n",
      "sum_calls      3214 non-null float64\n",
      "count_calls    3214 non-null float64\n",
      "sum_mb         3214 non-null float64\n",
      "month          3214 non-null float64\n",
      "age            3214 non-null int64\n",
      "churn_date     187 non-null datetime64[ns]\n",
      "city           3214 non-null object\n",
      "first_name     3214 non-null object\n",
      "last_name      3214 non-null object\n",
      "reg_date       3214 non-null datetime64[ns]\n",
      "tariff_name    3214 non-null object\n",
      "dtypes: datetime64[ns](2), float64(5), int64(2), object(4)\n",
      "memory usage: 351.5+ KB\n"
     ]
    }
   ],
   "source": [
    "df_mes_calls_mb_users.info()"
   ]
  },
  {
   "cell_type": "markdown",
   "metadata": {},
   "source": [
    "Заодно преобразуем типы данных в столбцах count_mes, sum_calls, count_calls, month:"
   ]
  },
  {
   "cell_type": "code",
   "execution_count": 55,
   "metadata": {},
   "outputs": [],
   "source": [
    "lister = ['count_mes', 'sum_calls', 'count_calls', 'month']\n",
    "for col in lister:\n",
    "    df_mes_calls_mb_users[col] = df_mes_calls_mb_users[col].astype('int64')"
   ]
  },
  {
   "cell_type": "code",
   "execution_count": 56,
   "metadata": {},
   "outputs": [
    {
     "name": "stdout",
     "output_type": "stream",
     "text": [
      "<class 'pandas.core.frame.DataFrame'>\n",
      "Int64Index: 3214 entries, 0 to 3213\n",
      "Data columns (total 13 columns):\n",
      "user_id        3214 non-null int64\n",
      "count_mes      3214 non-null int64\n",
      "sum_calls      3214 non-null int64\n",
      "count_calls    3214 non-null int64\n",
      "sum_mb         3214 non-null float64\n",
      "month          3214 non-null int64\n",
      "age            3214 non-null int64\n",
      "churn_date     187 non-null datetime64[ns]\n",
      "city           3214 non-null object\n",
      "first_name     3214 non-null object\n",
      "last_name      3214 non-null object\n",
      "reg_date       3214 non-null datetime64[ns]\n",
      "tariff_name    3214 non-null object\n",
      "dtypes: datetime64[ns](2), float64(1), int64(6), object(4)\n",
      "memory usage: 351.5+ KB\n"
     ]
    }
   ],
   "source": [
    "df_mes_calls_mb_users.info()"
   ]
  },
  {
   "cell_type": "markdown",
   "metadata": {},
   "source": [
    "Вот теперь сводная таблица готова к дальнейшим расчетам"
   ]
  },
  {
   "cell_type": "markdown",
   "metadata": {},
   "source": [
    "### Помесячная выручка с каждого пользователя"
   ]
  },
  {
   "cell_type": "markdown",
   "metadata": {},
   "source": [
    "Дя этого расчета нам понадобится наша объединенная таблица и таблица информации о тарифах df_tariffs"
   ]
  },
  {
   "cell_type": "code",
   "execution_count": 57,
   "metadata": {},
   "outputs": [
    {
     "data": {
      "text/html": [
       "<div>\n",
       "<style scoped>\n",
       "    .dataframe tbody tr th:only-of-type {\n",
       "        vertical-align: middle;\n",
       "    }\n",
       "\n",
       "    .dataframe tbody tr th {\n",
       "        vertical-align: top;\n",
       "    }\n",
       "\n",
       "    .dataframe thead th {\n",
       "        text-align: right;\n",
       "    }\n",
       "</style>\n",
       "<table border=\"1\" class=\"dataframe\">\n",
       "  <thead>\n",
       "    <tr style=\"text-align: right;\">\n",
       "      <th></th>\n",
       "      <th>user_id</th>\n",
       "      <th>count_mes</th>\n",
       "      <th>sum_calls</th>\n",
       "      <th>count_calls</th>\n",
       "      <th>sum_mb</th>\n",
       "      <th>month</th>\n",
       "      <th>age</th>\n",
       "      <th>churn_date</th>\n",
       "      <th>city</th>\n",
       "      <th>first_name</th>\n",
       "      <th>last_name</th>\n",
       "      <th>reg_date</th>\n",
       "      <th>tariff_name</th>\n",
       "    </tr>\n",
       "  </thead>\n",
       "  <tbody>\n",
       "    <tr>\n",
       "      <td>0</td>\n",
       "      <td>1000</td>\n",
       "      <td>22</td>\n",
       "      <td>159</td>\n",
       "      <td>22</td>\n",
       "      <td>2253.49</td>\n",
       "      <td>5</td>\n",
       "      <td>52</td>\n",
       "      <td>NaT</td>\n",
       "      <td>Краснодар</td>\n",
       "      <td>Рафаил</td>\n",
       "      <td>Верещагин</td>\n",
       "      <td>2018-05-25</td>\n",
       "      <td>ultra</td>\n",
       "    </tr>\n",
       "    <tr>\n",
       "      <td>1</td>\n",
       "      <td>1000</td>\n",
       "      <td>60</td>\n",
       "      <td>172</td>\n",
       "      <td>43</td>\n",
       "      <td>23233.77</td>\n",
       "      <td>6</td>\n",
       "      <td>52</td>\n",
       "      <td>NaT</td>\n",
       "      <td>Краснодар</td>\n",
       "      <td>Рафаил</td>\n",
       "      <td>Верещагин</td>\n",
       "      <td>2018-05-25</td>\n",
       "      <td>ultra</td>\n",
       "    </tr>\n",
       "    <tr>\n",
       "      <td>2</td>\n",
       "      <td>1000</td>\n",
       "      <td>75</td>\n",
       "      <td>340</td>\n",
       "      <td>47</td>\n",
       "      <td>14003.64</td>\n",
       "      <td>7</td>\n",
       "      <td>52</td>\n",
       "      <td>NaT</td>\n",
       "      <td>Краснодар</td>\n",
       "      <td>Рафаил</td>\n",
       "      <td>Верещагин</td>\n",
       "      <td>2018-05-25</td>\n",
       "      <td>ultra</td>\n",
       "    </tr>\n",
       "    <tr>\n",
       "      <td>3</td>\n",
       "      <td>1000</td>\n",
       "      <td>81</td>\n",
       "      <td>408</td>\n",
       "      <td>52</td>\n",
       "      <td>14055.93</td>\n",
       "      <td>8</td>\n",
       "      <td>52</td>\n",
       "      <td>NaT</td>\n",
       "      <td>Краснодар</td>\n",
       "      <td>Рафаил</td>\n",
       "      <td>Верещагин</td>\n",
       "      <td>2018-05-25</td>\n",
       "      <td>ultra</td>\n",
       "    </tr>\n",
       "    <tr>\n",
       "      <td>4</td>\n",
       "      <td>1000</td>\n",
       "      <td>57</td>\n",
       "      <td>466</td>\n",
       "      <td>58</td>\n",
       "      <td>14568.91</td>\n",
       "      <td>9</td>\n",
       "      <td>52</td>\n",
       "      <td>NaT</td>\n",
       "      <td>Краснодар</td>\n",
       "      <td>Рафаил</td>\n",
       "      <td>Верещагин</td>\n",
       "      <td>2018-05-25</td>\n",
       "      <td>ultra</td>\n",
       "    </tr>\n",
       "    <tr>\n",
       "      <td>...</td>\n",
       "      <td>...</td>\n",
       "      <td>...</td>\n",
       "      <td>...</td>\n",
       "      <td>...</td>\n",
       "      <td>...</td>\n",
       "      <td>...</td>\n",
       "      <td>...</td>\n",
       "      <td>...</td>\n",
       "      <td>...</td>\n",
       "      <td>...</td>\n",
       "      <td>...</td>\n",
       "      <td>...</td>\n",
       "      <td>...</td>\n",
       "    </tr>\n",
       "    <tr>\n",
       "      <td>3209</td>\n",
       "      <td>1494</td>\n",
       "      <td>0</td>\n",
       "      <td>262</td>\n",
       "      <td>32</td>\n",
       "      <td>6590.75</td>\n",
       "      <td>8</td>\n",
       "      <td>62</td>\n",
       "      <td>NaT</td>\n",
       "      <td>Омск</td>\n",
       "      <td>Ренат</td>\n",
       "      <td>Андропов</td>\n",
       "      <td>2018-08-17</td>\n",
       "      <td>smart</td>\n",
       "    </tr>\n",
       "    <tr>\n",
       "      <td>3210</td>\n",
       "      <td>1494</td>\n",
       "      <td>0</td>\n",
       "      <td>501</td>\n",
       "      <td>66</td>\n",
       "      <td>16962.51</td>\n",
       "      <td>9</td>\n",
       "      <td>62</td>\n",
       "      <td>NaT</td>\n",
       "      <td>Омск</td>\n",
       "      <td>Ренат</td>\n",
       "      <td>Андропов</td>\n",
       "      <td>2018-08-17</td>\n",
       "      <td>smart</td>\n",
       "    </tr>\n",
       "    <tr>\n",
       "      <td>3211</td>\n",
       "      <td>1494</td>\n",
       "      <td>0</td>\n",
       "      <td>354</td>\n",
       "      <td>52</td>\n",
       "      <td>17767.24</td>\n",
       "      <td>10</td>\n",
       "      <td>62</td>\n",
       "      <td>NaT</td>\n",
       "      <td>Омск</td>\n",
       "      <td>Ренат</td>\n",
       "      <td>Андропов</td>\n",
       "      <td>2018-08-17</td>\n",
       "      <td>smart</td>\n",
       "    </tr>\n",
       "    <tr>\n",
       "      <td>3212</td>\n",
       "      <td>1494</td>\n",
       "      <td>0</td>\n",
       "      <td>411</td>\n",
       "      <td>63</td>\n",
       "      <td>18052.45</td>\n",
       "      <td>11</td>\n",
       "      <td>62</td>\n",
       "      <td>NaT</td>\n",
       "      <td>Омск</td>\n",
       "      <td>Ренат</td>\n",
       "      <td>Андропов</td>\n",
       "      <td>2018-08-17</td>\n",
       "      <td>smart</td>\n",
       "    </tr>\n",
       "    <tr>\n",
       "      <td>3213</td>\n",
       "      <td>1494</td>\n",
       "      <td>0</td>\n",
       "      <td>418</td>\n",
       "      <td>62</td>\n",
       "      <td>17621.21</td>\n",
       "      <td>12</td>\n",
       "      <td>62</td>\n",
       "      <td>NaT</td>\n",
       "      <td>Омск</td>\n",
       "      <td>Ренат</td>\n",
       "      <td>Андропов</td>\n",
       "      <td>2018-08-17</td>\n",
       "      <td>smart</td>\n",
       "    </tr>\n",
       "  </tbody>\n",
       "</table>\n",
       "<p>3214 rows × 13 columns</p>\n",
       "</div>"
      ],
      "text/plain": [
       "      user_id  count_mes  sum_calls  count_calls    sum_mb  month  age  \\\n",
       "0        1000         22        159           22   2253.49      5   52   \n",
       "1        1000         60        172           43  23233.77      6   52   \n",
       "2        1000         75        340           47  14003.64      7   52   \n",
       "3        1000         81        408           52  14055.93      8   52   \n",
       "4        1000         57        466           58  14568.91      9   52   \n",
       "...       ...        ...        ...          ...       ...    ...  ...   \n",
       "3209     1494          0        262           32   6590.75      8   62   \n",
       "3210     1494          0        501           66  16962.51      9   62   \n",
       "3211     1494          0        354           52  17767.24     10   62   \n",
       "3212     1494          0        411           63  18052.45     11   62   \n",
       "3213     1494          0        418           62  17621.21     12   62   \n",
       "\n",
       "     churn_date       city first_name  last_name   reg_date tariff_name  \n",
       "0           NaT  Краснодар     Рафаил  Верещагин 2018-05-25       ultra  \n",
       "1           NaT  Краснодар     Рафаил  Верещагин 2018-05-25       ultra  \n",
       "2           NaT  Краснодар     Рафаил  Верещагин 2018-05-25       ultra  \n",
       "3           NaT  Краснодар     Рафаил  Верещагин 2018-05-25       ultra  \n",
       "4           NaT  Краснодар     Рафаил  Верещагин 2018-05-25       ultra  \n",
       "...         ...        ...        ...        ...        ...         ...  \n",
       "3209        NaT       Омск      Ренат   Андропов 2018-08-17       smart  \n",
       "3210        NaT       Омск      Ренат   Андропов 2018-08-17       smart  \n",
       "3211        NaT       Омск      Ренат   Андропов 2018-08-17       smart  \n",
       "3212        NaT       Омск      Ренат   Андропов 2018-08-17       smart  \n",
       "3213        NaT       Омск      Ренат   Андропов 2018-08-17       smart  \n",
       "\n",
       "[3214 rows x 13 columns]"
      ]
     },
     "metadata": {},
     "output_type": "display_data"
    }
   ],
   "source": [
    "display(df_mes_calls_mb_users)"
   ]
  },
  {
   "cell_type": "code",
   "execution_count": 58,
   "metadata": {},
   "outputs": [
    {
     "data": {
      "text/html": [
       "<div>\n",
       "<style scoped>\n",
       "    .dataframe tbody tr th:only-of-type {\n",
       "        vertical-align: middle;\n",
       "    }\n",
       "\n",
       "    .dataframe tbody tr th {\n",
       "        vertical-align: top;\n",
       "    }\n",
       "\n",
       "    .dataframe thead th {\n",
       "        text-align: right;\n",
       "    }\n",
       "</style>\n",
       "<table border=\"1\" class=\"dataframe\">\n",
       "  <thead>\n",
       "    <tr style=\"text-align: right;\">\n",
       "      <th></th>\n",
       "      <th>messages_included</th>\n",
       "      <th>mb_per_month_included</th>\n",
       "      <th>minutes_included</th>\n",
       "      <th>rub_monthly_fee</th>\n",
       "      <th>rub_per_gb</th>\n",
       "      <th>rub_per_message</th>\n",
       "      <th>rub_per_minute</th>\n",
       "      <th>tariff_name</th>\n",
       "    </tr>\n",
       "  </thead>\n",
       "  <tbody>\n",
       "    <tr>\n",
       "      <td>0</td>\n",
       "      <td>50</td>\n",
       "      <td>15360</td>\n",
       "      <td>500</td>\n",
       "      <td>550</td>\n",
       "      <td>200</td>\n",
       "      <td>3</td>\n",
       "      <td>3</td>\n",
       "      <td>smart</td>\n",
       "    </tr>\n",
       "    <tr>\n",
       "      <td>1</td>\n",
       "      <td>1000</td>\n",
       "      <td>30720</td>\n",
       "      <td>3000</td>\n",
       "      <td>1950</td>\n",
       "      <td>150</td>\n",
       "      <td>1</td>\n",
       "      <td>1</td>\n",
       "      <td>ultra</td>\n",
       "    </tr>\n",
       "  </tbody>\n",
       "</table>\n",
       "</div>"
      ],
      "text/plain": [
       "   messages_included  mb_per_month_included  minutes_included  \\\n",
       "0                 50                  15360               500   \n",
       "1               1000                  30720              3000   \n",
       "\n",
       "   rub_monthly_fee  rub_per_gb  rub_per_message  rub_per_minute tariff_name  \n",
       "0              550         200                3               3       smart  \n",
       "1             1950         150                1               1       ultra  "
      ]
     },
     "execution_count": 58,
     "metadata": {},
     "output_type": "execute_result"
    }
   ],
   "source": [
    "df_tariffs.head()"
   ]
  },
  {
   "cell_type": "markdown",
   "metadata": {},
   "source": [
    "Создадим функцию расчета выручки с каждого пользователя с учетом оплаты тарифа плюс переплаты за использования минут, смс и мб сверх тарифа."
   ]
  },
  {
   "cell_type": "code",
   "execution_count": 59,
   "metadata": {},
   "outputs": [],
   "source": [
    "def how_much(row):\n",
    "    # выделим из строчки соответствующие значения\n",
    "    mes = row['count_mes']\n",
    "    calls = row['sum_calls']\n",
    "    mb = row['sum_mb']\n",
    "    tariff = row['tariff_name']\n",
    "    \n",
    "    # создаим условие проверки тарифа, дальнейшие вычесления будут отличаться лишь индексом из таблицы тарифов\n",
    "    if tariff == 'smart':\n",
    "        idx = 0\n",
    "    else:\n",
    "        idx = 1\n",
    "    # далее вычисляем оплату за тариф и сверх тарифа   \n",
    "    how_much = df_tariffs.loc[idx, 'rub_monthly_fee']\n",
    "    how_much_mes = (mes - df_tariffs.loc[idx, 'messages_included']) * df_tariffs.loc[idx, 'rub_per_message']\n",
    "    how_much_calls = (calls - df_tariffs.loc[idx, 'minutes_included']) * df_tariffs.loc[idx, 'rub_per_minute']\n",
    "    how_much_gb = math.ceil((mb - df_tariffs.loc[idx, 'mb_per_month_included'])/1024)\n",
    "    how_much_mb = how_much_gb * df_tariffs.loc[idx, 'rub_per_gb']\n",
    "    # убираем значения меньше включенных в тариф\n",
    "    if how_much_mes < 0:\n",
    "        how_much_mes = 0\n",
    "    if how_much_calls < 0:\n",
    "        how_much_calls = 0\n",
    "    if how_much_gb < 0:\n",
    "        how_much_mb = 0\n",
    "    # суммируем значения ежемесячной абонентской платы и переплаты за использование сверх тарифа\n",
    "    how_much_total = how_much + how_much_mes + how_much_calls + how_much_mb\n",
    "    return how_much_total\n",
    "       \n",
    "  \n",
    "# Добавляем новый столбец\n",
    "df_mes_calls_mb_users['how_much']  = df_mes_calls_mb_users.apply(how_much, axis=1)\n",
    "        "
   ]
  },
  {
   "cell_type": "code",
   "execution_count": 60,
   "metadata": {},
   "outputs": [
    {
     "data": {
      "text/html": [
       "<div>\n",
       "<style scoped>\n",
       "    .dataframe tbody tr th:only-of-type {\n",
       "        vertical-align: middle;\n",
       "    }\n",
       "\n",
       "    .dataframe tbody tr th {\n",
       "        vertical-align: top;\n",
       "    }\n",
       "\n",
       "    .dataframe thead th {\n",
       "        text-align: right;\n",
       "    }\n",
       "</style>\n",
       "<table border=\"1\" class=\"dataframe\">\n",
       "  <thead>\n",
       "    <tr style=\"text-align: right;\">\n",
       "      <th></th>\n",
       "      <th>user_id</th>\n",
       "      <th>count_mes</th>\n",
       "      <th>sum_calls</th>\n",
       "      <th>count_calls</th>\n",
       "      <th>sum_mb</th>\n",
       "      <th>month</th>\n",
       "      <th>age</th>\n",
       "      <th>churn_date</th>\n",
       "      <th>city</th>\n",
       "      <th>first_name</th>\n",
       "      <th>last_name</th>\n",
       "      <th>reg_date</th>\n",
       "      <th>tariff_name</th>\n",
       "      <th>how_much</th>\n",
       "    </tr>\n",
       "  </thead>\n",
       "  <tbody>\n",
       "    <tr>\n",
       "      <td>0</td>\n",
       "      <td>1000</td>\n",
       "      <td>22</td>\n",
       "      <td>159</td>\n",
       "      <td>22</td>\n",
       "      <td>2253.49</td>\n",
       "      <td>5</td>\n",
       "      <td>52</td>\n",
       "      <td>NaT</td>\n",
       "      <td>Краснодар</td>\n",
       "      <td>Рафаил</td>\n",
       "      <td>Верещагин</td>\n",
       "      <td>2018-05-25</td>\n",
       "      <td>ultra</td>\n",
       "      <td>1950</td>\n",
       "    </tr>\n",
       "    <tr>\n",
       "      <td>1</td>\n",
       "      <td>1000</td>\n",
       "      <td>60</td>\n",
       "      <td>172</td>\n",
       "      <td>43</td>\n",
       "      <td>23233.77</td>\n",
       "      <td>6</td>\n",
       "      <td>52</td>\n",
       "      <td>NaT</td>\n",
       "      <td>Краснодар</td>\n",
       "      <td>Рафаил</td>\n",
       "      <td>Верещагин</td>\n",
       "      <td>2018-05-25</td>\n",
       "      <td>ultra</td>\n",
       "      <td>1950</td>\n",
       "    </tr>\n",
       "    <tr>\n",
       "      <td>2</td>\n",
       "      <td>1000</td>\n",
       "      <td>75</td>\n",
       "      <td>340</td>\n",
       "      <td>47</td>\n",
       "      <td>14003.64</td>\n",
       "      <td>7</td>\n",
       "      <td>52</td>\n",
       "      <td>NaT</td>\n",
       "      <td>Краснодар</td>\n",
       "      <td>Рафаил</td>\n",
       "      <td>Верещагин</td>\n",
       "      <td>2018-05-25</td>\n",
       "      <td>ultra</td>\n",
       "      <td>1950</td>\n",
       "    </tr>\n",
       "    <tr>\n",
       "      <td>3</td>\n",
       "      <td>1000</td>\n",
       "      <td>81</td>\n",
       "      <td>408</td>\n",
       "      <td>52</td>\n",
       "      <td>14055.93</td>\n",
       "      <td>8</td>\n",
       "      <td>52</td>\n",
       "      <td>NaT</td>\n",
       "      <td>Краснодар</td>\n",
       "      <td>Рафаил</td>\n",
       "      <td>Верещагин</td>\n",
       "      <td>2018-05-25</td>\n",
       "      <td>ultra</td>\n",
       "      <td>1950</td>\n",
       "    </tr>\n",
       "    <tr>\n",
       "      <td>4</td>\n",
       "      <td>1000</td>\n",
       "      <td>57</td>\n",
       "      <td>466</td>\n",
       "      <td>58</td>\n",
       "      <td>14568.91</td>\n",
       "      <td>9</td>\n",
       "      <td>52</td>\n",
       "      <td>NaT</td>\n",
       "      <td>Краснодар</td>\n",
       "      <td>Рафаил</td>\n",
       "      <td>Верещагин</td>\n",
       "      <td>2018-05-25</td>\n",
       "      <td>ultra</td>\n",
       "      <td>1950</td>\n",
       "    </tr>\n",
       "    <tr>\n",
       "      <td>...</td>\n",
       "      <td>...</td>\n",
       "      <td>...</td>\n",
       "      <td>...</td>\n",
       "      <td>...</td>\n",
       "      <td>...</td>\n",
       "      <td>...</td>\n",
       "      <td>...</td>\n",
       "      <td>...</td>\n",
       "      <td>...</td>\n",
       "      <td>...</td>\n",
       "      <td>...</td>\n",
       "      <td>...</td>\n",
       "      <td>...</td>\n",
       "      <td>...</td>\n",
       "    </tr>\n",
       "    <tr>\n",
       "      <td>3209</td>\n",
       "      <td>1494</td>\n",
       "      <td>0</td>\n",
       "      <td>262</td>\n",
       "      <td>32</td>\n",
       "      <td>6590.75</td>\n",
       "      <td>8</td>\n",
       "      <td>62</td>\n",
       "      <td>NaT</td>\n",
       "      <td>Омск</td>\n",
       "      <td>Ренат</td>\n",
       "      <td>Андропов</td>\n",
       "      <td>2018-08-17</td>\n",
       "      <td>smart</td>\n",
       "      <td>550</td>\n",
       "    </tr>\n",
       "    <tr>\n",
       "      <td>3210</td>\n",
       "      <td>1494</td>\n",
       "      <td>0</td>\n",
       "      <td>501</td>\n",
       "      <td>66</td>\n",
       "      <td>16962.51</td>\n",
       "      <td>9</td>\n",
       "      <td>62</td>\n",
       "      <td>NaT</td>\n",
       "      <td>Омск</td>\n",
       "      <td>Ренат</td>\n",
       "      <td>Андропов</td>\n",
       "      <td>2018-08-17</td>\n",
       "      <td>smart</td>\n",
       "      <td>953</td>\n",
       "    </tr>\n",
       "    <tr>\n",
       "      <td>3211</td>\n",
       "      <td>1494</td>\n",
       "      <td>0</td>\n",
       "      <td>354</td>\n",
       "      <td>52</td>\n",
       "      <td>17767.24</td>\n",
       "      <td>10</td>\n",
       "      <td>62</td>\n",
       "      <td>NaT</td>\n",
       "      <td>Омск</td>\n",
       "      <td>Ренат</td>\n",
       "      <td>Андропов</td>\n",
       "      <td>2018-08-17</td>\n",
       "      <td>smart</td>\n",
       "      <td>1150</td>\n",
       "    </tr>\n",
       "    <tr>\n",
       "      <td>3212</td>\n",
       "      <td>1494</td>\n",
       "      <td>0</td>\n",
       "      <td>411</td>\n",
       "      <td>63</td>\n",
       "      <td>18052.45</td>\n",
       "      <td>11</td>\n",
       "      <td>62</td>\n",
       "      <td>NaT</td>\n",
       "      <td>Омск</td>\n",
       "      <td>Ренат</td>\n",
       "      <td>Андропов</td>\n",
       "      <td>2018-08-17</td>\n",
       "      <td>smart</td>\n",
       "      <td>1150</td>\n",
       "    </tr>\n",
       "    <tr>\n",
       "      <td>3213</td>\n",
       "      <td>1494</td>\n",
       "      <td>0</td>\n",
       "      <td>418</td>\n",
       "      <td>62</td>\n",
       "      <td>17621.21</td>\n",
       "      <td>12</td>\n",
       "      <td>62</td>\n",
       "      <td>NaT</td>\n",
       "      <td>Омск</td>\n",
       "      <td>Ренат</td>\n",
       "      <td>Андропов</td>\n",
       "      <td>2018-08-17</td>\n",
       "      <td>smart</td>\n",
       "      <td>1150</td>\n",
       "    </tr>\n",
       "  </tbody>\n",
       "</table>\n",
       "<p>3214 rows × 14 columns</p>\n",
       "</div>"
      ],
      "text/plain": [
       "      user_id  count_mes  sum_calls  count_calls    sum_mb  month  age  \\\n",
       "0        1000         22        159           22   2253.49      5   52   \n",
       "1        1000         60        172           43  23233.77      6   52   \n",
       "2        1000         75        340           47  14003.64      7   52   \n",
       "3        1000         81        408           52  14055.93      8   52   \n",
       "4        1000         57        466           58  14568.91      9   52   \n",
       "...       ...        ...        ...          ...       ...    ...  ...   \n",
       "3209     1494          0        262           32   6590.75      8   62   \n",
       "3210     1494          0        501           66  16962.51      9   62   \n",
       "3211     1494          0        354           52  17767.24     10   62   \n",
       "3212     1494          0        411           63  18052.45     11   62   \n",
       "3213     1494          0        418           62  17621.21     12   62   \n",
       "\n",
       "     churn_date       city first_name  last_name   reg_date tariff_name  \\\n",
       "0           NaT  Краснодар     Рафаил  Верещагин 2018-05-25       ultra   \n",
       "1           NaT  Краснодар     Рафаил  Верещагин 2018-05-25       ultra   \n",
       "2           NaT  Краснодар     Рафаил  Верещагин 2018-05-25       ultra   \n",
       "3           NaT  Краснодар     Рафаил  Верещагин 2018-05-25       ultra   \n",
       "4           NaT  Краснодар     Рафаил  Верещагин 2018-05-25       ultra   \n",
       "...         ...        ...        ...        ...        ...         ...   \n",
       "3209        NaT       Омск      Ренат   Андропов 2018-08-17       smart   \n",
       "3210        NaT       Омск      Ренат   Андропов 2018-08-17       smart   \n",
       "3211        NaT       Омск      Ренат   Андропов 2018-08-17       smart   \n",
       "3212        NaT       Омск      Ренат   Андропов 2018-08-17       smart   \n",
       "3213        NaT       Омск      Ренат   Андропов 2018-08-17       smart   \n",
       "\n",
       "      how_much  \n",
       "0         1950  \n",
       "1         1950  \n",
       "2         1950  \n",
       "3         1950  \n",
       "4         1950  \n",
       "...        ...  \n",
       "3209       550  \n",
       "3210       953  \n",
       "3211      1150  \n",
       "3212      1150  \n",
       "3213      1150  \n",
       "\n",
       "[3214 rows x 14 columns]"
      ]
     },
     "metadata": {},
     "output_type": "display_data"
    }
   ],
   "source": [
    "display(df_mes_calls_mb_users)"
   ]
  },
  {
   "cell_type": "markdown",
   "metadata": {},
   "source": [
    "<div class=\"alert alert-success\">\n",
    "<h2> Комментарий ревьюера <a class=\"tocSkip\"> </h2>\n",
    "\n",
    "Огонь)"
   ]
  },
  {
   "cell_type": "markdown",
   "metadata": {},
   "source": [
    "Судя по просмотру таблицы вычисления произведены верно\n",
    "\n",
    "Таблица готова для дальнейшего анализа"
   ]
  },
  {
   "cell_type": "markdown",
   "metadata": {},
   "source": [
    "## Проанализируем данные из полученной таблицы"
   ]
  },
  {
   "cell_type": "markdown",
   "metadata": {},
   "source": [
    "Сколько минут разговора, сколько сообщений и какой объём интернет-трафика требуется пользователям каждого тарифа в месяц? Посчитаем среднее количество, дисперсию и стандартное отклонение. Построим гистограммы. Опишем распределения."
   ]
  },
  {
   "cell_type": "markdown",
   "metadata": {},
   "source": [
    "### Сколько минут разговора требуется пользователям каждого тарифа в месяц"
   ]
  },
  {
   "cell_type": "markdown",
   "metadata": {},
   "source": [
    "Для этого отфильтруем по тарифу и построим гистограммы"
   ]
  },
  {
   "cell_type": "code",
   "execution_count": 61,
   "metadata": {},
   "outputs": [],
   "source": [
    "df_smart = df_mes_calls_mb_users[df_mes_calls_mb_users['tariff_name'] == 'smart']"
   ]
  },
  {
   "cell_type": "code",
   "execution_count": 62,
   "metadata": {},
   "outputs": [],
   "source": [
    "df_ultra = df_mes_calls_mb_users[df_mes_calls_mb_users['tariff_name'] == 'ultra']"
   ]
  },
  {
   "cell_type": "code",
   "execution_count": 63,
   "metadata": {},
   "outputs": [
    {
     "data": {
      "image/png": "[encoded data removed]",
      "text/plain": [
       "<Figure size 432x288 with 1 Axes>"
      ]
     },
     "metadata": {
      "needs_background": "light"
     },
     "output_type": "display_data"
    }
   ],
   "source": [
    "plt.hist(df_smart['sum_calls'], range = (0, 1200), bins=100)\n",
    "plt.ylabel('Частотность')\n",
    "plt.xlabel('Количество минут разговоров в месяц тариф Smart')\n",
    "plt.grid();"
   ]
  },
  {
   "cell_type": "markdown",
   "metadata": {},
   "source": [
    "<div class=\"alert alert-warning\">\n",
    "<h2> Комментарий ревьюера <a class=\"tocSkip\"> </h2>\n",
    "\n",
    "В данном разделе можно было бы вывести две зависимости вместе, по Smart и по Ultra. Или например потренироваться в построении графиков [subplot](https://matplotlib.org/3.1.0/api/_as_gen/matplotlib.pyplot.subplots.html)\n",
    "    \n",
    "</div>"
   ]
  },
  {
   "cell_type": "markdown",
   "metadata": {},
   "source": [
    "<div class=\"alert alert-info\">\n",
    "<b>Комментарий</b> Добавил здесь и для смс и мегабайт </div>"
   ]
  },
  {
   "cell_type": "code",
   "execution_count": 64,
   "metadata": {},
   "outputs": [
    {
     "data": {
      "image/png": "[encoded data removed]",
      "text/plain": [
       "<Figure size 432x288 with 1 Axes>"
      ]
     },
     "metadata": {
      "needs_background": "light"
     },
     "output_type": "display_data"
    }
   ],
   "source": [
    "plt.hist(df_mes_calls_mb_users[df_mes_calls_mb_users['tariff_name'] == 'smart']['sum_calls']\n",
    "         , range = (0, 1500), bins=100, label = 'smart')\n",
    "plt.hist(df_mes_calls_mb_users[df_mes_calls_mb_users['tariff_name'] == 'ultra']['sum_calls']\n",
    "         , range = (0, 1500), bins=100, label = 'ultra')\n",
    "plt.ylabel('Частотность')\n",
    "plt.xlabel('Количество минут разговоров в месяц')\n",
    "plt.legend()\n",
    "plt.grid();"
   ]
  },
  {
   "cell_type": "markdown",
   "metadata": {},
   "source": [
    "<div class=\"alert alert-success\">\n",
    "<h2> Комментарий ревьюера v2 <a class=\"tocSkip\"> </h2>\n",
    "\n",
    "Огонь, то что нужно!"
   ]
  },
  {
   "cell_type": "code",
   "execution_count": 65,
   "metadata": {},
   "outputs": [
    {
     "data": {
      "text/plain": [
       "count    2229.000000\n",
       "mean      417.934948\n",
       "std       190.313730\n",
       "min         0.000000\n",
       "25%       282.000000\n",
       "50%       422.000000\n",
       "75%       545.000000\n",
       "max      1435.000000\n",
       "Name: sum_calls, dtype: float64"
      ]
     },
     "execution_count": 65,
     "metadata": {},
     "output_type": "execute_result"
    }
   ],
   "source": [
    "df_smart['sum_calls'].describe()"
   ]
  },
  {
   "cell_type": "markdown",
   "metadata": {},
   "source": []
  },
  {
   "cell_type": "code",
   "execution_count": 66,
   "metadata": {},
   "outputs": [
    {
     "data": {
      "image/png": "[encoded data removed]",
      "text/plain": [
       "<Figure size 432x288 with 1 Axes>"
      ]
     },
     "metadata": {
      "needs_background": "light"
     },
     "output_type": "display_data"
    }
   ],
   "source": [
    "plt.hist(df_ultra['sum_calls'], range = (0, 1500), bins=100)\n",
    "plt.ylabel('Частотность')\n",
    "plt.xlabel('Количество минут разговоров в месяц тариф Ultra')\n",
    "plt.grid();"
   ]
  },
  {
   "cell_type": "code",
   "execution_count": 67,
   "metadata": {},
   "outputs": [
    {
     "data": {
      "text/plain": [
       "count     985.000000\n",
       "mean      526.623350\n",
       "std       317.606098\n",
       "min         0.000000\n",
       "25%       284.000000\n",
       "50%       518.000000\n",
       "75%       752.000000\n",
       "max      1673.000000\n",
       "Name: sum_calls, dtype: float64"
      ]
     },
     "execution_count": 67,
     "metadata": {},
     "output_type": "execute_result"
    }
   ],
   "source": [
    "df_ultra['sum_calls'].describe()"
   ]
  },
  {
   "cell_type": "markdown",
   "metadata": {},
   "source": [
    "Для верного отражения действительности нужно исключить нулевую длительность звонков. Так как нулевые звонки влияют на расчеты, и особенно существенно в тарифе ultra.\n",
    "\n",
    "Интересно как изменятся данные с нулями и без нулей."
   ]
  },
  {
   "cell_type": "code",
   "execution_count": 68,
   "metadata": {},
   "outputs": [
    {
     "data": {
      "text/plain": [
       "count    2221.000000\n",
       "mean      419.440342\n",
       "std       188.992403\n",
       "min         2.000000\n",
       "25%       285.000000\n",
       "50%       423.000000\n",
       "75%       546.000000\n",
       "max      1435.000000\n",
       "Name: sum_calls, dtype: float64"
      ]
     },
     "execution_count": 68,
     "metadata": {},
     "output_type": "execute_result"
    }
   ],
   "source": [
    "df_smart[df_smart['sum_calls'] != 0]['sum_calls'].describe()"
   ]
  },
  {
   "cell_type": "code",
   "execution_count": 69,
   "metadata": {},
   "outputs": [
    {
     "data": {
      "text/plain": [
       "count     947.000000\n",
       "mean      547.755016\n",
       "std       305.513385\n",
       "min         1.000000\n",
       "25%       311.000000\n",
       "50%       529.000000\n",
       "75%       758.000000\n",
       "max      1673.000000\n",
       "Name: sum_calls, dtype: float64"
      ]
     },
     "execution_count": 69,
     "metadata": {},
     "output_type": "execute_result"
    }
   ],
   "source": [
    "df_ultra[df_ultra['sum_calls'] != 0]['sum_calls'].describe()"
   ]
  },
  {
   "cell_type": "markdown",
   "metadata": {},
   "source": [
    "Найдем для тарифов дисперсию:\n",
    "\n",
    "<b>можно конечно же просто возвести в квадрат std, но для запоминания воспользуемся методом .var()"
   ]
  },
  {
   "cell_type": "code",
   "execution_count": 70,
   "metadata": {},
   "outputs": [
    {
     "data": {
      "text/plain": [
       "35718.128533936906"
      ]
     },
     "execution_count": 70,
     "metadata": {},
     "output_type": "execute_result"
    }
   ],
   "source": [
    "df_smart[df_smart['sum_calls'] != 0].var()['sum_calls']"
   ]
  },
  {
   "cell_type": "code",
   "execution_count": 71,
   "metadata": {},
   "outputs": [
    {
     "data": {
      "text/plain": [
       "93338.42829141095"
      ]
     },
     "execution_count": 71,
     "metadata": {},
     "output_type": "execute_result"
    }
   ],
   "source": [
    "df_ultra[df_ultra['sum_calls'] != 0].var()['sum_calls']"
   ]
  },
  {
   "cell_type": "markdown",
   "metadata": {},
   "source": [
    "Для тарифа Smart:\n",
    "\n",
    "* среднее количество минут - 419\n",
    "* стандартное отклонение - 188\n",
    "* дисперсия - 35 718\n",
    "\n",
    "Для тарифа Ultra:\n",
    "\n",
    "* среднее количество минут - 548\n",
    "* стандартное отклонение - 305\n",
    "* дисперсия - 93 338\n"
   ]
  },
  {
   "cell_type": "markdown",
   "metadata": {},
   "source": [
    "<div class=\"alert alert-success\">\n",
    "<h2> Комментарий ревьюера <a class=\"tocSkip\"> </h2>\n",
    "\n",
    "А вот как можно было все одним скопом посчитать)"
   ]
  },
  {
   "cell_type": "code",
   "execution_count": 72,
   "metadata": {},
   "outputs": [
    {
     "data": {
      "text/html": [
       "<style  type=\"text/css\" >\n",
       "</style><table id=\"T_33eb023e_2759_11ec_8114_02420a394407\" ><thead>    <tr>        <th class=\"blank\" ></th>        <th class=\"index_name level0\" >tariff_name</th>        <th class=\"col_heading level0 col0\" >smart</th>        <th class=\"col_heading level0 col1\" >ultra</th>    </tr></thead><tbody>\n",
       "                <tr>\n",
       "                        <th id=\"T_33eb023e_2759_11ec_8114_02420a394407level0_row0\" class=\"row_heading level0 row0\" rowspan=3>mean</th>\n",
       "                        <th id=\"T_33eb023e_2759_11ec_8114_02420a394407level1_row0\" class=\"row_heading level1 row0\" >count_calls</th>\n",
       "                        <td id=\"T_33eb023e_2759_11ec_8114_02420a394407row0_col0\" class=\"data row0 col0\" >58.46</td>\n",
       "                        <td id=\"T_33eb023e_2759_11ec_8114_02420a394407row0_col1\" class=\"data row0 col1\" >73.39</td>\n",
       "            </tr>\n",
       "            <tr>\n",
       "                                <th id=\"T_33eb023e_2759_11ec_8114_02420a394407level1_row1\" class=\"row_heading level1 row1\" >sum_calls</th>\n",
       "                        <td id=\"T_33eb023e_2759_11ec_8114_02420a394407row1_col0\" class=\"data row1 col0\" >417.93</td>\n",
       "                        <td id=\"T_33eb023e_2759_11ec_8114_02420a394407row1_col1\" class=\"data row1 col1\" >526.62</td>\n",
       "            </tr>\n",
       "            <tr>\n",
       "                                <th id=\"T_33eb023e_2759_11ec_8114_02420a394407level1_row2\" class=\"row_heading level1 row2\" >sum_mb</th>\n",
       "                        <td id=\"T_33eb023e_2759_11ec_8114_02420a394407row2_col0\" class=\"data row2 col0\" >16208.39</td>\n",
       "                        <td id=\"T_33eb023e_2759_11ec_8114_02420a394407row2_col1\" class=\"data row2 col1\" >19468.81</td>\n",
       "            </tr>\n",
       "            <tr>\n",
       "                        <th id=\"T_33eb023e_2759_11ec_8114_02420a394407level0_row3\" class=\"row_heading level0 row3\" rowspan=3>std</th>\n",
       "                        <th id=\"T_33eb023e_2759_11ec_8114_02420a394407level1_row3\" class=\"row_heading level1 row3\" >count_calls</th>\n",
       "                        <td id=\"T_33eb023e_2759_11ec_8114_02420a394407row3_col0\" class=\"data row3 col0\" >25.94</td>\n",
       "                        <td id=\"T_33eb023e_2759_11ec_8114_02420a394407row3_col1\" class=\"data row3 col1\" >43.92</td>\n",
       "            </tr>\n",
       "            <tr>\n",
       "                                <th id=\"T_33eb023e_2759_11ec_8114_02420a394407level1_row4\" class=\"row_heading level1 row4\" >sum_calls</th>\n",
       "                        <td id=\"T_33eb023e_2759_11ec_8114_02420a394407row4_col0\" class=\"data row4 col0\" >190.31</td>\n",
       "                        <td id=\"T_33eb023e_2759_11ec_8114_02420a394407row4_col1\" class=\"data row4 col1\" >317.61</td>\n",
       "            </tr>\n",
       "            <tr>\n",
       "                                <th id=\"T_33eb023e_2759_11ec_8114_02420a394407level1_row5\" class=\"row_heading level1 row5\" >sum_mb</th>\n",
       "                        <td id=\"T_33eb023e_2759_11ec_8114_02420a394407row5_col0\" class=\"data row5 col0\" >5870.48</td>\n",
       "                        <td id=\"T_33eb023e_2759_11ec_8114_02420a394407row5_col1\" class=\"data row5 col1\" >10087.17</td>\n",
       "            </tr>\n",
       "            <tr>\n",
       "                        <th id=\"T_33eb023e_2759_11ec_8114_02420a394407level0_row6\" class=\"row_heading level0 row6\" rowspan=3>var</th>\n",
       "                        <th id=\"T_33eb023e_2759_11ec_8114_02420a394407level1_row6\" class=\"row_heading level1 row6\" >count_calls</th>\n",
       "                        <td id=\"T_33eb023e_2759_11ec_8114_02420a394407row6_col0\" class=\"data row6 col0\" >672.88</td>\n",
       "                        <td id=\"T_33eb023e_2759_11ec_8114_02420a394407row6_col1\" class=\"data row6 col1\" >1928.69</td>\n",
       "            </tr>\n",
       "            <tr>\n",
       "                                <th id=\"T_33eb023e_2759_11ec_8114_02420a394407level1_row7\" class=\"row_heading level1 row7\" >sum_calls</th>\n",
       "                        <td id=\"T_33eb023e_2759_11ec_8114_02420a394407row7_col0\" class=\"data row7 col0\" >36219.32</td>\n",
       "                        <td id=\"T_33eb023e_2759_11ec_8114_02420a394407row7_col1\" class=\"data row7 col1\" >100873.63</td>\n",
       "            </tr>\n",
       "            <tr>\n",
       "                                <th id=\"T_33eb023e_2759_11ec_8114_02420a394407level1_row8\" class=\"row_heading level1 row8\" >sum_mb</th>\n",
       "                        <td id=\"T_33eb023e_2759_11ec_8114_02420a394407row8_col0\" class=\"data row8 col0\" >34462496.46</td>\n",
       "                        <td id=\"T_33eb023e_2759_11ec_8114_02420a394407row8_col1\" class=\"data row8 col1\" >101751013.78</td>\n",
       "            </tr>\n",
       "    </tbody></table>"
      ],
      "text/plain": [
       "<pandas.io.formats.style.Styler at 0x7f5d63ab18d0>"
      ]
     },
     "execution_count": 72,
     "metadata": {},
     "output_type": "execute_result"
    }
   ],
   "source": [
    "df_mes_calls_mb_users.pivot_table(index='tariff_name',  \n",
    "                 values=['sum_calls', 'count_calls', 'sum_mb'], \n",
    "                 aggfunc=['mean', 'std', 'var']).T.style.format('{:.2f}')"
   ]
  },
  {
   "cell_type": "markdown",
   "metadata": {},
   "source": [
    "###  Сколько сообщений требуется пользователям каждого тарифа в месяц"
   ]
  },
  {
   "cell_type": "markdown",
   "metadata": {},
   "source": [
    "<div class=\"alert alert-info\">\n",
    "<b>Комментарий</b> Добавил здесь</div>"
   ]
  },
  {
   "cell_type": "code",
   "execution_count": 73,
   "metadata": {},
   "outputs": [
    {
     "data": {
      "image/png": "[encoded data removed]",
      "text/plain": [
       "<Figure size 432x288 with 1 Axes>"
      ]
     },
     "metadata": {
      "needs_background": "light"
     },
     "output_type": "display_data"
    }
   ],
   "source": [
    "plt.hist(df_mes_calls_mb_users[df_mes_calls_mb_users['tariff_name'] == 'smart']['count_mes']\n",
    "         , range = (0, 200), bins=100, label = 'smart')\n",
    "plt.hist(df_mes_calls_mb_users[df_mes_calls_mb_users['tariff_name'] == 'ultra']['count_mes']\n",
    "         , range = (0, 200), bins=100, label = 'ultra')\n",
    "plt.ylabel('Частотность')\n",
    "plt.xlabel('Количество смс в месяц')\n",
    "plt.legend()\n",
    "plt.grid();"
   ]
  },
  {
   "cell_type": "code",
   "execution_count": 74,
   "metadata": {},
   "outputs": [
    {
     "data": {
      "image/png": "[encoded data removed]",
      "text/plain": [
       "<Figure size 432x288 with 1 Axes>"
      ]
     },
     "metadata": {
      "needs_background": "light"
     },
     "output_type": "display_data"
    }
   ],
   "source": [
    "plt.hist(df_smart['count_mes'], range = (0, 200), bins=100)\n",
    "plt.ylabel('Частотность')\n",
    "plt.xlabel('Количество смс в месяц тариф Smart')\n",
    "plt.grid();"
   ]
  },
  {
   "cell_type": "code",
   "execution_count": 75,
   "metadata": {},
   "outputs": [
    {
     "data": {
      "text/plain": [
       "count    2229.000000\n",
       "mean       33.384029\n",
       "std        28.227876\n",
       "min         0.000000\n",
       "25%        10.000000\n",
       "50%        28.000000\n",
       "75%        51.000000\n",
       "max       143.000000\n",
       "Name: count_mes, dtype: float64"
      ]
     },
     "execution_count": 75,
     "metadata": {},
     "output_type": "execute_result"
    }
   ],
   "source": [
    "df_smart['count_mes'].describe()"
   ]
  },
  {
   "cell_type": "code",
   "execution_count": 76,
   "metadata": {},
   "outputs": [
    {
     "data": {
      "image/png": "[encoded data removed]",
      "text/plain": [
       "<Figure size 432x288 with 1 Axes>"
      ]
     },
     "metadata": {
      "needs_background": "light"
     },
     "output_type": "display_data"
    }
   ],
   "source": [
    "plt.hist(df_ultra['count_mes'], range = (0, 300), bins=100)\n",
    "plt.ylabel('Частотность')\n",
    "plt.xlabel('Количество смс в месяц тариф Ultra')\n",
    "plt.grid();"
   ]
  },
  {
   "cell_type": "markdown",
   "metadata": {},
   "source": [
    "<div class=\"alert alert-success\">\n",
    "<h2> Комментарий ревьюера <a class=\"tocSkip\"> </h2>\n",
    "\n",
    "Кстати, если тебе поднадоел стандартный `matplotlib`, попробуй пострить графики с помощью [plotly](https://plotly.github.io/plotly.py-docs/generated/plotly.express.histogram.html)"
   ]
  },
  {
   "cell_type": "code",
   "execution_count": 77,
   "metadata": {},
   "outputs": [
    {
     "data": {
      "text/plain": [
       "count    985.000000\n",
       "mean      49.363452\n",
       "std       47.804457\n",
       "min        0.000000\n",
       "25%        6.000000\n",
       "50%       38.000000\n",
       "75%       79.000000\n",
       "max      224.000000\n",
       "Name: count_mes, dtype: float64"
      ]
     },
     "execution_count": 77,
     "metadata": {},
     "output_type": "execute_result"
    }
   ],
   "source": [
    "df_ultra['count_mes'].describe()"
   ]
  },
  {
   "cell_type": "markdown",
   "metadata": {},
   "source": [
    "Для верного отражения действительности нужно исключить нули, когда услугой не пользовались."
   ]
  },
  {
   "cell_type": "code",
   "execution_count": 78,
   "metadata": {},
   "outputs": [
    {
     "data": {
      "text/plain": [
       "count    1922.000000\n",
       "mean       38.716441\n",
       "std        26.787949\n",
       "min         1.000000\n",
       "25%        17.000000\n",
       "50%        34.000000\n",
       "75%        55.000000\n",
       "max       143.000000\n",
       "Name: count_mes, dtype: float64"
      ]
     },
     "execution_count": 78,
     "metadata": {},
     "output_type": "execute_result"
    }
   ],
   "source": [
    "df_smart[df_smart['count_mes'] != 0]['count_mes'].describe()"
   ]
  },
  {
   "cell_type": "code",
   "execution_count": 79,
   "metadata": {},
   "outputs": [
    {
     "data": {
      "text/plain": [
       "count    795.000000\n",
       "mean      61.161006\n",
       "std       45.931026\n",
       "min        1.000000\n",
       "25%       24.000000\n",
       "50%       51.000000\n",
       "75%       87.500000\n",
       "max      224.000000\n",
       "Name: count_mes, dtype: float64"
      ]
     },
     "execution_count": 79,
     "metadata": {},
     "output_type": "execute_result"
    }
   ],
   "source": [
    "df_ultra[df_ultra['count_mes'] != 0]['count_mes'].describe()"
   ]
  },
  {
   "cell_type": "markdown",
   "metadata": {},
   "source": [
    "Найдем для тарифов дисперсию:"
   ]
  },
  {
   "cell_type": "code",
   "execution_count": 80,
   "metadata": {},
   "outputs": [
    {
     "data": {
      "text/plain": [
       "717.5942011753547"
      ]
     },
     "execution_count": 80,
     "metadata": {},
     "output_type": "execute_result"
    }
   ],
   "source": [
    "df_smart[df_smart['count_mes'] != 0].var()['count_mes']"
   ]
  },
  {
   "cell_type": "code",
   "execution_count": 81,
   "metadata": {},
   "outputs": [
    {
     "data": {
      "text/plain": [
       "2109.6591828652"
      ]
     },
     "execution_count": 81,
     "metadata": {},
     "output_type": "execute_result"
    }
   ],
   "source": [
    "df_ultra[df_ultra['count_mes'] != 0].var()['count_mes']"
   ]
  },
  {
   "cell_type": "markdown",
   "metadata": {},
   "source": [
    "Для тарифа Smart:\n",
    "\n",
    "* среднее количество смс - 38\n",
    "* стандартное отклонение - 26\n",
    "* дисперсия - 717\n",
    "\n",
    "Для тарифа Ultra:\n",
    "\n",
    "* среднее количество смс - 61\n",
    "* стандартное отклонение - 45\n",
    "* дисперсия - 2109\n"
   ]
  },
  {
   "cell_type": "markdown",
   "metadata": {},
   "source": [
    "###  Сколько мегабайт требуется пользователям каждого тарифа в месяц"
   ]
  },
  {
   "cell_type": "markdown",
   "metadata": {},
   "source": [
    "<div class=\"alert alert-info\">\n",
    "<b>Комментарий</b> Добавил здесь </div>"
   ]
  },
  {
   "cell_type": "code",
   "execution_count": 82,
   "metadata": {},
   "outputs": [
    {
     "data": {
      "image/png": "[encoded data removed]",
      "text/plain": [
       "<Figure size 432x288 with 1 Axes>"
      ]
     },
     "metadata": {
      "needs_background": "light"
     },
     "output_type": "display_data"
    }
   ],
   "source": [
    "plt.hist(df_mes_calls_mb_users[df_mes_calls_mb_users['tariff_name'] == 'smart']['sum_mb']\n",
    "         , range = (0, 40000), bins=100, label = 'smart')\n",
    "plt.hist(df_mes_calls_mb_users[df_mes_calls_mb_users['tariff_name'] == 'ultra']['sum_mb']\n",
    "         , range = (0, 40000), bins=100, label = 'ultra')\n",
    "plt.ylabel('Частотность')\n",
    "plt.xlabel('Количество мегабайт в месяц')\n",
    "plt.legend()\n",
    "plt.grid();"
   ]
  },
  {
   "cell_type": "code",
   "execution_count": 83,
   "metadata": {},
   "outputs": [
    {
     "data": {
      "image/png": "[encoded data removed]",
      "text/plain": [
       "<Figure size 432x288 with 1 Axes>"
      ]
     },
     "metadata": {
      "needs_background": "light"
     },
     "output_type": "display_data"
    }
   ],
   "source": [
    "plt.hist(df_smart['sum_mb'], range = (0, 40000), bins=100)\n",
    "plt.ylabel('Частотность')\n",
    "plt.xlabel('Количество мегабайт в месяц тариф Smart')\n",
    "plt.grid();"
   ]
  },
  {
   "cell_type": "code",
   "execution_count": 84,
   "metadata": {},
   "outputs": [
    {
     "data": {
      "text/plain": [
       "count     2229.000000\n",
       "mean     16208.386990\n",
       "std       5870.476681\n",
       "min          0.000000\n",
       "25%      12643.010000\n",
       "50%      16506.840000\n",
       "75%      20042.930000\n",
       "max      38552.450000\n",
       "Name: sum_mb, dtype: float64"
      ]
     },
     "execution_count": 84,
     "metadata": {},
     "output_type": "execute_result"
    }
   ],
   "source": [
    "df_smart['sum_mb'].describe()"
   ]
  },
  {
   "cell_type": "code",
   "execution_count": 85,
   "metadata": {},
   "outputs": [
    {
     "data": {
      "image/png": "[encoded data removed]",
      "text/plain": [
       "<Figure size 432x288 with 1 Axes>"
      ]
     },
     "metadata": {
      "needs_background": "light"
     },
     "output_type": "display_data"
    }
   ],
   "source": [
    "plt.hist(df_ultra['sum_mb'], range = (0, 50000), bins=100)\n",
    "plt.ylabel('Частотность')\n",
    "plt.xlabel('Количество мегабайт в месяц тариф Ultra')\n",
    "plt.grid();"
   ]
  },
  {
   "cell_type": "code",
   "execution_count": 86,
   "metadata": {},
   "outputs": [
    {
     "data": {
      "text/plain": [
       "count      985.000000\n",
       "mean     19468.805208\n",
       "std      10087.170752\n",
       "min          0.000000\n",
       "25%      11770.260000\n",
       "50%      19308.010000\n",
       "75%      26837.690000\n",
       "max      49745.690000\n",
       "Name: sum_mb, dtype: float64"
      ]
     },
     "execution_count": 86,
     "metadata": {},
     "output_type": "execute_result"
    }
   ],
   "source": [
    "df_ultra['sum_mb'].describe()"
   ]
  },
  {
   "cell_type": "markdown",
   "metadata": {},
   "source": [
    "Найдем для тарифов дисперсию:"
   ]
  },
  {
   "cell_type": "code",
   "execution_count": 87,
   "metadata": {},
   "outputs": [
    {
     "data": {
      "text/plain": [
       "34462496.46274241"
      ]
     },
     "execution_count": 87,
     "metadata": {},
     "output_type": "execute_result"
    }
   ],
   "source": [
    "df_smart.var()['sum_mb']"
   ]
  },
  {
   "cell_type": "code",
   "execution_count": 88,
   "metadata": {},
   "outputs": [
    {
     "data": {
      "text/plain": [
       "101751013.78335385"
      ]
     },
     "execution_count": 88,
     "metadata": {},
     "output_type": "execute_result"
    }
   ],
   "source": [
    "df_ultra.var()['sum_mb']"
   ]
  },
  {
   "cell_type": "markdown",
   "metadata": {},
   "source": [
    "Для тарифа Smart:\n",
    "\n",
    "* среднее количество мегабайт - 16 208\n",
    "* стандартное отклонение - 5870\n",
    "* дисперсия - 34 462 496\n",
    "\n",
    "Для тарифа Ultra:\n",
    "\n",
    "* среднее количество мегабайт - 19 468\n",
    "* стандартное отклонение - 10 087\n",
    "* дисперсия - 101 751 013\n"
   ]
  },
  {
   "cell_type": "markdown",
   "metadata": {},
   "source": [
    "<div style=\"border:solid purple 5px; padding: 20px\"> \n",
    "<h2 align=\"center\"> Рубрика «Питонячий лайфхакер» <a class=\"tocSkip\"> </h2>\n",
    "\n",
    "<h3> Широкоформатный Jupyter <a class=\"tocSkip\"> </h3>\n",
    "\n",
    "Расширяем границы, или как сделать работу более комфортной (не всем нравится 😄)\n",
    "\n",
    "    from IPython.core.display import display, HTML\n",
    "    display(HTML(\"<style>.container { width:90% !important; }</style>\"))"
   ]
  },
  {
   "cell_type": "markdown",
   "metadata": {},
   "source": [
    "### Общая таблица для удобного представления и сравнения результатов по тарифам"
   ]
  },
  {
   "cell_type": "code",
   "execution_count": 89,
   "metadata": {},
   "outputs": [],
   "source": [
    "list_reserch = ['sum_calls', 'count_mes', 'sum_mb']\n",
    "list_tariff = ['smart', 'ultra']"
   ]
  },
  {
   "cell_type": "code",
   "execution_count": 90,
   "metadata": {},
   "outputs": [],
   "source": [
    "list_data = []\n",
    "\n",
    "for name in list_tariff:\n",
    "    lister = [name]\n",
    "    for col in list_reserch:\n",
    "        df_filter = df_mes_calls_mb_users[df_mes_calls_mb_users['tariff_name'] == name]\n",
    "        df_filter = df_filter[df_filter[col] != 0]\n",
    "        mean = df_filter[col].mean()\n",
    "        dispersion = df_filter[col].var()\n",
    "        sigma = math.sqrt(dispersion)\n",
    "        lister.append(mean)\n",
    "        lister.append(sigma)\n",
    "        lister.append(dispersion)\n",
    "        \n",
    "    list_data.append(lister)\n"
   ]
  },
  {
   "cell_type": "code",
   "execution_count": 91,
   "metadata": {},
   "outputs": [
    {
     "data": {
      "text/html": [
       "<div>\n",
       "<style scoped>\n",
       "    .dataframe tbody tr th:only-of-type {\n",
       "        vertical-align: middle;\n",
       "    }\n",
       "\n",
       "    .dataframe tbody tr th {\n",
       "        vertical-align: top;\n",
       "    }\n",
       "\n",
       "    .dataframe thead th {\n",
       "        text-align: right;\n",
       "    }\n",
       "</style>\n",
       "<table border=\"1\" class=\"dataframe\">\n",
       "  <thead>\n",
       "    <tr style=\"text-align: right;\">\n",
       "      <th></th>\n",
       "      <th>tariff</th>\n",
       "      <th>mean_calls</th>\n",
       "      <th>std_calls</th>\n",
       "      <th>var_calls</th>\n",
       "      <th>mean_sms</th>\n",
       "      <th>std_sms</th>\n",
       "      <th>var_sms</th>\n",
       "      <th>mean_mb</th>\n",
       "      <th>std_mb</th>\n",
       "      <th>var_mb</th>\n",
       "    </tr>\n",
       "  </thead>\n",
       "  <tbody>\n",
       "    <tr>\n",
       "      <td>0</td>\n",
       "      <td>smart</td>\n",
       "      <td>419.440342</td>\n",
       "      <td>188.992403</td>\n",
       "      <td>35718.128534</td>\n",
       "      <td>38.716441</td>\n",
       "      <td>26.787949</td>\n",
       "      <td>717.594201</td>\n",
       "      <td>16222.943242</td>\n",
       "      <td>5852.965806</td>\n",
       "      <td>3.425721e+07</td>\n",
       "    </tr>\n",
       "    <tr>\n",
       "      <td>1</td>\n",
       "      <td>ultra</td>\n",
       "      <td>547.755016</td>\n",
       "      <td>305.513385</td>\n",
       "      <td>93338.428291</td>\n",
       "      <td>61.161006</td>\n",
       "      <td>45.931026</td>\n",
       "      <td>2109.659183</td>\n",
       "      <td>19688.678778</td>\n",
       "      <td>9928.134987</td>\n",
       "      <td>9.856786e+07</td>\n",
       "    </tr>\n",
       "  </tbody>\n",
       "</table>\n",
       "</div>"
      ],
      "text/plain": [
       "  tariff  mean_calls   std_calls     var_calls   mean_sms    std_sms  \\\n",
       "0  smart  419.440342  188.992403  35718.128534  38.716441  26.787949   \n",
       "1  ultra  547.755016  305.513385  93338.428291  61.161006  45.931026   \n",
       "\n",
       "       var_sms       mean_mb       std_mb        var_mb  \n",
       "0   717.594201  16222.943242  5852.965806  3.425721e+07  \n",
       "1  2109.659183  19688.678778  9928.134987  9.856786e+07  "
      ]
     },
     "metadata": {},
     "output_type": "display_data"
    }
   ],
   "source": [
    "list_columns = ['tariff', 'mean_calls', 'std_calls', 'var_calls', 'mean_sms', 'std_sms'\n",
    "                , 'var_sms', 'mean_mb', 'std_mb', 'var_mb']\n",
    "df_tariffs = pd.DataFrame(data=list_data, columns=list_columns)\n",
    "display(df_tariffs)"
   ]
  },
  {
   "cell_type": "markdown",
   "metadata": {},
   "source": [
    "быстрое построение сводной таблицы, но без учета выброса нулевых значений.\n",
    "\n",
    "<b>Вопрос: можно ли построить сводную талицу с учетом выброса нулевых значений?"
   ]
  },
  {
   "cell_type": "code",
   "execution_count": 92,
   "metadata": {},
   "outputs": [
    {
     "data": {
      "text/html": [
       "<div>\n",
       "<style scoped>\n",
       "    .dataframe tbody tr th:only-of-type {\n",
       "        vertical-align: middle;\n",
       "    }\n",
       "\n",
       "    .dataframe tbody tr th {\n",
       "        vertical-align: top;\n",
       "    }\n",
       "\n",
       "    .dataframe thead tr th {\n",
       "        text-align: left;\n",
       "    }\n",
       "\n",
       "    .dataframe thead tr:last-of-type th {\n",
       "        text-align: right;\n",
       "    }\n",
       "</style>\n",
       "<table border=\"1\" class=\"dataframe\">\n",
       "  <thead>\n",
       "    <tr>\n",
       "      <th></th>\n",
       "      <th colspan=\"3\" halign=\"left\">sum_calls</th>\n",
       "      <th colspan=\"3\" halign=\"left\">count_mes</th>\n",
       "      <th colspan=\"3\" halign=\"left\">sum_mb</th>\n",
       "    </tr>\n",
       "    <tr>\n",
       "      <th></th>\n",
       "      <th>mean</th>\n",
       "      <th>std</th>\n",
       "      <th>var</th>\n",
       "      <th>mean</th>\n",
       "      <th>std</th>\n",
       "      <th>var</th>\n",
       "      <th>mean</th>\n",
       "      <th>std</th>\n",
       "      <th>var</th>\n",
       "    </tr>\n",
       "    <tr>\n",
       "      <th>tariff_name</th>\n",
       "      <th></th>\n",
       "      <th></th>\n",
       "      <th></th>\n",
       "      <th></th>\n",
       "      <th></th>\n",
       "      <th></th>\n",
       "      <th></th>\n",
       "      <th></th>\n",
       "      <th></th>\n",
       "    </tr>\n",
       "  </thead>\n",
       "  <tbody>\n",
       "    <tr>\n",
       "      <td>smart</td>\n",
       "      <td>417.934948</td>\n",
       "      <td>190.313730</td>\n",
       "      <td>36219.315784</td>\n",
       "      <td>33.384029</td>\n",
       "      <td>28.227876</td>\n",
       "      <td>796.812958</td>\n",
       "      <td>16208.386990</td>\n",
       "      <td>5870.476681</td>\n",
       "      <td>3.446250e+07</td>\n",
       "    </tr>\n",
       "    <tr>\n",
       "      <td>ultra</td>\n",
       "      <td>526.623350</td>\n",
       "      <td>317.606098</td>\n",
       "      <td>100873.633397</td>\n",
       "      <td>49.363452</td>\n",
       "      <td>47.804457</td>\n",
       "      <td>2285.266143</td>\n",
       "      <td>19468.805208</td>\n",
       "      <td>10087.170752</td>\n",
       "      <td>1.017510e+08</td>\n",
       "    </tr>\n",
       "  </tbody>\n",
       "</table>\n",
       "</div>"
      ],
      "text/plain": [
       "              sum_calls                             count_mes             \\\n",
       "                   mean         std            var       mean        std   \n",
       "tariff_name                                                                \n",
       "smart        417.934948  190.313730   36219.315784  33.384029  28.227876   \n",
       "ultra        526.623350  317.606098  100873.633397  49.363452  47.804457   \n",
       "\n",
       "                                sum_mb                              \n",
       "                     var          mean           std           var  \n",
       "tariff_name                                                         \n",
       "smart         796.812958  16208.386990   5870.476681  3.446250e+07  \n",
       "ultra        2285.266143  19468.805208  10087.170752  1.017510e+08  "
      ]
     },
     "metadata": {},
     "output_type": "display_data"
    }
   ],
   "source": [
    "df_group = df_mes_calls_mb_users.groupby(['tariff_name'])['sum_calls', 'count_mes'\n",
    "                                                          , 'sum_mb'].agg(['mean', 'std', 'var']) # сводная таблица\n",
    "display(df_group)"
   ]
  },
  {
   "cell_type": "markdown",
   "metadata": {},
   "source": [
    "<div class=\"alert alert-success\">\n",
    "<h2> Комментарий ревьюера <a class=\"tocSkip\"> </h2>\n",
    "\n",
    "Кайф, одинаково мыслим)"
   ]
  },
  {
   "cell_type": "markdown",
   "metadata": {},
   "source": [
    "### Анализ выручки с пользователей разных тарифов"
   ]
  },
  {
   "cell_type": "code",
   "execution_count": 93,
   "metadata": {},
   "outputs": [
    {
     "data": {
      "image/png": "[encoded data removed]",
      "text/plain": [
       "<Figure size 432x288 with 1 Axes>"
      ]
     },
     "metadata": {
      "needs_background": "light"
     },
     "output_type": "display_data"
    }
   ],
   "source": [
    "plt.hist(df_mes_calls_mb_users[df_mes_calls_mb_users['tariff_name'] == 'smart']['how_much']\n",
    "         , range = (0, 4000), bins=100, label = 'smart')\n",
    "plt.hist(df_mes_calls_mb_users[df_mes_calls_mb_users['tariff_name'] == 'ultra']['how_much']\n",
    "         , range = (0, 4000), bins=100, label = 'ultra')\n",
    "plt.ylabel('Частотность')\n",
    "plt.xlabel('Оплаты по тарифам в месяц, рублей')\n",
    "plt.legend()\n",
    "plt.grid();"
   ]
  },
  {
   "cell_type": "markdown",
   "metadata": {},
   "source": [
    "Логично увидеть пики на абонентской плате, и так же пики на тарифе smart при оплате дополнительных гигабайт данных, при этом оранжевый пик почти в полтора раза выше синего. И синий цвет весьма заметен и перекрывает оранжевый даже выше 2000 руб в месяц."
   ]
  },
  {
   "cell_type": "markdown",
   "metadata": {},
   "source": [
    "Так же посчитаем среднее и суммы"
   ]
  },
  {
   "cell_type": "code",
   "execution_count": 94,
   "metadata": {},
   "outputs": [
    {
     "data": {
      "text/html": [
       "<div>\n",
       "<style scoped>\n",
       "    .dataframe tbody tr th:only-of-type {\n",
       "        vertical-align: middle;\n",
       "    }\n",
       "\n",
       "    .dataframe tbody tr th {\n",
       "        vertical-align: top;\n",
       "    }\n",
       "\n",
       "    .dataframe thead th {\n",
       "        text-align: right;\n",
       "    }\n",
       "</style>\n",
       "<table border=\"1\" class=\"dataframe\">\n",
       "  <thead>\n",
       "    <tr style=\"text-align: right;\">\n",
       "      <th></th>\n",
       "      <th>mean</th>\n",
       "      <th>sum</th>\n",
       "      <th>count</th>\n",
       "    </tr>\n",
       "    <tr>\n",
       "      <th>tariff_name</th>\n",
       "      <th></th>\n",
       "      <th></th>\n",
       "      <th></th>\n",
       "    </tr>\n",
       "  </thead>\n",
       "  <tbody>\n",
       "    <tr>\n",
       "      <td>smart</td>\n",
       "      <td>1289.973531</td>\n",
       "      <td>2875351</td>\n",
       "      <td>2229</td>\n",
       "    </tr>\n",
       "    <tr>\n",
       "      <td>ultra</td>\n",
       "      <td>2070.152284</td>\n",
       "      <td>2039100</td>\n",
       "      <td>985</td>\n",
       "    </tr>\n",
       "  </tbody>\n",
       "</table>\n",
       "</div>"
      ],
      "text/plain": [
       "                    mean      sum  count\n",
       "tariff_name                             \n",
       "smart        1289.973531  2875351   2229\n",
       "ultra        2070.152284  2039100    985"
      ]
     },
     "metadata": {},
     "output_type": "display_data"
    }
   ],
   "source": [
    "df_cash = df_mes_calls_mb_users.groupby(['tariff_name'])['how_much'].agg(['mean', 'sum', 'count']) # сводная таблица\n",
    "display(df_cash)"
   ]
  },
  {
   "cell_type": "markdown",
   "metadata": {},
   "source": [
    "<b>Вывод: Пользователей тарифа smart более чем в два раза больше, чем пользователей тарифа ultra. На тарифе смарт пользователи очень часто выходят за рамки тарифа с дополнительной оплатой (более, чем в два раза от абонентской платы), тогда как на тарифе ultra такие перерасходы редки и пользователи сильно невыбирают предоставленные объемы в рамках тарифа. В итоге пользователи тарифа smart приносят больше выручки, чем пользователи тарифа ultra.\n"
   ]
  },
  {
   "cell_type": "markdown",
   "metadata": {},
   "source": [
    "<div class=\"alert alert-success\">\n",
    "<h2> Комментарий ревьюера <a class=\"tocSkip\"> </h2>\n",
    "\n",
    "Хороший блок, качественно выполнен, молодец 👏\n",
    "\n",
    "</div>"
   ]
  },
  {
   "cell_type": "markdown",
   "metadata": {},
   "source": [
    "## Проверим гипотезы: средняя выручка пользователей тарифов «Ультра» и «Смарт» различаются; средняя выручка пользователи из Москвы отличается от выручки пользователей из других регионов."
   ]
  },
  {
   "cell_type": "markdown",
   "metadata": {},
   "source": [
    "### Нулевая гипотеза: средняя выручка пользователей тарифов «Ультра» и «Смарт» различаются"
   ]
  },
  {
   "cell_type": "markdown",
   "metadata": {},
   "source": [
    "<div class=\"alert alert-info\">\n",
    "<b>Комментарий</b> Здесь и далее добавил альтернатиыные гипотезы и изменил вывод условия проверки</div>\n",
    "\n",
    "<b>Альтернативная гипотеза: средняя выручка пользователей тарифов «Ультра» и «Смарт» существенно не различаются"
   ]
  },
  {
   "cell_type": "markdown",
   "metadata": {},
   "source": [
    "<div class=\"alert alert-danger\">\n",
    "<h2> Комментарий ревьюера v2 <a class=\"tocSkip\"> </h2>\n",
    "\n",
    "В моем понимании `существенно не различаются = не различается`. Поправь меня, если я не прав"
   ]
  },
  {
   "cell_type": "markdown",
   "metadata": {},
   "source": [
    "<div class=\"alert alert-info\">\n",
    "<b>Комментарий V2</b>\n",
    "    \n",
    "`существенно не различаются = не различаются в пределах alpha`\n",
    "   \n",
    "\n",
    "`не различаются = равны`\n",
    "    \n",
    "    \n",
    "можно допустить конкретный случай равенства средних, введя дополнительное условие elif mean1 == mean2\n",
    "    \n",
    "гипотетически это возможно и можно будет проверить еще одну альтернативную гипотезу: <b>средняя выручка пользователей тарифов «Ультра» и «Смарт» равны\n",
    "    \n",
    "    Или это уже перебор?\n",
    "</div>\n",
    "\n"
   ]
  },
  {
   "cell_type": "markdown",
   "metadata": {},
   "source": [
    "<div class=\"alert alert-success\">\n",
    "<h2> Комментарий ревьюера v3 <a class=\"tocSkip\"> </h2>\n",
    "\n",
    "Я бы не стал так усложнять гипотезы, если просто обозначить равны(Н0) и неравны(Н1) - вопросов точно будет меньше"
   ]
  },
  {
   "cell_type": "markdown",
   "metadata": {},
   "source": [
    "<div class=\"alert alert-danger\">\n",
    "<h2> Комментарий ревьюера <a class=\"tocSkip\"> </h2>\n",
    "\n",
    "Проверка гипотез включает в себя формулировку как нулевой так и альтернативной гипотез, поэтому прошу тебя добавить формулировку альтернативной гипотезы\n",
    "\n",
    "</div>"
   ]
  },
  {
   "cell_type": "markdown",
   "metadata": {},
   "source": [
    "Сравним две генеральные совокупности отфильтрованные по значению тарифа. df_smart и df_ultra. альфу установим в 5%\n"
   ]
  },
  {
   "cell_type": "code",
   "execution_count": 95,
   "metadata": {},
   "outputs": [
    {
     "name": "stdout",
     "output_type": "stream",
     "text": [
      "p-значение:  1.4229814360764067e-160\n",
      "Не получилось отвергнуть нулевую гипотезу\n"
     ]
    }
   ],
   "source": [
    "alpha = 0.05\n",
    "\n",
    "results = st.ttest_ind(\n",
    "    df_smart['how_much'], \n",
    "    df_ultra['how_much'])\n",
    "\n",
    "print('p-значение: ', results.pvalue)\n",
    "\n",
    "if results.pvalue > alpha:\n",
    "    print(\"Отвергаем нулевую гипотезу, принимаем альтернативную гипотезу\")\n",
    "else:\n",
    "    print(\"Не получилось отвергнуть нулевую гипотезу\") \n",
    "\n",
    "\n"
   ]
  },
  {
   "cell_type": "markdown",
   "metadata": {},
   "source": [
    "Да действительно средняя выручка тарифов существенно отличаются"
   ]
  },
  {
   "cell_type": "markdown",
   "metadata": {},
   "source": [
    "### Нулевая гипотеза: средняя выручка пользователи из Москвы отличается от выручки пользователей из других регионов"
   ]
  },
  {
   "cell_type": "markdown",
   "metadata": {},
   "source": [
    "<div class=\"alert alert-info\">\n",
    "<b>Комментарий</b> Добавил здесь </div>\n",
    "Альтернативная гипотеза: средняя выручка пользователи из Москвы пользователей из других регионов существенно не различаются"
   ]
  },
  {
   "cell_type": "markdown",
   "metadata": {},
   "source": [
    "Отфильтруем две таблицы:"
   ]
  },
  {
   "cell_type": "code",
   "execution_count": 96,
   "metadata": {},
   "outputs": [],
   "source": [
    "df_moscow = df_mes_calls_mb_users[df_mes_calls_mb_users['city'] == 'Москва']\n",
    "df_other = df_mes_calls_mb_users[df_mes_calls_mb_users['city'] != 'Москва']"
   ]
  },
  {
   "cell_type": "markdown",
   "metadata": {},
   "source": [
    "применим статистичекий метод сравнения двухсторонней гипотезы"
   ]
  },
  {
   "cell_type": "code",
   "execution_count": 97,
   "metadata": {},
   "outputs": [
    {
     "name": "stdout",
     "output_type": "stream",
     "text": [
      "p-значение:  0.5440152911670224\n",
      "Отвергаем нулевую гипотезу, принимаем альтернативную гипотезу\n"
     ]
    }
   ],
   "source": [
    "alpha = 0.05\n",
    "\n",
    "results = st.ttest_ind(\n",
    "    df_moscow['how_much'], \n",
    "    df_other['how_much'])\n",
    "\n",
    "print('p-значение: ', results.pvalue)\n",
    "\n",
    "if results.pvalue > alpha:\n",
    "    print(\"Отвергаем нулевую гипотезу, принимаем альтернативную гипотезу\")\n",
    "else:\n",
    "    print(\"Не получилось отвергнуть нулевую гипотезу\") "
   ]
  },
  {
   "cell_type": "markdown",
   "metadata": {},
   "source": [
    "<div class=\"alert alert-success\">\n",
    "<h2> Комментарий ревьюера <a class=\"tocSkip\"> </h2>\n",
    "\n",
    "Сами тесты выполнены корректно"
   ]
  },
  {
   "cell_type": "markdown",
   "metadata": {},
   "source": [
    "Нулевая гипотеза не подтверждается, принимаем альтернативную: средняя выручка пользователей Москвы и регионов сопоставимы в пределах допутимых 5%."
   ]
  },
  {
   "cell_type": "markdown",
   "metadata": {},
   "source": [
    "### Нулевая гипотеза: молодое поколение использует больше интернет трафика, чем люди старшего возраста"
   ]
  },
  {
   "cell_type": "markdown",
   "metadata": {},
   "source": [
    "<div class=\"alert alert-info\">\n",
    "<b>Комментарий</b> Добавил здесь </div>\n",
    "Альтернативная гипотеза: молодое поколение использует меньше интернет трафика или столько же, как люди старшего возраста"
   ]
  },
  {
   "cell_type": "markdown",
   "metadata": {},
   "source": [
    "Отфильтруем данные:"
   ]
  },
  {
   "cell_type": "code",
   "execution_count": 98,
   "metadata": {},
   "outputs": [],
   "source": [
    "df_young = df_mes_calls_mb_users[df_mes_calls_mb_users['age'] <= 40]\n",
    "df_old = df_mes_calls_mb_users[df_mes_calls_mb_users['age'] > 40]"
   ]
  },
  {
   "cell_type": "markdown",
   "metadata": {},
   "source": [
    "Проверим одностороннюю гипотезу"
   ]
  },
  {
   "cell_type": "code",
   "execution_count": 99,
   "metadata": {},
   "outputs": [
    {
     "name": "stdout",
     "output_type": "stream",
     "text": [
      "p-значение:  0.001626940156954992\n",
      "Не получилось отвергнуть нулевую гипотезу\n"
     ]
    }
   ],
   "source": [
    "alpha = 0.05\n",
    "\n",
    "results = st.ttest_ind(\n",
    "    df_young['sum_mb'], \n",
    "    df_old['sum_mb'])\n",
    "\n",
    "print('p-значение: ', results.pvalue/2)\n",
    "\n",
    "if results.pvalue/2 < alpha and df_young['sum_mb'].mean() < df_old['sum_mb'].mean():\n",
    "    print(\"Отвергаем нулевую гипотезу, принимаем альтернативную гипотезу\")\n",
    "else:\n",
    "    print(\"Не получилось отвергнуть нулевую гипотезу\") "
   ]
  },
  {
   "cell_type": "markdown",
   "metadata": {},
   "source": [
    "Молодые пользуются интернетом больше, чем старшее поколение."
   ]
  },
  {
   "cell_type": "markdown",
   "metadata": {},
   "source": [
    "### Нулевая гипотеза: молодое поколение использует больше минут разговоров, чем люди старшего возраста"
   ]
  },
  {
   "cell_type": "markdown",
   "metadata": {},
   "source": [
    "<div class=\"alert alert-info\">\n",
    "<b>Комментарий</b> Добавил здесь </div>\n",
    "Альтернативная гипотеза: молодое поколение использует меньше минут или столько же, как люди старшего возраста"
   ]
  },
  {
   "cell_type": "code",
   "execution_count": 100,
   "metadata": {},
   "outputs": [
    {
     "name": "stdout",
     "output_type": "stream",
     "text": [
      "p-значение:  7.946215275435047e-07\n",
      "Отвергаем нулевую гипотезу, принимаем альтернативную гипотезу\n"
     ]
    }
   ],
   "source": [
    "alpha = 0.05\n",
    "\n",
    "results = st.ttest_ind(\n",
    "    df_young['sum_calls'], \n",
    "    df_old['sum_calls'])\n",
    "\n",
    "print('p-значение: ', results.pvalue/2)\n",
    "\n",
    "if results.pvalue/2 < alpha and df_young['sum_calls'].mean() < df_old['sum_calls'].mean():\n",
    "    print(\"Отвергаем нулевую гипотезу, принимаем альтернативную гипотезу\")\n",
    "else:\n",
    "    print(\"Не получилось отвергнуть нулевую гипотезу\") "
   ]
  },
  {
   "cell_type": "markdown",
   "metadata": {},
   "source": [
    "Нулевая гипотеза отвергнута, молодое поколениее в среднем использует меньше минут разговоров, чем страшее поколение."
   ]
  },
  {
   "cell_type": "markdown",
   "metadata": {},
   "source": [
    "### Нулевая гипотеза: молодое поколение использует меньше смс сообщений, чем люди старшего возраста"
   ]
  },
  {
   "cell_type": "markdown",
   "metadata": {},
   "source": [
    "<div class=\"alert alert-info\">\n",
    "<b>Комментарий</b> Добавил здесь </div>\n",
    "Альтернативная гипотеза: молодое поколение использует больше смс, чем люди старшего возраста"
   ]
  },
  {
   "cell_type": "markdown",
   "metadata": {},
   "source": [
    "Односторонняя гипотеза"
   ]
  },
  {
   "cell_type": "code",
   "execution_count": 101,
   "metadata": {},
   "outputs": [
    {
     "name": "stdout",
     "output_type": "stream",
     "text": [
      "p-значение:  0.1580529648862791\n",
      "Отвергаем нулевую гипотезу, принимаем альтернативную гипотезу\n"
     ]
    }
   ],
   "source": [
    "alpha = 0.05\n",
    "\n",
    "results = st.ttest_ind(\n",
    "    df_young['count_mes'], \n",
    "    df_old['count_mes'])\n",
    "\n",
    "print('p-значение: ', results.pvalue/2)\n",
    "\n",
    "if results.pvalue/2 > alpha and df_young['count_mes'].mean() > df_old['count_mes'].mean():\n",
    "    print(\"Отвергаем нулевую гипотезу, принимаем альтернативную гипотезу\")\n",
    "else:\n",
    "    print(\"Не получилось отвергнуть нулевую гипотезу\") \n",
    "    "
   ]
  },
  {
   "cell_type": "markdown",
   "metadata": {},
   "source": [
    "<div class=\"alert alert-success\">\n",
    "<h2> Комментарий ревьюера <a class=\"tocSkip\"> </h2>\n",
    "\n",
    "Отличная доп. часть! Интересные результыты получились"
   ]
  },
  {
   "cell_type": "markdown",
   "metadata": {},
   "source": [
    "Молодеж использует больше смс, чем старшее поколение."
   ]
  },
  {
   "cell_type": "markdown",
   "metadata": {},
   "source": [
    "<div class=\"alert alert-info\">\n",
    "<b>Добавлю исследование выручки по тарифам и месяцам, дабы еще глубже понять разницу по тарифам. \n",
    "    Вот тут и пригодились данные по месяцам</div>\n"
   ]
  },
  {
   "cell_type": "code",
   "execution_count": 102,
   "metadata": {},
   "outputs": [
    {
     "data": {
      "text/html": [
       "<div>\n",
       "<style scoped>\n",
       "    .dataframe tbody tr th:only-of-type {\n",
       "        vertical-align: middle;\n",
       "    }\n",
       "\n",
       "    .dataframe tbody tr th {\n",
       "        vertical-align: top;\n",
       "    }\n",
       "\n",
       "    .dataframe thead th {\n",
       "        text-align: right;\n",
       "    }\n",
       "</style>\n",
       "<table border=\"1\" class=\"dataframe\">\n",
       "  <thead>\n",
       "    <tr style=\"text-align: right;\">\n",
       "      <th></th>\n",
       "      <th></th>\n",
       "      <th>mean</th>\n",
       "      <th>sum</th>\n",
       "      <th>count</th>\n",
       "    </tr>\n",
       "    <tr>\n",
       "      <th>tariff_name</th>\n",
       "      <th>month</th>\n",
       "      <th></th>\n",
       "      <th></th>\n",
       "      <th></th>\n",
       "    </tr>\n",
       "  </thead>\n",
       "  <tbody>\n",
       "    <tr>\n",
       "      <td rowspan=\"12\" valign=\"top\">smart</td>\n",
       "      <td>1</td>\n",
       "      <td>721.323529</td>\n",
       "      <td>24525</td>\n",
       "      <td>34</td>\n",
       "    </tr>\n",
       "    <tr>\n",
       "      <td>2</td>\n",
       "      <td>827.603448</td>\n",
       "      <td>48001</td>\n",
       "      <td>58</td>\n",
       "    </tr>\n",
       "    <tr>\n",
       "      <td>3</td>\n",
       "      <td>1164.623377</td>\n",
       "      <td>89676</td>\n",
       "      <td>77</td>\n",
       "    </tr>\n",
       "    <tr>\n",
       "      <td>4</td>\n",
       "      <td>963.089286</td>\n",
       "      <td>107866</td>\n",
       "      <td>112</td>\n",
       "    </tr>\n",
       "    <tr>\n",
       "      <td>5</td>\n",
       "      <td>1197.510638</td>\n",
       "      <td>168849</td>\n",
       "      <td>141</td>\n",
       "    </tr>\n",
       "    <tr>\n",
       "      <td>6</td>\n",
       "      <td>1204.018293</td>\n",
       "      <td>197459</td>\n",
       "      <td>164</td>\n",
       "    </tr>\n",
       "    <tr>\n",
       "      <td>7</td>\n",
       "      <td>1223.950249</td>\n",
       "      <td>246014</td>\n",
       "      <td>201</td>\n",
       "    </tr>\n",
       "    <tr>\n",
       "      <td>8</td>\n",
       "      <td>1320.595745</td>\n",
       "      <td>310340</td>\n",
       "      <td>235</td>\n",
       "    </tr>\n",
       "    <tr>\n",
       "      <td>9</td>\n",
       "      <td>1249.946154</td>\n",
       "      <td>324986</td>\n",
       "      <td>260</td>\n",
       "    </tr>\n",
       "    <tr>\n",
       "      <td>10</td>\n",
       "      <td>1364.853741</td>\n",
       "      <td>401267</td>\n",
       "      <td>294</td>\n",
       "    </tr>\n",
       "    <tr>\n",
       "      <td>11</td>\n",
       "      <td>1343.047468</td>\n",
       "      <td>424403</td>\n",
       "      <td>316</td>\n",
       "    </tr>\n",
       "    <tr>\n",
       "      <td>12</td>\n",
       "      <td>1578.531157</td>\n",
       "      <td>531965</td>\n",
       "      <td>337</td>\n",
       "    </tr>\n",
       "    <tr>\n",
       "      <td rowspan=\"12\" valign=\"top\">ultra</td>\n",
       "      <td>1</td>\n",
       "      <td>1950.000000</td>\n",
       "      <td>17550</td>\n",
       "      <td>9</td>\n",
       "    </tr>\n",
       "    <tr>\n",
       "      <td>2</td>\n",
       "      <td>1975.000000</td>\n",
       "      <td>47400</td>\n",
       "      <td>24</td>\n",
       "    </tr>\n",
       "    <tr>\n",
       "      <td>3</td>\n",
       "      <td>2014.864865</td>\n",
       "      <td>74550</td>\n",
       "      <td>37</td>\n",
       "    </tr>\n",
       "    <tr>\n",
       "      <td>4</td>\n",
       "      <td>2001.818182</td>\n",
       "      <td>110100</td>\n",
       "      <td>55</td>\n",
       "    </tr>\n",
       "    <tr>\n",
       "      <td>5</td>\n",
       "      <td>2059.701493</td>\n",
       "      <td>138000</td>\n",
       "      <td>67</td>\n",
       "    </tr>\n",
       "    <tr>\n",
       "      <td>6</td>\n",
       "      <td>2039.285714</td>\n",
       "      <td>171300</td>\n",
       "      <td>84</td>\n",
       "    </tr>\n",
       "    <tr>\n",
       "      <td>7</td>\n",
       "      <td>2118.131868</td>\n",
       "      <td>192750</td>\n",
       "      <td>91</td>\n",
       "    </tr>\n",
       "    <tr>\n",
       "      <td>8</td>\n",
       "      <td>2083.177570</td>\n",
       "      <td>222900</td>\n",
       "      <td>107</td>\n",
       "    </tr>\n",
       "    <tr>\n",
       "      <td>9</td>\n",
       "      <td>2024.347826</td>\n",
       "      <td>232800</td>\n",
       "      <td>115</td>\n",
       "    </tr>\n",
       "    <tr>\n",
       "      <td>10</td>\n",
       "      <td>2065.853659</td>\n",
       "      <td>254100</td>\n",
       "      <td>123</td>\n",
       "    </tr>\n",
       "    <tr>\n",
       "      <td>11</td>\n",
       "      <td>2092.164179</td>\n",
       "      <td>280350</td>\n",
       "      <td>134</td>\n",
       "    </tr>\n",
       "    <tr>\n",
       "      <td>12</td>\n",
       "      <td>2138.848921</td>\n",
       "      <td>297300</td>\n",
       "      <td>139</td>\n",
       "    </tr>\n",
       "  </tbody>\n",
       "</table>\n",
       "</div>"
      ],
      "text/plain": [
       "                          mean     sum  count\n",
       "tariff_name month                            \n",
       "smart       1       721.323529   24525     34\n",
       "            2       827.603448   48001     58\n",
       "            3      1164.623377   89676     77\n",
       "            4       963.089286  107866    112\n",
       "            5      1197.510638  168849    141\n",
       "            6      1204.018293  197459    164\n",
       "            7      1223.950249  246014    201\n",
       "            8      1320.595745  310340    235\n",
       "            9      1249.946154  324986    260\n",
       "            10     1364.853741  401267    294\n",
       "            11     1343.047468  424403    316\n",
       "            12     1578.531157  531965    337\n",
       "ultra       1      1950.000000   17550      9\n",
       "            2      1975.000000   47400     24\n",
       "            3      2014.864865   74550     37\n",
       "            4      2001.818182  110100     55\n",
       "            5      2059.701493  138000     67\n",
       "            6      2039.285714  171300     84\n",
       "            7      2118.131868  192750     91\n",
       "            8      2083.177570  222900    107\n",
       "            9      2024.347826  232800    115\n",
       "            10     2065.853659  254100    123\n",
       "            11     2092.164179  280350    134\n",
       "            12     2138.848921  297300    139"
      ]
     },
     "metadata": {},
     "output_type": "display_data"
    }
   ],
   "source": [
    "df_cash_month = df_mes_calls_mb_users.groupby(['tariff_name','month'])['how_much'].agg(['mean', 'sum', 'count'])\n",
    "display(df_cash_month)"
   ]
  },
  {
   "cell_type": "markdown",
   "metadata": {},
   "source": [
    "Ну и добавим график полной выручки по тарифам по месяцам"
   ]
  },
  {
   "cell_type": "code",
   "execution_count": 103,
   "metadata": {},
   "outputs": [
    {
     "data": {
      "image/png": "[encoded data removed]",
      "text/plain": [
       "<Figure size 432x288 with 1 Axes>"
      ]
     },
     "metadata": {
      "needs_background": "light"
     },
     "output_type": "display_data"
    }
   ],
   "source": [
    "df_cash_month = df_mes_calls_mb_users.groupby(['month', 'tariff_name'])['how_much'].agg(['sum'])\n",
    "df_cash_month.unstack().plot(kind=\"line\")\n",
    "plt.ylabel('Суммарная выручка в рублях')\n",
    "plt.xlabel('Месяцы')\n",
    "plt.grid();"
   ]
  },
  {
   "cell_type": "markdown",
   "metadata": {},
   "source": [
    "## Выводы из исследования"
   ]
  },
  {
   "cell_type": "markdown",
   "metadata": {},
   "source": [
    "В результате исследования тарифов компании Мегалайн установлено:\n",
    "\n",
    "* в тарифе Ultra количество минут разговоров, смс и использованного трафика больше, но в среднем пользователи не используют весь лимит включенный в тариф, тогда как в тарифе Smart пользователи не только используют весь лимит включеный в тариф, но и часто покупают много минут, смс и гигабайт сверх тарифа. При этом часто выходя по оплате за значение в 2000 руб в месяц.\n",
    "\n",
    "\n",
    "* хотя средняя выручка пользователей тарифа Smart и ниже таковой в тарифе Ultra, но в сумме выручка всех пользователей тарифа Smart выше, чем выручка тарифа Ultra\n",
    "\n",
    "\n",
    "* все ушедшие пользователи ушли от оператора насовсем, а не перешли на другой тариф\n",
    "\n",
    "\n",
    "* молодое поколение использует больше интернет трафика, чем люди старшего возраст\n",
    "\n",
    "\n",
    "* молодое поколение использует меньше минут разговоров, чем люди старшего возраста\n",
    "\n",
    "\n",
    "* молодое поколение использует больше смс сообщений, чем люди старшего возраста"
   ]
  },
  {
   "cell_type": "markdown",
   "metadata": {},
   "source": [
    "<div class = \"alert alert-warning\">\n",
    "<h2> Комментарии ревьюера <a class=\"tocSkip\">  </h2>\n",
    "\n",
    "Отличный полный вывод, не хватает только заключительного аккорда, какой тариф выгоднее для компании, ну и, соответственно, какой развивать\n",
    "\n",
    "</div>"
   ]
  },
  {
   "cell_type": "markdown",
   "metadata": {},
   "source": [
    "<div class=\"alert alert-info\">\n",
    "\n",
    "Пользователи тарифа smart хотя и в итоге на сверх тарифных оплатах набирают ежемесячные платежи более, чем в два раза превышающие абонентскую плату, все же в полтора раза уступают по ежемесячной оплате пользователей тарифа ultra. Оператор Мегалайн может вполне гарантировано прогнозировать фиксированную выручку с пользователей тарифа Ultra. Но , как видно из таблицы выше, пользователи тарифа smart растут гораздо быстрее пользователей тарифа Ultra. Можно сделать вывод, что оператору выгоднее развивать тариф Smart, но следует помнить, что пользователи тарифа Ultra платят за еденицу минуты, смс, или мегабайта в итоге гораздо выше, и поэтому в ту же выручку загружают меньше технические ресурсы оператора. </div>\n"
   ]
  },
  {
   "cell_type": "markdown",
   "metadata": {},
   "source": [
    "<div class=\"alert alert-success\">\n",
    "<h2> Комментарий ревьюера v2 <a class=\"tocSkip\"> </h2>\n",
    "\n",
    "👍"
   ]
  },
  {
   "cell_type": "code",
   "execution_count": null,
   "metadata": {},
   "outputs": [],
   "source": []
  }
 ],
 "metadata": {
  "ExecuteTimeLog": [
   {
    "duration": 1416,
    "start_time": "2021-10-04T07:23:23.526Z"
   },
   {
    "duration": 2340,
    "start_time": "2021-10-04T07:23:24.945Z"
   },
   {
    "duration": 231,
    "start_time": "2021-10-04T07:23:27.060Z"
   },
   {
    "duration": 225,
    "start_time": "2021-10-04T07:23:27.068Z"
   },
   {
    "duration": 216,
    "start_time": "2021-10-04T07:23:27.078Z"
   },
   {
    "duration": 209,
    "start_time": "2021-10-04T07:23:27.086Z"
   },
   {
    "duration": 202,
    "start_time": "2021-10-04T07:23:27.094Z"
   },
   {
    "duration": 196,
    "start_time": "2021-10-04T07:23:27.101Z"
   },
   {
    "duration": 190,
    "start_time": "2021-10-04T07:23:27.109Z"
   },
   {
    "duration": 184,
    "start_time": "2021-10-04T07:23:27.116Z"
   },
   {
    "duration": 177,
    "start_time": "2021-10-04T07:23:27.124Z"
   },
   {
    "duration": 171,
    "start_time": "2021-10-04T07:23:27.131Z"
   },
   {
    "duration": 165,
    "start_time": "2021-10-04T07:23:27.138Z"
   },
   {
    "duration": 159,
    "start_time": "2021-10-04T07:23:27.145Z"
   },
   {
    "duration": 144,
    "start_time": "2021-10-04T07:23:27.162Z"
   },
   {
    "duration": 138,
    "start_time": "2021-10-04T07:23:27.169Z"
   },
   {
    "duration": 131,
    "start_time": "2021-10-04T07:23:27.177Z"
   },
   {
    "duration": 125,
    "start_time": "2021-10-04T07:23:27.184Z"
   },
   {
    "duration": 118,
    "start_time": "2021-10-04T07:23:27.192Z"
   },
   {
    "duration": 112,
    "start_time": "2021-10-04T07:23:27.199Z"
   },
   {
    "duration": 105,
    "start_time": "2021-10-04T07:23:27.207Z"
   },
   {
    "duration": 98,
    "start_time": "2021-10-04T07:23:27.216Z"
   },
   {
    "duration": 91,
    "start_time": "2021-10-04T07:23:27.224Z"
   },
   {
    "duration": 86,
    "start_time": "2021-10-04T07:23:27.230Z"
   },
   {
    "duration": 79,
    "start_time": "2021-10-04T07:23:27.238Z"
   },
   {
    "duration": 73,
    "start_time": "2021-10-04T07:23:27.245Z"
   },
   {
    "duration": 68,
    "start_time": "2021-10-04T07:23:27.252Z"
   },
   {
    "duration": 53,
    "start_time": "2021-10-04T07:23:27.268Z"
   },
   {
    "duration": 46,
    "start_time": "2021-10-04T07:23:27.276Z"
   },
   {
    "duration": 40,
    "start_time": "2021-10-04T07:23:27.284Z"
   },
   {
    "duration": 33,
    "start_time": "2021-10-04T07:23:27.292Z"
   },
   {
    "duration": 26,
    "start_time": "2021-10-04T07:23:27.300Z"
   },
   {
    "duration": 20,
    "start_time": "2021-10-04T07:23:27.308Z"
   },
   {
    "duration": 14,
    "start_time": "2021-10-04T07:23:27.315Z"
   },
   {
    "duration": 8,
    "start_time": "2021-10-04T07:23:27.322Z"
   },
   {
    "duration": 3,
    "start_time": "2021-10-04T07:23:27.329Z"
   },
   {
    "duration": -302,
    "start_time": "2021-10-04T07:23:27.635Z"
   },
   {
    "duration": -351,
    "start_time": "2021-10-04T07:23:27.686Z"
   },
   {
    "duration": -356,
    "start_time": "2021-10-04T07:23:27.692Z"
   },
   {
    "duration": -405,
    "start_time": "2021-10-04T07:23:27.742Z"
   },
   {
    "duration": -409,
    "start_time": "2021-10-04T07:23:27.748Z"
   },
   {
    "duration": -414,
    "start_time": "2021-10-04T07:23:27.754Z"
   },
   {
    "duration": -462,
    "start_time": "2021-10-04T07:23:27.803Z"
   },
   {
    "duration": -510,
    "start_time": "2021-10-04T07:23:27.853Z"
   },
   {
    "duration": -517,
    "start_time": "2021-10-04T07:23:27.861Z"
   },
   {
    "duration": -522,
    "start_time": "2021-10-04T07:23:27.867Z"
   },
   {
    "duration": -527,
    "start_time": "2021-10-04T07:23:27.873Z"
   },
   {
    "duration": -574,
    "start_time": "2021-10-04T07:23:27.922Z"
   },
   {
    "duration": -581,
    "start_time": "2021-10-04T07:23:27.930Z"
   },
   {
    "duration": -586,
    "start_time": "2021-10-04T07:23:27.937Z"
   },
   {
    "duration": -592,
    "start_time": "2021-10-04T07:23:27.944Z"
   },
   {
    "duration": -598,
    "start_time": "2021-10-04T07:23:27.951Z"
   },
   {
    "duration": -638,
    "start_time": "2021-10-04T07:23:27.993Z"
   },
   {
    "duration": -644,
    "start_time": "2021-10-04T07:23:28.000Z"
   },
   {
    "duration": -687,
    "start_time": "2021-10-04T07:23:28.044Z"
   },
   {
    "duration": -692,
    "start_time": "2021-10-04T07:23:28.050Z"
   },
   {
    "duration": -697,
    "start_time": "2021-10-04T07:23:28.057Z"
   },
   {
    "duration": -703,
    "start_time": "2021-10-04T07:23:28.064Z"
   },
   {
    "duration": -649,
    "start_time": "2021-10-04T07:23:28.071Z"
   },
   {
    "duration": -653,
    "start_time": "2021-10-04T07:23:28.077Z"
   },
   {
    "duration": -686,
    "start_time": "2021-10-04T07:23:28.111Z"
   },
   {
    "duration": -690,
    "start_time": "2021-10-04T07:23:28.117Z"
   },
   {
    "duration": -696,
    "start_time": "2021-10-04T07:23:28.124Z"
   },
   {
    "duration": -701,
    "start_time": "2021-10-04T07:23:28.130Z"
   },
   {
    "duration": -705,
    "start_time": "2021-10-04T07:23:28.136Z"
   },
   {
    "duration": -710,
    "start_time": "2021-10-04T07:23:28.142Z"
   },
   {
    "duration": -723,
    "start_time": "2021-10-04T07:23:28.156Z"
   },
   {
    "duration": -925,
    "start_time": "2021-10-04T07:23:28.359Z"
   },
   {
    "duration": -931,
    "start_time": "2021-10-04T07:23:28.367Z"
   },
   {
    "duration": -939,
    "start_time": "2021-10-04T07:23:28.376Z"
   },
   {
    "duration": -953,
    "start_time": "2021-10-04T07:23:28.391Z"
   },
   {
    "duration": -960,
    "start_time": "2021-10-04T07:23:28.399Z"
   },
   {
    "duration": -969,
    "start_time": "2021-10-04T07:23:28.409Z"
   },
   {
    "duration": -977,
    "start_time": "2021-10-04T07:23:28.418Z"
   },
   {
    "duration": -1024,
    "start_time": "2021-10-04T07:23:28.466Z"
   },
   {
    "duration": -1028,
    "start_time": "2021-10-04T07:23:28.472Z"
   },
   {
    "duration": -1034,
    "start_time": "2021-10-04T07:23:28.479Z"
   },
   {
    "duration": -1040,
    "start_time": "2021-10-04T07:23:28.486Z"
   },
   {
    "duration": -1139,
    "start_time": "2021-10-04T07:23:28.586Z"
   },
   {
    "duration": -1226,
    "start_time": "2021-10-04T07:23:28.674Z"
   },
   {
    "duration": -1242,
    "start_time": "2021-10-04T07:23:28.691Z"
   },
   {
    "duration": -1246,
    "start_time": "2021-10-04T07:23:28.697Z"
   },
   {
    "duration": -1250,
    "start_time": "2021-10-04T07:23:28.702Z"
   },
   {
    "duration": -1255,
    "start_time": "2021-10-04T07:23:28.708Z"
   },
   {
    "duration": -1268,
    "start_time": "2021-10-04T07:23:28.722Z"
   },
   {
    "duration": -1274,
    "start_time": "2021-10-04T07:23:28.729Z"
   },
   {
    "duration": -1278,
    "start_time": "2021-10-04T07:23:28.735Z"
   },
   {
    "duration": -1283,
    "start_time": "2021-10-04T07:23:28.741Z"
   },
   {
    "duration": -1288,
    "start_time": "2021-10-04T07:23:28.748Z"
   },
   {
    "duration": -1227,
    "start_time": "2021-10-04T07:23:28.755Z"
   },
   {
    "duration": -1233,
    "start_time": "2021-10-04T07:23:28.763Z"
   },
   {
    "duration": -1237,
    "start_time": "2021-10-04T07:23:28.770Z"
   },
   {
    "duration": -1241,
    "start_time": "2021-10-04T07:23:28.776Z"
   },
   {
    "duration": -1245,
    "start_time": "2021-10-04T07:23:28.782Z"
   },
   {
    "duration": 219,
    "start_time": "2021-10-04T07:23:55.437Z"
   },
   {
    "duration": 1195,
    "start_time": "2021-10-04T07:25:28.647Z"
   },
   {
    "duration": 1425,
    "start_time": "2021-10-04T07:25:35.041Z"
   },
   {
    "duration": 3,
    "start_time": "2021-10-04T07:25:36.468Z"
   },
   {
    "duration": 28,
    "start_time": "2021-10-04T07:25:36.474Z"
   },
   {
    "duration": 39,
    "start_time": "2021-10-04T07:25:36.504Z"
   },
   {
    "duration": 13,
    "start_time": "2021-10-04T07:25:36.546Z"
   },
   {
    "duration": 8,
    "start_time": "2021-10-04T07:25:36.562Z"
   },
   {
    "duration": 1170,
    "start_time": "2021-10-04T07:25:36.573Z"
   },
   {
    "duration": 43,
    "start_time": "2021-10-04T07:25:37.746Z"
   },
   {
    "duration": 41,
    "start_time": "2021-10-04T07:25:37.792Z"
   },
   {
    "duration": 26,
    "start_time": "2021-10-04T07:25:37.836Z"
   },
   {
    "duration": 18,
    "start_time": "2021-10-04T07:25:37.864Z"
   },
   {
    "duration": 53,
    "start_time": "2021-10-04T07:25:37.884Z"
   },
   {
    "duration": 7,
    "start_time": "2021-10-04T07:25:37.940Z"
   },
   {
    "duration": 6,
    "start_time": "2021-10-04T07:25:37.950Z"
   },
   {
    "duration": 10,
    "start_time": "2021-10-04T07:25:37.959Z"
   },
   {
    "duration": 244,
    "start_time": "2021-10-04T07:25:37.972Z"
   },
   {
    "duration": 83,
    "start_time": "2021-10-04T07:25:38.220Z"
   },
   {
    "duration": 21,
    "start_time": "2021-10-04T07:25:38.307Z"
   },
   {
    "duration": 18,
    "start_time": "2021-10-04T07:25:38.331Z"
   },
   {
    "duration": 16,
    "start_time": "2021-10-04T07:25:38.352Z"
   },
   {
    "duration": 107,
    "start_time": "2021-10-04T07:25:38.371Z"
   },
   {
    "duration": 53,
    "start_time": "2021-10-04T07:25:38.481Z"
   },
   {
    "duration": 24,
    "start_time": "2021-10-04T07:25:38.542Z"
   },
   {
    "duration": 15,
    "start_time": "2021-10-04T07:25:38.572Z"
   },
   {
    "duration": 96,
    "start_time": "2021-10-04T07:25:38.589Z"
   },
   {
    "duration": 48,
    "start_time": "2021-10-04T07:25:38.688Z"
   },
   {
    "duration": 11,
    "start_time": "2021-10-04T07:25:38.739Z"
   },
   {
    "duration": 23,
    "start_time": "2021-10-04T07:25:38.753Z"
   },
   {
    "duration": 8,
    "start_time": "2021-10-04T07:25:38.778Z"
   },
   {
    "duration": 35,
    "start_time": "2021-10-04T07:25:38.789Z"
   },
   {
    "duration": 5,
    "start_time": "2021-10-04T07:25:38.826Z"
   },
   {
    "duration": 22,
    "start_time": "2021-10-04T07:25:38.834Z"
   },
   {
    "duration": 38,
    "start_time": "2021-10-04T07:25:38.859Z"
   },
   {
    "duration": 49,
    "start_time": "2021-10-04T07:25:38.900Z"
   },
   {
    "duration": 24,
    "start_time": "2021-10-04T07:25:38.951Z"
   },
   {
    "duration": 53,
    "start_time": "2021-10-04T07:25:38.978Z"
   },
   {
    "duration": 25,
    "start_time": "2021-10-04T07:25:39.033Z"
   },
   {
    "duration": 39,
    "start_time": "2021-10-04T07:25:39.061Z"
   },
   {
    "duration": 16,
    "start_time": "2021-10-04T07:25:39.122Z"
   },
   {
    "duration": 22,
    "start_time": "2021-10-04T07:25:39.141Z"
   },
   {
    "duration": 25,
    "start_time": "2021-10-04T07:25:39.166Z"
   },
   {
    "duration": 49,
    "start_time": "2021-10-04T07:25:39.193Z"
   },
   {
    "duration": 1149,
    "start_time": "2021-10-04T07:25:39.245Z"
   },
   {
    "duration": 36,
    "start_time": "2021-10-04T07:25:40.396Z"
   },
   {
    "duration": 24,
    "start_time": "2021-10-04T07:25:40.435Z"
   },
   {
    "duration": 74,
    "start_time": "2021-10-04T07:25:40.462Z"
   },
   {
    "duration": 9,
    "start_time": "2021-10-04T07:25:40.539Z"
   },
   {
    "duration": 78,
    "start_time": "2021-10-04T07:25:40.551Z"
   },
   {
    "duration": 18,
    "start_time": "2021-10-04T07:25:40.631Z"
   },
   {
    "duration": 19,
    "start_time": "2021-10-04T07:25:40.652Z"
   },
   {
    "duration": 9,
    "start_time": "2021-10-04T07:25:40.673Z"
   },
   {
    "duration": 16,
    "start_time": "2021-10-04T07:25:40.684Z"
   },
   {
    "duration": 7,
    "start_time": "2021-10-04T07:25:40.723Z"
   },
   {
    "duration": 18,
    "start_time": "2021-10-04T07:25:40.733Z"
   },
   {
    "duration": 29,
    "start_time": "2021-10-04T07:25:40.754Z"
   },
   {
    "duration": 43,
    "start_time": "2021-10-04T07:25:40.785Z"
   },
   {
    "duration": 901,
    "start_time": "2021-10-04T07:25:40.831Z"
   },
   {
    "duration": 34,
    "start_time": "2021-10-04T07:25:41.735Z"
   },
   {
    "duration": 6,
    "start_time": "2021-10-04T07:25:41.772Z"
   },
   {
    "duration": 14,
    "start_time": "2021-10-04T07:25:41.780Z"
   },
   {
    "duration": 576,
    "start_time": "2021-10-04T07:25:41.796Z"
   },
   {
    "duration": 11,
    "start_time": "2021-10-04T07:25:42.375Z"
   },
   {
    "duration": 663,
    "start_time": "2021-10-04T07:25:42.389Z"
   },
   {
    "duration": 12,
    "start_time": "2021-10-04T07:25:43.054Z"
   },
   {
    "duration": 57,
    "start_time": "2021-10-04T07:25:43.068Z"
   },
   {
    "duration": 40,
    "start_time": "2021-10-04T07:25:43.127Z"
   },
   {
    "duration": 47,
    "start_time": "2021-10-04T07:25:43.170Z"
   },
   {
    "duration": 22,
    "start_time": "2021-10-04T07:25:43.225Z"
   },
   {
    "duration": 564,
    "start_time": "2021-10-04T07:25:43.250Z"
   },
   {
    "duration": 15,
    "start_time": "2021-10-04T07:25:43.817Z"
   },
   {
    "duration": 565,
    "start_time": "2021-10-04T07:25:43.834Z"
   },
   {
    "duration": 23,
    "start_time": "2021-10-04T07:25:44.402Z"
   },
   {
    "duration": 15,
    "start_time": "2021-10-04T07:25:44.428Z"
   },
   {
    "duration": 32,
    "start_time": "2021-10-04T07:25:44.446Z"
   },
   {
    "duration": 123,
    "start_time": "2021-10-04T07:25:44.481Z"
   },
   {
    "duration": 25,
    "start_time": "2021-10-04T07:25:44.607Z"
   },
   {
    "duration": 668,
    "start_time": "2021-10-04T07:25:44.634Z"
   },
   {
    "duration": 25,
    "start_time": "2021-10-04T07:25:45.304Z"
   },
   {
    "duration": 543,
    "start_time": "2021-10-04T07:25:45.331Z"
   },
   {
    "duration": 11,
    "start_time": "2021-10-04T07:25:45.876Z"
   },
   {
    "duration": 71,
    "start_time": "2021-10-04T07:25:45.890Z"
   },
   {
    "duration": 47,
    "start_time": "2021-10-04T07:25:45.963Z"
   },
   {
    "duration": 38,
    "start_time": "2021-10-04T07:25:46.012Z"
   },
   {
    "duration": 39,
    "start_time": "2021-10-04T07:25:46.052Z"
   },
   {
    "duration": 18,
    "start_time": "2021-10-04T07:25:46.093Z"
   },
   {
    "duration": 51,
    "start_time": "2021-10-04T07:25:46.113Z"
   },
   {
    "duration": 1055,
    "start_time": "2021-10-04T07:25:46.167Z"
   },
   {
    "duration": 17,
    "start_time": "2021-10-04T07:25:47.225Z"
   },
   {
    "duration": 31,
    "start_time": "2021-10-04T07:25:47.244Z"
   },
   {
    "duration": 32,
    "start_time": "2021-10-04T07:25:47.277Z"
   },
   {
    "duration": 19,
    "start_time": "2021-10-04T07:25:47.312Z"
   },
   {
    "duration": 17,
    "start_time": "2021-10-04T07:25:47.333Z"
   },
   {
    "duration": 15,
    "start_time": "2021-10-04T07:25:47.353Z"
   },
   {
    "duration": 10,
    "start_time": "2021-10-04T07:25:47.371Z"
   },
   {
    "duration": 19,
    "start_time": "2021-10-04T07:25:47.384Z"
   },
   {
    "duration": 23,
    "start_time": "2021-10-04T07:35:17.590Z"
   },
   {
    "duration": 10214,
    "start_time": "2021-10-04T07:37:58.689Z"
   },
   {
    "duration": 7,
    "start_time": "2021-10-04T14:13:16.566Z"
   },
   {
    "duration": 5,
    "start_time": "2021-10-04T14:17:17.215Z"
   },
   {
    "duration": 6,
    "start_time": "2021-10-04T14:17:27.964Z"
   },
   {
    "duration": 133,
    "start_time": "2021-10-04T14:21:12.295Z"
   },
   {
    "duration": 111,
    "start_time": "2021-10-04T14:21:18.325Z"
   },
   {
    "duration": 111,
    "start_time": "2021-10-04T14:21:27.924Z"
   },
   {
    "duration": 4,
    "start_time": "2021-10-04T14:22:18.886Z"
   },
   {
    "duration": 5,
    "start_time": "2021-10-04T14:22:24.865Z"
   },
   {
    "duration": 1300,
    "start_time": "2021-10-04T14:22:42.125Z"
   },
   {
    "duration": 1509,
    "start_time": "2021-10-04T14:22:55.985Z"
   },
   {
    "duration": 5,
    "start_time": "2021-10-04T14:23:03.593Z"
   },
   {
    "duration": 1679,
    "start_time": "2021-10-04T14:23:05.014Z"
   },
   {
    "duration": 5,
    "start_time": "2021-10-04T14:23:25.555Z"
   },
   {
    "duration": 1874,
    "start_time": "2021-10-04T14:23:26.618Z"
   },
   {
    "duration": 5,
    "start_time": "2021-10-04T14:26:07.041Z"
   },
   {
    "duration": 1903,
    "start_time": "2021-10-04T14:26:07.580Z"
   },
   {
    "duration": 4,
    "start_time": "2021-10-04T14:27:05.825Z"
   },
   {
    "duration": 5,
    "start_time": "2021-10-04T14:27:06.305Z"
   },
   {
    "duration": 5,
    "start_time": "2021-10-04T14:29:35.655Z"
   },
   {
    "duration": 7,
    "start_time": "2021-10-04T14:29:35.663Z"
   },
   {
    "duration": 4,
    "start_time": "2021-10-04T14:29:35.688Z"
   },
   {
    "duration": 4,
    "start_time": "2021-10-04T14:29:35.698Z"
   },
   {
    "duration": 1566,
    "start_time": "2021-10-04T14:29:35.705Z"
   },
   {
    "duration": 3,
    "start_time": "2021-10-04T14:29:37.273Z"
   },
   {
    "duration": 9,
    "start_time": "2021-10-04T14:29:37.279Z"
   },
   {
    "duration": 6,
    "start_time": "2021-10-04T14:29:37.290Z"
   },
   {
    "duration": 6,
    "start_time": "2021-10-04T14:29:37.298Z"
   },
   {
    "duration": 2197,
    "start_time": "2021-10-04T14:29:37.306Z"
   },
   {
    "duration": 42,
    "start_time": "2021-10-04T14:29:39.506Z"
   },
   {
    "duration": 39,
    "start_time": "2021-10-04T14:29:39.551Z"
   },
   {
    "duration": 29,
    "start_time": "2021-10-04T14:29:39.593Z"
   },
   {
    "duration": 48,
    "start_time": "2021-10-04T14:29:39.625Z"
   },
   {
    "duration": 28,
    "start_time": "2021-10-04T14:29:39.677Z"
   },
   {
    "duration": 9,
    "start_time": "2021-10-04T14:29:39.709Z"
   },
   {
    "duration": 43,
    "start_time": "2021-10-04T14:29:39.720Z"
   },
   {
    "duration": 14,
    "start_time": "2021-10-04T14:29:39.766Z"
   },
   {
    "duration": 139,
    "start_time": "2021-10-04T14:29:39.783Z"
   },
   {
    "duration": 48,
    "start_time": "2021-10-04T14:29:39.924Z"
   },
   {
    "duration": 6,
    "start_time": "2021-10-04T14:29:39.975Z"
   },
   {
    "duration": 12,
    "start_time": "2021-10-04T14:29:39.984Z"
   },
   {
    "duration": 15,
    "start_time": "2021-10-04T14:29:39.999Z"
   },
   {
    "duration": 95,
    "start_time": "2021-10-04T14:29:40.017Z"
   },
   {
    "duration": 32,
    "start_time": "2021-10-04T14:29:40.114Z"
   },
   {
    "duration": 24,
    "start_time": "2021-10-04T14:29:40.165Z"
   },
   {
    "duration": 14,
    "start_time": "2021-10-04T14:29:40.193Z"
   },
   {
    "duration": 90,
    "start_time": "2021-10-04T14:29:40.209Z"
   },
   {
    "duration": 24,
    "start_time": "2021-10-04T14:29:40.302Z"
   },
   {
    "duration": 7,
    "start_time": "2021-10-04T14:29:40.329Z"
   },
   {
    "duration": 7,
    "start_time": "2021-10-04T14:29:40.363Z"
   },
   {
    "duration": 9,
    "start_time": "2021-10-04T14:29:40.372Z"
   },
   {
    "duration": 9,
    "start_time": "2021-10-04T14:29:40.383Z"
   },
   {
    "duration": 9,
    "start_time": "2021-10-04T14:29:40.394Z"
   },
   {
    "duration": 7,
    "start_time": "2021-10-04T14:29:40.406Z"
   },
   {
    "duration": 75,
    "start_time": "2021-10-04T14:29:40.415Z"
   },
   {
    "duration": 38,
    "start_time": "2021-10-04T14:29:40.492Z"
   },
   {
    "duration": 41,
    "start_time": "2021-10-04T14:29:40.533Z"
   },
   {
    "duration": 36,
    "start_time": "2021-10-04T14:29:40.576Z"
   },
   {
    "duration": 50,
    "start_time": "2021-10-04T14:29:40.615Z"
   },
   {
    "duration": 47,
    "start_time": "2021-10-04T14:29:40.668Z"
   },
   {
    "duration": 18,
    "start_time": "2021-10-04T14:29:40.717Z"
   },
   {
    "duration": 48,
    "start_time": "2021-10-04T14:29:40.737Z"
   },
   {
    "duration": 15,
    "start_time": "2021-10-04T14:29:40.788Z"
   },
   {
    "duration": 58,
    "start_time": "2021-10-04T14:29:40.806Z"
   },
   {
    "duration": 1338,
    "start_time": "2021-10-04T14:29:40.867Z"
   },
   {
    "duration": 32,
    "start_time": "2021-10-04T14:29:42.208Z"
   },
   {
    "duration": 19,
    "start_time": "2021-10-04T14:29:42.263Z"
   },
   {
    "duration": 84,
    "start_time": "2021-10-04T14:29:42.285Z"
   },
   {
    "duration": 7,
    "start_time": "2021-10-04T14:29:42.372Z"
   },
   {
    "duration": 51,
    "start_time": "2021-10-04T14:29:42.382Z"
   },
   {
    "duration": 46,
    "start_time": "2021-10-04T14:29:42.435Z"
   },
   {
    "duration": 8,
    "start_time": "2021-10-04T14:29:42.483Z"
   },
   {
    "duration": 8,
    "start_time": "2021-10-04T14:29:42.494Z"
   },
   {
    "duration": 20,
    "start_time": "2021-10-04T14:29:42.505Z"
   },
   {
    "duration": 38,
    "start_time": "2021-10-04T14:29:42.527Z"
   },
   {
    "duration": 12,
    "start_time": "2021-10-04T14:29:42.568Z"
   },
   {
    "duration": 30,
    "start_time": "2021-10-04T14:29:42.583Z"
   },
   {
    "duration": 49,
    "start_time": "2021-10-04T14:29:42.615Z"
   },
   {
    "duration": 530,
    "start_time": "2021-10-04T14:29:42.667Z"
   },
   {
    "duration": 32,
    "start_time": "2021-10-04T14:29:43.200Z"
   },
   {
    "duration": 28,
    "start_time": "2021-10-04T14:29:43.234Z"
   },
   {
    "duration": 6,
    "start_time": "2021-10-04T14:29:43.264Z"
   },
   {
    "duration": 573,
    "start_time": "2021-10-04T14:29:43.272Z"
   },
   {
    "duration": 19,
    "start_time": "2021-10-04T14:29:43.847Z"
   },
   {
    "duration": 581,
    "start_time": "2021-10-04T14:29:43.868Z"
   },
   {
    "duration": 17,
    "start_time": "2021-10-04T14:29:44.451Z"
   },
   {
    "duration": 35,
    "start_time": "2021-10-04T14:29:44.471Z"
   },
   {
    "duration": 18,
    "start_time": "2021-10-04T14:29:44.509Z"
   },
   {
    "duration": 47,
    "start_time": "2021-10-04T14:29:44.529Z"
   },
   {
    "duration": 23,
    "start_time": "2021-10-04T14:29:44.584Z"
   },
   {
    "duration": 733,
    "start_time": "2021-10-04T14:29:44.610Z"
   },
   {
    "duration": 600,
    "start_time": "2021-10-04T14:29:45.347Z"
   },
   {
    "duration": 20,
    "start_time": "2021-10-04T14:29:45.949Z"
   },
   {
    "duration": 693,
    "start_time": "2021-10-04T14:29:45.971Z"
   },
   {
    "duration": 10,
    "start_time": "2021-10-04T14:29:46.666Z"
   },
   {
    "duration": 13,
    "start_time": "2021-10-04T14:29:46.678Z"
   },
   {
    "duration": 10,
    "start_time": "2021-10-04T14:29:46.694Z"
   },
   {
    "duration": 68,
    "start_time": "2021-10-04T14:29:46.707Z"
   },
   {
    "duration": 21,
    "start_time": "2021-10-04T14:29:46.777Z"
   },
   {
    "duration": 603,
    "start_time": "2021-10-04T14:29:46.800Z"
   },
   {
    "duration": 10,
    "start_time": "2021-10-04T14:29:47.406Z"
   },
   {
    "duration": 559,
    "start_time": "2021-10-04T14:29:47.419Z"
   },
   {
    "duration": 12,
    "start_time": "2021-10-04T14:29:47.981Z"
   },
   {
    "duration": 37,
    "start_time": "2021-10-04T14:29:47.995Z"
   },
   {
    "duration": 47,
    "start_time": "2021-10-04T14:29:48.035Z"
   },
   {
    "duration": 4,
    "start_time": "2021-10-04T14:29:48.085Z"
   },
   {
    "duration": 34,
    "start_time": "2021-10-04T14:29:48.091Z"
   },
   {
    "duration": 40,
    "start_time": "2021-10-04T14:29:48.128Z"
   },
   {
    "duration": 46,
    "start_time": "2021-10-04T14:29:48.170Z"
   },
   {
    "duration": 1019,
    "start_time": "2021-10-04T14:29:48.218Z"
   },
   {
    "duration": 28,
    "start_time": "2021-10-04T14:29:49.240Z"
   },
   {
    "duration": 7,
    "start_time": "2021-10-04T14:29:49.271Z"
   },
   {
    "duration": 17,
    "start_time": "2021-10-04T14:29:49.280Z"
   },
   {
    "duration": 8,
    "start_time": "2021-10-04T14:29:49.299Z"
   },
   {
    "duration": 8,
    "start_time": "2021-10-04T14:29:49.309Z"
   },
   {
    "duration": 45,
    "start_time": "2021-10-04T14:29:49.320Z"
   },
   {
    "duration": 15,
    "start_time": "2021-10-04T14:29:49.368Z"
   },
   {
    "duration": 8,
    "start_time": "2021-10-04T14:29:49.385Z"
   },
   {
    "duration": 17,
    "start_time": "2021-10-04T14:49:49.545Z"
   },
   {
    "duration": 25,
    "start_time": "2021-10-04T14:50:08.564Z"
   },
   {
    "duration": 793,
    "start_time": "2021-10-04T14:51:31.595Z"
   },
   {
    "duration": 527,
    "start_time": "2021-10-04T14:53:01.492Z"
   },
   {
    "duration": 860,
    "start_time": "2021-10-04T14:53:25.567Z"
   },
   {
    "duration": 25,
    "start_time": "2021-10-04T14:53:31.755Z"
   },
   {
    "duration": 21,
    "start_time": "2021-10-04T14:53:59.966Z"
   },
   {
    "duration": 448,
    "start_time": "2021-10-04T14:55:37.686Z"
   },
   {
    "duration": 23,
    "start_time": "2021-10-04T14:55:57.697Z"
   },
   {
    "duration": 1583,
    "start_time": "2021-10-04T15:05:28.575Z"
   },
   {
    "duration": 4,
    "start_time": "2021-10-04T15:05:34.453Z"
   },
   {
    "duration": 7,
    "start_time": "2021-10-04T15:05:37.127Z"
   },
   {
    "duration": 1737,
    "start_time": "2021-10-04T15:05:38.750Z"
   },
   {
    "duration": 4,
    "start_time": "2021-10-04T15:05:44.003Z"
   },
   {
    "duration": 3,
    "start_time": "2021-10-04T15:05:44.462Z"
   },
   {
    "duration": 4,
    "start_time": "2021-10-04T15:05:44.953Z"
   },
   {
    "duration": 3,
    "start_time": "2021-10-04T15:05:45.427Z"
   },
   {
    "duration": 3,
    "start_time": "2021-10-04T15:05:45.991Z"
   },
   {
    "duration": 744,
    "start_time": "2021-10-04T15:05:49.875Z"
   },
   {
    "duration": 4,
    "start_time": "2021-10-04T15:06:44.023Z"
   },
   {
    "duration": 122,
    "start_time": "2021-10-04T15:06:44.590Z"
   },
   {
    "duration": 6,
    "start_time": "2021-10-04T15:08:13.639Z"
   },
   {
    "duration": 1627,
    "start_time": "2021-10-04T15:08:15.095Z"
   },
   {
    "duration": 6,
    "start_time": "2021-10-04T15:09:11.824Z"
   },
   {
    "duration": 1841,
    "start_time": "2021-10-04T15:09:13.229Z"
   },
   {
    "duration": 377,
    "start_time": "2021-10-04T15:09:36.132Z"
   },
   {
    "duration": 5,
    "start_time": "2021-10-04T15:10:04.468Z"
   },
   {
    "duration": 499,
    "start_time": "2021-10-04T15:10:05.319Z"
   },
   {
    "duration": 371,
    "start_time": "2021-10-04T15:10:11.017Z"
   },
   {
    "duration": 6,
    "start_time": "2021-10-04T15:10:56.935Z"
   },
   {
    "duration": 1922,
    "start_time": "2021-10-04T15:10:57.722Z"
   },
   {
    "duration": 8,
    "start_time": "2021-10-04T15:11:25.088Z"
   },
   {
    "duration": 1828,
    "start_time": "2021-10-04T15:11:25.485Z"
   },
   {
    "duration": 5,
    "start_time": "2021-10-04T15:11:54.131Z"
   },
   {
    "duration": 1695,
    "start_time": "2021-10-04T15:11:54.806Z"
   },
   {
    "duration": 333,
    "start_time": "2021-10-04T15:12:14.551Z"
   },
   {
    "duration": 375,
    "start_time": "2021-10-04T15:13:27.003Z"
   },
   {
    "duration": 1749,
    "start_time": "2021-10-04T15:13:34.756Z"
   },
   {
    "duration": 354,
    "start_time": "2021-10-04T15:13:40.633Z"
   },
   {
    "duration": 365,
    "start_time": "2021-10-04T15:14:03.395Z"
   },
   {
    "duration": 353,
    "start_time": "2021-10-04T15:14:10.965Z"
   },
   {
    "duration": 2133,
    "start_time": "2021-10-04T15:14:31.296Z"
   },
   {
    "duration": 6,
    "start_time": "2021-10-04T15:15:01.295Z"
   },
   {
    "duration": 1777,
    "start_time": "2021-10-04T15:15:11.438Z"
   },
   {
    "duration": 2485,
    "start_time": "2021-10-04T15:25:49.945Z"
   },
   {
    "duration": 30,
    "start_time": "2021-10-04T15:25:52.433Z"
   },
   {
    "duration": 1505,
    "start_time": "2021-10-04T15:26:22.234Z"
   },
   {
    "duration": 3,
    "start_time": "2021-10-04T15:26:23.742Z"
   },
   {
    "duration": 16,
    "start_time": "2021-10-04T15:26:23.750Z"
   },
   {
    "duration": 1808,
    "start_time": "2021-10-04T15:26:23.770Z"
   },
   {
    "duration": 2196,
    "start_time": "2021-10-04T15:26:25.581Z"
   },
   {
    "duration": 27,
    "start_time": "2021-10-04T15:26:27.779Z"
   },
   {
    "duration": 2,
    "start_time": "2021-10-04T15:26:27.809Z"
   },
   {
    "duration": 6,
    "start_time": "2021-10-04T15:26:27.814Z"
   },
   {
    "duration": 5,
    "start_time": "2021-10-04T15:26:27.824Z"
   },
   {
    "duration": 5,
    "start_time": "2021-10-04T15:26:27.832Z"
   },
   {
    "duration": 24,
    "start_time": "2021-10-04T15:26:27.839Z"
   },
   {
    "duration": 47,
    "start_time": "2021-10-04T15:26:27.865Z"
   },
   {
    "duration": 63,
    "start_time": "2021-10-04T15:26:27.914Z"
   },
   {
    "duration": 26,
    "start_time": "2021-10-04T15:26:27.980Z"
   },
   {
    "duration": 16,
    "start_time": "2021-10-04T15:26:28.008Z"
   },
   {
    "duration": 53,
    "start_time": "2021-10-04T15:26:28.027Z"
   },
   {
    "duration": 6,
    "start_time": "2021-10-04T15:26:28.083Z"
   },
   {
    "duration": 9,
    "start_time": "2021-10-04T15:26:28.091Z"
   },
   {
    "duration": 6,
    "start_time": "2021-10-04T15:26:28.102Z"
   },
   {
    "duration": 160,
    "start_time": "2021-10-04T15:26:28.111Z"
   },
   {
    "duration": 41,
    "start_time": "2021-10-04T15:26:28.274Z"
   },
   {
    "duration": 5,
    "start_time": "2021-10-04T15:26:28.318Z"
   },
   {
    "duration": 42,
    "start_time": "2021-10-04T15:26:28.325Z"
   },
   {
    "duration": 12,
    "start_time": "2021-10-04T15:26:28.369Z"
   },
   {
    "duration": 89,
    "start_time": "2021-10-04T15:26:28.383Z"
   },
   {
    "duration": 31,
    "start_time": "2021-10-04T15:26:28.474Z"
   },
   {
    "duration": 22,
    "start_time": "2021-10-04T15:26:28.512Z"
   },
   {
    "duration": 15,
    "start_time": "2021-10-04T15:26:28.563Z"
   },
   {
    "duration": 85,
    "start_time": "2021-10-04T15:26:28.580Z"
   },
   {
    "duration": 24,
    "start_time": "2021-10-04T15:26:28.667Z"
   },
   {
    "duration": 8,
    "start_time": "2021-10-04T15:26:28.694Z"
   },
   {
    "duration": 8,
    "start_time": "2021-10-04T15:26:28.704Z"
   },
   {
    "duration": 51,
    "start_time": "2021-10-04T15:26:28.714Z"
   },
   {
    "duration": 6,
    "start_time": "2021-10-04T15:26:28.767Z"
   },
   {
    "duration": 12,
    "start_time": "2021-10-04T15:26:28.775Z"
   },
   {
    "duration": 6,
    "start_time": "2021-10-04T15:26:28.790Z"
   },
   {
    "duration": 81,
    "start_time": "2021-10-04T15:26:28.799Z"
   },
   {
    "duration": 43,
    "start_time": "2021-10-04T15:26:28.882Z"
   },
   {
    "duration": 49,
    "start_time": "2021-10-04T15:26:28.927Z"
   },
   {
    "duration": 33,
    "start_time": "2021-10-04T15:26:28.979Z"
   },
   {
    "duration": 54,
    "start_time": "2021-10-04T15:26:29.015Z"
   },
   {
    "duration": 41,
    "start_time": "2021-10-04T15:26:29.071Z"
   },
   {
    "duration": 15,
    "start_time": "2021-10-04T15:26:29.115Z"
   },
   {
    "duration": 51,
    "start_time": "2021-10-04T15:26:29.132Z"
   },
   {
    "duration": 20,
    "start_time": "2021-10-04T15:26:29.186Z"
   },
   {
    "duration": 54,
    "start_time": "2021-10-04T15:26:29.208Z"
   },
   {
    "duration": 1152,
    "start_time": "2021-10-04T15:26:29.265Z"
   },
   {
    "duration": 26,
    "start_time": "2021-10-04T15:26:30.420Z"
   },
   {
    "duration": 17,
    "start_time": "2021-10-04T15:26:30.462Z"
   },
   {
    "duration": 49,
    "start_time": "2021-10-04T15:26:30.482Z"
   },
   {
    "duration": 28,
    "start_time": "2021-10-04T15:26:30.534Z"
   },
   {
    "duration": 40,
    "start_time": "2021-10-04T15:26:30.564Z"
   },
   {
    "duration": 17,
    "start_time": "2021-10-04T15:26:30.607Z"
   },
   {
    "duration": 37,
    "start_time": "2021-10-04T15:26:30.626Z"
   },
   {
    "duration": 19,
    "start_time": "2021-10-04T15:26:30.665Z"
   },
   {
    "duration": 29,
    "start_time": "2021-10-04T15:26:30.686Z"
   },
   {
    "duration": 30,
    "start_time": "2021-10-04T15:26:30.718Z"
   },
   {
    "duration": 22,
    "start_time": "2021-10-04T15:26:30.751Z"
   },
   {
    "duration": 42,
    "start_time": "2021-10-04T15:26:30.776Z"
   },
   {
    "duration": 41,
    "start_time": "2021-10-04T15:26:30.821Z"
   },
   {
    "duration": 533,
    "start_time": "2021-10-04T15:26:30.865Z"
   },
   {
    "duration": 34,
    "start_time": "2021-10-04T15:26:31.400Z"
   },
   {
    "duration": 27,
    "start_time": "2021-10-04T15:26:31.437Z"
   },
   {
    "duration": 29,
    "start_time": "2021-10-04T15:26:31.466Z"
   },
   {
    "duration": 564,
    "start_time": "2021-10-04T15:26:31.498Z"
   },
   {
    "duration": 10,
    "start_time": "2021-10-04T15:26:32.065Z"
   },
   {
    "duration": 578,
    "start_time": "2021-10-04T15:26:32.078Z"
   },
   {
    "duration": 11,
    "start_time": "2021-10-04T15:26:32.661Z"
   },
   {
    "duration": 33,
    "start_time": "2021-10-04T15:26:32.674Z"
   },
   {
    "duration": 12,
    "start_time": "2021-10-04T15:26:32.709Z"
   },
   {
    "duration": 54,
    "start_time": "2021-10-04T15:26:32.723Z"
   },
   {
    "duration": 22,
    "start_time": "2021-10-04T15:26:32.779Z"
   },
   {
    "duration": 706,
    "start_time": "2021-10-04T15:26:32.804Z"
   },
   {
    "duration": 723,
    "start_time": "2021-10-04T15:26:33.513Z"
   },
   {
    "duration": 23,
    "start_time": "2021-10-04T15:26:34.238Z"
   },
   {
    "duration": 587,
    "start_time": "2021-10-04T15:26:34.264Z"
   },
   {
    "duration": 18,
    "start_time": "2021-10-04T15:26:34.853Z"
   },
   {
    "duration": 22,
    "start_time": "2021-10-04T15:26:34.874Z"
   },
   {
    "duration": 14,
    "start_time": "2021-10-04T15:26:34.898Z"
   },
   {
    "duration": 62,
    "start_time": "2021-10-04T15:26:34.915Z"
   },
   {
    "duration": 24,
    "start_time": "2021-10-04T15:26:34.987Z"
   },
   {
    "duration": 625,
    "start_time": "2021-10-04T15:26:35.013Z"
   },
   {
    "duration": 23,
    "start_time": "2021-10-04T15:26:35.641Z"
   },
   {
    "duration": 564,
    "start_time": "2021-10-04T15:26:35.667Z"
   },
   {
    "duration": 11,
    "start_time": "2021-10-04T15:26:36.234Z"
   },
   {
    "duration": 32,
    "start_time": "2021-10-04T15:26:36.262Z"
   },
   {
    "duration": 20,
    "start_time": "2021-10-04T15:26:36.297Z"
   },
   {
    "duration": 4,
    "start_time": "2021-10-04T15:26:36.319Z"
   },
   {
    "duration": 60,
    "start_time": "2021-10-04T15:26:36.325Z"
   },
   {
    "duration": 18,
    "start_time": "2021-10-04T15:26:36.388Z"
   },
   {
    "duration": 62,
    "start_time": "2021-10-04T15:26:36.409Z"
   },
   {
    "duration": 1024,
    "start_time": "2021-10-04T15:26:36.474Z"
   },
   {
    "duration": 17,
    "start_time": "2021-10-04T15:26:37.501Z"
   },
   {
    "duration": 7,
    "start_time": "2021-10-04T15:26:37.521Z"
   },
   {
    "duration": 35,
    "start_time": "2021-10-04T15:26:37.531Z"
   },
   {
    "duration": 9,
    "start_time": "2021-10-04T15:26:37.569Z"
   },
   {
    "duration": 9,
    "start_time": "2021-10-04T15:26:37.580Z"
   },
   {
    "duration": 9,
    "start_time": "2021-10-04T15:26:37.591Z"
   },
   {
    "duration": 10,
    "start_time": "2021-10-04T15:26:37.602Z"
   },
   {
    "duration": 53,
    "start_time": "2021-10-04T15:26:37.615Z"
   },
   {
    "duration": 26,
    "start_time": "2021-10-04T15:26:37.670Z"
   },
   {
    "duration": 1629,
    "start_time": "2021-10-04T15:28:57.015Z"
   },
   {
    "duration": 1582,
    "start_time": "2021-10-04T15:29:54.314Z"
   },
   {
    "duration": 1513,
    "start_time": "2021-10-04T15:32:40.015Z"
   },
   {
    "duration": 3,
    "start_time": "2021-10-04T15:32:41.531Z"
   },
   {
    "duration": 24,
    "start_time": "2021-10-04T15:32:41.537Z"
   },
   {
    "duration": 1615,
    "start_time": "2021-10-04T15:32:41.564Z"
   },
   {
    "duration": 1572,
    "start_time": "2021-10-04T15:32:43.182Z"
   },
   {
    "duration": 3,
    "start_time": "2021-10-04T15:32:44.757Z"
   },
   {
    "duration": 17,
    "start_time": "2021-10-04T15:32:44.762Z"
   },
   {
    "duration": 20,
    "start_time": "2021-10-04T15:32:44.782Z"
   },
   {
    "duration": 12,
    "start_time": "2021-10-04T15:32:44.807Z"
   },
   {
    "duration": 11,
    "start_time": "2021-10-04T15:32:44.823Z"
   },
   {
    "duration": 54,
    "start_time": "2021-10-04T15:32:44.837Z"
   },
   {
    "duration": 42,
    "start_time": "2021-10-04T15:32:44.894Z"
   },
   {
    "duration": 50,
    "start_time": "2021-10-04T15:32:44.939Z"
   },
   {
    "duration": 21,
    "start_time": "2021-10-04T15:32:44.991Z"
   },
   {
    "duration": 53,
    "start_time": "2021-10-04T15:32:45.015Z"
   },
   {
    "duration": 16,
    "start_time": "2021-10-04T15:32:45.070Z"
   },
   {
    "duration": 15,
    "start_time": "2021-10-04T15:32:45.089Z"
   },
   {
    "duration": 10,
    "start_time": "2021-10-04T15:32:45.107Z"
   },
   {
    "duration": 142,
    "start_time": "2021-10-04T15:32:45.120Z"
   },
   {
    "duration": 43,
    "start_time": "2021-10-04T15:32:45.264Z"
   },
   {
    "duration": 7,
    "start_time": "2021-10-04T15:32:45.310Z"
   },
   {
    "duration": 45,
    "start_time": "2021-10-04T15:32:45.319Z"
   },
   {
    "duration": 12,
    "start_time": "2021-10-04T15:32:45.366Z"
   },
   {
    "duration": 83,
    "start_time": "2021-10-04T15:32:45.381Z"
   },
   {
    "duration": 31,
    "start_time": "2021-10-04T15:32:45.467Z"
   },
   {
    "duration": 23,
    "start_time": "2021-10-04T15:32:45.500Z"
   },
   {
    "duration": 44,
    "start_time": "2021-10-04T15:32:45.530Z"
   },
   {
    "duration": 63,
    "start_time": "2021-10-04T15:32:45.578Z"
   },
   {
    "duration": 42,
    "start_time": "2021-10-04T15:32:45.643Z"
   },
   {
    "duration": 8,
    "start_time": "2021-10-04T15:32:45.687Z"
   },
   {
    "duration": 22,
    "start_time": "2021-10-04T15:32:45.698Z"
   },
   {
    "duration": 10,
    "start_time": "2021-10-04T15:32:45.723Z"
   },
   {
    "duration": 32,
    "start_time": "2021-10-04T15:32:45.735Z"
   },
   {
    "duration": 7,
    "start_time": "2021-10-04T15:32:45.770Z"
   },
   {
    "duration": 7,
    "start_time": "2021-10-04T15:32:45.779Z"
   },
   {
    "duration": 44,
    "start_time": "2021-10-04T15:32:45.788Z"
   },
   {
    "duration": 60,
    "start_time": "2021-10-04T15:32:45.835Z"
   },
   {
    "duration": 23,
    "start_time": "2021-10-04T15:32:45.897Z"
   },
   {
    "duration": 57,
    "start_time": "2021-10-04T15:32:45.922Z"
   },
   {
    "duration": 25,
    "start_time": "2021-10-04T15:32:45.981Z"
   },
   {
    "duration": 56,
    "start_time": "2021-10-04T15:32:46.009Z"
   },
   {
    "duration": 14,
    "start_time": "2021-10-04T15:32:46.067Z"
   },
   {
    "duration": 22,
    "start_time": "2021-10-04T15:32:46.083Z"
   },
   {
    "duration": 54,
    "start_time": "2021-10-04T15:32:46.108Z"
   },
   {
    "duration": 24,
    "start_time": "2021-10-04T15:32:46.164Z"
   },
   {
    "duration": 1130,
    "start_time": "2021-10-04T15:32:46.190Z"
   },
   {
    "duration": 42,
    "start_time": "2021-10-04T15:32:47.322Z"
   },
   {
    "duration": 14,
    "start_time": "2021-10-04T15:32:47.367Z"
   },
   {
    "duration": 43,
    "start_time": "2021-10-04T15:32:47.383Z"
   },
   {
    "duration": 35,
    "start_time": "2021-10-04T15:32:47.428Z"
   },
   {
    "duration": 39,
    "start_time": "2021-10-04T15:32:47.465Z"
   },
   {
    "duration": 18,
    "start_time": "2021-10-04T15:32:47.507Z"
   },
   {
    "duration": 39,
    "start_time": "2021-10-04T15:32:47.527Z"
   },
   {
    "duration": 6,
    "start_time": "2021-10-04T15:32:47.569Z"
   },
   {
    "duration": 18,
    "start_time": "2021-10-04T15:32:47.578Z"
   },
   {
    "duration": 7,
    "start_time": "2021-10-04T15:32:47.598Z"
   },
   {
    "duration": 15,
    "start_time": "2021-10-04T15:32:47.608Z"
   },
   {
    "duration": 33,
    "start_time": "2021-10-04T15:32:47.663Z"
   },
   {
    "duration": 14,
    "start_time": "2021-10-04T15:32:47.698Z"
   },
   {
    "duration": 535,
    "start_time": "2021-10-04T15:32:47.714Z"
   },
   {
    "duration": 41,
    "start_time": "2021-10-04T15:32:48.251Z"
   },
   {
    "duration": 7,
    "start_time": "2021-10-04T15:32:48.295Z"
   },
   {
    "duration": 10,
    "start_time": "2021-10-04T15:32:48.304Z"
   },
   {
    "duration": 577,
    "start_time": "2021-10-04T15:32:48.317Z"
   },
   {
    "duration": 11,
    "start_time": "2021-10-04T15:32:48.897Z"
   },
   {
    "duration": 572,
    "start_time": "2021-10-04T15:32:48.911Z"
   },
   {
    "duration": 11,
    "start_time": "2021-10-04T15:32:49.485Z"
   },
   {
    "duration": 13,
    "start_time": "2021-10-04T15:32:49.499Z"
   },
   {
    "duration": 12,
    "start_time": "2021-10-04T15:32:49.514Z"
   },
   {
    "duration": 36,
    "start_time": "2021-10-04T15:32:49.562Z"
   },
   {
    "duration": 24,
    "start_time": "2021-10-04T15:32:49.601Z"
   },
   {
    "duration": 1660,
    "start_time": "2021-10-04T15:32:49.628Z"
   },
   {
    "duration": 693,
    "start_time": "2021-10-04T15:32:51.291Z"
   },
   {
    "duration": 12,
    "start_time": "2021-10-04T15:32:51.987Z"
   },
   {
    "duration": 716,
    "start_time": "2021-10-04T15:32:52.001Z"
   },
   {
    "duration": 12,
    "start_time": "2021-10-04T15:32:52.720Z"
   },
   {
    "duration": 36,
    "start_time": "2021-10-04T15:32:52.734Z"
   },
   {
    "duration": 12,
    "start_time": "2021-10-04T15:32:52.773Z"
   },
   {
    "duration": 32,
    "start_time": "2021-10-04T15:32:52.788Z"
   },
   {
    "duration": 51,
    "start_time": "2021-10-04T15:32:52.822Z"
   },
   {
    "duration": 684,
    "start_time": "2021-10-04T15:32:52.882Z"
   },
   {
    "duration": 12,
    "start_time": "2021-10-04T15:32:53.570Z"
   },
   {
    "duration": 635,
    "start_time": "2021-10-04T15:32:53.585Z"
   },
   {
    "duration": 14,
    "start_time": "2021-10-04T15:32:54.223Z"
   },
   {
    "duration": 62,
    "start_time": "2021-10-04T15:32:54.240Z"
   },
   {
    "duration": 19,
    "start_time": "2021-10-04T15:32:54.305Z"
   },
   {
    "duration": 20,
    "start_time": "2021-10-04T15:32:54.327Z"
   },
   {
    "duration": 27,
    "start_time": "2021-10-04T15:32:54.363Z"
   },
   {
    "duration": 20,
    "start_time": "2021-10-04T15:32:54.393Z"
   },
   {
    "duration": 61,
    "start_time": "2021-10-04T15:32:54.415Z"
   },
   {
    "duration": 1006,
    "start_time": "2021-10-04T15:32:54.478Z"
   },
   {
    "duration": 16,
    "start_time": "2021-10-04T15:32:55.487Z"
   },
   {
    "duration": 21,
    "start_time": "2021-10-04T15:32:55.505Z"
   },
   {
    "duration": 23,
    "start_time": "2021-10-04T15:32:55.529Z"
   },
   {
    "duration": 15,
    "start_time": "2021-10-04T15:32:55.555Z"
   },
   {
    "duration": 24,
    "start_time": "2021-10-04T15:32:55.573Z"
   },
   {
    "duration": 18,
    "start_time": "2021-10-04T15:32:55.599Z"
   },
   {
    "duration": 18,
    "start_time": "2021-10-04T15:32:55.620Z"
   },
   {
    "duration": 28,
    "start_time": "2021-10-04T15:32:55.640Z"
   },
   {
    "duration": 41,
    "start_time": "2021-10-04T15:32:55.671Z"
   },
   {
    "duration": 1059,
    "start_time": "2021-10-04T15:36:38.725Z"
   },
   {
    "duration": 995,
    "start_time": "2021-10-04T15:36:55.253Z"
   },
   {
    "duration": 979,
    "start_time": "2021-10-04T15:37:42.213Z"
   },
   {
    "duration": 963,
    "start_time": "2021-10-04T15:37:48.722Z"
   },
   {
    "duration": 1104,
    "start_time": "2021-10-04T15:39:35.700Z"
   },
   {
    "duration": 987,
    "start_time": "2021-10-04T15:40:21.219Z"
   },
   {
    "duration": 1006,
    "start_time": "2021-10-04T15:40:34.312Z"
   },
   {
    "duration": 8,
    "start_time": "2021-10-04T15:45:30.474Z"
   },
   {
    "duration": 8,
    "start_time": "2021-10-04T15:46:51.393Z"
   },
   {
    "duration": 10,
    "start_time": "2021-10-04T15:50:54.615Z"
   },
   {
    "duration": 8,
    "start_time": "2021-10-04T15:52:07.134Z"
   },
   {
    "duration": 10,
    "start_time": "2021-10-04T15:52:45.624Z"
   },
   {
    "duration": 105,
    "start_time": "2021-10-04T15:54:48.337Z"
   },
   {
    "duration": 8,
    "start_time": "2021-10-04T15:54:53.606Z"
   },
   {
    "duration": 9,
    "start_time": "2021-10-04T15:55:15.125Z"
   },
   {
    "duration": 118,
    "start_time": "2021-10-04T15:57:22.784Z"
   },
   {
    "duration": 8,
    "start_time": "2021-10-04T15:57:52.904Z"
   },
   {
    "duration": 23,
    "start_time": "2021-10-04T15:59:30.423Z"
   },
   {
    "duration": 302,
    "start_time": "2021-10-04T15:59:35.915Z"
   },
   {
    "duration": 9264,
    "start_time": "2021-10-04T16:01:41.495Z"
   },
   {
    "duration": 352,
    "start_time": "2021-10-04T16:08:33.585Z"
   },
   {
    "duration": 456,
    "start_time": "2021-10-04T16:10:01.484Z"
   },
   {
    "duration": 118,
    "start_time": "2021-10-07T09:18:21.526Z"
   },
   {
    "duration": 5,
    "start_time": "2021-10-07T09:18:28.053Z"
   },
   {
    "duration": 84,
    "start_time": "2021-10-07T09:18:29.340Z"
   },
   {
    "duration": 344,
    "start_time": "2021-10-07T09:18:40.862Z"
   },
   {
    "duration": 4,
    "start_time": "2021-10-07T09:18:46.163Z"
   },
   {
    "duration": 5,
    "start_time": "2021-10-07T09:18:46.680Z"
   },
   {
    "duration": 725,
    "start_time": "2021-10-07T09:18:47.183Z"
   },
   {
    "duration": 1382,
    "start_time": "2021-10-07T09:18:59.419Z"
   },
   {
    "duration": 3,
    "start_time": "2021-10-07T09:19:03.864Z"
   },
   {
    "duration": 5,
    "start_time": "2021-10-07T09:19:04.329Z"
   },
   {
    "duration": 1452,
    "start_time": "2021-10-07T09:19:05.079Z"
   },
   {
    "duration": 5,
    "start_time": "2021-10-07T09:19:23.686Z"
   },
   {
    "duration": 7,
    "start_time": "2021-10-07T09:19:23.694Z"
   },
   {
    "duration": 9,
    "start_time": "2021-10-07T09:19:23.704Z"
   },
   {
    "duration": 15,
    "start_time": "2021-10-07T09:19:23.716Z"
   },
   {
    "duration": 1489,
    "start_time": "2021-10-07T09:19:23.734Z"
   },
   {
    "duration": 3,
    "start_time": "2021-10-07T09:19:25.226Z"
   },
   {
    "duration": 9,
    "start_time": "2021-10-07T09:19:25.233Z"
   },
   {
    "duration": 12,
    "start_time": "2021-10-07T09:19:25.244Z"
   },
   {
    "duration": 11,
    "start_time": "2021-10-07T09:19:25.258Z"
   },
   {
    "duration": 19,
    "start_time": "2021-10-07T09:19:25.271Z"
   },
   {
    "duration": 300,
    "start_time": "2021-10-07T09:19:25.292Z"
   },
   {
    "duration": -490,
    "start_time": "2021-10-07T09:19:26.088Z"
   },
   {
    "duration": -501,
    "start_time": "2021-10-07T09:19:26.101Z"
   },
   {
    "duration": -507,
    "start_time": "2021-10-07T09:19:26.108Z"
   },
   {
    "duration": -513,
    "start_time": "2021-10-07T09:19:26.115Z"
   },
   {
    "duration": -518,
    "start_time": "2021-10-07T09:19:26.121Z"
   },
   {
    "duration": -523,
    "start_time": "2021-10-07T09:19:26.128Z"
   },
   {
    "duration": -528,
    "start_time": "2021-10-07T09:19:26.134Z"
   },
   {
    "duration": -533,
    "start_time": "2021-10-07T09:19:26.140Z"
   },
   {
    "duration": -538,
    "start_time": "2021-10-07T09:19:26.146Z"
   },
   {
    "duration": -543,
    "start_time": "2021-10-07T09:19:26.152Z"
   },
   {
    "duration": -549,
    "start_time": "2021-10-07T09:19:26.159Z"
   },
   {
    "duration": -563,
    "start_time": "2021-10-07T09:19:26.175Z"
   },
   {
    "duration": -573,
    "start_time": "2021-10-07T09:19:26.186Z"
   },
   {
    "duration": -581,
    "start_time": "2021-10-07T09:19:26.195Z"
   },
   {
    "duration": -587,
    "start_time": "2021-10-07T09:19:26.202Z"
   },
   {
    "duration": -593,
    "start_time": "2021-10-07T09:19:26.209Z"
   },
   {
    "duration": -597,
    "start_time": "2021-10-07T09:19:26.215Z"
   },
   {
    "duration": -602,
    "start_time": "2021-10-07T09:19:26.221Z"
   },
   {
    "duration": -607,
    "start_time": "2021-10-07T09:19:26.227Z"
   },
   {
    "duration": -612,
    "start_time": "2021-10-07T09:19:26.233Z"
   },
   {
    "duration": -618,
    "start_time": "2021-10-07T09:19:26.240Z"
   },
   {
    "duration": -622,
    "start_time": "2021-10-07T09:19:26.245Z"
   },
   {
    "duration": -626,
    "start_time": "2021-10-07T09:19:26.251Z"
   },
   {
    "duration": -630,
    "start_time": "2021-10-07T09:19:26.257Z"
   },
   {
    "duration": -635,
    "start_time": "2021-10-07T09:19:26.263Z"
   },
   {
    "duration": -639,
    "start_time": "2021-10-07T09:19:26.268Z"
   },
   {
    "duration": -657,
    "start_time": "2021-10-07T09:19:26.287Z"
   },
   {
    "duration": -664,
    "start_time": "2021-10-07T09:19:26.295Z"
   },
   {
    "duration": -668,
    "start_time": "2021-10-07T09:19:26.301Z"
   },
   {
    "duration": -674,
    "start_time": "2021-10-07T09:19:26.308Z"
   },
   {
    "duration": -680,
    "start_time": "2021-10-07T09:19:26.315Z"
   },
   {
    "duration": -684,
    "start_time": "2021-10-07T09:19:26.321Z"
   },
   {
    "duration": -689,
    "start_time": "2021-10-07T09:19:26.327Z"
   },
   {
    "duration": -693,
    "start_time": "2021-10-07T09:19:26.332Z"
   },
   {
    "duration": -699,
    "start_time": "2021-10-07T09:19:26.339Z"
   },
   {
    "duration": -703,
    "start_time": "2021-10-07T09:19:26.344Z"
   },
   {
    "duration": -707,
    "start_time": "2021-10-07T09:19:26.350Z"
   },
   {
    "duration": -711,
    "start_time": "2021-10-07T09:19:26.355Z"
   },
   {
    "duration": -717,
    "start_time": "2021-10-07T09:19:26.362Z"
   },
   {
    "duration": -721,
    "start_time": "2021-10-07T09:19:26.367Z"
   },
   {
    "duration": -726,
    "start_time": "2021-10-07T09:19:26.373Z"
   },
   {
    "duration": -731,
    "start_time": "2021-10-07T09:19:26.379Z"
   },
   {
    "duration": -748,
    "start_time": "2021-10-07T09:19:26.397Z"
   },
   {
    "duration": -753,
    "start_time": "2021-10-07T09:19:26.403Z"
   },
   {
    "duration": -759,
    "start_time": "2021-10-07T09:19:26.410Z"
   },
   {
    "duration": -763,
    "start_time": "2021-10-07T09:19:26.416Z"
   },
   {
    "duration": -768,
    "start_time": "2021-10-07T09:19:26.422Z"
   },
   {
    "duration": -773,
    "start_time": "2021-10-07T09:19:26.428Z"
   },
   {
    "duration": -777,
    "start_time": "2021-10-07T09:19:26.434Z"
   },
   {
    "duration": -782,
    "start_time": "2021-10-07T09:19:26.440Z"
   },
   {
    "duration": -787,
    "start_time": "2021-10-07T09:19:26.446Z"
   },
   {
    "duration": -792,
    "start_time": "2021-10-07T09:19:26.452Z"
   },
   {
    "duration": -796,
    "start_time": "2021-10-07T09:19:26.458Z"
   },
   {
    "duration": -739,
    "start_time": "2021-10-07T09:19:26.464Z"
   },
   {
    "duration": -744,
    "start_time": "2021-10-07T09:19:26.470Z"
   },
   {
    "duration": -748,
    "start_time": "2021-10-07T09:19:26.476Z"
   },
   {
    "duration": -753,
    "start_time": "2021-10-07T09:19:26.482Z"
   },
   {
    "duration": -758,
    "start_time": "2021-10-07T09:19:26.488Z"
   },
   {
    "duration": -763,
    "start_time": "2021-10-07T09:19:26.494Z"
   },
   {
    "duration": -779,
    "start_time": "2021-10-07T09:19:26.512Z"
   },
   {
    "duration": -786,
    "start_time": "2021-10-07T09:19:26.520Z"
   },
   {
    "duration": -792,
    "start_time": "2021-10-07T09:19:26.527Z"
   },
   {
    "duration": -797,
    "start_time": "2021-10-07T09:19:26.533Z"
   },
   {
    "duration": -802,
    "start_time": "2021-10-07T09:19:26.539Z"
   },
   {
    "duration": -806,
    "start_time": "2021-10-07T09:19:26.545Z"
   },
   {
    "duration": -811,
    "start_time": "2021-10-07T09:19:26.551Z"
   },
   {
    "duration": -817,
    "start_time": "2021-10-07T09:19:26.558Z"
   },
   {
    "duration": -821,
    "start_time": "2021-10-07T09:19:26.563Z"
   },
   {
    "duration": -825,
    "start_time": "2021-10-07T09:19:26.569Z"
   },
   {
    "duration": -829,
    "start_time": "2021-10-07T09:19:26.574Z"
   },
   {
    "duration": -834,
    "start_time": "2021-10-07T09:19:26.580Z"
   },
   {
    "duration": -839,
    "start_time": "2021-10-07T09:19:26.586Z"
   },
   {
    "duration": -844,
    "start_time": "2021-10-07T09:19:26.592Z"
   },
   {
    "duration": -848,
    "start_time": "2021-10-07T09:19:26.597Z"
   },
   {
    "duration": -852,
    "start_time": "2021-10-07T09:19:26.603Z"
   },
   {
    "duration": -868,
    "start_time": "2021-10-07T09:19:26.620Z"
   },
   {
    "duration": -875,
    "start_time": "2021-10-07T09:19:26.628Z"
   },
   {
    "duration": -880,
    "start_time": "2021-10-07T09:19:26.634Z"
   },
   {
    "duration": -886,
    "start_time": "2021-10-07T09:19:26.642Z"
   },
   {
    "duration": -890,
    "start_time": "2021-10-07T09:19:26.647Z"
   },
   {
    "duration": -832,
    "start_time": "2021-10-07T09:19:26.654Z"
   },
   {
    "duration": -836,
    "start_time": "2021-10-07T09:19:26.660Z"
   },
   {
    "duration": -844,
    "start_time": "2021-10-07T09:19:26.669Z"
   },
   {
    "duration": -848,
    "start_time": "2021-10-07T09:19:26.675Z"
   },
   {
    "duration": -855,
    "start_time": "2021-10-07T09:19:26.683Z"
   },
   {
    "duration": -862,
    "start_time": "2021-10-07T09:19:26.691Z"
   },
   {
    "duration": -867,
    "start_time": "2021-10-07T09:19:26.697Z"
   },
   {
    "duration": -871,
    "start_time": "2021-10-07T09:19:26.702Z"
   },
   {
    "duration": -877,
    "start_time": "2021-10-07T09:19:26.709Z"
   },
   {
    "duration": -880,
    "start_time": "2021-10-07T09:19:26.714Z"
   },
   {
    "duration": -898,
    "start_time": "2021-10-07T09:19:26.733Z"
   },
   {
    "duration": -902,
    "start_time": "2021-10-07T09:19:26.738Z"
   },
   {
    "duration": -908,
    "start_time": "2021-10-07T09:19:26.745Z"
   },
   {
    "duration": 383,
    "start_time": "2021-10-07T09:20:20.213Z"
   },
   {
    "duration": 246,
    "start_time": "2021-10-07T09:20:25.076Z"
   },
   {
    "duration": 245,
    "start_time": "2021-10-07T09:21:09.849Z"
   },
   {
    "duration": 6,
    "start_time": "2021-10-07T09:26:46.894Z"
   },
   {
    "duration": 8,
    "start_time": "2021-10-07T09:26:53.124Z"
   },
   {
    "duration": 252,
    "start_time": "2021-10-07T09:27:00.276Z"
   },
   {
    "duration": 249,
    "start_time": "2021-10-07T09:27:48.066Z"
   },
   {
    "duration": 5,
    "start_time": "2021-10-07T09:28:41.207Z"
   },
   {
    "duration": 358,
    "start_time": "2021-10-07T09:28:45.138Z"
   },
   {
    "duration": 5,
    "start_time": "2021-10-07T09:29:23.950Z"
   },
   {
    "duration": 5,
    "start_time": "2021-10-07T09:29:24.965Z"
   },
   {
    "duration": 254,
    "start_time": "2021-10-07T09:29:28.265Z"
   },
   {
    "duration": 114,
    "start_time": "2021-10-07T09:29:53.917Z"
   },
   {
    "duration": 6,
    "start_time": "2021-10-07T09:30:20.600Z"
   },
   {
    "duration": 6,
    "start_time": "2021-10-07T09:30:21.980Z"
   },
   {
    "duration": 243,
    "start_time": "2021-10-07T09:30:26.085Z"
   },
   {
    "duration": 5,
    "start_time": "2021-10-07T09:31:55.252Z"
   },
   {
    "duration": 627,
    "start_time": "2021-10-07T09:31:55.867Z"
   },
   {
    "duration": 5,
    "start_time": "2021-10-07T09:32:14.074Z"
   },
   {
    "duration": 372,
    "start_time": "2021-10-07T09:32:14.603Z"
   },
   {
    "duration": 309,
    "start_time": "2021-10-07T09:32:20.542Z"
   },
   {
    "duration": 5,
    "start_time": "2021-10-07T09:34:52.264Z"
   },
   {
    "duration": 389,
    "start_time": "2021-10-07T09:34:52.955Z"
   },
   {
    "duration": 255,
    "start_time": "2021-10-07T09:34:58.566Z"
   },
   {
    "duration": 6,
    "start_time": "2021-10-07T09:38:57.223Z"
   },
   {
    "duration": 1618,
    "start_time": "2021-10-07T09:38:58.474Z"
   },
   {
    "duration": 5,
    "start_time": "2021-10-07T09:41:05.277Z"
   },
   {
    "duration": 5,
    "start_time": "2021-10-07T09:41:06.304Z"
   },
   {
    "duration": 5,
    "start_time": "2021-10-07T09:41:28.537Z"
   },
   {
    "duration": 5,
    "start_time": "2021-10-07T09:41:29.271Z"
   },
   {
    "duration": 350,
    "start_time": "2021-10-07T09:41:45.280Z"
   },
   {
    "duration": 5,
    "start_time": "2021-10-07T09:43:20.305Z"
   },
   {
    "duration": 538,
    "start_time": "2021-10-07T09:43:22.207Z"
   },
   {
    "duration": 6,
    "start_time": "2021-10-07T09:43:37.186Z"
   },
   {
    "duration": 365,
    "start_time": "2021-10-07T09:43:38.292Z"
   },
   {
    "duration": 252,
    "start_time": "2021-10-07T09:43:45.946Z"
   },
   {
    "duration": 5,
    "start_time": "2021-10-07T09:44:05.529Z"
   },
   {
    "duration": 366,
    "start_time": "2021-10-07T09:44:06.271Z"
   },
   {
    "duration": 388,
    "start_time": "2021-10-07T09:44:12.001Z"
   },
   {
    "duration": 925,
    "start_time": "2021-10-07T09:45:40.610Z"
   },
   {
    "duration": 709,
    "start_time": "2021-10-07T09:45:48.885Z"
   },
   {
    "duration": 271,
    "start_time": "2021-10-07T09:46:07.391Z"
   },
   {
    "duration": 82,
    "start_time": "2021-10-07T09:46:40.133Z"
   },
   {
    "duration": 349,
    "start_time": "2021-10-07T09:46:44.832Z"
   },
   {
    "duration": 37,
    "start_time": "2021-10-07T09:46:49.966Z"
   },
   {
    "duration": 4,
    "start_time": "2021-10-07T09:47:46.572Z"
   },
   {
    "duration": 387,
    "start_time": "2021-10-07T09:47:47.763Z"
   },
   {
    "duration": 37,
    "start_time": "2021-10-07T09:47:51.212Z"
   },
   {
    "duration": 4,
    "start_time": "2021-10-07T09:48:11.584Z"
   },
   {
    "duration": 374,
    "start_time": "2021-10-07T09:48:12.629Z"
   },
   {
    "duration": 1353,
    "start_time": "2021-10-07T09:49:57.253Z"
   },
   {
    "duration": 4,
    "start_time": "2021-10-07T09:52:23.635Z"
   },
   {
    "duration": 28,
    "start_time": "2021-10-07T09:52:23.644Z"
   },
   {
    "duration": 21,
    "start_time": "2021-10-07T09:52:23.675Z"
   },
   {
    "duration": 1718,
    "start_time": "2021-10-07T09:52:23.699Z"
   },
   {
    "duration": 3,
    "start_time": "2021-10-07T09:52:25.420Z"
   },
   {
    "duration": 29,
    "start_time": "2021-10-07T09:52:25.426Z"
   },
   {
    "duration": 31,
    "start_time": "2021-10-07T09:52:25.457Z"
   },
   {
    "duration": 22,
    "start_time": "2021-10-07T09:52:25.490Z"
   },
   {
    "duration": 32,
    "start_time": "2021-10-07T09:52:25.514Z"
   },
   {
    "duration": 84,
    "start_time": "2021-10-07T09:52:25.548Z"
   },
   {
    "duration": 48,
    "start_time": "2021-10-07T09:52:25.636Z"
   },
   {
    "duration": 42,
    "start_time": "2021-10-07T09:52:25.688Z"
   },
   {
    "duration": 36,
    "start_time": "2021-10-07T09:52:25.734Z"
   },
   {
    "duration": 49,
    "start_time": "2021-10-07T09:52:25.772Z"
   },
   {
    "duration": 9,
    "start_time": "2021-10-07T09:52:25.824Z"
   },
   {
    "duration": 56,
    "start_time": "2021-10-07T09:52:25.835Z"
   },
   {
    "duration": 26,
    "start_time": "2021-10-07T09:52:25.893Z"
   },
   {
    "duration": 171,
    "start_time": "2021-10-07T09:52:25.922Z"
   },
   {
    "duration": 76,
    "start_time": "2021-10-07T09:52:26.096Z"
   },
   {
    "duration": 6,
    "start_time": "2021-10-07T09:52:26.174Z"
   },
   {
    "duration": 40,
    "start_time": "2021-10-07T09:52:26.182Z"
   },
   {
    "duration": 40,
    "start_time": "2021-10-07T09:52:26.224Z"
   },
   {
    "duration": 78,
    "start_time": "2021-10-07T09:52:26.266Z"
   },
   {
    "duration": 31,
    "start_time": "2021-10-07T09:52:26.346Z"
   },
   {
    "duration": 62,
    "start_time": "2021-10-07T09:52:26.379Z"
   },
   {
    "duration": 14,
    "start_time": "2021-10-07T09:52:26.447Z"
   },
   {
    "duration": 82,
    "start_time": "2021-10-07T09:52:26.464Z"
   },
   {
    "duration": 26,
    "start_time": "2021-10-07T09:52:26.549Z"
   },
   {
    "duration": 11,
    "start_time": "2021-10-07T09:52:26.578Z"
   },
   {
    "duration": 17,
    "start_time": "2021-10-07T09:52:26.592Z"
   },
   {
    "duration": 35,
    "start_time": "2021-10-07T09:52:26.623Z"
   },
   {
    "duration": 11,
    "start_time": "2021-10-07T09:52:26.660Z"
   },
   {
    "duration": 22,
    "start_time": "2021-10-07T09:52:26.674Z"
   },
   {
    "duration": 14,
    "start_time": "2021-10-07T09:52:26.698Z"
   },
   {
    "duration": 49,
    "start_time": "2021-10-07T09:52:26.715Z"
   },
   {
    "duration": 42,
    "start_time": "2021-10-07T09:52:26.766Z"
   },
   {
    "duration": 25,
    "start_time": "2021-10-07T09:52:26.810Z"
   },
   {
    "duration": 34,
    "start_time": "2021-10-07T09:52:26.838Z"
   },
   {
    "duration": 57,
    "start_time": "2021-10-07T09:52:26.875Z"
   },
   {
    "duration": 41,
    "start_time": "2021-10-07T09:52:26.934Z"
   },
   {
    "duration": 15,
    "start_time": "2021-10-07T09:52:26.977Z"
   },
   {
    "duration": 43,
    "start_time": "2021-10-07T09:52:26.994Z"
   },
   {
    "duration": 23,
    "start_time": "2021-10-07T09:52:27.040Z"
   },
   {
    "duration": 25,
    "start_time": "2021-10-07T09:52:27.066Z"
   },
   {
    "duration": 1085,
    "start_time": "2021-10-07T09:52:27.094Z"
   },
   {
    "duration": 25,
    "start_time": "2021-10-07T09:52:28.181Z"
   },
   {
    "duration": 12,
    "start_time": "2021-10-07T09:52:28.223Z"
   },
   {
    "duration": 42,
    "start_time": "2021-10-07T09:52:28.238Z"
   },
   {
    "duration": 6,
    "start_time": "2021-10-07T09:52:28.283Z"
   },
   {
    "duration": 84,
    "start_time": "2021-10-07T09:52:28.291Z"
   },
   {
    "duration": 19,
    "start_time": "2021-10-07T09:52:28.377Z"
   },
   {
    "duration": 20,
    "start_time": "2021-10-07T09:52:28.398Z"
   },
   {
    "duration": 6,
    "start_time": "2021-10-07T09:52:28.420Z"
   },
   {
    "duration": 11,
    "start_time": "2021-10-07T09:52:28.429Z"
   },
   {
    "duration": 8,
    "start_time": "2021-10-07T09:52:28.442Z"
   },
   {
    "duration": 15,
    "start_time": "2021-10-07T09:52:28.453Z"
   },
   {
    "duration": 56,
    "start_time": "2021-10-07T09:52:28.470Z"
   },
   {
    "duration": 25,
    "start_time": "2021-10-07T09:52:28.528Z"
   },
   {
    "duration": 633,
    "start_time": "2021-10-07T09:52:28.556Z"
   },
   {
    "duration": 42,
    "start_time": "2021-10-07T09:52:29.192Z"
   },
   {
    "duration": 7,
    "start_time": "2021-10-07T09:52:29.236Z"
   },
   {
    "duration": 10,
    "start_time": "2021-10-07T09:52:29.245Z"
   },
   {
    "duration": 586,
    "start_time": "2021-10-07T09:52:29.257Z"
   },
   {
    "duration": 1118,
    "start_time": "2021-10-07T09:52:29.846Z"
   },
   {
    "duration": 11,
    "start_time": "2021-10-07T09:52:30.967Z"
   },
   {
    "duration": 617,
    "start_time": "2021-10-07T09:52:30.981Z"
   },
   {
    "duration": 21,
    "start_time": "2021-10-07T09:52:31.601Z"
   },
   {
    "duration": 32,
    "start_time": "2021-10-07T09:52:31.625Z"
   },
   {
    "duration": 35,
    "start_time": "2021-10-07T09:52:31.659Z"
   },
   {
    "duration": 65,
    "start_time": "2021-10-07T09:52:31.697Z"
   },
   {
    "duration": 21,
    "start_time": "2021-10-07T09:52:31.770Z"
   },
   {
    "duration": 843,
    "start_time": "2021-10-07T09:52:31.795Z"
   },
   {
    "duration": 1154,
    "start_time": "2021-10-07T09:52:32.641Z"
   },
   {
    "duration": 730,
    "start_time": "2021-10-07T09:52:33.797Z"
   },
   {
    "duration": 12,
    "start_time": "2021-10-07T09:52:34.530Z"
   },
   {
    "duration": 853,
    "start_time": "2021-10-07T09:52:34.544Z"
   },
   {
    "duration": 30,
    "start_time": "2021-10-07T09:52:35.400Z"
   },
   {
    "duration": 31,
    "start_time": "2021-10-07T09:52:35.432Z"
   },
   {
    "duration": 24,
    "start_time": "2021-10-07T09:52:35.465Z"
   },
   {
    "duration": 45,
    "start_time": "2021-10-07T09:52:35.491Z"
   },
   {
    "duration": 20,
    "start_time": "2021-10-07T09:52:35.538Z"
   },
   {
    "duration": 1137,
    "start_time": "2021-10-07T09:52:35.560Z"
   },
   {
    "duration": 587,
    "start_time": "2021-10-07T09:52:36.699Z"
   },
   {
    "duration": 11,
    "start_time": "2021-10-07T09:52:37.288Z"
   },
   {
    "duration": 788,
    "start_time": "2021-10-07T09:52:37.302Z"
   },
   {
    "duration": 13,
    "start_time": "2021-10-07T09:52:38.093Z"
   },
   {
    "duration": 48,
    "start_time": "2021-10-07T09:52:38.109Z"
   },
   {
    "duration": 22,
    "start_time": "2021-10-07T09:52:38.160Z"
   },
   {
    "duration": 29,
    "start_time": "2021-10-07T09:52:38.185Z"
   },
   {
    "duration": 28,
    "start_time": "2021-10-07T09:52:38.216Z"
   },
   {
    "duration": 34,
    "start_time": "2021-10-07T09:52:38.246Z"
   },
   {
    "duration": 60,
    "start_time": "2021-10-07T09:52:38.282Z"
   },
   {
    "duration": 1019,
    "start_time": "2021-10-07T09:52:38.344Z"
   },
   {
    "duration": 16,
    "start_time": "2021-10-07T09:52:39.365Z"
   },
   {
    "duration": 31,
    "start_time": "2021-10-07T09:52:39.383Z"
   },
   {
    "duration": 15,
    "start_time": "2021-10-07T09:52:39.417Z"
   },
   {
    "duration": 35,
    "start_time": "2021-10-07T09:52:39.434Z"
   },
   {
    "duration": 32,
    "start_time": "2021-10-07T09:52:39.471Z"
   },
   {
    "duration": 23,
    "start_time": "2021-10-07T09:52:39.505Z"
   },
   {
    "duration": 27,
    "start_time": "2021-10-07T09:52:39.530Z"
   },
   {
    "duration": 31,
    "start_time": "2021-10-07T09:52:39.559Z"
   },
   {
    "duration": 62,
    "start_time": "2021-10-07T09:52:39.592Z"
   },
   {
    "duration": 347,
    "start_time": "2021-10-07T09:52:39.657Z"
   },
   {
    "duration": 1481,
    "start_time": "2021-10-07T10:27:31.477Z"
   },
   {
    "duration": 4,
    "start_time": "2021-10-07T10:27:32.960Z"
   },
   {
    "duration": 19,
    "start_time": "2021-10-07T10:27:32.966Z"
   },
   {
    "duration": 2114,
    "start_time": "2021-10-07T10:27:32.988Z"
   },
   {
    "duration": 3,
    "start_time": "2021-10-07T10:27:35.104Z"
   },
   {
    "duration": 22,
    "start_time": "2021-10-07T10:27:35.109Z"
   },
   {
    "duration": 21,
    "start_time": "2021-10-07T10:27:35.133Z"
   },
   {
    "duration": 4,
    "start_time": "2021-10-07T10:27:35.159Z"
   },
   {
    "duration": 17,
    "start_time": "2021-10-07T10:27:35.166Z"
   },
   {
    "duration": 55,
    "start_time": "2021-10-07T10:27:35.186Z"
   },
   {
    "duration": 36,
    "start_time": "2021-10-07T10:27:35.243Z"
   },
   {
    "duration": 51,
    "start_time": "2021-10-07T10:27:35.282Z"
   },
   {
    "duration": 39,
    "start_time": "2021-10-07T10:27:35.335Z"
   },
   {
    "duration": 31,
    "start_time": "2021-10-07T10:27:35.376Z"
   },
   {
    "duration": 5,
    "start_time": "2021-10-07T10:27:35.410Z"
   },
   {
    "duration": 23,
    "start_time": "2021-10-07T10:27:35.417Z"
   },
   {
    "duration": 10,
    "start_time": "2021-10-07T10:27:35.442Z"
   },
   {
    "duration": 141,
    "start_time": "2021-10-07T10:27:35.454Z"
   },
   {
    "duration": 55,
    "start_time": "2021-10-07T10:27:35.597Z"
   },
   {
    "duration": 6,
    "start_time": "2021-10-07T10:27:35.655Z"
   },
   {
    "duration": 34,
    "start_time": "2021-10-07T10:27:35.663Z"
   },
   {
    "duration": 36,
    "start_time": "2021-10-07T10:27:35.700Z"
   },
   {
    "duration": 63,
    "start_time": "2021-10-07T10:27:35.742Z"
   },
   {
    "duration": 39,
    "start_time": "2021-10-07T10:27:35.808Z"
   },
   {
    "duration": 23,
    "start_time": "2021-10-07T10:27:35.850Z"
   },
   {
    "duration": 16,
    "start_time": "2021-10-07T10:27:35.876Z"
   },
   {
    "duration": 66,
    "start_time": "2021-10-07T10:27:35.923Z"
   },
   {
    "duration": 47,
    "start_time": "2021-10-07T10:27:35.992Z"
   },
   {
    "duration": 12,
    "start_time": "2021-10-07T10:27:36.042Z"
   },
   {
    "duration": 22,
    "start_time": "2021-10-07T10:27:36.057Z"
   },
   {
    "duration": 27,
    "start_time": "2021-10-07T10:27:36.082Z"
   },
   {
    "duration": 31,
    "start_time": "2021-10-07T10:27:36.113Z"
   },
   {
    "duration": 32,
    "start_time": "2021-10-07T10:27:36.146Z"
   },
   {
    "duration": 17,
    "start_time": "2021-10-07T10:27:36.181Z"
   },
   {
    "duration": 51,
    "start_time": "2021-10-07T10:27:36.201Z"
   },
   {
    "duration": 41,
    "start_time": "2021-10-07T10:27:36.254Z"
   },
   {
    "duration": 40,
    "start_time": "2021-10-07T10:27:36.298Z"
   },
   {
    "duration": 34,
    "start_time": "2021-10-07T10:27:36.341Z"
   },
   {
    "duration": 48,
    "start_time": "2021-10-07T10:27:36.377Z"
   },
   {
    "duration": 40,
    "start_time": "2021-10-07T10:27:36.428Z"
   },
   {
    "duration": 14,
    "start_time": "2021-10-07T10:27:36.470Z"
   },
   {
    "duration": 46,
    "start_time": "2021-10-07T10:27:36.486Z"
   },
   {
    "duration": 14,
    "start_time": "2021-10-07T10:27:36.534Z"
   },
   {
    "duration": 24,
    "start_time": "2021-10-07T10:27:36.550Z"
   },
   {
    "duration": 1136,
    "start_time": "2021-10-07T10:27:36.576Z"
   },
   {
    "duration": 28,
    "start_time": "2021-10-07T10:27:37.714Z"
   },
   {
    "duration": 31,
    "start_time": "2021-10-07T10:27:37.744Z"
   },
   {
    "duration": 52,
    "start_time": "2021-10-07T10:27:37.778Z"
   },
   {
    "duration": 8,
    "start_time": "2021-10-07T10:27:37.832Z"
   },
   {
    "duration": 44,
    "start_time": "2021-10-07T10:27:37.842Z"
   },
   {
    "duration": 43,
    "start_time": "2021-10-07T10:27:37.888Z"
   },
   {
    "duration": 14,
    "start_time": "2021-10-07T10:27:37.933Z"
   },
   {
    "duration": 10,
    "start_time": "2021-10-07T10:27:37.949Z"
   },
   {
    "duration": 18,
    "start_time": "2021-10-07T10:27:37.961Z"
   },
   {
    "duration": 8,
    "start_time": "2021-10-07T10:27:37.982Z"
   },
   {
    "duration": 37,
    "start_time": "2021-10-07T10:27:37.992Z"
   },
   {
    "duration": 31,
    "start_time": "2021-10-07T10:27:38.032Z"
   },
   {
    "duration": 39,
    "start_time": "2021-10-07T10:27:38.065Z"
   },
   {
    "duration": 523,
    "start_time": "2021-10-07T10:27:38.106Z"
   },
   {
    "duration": 33,
    "start_time": "2021-10-07T10:27:38.631Z"
   },
   {
    "duration": 16,
    "start_time": "2021-10-07T10:27:38.666Z"
   },
   {
    "duration": 24,
    "start_time": "2021-10-07T10:27:38.685Z"
   },
   {
    "duration": 572,
    "start_time": "2021-10-07T10:27:38.712Z"
   },
   {
    "duration": 995,
    "start_time": "2021-10-07T10:27:39.287Z"
   },
   {
    "duration": 10,
    "start_time": "2021-10-07T10:27:40.285Z"
   },
   {
    "duration": 552,
    "start_time": "2021-10-07T10:27:40.297Z"
   },
   {
    "duration": 10,
    "start_time": "2021-10-07T10:27:40.851Z"
   },
   {
    "duration": 41,
    "start_time": "2021-10-07T10:27:40.870Z"
   },
   {
    "duration": 46,
    "start_time": "2021-10-07T10:27:40.914Z"
   },
   {
    "duration": 79,
    "start_time": "2021-10-07T10:27:40.963Z"
   },
   {
    "duration": 37,
    "start_time": "2021-10-07T10:27:41.044Z"
   },
   {
    "duration": 751,
    "start_time": "2021-10-07T10:27:41.083Z"
   },
   {
    "duration": 993,
    "start_time": "2021-10-07T10:27:41.837Z"
   },
   {
    "duration": 590,
    "start_time": "2021-10-07T10:27:42.832Z"
   },
   {
    "duration": 11,
    "start_time": "2021-10-07T10:27:43.425Z"
   },
   {
    "duration": 589,
    "start_time": "2021-10-07T10:27:43.439Z"
   },
   {
    "duration": 10,
    "start_time": "2021-10-07T10:27:44.030Z"
   },
   {
    "duration": 32,
    "start_time": "2021-10-07T10:27:44.043Z"
   },
   {
    "duration": 15,
    "start_time": "2021-10-07T10:27:44.077Z"
   },
   {
    "duration": 48,
    "start_time": "2021-10-07T10:27:44.095Z"
   },
   {
    "duration": 22,
    "start_time": "2021-10-07T10:27:44.145Z"
   },
   {
    "duration": 1110,
    "start_time": "2021-10-07T10:27:44.170Z"
   },
   {
    "duration": 582,
    "start_time": "2021-10-07T10:27:45.283Z"
   },
   {
    "duration": 13,
    "start_time": "2021-10-07T10:27:45.868Z"
   },
   {
    "duration": 584,
    "start_time": "2021-10-07T10:27:45.884Z"
   },
   {
    "duration": 13,
    "start_time": "2021-10-07T10:27:46.472Z"
   },
   {
    "duration": 60,
    "start_time": "2021-10-07T10:27:46.488Z"
   },
   {
    "duration": 22,
    "start_time": "2021-10-07T10:27:46.551Z"
   },
   {
    "duration": 4,
    "start_time": "2021-10-07T10:27:46.576Z"
   },
   {
    "duration": 61,
    "start_time": "2021-10-07T10:27:46.583Z"
   },
   {
    "duration": 21,
    "start_time": "2021-10-07T10:27:46.647Z"
   },
   {
    "duration": 72,
    "start_time": "2021-10-07T10:27:46.671Z"
   },
   {
    "duration": 1006,
    "start_time": "2021-10-07T10:27:46.746Z"
   },
   {
    "duration": 19,
    "start_time": "2021-10-07T10:27:47.755Z"
   },
   {
    "duration": 11,
    "start_time": "2021-10-07T10:27:47.777Z"
   },
   {
    "duration": 37,
    "start_time": "2021-10-07T10:27:47.791Z"
   },
   {
    "duration": 16,
    "start_time": "2021-10-07T10:27:47.831Z"
   },
   {
    "duration": 32,
    "start_time": "2021-10-07T10:27:47.849Z"
   },
   {
    "duration": 12,
    "start_time": "2021-10-07T10:27:47.883Z"
   },
   {
    "duration": 30,
    "start_time": "2021-10-07T10:27:47.898Z"
   },
   {
    "duration": 12,
    "start_time": "2021-10-07T10:27:47.931Z"
   },
   {
    "duration": 35,
    "start_time": "2021-10-07T10:27:47.946Z"
   },
   {
    "duration": 358,
    "start_time": "2021-10-07T10:27:47.984Z"
   }
  ],
  "kernelspec": {
   "display_name": "Python 3",
   "language": "python",
   "name": "python3"
  },
  "language_info": {
   "codemirror_mode": {
    "name": "ipython",
    "version": 3
   },
   "file_extension": ".py",
   "mimetype": "text/x-python",
   "name": "python",
   "nbconvert_exporter": "python",
   "pygments_lexer": "ipython3",
   "version": "3.8.5"
  },
  "toc": {
   "base_numbering": 1,
   "nav_menu": {},
   "number_sections": true,
   "sideBar": true,
   "skip_h1_title": false,
   "title_cell": "Table of Contents",
   "title_sidebar": "Contents",
   "toc_cell": true,
   "toc_position": {
    "height": "calc(100% - 180px)",
    "left": "10px",
    "top": "150px",
    "width": "265.516px"
   },
   "toc_section_display": true,
   "toc_window_display": true
  }
 },
 "nbformat": 4,
 "nbformat_minor": 4
}
