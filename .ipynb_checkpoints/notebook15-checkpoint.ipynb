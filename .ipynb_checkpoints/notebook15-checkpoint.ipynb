{
 "cells": [
  {
   "cell_type": "markdown",
   "metadata": {},
   "source": [
    "Роман, рад приветствовать тебя)\n",
    "\n",
    "Меня зовут Александр Дьяченко и этот проект у тебя буду проверять я.  \n",
    "Предлагаю общаться на \"ты\", если это для тебя приемлемо)  \n",
    "\n",
    "В твоей работе я оставлю некоторые комментарии, которые помогут лучше понять материал или скажу, что все сделано верно.  \n",
    "Давай договоримся об условных обозначениях, чтобы наше общение было эффективнее:  \n",
    "\n",
    "Комментарии будут в <font color='green'>зеленой ✔️</font>, <font color='orange'>оранжевой ⚠️</font> или <font color='red'>красной ❌</font> рамках:\n",
    "\n",
    "\n",
    "<div class=\"alert alert-block alert-success\"; style=\"border-left: 6px solid green\">\n",
    "<b>Успех ✔️</b>\n",
    "       \n",
    "Зеленым цветом помечены образцовые решения. Которые можно использовать в дальнейшем.\n",
    "    \n",
    "</div>\n",
    "\n",
    "<div class=\"alert alert-block alert-warning\"; style=\"border-left: 6px solid orange\">\n",
    "<b>Рекомендация ⚠️</b>\n",
    "       \n",
    "Желтым цветом отмечено то, что ты можешь улучшить или доработать. Можешь учесть это при выполнении следующих работ или доработать проект сейчас, но это не обязательно.\n",
    "    \n",
    "</div>\n",
    "\n",
    "<div class=\"alert alert-block alert-danger\"; style=\"border-left: 6px solid red\">\n",
    "<b>Ошибка ❌</b>\n",
    "       \n",
    "Красным цветом помечены моменты, которые необходимо доработать, чтобы проект был принят. Уверен, что у тебя все получится. Буду ждать твою работу на повторное ревью.\n",
    "    \n",
    "</div>\n",
    "\n",
    "-------------------\n",
    "\n",
    "<div class=\"alert alert-block alert-info\">\n",
    "<b>Комментарий студента:</b> Свои комментарии и вопросы ты можешь оставлять в синей рамочке. Также используй её, если что-то исправил, доделал или полностью переписал.</div>\n",
    "\n",
    "\n",
    "\n",
    "\n",
    "Старайся отвечать на мои рекомендации и не удалять комментарии, так получится проверить работу быстрее)\n",
    "\n",
    "Погнали!\n",
    "\n",
    "\n",
    "\n",
    "-------"
   ]
  },
  {
   "cell_type": "markdown",
   "metadata": {
    "toc": true
   },
   "source": [
    "<h1>Table of Contents<span class=\"tocSkip\"></span></h1>\n",
    "<div class=\"toc\"><ul class=\"toc-item\"><li><span><a href=\"#Загрузка-и-исследование-данных-базы-SQL\" data-toc-modified-id=\"Загрузка-и-исследование-данных-базы-SQL-1\"><span class=\"toc-item-num\">1&nbsp;&nbsp;</span>Загрузка и исследование данных базы SQL</a></span><ul class=\"toc-item\"><li><span><a href=\"#Подсоединяемся-к-базе-данных-SQL\" data-toc-modified-id=\"Подсоединяемся-к-базе-данных-SQL-1.1\"><span class=\"toc-item-num\">1.1&nbsp;&nbsp;</span>Подсоединяемся к базе данных SQL</a></span></li><li><span><a href=\"#ER---диаграмма\" data-toc-modified-id=\"ER---диаграмма-1.2\"><span class=\"toc-item-num\">1.2&nbsp;&nbsp;</span>ER - диаграмма</a></span></li></ul></li><li><span><a href=\"#Проведем-первичное-исследование-таблиц\" data-toc-modified-id=\"Проведем-первичное-исследование-таблиц-2\"><span class=\"toc-item-num\">2&nbsp;&nbsp;</span>Проведем первичное исследование таблиц</a></span><ul class=\"toc-item\"><li><span><a href=\"#Таблица-collisions-—-общая-информация-о-ДТП\" data-toc-modified-id=\"Таблица-collisions-—-общая-информация-о-ДТП-2.1\"><span class=\"toc-item-num\">2.1&nbsp;&nbsp;</span>Таблица collisions — общая информация о ДТП</a></span><ul class=\"toc-item\"><li><span><a href=\"#Замечания-и-выводы:\" data-toc-modified-id=\"Замечания-и-выводы:-2.1.1\"><span class=\"toc-item-num\">2.1.1&nbsp;&nbsp;</span><b>Замечания и выводы:</b></a></span></li></ul></li><li><span><a href=\"#Таблица-case_ids\" data-toc-modified-id=\"Таблица-case_ids-2.2\"><span class=\"toc-item-num\">2.2&nbsp;&nbsp;</span>Таблица case_ids</a></span></li><li><span><a href=\"#Таблица-parties-—-информация-об-участниках-ДТП\" data-toc-modified-id=\"Таблица-parties-—-информация-об-участниках-ДТП-2.3\"><span class=\"toc-item-num\">2.3&nbsp;&nbsp;</span>Таблица parties — информация об участниках ДТП</a></span><ul class=\"toc-item\"><li><span><a href=\"#Замечания-и-выводы:\" data-toc-modified-id=\"Замечания-и-выводы:-2.3.1\"><span class=\"toc-item-num\">2.3.1&nbsp;&nbsp;</span><b>Замечания и выводы:</b></a></span></li></ul></li><li><span><a href=\"#Таблица-vehicles-—-информация-о-пострадавших-машинах\" data-toc-modified-id=\"Таблица-vehicles-—-информация-о-пострадавших-машинах-2.4\"><span class=\"toc-item-num\">2.4&nbsp;&nbsp;</span>Таблица vehicles — информация о пострадавших машинах</a></span><ul class=\"toc-item\"><li><span><a href=\"#Замечания-и-выводы:\" data-toc-modified-id=\"Замечания-и-выводы:-2.4.1\"><span class=\"toc-item-num\">2.4.1&nbsp;&nbsp;</span><b>Замечания и выводы:</b></a></span></li></ul></li></ul></li><li><span><a href=\"#Проведем-статистический-анализ-факторов-ДТП\" data-toc-modified-id=\"Проведем-статистический-анализ-факторов-ДТП-3\"><span class=\"toc-item-num\">3&nbsp;&nbsp;</span>Проведем статистический анализ факторов ДТП</a></span><ul class=\"toc-item\"><li><span><a href=\"#Выясним,-в-какие-месяцы-происходит-наибольшее-количество-аварий.-Проанализируем-весь-период-наблюдений-(таблица-collisions).\" data-toc-modified-id=\"Выясним,-в-какие-месяцы-происходит-наибольшее-количество-аварий.-Проанализируем-весь-период-наблюдений-(таблица-collisions).-3.1\"><span class=\"toc-item-num\">3.1&nbsp;&nbsp;</span>Выясним, в какие месяцы происходит наибольшее количество аварий. Проанализируем весь период наблюдений (таблица collisions).</a></span></li><li><span><a href=\"#Постановка-задач-коллегам-для-общего-понимания-данных-коллегами-и-нахождения-дополнительных-закономерностей\" data-toc-modified-id=\"Постановка-задач-коллегам-для-общего-понимания-данных-коллегами-и-нахождения-дополнительных-закономерностей-3.2\"><span class=\"toc-item-num\">3.2&nbsp;&nbsp;</span>Постановка задач коллегам для общего понимания данных коллегами и нахождения дополнительных закономерностей</a></span></li><li><span><a href=\"#Решим-первые-три-первых-задачи,-остальное-оставим-добрым-коллегам\" data-toc-modified-id=\"Решим-первые-три-первых-задачи,-остальное-оставим-добрым-коллегам-3.3\"><span class=\"toc-item-num\">3.3&nbsp;&nbsp;</span>Решим первые три первых задачи, остальное оставим добрым коллегам</a></span><ul class=\"toc-item\"><li><span><a href=\"#Проанализируйте-влияние-фактора-физического-состояния-участника-на-ДТП-в-феврале-и-в-октябре-(наименьшее-и-наибольшее-количество-дтп)-за-3-года---с-09-по-11.\" data-toc-modified-id=\"Проанализируйте-влияние-фактора-физического-состояния-участника-на-ДТП-в-феврале-и-в-октябре-(наименьшее-и-наибольшее-количество-дтп)-за-3-года---с-09-по-11.-3.3.1\"><span class=\"toc-item-num\">3.3.1&nbsp;&nbsp;</span>Проанализируйте влияние фактора физического состояния участника на ДТП в феврале и в октябре (наименьшее и наибольшее количество дтп) за 3 года - с 09 по 11.</a></span></li><li><span><a href=\"#Проанализируйте-как-влияет-наличие-или-отсутствие-громкой-связи-в-автомобиле-на-тяжесть-ДТП\" data-toc-modified-id=\"Проанализируйте-как-влияет-наличие-или-отсутствие-громкой-связи-в-автомобиле-на-тяжесть-ДТП-3.3.2\"><span class=\"toc-item-num\">3.3.2&nbsp;&nbsp;</span>Проанализируйте как влияет наличие или отсутствие громкой связи в автомобиле на тяжесть ДТП</a></span><ul class=\"toc-item\"><li><span><a href=\"#Вывод:\" data-toc-modified-id=\"Вывод:-3.3.2.1\"><span class=\"toc-item-num\">3.3.2.1&nbsp;&nbsp;</span><b>Вывод:</b></a></span></li></ul></li><li><span><a href=\"#Проанализируйте-какая-наиболее-частая-причина-аварий-аварий-вообще-и-тяжелых-в-частности\" data-toc-modified-id=\"Проанализируйте-какая-наиболее-частая-причина-аварий-аварий-вообще-и-тяжелых-в-частности-3.3.3\"><span class=\"toc-item-num\">3.3.3&nbsp;&nbsp;</span>Проанализируйте какая наиболее частая причина аварий аварий вообще и тяжелых в частности</a></span><ul class=\"toc-item\"><li><span><a href=\"#Вывод:\" data-toc-modified-id=\"Вывод:-3.3.3.1\"><span class=\"toc-item-num\">3.3.3.1&nbsp;&nbsp;</span><b>Вывод:</b></a></span></li></ul></li></ul></li></ul></li><li><span><a href=\"#Подготовим-данные-для-оценки-водительского-риска\" data-toc-modified-id=\"Подготовим-данные-для-оценки-водительского-риска-4\"><span class=\"toc-item-num\">4&nbsp;&nbsp;</span>Подготовим данные для оценки водительского риска</a></span><ul class=\"toc-item\"><li><span><a href=\"#Подготовим-набор-данных-на-основе-первичного-предположения-заказчика:\" data-toc-modified-id=\"Подготовим-набор-данных-на-основе-первичного-предположения-заказчика:-4.1\"><span class=\"toc-item-num\">4.1&nbsp;&nbsp;</span>Подготовим набор данных на основе первичного предположения заказчика:</a></span><ul class=\"toc-item\"><li><span><a href=\"#SQL-запрос\" data-toc-modified-id=\"SQL-запрос-4.1.1\"><span class=\"toc-item-num\">4.1.1&nbsp;&nbsp;</span>SQL запрос</a></span></li></ul></li><li><span><a href=\"#Анализ-столбцов-для-удаления\" data-toc-modified-id=\"Анализ-столбцов-для-удаления-4.2\"><span class=\"toc-item-num\">4.2&nbsp;&nbsp;</span>Анализ столбцов для удаления</a></span></li><li><span><a href=\"#Пустые-значения-ячеек\" data-toc-modified-id=\"Пустые-значения-ячеек-4.3\"><span class=\"toc-item-num\">4.3&nbsp;&nbsp;</span>Пустые значения ячеек</a></span></li><li><span><a href=\"#Стратификация-целевого-признака\" data-toc-modified-id=\"Стратификация-целевого-признака-4.4\"><span class=\"toc-item-num\">4.4&nbsp;&nbsp;</span>Стратификация целевого признака</a></span></li><li><span><a href=\"#Работа-со-столбцом-county_city_location\" data-toc-modified-id=\"Работа-со-столбцом-county_city_location-4.5\"><span class=\"toc-item-num\">4.5&nbsp;&nbsp;</span>Работа со столбцом county_city_location</a></span></li><li><span><a href=\"#Работа-со-столбцом-collision_time\" data-toc-modified-id=\"Работа-со-столбцом-collision_time-4.6\"><span class=\"toc-item-num\">4.6&nbsp;&nbsp;</span>Работа со столбцом collision_time</a></span></li><li><span><a href=\"#Преобразование-OHE-для-категориальных-столбцов\" data-toc-modified-id=\"Преобразование-OHE-для-категориальных-столбцов-4.7\"><span class=\"toc-item-num\">4.7&nbsp;&nbsp;</span>Преобразование OHE для категориальных столбцов</a></span></li><li><span><a href=\"#Feature-importance\" data-toc-modified-id=\"Feature-importance-4.8\"><span class=\"toc-item-num\">4.8&nbsp;&nbsp;</span>Feature importance</a></span><ul class=\"toc-item\"><li><span><a href=\"#Вывод:\" data-toc-modified-id=\"Вывод:-4.8.1\"><span class=\"toc-item-num\">4.8.1&nbsp;&nbsp;</span><b>Вывод:</b></a></span></li></ul></li><li><span><a href=\"#Выделяем-данные-для-обучения,-валидационные-и-тестовые-данные-с-сохранением-стратификации\" data-toc-modified-id=\"Выделяем-данные-для-обучения,-валидационные-и-тестовые-данные-с-сохранением-стратификации-4.9\"><span class=\"toc-item-num\">4.9&nbsp;&nbsp;</span>Выделяем данные для обучения, валидационные и тестовые данные с сохранением стратификации</a></span></li><li><span><a href=\"#Масштабирование-данных\" data-toc-modified-id=\"Масштабирование-данных-4.10\"><span class=\"toc-item-num\">4.10&nbsp;&nbsp;</span>Масштабирование данных</a></span></li></ul></li><li><span><a href=\"#Находим-лучшую-модель.-Используем-классическое-обучение-и-нейросети.\" data-toc-modified-id=\"Находим-лучшую-модель.-Используем-классическое-обучение-и-нейросети.-5\"><span class=\"toc-item-num\">5&nbsp;&nbsp;</span>Находим лучшую модель. Используем классическое обучение и нейросети.</a></span><ul class=\"toc-item\"><li><span><a href=\"#Работа-с-классическими-моделями-машинного-обучения\" data-toc-modified-id=\"Работа-с-классическими-моделями-машинного-обучения-5.1\"><span class=\"toc-item-num\">5.1&nbsp;&nbsp;</span>Работа с классическими моделями машинного обучения</a></span><ul class=\"toc-item\"><li><span><a href=\"#Логистическая-регрессия\" data-toc-modified-id=\"Логистическая-регрессия-5.1.1\"><span class=\"toc-item-num\">5.1.1&nbsp;&nbsp;</span>Логистическая регрессия</a></span></li><li><span><a href=\"#Модель-решающего-дерева:\" data-toc-modified-id=\"Модель-решающего-дерева:-5.1.2\"><span class=\"toc-item-num\">5.1.2&nbsp;&nbsp;</span>Модель решающего дерева:</a></span></li><li><span><a href=\"#Модель-случайного-леса\" data-toc-modified-id=\"Модель-случайного-леса-5.1.3\"><span class=\"toc-item-num\">5.1.3&nbsp;&nbsp;</span>Модель случайного леса</a></span></li><li><span><a href=\"#Модель-CatBoost\" data-toc-modified-id=\"Модель-CatBoost-5.1.4\"><span class=\"toc-item-num\">5.1.4&nbsp;&nbsp;</span>Модель CatBoost</a></span></li><li><span><a href=\"#-Промежуточный-Вывод:\" data-toc-modified-id=\"-Промежуточный-Вывод:-5.1.5\"><span class=\"toc-item-num\">5.1.5&nbsp;&nbsp;</span><b> Промежуточный Вывод:</b></a></span></li><li><span><a href=\"#Изменим-балланс-классов-обучающей-и-валидационной-выборки,-тестовую-выборку-оставим--как-есть\" data-toc-modified-id=\"Изменим-балланс-классов-обучающей-и-валидационной-выборки,-тестовую-выборку-оставим--как-есть-5.1.6\"><span class=\"toc-item-num\">5.1.6&nbsp;&nbsp;</span>Изменим балланс классов обучающей и валидационной выборки, тестовую выборку оставим  как есть</a></span></li><li><span><a href=\"#Логистическая-регрессия-на-сбалансированных-данных\" data-toc-modified-id=\"Логистическая-регрессия-на-сбалансированных-данных-5.1.7\"><span class=\"toc-item-num\">5.1.7&nbsp;&nbsp;</span>Логистическая регрессия на сбалансированных данных</a></span></li><li><span><a href=\"#Случайный-лес-на-сбалансированных-данных\" data-toc-modified-id=\"Случайный-лес-на-сбалансированных-данных-5.1.8\"><span class=\"toc-item-num\">5.1.8&nbsp;&nbsp;</span>Случайный лес на сбалансированных данных</a></span></li><li><span><a href=\"#CAT-BOOST-модель-на-выборках-с-баллансом-классов,-параметры-по-умолчанию\" data-toc-modified-id=\"CAT-BOOST-модель-на-выборках-с-баллансом-классов,-параметры-по-умолчанию-5.1.9\"><span class=\"toc-item-num\">5.1.9&nbsp;&nbsp;</span>CAT BOOST модель на выборках с баллансом классов, параметры по умолчанию</a></span></li><li><span><a href=\"#Сделаем-GridSearchCV-для-Модели-CAT-BOOST\" data-toc-modified-id=\"Сделаем-GridSearchCV-для-Модели-CAT-BOOST-5.1.10\"><span class=\"toc-item-num\">5.1.10&nbsp;&nbsp;</span>Сделаем GridSearchCV для Модели CAT BOOST</a></span></li></ul></li><li><span><a href=\"#Вывод-в-виде-таблицы\" data-toc-modified-id=\"Вывод-в-виде-таблицы-5.2\"><span class=\"toc-item-num\">5.2&nbsp;&nbsp;</span><b>Вывод в виде таблицы</b></a></span></li></ul></li><li><span><a href=\"#Посмотрим-на-работу-лучших-моделей-на-тестовой-выборке\" data-toc-modified-id=\"Посмотрим-на-работу-лучших-моделей-на-тестовой-выборке-6\"><span class=\"toc-item-num\">6&nbsp;&nbsp;</span>Посмотрим на работу лучших моделей на тестовой выборке</a></span><ul class=\"toc-item\"><li><span><a href=\"#Лучшая-модель-случайного-леса\" data-toc-modified-id=\"Лучшая-модель-случайного-леса-6.1\"><span class=\"toc-item-num\">6.1&nbsp;&nbsp;</span>Лучшая модель случайного леса</a></span></li><li><span><a href=\"#Лучшая-модель-CatBoost\" data-toc-modified-id=\"Лучшая-модель-CatBoost-6.2\"><span class=\"toc-item-num\">6.2&nbsp;&nbsp;</span>Лучшая модель CatBoost</a></span></li><li><span><a href=\"#Вывод-в-виде-таблицы\" data-toc-modified-id=\"Вывод-в-виде-таблицы-6.3\"><span class=\"toc-item-num\">6.3&nbsp;&nbsp;</span><b>Вывод в виде таблицы</b></a></span></li></ul></li><li><span><a href=\"#Общие-выводы:\" data-toc-modified-id=\"Общие-выводы:-7\"><span class=\"toc-item-num\">7&nbsp;&nbsp;</span>Общие выводы:</a></span><ul class=\"toc-item\"><li><span><a href=\"#Комментарий-студента:\" data-toc-modified-id=\"Комментарий-студента:-7.1\"><span class=\"toc-item-num\">7.1&nbsp;&nbsp;</span>Комментарий студента:</a></span></li><li><span><a href=\"#Комментарий-студента:\" data-toc-modified-id=\"Комментарий-студента:-7.2\"><span class=\"toc-item-num\">7.2&nbsp;&nbsp;</span>Комментарий студента:</a></span></li><li><span><a href=\"#Комментарий-студента:\" data-toc-modified-id=\"Комментарий-студента:-7.3\"><span class=\"toc-item-num\">7.3&nbsp;&nbsp;</span>Комментарий студента:</a></span></li></ul></li></ul></div>"
   ]
  },
  {
   "cell_type": "markdown",
   "metadata": {
    "id": "sRW85nPMDWKb"
   },
   "source": [
    "<b>Описание проекта</b>\n",
    "\n",
    "Поступил заказ: нужно создать систему, которая могла бы оценить риск ДТП по выбранному маршруту движения. Под риском понимается вероятность ДТП с любым повреждением транспортного средства. Как только водитель забронировал автомобиль, сел за руль и выбрал маршрут, система должна оценить уровень риска. Если уровень риска высок, водитель увидит предупреждение и рекомендации по маршруту.\n",
    "\n",
    "\n",
    "Идея создания такой системы находится в стадии предварительного обсуждения и проработки. Чёткого алгоритма работы и подобных решений на рынке ещё не существует.\n",
    "\n",
    "Текущая задача — понять, возможно ли предсказывать ДТП, опираясь на исторические данные одного из регионов.\n",
    "\n",
    "\n",
    "<b>Идея решения задачи от заказчика:</b>\n",
    "\n",
    "\n",
    "* Создать модель предсказания ДТП (целевое значение — at_fault (виновник) в таблице parties)\n",
    "\n",
    "* Для модели выбрать тип виновника — только машина (car).\n",
    "\n",
    "* Выбрать случаи, когда ДТП привело к любым повреждениям транспортного средства, кроме типа SCRATCH (царапина).\n",
    "\n",
    "* Для моделирования ограничиться данными за 2012 год — они самые свежие.\n",
    "\n",
    "* Обязательное условие — учесть фактор возраста автомобиля.\n",
    "\n",
    "* На основе модели исследовать основные факторы ДТП.\n",
    "\n",
    "\n",
    "<b>Понять, помогут ли результаты моделирования и анализ важности факторов ответить на вопросы:</b>\n",
    "\n",
    "* Возможно ли создать адекватную системы оценки водительского риска при выдаче авто?\n",
    "\n",
    "* Какие ещё факторы нужно учесть?\n",
    "\n",
    "* Нужно ли оборудовать автомобиль какими-либо датчиками или камерой?\n",
    "\n",
    "* Заказчик предлагает вам поработать с базой данных по происшествиям и сформировать свои идеи создания такой системы.\n"
   ]
  },
  {
   "cell_type": "markdown",
   "metadata": {},
   "source": [
    "<div class=\"alert alert-block alert-success\"; style=\"border-left: 6px solid green\">\n",
    "<b>Успех ✔️</b>\n",
    "       \n",
    "Хорошее введение\n",
    "    \n",
    "</div>\n"
   ]
  },
  {
   "cell_type": "markdown",
   "metadata": {},
   "source": [
    "Загрузка необходимых библиотек и методов:"
   ]
  },
  {
   "cell_type": "code",
   "execution_count": 1,
   "metadata": {
    "id": "nlZBlglMDWKe"
   },
   "outputs": [],
   "source": [
    "import pandas as pd\n",
    "import matplotlib.pyplot as plt\n",
    "from sqlalchemy import create_engine\n",
    "import seaborn as sns\n",
    "import warnings\n",
    "warnings.filterwarnings('ignore') # отключаем сообщения об ошибках pandas\n",
    "pd.set_option('display.max_columns', None) # Сброс ограничений на число выводимых столбцов\n",
    "from sklearn.ensemble import RandomForestClassifier\n",
    "from sklearn.model_selection import train_test_split\n",
    "from sklearn.preprocessing import StandardScaler\n",
    "from sklearn.tree import DecisionTreeClassifier\n",
    "from sklearn.linear_model import LogisticRegression\n",
    "from sklearn.metrics import f1_score \n",
    "from sklearn.metrics import roc_auc_score\n",
    "from sklearn.metrics import recall_score\n",
    "from sklearn.metrics import precision_score\n",
    "import torch.nn as nn # импорт библиотеки для построения нейросети\n",
    "import torch\n",
    "import random\n",
    "from torchmetrics import ROC\n",
    "import numpy as np\n",
    "from math import ceil\n",
    "from torchmetrics import MetricCollection, Accuracy, Precision, Recall\n"
   ]
  },
  {
   "cell_type": "markdown",
   "metadata": {
    "id": "XnOE3n28DWKg"
   },
   "source": [
    "## Загрузка и исследование данных базы SQL"
   ]
  },
  {
   "cell_type": "markdown",
   "metadata": {},
   "source": [
    "### Подсоединяемся к базе данных SQL"
   ]
  },
  {
   "cell_type": "code",
   "execution_count": 2,
   "metadata": {
    "id": "6p-yGp7qDWKg"
   },
   "outputs": [],
   "source": [
    "db_config = {\n",
    "'user': 'praktikum_student', # имя пользователя,\n",
    "'pwd': 'Sdf4$2;d-d30pp', # пароль,\n",
    "'host': 'rc1b-wcoijxj3yxfsf3fs.mdb.yandexcloud.net',\n",
    "'port': 6432, # порт подключения,\n",
    "'db': 'data-science-vehicle-db' # название базы данных,\n",
    "}  \n",
    "\n",
    "connection_string = 'postgresql://{}:{}@{}:{}/{}'.format(\n",
    "    db_config['user'],\n",
    "    db_config['pwd'],\n",
    "    db_config['host'],\n",
    "    db_config['port'],\n",
    "    db_config['db'],\n",
    ")"
   ]
  },
  {
   "cell_type": "markdown",
   "metadata": {
    "id": "2Rg8ZpS0DWKh"
   },
   "source": [
    "Создание подключения"
   ]
  },
  {
   "cell_type": "code",
   "execution_count": 3,
   "metadata": {
    "id": "DamCUTR6DWKi"
   },
   "outputs": [],
   "source": [
    "engine = create_engine(connection_string) "
   ]
  },
  {
   "cell_type": "markdown",
   "metadata": {},
   "source": [
    "### ER - диаграмма"
   ]
  },
  {
   "attachments": {
    "image.png": {
     "image/png": "[encoded data removed]"
    }
   },
   "cell_type": "markdown",
   "metadata": {},
   "source": [
    "![image.png](attachment:image.png)"
   ]
  },
  {
   "cell_type": "markdown",
   "metadata": {},
   "source": [
    "<div class=\"alert alert-block alert-success\"; style=\"border-left: 6px solid green\">\n",
    "<b>Успех ✔️</b>\n",
    "       \n",
    "Отлично, диаграмма есть!\n",
    "    \n",
    "</div>\n"
   ]
  },
  {
   "cell_type": "markdown",
   "metadata": {},
   "source": [
    "## Проведем первичное исследование таблиц"
   ]
  },
  {
   "cell_type": "markdown",
   "metadata": {},
   "source": [
    "### Таблица collisions — общая информация о ДТП"
   ]
  },
  {
   "cell_type": "markdown",
   "metadata": {
    "id": "bel8XeSlDWKj"
   },
   "source": [
    "Запрос к базе данных и сохранение в виде таблицы Пандас, c фильтрацией для 2012 года (по условиям от клиента)"
   ]
  },
  {
   "cell_type": "code",
   "execution_count": null,
   "metadata": {
    "id": "6Z_fw0yLDWKk"
   },
   "outputs": [],
   "source": [
    "query_collisions = '''\n",
    "SELECT *\n",
    "FROM collisions\n",
    "WHERE CAST(collision_date AS date) between '2012-01-01' and '2012-12-31';\n",
    "'''"
   ]
  },
  {
   "cell_type": "code",
   "execution_count": null,
   "metadata": {
    "id": "ZpuZ290oDWKk",
    "outputId": "22785a0a-e2bc-4559-ec3c-4879c4b377eb"
   },
   "outputs": [],
   "source": [
    "%%time\n",
    "df_collisions = pd.read_sql_query(query_collisions, con=engine) \n",
    "df_collisions.head()"
   ]
  },
  {
   "cell_type": "raw",
   "metadata": {},
   "source": [
    "Интересно что формирование полной этой таблицы в 1,4 млн строк занимает несколько минут, а таблиц с меньшим количеством столбцов (столько же строк) гораздо меньше."
   ]
  },
  {
   "cell_type": "markdown",
   "metadata": {},
   "source": [
    "<b>Описание таблицы\n",
    "\n",
    "\n",
    "CASE_ID\tУникальный номер для зарегистрированного происшествия в таблице происшествий.\n",
    "\n",
    ".\n",
    "\n",
    "Дата происшествия\tCOLLISION_DATE\tФормат год/месяц/день\n",
    "\n",
    "\n",
    "Время происшествия\tCOLLISION_TIME\tФормат: 24-часовой\n",
    "\n",
    "\n",
    "Является ли место происшествие перекрёстком\tINTERSECTION</b>\n",
    "\n",
    "1 — Intersection (перекрёсток)\n",
    "\n",
    "0 — Not Intersection (не перекрёсток)\n",
    "\n",
    " -- — Not stated (Не указано)\n",
    "\n",
    "\n",
    "<b>Погода\tWEATHER_1</b>\n",
    "\n",
    "A — Clear (Ясно)\n",
    "\n",
    "B — Cloudy (Облачно)\n",
    "\n",
    "C — Raining (Дождь)\n",
    "\n",
    "D — Snowing (Снегопад\n",
    ")\n",
    "E — Fog (Туман)\n",
    "\n",
    "F — Other (Другое)\n",
    "\n",
    "G — Wind (Ветер)\n",
    "\n",
    " — Not Stated (Не указано)\n",
    "\n",
    "\n",
    "<b>Серьёзность происшествия\tCOLLISION_DAMAGE</b>\n",
    "\n",
    "1 — FATAL ТС (Не подлежит восстановлению)\n",
    "\n",
    "2 — SEVERE DAMAGE (Серьёзный ремонт, большая часть под замену/Серьёзное повреждение капитального строения)\n",
    "\n",
    "3 — MIDDLE DAMAGE (Средний ремонт, машина в целом на ходу/Строение в целом устояло)\n",
    "\n",
    "4 — SMALL DAMAGE (Отдельный элемент кузова под замену/покраску)\n",
    "\n",
    "0 – SCRATCH (Царапина)\n",
    "\n",
    "\n",
    "\n",
    "<b>Основной фактор аварии\tPRIMARY_COLL_FACTOR</b>\n",
    "\n",
    "A — Code Violation (Нарушение правил ПДД)\n",
    "\n",
    "B — Other Improper Driving (Другое неправильное вождение)\n",
    "\n",
    "C — Other Than Driver (Кроме водителя)\n",
    "\n",
    "D — Unknown (Неизвестно)\n",
    "\n",
    "E — Fell Asleep (Заснул)\n",
    "\n",
    " — Not Stated (Не указано)\n",
    "\n",
    "\n",
    "<b>Состояние дороги\tROAD_SURFACE</b>\n",
    "\n",
    "A — Dry (Сухая)\n",
    "\n",
    "B — Wet (Мокрая)\n",
    "\n",
    "C — Snowy or Icy (Заснеженная или обледенелая)\n",
    "\n",
    "D — Slippery (Muddy, Oily, etc.) (Скользкая, грязная, маслянистая и т. д.)\n",
    "\n",
    " — Not Stated (Не указано)\n",
    "\n",
    "\n",
    "<b>Освещение\tLIGHTING</b>\n",
    "\n",
    "A — Daylight (Дневной свет)\n",
    "\n",
    "B — Dusk-Dawn (Сумерки-Рассвет)\n",
    "\n",
    "C — Dark-Street Lights (Темно-Уличные фонари)\n",
    "\n",
    "D — Dark-No Street Lights (Темно-Нет уличных фонарей)\n",
    "\n",
    "E — Dark-Street Lights Not Functioning (Темно-Уличные фонари не работают)\n",
    "\n",
    "  — Not Stated (Не указано)\n",
    "\n",
    "\n",
    "<b>Номер географических районов, где произошло ДТП\tCOUNTY_CITY_LOCATION</b>\tчисло\n",
    "    \n",
    "    \n",
    "<b>Названия географических районов, где произошло ДТП\tCOUNTY_LOCATION</b>\tсписок разных названий, категориальный тип данных\n",
    "\n",
    "\n",
    "<b>Направление движения на перекрёстке\tDIRECTION</b>\n",
    "\n",
    "N — North (Север)\n",
    "\n",
    "E — East (Восток)\n",
    "\n",
    "S — South (Юг)\n",
    "\n",
    "W — West (Запад)\n",
    "\n",
    " - or blank — Not State (Не указано)\n",
    "\n",
    "\n",
    "\n",
    "<b>Расстояние от главной дороги (метры)\tDISTANCE</b>\tчисло\n",
    "\n",
    "\n",
    "<b>Тип дороги\tLOCATION_TYPE</b>\n",
    "\n",
    "H — Highway (Шоссе)\n",
    "\n",
    "I — Intersection (Перекрёсток)\n",
    "\n",
    "R — Ramp (or Collector) (Рампа)\n",
    "\n",
    "- or blank — Not State Highway (Не указано)\n",
    "\n",
    "\n",
    "<b>Количество участников\tPARTY_COUNT</b>\tчисло\n",
    "    \n",
    "<b>Категория нарушения\tPCF_VIOLATION_CATEGORY</b>\n",
    "\n",
    "01 — Driving or Bicycling Under the Influence of Alcohol or Drug (Вождение или езда на велосипеде в состоянии алкогольного или наркотического опьянения)\n",
    "\n",
    "02 — Impeding Traffic (Препятствие движению транспорта)\n",
    "\n",
    "03 — Unsafe Speed (Превышение скорости)\n",
    "\n",
    "04 — Following Too Closely (Опасное сближение)\n",
    "\n",
    "05 — Wrong Side of Road (Неправильная сторона дороги)\n",
    "\n",
    "06 — Improper Passing (Неправильное движение)\n",
    "\n",
    "07 — Unsafe Lane Change (Небезопасная смена полосы движения)\n",
    "\n",
    "08 — Improper Turning (Неправильный поворот)\n",
    "\n",
    "09 — Automobile Right of Way (Автомобильное право проезда)\n",
    "\n",
    "10 — Pedestrian Right of Way (Пешеходное право проезда)\n",
    "\n",
    "11 — Pedestrian Violation (Нарушение пешеходами)\n",
    "\n",
    "12 — Traffic Signals and Signs (Дорожные сигналы и знаки)\n",
    "\n",
    "13 — Hazardous Parking (Неправильная парковка)\n",
    "\n",
    "14 — Lights (Освещение)\n",
    "\n",
    "15 — Brakes (Тормоза)\n",
    "\n",
    "16 — Other Equipment (Другое оборудование)\n",
    "\n",
    "17 — Other Hazardous Violation (Другие нарушения)\n",
    "\n",
    "18 — Other Than Driver (or Pedestrian) (Кроме водителя или пешехода)\n",
    "\n",
    "19 — Speeding (Скорость)\n",
    "\n",
    "20 — Pedestrian dui (Нарушение пешехода)\n",
    "\n",
    "21 — Unsafe Starting or Backing (Опасный старт)\n",
    "\n",
    "22 — Other Improper Driving (Другое неправильное вождение)\n",
    "\n",
    "23 — Pedestrian or “Other” Under the Influence of Alcohol or Drug (Пешеход или «Другой» в состоянии алкогольного или наркотического опьянения)\n",
    "\n",
    "24 — Fell Asleep (Заснул)\n",
    "\n",
    "00 — Unknown (Неизвестно)\n",
    "\n",
    "  — Not Stated (Не указано)\n",
    "\n",
    "\n",
    "<b>Тип аварии\tTYPE_OF_COLLISION</b>\n",
    "\n",
    "A — Head-On (Лоб в лоб)\n",
    "\n",
    "B — Sideswipe (Сторона)\n",
    "\n",
    "C — Rear End (Столкновение задней частью)\n",
    "\n",
    "D — Broadside (Боковой удар)\n",
    "\n",
    "E — Hit Object (Удар объекта)\n",
    "\n",
    "F — Overturned (Опрокинутый)\n",
    "\n",
    "G — Vehicle (транспортное средство/ Пешеход)\n",
    "\n",
    "H — Other (Другое)\n",
    "\n",
    "  — Not Stated (Не указано)\n",
    "\n",
    "\n",
    "<b>Дополнительные участники ДТП\tMOTOR_VEHICLE_INVOLVED_WITH</b>\n",
    "\n",
    "Other motor vehicle (Другой автомобиль)\n",
    "\n",
    "Fixed object (Неподвижный объект)\n",
    "\n",
    "Parked motor vehicle (Припаркованный автомобиль)\n",
    "\n",
    "Pedestrian (Пешеход)\n",
    "\n",
    "Bicycle (Велосипедист)\n",
    "\n",
    "Non-collision (Не столкновение)\n",
    "\n",
    "Other object (Другой объект)\n",
    "\n",
    "Motor vehicle on other roadway (Автомобиль на другой проезжей)\n",
    "\n",
    "Animal (Животное)\n",
    "\n",
    "Train (Поезд)\n",
    "\n",
    "\n",
    "<b>Дорожное состояние\tROAD_CONDITION_1</b>\n",
    "\n",
    "A — Holes, Deep Ruts (Ямы, глубокая колея)\n",
    "\n",
    "B — Loose Material on Roadway (Сыпучий материал на проезжей части)\n",
    "\n",
    "C — Obstruction on Roadway (Препятствие на проезжей части)\n",
    "\n",
    "D — Construction or Repair Zone (Зона строительства или ремонта)\n",
    "\n",
    "E — Reduced Roadway Width (Уменьшенная ширина проезжей части)\n",
    "\n",
    "F — Flooded (Затоплено)\n",
    "\n",
    "G — Other (Другое)\n",
    "\n",
    "H — No Unusual Condition (Нет ничего необычного)\n",
    "\n",
    "  — Not Stated (Не указано)\n",
    "\n",
    "\n",
    "<b>Устройство управления\tCONTROL_device</b>\n",
    "\n",
    "A — Functioning (Функционирует)\n",
    "\n",
    "B — Not Functioning (Не функционирует)\n",
    "\n",
    "C — Obscured (Затемнённый)\n",
    "\n",
    "D — None (Нет)\n",
    "\n",
    "  — Not Stated (Не указано)"
   ]
  },
  {
   "cell_type": "code",
   "execution_count": null,
   "metadata": {},
   "outputs": [],
   "source": [
    "df_collisions.info()"
   ]
  },
  {
   "cell_type": "markdown",
   "metadata": {},
   "source": [
    "Проверим на явные дубликатЫ"
   ]
  },
  {
   "cell_type": "code",
   "execution_count": null,
   "metadata": {},
   "outputs": [],
   "source": [
    "df_collisions.duplicated().sum()"
   ]
  },
  {
   "cell_type": "markdown",
   "metadata": {},
   "source": [
    "Проверим все текстовые столбцы на не явные дубликаты"
   ]
  },
  {
   "cell_type": "markdown",
   "metadata": {},
   "source": [
    "Список нужных столбцов:"
   ]
  },
  {
   "cell_type": "code",
   "execution_count": null,
   "metadata": {},
   "outputs": [],
   "source": [
    "lister = ['county_city_location', 'county_location',\n",
    "       'direction', 'intersection', 'weather_1', 'location_type',\n",
    "       'collision_damage', 'party_count', 'primary_collision_factor',\n",
    "       'pcf_violation_category', 'type_of_collision',\n",
    "       'motor_vehicle_involved_with', 'road_surface', 'road_condition_1',\n",
    "       'lighting', 'control_device']"
   ]
  },
  {
   "cell_type": "code",
   "execution_count": null,
   "metadata": {},
   "outputs": [],
   "source": [
    "for col in lister:\n",
    "    print(col)\n",
    "    display(df_collisions[col].unique())\n",
    "    print()"
   ]
  },
  {
   "cell_type": "markdown",
   "metadata": {},
   "source": [
    "Не явных дубликатов нет"
   ]
  },
  {
   "cell_type": "markdown",
   "metadata": {},
   "source": [
    "Посмотрим на основные причины аварий и в каких условиях чаще всего происходят:"
   ]
  },
  {
   "cell_type": "code",
   "execution_count": null,
   "metadata": {},
   "outputs": [],
   "source": [
    "for col in lister:\n",
    "    print(col)\n",
    "    display(df_collisions[col].value_counts())\n",
    "    print()"
   ]
  },
  {
   "cell_type": "markdown",
   "metadata": {},
   "source": [
    "Было бы интересно еще посмотреть какие причины при тяжелых авариях fatal и severe damage"
   ]
  },
  {
   "cell_type": "code",
   "execution_count": null,
   "metadata": {},
   "outputs": [],
   "source": [
    "df_collisions['pcf_violation_category'][(df_collisions['collision_damage'] == 'fatal')|\n",
    "                                        (df_collisions['collision_damage'] == 'severe damage')].value_counts()"
   ]
  },
  {
   "cell_type": "markdown",
   "metadata": {},
   "source": [
    "#### <b>Замечания и выводы:</b>\n",
    "\n",
    "<b>1)</b>   Много пропусков в таблице. основная причина - не внесение данных. наибольшее количество пропусков в location_type и direction\n",
    "\n",
    "Not State Highway в location_type не совсем ясно место происшествия, но есть ощущение, что тут имели ввиду, что на остальных дорогах, не включеные в H — Highway (Шоссе) I — Intersection (Перекрёсток) R — Ramp (or Collector) (Рампа) - это скорее всего можно заполнить Other\n",
    "\n",
    "direction здесь или забыли заполнить или движение  точно не определяется, так же можно заполнить Others\n",
    "\n",
    "есть еще пропуску в pcf_violation_category тут явно можно заполнить Unknown\n",
    "\n",
    "в принципе все остальные пропуски в столбцах так же можно заполнить или Other или Unknown, в соответствии с описанием столбца.\n",
    "\n",
    "intersection пропуски можно заполнить 0 или вообще удалить\n",
    "\n",
    "\n",
    "<b>2)</b>  case_id,  county_city_location, distance и intersection  должены быть тип int, но case_id нам будет нужен только для объединения таблиц, для построения моделей предсказаний не требуется.\n",
    "\n",
    "<b>3)</b> collision_date и collision_time должны быть тип date.\n",
    "\n",
    "<b>4)</b> Название столбцов соответствуют стилю snake_case\n",
    "\n",
    "<b>5)</b> Явных дубликатов нет\n",
    "\n",
    "<b>6)</b> Не явных дубликовто нет\n",
    "\n",
    "<b>7)</b> Сделаем выводы по результатам анализа уникальных значений:\n",
    "\n",
    "* статистика для Калифорнии, Наибольшее количество аварий в Лос Анджелесе\n",
    "\n",
    "* дорог с севера на юг несколько больше, чем перпендикулярных им дорог\n",
    "\n",
    "* аварий вне перескрестков в 4 раза больше, чем на перекрестках\n",
    "\n",
    "* аварии или не зависят от погоды или скорее в калифорнии солнца гораздо больше дождя - отсюда и сухая дорога при аварии лидирует\n",
    "\n",
    "* по условию задачи scratch мы исключим из исследования, хотя по количеству этот случай на втором месте стоит. Наибольшее количество это небольшие аварии\n",
    "\n",
    "* наибольшее число аварий с двумя участниками\n",
    "\n",
    "* основная причина аварии - это нарушение ПДД - превышение скорости, неверный поворот, несаблюдение правила главной дороги и алкоголь\n",
    "\n",
    "* в калифорнии хорошие дороги\n",
    "\n",
    "* основные аварии днем, что логично, так как это время пик\n",
    "\n",
    "* чаще всего вторым пострадавшим является автомобиль\n",
    "\n",
    "* не очень ясно что такое control_device и что именно он контролирует и как, но похоже он не очень распространен в автомобилях\n",
    "\n",
    "* при тяжелых авариях основным фактором является <b>АЛКОГОЛЬ!</b>\n",
    "\n",
    "<b>8)</b> Судя по замечаниям из пункта 7 можно уже выработать меры по уменьшению аварийности:\n",
    "\n",
    "* Необходимы меры по профилактике нарушений ПДД - обучение водителей с разбором наиболее частых причин ДТП, социальные ролики и акции\n",
    "\n",
    "* технические средства по ограничению скорости автомобилей в сооответствии с ПДД - технические ограничений скорости авто на основе маршрутных устройств GPS, умных карт, камер регистрирующих дорожные знаки скорости, поворотов и главной дороги\n",
    "\n",
    "* ужесточение наказания за вождение в состоянии алкогольного опьянения не приносит обычно своих плодов, поэтому в автомобилях можно внести техничекие средства регистрации и постоянного мониторинга алкоголя в воздухе авто и остановка и глушение двигателя при улавливании паров, с обязательным дополнительным анализом дыхания водителя и удостоверением личности водителя камерой, по сетчатке глаза или отпечатками пальцев, дабы исколючить подлог водителя сторонним трезвым прохожим. в какой то мере это ограничение свободы человека, но это не аргумент для погибших в результате тяжелых аварий.\n"
   ]
  },
  {
   "cell_type": "markdown",
   "metadata": {},
   "source": [
    "<div class=\"alert alert-block alert-success\"; style=\"border-left: 6px solid green\">\n",
    "<b>Успех ✔️</b>\n",
    "       \n",
    "<b>Пропуски:</b> Отличная работа, в категориальных признаках вводим новые категории или логически верные и спокойно двигаемся дальше!  \n",
    "    \n",
    "<b>Выводы:</b> Интересные рассуждения, особенно классно, что есть предложения, как бороться с наиболее частыми событиями. Идея с определением алкоголя в воздухе вызывает правда больше вопросов и решение неоднозначное, а как быть, если человек сам трезвый, но в салоне еще находятся люди, которые после какого-то праздника? Система сработает на них и дальше не едем? По поводу ограничения свободы человека в точку, все таки работаем по Американским данным, где этот вопрос точно стороной не обойти. Молодец, классная работа)\n",
    "    \n",
    "</div>\n"
   ]
  },
  {
   "cell_type": "markdown",
   "metadata": {},
   "source": [
    "### Таблица case_ids"
   ]
  },
  {
   "cell_type": "code",
   "execution_count": null,
   "metadata": {},
   "outputs": [],
   "source": [
    "query_case = '''\n",
    "SELECT *\n",
    "FROM case_ids;\n",
    "'''"
   ]
  },
  {
   "cell_type": "code",
   "execution_count": null,
   "metadata": {},
   "outputs": [],
   "source": [
    "%%time\n",
    "df_case = pd.read_sql_query(query_case, con=engine) \n",
    "df_case.head()"
   ]
  },
  {
   "cell_type": "code",
   "execution_count": null,
   "metadata": {},
   "outputs": [],
   "source": [
    "df_case.info()"
   ]
  },
  {
   "cell_type": "code",
   "execution_count": null,
   "metadata": {},
   "outputs": [],
   "source": [
    "df_case['db_year'].value_counts()"
   ]
  },
  {
   "cell_type": "markdown",
   "metadata": {},
   "source": [
    "<b>Содержание не соответствует ER - диаграмме (скорее всего ошибка в диаграмме). Судя по всему это просто весь список case_id, с датой выгрузки данных из общей базы заказчика. Для нас она не имеет значение. Интересно, что SQL запрос на 1,4 млн строк и 2 столбца обрабатывался всего 11 секунд.<b>"
   ]
  },
  {
   "cell_type": "markdown",
   "metadata": {},
   "source": [
    "### Таблица parties — информация об участниках ДТП"
   ]
  },
  {
   "cell_type": "markdown",
   "metadata": {},
   "source": [
    "С учетом 2012 года"
   ]
  },
  {
   "cell_type": "code",
   "execution_count": null,
   "metadata": {},
   "outputs": [],
   "source": [
    "query_parties = '''\n",
    "SELECT *\n",
    "FROM parties\n",
    "WHERE case_id IN (SELECT case_id\n",
    "FROM collisions\n",
    "WHERE CAST(collision_date AS date) between '2012-01-01' and '2012-12-31');;\n",
    "'''"
   ]
  },
  {
   "cell_type": "code",
   "execution_count": null,
   "metadata": {},
   "outputs": [],
   "source": [
    "%%time\n",
    "df_parties = pd.read_sql_query(query_parties, con=engine) \n",
    "df_parties.head()"
   ]
  },
  {
   "cell_type": "markdown",
   "metadata": {},
   "source": [
    "<b>Идентификационный  номер в базе данных\tCASE_ID</b>\tУникальный номер для зарегистрированного происшествия в таблице происшествий.\n",
    "\n",
    "\n",
    "<b>Номер участника происшествия\tPARTY_NUMBER</b>\n",
    "\n",
    "От 1 до N — по числу участников происшествия\n",
    "\n",
    "\n",
    "<b>Тип участника происшествия\tPARTY_TYPE</b>\n",
    "\n",
    "1 — Car (Авто)\n",
    "\n",
    "2 — Road bumper (Дорожные знаки)\n",
    "\n",
    "3 — Building (Строения)\n",
    "\n",
    "4 — Road signs (Отбойник)\n",
    "\n",
    "5 — Other (Другое)\n",
    "\n",
    "6 — Operator (Оператор)\n",
    "\n",
    "  — Not Stated (Не указано)\n",
    "\n",
    "\n",
    "<b>Виновность участника\tAT_FAULT\t0/1</b>\n",
    "\n",
    "\n",
    "<b>Сумма страховки (тыс. $)\tINSURANCE_PREMIUM</b>\tчисло\n",
    "\n",
    "\n",
    "<b>Состояние участника: физическое или с учётом принятых лекарств\tPARTY_DRUG_PHYSICAL</b>\n",
    "\n",
    "E — Under Drug Influence (Под воздействием лекарств)\n",
    "\n",
    "F — Impairment — Physical (Ухудшение состояния)\n",
    "\n",
    "G — Impairment Unknown (Не известно)\n",
    "\n",
    "H — Not Applicable (Не оценивался)\n",
    "\n",
    "I — Sleepy/Fatigued (Сонный/Усталый)\n",
    "\n",
    "  — Not Stated (Не указано)\n",
    "\n",
    "\n",
    "<b>Трезвость участника\tPARTY_SOBRIETY</b>\n",
    "\n",
    "A — Had Not Been Drinking (Не пил)\n",
    "\n",
    "B — Had Been Drinking, Under Influence (Был пьян, под влиянием)\n",
    "\n",
    "C — Had Been Drinking, Not Under Influence (Был пьян, не под влиянием)\n",
    "\n",
    "D — Had Been Drinking, Impairment Unknown (Был пьян, ухудшение неизвестно)\n",
    "\n",
    "G — Impairment Unknown (Неизвестно ухудшение)\n",
    "\n",
    "H — Not Applicable (Не оценивался)\n",
    "\n",
    "  — Not Stated (Не указано)\n",
    "\n",
    "\n",
    "<b>Наличие телефона в автомобиле (возможности разговаривать по громкой связи)\tCELLPHONE_IN_USE</b>\t0/1"
   ]
  },
  {
   "cell_type": "code",
   "execution_count": null,
   "metadata": {},
   "outputs": [],
   "source": [
    "df_parties.info()"
   ]
  },
  {
   "cell_type": "markdown",
   "metadata": {},
   "source": [
    "Видимо тут для одного и тогоже case_id могут быть 2 и более участников"
   ]
  },
  {
   "cell_type": "code",
   "execution_count": null,
   "metadata": {},
   "outputs": [],
   "source": [
    "df_parties['case_id'].nunique()"
   ]
  },
  {
   "cell_type": "markdown",
   "metadata": {},
   "source": [
    "Вот и совпало с количеством строк в таблице collisions"
   ]
  },
  {
   "cell_type": "code",
   "execution_count": null,
   "metadata": {},
   "outputs": [],
   "source": [
    "df_parties.columns"
   ]
  },
  {
   "cell_type": "markdown",
   "metadata": {},
   "source": [
    "Посмотрим на уникальные значения"
   ]
  },
  {
   "cell_type": "code",
   "execution_count": null,
   "metadata": {},
   "outputs": [],
   "source": [
    "lister2 = ['party_number', 'party_type', 'at_fault',\n",
    "        'party_sobriety', 'party_drug_physical',\n",
    "       'cellphone_in_use']"
   ]
  },
  {
   "cell_type": "code",
   "execution_count": null,
   "metadata": {},
   "outputs": [],
   "source": [
    "for col in lister2:\n",
    "    print(col)\n",
    "    display(df_parties[col].value_counts())\n",
    "    print()"
   ]
  },
  {
   "cell_type": "code",
   "execution_count": null,
   "metadata": {},
   "outputs": [],
   "source": [
    "df_parties.duplicated().sum()"
   ]
  },
  {
   "cell_type": "markdown",
   "metadata": {},
   "source": [
    "#### <b>Замечания и выводы:</b>\n",
    "\n",
    "<b>1)</b> Наблюдаются пропуски в столбцах party_type, insurance_premium, party_sobriety, party_drug_physica, cellphone_in_use\n",
    "\n",
    "заполнять их особо нечем, если только соответсвующие значения неизвестных в столбце типа not applicable или Impairment Unknown\n",
    "\n",
    "<b>2)</b> имена столбцов верные\n",
    "\n",
    "<b>3)</b> Во всех происшествиях учавствовали автомобили, для Car 273121 записи, из них скорее всего примерно половина виновных в ДТП\n",
    "\n",
    "<b>4)</b> Слава Богу большинство все таки трезвые, хотя 16 500 случаев с пьяными и еще часть под воздействием лекарств\n",
    "\n",
    "<b>5)</b> В большинстве автомобилей нет возможности разговаривать по громкой связи (это к возможности влияния скрытой причины дтп - люди разговаривали по мобильнику, держа его у уха в руке)\n",
    "\n",
    "<b>6)</b> Явных и не явных дубликатов нет\n",
    "\n",
    "\n"
   ]
  },
  {
   "cell_type": "markdown",
   "metadata": {},
   "source": [
    "### Таблица vehicles — информация о пострадавших машинах"
   ]
  },
  {
   "cell_type": "markdown",
   "metadata": {},
   "source": [
    "с учетом случаев 2012 года"
   ]
  },
  {
   "cell_type": "code",
   "execution_count": null,
   "metadata": {},
   "outputs": [],
   "source": [
    "query_vehicles = '''\n",
    "SELECT *\n",
    "FROM vehicles\n",
    "WHERE case_id IN (SELECT case_id\n",
    "FROM collisions\n",
    "WHERE CAST(collision_date AS date) between '2012-01-01' and '2012-12-31');\n",
    "'''"
   ]
  },
  {
   "cell_type": "code",
   "execution_count": null,
   "metadata": {
    "scrolled": true
   },
   "outputs": [],
   "source": [
    "%%time\n",
    "df_vehicles = pd.read_sql_query(query_vehicles, con=engine) \n",
    "df_vehicles.head()"
   ]
  },
  {
   "cell_type": "markdown",
   "metadata": {},
   "source": [
    "Описание:\n",
    "\n",
    "<b>Индекс текущей таблицы\tID</b>\tНомер в таблице\n",
    "\n",
    "\n",
    "<b>Идентификационный номер в базе данных\tCASE_ID</b>\tУникальный номер для зарегистрированного происшествия в таблице происшествий.\n",
    "\n",
    "<b>party_number</b>  - в пояснениях расшифровки нет, но видимо это номер участника аварии\n",
    "\n",
    "\n",
    "<b>Тип кузова\tVEHICLE_TYPE</b>\n",
    "\n",
    "MINIVAN\n",
    "\n",
    "COUPE\n",
    "\n",
    "SEDAN\n",
    "\n",
    "HATCHBACK\n",
    "\n",
    "OTHER\n",
    "\n",
    "\n",
    "<b>Тип КПП\tVEHICLE_TRANSMISSION</b>\n",
    "\n",
    "auto (Автоматическая)\n",
    "\n",
    "manual (Ручная)\n",
    "\n",
    "  — Not Stated (Не указано)\n",
    "  \n",
    "  \n",
    "<b>Возраст автомобиля (в годах)\tVEHICLE_AGE</b>\tчисло"
   ]
  },
  {
   "cell_type": "code",
   "execution_count": null,
   "metadata": {},
   "outputs": [],
   "source": [
    "df_vehicles.info()"
   ]
  },
  {
   "cell_type": "markdown",
   "metadata": {},
   "source": [
    "Интересно почему в collisions и в parties 154 151 уникальных случаев, а здесь 114 483? посмотрим на collisions, те, что не вошли в vehicles"
   ]
  },
  {
   "cell_type": "markdown",
   "metadata": {},
   "source": [
    "думаю 10000 записей достаточно посмотреть, что бы понять закономерности данных, не вошедших в таблицу vehicles"
   ]
  },
  {
   "cell_type": "code",
   "execution_count": null,
   "metadata": {},
   "outputs": [],
   "source": [
    "query_vehicles1 = '''\n",
    "SELECT *\n",
    "FROM collisions\n",
    "WHERE CAST(collision_date AS date) between '2012-01-01' and '2012-12-31'\n",
    "AND\n",
    "case_id NOT IN\n",
    "(SELECT case_id\n",
    "FROM vehicles\n",
    "WHERE case_id IN (SELECT case_id\n",
    "FROM collisions\n",
    "WHERE CAST(collision_date AS date) between '2012-01-01' and '2012-12-31'))\n",
    "Limit 10000;\n",
    "'''"
   ]
  },
  {
   "cell_type": "code",
   "execution_count": null,
   "metadata": {},
   "outputs": [],
   "source": [
    "%%time\n",
    "df_vehicles1 = pd.read_sql_query(query_vehicles1, con=engine) \n",
    "df_vehicles1.head(10)"
   ]
  },
  {
   "cell_type": "markdown",
   "metadata": {},
   "source": [
    "Судя по первым строчкам, одинаковые значения в столце collision_damage, посмотрим на него поближе:"
   ]
  },
  {
   "cell_type": "code",
   "execution_count": null,
   "metadata": {},
   "outputs": [],
   "source": [
    "df_vehicles1['collision_damage'].value_counts()"
   ]
  },
  {
   "cell_type": "markdown",
   "metadata": {},
   "source": [
    "Здесь явно отражены очень мелкие случаи аварии, видимо при мелких происшествиях есть упрощенная процедура или  фиксированные оплаты без необходимости внесения описания автомобиля в базу данных. с другой стороны не ясно почему scratch так мало"
   ]
  },
  {
   "cell_type": "markdown",
   "metadata": {},
   "source": [
    "Посмотрим еще на primary_collision_factor"
   ]
  },
  {
   "cell_type": "code",
   "execution_count": null,
   "metadata": {},
   "outputs": [],
   "source": [
    "df_vehicles1['primary_collision_factor'].value_counts()"
   ]
  },
  {
   "cell_type": "markdown",
   "metadata": {},
   "source": [
    "Нет тут не заметна закономерность, зато очень хорошо видно, что основная причина дтп - нарушение правил"
   ]
  },
  {
   "cell_type": "code",
   "execution_count": null,
   "metadata": {},
   "outputs": [],
   "source": [
    "df_vehicles.duplicated().sum()"
   ]
  },
  {
   "cell_type": "markdown",
   "metadata": {},
   "source": [
    "Посмотрим на число уникальных значений в столбцах"
   ]
  },
  {
   "cell_type": "code",
   "execution_count": null,
   "metadata": {},
   "outputs": [],
   "source": [
    "df_vehicles.columns"
   ]
  },
  {
   "cell_type": "code",
   "execution_count": null,
   "metadata": {},
   "outputs": [],
   "source": [
    "lister3  = ['party_number', 'vehicle_type', 'vehicle_transmission',\n",
    "       'vehicle_age']"
   ]
  },
  {
   "cell_type": "code",
   "execution_count": null,
   "metadata": {},
   "outputs": [],
   "source": [
    "for col in lister3:\n",
    "    print(col)\n",
    "    display(df_vehicles[col].value_counts())\n",
    "    print()"
   ]
  },
  {
   "cell_type": "markdown",
   "metadata": {},
   "source": [
    "#### <b>Замечания и выводы:</b>\n",
    "\n",
    "<b>1)</b> Наблюдаются пропуски в столбцах vehicle_transmission,  vehicle_age\n",
    "\n",
    "можно заполнить или other или unknown\n",
    "\n",
    "<b>2)</b> Седаны и купе наиболее часто покупаемые авто\n",
    "\n",
    "<b>3)</b> Ручная и автоматическая коробки передач распространены поровну\n",
    "\n",
    "<b>4)</b> Наибольшее количество авто до 10 лет. значения 161 скорее всего 16 лет\n",
    "\n",
    "<b>5)</b> Явных и не явных дубликатов нет\n",
    "\n",
    "<b>6)</b> Название столбцов верные\n"
   ]
  },
  {
   "cell_type": "markdown",
   "metadata": {},
   "source": [
    "<div class=\"alert alert-block alert-success\"; style=\"border-left: 6px solid green\">\n",
    "<b>Успех ✔️</b>\n",
    "       \n",
    "Просмотрел работу с табличками и замечаний нет. Проведена отличная работа и изучение исходных таблиц в базе, молодец)\n",
    "    \n",
    "</div>\n"
   ]
  },
  {
   "cell_type": "markdown",
   "metadata": {},
   "source": [
    "## Проведем статистический анализ факторов ДТП"
   ]
  },
  {
   "cell_type": "markdown",
   "metadata": {},
   "source": [
    "### Выясним, в какие месяцы происходит наибольшее количество аварий. Проанализируем весь период наблюдений (таблица collisions)."
   ]
  },
  {
   "cell_type": "code",
   "execution_count": null,
   "metadata": {},
   "outputs": [],
   "source": [
    "query_collisions_month = '''\n",
    "SELECT DISTINCT CAST(EXTRACT(month FROM collision_date) AS int) AS month,\n",
    "      COUNT(case_id) AS sum_collisions\n",
    "FROM collisions\n",
    "GROUP BY month\n",
    "ORDER BY sum_collisions DESC;\n",
    "'''"
   ]
  },
  {
   "cell_type": "code",
   "execution_count": null,
   "metadata": {},
   "outputs": [],
   "source": [
    "%%time\n",
    "df_collisions_month = pd.read_sql_query(query_collisions_month, con=engine) \n",
    "df_collisions_month"
   ]
  },
  {
   "cell_type": "code",
   "execution_count": null,
   "metadata": {},
   "outputs": [],
   "source": [
    "sns.barplot(data = df_collisions_month, x='month', y='sum_collisions')\n",
    "plt.title('Распределение количества аварий по месяцам за все время наблюдений')\n",
    "plt.xticks(rotation=40)\n",
    "plt.xlabel('Месяц')\n",
    "plt.ylabel('Число аварий')\n",
    "plt.show()"
   ]
  },
  {
   "cell_type": "markdown",
   "metadata": {},
   "source": [
    "Хм очень странно сильное падение количества от 6 до 12 месяца, кажется нужно проверить количества аварий по годам точно ли все данные включают все 12 месяцев"
   ]
  },
  {
   "cell_type": "code",
   "execution_count": null,
   "metadata": {},
   "outputs": [],
   "source": [
    "query_collisions_year = '''\n",
    "SELECT DISTINCT CAST(EXTRACT(year FROM collision_date) AS int) AS year,\n",
    "      COUNT(case_id) AS sum_collisions\n",
    "FROM collisions\n",
    "GROUP BY year\n",
    "ORDER BY sum_collisions DESC;\n",
    "'''"
   ]
  },
  {
   "cell_type": "code",
   "execution_count": null,
   "metadata": {},
   "outputs": [],
   "source": [
    "%%time\n",
    "df_collisions_year = pd.read_sql_query(query_collisions_year, con=engine) \n",
    "df_collisions_year"
   ]
  },
  {
   "cell_type": "markdown",
   "metadata": {},
   "source": [
    "так как у нас по условию в итоге нужно использовать данные 2012 года посмотрим какие месяцы сюда включены"
   ]
  },
  {
   "cell_type": "code",
   "execution_count": null,
   "metadata": {},
   "outputs": [],
   "source": [
    "query_collisions_2012 = '''\n",
    "SELECT DISTINCT CAST(EXTRACT(month FROM collision_date) AS int) AS month,\n",
    "      COUNT(case_id) AS sum_collisions\n",
    "FROM collisions\n",
    "WHERE collision_date BETWEEN '2012-01-01' AND '2012-12-31'\n",
    "GROUP BY month\n",
    "ORDER BY sum_collisions DESC;\n",
    "'''\n",
    "df_collisions_2012 = pd.read_sql_query(query_collisions_2012, con=engine) \n",
    "df_collisions_2012\n"
   ]
  },
  {
   "cell_type": "markdown",
   "metadata": {},
   "source": [
    "<b>ВНИМАНИЕ:</b> ХМ явно что то случилось с накоплением данных с 6 по 12 месяцы, хорошо бы поднять вопрос с заказчиком, по причине их требования, что использовать нужно данные за 2012 год, но они не полные и как минимум анализ на год по ним производить некорректно.\n",
    "\n",
    "что характерно - тут март месяц первый по авариям"
   ]
  },
  {
   "cell_type": "markdown",
   "metadata": {},
   "source": [
    "неверно считать по всем месяцамм  -  нужно с 2009 по 2011 года"
   ]
  },
  {
   "cell_type": "markdown",
   "metadata": {},
   "source": [
    "<div class=\"alert alert-block alert-success\"; style=\"border-left: 6px solid green\">\n",
    "<b>Успех ✔️</b>\n",
    "       \n",
    "Не так удивительно, что в марте большое количество аварий. Возможно для этого региона снегопад не такое частое явление к которому привыкли в России, но от наледи они также страдают, а начало весны это как раз период смены резины, а при непостоянной погоде иногда это может стать ошибкой) Но это все лишь предположения, поэтому твоя идея посмотреть на другие года верная!\n",
    "    \n",
    "</div>\n"
   ]
  },
  {
   "cell_type": "code",
   "execution_count": null,
   "metadata": {},
   "outputs": [],
   "source": [
    "query_collisions_month_2009_2010_2011 = '''\n",
    "SELECT DISTINCT CAST(EXTRACT(month FROM collision_date) AS int) AS month,\n",
    "      COUNT(case_id) AS sum_collisions\n",
    "FROM collisions\n",
    "WHERE collision_date BETWEEN '2009-01-01' AND '2011-12-31'\n",
    "GROUP BY month\n",
    "ORDER BY sum_collisions DESC;\n",
    "'''"
   ]
  },
  {
   "cell_type": "code",
   "execution_count": null,
   "metadata": {},
   "outputs": [],
   "source": [
    "%%time\n",
    "df_collisions_month_2009_2010_2011 = pd.read_sql_query(query_collisions_month_2009_2010_2011, con=engine) \n",
    "df_collisions_month_2009_2010_2011"
   ]
  },
  {
   "cell_type": "code",
   "execution_count": null,
   "metadata": {},
   "outputs": [],
   "source": [
    "sns.barplot(data = df_collisions_month_2009_2010_2011, x='month', y='sum_collisions')\n",
    "plt.title('Распределение количества аварий по месяцам за все время наблюдений')\n",
    "plt.xticks(rotation=40)\n",
    "plt.xlabel('Месяц')\n",
    "plt.ylabel('Число аварий')\n",
    "plt.show()"
   ]
  },
  {
   "cell_type": "markdown",
   "metadata": {},
   "source": [
    "<b>ВЫВОД: </b>\n",
    "\n",
    "* Наибольшее количество аварий приходится на 10,12 и 3 месяцы года\n",
    "\n",
    "* Наименьшее во 2 и 6 месяце\n",
    "\n",
    "* есть проблема с данными на 2012 год - они включают в себя только данные за первые 6 месяцев года"
   ]
  },
  {
   "cell_type": "markdown",
   "metadata": {},
   "source": [
    "### Постановка задач коллегам для общего понимания данных коллегами и нахождения дополнительных закономерностей"
   ]
  },
  {
   "cell_type": "markdown",
   "metadata": {},
   "source": [
    "1) Проанализируйте влияние фактора физического состояния участника на ДТП в феврале и в октябре (наименьшее и наибольшее количество дтп) за 3 года - с 09 по 11."
   ]
  },
  {
   "cell_type": "markdown",
   "metadata": {},
   "source": [
    "2) Проанализируйте как влияет наличие или отсутствие громкой связи в автомобиле на тяжесть ДТП"
   ]
  },
  {
   "cell_type": "markdown",
   "metadata": {},
   "source": [
    "3) Проанализируйте какая наиболее частая причина аварий аварий вообще и тяжелых в частности"
   ]
  },
  {
   "cell_type": "markdown",
   "metadata": {},
   "source": [
    "4) Проанализируйте как влияет год автомобиля на сумму страховой выплаты"
   ]
  },
  {
   "cell_type": "markdown",
   "metadata": {},
   "source": [
    "5) Проанализируйте сколько в процентах виновников ДТП были в алкогольном опьянении для тяжелых случаев ДТП"
   ]
  },
  {
   "cell_type": "markdown",
   "metadata": {},
   "source": [
    "6) Определите в каком месте происходит наибольшее количество ДТП с участниками в алкогольном опьянении"
   ]
  },
  {
   "cell_type": "markdown",
   "metadata": {},
   "source": [
    "7) Определите в какое время дня происходит наибольшее количество аварий"
   ]
  },
  {
   "cell_type": "markdown",
   "metadata": {},
   "source": [
    "### Решим первые три первых задачи, остальное оставим добрым коллегам"
   ]
  },
  {
   "cell_type": "markdown",
   "metadata": {},
   "source": [
    "#### Проанализируйте влияние фактора физического состояния участника на ДТП в феврале и в октябре (наименьшее и наибольшее количество дтп) за 3 года - с 09 по 11.\n",
    "\n",
    "Для этого нам понадобятся таблицы collision и parties\n",
    "\n",
    "И найдем отношение выпивших участников к общему числу участников за 3 года по месяцам"
   ]
  },
  {
   "cell_type": "code",
   "execution_count": null,
   "metadata": {},
   "outputs": [],
   "source": [
    "query_1 = '''\n",
    "WITH\n",
    "count_all AS\n",
    "(SELECT DISTINCT CAST(EXTRACT(month FROM collision_date) AS int) AS month,\n",
    "    COUNT(*) OVER(partition by EXTRACT(month FROM collision_date)) AS coun1\n",
    "FROM collisions AS co\n",
    "full JOIN parties AS pa ON co.case_id = pa.case_id\n",
    "WHERE co.collision_date BETWEEN '2009-01-01' AND '2011-12-31'),\n",
    "count_drank AS\n",
    "(SELECT DISTINCT CAST(EXTRACT(month FROM collision_date) AS int) AS month,\n",
    "    COUNT(*) OVER(partition by EXTRACT(month FROM collision_date)) AS coun2\n",
    "FROM collisions AS co\n",
    "full JOIN parties AS pa ON co.case_id = pa.case_id\n",
    "WHERE co.collision_date BETWEEN '2009-01-01' AND '2011-12-31' AND\n",
    "pa.party_sobriety LIKE '%%had been drinking%%')\n",
    "\n",
    "SELECT count_all.month,\n",
    "coun2,\n",
    "coun1,\n",
    "ROUND(CAST(CAST(count_drank.coun2 AS float)/CAST(count_all.coun1 AS float)*100 AS numeric), 2) AS drunk_percent\n",
    "FROM count_all INNER JOIN count_drank ON count_all.month = count_drank.month\n",
    "ORDER BY drunk_percent\n",
    "'''\n",
    "\n",
    "df_1 = pd.read_sql_query(query_1, con=engine) \n",
    "df_1"
   ]
  },
  {
   "cell_type": "code",
   "execution_count": null,
   "metadata": {},
   "outputs": [],
   "source": [
    "sns.barplot(data = df_1, x='month', y='drunk_percent')\n",
    "plt.title('Процент участников ДТП в состоянии алкогольного опъянения. суммарно 2009-2011 года')\n",
    "plt.xticks(rotation=40)\n",
    "plt.xlabel('Месяц')\n",
    "plt.ylabel('Процент')\n",
    "plt.show()"
   ]
  },
  {
   "cell_type": "markdown",
   "metadata": {},
   "source": [
    "Посмотрим на 2 и 10 месяц - 5.58 и 5.42 соответственно. Вообще по месяцам процент пьяных за рулем не сильно отличается, хотя есть небольшое увеличение летом и зимой."
   ]
  },
  {
   "cell_type": "markdown",
   "metadata": {},
   "source": [
    "#### Проанализируйте как влияет наличие или отсутствие громкой связи в автомобиле на тяжесть ДТП\n",
    "\n",
    "для этого нам понадобятся таблицы collision и parties\n",
    "\n",
    "посмотрим на процентное содержание тяжелый аварий с наличием и отсутствием громкой связи"
   ]
  },
  {
   "cell_type": "code",
   "execution_count": null,
   "metadata": {},
   "outputs": [],
   "source": [
    "query_2 = '''\n",
    "SELECT COUNT(*) AS count_not_phone\n",
    "FROM collisions AS co\n",
    "full JOIN parties AS pa ON co.case_id = pa.case_id\n",
    "WHERE pa.cellphone_in_use = 0 AND\n",
    "co.collision_damage IN ('fatal','severe damage')\n",
    "limit 10\n",
    "\n",
    "'''\n",
    "\n",
    "df_2 = pd.read_sql_query(query_2, con=engine) \n",
    "df_2"
   ]
  },
  {
   "cell_type": "code",
   "execution_count": null,
   "metadata": {},
   "outputs": [],
   "source": [
    "query_3 = '''\n",
    "SELECT COUNT(*) AS count_not_phone\n",
    "FROM collisions AS co\n",
    "full JOIN parties AS pa ON co.case_id = pa.case_id\n",
    "WHERE pa.cellphone_in_use = 1 AND\n",
    "co.collision_damage IN ('fatal','severe damage')\n",
    "limit 10\n",
    "\n",
    "'''\n",
    "\n",
    "df_3 = pd.read_sql_query(query_3, con=engine) \n",
    "df_3"
   ]
  },
  {
   "cell_type": "markdown",
   "metadata": {},
   "source": [
    "Найдем всех участников с громкой и без громкой связи из таблицы parties"
   ]
  },
  {
   "cell_type": "code",
   "execution_count": null,
   "metadata": {},
   "outputs": [],
   "source": [
    "%%time\n",
    "query_4 = '''\n",
    "SELECT cellphone_in_use\n",
    "FROM parties\n",
    "'''\n",
    "\n",
    "df_4 = pd.read_sql_query(query_4, con=engine) \n",
    "df_4.value_counts()"
   ]
  },
  {
   "cell_type": "markdown",
   "metadata": {},
   "source": [
    "Итого процентное отношение с громкой связью"
   ]
  },
  {
   "cell_type": "code",
   "execution_count": null,
   "metadata": {},
   "outputs": [],
   "source": [
    "print(1163/45825*100)"
   ]
  },
  {
   "cell_type": "markdown",
   "metadata": {},
   "source": [
    "Итого процентное отношение без громкой связи"
   ]
  },
  {
   "cell_type": "code",
   "execution_count": null,
   "metadata": {},
   "outputs": [],
   "source": [
    "print(61655/2194946*100)"
   ]
  },
  {
   "cell_type": "markdown",
   "metadata": {},
   "source": [
    "Посмотрим на количество случаев на которое вполне себе возможно влияние отсутствия громкой связи:\n"
   ]
  },
  {
   "cell_type": "code",
   "execution_count": null,
   "metadata": {},
   "outputs": [],
   "source": [
    "print(2194946*(2.8-2.54)/100)"
   ]
  },
  {
   "cell_type": "markdown",
   "metadata": {},
   "source": [
    "А найдемка среднюю величину страховой выплаты по тяжелым авариям"
   ]
  },
  {
   "cell_type": "code",
   "execution_count": null,
   "metadata": {},
   "outputs": [],
   "source": [
    "query_5 = '''\n",
    "SELECT AVG(pa.insurance_premium) AS avg_insurance_premium \n",
    "FROM collisions AS co\n",
    "full JOIN parties AS pa ON co.case_id = pa.case_id\n",
    "WHERE pa.cellphone_in_use = 0 AND\n",
    "co.collision_damage IN ('fatal','severe damage')\n",
    "limit 10\n",
    "\n",
    "'''\n",
    "\n",
    "df_5 = pd.read_sql_query(query_5, con=engine) \n",
    "df_5"
   ]
  },
  {
   "cell_type": "markdown",
   "metadata": {},
   "source": [
    "Однако 39 000 долл за случай"
   ]
  },
  {
   "cell_type": "markdown",
   "metadata": {},
   "source": [
    "##### <b>Вывод:</b> \n",
    "\n",
    "наблюдается влияение наличия громкой связи в автомобиле в сторону уменьшения аварий, причем конкретно за весь период наблюдений, если бы громкая связь была во всех авто, то вполне возможно уменьшение количества аварий на 5700 случаев, и возможность съэкономить страховых выплат на 222 миллиона долларов!\n",
    "\n",
    "То есть отсутствие громкой связи в авто должно повышать страховой платеж, ну или необходимо во все новые автомобили обязательно устанавливать громкую связь для уменьшения количества тяжелых ДТП."
   ]
  },
  {
   "cell_type": "markdown",
   "metadata": {},
   "source": [
    "<div class=\"alert alert-block alert-success\"; style=\"border-left: 6px solid green\">\n",
    "<b>Успех ✔️</b>\n",
    "       \n",
    "Похоже нашли один из способов спасти еще больше людей, это всегда здорово!\n",
    "    \n",
    "</div>\n"
   ]
  },
  {
   "cell_type": "markdown",
   "metadata": {},
   "source": [
    "#### Проанализируйте какая наиболее частая причина аварий аварий вообще и тяжелых в частности"
   ]
  },
  {
   "cell_type": "code",
   "execution_count": null,
   "metadata": {},
   "outputs": [],
   "source": [
    "query_6 = '''\n",
    "SELECT pcf_violation_category,\n",
    "COUNT(*) AS count_pcf\n",
    "FROM collisions\n",
    "GROUP BY pcf_violation_category\n",
    "ORDER BY count_pcf desc\n",
    "limit 10\n",
    "\n",
    "'''\n",
    "\n",
    "df_6 = pd.read_sql_query(query_6, con=engine) \n",
    "df_6"
   ]
  },
  {
   "cell_type": "code",
   "execution_count": null,
   "metadata": {},
   "outputs": [],
   "source": [
    "sns.barplot(data = df_6, x='pcf_violation_category', y='count_pcf')\n",
    "plt.title('Количество случаев аварий разделенные по причинам. суммарно 2009-2012 года')\n",
    "plt.xticks(rotation=90)\n",
    "plt.xlabel('Причины аварий')\n",
    "plt.ylabel('Количество по всем годам')\n",
    "plt.show()"
   ]
  },
  {
   "cell_type": "markdown",
   "metadata": {},
   "source": [
    "Теперь посмотрим на тяжелые аварии"
   ]
  },
  {
   "cell_type": "code",
   "execution_count": null,
   "metadata": {},
   "outputs": [],
   "source": [
    "query_7 = '''\n",
    "SELECT pcf_violation_category,\n",
    "COUNT(*) AS count_pcf\n",
    "FROM collisions\n",
    "WHERE collision_damage IN ('fatal','severe damage')\n",
    "GROUP BY pcf_violation_category\n",
    "ORDER BY count_pcf desc\n",
    "limit 10\n",
    "\n",
    "'''\n",
    "\n",
    "df_7 = pd.read_sql_query(query_7, con=engine) \n",
    "df_7"
   ]
  },
  {
   "cell_type": "code",
   "execution_count": null,
   "metadata": {},
   "outputs": [],
   "source": [
    "sns.barplot(data = df_7, x='pcf_violation_category', y='count_pcf')\n",
    "plt.title('Количество случаев тяжелых аварий разделенные по причинам. суммарно 2009-2012 года')\n",
    "plt.xticks(rotation=90)\n",
    "plt.xlabel('Причины аварий')\n",
    "plt.ylabel('Количество по всем годам')\n",
    "plt.show()"
   ]
  },
  {
   "cell_type": "markdown",
   "metadata": {},
   "source": [
    "##### <b>Вывод:</b> \n",
    "\n",
    "И опять мы видим, что главная причина тяжелых аварий это алкоголь или другое влияние на состояние водителя"
   ]
  },
  {
   "cell_type": "markdown",
   "metadata": {},
   "source": [
    "<div class=\"alert alert-block alert-success\"; style=\"border-left: 6px solid green\">\n",
    "<b>Успех ✔️</b>\n",
    "       \n",
    "Да! Тут четко видно топ 4 причины, они лишь меняются местами!\n",
    "    \n",
    "</div>\n"
   ]
  },
  {
   "cell_type": "markdown",
   "metadata": {},
   "source": [
    "## Подготовим данные для оценки водительского риска"
   ]
  },
  {
   "cell_type": "markdown",
   "metadata": {},
   "source": [
    "### Подготовим набор данных на основе первичного предположения заказчика:"
   ]
  },
  {
   "cell_type": "markdown",
   "metadata": {},
   "source": [
    "Выберите тип виновника — только машина (car)\n",
    "\n",
    "Возьмите случаи, когда ДТП привело к любым значимым повреждениям автомобиля любого из участников — все, кроме типа SCRATCH (царапина).\n",
    "\n",
    "Для моделирования возьмите данные только за 2012 год.\n",
    "\n",
    "Обязательное условие — учесть фактор возраста автомобиля - этот столбец точно оставляем.\n",
    "\n",
    "Целевой признак для предсказания столбец at_fault из таблицы parties 1- виновен, 0-не виновен\n",
    "\n",
    "Задача классификации\n",
    "\n",
    "Так же подумаем сразу какой показатель классификации на важен - нам важно максимально верно предсказывать как 1 так и 0  - но все же 1 предсказать важнее, так как лучше перебдеть, чем недобдеть (но без фанатизма, что бы в итоге не найти вообще ни одного безопастного маршрута).\n",
    "\n",
    "<b>Оптимизацию моделей будем делать по полноте recall, так же посмотрим и на точность precision дабы понять кому и сколько мы не верно предложили изменить маршрут.\n",
    "\n",
    "ну и само собой посмотрим на F1 меру, ROC AUC и Accuracy"
   ]
  },
  {
   "cell_type": "markdown",
   "metadata": {},
   "source": [
    "<div class=\"alert alert-block alert-success\"; style=\"border-left: 6px solid green\">\n",
    "<b>Успех ✔️</b>\n",
    "       \n",
    "Прекрасный план и рассуждения, мне остается только лишь согласиться!\n",
    "    \n",
    "</div>\n"
   ]
  },
  {
   "cell_type": "markdown",
   "metadata": {},
   "source": [
    "#### SQL запрос"
   ]
  },
  {
   "cell_type": "code",
   "execution_count": 4,
   "metadata": {},
   "outputs": [
    {
     "name": "stdout",
     "output_type": "stream",
     "text": [
      "CPU times: total: 1.73 s\n",
      "Wall time: 20.7 s\n"
     ]
    },
    {
     "data": {
      "text/html": [
       "<div>\n",
       "<style scoped>\n",
       "    .dataframe tbody tr th:only-of-type {\n",
       "        vertical-align: middle;\n",
       "    }\n",
       "\n",
       "    .dataframe tbody tr th {\n",
       "        vertical-align: top;\n",
       "    }\n",
       "\n",
       "    .dataframe thead th {\n",
       "        text-align: right;\n",
       "    }\n",
       "</style>\n",
       "<table border=\"1\" class=\"dataframe\">\n",
       "  <thead>\n",
       "    <tr style=\"text-align: right;\">\n",
       "      <th></th>\n",
       "      <th>case_id</th>\n",
       "      <th>county_city_location</th>\n",
       "      <th>county_location</th>\n",
       "      <th>distance</th>\n",
       "      <th>direction</th>\n",
       "      <th>intersection</th>\n",
       "      <th>weather_1</th>\n",
       "      <th>location_type</th>\n",
       "      <th>collision_damage</th>\n",
       "      <th>party_count</th>\n",
       "      <th>primary_collision_factor</th>\n",
       "      <th>pcf_violation_category</th>\n",
       "      <th>type_of_collision</th>\n",
       "      <th>motor_vehicle_involved_with</th>\n",
       "      <th>road_surface</th>\n",
       "      <th>road_condition_1</th>\n",
       "      <th>lighting</th>\n",
       "      <th>control_device</th>\n",
       "      <th>collision_date</th>\n",
       "      <th>collision_time</th>\n",
       "      <th>id</th>\n",
       "      <th>case_id</th>\n",
       "      <th>party_number</th>\n",
       "      <th>party_type</th>\n",
       "      <th>at_fault</th>\n",
       "      <th>insurance_premium</th>\n",
       "      <th>party_sobriety</th>\n",
       "      <th>party_drug_physical</th>\n",
       "      <th>cellphone_in_use</th>\n",
       "      <th>id</th>\n",
       "      <th>case_id</th>\n",
       "      <th>party_number</th>\n",
       "      <th>vehicle_type</th>\n",
       "      <th>vehicle_transmission</th>\n",
       "      <th>vehicle_age</th>\n",
       "    </tr>\n",
       "  </thead>\n",
       "  <tbody>\n",
       "    <tr>\n",
       "      <th>0</th>\n",
       "      <td>5458205</td>\n",
       "      <td>1942</td>\n",
       "      <td>los angeles</td>\n",
       "      <td>800.0</td>\n",
       "      <td>south</td>\n",
       "      <td>0.0</td>\n",
       "      <td>clear</td>\n",
       "      <td>None</td>\n",
       "      <td>small damage</td>\n",
       "      <td>2</td>\n",
       "      <td>vehicle code violation</td>\n",
       "      <td>improper turning</td>\n",
       "      <td>sideswipe</td>\n",
       "      <td>other motor vehicle</td>\n",
       "      <td>dry</td>\n",
       "      <td>normal</td>\n",
       "      <td>daylight</td>\n",
       "      <td>none</td>\n",
       "      <td>2012-01-09</td>\n",
       "      <td>06:52:00</td>\n",
       "      <td>2412815</td>\n",
       "      <td>5458205</td>\n",
       "      <td>1</td>\n",
       "      <td>car</td>\n",
       "      <td>1</td>\n",
       "      <td>49.0</td>\n",
       "      <td>had not been drinking</td>\n",
       "      <td>None</td>\n",
       "      <td>0.0</td>\n",
       "      <td>1329868</td>\n",
       "      <td>5458205</td>\n",
       "      <td>1</td>\n",
       "      <td>sedan</td>\n",
       "      <td>auto</td>\n",
       "      <td>0.0</td>\n",
       "    </tr>\n",
       "    <tr>\n",
       "      <th>1</th>\n",
       "      <td>5458793</td>\n",
       "      <td>1942</td>\n",
       "      <td>los angeles</td>\n",
       "      <td>93.0</td>\n",
       "      <td>west</td>\n",
       "      <td>0.0</td>\n",
       "      <td>clear</td>\n",
       "      <td>None</td>\n",
       "      <td>small damage</td>\n",
       "      <td>2</td>\n",
       "      <td>vehicle code violation</td>\n",
       "      <td>improper turning</td>\n",
       "      <td>sideswipe</td>\n",
       "      <td>other motor vehicle</td>\n",
       "      <td>dry</td>\n",
       "      <td>normal</td>\n",
       "      <td>daylight</td>\n",
       "      <td>functioning</td>\n",
       "      <td>2012-01-13</td>\n",
       "      <td>11:22:00</td>\n",
       "      <td>2413958</td>\n",
       "      <td>5458793</td>\n",
       "      <td>1</td>\n",
       "      <td>car</td>\n",
       "      <td>1</td>\n",
       "      <td>NaN</td>\n",
       "      <td>had not been drinking</td>\n",
       "      <td>None</td>\n",
       "      <td>NaN</td>\n",
       "      <td>1330393</td>\n",
       "      <td>5458793</td>\n",
       "      <td>2</td>\n",
       "      <td>sedan</td>\n",
       "      <td>manual</td>\n",
       "      <td>0.0</td>\n",
       "    </tr>\n",
       "    <tr>\n",
       "      <th>2</th>\n",
       "      <td>5461141</td>\n",
       "      <td>3100</td>\n",
       "      <td>placer</td>\n",
       "      <td>1276.0</td>\n",
       "      <td>south</td>\n",
       "      <td>0.0</td>\n",
       "      <td>clear</td>\n",
       "      <td>highway</td>\n",
       "      <td>severe damage</td>\n",
       "      <td>1</td>\n",
       "      <td>vehicle code violation</td>\n",
       "      <td>dui</td>\n",
       "      <td>overturned</td>\n",
       "      <td>non-collision</td>\n",
       "      <td>dry</td>\n",
       "      <td>normal</td>\n",
       "      <td>dark with no street lights</td>\n",
       "      <td>none</td>\n",
       "      <td>2012-01-16</td>\n",
       "      <td>01:26:00</td>\n",
       "      <td>2418073</td>\n",
       "      <td>5461141</td>\n",
       "      <td>1</td>\n",
       "      <td>car</td>\n",
       "      <td>1</td>\n",
       "      <td>27.0</td>\n",
       "      <td>had been drinking, under influence</td>\n",
       "      <td>None</td>\n",
       "      <td>0.0</td>\n",
       "      <td>1332608</td>\n",
       "      <td>5461141</td>\n",
       "      <td>1</td>\n",
       "      <td>coupe</td>\n",
       "      <td>manual</td>\n",
       "      <td>4.0</td>\n",
       "    </tr>\n",
       "    <tr>\n",
       "      <th>3</th>\n",
       "      <td>5465112</td>\n",
       "      <td>3300</td>\n",
       "      <td>riverside</td>\n",
       "      <td>10032.0</td>\n",
       "      <td>north</td>\n",
       "      <td>0.0</td>\n",
       "      <td>clear</td>\n",
       "      <td>highway</td>\n",
       "      <td>small damage</td>\n",
       "      <td>2</td>\n",
       "      <td>vehicle code violation</td>\n",
       "      <td>unsafe lane change</td>\n",
       "      <td>sideswipe</td>\n",
       "      <td>other motor vehicle</td>\n",
       "      <td>dry</td>\n",
       "      <td>normal</td>\n",
       "      <td>dark with no street lights</td>\n",
       "      <td>none</td>\n",
       "      <td>2012-01-27</td>\n",
       "      <td>22:18:00</td>\n",
       "      <td>2425536</td>\n",
       "      <td>5465112</td>\n",
       "      <td>2</td>\n",
       "      <td>car</td>\n",
       "      <td>0</td>\n",
       "      <td>19.0</td>\n",
       "      <td>had not been drinking</td>\n",
       "      <td>None</td>\n",
       "      <td>0.0</td>\n",
       "      <td>1336622</td>\n",
       "      <td>5465112</td>\n",
       "      <td>2</td>\n",
       "      <td>sedan</td>\n",
       "      <td>manual</td>\n",
       "      <td>3.0</td>\n",
       "    </tr>\n",
       "    <tr>\n",
       "      <th>4</th>\n",
       "      <td>5480307</td>\n",
       "      <td>3336</td>\n",
       "      <td>riverside</td>\n",
       "      <td>8.0</td>\n",
       "      <td>north</td>\n",
       "      <td>0.0</td>\n",
       "      <td>clear</td>\n",
       "      <td>None</td>\n",
       "      <td>middle damage</td>\n",
       "      <td>1</td>\n",
       "      <td>vehicle code violation</td>\n",
       "      <td>unsafe starting or backing</td>\n",
       "      <td>hit object</td>\n",
       "      <td>fixed object</td>\n",
       "      <td>dry</td>\n",
       "      <td>normal</td>\n",
       "      <td>daylight</td>\n",
       "      <td>none</td>\n",
       "      <td>2012-01-12</td>\n",
       "      <td>10:22:00</td>\n",
       "      <td>2453741</td>\n",
       "      <td>5480307</td>\n",
       "      <td>1</td>\n",
       "      <td>car</td>\n",
       "      <td>1</td>\n",
       "      <td>49.0</td>\n",
       "      <td>had not been drinking</td>\n",
       "      <td>None</td>\n",
       "      <td>0.0</td>\n",
       "      <td>1352264</td>\n",
       "      <td>5480307</td>\n",
       "      <td>1</td>\n",
       "      <td>coupe</td>\n",
       "      <td>manual</td>\n",
       "      <td>7.0</td>\n",
       "    </tr>\n",
       "  </tbody>\n",
       "</table>\n",
       "</div>"
      ],
      "text/plain": [
       "   case_id county_city_location county_location  distance direction  \\\n",
       "0  5458205                 1942     los angeles     800.0     south   \n",
       "1  5458793                 1942     los angeles      93.0      west   \n",
       "2  5461141                 3100          placer    1276.0     south   \n",
       "3  5465112                 3300       riverside   10032.0     north   \n",
       "4  5480307                 3336       riverside       8.0     north   \n",
       "\n",
       "   intersection weather_1 location_type collision_damage  party_count  \\\n",
       "0           0.0     clear          None     small damage            2   \n",
       "1           0.0     clear          None     small damage            2   \n",
       "2           0.0     clear       highway    severe damage            1   \n",
       "3           0.0     clear       highway     small damage            2   \n",
       "4           0.0     clear          None    middle damage            1   \n",
       "\n",
       "  primary_collision_factor      pcf_violation_category type_of_collision  \\\n",
       "0   vehicle code violation            improper turning         sideswipe   \n",
       "1   vehicle code violation            improper turning         sideswipe   \n",
       "2   vehicle code violation                         dui        overturned   \n",
       "3   vehicle code violation          unsafe lane change         sideswipe   \n",
       "4   vehicle code violation  unsafe starting or backing        hit object   \n",
       "\n",
       "  motor_vehicle_involved_with road_surface road_condition_1  \\\n",
       "0         other motor vehicle          dry           normal   \n",
       "1         other motor vehicle          dry           normal   \n",
       "2               non-collision          dry           normal   \n",
       "3         other motor vehicle          dry           normal   \n",
       "4                fixed object          dry           normal   \n",
       "\n",
       "                     lighting control_device collision_date collision_time  \\\n",
       "0                    daylight           none     2012-01-09       06:52:00   \n",
       "1                    daylight    functioning     2012-01-13       11:22:00   \n",
       "2  dark with no street lights           none     2012-01-16       01:26:00   \n",
       "3  dark with no street lights           none     2012-01-27       22:18:00   \n",
       "4                    daylight           none     2012-01-12       10:22:00   \n",
       "\n",
       "        id  case_id  party_number party_type  at_fault  insurance_premium  \\\n",
       "0  2412815  5458205             1        car         1               49.0   \n",
       "1  2413958  5458793             1        car         1                NaN   \n",
       "2  2418073  5461141             1        car         1               27.0   \n",
       "3  2425536  5465112             2        car         0               19.0   \n",
       "4  2453741  5480307             1        car         1               49.0   \n",
       "\n",
       "                       party_sobriety party_drug_physical  cellphone_in_use  \\\n",
       "0               had not been drinking                None               0.0   \n",
       "1               had not been drinking                None               NaN   \n",
       "2  had been drinking, under influence                None               0.0   \n",
       "3               had not been drinking                None               0.0   \n",
       "4               had not been drinking                None               0.0   \n",
       "\n",
       "        id  case_id  party_number vehicle_type vehicle_transmission  \\\n",
       "0  1329868  5458205             1        sedan                 auto   \n",
       "1  1330393  5458793             2        sedan               manual   \n",
       "2  1332608  5461141             1        coupe               manual   \n",
       "3  1336622  5465112             2        sedan               manual   \n",
       "4  1352264  5480307             1        coupe               manual   \n",
       "\n",
       "   vehicle_age  \n",
       "0          0.0  \n",
       "1          0.0  \n",
       "2          4.0  \n",
       "3          3.0  \n",
       "4          7.0  "
      ]
     },
     "execution_count": 4,
     "metadata": {},
     "output_type": "execute_result"
    }
   ],
   "source": [
    "%%time\n",
    "query_data = '''\n",
    "SELECT *\n",
    "FROM collisions AS co\n",
    "JOIN parties AS pa ON co.case_id = pa.case_id\n",
    "JOIN vehicles AS ve ON ve.case_id = pa.case_id\n",
    "WHERE CAST(co.collision_date AS date) BETWEEN '2012-01-01' and '2012-12-31' AND\n",
    "pa.party_type = 'car' AND co.collision_damage != 'scratch' \n",
    "\n",
    "'''\n",
    "\n",
    "df_data = pd.read_sql_query(query_data, con=engine) \n",
    "df_data.head()"
   ]
  },
  {
   "cell_type": "code",
   "execution_count": 5,
   "metadata": {},
   "outputs": [
    {
     "name": "stdout",
     "output_type": "stream",
     "text": [
      "<class 'pandas.core.frame.DataFrame'>\n",
      "RangeIndex: 118411 entries, 0 to 118410\n",
      "Data columns (total 35 columns):\n",
      " #   Column                       Non-Null Count   Dtype  \n",
      "---  ------                       --------------   -----  \n",
      " 0   case_id                      118411 non-null  object \n",
      " 1   county_city_location         118411 non-null  object \n",
      " 2   county_location              118411 non-null  object \n",
      " 3   distance                     118411 non-null  float64\n",
      " 4   direction                    89466 non-null   object \n",
      " 5   intersection                 118043 non-null  float64\n",
      " 6   weather_1                    118022 non-null  object \n",
      " 7   location_type                55137 non-null   object \n",
      " 8   collision_damage             118411 non-null  object \n",
      " 9   party_count                  118411 non-null  int64  \n",
      " 10  primary_collision_factor     118147 non-null  object \n",
      " 11  pcf_violation_category       116686 non-null  object \n",
      " 12  type_of_collision            117771 non-null  object \n",
      " 13  motor_vehicle_involved_with  118079 non-null  object \n",
      " 14  road_surface                 117645 non-null  object \n",
      " 15  road_condition_1             117843 non-null  object \n",
      " 16  lighting                     118080 non-null  object \n",
      " 17  control_device               117957 non-null  object \n",
      " 18  collision_date               118411 non-null  object \n",
      " 19  collision_time               118283 non-null  object \n",
      " 20  id                           118411 non-null  int64  \n",
      " 21  case_id                      118411 non-null  object \n",
      " 22  party_number                 118411 non-null  int64  \n",
      " 23  party_type                   118411 non-null  object \n",
      " 24  at_fault                     118411 non-null  int64  \n",
      " 25  insurance_premium            113289 non-null  float64\n",
      " 26  party_sobriety               116682 non-null  object \n",
      " 27  party_drug_physical          8695 non-null    object \n",
      " 28  cellphone_in_use             107507 non-null  float64\n",
      " 29  id                           118411 non-null  int64  \n",
      " 30  case_id                      118411 non-null  object \n",
      " 31  party_number                 118411 non-null  int64  \n",
      " 32  vehicle_type                 118411 non-null  object \n",
      " 33  vehicle_transmission         116545 non-null  object \n",
      " 34  vehicle_age                  115046 non-null  float64\n",
      "dtypes: float64(5), int64(6), object(24)\n",
      "memory usage: 31.6+ MB\n"
     ]
    }
   ],
   "source": [
    "df_data.info()"
   ]
  },
  {
   "cell_type": "markdown",
   "metadata": {},
   "source": [
    "### Анализ столбцов для удаления"
   ]
  },
  {
   "cell_type": "markdown",
   "metadata": {},
   "source": [
    "Первично проанализируем какие столбцы нам точно не понадобятся - обсудим удаляемые столбцы, должны остаться столбцы касающиеся состояния водителя, авто и выбора маршрута на возможность ДТП:\n",
    "\n",
    "* все столбцы id\n",
    "\n",
    "* оставим county_city_location как более точный, удалим county_location\n",
    "\n",
    "* думается что влияние distance и direction минимальны - если только в какие то моменты солнце светит в глаза, но количетво строк в direction говорит, что даже при наборе данных на это мало обращают внимание, хотя статистическое влияние в какую стороны двигался в момент аварии вполне может быть\n",
    "\n",
    "* location_type несколько дублирует столбец intersection - ибо на перекрестках явно вероятность ДТП выше, чем на дороге (кстати при расчете вероятности ДТП количество перекрестков на маршруте весьма важная величина)\n",
    "\n",
    "* collision_damage и type_of_collision  нам уже не важен, дасточно самого факта повреждений\n",
    "\n",
    "* party_count, party_number - нам не важно количество участников ДТП, лишь виновный и не виновный\n",
    "\n",
    "* primary_collision_factor - этот столбец пожалуй важен только если бы мы оценивали надежность конкретного водителя, и в таблицах были бы еще данные ID водителей (рецидивистов), но сама причина ДТП пожалуй не влияет на факт аварии\n",
    "\n",
    "* pcf_violation_category  - пожалуй в нужных нам факторах дублирует столбец party_sobriety\n",
    "\n",
    "* motor_vehicle_involved_with - удаляем ибо результат ДТП нам не важен\n",
    "\n",
    "* collision_date и  collision_time нужно преобразовать в столбец с месяцами и часами ведь весьма могут и влиять на дтп, но мы ранее определили что 2012 год не полный и collision_date можно удалить.\n",
    "\n",
    "* party_type нам не нужен данные в нем одинаковые car\n",
    "\n",
    "* insurance_premium удаляем, для понимания вероятности дтп она не важна\n",
    "\n",
    "Что же итого сведем все наши выводы в один список\n",
    "\n"
   ]
  },
  {
   "cell_type": "markdown",
   "metadata": {},
   "source": [
    "\n",
    "<div class=\"alert alert-block alert-warning\"; style=\"border-left: 6px solid orange\">\n",
    "<b>Рекомендация ⚠️</b>\n",
    "       \n",
    "Отлично! Я бы еще на этом этапе подумал про создание каких-то новых признаков, посмотрю дальше, возможно ты к этому еще придешь)\n",
    "    \n",
    "</div>\n"
   ]
  },
  {
   "cell_type": "code",
   "execution_count": 6,
   "metadata": {},
   "outputs": [],
   "source": [
    "df_data = df_data.drop(['case_id', 'county_location', 'distance',\n",
    "       'direction', 'location_type',\n",
    "       'collision_damage', 'party_count', 'primary_collision_factor',\n",
    "       'pcf_violation_category', 'type_of_collision',\n",
    "       'motor_vehicle_involved_with', 'collision_date', 'id',\n",
    "       'party_number', 'party_type',\n",
    "       'insurance_premium', 'party_number'], axis=1)"
   ]
  },
  {
   "cell_type": "code",
   "execution_count": 7,
   "metadata": {},
   "outputs": [
    {
     "name": "stdout",
     "output_type": "stream",
     "text": [
      "<class 'pandas.core.frame.DataFrame'>\n",
      "RangeIndex: 118411 entries, 0 to 118410\n",
      "Data columns (total 15 columns):\n",
      " #   Column                Non-Null Count   Dtype  \n",
      "---  ------                --------------   -----  \n",
      " 0   county_city_location  118411 non-null  object \n",
      " 1   intersection          118043 non-null  float64\n",
      " 2   weather_1             118022 non-null  object \n",
      " 3   road_surface          117645 non-null  object \n",
      " 4   road_condition_1      117843 non-null  object \n",
      " 5   lighting              118080 non-null  object \n",
      " 6   control_device        117957 non-null  object \n",
      " 7   collision_time        118283 non-null  object \n",
      " 8   at_fault              118411 non-null  int64  \n",
      " 9   party_sobriety        116682 non-null  object \n",
      " 10  party_drug_physical   8695 non-null    object \n",
      " 11  cellphone_in_use      107507 non-null  float64\n",
      " 12  vehicle_type          118411 non-null  object \n",
      " 13  vehicle_transmission  116545 non-null  object \n",
      " 14  vehicle_age           115046 non-null  float64\n",
      "dtypes: float64(3), int64(1), object(11)\n",
      "memory usage: 13.6+ MB\n"
     ]
    }
   ],
   "source": [
    "df_data.info()"
   ]
  },
  {
   "cell_type": "markdown",
   "metadata": {},
   "source": [
    "Посмотрим на пустые ячейки:"
   ]
  },
  {
   "cell_type": "markdown",
   "metadata": {},
   "source": [
    "### Пустые значения ячеек"
   ]
  },
  {
   "cell_type": "code",
   "execution_count": 8,
   "metadata": {},
   "outputs": [
    {
     "data": {
      "text/plain": [
       "county_city_location    0.000000\n",
       "intersection            0.003108\n",
       "weather_1               0.003285\n",
       "road_surface            0.006469\n",
       "road_condition_1        0.004797\n",
       "lighting                0.002795\n",
       "control_device          0.003834\n",
       "collision_time          0.001081\n",
       "at_fault                0.000000\n",
       "party_sobriety          0.014602\n",
       "party_drug_physical     0.926569\n",
       "cellphone_in_use        0.092086\n",
       "vehicle_type            0.000000\n",
       "vehicle_transmission    0.015759\n",
       "vehicle_age             0.028418\n",
       "dtype: float64"
      ]
     },
     "execution_count": 8,
     "metadata": {},
     "output_type": "execute_result"
    }
   ],
   "source": [
    "df_data.isna().mean()"
   ]
  },
  {
   "cell_type": "markdown",
   "metadata": {},
   "source": [
    "Вопросы возникают к столбцам party_drug_physical и cellphone_in_use \n",
    "\n",
    "cellphone_in_use мы никак заполнить не можем, а вот еще подумаем: если алкогольное опьянение мы можем как то проконтролировать и повлиять, то принимал ли водитель наркотики или лекарства никак не проконтролируем, и поэтому реально такие факторы не учтешь в прогнозе аварии, значит этот столбец так же удаляем.\n",
    "\n",
    "Остальные пустые ячейки можно так же удалить без особой потери данных - тем более их заполнение словами other или unknown осбо не влияет на результат"
   ]
  },
  {
   "cell_type": "code",
   "execution_count": 9,
   "metadata": {},
   "outputs": [],
   "source": [
    "df_data = df_data.drop(['party_drug_physical'], axis=1)"
   ]
  },
  {
   "cell_type": "code",
   "execution_count": 10,
   "metadata": {},
   "outputs": [],
   "source": [
    "df_drop = df_data.dropna()"
   ]
  },
  {
   "cell_type": "code",
   "execution_count": 11,
   "metadata": {},
   "outputs": [
    {
     "name": "stdout",
     "output_type": "stream",
     "text": [
      "<class 'pandas.core.frame.DataFrame'>\n",
      "Int64Index: 100956 entries, 0 to 118410\n",
      "Data columns (total 14 columns):\n",
      " #   Column                Non-Null Count   Dtype  \n",
      "---  ------                --------------   -----  \n",
      " 0   county_city_location  100956 non-null  object \n",
      " 1   intersection          100956 non-null  float64\n",
      " 2   weather_1             100956 non-null  object \n",
      " 3   road_surface          100956 non-null  object \n",
      " 4   road_condition_1      100956 non-null  object \n",
      " 5   lighting              100956 non-null  object \n",
      " 6   control_device        100956 non-null  object \n",
      " 7   collision_time        100956 non-null  object \n",
      " 8   at_fault              100956 non-null  int64  \n",
      " 9   party_sobriety        100956 non-null  object \n",
      " 10  cellphone_in_use      100956 non-null  float64\n",
      " 11  vehicle_type          100956 non-null  object \n",
      " 12  vehicle_transmission  100956 non-null  object \n",
      " 13  vehicle_age           100956 non-null  float64\n",
      "dtypes: float64(3), int64(1), object(10)\n",
      "memory usage: 11.6+ MB\n"
     ]
    }
   ],
   "source": [
    "df_drop.info()"
   ]
  },
  {
   "cell_type": "markdown",
   "metadata": {},
   "source": [
    "Думаю что 100 000 строк нам вполне себе достаточно для обучения моделей\n",
    "\n",
    "Что еще нужно сделать с таблицей:\n",
    "\n",
    "* посмотрим на стратификацию целевого признака\n",
    "\n",
    "\n",
    "* county_city_location перевести в тип int\n",
    "\n",
    "\n",
    "* collision_time вместо него вывести столбец с часами\n",
    "\n",
    "\n",
    "* Провести преобразование OHE\n",
    "\n",
    "\n",
    "* Узнаем насколько важны те или иные параметры при помощи feature importance и модели RandomForestClassifier - возможно после него какие то столбцы еще удалим.\n"
   ]
  },
  {
   "cell_type": "markdown",
   "metadata": {},
   "source": [
    "### Стратификация целевого признака "
   ]
  },
  {
   "cell_type": "code",
   "execution_count": 35,
   "metadata": {},
   "outputs": [
    {
     "data": {
      "text/plain": [
       "0    53.877927\n",
       "1    46.122073\n",
       "Name: at_fault, dtype: float64"
      ]
     },
     "execution_count": 35,
     "metadata": {},
     "output_type": "execute_result"
    }
   ],
   "source": [
    "df_drop['at_fault'].value_counts(normalize=True)*100"
   ]
  },
  {
   "cell_type": "markdown",
   "metadata": {},
   "source": [
    "Данных с 0 чуть побольше чем 1. Посмотрим как пойдет обучение моделей, возможно можно будет изменить показатель для повышения качества моделей."
   ]
  },
  {
   "cell_type": "markdown",
   "metadata": {},
   "source": [
    "<div class=\"alert alert-block alert-success\"; style=\"border-left: 6px solid green\">\n",
    "<b>Успех ✔️</b>\n",
    "       \n",
    "В целом можно сказать, что классы сбалансированы)\n",
    "    \n",
    "</div>\n"
   ]
  },
  {
   "cell_type": "markdown",
   "metadata": {},
   "source": [
    "### Работа со столбцом county_city_location "
   ]
  },
  {
   "cell_type": "code",
   "execution_count": 13,
   "metadata": {},
   "outputs": [],
   "source": [
    "df_drop['county_city_location'] = df_drop['county_city_location'].astype('int64')"
   ]
  },
  {
   "cell_type": "markdown",
   "metadata": {},
   "source": [
    "### Работа со столбцом collision_time \n",
    "\n",
    "добавим столбец вместо него время в часах"
   ]
  },
  {
   "cell_type": "code",
   "execution_count": 14,
   "metadata": {},
   "outputs": [],
   "source": [
    "df_drop['collision_time'] = pd.to_datetime(df_drop['collision_time'], format='%H:%M:%S')\n",
    "# Возвращает новую колонку,"
   ]
  },
  {
   "cell_type": "code",
   "execution_count": 15,
   "metadata": {},
   "outputs": [],
   "source": [
    "df_drop['collision_hour'] =  pd.DatetimeIndex(df_drop['collision_time']).hour"
   ]
  },
  {
   "cell_type": "code",
   "execution_count": 16,
   "metadata": {},
   "outputs": [],
   "source": [
    "df_drop = df_drop.drop(['collision_time'], axis=1)"
   ]
  },
  {
   "cell_type": "code",
   "execution_count": 17,
   "metadata": {},
   "outputs": [
    {
     "name": "stdout",
     "output_type": "stream",
     "text": [
      "<class 'pandas.core.frame.DataFrame'>\n",
      "Int64Index: 100956 entries, 0 to 118410\n",
      "Data columns (total 14 columns):\n",
      " #   Column                Non-Null Count   Dtype  \n",
      "---  ------                --------------   -----  \n",
      " 0   county_city_location  100956 non-null  int64  \n",
      " 1   intersection          100956 non-null  float64\n",
      " 2   weather_1             100956 non-null  object \n",
      " 3   road_surface          100956 non-null  object \n",
      " 4   road_condition_1      100956 non-null  object \n",
      " 5   lighting              100956 non-null  object \n",
      " 6   control_device        100956 non-null  object \n",
      " 7   at_fault              100956 non-null  int64  \n",
      " 8   party_sobriety        100956 non-null  object \n",
      " 9   cellphone_in_use      100956 non-null  float64\n",
      " 10  vehicle_type          100956 non-null  object \n",
      " 11  vehicle_transmission  100956 non-null  object \n",
      " 12  vehicle_age           100956 non-null  float64\n",
      " 13  collision_hour        100956 non-null  int64  \n",
      "dtypes: float64(3), int64(3), object(8)\n",
      "memory usage: 11.6+ MB\n"
     ]
    }
   ],
   "source": [
    "df_drop.info()"
   ]
  },
  {
   "cell_type": "code",
   "execution_count": 18,
   "metadata": {},
   "outputs": [
    {
     "data": {
      "text/html": [
       "<div>\n",
       "<style scoped>\n",
       "    .dataframe tbody tr th:only-of-type {\n",
       "        vertical-align: middle;\n",
       "    }\n",
       "\n",
       "    .dataframe tbody tr th {\n",
       "        vertical-align: top;\n",
       "    }\n",
       "\n",
       "    .dataframe thead th {\n",
       "        text-align: right;\n",
       "    }\n",
       "</style>\n",
       "<table border=\"1\" class=\"dataframe\">\n",
       "  <thead>\n",
       "    <tr style=\"text-align: right;\">\n",
       "      <th></th>\n",
       "      <th>county_city_location</th>\n",
       "      <th>intersection</th>\n",
       "      <th>weather_1</th>\n",
       "      <th>road_surface</th>\n",
       "      <th>road_condition_1</th>\n",
       "      <th>lighting</th>\n",
       "      <th>control_device</th>\n",
       "      <th>at_fault</th>\n",
       "      <th>party_sobriety</th>\n",
       "      <th>cellphone_in_use</th>\n",
       "      <th>vehicle_type</th>\n",
       "      <th>vehicle_transmission</th>\n",
       "      <th>vehicle_age</th>\n",
       "      <th>collision_hour</th>\n",
       "    </tr>\n",
       "  </thead>\n",
       "  <tbody>\n",
       "    <tr>\n",
       "      <th>0</th>\n",
       "      <td>1942</td>\n",
       "      <td>0.0</td>\n",
       "      <td>clear</td>\n",
       "      <td>dry</td>\n",
       "      <td>normal</td>\n",
       "      <td>daylight</td>\n",
       "      <td>none</td>\n",
       "      <td>1</td>\n",
       "      <td>had not been drinking</td>\n",
       "      <td>0.0</td>\n",
       "      <td>sedan</td>\n",
       "      <td>auto</td>\n",
       "      <td>0.0</td>\n",
       "      <td>6</td>\n",
       "    </tr>\n",
       "    <tr>\n",
       "      <th>2</th>\n",
       "      <td>3100</td>\n",
       "      <td>0.0</td>\n",
       "      <td>clear</td>\n",
       "      <td>dry</td>\n",
       "      <td>normal</td>\n",
       "      <td>dark with no street lights</td>\n",
       "      <td>none</td>\n",
       "      <td>1</td>\n",
       "      <td>had been drinking, under influence</td>\n",
       "      <td>0.0</td>\n",
       "      <td>coupe</td>\n",
       "      <td>manual</td>\n",
       "      <td>4.0</td>\n",
       "      <td>1</td>\n",
       "    </tr>\n",
       "    <tr>\n",
       "      <th>3</th>\n",
       "      <td>3300</td>\n",
       "      <td>0.0</td>\n",
       "      <td>clear</td>\n",
       "      <td>dry</td>\n",
       "      <td>normal</td>\n",
       "      <td>dark with no street lights</td>\n",
       "      <td>none</td>\n",
       "      <td>0</td>\n",
       "      <td>had not been drinking</td>\n",
       "      <td>0.0</td>\n",
       "      <td>sedan</td>\n",
       "      <td>manual</td>\n",
       "      <td>3.0</td>\n",
       "      <td>22</td>\n",
       "    </tr>\n",
       "    <tr>\n",
       "      <th>4</th>\n",
       "      <td>3336</td>\n",
       "      <td>0.0</td>\n",
       "      <td>clear</td>\n",
       "      <td>dry</td>\n",
       "      <td>normal</td>\n",
       "      <td>daylight</td>\n",
       "      <td>none</td>\n",
       "      <td>1</td>\n",
       "      <td>had not been drinking</td>\n",
       "      <td>0.0</td>\n",
       "      <td>coupe</td>\n",
       "      <td>manual</td>\n",
       "      <td>7.0</td>\n",
       "      <td>10</td>\n",
       "    </tr>\n",
       "    <tr>\n",
       "      <th>5</th>\n",
       "      <td>4103</td>\n",
       "      <td>0.0</td>\n",
       "      <td>clear</td>\n",
       "      <td>dry</td>\n",
       "      <td>normal</td>\n",
       "      <td>dark with no street lights</td>\n",
       "      <td>none</td>\n",
       "      <td>0</td>\n",
       "      <td>had not been drinking</td>\n",
       "      <td>0.0</td>\n",
       "      <td>sedan</td>\n",
       "      <td>auto</td>\n",
       "      <td>4.0</td>\n",
       "      <td>6</td>\n",
       "    </tr>\n",
       "  </tbody>\n",
       "</table>\n",
       "</div>"
      ],
      "text/plain": [
       "   county_city_location  intersection weather_1 road_surface road_condition_1  \\\n",
       "0                  1942           0.0     clear          dry           normal   \n",
       "2                  3100           0.0     clear          dry           normal   \n",
       "3                  3300           0.0     clear          dry           normal   \n",
       "4                  3336           0.0     clear          dry           normal   \n",
       "5                  4103           0.0     clear          dry           normal   \n",
       "\n",
       "                     lighting control_device  at_fault  \\\n",
       "0                    daylight           none         1   \n",
       "2  dark with no street lights           none         1   \n",
       "3  dark with no street lights           none         0   \n",
       "4                    daylight           none         1   \n",
       "5  dark with no street lights           none         0   \n",
       "\n",
       "                       party_sobriety  cellphone_in_use vehicle_type  \\\n",
       "0               had not been drinking               0.0        sedan   \n",
       "2  had been drinking, under influence               0.0        coupe   \n",
       "3               had not been drinking               0.0        sedan   \n",
       "4               had not been drinking               0.0        coupe   \n",
       "5               had not been drinking               0.0        sedan   \n",
       "\n",
       "  vehicle_transmission  vehicle_age  collision_hour  \n",
       "0                 auto          0.0               6  \n",
       "2               manual          4.0               1  \n",
       "3               manual          3.0              22  \n",
       "4               manual          7.0              10  \n",
       "5                 auto          4.0               6  "
      ]
     },
     "execution_count": 18,
     "metadata": {},
     "output_type": "execute_result"
    }
   ],
   "source": [
    "df_drop.head()"
   ]
  },
  {
   "cell_type": "markdown",
   "metadata": {},
   "source": [
    "### Преобразование OHE для категориальных столбцов"
   ]
  },
  {
   "cell_type": "code",
   "execution_count": 19,
   "metadata": {},
   "outputs": [
    {
     "data": {
      "text/plain": [
       "Index(['county_city_location', 'intersection', 'weather_1', 'road_surface',\n",
       "       'road_condition_1', 'lighting', 'control_device', 'at_fault',\n",
       "       'party_sobriety', 'cellphone_in_use', 'vehicle_type',\n",
       "       'vehicle_transmission', 'vehicle_age', 'collision_hour'],\n",
       "      dtype='object')"
      ]
     },
     "execution_count": 19,
     "metadata": {},
     "output_type": "execute_result"
    }
   ],
   "source": [
    "df_drop.columns"
   ]
  },
  {
   "cell_type": "code",
   "execution_count": 20,
   "metadata": {},
   "outputs": [
    {
     "data": {
      "text/html": [
       "<div>\n",
       "<style scoped>\n",
       "    .dataframe tbody tr th:only-of-type {\n",
       "        vertical-align: middle;\n",
       "    }\n",
       "\n",
       "    .dataframe tbody tr th {\n",
       "        vertical-align: top;\n",
       "    }\n",
       "\n",
       "    .dataframe thead th {\n",
       "        text-align: right;\n",
       "    }\n",
       "</style>\n",
       "<table border=\"1\" class=\"dataframe\">\n",
       "  <thead>\n",
       "    <tr style=\"text-align: right;\">\n",
       "      <th></th>\n",
       "      <th>county_city_location</th>\n",
       "      <th>intersection</th>\n",
       "      <th>at_fault</th>\n",
       "      <th>cellphone_in_use</th>\n",
       "      <th>vehicle_age</th>\n",
       "      <th>collision_hour</th>\n",
       "      <th>weather_1_cloudy</th>\n",
       "      <th>weather_1_fog</th>\n",
       "      <th>weather_1_other</th>\n",
       "      <th>weather_1_raining</th>\n",
       "      <th>weather_1_snowing</th>\n",
       "      <th>weather_1_wind</th>\n",
       "      <th>road_surface_slippery</th>\n",
       "      <th>road_surface_snowy</th>\n",
       "      <th>road_surface_wet</th>\n",
       "      <th>road_condition_1_flooded</th>\n",
       "      <th>road_condition_1_holes</th>\n",
       "      <th>road_condition_1_loose material</th>\n",
       "      <th>road_condition_1_normal</th>\n",
       "      <th>road_condition_1_obstruction</th>\n",
       "      <th>road_condition_1_other</th>\n",
       "      <th>road_condition_1_reduced width</th>\n",
       "      <th>lighting_dark with street lights</th>\n",
       "      <th>lighting_dark with street lights not functioning</th>\n",
       "      <th>lighting_daylight</th>\n",
       "      <th>lighting_dusk or dawn</th>\n",
       "      <th>control_device_none</th>\n",
       "      <th>control_device_not functioning</th>\n",
       "      <th>control_device_obscured</th>\n",
       "      <th>party_sobriety_had been drinking, not under influence</th>\n",
       "      <th>party_sobriety_had been drinking, under influence</th>\n",
       "      <th>party_sobriety_had not been drinking</th>\n",
       "      <th>party_sobriety_impairment unknown</th>\n",
       "      <th>party_sobriety_not applicable</th>\n",
       "      <th>vehicle_type_hatchback</th>\n",
       "      <th>vehicle_type_minivan</th>\n",
       "      <th>vehicle_type_other</th>\n",
       "      <th>vehicle_type_sedan</th>\n",
       "      <th>vehicle_transmission_manual</th>\n",
       "    </tr>\n",
       "  </thead>\n",
       "  <tbody>\n",
       "    <tr>\n",
       "      <th>0</th>\n",
       "      <td>1942</td>\n",
       "      <td>0.0</td>\n",
       "      <td>1</td>\n",
       "      <td>0.0</td>\n",
       "      <td>0.0</td>\n",
       "      <td>6</td>\n",
       "      <td>0</td>\n",
       "      <td>0</td>\n",
       "      <td>0</td>\n",
       "      <td>0</td>\n",
       "      <td>0</td>\n",
       "      <td>0</td>\n",
       "      <td>0</td>\n",
       "      <td>0</td>\n",
       "      <td>0</td>\n",
       "      <td>0</td>\n",
       "      <td>0</td>\n",
       "      <td>0</td>\n",
       "      <td>1</td>\n",
       "      <td>0</td>\n",
       "      <td>0</td>\n",
       "      <td>0</td>\n",
       "      <td>0</td>\n",
       "      <td>0</td>\n",
       "      <td>1</td>\n",
       "      <td>0</td>\n",
       "      <td>1</td>\n",
       "      <td>0</td>\n",
       "      <td>0</td>\n",
       "      <td>0</td>\n",
       "      <td>0</td>\n",
       "      <td>1</td>\n",
       "      <td>0</td>\n",
       "      <td>0</td>\n",
       "      <td>0</td>\n",
       "      <td>0</td>\n",
       "      <td>0</td>\n",
       "      <td>1</td>\n",
       "      <td>0</td>\n",
       "    </tr>\n",
       "    <tr>\n",
       "      <th>2</th>\n",
       "      <td>3100</td>\n",
       "      <td>0.0</td>\n",
       "      <td>1</td>\n",
       "      <td>0.0</td>\n",
       "      <td>4.0</td>\n",
       "      <td>1</td>\n",
       "      <td>0</td>\n",
       "      <td>0</td>\n",
       "      <td>0</td>\n",
       "      <td>0</td>\n",
       "      <td>0</td>\n",
       "      <td>0</td>\n",
       "      <td>0</td>\n",
       "      <td>0</td>\n",
       "      <td>0</td>\n",
       "      <td>0</td>\n",
       "      <td>0</td>\n",
       "      <td>0</td>\n",
       "      <td>1</td>\n",
       "      <td>0</td>\n",
       "      <td>0</td>\n",
       "      <td>0</td>\n",
       "      <td>0</td>\n",
       "      <td>0</td>\n",
       "      <td>0</td>\n",
       "      <td>0</td>\n",
       "      <td>1</td>\n",
       "      <td>0</td>\n",
       "      <td>0</td>\n",
       "      <td>0</td>\n",
       "      <td>1</td>\n",
       "      <td>0</td>\n",
       "      <td>0</td>\n",
       "      <td>0</td>\n",
       "      <td>0</td>\n",
       "      <td>0</td>\n",
       "      <td>0</td>\n",
       "      <td>0</td>\n",
       "      <td>1</td>\n",
       "    </tr>\n",
       "    <tr>\n",
       "      <th>3</th>\n",
       "      <td>3300</td>\n",
       "      <td>0.0</td>\n",
       "      <td>0</td>\n",
       "      <td>0.0</td>\n",
       "      <td>3.0</td>\n",
       "      <td>22</td>\n",
       "      <td>0</td>\n",
       "      <td>0</td>\n",
       "      <td>0</td>\n",
       "      <td>0</td>\n",
       "      <td>0</td>\n",
       "      <td>0</td>\n",
       "      <td>0</td>\n",
       "      <td>0</td>\n",
       "      <td>0</td>\n",
       "      <td>0</td>\n",
       "      <td>0</td>\n",
       "      <td>0</td>\n",
       "      <td>1</td>\n",
       "      <td>0</td>\n",
       "      <td>0</td>\n",
       "      <td>0</td>\n",
       "      <td>0</td>\n",
       "      <td>0</td>\n",
       "      <td>0</td>\n",
       "      <td>0</td>\n",
       "      <td>1</td>\n",
       "      <td>0</td>\n",
       "      <td>0</td>\n",
       "      <td>0</td>\n",
       "      <td>0</td>\n",
       "      <td>1</td>\n",
       "      <td>0</td>\n",
       "      <td>0</td>\n",
       "      <td>0</td>\n",
       "      <td>0</td>\n",
       "      <td>0</td>\n",
       "      <td>1</td>\n",
       "      <td>1</td>\n",
       "    </tr>\n",
       "    <tr>\n",
       "      <th>4</th>\n",
       "      <td>3336</td>\n",
       "      <td>0.0</td>\n",
       "      <td>1</td>\n",
       "      <td>0.0</td>\n",
       "      <td>7.0</td>\n",
       "      <td>10</td>\n",
       "      <td>0</td>\n",
       "      <td>0</td>\n",
       "      <td>0</td>\n",
       "      <td>0</td>\n",
       "      <td>0</td>\n",
       "      <td>0</td>\n",
       "      <td>0</td>\n",
       "      <td>0</td>\n",
       "      <td>0</td>\n",
       "      <td>0</td>\n",
       "      <td>0</td>\n",
       "      <td>0</td>\n",
       "      <td>1</td>\n",
       "      <td>0</td>\n",
       "      <td>0</td>\n",
       "      <td>0</td>\n",
       "      <td>0</td>\n",
       "      <td>0</td>\n",
       "      <td>1</td>\n",
       "      <td>0</td>\n",
       "      <td>1</td>\n",
       "      <td>0</td>\n",
       "      <td>0</td>\n",
       "      <td>0</td>\n",
       "      <td>0</td>\n",
       "      <td>1</td>\n",
       "      <td>0</td>\n",
       "      <td>0</td>\n",
       "      <td>0</td>\n",
       "      <td>0</td>\n",
       "      <td>0</td>\n",
       "      <td>0</td>\n",
       "      <td>1</td>\n",
       "    </tr>\n",
       "    <tr>\n",
       "      <th>5</th>\n",
       "      <td>4103</td>\n",
       "      <td>0.0</td>\n",
       "      <td>0</td>\n",
       "      <td>0.0</td>\n",
       "      <td>4.0</td>\n",
       "      <td>6</td>\n",
       "      <td>0</td>\n",
       "      <td>0</td>\n",
       "      <td>0</td>\n",
       "      <td>0</td>\n",
       "      <td>0</td>\n",
       "      <td>0</td>\n",
       "      <td>0</td>\n",
       "      <td>0</td>\n",
       "      <td>0</td>\n",
       "      <td>0</td>\n",
       "      <td>0</td>\n",
       "      <td>0</td>\n",
       "      <td>1</td>\n",
       "      <td>0</td>\n",
       "      <td>0</td>\n",
       "      <td>0</td>\n",
       "      <td>0</td>\n",
       "      <td>0</td>\n",
       "      <td>0</td>\n",
       "      <td>0</td>\n",
       "      <td>1</td>\n",
       "      <td>0</td>\n",
       "      <td>0</td>\n",
       "      <td>0</td>\n",
       "      <td>0</td>\n",
       "      <td>1</td>\n",
       "      <td>0</td>\n",
       "      <td>0</td>\n",
       "      <td>0</td>\n",
       "      <td>0</td>\n",
       "      <td>0</td>\n",
       "      <td>1</td>\n",
       "      <td>0</td>\n",
       "    </tr>\n",
       "  </tbody>\n",
       "</table>\n",
       "</div>"
      ],
      "text/plain": [
       "   county_city_location  intersection  at_fault  cellphone_in_use  \\\n",
       "0                  1942           0.0         1               0.0   \n",
       "2                  3100           0.0         1               0.0   \n",
       "3                  3300           0.0         0               0.0   \n",
       "4                  3336           0.0         1               0.0   \n",
       "5                  4103           0.0         0               0.0   \n",
       "\n",
       "   vehicle_age  collision_hour  weather_1_cloudy  weather_1_fog  \\\n",
       "0          0.0               6                 0              0   \n",
       "2          4.0               1                 0              0   \n",
       "3          3.0              22                 0              0   \n",
       "4          7.0              10                 0              0   \n",
       "5          4.0               6                 0              0   \n",
       "\n",
       "   weather_1_other  weather_1_raining  weather_1_snowing  weather_1_wind  \\\n",
       "0                0                  0                  0               0   \n",
       "2                0                  0                  0               0   \n",
       "3                0                  0                  0               0   \n",
       "4                0                  0                  0               0   \n",
       "5                0                  0                  0               0   \n",
       "\n",
       "   road_surface_slippery  road_surface_snowy  road_surface_wet  \\\n",
       "0                      0                   0                 0   \n",
       "2                      0                   0                 0   \n",
       "3                      0                   0                 0   \n",
       "4                      0                   0                 0   \n",
       "5                      0                   0                 0   \n",
       "\n",
       "   road_condition_1_flooded  road_condition_1_holes  \\\n",
       "0                         0                       0   \n",
       "2                         0                       0   \n",
       "3                         0                       0   \n",
       "4                         0                       0   \n",
       "5                         0                       0   \n",
       "\n",
       "   road_condition_1_loose material  road_condition_1_normal  \\\n",
       "0                                0                        1   \n",
       "2                                0                        1   \n",
       "3                                0                        1   \n",
       "4                                0                        1   \n",
       "5                                0                        1   \n",
       "\n",
       "   road_condition_1_obstruction  road_condition_1_other  \\\n",
       "0                             0                       0   \n",
       "2                             0                       0   \n",
       "3                             0                       0   \n",
       "4                             0                       0   \n",
       "5                             0                       0   \n",
       "\n",
       "   road_condition_1_reduced width  lighting_dark with street lights  \\\n",
       "0                               0                                 0   \n",
       "2                               0                                 0   \n",
       "3                               0                                 0   \n",
       "4                               0                                 0   \n",
       "5                               0                                 0   \n",
       "\n",
       "   lighting_dark with street lights not functioning  lighting_daylight  \\\n",
       "0                                                 0                  1   \n",
       "2                                                 0                  0   \n",
       "3                                                 0                  0   \n",
       "4                                                 0                  1   \n",
       "5                                                 0                  0   \n",
       "\n",
       "   lighting_dusk or dawn  control_device_none  control_device_not functioning  \\\n",
       "0                      0                    1                               0   \n",
       "2                      0                    1                               0   \n",
       "3                      0                    1                               0   \n",
       "4                      0                    1                               0   \n",
       "5                      0                    1                               0   \n",
       "\n",
       "   control_device_obscured  \\\n",
       "0                        0   \n",
       "2                        0   \n",
       "3                        0   \n",
       "4                        0   \n",
       "5                        0   \n",
       "\n",
       "   party_sobriety_had been drinking, not under influence  \\\n",
       "0                                                  0       \n",
       "2                                                  0       \n",
       "3                                                  0       \n",
       "4                                                  0       \n",
       "5                                                  0       \n",
       "\n",
       "   party_sobriety_had been drinking, under influence  \\\n",
       "0                                                  0   \n",
       "2                                                  1   \n",
       "3                                                  0   \n",
       "4                                                  0   \n",
       "5                                                  0   \n",
       "\n",
       "   party_sobriety_had not been drinking  party_sobriety_impairment unknown  \\\n",
       "0                                     1                                  0   \n",
       "2                                     0                                  0   \n",
       "3                                     1                                  0   \n",
       "4                                     1                                  0   \n",
       "5                                     1                                  0   \n",
       "\n",
       "   party_sobriety_not applicable  vehicle_type_hatchback  \\\n",
       "0                              0                       0   \n",
       "2                              0                       0   \n",
       "3                              0                       0   \n",
       "4                              0                       0   \n",
       "5                              0                       0   \n",
       "\n",
       "   vehicle_type_minivan  vehicle_type_other  vehicle_type_sedan  \\\n",
       "0                     0                   0                   1   \n",
       "2                     0                   0                   0   \n",
       "3                     0                   0                   1   \n",
       "4                     0                   0                   0   \n",
       "5                     0                   0                   1   \n",
       "\n",
       "   vehicle_transmission_manual  \n",
       "0                            0  \n",
       "2                            1  \n",
       "3                            1  \n",
       "4                            1  \n",
       "5                            0  "
      ]
     },
     "execution_count": 20,
     "metadata": {},
     "output_type": "execute_result"
    }
   ],
   "source": [
    "df_ohe = pd.get_dummies(df_drop, drop_first=True, columns = [ 'weather_1', 'road_surface',\n",
    "                                                            'road_condition_1', 'lighting', 'control_device', \n",
    "                                                            'party_sobriety', 'vehicle_type',\n",
    "                                                            'vehicle_transmission'])\n",
    "df_ohe.head()"
   ]
  },
  {
   "cell_type": "markdown",
   "metadata": {},
   "source": [
    "\n",
    "<div class=\"alert alert-block alert-warning\"; style=\"border-left: 6px solid orange\">\n",
    "<b>Рекомендация ⚠️</b>\n",
    "       \n",
    "Кодирование  лучше всегда делать после разделения на выборки\n",
    "    \n",
    "</div>\n"
   ]
  },
  {
   "cell_type": "markdown",
   "metadata": {},
   "source": [
    "\n",
    "<div class=\"alert alert-block alert-warning\"; style=\"border-left: 6px solid orange\">\n",
    "<b>Рекомендация ⚠️</b>\n",
    "       \n",
    "OHE хорошее решение для линейных моделей, деревья же лучше работают с ordinal, а для бустингов (LGBM, CatBoost) вообще лучше не кодировать предварительно выборки, они умеют работать с категориальными признаками\n",
    "    \n",
    "</div>\n"
   ]
  },
  {
   "cell_type": "markdown",
   "metadata": {},
   "source": [
    "### Feature importance"
   ]
  },
  {
   "cell_type": "code",
   "execution_count": 21,
   "metadata": {},
   "outputs": [
    {
     "data": {
      "image/png": "[encoded data removed]",
      "text/plain": [
       "<Figure size 1872x1008 with 1 Axes>"
      ]
     },
     "metadata": {
      "needs_background": "light"
     },
     "output_type": "display_data"
    }
   ],
   "source": [
    "model_skl = RandomForestClassifier()\n",
    "model_skl.fit(X = df_ohe.drop(['at_fault'], axis=1), y = df_ohe['at_fault'])\n",
    "\n",
    "skl_imp = pd.Series(model_skl.feature_importances_,\n",
    "                         df_ohe.drop(['at_fault'], axis=1).columns)\n",
    "\n",
    "fig, ax = plt.subplots(figsize=(26,14))\n",
    "skl_imp.plot.bar(ax=ax)\n",
    "ax.set_title(\"Важность признаков\")\n",
    "ax.set_ylabel('Важность')\n",
    "fig.tight_layout()"
   ]
  },
  {
   "cell_type": "markdown",
   "metadata": {},
   "source": [
    "#### <b>Вывод:</b> \n",
    "\n",
    "\n",
    "так или иначе все столбцы привносят свой вклад во влияение на целевой показатель, можно было бы еще поудалять какие то не столь важные стролбцы, возникшие после OHE преобразования, но думаю при 100 000 данных для одучения это не особо повлияет на скорость обучения.\n",
    "\n",
    "Отмечу что наиболее влияющие (данные весма смещены как по времени так и по местности):\n",
    "\n",
    "* место поездки - аварийность в городе выше, чем в деревне, хотя влияние на большое количсетво данных для города весьма большое\n",
    "\n",
    "* возраст авто - но здесь есть опять же влияние большего количсетва данных для новых авто - кстати для коллег можно так же поставить задачу определить процент аварий от возраста авто\n",
    "\n",
    "* часы поездки - логично, что ночью намного меньше машин и вероятность попасть в дтп так же меньше\n",
    "\n",
    "* ну и еслит сложить все had been drinking то получим большой фактор аварийности пьяными водителями - вот этот показатель уже не так зависит от часа пик или местности\n"
   ]
  },
  {
   "cell_type": "markdown",
   "metadata": {},
   "source": [
    "<div class=\"alert alert-block alert-success\"; style=\"border-left: 6px solid green\">\n",
    "<b>Успех ✔️</b>\n",
    "       \n",
    "Классный и очень полезный инструмент для бизнеса! Важная часть моделирования\n",
    "    \n",
    "</div>\n"
   ]
  },
  {
   "cell_type": "markdown",
   "metadata": {},
   "source": [
    "### Выделяем данные для обучения, валидационные и тестовые данные с сохранением стратификации"
   ]
  },
  {
   "cell_type": "code",
   "execution_count": 22,
   "metadata": {},
   "outputs": [],
   "source": [
    "x = df_ohe.drop('at_fault', axis=1)\n",
    "y = df_ohe['at_fault']"
   ]
  },
  {
   "cell_type": "markdown",
   "metadata": {},
   "source": [
    "Данные 100 000 достаточно много, можно разделить в соотношении 60/20/20"
   ]
  },
  {
   "cell_type": "code",
   "execution_count": 23,
   "metadata": {},
   "outputs": [],
   "source": [
    "x_train, x_temp, y_train, y_temp = train_test_split(x, y, stratify=y,\n",
    "                                                    test_size=0.40, shuffle=True, random_state=12345)"
   ]
  },
  {
   "cell_type": "code",
   "execution_count": 24,
   "metadata": {},
   "outputs": [],
   "source": [
    "x_valid, x_test, y_valid, y_test = train_test_split(x_temp, y_temp, stratify=y_temp,\n",
    "                                                    test_size=0.5, shuffle=True, random_state=12345)"
   ]
  },
  {
   "cell_type": "code",
   "execution_count": 25,
   "metadata": {},
   "outputs": [
    {
     "data": {
      "text/plain": [
       "(60573, 38)"
      ]
     },
     "execution_count": 25,
     "metadata": {},
     "output_type": "execute_result"
    }
   ],
   "source": [
    "x_train.shape"
   ]
  },
  {
   "cell_type": "code",
   "execution_count": 26,
   "metadata": {},
   "outputs": [
    {
     "data": {
      "text/plain": [
       "(20192, 38)"
      ]
     },
     "execution_count": 26,
     "metadata": {},
     "output_type": "execute_result"
    }
   ],
   "source": [
    "x_test.shape"
   ]
  },
  {
   "cell_type": "code",
   "execution_count": 27,
   "metadata": {},
   "outputs": [
    {
     "data": {
      "text/plain": [
       "(20191, 38)"
      ]
     },
     "execution_count": 27,
     "metadata": {},
     "output_type": "execute_result"
    }
   ],
   "source": [
    "x_valid.shape"
   ]
  },
  {
   "cell_type": "code",
   "execution_count": 28,
   "metadata": {},
   "outputs": [
    {
     "data": {
      "text/plain": [
       "(60573,)"
      ]
     },
     "execution_count": 28,
     "metadata": {},
     "output_type": "execute_result"
    }
   ],
   "source": [
    "y_train.shape"
   ]
  },
  {
   "cell_type": "markdown",
   "metadata": {},
   "source": [
    "<div class=\"alert alert-block alert-success\"; style=\"border-left: 6px solid green\">\n",
    "<b>Успех ✔️</b>\n",
    "       \n",
    "Молодец, что проверяешь размеры выборок!\n",
    "    \n",
    "</div>\n"
   ]
  },
  {
   "cell_type": "markdown",
   "metadata": {},
   "source": [
    "Проверим стратификацию"
   ]
  },
  {
   "cell_type": "code",
   "execution_count": 29,
   "metadata": {},
   "outputs": [
    {
     "data": {
      "text/plain": [
       "0    53.87714\n",
       "1    46.12286\n",
       "Name: at_fault, dtype: float64"
      ]
     },
     "execution_count": 29,
     "metadata": {},
     "output_type": "execute_result"
    }
   ],
   "source": [
    "y_train.value_counts(normalize=True)*100"
   ]
  },
  {
   "cell_type": "code",
   "execution_count": 30,
   "metadata": {},
   "outputs": [
    {
     "data": {
      "text/plain": [
       "0    53.880442\n",
       "1    46.119558\n",
       "Name: at_fault, dtype: float64"
      ]
     },
     "execution_count": 30,
     "metadata": {},
     "output_type": "execute_result"
    }
   ],
   "source": [
    "y_valid.value_counts(normalize=True)*100"
   ]
  },
  {
   "cell_type": "code",
   "execution_count": 31,
   "metadata": {},
   "outputs": [
    {
     "data": {
      "text/plain": [
       "0    53.877773\n",
       "1    46.122227\n",
       "Name: at_fault, dtype: float64"
      ]
     },
     "execution_count": 31,
     "metadata": {},
     "output_type": "execute_result"
    }
   ],
   "source": [
    "y_test.value_counts(normalize=True)*100"
   ]
  },
  {
   "cell_type": "markdown",
   "metadata": {},
   "source": [
    "разница в втором знаке после запятой не существенна"
   ]
  },
  {
   "cell_type": "markdown",
   "metadata": {},
   "source": [
    "### Масштабирование данных"
   ]
  },
  {
   "cell_type": "markdown",
   "metadata": {},
   "source": [
    "Обучаем скейлер на тренировочных данных"
   ]
  },
  {
   "cell_type": "code",
   "execution_count": 32,
   "metadata": {},
   "outputs": [
    {
     "data": {
      "text/html": [
       "<style>#sk-container-id-1 {color: black;background-color: white;}#sk-container-id-1 pre{padding: 0;}#sk-container-id-1 div.sk-toggleable {background-color: white;}#sk-container-id-1 label.sk-toggleable__label {cursor: pointer;display: block;width: 100%;margin-bottom: 0;padding: 0.3em;box-sizing: border-box;text-align: center;}#sk-container-id-1 label.sk-toggleable__label-arrow:before {content: \"▸\";float: left;margin-right: 0.25em;color: #696969;}#sk-container-id-1 label.sk-toggleable__label-arrow:hover:before {color: black;}#sk-container-id-1 div.sk-estimator:hover label.sk-toggleable__label-arrow:before {color: black;}#sk-container-id-1 div.sk-toggleable__content {max-height: 0;max-width: 0;overflow: hidden;text-align: left;background-color: #f0f8ff;}#sk-container-id-1 div.sk-toggleable__content pre {margin: 0.2em;color: black;border-radius: 0.25em;background-color: #f0f8ff;}#sk-container-id-1 input.sk-toggleable__control:checked~div.sk-toggleable__content {max-height: 200px;max-width: 100%;overflow: auto;}#sk-container-id-1 input.sk-toggleable__control:checked~label.sk-toggleable__label-arrow:before {content: \"▾\";}#sk-container-id-1 div.sk-estimator input.sk-toggleable__control:checked~label.sk-toggleable__label {background-color: #d4ebff;}#sk-container-id-1 div.sk-label input.sk-toggleable__control:checked~label.sk-toggleable__label {background-color: #d4ebff;}#sk-container-id-1 input.sk-hidden--visually {border: 0;clip: rect(1px 1px 1px 1px);clip: rect(1px, 1px, 1px, 1px);height: 1px;margin: -1px;overflow: hidden;padding: 0;position: absolute;width: 1px;}#sk-container-id-1 div.sk-estimator {font-family: monospace;background-color: #f0f8ff;border: 1px dotted black;border-radius: 0.25em;box-sizing: border-box;margin-bottom: 0.5em;}#sk-container-id-1 div.sk-estimator:hover {background-color: #d4ebff;}#sk-container-id-1 div.sk-parallel-item::after {content: \"\";width: 100%;border-bottom: 1px solid gray;flex-grow: 1;}#sk-container-id-1 div.sk-label:hover label.sk-toggleable__label {background-color: #d4ebff;}#sk-container-id-1 div.sk-serial::before {content: \"\";position: absolute;border-left: 1px solid gray;box-sizing: border-box;top: 0;bottom: 0;left: 50%;z-index: 0;}#sk-container-id-1 div.sk-serial {display: flex;flex-direction: column;align-items: center;background-color: white;padding-right: 0.2em;padding-left: 0.2em;position: relative;}#sk-container-id-1 div.sk-item {position: relative;z-index: 1;}#sk-container-id-1 div.sk-parallel {display: flex;align-items: stretch;justify-content: center;background-color: white;position: relative;}#sk-container-id-1 div.sk-item::before, #sk-container-id-1 div.sk-parallel-item::before {content: \"\";position: absolute;border-left: 1px solid gray;box-sizing: border-box;top: 0;bottom: 0;left: 50%;z-index: -1;}#sk-container-id-1 div.sk-parallel-item {display: flex;flex-direction: column;z-index: 1;position: relative;background-color: white;}#sk-container-id-1 div.sk-parallel-item:first-child::after {align-self: flex-end;width: 50%;}#sk-container-id-1 div.sk-parallel-item:last-child::after {align-self: flex-start;width: 50%;}#sk-container-id-1 div.sk-parallel-item:only-child::after {width: 0;}#sk-container-id-1 div.sk-dashed-wrapped {border: 1px dashed gray;margin: 0 0.4em 0.5em 0.4em;box-sizing: border-box;padding-bottom: 0.4em;background-color: white;}#sk-container-id-1 div.sk-label label {font-family: monospace;font-weight: bold;display: inline-block;line-height: 1.2em;}#sk-container-id-1 div.sk-label-container {text-align: center;}#sk-container-id-1 div.sk-container {/* jupyter's `normalize.less` sets `[hidden] { display: none; }` but bootstrap.min.css set `[hidden] { display: none !important; }` so we also need the `!important` here to be able to override the default hidden behavior on the sphinx rendered scikit-learn.org. See: https://github.com/scikit-learn/scikit-learn/issues/21755 */display: inline-block !important;position: relative;}#sk-container-id-1 div.sk-text-repr-fallback {display: none;}</style><div id=\"sk-container-id-1\" class=\"sk-top-container\"><div class=\"sk-text-repr-fallback\"><pre>StandardScaler()</pre><b>In a Jupyter environment, please rerun this cell to show the HTML representation or trust the notebook. <br />On GitHub, the HTML representation is unable to render, please try loading this page with nbviewer.org.</b></div><div class=\"sk-container\" hidden><div class=\"sk-item\"><div class=\"sk-estimator sk-toggleable\"><input class=\"sk-toggleable__control sk-hidden--visually\" id=\"sk-estimator-id-1\" type=\"checkbox\" checked><label for=\"sk-estimator-id-1\" class=\"sk-toggleable__label sk-toggleable__label-arrow\">StandardScaler</label><div class=\"sk-toggleable__content\"><pre>StandardScaler()</pre></div></div></div></div></div>"
      ],
      "text/plain": [
       "StandardScaler()"
      ]
     },
     "execution_count": 32,
     "metadata": {},
     "output_type": "execute_result"
    }
   ],
   "source": [
    "numeric = ['county_city_location', 'vehicle_age', 'collision_hour']\n",
    "\n",
    "scaler = StandardScaler()\n",
    "\n",
    "scaler.fit(x_train[numeric])"
   ]
  },
  {
   "cell_type": "markdown",
   "metadata": {},
   "source": [
    "Масштабирование признаков"
   ]
  },
  {
   "cell_type": "code",
   "execution_count": 33,
   "metadata": {},
   "outputs": [],
   "source": [
    "x_train[numeric] = scaler.transform(x_train[numeric])\n",
    "x_valid[numeric] = scaler.transform(x_valid[numeric])\n",
    "x_test[numeric] = scaler.transform(x_test[numeric])"
   ]
  },
  {
   "cell_type": "markdown",
   "metadata": {},
   "source": [
    "<div class=\"alert alert-block alert-success\"; style=\"border-left: 6px solid green\">\n",
    "<b>Успех ✔️</b>\n",
    "       \n",
    "Масштабирование выполнено корректно!\n",
    "    \n",
    "</div>\n"
   ]
  },
  {
   "cell_type": "code",
   "execution_count": 34,
   "metadata": {},
   "outputs": [
    {
     "data": {
      "text/html": [
       "<div>\n",
       "<style scoped>\n",
       "    .dataframe tbody tr th:only-of-type {\n",
       "        vertical-align: middle;\n",
       "    }\n",
       "\n",
       "    .dataframe tbody tr th {\n",
       "        vertical-align: top;\n",
       "    }\n",
       "\n",
       "    .dataframe thead th {\n",
       "        text-align: right;\n",
       "    }\n",
       "</style>\n",
       "<table border=\"1\" class=\"dataframe\">\n",
       "  <thead>\n",
       "    <tr style=\"text-align: right;\">\n",
       "      <th></th>\n",
       "      <th>county_city_location</th>\n",
       "      <th>intersection</th>\n",
       "      <th>cellphone_in_use</th>\n",
       "      <th>vehicle_age</th>\n",
       "      <th>collision_hour</th>\n",
       "      <th>weather_1_cloudy</th>\n",
       "      <th>weather_1_fog</th>\n",
       "      <th>weather_1_other</th>\n",
       "      <th>weather_1_raining</th>\n",
       "      <th>weather_1_snowing</th>\n",
       "      <th>weather_1_wind</th>\n",
       "      <th>road_surface_slippery</th>\n",
       "      <th>road_surface_snowy</th>\n",
       "      <th>road_surface_wet</th>\n",
       "      <th>road_condition_1_flooded</th>\n",
       "      <th>road_condition_1_holes</th>\n",
       "      <th>road_condition_1_loose material</th>\n",
       "      <th>road_condition_1_normal</th>\n",
       "      <th>road_condition_1_obstruction</th>\n",
       "      <th>road_condition_1_other</th>\n",
       "      <th>road_condition_1_reduced width</th>\n",
       "      <th>lighting_dark with street lights</th>\n",
       "      <th>lighting_dark with street lights not functioning</th>\n",
       "      <th>lighting_daylight</th>\n",
       "      <th>lighting_dusk or dawn</th>\n",
       "      <th>control_device_none</th>\n",
       "      <th>control_device_not functioning</th>\n",
       "      <th>control_device_obscured</th>\n",
       "      <th>party_sobriety_had been drinking, not under influence</th>\n",
       "      <th>party_sobriety_had been drinking, under influence</th>\n",
       "      <th>party_sobriety_had not been drinking</th>\n",
       "      <th>party_sobriety_impairment unknown</th>\n",
       "      <th>party_sobriety_not applicable</th>\n",
       "      <th>vehicle_type_hatchback</th>\n",
       "      <th>vehicle_type_minivan</th>\n",
       "      <th>vehicle_type_other</th>\n",
       "      <th>vehicle_type_sedan</th>\n",
       "      <th>vehicle_transmission_manual</th>\n",
       "    </tr>\n",
       "  </thead>\n",
       "  <tbody>\n",
       "    <tr>\n",
       "      <th>97546</th>\n",
       "      <td>0.448456</td>\n",
       "      <td>0.0</td>\n",
       "      <td>0.0</td>\n",
       "      <td>-0.861018</td>\n",
       "      <td>0.875156</td>\n",
       "      <td>0</td>\n",
       "      <td>0</td>\n",
       "      <td>0</td>\n",
       "      <td>0</td>\n",
       "      <td>0</td>\n",
       "      <td>0</td>\n",
       "      <td>0</td>\n",
       "      <td>0</td>\n",
       "      <td>0</td>\n",
       "      <td>0</td>\n",
       "      <td>0</td>\n",
       "      <td>0</td>\n",
       "      <td>1</td>\n",
       "      <td>0</td>\n",
       "      <td>0</td>\n",
       "      <td>0</td>\n",
       "      <td>0</td>\n",
       "      <td>0</td>\n",
       "      <td>1</td>\n",
       "      <td>0</td>\n",
       "      <td>1</td>\n",
       "      <td>0</td>\n",
       "      <td>0</td>\n",
       "      <td>0</td>\n",
       "      <td>0</td>\n",
       "      <td>1</td>\n",
       "      <td>0</td>\n",
       "      <td>0</td>\n",
       "      <td>0</td>\n",
       "      <td>0</td>\n",
       "      <td>0</td>\n",
       "      <td>1</td>\n",
       "      <td>1</td>\n",
       "    </tr>\n",
       "    <tr>\n",
       "      <th>76173</th>\n",
       "      <td>-0.730452</td>\n",
       "      <td>0.0</td>\n",
       "      <td>0.0</td>\n",
       "      <td>-1.157095</td>\n",
       "      <td>1.648077</td>\n",
       "      <td>0</td>\n",
       "      <td>0</td>\n",
       "      <td>0</td>\n",
       "      <td>0</td>\n",
       "      <td>0</td>\n",
       "      <td>0</td>\n",
       "      <td>0</td>\n",
       "      <td>0</td>\n",
       "      <td>0</td>\n",
       "      <td>0</td>\n",
       "      <td>0</td>\n",
       "      <td>0</td>\n",
       "      <td>1</td>\n",
       "      <td>0</td>\n",
       "      <td>0</td>\n",
       "      <td>0</td>\n",
       "      <td>0</td>\n",
       "      <td>0</td>\n",
       "      <td>0</td>\n",
       "      <td>0</td>\n",
       "      <td>1</td>\n",
       "      <td>0</td>\n",
       "      <td>0</td>\n",
       "      <td>0</td>\n",
       "      <td>0</td>\n",
       "      <td>1</td>\n",
       "      <td>0</td>\n",
       "      <td>0</td>\n",
       "      <td>0</td>\n",
       "      <td>0</td>\n",
       "      <td>0</td>\n",
       "      <td>1</td>\n",
       "      <td>1</td>\n",
       "    </tr>\n",
       "    <tr>\n",
       "      <th>80158</th>\n",
       "      <td>-0.694991</td>\n",
       "      <td>0.0</td>\n",
       "      <td>0.0</td>\n",
       "      <td>-0.268865</td>\n",
       "      <td>0.295465</td>\n",
       "      <td>0</td>\n",
       "      <td>0</td>\n",
       "      <td>0</td>\n",
       "      <td>0</td>\n",
       "      <td>0</td>\n",
       "      <td>0</td>\n",
       "      <td>0</td>\n",
       "      <td>0</td>\n",
       "      <td>0</td>\n",
       "      <td>0</td>\n",
       "      <td>0</td>\n",
       "      <td>0</td>\n",
       "      <td>1</td>\n",
       "      <td>0</td>\n",
       "      <td>0</td>\n",
       "      <td>0</td>\n",
       "      <td>0</td>\n",
       "      <td>0</td>\n",
       "      <td>1</td>\n",
       "      <td>0</td>\n",
       "      <td>1</td>\n",
       "      <td>0</td>\n",
       "      <td>0</td>\n",
       "      <td>0</td>\n",
       "      <td>0</td>\n",
       "      <td>1</td>\n",
       "      <td>0</td>\n",
       "      <td>0</td>\n",
       "      <td>0</td>\n",
       "      <td>0</td>\n",
       "      <td>0</td>\n",
       "      <td>1</td>\n",
       "      <td>1</td>\n",
       "    </tr>\n",
       "    <tr>\n",
       "      <th>116971</th>\n",
       "      <td>-2.146561</td>\n",
       "      <td>0.0</td>\n",
       "      <td>0.0</td>\n",
       "      <td>2.395823</td>\n",
       "      <td>-0.477457</td>\n",
       "      <td>0</td>\n",
       "      <td>0</td>\n",
       "      <td>0</td>\n",
       "      <td>0</td>\n",
       "      <td>0</td>\n",
       "      <td>0</td>\n",
       "      <td>0</td>\n",
       "      <td>0</td>\n",
       "      <td>0</td>\n",
       "      <td>0</td>\n",
       "      <td>0</td>\n",
       "      <td>0</td>\n",
       "      <td>1</td>\n",
       "      <td>0</td>\n",
       "      <td>0</td>\n",
       "      <td>0</td>\n",
       "      <td>0</td>\n",
       "      <td>0</td>\n",
       "      <td>1</td>\n",
       "      <td>0</td>\n",
       "      <td>1</td>\n",
       "      <td>0</td>\n",
       "      <td>0</td>\n",
       "      <td>0</td>\n",
       "      <td>0</td>\n",
       "      <td>1</td>\n",
       "      <td>0</td>\n",
       "      <td>0</td>\n",
       "      <td>0</td>\n",
       "      <td>0</td>\n",
       "      <td>0</td>\n",
       "      <td>1</td>\n",
       "      <td>0</td>\n",
       "    </tr>\n",
       "    <tr>\n",
       "      <th>76961</th>\n",
       "      <td>2.182144</td>\n",
       "      <td>0.0</td>\n",
       "      <td>0.0</td>\n",
       "      <td>-0.861018</td>\n",
       "      <td>-0.284226</td>\n",
       "      <td>0</td>\n",
       "      <td>0</td>\n",
       "      <td>0</td>\n",
       "      <td>0</td>\n",
       "      <td>0</td>\n",
       "      <td>0</td>\n",
       "      <td>0</td>\n",
       "      <td>0</td>\n",
       "      <td>0</td>\n",
       "      <td>0</td>\n",
       "      <td>0</td>\n",
       "      <td>0</td>\n",
       "      <td>1</td>\n",
       "      <td>0</td>\n",
       "      <td>0</td>\n",
       "      <td>0</td>\n",
       "      <td>0</td>\n",
       "      <td>0</td>\n",
       "      <td>1</td>\n",
       "      <td>0</td>\n",
       "      <td>0</td>\n",
       "      <td>0</td>\n",
       "      <td>0</td>\n",
       "      <td>0</td>\n",
       "      <td>0</td>\n",
       "      <td>1</td>\n",
       "      <td>0</td>\n",
       "      <td>0</td>\n",
       "      <td>0</td>\n",
       "      <td>0</td>\n",
       "      <td>0</td>\n",
       "      <td>1</td>\n",
       "      <td>0</td>\n",
       "    </tr>\n",
       "  </tbody>\n",
       "</table>\n",
       "</div>"
      ],
      "text/plain": [
       "        county_city_location  intersection  cellphone_in_use  vehicle_age  \\\n",
       "97546               0.448456           0.0               0.0    -0.861018   \n",
       "76173              -0.730452           0.0               0.0    -1.157095   \n",
       "80158              -0.694991           0.0               0.0    -0.268865   \n",
       "116971             -2.146561           0.0               0.0     2.395823   \n",
       "76961               2.182144           0.0               0.0    -0.861018   \n",
       "\n",
       "        collision_hour  weather_1_cloudy  weather_1_fog  weather_1_other  \\\n",
       "97546         0.875156                 0              0                0   \n",
       "76173         1.648077                 0              0                0   \n",
       "80158         0.295465                 0              0                0   \n",
       "116971       -0.477457                 0              0                0   \n",
       "76961        -0.284226                 0              0                0   \n",
       "\n",
       "        weather_1_raining  weather_1_snowing  weather_1_wind  \\\n",
       "97546                   0                  0               0   \n",
       "76173                   0                  0               0   \n",
       "80158                   0                  0               0   \n",
       "116971                  0                  0               0   \n",
       "76961                   0                  0               0   \n",
       "\n",
       "        road_surface_slippery  road_surface_snowy  road_surface_wet  \\\n",
       "97546                       0                   0                 0   \n",
       "76173                       0                   0                 0   \n",
       "80158                       0                   0                 0   \n",
       "116971                      0                   0                 0   \n",
       "76961                       0                   0                 0   \n",
       "\n",
       "        road_condition_1_flooded  road_condition_1_holes  \\\n",
       "97546                          0                       0   \n",
       "76173                          0                       0   \n",
       "80158                          0                       0   \n",
       "116971                         0                       0   \n",
       "76961                          0                       0   \n",
       "\n",
       "        road_condition_1_loose material  road_condition_1_normal  \\\n",
       "97546                                 0                        1   \n",
       "76173                                 0                        1   \n",
       "80158                                 0                        1   \n",
       "116971                                0                        1   \n",
       "76961                                 0                        1   \n",
       "\n",
       "        road_condition_1_obstruction  road_condition_1_other  \\\n",
       "97546                              0                       0   \n",
       "76173                              0                       0   \n",
       "80158                              0                       0   \n",
       "116971                             0                       0   \n",
       "76961                              0                       0   \n",
       "\n",
       "        road_condition_1_reduced width  lighting_dark with street lights  \\\n",
       "97546                                0                                 0   \n",
       "76173                                0                                 0   \n",
       "80158                                0                                 0   \n",
       "116971                               0                                 0   \n",
       "76961                                0                                 0   \n",
       "\n",
       "        lighting_dark with street lights not functioning  lighting_daylight  \\\n",
       "97546                                                  0                  1   \n",
       "76173                                                  0                  0   \n",
       "80158                                                  0                  1   \n",
       "116971                                                 0                  1   \n",
       "76961                                                  0                  1   \n",
       "\n",
       "        lighting_dusk or dawn  control_device_none  \\\n",
       "97546                       0                    1   \n",
       "76173                       0                    1   \n",
       "80158                       0                    1   \n",
       "116971                      0                    1   \n",
       "76961                       0                    0   \n",
       "\n",
       "        control_device_not functioning  control_device_obscured  \\\n",
       "97546                                0                        0   \n",
       "76173                                0                        0   \n",
       "80158                                0                        0   \n",
       "116971                               0                        0   \n",
       "76961                                0                        0   \n",
       "\n",
       "        party_sobriety_had been drinking, not under influence  \\\n",
       "97546                                                   0       \n",
       "76173                                                   0       \n",
       "80158                                                   0       \n",
       "116971                                                  0       \n",
       "76961                                                   0       \n",
       "\n",
       "        party_sobriety_had been drinking, under influence  \\\n",
       "97546                                                   0   \n",
       "76173                                                   0   \n",
       "80158                                                   0   \n",
       "116971                                                  0   \n",
       "76961                                                   0   \n",
       "\n",
       "        party_sobriety_had not been drinking  \\\n",
       "97546                                      1   \n",
       "76173                                      1   \n",
       "80158                                      1   \n",
       "116971                                     1   \n",
       "76961                                      1   \n",
       "\n",
       "        party_sobriety_impairment unknown  party_sobriety_not applicable  \\\n",
       "97546                                   0                              0   \n",
       "76173                                   0                              0   \n",
       "80158                                   0                              0   \n",
       "116971                                  0                              0   \n",
       "76961                                   0                              0   \n",
       "\n",
       "        vehicle_type_hatchback  vehicle_type_minivan  vehicle_type_other  \\\n",
       "97546                        0                     0                   0   \n",
       "76173                        0                     0                   0   \n",
       "80158                        0                     0                   0   \n",
       "116971                       0                     0                   0   \n",
       "76961                        0                     0                   0   \n",
       "\n",
       "        vehicle_type_sedan  vehicle_transmission_manual  \n",
       "97546                    1                            1  \n",
       "76173                    1                            1  \n",
       "80158                    1                            1  \n",
       "116971                   1                            0  \n",
       "76961                    1                            0  "
      ]
     },
     "execution_count": 34,
     "metadata": {},
     "output_type": "execute_result"
    }
   ],
   "source": [
    "x_train.head()"
   ]
  },
  {
   "cell_type": "markdown",
   "metadata": {},
   "source": [
    "<b>Для построения моделей предсказаний данные подготовлены</b>"
   ]
  },
  {
   "cell_type": "markdown",
   "metadata": {},
   "source": [
    "## Находим лучшую модель. Используем классическое обучение и нейросети."
   ]
  },
  {
   "cell_type": "markdown",
   "metadata": {},
   "source": [
    "Задача классификации\n",
    "\n",
    "Так же подумаем сразу какой показатель классификации на важен - нам важно максимально верно предсказывать как 1 так и 0  - но все же 1 предсказать важнее, так как лучше перебдеть, чем недобдеть (но без фанатизма, что бы в итоге не найти вообще ни одного безопастного маршрута).\n",
    "\n",
    "<b>Оптимизацию моделей будем делать по полноте recall, так же посмотрим и на точность precision дабы понять кому и сколько мы не верно предложили изменить маршрут.\n",
    "\n",
    "ну и само собой посмотрим на F1 меру, ROC AUC и Accuracy"
   ]
  },
  {
   "cell_type": "markdown",
   "metadata": {},
   "source": [
    "### Работа с классическими моделями машинного обучения"
   ]
  },
  {
   "cell_type": "markdown",
   "metadata": {},
   "source": [
    "#### Логистическая регрессия"
   ]
  },
  {
   "cell_type": "code",
   "execution_count": null,
   "metadata": {},
   "outputs": [],
   "source": [
    "%%time\n",
    "model_log = LogisticRegression(random_state=12345)\n",
    "# инициализируйте модель логистической регрессии с параметром random_state=12345\n",
    "model_log.fit(x_train, y_train) # обучите модель на тренировочной выборке\n",
    "predictions1 = model_log.predict(x_valid)\n",
    "F1_log = f1_score(y_valid, predictions1) # получите метрику качества модели на валидационной выборке\n",
    "probabilities_valid = model_log.predict_proba(x_valid)\n",
    "probabilities_one_valid = probabilities_valid[:, 1]\n",
    "roc_auc_log = roc_auc_score(y_valid, probabilities_one_valid)\n",
    "rec_log = recall_score(y_valid, predictions1)\n",
    "prec_log = precision_score(y_valid, predictions1)                       \n",
    "\n",
    "print(\"F1-мера модели :\", F1_log)\n",
    "print(\"roc_auc модели\", roc_auc_log)\n",
    "print(\"Accuracy модели:\", model_log.score(x_valid, y_valid))\n",
    "print(\"Полнота модели:\", rec_log) # сколько единиц мы верно предсказали?\n",
    "print(\"Точность модели:\", prec_log) # сколько нулей мы верно предсказали?"
   ]
  },
  {
   "cell_type": "markdown",
   "metadata": {},
   "source": [
    "#### Модель решающего дерева:"
   ]
  },
  {
   "cell_type": "code",
   "execution_count": null,
   "metadata": {
    "scrolled": true
   },
   "outputs": [],
   "source": [
    "%%time\n",
    "best_model_tree = None\n",
    "rec_tree = 0\n",
    "roc_auc_tree = 0\n",
    "best_depth = 0\n",
    "f1_tree = 0\n",
    "prec_tree = 0\n",
    "for depth in range(1, 20):\n",
    "    model_tree = DecisionTreeClassifier(random_state=12345, max_depth=depth) # обучите модель с заданной глубиной дерева\n",
    "    model_tree.fit(x_train, y_train) # обучите модель\n",
    "    predictions = model_tree.predict(x_valid) # получите предсказания модели\n",
    "    f1_1 = f1_score(y_valid, predictions) # посчитайте качество модели\n",
    "    probabilities_valid = model_tree.predict_proba(x_valid)\n",
    "    probabilities_one_valid = probabilities_valid[:, 1]\n",
    "    auc_roc = roc_auc_score(y_valid, probabilities_one_valid)\n",
    "    result = recall_score(y_valid, predictions)\n",
    "    precision = precision_score(y_valid, predictions)\n",
    "    if result > rec_tree:\n",
    "        best_model_tree = model_tree # сохраните наилучшую модель\n",
    "        rec_tree = result\n",
    "        roc_auc_tree = auc_roc\n",
    "        best_depth = depth\n",
    "        f1_tree = f1_1\n",
    "        prec_tree  = precision\n",
    "print(\"Наилучшая depth:\", best_depth)\n",
    "print(\"F1-мера :\", f1_tree)\n",
    "print(\"roc_auc \", roc_auc_tree)\n",
    "print(\"Accuracy модели:\", best_model_tree.score(x_valid, y_valid))\n",
    "print(\"Полнота модели:\", rec_tree) # сколько единиц мы верно предсказали?\n",
    "print(\"Точность модели:\", prec_tree) # сколько нулей мы верно предсказали?"
   ]
  },
  {
   "cell_type": "markdown",
   "metadata": {},
   "source": [
    "#### Модель случайного леса"
   ]
  },
  {
   "cell_type": "code",
   "execution_count": null,
   "metadata": {},
   "outputs": [],
   "source": [
    "%%time\n",
    "best_model_forest = None\n",
    "rec_forest = 0\n",
    "best_est = 0\n",
    "roc_auc_forest = 0\n",
    "best_depth = 0\n",
    "f1_forest = 0\n",
    "prec_tree = 0\n",
    "for est in range(1, 50):\n",
    "    for depth in range(1, 10):\n",
    "        model_forest = RandomForestClassifier(random_state=12345, n_estimators=est, max_depth=depth)\n",
    "        # обучите модель с заданным количеством деревьев И ГЛУБИНЫ ДЕРЕВЬЕВ\n",
    "        model_forest.fit(x_train, y_train) # обучите модель на тренировочной выборке\n",
    "        predictions = model_forest.predict(x_valid)\n",
    "        f1_1 = f1_score(y_valid, predictions) # посчитайте качество модели на валидационной выборке\n",
    "        probabilities_valid = model_forest.predict_proba(x_valid)\n",
    "        probabilities_one_valid = probabilities_valid[:, 1]\n",
    "        auc_roc = roc_auc_score(y_valid, probabilities_one_valid)\n",
    "        result = recall_score(y_valid, predictions)\n",
    "        precision = precision_score(y_valid, predictions)\n",
    "        \n",
    "        if result > roc_auc_forest:\n",
    "            best_model_forest = model_forest# сохраните наилучшую модель\n",
    "            rec_forest = result#  сохраните наилучшее значение метрики F1 на валидационных данных\n",
    "            best_est = est\n",
    "            roc_auc_forest = auc_roc\n",
    "            best_depth = depth\n",
    "            f1_forest = f1_1\n",
    "            prec_tree  = precision\n",
    "print(\"Наилучшая n_estimators:\", best_est)\n",
    "print(\"Наилучшая depth:\", best_depth)\n",
    "print(\"F1-мера \", f1_forest)\n",
    "print(\"roc_auc\", roc_auc_forest)\n",
    "print(\"Accuracy модели:\",best_model_forest.score(x_valid, y_valid))\n",
    "print(\"Полнота модели:\", rec_forest) # сколько единиц мы верно предсказали?\n",
    "print(\"Точность модели:\", prec_tree) # сколько нулей мы верно предсказали?"
   ]
  },
  {
   "cell_type": "markdown",
   "metadata": {},
   "source": [
    "\n",
    "<div class=\"alert alert-block alert-warning\"; style=\"border-left: 6px solid orange\">\n",
    "<b>Рекомендация ⚠️</b>\n",
    "       \n",
    "А зачем усложнять себе жизнь при подборе гиперпараметров для деревьев?)  \n",
    "    \n",
    "Можно же применить какой-нибудь из оптимизаторов! Я думаю ты с ними уже работал, а если нет, то оставляю ссылочку)  \n",
    "    \n",
    "Ссылка: https://habr.com/ru/company/antiplagiat/blog/528384/\n",
    "    \n",
    "</div>\n"
   ]
  },
  {
   "cell_type": "markdown",
   "metadata": {},
   "source": [
    "\n",
    "<div class=\"alert alert-block alert-warning\"; style=\"border-left: 6px solid orange\">\n",
    "<b>Рекомендация ⚠️</b>\n",
    "       \n",
    "Я уже упоминал, что OHE кодирование не подходит для деревьев и бустингов, так вот без масштабирования эти модели тоже обычно лучше работают, они в нем не нуждаются)\n",
    "    \n",
    "</div>\n"
   ]
  },
  {
   "cell_type": "markdown",
   "metadata": {},
   "source": [
    "#### Модель CatBoost"
   ]
  },
  {
   "cell_type": "code",
   "execution_count": null,
   "metadata": {},
   "outputs": [],
   "source": [
    "from catboost import CatBoostClassifier\n",
    "from sklearn.metrics import plot_confusion_matrix\n",
    "from sklearn.metrics import classification_report\n",
    "\n",
    "cc = CatBoostClassifier(silent=True, thread_count = -1)\n",
    "model12=cc.fit(x_train, y_train)\n",
    "\n",
    "predictions = model12.predict(x_valid)\n",
    "\n",
    "ccpred = cc.predict(x_valid)\n",
    "probabilities_valid_сс = model12.predict_proba(x_valid)\n",
    "probabilities_one_valid_сс = probabilities_valid_сс[:, 1]\n",
    "roc_auc_cat = roc_auc_score(y_valid, probabilities_one_valid_сс)\n",
    "rec_cat = recall_score(y_valid, predictions)\n",
    "prec_cat = precision_score(y_valid, predictions)                            \n",
    "\n",
    "print('ROC AUC:', roc_auc_cat)\n",
    "print('Полнота:', rec_cat)\n",
    "print('Точность:', prec_cat)\n",
    "\n",
    "print(\"\\n\")\n",
    "print(\"confusion matrix for CAT BOOST\")\n",
    "displr = plot_confusion_matrix(cc, x_valid, y_valid,cmap=plt.cm.OrRd , values_format='d')"
   ]
  },
  {
   "cell_type": "markdown",
   "metadata": {},
   "source": [
    "<div class=\"alert alert-block alert-success\"; style=\"border-left: 6px solid green\">\n",
    "<b>Успех ✔️</b>\n",
    "       \n",
    "Матрица ошибок есть, все под контролем!\n",
    "    \n",
    "</div>\n"
   ]
  },
  {
   "cell_type": "markdown",
   "metadata": {},
   "source": [
    "#### <b> Промежуточный Вывод:</b> \n",
    "\n",
    "Модели явно считают очень плохо целевые 1, но хорошо 0 - видимо это происходит из дисбалланса тренировочной выборки в сторону нуля,\n",
    "\n",
    "Попробуем изменить балланс классов на тренировочной и валидационной выборке - повысим количество 1 в целевом признаке, тестировать же будем на x_test с баллансом классов пришедшем из самих данных.\n",
    "\n",
    "Но из этих моделей выберем логистичекую регрессию, случайный лес и  CAT BOOST модель, для следующего расчета"
   ]
  },
  {
   "cell_type": "markdown",
   "metadata": {},
   "source": [
    "#### Изменим балланс классов обучающей и валидационной выборки, тестовую выборку оставим  как есть"
   ]
  },
  {
   "cell_type": "code",
   "execution_count": 36,
   "metadata": {},
   "outputs": [],
   "source": [
    "from sklearn.utils import shuffle"
   ]
  },
  {
   "cell_type": "code",
   "execution_count": 37,
   "metadata": {},
   "outputs": [],
   "source": [
    "def downsample(features, target, fraction):\n",
    "    features_zeros = features[target == 0]\n",
    "    features_ones = features[target == 1]\n",
    "    target_zeros = target[target == 0]\n",
    "    target_ones = target[target == 1]\n",
    "\n",
    "    features_downsampled = pd.concat(\n",
    "        [features_zeros.sample(frac=fraction, random_state=12345)] + [features_ones])\n",
    "    target_downsampled = pd.concat(\n",
    "        [target_zeros.sample(frac=fraction, random_state=12345)] + [target_ones])\n",
    "    \n",
    "    features_downsampled, target_downsampled = shuffle(\n",
    "        features_downsampled, target_downsampled, random_state=12347)\n",
    "    \n",
    "    return features_downsampled, target_downsampled"
   ]
  },
  {
   "cell_type": "markdown",
   "metadata": {},
   "source": [
    "\n",
    "<div class=\"alert alert-block alert-warning\"; style=\"border-left: 6px solid orange\">\n",
    "<b>Рекомендация ⚠️</b>\n",
    "       \n",
    "Рискну предположить, что сделать балансировку внутри модели было бы чуть эффективнее)\n",
    "    \n",
    "</div>\n"
   ]
  },
  {
   "cell_type": "markdown",
   "metadata": {},
   "source": [
    "<div class=\"alert alert-block alert-info\">\n",
    "<b>Комментарий студента:</b> Да я думал, что пробежатся по баллансу классов прямо в модели и сделать его как бы поисковым параметром, но тут есть момент что мы фактически не можем взять показателем только ROC AUC но и нужно смотреть полноту и точность. и балланс между ними, а вот этот самый балланс это только ручками перебирать и смотреть на результат моделей - искать максимальный рок аук но при этом разумное предсказание 0 - хотябы 50\\50 и при этом максимальную полноту.</div>"
   ]
  },
  {
   "cell_type": "code",
   "execution_count": null,
   "metadata": {},
   "outputs": [],
   "source": []
  },
  {
   "cell_type": "code",
   "execution_count": 38,
   "metadata": {},
   "outputs": [],
   "source": [
    "x_temp, x_test1, y_temp, y_test1 = train_test_split(x, y, stratify=y,\n",
    "                                                    test_size=0.20, shuffle=True, random_state=12345)"
   ]
  },
  {
   "cell_type": "code",
   "execution_count": 39,
   "metadata": {},
   "outputs": [],
   "source": [
    "features_down, target_down = downsample(x_temp, y_temp, 0.7)"
   ]
  },
  {
   "cell_type": "code",
   "execution_count": 40,
   "metadata": {},
   "outputs": [
    {
     "data": {
      "text/plain": [
       "1    0.55014\n",
       "0    0.44986\n",
       "Name: at_fault, dtype: float64"
      ]
     },
     "execution_count": 40,
     "metadata": {},
     "output_type": "execute_result"
    }
   ],
   "source": [
    "target_down.value_counts(normalize=True)"
   ]
  },
  {
   "cell_type": "markdown",
   "metadata": {},
   "source": [
    "окей увеличили количество целевого признака 1"
   ]
  },
  {
   "cell_type": "code",
   "execution_count": 41,
   "metadata": {},
   "outputs": [],
   "source": [
    "features_train_down, features_valid_down1, target_train_down, target_valid_down1 = train_test_split(features_down,\n",
    "                                                              target_down, stratify=target_down,\n",
    "                                                              test_size=0.3, shuffle=True, random_state=12345)"
   ]
  },
  {
   "cell_type": "code",
   "execution_count": null,
   "metadata": {},
   "outputs": [],
   "source": []
  },
  {
   "cell_type": "markdown",
   "metadata": {},
   "source": [
    "#### Логистическая регрессия на сбалансированных данных"
   ]
  },
  {
   "cell_type": "code",
   "execution_count": null,
   "metadata": {},
   "outputs": [],
   "source": [
    "%%time\n",
    "model_log = LogisticRegression(random_state=12345, n_jobs= -1)\n",
    "# инициализируйте модель логистической регрессии с параметром random_state=12345\n",
    "model_log.fit(features_train_down, target_train_down) # обучите модель на тренировочной выборке\n",
    "predictions1 = model_log.predict(features_valid_down1)\n",
    "F1_log = f1_score(target_valid_down1, predictions1) # получите метрику качества модели на валидационной выборке\n",
    "probabilities_valid = model_log.predict_proba(features_valid_down1)\n",
    "probabilities_one_valid = probabilities_valid[:, 1]\n",
    "roc_auc_log = roc_auc_score(target_valid_down1, probabilities_one_valid)\n",
    "rec_log = recall_score(target_valid_down1, predictions1)\n",
    "prec_log = precision_score(target_valid_down1, predictions1)                       \n",
    "\n",
    "print(\"F1-мера модели :\", F1_log)\n",
    "print(\"roc_auc модели\", roc_auc_log)\n",
    "print(\"Accuracy модели:\", model_log.score(features_valid_down1, target_valid_down1))\n",
    "print(\"Полнота модели:\", rec_log) # сколько единиц мы верно предсказали?\n",
    "print(\"Точность модели:\", prec_log) # сколько нулей мы верно предсказали?\n",
    "\n",
    "print(\"\\n\")\n",
    "print(\"confusion matrix LogisticRegression\")\n",
    "displr = plot_confusion_matrix(model_log, features_valid_down1, target_valid_down1,\n",
    "                               cmap=plt.cm.OrRd , values_format='d')"
   ]
  },
  {
   "cell_type": "markdown",
   "metadata": {},
   "source": [
    "ROC_AUC хуже чем у катбуста до балансирования выборок, но полнота стала лучше"
   ]
  },
  {
   "cell_type": "markdown",
   "metadata": {},
   "source": [
    "#### Случайный лес на сбалансированных данных"
   ]
  },
  {
   "cell_type": "code",
   "execution_count": null,
   "metadata": {},
   "outputs": [],
   "source": [
    "%%time\n",
    "best_model_forest = None\n",
    "rec_forest = 0\n",
    "best_est = 0\n",
    "roc_auc_forest = 0\n",
    "best_depth = 0\n",
    "f1_forest = 0\n",
    "prec_tree = 0\n",
    "for est in range(95, 110):\n",
    "    for depth in range(1, 10):\n",
    "        model_forest = RandomForestClassifier(random_state=12345, n_estimators=est, max_depth=depth, n_jobs= -1)\n",
    "        # обучите модель с заданным количеством деревьев И ГЛУБИНЫ ДЕРЕВЬЕВ\n",
    "        model_forest.fit(features_train_down, target_train_down) # обучите модель на тренировочной выборке\n",
    "        predictions = model_forest.predict(features_valid_down1)\n",
    "        f1_1 = f1_score(target_valid_down1, predictions) # посчитайте качество модели на валидационной выборке\n",
    "        probabilities_valid = model_forest.predict_proba(features_valid_down1)\n",
    "        probabilities_one_valid = probabilities_valid[:, 1]\n",
    "        auc_roc = roc_auc_score(target_valid_down1, probabilities_one_valid)\n",
    "        result = recall_score(target_valid_down1, predictions)\n",
    "        precision = precision_score(target_valid_down1, predictions)\n",
    "        \n",
    "        if result > roc_auc_forest:\n",
    "            best_model_forest = model_forest# сохраните наилучшую модель\n",
    "            rec_forest = result#  сохраните наилучшее значение метрики F1 на валидационных данных\n",
    "            best_est = est\n",
    "            roc_auc_forest = auc_roc\n",
    "            best_depth = depth\n",
    "            f1_forest = f1_1\n",
    "            prec_tree  = precision\n",
    "print(\"Наилучшая n_estimators:\", best_est)\n",
    "print(\"Наилучшая depth:\", best_depth)\n",
    "print(\"F1-мера \", f1_forest)\n",
    "print(\"roc_auc\", roc_auc_forest)\n",
    "print(\"Accuracy модели:\",best_model_forest.score(features_valid_down1, target_valid_down1))\n",
    "print(\"Полнота модели:\", rec_forest) # сколько единиц мы верно предсказали?\n",
    "print(\"Точность модели:\", prec_tree) # сколько нулей мы верно предсказали?\n",
    "print(\"\\n\")\n",
    "print(\"confusion matrix RandomForest\")\n",
    "displr = plot_confusion_matrix(best_model_forest, features_valid_down1, target_valid_down1,cmap=plt.cm.OrRd , values_format='d')"
   ]
  },
  {
   "cell_type": "markdown",
   "metadata": {},
   "source": []
  },
  {
   "cell_type": "markdown",
   "metadata": {},
   "source": [
    "#### CAT BOOST модель на выборках с баллансом классов, параметры по умолчанию"
   ]
  },
  {
   "cell_type": "code",
   "execution_count": null,
   "metadata": {},
   "outputs": [],
   "source": [
    "%%time\n",
    "cc = CatBoostClassifier(silent=True, thread_count = -1)\n",
    "model12=cc.fit(features_train_down, target_train_down)\n",
    "\n",
    "\n",
    "predictions = model12.predict(features_valid_down1)\n",
    "\n",
    "probabilities_valid_сс = model12.predict_proba(features_valid_down1)\n",
    "probabilities_one_valid_сс = probabilities_valid_сс[:, 1]\n",
    "roc_auc_cat = roc_auc_score(target_valid_down1, probabilities_one_valid_сс)\n",
    "rec_cat = recall_score(target_valid_down1, predictions)\n",
    "prec_cat = precision_score(target_valid_down1, predictions)  \n",
    "f1_cat = f1_score(target_valid_down1, predictions)\n",
    "\n",
    "print('F1 мера', f1_cat)\n",
    "print('ROC AUC:', roc_auc_cat)\n",
    "print('Полнота:', rec_cat)\n",
    "print('Точность:', prec_cat)\n",
    "\n",
    "print(\"\\n\")\n",
    "print(\"confusion matrix for CAT BOOST\")\n",
    "displr = plot_confusion_matrix(cc, features_valid_down1, target_valid_down1,cmap=plt.cm.OrRd , values_format='d')"
   ]
  },
  {
   "cell_type": "markdown",
   "metadata": {},
   "source": [
    "Вот теперь количество важных единичек побольше, при этом нули предсказываем 60\\40. И ROС AUC повысился."
   ]
  },
  {
   "cell_type": "markdown",
   "metadata": {},
   "source": [
    "хуже предсказывает 1 зато лучше 0"
   ]
  },
  {
   "cell_type": "markdown",
   "metadata": {},
   "source": [
    "#### Сделаем GridSearchCV для Модели CAT BOOST\n"
   ]
  },
  {
   "cell_type": "code",
   "execution_count": null,
   "metadata": {},
   "outputs": [],
   "source": [
    "from sklearn.model_selection import GridSearchCV"
   ]
  },
  {
   "cell_type": "code",
   "execution_count": null,
   "metadata": {},
   "outputs": [],
   "source": [
    "parameters = {\n",
    "    'iterations':[50, 90, 120],\n",
    "    'depth':[2, 3, 4],\n",
    "    'learning_rate':[0.2, 0.3, 0.4]    \n",
    "}"
   ]
  },
  {
   "cell_type": "code",
   "execution_count": null,
   "metadata": {},
   "outputs": [],
   "source": [
    "%%time\n",
    "cc = CatBoostClassifier(silent=True, thread_count = -1)\n",
    "clf = GridSearchCV(cc, parameters, scoring = 'roc_auc', cv = 10, n_jobs=-1)\n",
    "clf.fit(features_train_down, target_train_down)\n"
   ]
  },
  {
   "cell_type": "code",
   "execution_count": null,
   "metadata": {},
   "outputs": [],
   "source": [
    "clf.best_score_"
   ]
  },
  {
   "cell_type": "code",
   "execution_count": null,
   "metadata": {},
   "outputs": [],
   "source": [
    "clf.best_params_"
   ]
  },
  {
   "cell_type": "markdown",
   "metadata": {},
   "source": [
    "Мда поиск параметров дал хуже результат, чем с параметрами по умолчанию"
   ]
  },
  {
   "cell_type": "code",
   "execution_count": null,
   "metadata": {},
   "outputs": [],
   "source": [
    "%%time\n",
    "cc = CatBoostClassifier(silent=True, thread_count = -1, iterations=90, depth=3, learning_rate=0.2)\n",
    "model12=cc.fit(features_train_down, target_train_down)\n",
    "\n",
    "\n",
    "predictions = model12.predict(features_valid_down1)\n",
    "\n",
    "probabilities_valid_сс = model12.predict_proba(features_valid_down1)\n",
    "probabilities_one_valid_сс = probabilities_valid_сс[:, 1]\n",
    "roc_auc_cat = roc_auc_score(target_valid_down1, probabilities_one_valid_сс)\n",
    "rec_cat = recall_score(target_valid_down1, predictions)\n",
    "prec_cat = precision_score(target_valid_down1, predictions)  \n",
    "f1_cat = f1_score(target_valid_down1, predictions)\n",
    "\n",
    "print('F1 мера', f1_cat)\n",
    "print('ROC AUC:', roc_auc_cat)\n",
    "print('Полнота:', rec_cat)\n",
    "print('Точность:', prec_cat)\n",
    "\n",
    "print(\"\\n\")\n",
    "print(\"confusion matrix for CAT BOOST\")\n",
    "displr = plot_confusion_matrix(cc, features_valid_down1, target_valid_down1,cmap=plt.cm.OrRd , values_format='d')"
   ]
  },
  {
   "cell_type": "code",
   "execution_count": null,
   "metadata": {},
   "outputs": [],
   "source": []
  },
  {
   "cell_type": "markdown",
   "metadata": {},
   "source": [
    "### <b>Вывод в виде таблицы"
   ]
  },
  {
   "cell_type": "code",
   "execution_count": null,
   "metadata": {},
   "outputs": [],
   "source": [
    "compare = pd.DataFrame(data=[['ROC_AUC', roc_auc_log, roc_auc_forest, roc_auc_cat],\n",
    "                            ['Recall', rec_log, rec_forest, rec_cat],\n",
    "                            ['Precisiont', prec_log, prec_tree, prec_cat],\n",
    "                            ['F1 мера', F1_log, f1_forest, f1_cat]],\n",
    "                   columns=['Параметр','Логистическая регрессия', 'Случайный лес', 'CatBoost'])\n",
    "display(compare)"
   ]
  },
  {
   "cell_type": "markdown",
   "metadata": {},
   "source": [
    "Как видно из таблицы лучшая модели могут быть следующими:\n",
    "\n",
    "*модель CatBoost c параметрами: {'depth': 3, 'iterations': 90, 'learning_rate': 0.2}\n",
    "\n",
    "*модель случайного леса с параметрами: Наилучшая n_estimators: 109  Наилучшая depth: 9\n",
    "\n",
    "на тестовой выборке проверим обе модели\n"
   ]
  },
  {
   "cell_type": "markdown",
   "metadata": {},
   "source": [
    "<div class=\"alert alert-block alert-success\"; style=\"border-left: 6px solid green\">\n",
    "<b>Успех ✔️</b>\n",
    "       \n",
    "И снова согласен с тобой! CatBoost неплох, выглядит сбалансировано, случайный лес не отстает так еще и recall хороший показывает, проверим!\n",
    "    \n",
    "</div>\n"
   ]
  },
  {
   "cell_type": "markdown",
   "metadata": {},
   "source": [
    "## Посмотрим на работу лучших моделей на тестовой выборке"
   ]
  },
  {
   "cell_type": "markdown",
   "metadata": {},
   "source": [
    "### Лучшая модель случайного леса"
   ]
  },
  {
   "cell_type": "code",
   "execution_count": null,
   "metadata": {},
   "outputs": [],
   "source": [
    "predictions = best_model_forest.predict(x_test1)\n",
    "rec_forest = recall_score(y_test1, predictions)\n",
    "print(\"Полнота модели:\", rec_forest)"
   ]
  },
  {
   "cell_type": "code",
   "execution_count": null,
   "metadata": {},
   "outputs": [],
   "source": [
    "prec_forest = precision_score(y_test1, predictions)\n",
    "print(\"Точность модели:\", prec_forest)"
   ]
  },
  {
   "cell_type": "code",
   "execution_count": null,
   "metadata": {},
   "outputs": [],
   "source": [
    "f1_forest = f1_score(y_test1, predictions)\n",
    "probabilities_test = best_model_forest.predict_proba(x_test1)\n",
    "probabilities_one_test = probabilities_test[:, 1]\n",
    "auc_roc_for = roc_auc_score(y_test1, probabilities_one_test)\n",
    "print('ROC AUC:', auc_roc_for, 'F1 мера:', f1_forest)"
   ]
  },
  {
   "cell_type": "code",
   "execution_count": null,
   "metadata": {},
   "outputs": [],
   "source": [
    "displr = plot_confusion_matrix(best_model_forest, x_test1, y_test1,cmap=plt.cm.OrRd , values_format='d')"
   ]
  },
  {
   "cell_type": "markdown",
   "metadata": {},
   "source": [
    "Тут явно перебор с ошибочными нулями, зато  предсказано гораздо больше 1"
   ]
  },
  {
   "cell_type": "markdown",
   "metadata": {},
   "source": [
    "### Лучшая модель CatBoost"
   ]
  },
  {
   "cell_type": "code",
   "execution_count": null,
   "metadata": {},
   "outputs": [],
   "source": [
    "predictions = model12.predict(x_test1)\n",
    "rec_cat = recall_score(y_test1, predictions)\n",
    "print(\"Полнота модели:\", rec_cat)"
   ]
  },
  {
   "cell_type": "code",
   "execution_count": null,
   "metadata": {},
   "outputs": [],
   "source": [
    "prec_cat = precision_score(y_test1, predictions)\n",
    "print(\"Точность модели:\", prec_cat)"
   ]
  },
  {
   "cell_type": "code",
   "execution_count": null,
   "metadata": {},
   "outputs": [],
   "source": [
    "f1_cat = f1_score(y_test1, predictions)\n",
    "probabilities_test = model12.predict_proba(x_test1)\n",
    "probabilities_one_test = probabilities_test[:, 1]\n",
    "auc_roc_cat = roc_auc_score(y_test1, probabilities_one_test)\n",
    "print('ROC AUC:', auc_roc_cat, 'F1 мера:', f1_cat)"
   ]
  },
  {
   "cell_type": "code",
   "execution_count": null,
   "metadata": {},
   "outputs": [],
   "source": [
    "displr = plot_confusion_matrix(model12, x_test1, y_test1,cmap=plt.cm.OrRd , values_format='d')"
   ]
  },
  {
   "cell_type": "markdown",
   "metadata": {},
   "source": [
    "Здесь вроде бы более сбалансировано предсказаны нули, но и 1 вполне хорошо предсказаны."
   ]
  },
  {
   "cell_type": "markdown",
   "metadata": {},
   "source": [
    "### <b>Вывод в виде таблицы"
   ]
  },
  {
   "cell_type": "code",
   "execution_count": null,
   "metadata": {},
   "outputs": [],
   "source": [
    "compare = pd.DataFrame(data=[['ROC_AUC', roc_auc_forest, roc_auc_cat],\n",
    "                            ['Recall', rec_forest, rec_cat],\n",
    "                            ['Precisiont', prec_tree, prec_cat],\n",
    "                            ['F1 мера', f1_forest, f1_cat]],\n",
    "                   columns=['Параметр', 'Случайный лес', 'CatBoost'])\n",
    "display(compare)"
   ]
  },
  {
   "cell_type": "markdown",
   "metadata": {},
   "source": [
    "Можно конечно повысить полноту за счет увеличения в тренировочной выборке целей 1, но тогда начнем еще хуже предсказывать цели 0"
   ]
  },
  {
   "cell_type": "markdown",
   "metadata": {},
   "source": [
    "в процессе продакшена приложения скорее всего понадобится искать баланс между надежностью предсказаний возможности аварии и адекватной частотой предложений других маршрутов."
   ]
  },
  {
   "cell_type": "markdown",
   "metadata": {},
   "source": [
    "Вообще сама суть данных весьма случайна, вполне себе вероятно, что есть много похожих данных у которых целевой показатель 1 и 0 встречаются одинаково часто - один человек виновник, второй не виновен - они в одной и той же локации, на одноим и том же перекрестке, в одно и то же время, на одинаковых авто, просто им не повезло - один из них отвлекся на пролетающую птичку.\n",
    "\n",
    "Пожалуй есть только один очень влияющий показатель на вероятности аварии, в том числе и с тяжелыми последствиями, если человек пьян или трезв."
   ]
  },
  {
   "cell_type": "markdown",
   "metadata": {},
   "source": [
    "<div class=\"alert alert-block alert-success\"; style=\"border-left: 6px solid green\">\n",
    "<b>Успех ✔️</b>\n",
    "       \n",
    "Очень нравится твой вывод! В самом деле, факторов может быть куча и люди могут быть как в равной степени виновны, так и не виновны. Неизменным остается одно, надо более ответственно подходить к состоянию водителей за рулем! Возможно в процессе решения похожей задачки ML инженеры сели и поняли, что пора создавать автопилот!)\n",
    "    \n",
    "</div>\n"
   ]
  },
  {
   "cell_type": "markdown",
   "metadata": {},
   "source": [
    "## Общие выводы:"
   ]
  },
  {
   "cell_type": "markdown",
   "metadata": {},
   "source": [
    "1) Отсутствие громкой связи в автомобиле поднимает риск аварии на 0,26 % с учетом миллионов случаев аварий, эти проценты исчисляются тысячами случаев. Необходимо во всех новых автомобилях обеспечить наличие громкой связи или поднять страховые взносы для тех у кого отсутствует."
   ]
  },
  {
   "cell_type": "markdown",
   "metadata": {},
   "source": [
    "2) Наиболее частая причина тяжелых аварий - это состояние водителя под алкоголем или под влияние других веществ. Необходимо установить алкотестер в авто и камеру для идентификации проверяемого."
   ]
  },
  {
   "cell_type": "markdown",
   "metadata": {},
   "source": [
    "3) Наиболее частая причина аварий вообще  - это превышение скорости - необходимо в авто устанавливать прибор знающий скоростной режим в конкретном месте дороги и ограничивающий скорость"
   ]
  },
  {
   "cell_type": "markdown",
   "metadata": {},
   "source": [
    "4) вторая по значимости причина - перекресток - неверный поворот - здесь сложнее - нужен круговой контроль ситуации вокруг авто"
   ]
  },
  {
   "cell_type": "markdown",
   "metadata": {},
   "source": [
    "5) По предложенным данным можно установить степень опастность той или иной локации - то есть присвоить некие баллы аварийности маршрута, но так же не забывать о времени движения по маршруту - находит некий компромис."
   ]
  },
  {
   "cell_type": "markdown",
   "metadata": {},
   "source": [
    "6) Модели явно не блестяще предсказывают аварии, и фактически предсказания зависят от баланса классов в тренеровочной выборке.\n",
    "\n",
    "Объясняется это тем, что в большинстве случаев показатели признаков таблиц похожи, а вот целевой признак виновности может быть 1 и 0.  Поэтому нужно еще вводить показатель личности водителя - история его поездок, манера вождения, история аварий или конфликтов, наличие заболеваний, возраст, зрение и другое."
   ]
  },
  {
   "cell_type": "markdown",
   "metadata": {},
   "source": [
    "7) Поэтому в этот набор данных нужно добавлять еще одну таблицу - личности водителей."
   ]
  },
  {
   "cell_type": "markdown",
   "metadata": {},
   "source": [
    "<b>ВОПРОС : пытался построить нейросеть классификации, по сбалансированным данным - менял разные параметры сети и не смог получить адекватные показатели качества.\n",
    "в чем может быть проблема? эта задача вообще может быть решена нейросетью или высокая степень спутанности/неопределенности данных не дает это сделать?"
   ]
  },
  {
   "cell_type": "markdown",
   "metadata": {},
   "source": [
    "\n",
    "<div class=\"alert alert-block alert-warning\"; style=\"border-left: 6px solid orange\">\n",
    "<b>Рекомендация ⚠️</b>\n",
    "       \n",
    "А можешь оставить тут код? Без него тяжеловато что-то комментировать)\n",
    "    \n",
    "</div>\n"
   ]
  },
  {
   "cell_type": "markdown",
   "metadata": {},
   "source": [
    "###  Комментарий студента:\n",
    "<div class=\"alert alert-block alert-info\">\n",
    "<b>Комментарий студента:</b> Ниже код по нейросети, аккуранси в расчета 0,46 - 0,53 прыгает примерно - в предсказаниях все ВОКРУГ 0,5 прыгает хаотично. Никакие изменения функций активации, ленинг рейта, количества батчей и эпох не помогают. Поэтому и представил, что есть много строк с одинаковыми признаками, но целевой 0 или 1 и неросеть каждый раз в шоке от этого )))). И если в классике я это контролирую баллансом классов, то в нейросети не пойму что можно контролировть что бы она в рекурсию не уходила - подумал может дроп аут поможет но его так же вводил и результат тот же.</div>"
   ]
  },
  {
   "cell_type": "code",
   "execution_count": null,
   "metadata": {},
   "outputs": [],
   "source": [
    "X_train = torch.FloatTensor(features_train_down.values)\n",
    "X_test = torch.FloatTensor(x_test.values)\n",
    "y_train = torch.FloatTensor(target_train_down.values)\n",
    "y_test = torch.FloatTensor(y_test.values)"
   ]
  },
  {
   "cell_type": "code",
   "execution_count": 52,
   "metadata": {},
   "outputs": [
    {
     "name": "stdout",
     "output_type": "stream",
     "text": [
      "tensor(0.5253)\n",
      "tensor(0.5275)\n",
      "tensor(0.4821)\n",
      "tensor(0.5220)\n",
      "tensor(0.5178)\n",
      "tensor(0.5145)\n",
      "tensor(0.5131)\n"
     ]
    },
    {
     "ename": "KeyboardInterrupt",
     "evalue": "",
     "output_type": "error",
     "traceback": [
      "\u001b[1;31m---------------------------------------------------------------------------\u001b[0m",
      "\u001b[1;31mKeyboardInterrupt\u001b[0m                         Traceback (most recent call last)",
      "Input \u001b[1;32mIn [52]\u001b[0m, in \u001b[0;36m<cell line: 32>\u001b[1;34m()\u001b[0m\n\u001b[0;32m     42\u001b[0m \tpreds \u001b[38;5;241m=\u001b[39m net\u001b[38;5;241m.\u001b[39mforward(X_batch)\u001b[38;5;241m.\u001b[39mflatten()\n\u001b[0;32m     44\u001b[0m \tloss_value \u001b[38;5;241m=\u001b[39m loss(preds, y_batch)\n\u001b[1;32m---> 46\u001b[0m \t\u001b[43mloss_value\u001b[49m\u001b[38;5;241;43m.\u001b[39;49m\u001b[43mbackward\u001b[49m\u001b[43m(\u001b[49m\u001b[43m)\u001b[49m\n\u001b[0;32m     48\u001b[0m \toptimizer\u001b[38;5;241m.\u001b[39mstep()\n\u001b[0;32m     50\u001b[0m \u001b[38;5;28;01mif\u001b[39;00m epoch \u001b[38;5;241m%\u001b[39m \u001b[38;5;241m10\u001b[39m \u001b[38;5;241m==\u001b[39m \u001b[38;5;241m0\u001b[39m \u001b[38;5;129;01mor\u001b[39;00m epoch \u001b[38;5;241m==\u001b[39m num_epochs \u001b[38;5;241m-\u001b[39m \u001b[38;5;241m1\u001b[39m:\n",
      "File \u001b[1;32m~\\.conda\\envs\\notebook\\lib\\site-packages\\torch\\_tensor.py:396\u001b[0m, in \u001b[0;36mTensor.backward\u001b[1;34m(self, gradient, retain_graph, create_graph, inputs)\u001b[0m\n\u001b[0;32m    387\u001b[0m \u001b[38;5;28;01mif\u001b[39;00m has_torch_function_unary(\u001b[38;5;28mself\u001b[39m):\n\u001b[0;32m    388\u001b[0m     \u001b[38;5;28;01mreturn\u001b[39;00m handle_torch_function(\n\u001b[0;32m    389\u001b[0m         Tensor\u001b[38;5;241m.\u001b[39mbackward,\n\u001b[0;32m    390\u001b[0m         (\u001b[38;5;28mself\u001b[39m,),\n\u001b[1;32m   (...)\u001b[0m\n\u001b[0;32m    394\u001b[0m         create_graph\u001b[38;5;241m=\u001b[39mcreate_graph,\n\u001b[0;32m    395\u001b[0m         inputs\u001b[38;5;241m=\u001b[39minputs)\n\u001b[1;32m--> 396\u001b[0m \u001b[43mtorch\u001b[49m\u001b[38;5;241;43m.\u001b[39;49m\u001b[43mautograd\u001b[49m\u001b[38;5;241;43m.\u001b[39;49m\u001b[43mbackward\u001b[49m\u001b[43m(\u001b[49m\u001b[38;5;28;43mself\u001b[39;49m\u001b[43m,\u001b[49m\u001b[43m \u001b[49m\u001b[43mgradient\u001b[49m\u001b[43m,\u001b[49m\u001b[43m \u001b[49m\u001b[43mretain_graph\u001b[49m\u001b[43m,\u001b[49m\u001b[43m \u001b[49m\u001b[43mcreate_graph\u001b[49m\u001b[43m,\u001b[49m\u001b[43m \u001b[49m\u001b[43minputs\u001b[49m\u001b[38;5;241;43m=\u001b[39;49m\u001b[43minputs\u001b[49m\u001b[43m)\u001b[49m\n",
      "File \u001b[1;32m~\\.conda\\envs\\notebook\\lib\\site-packages\\torch\\autograd\\__init__.py:173\u001b[0m, in \u001b[0;36mbackward\u001b[1;34m(tensors, grad_tensors, retain_graph, create_graph, grad_variables, inputs)\u001b[0m\n\u001b[0;32m    168\u001b[0m     retain_graph \u001b[38;5;241m=\u001b[39m create_graph\n\u001b[0;32m    170\u001b[0m \u001b[38;5;66;03m# The reason we repeat same the comment below is that\u001b[39;00m\n\u001b[0;32m    171\u001b[0m \u001b[38;5;66;03m# some Python versions print out the first line of a multi-line function\u001b[39;00m\n\u001b[0;32m    172\u001b[0m \u001b[38;5;66;03m# calls in the traceback and some print out the last line\u001b[39;00m\n\u001b[1;32m--> 173\u001b[0m \u001b[43mVariable\u001b[49m\u001b[38;5;241;43m.\u001b[39;49m\u001b[43m_execution_engine\u001b[49m\u001b[38;5;241;43m.\u001b[39;49m\u001b[43mrun_backward\u001b[49m\u001b[43m(\u001b[49m\u001b[43m  \u001b[49m\u001b[38;5;66;43;03m# Calls into the C++ engine to run the backward pass\u001b[39;49;00m\n\u001b[0;32m    174\u001b[0m \u001b[43m    \u001b[49m\u001b[43mtensors\u001b[49m\u001b[43m,\u001b[49m\u001b[43m \u001b[49m\u001b[43mgrad_tensors_\u001b[49m\u001b[43m,\u001b[49m\u001b[43m \u001b[49m\u001b[43mretain_graph\u001b[49m\u001b[43m,\u001b[49m\u001b[43m \u001b[49m\u001b[43mcreate_graph\u001b[49m\u001b[43m,\u001b[49m\u001b[43m \u001b[49m\u001b[43minputs\u001b[49m\u001b[43m,\u001b[49m\n\u001b[0;32m    175\u001b[0m \u001b[43m    \u001b[49m\u001b[43mallow_unreachable\u001b[49m\u001b[38;5;241;43m=\u001b[39;49m\u001b[38;5;28;43;01mTrue\u001b[39;49;00m\u001b[43m,\u001b[49m\u001b[43m \u001b[49m\u001b[43maccumulate_grad\u001b[49m\u001b[38;5;241;43m=\u001b[39;49m\u001b[38;5;28;43;01mTrue\u001b[39;49;00m\u001b[43m)\u001b[49m\n",
      "\u001b[1;31mKeyboardInterrupt\u001b[0m: "
     ]
    }
   ],
   "source": [
    "random.seed(0)\n",
    "np.random.seed(0)\n",
    "torch.manual_seed(0)\n",
    "torch.use_deterministic_algorithms(True)\n",
    "\n",
    "\n",
    "n_in_neurons = 38\n",
    "n_hidden_neurons_1 = 20\n",
    "n_hidden_neurons_2 = 10\n",
    "n_out_neurons = 1 \n",
    "\n",
    "net = nn.Sequential(\n",
    "    nn.Linear(n_in_neurons, n_hidden_neurons_1),\n",
    "    nn.ReLU(),\n",
    "    nn.Linear(n_hidden_neurons_1, n_hidden_neurons_2),\n",
    "    nn.Tanh(),\n",
    "    nn.Linear(n_hidden_neurons_2, n_out_neurons), \n",
    "    nn.Sigmoid()\n",
    ")\n",
    "\n",
    "\n",
    "optimizer = torch.optim.Adam(net.parameters(), lr=1e-3)\n",
    "\n",
    "loss = nn.BCELoss()\n",
    "\n",
    "batch_size = 50\n",
    "\n",
    "num_epochs = 1000\n",
    "\n",
    "num_batches = ceil(len(X_train)/batch_size)\n",
    "\n",
    "for epoch in range(num_epochs):\n",
    "\torder = np.random.permutation(len(X_train))# создайте случайную перестановку индексов объектов\n",
    "\tfor batch_idx in range(num_batches):\n",
    "\t\tstart_index = batch_idx * batch_size# посчитайте номер стартового объекта батча\n",
    "\t\toptimizer.zero_grad()\n",
    "  \n",
    "\t\tbatch_indexes = order[start_index:start_index+batch_size]# извлеките индексы объектов текущего обатча\n",
    "\t\tX_batch = X_train[batch_indexes]\n",
    "\t\ty_batch = y_train[batch_indexes]\n",
    "  \n",
    "\t\tpreds = net.forward(X_batch).flatten()\n",
    "\t        \n",
    "\t\tloss_value = loss(preds, y_batch)\n",
    "\n",
    "\t\tloss_value.backward()\n",
    "\t        \n",
    "\t\toptimizer.step()\n",
    "\t\t\n",
    "\tif epoch % 10 == 0 or epoch == num_epochs - 1:\n",
    "\t\tnet.eval()\n",
    "\t\ttest_preds = net.forward(X_test)\n",
    "\t\taccuracy = (torch.round(test_preds) == y_test).float().mean().data\n",
    "\t\tprint(accuracy)"
   ]
  },
  {
   "cell_type": "code",
   "execution_count": 53,
   "metadata": {},
   "outputs": [
    {
     "data": {
      "text/plain": [
       "tensor([[0.4464],\n",
       "        [0.5089],\n",
       "        [0.5264],\n",
       "        ...,\n",
       "        [0.4651],\n",
       "        [0.4377],\n",
       "        [0.4472]], grad_fn=<SigmoidBackward0>)"
      ]
     },
     "execution_count": 53,
     "metadata": {},
     "output_type": "execute_result"
    }
   ],
   "source": [
    "test_preds"
   ]
  },
  {
   "cell_type": "markdown",
   "metadata": {},
   "source": [
    "Ну вот то что равно 0.5 и ниже в 0, что выше в 1 округляется, но все хаотично"
   ]
  },
  {
   "cell_type": "markdown",
   "metadata": {},
   "source": [
    "###  Комментарий студента:\n",
    "<div class=\"alert alert-block alert-info\">\n",
    "<b>Комментарий студента:</b> дальше вопрос: как в нейросетях устанавливать целевой показатель ROC AUC?</div>"
   ]
  },
  {
   "cell_type": "code",
   "execution_count": null,
   "metadata": {},
   "outputs": [],
   "source": [
    "from torchmetrics import ROC"
   ]
  },
  {
   "cell_type": "markdown",
   "metadata": {},
   "source": [
    "этот ROC что то не помог мне"
   ]
  },
  {
   "cell_type": "code",
   "execution_count": null,
   "metadata": {},
   "outputs": [],
   "source": [
    "probabilities_valid = model_forest.predict_proba(features_valid_down1)\n",
    "probabilities_one_valid = probabilities_valid[:, 1]\n",
    "auc_roc = roc_auc_score(target_valid_down1, probabilities_one_valid)"
   ]
  },
  {
   "cell_type": "markdown",
   "metadata": {},
   "source": [
    "Этого кода для Торча так же похожего не нашел"
   ]
  },
  {
   "cell_type": "code",
   "execution_count": null,
   "metadata": {},
   "outputs": [],
   "source": [
    "accuracy = (torch.round(test_preds) == y_test).float().mean().data"
   ]
  },
  {
   "cell_type": "markdown",
   "metadata": {},
   "source": [
    "Аккуренси в торче считается не стандартной функцией, и подумал что для РОК АУКА так же есть похожее выражение"
   ]
  },
  {
   "cell_type": "markdown",
   "metadata": {},
   "source": [
    "###  Комментарий студента:\n",
    "<div class=\"alert alert-block alert-info\">\n",
    "<b>Комментарий студента:</b> Вопрос по CAT BOOST</div>"
   ]
  },
  {
   "cell_type": "markdown",
   "metadata": {},
   "source": [
    "не смог в грид серч добавить лос функцию для классификации loss_function=’Logloss’, как будто нет так что то написано. Как правильно тут писать лос функцию?"
   ]
  },
  {
   "cell_type": "code",
   "execution_count": null,
   "metadata": {},
   "outputs": [],
   "source": []
  },
  {
   "cell_type": "code",
   "execution_count": null,
   "metadata": {},
   "outputs": [],
   "source": []
  },
  {
   "cell_type": "code",
   "execution_count": null,
   "metadata": {},
   "outputs": [],
   "source": []
  },
  {
   "cell_type": "code",
   "execution_count": null,
   "metadata": {},
   "outputs": [],
   "source": []
  },
  {
   "cell_type": "code",
   "execution_count": null,
   "metadata": {},
   "outputs": [],
   "source": []
  },
  {
   "cell_type": "markdown",
   "metadata": {},
   "source": [
    "<div class=\"alert alert-block alert-success\"; style=\"border-left: 6px solid green\">\n",
    "<b>Итоговый комментарий ревьюера ✔️</b>\n",
    "       \n",
    "Спасибо за проделанную работу! Проект был большой, но очень интересный) По ходу работу увидел классные размышления и подходы, все по делу, аккуратно и структурно, видно что ты уже хорошо владеешь большим количеством инструментов! Отправляю проект, только чтобы мы могли еще пообщаться по поводу твоего вопроса, а также в случае, если захочешь попробовать улучшить метрику существующих моделей (поработать с разной подготовкой выборок под \"предпочтения\" разных моделей, их я указал в рекомендациях, также можно еще попробовать разные способы балансировки классов и поиграть с масштабированием (убрать для некоторых моделей), я бы еще попробовал создать новые признаки, но надо следить за мультиколлинеарностью). В общем сделано много и можно попробовать еще сделать столько же, но это уже на твое усмотрение) Буду ждать обратной связи! Если хочешь оставить все так, то отправляй, я приму!)\n",
    "    \n",
    "</div>\n"
   ]
  }
 ],
 "metadata": {
  "ExecuteTimeLog": [
   {
    "duration": 3,
    "start_time": "2022-06-06T20:48:18.246Z"
   },
   {
    "duration": 4,
    "start_time": "2022-06-06T20:48:20.814Z"
   },
   {
    "duration": 3,
    "start_time": "2022-06-06T20:48:22.121Z"
   },
   {
    "duration": 179,
    "start_time": "2022-06-06T20:48:23.165Z"
   },
   {
    "duration": 10,
    "start_time": "2022-06-06T20:48:23.894Z"
   },
   {
    "duration": 91,
    "start_time": "2022-06-06T21:03:48.993Z"
   },
   {
    "duration": 21,
    "start_time": "2022-06-06T21:04:18.567Z"
   },
   {
    "duration": 7,
    "start_time": "2022-06-06T21:04:23.929Z"
   },
   {
    "duration": 1013,
    "start_time": "2022-06-07T22:09:56.864Z"
   },
   {
    "duration": 4,
    "start_time": "2022-06-07T22:10:00.748Z"
   },
   {
    "duration": 67,
    "start_time": "2022-06-07T22:10:02.500Z"
   },
   {
    "duration": 196,
    "start_time": "2022-06-07T22:10:04.140Z"
   },
   {
    "duration": 15,
    "start_time": "2022-06-07T22:10:07.678Z"
   },
   {
    "duration": 97,
    "start_time": "2022-06-07T22:10:10.855Z"
   },
   {
    "duration": 8,
    "start_time": "2022-06-07T22:10:13.592Z"
   },
   {
    "duration": 3,
    "start_time": "2022-06-07T22:10:17.755Z"
   },
   {
    "duration": 2502,
    "start_time": "2022-06-07T22:10:38.555Z"
   },
   {
    "duration": 10,
    "start_time": "2022-06-07T22:10:48.069Z"
   },
   {
    "duration": 10,
    "start_time": "2022-06-07T22:18:15.380Z"
   },
   {
    "duration": 12,
    "start_time": "2022-06-07T22:20:15.402Z"
   },
   {
    "duration": 19,
    "start_time": "2022-06-07T22:20:31.526Z"
   },
   {
    "duration": 94,
    "start_time": "2022-06-07T22:28:55.411Z"
   },
   {
    "duration": 8,
    "start_time": "2022-06-07T22:28:57.452Z"
   },
   {
    "duration": 26738,
    "start_time": "2022-06-07T22:46:59.936Z"
   },
   {
    "duration": 8,
    "start_time": "2022-06-07T22:47:30.198Z"
   },
   {
    "duration": 7,
    "start_time": "2022-06-07T22:47:42.864Z"
   },
   {
    "duration": 25893,
    "start_time": "2022-06-07T22:48:18.128Z"
   },
   {
    "duration": 206,
    "start_time": "2022-06-07T23:31:41.670Z"
   },
   {
    "duration": 220,
    "start_time": "2022-06-07T23:31:52.241Z"
   },
   {
    "duration": 11,
    "start_time": "2022-06-07T23:31:54.151Z"
   },
   {
    "duration": 3,
    "start_time": "2022-06-07T23:50:41.449Z"
   },
   {
    "duration": 1251,
    "start_time": "2022-06-07T23:51:06.464Z"
   },
   {
    "duration": 1348,
    "start_time": "2022-06-07T23:51:17.523Z"
   },
   {
    "duration": 1272,
    "start_time": "2022-06-07T23:51:42.280Z"
   },
   {
    "duration": 54,
    "start_time": "2022-06-08T11:40:50.914Z"
   },
   {
    "duration": 32730,
    "start_time": "2022-06-08T11:40:59.628Z"
   },
   {
    "duration": 4,
    "start_time": "2022-06-08T11:41:32.360Z"
   },
   {
    "duration": 45,
    "start_time": "2022-06-08T11:41:32.365Z"
   },
   {
    "duration": 210,
    "start_time": "2022-06-08T11:41:32.411Z"
   },
   {
    "duration": 13,
    "start_time": "2022-06-08T11:41:32.623Z"
   },
   {
    "duration": 113,
    "start_time": "2022-06-08T11:41:32.638Z"
   },
   {
    "duration": 7,
    "start_time": "2022-06-08T11:41:32.752Z"
   },
   {
    "duration": 257,
    "start_time": "2022-06-08T11:41:32.761Z"
   },
   {
    "duration": 9,
    "start_time": "2022-06-08T11:41:33.020Z"
   },
   {
    "duration": 216,
    "start_time": "2022-06-08T11:41:33.032Z"
   },
   {
    "duration": 8,
    "start_time": "2022-06-08T11:41:33.250Z"
   },
   {
    "duration": 1274,
    "start_time": "2022-06-08T11:41:33.259Z"
   },
   {
    "duration": 76,
    "start_time": "2022-06-08T11:41:34.534Z"
   },
   {
    "duration": 903,
    "start_time": "2022-06-08T16:33:34.509Z"
   },
   {
    "duration": 4,
    "start_time": "2022-06-08T16:33:35.431Z"
   },
   {
    "duration": 53,
    "start_time": "2022-06-08T16:33:35.704Z"
   },
   {
    "duration": 66,
    "start_time": "2022-06-08T16:33:35.922Z"
   },
   {
    "duration": 15,
    "start_time": "2022-06-08T16:33:36.037Z"
   },
   {
    "duration": 74,
    "start_time": "2022-06-08T16:33:36.511Z"
   },
   {
    "duration": 9,
    "start_time": "2022-06-08T16:33:36.818Z"
   },
   {
    "duration": 218,
    "start_time": "2022-06-08T16:33:37.418Z"
   },
   {
    "duration": 10,
    "start_time": "2022-06-08T16:33:37.782Z"
   },
   {
    "duration": 172,
    "start_time": "2022-06-08T16:33:38.388Z"
   },
   {
    "duration": 7,
    "start_time": "2022-06-08T16:33:38.782Z"
   },
   {
    "duration": 1135,
    "start_time": "2022-06-08T16:33:39.598Z"
   },
   {
    "duration": 43,
    "start_time": "2022-06-08T16:33:41.085Z"
   },
   {
    "duration": 43,
    "start_time": "2022-06-08T16:33:43.786Z"
   },
   {
    "duration": 39,
    "start_time": "2022-06-08T16:33:58.033Z"
   },
   {
    "duration": 42,
    "start_time": "2022-06-08T16:34:42.494Z"
   },
   {
    "duration": 27,
    "start_time": "2022-06-08T16:37:55.386Z"
   },
   {
    "duration": 27,
    "start_time": "2022-06-08T16:38:22.541Z"
   },
   {
    "duration": 28,
    "start_time": "2022-06-08T16:38:35.489Z"
   },
   {
    "duration": 40,
    "start_time": "2022-06-08T16:38:44.560Z"
   },
   {
    "duration": 41,
    "start_time": "2022-06-08T16:38:55.402Z"
   },
   {
    "duration": 825,
    "start_time": "2022-06-08T22:58:34.116Z"
   },
   {
    "duration": 4,
    "start_time": "2022-06-08T22:58:34.943Z"
   },
   {
    "duration": 174,
    "start_time": "2022-06-08T22:58:34.952Z"
   },
   {
    "duration": 272,
    "start_time": "2022-06-08T22:58:35.128Z"
   },
   {
    "duration": 15,
    "start_time": "2022-06-08T22:58:35.402Z"
   },
   {
    "duration": 104,
    "start_time": "2022-06-08T22:58:35.418Z"
   },
   {
    "duration": 6,
    "start_time": "2022-06-08T22:58:35.524Z"
   },
   {
    "duration": 249,
    "start_time": "2022-06-08T22:58:35.531Z"
   },
   {
    "duration": 9,
    "start_time": "2022-06-08T22:58:35.782Z"
   },
   {
    "duration": 205,
    "start_time": "2022-06-08T22:58:35.792Z"
   },
   {
    "duration": 7,
    "start_time": "2022-06-08T22:58:35.999Z"
   },
   {
    "duration": 1149,
    "start_time": "2022-06-08T22:58:36.008Z"
   },
   {
    "duration": 71,
    "start_time": "2022-06-08T22:58:37.158Z"
   },
   {
    "duration": 64,
    "start_time": "2022-06-08T22:58:37.232Z"
   },
   {
    "duration": 1149,
    "start_time": "2022-06-08T22:59:01.512Z"
   },
   {
    "duration": 1116,
    "start_time": "2022-06-08T23:01:03.283Z"
   },
   {
    "duration": 1305,
    "start_time": "2022-06-08T23:01:16.199Z"
   },
   {
    "duration": 1174,
    "start_time": "2022-06-08T23:01:23.478Z"
   },
   {
    "duration": 1317,
    "start_time": "2022-06-08T23:01:31.964Z"
   },
   {
    "duration": 1181,
    "start_time": "2022-06-08T23:01:38.920Z"
   },
   {
    "duration": 1278,
    "start_time": "2022-06-08T23:01:49.191Z"
   },
   {
    "duration": 1222,
    "start_time": "2022-06-08T23:02:27.975Z"
   },
   {
    "duration": 1219,
    "start_time": "2022-06-08T23:02:37.957Z"
   },
   {
    "duration": 1257,
    "start_time": "2022-06-08T23:02:52.315Z"
   },
   {
    "duration": 36031,
    "start_time": "2022-06-16T17:59:49.845Z"
   },
   {
    "duration": 3,
    "start_time": "2022-06-16T18:00:25.878Z"
   },
   {
    "duration": 41,
    "start_time": "2022-06-16T18:00:25.882Z"
   },
   {
    "duration": 70,
    "start_time": "2022-06-16T18:00:25.925Z"
   },
   {
    "duration": 13,
    "start_time": "2022-06-16T18:00:25.997Z"
   },
   {
    "duration": 79,
    "start_time": "2022-06-16T18:00:26.011Z"
   },
   {
    "duration": 7,
    "start_time": "2022-06-16T18:00:26.092Z"
   },
   {
    "duration": 235,
    "start_time": "2022-06-16T18:00:26.100Z"
   },
   {
    "duration": 9,
    "start_time": "2022-06-16T18:00:26.337Z"
   },
   {
    "duration": 182,
    "start_time": "2022-06-16T18:00:26.348Z"
   },
   {
    "duration": 7,
    "start_time": "2022-06-16T18:00:26.532Z"
   },
   {
    "duration": 1189,
    "start_time": "2022-06-16T18:00:26.541Z"
   },
   {
    "duration": 45,
    "start_time": "2022-06-16T18:00:27.731Z"
   },
   {
    "duration": 39,
    "start_time": "2022-06-16T18:00:27.778Z"
   },
   {
    "duration": 1220,
    "start_time": "2022-06-16T18:00:27.819Z"
   },
   {
    "duration": 2,
    "start_time": "2022-06-16T18:00:29.041Z"
   },
   {
    "duration": 39,
    "start_time": "2022-06-16T18:00:42.347Z"
   },
   {
    "duration": 451,
    "start_time": "2022-06-16T18:00:54.896Z"
   },
   {
    "duration": 404,
    "start_time": "2022-06-16T18:01:02.600Z"
   },
   {
    "duration": 68,
    "start_time": "2022-06-16T18:02:38.290Z"
   },
   {
    "duration": 14,
    "start_time": "2022-06-16T18:02:49.941Z"
   },
   {
    "duration": 34973,
    "start_time": "2022-06-16T18:03:04.958Z"
   },
   {
    "duration": 428,
    "start_time": "2022-06-16T18:05:42.430Z"
   },
   {
    "duration": 528,
    "start_time": "2022-06-16T19:07:01.788Z"
   },
   {
    "duration": 541,
    "start_time": "2022-06-16T19:07:32.888Z"
   },
   {
    "duration": 487,
    "start_time": "2022-06-16T19:07:57.317Z"
   },
   {
    "duration": 539,
    "start_time": "2022-06-16T19:08:29.991Z"
   },
   {
    "duration": 519,
    "start_time": "2022-06-16T19:10:02.659Z"
   },
   {
    "duration": 204,
    "start_time": "2022-06-16T20:01:51.293Z"
   },
   {
    "duration": 35,
    "start_time": "2022-06-16T20:05:48.749Z"
   },
   {
    "duration": 73,
    "start_time": "2022-06-16T20:06:04.874Z"
   },
   {
    "duration": 38207,
    "start_time": "2022-06-16T20:06:29.410Z"
   },
   {
    "duration": 207,
    "start_time": "2022-06-16T20:07:36.392Z"
   },
   {
    "duration": 509,
    "start_time": "2022-06-16T20:08:07.632Z"
   },
   {
    "duration": 110,
    "start_time": "2022-06-16T20:08:36.260Z"
   },
   {
    "duration": 100,
    "start_time": "2022-06-16T20:08:54.665Z"
   },
   {
    "duration": 86,
    "start_time": "2022-06-16T20:09:40.264Z"
   },
   {
    "duration": 85,
    "start_time": "2022-06-16T20:10:01.449Z"
   },
   {
    "duration": 72,
    "start_time": "2022-06-16T20:13:08.121Z"
   },
   {
    "duration": 37,
    "start_time": "2022-06-16T20:13:30.869Z"
   },
   {
    "duration": 67,
    "start_time": "2022-06-16T20:13:40.126Z"
   },
   {
    "duration": 163,
    "start_time": "2022-06-16T20:18:44.924Z"
   },
   {
    "duration": 83,
    "start_time": "2022-06-16T20:21:43.995Z"
   },
   {
    "duration": 74,
    "start_time": "2022-06-16T20:22:15.317Z"
   },
   {
    "duration": 83,
    "start_time": "2022-06-16T20:22:28.290Z"
   },
   {
    "duration": 75,
    "start_time": "2022-06-16T20:22:38.577Z"
   },
   {
    "duration": 113,
    "start_time": "2022-06-16T20:23:35.444Z"
   },
   {
    "duration": 87,
    "start_time": "2022-06-16T20:23:46.890Z"
   },
   {
    "duration": 69,
    "start_time": "2022-06-16T20:28:46.355Z"
   },
   {
    "duration": 33,
    "start_time": "2022-06-16T20:30:43.061Z"
   },
   {
    "duration": 36,
    "start_time": "2022-06-16T20:33:09.011Z"
   },
   {
    "duration": 76,
    "start_time": "2022-06-16T20:33:21.991Z"
   },
   {
    "duration": 118,
    "start_time": "2022-06-16T20:33:59.426Z"
   },
   {
    "duration": 114,
    "start_time": "2022-06-16T20:35:03.027Z"
   },
   {
    "duration": 73,
    "start_time": "2022-06-16T20:35:09.595Z"
   },
   {
    "duration": 80,
    "start_time": "2022-06-16T20:35:26.392Z"
   },
   {
    "duration": 106,
    "start_time": "2022-06-16T20:35:47.391Z"
   },
   {
    "duration": 167,
    "start_time": "2022-06-16T20:36:22.695Z"
   },
   {
    "duration": 76,
    "start_time": "2022-06-16T20:36:36.408Z"
   },
   {
    "duration": 82,
    "start_time": "2022-06-16T20:36:46.567Z"
   },
   {
    "duration": 80,
    "start_time": "2022-06-16T20:37:02.491Z"
   },
   {
    "duration": 76,
    "start_time": "2022-06-16T20:37:16.458Z"
   },
   {
    "duration": 73,
    "start_time": "2022-06-16T20:37:43.949Z"
   },
   {
    "duration": 116,
    "start_time": "2022-06-16T20:38:11.165Z"
   },
   {
    "duration": 74,
    "start_time": "2022-06-16T20:38:22.472Z"
   },
   {
    "duration": 75,
    "start_time": "2022-06-16T20:38:33.575Z"
   },
   {
    "duration": 100,
    "start_time": "2022-06-16T20:39:37.214Z"
   },
   {
    "duration": 92,
    "start_time": "2022-06-16T20:39:52.430Z"
   },
   {
    "duration": 103,
    "start_time": "2022-06-16T20:40:00.657Z"
   },
   {
    "duration": 241,
    "start_time": "2022-06-16T20:40:29.792Z"
   },
   {
    "duration": 211,
    "start_time": "2022-06-16T20:41:40.356Z"
   },
   {
    "duration": 323,
    "start_time": "2022-06-16T20:41:59.725Z"
   },
   {
    "duration": 207,
    "start_time": "2022-06-16T20:42:03.212Z"
   },
   {
    "duration": 215,
    "start_time": "2022-06-16T20:42:17.142Z"
   },
   {
    "duration": 203,
    "start_time": "2022-06-16T20:42:20.501Z"
   },
   {
    "duration": 40,
    "start_time": "2022-06-16T20:44:17.700Z"
   },
   {
    "duration": 202,
    "start_time": "2022-06-16T20:44:34.054Z"
   },
   {
    "duration": 210,
    "start_time": "2022-06-16T20:45:29.678Z"
   },
   {
    "duration": 217,
    "start_time": "2022-06-16T20:45:55.472Z"
   },
   {
    "duration": 183,
    "start_time": "2022-06-16T20:46:05.699Z"
   },
   {
    "duration": 193,
    "start_time": "2022-06-16T20:46:16.607Z"
   },
   {
    "duration": 4,
    "start_time": "2022-06-16T20:46:52.213Z"
   },
   {
    "duration": 192,
    "start_time": "2022-06-16T20:47:03.005Z"
   },
   {
    "duration": 158,
    "start_time": "2022-06-16T21:16:17.442Z"
   },
   {
    "duration": 96,
    "start_time": "2022-06-16T21:16:49.237Z"
   },
   {
    "duration": 94,
    "start_time": "2022-06-16T21:17:33.227Z"
   },
   {
    "duration": 100,
    "start_time": "2022-06-16T21:17:50.709Z"
   },
   {
    "duration": 94,
    "start_time": "2022-06-16T21:18:02.188Z"
   },
   {
    "duration": 822,
    "start_time": "2022-06-16T21:21:10.812Z"
   },
   {
    "duration": 4,
    "start_time": "2022-06-16T21:21:11.638Z"
   },
   {
    "duration": 154,
    "start_time": "2022-06-16T21:21:11.659Z"
   },
   {
    "duration": 89,
    "start_time": "2022-06-16T21:21:11.823Z"
   },
   {
    "duration": 18,
    "start_time": "2022-06-16T21:21:11.923Z"
   },
   {
    "duration": 76,
    "start_time": "2022-06-16T21:21:11.946Z"
   },
   {
    "duration": 14,
    "start_time": "2022-06-16T21:21:12.027Z"
   },
   {
    "duration": 260,
    "start_time": "2022-06-16T21:21:12.044Z"
   },
   {
    "duration": 19,
    "start_time": "2022-06-16T21:21:12.309Z"
   },
   {
    "duration": 175,
    "start_time": "2022-06-16T21:21:12.332Z"
   },
   {
    "duration": 8,
    "start_time": "2022-06-16T21:21:12.511Z"
   },
   {
    "duration": 1230,
    "start_time": "2022-06-16T21:21:12.523Z"
   },
   {
    "duration": 57,
    "start_time": "2022-06-16T21:21:13.760Z"
   },
   {
    "duration": 44,
    "start_time": "2022-06-16T21:21:13.822Z"
   },
   {
    "duration": 1459,
    "start_time": "2022-06-16T21:21:13.871Z"
   },
   {
    "duration": 528,
    "start_time": "2022-06-16T21:21:15.337Z"
   },
   {
    "duration": 1137,
    "start_time": "2022-06-16T21:21:15.870Z"
   },
   {
    "duration": 220,
    "start_time": "2022-06-16T21:21:17.011Z"
   },
   {
    "duration": 368,
    "start_time": "2022-06-16T21:21:17.237Z"
   },
   {
    "duration": 126,
    "start_time": "2022-06-16T21:21:17.612Z"
   },
   {
    "duration": 777,
    "start_time": "2022-06-16T21:27:06.333Z"
   },
   {
    "duration": 6,
    "start_time": "2022-06-16T21:27:07.115Z"
   },
   {
    "duration": 39,
    "start_time": "2022-06-16T21:27:07.124Z"
   },
   {
    "duration": 60,
    "start_time": "2022-06-16T21:27:07.166Z"
   },
   {
    "duration": 13,
    "start_time": "2022-06-16T21:27:07.229Z"
   },
   {
    "duration": 80,
    "start_time": "2022-06-16T21:27:07.246Z"
   },
   {
    "duration": 11,
    "start_time": "2022-06-16T21:27:07.331Z"
   },
   {
    "duration": 240,
    "start_time": "2022-06-16T21:27:07.347Z"
   },
   {
    "duration": 14,
    "start_time": "2022-06-16T21:27:07.591Z"
   },
   {
    "duration": 201,
    "start_time": "2022-06-16T21:27:07.609Z"
   },
   {
    "duration": 8,
    "start_time": "2022-06-16T21:27:07.815Z"
   },
   {
    "duration": 1237,
    "start_time": "2022-06-16T21:27:07.827Z"
   },
   {
    "duration": 50,
    "start_time": "2022-06-16T21:27:09.070Z"
   },
   {
    "duration": 39,
    "start_time": "2022-06-16T21:27:09.124Z"
   },
   {
    "duration": 1182,
    "start_time": "2022-06-16T21:27:09.166Z"
   },
   {
    "duration": 568,
    "start_time": "2022-06-16T21:27:10.352Z"
   },
   {
    "duration": 923,
    "start_time": "2022-06-16T21:27:10.924Z"
   },
   {
    "duration": 212,
    "start_time": "2022-06-16T21:27:11.851Z"
   },
   {
    "duration": 242,
    "start_time": "2022-06-16T21:27:12.067Z"
   },
   {
    "duration": 101,
    "start_time": "2022-06-16T21:27:12.314Z"
   },
   {
    "duration": 595,
    "start_time": "2022-06-16T22:25:15.516Z"
   },
   {
    "duration": 3,
    "start_time": "2022-06-16T22:25:16.113Z"
   },
   {
    "duration": 37,
    "start_time": "2022-06-16T22:25:16.118Z"
   },
   {
    "duration": 55,
    "start_time": "2022-06-16T22:25:16.156Z"
   },
   {
    "duration": 12,
    "start_time": "2022-06-16T22:25:16.213Z"
   },
   {
    "duration": 75,
    "start_time": "2022-06-16T22:25:16.226Z"
   },
   {
    "duration": 7,
    "start_time": "2022-06-16T22:25:16.302Z"
   },
   {
    "duration": 228,
    "start_time": "2022-06-16T22:25:16.310Z"
   },
   {
    "duration": 8,
    "start_time": "2022-06-16T22:25:16.540Z"
   },
   {
    "duration": 178,
    "start_time": "2022-06-16T22:25:16.550Z"
   },
   {
    "duration": 6,
    "start_time": "2022-06-16T22:25:16.729Z"
   },
   {
    "duration": 1447,
    "start_time": "2022-06-16T22:25:16.736Z"
   },
   {
    "duration": 46,
    "start_time": "2022-06-16T22:25:18.185Z"
   },
   {
    "duration": 39,
    "start_time": "2022-06-16T22:25:18.233Z"
   },
   {
    "duration": 1174,
    "start_time": "2022-06-16T22:25:18.274Z"
   },
   {
    "duration": 526,
    "start_time": "2022-06-16T22:25:19.449Z"
   },
   {
    "duration": 823,
    "start_time": "2022-06-16T22:25:19.976Z"
   },
   {
    "duration": 209,
    "start_time": "2022-06-16T22:25:20.801Z"
   },
   {
    "duration": 199,
    "start_time": "2022-06-16T22:25:21.012Z"
   },
   {
    "duration": 94,
    "start_time": "2022-06-16T22:25:21.212Z"
   },
   {
    "duration": 525,
    "start_time": "2022-06-16T22:31:11.240Z"
   },
   {
    "duration": 517,
    "start_time": "2022-06-16T22:31:15.504Z"
   },
   {
    "duration": 46,
    "start_time": "2022-06-16T23:16:08.874Z"
   },
   {
    "duration": 37236,
    "start_time": "2022-06-16T23:16:18.455Z"
   },
   {
    "duration": 4,
    "start_time": "2022-06-16T23:16:55.693Z"
   },
   {
    "duration": 44,
    "start_time": "2022-06-16T23:16:55.698Z"
   },
   {
    "duration": 198,
    "start_time": "2022-06-16T23:16:55.744Z"
   },
   {
    "duration": 13,
    "start_time": "2022-06-16T23:16:55.943Z"
   },
   {
    "duration": 117,
    "start_time": "2022-06-16T23:16:55.957Z"
   },
   {
    "duration": 6,
    "start_time": "2022-06-16T23:16:56.076Z"
   },
   {
    "duration": 246,
    "start_time": "2022-06-16T23:16:56.084Z"
   },
   {
    "duration": 8,
    "start_time": "2022-06-16T23:16:56.332Z"
   },
   {
    "duration": 205,
    "start_time": "2022-06-16T23:16:56.343Z"
   },
   {
    "duration": 6,
    "start_time": "2022-06-16T23:16:56.550Z"
   },
   {
    "duration": 1128,
    "start_time": "2022-06-16T23:16:56.557Z"
   },
   {
    "duration": 73,
    "start_time": "2022-06-16T23:16:57.687Z"
   },
   {
    "duration": 67,
    "start_time": "2022-06-16T23:16:57.762Z"
   },
   {
    "duration": 1158,
    "start_time": "2022-06-16T23:16:57.831Z"
   },
   {
    "duration": 554,
    "start_time": "2022-06-16T23:16:58.990Z"
   },
   {
    "duration": 849,
    "start_time": "2022-06-16T23:16:59.546Z"
   },
   {
    "duration": 238,
    "start_time": "2022-06-16T23:17:00.396Z"
   },
   {
    "duration": 217,
    "start_time": "2022-06-16T23:17:00.635Z"
   },
   {
    "duration": 123,
    "start_time": "2022-06-16T23:17:00.854Z"
   },
   {
    "duration": 168,
    "start_time": "2022-06-16T23:17:37.538Z"
   }
  ],
  "colab": {
   "name": "AdvansedSQLProjectTemplate.ipynb",
   "provenance": []
  },
  "kernelspec": {
   "display_name": "Python 3 (ipykernel)",
   "language": "python",
   "name": "python3"
  },
  "language_info": {
   "codemirror_mode": {
    "name": "ipython",
    "version": 3
   },
   "file_extension": ".py",
   "mimetype": "text/x-python",
   "name": "python",
   "nbconvert_exporter": "python",
   "pygments_lexer": "ipython3",
   "version": "3.8.13"
  },
  "toc": {
   "base_numbering": 1,
   "nav_menu": {},
   "number_sections": true,
   "sideBar": true,
   "skip_h1_title": true,
   "title_cell": "Table of Contents",
   "title_sidebar": "Contents",
   "toc_cell": true,
   "toc_position": {
    "height": "calc(100% - 180px)",
    "left": "10px",
    "top": "150px",
    "width": "318px"
   },
   "toc_section_display": true,
   "toc_window_display": true
  },
  "varInspector": {
   "cols": {
    "lenName": 16,
    "lenType": 16,
    "lenVar": 40
   },
   "kernels_config": {
    "python": {
     "delete_cmd_postfix": "",
     "delete_cmd_prefix": "del ",
     "library": "var_list.py",
     "varRefreshCmd": "print(var_dic_list())"
    },
    "r": {
     "delete_cmd_postfix": ") ",
     "delete_cmd_prefix": "rm(",
     "library": "var_list.r",
     "varRefreshCmd": "cat(var_dic_list()) "
    }
   },
   "types_to_exclude": [
    "module",
    "function",
    "builtin_function_or_method",
    "instance",
    "_Feature"
   ],
   "window_display": false
  }
 },
 "nbformat": 4,
 "nbformat_minor": 1
}
