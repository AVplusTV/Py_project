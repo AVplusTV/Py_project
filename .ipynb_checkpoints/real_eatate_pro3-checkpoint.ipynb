{
 "cells": [
  {
   "cell_type": "markdown",
   "metadata": {
    "toc": true
   },
   "source": [
    "<h1>Содержание<span class=\"tocSkip\"></span></h1>\n",
    "<div class=\"toc\"><ul class=\"toc-item\"><li><span><a href=\"#Изучение-данных-из-файла\" data-toc-modified-id=\"Изучение-данных-из-файла-1\"><span class=\"toc-item-num\">1&nbsp;&nbsp;</span>Изучение данных из файла</a></span></li><li><span><a href=\"#Предобработка-данных\" data-toc-modified-id=\"Предобработка-данных-2\"><span class=\"toc-item-num\">2&nbsp;&nbsp;</span>Предобработка данных</a></span><ul class=\"toc-item\"><li><span><a href=\"#Переименовываем-столбцы\" data-toc-modified-id=\"Переименовываем-столбцы-2.1\"><span class=\"toc-item-num\">2.1&nbsp;&nbsp;</span>Переименовываем столбцы</a></span></li><li><span><a href=\"#Проверим-таблицу-на-явные-полные-дубликаты\" data-toc-modified-id=\"Проверим-таблицу-на-явные-полные-дубликаты-2.2\"><span class=\"toc-item-num\">2.2&nbsp;&nbsp;</span>Проверим таблицу на явные полные дубликаты</a></span></li><li><span><a href=\"#Заполнение-пропусков-в-данных\" data-toc-modified-id=\"Заполнение-пропусков-в-данных-2.3\"><span class=\"toc-item-num\">2.3&nbsp;&nbsp;</span>Заполнение пропусков в данных</a></span></li><li><span><a href=\"#Изменение-типов-данных\" data-toc-modified-id=\"Изменение-типов-данных-2.4\"><span class=\"toc-item-num\">2.4&nbsp;&nbsp;</span>Изменение типов данных</a></span></li></ul></li><li><span><a href=\"#Расчёты-и-добавление-результатов-в-таблицу\" data-toc-modified-id=\"Расчёты-и-добавление-результатов-в-таблицу-3\"><span class=\"toc-item-num\">3&nbsp;&nbsp;</span>Расчёты и добавление результатов в таблицу</a></span></li><li><span><a href=\"#Исследовательский-анализ-данных\" data-toc-modified-id=\"Исследовательский-анализ-данных-4\"><span class=\"toc-item-num\">4&nbsp;&nbsp;</span>Исследовательский анализ данных</a></span><ul class=\"toc-item\"><li><span><a href=\"#Построим-гистограммы-для-каждого-параметра:-площадь,-цена,-число-комнат,-высота-потолков.\" data-toc-modified-id=\"Построим-гистограммы-для-каждого-параметра:-площадь,-цена,-число-комнат,-высота-потолков.-4.1\"><span class=\"toc-item-num\">4.1&nbsp;&nbsp;</span>Построим гистограммы для каждого параметра: площадь, цена, число комнат, высота потолков.</a></span></li><li><span><a href=\"#Изучим-время-продажи-квартиры.-Построим-гистограмму.-Посчитаем-среднее-и-медиану.-Опишем,-сколько-обычно-занимает-продажа.-Когда-можно-считать,-что-продажи-прошли-очень-быстро,-а-когда-необычно-долго.\" data-toc-modified-id=\"Изучим-время-продажи-квартиры.-Построим-гистограмму.-Посчитаем-среднее-и-медиану.-Опишем,-сколько-обычно-занимает-продажа.-Когда-можно-считать,-что-продажи-прошли-очень-быстро,-а-когда-необычно-долго.-4.2\"><span class=\"toc-item-num\">4.2&nbsp;&nbsp;</span>Изучим время продажи квартиры. Построим гистограмму. Посчитаем среднее и медиану. Опишем, сколько обычно занимает продажа. Когда можно считать, что продажи прошли очень быстро, а когда необычно долго.</a></span></li><li><span><a href=\"#Какие-факторы-больше-всего-влияют-на-стоимость-квартиры?-Изучим,-зависит-ли-цена-от-площади,-числа-комнат,-удалённости-от-центра.-Изучим-зависимость-цены-от-того,-на-каком-этаже-расположена-квартира:-первом,-последнем-или-другом.-Также-изучим-зависимость-от-даты-размещения:-дня-недели,-месяца-и-года.\" data-toc-modified-id=\"Какие-факторы-больше-всего-влияют-на-стоимость-квартиры?-Изучим,-зависит-ли-цена-от-площади,-числа-комнат,-удалённости-от-центра.-Изучим-зависимость-цены-от-того,-на-каком-этаже-расположена-квартира:-первом,-последнем-или-другом.-Также-изучим-зависимость-от-даты-размещения:-дня-недели,-месяца-и-года.-4.3\"><span class=\"toc-item-num\">4.3&nbsp;&nbsp;</span>Какие факторы больше всего влияют на стоимость квартиры? Изучим, зависит ли цена от площади, числа комнат, удалённости от центра. Изучим зависимость цены от того, на каком этаже расположена квартира: первом, последнем или другом. Также изучим зависимость от даты размещения: дня недели, месяца и года.</a></span></li><li><span><a href=\"#Выберем-10-населённых-пунктов-с-наибольшим-числом-объявлений.-Посчитаем-среднюю-цену-квадратного-метра-в-этих-населённых-пунктах.-Выделим-среди-них-населённые-пункты-с-самой-высокой-и-низкой-стоимостью-жилья.\" data-toc-modified-id=\"Выберем-10-населённых-пунктов-с-наибольшим-числом-объявлений.-Посчитаем-среднюю-цену-квадратного-метра-в-этих-населённых-пунктах.-Выделим-среди-них-населённые-пункты-с-самой-высокой-и-низкой-стоимостью-жилья.-4.4\"><span class=\"toc-item-num\">4.4&nbsp;&nbsp;</span>Выберем 10 населённых пунктов с наибольшим числом объявлений. Посчитаем среднюю цену квадратного метра в этих населённых пунктах. Выделим среди них населённые пункты с самой высокой и низкой стоимостью жилья.</a></span></li><li><span><a href=\"#Изучим-предложения-квартир:-для-каждой-квартиры-в-Санкт-Петербурге-есть-информация-о-расстоянии-до-центра.-Выясним,-какая-область-входит-в-центр.\" data-toc-modified-id=\"Изучим-предложения-квартир:-для-каждой-квартиры-в-Санкт-Петербурге-есть-информация-о-расстоянии-до-центра.-Выясним,-какая-область-входит-в-центр.-4.5\"><span class=\"toc-item-num\">4.5&nbsp;&nbsp;</span>Изучим предложения квартир: для каждой квартиры в Санкт-Петербурге есть информация о расстоянии до центра. Выясним, какая область входит в центр.</a></span></li><li><span><a href=\"#Исследуем-более-подробно-центральную-часть-города,-с-расстоянием-от-центра-в-8-км.\" data-toc-modified-id=\"Исследуем-более-подробно-центральную-часть-города,-с-расстоянием-от-центра-в-8-км.-4.6\"><span class=\"toc-item-num\">4.6&nbsp;&nbsp;</span>Исследуем более подробно центральную часть города, с расстоянием от центра в 8 км.</a></span></li></ul></li><li><span><a href=\"#Отдельно-проанализируем-данные-на-мошенническую-деятельность-в-Санкт-Петербурге\" data-toc-modified-id=\"Отдельно-проанализируем-данные-на-мошенническую-деятельность-в-Санкт-Петербурге-5\"><span class=\"toc-item-num\">5&nbsp;&nbsp;</span>Отдельно проанализируем данные на мошенническую деятельность в Санкт-Петербурге</a></span></li><li><span><a href=\"#Общий-вывод\" data-toc-modified-id=\"Общий-вывод-6\"><span class=\"toc-item-num\">6&nbsp;&nbsp;</span>Общий вывод</a></span></li><li><span><a href=\"#Чек-лист-готовности-проекта\" data-toc-modified-id=\"Чек-лист-готовности-проекта-7\"><span class=\"toc-item-num\">7&nbsp;&nbsp;</span>Чек-лист готовности проекта</a></span></li></ul></div>"
   ]
  },
  {
   "cell_type": "markdown",
   "metadata": {},
   "source": [
    "<div style=\"border:solid Chocolate 2px; padding: 40px\">\n",
    "\n",
    "<b>Роман, привет!👋</b>\n",
    "\n",
    "Меня зовут Арина У., я буду ревьюером твоего проекта. Ты можешь обращаться ко мне на \"ты\"😏 Надеюсь, тебя также не смутит, если я буду обращаться к тебе на \"ты\", но если это неудобно, обязательно скажи об этом!\n",
    "\n",
    "Пожалуйста, не удаляй мои комментарии, они будут особенно полезны для нашей работы в случае повторной проверки проекта. \n",
    "\n",
    "Ты также можешь реагировать на мои комментарии своими, выделяя их цветами и наиболее понравившимся тебе способом оформления, но явно  отличающимся от моих комментариев. Это нужно, чтобы не создавалась путаница😉\n",
    "    \n",
    "<br/>\n",
    "\n",
    "Ты можешь найти мои комментарии, обозначенные <font color='green'>зеленым</font>, <font color='gold'>желтым</font> и <font color='red'>красным</font> цветами, например:\n",
    "\n",
    "<br/>\n",
    "\n",
    "<div class=\"alert alert-success\">\n",
    "<h2> Комментарий ревьюера <a class=\"tocSkip\"> </h2>\n",
    "\n",
    "<b>Все отлично!👍:</b> В случае, если решение на отдельном шаге является полностью правильным.\n",
    "</div>\n",
    "\n",
    "<br/>\n",
    "\n",
    "<div class=\"alert alert-warning\">\n",
    "    <h2> Комментарий ревьюера <a class=\"tocSkip\"> </h2>\n",
    "    \n",
    "<b>Некоторые замечания и рекомендации💡:</b> В случае, когда решение на отдельном шаге станет еще лучше, если внести небольшие коррективы.\n",
    "</div>\n",
    "\n",
    "\n",
    "<br/>\n",
    "\n",
    "<div class=\"alert alert-block alert-danger\">\n",
    "<h2> Комментарий ревьюера <a class=\"tocSkip\"></h2>\n",
    "\n",
    "    \n",
    "<b>На доработку🤔:</b> В случае, когда решение на отдельном шаге требует существенной переработки и внесения правок. Напоминаю, что проект не может быть принят с первого раза, если ревью содержит комментарии, рекомендующие доработать шаги.\n",
    "</div>\n",
    "    \n",
    "Увидев у тебя неточность, в первый раз я лишь укажу на ее наличие и дам тебе возможность самому найти и исправить ее. На реальной работе твой руководитель будет поступать также, и я пытаюсь подготовить тебя именно к работе аналитиком. Но если ты пока не справишься с такой задачей - при следующей проверке я дам более точную подсказку!🤓\n",
    "    \n",
    "    \n",
    "</div>   "
   ]
  },
  {
   "cell_type": "markdown",
   "metadata": {},
   "source": [
    "Арина приветствую!\n",
    "<font color='blue'><h2> Новые добавления<a class=\"tocSkip\"> </h2>\n",
    "\n",
    "Новые добавления и изменения в проекте выделил синим цветом и обозначил начало и конец:\n",
    "</font>\n",
    "<font color='blue'><h2> Конец новых добавлений<a class=\"tocSkip\"> </h2>"
   ]
  },
  {
   "cell_type": "markdown",
   "metadata": {},
   "source": [
    "<div class=\"alert alert-success\">\n",
    "<h2> Комментарий ревьюера: вторая итерация ревью <a class=\"tocSkip\"> </h2>\n",
    "\n",
    "<b>Все отлично!👍:</b>\n",
    "    \n",
    "Привет, рада снова видеть! Поняла тебя, давай посмотрим, что у тебя получилось скорректировать:)"
   ]
  },
  {
   "cell_type": "markdown",
   "metadata": {},
   "source": [
    "# Исследование объявлений о продаже квартир\n",
    "\n",
    "В вашем распоряжении данные сервиса Яндекс.Недвижимость — архив объявлений о продаже квартир в Санкт-Петербурге и соседних населённых пунктах за несколько лет. Нужно научиться определять рыночную стоимость объектов недвижимости. Ваша задача — установить параметры. Это позволит построить автоматизированную систему: она отследит аномалии и мошенническую деятельность. \n",
    "\n",
    "По каждой квартире на продажу доступны два вида данных. Первые вписаны пользователем, вторые получены автоматически на основе картографических данных. Например, расстояние до центра, аэропорта, ближайшего парка и водоёма. "
   ]
  },
  {
   "cell_type": "markdown",
   "metadata": {},
   "source": [
    "<div class=\"alert alert-success\">\n",
    "<h2> Комментарий ревьюера <a class=\"tocSkip\"> </h2>\n",
    "\n",
    "<b>Все отлично!👍:</b> \n",
    "    \n",
    "Здорово, что ты начинаешь проект с введения и плана-содержания, я бы еще порекомендовала отдельно формулировать и фиксировать основную цель анализа."
   ]
  },
  {
   "cell_type": "markdown",
   "metadata": {},
   "source": [
    "## Изучение данных из файла"
   ]
  },
  {
   "cell_type": "code",
   "execution_count": 1,
   "metadata": {},
   "outputs": [],
   "source": [
    "import pandas as pd # импорт библиотеки pandas\n",
    "import warnings\n",
    "warnings.filterwarnings('ignore') #по совету Кирилла Талалаева отключаем сообщения об ошибках pandas"
   ]
  },
  {
   "cell_type": "markdown",
   "metadata": {},
   "source": [
    "Прочитаем файл data.csv из папки /datasets и сохраните его в переменной df:"
   ]
  },
  {
   "cell_type": "code",
   "execution_count": 2,
   "metadata": {},
   "outputs": [],
   "source": [
    "df = pd.read_csv('datasets/real_estate_data.csv') # чтение файла (Win10) с данными и сохранение в df"
   ]
  },
  {
   "cell_type": "markdown",
   "metadata": {},
   "source": [
    "Выведим на экран первые пять строк таблицы:"
   ]
  },
  {
   "cell_type": "code",
   "execution_count": 3,
   "metadata": {},
   "outputs": [
    {
     "data": {
      "text/html": [
       "<div>\n",
       "<style scoped>\n",
       "    .dataframe tbody tr th:only-of-type {\n",
       "        vertical-align: middle;\n",
       "    }\n",
       "\n",
       "    .dataframe tbody tr th {\n",
       "        vertical-align: top;\n",
       "    }\n",
       "\n",
       "    .dataframe thead th {\n",
       "        text-align: right;\n",
       "    }\n",
       "</style>\n",
       "<table border=\"1\" class=\"dataframe\">\n",
       "  <thead>\n",
       "    <tr style=\"text-align: right;\">\n",
       "      <th></th>\n",
       "      <th>total_images\\tlast_price\\ttotal_area\\tfirst_day_exposition\\trooms\\tceiling_height\\tfloors_total\\tliving_area\\tfloor\\tis_apartment\\tstudio\\topen_plan\\tkitchen_area\\tbalcony\\tlocality_name\\tairports_nearest\\tcityCenters_nearest\\tparks_around3000\\tparks_nearest\\tponds_around3000\\tponds_nearest\\tdays_exposition</th>\n",
       "    </tr>\n",
       "  </thead>\n",
       "  <tbody>\n",
       "    <tr>\n",
       "      <th>0</th>\n",
       "      <td>20\\t13000000.0\\t108.0\\t2019-03-07T00:00:00\\t3\\...</td>\n",
       "    </tr>\n",
       "    <tr>\n",
       "      <th>1</th>\n",
       "      <td>7\\t3350000.0\\t40.4\\t2018-12-04T00:00:00\\t1\\t\\t...</td>\n",
       "    </tr>\n",
       "    <tr>\n",
       "      <th>2</th>\n",
       "      <td>10\\t5196000.0\\t56.0\\t2015-08-20T00:00:00\\t2\\t\\...</td>\n",
       "    </tr>\n",
       "    <tr>\n",
       "      <th>3</th>\n",
       "      <td>0\\t64900000.0\\t159.0\\t2015-07-24T00:00:00\\t3\\t...</td>\n",
       "    </tr>\n",
       "    <tr>\n",
       "      <th>4</th>\n",
       "      <td>2\\t10000000.0\\t100.0\\t2018-06-19T00:00:00\\t2\\t...</td>\n",
       "    </tr>\n",
       "  </tbody>\n",
       "</table>\n",
       "</div>"
      ],
      "text/plain": [
       "  total_images\\tlast_price\\ttotal_area\\tfirst_day_exposition\\trooms\\tceiling_height\\tfloors_total\\tliving_area\\tfloor\\tis_apartment\\tstudio\\topen_plan\\tkitchen_area\\tbalcony\\tlocality_name\\tairports_nearest\\tcityCenters_nearest\\tparks_around3000\\tparks_nearest\\tponds_around3000\\tponds_nearest\\tdays_exposition\n",
       "0  20\\t13000000.0\\t108.0\\t2019-03-07T00:00:00\\t3\\...                                                                                                                                                                                                                                                                  \n",
       "1  7\\t3350000.0\\t40.4\\t2018-12-04T00:00:00\\t1\\t\\t...                                                                                                                                                                                                                                                                  \n",
       "2  10\\t5196000.0\\t56.0\\t2015-08-20T00:00:00\\t2\\t\\...                                                                                                                                                                                                                                                                  \n",
       "3  0\\t64900000.0\\t159.0\\t2015-07-24T00:00:00\\t3\\t...                                                                                                                                                                                                                                                                  \n",
       "4  2\\t10000000.0\\t100.0\\t2018-06-19T00:00:00\\t2\\t...                                                                                                                                                                                                                                                                  "
      ]
     },
     "execution_count": 3,
     "metadata": {},
     "output_type": "execute_result"
    }
   ],
   "source": [
    "df.head() # получение первых 5 строк таблицы df"
   ]
  },
  {
   "cell_type": "markdown",
   "metadata": {},
   "source": [
    "Судя по первым срокам таблицы явно есть проблемы с представлением данных, а именно с разделителем столбцов `\\`."
   ]
  },
  {
   "cell_type": "code",
   "execution_count": 4,
   "metadata": {},
   "outputs": [],
   "source": [
    "df = pd.read_csv('datasets/real_estate_data.csv', sep='\\t') # чтение файла с данными и сохранение в df \n",
    "# с учетом разделителя"
   ]
  },
  {
   "cell_type": "markdown",
   "metadata": {},
   "source": [
    "<div class=\"alert alert-warning\">\n",
    "    <h2> Комментарий ревьюера <a class=\"tocSkip\"> </h2>\n",
    "    \n",
    "<b>Некоторые замечания и рекомендации💡:</b> \n",
    "        \n",
    "Роман,\n",
    "        \n",
    "* для подгрузки данных рекомендую использовать конструкцию `try-except`, она поможет избежать потенциальных ошибок при загрузке данных, связанных, например, с некорректным указанием путей.\n",
    "        \n",
    "Подробнее о конструкции по ссылке:\n",
    "        \n",
    "https://pythonworld.ru/tipy-dannyx-v-python/isklyucheniya-v-python-konstrukciya-try-except-dlya-obrabotki-isklyuchenij.html"
   ]
  },
  {
   "cell_type": "code",
   "execution_count": 5,
   "metadata": {},
   "outputs": [],
   "source": [
    "pd.set_option('display.max_columns', None) # Сброс ограничений на число выводимых столбцов"
   ]
  },
  {
   "cell_type": "code",
   "execution_count": 6,
   "metadata": {},
   "outputs": [
    {
     "data": {
      "text/html": [
       "<div>\n",
       "<style scoped>\n",
       "    .dataframe tbody tr th:only-of-type {\n",
       "        vertical-align: middle;\n",
       "    }\n",
       "\n",
       "    .dataframe tbody tr th {\n",
       "        vertical-align: top;\n",
       "    }\n",
       "\n",
       "    .dataframe thead th {\n",
       "        text-align: right;\n",
       "    }\n",
       "</style>\n",
       "<table border=\"1\" class=\"dataframe\">\n",
       "  <thead>\n",
       "    <tr style=\"text-align: right;\">\n",
       "      <th></th>\n",
       "      <th>total_images</th>\n",
       "      <th>last_price</th>\n",
       "      <th>total_area</th>\n",
       "      <th>first_day_exposition</th>\n",
       "      <th>rooms</th>\n",
       "      <th>ceiling_height</th>\n",
       "      <th>floors_total</th>\n",
       "      <th>living_area</th>\n",
       "      <th>floor</th>\n",
       "      <th>is_apartment</th>\n",
       "      <th>studio</th>\n",
       "      <th>open_plan</th>\n",
       "      <th>kitchen_area</th>\n",
       "      <th>balcony</th>\n",
       "      <th>locality_name</th>\n",
       "      <th>airports_nearest</th>\n",
       "      <th>cityCenters_nearest</th>\n",
       "      <th>parks_around3000</th>\n",
       "      <th>parks_nearest</th>\n",
       "      <th>ponds_around3000</th>\n",
       "      <th>ponds_nearest</th>\n",
       "      <th>days_exposition</th>\n",
       "    </tr>\n",
       "  </thead>\n",
       "  <tbody>\n",
       "    <tr>\n",
       "      <th>0</th>\n",
       "      <td>20</td>\n",
       "      <td>13000000.0</td>\n",
       "      <td>108.00</td>\n",
       "      <td>2019-03-07T00:00:00</td>\n",
       "      <td>3</td>\n",
       "      <td>2.70</td>\n",
       "      <td>16.0</td>\n",
       "      <td>51.00</td>\n",
       "      <td>8</td>\n",
       "      <td>NaN</td>\n",
       "      <td>False</td>\n",
       "      <td>False</td>\n",
       "      <td>25.00</td>\n",
       "      <td>NaN</td>\n",
       "      <td>Санкт-Петербург</td>\n",
       "      <td>18863.0</td>\n",
       "      <td>16028.0</td>\n",
       "      <td>1.0</td>\n",
       "      <td>482.0</td>\n",
       "      <td>2.0</td>\n",
       "      <td>755.0</td>\n",
       "      <td>NaN</td>\n",
       "    </tr>\n",
       "    <tr>\n",
       "      <th>1</th>\n",
       "      <td>7</td>\n",
       "      <td>3350000.0</td>\n",
       "      <td>40.40</td>\n",
       "      <td>2018-12-04T00:00:00</td>\n",
       "      <td>1</td>\n",
       "      <td>NaN</td>\n",
       "      <td>11.0</td>\n",
       "      <td>18.60</td>\n",
       "      <td>1</td>\n",
       "      <td>NaN</td>\n",
       "      <td>False</td>\n",
       "      <td>False</td>\n",
       "      <td>11.00</td>\n",
       "      <td>2.0</td>\n",
       "      <td>посёлок Шушары</td>\n",
       "      <td>12817.0</td>\n",
       "      <td>18603.0</td>\n",
       "      <td>0.0</td>\n",
       "      <td>NaN</td>\n",
       "      <td>0.0</td>\n",
       "      <td>NaN</td>\n",
       "      <td>81.0</td>\n",
       "    </tr>\n",
       "    <tr>\n",
       "      <th>2</th>\n",
       "      <td>10</td>\n",
       "      <td>5196000.0</td>\n",
       "      <td>56.00</td>\n",
       "      <td>2015-08-20T00:00:00</td>\n",
       "      <td>2</td>\n",
       "      <td>NaN</td>\n",
       "      <td>5.0</td>\n",
       "      <td>34.30</td>\n",
       "      <td>4</td>\n",
       "      <td>NaN</td>\n",
       "      <td>False</td>\n",
       "      <td>False</td>\n",
       "      <td>8.30</td>\n",
       "      <td>0.0</td>\n",
       "      <td>Санкт-Петербург</td>\n",
       "      <td>21741.0</td>\n",
       "      <td>13933.0</td>\n",
       "      <td>1.0</td>\n",
       "      <td>90.0</td>\n",
       "      <td>2.0</td>\n",
       "      <td>574.0</td>\n",
       "      <td>558.0</td>\n",
       "    </tr>\n",
       "    <tr>\n",
       "      <th>3</th>\n",
       "      <td>0</td>\n",
       "      <td>64900000.0</td>\n",
       "      <td>159.00</td>\n",
       "      <td>2015-07-24T00:00:00</td>\n",
       "      <td>3</td>\n",
       "      <td>NaN</td>\n",
       "      <td>14.0</td>\n",
       "      <td>NaN</td>\n",
       "      <td>9</td>\n",
       "      <td>NaN</td>\n",
       "      <td>False</td>\n",
       "      <td>False</td>\n",
       "      <td>NaN</td>\n",
       "      <td>0.0</td>\n",
       "      <td>Санкт-Петербург</td>\n",
       "      <td>28098.0</td>\n",
       "      <td>6800.0</td>\n",
       "      <td>2.0</td>\n",
       "      <td>84.0</td>\n",
       "      <td>3.0</td>\n",
       "      <td>234.0</td>\n",
       "      <td>424.0</td>\n",
       "    </tr>\n",
       "    <tr>\n",
       "      <th>4</th>\n",
       "      <td>2</td>\n",
       "      <td>10000000.0</td>\n",
       "      <td>100.00</td>\n",
       "      <td>2018-06-19T00:00:00</td>\n",
       "      <td>2</td>\n",
       "      <td>3.03</td>\n",
       "      <td>14.0</td>\n",
       "      <td>32.00</td>\n",
       "      <td>13</td>\n",
       "      <td>NaN</td>\n",
       "      <td>False</td>\n",
       "      <td>False</td>\n",
       "      <td>41.00</td>\n",
       "      <td>NaN</td>\n",
       "      <td>Санкт-Петербург</td>\n",
       "      <td>31856.0</td>\n",
       "      <td>8098.0</td>\n",
       "      <td>2.0</td>\n",
       "      <td>112.0</td>\n",
       "      <td>1.0</td>\n",
       "      <td>48.0</td>\n",
       "      <td>121.0</td>\n",
       "    </tr>\n",
       "    <tr>\n",
       "      <th>5</th>\n",
       "      <td>10</td>\n",
       "      <td>2890000.0</td>\n",
       "      <td>30.40</td>\n",
       "      <td>2018-09-10T00:00:00</td>\n",
       "      <td>1</td>\n",
       "      <td>NaN</td>\n",
       "      <td>12.0</td>\n",
       "      <td>14.40</td>\n",
       "      <td>5</td>\n",
       "      <td>NaN</td>\n",
       "      <td>False</td>\n",
       "      <td>False</td>\n",
       "      <td>9.10</td>\n",
       "      <td>NaN</td>\n",
       "      <td>городской посёлок Янино-1</td>\n",
       "      <td>NaN</td>\n",
       "      <td>NaN</td>\n",
       "      <td>NaN</td>\n",
       "      <td>NaN</td>\n",
       "      <td>NaN</td>\n",
       "      <td>NaN</td>\n",
       "      <td>55.0</td>\n",
       "    </tr>\n",
       "    <tr>\n",
       "      <th>6</th>\n",
       "      <td>6</td>\n",
       "      <td>3700000.0</td>\n",
       "      <td>37.30</td>\n",
       "      <td>2017-11-02T00:00:00</td>\n",
       "      <td>1</td>\n",
       "      <td>NaN</td>\n",
       "      <td>26.0</td>\n",
       "      <td>10.60</td>\n",
       "      <td>6</td>\n",
       "      <td>NaN</td>\n",
       "      <td>False</td>\n",
       "      <td>False</td>\n",
       "      <td>14.40</td>\n",
       "      <td>1.0</td>\n",
       "      <td>посёлок Парголово</td>\n",
       "      <td>52996.0</td>\n",
       "      <td>19143.0</td>\n",
       "      <td>0.0</td>\n",
       "      <td>NaN</td>\n",
       "      <td>0.0</td>\n",
       "      <td>NaN</td>\n",
       "      <td>155.0</td>\n",
       "    </tr>\n",
       "    <tr>\n",
       "      <th>7</th>\n",
       "      <td>5</td>\n",
       "      <td>7915000.0</td>\n",
       "      <td>71.60</td>\n",
       "      <td>2019-04-18T00:00:00</td>\n",
       "      <td>2</td>\n",
       "      <td>NaN</td>\n",
       "      <td>24.0</td>\n",
       "      <td>NaN</td>\n",
       "      <td>22</td>\n",
       "      <td>NaN</td>\n",
       "      <td>False</td>\n",
       "      <td>False</td>\n",
       "      <td>18.90</td>\n",
       "      <td>2.0</td>\n",
       "      <td>Санкт-Петербург</td>\n",
       "      <td>23982.0</td>\n",
       "      <td>11634.0</td>\n",
       "      <td>0.0</td>\n",
       "      <td>NaN</td>\n",
       "      <td>0.0</td>\n",
       "      <td>NaN</td>\n",
       "      <td>NaN</td>\n",
       "    </tr>\n",
       "    <tr>\n",
       "      <th>8</th>\n",
       "      <td>20</td>\n",
       "      <td>2900000.0</td>\n",
       "      <td>33.16</td>\n",
       "      <td>2018-05-23T00:00:00</td>\n",
       "      <td>1</td>\n",
       "      <td>NaN</td>\n",
       "      <td>27.0</td>\n",
       "      <td>15.43</td>\n",
       "      <td>26</td>\n",
       "      <td>NaN</td>\n",
       "      <td>False</td>\n",
       "      <td>False</td>\n",
       "      <td>8.81</td>\n",
       "      <td>NaN</td>\n",
       "      <td>посёлок Мурино</td>\n",
       "      <td>NaN</td>\n",
       "      <td>NaN</td>\n",
       "      <td>NaN</td>\n",
       "      <td>NaN</td>\n",
       "      <td>NaN</td>\n",
       "      <td>NaN</td>\n",
       "      <td>189.0</td>\n",
       "    </tr>\n",
       "    <tr>\n",
       "      <th>9</th>\n",
       "      <td>18</td>\n",
       "      <td>5400000.0</td>\n",
       "      <td>61.00</td>\n",
       "      <td>2017-02-26T00:00:00</td>\n",
       "      <td>3</td>\n",
       "      <td>2.50</td>\n",
       "      <td>9.0</td>\n",
       "      <td>43.60</td>\n",
       "      <td>7</td>\n",
       "      <td>NaN</td>\n",
       "      <td>False</td>\n",
       "      <td>False</td>\n",
       "      <td>6.50</td>\n",
       "      <td>2.0</td>\n",
       "      <td>Санкт-Петербург</td>\n",
       "      <td>50898.0</td>\n",
       "      <td>15008.0</td>\n",
       "      <td>0.0</td>\n",
       "      <td>NaN</td>\n",
       "      <td>0.0</td>\n",
       "      <td>NaN</td>\n",
       "      <td>289.0</td>\n",
       "    </tr>\n",
       "  </tbody>\n",
       "</table>\n",
       "</div>"
      ],
      "text/plain": [
       "   total_images  last_price  total_area first_day_exposition  rooms  \\\n",
       "0            20  13000000.0      108.00  2019-03-07T00:00:00      3   \n",
       "1             7   3350000.0       40.40  2018-12-04T00:00:00      1   \n",
       "2            10   5196000.0       56.00  2015-08-20T00:00:00      2   \n",
       "3             0  64900000.0      159.00  2015-07-24T00:00:00      3   \n",
       "4             2  10000000.0      100.00  2018-06-19T00:00:00      2   \n",
       "5            10   2890000.0       30.40  2018-09-10T00:00:00      1   \n",
       "6             6   3700000.0       37.30  2017-11-02T00:00:00      1   \n",
       "7             5   7915000.0       71.60  2019-04-18T00:00:00      2   \n",
       "8            20   2900000.0       33.16  2018-05-23T00:00:00      1   \n",
       "9            18   5400000.0       61.00  2017-02-26T00:00:00      3   \n",
       "\n",
       "   ceiling_height  floors_total  living_area  floor is_apartment  studio  \\\n",
       "0            2.70          16.0        51.00      8          NaN   False   \n",
       "1             NaN          11.0        18.60      1          NaN   False   \n",
       "2             NaN           5.0        34.30      4          NaN   False   \n",
       "3             NaN          14.0          NaN      9          NaN   False   \n",
       "4            3.03          14.0        32.00     13          NaN   False   \n",
       "5             NaN          12.0        14.40      5          NaN   False   \n",
       "6             NaN          26.0        10.60      6          NaN   False   \n",
       "7             NaN          24.0          NaN     22          NaN   False   \n",
       "8             NaN          27.0        15.43     26          NaN   False   \n",
       "9            2.50           9.0        43.60      7          NaN   False   \n",
       "\n",
       "   open_plan  kitchen_area  balcony              locality_name  \\\n",
       "0      False         25.00      NaN            Санкт-Петербург   \n",
       "1      False         11.00      2.0             посёлок Шушары   \n",
       "2      False          8.30      0.0            Санкт-Петербург   \n",
       "3      False           NaN      0.0            Санкт-Петербург   \n",
       "4      False         41.00      NaN            Санкт-Петербург   \n",
       "5      False          9.10      NaN  городской посёлок Янино-1   \n",
       "6      False         14.40      1.0          посёлок Парголово   \n",
       "7      False         18.90      2.0            Санкт-Петербург   \n",
       "8      False          8.81      NaN             посёлок Мурино   \n",
       "9      False          6.50      2.0            Санкт-Петербург   \n",
       "\n",
       "   airports_nearest  cityCenters_nearest  parks_around3000  parks_nearest  \\\n",
       "0           18863.0              16028.0               1.0          482.0   \n",
       "1           12817.0              18603.0               0.0            NaN   \n",
       "2           21741.0              13933.0               1.0           90.0   \n",
       "3           28098.0               6800.0               2.0           84.0   \n",
       "4           31856.0               8098.0               2.0          112.0   \n",
       "5               NaN                  NaN               NaN            NaN   \n",
       "6           52996.0              19143.0               0.0            NaN   \n",
       "7           23982.0              11634.0               0.0            NaN   \n",
       "8               NaN                  NaN               NaN            NaN   \n",
       "9           50898.0              15008.0               0.0            NaN   \n",
       "\n",
       "   ponds_around3000  ponds_nearest  days_exposition  \n",
       "0               2.0          755.0              NaN  \n",
       "1               0.0            NaN             81.0  \n",
       "2               2.0          574.0            558.0  \n",
       "3               3.0          234.0            424.0  \n",
       "4               1.0           48.0            121.0  \n",
       "5               NaN            NaN             55.0  \n",
       "6               0.0            NaN            155.0  \n",
       "7               0.0            NaN              NaN  \n",
       "8               NaN            NaN            189.0  \n",
       "9               0.0            NaN            289.0  "
      ]
     },
     "execution_count": 6,
     "metadata": {},
     "output_type": "execute_result"
    }
   ],
   "source": [
    "df.head(10) # получение первых 10 строк таблицы df"
   ]
  },
  {
   "cell_type": "markdown",
   "metadata": {},
   "source": [
    "Теперь таблица выглядит лучше, и можно приступать к предобработке."
   ]
  },
  {
   "cell_type": "markdown",
   "metadata": {},
   "source": [
    "Одной командой получим общую информацию о таблице:"
   ]
  },
  {
   "cell_type": "code",
   "execution_count": 7,
   "metadata": {},
   "outputs": [
    {
     "name": "stdout",
     "output_type": "stream",
     "text": [
      "<class 'pandas.core.frame.DataFrame'>\n",
      "RangeIndex: 23699 entries, 0 to 23698\n",
      "Data columns (total 22 columns):\n",
      " #   Column                Non-Null Count  Dtype  \n",
      "---  ------                --------------  -----  \n",
      " 0   total_images          23699 non-null  int64  \n",
      " 1   last_price            23699 non-null  float64\n",
      " 2   total_area            23699 non-null  float64\n",
      " 3   first_day_exposition  23699 non-null  object \n",
      " 4   rooms                 23699 non-null  int64  \n",
      " 5   ceiling_height        14504 non-null  float64\n",
      " 6   floors_total          23613 non-null  float64\n",
      " 7   living_area           21796 non-null  float64\n",
      " 8   floor                 23699 non-null  int64  \n",
      " 9   is_apartment          2775 non-null   object \n",
      " 10  studio                23699 non-null  bool   \n",
      " 11  open_plan             23699 non-null  bool   \n",
      " 12  kitchen_area          21421 non-null  float64\n",
      " 13  balcony               12180 non-null  float64\n",
      " 14  locality_name         23650 non-null  object \n",
      " 15  airports_nearest      18157 non-null  float64\n",
      " 16  cityCenters_nearest   18180 non-null  float64\n",
      " 17  parks_around3000      18181 non-null  float64\n",
      " 18  parks_nearest         8079 non-null   float64\n",
      " 19  ponds_around3000      18181 non-null  float64\n",
      " 20  ponds_nearest         9110 non-null   float64\n",
      " 21  days_exposition       20518 non-null  float64\n",
      "dtypes: bool(2), float64(14), int64(3), object(3)\n",
      "memory usage: 3.7+ MB\n"
     ]
    }
   ],
   "source": [
    "df.info()"
   ]
  },
  {
   "cell_type": "markdown",
   "metadata": {},
   "source": [
    "Описание данных:"
   ]
  },
  {
   "cell_type": "markdown",
   "metadata": {},
   "source": [
    "* `airports_nearest` — расстояние до ближайшего аэропорта в метрах (м)\n",
    "* `balcony` — число балконов\n",
    "* `ceiling_height` — высота потолков (м)\n",
    "* `cityCenters_nearest` — расстояние до центра города (м)\n",
    "* `days_exposition` — сколько дней было размещено объявление (от публикации до снятия)\n",
    "* `first_day_exposition` — дата публикации\n",
    "* `floor` — этаж\n",
    "* `floors_total` — всего этажей в доме\n",
    "* `is_apartment` — апартаменты (см. Пояснение) \n",
    "* `kitchen_area` — площадь кухни в квадратных метрах (м²)\n",
    "* `last_price` — цена на момент снятия с публикации\n",
    "* `living_area` — жилая площадь в квадратных метрах(м²)\n",
    "* `locality_name` — название населённого пункта\n",
    "* `open_plan` — свободная планировка (булев тип)\n",
    "* `parks_around3000` — число парков в радиусе 3 км\n",
    "* `parks_nearest` — расстояние до ближайшего парка (м)\n",
    "* `ponds_around3000` — число водоёмов в радиусе 3 км\n",
    "* `ponds_nearest` — расстояние до ближайшего водоёма (м)\n",
    "* `rooms` — число комнат\n",
    "* `studio` — квартира-студия (булев тип)\n",
    "* `total_area` — площадь квартиры в квадратных метрах (м²)\n",
    "* `total_images` — число фотографий квартиры в объявлении\n",
    "\n",
    "\n",
    "`Пояснение`: апартаменты — это нежилые помещения, не относящиеся к жилому фонду, но имеющие необходимые условия для проживания."
   ]
  },
  {
   "cell_type": "markdown",
   "metadata": {},
   "source": [
    "Замечания и выводы:"
   ]
  },
  {
   "cell_type": "markdown",
   "metadata": {},
   "source": [
    "1) Нарушений стиля `snake_case` в столбцах `cityCenters_nearest`, и столбцах с `around3000`, логично 3000 отделить от слов и получить `around_3000`. Остальные названия столбцов верные.\n",
    "\n",
    "2) В данных очень много пропусков, особенно в столбце `is_apartment`, `ponds_nearest`, `parks_nearest` и `ceiling_height`. Анализ, включающие эти критерии может быть недостоверным, если не найдется способы или предположения как верно заполнить недостающие значения в этих столбцах.\n",
    "\n",
    "В столбцах `airports_nearest`, `cityCenters_nearest`, `parks_around3000`, `ponds_around3000`, `balcony` так же недостает достаточно много данных.\n",
    "\n",
    "3) Большинство столбцов с типом данных float64 можно преобразовать в данные int64 (или не нужна точность дробей или дробные значения не имеют смысла).\n",
    "\n",
    "В столбцах же `total_area`, `kitchen_area`, `ceiling_height`, `living_area` точность данных может быть важна, поэтому тип данных float64 вполне уместен. \n",
    "\n",
    "4) Столбец `first_day_exposition`, `days_exposition` нужно привести к типу данных Date. Хотя возможно добавить новый столбец close_day где отразить даты окончания публикации.\n",
    "\n",
    "5) Столбец `is_apartment` должен быть типа bool\n",
    "\n",
    " Но что бы изменить тип данных не должно быть пропусков в даных, и нужно проанализировать пропуски и сделать выводы, о возможности или не возможности заполнения пропусков.\n"
   ]
  },
  {
   "cell_type": "markdown",
   "metadata": {},
   "source": [
    "<div class=\"alert alert-success\">\n",
    "<h2> Комментарий ревьюера <a class=\"tocSkip\"> </h2>\n",
    "\n",
    "<b>Все отлично!👍:</b> \n",
    "    \n",
    "Хорошо, ты изучил данные, опредил типы и основные проблемы в данных, связанные с пропусками, давай посмотрим, что у тебя получилось на следующих шагах анализа👀"
   ]
  },
  {
   "cell_type": "markdown",
   "metadata": {},
   "source": [
    "## Предобработка данных"
   ]
  },
  {
   "cell_type": "markdown",
   "metadata": {},
   "source": [
    "### Переименовываем столбцы"
   ]
  },
  {
   "cell_type": "code",
   "execution_count": 8,
   "metadata": {},
   "outputs": [
    {
     "data": {
      "text/plain": [
       "Index(['total_images', 'last_price', 'total_area', 'first_day_exposition',\n",
       "       'rooms', 'ceiling_height', 'floors_total', 'living_area', 'floor',\n",
       "       'is_apartment', 'studio', 'open_plan', 'kitchen_area', 'balcony',\n",
       "       'locality_name', 'airports_nearest', 'city_сenters_nearest',\n",
       "       'parks_around_3000', 'parks_nearest', 'ponds_around_3000',\n",
       "       'ponds_nearest', 'days_exposition'],\n",
       "      dtype='object')"
      ]
     },
     "execution_count": 8,
     "metadata": {},
     "output_type": "execute_result"
    }
   ],
   "source": [
    "df = df.rename(columns={'cityCenters_nearest': 'city_сenters_nearest',\n",
    "                        'parks_around3000': 'parks_around_3000',\n",
    "                        'ponds_around3000': 'ponds_around_3000' })\n",
    "df.columns # проверяем"
   ]
  },
  {
   "cell_type": "markdown",
   "metadata": {},
   "source": [
    "С именами теперь все в порядке"
   ]
  },
  {
   "cell_type": "markdown",
   "metadata": {},
   "source": [
    "### Проверим таблицу на явные полные дубликаты"
   ]
  },
  {
   "cell_type": "code",
   "execution_count": 9,
   "metadata": {},
   "outputs": [
    {
     "data": {
      "text/plain": [
       "0"
      ]
     },
     "execution_count": 9,
     "metadata": {},
     "output_type": "execute_result"
    }
   ],
   "source": [
    "df.duplicated().sum()"
   ]
  },
  {
   "cell_type": "markdown",
   "metadata": {},
   "source": [
    "Явные полные дубликаты не обнаружены"
   ]
  },
  {
   "cell_type": "markdown",
   "metadata": {},
   "source": [
    "### Заполнение пропусков в данных"
   ]
  },
  {
   "cell_type": "markdown",
   "metadata": {},
   "source": [
    "<div class=\"alert alert-warning\">\n",
    "    <h2> Комментарий ревьюера <a class=\"tocSkip\"> </h2>\n",
    "    \n",
    "<b>Некоторые замечания и рекомендации💡:</b> \n",
    "    \n",
    "На первом шаге анализа также важно посмотреть на процент пропусков по колонкам, это можно сделать,  например, так:\n",
    "    \n",
    "`data.isna().sum()*100/len(data)`\n",
    "        \n",
    "или так:\n",
    "        \n",
    "`df.isna().mean()`\n",
    "        \n",
    "вот так тоже получится красиво:\n",
    "        \n",
    "`pd.DataFrame(round((data.isna().mean()*100),2)).style.background_gradient('coolwarm')`\n",
    "\n",
    "более длинный с точки зрения кода вариант, но  тоже информативный:\n",
    "    \n",
    "`report = data.isna().sum().to_frame()\n",
    "report = report.rename(columns = {0: 'missing_values'})\n",
    "report['% of total'] = (report['missing_values'] / data.shape[0]).round(2)\n",
    "report.sort_values(by = 'missing_values', ascending = False)`\n",
    "    \n",
    "Это полезное действие при подборе стратегии заполнения пропусков: обычно, если в данных кол-во пропусков превышает 10%, восполнение пропусков результатами выполнения стандартных операций типа расчета среднего/медианы по столбцу, может привести к искажению данных. Если мы сталкиваемся с такой ситуацией, то важно подумать и подобрать более сложную восполнения пропусков в данных."
   ]
  },
  {
   "cell_type": "markdown",
   "metadata": {},
   "source": [
    "<font color='blue'><h2> Новые добавления<a class=\"tocSkip\">\n"
   ]
  },
  {
   "cell_type": "markdown",
   "metadata": {},
   "source": [
    "Подсчет процента пропусков в данных:"
   ]
  },
  {
   "cell_type": "code",
   "execution_count": 10,
   "metadata": {},
   "outputs": [
    {
     "data": {
      "text/plain": [
       "total_images             0.000000\n",
       "last_price               0.000000\n",
       "total_area               0.000000\n",
       "first_day_exposition     0.000000\n",
       "rooms                    0.000000\n",
       "ceiling_height          38.799105\n",
       "floors_total             0.362885\n",
       "living_area              8.029875\n",
       "floor                    0.000000\n",
       "is_apartment            88.290645\n",
       "studio                   0.000000\n",
       "open_plan                0.000000\n",
       "kitchen_area             9.612220\n",
       "balcony                 48.605426\n",
       "locality_name            0.206760\n",
       "airports_nearest        23.384953\n",
       "city_сenters_nearest    23.287902\n",
       "parks_around_3000       23.283683\n",
       "parks_nearest           65.909954\n",
       "ponds_around_3000       23.283683\n",
       "ponds_nearest           61.559559\n",
       "days_exposition         13.422507\n",
       "dtype: float64"
      ]
     },
     "execution_count": 10,
     "metadata": {},
     "output_type": "execute_result"
    }
   ],
   "source": [
    "df.isna().mean()*100"
   ]
  },
  {
   "cell_type": "markdown",
   "metadata": {},
   "source": [
    "Достаточно большое количество пропущенных данных для высоты потолков, обозначения апартаментов, обозначения наличия балконов, данных по расположения квартиры и наличия прудов и парков. Далее праанализируем пропуски и решим можно ли их заполнить."
   ]
  },
  {
   "cell_type": "markdown",
   "metadata": {},
   "source": [
    "<font color='blue'><h2> Конец новых добавлений<a class=\"tocSkip\"> </h2>\n",
    "   "
   ]
  },
  {
   "cell_type": "markdown",
   "metadata": {},
   "source": [
    "<div class=\"alert alert-success\">\n",
    "<h2> Комментарий ревьюера: вторая итерация ревью <a class=\"tocSkip\"> </h2>\n",
    "\n",
    "<b>Все отлично!👍:</b>\n",
    "    \n",
    "Здорово, что ты попробовал проверить процент пропусков, все получилось!"
   ]
  },
  {
   "cell_type": "markdown",
   "metadata": {},
   "source": [
    "Перед тем как приступить к замене типов данных столбцов необходимо исследовать и заполнить, где это возможно, пропущенные значения в ячейках столбцов."
   ]
  },
  {
   "cell_type": "markdown",
   "metadata": {},
   "source": [
    "Пропуски в столбце `ceiling_height` мы не можем заполнить ни медианными ни средними значениями ибо это будет далеко от истины. Мы могли бы предположить высоту наиболее часто встречающуюся у нас в стране это 2,5 метра, или если бы были известны точные адреса, то предположить, что по одному и тому же адресу потолки одининаковые и заполнить по известной высоте потолка по адресу."
   ]
  },
  {
   "cell_type": "markdown",
   "metadata": {},
   "source": [
    "Пропуски в столбце `floors_total`. Их немного, но так же, без точного адреса угадать высотность не представляется возможным."
   ]
  },
  {
   "cell_type": "markdown",
   "metadata": {},
   "source": [
    "Пропуски в столбце `living_area`. Это важный параметр для анализа цены квадратного метра, поэтому стоит заполнить пропущенные значения медианными значениями группируя данные по количеству комнат в квартире."
   ]
  },
  {
   "cell_type": "code",
   "execution_count": 11,
   "metadata": {
    "scrolled": true
   },
   "outputs": [
    {
     "name": "stdout",
     "output_type": "stream",
     "text": [
      "[0, 1, 2, 3, 4, 5, 6, 7, 8, 9, 10, 11, 12, 14, 15, 16, 19]\n"
     ]
    },
    {
     "data": {
      "text/plain": [
       "1     8047\n",
       "2     7940\n",
       "3     5814\n",
       "4     1180\n",
       "5      326\n",
       "0      197\n",
       "6      105\n",
       "7       59\n",
       "8       12\n",
       "9        8\n",
       "10       3\n",
       "14       2\n",
       "11       2\n",
       "19       1\n",
       "12       1\n",
       "16       1\n",
       "15       1\n",
       "Name: rooms, dtype: int64"
      ]
     },
     "execution_count": 11,
     "metadata": {},
     "output_type": "execute_result"
    }
   ],
   "source": [
    "rooms = list(df.groupby('rooms').groups.keys()) #список вариантов количества комнат в квартире\n",
    "print(rooms)\n",
    "# подсчет количетва значений\n",
    "df['rooms'].value_counts()"
   ]
  },
  {
   "cell_type": "markdown",
   "metadata": {},
   "source": [
    "0 это возможно студия, комнат 9 и более какие то дворцы или ошибки. в основном весь объем данных включает в себя квартиры с количеством комнат от 1 до 5. Но в общем то заполним все пустые знаения."
   ]
  },
  {
   "cell_type": "code",
   "execution_count": 12,
   "metadata": {},
   "outputs": [
    {
     "name": "stdout",
     "output_type": "stream",
     "text": [
      "18.0 медианное значение для количества комнат: 0\n",
      "17.6 медианное значение для количества комнат: 1\n",
      "30.5 медианное значение для количества комнат: 2\n",
      "45.0 медианное значение для количества комнат: 3\n",
      "63.6 медианное значение для количества комнат: 4\n",
      "91.785 медианное значение для количества комнат: 5\n",
      "123.9 медианное значение для количества комнат: 6\n",
      "145.0 медианное значение для количества комнат: 7\n",
      "161.0 медианное значение для количества комнат: 8\n",
      "179.2 медианное значение для количества комнат: 9\n",
      "161.4 медианное значение для количества комнат: 10\n",
      "133.9 медианное значение для количества комнат: 11\n",
      "409.7 медианное значение для количества комнат: 12\n",
      "195.15 медианное значение для количества комнат: 14\n",
      "409.0 медианное значение для количества комнат: 15\n",
      "180.0 медианное значение для количества комнат: 16\n",
      "264.5 медианное значение для количества комнат: 19\n"
     ]
    },
    {
     "data": {
      "text/plain": [
       "0"
      ]
     },
     "execution_count": 12,
     "metadata": {},
     "output_type": "execute_result"
    }
   ],
   "source": [
    "#Пробежим циклом по этому списку, найдем медианные значения фильтруя по количеству комнат и заполним пустые значения\n",
    "for room in rooms:\n",
    "    # находим медианное значение, игнорируя пропуски\n",
    "    median = df[df['rooms'] == room]['living_area'].median(skipna = True)\n",
    "    print(f'{median} медианное значение для количества комнат: {room}')\n",
    "    # заменим значения ячеек фильтруя по количесту комнат и наличию пропущеного значения в жилой площади\n",
    "    df.loc[(df['rooms'] == room) & (pd.isna(df['living_area'])),'living_area'] = median\n",
    "# проверим наличие пропусков сейчас\n",
    "df['living_area'].isna().sum()"
   ]
  },
  {
   "cell_type": "markdown",
   "metadata": {},
   "source": [
    "Пропуски в стобце `is_apartment`. Здесь стоит исследовать чем вообще заполнены ячейки в этом столбце (True, False, NaN?) и уже далее делать выводы, о возможности заполнения пустых ячеек. Предположительно стоит оставить ячейки с указанием True, остальные пустые ячейки заполнить False - если помещение жилое, то люди просто не ставят отметку."
   ]
  },
  {
   "cell_type": "code",
   "execution_count": 13,
   "metadata": {
    "scrolled": true
   },
   "outputs": [
    {
     "data": {
      "text/plain": [
       "False    2725\n",
       "True       50\n",
       "Name: is_apartment, dtype: int64"
      ]
     },
     "execution_count": 13,
     "metadata": {},
     "output_type": "execute_result"
    }
   ],
   "source": [
    "# проверим чем заполнено\n",
    "df['is_apartment'].value_counts()"
   ]
  },
  {
   "cell_type": "markdown",
   "metadata": {},
   "source": [
    "Всего 50 нежилых помещений в базе."
   ]
  },
  {
   "cell_type": "code",
   "execution_count": 14,
   "metadata": {},
   "outputs": [
    {
     "data": {
      "text/plain": [
       "0"
      ]
     },
     "execution_count": 14,
     "metadata": {},
     "output_type": "execute_result"
    }
   ],
   "source": [
    "# заполним пустые знаения\n",
    "df['is_apartment'] = df['is_apartment'].fillna(False)\n",
    "# проверим на пропуски\n",
    "df['living_area'].isna().sum()"
   ]
  },
  {
   "cell_type": "markdown",
   "metadata": {},
   "source": [
    "Пропуски в стобце `kitchen_area`. Без понимания точного адреса дома определить возможный размер кухни в зависимости от рамера квартиры весьма затруднительно, так как часто размер кухни не привязан к количеству комнат в квартире. Но как вариант можно заполнить медианным значением по всему стобцу."
   ]
  },
  {
   "cell_type": "code",
   "execution_count": 15,
   "metadata": {},
   "outputs": [
    {
     "name": "stdout",
     "output_type": "stream",
     "text": [
      "9.1\n"
     ]
    },
    {
     "data": {
      "text/plain": [
       "0"
      ]
     },
     "execution_count": 15,
     "metadata": {},
     "output_type": "execute_result"
    }
   ],
   "source": [
    "# находим медианное значение, игнорируя пропуски\n",
    "median = df['kitchen_area'].median(skipna = True)\n",
    "print(median)\n",
    "# заменим значения ячеек фильтруя по наличию пропущеного значения в площади кухни\n",
    "df.loc[pd.isna(df['kitchen_area']),'kitchen_area'] = median\n",
    "# проверим на пропуски\n",
    "df['kitchen_area'].isna().sum()"
   ]
  },
  {
   "cell_type": "markdown",
   "metadata": {},
   "source": [
    "Пропуски в стобце `balcony`. Здесь предполагаем, что если не указано информации, то балкона нет."
   ]
  },
  {
   "cell_type": "code",
   "execution_count": 16,
   "metadata": {},
   "outputs": [
    {
     "data": {
      "text/plain": [
       "0"
      ]
     },
     "execution_count": 16,
     "metadata": {},
     "output_type": "execute_result"
    }
   ],
   "source": [
    "# просто заполняем все пропуски нолями\n",
    "df['balcony'] = df['balcony'].fillna(0)\n",
    "# проверим на пропуски\n",
    "df['balcony'].isna().sum()"
   ]
  },
  {
   "cell_type": "markdown",
   "metadata": {},
   "source": [
    "Пропуски в стобцах `city_сenters_nearest`, `airports_nearest`, `parks_around_3000`, `ponds_around_3000`. Эти столбцы явно заполнялись автоматически на основе точного адреса дома, и соответственно пропуски там, где точный адрес дома не был указан. Заполнить их без адреса нечем. Немного выбивается из общей картины чуть большое количество пропусков в столбце аэропортов, скорее всего автоматически не определилось расстояние до ближайщего аропорта, этим можно принебречь."
   ]
  },
  {
   "cell_type": "markdown",
   "metadata": {},
   "source": [
    "Пропуски в стобцах `parks_nearest`, `ponds_nearest` частично из-за неизвестного адреса (23699 минус 18180) и большинство из-за того, что в радиусе 3000 м. от адреса не нашлось прудов и парков."
   ]
  },
  {
   "cell_type": "markdown",
   "metadata": {},
   "source": [
    "Пропуски в стобце `days_exposition` скорее всего обсуловлены тем, что на момент составления таблицы указанные объявления не были еще сняты с публикации и расчет времени с опубликования до снятия не был произведен. Соответственно их заполнить чем то мы не можем."
   ]
  },
  {
   "cell_type": "code",
   "execution_count": 17,
   "metadata": {},
   "outputs": [
    {
     "name": "stdout",
     "output_type": "stream",
     "text": [
      "<class 'pandas.core.frame.DataFrame'>\n",
      "RangeIndex: 23699 entries, 0 to 23698\n",
      "Data columns (total 22 columns):\n",
      " #   Column                Non-Null Count  Dtype  \n",
      "---  ------                --------------  -----  \n",
      " 0   total_images          23699 non-null  int64  \n",
      " 1   last_price            23699 non-null  float64\n",
      " 2   total_area            23699 non-null  float64\n",
      " 3   first_day_exposition  23699 non-null  object \n",
      " 4   rooms                 23699 non-null  int64  \n",
      " 5   ceiling_height        14504 non-null  float64\n",
      " 6   floors_total          23613 non-null  float64\n",
      " 7   living_area           23699 non-null  float64\n",
      " 8   floor                 23699 non-null  int64  \n",
      " 9   is_apartment          23699 non-null  bool   \n",
      " 10  studio                23699 non-null  bool   \n",
      " 11  open_plan             23699 non-null  bool   \n",
      " 12  kitchen_area          23699 non-null  float64\n",
      " 13  balcony               23699 non-null  float64\n",
      " 14  locality_name         23650 non-null  object \n",
      " 15  airports_nearest      18157 non-null  float64\n",
      " 16  city_сenters_nearest  18180 non-null  float64\n",
      " 17  parks_around_3000     18181 non-null  float64\n",
      " 18  parks_nearest         8079 non-null   float64\n",
      " 19  ponds_around_3000     18181 non-null  float64\n",
      " 20  ponds_nearest         9110 non-null   float64\n",
      " 21  days_exposition       20518 non-null  float64\n",
      "dtypes: bool(3), float64(14), int64(3), object(2)\n",
      "memory usage: 3.5+ MB\n"
     ]
    }
   ],
   "source": [
    "df.info()"
   ]
  },
  {
   "cell_type": "markdown",
   "metadata": {},
   "source": [
    "<div class=\"alert alert-success\">\n",
    "<h2> Комментарий ревьюера <a class=\"tocSkip\"> </h2>\n",
    "\n",
    "<b>Все отлично!👍:</b> \n",
    "\n",
    "Роман, ты предложил определенные подходы к заполнению пропусков в данных, в целом предложенные тобой решения рабочие и дают определенный результат, согласна с твоей стратегией работы с пропусками, так держать!\n",
    "    \n",
    "Например, не совсем корректно заменять пропуски в `ceiling_height` на среднее или медианное значение потолков (это же касается моды), здесь ты абсолютно прав. В этой колонке отсутствует около 38% данных. Это очень много, и сложно найти веские причины для таких радикальных трансформаций. А в случае замены на конкретное значение без ссылки на источники - это, скорее, искажение исходных данных, а не их обогащение.\n",
    "    \n",
    "Такая стратегия удачна для переменных, в которых отсутствует до 10% данных.\n",
    "\n",
    "Зачем мы вообще проводим EDA? Есть два пункта:\n",
    "1. Мы хотим получить какие-то инсайты о данных (средние значения, минимумы, максимумы и т.д.), чтобы описать, например, среднестатистическую продаваемую квартиру.\n",
    "2. Мы хотим проверить, подходят ли данные для моделирования (смотрим на аномалии, распределения переменных и другие характеристики) — об этом ты узнаешь в последующих уроках🙌\n",
    "    \n",
    "Соответственно, мы должны быть очень осторожны с изменением изначальных данных. Трансформации с булевыми переменными не должны сильно повлиять на наши будущие интерпретации, так как логика замены довольно сильная: если нет полижительного ответа, значит, он отрицательный. Но все остальные преобразования — под вопросом, поскольку это искусственная замена.\n",
    "\n",
    "Также в этих данных есть картографические данные (расстояние до парков и проч), эти данные тоже не совсем продуктивно восполнять, потому что процент пропусков слишком большой, наверняка эти данные заполнялись автоматически, поэтому сложно восстановить их каким-то известным способом.\n",
    "       \n",
    "Я бы также не рекомендовала заполнять пропуски в колонке `days_exposition`. Процент пропусков снова больше 10, плюс данные чувствительные и используются в анализе, тут скорее важно наоборот учесть эти пропуски. Ты также не стал заполнять пропуски в этой колонке, все верно!\n",
    "\n",
    "Конечно, последнее слово всегда за аналитиком, но в реальной жизни важно понимать вероятность того, что объективность данных может быть искажена подобными. Чтобы доказать обратное, можно, например, сравнить распределения и ключевые статистики до и после замены.\n",
    "    \n",
    "Хочу посоветовать тебе статью, которая рассматривает разные способы обработки пропусков, выделяет их плюсы и минусы, думаю, тебе может быть интересно: https://loginom.ru/blog/missing\n",
    "    \n",
    "Какие стратегии замены были бы наименее \"болезненными\" и  \"искажающими\"? Можно попробовать заполнить пропуски по группировкам (это в целом адекватный способ, если процент пропусков небольшой). Или построить корреляционную матрицу, посмотреть, какие переменные коррелируют между собой, и на основе корреляции и группировки заполнить пропуски. Но при этом опять-таки важно оценивать масштаб проблемы, и применять любые стратегии заполнения только там, где это действительно уместно и возможно, как и сказано в инструкции к проекту."
   ]
  },
  {
   "cell_type": "markdown",
   "metadata": {},
   "source": [
    "<div class=\"alert alert-warning\">\n",
    "    <h2> Комментарий ревьюера <a class=\"tocSkip\"> </h2>\n",
    "    \n",
    "<b>Некоторые замечания и рекомендации💡:</b> \n",
    "        \n",
    "На данном шаге я бы также посоветовала обработать названия населенных пунктов в колонке: можно привести названия населенных пунктов к нижнему регистру, произвести обработку буквы ё (замена на е), в этом тебе помогут строковые методы. Это действие может быть полезно с точки зрения избавления от неявных дубликатов в названиях населенных пунктов."
   ]
  },
  {
   "cell_type": "markdown",
   "metadata": {},
   "source": [
    "\n",
    "<font color='blue'><h2> Новые добавления<a class=\"tocSkip\"> \n"
   ]
  },
  {
   "cell_type": "markdown",
   "metadata": {},
   "source": [
    "Посчитаем количсетво уникальных названий населенных пунктов:"
   ]
  },
  {
   "cell_type": "code",
   "execution_count": 18,
   "metadata": {},
   "outputs": [
    {
     "data": {
      "text/plain": [
       "364"
      ]
     },
     "execution_count": 18,
     "metadata": {},
     "output_type": "execute_result"
    }
   ],
   "source": [
    "df['locality_name'].value_counts().count()"
   ]
  },
  {
   "cell_type": "markdown",
   "metadata": {},
   "source": [
    "Приведем названия к нижнему регистру"
   ]
  },
  {
   "cell_type": "code",
   "execution_count": 19,
   "metadata": {},
   "outputs": [],
   "source": [
    "df['locality_name'] = df['locality_name'].str.lower()"
   ]
  },
  {
   "cell_type": "markdown",
   "metadata": {},
   "source": [
    "Заменим все буквы ё на е"
   ]
  },
  {
   "cell_type": "code",
   "execution_count": 20,
   "metadata": {},
   "outputs": [],
   "source": [
    "df['locality_name'] = df['locality_name'].str.replace('ё','е')"
   ]
  },
  {
   "cell_type": "markdown",
   "metadata": {},
   "source": [
    "Выведем опять количество уникальных значений"
   ]
  },
  {
   "cell_type": "code",
   "execution_count": 21,
   "metadata": {},
   "outputs": [
    {
     "data": {
      "text/plain": [
       "330"
      ]
     },
     "execution_count": 21,
     "metadata": {},
     "output_type": "execute_result"
    }
   ],
   "source": [
    "df['locality_name'].value_counts().count()"
   ]
  },
  {
   "cell_type": "markdown",
   "metadata": {},
   "source": [
    "Видим что были по разному записаны некоторые населенные пункты - пропало 34 названия."
   ]
  },
  {
   "cell_type": "markdown",
   "metadata": {},
   "source": [
    "<font color='blue'><h2> Конец новых добавлений<a class=\"tocSkip\"> </h2>"
   ]
  },
  {
   "cell_type": "markdown",
   "metadata": {},
   "source": [
    "<div class=\"alert alert-success\">\n",
    "<h2> Комментарий ревьюера: вторая итерация ревью <a class=\"tocSkip\"> </h2>\n",
    "\n",
    "<b>Все отлично!👍</b>\n",
    "    \n"
   ]
  },
  {
   "cell_type": "markdown",
   "metadata": {},
   "source": [
    "### Изменение типов данных "
   ]
  },
  {
   "cell_type": "markdown",
   "metadata": {},
   "source": [
    "Основной столбец, где нам нужно поменять тип данных ан date это `first_day_exposition`, так как далее мы сможем выделить из него дни, месяцы и годы публикации объявления."
   ]
  },
  {
   "cell_type": "code",
   "execution_count": 22,
   "metadata": {},
   "outputs": [],
   "source": [
    "df['first_day_exposition'] = pd.to_datetime(df['first_day_exposition'], format='%Y-%m-%dT%H:%M:%S')"
   ]
  },
  {
   "cell_type": "markdown",
   "metadata": {},
   "source": [
    "Можно было бы изменим тип столбца `days_exposition`, дабы было четко определено что это дни. Но тогда по этим данным потом не построим гистограмму времени продажи."
   ]
  },
  {
   "cell_type": "code",
   "execution_count": 23,
   "metadata": {
    "scrolled": false
   },
   "outputs": [],
   "source": [
    "#df['days_exposition'] = pd.to_timedelta(df['days_exposition'], unit='d')\n",
    "# при этом ячейки NaN преобразовались в NaT\n",
    "# поэтому просто преобразуем его в int\n",
    "df['days_exposition'] = df['days_exposition'].fillna(-1).astype('int64')"
   ]
  },
  {
   "cell_type": "markdown",
   "metadata": {},
   "source": [
    "Ну и некоторые Float преобразуем в int, чисто в академических целях."
   ]
  },
  {
   "cell_type": "code",
   "execution_count": 24,
   "metadata": {},
   "outputs": [],
   "source": [
    "#import numpy as np\n",
    "df['last_price'] = df['last_price'].astype('int64')\n",
    "# заполним пустые значения числами -1 (таких там нет, проверено value_counts(), запомним, что это NaN) преобразуем тип\n",
    "df['floors_total'] = df['floors_total'].fillna(-1).astype('int64')\n",
    "#\n",
    "df['balcony'] = df['balcony'].astype('int')\n",
    "#\n",
    "df['parks_around_3000'] = df['parks_around_3000'].fillna(-1).astype('int64')\n",
    "#df.loc[df['parks_around_3000'] == -1, 'parks_around_3000'] = np.nan\n",
    "#\n",
    "df['ponds_around_3000'] = df['ponds_around_3000'].fillna(-1).astype('int64')"
   ]
  },
  {
   "cell_type": "markdown",
   "metadata": {},
   "source": [
    "<div class=\"alert alert-success\">\n",
    "<h2> Комментарий ревьюера <a class=\"tocSkip\"> </h2>\n",
    "\n",
    "<b>Все отлично!👍:</b> \n",
    "    \n",
    "Типы данных заменены корректно!"
   ]
  },
  {
   "cell_type": "code",
   "execution_count": 25,
   "metadata": {},
   "outputs": [
    {
     "name": "stdout",
     "output_type": "stream",
     "text": [
      "<class 'pandas.core.frame.DataFrame'>\n",
      "RangeIndex: 23699 entries, 0 to 23698\n",
      "Data columns (total 22 columns):\n",
      " #   Column                Non-Null Count  Dtype         \n",
      "---  ------                --------------  -----         \n",
      " 0   total_images          23699 non-null  int64         \n",
      " 1   last_price            23699 non-null  int64         \n",
      " 2   total_area            23699 non-null  float64       \n",
      " 3   first_day_exposition  23699 non-null  datetime64[ns]\n",
      " 4   rooms                 23699 non-null  int64         \n",
      " 5   ceiling_height        14504 non-null  float64       \n",
      " 6   floors_total          23699 non-null  int64         \n",
      " 7   living_area           23699 non-null  float64       \n",
      " 8   floor                 23699 non-null  int64         \n",
      " 9   is_apartment          23699 non-null  bool          \n",
      " 10  studio                23699 non-null  bool          \n",
      " 11  open_plan             23699 non-null  bool          \n",
      " 12  kitchen_area          23699 non-null  float64       \n",
      " 13  balcony               23699 non-null  int32         \n",
      " 14  locality_name         23650 non-null  object        \n",
      " 15  airports_nearest      18157 non-null  float64       \n",
      " 16  city_сenters_nearest  18180 non-null  float64       \n",
      " 17  parks_around_3000     23699 non-null  int64         \n",
      " 18  parks_nearest         8079 non-null   float64       \n",
      " 19  ponds_around_3000     23699 non-null  int64         \n",
      " 20  ponds_nearest         9110 non-null   float64       \n",
      " 21  days_exposition       23699 non-null  int64         \n",
      "dtypes: bool(3), datetime64[ns](1), float64(8), int32(1), int64(8), object(1)\n",
      "memory usage: 3.4+ MB\n"
     ]
    },
    {
     "data": {
      "text/html": [
       "<div>\n",
       "<style scoped>\n",
       "    .dataframe tbody tr th:only-of-type {\n",
       "        vertical-align: middle;\n",
       "    }\n",
       "\n",
       "    .dataframe tbody tr th {\n",
       "        vertical-align: top;\n",
       "    }\n",
       "\n",
       "    .dataframe thead th {\n",
       "        text-align: right;\n",
       "    }\n",
       "</style>\n",
       "<table border=\"1\" class=\"dataframe\">\n",
       "  <thead>\n",
       "    <tr style=\"text-align: right;\">\n",
       "      <th></th>\n",
       "      <th>total_images</th>\n",
       "      <th>last_price</th>\n",
       "      <th>total_area</th>\n",
       "      <th>first_day_exposition</th>\n",
       "      <th>rooms</th>\n",
       "      <th>ceiling_height</th>\n",
       "      <th>floors_total</th>\n",
       "      <th>living_area</th>\n",
       "      <th>floor</th>\n",
       "      <th>is_apartment</th>\n",
       "      <th>studio</th>\n",
       "      <th>open_plan</th>\n",
       "      <th>kitchen_area</th>\n",
       "      <th>balcony</th>\n",
       "      <th>locality_name</th>\n",
       "      <th>airports_nearest</th>\n",
       "      <th>city_сenters_nearest</th>\n",
       "      <th>parks_around_3000</th>\n",
       "      <th>parks_nearest</th>\n",
       "      <th>ponds_around_3000</th>\n",
       "      <th>ponds_nearest</th>\n",
       "      <th>days_exposition</th>\n",
       "    </tr>\n",
       "  </thead>\n",
       "  <tbody>\n",
       "    <tr>\n",
       "      <th>0</th>\n",
       "      <td>20</td>\n",
       "      <td>13000000</td>\n",
       "      <td>108.00</td>\n",
       "      <td>2019-03-07</td>\n",
       "      <td>3</td>\n",
       "      <td>2.70</td>\n",
       "      <td>16</td>\n",
       "      <td>51.00</td>\n",
       "      <td>8</td>\n",
       "      <td>False</td>\n",
       "      <td>False</td>\n",
       "      <td>False</td>\n",
       "      <td>25.00</td>\n",
       "      <td>0</td>\n",
       "      <td>санкт-петербург</td>\n",
       "      <td>18863.0</td>\n",
       "      <td>16028.0</td>\n",
       "      <td>1</td>\n",
       "      <td>482.0</td>\n",
       "      <td>2</td>\n",
       "      <td>755.0</td>\n",
       "      <td>-1</td>\n",
       "    </tr>\n",
       "    <tr>\n",
       "      <th>1</th>\n",
       "      <td>7</td>\n",
       "      <td>3350000</td>\n",
       "      <td>40.40</td>\n",
       "      <td>2018-12-04</td>\n",
       "      <td>1</td>\n",
       "      <td>NaN</td>\n",
       "      <td>11</td>\n",
       "      <td>18.60</td>\n",
       "      <td>1</td>\n",
       "      <td>False</td>\n",
       "      <td>False</td>\n",
       "      <td>False</td>\n",
       "      <td>11.00</td>\n",
       "      <td>2</td>\n",
       "      <td>поселок шушары</td>\n",
       "      <td>12817.0</td>\n",
       "      <td>18603.0</td>\n",
       "      <td>0</td>\n",
       "      <td>NaN</td>\n",
       "      <td>0</td>\n",
       "      <td>NaN</td>\n",
       "      <td>81</td>\n",
       "    </tr>\n",
       "    <tr>\n",
       "      <th>2</th>\n",
       "      <td>10</td>\n",
       "      <td>5196000</td>\n",
       "      <td>56.00</td>\n",
       "      <td>2015-08-20</td>\n",
       "      <td>2</td>\n",
       "      <td>NaN</td>\n",
       "      <td>5</td>\n",
       "      <td>34.30</td>\n",
       "      <td>4</td>\n",
       "      <td>False</td>\n",
       "      <td>False</td>\n",
       "      <td>False</td>\n",
       "      <td>8.30</td>\n",
       "      <td>0</td>\n",
       "      <td>санкт-петербург</td>\n",
       "      <td>21741.0</td>\n",
       "      <td>13933.0</td>\n",
       "      <td>1</td>\n",
       "      <td>90.0</td>\n",
       "      <td>2</td>\n",
       "      <td>574.0</td>\n",
       "      <td>558</td>\n",
       "    </tr>\n",
       "    <tr>\n",
       "      <th>3</th>\n",
       "      <td>0</td>\n",
       "      <td>64900000</td>\n",
       "      <td>159.00</td>\n",
       "      <td>2015-07-24</td>\n",
       "      <td>3</td>\n",
       "      <td>NaN</td>\n",
       "      <td>14</td>\n",
       "      <td>45.00</td>\n",
       "      <td>9</td>\n",
       "      <td>False</td>\n",
       "      <td>False</td>\n",
       "      <td>False</td>\n",
       "      <td>9.10</td>\n",
       "      <td>0</td>\n",
       "      <td>санкт-петербург</td>\n",
       "      <td>28098.0</td>\n",
       "      <td>6800.0</td>\n",
       "      <td>2</td>\n",
       "      <td>84.0</td>\n",
       "      <td>3</td>\n",
       "      <td>234.0</td>\n",
       "      <td>424</td>\n",
       "    </tr>\n",
       "    <tr>\n",
       "      <th>4</th>\n",
       "      <td>2</td>\n",
       "      <td>10000000</td>\n",
       "      <td>100.00</td>\n",
       "      <td>2018-06-19</td>\n",
       "      <td>2</td>\n",
       "      <td>3.03</td>\n",
       "      <td>14</td>\n",
       "      <td>32.00</td>\n",
       "      <td>13</td>\n",
       "      <td>False</td>\n",
       "      <td>False</td>\n",
       "      <td>False</td>\n",
       "      <td>41.00</td>\n",
       "      <td>0</td>\n",
       "      <td>санкт-петербург</td>\n",
       "      <td>31856.0</td>\n",
       "      <td>8098.0</td>\n",
       "      <td>2</td>\n",
       "      <td>112.0</td>\n",
       "      <td>1</td>\n",
       "      <td>48.0</td>\n",
       "      <td>121</td>\n",
       "    </tr>\n",
       "    <tr>\n",
       "      <th>5</th>\n",
       "      <td>10</td>\n",
       "      <td>2890000</td>\n",
       "      <td>30.40</td>\n",
       "      <td>2018-09-10</td>\n",
       "      <td>1</td>\n",
       "      <td>NaN</td>\n",
       "      <td>12</td>\n",
       "      <td>14.40</td>\n",
       "      <td>5</td>\n",
       "      <td>False</td>\n",
       "      <td>False</td>\n",
       "      <td>False</td>\n",
       "      <td>9.10</td>\n",
       "      <td>0</td>\n",
       "      <td>городской поселок янино-1</td>\n",
       "      <td>NaN</td>\n",
       "      <td>NaN</td>\n",
       "      <td>-1</td>\n",
       "      <td>NaN</td>\n",
       "      <td>-1</td>\n",
       "      <td>NaN</td>\n",
       "      <td>55</td>\n",
       "    </tr>\n",
       "    <tr>\n",
       "      <th>6</th>\n",
       "      <td>6</td>\n",
       "      <td>3700000</td>\n",
       "      <td>37.30</td>\n",
       "      <td>2017-11-02</td>\n",
       "      <td>1</td>\n",
       "      <td>NaN</td>\n",
       "      <td>26</td>\n",
       "      <td>10.60</td>\n",
       "      <td>6</td>\n",
       "      <td>False</td>\n",
       "      <td>False</td>\n",
       "      <td>False</td>\n",
       "      <td>14.40</td>\n",
       "      <td>1</td>\n",
       "      <td>поселок парголово</td>\n",
       "      <td>52996.0</td>\n",
       "      <td>19143.0</td>\n",
       "      <td>0</td>\n",
       "      <td>NaN</td>\n",
       "      <td>0</td>\n",
       "      <td>NaN</td>\n",
       "      <td>155</td>\n",
       "    </tr>\n",
       "    <tr>\n",
       "      <th>7</th>\n",
       "      <td>5</td>\n",
       "      <td>7915000</td>\n",
       "      <td>71.60</td>\n",
       "      <td>2019-04-18</td>\n",
       "      <td>2</td>\n",
       "      <td>NaN</td>\n",
       "      <td>24</td>\n",
       "      <td>30.50</td>\n",
       "      <td>22</td>\n",
       "      <td>False</td>\n",
       "      <td>False</td>\n",
       "      <td>False</td>\n",
       "      <td>18.90</td>\n",
       "      <td>2</td>\n",
       "      <td>санкт-петербург</td>\n",
       "      <td>23982.0</td>\n",
       "      <td>11634.0</td>\n",
       "      <td>0</td>\n",
       "      <td>NaN</td>\n",
       "      <td>0</td>\n",
       "      <td>NaN</td>\n",
       "      <td>-1</td>\n",
       "    </tr>\n",
       "    <tr>\n",
       "      <th>8</th>\n",
       "      <td>20</td>\n",
       "      <td>2900000</td>\n",
       "      <td>33.16</td>\n",
       "      <td>2018-05-23</td>\n",
       "      <td>1</td>\n",
       "      <td>NaN</td>\n",
       "      <td>27</td>\n",
       "      <td>15.43</td>\n",
       "      <td>26</td>\n",
       "      <td>False</td>\n",
       "      <td>False</td>\n",
       "      <td>False</td>\n",
       "      <td>8.81</td>\n",
       "      <td>0</td>\n",
       "      <td>поселок мурино</td>\n",
       "      <td>NaN</td>\n",
       "      <td>NaN</td>\n",
       "      <td>-1</td>\n",
       "      <td>NaN</td>\n",
       "      <td>-1</td>\n",
       "      <td>NaN</td>\n",
       "      <td>189</td>\n",
       "    </tr>\n",
       "    <tr>\n",
       "      <th>9</th>\n",
       "      <td>18</td>\n",
       "      <td>5400000</td>\n",
       "      <td>61.00</td>\n",
       "      <td>2017-02-26</td>\n",
       "      <td>3</td>\n",
       "      <td>2.50</td>\n",
       "      <td>9</td>\n",
       "      <td>43.60</td>\n",
       "      <td>7</td>\n",
       "      <td>False</td>\n",
       "      <td>False</td>\n",
       "      <td>False</td>\n",
       "      <td>6.50</td>\n",
       "      <td>2</td>\n",
       "      <td>санкт-петербург</td>\n",
       "      <td>50898.0</td>\n",
       "      <td>15008.0</td>\n",
       "      <td>0</td>\n",
       "      <td>NaN</td>\n",
       "      <td>0</td>\n",
       "      <td>NaN</td>\n",
       "      <td>289</td>\n",
       "    </tr>\n",
       "  </tbody>\n",
       "</table>\n",
       "</div>"
      ],
      "text/plain": [
       "   total_images  last_price  total_area first_day_exposition  rooms  \\\n",
       "0            20    13000000      108.00           2019-03-07      3   \n",
       "1             7     3350000       40.40           2018-12-04      1   \n",
       "2            10     5196000       56.00           2015-08-20      2   \n",
       "3             0    64900000      159.00           2015-07-24      3   \n",
       "4             2    10000000      100.00           2018-06-19      2   \n",
       "5            10     2890000       30.40           2018-09-10      1   \n",
       "6             6     3700000       37.30           2017-11-02      1   \n",
       "7             5     7915000       71.60           2019-04-18      2   \n",
       "8            20     2900000       33.16           2018-05-23      1   \n",
       "9            18     5400000       61.00           2017-02-26      3   \n",
       "\n",
       "   ceiling_height  floors_total  living_area  floor  is_apartment  studio  \\\n",
       "0            2.70            16        51.00      8         False   False   \n",
       "1             NaN            11        18.60      1         False   False   \n",
       "2             NaN             5        34.30      4         False   False   \n",
       "3             NaN            14        45.00      9         False   False   \n",
       "4            3.03            14        32.00     13         False   False   \n",
       "5             NaN            12        14.40      5         False   False   \n",
       "6             NaN            26        10.60      6         False   False   \n",
       "7             NaN            24        30.50     22         False   False   \n",
       "8             NaN            27        15.43     26         False   False   \n",
       "9            2.50             9        43.60      7         False   False   \n",
       "\n",
       "   open_plan  kitchen_area  balcony              locality_name  \\\n",
       "0      False         25.00        0            санкт-петербург   \n",
       "1      False         11.00        2             поселок шушары   \n",
       "2      False          8.30        0            санкт-петербург   \n",
       "3      False          9.10        0            санкт-петербург   \n",
       "4      False         41.00        0            санкт-петербург   \n",
       "5      False          9.10        0  городской поселок янино-1   \n",
       "6      False         14.40        1          поселок парголово   \n",
       "7      False         18.90        2            санкт-петербург   \n",
       "8      False          8.81        0             поселок мурино   \n",
       "9      False          6.50        2            санкт-петербург   \n",
       "\n",
       "   airports_nearest  city_сenters_nearest  parks_around_3000  parks_nearest  \\\n",
       "0           18863.0               16028.0                  1          482.0   \n",
       "1           12817.0               18603.0                  0            NaN   \n",
       "2           21741.0               13933.0                  1           90.0   \n",
       "3           28098.0                6800.0                  2           84.0   \n",
       "4           31856.0                8098.0                  2          112.0   \n",
       "5               NaN                   NaN                 -1            NaN   \n",
       "6           52996.0               19143.0                  0            NaN   \n",
       "7           23982.0               11634.0                  0            NaN   \n",
       "8               NaN                   NaN                 -1            NaN   \n",
       "9           50898.0               15008.0                  0            NaN   \n",
       "\n",
       "   ponds_around_3000  ponds_nearest  days_exposition  \n",
       "0                  2          755.0               -1  \n",
       "1                  0            NaN               81  \n",
       "2                  2          574.0              558  \n",
       "3                  3          234.0              424  \n",
       "4                  1           48.0              121  \n",
       "5                 -1            NaN               55  \n",
       "6                  0            NaN              155  \n",
       "7                  0            NaN               -1  \n",
       "8                 -1            NaN              189  \n",
       "9                  0            NaN              289  "
      ]
     },
     "execution_count": 25,
     "metadata": {},
     "output_type": "execute_result"
    }
   ],
   "source": [
    "df.info()\n",
    "df.head(10)"
   ]
  },
  {
   "cell_type": "markdown",
   "metadata": {},
   "source": [
    "Произведено максимально возможное заполнение пустых значений и преобразованы типы данных. Можно приступать к расчетам и добавлению новых столбцов. А именно:\n",
    "\n",
    "* цену квадратного метра;\n",
    "* день недели, месяц и год публикации объявления;\n",
    "* этаж квартиры; варианты — первый, последний, другой;\n",
    "* соотношение жилой и общей площади, а также отношение площади кухни к общей."
   ]
  },
  {
   "cell_type": "markdown",
   "metadata": {},
   "source": [
    "## Расчёты и добавление результатов в таблицу"
   ]
  },
  {
   "cell_type": "markdown",
   "metadata": {},
   "source": [
    "Расчет цены квадратного метра"
   ]
  },
  {
   "cell_type": "code",
   "execution_count": 26,
   "metadata": {},
   "outputs": [],
   "source": [
    "df['price_per_sqmetr'] = df['last_price']/df['total_area']\n",
    "df['price_per_sqmetr'] = df['price_per_sqmetr'].astype('int64')"
   ]
  },
  {
   "cell_type": "markdown",
   "metadata": {},
   "source": [
    "Отдельные столбцы для дня, месяца и года публикации"
   ]
  },
  {
   "cell_type": "code",
   "execution_count": 27,
   "metadata": {},
   "outputs": [
    {
     "ename": "AttributeError",
     "evalue": "'DatetimeIndex' object has no attribute 'weekday_name'",
     "output_type": "error",
     "traceback": [
      "\u001b[1;31m---------------------------------------------------------------------------\u001b[0m",
      "\u001b[1;31mAttributeError\u001b[0m                            Traceback (most recent call last)",
      "\u001b[1;32m<ipython-input-27-16f18930bb4c>\u001b[0m in \u001b[0;36m<module>\u001b[1;34m\u001b[0m\n\u001b[0;32m      1\u001b[0m \u001b[0mdf\u001b[0m\u001b[1;33m[\u001b[0m\u001b[1;34m'weekday'\u001b[0m\u001b[1;33m]\u001b[0m \u001b[1;33m=\u001b[0m \u001b[0mpd\u001b[0m\u001b[1;33m.\u001b[0m\u001b[0mDatetimeIndex\u001b[0m\u001b[1;33m(\u001b[0m\u001b[0mdf\u001b[0m\u001b[1;33m[\u001b[0m\u001b[1;34m'first_day_exposition'\u001b[0m\u001b[1;33m]\u001b[0m\u001b[1;33m)\u001b[0m\u001b[1;33m.\u001b[0m\u001b[0mweekday\u001b[0m \u001b[1;31m# по порядковуму номеру потом будет проще построить график\u001b[0m\u001b[1;33m\u001b[0m\u001b[1;33m\u001b[0m\u001b[0m\n\u001b[1;32m----> 2\u001b[1;33m \u001b[0mdf\u001b[0m\u001b[1;33m[\u001b[0m\u001b[1;34m'weekday_name'\u001b[0m\u001b[1;33m]\u001b[0m \u001b[1;33m=\u001b[0m \u001b[0mpd\u001b[0m\u001b[1;33m.\u001b[0m\u001b[0mDatetimeIndex\u001b[0m\u001b[1;33m(\u001b[0m\u001b[0mdf\u001b[0m\u001b[1;33m[\u001b[0m\u001b[1;34m'first_day_exposition'\u001b[0m\u001b[1;33m]\u001b[0m\u001b[1;33m)\u001b[0m\u001b[1;33m.\u001b[0m\u001b[0mweekday_name\u001b[0m\u001b[1;33m\u001b[0m\u001b[1;33m\u001b[0m\u001b[0m\n\u001b[0m\u001b[0;32m      3\u001b[0m \u001b[0mdf\u001b[0m\u001b[1;33m[\u001b[0m\u001b[1;34m'month'\u001b[0m\u001b[1;33m]\u001b[0m \u001b[1;33m=\u001b[0m \u001b[0mpd\u001b[0m\u001b[1;33m.\u001b[0m\u001b[0mDatetimeIndex\u001b[0m\u001b[1;33m(\u001b[0m\u001b[0mdf\u001b[0m\u001b[1;33m[\u001b[0m\u001b[1;34m'first_day_exposition'\u001b[0m\u001b[1;33m]\u001b[0m\u001b[1;33m)\u001b[0m\u001b[1;33m.\u001b[0m\u001b[0mmonth\u001b[0m\u001b[1;33m\u001b[0m\u001b[1;33m\u001b[0m\u001b[0m\n\u001b[0;32m      4\u001b[0m \u001b[0mdf\u001b[0m\u001b[1;33m[\u001b[0m\u001b[1;34m'year'\u001b[0m\u001b[1;33m]\u001b[0m \u001b[1;33m=\u001b[0m \u001b[0mpd\u001b[0m\u001b[1;33m.\u001b[0m\u001b[0mDatetimeIndex\u001b[0m\u001b[1;33m(\u001b[0m\u001b[0mdf\u001b[0m\u001b[1;33m[\u001b[0m\u001b[1;34m'first_day_exposition'\u001b[0m\u001b[1;33m]\u001b[0m\u001b[1;33m)\u001b[0m\u001b[1;33m.\u001b[0m\u001b[0myear\u001b[0m\u001b[1;33m\u001b[0m\u001b[1;33m\u001b[0m\u001b[0m\n",
      "\u001b[1;31mAttributeError\u001b[0m: 'DatetimeIndex' object has no attribute 'weekday_name'"
     ]
    }
   ],
   "source": [
    "df['weekday'] = pd.DatetimeIndex(df['first_day_exposition']).weekday # по порядковуму номеру потом будет проще построить график\n",
    "df['weekday_name'] = pd.DatetimeIndex(df['first_day_exposition']).weekday_name\n",
    "df['month'] = pd.DatetimeIndex(df['first_day_exposition']).month \n",
    "df['year'] = pd.DatetimeIndex(df['first_day_exposition']).year"
   ]
  },
  {
   "cell_type": "markdown",
   "metadata": {},
   "source": [
    "<div class=\"alert alert-warning\">\n",
    "    <h2> Комментарий ревьюера <a class=\"tocSkip\"></h2>\n",
    "    \n",
    "<b>Некоторые замечания и рекомендации💡:</b> \n",
    "    \n",
    "Библиотека `pandas` позволяет решить задачу по выделению названий дней недели и месяцев в более удобном формате: например, есть такой метод как `day_name()` и `month_day()`, которые автоматически добавляют названия дней и месяцев (на английском языке по умолчанию)\n",
    "    \n",
    "    \n",
    "https://www.geeksforgeeks.org/python-pandas-series-dt-day_name/\n",
    "    \n",
    "https://pandas.pydata.org/pandas-docs/stable/reference/api/pandas.Series.dt.day_name.html\n",
    "    \n",
    "https://pandas.pydata.org/pandas-docs/stable/reference/api/pandas.Series.dt.month_name.html\n",
    "    \n",
    "https://www.geeksforgeeks.org/python-pandas-series-dt-month_name/\n",
    "        \n",
    "P.S. Твое решение тоже корректно, это доп информация на изучение, ну и ты можешь опробовать эти методы:)"
   ]
  },
  {
   "cell_type": "markdown",
   "metadata": {},
   "source": [
    "<font color='blue'><h2> Новые добавления<a class=\"tocSkip\"> </h2>\n",
    "\n",
    "Да я собственно использовал .weekday_name для того что бы понять как именно нумерует pandas  дни недели - начинает ли с понедельника или с воскресенья. Оказалось, что с понедельника, что важно понимать для интерпритации графиков. Для месяца и года проблем понимания нет.\n",
    "</font>\n",
    "<font color='blue'><h2> Конец новых добавлений<a class=\"tocSkip\"> </h2>"
   ]
  },
  {
   "cell_type": "markdown",
   "metadata": {},
   "source": [
    "<div class=\"alert alert-success\">\n",
    "<h2> Комментарий ревьюера: вторая итерация ревью <a class=\"tocSkip\"> </h2>\n",
    "\n",
    "<b>Все отлично!👍:</b>\n",
    "\n",
    "Это верно!"
   ]
  },
  {
   "cell_type": "markdown",
   "metadata": {},
   "source": [
    "Столбец особо выделяющий квартиры на первом и последних этажах"
   ]
  },
  {
   "cell_type": "code",
   "execution_count": null,
   "metadata": {},
   "outputs": [],
   "source": [
    "#Добавим новый столбец этажа квартиры\n",
    "df['floor_limits'] = df['floor']"
   ]
  },
  {
   "cell_type": "code",
   "execution_count": null,
   "metadata": {},
   "outputs": [],
   "source": [
    "#Последовательно будем по условиям изменять содержимое ячеек этого столбца\n",
    "df.loc[(df['floor_limits'] == 1), 'floor_limits'] = 'первый этаж'\n",
    "df.loc[(df['floor_limits'] == df['floors_total']), 'floor_limits'] = 'последний этаж'\n",
    "df.loc[(df['floor_limits'] != 'последний этаж') & (df['floor_limits'] != 'первый этаж'), 'floor_limits'] = 'другой этаж'"
   ]
  },
  {
   "attachments": {
    "image.png": {
     "image/png": "[encoded data removed]"
    }
   },
   "cell_type": "markdown",
   "metadata": {},
   "source": [
    "<div class=\"alert alert-warning\">\n",
    "    <h2> Комментарий ревьюера <a class=\"tocSkip\"></h2>\n",
    "    \n",
    "<b>Некоторые замечания и рекомендации💡:</b> \n",
    "        \n",
    "Для категоризации значений в этом столбце, можно было бы также использовать функцию, например, такую:\n",
    "        \n",
    "![image.png](attachment:image.png)"
   ]
  },
  {
   "cell_type": "markdown",
   "metadata": {},
   "source": [
    "Cоотношение жилой и общей площади, а также отношение площади кухни к общей."
   ]
  },
  {
   "cell_type": "code",
   "execution_count": null,
   "metadata": {},
   "outputs": [],
   "source": [
    "df['living_total_area'] = df['living_area']/df['total_area']\n",
    "df['kitchen_total_area'] = df['kitchen_area']/df['total_area']"
   ]
  },
  {
   "cell_type": "code",
   "execution_count": null,
   "metadata": {},
   "outputs": [],
   "source": [
    "df.info()\n",
    "df.head(10)"
   ]
  },
  {
   "cell_type": "markdown",
   "metadata": {},
   "source": [
    "Все необходимые расчеты произведены, можно приступать к исследованиям."
   ]
  },
  {
   "cell_type": "markdown",
   "metadata": {},
   "source": [
    "<div class=\"alert alert-success\">\n",
    "<h2> Комментарий ревьюера <a class=\"tocSkip\"> </h2>\n",
    "\n",
    "<b>Все отлично!👍:</b> \n",
    "    \n",
    "Роман, отличная работа, согласна с твоими действиями на этом шаге!"
   ]
  },
  {
   "cell_type": "markdown",
   "metadata": {},
   "source": [
    "## Исследовательский анализ данных"
   ]
  },
  {
   "cell_type": "markdown",
   "metadata": {},
   "source": [
    "### Построим гистограммы для каждого параметра: площадь, цена, число комнат, высота потолков.\n",
    "Так как это разнородные величины, то строить будет отдельно для каждого столбца, с подбором необходимых параметров для каждого графика"
   ]
  },
  {
   "cell_type": "code",
   "execution_count": null,
   "metadata": {},
   "outputs": [],
   "source": [
    "import numpy\n",
    "hist1 = df.hist('total_area', range = (0, 500), bins=100);"
   ]
  },
  {
   "cell_type": "markdown",
   "metadata": {},
   "source": [
    "Распределение близко к нормальному, без выбросов. Значит особых проблем в этих данных нет. Тут понятно, что размер квартиры зависит от того, что чаще всего строят сейчас или строили в прошлом."
   ]
  },
  {
   "cell_type": "code",
   "execution_count": null,
   "metadata": {},
   "outputs": [],
   "source": [
    "df.hist('last_price', range = (0, 100000000), bins=1000);"
   ]
  },
  {
   "cell_type": "markdown",
   "metadata": {},
   "source": [
    "Так же близко к нормальному. Цена квартиры зависит от субъективных желаний собственника, ну и некая упорядоченная гребенка пиков в данных, это стремление людей указать цену с шагом 50 000 руб. или 100 000 руб."
   ]
  },
  {
   "cell_type": "code",
   "execution_count": null,
   "metadata": {},
   "outputs": [],
   "source": [
    "df.hist('rooms', range = (0, 12), bins=12);"
   ]
  },
  {
   "cell_type": "markdown",
   "metadata": {},
   "source": [
    "Здесь данные так же показывающие какие квартиры есть на рынке и соответствуют действительности в том, что наиболее часто встречающиеся это 1,2,3 комнатные. При этом квартиры с более, чем 8-ью комнатами вообще исчисляются еденицами. Единственное что стоит проверить, это что за квартиры с 0 комнатами. Для этого отфильтруем таблицу и выведем."
   ]
  },
  {
   "cell_type": "code",
   "execution_count": null,
   "metadata": {},
   "outputs": [],
   "source": [
    "df_filter_room = df[df['rooms'] == 0]\n",
    "display(df_filter_room)\n",
    "df_filter_room['kitchen_area'].value_counts()"
   ]
  },
  {
   "cell_type": "markdown",
   "metadata": {},
   "source": [
    "Вроде бы это похоже на студии, когда кухня и жилая комната это одно целое, хотя возможно в некоторых однушках забыли проставить количество комнат. Не очень понятно почему размер кухни во всех этих вариантах указан 9.1 кв.м., может быть это работа скрипта по умолчаню устанавливающий такой размер если количество комнат 0. В любом случае таких данных только 197 строчек, что не влияет на наше исследование."
   ]
  },
  {
   "cell_type": "code",
   "execution_count": null,
   "metadata": {},
   "outputs": [],
   "source": [
    "df.hist('ceiling_height', range = (2, 5), bins=50);"
   ]
  },
  {
   "cell_type": "markdown",
   "metadata": {},
   "source": [
    "Высоты потолков так же зависят от того что строят или строили и логично видно, что основные жилье с высотами 2,5 - 3.5 метра. Но интересно посмотреть, что это за квартира с потолками 2 метра."
   ]
  },
  {
   "cell_type": "code",
   "execution_count": null,
   "metadata": {},
   "outputs": [],
   "source": [
    "df_filter_ceil = df[df['ceiling_height'] == 2]\n",
    "display(df_filter_ceil)"
   ]
  },
  {
   "cell_type": "markdown",
   "metadata": {},
   "source": [
    "С трудом представляется вполне себе обычная квартира с потолком в 2 метра, скорее всего тут в данных ошибка и это высота, вероятнее всего, 2,5 метра. Но опять же этих данных очень мало и ими можно пренебречь."
   ]
  },
  {
   "cell_type": "markdown",
   "metadata": {},
   "source": [
    "<div class=\"alert alert-success\">\n",
    "<h2> Комментарий ревьюера <a class=\"tocSkip\"> </h2>\n",
    "\n",
    "<b>Все отлично!👍:</b> \n",
    "\n",
    "Логика анализа на этом шаге корректна, все получилось!"
   ]
  },
  {
   "cell_type": "markdown",
   "metadata": {},
   "source": [
    "<div class=\"alert alert-warning\">\n",
    "    <h2> Комментарий ревьюера <a class=\"tocSkip\"> </h2>\n",
    "    \n",
    "<b>Некоторые замечания и рекомендации💡:</b> \n",
    "    \n",
    "Если ты используешь визуализацию в проекте, стоит уделять больше времени ее оформлению: ко всем графикам в проекте важно добавлять общий заголовок, подписи к осям, убирать технические строчки `<matplotlib.axes._subplots.AxesSubplot at 0x7fce2881e150>` можно с помощью метода `plt.show()` или `;` \n",
    "        \n",
    "Проблема оформления визуализации есть во всем проекте, поэтому было бы здорово, если бы ты попробовал дооформить графики во всем проекте, важно освоить этот навык, поскольку с усложнением проектов будет усложняться и визуализация, и без оформления уже будет не обойтись."
   ]
  },
  {
   "cell_type": "markdown",
   "metadata": {},
   "source": [
    "<font color='blue'><h2> Новые добавления<a class=\"tocSkip\"> </h2>\n",
    "\n",
    "воспользовался `;`, для hist() видимо подписвать x и y незачем, в остальных функция plot сама подписывает оси названием столбца\n",
    "</font>\n",
    "<font color='blue'><h2> Конец новых добавлений<a class=\"tocSkip\"> </h2>"
   ]
  },
  {
   "cell_type": "markdown",
   "metadata": {},
   "source": [
    "<div class=\"alert alert-success\">\n",
    "<h2> Комментарий ревьюера: вторая итерация ревью <a class=\"tocSkip\"> </h2>\n",
    "\n",
    "<b>Все отлично!👍:</b>\n",
    "    \n",
    "Вообще, важно добавлять кастомные названия колонок, это просто вопрос корректного оформления с точки зрения ориентации на пользователя (заказчика) Согласись, что приятнее читать и смотреть на графики, которые имеют удобочитаемые titles без подчеркиваний и на русском языке (если ты работаешь на русскоязычного заказчика, в целом, для английского языка это также актуально)"
   ]
  },
  {
   "cell_type": "markdown",
   "metadata": {},
   "source": [
    "### Изучим время продажи квартиры. Построим гистограмму. Посчитаем среднее и медиану. Опишем, сколько обычно занимает продажа. Когда можно считать, что продажи прошли очень быстро, а когда необычно долго."
   ]
  },
  {
   "cell_type": "markdown",
   "metadata": {},
   "source": [
    "Не забываем, что при преобразовании типа пропуски пришлось заполнить -1. удалим их из анализа.\n"
   ]
  },
  {
   "cell_type": "code",
   "execution_count": null,
   "metadata": {},
   "outputs": [],
   "source": [
    "df_1 = df[df['days_exposition'] != -1]"
   ]
  },
  {
   "cell_type": "code",
   "execution_count": null,
   "metadata": {},
   "outputs": [],
   "source": [
    "df_1.hist('days_exposition', range = (0, 1500), bins=1500);"
   ]
  },
  {
   "cell_type": "markdown",
   "metadata": {},
   "source": [
    "Вид графика сильно зависит от выставленного значения bins, решил, что вывод для каждого дня будет самым правильным. И здесь мы видим, что есть 3 сильно выбивающихся пика значений. Исследуем этот промежуток внимательнее."
   ]
  },
  {
   "cell_type": "code",
   "execution_count": null,
   "metadata": {},
   "outputs": [],
   "source": [
    "df_1.hist('days_exposition', range = (0, 100), bins=100);\n",
    "df_1.hist('days_exposition', range = (0, 10), bins=10);\n",
    "df_1.hist('days_exposition', range = (40, 50), bins=10);\n",
    "df_1.hist('days_exposition', range = (60, 70), bins=10);"
   ]
  },
  {
   "cell_type": "markdown",
   "metadata": {},
   "source": [
    "Сильные пики в 45 и 60 дней. Есть еще небольшие пики в районе 30 и 90 дней. Нужно уточнить у разработчиков, возможно в эти дни объявления снимаются автоматически, если в ручную не продлить срок размещения. Если же в движке разработчиков нет такого функционала, значит хорошо бы проанализировать кто проявляетя аномальную активность и почему. В любом случае это аномальные значения и они повлияют на исследования времени продажи квартир,  хорошо бы их удалить из расчета среднего и медианы."
   ]
  },
  {
   "cell_type": "markdown",
   "metadata": {},
   "source": [
    "Сравним среднее значение и медиану без удаления аномалий и исключив аномалии."
   ]
  },
  {
   "cell_type": "code",
   "execution_count": null,
   "metadata": {},
   "outputs": [],
   "source": [
    "df_1['days_exposition'].mean(skipna = True)"
   ]
  },
  {
   "cell_type": "code",
   "execution_count": null,
   "metadata": {},
   "outputs": [],
   "source": [
    "df_1['days_exposition'].median(skipna = True)"
   ]
  },
  {
   "cell_type": "markdown",
   "metadata": {},
   "source": [
    "Создадим новую таблицу отфильтровав пиковые выбивающиеся значения"
   ]
  },
  {
   "cell_type": "code",
   "execution_count": null,
   "metadata": {},
   "outputs": [],
   "source": [
    "df_delete_days = df_1[df_1['days_exposition'] != 30]\n",
    "df_delete_days = df_delete_days[df_delete_days['days_exposition'] != 45]\n",
    "df_delete_days = df_delete_days[df_delete_days['days_exposition'] != 60]\n",
    "df_delete_days = df_delete_days[df_delete_days['days_exposition'] != 90]\n",
    "df_delete_days.hist('days_exposition', range = (0, 100), bins=100);"
   ]
  },
  {
   "cell_type": "code",
   "execution_count": null,
   "metadata": {},
   "outputs": [],
   "source": [
    "df[(df['days_exposition'] != 30) & (df['days_exposition'] != 45)\n",
    "   & (df['days_exposition'] != 60) & (df['days_exposition'] != 90)]['days_exposition'].mean(skipna = True)"
   ]
  },
  {
   "cell_type": "code",
   "execution_count": null,
   "metadata": {},
   "outputs": [],
   "source": [
    "df[(df['days_exposition'] != 30) & (df['days_exposition'] != 45)\n",
    "   & (df['days_exposition'] != 60) & (df['days_exposition'] != 90)]['days_exposition'].median(skipna = True)"
   ]
  },
  {
   "cell_type": "markdown",
   "metadata": {},
   "source": [
    "Основной промежуток времени когда продается квартира лежит в пределах от 5 до 200 дней. При этом многие квартиры продаются достатчно быстро - в течении первого месяца размещения, а многие и более 1-2 лет висят на сайте."
   ]
  },
  {
   "cell_type": "markdown",
   "metadata": {},
   "source": [
    "Интересно проверить какая средняя цена за квадратный метр у быстро и медленно продающихся квартир."
   ]
  },
  {
   "cell_type": "code",
   "execution_count": null,
   "metadata": {},
   "outputs": [],
   "source": [
    "#создадим пустые списки из которых потом построим графих\n",
    "day_list = []\n",
    "mean_list = []\n",
    "for day in range(10, 600, 10):\n",
    "    if day < 300:\n",
    "        mean =  df[df['days_exposition'] < day]['price_per_sqmetr'].mean(skipna = True)\n",
    "    elif day > 300:\n",
    "        mean =  df[df['days_exposition'] > day]['price_per_sqmetr'].mean(skipna = True)\n",
    "    day_list.append(day)\n",
    "    mean_list.append(mean)\n",
    "df_days_exposition = pd.DataFrame({\n",
    "    \"day\": day_list,\n",
    "    \"mean\": mean_list\n",
    "})\n",
    "df_days_exposition.plot(x=\"day\", y=\"mean\", kind=\"scatter\");"
   ]
  },
  {
   "cell_type": "markdown",
   "metadata": {},
   "source": [
    "Вполне логичная зависимость, за исключением нескольких выбивающихся значений около нуля (из-за малого количества данных для расчета), квартиры, стоимость квадратного метра которых ниже продаются быстрее."
   ]
  },
  {
   "cell_type": "markdown",
   "metadata": {},
   "source": [
    "<div class=\"alert alert-success\">\n",
    "<h2> Комментарий ревьюера <a class=\"tocSkip\"> </h2>\n",
    "\n",
    "<b>Все отлично!👍:</b> \n",
    "    \n",
    "Здорово, что ты так подробно изучил параметр по дням размещения объявления о продаже квартир, тебе удалось получить интересные инсайты из данных:)"
   ]
  },
  {
   "cell_type": "markdown",
   "metadata": {},
   "source": [
    "<div class=\"alert alert-warning\">\n",
    "    <h2> Комментарий ревьюера <a class=\"tocSkip\"></h2>\n",
    "    \n",
    "<b>Некоторые замечания и рекомендации💡:</b> \n",
    "    \n",
    "Роман, задача по удалению выбросов касается, скорее колонок площадь, цена, число комнат, высота потолков, а не колонки `days_exposition`. Эта колонка содержит чувствительные данные, и в проекте, скорее, требуется просто изучить эти данные.\n",
    "        \n",
    "Что касается выбросов в обработанных тобой колонках, я бы посоветовала добавить анализ выбросов (и их удаление) с помощью cпециальных методов, например, IQR (почти то же самое, что диаграмма ящик с усами, но дает тебе точные границы в цифрах, по которым нужно \"отрезать\" данные), z-статистика (метод только для данных, которые имеют распределение, походящее на Гауссово или нормальное распределение). Подробнее о методах по ссылкам ниже.\n",
    "    \n",
    "Полезные статьи по методам работы с выбросами на русском и английском языках:\n",
    "    \n",
    "https://www.machinelearningmastery.ru/5-ways-to-detect-outliers-that-every-data-scientist-should-know-python-code-70a54335a623/\n",
    "    \n",
    "https://proglib.io/p/moem-dataset-rukovodstvo-po-ochistke-dannyh-v-python-2020-03-27\n",
    "    \n",
    "(эти на английском)\n",
    "    \n",
    "https://statisticsbyjim.com/basics/outliers/\n",
    "    \n",
    "https://machinelearningmastery.com/how-to-use-statistics-to-identify-outliers-in-data/\n",
    "    \n",
    "https://towardsdatascience.com/ways-to-detect-and-remove-the-outliers-404d16608dba\n",
    "        \n",
    "Важно при этом понимать, что стат методы тоже могут \"отработать\" на данных не совсем адекватно, т.е. корректно с точки зрения механики их работы, но не корректно с точки зрения здравого смысла и специфики данных, с которыми ты работаешь. Поэтому всегда важно подключать к применяемым методам экспертную оценку (наверно, ты лучше понимаешь, что бывают потолки 3 метра, например, а вот стат метод может посчитать это за выброс и удалить в зависимости от набора данных, которые ему скармливаются)."
   ]
  },
  {
   "cell_type": "markdown",
   "metadata": {},
   "source": [
    "### Какие факторы больше всего влияют на стоимость квартиры? Изучим, зависит ли цена от площади, числа комнат, удалённости от центра. Изучим зависимость цены от того, на каком этаже расположена квартира: первом, последнем или другом. Также изучим зависимость от даты размещения: дня недели, месяца и года."
   ]
  },
  {
   "cell_type": "markdown",
   "metadata": {},
   "source": [
    "Построим диаграммы расеивания для установления зависимостей от пар величин"
   ]
  },
  {
   "cell_type": "code",
   "execution_count": null,
   "metadata": {},
   "outputs": [],
   "source": [
    "df.plot(x=\"rooms\", y=\"price_per_sqmetr\", kind=\"scatter\", alpha=0.3);"
   ]
  },
  {
   "cell_type": "markdown",
   "metadata": {},
   "source": [
    "Если сразу построить диаграмму рассевивания по данным столбцам, то явной зависимости нет, поэтому расчитаем средние значения стоимости в зависимости от количества комнат и для них построим диаграмму."
   ]
  },
  {
   "cell_type": "code",
   "execution_count": null,
   "metadata": {},
   "outputs": [],
   "source": [
    "rooms = list(df.groupby('rooms').groups.keys()) #список вариантов количества комнат в квартире\n",
    "price_rooms_mean = [] # список для заполнения средними значениями в зависимости от комнат\n",
    "#Пробежим циклом по этому списку, найдем средние значения фильтруя по количеству комнат\n",
    "for room in rooms:\n",
    "    # находим медианное значение, игнорируя пропуски\n",
    "    mean = df[df['rooms'] == room]['price_per_sqmetr'].mean(skipna = True)\n",
    "    price_rooms_mean.append(mean)\n",
    "df_price_rooms = pd.DataFrame({\n",
    "    \"rooms\": rooms,\n",
    "    \"mean\": price_rooms_mean\n",
    "})\n",
    "df_price_rooms.plot(x=\"rooms\", y=\"mean\", kind=\"scatter\");"
   ]
  },
  {
   "cell_type": "markdown",
   "metadata": {},
   "source": [
    "<font color='blue'><h2> Новые добавления<a class=\"tocSkip\"> </h2>"
   ]
  },
  {
   "cell_type": "markdown",
   "metadata": {},
   "source": [
    "Посчитаем коэффициент корреляции Пирсона для этих столбцов:\n",
    "\n",
    "но сначала в первоначальной таблице, потом в таблице для среднего"
   ]
  },
  {
   "cell_type": "code",
   "execution_count": null,
   "metadata": {
    "scrolled": true
   },
   "outputs": [],
   "source": [
    "df['rooms'].corr(df['price_per_sqmetr'])"
   ]
  },
  {
   "cell_type": "code",
   "execution_count": null,
   "metadata": {},
   "outputs": [],
   "source": [
    "df_price_rooms['rooms'].corr(df_price_rooms['mean'])"
   ]
  },
  {
   "cell_type": "markdown",
   "metadata": {},
   "source": [
    "В первоначальной таблице зависимости между этими величинами не прослеживается, тогда как при расчете среднего растет. А теперь если убрать значения комнат более 8-ми (малое количество таких квартир, сильно искажает данные в субъективную сторону владельцев), и выделить данные менее 3 и более и равно 3 то:"
   ]
  },
  {
   "cell_type": "code",
   "execution_count": null,
   "metadata": {
    "scrolled": true
   },
   "outputs": [],
   "source": [
    "df_price_rooms_8 = df_price_rooms[df_price_rooms['rooms'] < 9] # убераем квартиры более 8ми комнат\n",
    "df_price_rooms_02 = df_price_rooms_8[df_price_rooms_8['rooms'] < 3]\n",
    "df_price_rooms_38 = df_price_rooms_8[df_price_rooms_8['rooms'] > 2]"
   ]
  },
  {
   "cell_type": "code",
   "execution_count": null,
   "metadata": {},
   "outputs": [],
   "source": [
    "df_price_rooms_02['rooms'].corr(df_price_rooms_02['mean'])"
   ]
  },
  {
   "cell_type": "code",
   "execution_count": null,
   "metadata": {},
   "outputs": [],
   "source": [
    "df_price_rooms_38['rooms'].corr(df_price_rooms_38['mean'])"
   ]
  },
  {
   "cell_type": "markdown",
   "metadata": {},
   "source": [
    "Увидим уже существенную зависимость между ценой квадратного метра и количеством комнат, при этом цена от 1 комнатных до 3-х комнатных снижается, а далее растет."
   ]
  },
  {
   "cell_type": "markdown",
   "metadata": {},
   "source": [
    "<font color='blue'><h2> Конец новых добавлений<a class=\"tocSkip\"> </h2>"
   ]
  },
  {
   "cell_type": "markdown",
   "metadata": {},
   "source": [
    "Видно, что минимальная стоимость квадратного метра наблюдается у 2-3-х комнатных квартир, при этом данные для более 8-ми квартир уже выпадают из четкой зависимости из-за малого объема этих данных и возникает сильное влияние индивидуальных желаний продавца."
   ]
  },
  {
   "cell_type": "markdown",
   "metadata": {},
   "source": [
    "Исследуем теперь зависимости от расстояния до центра города:"
   ]
  },
  {
   "cell_type": "code",
   "execution_count": null,
   "metadata": {},
   "outputs": [],
   "source": [
    "df.plot(x=\"city_сenters_nearest\", y=\"price_per_sqmetr\", kind=\"scatter\", alpha=0.3);"
   ]
  },
  {
   "cell_type": "markdown",
   "metadata": {},
   "source": [
    "<font color='blue'><h2> Новые добавления<a class=\"tocSkip\"> </h2>"
   ]
  },
  {
   "cell_type": "markdown",
   "metadata": {},
   "source": [
    "Посчитаем коэффициент корреляции Пирсона для этих столбцов:"
   ]
  },
  {
   "cell_type": "code",
   "execution_count": null,
   "metadata": {},
   "outputs": [],
   "source": [
    "df['price_per_sqmetr'].corr(df['city_сenters_nearest'])"
   ]
  },
  {
   "cell_type": "markdown",
   "metadata": {},
   "source": [
    "Корреляция есть, отрицательная, собственно говорящая о том что чем дальше от центра, тем дешевле стоимость квадратного метра."
   ]
  },
  {
   "cell_type": "markdown",
   "metadata": {},
   "source": [
    "<font color='blue'><h2> Конец новых добавлений<a class=\"tocSkip\"> </h2>"
   ]
  },
  {
   "cell_type": "markdown",
   "metadata": {},
   "source": [
    "Здесь явно видно, что чем ближе к центру, тем больше встречаются дорогих квартир, но при этом можно так же найти множество вариантов квартир в центре не особо отличающихся по стоимости от квартир на переферии."
   ]
  },
  {
   "cell_type": "markdown",
   "metadata": {},
   "source": [
    "Теперь посчитаем среднюю цену квартиры в зависимости от этажного расположения"
   ]
  },
  {
   "cell_type": "code",
   "execution_count": null,
   "metadata": {},
   "outputs": [],
   "source": [
    "floors = list(df.groupby('floor_limits').groups.keys()) #список вариантов расположения квартиры\n",
    "price_floor_mean = [] # список для заполнения средними значениями в зависимости от расположения этажности\n",
    "#Пробежим циклом по этому списку, найдем средние значения фильтруя по вариантам\n",
    "for floor in floors:\n",
    "    # находим медианное значение, игнорируя пропуски\n",
    "    mean = df[df['floor_limits'] == floor]['price_per_sqmetr'].mean(skipna = True)\n",
    "    price_floor_mean.append(mean)\n",
    "df_price_floor = pd.DataFrame({\n",
    "    \"floor\": floors,\n",
    "    \"mean\": price_floor_mean\n",
    "})\n",
    "display(df_price_floor)"
   ]
  },
  {
   "cell_type": "markdown",
   "metadata": {},
   "source": [
    "Поэтой табличке четко видно, что квартиры на первом этаже самые дешевые, далее следуют квартиры на последнем, и дорогие квартиры на этажах между этими."
   ]
  },
  {
   "cell_type": "markdown",
   "metadata": {},
   "source": [
    "Теперь посчитаем есть ли зависимость цены в зависимости от времени размещения. Так же сразу будем считать средние значения"
   ]
  },
  {
   "cell_type": "code",
   "execution_count": null,
   "metadata": {},
   "outputs": [],
   "source": [
    "days = list(df.groupby('weekday').groups.keys())\n",
    "price_days_mean = []\n",
    "\n",
    "for day in days:\n",
    "    mean = df[df['weekday'] == day]['price_per_sqmetr'].mean(skipna = True)\n",
    "    price_days_mean.append(mean)\n",
    "df_price_days = pd.DataFrame({\n",
    "    \"days\": days,\n",
    "    \"mean\": price_days_mean\n",
    "})\n",
    "df_price_days.plot(x=\"days\", y=\"mean\", kind=\"line\");"
   ]
  },
  {
   "cell_type": "markdown",
   "metadata": {},
   "source": [
    "<font color='blue'><h2> Новые добавления<a class=\"tocSkip\"> </h2>"
   ]
  },
  {
   "cell_type": "markdown",
   "metadata": {},
   "source": [
    "Посчитаем коэффициент корреляции Пирсона для этой таблицы:"
   ]
  },
  {
   "cell_type": "code",
   "execution_count": null,
   "metadata": {},
   "outputs": [],
   "source": [
    "df_price_days['days'].corr(df_price_days['mean'])"
   ]
  },
  {
   "cell_type": "markdown",
   "metadata": {},
   "source": [
    "Видим сильную зависимость средней цены метра и дня размещения объявления, причем если бы мы разделили данные до середины недели и после то увидели бы коэффициент близкий к 1"
   ]
  },
  {
   "cell_type": "markdown",
   "metadata": {},
   "source": [
    "<font color='blue'><h2> Конец новых добавлений<a class=\"tocSkip\"> </h2>"
   ]
  },
  {
   "cell_type": "markdown",
   "metadata": {},
   "source": [
    "Хм  в середине недели выставляют квартиры дороже. В воскресенье видимо в благодушии от отдыха и хорошо проведенного дня пользователи выставляют минимальные цены."
   ]
  },
  {
   "cell_type": "code",
   "execution_count": null,
   "metadata": {},
   "outputs": [],
   "source": [
    "months = list(df.groupby('month').groups.keys())\n",
    "price_months_mean = []\n",
    "\n",
    "for month in months:\n",
    "    mean = df[df['month'] == month]['price_per_sqmetr'].mean(skipna = True)\n",
    "    price_months_mean.append(mean)\n",
    "df_price_months = pd.DataFrame({\n",
    "    \"months\": months,\n",
    "    \"mean\": price_months_mean\n",
    "})\n",
    "df_price_months.plot(x=\"months\", y=\"mean\", kind=\"line\");"
   ]
  },
  {
   "cell_type": "markdown",
   "metadata": {},
   "source": [
    "<font color='blue'><h2> Новые добавления<a class=\"tocSkip\"> </h2>"
   ]
  },
  {
   "cell_type": "markdown",
   "metadata": {},
   "source": [
    "Посчитаем коэффициент корреляции Пирсона для этой таблицы:\n",
    "Хотя для такого циклического графика это не имеет особого смысла, так как реальная зависимость может быть отслежена только для малых промежутков времени, к примеру с апреля по июнь коэффициент будет близок к 1 и отрицательный, для с июня по сентябрь наоборот"
   ]
  },
  {
   "cell_type": "code",
   "execution_count": null,
   "metadata": {},
   "outputs": [],
   "source": [
    "df_price_months['months'].corr(df_price_months['mean'])"
   ]
  },
  {
   "cell_type": "markdown",
   "metadata": {},
   "source": [
    "<font color='blue'><h2> Конец новых добавлений<a class=\"tocSkip\"> </h2>"
   ]
  },
  {
   "cell_type": "markdown",
   "metadata": {},
   "source": [
    "Здесь наблюдается некая цикличность падения и возрастания цены, влияют множество факторов, как то: экономическая активность населения, отпускные месяцы, праздники."
   ]
  },
  {
   "cell_type": "code",
   "execution_count": null,
   "metadata": {},
   "outputs": [],
   "source": [
    "years = list(df.groupby('year').groups.keys())\n",
    "print(years)"
   ]
  },
  {
   "cell_type": "code",
   "execution_count": null,
   "metadata": {},
   "outputs": [],
   "source": [
    "years = list(df.groupby('year').groups.keys())\n",
    "price_years_mean = []\n",
    "\n",
    "for year in years:\n",
    "    mean = df[df['year'] == year]['price_per_sqmetr'].mean(skipna = True)\n",
    "    price_years_mean.append(mean)\n",
    "df_price_year = pd.DataFrame({\n",
    "    \"years\": years,\n",
    "    \"mean\": price_years_mean\n",
    "})\n",
    "df_price_year.plot(x=\"years\", y=\"mean\", kind=\"line\");"
   ]
  },
  {
   "cell_type": "markdown",
   "metadata": {},
   "source": [
    "<font color='blue'><h2> Новые добавления<a class=\"tocSkip\"> </h2>"
   ]
  },
  {
   "cell_type": "markdown",
   "metadata": {},
   "source": [
    "Посчитаем коэффициент корреляции Пирсона для этой таблицы:"
   ]
  },
  {
   "cell_type": "code",
   "execution_count": null,
   "metadata": {},
   "outputs": [],
   "source": [
    "df_price_year['years'].corr(df_price_year['mean'])"
   ]
  },
  {
   "cell_type": "markdown",
   "metadata": {},
   "source": [
    "Коэффциент говорит об уменьшении цены метра с годами"
   ]
  },
  {
   "cell_type": "markdown",
   "metadata": {},
   "source": [
    "<font color='blue'><h2> Конец новых добавлений<a class=\"tocSkip\"> </h2>"
   ]
  },
  {
   "cell_type": "code",
   "execution_count": null,
   "metadata": {},
   "outputs": [],
   "source": []
  },
  {
   "cell_type": "markdown",
   "metadata": {},
   "source": [
    "После кризиса 2014 года наблюдается снижение цены квадратного метра, что логично, так как планомерное уменьшение платежоспособности населения. и лишь в 2019 и в настоящие года наблюдается рост стоимости с тенденцией к возварщению и даже превышению докризисных времен."
   ]
  },
  {
   "cell_type": "markdown",
   "metadata": {},
   "source": [
    "<div class=\"alert alert-warning\">\n",
    "    <h2> Комментарий ревьюера <a class=\"tocSkip\"> </h2>\n",
    "    \n",
    "<b>Некоторые замечания и рекомендации💡:</b> \n",
    "        \n",
    "Что могу посоветовать для улучшения работы:\n",
    "        \n",
    "1) когда ты посчитаешь корреляцию, возможно, для количественных переменных было бы удобнее выводить коэффициенты корреляции в единой корреляционной таблице или использовать график типа `heatmap` \n",
    "        \n",
    "https://datatofish.com/correlation-matrix-pandas/ (построение корреляционной матрицы с помощью Python)\n",
    "\n",
    "        \n",
    "https://stackoverflow.com/questions/29432629/plot-correlation-matrix-using-pandas (полезный тред на Stackoverflow, очень полезный ресурс для кодеров, советую, с помощью него можно решить практически все проблемы, которые возникают у тебя при работе с кодом)\n",
    "        \n",
    "https://likegeeks.com/python-correlation-matrix/ (еще один туториал)\n",
    "\n",
    "\n",
    "2) корреляцию лучше посчитать для количественных переменных, для категориальных же адекватнее использовать **графический метод (для месяца, года и недели размещения объвления, количества комнат, этажности лучше построить столбчатые диаграммы или боксплоты**, для факторов времени можно использовать линейные графики, как в твоем случае, но нужно их корректно оформить)\n",
    "\n",
    "3) можно убрать легенду на графиках, на которых нет распределения признаков по категориям (почти все графики в этом проекте). По ссылкам информация о том, как это сделать:\n",
    "        \n",
    "https://stackoverflow.com/questions/5735208/remove-the-legend-on-a-matplotlib-figure\n",
    "        \n",
    "https://www.geeksforgeeks.org/how-to-remove-the-legend-in-matplotlib/\n",
    "        \n",
    "https://www.delftstack.com/howto/matplotlib/how-to-remove-legend-from-a-figure-in-matplotlib/#:~:text=We%20could%20use%20remove(),legend%20to%20None%20and%20figure.\n",
    "        \n",
    "4) оформление графиков остается актуальным"
   ]
  },
  {
   "cell_type": "markdown",
   "metadata": {},
   "source": [
    "<div class=\"alert alert-block alert-danger\">\n",
    "<h2> Комментарий ревьюера <a class=\"tocSkip\"></h2>\n",
    "\n",
    "    \n",
    "<b>На доработку🤔:</b> \n",
    "    \n",
    "Не хаватает корреляционного анализа: просто диаграмм рассеяния недостаточно для количественных переменных."
   ]
  },
  {
   "cell_type": "markdown",
   "metadata": {},
   "source": [
    "<div class=\"alert alert-success\">\n",
    "<h2> Комментарий ревьюера: вторая итерация ревью <a class=\"tocSkip\"> </h2>\n",
    "\n",
    "<b>Все отлично!👍:</b>\n",
    "    \n",
    "Роман, корреляционный анализ реализован верно, все получилось!"
   ]
  },
  {
   "cell_type": "markdown",
   "metadata": {},
   "source": [
    "### Выберем 10 населённых пунктов с наибольшим числом объявлений. Посчитаем среднюю цену квадратного метра в этих населённых пунктах. Выделим среди них населённые пункты с самой высокой и низкой стоимостью жилья. "
   ]
  },
  {
   "cell_type": "code",
   "execution_count": null,
   "metadata": {},
   "outputs": [],
   "source": [
    "df['locality_name'].value_counts().head(10) # Найдем первые 10 пунктов наиболее часто встречающихся в таблице "
   ]
  },
  {
   "cell_type": "code",
   "execution_count": null,
   "metadata": {},
   "outputs": [],
   "source": [
    "lists_10_towns = df['locality_name'].value_counts().head(10).keys().tolist() # и сохраним их в список\n",
    "print(lists_10_towns)"
   ]
  },
  {
   "cell_type": "code",
   "execution_count": null,
   "metadata": {},
   "outputs": [],
   "source": [
    "# найдем среднюю цену за квадратный метр и составим новую таблицу\n",
    "price_towns_mean = []\n",
    "\n",
    "for town in lists_10_towns:\n",
    "    mean = df[df['locality_name'] == town]['price_per_sqmetr'].mean(skipna = True)\n",
    "    price_towns_mean.append(mean)\n",
    "df_price_towns = pd.DataFrame({\n",
    "    \"towns\": lists_10_towns,\n",
    "    \"mean\": price_towns_mean\n",
    "})\n",
    "display(df_price_towns.sort_values(by = 'mean', ascending = False).reset_index(drop = True))\n"
   ]
  },
  {
   "cell_type": "markdown",
   "metadata": {},
   "source": [
    "Собственно из таблицы видно, что самая высокая стоимость в г. Санкт-Петербург, самая низкая в г. Выборг. Хм пожалуй стоит присмотреться к одному из самых красивых припродных мест Ленинградской области."
   ]
  },
  {
   "cell_type": "markdown",
   "metadata": {},
   "source": [
    "<div class=\"alert alert-success\">\n",
    "<h2> Комментарий ревьюера <a class=\"tocSkip\"> </h2>\n",
    "\n",
    "<b>Все отлично!👍:</b> \n",
    "    \n",
    "Роман, все получилось, на этом шаге выводы верны!"
   ]
  },
  {
   "cell_type": "markdown",
   "metadata": {},
   "source": [
    "### Изучим предложения квартир: для каждой квартиры в Санкт-Петербурге есть информация о расстоянии до центра. Выясним, какая область входит в центр."
   ]
  },
  {
   "cell_type": "markdown",
   "metadata": {},
   "source": [
    "Выделим таблицу с квартирами в  Санкт-Петербурге"
   ]
  },
  {
   "cell_type": "code",
   "execution_count": null,
   "metadata": {},
   "outputs": [],
   "source": [
    "df_spb = df[df['locality_name'] == 'санкт-петербург']\n",
    "df_spb.info()"
   ]
  },
  {
   "cell_type": "code",
   "execution_count": null,
   "metadata": {},
   "outputs": [],
   "source": [
    "df_spb.head()"
   ]
  },
  {
   "cell_type": "markdown",
   "metadata": {},
   "source": [
    "В столбце city_сenters_nearest есть немного пустых значений, можно их удалить из таблицы\n",
    "заполним пустые значения числом -1, и отфильтруем"
   ]
  },
  {
   "cell_type": "code",
   "execution_count": null,
   "metadata": {},
   "outputs": [],
   "source": [
    "df_spb['city_сenters_nearest'] = df_spb['city_сenters_nearest'].fillna(-1)"
   ]
  },
  {
   "cell_type": "code",
   "execution_count": null,
   "metadata": {},
   "outputs": [],
   "source": [
    "df_spb = df_spb[df_spb['city_сenters_nearest'] != -1]"
   ]
  },
  {
   "cell_type": "code",
   "execution_count": null,
   "metadata": {},
   "outputs": [],
   "source": [
    "df_spb.isna().sum()"
   ]
  },
  {
   "cell_type": "markdown",
   "metadata": {},
   "source": [
    "Добавим новый столбец в километрах и изменим тип столбца в Int64"
   ]
  },
  {
   "cell_type": "code",
   "execution_count": null,
   "metadata": {},
   "outputs": [],
   "source": [
    "df_spb['city_сenters_nearest_km']  = df_spb['city_сenters_nearest']/1000\n",
    "df_spb.head()"
   ]
  },
  {
   "cell_type": "code",
   "execution_count": null,
   "metadata": {},
   "outputs": [],
   "source": [
    "df_spb['city_сenters_nearest_km']  = df_spb['city_сenters_nearest_km'].astype('int64')\n",
    "df_spb.head()"
   ]
  },
  {
   "cell_type": "markdown",
   "metadata": {},
   "source": [
    "Посчитаем среднюю цену для каждого километра. Сначалу найдем максимальное расстояние."
   ]
  },
  {
   "cell_type": "code",
   "execution_count": null,
   "metadata": {},
   "outputs": [],
   "source": [
    "kms = df_spb['city_сenters_nearest_km'].max()\n",
    "print(kms)"
   ]
  },
  {
   "cell_type": "code",
   "execution_count": null,
   "metadata": {},
   "outputs": [],
   "source": [
    "kms_list = list(range(0,kms+1)) # cписок всех значений растояний от центра\n",
    "print(kms_list)\n",
    "km_mean = [] # куда будем записывать среднюю цену\n",
    "for km in kms_list:\n",
    "    mean =  df_spb[(df_spb['city_сenters_nearest_km'] == km)]['price_per_sqmetr'].mean(skipna = True)\n",
    "    km_mean.append(mean)\n",
    "\n",
    "print(km_mean)    \n",
    "df_spb_km_mean = pd.DataFrame({\n",
    "    \"km\": kms_list,\n",
    "    \"mean\": km_mean\n",
    "})\n",
    "df_spb_km_mean.plot(x=\"km\", y=\"mean\", kind=\"line\");"
   ]
  },
  {
   "cell_type": "markdown",
   "metadata": {},
   "source": [
    "Судя по графику средняя цена ближе к центру сильно зависит от района и улицы расположения квариры, и по удалению от центра может и подниматься. Но в при расстояниях равных 8-9 км резкое снижение стоимости переходит в более пологую и предсказуемую последовательность, искажаясь лишь на самых окрайнах, видимо на окрайнах есть влияние постройки новостроек с большей стоимостью."
   ]
  },
  {
   "cell_type": "markdown",
   "metadata": {},
   "source": [
    "### Исследуем более подробно центральную часть города, с расстоянием от центра в 8 км."
   ]
  },
  {
   "cell_type": "markdown",
   "metadata": {},
   "source": [
    "Для этого создадим новую таблицу отфильтровав по расстоянию в 8 км."
   ]
  },
  {
   "cell_type": "markdown",
   "metadata": {},
   "source": [
    "<div class=\"alert alert-success\">\n",
    "<h2> Комментарий ревьюера<a class=\"tocSkip\"> </h2>\n",
    "\n",
    "<b>Все отлично!👍:</b> \n",
    "    \n",
    "8 км вполне адекватная цифра для современной зоны центра СПб, согласна с тобой."
   ]
  },
  {
   "cell_type": "markdown",
   "metadata": {},
   "source": [
    "<font color='blue'><h2> Новые добавления<a class=\"tocSkip\"> </h2>"
   ]
  },
  {
   "cell_type": "code",
   "execution_count": null,
   "metadata": {},
   "outputs": [],
   "source": [
    "df_spb_center = df_spb[df_spb['city_сenters_nearest_km'] <= 8]"
   ]
  },
  {
   "cell_type": "markdown",
   "metadata": {},
   "source": [
    "Странно куда то исчезла таблица\n",
    "\n",
    "ну и соответственно далее анализ заработал"
   ]
  },
  {
   "cell_type": "markdown",
   "metadata": {},
   "source": [
    "<font color='blue'><h2> Новые добавления<a class=\"tocSkip\"> </h2>"
   ]
  },
  {
   "cell_type": "markdown",
   "metadata": {},
   "source": [
    "Создадим новую таблицу с только теми параметрами, которые мы хотим исследовать:\n",
    "площадь, цена, число комнат, высота потолков, этаж, удалённость от центра. и Посмотрим на матрицу рассеиваний и корреляции"
   ]
  },
  {
   "cell_type": "code",
   "execution_count": null,
   "metadata": {},
   "outputs": [],
   "source": [
    "df_spb_center_lim = df_spb_center[['total_area', 'price_per_sqmetr', 'rooms', 'ceiling_height',\n",
    "                                   'floor', 'city_сenters_nearest_km']]"
   ]
  },
  {
   "cell_type": "markdown",
   "metadata": {},
   "source": [
    "Нас интересует строчки зависимостей цены метра от остальных параметров"
   ]
  },
  {
   "cell_type": "code",
   "execution_count": null,
   "metadata": {},
   "outputs": [],
   "source": [
    "pd.plotting.scatter_matrix(df_spb_center_lim, figsize=(18, 18));\n"
   ]
  },
  {
   "cell_type": "markdown",
   "metadata": {},
   "source": [
    "Посмотрим на ту же матрицу для общей таблицы Спб тех же столбцов"
   ]
  },
  {
   "cell_type": "code",
   "execution_count": null,
   "metadata": {},
   "outputs": [],
   "source": [
    "df_spb_lim = df_spb[['total_area', 'price_per_sqmetr', 'rooms', 'ceiling_height',\n",
    "                                   'floor', 'city_сenters_nearest_km']]"
   ]
  },
  {
   "cell_type": "code",
   "execution_count": null,
   "metadata": {},
   "outputs": [],
   "source": [
    "pd.plotting.scatter_matrix(df_spb_lim, figsize=(18, 18));"
   ]
  },
  {
   "cell_type": "code",
   "execution_count": null,
   "metadata": {},
   "outputs": [],
   "source": [
    "df_spb_center_lim.corr() # таблица данных для центра"
   ]
  },
  {
   "cell_type": "code",
   "execution_count": null,
   "metadata": {},
   "outputs": [],
   "source": [
    "df_spb_lim.corr() # таблица данных для всего города Санкт-Петербурга"
   ]
  },
  {
   "cell_type": "markdown",
   "metadata": {},
   "source": [
    "Пожалуй сильно разичающаяся зависимость это зависимость цены квадратного метра от расстояния до центра - в центральной зоне зависимости почти нет, тогда как от центра к переферии достаточно сильная зависимость цены метра. Так же в центре наблюдается чуть большая зависимость цены метра от этажа расположения квариры. Остальные распределения весьма похожи что для центральных данных, что для данных, включающие переферию.  Более подробные выводы каждого распределения описаны в Общем выводе."
   ]
  },
  {
   "attachments": {
    "image.png": {
     "image/png": "[encoded data removed]"
    }
   },
   "cell_type": "markdown",
   "metadata": {},
   "source": [
    "<div class=\"alert alert-block alert-danger\">\n",
    "<h2> Комментарий ревьюера <a class=\"tocSkip\"></h2>\n",
    "\n",
    "    \n",
    "<b>На доработку🤔:</b> \n",
    "    \n",
    "    \n",
    "Роман, ячейки выше отрабатывают с ошибкой, причем одна ошибка вызывает другую:\n",
    "    \n",
    "![image.png](attachment:image.png)\n",
    "    \n",
    "Постарайся доработать этот шаг и исправить баги в коде.\n",
    "    \n",
    "Второй момент: напоминаю, что логика анализа для рынка жилья в центре СПб такая же, как и для всего рынка жилья СПБ: здесь важно посчитать корреляцию для количественных переменных, если ты будешь строить графики - корректно оформить их, не забыв подобрать более корректный тип графика для категориальных переменных."
   ]
  },
  {
   "cell_type": "markdown",
   "metadata": {},
   "source": [
    "<div class=\"alert alert-success\">\n",
    "<h2> Комментарий ревьюера: вторая итерация ревью <a class=\"tocSkip\"> </h2>\n",
    "\n",
    "<b>Все отлично!👍:</b>\n",
    "    \n",
    "Теперь код отрабатывает корректно:)"
   ]
  },
  {
   "cell_type": "markdown",
   "metadata": {},
   "source": [
    "## Отдельно проанализируем данные на мошенническую деятельность в Санкт-Петербурге"
   ]
  },
  {
   "cell_type": "markdown",
   "metadata": {},
   "source": [
    "Предположим, что мошейник будет размещать объявления квартир по низким ценам и этим завлекать покупателей. Посмотрим на самые дешевые квартиры и проверим как они соответсвуют средней цене по городу. При этом очень дорогие объекты недвижимости вполне возможны."
   ]
  },
  {
   "cell_type": "code",
   "execution_count": null,
   "metadata": {},
   "outputs": [],
   "source": [
    "df_spb.sort_values(by = 'price_per_sqmetr').head(10)"
   ]
  },
  {
   "cell_type": "markdown",
   "metadata": {},
   "source": [
    "Первая строка явно ошибочна и ей можно пренебречь, тогда как остальные дешевые квартиры требуют внимательного изучения\n",
    "посмотрим описание данных столбца"
   ]
  },
  {
   "cell_type": "code",
   "execution_count": null,
   "metadata": {},
   "outputs": [],
   "source": [
    "df_spb['price_per_sqmetr'].describe()"
   ]
  },
  {
   "cell_type": "markdown",
   "metadata": {},
   "source": [
    "Построим диаграмму размаха, что бы увидеть картину выбросов."
   ]
  },
  {
   "cell_type": "code",
   "execution_count": null,
   "metadata": {},
   "outputs": [],
   "source": [
    "import matplotlib.pyplot as plt\n",
    "plt.ylim(0,200000)\n",
    "df_spb.boxplot(column='price_per_sqmetr');"
   ]
  },
  {
   "cell_type": "markdown",
   "metadata": {},
   "source": [
    "Если выбросы в дороговизну вполне объяснимы, то вот выбросы в дешевизну весьма подозрительны."
   ]
  },
  {
   "cell_type": "markdown",
   "metadata": {},
   "source": [
    "Посчитаем нижнюю границу выбросов, ниже которой данные попадают под подозрение:"
   ]
  },
  {
   "cell_type": "code",
   "execution_count": null,
   "metadata": {},
   "outputs": [],
   "source": [
    "quant_25 = df_spb['price_per_sqmetr'].quantile(0.25)\n",
    "quant_75 = df_spb['price_per_sqmetr'].quantile(0.75)\n",
    "quant_IQR = quant_75 - quant_25\n",
    "quant_low = quant_25 - 1.5*quant_IQR\n",
    "print(quant_25)\n",
    "print(quant_low)"
   ]
  },
  {
   "cell_type": "markdown",
   "metadata": {},
   "source": [
    "Отфильтруем данные по цене за метр 41 000 руб. и далее необходимо проверить пользователей сервиса признаки мошейничества (контрольные звонки или опросы возможных клиентов), хотя по здравому размышлению уже цены ниже первого квартиля вызывают подозрения и разумно проверять пользователей уже при цене за метр ниже 60-70 тыс. руб. особенно для адресов близких к центру:"
   ]
  },
  {
   "cell_type": "code",
   "execution_count": null,
   "metadata": {},
   "outputs": [],
   "source": [
    "df_warning = df_spb[df_spb['price_per_sqmetr'] <= quant_low]\n",
    "display(df_warning)"
   ]
  },
  {
   "cell_type": "markdown",
   "metadata": {},
   "source": [
    "## Общий вывод"
   ]
  },
  {
   "cell_type": "markdown",
   "metadata": {},
   "source": [
    "Обобщение всех выводов отдельных исследований и сравнение матриц диаграмм центральной области и всего города Санкт-Петербурга"
   ]
  },
  {
   "cell_type": "markdown",
   "metadata": {},
   "source": [
    "1) Цена квартиры зависит от субъективных желаний собственника, но все же лежат в близи среднего для конкретной местности, при этом люди стремяться указать цену с шагом 50 000 руб. или 100 000 руб."
   ]
  },
  {
   "cell_type": "markdown",
   "metadata": {},
   "source": [
    "2) Наиболее часто встречающиеся это 1,2,3 комнатные. При этом квартиры с более, чем 8-ью комнатами вообще исчисляются еденицами."
   ]
  },
  {
   "cell_type": "markdown",
   "metadata": {},
   "source": [
    "3) Основные высоты потолков квартир  -  2,5 - 3.5 метра"
   ]
  },
  {
   "cell_type": "markdown",
   "metadata": {},
   "source": [
    "4) Есть анамальные значения сроков снятия объявлений с продажи  - это 30,45,60,90 дней.  Нужно уточнить у разработчиков, возможно в эти дни объявления снимаются автоматически, если в ручную не продлить срок размещения. Если же в движке разработчиков нет такого функционала, значит хорошо бы проанализировать кто проявляетя аномальную активность и почему."
   ]
  },
  {
   "cell_type": "markdown",
   "metadata": {},
   "source": [
    "5) Основной промежуток времени когда продается квартира лежит в пределах от 5 до 200 дней. При этом многие квартиры продаются достатчно быстро - в течении первого месяца размещения, а многие и более 1-2 лет висят на сайте.\n",
    "При этом та же установлено, что с меньшей стоимостью квартиры продаются быстрее"
   ]
  },
  {
   "cell_type": "markdown",
   "metadata": {},
   "source": [
    "6) Минимальная стоимость квадратного метра наблюдается у 2-3-х комнатных квартир, при этом данные для более 8-ми комнатных квартир уже выпадают из четкой зависимости из-за малого объема этих данных и возникает сильное влияние индивидуальных желаний продавца"
   ]
  },
  {
   "cell_type": "markdown",
   "metadata": {},
   "source": [
    "7) Чем ближе к центру, тем больше встречаются дорогих квартир, но при этом можно так же найти множество вариантов квартир в центре не особо отличающихся по стоимости от квартир на переферии"
   ]
  },
  {
   "cell_type": "markdown",
   "metadata": {},
   "source": [
    "8) Квартиры на первом этаже самые дешевые, далее по цене следуют квартиры на последнем, и дорогие квартиры на этажах между этими."
   ]
  },
  {
   "cell_type": "markdown",
   "metadata": {},
   "source": [
    "9) При размещении объявления в середине недели выставляют квартиры дороже. При размещении в воскресенье наблюдаем минмальные цены."
   ]
  },
  {
   "cell_type": "markdown",
   "metadata": {},
   "source": [
    "10) Цены кварир размещаемых в начале года падают, весной наблюдаются максимальные цены, с падением в начале лета, потом опять наблюдается рост цены к концу лета и падение цены в середине осени."
   ]
  },
  {
   "cell_type": "markdown",
   "metadata": {},
   "source": [
    "11) После кризиса 2014 года наблюдается снижение цены квадратного метра, что логично, так как планомерное уменьшение платежоспособности населения. и лишь в 2019 и в настоящие года наблюдается рост стоимости с тенденцией к возварщению и даже превышению докризисных времен."
   ]
  },
  {
   "cell_type": "markdown",
   "metadata": {},
   "source": [
    "12) Из десяти наиболее часто встречающихся населенных пунктов максимальные цены наблюдаются в Санкт-Петербурге и г. Пушкин, минимальные в городах Всеволжск и Выборг"
   ]
  },
  {
   "cell_type": "markdown",
   "metadata": {},
   "source": [
    "13) Средняя цена ближе к центру сильно зависит от района и улицы расположения квариры, и по удалению от центра может и подниматься. Но при расстояниях равных 8-9 км резкое снижение стоимости переходит в более пологую и предсказуемую последовательность, искажаясь лишь на самых окрайнах, видимо на окрайнах есть влияние постройки новостроек с большей стоимостью."
   ]
  },
  {
   "cell_type": "markdown",
   "metadata": {},
   "source": [
    "14) Если рассматривать зависимости цены квадратного метра от площади, числа комнат, высоты потолков, этажности, удалённость от центра и сравнивать эти зависимости по центральной области города Санкт-Петербурга и по городу вообще, то можно сделать следующие выводы:\n",
    "\n",
    "- цена квадратного метра явно уменьшается при увеличении площади, при этом в центральной области меньше квартир с большой площадью, чем на переферии.\n",
    "\n",
    "- зависимости цены метра от количества комнат схожа с зависимостью от площади, но различий межд центром и переферией особо не наблюдается.\n",
    "\n",
    "- зависимости цены метра от высоты потолков не наблюдается. Но есть различе графиков центра и переферии - квартир с высокими потолками на переерии больше, но возможно это жилые помещения, переделанные из нежилых, складов, ангаров.\n",
    "\n",
    "- распределения цены метра от расположения картиры для центра и включая переферию примерно одинаковые, и как говорилось выше, наблюдается снижение цены для первых этажей, и повышение для средних. При этом снижение графика распределения с этажностью наблюдается так как сюда попадают много крайних этажей, ну и высотные этажи так же дешевле. Хотя для этажей от 2 до 10 может быть влияние еще и дороговизны квартир в низкоэтажных домах.\n",
    "\n",
    "- график распределения цены метра от расстояния до центра для центрального расположения и включая перефирииное сильно различаются, но при этом можно выделить, что на расстоянии от центра 5-6 км наблюдается повышение цены, видимо вопрос в наличии удобств и инфраструктуры в отличии прямо центральных квартир."
   ]
  },
  {
   "cell_type": "markdown",
   "metadata": {},
   "source": [
    "15) Проверка на признаки мошейнической деятельности пользователей показала, что для Санкт-Петерурга при цене за квадратный метр ниже 41 000 руб. стоит осуществлять контроль и модерацию активности пользователей. Хотя по здравому размышлению можно расширить проверку и с граничной ценой в 60 000 руб. особенно в центральной части города."
   ]
  },
  {
   "cell_type": "markdown",
   "metadata": {},
   "source": [
    "<div class=\"alert alert-block alert-danger\">\n",
    "<h2> Комментарий ревьюера <a class=\"tocSkip\"></h2>\n",
    "\n",
    "    \n",
    "<b>На доработку🤔:</b>\n",
    "\n",
    "Роман, если ты вспомнишь инструкцию к проекту, то основная цель звучит так: \n",
    "    \n",
    "`В вашем распоряжении данные сервиса Яндекс.Недвижимость — архив объявлений о продаже квартир в Санкт-Петербурге и соседних населённых пунктах за несколько лет. Нужно научиться определять рыночную стоимость объектов недвижимости. Ваша задача — установить параметры. Это позволит построить автоматизированную систему: она отследит аномалии и мошенническую деятельность.`\n",
    "    \n",
    "Поэтому в итоговом выводе важно не просто суммировать свои действия в рамках реализации анализа (у тебя получился очень развернутый и подробный вывод, ты молодец, но его нужно дополнить) а также дать рекомендации заказчику. Попробуй подумать, какие это могут быть рекомендации, и сформулировав их, добавь в итоговый вывод по проекту."
   ]
  },
  {
   "cell_type": "markdown",
   "metadata": {},
   "source": [
    "<div class=\"alert alert-success\">\n",
    "<h2> Комментарий ревьюера: вторая итерация ревью <a class=\"tocSkip\"> </h2>\n",
    "\n",
    "<b>Все отлично!👍:</b>\n",
    "    \n",
    "Отличная работа! Теперь итоговый вывод в большей степени ориентирован на изначальную цель исследования, так держать!"
   ]
  },
  {
   "cell_type": "markdown",
   "metadata": {},
   "source": [
    "<div style=\"border:solid Chocolate 2px; padding: 40px\">\n",
    "\n",
    "**Общий вывод по проекту**\n",
    "\n",
    "Роман, спасибо за твой проект! Ты приложил много усилий, чтобы довести его до конца, фактически все задачи в рамках проекта у тебя получились, проделана огромная работа, и это видно невооруженным глазом, ты большой молодец! Есть несколько важных моментов, которые я отметила и которые можно было бы улучшить, подсказки ты найдешь в моих комментариях. \n",
    "\n",
    "**Отмечу отдельные положительные моменты проекта🙂**:\n",
    " \n",
    "* На разных шагах проекта ты предлагал очень интересные решения и методы для их реализации. Хорошая работа!\n",
    "* Ты использовал самые разные методы для работы с данными, все получилось!\n",
    "* Ты активно использовал визуализацию, хорошо, что ты не избегаешь этого инструмента анализа!\n",
    "* Отдельный плюс за автоматизацию решений и использование функций, получилось очень круто!\n",
    "* Ты формулировал промежуточные выводы по ходу проекта, оставлял поясняющие комментарии, виден твой аналитический подход.\n",
    "\n",
    "\n",
    "**На что стоит обратить внимание🤓**:\n",
    "    \n",
    "* Удели чуть больше внимания визуализации: в некоторых случаях графикам не хватает оформления, можно попробовать сделать визуализацию более информативной.\n",
    "* Важно доработать итоговый вывод.\n",
    "* Корреляционный анализ стоит проводить для количественных переменных, для категориальных лучше построить графики. В целом пока не хватает корреляционного анализа.\n",
    "* Несколько ячеек с кодом отрабатывают с ошибкой.\n",
    "* Остальные рекомендации ты найдешь в моих комментариях!\n",
    "\n",
    "\n",
    "**Желаю удачи и жду твой проект на повторное ревью!**😉\n",
    "    \n",
    "![gif](https://media.giphy.com/media/VTtANKl0beDFQRLDTh/giphy.gif)"
   ]
  },
  {
   "cell_type": "markdown",
   "metadata": {},
   "source": [
    "<div style=\"border:solid Chocolate 2px; padding: 40px\">\n",
    "\n",
    "**Общий вывод по проекту: вторая итерация ревью**\n",
    "\n",
    "Роман, спасибо, что прислал проект с доработками! Тебе удалось скорректировать все важные моменты,  увидела все твои исправления, согласна с новой версией.\n",
    "    \n",
    "Спешу тебе сообщить, что твой проект принят и ты можешь перейти на следующий спринт!\n",
    "    \n",
    "**Желаю тебе крутых и интересных проектов на следующих спринтах!**😉\n",
    "![gif](https://media.giphy.com/media/wvWJOoYmFnSp2/giphy.gif)"
   ]
  },
  {
   "cell_type": "markdown",
   "metadata": {},
   "source": [
    "## Чек-лист готовности проекта\n",
    "\n",
    "Поставьте 'x' в выполненных пунктах. Далее нажмите Shift+Enter."
   ]
  },
  {
   "cell_type": "markdown",
   "metadata": {},
   "source": [
    "- [x]  открыт файл\n",
    "- [x]  файлы изучены (выведены первые строки, метод info())\n",
    "- [x]  определены пропущенные значения\n",
    "- [x]  заполнены пропущенные значения\n",
    "- [x]  есть пояснение, какие пропущенные значения обнаружены\n",
    "- [x]  изменены типы данных\n",
    "- [x]  есть пояснение, в каких столбцах изменены типы и почему\n",
    "- [x]  посчитано и добавлено в таблицу: цена квадратного метра\n",
    "- [x]  посчитано и добавлено в таблицу: день недели, месяц и год публикации объявления\n",
    "- [x]  посчитано и добавлено в таблицу: этаж квартиры; варианты — первый, последний, другой\n",
    "- [x]  посчитано и добавлено в таблицу: соотношение жилой и общей площади, а также отношение площади кухни к общей\n",
    "- [x]  изучены следующие параметры: площадь, цена, число комнат, высота потолков\n",
    "- [x]  построены гистограммы для каждого параметра\n",
    "- [x]  выполнено задание: \"Изучите время продажи квартиры. Постройте гистограмму. Посчитайте среднее и медиану. Опишите, сколько обычно занимает продажа. Когда можно считать, что продажи прошли очень быстро, а когда необычно долго?\"\n",
    "- [x]  выполнено задание: \"Уберите редкие и выбивающиеся значения. Опишите, какие особенности обнаружили.\"\n",
    "- [x]  выполнено задание: \"Какие факторы больше всего влияют на стоимость квартиры? Изучите, зависит ли цена от квадратного метра, числа комнат, этажа (первого или последнего), удалённости от центра. Также изучите зависимость от даты размещения: дня недели, месяца и года. \"Выберите 10 населённых пунктов с наибольшим числом объявлений. Посчитайте среднюю цену квадратного метра в этих населённых пунктах. Выделите населённые пункты с самой высокой и низкой стоимостью жилья. Эти данные можно найти по имени в столбце '*locality_name'*. \"\n",
    "- [x]  выполнено задание: \"Изучите предложения квартир: для каждой квартиры есть информация о расстоянии до центра. Выделите квартиры в Санкт-Петербурге (*'locality_name'*). Ваша задача — выяснить, какая область входит в центр. Создайте столбец с расстоянием до центра в километрах: округлите до целых значений. После этого посчитайте среднюю цену для каждого километра. Постройте график: он должен показывать, как цена зависит от удалённости от центра. Определите границу, где график сильно меняется — это и будет центральная зона. \"\n",
    "- [x]  выполнено задание: \"Выделите сегмент квартир в центре. Проанализируйте эту территорию и изучите следующие параметры: площадь, цена, число комнат, высота потолков. Также выделите факторы, которые влияют на стоимость квартиры (число комнат, этаж, удалённость от центра, дата размещения объявления). Сделайте выводы. Отличаются ли они от общих выводов по всему городу?\"\n",
    "- [x]  в каждом этапе есть выводы\n",
    "- [x]  есть общий вывод"
   ]
  },
  {
   "cell_type": "code",
   "execution_count": null,
   "metadata": {},
   "outputs": [],
   "source": []
  }
 ],
 "metadata": {
  "ExecuteTimeLog": [
   {
    "duration": 447,
    "start_time": "2021-08-24T09:00:45.325Z"
   },
   {
    "duration": 747,
    "start_time": "2021-08-24T09:00:50.079Z"
   },
   {
    "duration": 75,
    "start_time": "2021-08-24T09:00:52.199Z"
   },
   {
    "duration": 20,
    "start_time": "2021-08-24T09:00:57.010Z"
   },
   {
    "duration": 10,
    "start_time": "2021-08-24T09:01:19.347Z"
   },
   {
    "duration": 10,
    "start_time": "2021-08-24T09:01:32.349Z"
   },
   {
    "duration": 9,
    "start_time": "2021-08-24T09:01:42.579Z"
   },
   {
    "duration": 89,
    "start_time": "2021-08-24T09:06:50.084Z"
   },
   {
    "duration": 37,
    "start_time": "2021-08-24T09:06:57.166Z"
   },
   {
    "duration": 38,
    "start_time": "2021-08-24T09:10:07.574Z"
   },
   {
    "duration": 35,
    "start_time": "2021-08-24T09:10:17.888Z"
   },
   {
    "duration": 4,
    "start_time": "2021-08-24T09:10:27.920Z"
   },
   {
    "duration": 95,
    "start_time": "2021-08-24T09:10:27.926Z"
   },
   {
    "duration": 8,
    "start_time": "2021-08-24T09:10:28.024Z"
   },
   {
    "duration": 87,
    "start_time": "2021-08-24T09:10:28.042Z"
   },
   {
    "duration": 39,
    "start_time": "2021-08-24T09:10:28.132Z"
   },
   {
    "duration": 15,
    "start_time": "2021-08-24T09:11:03.193Z"
   },
   {
    "duration": 14,
    "start_time": "2021-08-24T09:11:40.958Z"
   },
   {
    "duration": 158,
    "start_time": "2021-08-24T09:17:00.251Z"
   },
   {
    "duration": 148,
    "start_time": "2021-08-24T09:28:46.036Z"
   },
   {
    "duration": 441,
    "start_time": "2021-08-24T09:28:54.241Z"
   },
   {
    "duration": 14,
    "start_time": "2021-08-24T09:29:18.248Z"
   },
   {
    "duration": 401,
    "start_time": "2021-08-24T09:30:55.726Z"
   },
   {
    "duration": 14,
    "start_time": "2021-08-24T09:34:13.390Z"
   },
   {
    "duration": 4,
    "start_time": "2021-08-24T09:34:24.622Z"
   },
   {
    "duration": 104,
    "start_time": "2021-08-24T09:34:24.628Z"
   },
   {
    "duration": 8,
    "start_time": "2021-08-24T09:34:24.735Z"
   },
   {
    "duration": 101,
    "start_time": "2021-08-24T09:34:24.746Z"
   },
   {
    "duration": 38,
    "start_time": "2021-08-24T09:34:24.850Z"
   },
   {
    "duration": 39,
    "start_time": "2021-08-24T09:34:24.891Z"
   },
   {
    "duration": 14,
    "start_time": "2021-08-24T09:35:09.679Z"
   },
   {
    "duration": 463,
    "start_time": "2021-08-24T09:35:25.452Z"
   },
   {
    "duration": 14,
    "start_time": "2021-08-24T09:35:36.817Z"
   },
   {
    "duration": 4,
    "start_time": "2021-08-24T09:53:15.382Z"
   },
   {
    "duration": 33,
    "start_time": "2021-08-24T09:53:17.360Z"
   },
   {
    "duration": 4,
    "start_time": "2021-08-24T10:26:41.567Z"
   },
   {
    "duration": 78,
    "start_time": "2021-08-24T10:26:41.574Z"
   },
   {
    "duration": 9,
    "start_time": "2021-08-24T10:26:41.654Z"
   },
   {
    "duration": 96,
    "start_time": "2021-08-24T10:26:41.665Z"
   },
   {
    "duration": 3,
    "start_time": "2021-08-24T10:26:41.763Z"
   },
   {
    "duration": 40,
    "start_time": "2021-08-24T10:26:41.768Z"
   },
   {
    "duration": 45,
    "start_time": "2021-08-24T10:26:41.811Z"
   },
   {
    "duration": 392,
    "start_time": "2021-08-24T11:02:07.652Z"
   },
   {
    "duration": 41,
    "start_time": "2021-08-24T11:02:28.501Z"
   },
   {
    "duration": 439,
    "start_time": "2021-08-24T11:02:59.522Z"
   },
   {
    "duration": 11,
    "start_time": "2021-08-24T11:03:10.096Z"
   },
   {
    "duration": 10,
    "start_time": "2021-08-24T11:03:59.992Z"
   },
   {
    "duration": 561,
    "start_time": "2021-08-24T11:05:24.528Z"
   },
   {
    "duration": 55,
    "start_time": "2021-08-24T11:06:01.221Z"
   },
   {
    "duration": 45,
    "start_time": "2021-08-24T11:06:10.735Z"
   },
   {
    "duration": 48,
    "start_time": "2021-08-24T11:31:35.866Z"
   },
   {
    "duration": 33,
    "start_time": "2021-08-24T11:32:23.911Z"
   },
   {
    "duration": 5,
    "start_time": "2021-08-24T12:02:01.977Z"
   },
   {
    "duration": 87,
    "start_time": "2021-08-24T12:02:01.985Z"
   },
   {
    "duration": 10,
    "start_time": "2021-08-24T12:02:02.076Z"
   },
   {
    "duration": 104,
    "start_time": "2021-08-24T12:02:02.089Z"
   },
   {
    "duration": 4,
    "start_time": "2021-08-24T12:02:02.195Z"
   },
   {
    "duration": 84,
    "start_time": "2021-08-24T12:02:02.201Z"
   },
   {
    "duration": 16,
    "start_time": "2021-08-24T12:02:02.288Z"
   },
   {
    "duration": 12,
    "start_time": "2021-08-24T12:02:02.307Z"
   },
   {
    "duration": 72,
    "start_time": "2021-08-24T12:02:02.322Z"
   },
   {
    "duration": 352,
    "start_time": "2021-08-26T12:49:11.723Z"
   },
   {
    "duration": 726,
    "start_time": "2021-08-26T12:49:24.706Z"
   },
   {
    "duration": 79,
    "start_time": "2021-08-26T12:49:25.434Z"
   },
   {
    "duration": 19,
    "start_time": "2021-08-26T12:49:25.515Z"
   },
   {
    "duration": 95,
    "start_time": "2021-08-26T12:49:25.536Z"
   },
   {
    "duration": 3,
    "start_time": "2021-08-26T12:49:25.633Z"
   },
   {
    "duration": 50,
    "start_time": "2021-08-26T12:49:25.638Z"
   },
   {
    "duration": 15,
    "start_time": "2021-08-26T12:49:25.690Z"
   },
   {
    "duration": 12,
    "start_time": "2021-08-26T12:49:25.707Z"
   },
   {
    "duration": 45,
    "start_time": "2021-08-26T12:49:25.755Z"
   },
   {
    "duration": 8,
    "start_time": "2021-08-26T12:49:25.802Z"
   },
   {
    "duration": 10,
    "start_time": "2021-08-26T12:50:13.397Z"
   },
   {
    "duration": 42,
    "start_time": "2021-08-26T12:54:59.332Z"
   },
   {
    "duration": 61,
    "start_time": "2021-08-26T12:55:21.145Z"
   },
   {
    "duration": 34,
    "start_time": "2021-08-26T12:58:13.330Z"
   },
   {
    "duration": 126,
    "start_time": "2021-08-26T13:00:08.239Z"
   },
   {
    "duration": 30,
    "start_time": "2021-08-26T13:01:43.438Z"
   },
   {
    "duration": 65,
    "start_time": "2021-08-26T13:01:55.509Z"
   },
   {
    "duration": 34,
    "start_time": "2021-08-26T13:02:02.917Z"
   },
   {
    "duration": 351,
    "start_time": "2021-08-26T13:05:30.332Z"
   },
   {
    "duration": 433,
    "start_time": "2021-08-26T13:05:38.541Z"
   },
   {
    "duration": 286,
    "start_time": "2021-08-26T13:05:47.569Z"
   },
   {
    "duration": 300,
    "start_time": "2021-08-26T13:05:52.814Z"
   },
   {
    "duration": 313,
    "start_time": "2021-08-26T13:06:16.950Z"
   },
   {
    "duration": 37,
    "start_time": "2021-08-26T13:06:39.665Z"
   },
   {
    "duration": 34,
    "start_time": "2021-08-26T13:07:21.411Z"
   },
   {
    "duration": 34,
    "start_time": "2021-08-26T13:07:32.467Z"
   },
   {
    "duration": 396,
    "start_time": "2021-08-26T13:11:45.145Z"
   },
   {
    "duration": 97,
    "start_time": "2021-08-26T13:11:54.837Z"
   },
   {
    "duration": 94,
    "start_time": "2021-08-26T13:11:55.712Z"
   },
   {
    "duration": 4,
    "start_time": "2021-08-26T13:12:04.329Z"
   },
   {
    "duration": 95,
    "start_time": "2021-08-26T13:12:04.335Z"
   },
   {
    "duration": 10,
    "start_time": "2021-08-26T13:12:04.432Z"
   },
   {
    "duration": 100,
    "start_time": "2021-08-26T13:12:04.445Z"
   },
   {
    "duration": 6,
    "start_time": "2021-08-26T13:12:04.548Z"
   },
   {
    "duration": 42,
    "start_time": "2021-08-26T13:12:04.558Z"
   },
   {
    "duration": 22,
    "start_time": "2021-08-26T13:12:04.603Z"
   },
   {
    "duration": 24,
    "start_time": "2021-08-26T13:12:04.654Z"
   },
   {
    "duration": 41,
    "start_time": "2021-08-26T13:12:04.682Z"
   },
   {
    "duration": 304,
    "start_time": "2021-08-26T13:12:04.726Z"
   },
   {
    "duration": 3,
    "start_time": "2021-08-26T13:12:28.083Z"
   },
   {
    "duration": 94,
    "start_time": "2021-08-26T13:12:28.089Z"
   },
   {
    "duration": 9,
    "start_time": "2021-08-26T13:12:28.187Z"
   },
   {
    "duration": 107,
    "start_time": "2021-08-26T13:12:28.199Z"
   },
   {
    "duration": 3,
    "start_time": "2021-08-26T13:12:28.309Z"
   },
   {
    "duration": 63,
    "start_time": "2021-08-26T13:12:28.314Z"
   },
   {
    "duration": 18,
    "start_time": "2021-08-26T13:12:28.380Z"
   },
   {
    "duration": 11,
    "start_time": "2021-08-26T13:12:28.402Z"
   },
   {
    "duration": 60,
    "start_time": "2021-08-26T13:12:28.416Z"
   },
   {
    "duration": 32,
    "start_time": "2021-08-26T13:12:28.479Z"
   },
   {
    "duration": 42,
    "start_time": "2021-08-26T13:12:37.088Z"
   },
   {
    "duration": 85,
    "start_time": "2021-08-26T13:13:45.469Z"
   },
   {
    "duration": 312,
    "start_time": "2021-08-26T13:16:01.550Z"
   },
   {
    "duration": 4,
    "start_time": "2021-08-26T13:16:29.329Z"
   },
   {
    "duration": 96,
    "start_time": "2021-08-26T13:16:29.336Z"
   },
   {
    "duration": 8,
    "start_time": "2021-08-26T13:16:29.435Z"
   },
   {
    "duration": 93,
    "start_time": "2021-08-26T13:16:29.446Z"
   },
   {
    "duration": 3,
    "start_time": "2021-08-26T13:16:29.542Z"
   },
   {
    "duration": 48,
    "start_time": "2021-08-26T13:16:29.547Z"
   },
   {
    "duration": 15,
    "start_time": "2021-08-26T13:16:29.598Z"
   },
   {
    "duration": 41,
    "start_time": "2021-08-26T13:16:29.616Z"
   },
   {
    "duration": 51,
    "start_time": "2021-08-26T13:16:29.660Z"
   },
   {
    "duration": 147,
    "start_time": "2021-08-26T13:16:29.713Z"
   },
   {
    "duration": 15,
    "start_time": "2021-08-26T13:17:25.361Z"
   },
   {
    "duration": 125,
    "start_time": "2021-08-26T13:18:14.420Z"
   },
   {
    "duration": 116,
    "start_time": "2021-08-26T13:18:27.909Z"
   },
   {
    "duration": 8,
    "start_time": "2021-08-26T13:19:34.219Z"
   },
   {
    "duration": 108,
    "start_time": "2021-08-26T13:21:47.987Z"
   },
   {
    "duration": 94,
    "start_time": "2021-08-26T13:23:43.255Z"
   },
   {
    "duration": 114,
    "start_time": "2021-08-26T13:23:57.630Z"
   },
   {
    "duration": 15,
    "start_time": "2021-08-26T13:25:30.698Z"
   },
   {
    "duration": 13,
    "start_time": "2021-08-26T13:27:49.539Z"
   },
   {
    "duration": 12,
    "start_time": "2021-08-26T13:30:17.686Z"
   },
   {
    "duration": 10,
    "start_time": "2021-08-26T13:30:44.109Z"
   },
   {
    "duration": 15,
    "start_time": "2021-08-26T13:30:45.868Z"
   },
   {
    "duration": 12,
    "start_time": "2021-08-26T13:30:47.559Z"
   },
   {
    "duration": 5,
    "start_time": "2021-08-26T13:30:56.054Z"
   },
   {
    "duration": 128,
    "start_time": "2021-08-26T13:30:56.062Z"
   },
   {
    "duration": 9,
    "start_time": "2021-08-26T13:30:56.193Z"
   },
   {
    "duration": 125,
    "start_time": "2021-08-26T13:30:56.206Z"
   },
   {
    "duration": 3,
    "start_time": "2021-08-26T13:30:56.334Z"
   },
   {
    "duration": 62,
    "start_time": "2021-08-26T13:30:56.339Z"
   },
   {
    "duration": 32,
    "start_time": "2021-08-26T13:30:56.405Z"
   },
   {
    "duration": 21,
    "start_time": "2021-08-26T13:30:56.440Z"
   },
   {
    "duration": 47,
    "start_time": "2021-08-26T13:30:56.463Z"
   },
   {
    "duration": 13,
    "start_time": "2021-08-26T13:30:56.512Z"
   },
   {
    "duration": 152,
    "start_time": "2021-08-26T13:30:56.527Z"
   },
   {
    "duration": 10,
    "start_time": "2021-08-26T13:30:56.682Z"
   },
   {
    "duration": 12,
    "start_time": "2021-08-26T13:31:10.420Z"
   },
   {
    "duration": 5,
    "start_time": "2021-08-26T13:31:26.794Z"
   },
   {
    "duration": 92,
    "start_time": "2021-08-26T13:31:26.803Z"
   },
   {
    "duration": 9,
    "start_time": "2021-08-26T13:31:26.899Z"
   },
   {
    "duration": 99,
    "start_time": "2021-08-26T13:31:26.911Z"
   },
   {
    "duration": 3,
    "start_time": "2021-08-26T13:31:27.013Z"
   },
   {
    "duration": 54,
    "start_time": "2021-08-26T13:31:27.019Z"
   },
   {
    "duration": 20,
    "start_time": "2021-08-26T13:31:27.079Z"
   },
   {
    "duration": 13,
    "start_time": "2021-08-26T13:31:27.104Z"
   },
   {
    "duration": 70,
    "start_time": "2021-08-26T13:31:27.121Z"
   },
   {
    "duration": 13,
    "start_time": "2021-08-26T13:31:27.193Z"
   },
   {
    "duration": 150,
    "start_time": "2021-08-26T13:31:27.208Z"
   },
   {
    "duration": 14,
    "start_time": "2021-08-26T13:31:27.361Z"
   },
   {
    "duration": 10,
    "start_time": "2021-08-26T13:31:27.379Z"
   },
   {
    "duration": 9,
    "start_time": "2021-08-26T13:31:40.089Z"
   },
   {
    "duration": 7,
    "start_time": "2021-08-26T13:32:17.328Z"
   },
   {
    "duration": 7,
    "start_time": "2021-08-26T13:34:55.787Z"
   },
   {
    "duration": 87,
    "start_time": "2021-08-26T13:37:02.084Z"
   },
   {
    "duration": 9,
    "start_time": "2021-08-26T13:37:41.391Z"
   },
   {
    "duration": 20,
    "start_time": "2021-08-26T13:37:55.861Z"
   },
   {
    "duration": 8,
    "start_time": "2021-08-26T13:39:46.272Z"
   },
   {
    "duration": 6,
    "start_time": "2021-08-26T13:39:54.482Z"
   },
   {
    "duration": 9,
    "start_time": "2021-08-26T13:40:08.750Z"
   },
   {
    "duration": 14,
    "start_time": "2021-08-26T13:46:24.627Z"
   },
   {
    "duration": 1869,
    "start_time": "2021-08-26T14:28:03.776Z"
   },
   {
    "duration": 11,
    "start_time": "2021-08-26T14:28:36.816Z"
   },
   {
    "duration": 5,
    "start_time": "2021-08-26T14:28:40.414Z"
   },
   {
    "duration": 18,
    "start_time": "2021-08-26T14:28:50.505Z"
   },
   {
    "duration": 2155,
    "start_time": "2021-08-26T14:30:29.240Z"
   },
   {
    "duration": 23,
    "start_time": "2021-08-26T14:32:34.528Z"
   },
   {
    "duration": 6,
    "start_time": "2021-08-26T20:32:13.783Z"
   },
   {
    "duration": 5,
    "start_time": "2021-08-26T20:32:16.626Z"
   },
   {
    "duration": 48,
    "start_time": "2021-08-26T20:32:31.309Z"
   },
   {
    "duration": 53,
    "start_time": "2021-08-26T20:33:19.355Z"
   },
   {
    "duration": 6,
    "start_time": "2021-08-26T20:43:23.176Z"
   },
   {
    "duration": 7,
    "start_time": "2021-08-26T20:44:25.370Z"
   },
   {
    "duration": 55,
    "start_time": "2021-08-26T20:44:31.428Z"
   },
   {
    "duration": 4,
    "start_time": "2021-08-26T20:44:41.192Z"
   },
   {
    "duration": 76,
    "start_time": "2021-08-26T20:44:41.200Z"
   },
   {
    "duration": 10,
    "start_time": "2021-08-26T20:44:41.280Z"
   },
   {
    "duration": 100,
    "start_time": "2021-08-26T20:44:41.293Z"
   },
   {
    "duration": 5,
    "start_time": "2021-08-26T20:44:41.395Z"
   },
   {
    "duration": 57,
    "start_time": "2021-08-26T20:44:41.403Z"
   },
   {
    "duration": 21,
    "start_time": "2021-08-26T20:44:41.463Z"
   },
   {
    "duration": 15,
    "start_time": "2021-08-26T20:44:41.489Z"
   },
   {
    "duration": 77,
    "start_time": "2021-08-26T20:44:41.507Z"
   },
   {
    "duration": 14,
    "start_time": "2021-08-26T20:44:41.587Z"
   },
   {
    "duration": 126,
    "start_time": "2021-08-26T20:44:41.604Z"
   },
   {
    "duration": 26,
    "start_time": "2021-08-26T20:44:41.733Z"
   },
   {
    "duration": 21,
    "start_time": "2021-08-26T20:44:41.761Z"
   },
   {
    "duration": 16,
    "start_time": "2021-08-26T20:44:41.785Z"
   },
   {
    "duration": 7,
    "start_time": "2021-08-26T20:44:41.803Z"
   },
   {
    "duration": 50,
    "start_time": "2021-08-26T20:44:41.813Z"
   },
   {
    "duration": 11,
    "start_time": "2021-08-26T20:44:41.866Z"
   },
   {
    "duration": 95,
    "start_time": "2021-08-26T20:44:41.880Z"
   },
   {
    "duration": -55,
    "start_time": "2021-08-26T20:44:42.033Z"
   },
   {
    "duration": -57,
    "start_time": "2021-08-26T20:44:42.037Z"
   },
   {
    "duration": 6,
    "start_time": "2021-08-26T20:45:12.877Z"
   },
   {
    "duration": 58,
    "start_time": "2021-08-26T20:45:13.949Z"
   },
   {
    "duration": 16,
    "start_time": "2021-08-26T20:52:11.965Z"
   },
   {
    "duration": 107,
    "start_time": "2021-08-26T20:58:28.299Z"
   },
   {
    "duration": 105,
    "start_time": "2021-08-26T20:58:28.303Z"
   },
   {
    "duration": 19,
    "start_time": "2021-08-26T20:58:29.671Z"
   },
   {
    "duration": 109,
    "start_time": "2021-08-26T21:00:36.483Z"
   },
   {
    "duration": 108,
    "start_time": "2021-08-26T21:00:36.486Z"
   },
   {
    "duration": 3,
    "start_time": "2021-08-26T21:00:42.738Z"
   },
   {
    "duration": 127,
    "start_time": "2021-08-26T21:00:42.743Z"
   },
   {
    "duration": 11,
    "start_time": "2021-08-26T21:00:42.874Z"
   },
   {
    "duration": 132,
    "start_time": "2021-08-26T21:00:42.888Z"
   },
   {
    "duration": 4,
    "start_time": "2021-08-26T21:00:43.022Z"
   },
   {
    "duration": 63,
    "start_time": "2021-08-26T21:00:43.029Z"
   },
   {
    "duration": 37,
    "start_time": "2021-08-26T21:00:43.096Z"
   },
   {
    "duration": 21,
    "start_time": "2021-08-26T21:00:43.136Z"
   },
   {
    "duration": 62,
    "start_time": "2021-08-26T21:00:43.160Z"
   },
   {
    "duration": 15,
    "start_time": "2021-08-26T21:00:43.225Z"
   },
   {
    "duration": 157,
    "start_time": "2021-08-26T21:00:43.243Z"
   },
   {
    "duration": 12,
    "start_time": "2021-08-26T21:00:43.403Z"
   },
   {
    "duration": 37,
    "start_time": "2021-08-26T21:00:43.417Z"
   },
   {
    "duration": 33,
    "start_time": "2021-08-26T21:00:43.457Z"
   },
   {
    "duration": 16,
    "start_time": "2021-08-26T21:00:43.493Z"
   },
   {
    "duration": 39,
    "start_time": "2021-08-26T21:00:43.512Z"
   },
   {
    "duration": 26,
    "start_time": "2021-08-26T21:00:43.553Z"
   },
   {
    "duration": 28,
    "start_time": "2021-08-26T21:00:43.582Z"
   },
   {
    "duration": 6553,
    "start_time": "2021-08-26T21:00:43.615Z"
   },
   {
    "duration": 99,
    "start_time": "2021-08-26T21:00:50.073Z"
   },
   {
    "duration": 8,
    "start_time": "2021-08-26T21:01:03.175Z"
   },
   {
    "duration": 14,
    "start_time": "2021-08-26T21:01:13.383Z"
   },
   {
    "duration": 54,
    "start_time": "2021-08-26T21:01:26.430Z"
   },
   {
    "duration": 6,
    "start_time": "2021-08-26T21:02:53.949Z"
   },
   {
    "duration": 51,
    "start_time": "2021-08-26T21:02:58.752Z"
   },
   {
    "duration": 6,
    "start_time": "2021-08-26T21:03:14.796Z"
   },
   {
    "duration": 53,
    "start_time": "2021-08-26T21:03:20.570Z"
   },
   {
    "duration": 276,
    "start_time": "2021-08-26T21:03:31.555Z"
   },
   {
    "duration": 6,
    "start_time": "2021-08-26T21:05:37.398Z"
   },
   {
    "duration": 51,
    "start_time": "2021-08-26T21:05:39.290Z"
   },
   {
    "duration": 4,
    "start_time": "2021-08-26T21:05:59.128Z"
   },
   {
    "duration": 84,
    "start_time": "2021-08-26T21:05:59.135Z"
   },
   {
    "duration": 9,
    "start_time": "2021-08-26T21:05:59.222Z"
   },
   {
    "duration": 105,
    "start_time": "2021-08-26T21:05:59.233Z"
   },
   {
    "duration": 17,
    "start_time": "2021-08-26T21:05:59.341Z"
   },
   {
    "duration": 43,
    "start_time": "2021-08-26T21:05:59.361Z"
   },
   {
    "duration": 15,
    "start_time": "2021-08-26T21:05:59.407Z"
   },
   {
    "duration": 44,
    "start_time": "2021-08-26T21:05:59.427Z"
   },
   {
    "duration": 46,
    "start_time": "2021-08-26T21:05:59.474Z"
   },
   {
    "duration": 33,
    "start_time": "2021-08-26T21:05:59.523Z"
   },
   {
    "duration": 144,
    "start_time": "2021-08-26T21:05:59.560Z"
   },
   {
    "duration": 10,
    "start_time": "2021-08-26T21:05:59.707Z"
   },
   {
    "duration": 12,
    "start_time": "2021-08-26T21:05:59.720Z"
   },
   {
    "duration": 21,
    "start_time": "2021-08-26T21:05:59.760Z"
   },
   {
    "duration": 7,
    "start_time": "2021-08-26T21:05:59.784Z"
   },
   {
    "duration": 14,
    "start_time": "2021-08-26T21:05:59.794Z"
   },
   {
    "duration": 52,
    "start_time": "2021-08-26T21:05:59.810Z"
   },
   {
    "duration": 12,
    "start_time": "2021-08-26T21:05:59.866Z"
   },
   {
    "duration": 7,
    "start_time": "2021-08-26T21:05:59.880Z"
   },
   {
    "duration": 102,
    "start_time": "2021-08-26T21:05:59.890Z"
   },
   {
    "duration": 274,
    "start_time": "2021-08-26T21:09:57.455Z"
   },
   {
    "duration": 73,
    "start_time": "2021-08-26T21:09:59.989Z"
   },
   {
    "duration": 6,
    "start_time": "2021-08-26T21:10:24.743Z"
   },
   {
    "duration": 77,
    "start_time": "2021-08-26T21:10:26.441Z"
   },
   {
    "duration": 6,
    "start_time": "2021-08-26T21:11:28.595Z"
   },
   {
    "duration": 55,
    "start_time": "2021-08-26T21:11:30.141Z"
   },
   {
    "duration": 5,
    "start_time": "2021-08-26T21:18:07.239Z"
   },
   {
    "duration": 59,
    "start_time": "2021-08-26T21:18:09.183Z"
   },
   {
    "duration": 1992,
    "start_time": "2021-08-26T21:20:27.271Z"
   },
   {
    "duration": 6,
    "start_time": "2021-08-26T21:23:01.398Z"
   },
   {
    "duration": 72,
    "start_time": "2021-08-26T21:23:03.651Z"
   },
   {
    "duration": 9,
    "start_time": "2021-08-26T21:24:26.914Z"
   },
   {
    "duration": 55,
    "start_time": "2021-08-26T21:24:28.968Z"
   },
   {
    "duration": 90,
    "start_time": "2021-08-26T21:27:10.870Z"
   },
   {
    "duration": 6,
    "start_time": "2021-08-26T21:28:10.343Z"
   },
   {
    "duration": 53,
    "start_time": "2021-08-26T21:28:11.857Z"
   },
   {
    "duration": 15,
    "start_time": "2021-08-26T21:28:30.238Z"
   },
   {
    "duration": 56,
    "start_time": "2021-08-26T21:28:31.605Z"
   },
   {
    "duration": 9,
    "start_time": "2021-08-26T21:29:15.052Z"
   },
   {
    "duration": 4,
    "start_time": "2021-08-26T21:29:28.070Z"
   },
   {
    "duration": 90,
    "start_time": "2021-08-26T21:29:28.076Z"
   },
   {
    "duration": 9,
    "start_time": "2021-08-26T21:29:28.169Z"
   },
   {
    "duration": 96,
    "start_time": "2021-08-26T21:29:28.180Z"
   },
   {
    "duration": 3,
    "start_time": "2021-08-26T21:29:28.279Z"
   },
   {
    "duration": 56,
    "start_time": "2021-08-26T21:29:28.284Z"
   },
   {
    "duration": 29,
    "start_time": "2021-08-26T21:29:28.344Z"
   },
   {
    "duration": 14,
    "start_time": "2021-08-26T21:29:28.376Z"
   },
   {
    "duration": 39,
    "start_time": "2021-08-26T21:29:28.393Z"
   },
   {
    "duration": 30,
    "start_time": "2021-08-26T21:29:28.434Z"
   },
   {
    "duration": 115,
    "start_time": "2021-08-26T21:29:28.466Z"
   },
   {
    "duration": 9,
    "start_time": "2021-08-26T21:29:28.583Z"
   },
   {
    "duration": 13,
    "start_time": "2021-08-26T21:29:28.594Z"
   },
   {
    "duration": 46,
    "start_time": "2021-08-26T21:29:28.609Z"
   },
   {
    "duration": 10,
    "start_time": "2021-08-26T21:29:28.657Z"
   },
   {
    "duration": 17,
    "start_time": "2021-08-26T21:29:28.670Z"
   },
   {
    "duration": 12,
    "start_time": "2021-08-26T21:29:28.690Z"
   },
   {
    "duration": 57,
    "start_time": "2021-08-26T21:29:28.704Z"
   },
   {
    "duration": 19,
    "start_time": "2021-08-26T21:29:28.766Z"
   },
   {
    "duration": 90,
    "start_time": "2021-08-26T21:29:28.788Z"
   },
   {
    "duration": 17,
    "start_time": "2021-08-26T21:30:26.378Z"
   },
   {
    "duration": 17,
    "start_time": "2021-08-26T21:31:26.810Z"
   },
   {
    "duration": 1034,
    "start_time": "2021-08-26T21:32:48.135Z"
   },
   {
    "duration": 1106,
    "start_time": "2021-08-26T21:33:27.579Z"
   },
   {
    "duration": 997,
    "start_time": "2021-08-26T21:33:39.424Z"
   },
   {
    "duration": 1010,
    "start_time": "2021-08-26T21:33:58.453Z"
   },
   {
    "duration": 3,
    "start_time": "2021-08-26T21:34:05.043Z"
   },
   {
    "duration": 90,
    "start_time": "2021-08-26T21:34:05.049Z"
   },
   {
    "duration": 14,
    "start_time": "2021-08-26T21:34:05.142Z"
   },
   {
    "duration": 91,
    "start_time": "2021-08-26T21:34:05.158Z"
   },
   {
    "duration": 5,
    "start_time": "2021-08-26T21:34:05.252Z"
   },
   {
    "duration": 46,
    "start_time": "2021-08-26T21:34:05.259Z"
   },
   {
    "duration": 33,
    "start_time": "2021-08-26T21:34:05.311Z"
   },
   {
    "duration": 19,
    "start_time": "2021-08-26T21:34:05.348Z"
   },
   {
    "duration": 39,
    "start_time": "2021-08-26T21:34:05.370Z"
   },
   {
    "duration": 48,
    "start_time": "2021-08-26T21:34:05.412Z"
   },
   {
    "duration": 126,
    "start_time": "2021-08-26T21:34:05.464Z"
   },
   {
    "duration": 8,
    "start_time": "2021-08-26T21:34:05.593Z"
   },
   {
    "duration": 18,
    "start_time": "2021-08-26T21:34:05.604Z"
   },
   {
    "duration": 32,
    "start_time": "2021-08-26T21:34:05.624Z"
   },
   {
    "duration": 7,
    "start_time": "2021-08-26T21:34:05.659Z"
   },
   {
    "duration": 21,
    "start_time": "2021-08-26T21:34:05.668Z"
   },
   {
    "duration": 11,
    "start_time": "2021-08-26T21:34:05.691Z"
   },
   {
    "duration": 51,
    "start_time": "2021-08-26T21:34:05.704Z"
   },
   {
    "duration": 19,
    "start_time": "2021-08-26T21:34:05.759Z"
   },
   {
    "duration": 81,
    "start_time": "2021-08-26T21:34:05.781Z"
   },
   {
    "duration": 1037,
    "start_time": "2021-08-26T21:38:36.927Z"
   },
   {
    "duration": 53,
    "start_time": "2021-08-26T21:38:38.433Z"
   },
   {
    "duration": 999,
    "start_time": "2021-08-26T21:39:32.644Z"
   },
   {
    "duration": 57,
    "start_time": "2021-08-26T21:39:34.085Z"
   },
   {
    "duration": 1466,
    "start_time": "2021-08-26T21:39:51.363Z"
   },
   {
    "duration": 56,
    "start_time": "2021-08-26T21:39:53.677Z"
   },
   {
    "duration": 4,
    "start_time": "2021-08-26T21:40:02.993Z"
   },
   {
    "duration": 120,
    "start_time": "2021-08-26T21:40:03.000Z"
   },
   {
    "duration": 9,
    "start_time": "2021-08-26T21:40:03.122Z"
   },
   {
    "duration": 94,
    "start_time": "2021-08-26T21:40:03.134Z"
   },
   {
    "duration": 4,
    "start_time": "2021-08-26T21:40:03.230Z"
   },
   {
    "duration": 55,
    "start_time": "2021-08-26T21:40:03.236Z"
   },
   {
    "duration": 39,
    "start_time": "2021-08-26T21:40:03.293Z"
   },
   {
    "duration": 19,
    "start_time": "2021-08-26T21:40:03.336Z"
   },
   {
    "duration": 55,
    "start_time": "2021-08-26T21:40:03.358Z"
   },
   {
    "duration": 13,
    "start_time": "2021-08-26T21:40:03.415Z"
   },
   {
    "duration": 128,
    "start_time": "2021-08-26T21:40:03.431Z"
   },
   {
    "duration": 10,
    "start_time": "2021-08-26T21:40:03.561Z"
   },
   {
    "duration": 42,
    "start_time": "2021-08-26T21:40:03.573Z"
   },
   {
    "duration": 35,
    "start_time": "2021-08-26T21:40:03.617Z"
   },
   {
    "duration": 26,
    "start_time": "2021-08-26T21:40:03.655Z"
   },
   {
    "duration": 33,
    "start_time": "2021-08-26T21:40:03.683Z"
   },
   {
    "duration": 18,
    "start_time": "2021-08-26T21:40:03.720Z"
   },
   {
    "duration": 49,
    "start_time": "2021-08-26T21:40:03.741Z"
   },
   {
    "duration": 31,
    "start_time": "2021-08-26T21:40:03.792Z"
   },
   {
    "duration": 87,
    "start_time": "2021-08-26T21:40:03.825Z"
   },
   {
    "duration": 1063,
    "start_time": "2021-08-26T21:40:23.485Z"
   },
   {
    "duration": 1509,
    "start_time": "2021-08-26T21:41:10.689Z"
   },
   {
    "duration": 5,
    "start_time": "2021-08-26T21:41:26.007Z"
   },
   {
    "duration": 82,
    "start_time": "2021-08-26T21:41:26.015Z"
   },
   {
    "duration": 9,
    "start_time": "2021-08-26T21:41:26.101Z"
   },
   {
    "duration": 98,
    "start_time": "2021-08-26T21:41:26.112Z"
   },
   {
    "duration": 3,
    "start_time": "2021-08-26T21:41:26.212Z"
   },
   {
    "duration": 48,
    "start_time": "2021-08-26T21:41:26.218Z"
   },
   {
    "duration": 23,
    "start_time": "2021-08-26T21:41:26.269Z"
   },
   {
    "duration": 9,
    "start_time": "2021-08-26T21:41:26.296Z"
   },
   {
    "duration": 70,
    "start_time": "2021-08-26T21:41:26.308Z"
   },
   {
    "duration": 12,
    "start_time": "2021-08-26T21:41:26.381Z"
   },
   {
    "duration": 143,
    "start_time": "2021-08-26T21:41:26.396Z"
   },
   {
    "duration": 17,
    "start_time": "2021-08-26T21:41:26.542Z"
   },
   {
    "duration": 20,
    "start_time": "2021-08-26T21:41:26.562Z"
   },
   {
    "duration": 13,
    "start_time": "2021-08-26T21:41:26.584Z"
   },
   {
    "duration": 7,
    "start_time": "2021-08-26T21:41:26.600Z"
   },
   {
    "duration": 62,
    "start_time": "2021-08-26T21:41:26.609Z"
   },
   {
    "duration": 11,
    "start_time": "2021-08-26T21:41:26.673Z"
   },
   {
    "duration": 27,
    "start_time": "2021-08-26T21:41:26.687Z"
   },
   {
    "duration": 41,
    "start_time": "2021-08-26T21:41:26.716Z"
   },
   {
    "duration": 58,
    "start_time": "2021-08-26T21:41:26.760Z"
   },
   {
    "duration": 1055,
    "start_time": "2021-08-26T21:42:14.707Z"
   },
   {
    "duration": 58,
    "start_time": "2021-08-26T21:42:16.927Z"
   },
   {
    "duration": 4,
    "start_time": "2021-08-26T21:42:39.896Z"
   },
   {
    "duration": 97,
    "start_time": "2021-08-26T21:42:39.903Z"
   },
   {
    "duration": 10,
    "start_time": "2021-08-26T21:42:40.004Z"
   },
   {
    "duration": 103,
    "start_time": "2021-08-26T21:42:40.017Z"
   },
   {
    "duration": 4,
    "start_time": "2021-08-26T21:42:40.122Z"
   },
   {
    "duration": 48,
    "start_time": "2021-08-26T21:42:40.129Z"
   },
   {
    "duration": 30,
    "start_time": "2021-08-26T21:42:40.182Z"
   },
   {
    "duration": 18,
    "start_time": "2021-08-26T21:42:40.215Z"
   },
   {
    "duration": 50,
    "start_time": "2021-08-26T21:42:40.235Z"
   },
   {
    "duration": 12,
    "start_time": "2021-08-26T21:42:40.287Z"
   },
   {
    "duration": 124,
    "start_time": "2021-08-26T21:42:40.302Z"
   },
   {
    "duration": 26,
    "start_time": "2021-08-26T21:42:40.429Z"
   },
   {
    "duration": 24,
    "start_time": "2021-08-26T21:42:40.457Z"
   },
   {
    "duration": 27,
    "start_time": "2021-08-26T21:42:40.484Z"
   },
   {
    "duration": 20,
    "start_time": "2021-08-26T21:42:40.513Z"
   },
   {
    "duration": 36,
    "start_time": "2021-08-26T21:42:40.536Z"
   },
   {
    "duration": 14,
    "start_time": "2021-08-26T21:42:40.575Z"
   },
   {
    "duration": 24,
    "start_time": "2021-08-26T21:42:40.592Z"
   },
   {
    "duration": 16,
    "start_time": "2021-08-26T21:42:40.620Z"
   },
   {
    "duration": 65,
    "start_time": "2021-08-26T21:42:40.639Z"
   },
   {
    "duration": 4,
    "start_time": "2021-08-26T21:44:50.378Z"
   },
   {
    "duration": 82,
    "start_time": "2021-08-26T21:44:50.384Z"
   },
   {
    "duration": 8,
    "start_time": "2021-08-26T21:44:50.469Z"
   },
   {
    "duration": 90,
    "start_time": "2021-08-26T21:44:50.480Z"
   },
   {
    "duration": 3,
    "start_time": "2021-08-26T21:44:50.573Z"
   },
   {
    "duration": 33,
    "start_time": "2021-08-26T21:44:50.579Z"
   },
   {
    "duration": 45,
    "start_time": "2021-08-26T21:44:50.614Z"
   },
   {
    "duration": 12,
    "start_time": "2021-08-26T21:44:50.663Z"
   },
   {
    "duration": 41,
    "start_time": "2021-08-26T21:44:50.678Z"
   },
   {
    "duration": 41,
    "start_time": "2021-08-26T21:44:50.721Z"
   },
   {
    "duration": 126,
    "start_time": "2021-08-26T21:44:50.764Z"
   },
   {
    "duration": 10,
    "start_time": "2021-08-26T21:44:50.892Z"
   },
   {
    "duration": 26,
    "start_time": "2021-08-26T21:44:50.905Z"
   },
   {
    "duration": 30,
    "start_time": "2021-08-26T21:44:50.934Z"
   },
   {
    "duration": 8,
    "start_time": "2021-08-26T21:44:50.967Z"
   },
   {
    "duration": 19,
    "start_time": "2021-08-26T21:44:50.977Z"
   },
   {
    "duration": 14,
    "start_time": "2021-08-26T21:44:50.998Z"
   },
   {
    "duration": 49,
    "start_time": "2021-08-26T21:44:51.014Z"
   },
   {
    "duration": 30,
    "start_time": "2021-08-26T21:44:51.065Z"
   },
   {
    "duration": 92,
    "start_time": "2021-08-26T21:44:51.098Z"
   },
   {
    "duration": 5,
    "start_time": "2021-08-26T21:45:27.637Z"
   },
   {
    "duration": 107,
    "start_time": "2021-08-26T21:47:20.309Z"
   },
   {
    "duration": 15,
    "start_time": "2021-08-26T21:47:26.210Z"
   },
   {
    "duration": 22,
    "start_time": "2021-08-26T21:48:08.981Z"
   },
   {
    "duration": 5,
    "start_time": "2021-08-26T21:48:17.627Z"
   },
   {
    "duration": 79,
    "start_time": "2021-08-26T21:48:17.635Z"
   },
   {
    "duration": 8,
    "start_time": "2021-08-26T21:48:17.717Z"
   },
   {
    "duration": 98,
    "start_time": "2021-08-26T21:48:17.728Z"
   },
   {
    "duration": 4,
    "start_time": "2021-08-26T21:48:17.828Z"
   },
   {
    "duration": 50,
    "start_time": "2021-08-26T21:48:17.834Z"
   },
   {
    "duration": 21,
    "start_time": "2021-08-26T21:48:17.886Z"
   },
   {
    "duration": 13,
    "start_time": "2021-08-26T21:48:17.911Z"
   },
   {
    "duration": 63,
    "start_time": "2021-08-26T21:48:17.927Z"
   },
   {
    "duration": 12,
    "start_time": "2021-08-26T21:48:17.992Z"
   },
   {
    "duration": 135,
    "start_time": "2021-08-26T21:48:18.006Z"
   },
   {
    "duration": 9,
    "start_time": "2021-08-26T21:48:18.154Z"
   },
   {
    "duration": 15,
    "start_time": "2021-08-26T21:48:18.165Z"
   },
   {
    "duration": 12,
    "start_time": "2021-08-26T21:48:18.183Z"
   },
   {
    "duration": 7,
    "start_time": "2021-08-26T21:48:18.197Z"
   },
   {
    "duration": 60,
    "start_time": "2021-08-26T21:48:18.207Z"
   },
   {
    "duration": 10,
    "start_time": "2021-08-26T21:48:18.270Z"
   },
   {
    "duration": 18,
    "start_time": "2021-08-26T21:48:18.282Z"
   },
   {
    "duration": 59,
    "start_time": "2021-08-26T21:48:18.303Z"
   },
   {
    "duration": 61,
    "start_time": "2021-08-26T21:48:18.364Z"
   },
   {
    "duration": 9,
    "start_time": "2021-08-26T21:49:29.066Z"
   },
   {
    "duration": 4,
    "start_time": "2021-08-26T21:49:42.104Z"
   },
   {
    "duration": 88,
    "start_time": "2021-08-26T21:49:42.111Z"
   },
   {
    "duration": 10,
    "start_time": "2021-08-26T21:49:42.202Z"
   },
   {
    "duration": 139,
    "start_time": "2021-08-26T21:49:42.216Z"
   },
   {
    "duration": 5,
    "start_time": "2021-08-26T21:49:42.358Z"
   },
   {
    "duration": 70,
    "start_time": "2021-08-26T21:49:42.366Z"
   },
   {
    "duration": 27,
    "start_time": "2021-08-26T21:49:42.439Z"
   },
   {
    "duration": 16,
    "start_time": "2021-08-26T21:49:42.471Z"
   },
   {
    "duration": 78,
    "start_time": "2021-08-26T21:49:42.491Z"
   },
   {
    "duration": 17,
    "start_time": "2021-08-26T21:49:42.573Z"
   },
   {
    "duration": 136,
    "start_time": "2021-08-26T21:49:42.593Z"
   },
   {
    "duration": 9,
    "start_time": "2021-08-26T21:49:42.732Z"
   },
   {
    "duration": 11,
    "start_time": "2021-08-26T21:49:42.755Z"
   },
   {
    "duration": 16,
    "start_time": "2021-08-26T21:49:42.768Z"
   },
   {
    "duration": 7,
    "start_time": "2021-08-26T21:49:42.787Z"
   },
   {
    "duration": 59,
    "start_time": "2021-08-26T21:49:42.797Z"
   },
   {
    "duration": 11,
    "start_time": "2021-08-26T21:49:42.858Z"
   },
   {
    "duration": 28,
    "start_time": "2021-08-26T21:49:42.872Z"
   },
   {
    "duration": 8,
    "start_time": "2021-08-26T21:49:42.903Z"
   },
   {
    "duration": 41,
    "start_time": "2021-08-26T21:49:42.913Z"
   },
   {
    "duration": 61,
    "start_time": "2021-08-26T21:49:42.957Z"
   },
   {
    "duration": 12,
    "start_time": "2021-08-26T21:55:03.537Z"
   },
   {
    "duration": 56,
    "start_time": "2021-08-26T21:55:06.449Z"
   },
   {
    "duration": 15,
    "start_time": "2021-08-26T21:55:43.772Z"
   },
   {
    "duration": 65,
    "start_time": "2021-08-26T21:55:44.958Z"
   },
   {
    "duration": 4,
    "start_time": "2021-08-26T21:56:15.685Z"
   },
   {
    "duration": 92,
    "start_time": "2021-08-26T21:56:15.691Z"
   },
   {
    "duration": 10,
    "start_time": "2021-08-26T21:56:15.787Z"
   },
   {
    "duration": 103,
    "start_time": "2021-08-26T21:56:15.801Z"
   },
   {
    "duration": 5,
    "start_time": "2021-08-26T21:56:15.906Z"
   },
   {
    "duration": 55,
    "start_time": "2021-08-26T21:56:15.914Z"
   },
   {
    "duration": 24,
    "start_time": "2021-08-26T21:56:15.973Z"
   },
   {
    "duration": 15,
    "start_time": "2021-08-26T21:56:16.001Z"
   },
   {
    "duration": 70,
    "start_time": "2021-08-26T21:56:16.019Z"
   },
   {
    "duration": 13,
    "start_time": "2021-08-26T21:56:16.092Z"
   },
   {
    "duration": 138,
    "start_time": "2021-08-26T21:56:16.107Z"
   },
   {
    "duration": 18,
    "start_time": "2021-08-26T21:56:16.257Z"
   },
   {
    "duration": 16,
    "start_time": "2021-08-26T21:56:16.278Z"
   },
   {
    "duration": 18,
    "start_time": "2021-08-26T21:56:16.297Z"
   },
   {
    "duration": 43,
    "start_time": "2021-08-26T21:56:16.317Z"
   },
   {
    "duration": 18,
    "start_time": "2021-08-26T21:56:16.364Z"
   },
   {
    "duration": 12,
    "start_time": "2021-08-26T21:56:16.384Z"
   },
   {
    "duration": 18,
    "start_time": "2021-08-26T21:56:16.398Z"
   },
   {
    "duration": 46,
    "start_time": "2021-08-26T21:56:16.419Z"
   },
   {
    "duration": 20,
    "start_time": "2021-08-26T21:56:16.478Z"
   },
   {
    "duration": 91,
    "start_time": "2021-08-26T21:56:16.500Z"
   },
   {
    "duration": 5,
    "start_time": "2021-08-26T21:56:48.274Z"
   },
   {
    "duration": 91,
    "start_time": "2021-08-26T21:56:48.281Z"
   },
   {
    "duration": 8,
    "start_time": "2021-08-26T21:56:48.375Z"
   },
   {
    "duration": 88,
    "start_time": "2021-08-26T21:56:48.386Z"
   },
   {
    "duration": 3,
    "start_time": "2021-08-26T21:56:48.477Z"
   },
   {
    "duration": 35,
    "start_time": "2021-08-26T21:56:48.482Z"
   },
   {
    "duration": 38,
    "start_time": "2021-08-26T21:56:48.520Z"
   },
   {
    "duration": 17,
    "start_time": "2021-08-26T21:56:48.560Z"
   },
   {
    "duration": 81,
    "start_time": "2021-08-26T21:56:48.582Z"
   },
   {
    "duration": 20,
    "start_time": "2021-08-26T21:56:48.666Z"
   },
   {
    "duration": 186,
    "start_time": "2021-08-26T21:56:48.690Z"
   },
   {
    "duration": 13,
    "start_time": "2021-08-26T21:56:48.879Z"
   },
   {
    "duration": 21,
    "start_time": "2021-08-26T21:56:48.895Z"
   },
   {
    "duration": 45,
    "start_time": "2021-08-26T21:56:48.919Z"
   },
   {
    "duration": 11,
    "start_time": "2021-08-26T21:56:48.970Z"
   },
   {
    "duration": 23,
    "start_time": "2021-08-26T21:56:48.984Z"
   },
   {
    "duration": 49,
    "start_time": "2021-08-26T21:56:49.010Z"
   },
   {
    "duration": 24,
    "start_time": "2021-08-26T21:56:49.063Z"
   },
   {
    "duration": 10,
    "start_time": "2021-08-26T21:56:49.090Z"
   },
   {
    "duration": 16,
    "start_time": "2021-08-26T21:56:49.103Z"
   },
   {
    "duration": 94,
    "start_time": "2021-08-26T21:56:49.121Z"
   },
   {
    "duration": 11,
    "start_time": "2021-08-26T21:57:23.388Z"
   },
   {
    "duration": 69,
    "start_time": "2021-08-26T21:57:29.015Z"
   },
   {
    "duration": 261,
    "start_time": "2021-08-26T21:58:01.110Z"
   },
   {
    "duration": 59,
    "start_time": "2021-08-26T21:58:03.174Z"
   },
   {
    "duration": 9,
    "start_time": "2021-08-26T21:58:18.244Z"
   },
   {
    "duration": 62,
    "start_time": "2021-08-26T21:58:19.487Z"
   },
   {
    "duration": 5,
    "start_time": "2021-08-26T21:58:38.136Z"
   },
   {
    "duration": 91,
    "start_time": "2021-08-26T21:58:38.144Z"
   },
   {
    "duration": 19,
    "start_time": "2021-08-26T21:58:38.239Z"
   },
   {
    "duration": 114,
    "start_time": "2021-08-26T21:58:38.262Z"
   },
   {
    "duration": 5,
    "start_time": "2021-08-26T21:58:38.379Z"
   },
   {
    "duration": 77,
    "start_time": "2021-08-26T21:58:38.387Z"
   },
   {
    "duration": 21,
    "start_time": "2021-08-26T21:58:38.467Z"
   },
   {
    "duration": 15,
    "start_time": "2021-08-26T21:58:38.492Z"
   },
   {
    "duration": 92,
    "start_time": "2021-08-26T21:58:38.511Z"
   },
   {
    "duration": 14,
    "start_time": "2021-08-26T21:58:38.605Z"
   },
   {
    "duration": 153,
    "start_time": "2021-08-26T21:58:38.621Z"
   },
   {
    "duration": 15,
    "start_time": "2021-08-26T21:58:38.777Z"
   },
   {
    "duration": 30,
    "start_time": "2021-08-26T21:58:38.795Z"
   },
   {
    "duration": 40,
    "start_time": "2021-08-26T21:58:38.828Z"
   },
   {
    "duration": 12,
    "start_time": "2021-08-26T21:58:38.871Z"
   },
   {
    "duration": 14,
    "start_time": "2021-08-26T21:58:38.886Z"
   },
   {
    "duration": 46,
    "start_time": "2021-08-26T21:58:38.909Z"
   },
   {
    "duration": 28,
    "start_time": "2021-08-26T21:58:38.958Z"
   },
   {
    "duration": 10,
    "start_time": "2021-08-26T21:58:38.989Z"
   },
   {
    "duration": 21,
    "start_time": "2021-08-26T21:58:39.001Z"
   },
   {
    "duration": 104,
    "start_time": "2021-08-26T21:58:39.025Z"
   },
   {
    "duration": 1093,
    "start_time": "2021-08-26T21:59:53.636Z"
   },
   {
    "duration": 4,
    "start_time": "2021-08-26T22:00:12.208Z"
   },
   {
    "duration": 85,
    "start_time": "2021-08-26T22:00:12.215Z"
   },
   {
    "duration": 12,
    "start_time": "2021-08-26T22:00:12.303Z"
   },
   {
    "duration": 99,
    "start_time": "2021-08-26T22:00:12.317Z"
   },
   {
    "duration": 3,
    "start_time": "2021-08-26T22:00:12.418Z"
   },
   {
    "duration": 52,
    "start_time": "2021-08-26T22:00:12.424Z"
   },
   {
    "duration": 28,
    "start_time": "2021-08-26T22:00:12.478Z"
   },
   {
    "duration": 13,
    "start_time": "2021-08-26T22:00:12.508Z"
   },
   {
    "duration": 61,
    "start_time": "2021-08-26T22:00:12.526Z"
   },
   {
    "duration": 13,
    "start_time": "2021-08-26T22:00:12.590Z"
   },
   {
    "duration": 126,
    "start_time": "2021-08-26T22:00:12.605Z"
   },
   {
    "duration": 9,
    "start_time": "2021-08-26T22:00:12.733Z"
   },
   {
    "duration": 20,
    "start_time": "2021-08-26T22:00:12.744Z"
   },
   {
    "duration": 19,
    "start_time": "2021-08-26T22:00:12.766Z"
   },
   {
    "duration": 9,
    "start_time": "2021-08-26T22:00:12.788Z"
   },
   {
    "duration": 19,
    "start_time": "2021-08-26T22:00:12.799Z"
   },
   {
    "duration": 11,
    "start_time": "2021-08-26T22:00:12.820Z"
   },
   {
    "duration": 25,
    "start_time": "2021-08-26T22:00:12.833Z"
   },
   {
    "duration": 10,
    "start_time": "2021-08-26T22:00:12.861Z"
   },
   {
    "duration": 17,
    "start_time": "2021-08-26T22:00:12.873Z"
   },
   {
    "duration": 71,
    "start_time": "2021-08-26T22:00:12.893Z"
   },
   {
    "duration": 1037,
    "start_time": "2021-08-26T22:01:16.494Z"
   },
   {
    "duration": 59,
    "start_time": "2021-08-26T22:01:19.750Z"
   },
   {
    "duration": 1040,
    "start_time": "2021-08-26T22:03:49.063Z"
   },
   {
    "duration": 3,
    "start_time": "2021-08-26T22:04:02.025Z"
   },
   {
    "duration": 94,
    "start_time": "2021-08-26T22:04:02.031Z"
   },
   {
    "duration": 9,
    "start_time": "2021-08-26T22:04:02.128Z"
   },
   {
    "duration": 91,
    "start_time": "2021-08-26T22:04:02.140Z"
   },
   {
    "duration": 4,
    "start_time": "2021-08-26T22:04:02.234Z"
   },
   {
    "duration": 34,
    "start_time": "2021-08-26T22:04:02.255Z"
   },
   {
    "duration": 22,
    "start_time": "2021-08-26T22:04:02.292Z"
   },
   {
    "duration": 41,
    "start_time": "2021-08-26T22:04:02.320Z"
   },
   {
    "duration": 43,
    "start_time": "2021-08-26T22:04:02.365Z"
   },
   {
    "duration": 47,
    "start_time": "2021-08-26T22:04:02.411Z"
   },
   {
    "duration": 121,
    "start_time": "2021-08-26T22:04:02.460Z"
   },
   {
    "duration": 14,
    "start_time": "2021-08-26T22:04:02.584Z"
   },
   {
    "duration": 32,
    "start_time": "2021-08-26T22:04:02.600Z"
   },
   {
    "duration": 28,
    "start_time": "2021-08-26T22:04:02.635Z"
   },
   {
    "duration": 25,
    "start_time": "2021-08-26T22:04:02.665Z"
   },
   {
    "duration": 29,
    "start_time": "2021-08-26T22:04:02.692Z"
   },
   {
    "duration": 12,
    "start_time": "2021-08-26T22:04:02.723Z"
   },
   {
    "duration": 31,
    "start_time": "2021-08-26T22:04:02.738Z"
   },
   {
    "duration": 17,
    "start_time": "2021-08-26T22:04:02.772Z"
   },
   {
    "duration": 21,
    "start_time": "2021-08-26T22:04:02.792Z"
   },
   {
    "duration": 64,
    "start_time": "2021-08-26T22:04:02.815Z"
   },
   {
    "duration": 12,
    "start_time": "2021-08-26T22:05:00.007Z"
   },
   {
    "duration": 57,
    "start_time": "2021-08-26T22:05:02.609Z"
   },
   {
    "duration": 61,
    "start_time": "2021-08-26T22:05:25.563Z"
   },
   {
    "duration": 55,
    "start_time": "2021-08-26T22:07:53.359Z"
   },
   {
    "duration": 3,
    "start_time": "2021-08-26T22:08:02.555Z"
   },
   {
    "duration": 95,
    "start_time": "2021-08-26T22:08:02.561Z"
   },
   {
    "duration": 8,
    "start_time": "2021-08-26T22:08:02.660Z"
   },
   {
    "duration": 100,
    "start_time": "2021-08-26T22:08:02.671Z"
   },
   {
    "duration": 4,
    "start_time": "2021-08-26T22:08:02.773Z"
   },
   {
    "duration": 46,
    "start_time": "2021-08-26T22:08:02.780Z"
   },
   {
    "duration": 31,
    "start_time": "2021-08-26T22:08:02.828Z"
   },
   {
    "duration": 16,
    "start_time": "2021-08-26T22:08:02.863Z"
   },
   {
    "duration": 42,
    "start_time": "2021-08-26T22:08:02.882Z"
   },
   {
    "duration": 33,
    "start_time": "2021-08-26T22:08:02.927Z"
   },
   {
    "duration": 119,
    "start_time": "2021-08-26T22:08:02.963Z"
   },
   {
    "duration": 9,
    "start_time": "2021-08-26T22:08:03.085Z"
   },
   {
    "duration": 34,
    "start_time": "2021-08-26T22:08:03.096Z"
   },
   {
    "duration": 26,
    "start_time": "2021-08-26T22:08:03.132Z"
   },
   {
    "duration": 17,
    "start_time": "2021-08-26T22:08:03.161Z"
   },
   {
    "duration": 17,
    "start_time": "2021-08-26T22:08:03.180Z"
   },
   {
    "duration": 13,
    "start_time": "2021-08-26T22:08:03.200Z"
   },
   {
    "duration": 48,
    "start_time": "2021-08-26T22:08:03.215Z"
   },
   {
    "duration": 8,
    "start_time": "2021-08-26T22:08:03.265Z"
   },
   {
    "duration": 28,
    "start_time": "2021-08-26T22:08:03.276Z"
   },
   {
    "duration": 73,
    "start_time": "2021-08-26T22:08:03.307Z"
   },
   {
    "duration": 64,
    "start_time": "2021-08-26T22:08:27.244Z"
   },
   {
    "duration": 4,
    "start_time": "2021-08-26T22:56:10.314Z"
   },
   {
    "duration": 84,
    "start_time": "2021-08-26T22:56:10.322Z"
   },
   {
    "duration": 10,
    "start_time": "2021-08-26T22:56:10.409Z"
   },
   {
    "duration": 101,
    "start_time": "2021-08-26T22:56:10.421Z"
   },
   {
    "duration": 4,
    "start_time": "2021-08-26T22:56:10.524Z"
   },
   {
    "duration": 43,
    "start_time": "2021-08-26T22:56:10.530Z"
   },
   {
    "duration": 15,
    "start_time": "2021-08-26T22:56:10.575Z"
   },
   {
    "duration": 14,
    "start_time": "2021-08-26T22:56:10.593Z"
   },
   {
    "duration": 75,
    "start_time": "2021-08-26T22:56:10.610Z"
   },
   {
    "duration": 15,
    "start_time": "2021-08-26T22:56:10.688Z"
   },
   {
    "duration": 139,
    "start_time": "2021-08-26T22:56:10.706Z"
   },
   {
    "duration": 12,
    "start_time": "2021-08-26T22:56:10.854Z"
   },
   {
    "duration": 21,
    "start_time": "2021-08-26T22:56:10.869Z"
   },
   {
    "duration": 28,
    "start_time": "2021-08-26T22:56:10.893Z"
   },
   {
    "duration": 16,
    "start_time": "2021-08-26T22:56:10.923Z"
   },
   {
    "duration": 16,
    "start_time": "2021-08-26T22:56:10.954Z"
   },
   {
    "duration": 14,
    "start_time": "2021-08-26T22:56:10.973Z"
   },
   {
    "duration": 19,
    "start_time": "2021-08-26T22:56:10.990Z"
   },
   {
    "duration": 16,
    "start_time": "2021-08-26T22:56:11.011Z"
   },
   {
    "duration": 33,
    "start_time": "2021-08-26T22:56:11.030Z"
   },
   {
    "duration": 55,
    "start_time": "2021-08-26T22:56:11.065Z"
   },
   {
    "duration": 39,
    "start_time": "2021-08-26T22:56:46.537Z"
   },
   {
    "duration": 11,
    "start_time": "2021-08-26T22:57:24.175Z"
   },
   {
    "duration": 39,
    "start_time": "2021-08-26T22:57:25.975Z"
   },
   {
    "duration": 5,
    "start_time": "2021-08-26T23:01:13.256Z"
   },
   {
    "duration": 4,
    "start_time": "2021-08-26T23:01:21.130Z"
   },
   {
    "duration": 81,
    "start_time": "2021-08-26T23:01:21.137Z"
   },
   {
    "duration": 9,
    "start_time": "2021-08-26T23:01:21.221Z"
   },
   {
    "duration": 92,
    "start_time": "2021-08-26T23:01:21.234Z"
   },
   {
    "duration": 3,
    "start_time": "2021-08-26T23:01:21.329Z"
   },
   {
    "duration": 48,
    "start_time": "2021-08-26T23:01:21.334Z"
   },
   {
    "duration": 16,
    "start_time": "2021-08-26T23:01:21.385Z"
   },
   {
    "duration": 14,
    "start_time": "2021-08-26T23:01:21.404Z"
   },
   {
    "duration": 67,
    "start_time": "2021-08-26T23:01:21.421Z"
   },
   {
    "duration": 12,
    "start_time": "2021-08-26T23:01:21.491Z"
   },
   {
    "duration": 126,
    "start_time": "2021-08-26T23:01:21.505Z"
   },
   {
    "duration": 22,
    "start_time": "2021-08-26T23:01:21.634Z"
   },
   {
    "duration": 12,
    "start_time": "2021-08-26T23:01:21.659Z"
   },
   {
    "duration": 13,
    "start_time": "2021-08-26T23:01:21.674Z"
   },
   {
    "duration": 7,
    "start_time": "2021-08-26T23:01:21.690Z"
   },
   {
    "duration": 55,
    "start_time": "2021-08-26T23:01:21.700Z"
   },
   {
    "duration": 11,
    "start_time": "2021-08-26T23:01:21.758Z"
   },
   {
    "duration": 11,
    "start_time": "2021-08-26T23:01:21.772Z"
   },
   {
    "duration": 13,
    "start_time": "2021-08-26T23:01:21.786Z"
   },
   {
    "duration": 64,
    "start_time": "2021-08-26T23:01:21.802Z"
   },
   {
    "duration": 39,
    "start_time": "2021-08-26T23:02:38.877Z"
   },
   {
    "duration": 5,
    "start_time": "2021-08-26T23:03:15.146Z"
   },
   {
    "duration": 4,
    "start_time": "2021-08-27T07:10:09.925Z"
   },
   {
    "duration": 89,
    "start_time": "2021-08-27T07:10:09.932Z"
   },
   {
    "duration": 9,
    "start_time": "2021-08-27T07:10:10.024Z"
   },
   {
    "duration": 106,
    "start_time": "2021-08-27T07:10:10.035Z"
   },
   {
    "duration": 3,
    "start_time": "2021-08-27T07:10:10.144Z"
   },
   {
    "duration": 41,
    "start_time": "2021-08-27T07:10:10.150Z"
   },
   {
    "duration": 17,
    "start_time": "2021-08-27T07:10:10.194Z"
   },
   {
    "duration": 53,
    "start_time": "2021-08-27T07:10:10.214Z"
   },
   {
    "duration": 38,
    "start_time": "2021-08-27T07:10:10.272Z"
   },
   {
    "duration": 13,
    "start_time": "2021-08-27T07:10:10.313Z"
   },
   {
    "duration": 136,
    "start_time": "2021-08-27T07:10:10.330Z"
   },
   {
    "duration": 9,
    "start_time": "2021-08-27T07:10:10.469Z"
   },
   {
    "duration": 11,
    "start_time": "2021-08-27T07:10:10.483Z"
   },
   {
    "duration": 14,
    "start_time": "2021-08-27T07:10:10.496Z"
   },
   {
    "duration": 49,
    "start_time": "2021-08-27T07:10:10.513Z"
   },
   {
    "duration": 15,
    "start_time": "2021-08-27T07:10:10.568Z"
   },
   {
    "duration": 12,
    "start_time": "2021-08-27T07:10:10.585Z"
   },
   {
    "duration": 9,
    "start_time": "2021-08-27T07:10:10.599Z"
   },
   {
    "duration": 51,
    "start_time": "2021-08-27T07:10:10.610Z"
   },
   {
    "duration": 48,
    "start_time": "2021-08-27T07:10:10.664Z"
   },
   {
    "duration": 13,
    "start_time": "2021-08-27T07:10:27.110Z"
   },
   {
    "duration": 42,
    "start_time": "2021-08-27T07:10:37.497Z"
   },
   {
    "duration": 10,
    "start_time": "2021-08-27T07:12:30.167Z"
   },
   {
    "duration": 56,
    "start_time": "2021-08-27T07:12:31.529Z"
   },
   {
    "duration": 21,
    "start_time": "2021-08-27T21:20:20.173Z"
   },
   {
    "duration": 50,
    "start_time": "2021-08-27T21:20:34.468Z"
   },
   {
    "duration": 10,
    "start_time": "2021-08-27T21:21:00.592Z"
   },
   {
    "duration": 16,
    "start_time": "2021-08-27T21:21:03.005Z"
   },
   {
    "duration": 36,
    "start_time": "2021-08-27T21:21:04.282Z"
   },
   {
    "duration": 267,
    "start_time": "2021-08-27T21:21:26.121Z"
   },
   {
    "duration": 6,
    "start_time": "2021-08-27T21:22:18.320Z"
   },
   {
    "duration": 32,
    "start_time": "2021-08-27T21:22:21.486Z"
   },
   {
    "duration": 85,
    "start_time": "2021-08-27T21:33:32.624Z"
   },
   {
    "duration": 6332,
    "start_time": "2021-08-27T21:33:39.622Z"
   },
   {
    "duration": 649,
    "start_time": "2021-08-27T21:33:45.308Z"
   },
   {
    "duration": 5,
    "start_time": "2021-08-27T21:33:55.493Z"
   },
   {
    "duration": 29,
    "start_time": "2021-08-27T21:33:58.624Z"
   },
   {
    "duration": 34,
    "start_time": "2021-08-27T21:34:06.184Z"
   },
   {
    "duration": 7,
    "start_time": "2021-08-27T21:38:06.703Z"
   },
   {
    "duration": 38,
    "start_time": "2021-08-27T21:38:08.430Z"
   },
   {
    "duration": 4,
    "start_time": "2021-08-27T21:38:30.184Z"
   },
   {
    "duration": 93,
    "start_time": "2021-08-27T21:38:30.191Z"
   },
   {
    "duration": 9,
    "start_time": "2021-08-27T21:38:30.287Z"
   },
   {
    "duration": 97,
    "start_time": "2021-08-27T21:38:30.299Z"
   },
   {
    "duration": 4,
    "start_time": "2021-08-27T21:38:30.399Z"
   },
   {
    "duration": 65,
    "start_time": "2021-08-27T21:38:30.406Z"
   },
   {
    "duration": 28,
    "start_time": "2021-08-27T21:38:30.474Z"
   },
   {
    "duration": 32,
    "start_time": "2021-08-27T21:38:30.506Z"
   },
   {
    "duration": 47,
    "start_time": "2021-08-27T21:38:30.542Z"
   },
   {
    "duration": 15,
    "start_time": "2021-08-27T21:38:30.591Z"
   },
   {
    "duration": 118,
    "start_time": "2021-08-27T21:38:30.609Z"
   },
   {
    "duration": 26,
    "start_time": "2021-08-27T21:38:30.730Z"
   },
   {
    "duration": 46,
    "start_time": "2021-08-27T21:38:30.758Z"
   },
   {
    "duration": 34,
    "start_time": "2021-08-27T21:38:30.807Z"
   },
   {
    "duration": 39,
    "start_time": "2021-08-27T21:38:30.844Z"
   },
   {
    "duration": 32,
    "start_time": "2021-08-27T21:38:30.886Z"
   },
   {
    "duration": 34,
    "start_time": "2021-08-27T21:38:30.921Z"
   },
   {
    "duration": 30,
    "start_time": "2021-08-27T21:38:30.958Z"
   },
   {
    "duration": 32,
    "start_time": "2021-08-27T21:38:30.991Z"
   },
   {
    "duration": 48,
    "start_time": "2021-08-27T21:38:31.026Z"
   },
   {
    "duration": 7,
    "start_time": "2021-08-27T21:38:31.077Z"
   },
   {
    "duration": 27,
    "start_time": "2021-08-27T21:38:31.086Z"
   },
   {
    "duration": 16,
    "start_time": "2021-08-27T21:38:31.118Z"
   },
   {
    "duration": 56,
    "start_time": "2021-08-27T21:38:31.136Z"
   },
   {
    "duration": 7,
    "start_time": "2021-08-27T21:38:31.194Z"
   },
   {
    "duration": 56,
    "start_time": "2021-08-27T21:38:31.204Z"
   },
   {
    "duration": 59,
    "start_time": "2021-08-27T21:39:09.312Z"
   },
   {
    "duration": 37,
    "start_time": "2021-08-27T21:39:38.576Z"
   },
   {
    "duration": 48,
    "start_time": "2021-08-27T21:39:48.274Z"
   },
   {
    "duration": 47,
    "start_time": "2021-08-27T21:40:10.992Z"
   },
   {
    "duration": 9,
    "start_time": "2021-08-27T21:44:22.108Z"
   },
   {
    "duration": 71,
    "start_time": "2021-08-27T21:44:25.908Z"
   },
   {
    "duration": 47,
    "start_time": "2021-08-27T21:45:50.123Z"
   },
   {
    "duration": 4,
    "start_time": "2021-08-27T21:45:59.734Z"
   },
   {
    "duration": 86,
    "start_time": "2021-08-27T21:45:59.741Z"
   },
   {
    "duration": 28,
    "start_time": "2021-08-27T21:45:59.829Z"
   },
   {
    "duration": 95,
    "start_time": "2021-08-27T21:45:59.860Z"
   },
   {
    "duration": 3,
    "start_time": "2021-08-27T21:45:59.958Z"
   },
   {
    "duration": 37,
    "start_time": "2021-08-27T21:45:59.964Z"
   },
   {
    "duration": 32,
    "start_time": "2021-08-27T21:46:00.005Z"
   },
   {
    "duration": 37,
    "start_time": "2021-08-27T21:46:00.041Z"
   },
   {
    "duration": 44,
    "start_time": "2021-08-27T21:46:00.081Z"
   },
   {
    "duration": 28,
    "start_time": "2021-08-27T21:46:00.128Z"
   },
   {
    "duration": 123,
    "start_time": "2021-08-27T21:46:00.159Z"
   },
   {
    "duration": 10,
    "start_time": "2021-08-27T21:46:00.285Z"
   },
   {
    "duration": 39,
    "start_time": "2021-08-27T21:46:00.298Z"
   },
   {
    "duration": 32,
    "start_time": "2021-08-27T21:46:00.340Z"
   },
   {
    "duration": 11,
    "start_time": "2021-08-27T21:46:00.375Z"
   },
   {
    "duration": 33,
    "start_time": "2021-08-27T21:46:00.389Z"
   },
   {
    "duration": 16,
    "start_time": "2021-08-27T21:46:00.425Z"
   },
   {
    "duration": 23,
    "start_time": "2021-08-27T21:46:00.443Z"
   },
   {
    "duration": 26,
    "start_time": "2021-08-27T21:46:00.472Z"
   },
   {
    "duration": 49,
    "start_time": "2021-08-27T21:46:00.500Z"
   },
   {
    "duration": 6,
    "start_time": "2021-08-27T21:46:00.551Z"
   },
   {
    "duration": 31,
    "start_time": "2021-08-27T21:46:00.559Z"
   },
   {
    "duration": 18,
    "start_time": "2021-08-27T21:46:00.593Z"
   },
   {
    "duration": 51,
    "start_time": "2021-08-27T21:46:00.613Z"
   },
   {
    "duration": 8,
    "start_time": "2021-08-27T21:46:00.666Z"
   },
   {
    "duration": 84,
    "start_time": "2021-08-27T21:46:00.676Z"
   },
   {
    "duration": 755,
    "start_time": "2021-08-30T09:12:19.827Z"
   },
   {
    "duration": 80,
    "start_time": "2021-08-30T09:12:20.584Z"
   },
   {
    "duration": 18,
    "start_time": "2021-08-30T09:12:20.667Z"
   },
   {
    "duration": 103,
    "start_time": "2021-08-30T09:12:20.687Z"
   },
   {
    "duration": 4,
    "start_time": "2021-08-30T09:12:20.792Z"
   },
   {
    "duration": 48,
    "start_time": "2021-08-30T09:12:20.798Z"
   },
   {
    "duration": 15,
    "start_time": "2021-08-30T09:12:20.848Z"
   },
   {
    "duration": 11,
    "start_time": "2021-08-30T09:12:20.865Z"
   },
   {
    "duration": 69,
    "start_time": "2021-08-30T09:12:20.881Z"
   },
   {
    "duration": 12,
    "start_time": "2021-08-30T09:12:20.953Z"
   },
   {
    "duration": 132,
    "start_time": "2021-08-30T09:12:20.967Z"
   },
   {
    "duration": 21,
    "start_time": "2021-08-30T09:12:21.101Z"
   },
   {
    "duration": 11,
    "start_time": "2021-08-30T09:12:21.125Z"
   },
   {
    "duration": 13,
    "start_time": "2021-08-30T09:12:21.138Z"
   },
   {
    "duration": 7,
    "start_time": "2021-08-30T09:12:21.154Z"
   },
   {
    "duration": 55,
    "start_time": "2021-08-30T09:12:21.163Z"
   },
   {
    "duration": 11,
    "start_time": "2021-08-30T09:12:21.220Z"
   },
   {
    "duration": 14,
    "start_time": "2021-08-30T09:12:21.233Z"
   },
   {
    "duration": 14,
    "start_time": "2021-08-30T09:12:21.249Z"
   },
   {
    "duration": 64,
    "start_time": "2021-08-30T09:12:21.265Z"
   },
   {
    "duration": 12,
    "start_time": "2021-08-30T09:12:21.332Z"
   },
   {
    "duration": 18,
    "start_time": "2021-08-30T09:12:21.347Z"
   },
   {
    "duration": 6,
    "start_time": "2021-08-30T09:12:21.367Z"
   },
   {
    "duration": 62,
    "start_time": "2021-08-30T09:12:21.375Z"
   },
   {
    "duration": 6,
    "start_time": "2021-08-30T09:12:21.439Z"
   },
   {
    "duration": 72,
    "start_time": "2021-08-30T09:12:21.447Z"
   },
   {
    "duration": 421,
    "start_time": "2021-08-30T09:14:06.373Z"
   },
   {
    "duration": 387,
    "start_time": "2021-08-30T09:14:30.495Z"
   },
   {
    "duration": 341,
    "start_time": "2021-08-30T09:14:57.459Z"
   },
   {
    "duration": 324,
    "start_time": "2021-08-30T09:15:22.963Z"
   },
   {
    "duration": 477,
    "start_time": "2021-08-30T09:16:01.009Z"
   },
   {
    "duration": 708,
    "start_time": "2021-08-30T09:16:30.117Z"
   },
   {
    "duration": 823,
    "start_time": "2021-08-30T09:16:50.679Z"
   },
   {
    "duration": 794,
    "start_time": "2021-08-30T09:17:50.582Z"
   },
   {
    "duration": 1843,
    "start_time": "2021-08-30T09:17:58.924Z"
   },
   {
    "duration": 811,
    "start_time": "2021-08-30T09:18:16.753Z"
   },
   {
    "duration": 1298,
    "start_time": "2021-08-30T09:18:23.618Z"
   },
   {
    "duration": 1277,
    "start_time": "2021-08-30T09:19:21.976Z"
   },
   {
    "duration": 1336,
    "start_time": "2021-08-30T09:21:40.162Z"
   },
   {
    "duration": 1333,
    "start_time": "2021-08-30T09:21:59.578Z"
   },
   {
    "duration": 427,
    "start_time": "2021-08-30T09:22:26.516Z"
   },
   {
    "duration": 389,
    "start_time": "2021-08-30T09:22:37.138Z"
   },
   {
    "duration": 389,
    "start_time": "2021-08-30T09:24:06.080Z"
   },
   {
    "duration": 741,
    "start_time": "2021-08-30T09:26:55.950Z"
   },
   {
    "duration": 77,
    "start_time": "2021-08-30T09:26:56.694Z"
   },
   {
    "duration": 19,
    "start_time": "2021-08-30T09:26:56.774Z"
   },
   {
    "duration": 88,
    "start_time": "2021-08-30T09:26:56.795Z"
   },
   {
    "duration": 4,
    "start_time": "2021-08-30T09:26:56.885Z"
   },
   {
    "duration": 46,
    "start_time": "2021-08-30T09:26:56.891Z"
   },
   {
    "duration": 23,
    "start_time": "2021-08-30T09:26:56.939Z"
   },
   {
    "duration": 12,
    "start_time": "2021-08-30T09:26:56.966Z"
   },
   {
    "duration": 107,
    "start_time": "2021-08-30T09:26:56.981Z"
   },
   {
    "duration": 13,
    "start_time": "2021-08-30T09:26:57.090Z"
   },
   {
    "duration": 112,
    "start_time": "2021-08-30T09:26:57.105Z"
   },
   {
    "duration": 10,
    "start_time": "2021-08-30T09:26:57.220Z"
   },
   {
    "duration": 23,
    "start_time": "2021-08-30T09:26:57.232Z"
   },
   {
    "duration": 17,
    "start_time": "2021-08-30T09:26:57.258Z"
   },
   {
    "duration": 35,
    "start_time": "2021-08-30T09:26:57.278Z"
   },
   {
    "duration": 24,
    "start_time": "2021-08-30T09:26:57.315Z"
   },
   {
    "duration": 11,
    "start_time": "2021-08-30T09:26:57.342Z"
   },
   {
    "duration": 22,
    "start_time": "2021-08-30T09:26:57.355Z"
   },
   {
    "duration": 21,
    "start_time": "2021-08-30T09:26:57.380Z"
   },
   {
    "duration": 57,
    "start_time": "2021-08-30T09:26:57.404Z"
   },
   {
    "duration": 12,
    "start_time": "2021-08-30T09:26:57.464Z"
   },
   {
    "duration": 30,
    "start_time": "2021-08-30T09:26:57.478Z"
   },
   {
    "duration": 3,
    "start_time": "2021-08-30T09:26:57.513Z"
   },
   {
    "duration": 36,
    "start_time": "2021-08-30T09:26:57.519Z"
   },
   {
    "duration": 13,
    "start_time": "2021-08-30T09:26:57.558Z"
   },
   {
    "duration": 63,
    "start_time": "2021-08-30T09:26:57.573Z"
   },
   {
    "duration": 504,
    "start_time": "2021-08-30T09:26:57.639Z"
   },
   {
    "duration": 579,
    "start_time": "2021-08-30T09:26:58.146Z"
   },
   {
    "duration": 436,
    "start_time": "2021-08-30T09:26:58.728Z"
   },
   {
    "duration": 422,
    "start_time": "2021-08-30T09:26:59.167Z"
   },
   {
    "duration": 549,
    "start_time": "2021-08-30T09:27:08.305Z"
   },
   {
    "duration": 3206,
    "start_time": "2021-08-30T09:27:26.388Z"
   },
   {
    "duration": 438,
    "start_time": "2021-08-30T09:27:55.982Z"
   },
   {
    "duration": 445,
    "start_time": "2021-08-30T09:29:33.613Z"
   },
   {
    "duration": 438,
    "start_time": "2021-08-30T09:29:41.422Z"
   },
   {
    "duration": 429,
    "start_time": "2021-08-30T09:29:47.547Z"
   },
   {
    "duration": 434,
    "start_time": "2021-08-30T09:30:58.958Z"
   },
   {
    "duration": 531,
    "start_time": "2021-08-30T09:31:24.899Z"
   },
   {
    "duration": 407,
    "start_time": "2021-08-30T09:32:07.109Z"
   },
   {
    "duration": 562,
    "start_time": "2021-08-30T09:32:24.712Z"
   },
   {
    "duration": 426,
    "start_time": "2021-08-30T09:32:35.973Z"
   },
   {
    "duration": 417,
    "start_time": "2021-08-30T09:33:05.646Z"
   },
   {
    "duration": 3330,
    "start_time": "2021-08-30T09:33:40.457Z"
   },
   {
    "duration": 581,
    "start_time": "2021-08-30T09:40:40.187Z"
   },
   {
    "duration": 6,
    "start_time": "2021-08-30T09:50:13.764Z"
   },
   {
    "duration": 60,
    "start_time": "2021-08-30T09:50:26.052Z"
   },
   {
    "duration": 64,
    "start_time": "2021-08-30T09:54:01.790Z"
   },
   {
    "duration": 40,
    "start_time": "2021-08-30T10:00:57.210Z"
   },
   {
    "duration": 429,
    "start_time": "2021-08-30T10:10:17.694Z"
   },
   {
    "duration": 4,
    "start_time": "2021-08-30T10:12:31.803Z"
   },
   {
    "duration": 82,
    "start_time": "2021-08-30T10:12:31.812Z"
   },
   {
    "duration": 9,
    "start_time": "2021-08-30T10:12:31.897Z"
   },
   {
    "duration": 91,
    "start_time": "2021-08-30T10:12:31.909Z"
   },
   {
    "duration": 4,
    "start_time": "2021-08-30T10:12:32.002Z"
   },
   {
    "duration": 44,
    "start_time": "2021-08-30T10:12:32.008Z"
   },
   {
    "duration": 26,
    "start_time": "2021-08-30T10:12:32.055Z"
   },
   {
    "duration": 13,
    "start_time": "2021-08-30T10:12:32.083Z"
   },
   {
    "duration": 42,
    "start_time": "2021-08-30T10:12:32.115Z"
   },
   {
    "duration": 12,
    "start_time": "2021-08-30T10:12:32.160Z"
   },
   {
    "duration": 144,
    "start_time": "2021-08-30T10:12:32.174Z"
   },
   {
    "duration": 9,
    "start_time": "2021-08-30T10:12:32.320Z"
   },
   {
    "duration": 26,
    "start_time": "2021-08-30T10:12:32.331Z"
   },
   {
    "duration": 12,
    "start_time": "2021-08-30T10:12:32.359Z"
   },
   {
    "duration": 7,
    "start_time": "2021-08-30T10:12:32.373Z"
   },
   {
    "duration": 44,
    "start_time": "2021-08-30T10:12:32.383Z"
   },
   {
    "duration": 12,
    "start_time": "2021-08-30T10:12:32.429Z"
   },
   {
    "duration": 13,
    "start_time": "2021-08-30T10:12:32.443Z"
   },
   {
    "duration": 16,
    "start_time": "2021-08-30T10:12:32.458Z"
   },
   {
    "duration": 67,
    "start_time": "2021-08-30T10:12:32.476Z"
   },
   {
    "duration": 6,
    "start_time": "2021-08-30T10:12:32.545Z"
   },
   {
    "duration": 28,
    "start_time": "2021-08-30T10:12:32.553Z"
   },
   {
    "duration": 5,
    "start_time": "2021-08-30T10:12:32.583Z"
   },
   {
    "duration": 27,
    "start_time": "2021-08-30T10:12:32.616Z"
   },
   {
    "duration": 7,
    "start_time": "2021-08-30T10:12:32.645Z"
   },
   {
    "duration": 76,
    "start_time": "2021-08-30T10:12:32.654Z"
   },
   {
    "duration": 669,
    "start_time": "2021-08-30T10:12:32.734Z"
   },
   {
    "duration": 3332,
    "start_time": "2021-08-30T10:12:33.406Z"
   },
   {
    "duration": 458,
    "start_time": "2021-08-30T10:12:36.740Z"
   },
   {
    "duration": 77,
    "start_time": "2021-08-30T10:12:37.200Z"
   },
   {
    "duration": 442,
    "start_time": "2021-08-30T10:12:37.279Z"
   },
   {
    "duration": 40,
    "start_time": "2021-08-30T10:12:37.723Z"
   },
   {
    "duration": 573,
    "start_time": "2021-08-30T10:12:37.766Z"
   },
   {
    "duration": 557,
    "start_time": "2021-08-30T10:12:46.866Z"
   },
   {
    "duration": 878,
    "start_time": "2021-08-30T10:12:53.850Z"
   },
   {
    "duration": 3029,
    "start_time": "2021-08-30T10:13:01.135Z"
   },
   {
    "duration": 2537,
    "start_time": "2021-08-30T10:13:15.679Z"
   },
   {
    "duration": 1275,
    "start_time": "2021-08-30T10:13:30.100Z"
   },
   {
    "duration": 1611,
    "start_time": "2021-08-30T10:13:43.759Z"
   },
   {
    "duration": 1660,
    "start_time": "2021-08-30T10:14:00.828Z"
   },
   {
    "duration": 1111,
    "start_time": "2021-08-30T10:14:12.390Z"
   },
   {
    "duration": 1659,
    "start_time": "2021-08-30T10:15:45.679Z"
   },
   {
    "duration": 1276,
    "start_time": "2021-08-30T10:15:58.775Z"
   },
   {
    "duration": 968,
    "start_time": "2021-08-30T10:16:04.558Z"
   },
   {
    "duration": 3133,
    "start_time": "2021-08-30T10:16:19.197Z"
   },
   {
    "duration": 4806,
    "start_time": "2021-08-30T10:16:37.895Z"
   },
   {
    "duration": 916,
    "start_time": "2021-08-30T10:28:37.992Z"
   },
   {
    "duration": 5259,
    "start_time": "2021-08-30T10:29:07.303Z"
   },
   {
    "duration": 842,
    "start_time": "2021-08-30T10:29:40.519Z"
   },
   {
    "duration": 413,
    "start_time": "2021-08-30T15:22:57.862Z"
   },
   {
    "duration": 717,
    "start_time": "2021-08-30T15:23:04.428Z"
   },
   {
    "duration": 68,
    "start_time": "2021-08-30T15:23:05.148Z"
   },
   {
    "duration": 18,
    "start_time": "2021-08-30T15:23:05.219Z"
   },
   {
    "duration": 90,
    "start_time": "2021-08-30T15:23:05.239Z"
   },
   {
    "duration": 4,
    "start_time": "2021-08-30T15:23:05.331Z"
   },
   {
    "duration": 47,
    "start_time": "2021-08-30T15:23:05.337Z"
   },
   {
    "duration": 15,
    "start_time": "2021-08-30T15:23:05.386Z"
   },
   {
    "duration": 12,
    "start_time": "2021-08-30T15:23:05.406Z"
   },
   {
    "duration": 70,
    "start_time": "2021-08-30T15:23:05.421Z"
   },
   {
    "duration": 12,
    "start_time": "2021-08-30T15:23:05.494Z"
   },
   {
    "duration": 125,
    "start_time": "2021-08-30T15:23:05.509Z"
   },
   {
    "duration": 10,
    "start_time": "2021-08-30T15:23:05.637Z"
   },
   {
    "duration": 38,
    "start_time": "2021-08-30T15:23:05.650Z"
   },
   {
    "duration": 15,
    "start_time": "2021-08-30T15:23:05.691Z"
   },
   {
    "duration": 8,
    "start_time": "2021-08-30T15:23:05.709Z"
   },
   {
    "duration": 22,
    "start_time": "2021-08-30T15:23:05.720Z"
   },
   {
    "duration": 12,
    "start_time": "2021-08-30T15:23:05.783Z"
   },
   {
    "duration": 7,
    "start_time": "2021-08-30T15:23:05.797Z"
   },
   {
    "duration": 18,
    "start_time": "2021-08-30T15:23:05.806Z"
   },
   {
    "duration": 58,
    "start_time": "2021-08-30T15:23:05.826Z"
   },
   {
    "duration": 12,
    "start_time": "2021-08-30T15:23:05.886Z"
   },
   {
    "duration": 17,
    "start_time": "2021-08-30T15:23:05.900Z"
   },
   {
    "duration": 5,
    "start_time": "2021-08-30T15:23:05.921Z"
   },
   {
    "duration": 61,
    "start_time": "2021-08-30T15:23:05.928Z"
   },
   {
    "duration": 7,
    "start_time": "2021-08-30T15:23:05.991Z"
   },
   {
    "duration": 53,
    "start_time": "2021-08-30T15:23:06.000Z"
   },
   {
    "duration": 626,
    "start_time": "2021-08-30T15:23:06.083Z"
   },
   {
    "duration": 2935,
    "start_time": "2021-08-30T15:23:06.711Z"
   },
   {
    "duration": 421,
    "start_time": "2021-08-30T15:23:09.648Z"
   },
   {
    "duration": 73,
    "start_time": "2021-08-30T15:23:10.072Z"
   },
   {
    "duration": 442,
    "start_time": "2021-08-30T15:23:10.147Z"
   },
   {
    "duration": 40,
    "start_time": "2021-08-30T15:23:10.591Z"
   },
   {
    "duration": 4350,
    "start_time": "2021-08-30T15:23:10.633Z"
   },
   {
    "duration": 783,
    "start_time": "2021-08-30T15:23:14.985Z"
   },
   {
    "duration": 449,
    "start_time": "2021-08-30T15:23:28.868Z"
   },
   {
    "duration": 262,
    "start_time": "2021-08-30T15:24:13.927Z"
   },
   {
    "duration": 606,
    "start_time": "2021-08-30T15:25:26.154Z"
   },
   {
    "duration": 939,
    "start_time": "2021-08-30T15:25:56.798Z"
   },
   {
    "duration": 753,
    "start_time": "2021-08-30T15:26:15.259Z"
   },
   {
    "duration": 1058,
    "start_time": "2021-08-30T15:26:31.578Z"
   },
   {
    "duration": 7,
    "start_time": "2021-08-30T15:35:51.558Z"
   },
   {
    "duration": 7,
    "start_time": "2021-08-30T15:36:02.258Z"
   },
   {
    "duration": 7,
    "start_time": "2021-08-30T15:36:06.368Z"
   },
   {
    "duration": 1529,
    "start_time": "2021-08-30T15:47:23.950Z"
   },
   {
    "duration": 25,
    "start_time": "2021-08-30T15:48:20.981Z"
   },
   {
    "duration": 428,
    "start_time": "2021-08-30T15:48:36.562Z"
   },
   {
    "duration": 23,
    "start_time": "2021-08-30T15:48:43.579Z"
   },
   {
    "duration": 18,
    "start_time": "2021-08-30T15:49:09.141Z"
   },
   {
    "duration": 21,
    "start_time": "2021-08-30T15:49:25.791Z"
   },
   {
    "duration": 6,
    "start_time": "2021-08-30T15:50:46.251Z"
   },
   {
    "duration": 8,
    "start_time": "2021-08-30T15:50:48.130Z"
   },
   {
    "duration": 21,
    "start_time": "2021-08-30T15:50:50.280Z"
   },
   {
    "duration": 16,
    "start_time": "2021-08-30T15:50:52.520Z"
   },
   {
    "duration": 15,
    "start_time": "2021-08-30T15:51:45.551Z"
   },
   {
    "duration": 18,
    "start_time": "2021-08-30T15:51:47.112Z"
   },
   {
    "duration": 1306,
    "start_time": "2021-08-30T15:56:43.380Z"
   },
   {
    "duration": 1546,
    "start_time": "2021-08-30T15:58:43.669Z"
   },
   {
    "duration": 1397,
    "start_time": "2021-08-30T15:58:55.741Z"
   },
   {
    "duration": 425,
    "start_time": "2021-08-30T16:05:36.424Z"
   },
   {
    "duration": 281,
    "start_time": "2021-08-30T16:05:47.221Z"
   },
   {
    "duration": 364,
    "start_time": "2021-08-30T16:05:50.782Z"
   },
   {
    "duration": 375,
    "start_time": "2021-08-31T11:52:01.703Z"
   },
   {
    "duration": 821,
    "start_time": "2021-08-31T11:52:08.702Z"
   },
   {
    "duration": 81,
    "start_time": "2021-08-31T11:52:09.526Z"
   },
   {
    "duration": 22,
    "start_time": "2021-08-31T11:52:09.610Z"
   },
   {
    "duration": 125,
    "start_time": "2021-08-31T11:52:09.636Z"
   },
   {
    "duration": 3,
    "start_time": "2021-08-31T11:52:09.764Z"
   },
   {
    "duration": 49,
    "start_time": "2021-08-31T11:52:09.769Z"
   },
   {
    "duration": 19,
    "start_time": "2021-08-31T11:52:09.820Z"
   },
   {
    "duration": 13,
    "start_time": "2021-08-31T11:52:09.842Z"
   },
   {
    "duration": 73,
    "start_time": "2021-08-31T11:52:09.858Z"
   },
   {
    "duration": 12,
    "start_time": "2021-08-31T11:52:09.934Z"
   },
   {
    "duration": 146,
    "start_time": "2021-08-31T11:52:09.949Z"
   },
   {
    "duration": 22,
    "start_time": "2021-08-31T11:52:10.097Z"
   },
   {
    "duration": 13,
    "start_time": "2021-08-31T11:52:10.122Z"
   },
   {
    "duration": 13,
    "start_time": "2021-08-31T11:52:10.137Z"
   },
   {
    "duration": 8,
    "start_time": "2021-08-31T11:52:10.152Z"
   },
   {
    "duration": 64,
    "start_time": "2021-08-31T11:52:10.163Z"
   },
   {
    "duration": 11,
    "start_time": "2021-08-31T11:52:10.230Z"
   },
   {
    "duration": 17,
    "start_time": "2021-08-31T11:52:10.244Z"
   },
   {
    "duration": 24,
    "start_time": "2021-08-31T11:52:10.264Z"
   },
   {
    "duration": 64,
    "start_time": "2021-08-31T11:52:10.291Z"
   },
   {
    "duration": 14,
    "start_time": "2021-08-31T11:52:10.358Z"
   },
   {
    "duration": 42,
    "start_time": "2021-08-31T11:52:10.375Z"
   },
   {
    "duration": 5,
    "start_time": "2021-08-31T11:52:10.423Z"
   },
   {
    "duration": 34,
    "start_time": "2021-08-31T11:52:10.431Z"
   },
   {
    "duration": 10,
    "start_time": "2021-08-31T11:52:10.468Z"
   },
   {
    "duration": 91,
    "start_time": "2021-08-31T11:52:10.481Z"
   },
   {
    "duration": 694,
    "start_time": "2021-08-31T11:52:10.575Z"
   },
   {
    "duration": 3361,
    "start_time": "2021-08-31T11:52:11.272Z"
   },
   {
    "duration": 361,
    "start_time": "2021-08-31T11:52:14.636Z"
   },
   {
    "duration": 75,
    "start_time": "2021-08-31T11:52:14.999Z"
   },
   {
    "duration": 468,
    "start_time": "2021-08-31T11:52:15.077Z"
   },
   {
    "duration": 40,
    "start_time": "2021-08-31T11:52:15.548Z"
   },
   {
    "duration": 5012,
    "start_time": "2021-08-31T11:52:15.591Z"
   },
   {
    "duration": 1450,
    "start_time": "2021-08-31T11:52:20.605Z"
   },
   {
    "duration": 6,
    "start_time": "2021-08-31T11:52:22.058Z"
   },
   {
    "duration": 10,
    "start_time": "2021-08-31T11:52:22.066Z"
   },
   {
    "duration": 44,
    "start_time": "2021-08-31T11:52:22.078Z"
   },
   {
    "duration": 15,
    "start_time": "2021-08-31T11:52:22.124Z"
   },
   {
    "duration": 13,
    "start_time": "2021-08-31T11:52:22.142Z"
   },
   {
    "duration": 10,
    "start_time": "2021-08-31T11:52:40.967Z"
   },
   {
    "duration": 10,
    "start_time": "2021-08-31T11:53:04.007Z"
   },
   {
    "duration": 9,
    "start_time": "2021-08-31T11:53:11.110Z"
   },
   {
    "duration": 9,
    "start_time": "2021-08-31T11:53:16.400Z"
   },
   {
    "duration": 9,
    "start_time": "2021-08-31T11:55:30.324Z"
   },
   {
    "duration": 10,
    "start_time": "2021-08-31T11:55:42.926Z"
   },
   {
    "duration": 9,
    "start_time": "2021-08-31T11:55:49.220Z"
   },
   {
    "duration": 9,
    "start_time": "2021-08-31T11:55:52.024Z"
   },
   {
    "duration": 11,
    "start_time": "2021-08-31T11:55:56.486Z"
   },
   {
    "duration": 9,
    "start_time": "2021-08-31T11:56:13.153Z"
   },
   {
    "duration": 9,
    "start_time": "2021-08-31T11:56:18.141Z"
   },
   {
    "duration": 83,
    "start_time": "2021-08-31T12:02:40.504Z"
   },
   {
    "duration": 83,
    "start_time": "2021-08-31T12:03:27.676Z"
   },
   {
    "duration": 106,
    "start_time": "2021-08-31T12:03:42.815Z"
   },
   {
    "duration": 95,
    "start_time": "2021-08-31T12:04:11.496Z"
   },
   {
    "duration": 348,
    "start_time": "2021-08-31T12:06:19.245Z"
   },
   {
    "duration": 81,
    "start_time": "2021-08-31T12:06:33.673Z"
   },
   {
    "duration": 69,
    "start_time": "2021-08-31T12:06:47.238Z"
   },
   {
    "duration": 151,
    "start_time": "2021-08-31T12:07:21.482Z"
   },
   {
    "duration": 147,
    "start_time": "2021-08-31T12:08:25.119Z"
   },
   {
    "duration": 737,
    "start_time": "2021-08-31T12:15:19.495Z"
   },
   {
    "duration": 154,
    "start_time": "2021-08-31T12:19:27.495Z"
   },
   {
    "duration": 505,
    "start_time": "2021-08-31T12:20:03.614Z"
   },
   {
    "duration": 14,
    "start_time": "2021-08-31T12:24:38.933Z"
   },
   {
    "duration": 738,
    "start_time": "2021-08-31T12:25:11.515Z"
   },
   {
    "duration": 554,
    "start_time": "2021-08-31T12:25:35.378Z"
   },
   {
    "duration": 568,
    "start_time": "2021-08-31T12:25:40.112Z"
   },
   {
    "duration": 647,
    "start_time": "2021-08-31T12:25:53.634Z"
   },
   {
    "duration": 567,
    "start_time": "2021-08-31T12:26:00.130Z"
   },
   {
    "duration": 559,
    "start_time": "2021-08-31T12:26:48.279Z"
   },
   {
    "duration": 596,
    "start_time": "2021-08-31T12:27:26.717Z"
   },
   {
    "duration": 297,
    "start_time": "2021-08-31T12:27:40.721Z"
   },
   {
    "duration": 322,
    "start_time": "2021-08-31T12:28:33.246Z"
   },
   {
    "duration": 529,
    "start_time": "2021-08-31T12:28:37.279Z"
   },
   {
    "duration": 341,
    "start_time": "2021-08-31T12:29:05.649Z"
   },
   {
    "duration": 343,
    "start_time": "2021-08-31T12:29:12.311Z"
   },
   {
    "duration": 341,
    "start_time": "2021-08-31T12:29:16.300Z"
   },
   {
    "duration": 327,
    "start_time": "2021-08-31T12:29:33.325Z"
   },
   {
    "duration": 400,
    "start_time": "2021-08-31T12:29:37.816Z"
   },
   {
    "duration": 400,
    "start_time": "2021-08-31T12:29:52.458Z"
   },
   {
    "duration": 351,
    "start_time": "2021-08-31T12:29:59.313Z"
   },
   {
    "duration": 356,
    "start_time": "2021-08-31T12:30:04.668Z"
   },
   {
    "duration": 368,
    "start_time": "2021-08-31T12:30:09.405Z"
   },
   {
    "duration": 342,
    "start_time": "2021-08-31T12:30:15.834Z"
   },
   {
    "duration": 354,
    "start_time": "2021-08-31T12:30:26.765Z"
   },
   {
    "duration": 5,
    "start_time": "2021-08-31T12:30:40.330Z"
   },
   {
    "duration": 80,
    "start_time": "2021-08-31T12:30:40.338Z"
   },
   {
    "duration": 8,
    "start_time": "2021-08-31T12:30:40.421Z"
   },
   {
    "duration": 110,
    "start_time": "2021-08-31T12:30:40.432Z"
   },
   {
    "duration": 3,
    "start_time": "2021-08-31T12:30:40.545Z"
   },
   {
    "duration": 37,
    "start_time": "2021-08-31T12:30:40.550Z"
   },
   {
    "duration": 38,
    "start_time": "2021-08-31T12:30:40.591Z"
   },
   {
    "duration": 13,
    "start_time": "2021-08-31T12:30:40.632Z"
   },
   {
    "duration": 39,
    "start_time": "2021-08-31T12:30:40.648Z"
   },
   {
    "duration": 13,
    "start_time": "2021-08-31T12:30:40.716Z"
   },
   {
    "duration": 128,
    "start_time": "2021-08-31T12:30:40.732Z"
   },
   {
    "duration": 9,
    "start_time": "2021-08-31T12:30:40.863Z"
   },
   {
    "duration": 13,
    "start_time": "2021-08-31T12:30:40.875Z"
   },
   {
    "duration": 15,
    "start_time": "2021-08-31T12:30:40.915Z"
   },
   {
    "duration": 9,
    "start_time": "2021-08-31T12:30:40.933Z"
   },
   {
    "duration": 23,
    "start_time": "2021-08-31T12:30:40.944Z"
   },
   {
    "duration": 48,
    "start_time": "2021-08-31T12:30:40.969Z"
   },
   {
    "duration": 3,
    "start_time": "2021-08-31T12:30:41.019Z"
   },
   {
    "duration": 17,
    "start_time": "2021-08-31T12:30:41.027Z"
   },
   {
    "duration": 42,
    "start_time": "2021-08-31T12:30:41.047Z"
   },
   {
    "duration": 26,
    "start_time": "2021-08-31T12:30:41.091Z"
   },
   {
    "duration": 26,
    "start_time": "2021-08-31T12:30:41.119Z"
   },
   {
    "duration": 4,
    "start_time": "2021-08-31T12:30:41.147Z"
   },
   {
    "duration": 33,
    "start_time": "2021-08-31T12:30:41.153Z"
   },
   {
    "duration": 31,
    "start_time": "2021-08-31T12:30:41.189Z"
   },
   {
    "duration": 59,
    "start_time": "2021-08-31T12:30:41.222Z"
   },
   {
    "duration": 580,
    "start_time": "2021-08-31T12:30:41.283Z"
   },
   {
    "duration": 3264,
    "start_time": "2021-08-31T12:30:41.865Z"
   },
   {
    "duration": 356,
    "start_time": "2021-08-31T12:30:45.132Z"
   },
   {
    "duration": 81,
    "start_time": "2021-08-31T12:30:45.491Z"
   },
   {
    "duration": 493,
    "start_time": "2021-08-31T12:30:45.575Z"
   },
   {
    "duration": 40,
    "start_time": "2021-08-31T12:30:46.070Z"
   },
   {
    "duration": 5170,
    "start_time": "2021-08-31T12:30:46.117Z"
   },
   {
    "duration": 1847,
    "start_time": "2021-08-31T12:30:51.290Z"
   },
   {
    "duration": 5,
    "start_time": "2021-08-31T12:30:53.140Z"
   },
   {
    "duration": 22,
    "start_time": "2021-08-31T12:30:53.148Z"
   },
   {
    "duration": 35,
    "start_time": "2021-08-31T12:30:53.172Z"
   },
   {
    "duration": 20,
    "start_time": "2021-08-31T12:30:53.210Z"
   },
   {
    "duration": 366,
    "start_time": "2021-08-31T12:30:53.233Z"
   },
   {
    "duration": 523,
    "start_time": "2021-08-31T12:30:53.602Z"
   },
   {
    "duration": 337,
    "start_time": "2021-08-31T12:32:06.947Z"
   },
   {
    "duration": 298,
    "start_time": "2021-08-31T12:32:28.364Z"
   },
   {
    "duration": 310,
    "start_time": "2021-08-31T12:32:39.206Z"
   },
   {
    "duration": 286,
    "start_time": "2021-08-31T12:32:50.795Z"
   },
   {
    "duration": 288,
    "start_time": "2021-08-31T12:34:05.060Z"
   },
   {
    "duration": 316,
    "start_time": "2021-08-31T12:34:15.802Z"
   },
   {
    "duration": 291,
    "start_time": "2021-08-31T12:34:19.866Z"
   },
   {
    "duration": 286,
    "start_time": "2021-08-31T12:34:31.632Z"
   },
   {
    "duration": 147,
    "start_time": "2021-08-31T12:34:35.336Z"
   },
   {
    "duration": 283,
    "start_time": "2021-08-31T12:34:38.193Z"
   },
   {
    "duration": 31,
    "start_time": "2021-08-31T12:36:41.020Z"
   },
   {
    "duration": 561,
    "start_time": "2021-08-31T12:37:02.256Z"
   },
   {
    "duration": 5,
    "start_time": "2021-08-31T12:38:03.981Z"
   },
   {
    "duration": 87,
    "start_time": "2021-08-31T12:38:03.989Z"
   },
   {
    "duration": 9,
    "start_time": "2021-08-31T12:38:04.079Z"
   },
   {
    "duration": 96,
    "start_time": "2021-08-31T12:38:04.090Z"
   },
   {
    "duration": 3,
    "start_time": "2021-08-31T12:38:04.189Z"
   },
   {
    "duration": 34,
    "start_time": "2021-08-31T12:38:04.217Z"
   },
   {
    "duration": 19,
    "start_time": "2021-08-31T12:38:04.254Z"
   },
   {
    "duration": 41,
    "start_time": "2021-08-31T12:38:04.276Z"
   },
   {
    "duration": 39,
    "start_time": "2021-08-31T12:38:04.320Z"
   },
   {
    "duration": 13,
    "start_time": "2021-08-31T12:38:04.361Z"
   },
   {
    "duration": 149,
    "start_time": "2021-08-31T12:38:04.376Z"
   },
   {
    "duration": 9,
    "start_time": "2021-08-31T12:38:04.528Z"
   },
   {
    "duration": 17,
    "start_time": "2021-08-31T12:38:04.539Z"
   },
   {
    "duration": 13,
    "start_time": "2021-08-31T12:38:04.558Z"
   },
   {
    "duration": 47,
    "start_time": "2021-08-31T12:38:04.573Z"
   },
   {
    "duration": 15,
    "start_time": "2021-08-31T12:38:04.622Z"
   },
   {
    "duration": 12,
    "start_time": "2021-08-31T12:38:04.639Z"
   },
   {
    "duration": 7,
    "start_time": "2021-08-31T12:38:04.654Z"
   },
   {
    "duration": 53,
    "start_time": "2021-08-31T12:38:04.666Z"
   },
   {
    "duration": 41,
    "start_time": "2021-08-31T12:38:04.721Z"
   },
   {
    "duration": 7,
    "start_time": "2021-08-31T12:38:04.765Z"
   },
   {
    "duration": 46,
    "start_time": "2021-08-31T12:38:04.774Z"
   },
   {
    "duration": 5,
    "start_time": "2021-08-31T12:38:04.823Z"
   },
   {
    "duration": 30,
    "start_time": "2021-08-31T12:38:04.831Z"
   },
   {
    "duration": 8,
    "start_time": "2021-08-31T12:38:04.864Z"
   },
   {
    "duration": 88,
    "start_time": "2021-08-31T12:38:04.875Z"
   },
   {
    "duration": 576,
    "start_time": "2021-08-31T12:38:04.965Z"
   },
   {
    "duration": 3460,
    "start_time": "2021-08-31T12:38:05.543Z"
   },
   {
    "duration": 345,
    "start_time": "2021-08-31T12:38:09.006Z"
   },
   {
    "duration": 83,
    "start_time": "2021-08-31T12:38:09.353Z"
   },
   {
    "duration": 471,
    "start_time": "2021-08-31T12:38:09.439Z"
   },
   {
    "duration": 41,
    "start_time": "2021-08-31T12:38:09.916Z"
   },
   {
    "duration": 4610,
    "start_time": "2021-08-31T12:38:09.960Z"
   },
   {
    "duration": 1995,
    "start_time": "2021-08-31T12:38:14.573Z"
   },
   {
    "duration": 7,
    "start_time": "2021-08-31T12:38:16.571Z"
   },
   {
    "duration": 11,
    "start_time": "2021-08-31T12:38:16.580Z"
   },
   {
    "duration": 610,
    "start_time": "2021-08-31T12:38:16.593Z"
   },
   {
    "duration": 22,
    "start_time": "2021-08-31T12:38:17.206Z"
   },
   {
    "duration": 15,
    "start_time": "2021-08-31T12:38:17.230Z"
   },
   {
    "duration": 323,
    "start_time": "2021-08-31T12:38:17.247Z"
   },
   {
    "duration": 532,
    "start_time": "2021-08-31T12:38:17.572Z"
   },
   {
    "duration": 584,
    "start_time": "2021-08-31T12:39:11.778Z"
   },
   {
    "duration": 17,
    "start_time": "2021-08-31T12:40:35.757Z"
   },
   {
    "duration": 5,
    "start_time": "2021-08-31T12:40:53.463Z"
   },
   {
    "duration": 161,
    "start_time": "2021-08-31T12:40:53.472Z"
   },
   {
    "duration": 11,
    "start_time": "2021-08-31T12:40:53.636Z"
   },
   {
    "duration": 102,
    "start_time": "2021-08-31T12:40:53.651Z"
   },
   {
    "duration": 5,
    "start_time": "2021-08-31T12:40:53.756Z"
   },
   {
    "duration": 57,
    "start_time": "2021-08-31T12:40:53.764Z"
   },
   {
    "duration": 21,
    "start_time": "2021-08-31T12:40:53.824Z"
   },
   {
    "duration": 13,
    "start_time": "2021-08-31T12:40:53.851Z"
   },
   {
    "duration": 73,
    "start_time": "2021-08-31T12:40:53.867Z"
   },
   {
    "duration": 12,
    "start_time": "2021-08-31T12:40:53.943Z"
   },
   {
    "duration": 122,
    "start_time": "2021-08-31T12:40:53.957Z"
   },
   {
    "duration": 9,
    "start_time": "2021-08-31T12:40:54.081Z"
   },
   {
    "duration": 31,
    "start_time": "2021-08-31T12:40:54.092Z"
   },
   {
    "duration": 16,
    "start_time": "2021-08-31T12:40:54.126Z"
   },
   {
    "duration": 7,
    "start_time": "2021-08-31T12:40:54.144Z"
   },
   {
    "duration": 21,
    "start_time": "2021-08-31T12:40:54.153Z"
   },
   {
    "duration": 42,
    "start_time": "2021-08-31T12:40:54.176Z"
   },
   {
    "duration": 3,
    "start_time": "2021-08-31T12:40:54.220Z"
   },
   {
    "duration": 19,
    "start_time": "2021-08-31T12:40:54.225Z"
   },
   {
    "duration": 40,
    "start_time": "2021-08-31T12:40:54.247Z"
   },
   {
    "duration": 7,
    "start_time": "2021-08-31T12:40:54.317Z"
   },
   {
    "duration": 44,
    "start_time": "2021-08-31T12:40:54.326Z"
   },
   {
    "duration": 14,
    "start_time": "2021-08-31T12:40:54.375Z"
   },
   {
    "duration": 44,
    "start_time": "2021-08-31T12:40:54.392Z"
   },
   {
    "duration": 7,
    "start_time": "2021-08-31T12:40:54.438Z"
   },
   {
    "duration": 71,
    "start_time": "2021-08-31T12:40:54.447Z"
   },
   {
    "duration": 595,
    "start_time": "2021-08-31T12:40:54.521Z"
   },
   {
    "duration": 3203,
    "start_time": "2021-08-31T12:40:55.119Z"
   },
   {
    "duration": 362,
    "start_time": "2021-08-31T12:40:58.324Z"
   },
   {
    "duration": 77,
    "start_time": "2021-08-31T12:40:58.690Z"
   },
   {
    "duration": 472,
    "start_time": "2021-08-31T12:40:58.769Z"
   },
   {
    "duration": 41,
    "start_time": "2021-08-31T12:40:59.243Z"
   },
   {
    "duration": 5226,
    "start_time": "2021-08-31T12:40:59.286Z"
   },
   {
    "duration": 1546,
    "start_time": "2021-08-31T12:41:04.517Z"
   },
   {
    "duration": 6,
    "start_time": "2021-08-31T12:41:06.066Z"
   },
   {
    "duration": 10,
    "start_time": "2021-08-31T12:41:06.075Z"
   },
   {
    "duration": 42,
    "start_time": "2021-08-31T12:41:06.087Z"
   },
   {
    "duration": 596,
    "start_time": "2021-08-31T12:41:06.131Z"
   },
   {
    "duration": 14,
    "start_time": "2021-08-31T12:41:06.730Z"
   },
   {
    "duration": 16,
    "start_time": "2021-08-31T12:41:06.747Z"
   },
   {
    "duration": 312,
    "start_time": "2021-08-31T12:41:06.766Z"
   },
   {
    "duration": 540,
    "start_time": "2021-08-31T12:41:07.081Z"
   },
   {
    "duration": 19,
    "start_time": "2021-08-31T12:41:33.965Z"
   },
   {
    "duration": 61,
    "start_time": "2021-08-31T12:41:54.017Z"
   },
   {
    "duration": 5,
    "start_time": "2021-08-31T12:42:27.493Z"
   },
   {
    "duration": 90,
    "start_time": "2021-08-31T12:42:27.500Z"
   },
   {
    "duration": 8,
    "start_time": "2021-08-31T12:42:27.593Z"
   },
   {
    "duration": 78,
    "start_time": "2021-08-31T12:42:27.604Z"
   },
   {
    "duration": 4,
    "start_time": "2021-08-31T12:42:27.684Z"
   },
   {
    "duration": 52,
    "start_time": "2021-08-31T12:42:27.690Z"
   },
   {
    "duration": 21,
    "start_time": "2021-08-31T12:42:27.745Z"
   },
   {
    "duration": 14,
    "start_time": "2021-08-31T12:42:27.768Z"
   },
   {
    "duration": 68,
    "start_time": "2021-08-31T12:42:27.786Z"
   },
   {
    "duration": 12,
    "start_time": "2021-08-31T12:42:27.857Z"
   },
   {
    "duration": 132,
    "start_time": "2021-08-31T12:42:27.872Z"
   },
   {
    "duration": 19,
    "start_time": "2021-08-31T12:42:28.006Z"
   },
   {
    "duration": 36,
    "start_time": "2021-08-31T12:42:28.028Z"
   },
   {
    "duration": 16,
    "start_time": "2021-08-31T12:42:28.066Z"
   },
   {
    "duration": 9,
    "start_time": "2021-08-31T12:42:28.085Z"
   },
   {
    "duration": 15,
    "start_time": "2021-08-31T12:42:28.115Z"
   },
   {
    "duration": 11,
    "start_time": "2021-08-31T12:42:28.132Z"
   },
   {
    "duration": 9,
    "start_time": "2021-08-31T12:42:28.146Z"
   },
   {
    "duration": 24,
    "start_time": "2021-08-31T12:42:28.157Z"
   },
   {
    "duration": 65,
    "start_time": "2021-08-31T12:42:28.183Z"
   },
   {
    "duration": 7,
    "start_time": "2021-08-31T12:42:28.250Z"
   },
   {
    "duration": 26,
    "start_time": "2021-08-31T12:42:28.259Z"
   },
   {
    "duration": 29,
    "start_time": "2021-08-31T12:42:28.287Z"
   },
   {
    "duration": 34,
    "start_time": "2021-08-31T12:42:28.319Z"
   },
   {
    "duration": 8,
    "start_time": "2021-08-31T12:42:28.356Z"
   },
   {
    "duration": 73,
    "start_time": "2021-08-31T12:42:28.367Z"
   },
   {
    "duration": 575,
    "start_time": "2021-08-31T12:42:28.445Z"
   },
   {
    "duration": 3817,
    "start_time": "2021-08-31T12:42:29.023Z"
   },
   {
    "duration": 361,
    "start_time": "2021-08-31T12:42:32.842Z"
   },
   {
    "duration": 72,
    "start_time": "2021-08-31T12:42:33.205Z"
   },
   {
    "duration": 468,
    "start_time": "2021-08-31T12:42:33.280Z"
   },
   {
    "duration": 40,
    "start_time": "2021-08-31T12:42:33.751Z"
   },
   {
    "duration": 4581,
    "start_time": "2021-08-31T12:42:33.794Z"
   },
   {
    "duration": 1440,
    "start_time": "2021-08-31T12:42:38.378Z"
   },
   {
    "duration": 6,
    "start_time": "2021-08-31T12:42:39.820Z"
   },
   {
    "duration": 7,
    "start_time": "2021-08-31T12:42:39.828Z"
   },
   {
    "duration": 92,
    "start_time": "2021-08-31T12:42:39.837Z"
   },
   {
    "duration": 612,
    "start_time": "2021-08-31T12:42:39.931Z"
   },
   {
    "duration": 17,
    "start_time": "2021-08-31T12:42:40.545Z"
   },
   {
    "duration": 16,
    "start_time": "2021-08-31T12:42:40.564Z"
   },
   {
    "duration": 554,
    "start_time": "2021-08-31T12:42:40.582Z"
   },
   {
    "duration": 18,
    "start_time": "2021-08-31T12:42:47.290Z"
   },
   {
    "duration": 17,
    "start_time": "2021-08-31T12:42:57.843Z"
   },
   {
    "duration": 63,
    "start_time": "2021-08-31T12:43:01.272Z"
   },
   {
    "duration": 60,
    "start_time": "2021-08-31T12:44:55.321Z"
   },
   {
    "duration": 9,
    "start_time": "2021-08-31T12:45:46.864Z"
   },
   {
    "duration": 7,
    "start_time": "2021-08-31T12:47:41.118Z"
   },
   {
    "duration": 4,
    "start_time": "2021-08-31T12:47:56.318Z"
   },
   {
    "duration": 94,
    "start_time": "2021-08-31T12:47:56.325Z"
   },
   {
    "duration": 10,
    "start_time": "2021-08-31T12:47:56.422Z"
   },
   {
    "duration": 105,
    "start_time": "2021-08-31T12:47:56.435Z"
   },
   {
    "duration": 4,
    "start_time": "2021-08-31T12:47:56.542Z"
   },
   {
    "duration": 44,
    "start_time": "2021-08-31T12:47:56.548Z"
   },
   {
    "duration": 31,
    "start_time": "2021-08-31T12:47:56.594Z"
   },
   {
    "duration": 16,
    "start_time": "2021-08-31T12:47:56.628Z"
   },
   {
    "duration": 69,
    "start_time": "2021-08-31T12:47:56.649Z"
   },
   {
    "duration": 14,
    "start_time": "2021-08-31T12:47:56.721Z"
   },
   {
    "duration": 127,
    "start_time": "2021-08-31T12:47:56.737Z"
   },
   {
    "duration": 11,
    "start_time": "2021-08-31T12:47:56.867Z"
   },
   {
    "duration": 41,
    "start_time": "2021-08-31T12:47:56.881Z"
   },
   {
    "duration": 15,
    "start_time": "2021-08-31T12:47:56.925Z"
   },
   {
    "duration": 9,
    "start_time": "2021-08-31T12:47:56.943Z"
   },
   {
    "duration": 18,
    "start_time": "2021-08-31T12:47:56.955Z"
   },
   {
    "duration": 14,
    "start_time": "2021-08-31T12:47:57.015Z"
   },
   {
    "duration": 11,
    "start_time": "2021-08-31T12:47:57.031Z"
   },
   {
    "duration": 24,
    "start_time": "2021-08-31T12:47:57.045Z"
   },
   {
    "duration": 67,
    "start_time": "2021-08-31T12:47:57.072Z"
   },
   {
    "duration": 8,
    "start_time": "2021-08-31T12:47:57.142Z"
   },
   {
    "duration": 26,
    "start_time": "2021-08-31T12:47:57.153Z"
   },
   {
    "duration": 6,
    "start_time": "2021-08-31T12:47:57.181Z"
   },
   {
    "duration": 26,
    "start_time": "2021-08-31T12:47:57.217Z"
   },
   {
    "duration": 6,
    "start_time": "2021-08-31T12:47:57.245Z"
   },
   {
    "duration": 74,
    "start_time": "2021-08-31T12:47:57.254Z"
   },
   {
    "duration": 576,
    "start_time": "2021-08-31T12:47:57.334Z"
   },
   {
    "duration": 3833,
    "start_time": "2021-08-31T12:47:57.917Z"
   },
   {
    "duration": 348,
    "start_time": "2021-08-31T12:48:01.753Z"
   },
   {
    "duration": 66,
    "start_time": "2021-08-31T12:48:02.116Z"
   },
   {
    "duration": 570,
    "start_time": "2021-08-31T12:48:02.184Z"
   },
   {
    "duration": 39,
    "start_time": "2021-08-31T12:48:02.756Z"
   },
   {
    "duration": 5070,
    "start_time": "2021-08-31T12:48:02.798Z"
   },
   {
    "duration": 1458,
    "start_time": "2021-08-31T12:48:07.870Z"
   },
   {
    "duration": 6,
    "start_time": "2021-08-31T12:48:09.330Z"
   },
   {
    "duration": 19,
    "start_time": "2021-08-31T12:48:09.338Z"
   },
   {
    "duration": 13,
    "start_time": "2021-08-31T12:48:09.359Z"
   },
   {
    "duration": 646,
    "start_time": "2021-08-31T12:48:09.375Z"
   },
   {
    "duration": 16,
    "start_time": "2021-08-31T12:48:10.024Z"
   },
   {
    "duration": 22,
    "start_time": "2021-08-31T12:48:10.043Z"
   },
   {
    "duration": 596,
    "start_time": "2021-08-31T12:48:10.068Z"
   },
   {
    "duration": 561,
    "start_time": "2021-08-31T12:49:18.523Z"
   },
   {
    "duration": 300,
    "start_time": "2021-08-31T12:49:43.258Z"
   },
   {
    "duration": 1812,
    "start_time": "2021-08-31T12:49:57.749Z"
   },
   {
    "duration": 315,
    "start_time": "2021-08-31T12:53:07.815Z"
   },
   {
    "duration": 179,
    "start_time": "2021-08-31T12:53:09.741Z"
   },
   {
    "duration": 9,
    "start_time": "2021-08-31T12:53:14.957Z"
   },
   {
    "duration": 4731,
    "start_time": "2021-08-31T12:53:16.919Z"
   },
   {
    "duration": 606,
    "start_time": "2021-08-31T12:53:54.813Z"
   },
   {
    "duration": 3,
    "start_time": "2021-08-31T12:54:25.768Z"
   },
   {
    "duration": 79,
    "start_time": "2021-08-31T12:54:25.774Z"
   },
   {
    "duration": 9,
    "start_time": "2021-08-31T12:54:25.856Z"
   },
   {
    "duration": 101,
    "start_time": "2021-08-31T12:54:25.867Z"
   },
   {
    "duration": 3,
    "start_time": "2021-08-31T12:54:25.970Z"
   },
   {
    "duration": 55,
    "start_time": "2021-08-31T12:54:25.976Z"
   },
   {
    "duration": 17,
    "start_time": "2021-08-31T12:54:26.034Z"
   },
   {
    "duration": 13,
    "start_time": "2021-08-31T12:54:26.055Z"
   },
   {
    "duration": 72,
    "start_time": "2021-08-31T12:54:26.071Z"
   },
   {
    "duration": 13,
    "start_time": "2021-08-31T12:54:26.146Z"
   },
   {
    "duration": 137,
    "start_time": "2021-08-31T12:54:26.162Z"
   },
   {
    "duration": 19,
    "start_time": "2021-08-31T12:54:26.301Z"
   },
   {
    "duration": 12,
    "start_time": "2021-08-31T12:54:26.322Z"
   },
   {
    "duration": 13,
    "start_time": "2021-08-31T12:54:26.336Z"
   },
   {
    "duration": 7,
    "start_time": "2021-08-31T12:54:26.351Z"
   },
   {
    "duration": 58,
    "start_time": "2021-08-31T12:54:26.360Z"
   },
   {
    "duration": 12,
    "start_time": "2021-08-31T12:54:26.421Z"
   },
   {
    "duration": 8,
    "start_time": "2021-08-31T12:54:26.436Z"
   },
   {
    "duration": 16,
    "start_time": "2021-08-31T12:54:26.447Z"
   },
   {
    "duration": 84,
    "start_time": "2021-08-31T12:54:26.466Z"
   },
   {
    "duration": 8,
    "start_time": "2021-08-31T12:54:26.553Z"
   },
   {
    "duration": 21,
    "start_time": "2021-08-31T12:54:26.563Z"
   },
   {
    "duration": 26,
    "start_time": "2021-08-31T12:54:26.590Z"
   },
   {
    "duration": 32,
    "start_time": "2021-08-31T12:54:26.620Z"
   },
   {
    "duration": 8,
    "start_time": "2021-08-31T12:54:26.655Z"
   },
   {
    "duration": 88,
    "start_time": "2021-08-31T12:54:26.666Z"
   },
   {
    "duration": 578,
    "start_time": "2021-08-31T12:54:26.756Z"
   },
   {
    "duration": 3202,
    "start_time": "2021-08-31T12:54:27.336Z"
   },
   {
    "duration": 347,
    "start_time": "2021-08-31T12:54:30.540Z"
   },
   {
    "duration": 86,
    "start_time": "2021-08-31T12:54:30.889Z"
   },
   {
    "duration": 481,
    "start_time": "2021-08-31T12:54:30.978Z"
   },
   {
    "duration": 40,
    "start_time": "2021-08-31T12:54:31.461Z"
   },
   {
    "duration": 17,
    "start_time": "2021-08-31T12:54:31.517Z"
   },
   {
    "duration": 5292,
    "start_time": "2021-08-31T12:54:31.536Z"
   },
   {
    "duration": 1435,
    "start_time": "2021-08-31T12:54:36.830Z"
   },
   {
    "duration": 6,
    "start_time": "2021-08-31T12:54:38.268Z"
   },
   {
    "duration": 10,
    "start_time": "2021-08-31T12:54:38.276Z"
   },
   {
    "duration": 584,
    "start_time": "2021-08-31T12:54:38.288Z"
   },
   {
    "duration": 18,
    "start_time": "2021-08-31T12:54:38.875Z"
   },
   {
    "duration": 17,
    "start_time": "2021-08-31T12:54:38.915Z"
   },
   {
    "duration": 605,
    "start_time": "2021-08-31T12:54:38.935Z"
   },
   {
    "duration": 605,
    "start_time": "2021-08-31T18:38:11.168Z"
   },
   {
    "duration": 556,
    "start_time": "2021-08-31T18:38:19.411Z"
   },
   {
    "duration": 589,
    "start_time": "2021-08-31T18:38:29.368Z"
   },
   {
    "duration": 599,
    "start_time": "2021-08-31T18:38:37.047Z"
   },
   {
    "duration": 820,
    "start_time": "2021-08-31T18:42:00.889Z"
   },
   {
    "duration": 14,
    "start_time": "2021-08-31T18:43:37.795Z"
   },
   {
    "duration": 795,
    "start_time": "2021-08-31T18:47:53.216Z"
   },
   {
    "duration": 770,
    "start_time": "2021-08-31T18:48:21.349Z"
   },
   {
    "duration": 9,
    "start_time": "2021-08-31T18:49:50.033Z"
   },
   {
    "duration": 49,
    "start_time": "2021-08-31T18:54:25.712Z"
   },
   {
    "duration": 7963,
    "start_time": "2021-08-31T18:55:42.830Z"
   },
   {
    "duration": 446,
    "start_time": "2021-08-31T18:56:09.932Z"
   },
   {
    "duration": 478,
    "start_time": "2021-08-31T18:58:45.821Z"
   },
   {
    "duration": 798,
    "start_time": "2021-08-31T19:01:58.672Z"
   },
   {
    "duration": 759,
    "start_time": "2021-08-31T19:04:48.527Z"
   },
   {
    "duration": 754,
    "start_time": "2021-08-31T19:06:27.684Z"
   },
   {
    "duration": 785,
    "start_time": "2021-08-31T19:06:44.052Z"
   },
   {
    "duration": 14,
    "start_time": "2021-08-31T19:11:42.686Z"
   },
   {
    "duration": 523,
    "start_time": "2021-08-31T19:11:56.392Z"
   },
   {
    "duration": 36,
    "start_time": "2021-08-31T19:17:15.122Z"
   },
   {
    "duration": 36,
    "start_time": "2021-08-31T19:19:42.493Z"
   },
   {
    "duration": 15,
    "start_time": "2021-08-31T19:19:56.244Z"
   },
   {
    "duration": 2350,
    "start_time": "2021-08-31T19:22:09.069Z"
   },
   {
    "duration": 2362,
    "start_time": "2021-08-31T19:22:51.144Z"
   },
   {
    "duration": 2339,
    "start_time": "2021-08-31T19:23:01.752Z"
   },
   {
    "duration": 16,
    "start_time": "2021-08-31T19:33:04.984Z"
   },
   {
    "duration": 52,
    "start_time": "2021-08-31T19:33:15.525Z"
   },
   {
    "duration": 4,
    "start_time": "2021-08-31T19:33:37.765Z"
   },
   {
    "duration": 84,
    "start_time": "2021-08-31T19:33:37.772Z"
   },
   {
    "duration": 9,
    "start_time": "2021-08-31T19:33:37.860Z"
   },
   {
    "duration": 105,
    "start_time": "2021-08-31T19:33:37.872Z"
   },
   {
    "duration": 4,
    "start_time": "2021-08-31T19:33:37.979Z"
   },
   {
    "duration": 67,
    "start_time": "2021-08-31T19:33:37.985Z"
   },
   {
    "duration": 16,
    "start_time": "2021-08-31T19:33:38.055Z"
   },
   {
    "duration": 47,
    "start_time": "2021-08-31T19:33:38.074Z"
   },
   {
    "duration": 45,
    "start_time": "2021-08-31T19:33:38.123Z"
   },
   {
    "duration": 14,
    "start_time": "2021-08-31T19:33:38.173Z"
   },
   {
    "duration": 131,
    "start_time": "2021-08-31T19:33:38.216Z"
   },
   {
    "duration": 9,
    "start_time": "2021-08-31T19:33:38.349Z"
   },
   {
    "duration": 14,
    "start_time": "2021-08-31T19:33:38.361Z"
   },
   {
    "duration": 43,
    "start_time": "2021-08-31T19:33:38.378Z"
   },
   {
    "duration": 10,
    "start_time": "2021-08-31T19:33:38.423Z"
   },
   {
    "duration": 16,
    "start_time": "2021-08-31T19:33:38.438Z"
   },
   {
    "duration": 12,
    "start_time": "2021-08-31T19:33:38.457Z"
   },
   {
    "duration": 48,
    "start_time": "2021-08-31T19:33:38.472Z"
   },
   {
    "duration": 16,
    "start_time": "2021-08-31T19:33:38.529Z"
   },
   {
    "duration": 77,
    "start_time": "2021-08-31T19:33:38.549Z"
   },
   {
    "duration": 9,
    "start_time": "2021-08-31T19:33:38.629Z"
   },
   {
    "duration": 23,
    "start_time": "2021-08-31T19:33:38.642Z"
   },
   {
    "duration": 5,
    "start_time": "2021-08-31T19:33:38.667Z"
   },
   {
    "duration": 69,
    "start_time": "2021-08-31T19:33:38.675Z"
   },
   {
    "duration": 6,
    "start_time": "2021-08-31T19:33:38.747Z"
   },
   {
    "duration": 77,
    "start_time": "2021-08-31T19:33:38.756Z"
   },
   {
    "duration": 619,
    "start_time": "2021-08-31T19:33:38.835Z"
   },
   {
    "duration": 3291,
    "start_time": "2021-08-31T19:33:39.456Z"
   },
   {
    "duration": 374,
    "start_time": "2021-08-31T19:33:42.749Z"
   },
   {
    "duration": 65,
    "start_time": "2021-08-31T19:33:43.128Z"
   },
   {
    "duration": 484,
    "start_time": "2021-08-31T19:33:43.196Z"
   },
   {
    "duration": 49,
    "start_time": "2021-08-31T19:33:43.682Z"
   },
   {
    "duration": 11,
    "start_time": "2021-08-31T19:33:43.734Z"
   },
   {
    "duration": 5952,
    "start_time": "2021-08-31T19:33:43.748Z"
   },
   {
    "duration": 1538,
    "start_time": "2021-08-31T19:33:49.703Z"
   },
   {
    "duration": 6,
    "start_time": "2021-08-31T19:33:51.244Z"
   },
   {
    "duration": 11,
    "start_time": "2021-08-31T19:33:51.253Z"
   },
   {
    "duration": 743,
    "start_time": "2021-08-31T19:33:51.267Z"
   },
   {
    "duration": 20,
    "start_time": "2021-08-31T19:33:52.013Z"
   },
   {
    "duration": 15,
    "start_time": "2021-08-31T19:33:52.035Z"
   },
   {
    "duration": 613,
    "start_time": "2021-08-31T19:33:52.052Z"
   },
   {
    "duration": 796,
    "start_time": "2021-08-31T19:33:52.667Z"
   },
   {
    "duration": 487,
    "start_time": "2021-08-31T19:33:53.465Z"
   },
   {
    "duration": 749,
    "start_time": "2021-08-31T19:33:53.954Z"
   },
   {
    "duration": 38,
    "start_time": "2021-08-31T19:33:54.705Z"
   },
   {
    "duration": 14,
    "start_time": "2021-08-31T19:33:54.746Z"
   },
   {
    "duration": 8739,
    "start_time": "2021-08-31T19:33:54.764Z"
   },
   {
    "duration": 35,
    "start_time": "2021-08-31T19:37:59.023Z"
   },
   {
    "duration": 54,
    "start_time": "2021-08-31T19:38:05.353Z"
   },
   {
    "duration": 4,
    "start_time": "2021-08-31T19:38:21.912Z"
   },
   {
    "duration": 98,
    "start_time": "2021-08-31T19:38:21.920Z"
   },
   {
    "duration": 13,
    "start_time": "2021-08-31T19:38:22.022Z"
   },
   {
    "duration": 132,
    "start_time": "2021-08-31T19:38:22.038Z"
   },
   {
    "duration": 4,
    "start_time": "2021-08-31T19:38:22.172Z"
   },
   {
    "duration": 60,
    "start_time": "2021-08-31T19:38:22.178Z"
   },
   {
    "duration": 15,
    "start_time": "2021-08-31T19:38:22.243Z"
   },
   {
    "duration": 14,
    "start_time": "2021-08-31T19:38:22.261Z"
   },
   {
    "duration": 81,
    "start_time": "2021-08-31T19:38:22.278Z"
   },
   {
    "duration": 15,
    "start_time": "2021-08-31T19:38:22.361Z"
   },
   {
    "duration": 157,
    "start_time": "2021-08-31T19:38:22.379Z"
   },
   {
    "duration": 10,
    "start_time": "2021-08-31T19:38:22.538Z"
   },
   {
    "duration": 21,
    "start_time": "2021-08-31T19:38:22.550Z"
   },
   {
    "duration": 26,
    "start_time": "2021-08-31T19:38:22.574Z"
   },
   {
    "duration": 24,
    "start_time": "2021-08-31T19:38:22.602Z"
   },
   {
    "duration": 28,
    "start_time": "2021-08-31T19:38:22.629Z"
   },
   {
    "duration": 12,
    "start_time": "2021-08-31T19:38:22.659Z"
   },
   {
    "duration": 12,
    "start_time": "2021-08-31T19:38:22.673Z"
   },
   {
    "duration": 20,
    "start_time": "2021-08-31T19:38:22.721Z"
   },
   {
    "duration": 41,
    "start_time": "2021-08-31T19:38:22.744Z"
   },
   {
    "duration": 34,
    "start_time": "2021-08-31T19:38:22.787Z"
   },
   {
    "duration": 34,
    "start_time": "2021-08-31T19:38:22.825Z"
   },
   {
    "duration": 4,
    "start_time": "2021-08-31T19:38:22.862Z"
   },
   {
    "duration": 63,
    "start_time": "2021-08-31T19:38:22.869Z"
   },
   {
    "duration": 9,
    "start_time": "2021-08-31T19:38:22.935Z"
   },
   {
    "duration": 73,
    "start_time": "2021-08-31T19:38:22.947Z"
   },
   {
    "duration": 694,
    "start_time": "2021-08-31T19:38:23.022Z"
   },
   {
    "duration": 3420,
    "start_time": "2021-08-31T19:38:23.720Z"
   },
   {
    "duration": 362,
    "start_time": "2021-08-31T19:38:27.142Z"
   },
   {
    "duration": 78,
    "start_time": "2021-08-31T19:38:27.506Z"
   },
   {
    "duration": 489,
    "start_time": "2021-08-31T19:38:27.587Z"
   },
   {
    "duration": 54,
    "start_time": "2021-08-31T19:38:28.079Z"
   },
   {
    "duration": 12,
    "start_time": "2021-08-31T19:38:28.137Z"
   },
   {
    "duration": 4940,
    "start_time": "2021-08-31T19:38:28.151Z"
   },
   {
    "duration": 1526,
    "start_time": "2021-08-31T19:38:33.094Z"
   },
   {
    "duration": 8,
    "start_time": "2021-08-31T19:38:34.623Z"
   },
   {
    "duration": 23,
    "start_time": "2021-08-31T19:38:34.634Z"
   },
   {
    "duration": 623,
    "start_time": "2021-08-31T19:38:34.659Z"
   },
   {
    "duration": 15,
    "start_time": "2021-08-31T19:38:35.285Z"
   },
   {
    "duration": 31,
    "start_time": "2021-08-31T19:38:35.302Z"
   },
   {
    "duration": 620,
    "start_time": "2021-08-31T19:38:35.335Z"
   },
   {
    "duration": 775,
    "start_time": "2021-08-31T19:38:35.957Z"
   },
   {
    "duration": 462,
    "start_time": "2021-08-31T19:38:36.734Z"
   },
   {
    "duration": 788,
    "start_time": "2021-08-31T19:38:37.199Z"
   },
   {
    "duration": 46,
    "start_time": "2021-08-31T19:38:37.989Z"
   },
   {
    "duration": 18,
    "start_time": "2021-08-31T19:38:38.038Z"
   },
   {
    "duration": 8086,
    "start_time": "2021-08-31T19:38:38.058Z"
   },
   {
    "duration": 3,
    "start_time": "2021-08-31T19:40:20.296Z"
   },
   {
    "duration": 89,
    "start_time": "2021-08-31T19:40:20.302Z"
   },
   {
    "duration": 8,
    "start_time": "2021-08-31T19:40:20.394Z"
   },
   {
    "duration": 130,
    "start_time": "2021-08-31T19:40:20.405Z"
   },
   {
    "duration": 4,
    "start_time": "2021-08-31T19:40:20.537Z"
   },
   {
    "duration": 39,
    "start_time": "2021-08-31T19:40:20.543Z"
   },
   {
    "duration": 38,
    "start_time": "2021-08-31T19:40:20.586Z"
   },
   {
    "duration": 16,
    "start_time": "2021-08-31T19:40:20.628Z"
   },
   {
    "duration": 40,
    "start_time": "2021-08-31T19:40:20.647Z"
   },
   {
    "duration": 18,
    "start_time": "2021-08-31T19:40:20.717Z"
   },
   {
    "duration": 139,
    "start_time": "2021-08-31T19:40:20.738Z"
   },
   {
    "duration": 10,
    "start_time": "2021-08-31T19:40:20.880Z"
   },
   {
    "duration": 36,
    "start_time": "2021-08-31T19:40:20.892Z"
   },
   {
    "duration": 14,
    "start_time": "2021-08-31T19:40:20.931Z"
   },
   {
    "duration": 7,
    "start_time": "2021-08-31T19:40:20.948Z"
   },
   {
    "duration": 14,
    "start_time": "2021-08-31T19:40:20.958Z"
   },
   {
    "duration": 58,
    "start_time": "2021-08-31T19:40:20.975Z"
   },
   {
    "duration": 7,
    "start_time": "2021-08-31T19:40:21.036Z"
   },
   {
    "duration": 13,
    "start_time": "2021-08-31T19:40:21.051Z"
   },
   {
    "duration": 84,
    "start_time": "2021-08-31T19:40:21.068Z"
   },
   {
    "duration": 8,
    "start_time": "2021-08-31T19:40:21.155Z"
   },
   {
    "duration": 73,
    "start_time": "2021-08-31T19:40:21.166Z"
   },
   {
    "duration": 6,
    "start_time": "2021-08-31T19:40:21.242Z"
   },
   {
    "duration": 31,
    "start_time": "2021-08-31T19:40:21.250Z"
   },
   {
    "duration": 35,
    "start_time": "2021-08-31T19:40:21.283Z"
   },
   {
    "duration": 59,
    "start_time": "2021-08-31T19:40:21.321Z"
   },
   {
    "duration": 622,
    "start_time": "2021-08-31T19:40:21.382Z"
   },
   {
    "duration": 4697,
    "start_time": "2021-08-31T19:40:22.006Z"
   },
   {
    "duration": 375,
    "start_time": "2021-08-31T19:40:26.705Z"
   },
   {
    "duration": 85,
    "start_time": "2021-08-31T19:40:27.083Z"
   },
   {
    "duration": 480,
    "start_time": "2021-08-31T19:40:27.170Z"
   },
   {
    "duration": 40,
    "start_time": "2021-08-31T19:40:27.652Z"
   },
   {
    "duration": 26,
    "start_time": "2021-08-31T19:40:27.694Z"
   },
   {
    "duration": 4848,
    "start_time": "2021-08-31T19:40:27.723Z"
   },
   {
    "duration": 1574,
    "start_time": "2021-08-31T19:40:32.574Z"
   },
   {
    "duration": 6,
    "start_time": "2021-08-31T19:40:34.150Z"
   },
   {
    "duration": 27,
    "start_time": "2021-08-31T19:40:34.159Z"
   },
   {
    "duration": 731,
    "start_time": "2021-08-31T19:40:34.189Z"
   },
   {
    "duration": 25,
    "start_time": "2021-08-31T19:40:34.923Z"
   },
   {
    "duration": 18,
    "start_time": "2021-08-31T19:40:34.952Z"
   },
   {
    "duration": 653,
    "start_time": "2021-08-31T19:40:34.973Z"
   },
   {
    "duration": 783,
    "start_time": "2021-08-31T19:40:35.630Z"
   },
   {
    "duration": 462,
    "start_time": "2021-08-31T19:40:36.416Z"
   },
   {
    "duration": 779,
    "start_time": "2021-08-31T19:40:36.880Z"
   },
   {
    "duration": 29,
    "start_time": "2021-08-31T19:40:37.662Z"
   },
   {
    "duration": 39,
    "start_time": "2021-08-31T19:40:37.694Z"
   },
   {
    "duration": 8874,
    "start_time": "2021-08-31T19:40:37.736Z"
   },
   {
    "duration": 2326,
    "start_time": "2021-08-31T19:41:06.143Z"
   },
   {
    "duration": 395,
    "start_time": "2021-08-31T19:46:43.358Z"
   },
   {
    "duration": 434,
    "start_time": "2021-08-31T19:46:56.155Z"
   },
   {
    "duration": 424,
    "start_time": "2021-08-31T19:51:08.916Z"
   },
   {
    "duration": 450,
    "start_time": "2021-08-31T19:51:27.941Z"
   },
   {
    "duration": 315,
    "start_time": "2021-08-31T19:53:15.036Z"
   },
   {
    "duration": 335,
    "start_time": "2021-08-31T19:53:40.025Z"
   },
   {
    "duration": 360,
    "start_time": "2021-08-31T19:53:57.574Z"
   },
   {
    "duration": 455,
    "start_time": "2021-08-31T19:54:21.096Z"
   },
   {
    "duration": 361,
    "start_time": "2021-08-31T19:56:59.619Z"
   },
   {
    "duration": 9399,
    "start_time": "2021-08-31T19:57:22.465Z"
   },
   {
    "duration": 350,
    "start_time": "2021-08-31T19:58:02.004Z"
   },
   {
    "duration": 9,
    "start_time": "2021-08-31T19:59:11.013Z"
   },
   {
    "duration": 316,
    "start_time": "2021-08-31T20:01:02.934Z"
   },
   {
    "duration": 18,
    "start_time": "2021-08-31T20:08:56.358Z"
   },
   {
    "duration": 9746,
    "start_time": "2021-08-31T20:09:13.927Z"
   },
   {
    "duration": 13,
    "start_time": "2021-08-31T20:09:33.327Z"
   },
   {
    "duration": 16,
    "start_time": "2021-08-31T20:09:42.052Z"
   },
   {
    "duration": 11,
    "start_time": "2021-08-31T20:10:14.719Z"
   },
   {
    "duration": 11,
    "start_time": "2021-08-31T20:10:21.976Z"
   },
   {
    "duration": 11,
    "start_time": "2021-08-31T20:10:33.158Z"
   },
   {
    "duration": 10,
    "start_time": "2021-08-31T20:11:16.869Z"
   },
   {
    "duration": 8,
    "start_time": "2021-08-31T20:12:15.110Z"
   },
   {
    "duration": 321,
    "start_time": "2021-08-31T20:12:28.549Z"
   },
   {
    "duration": 330,
    "start_time": "2021-08-31T20:12:37.324Z"
   },
   {
    "duration": 9,
    "start_time": "2021-08-31T20:13:09.606Z"
   },
   {
    "duration": 20,
    "start_time": "2021-08-31T20:13:58.603Z"
   },
   {
    "duration": 333,
    "start_time": "2021-08-31T20:15:09.129Z"
   },
   {
    "duration": 350,
    "start_time": "2021-08-31T20:15:25.723Z"
   },
   {
    "duration": 338,
    "start_time": "2021-08-31T20:17:46.040Z"
   },
   {
    "duration": 9,
    "start_time": "2021-08-31T20:17:48.972Z"
   },
   {
    "duration": 9,
    "start_time": "2021-08-31T20:18:09.848Z"
   },
   {
    "duration": 9,
    "start_time": "2021-08-31T20:18:15.492Z"
   },
   {
    "duration": 13,
    "start_time": "2021-08-31T20:19:13.594Z"
   },
   {
    "duration": 13,
    "start_time": "2021-08-31T20:19:16.577Z"
   },
   {
    "duration": 13,
    "start_time": "2021-08-31T20:19:28.400Z"
   },
   {
    "duration": 14,
    "start_time": "2021-08-31T20:19:40.036Z"
   },
   {
    "duration": 9,
    "start_time": "2021-08-31T20:19:42.243Z"
   },
   {
    "duration": 45,
    "start_time": "2021-08-31T20:22:49.336Z"
   },
   {
    "duration": 51,
    "start_time": "2021-08-31T20:23:50.486Z"
   },
   {
    "duration": 48,
    "start_time": "2021-08-31T20:25:08.241Z"
   },
   {
    "duration": 323,
    "start_time": "2021-09-01T20:07:00.690Z"
   },
   {
    "duration": 42,
    "start_time": "2021-09-01T20:07:14.263Z"
   },
   {
    "duration": 25,
    "start_time": "2021-09-01T20:07:27.952Z"
   },
   {
    "duration": 23,
    "start_time": "2021-09-01T20:07:33.718Z"
   },
   {
    "duration": 47,
    "start_time": "2021-09-01T20:09:23.201Z"
   },
   {
    "duration": 130,
    "start_time": "2021-09-01T20:16:50.674Z"
   },
   {
    "duration": 107,
    "start_time": "2021-09-01T20:17:32.432Z"
   },
   {
    "duration": 102,
    "start_time": "2021-09-01T20:17:38.814Z"
   },
   {
    "duration": 33,
    "start_time": "2021-09-01T20:17:44.255Z"
   },
   {
    "duration": 4,
    "start_time": "2021-09-01T20:18:11.071Z"
   },
   {
    "duration": 83,
    "start_time": "2021-09-01T20:18:11.077Z"
   },
   {
    "duration": 9,
    "start_time": "2021-09-01T20:18:11.164Z"
   },
   {
    "duration": 112,
    "start_time": "2021-09-01T20:18:11.177Z"
   },
   {
    "duration": 5,
    "start_time": "2021-09-01T20:18:11.291Z"
   },
   {
    "duration": 39,
    "start_time": "2021-09-01T20:18:11.316Z"
   },
   {
    "duration": 25,
    "start_time": "2021-09-01T20:18:11.361Z"
   },
   {
    "duration": 41,
    "start_time": "2021-09-01T20:18:11.389Z"
   },
   {
    "duration": 54,
    "start_time": "2021-09-01T20:18:11.433Z"
   },
   {
    "duration": 346,
    "start_time": "2021-09-01T20:18:11.517Z"
   },
   {
    "duration": 652,
    "start_time": "2021-09-01T20:18:11.215Z"
   },
   {
    "duration": 638,
    "start_time": "2021-09-01T20:18:11.231Z"
   },
   {
    "duration": 478,
    "start_time": "2021-09-01T20:18:11.392Z"
   },
   {
    "duration": 475,
    "start_time": "2021-09-01T20:18:11.396Z"
   },
   {
    "duration": 473,
    "start_time": "2021-09-01T20:18:11.400Z"
   },
   {
    "duration": 466,
    "start_time": "2021-09-01T20:18:11.408Z"
   },
   {
    "duration": 463,
    "start_time": "2021-09-01T20:18:11.412Z"
   },
   {
    "duration": 460,
    "start_time": "2021-09-01T20:18:11.416Z"
   },
   {
    "duration": 456,
    "start_time": "2021-09-01T20:18:11.422Z"
   },
   {
    "duration": 453,
    "start_time": "2021-09-01T20:18:11.426Z"
   },
   {
    "duration": 437,
    "start_time": "2021-09-01T20:18:11.443Z"
   },
   {
    "duration": 431,
    "start_time": "2021-09-01T20:18:11.450Z"
   },
   {
    "duration": 425,
    "start_time": "2021-09-01T20:18:11.458Z"
   },
   {
    "duration": 422,
    "start_time": "2021-09-01T20:18:11.462Z"
   },
   {
    "duration": 418,
    "start_time": "2021-09-01T20:18:11.467Z"
   },
   {
    "duration": 415,
    "start_time": "2021-09-01T20:18:11.471Z"
   },
   {
    "duration": 412,
    "start_time": "2021-09-01T20:18:11.476Z"
   },
   {
    "duration": 410,
    "start_time": "2021-09-01T20:18:11.479Z"
   },
   {
    "duration": 406,
    "start_time": "2021-09-01T20:18:11.484Z"
   },
   {
    "duration": 313,
    "start_time": "2021-09-01T20:18:11.578Z"
   },
   {
    "duration": 295,
    "start_time": "2021-09-01T20:18:11.598Z"
   },
   {
    "duration": 292,
    "start_time": "2021-09-01T20:18:11.602Z"
   },
   {
    "duration": 289,
    "start_time": "2021-09-01T20:18:11.606Z"
   },
   {
    "duration": 288,
    "start_time": "2021-09-01T20:18:11.609Z"
   },
   {
    "duration": 285,
    "start_time": "2021-09-01T20:18:11.613Z"
   },
   {
    "duration": 282,
    "start_time": "2021-09-01T20:18:11.617Z"
   },
   {
    "duration": 279,
    "start_time": "2021-09-01T20:18:11.621Z"
   },
   {
    "duration": 277,
    "start_time": "2021-09-01T20:18:11.625Z"
   },
   {
    "duration": 275,
    "start_time": "2021-09-01T20:18:11.628Z"
   },
   {
    "duration": 272,
    "start_time": "2021-09-01T20:18:11.632Z"
   },
   {
    "duration": 267,
    "start_time": "2021-09-01T20:18:11.638Z"
   },
   {
    "duration": 213,
    "start_time": "2021-09-01T20:18:11.693Z"
   },
   {
    "duration": 219,
    "start_time": "2021-09-01T20:18:11.697Z"
   },
   {
    "duration": 216,
    "start_time": "2021-09-01T20:18:11.701Z"
   },
   {
    "duration": 212,
    "start_time": "2021-09-01T20:18:11.706Z"
   },
   {
    "duration": 209,
    "start_time": "2021-09-01T20:18:11.710Z"
   },
   {
    "duration": 207,
    "start_time": "2021-09-01T20:18:11.714Z"
   },
   {
    "duration": 204,
    "start_time": "2021-09-01T20:18:11.718Z"
   },
   {
    "duration": 201,
    "start_time": "2021-09-01T20:18:11.722Z"
   },
   {
    "duration": 200,
    "start_time": "2021-09-01T20:18:11.725Z"
   },
   {
    "duration": 197,
    "start_time": "2021-09-01T20:18:11.729Z"
   },
   {
    "duration": 195,
    "start_time": "2021-09-01T20:18:11.733Z"
   },
   {
    "duration": 192,
    "start_time": "2021-09-01T20:18:11.737Z"
   },
   {
    "duration": 189,
    "start_time": "2021-09-01T20:18:11.741Z"
   },
   {
    "duration": 187,
    "start_time": "2021-09-01T20:18:11.745Z"
   },
   {
    "duration": 27,
    "start_time": "2021-09-01T20:18:20.901Z"
   },
   {
    "duration": 25,
    "start_time": "2021-09-01T20:20:57.213Z"
   },
   {
    "duration": 27,
    "start_time": "2021-09-01T20:21:39.746Z"
   },
   {
    "duration": 26,
    "start_time": "2021-09-01T20:21:44.291Z"
   },
   {
    "duration": 4,
    "start_time": "2021-09-01T20:22:19.106Z"
   },
   {
    "duration": 90,
    "start_time": "2021-09-01T20:22:19.112Z"
   },
   {
    "duration": 13,
    "start_time": "2021-09-01T20:22:19.205Z"
   },
   {
    "duration": 110,
    "start_time": "2021-09-01T20:22:19.220Z"
   },
   {
    "duration": 3,
    "start_time": "2021-09-01T20:22:19.332Z"
   },
   {
    "duration": 40,
    "start_time": "2021-09-01T20:22:19.338Z"
   },
   {
    "duration": 36,
    "start_time": "2021-09-01T20:22:19.381Z"
   },
   {
    "duration": 13,
    "start_time": "2021-09-01T20:22:19.420Z"
   },
   {
    "duration": 41,
    "start_time": "2021-09-01T20:22:19.435Z"
   },
   {
    "duration": 314,
    "start_time": "2021-09-01T20:22:19.478Z"
   },
   {
    "duration": 547,
    "start_time": "2021-09-01T20:22:19.250Z"
   },
   {
    "duration": 542,
    "start_time": "2021-09-01T20:22:19.256Z"
   },
   {
    "duration": 540,
    "start_time": "2021-09-01T20:22:19.260Z"
   },
   {
    "duration": 538,
    "start_time": "2021-09-01T20:22:19.264Z"
   },
   {
    "duration": 535,
    "start_time": "2021-09-01T20:22:19.268Z"
   },
   {
    "duration": 526,
    "start_time": "2021-09-01T20:22:19.279Z"
   },
   {
    "duration": 523,
    "start_time": "2021-09-01T20:22:19.283Z"
   },
   {
    "duration": 518,
    "start_time": "2021-09-01T20:22:19.289Z"
   },
   {
    "duration": 516,
    "start_time": "2021-09-01T20:22:19.293Z"
   },
   {
    "duration": 513,
    "start_time": "2021-09-01T20:22:19.298Z"
   },
   {
    "duration": 510,
    "start_time": "2021-09-01T20:22:19.302Z"
   },
   {
    "duration": 508,
    "start_time": "2021-09-01T20:22:19.306Z"
   },
   {
    "duration": 506,
    "start_time": "2021-09-01T20:22:19.310Z"
   },
   {
    "duration": 504,
    "start_time": "2021-09-01T20:22:19.314Z"
   },
   {
    "duration": 502,
    "start_time": "2021-09-01T20:22:19.318Z"
   },
   {
    "duration": 500,
    "start_time": "2021-09-01T20:22:19.322Z"
   },
   {
    "duration": 490,
    "start_time": "2021-09-01T20:22:19.334Z"
   },
   {
    "duration": 482,
    "start_time": "2021-09-01T20:22:19.344Z"
   },
   {
    "duration": 480,
    "start_time": "2021-09-01T20:22:19.348Z"
   },
   {
    "duration": 479,
    "start_time": "2021-09-01T20:22:19.352Z"
   },
   {
    "duration": 474,
    "start_time": "2021-09-01T20:22:19.359Z"
   },
   {
    "duration": 474,
    "start_time": "2021-09-01T20:22:19.362Z"
   },
   {
    "duration": 472,
    "start_time": "2021-09-01T20:22:19.366Z"
   },
   {
    "duration": 469,
    "start_time": "2021-09-01T20:22:19.371Z"
   },
   {
    "duration": 467,
    "start_time": "2021-09-01T20:22:19.375Z"
   },
   {
    "duration": 464,
    "start_time": "2021-09-01T20:22:19.380Z"
   },
   {
    "duration": 460,
    "start_time": "2021-09-01T20:22:19.386Z"
   },
   {
    "duration": 457,
    "start_time": "2021-09-01T20:22:19.391Z"
   },
   {
    "duration": 452,
    "start_time": "2021-09-01T20:22:19.398Z"
   },
   {
    "duration": 450,
    "start_time": "2021-09-01T20:22:19.402Z"
   },
   {
    "duration": 446,
    "start_time": "2021-09-01T20:22:19.408Z"
   },
   {
    "duration": 443,
    "start_time": "2021-09-01T20:22:19.413Z"
   },
   {
    "duration": 441,
    "start_time": "2021-09-01T20:22:19.417Z"
   },
   {
    "duration": 495,
    "start_time": "2021-09-01T20:22:19.421Z"
   },
   {
    "duration": 493,
    "start_time": "2021-09-01T20:22:19.425Z"
   },
   {
    "duration": 490,
    "start_time": "2021-09-01T20:22:19.429Z"
   },
   {
    "duration": 481,
    "start_time": "2021-09-01T20:22:19.440Z"
   },
   {
    "duration": 475,
    "start_time": "2021-09-01T20:22:19.447Z"
   },
   {
    "duration": 473,
    "start_time": "2021-09-01T20:22:19.450Z"
   },
   {
    "duration": 470,
    "start_time": "2021-09-01T20:22:19.455Z"
   },
   {
    "duration": 466,
    "start_time": "2021-09-01T20:22:19.460Z"
   },
   {
    "duration": 463,
    "start_time": "2021-09-01T20:22:19.464Z"
   },
   {
    "duration": 461,
    "start_time": "2021-09-01T20:22:19.468Z"
   },
   {
    "duration": 458,
    "start_time": "2021-09-01T20:22:19.472Z"
   },
   {
    "duration": 455,
    "start_time": "2021-09-01T20:22:19.477Z"
   },
   {
    "duration": 28,
    "start_time": "2021-09-01T20:22:24.672Z"
   },
   {
    "duration": 10,
    "start_time": "2021-09-01T20:22:39.749Z"
   },
   {
    "duration": 33,
    "start_time": "2021-09-01T20:22:43.008Z"
   },
   {
    "duration": 18,
    "start_time": "2021-09-01T20:22:45.405Z"
   },
   {
    "duration": 15,
    "start_time": "2021-09-01T20:23:07.669Z"
   },
   {
    "duration": 5,
    "start_time": "2021-09-01T20:23:36.662Z"
   },
   {
    "duration": 13,
    "start_time": "2021-09-01T20:23:48.604Z"
   },
   {
    "duration": 9,
    "start_time": "2021-09-01T20:23:59.663Z"
   },
   {
    "duration": 15,
    "start_time": "2021-09-01T20:24:01.765Z"
   },
   {
    "duration": 30,
    "start_time": "2021-09-01T20:24:27.596Z"
   },
   {
    "duration": 6,
    "start_time": "2021-09-01T20:29:20.231Z"
   },
   {
    "duration": 4,
    "start_time": "2021-09-01T20:29:32.636Z"
   },
   {
    "duration": 356,
    "start_time": "2021-09-01T20:29:49.362Z"
   },
   {
    "duration": 5,
    "start_time": "2021-09-01T20:29:54.335Z"
   },
   {
    "duration": 8,
    "start_time": "2021-09-01T20:31:46.293Z"
   },
   {
    "duration": 5,
    "start_time": "2021-09-01T20:31:54.213Z"
   },
   {
    "duration": 87,
    "start_time": "2021-09-01T20:31:54.221Z"
   },
   {
    "duration": 12,
    "start_time": "2021-09-01T20:31:54.311Z"
   },
   {
    "duration": 93,
    "start_time": "2021-09-01T20:31:54.326Z"
   },
   {
    "duration": 4,
    "start_time": "2021-09-01T20:31:54.422Z"
   },
   {
    "duration": 48,
    "start_time": "2021-09-01T20:31:54.430Z"
   },
   {
    "duration": 41,
    "start_time": "2021-09-01T20:31:54.482Z"
   },
   {
    "duration": 17,
    "start_time": "2021-09-01T20:31:54.528Z"
   },
   {
    "duration": 41,
    "start_time": "2021-09-01T20:31:54.548Z"
   },
   {
    "duration": 361,
    "start_time": "2021-09-01T20:31:54.591Z"
   },
   {
    "duration": 470,
    "start_time": "2021-09-01T20:31:54.488Z"
   },
   {
    "duration": 465,
    "start_time": "2021-09-01T20:31:54.495Z"
   },
   {
    "duration": 463,
    "start_time": "2021-09-01T20:31:54.499Z"
   },
   {
    "duration": 404,
    "start_time": "2021-09-01T20:31:54.561Z"
   },
   {
    "duration": 383,
    "start_time": "2021-09-01T20:31:54.584Z"
   },
   {
    "duration": 377,
    "start_time": "2021-09-01T20:31:54.592Z"
   },
   {
    "duration": 369,
    "start_time": "2021-09-01T20:31:54.603Z"
   },
   {
    "duration": 367,
    "start_time": "2021-09-01T20:31:54.608Z"
   },
   {
    "duration": 365,
    "start_time": "2021-09-01T20:31:54.612Z"
   },
   {
    "duration": 362,
    "start_time": "2021-09-01T20:31:54.617Z"
   },
   {
    "duration": 358,
    "start_time": "2021-09-01T20:31:54.622Z"
   },
   {
    "duration": 355,
    "start_time": "2021-09-01T20:31:54.627Z"
   },
   {
    "duration": 352,
    "start_time": "2021-09-01T20:31:54.632Z"
   },
   {
    "duration": 348,
    "start_time": "2021-09-01T20:31:54.637Z"
   },
   {
    "duration": 346,
    "start_time": "2021-09-01T20:31:54.641Z"
   },
   {
    "duration": 340,
    "start_time": "2021-09-01T20:31:54.648Z"
   },
   {
    "duration": 338,
    "start_time": "2021-09-01T20:31:54.652Z"
   },
   {
    "duration": 338,
    "start_time": "2021-09-01T20:31:54.656Z"
   },
   {
    "duration": 347,
    "start_time": "2021-09-01T20:31:54.672Z"
   },
   {
    "duration": 341,
    "start_time": "2021-09-01T20:31:54.680Z"
   },
   {
    "duration": 340,
    "start_time": "2021-09-01T20:31:54.684Z"
   },
   {
    "duration": 338,
    "start_time": "2021-09-01T20:31:54.688Z"
   },
   {
    "duration": 339,
    "start_time": "2021-09-01T20:31:54.696Z"
   },
   {
    "duration": 336,
    "start_time": "2021-09-01T20:31:54.701Z"
   },
   {
    "duration": 334,
    "start_time": "2021-09-01T20:31:54.705Z"
   },
   {
    "duration": 331,
    "start_time": "2021-09-01T20:31:54.710Z"
   },
   {
    "duration": 328,
    "start_time": "2021-09-01T20:31:54.715Z"
   },
   {
    "duration": 326,
    "start_time": "2021-09-01T20:31:54.719Z"
   },
   {
    "duration": 323,
    "start_time": "2021-09-01T20:31:54.724Z"
   },
   {
    "duration": 321,
    "start_time": "2021-09-01T20:31:54.728Z"
   },
   {
    "duration": 319,
    "start_time": "2021-09-01T20:31:54.732Z"
   },
   {
    "duration": 317,
    "start_time": "2021-09-01T20:31:54.736Z"
   },
   {
    "duration": 315,
    "start_time": "2021-09-01T20:31:54.740Z"
   },
   {
    "duration": 314,
    "start_time": "2021-09-01T20:31:54.745Z"
   },
   {
    "duration": 311,
    "start_time": "2021-09-01T20:31:54.750Z"
   },
   {
    "duration": 309,
    "start_time": "2021-09-01T20:31:54.754Z"
   },
   {
    "duration": 306,
    "start_time": "2021-09-01T20:31:54.759Z"
   },
   {
    "duration": 305,
    "start_time": "2021-09-01T20:31:54.762Z"
   },
   {
    "duration": 352,
    "start_time": "2021-09-01T20:31:54.766Z"
   },
   {
    "duration": 341,
    "start_time": "2021-09-01T20:31:54.779Z"
   },
   {
    "duration": 337,
    "start_time": "2021-09-01T20:31:54.785Z"
   },
   {
    "duration": 336,
    "start_time": "2021-09-01T20:31:54.788Z"
   },
   {
    "duration": 334,
    "start_time": "2021-09-01T20:31:54.793Z"
   },
   {
    "duration": 332,
    "start_time": "2021-09-01T20:31:54.797Z"
   },
   {
    "duration": 330,
    "start_time": "2021-09-01T20:31:54.801Z"
   },
   {
    "duration": 329,
    "start_time": "2021-09-01T20:31:54.805Z"
   },
   {
    "duration": 326,
    "start_time": "2021-09-01T20:31:54.810Z"
   },
   {
    "duration": 326,
    "start_time": "2021-09-01T20:31:54.814Z"
   },
   {
    "duration": 31,
    "start_time": "2021-09-01T20:32:00.698Z"
   },
   {
    "duration": 4,
    "start_time": "2021-09-01T20:32:21.195Z"
   },
   {
    "duration": 87,
    "start_time": "2021-09-01T20:32:21.202Z"
   },
   {
    "duration": 9,
    "start_time": "2021-09-01T20:32:21.292Z"
   },
   {
    "duration": 114,
    "start_time": "2021-09-01T20:32:21.304Z"
   },
   {
    "duration": 4,
    "start_time": "2021-09-01T20:32:21.422Z"
   },
   {
    "duration": 39,
    "start_time": "2021-09-01T20:32:21.430Z"
   },
   {
    "duration": 57,
    "start_time": "2021-09-01T20:32:21.473Z"
   },
   {
    "duration": 15,
    "start_time": "2021-09-01T20:32:21.533Z"
   },
   {
    "duration": 66,
    "start_time": "2021-09-01T20:32:21.551Z"
   },
   {
    "duration": 563,
    "start_time": "2021-09-01T20:32:21.619Z"
   },
   {
    "duration": 727,
    "start_time": "2021-09-01T20:32:21.461Z"
   },
   {
    "duration": 723,
    "start_time": "2021-09-01T20:32:21.466Z"
   },
   {
    "duration": 714,
    "start_time": "2021-09-01T20:32:21.476Z"
   },
   {
    "duration": 707,
    "start_time": "2021-09-01T20:32:21.485Z"
   },
   {
    "duration": 699,
    "start_time": "2021-09-01T20:32:21.494Z"
   },
   {
    "duration": 697,
    "start_time": "2021-09-01T20:32:21.498Z"
   },
   {
    "duration": 693,
    "start_time": "2021-09-01T20:32:21.503Z"
   },
   {
    "duration": 689,
    "start_time": "2021-09-01T20:32:21.508Z"
   },
   {
    "duration": 686,
    "start_time": "2021-09-01T20:32:21.513Z"
   },
   {
    "duration": 683,
    "start_time": "2021-09-01T20:32:21.517Z"
   },
   {
    "duration": 680,
    "start_time": "2021-09-01T20:32:21.522Z"
   },
   {
    "duration": 677,
    "start_time": "2021-09-01T20:32:21.526Z"
   },
   {
    "duration": 673,
    "start_time": "2021-09-01T20:32:21.531Z"
   },
   {
    "duration": 670,
    "start_time": "2021-09-01T20:32:21.536Z"
   },
   {
    "duration": 666,
    "start_time": "2021-09-01T20:32:21.541Z"
   },
   {
    "duration": 662,
    "start_time": "2021-09-01T20:32:21.546Z"
   },
   {
    "duration": 659,
    "start_time": "2021-09-01T20:32:21.551Z"
   },
   {
    "duration": 657,
    "start_time": "2021-09-01T20:32:21.555Z"
   },
   {
    "duration": 642,
    "start_time": "2021-09-01T20:32:21.572Z"
   },
   {
    "duration": 634,
    "start_time": "2021-09-01T20:32:21.582Z"
   },
   {
    "duration": 626,
    "start_time": "2021-09-01T20:32:21.592Z"
   },
   {
    "duration": 624,
    "start_time": "2021-09-01T20:32:21.596Z"
   },
   {
    "duration": 621,
    "start_time": "2021-09-01T20:32:21.601Z"
   },
   {
    "duration": 618,
    "start_time": "2021-09-01T20:32:21.606Z"
   },
   {
    "duration": 614,
    "start_time": "2021-09-01T20:32:21.611Z"
   },
   {
    "duration": 612,
    "start_time": "2021-09-01T20:32:21.615Z"
   },
   {
    "duration": 607,
    "start_time": "2021-09-01T20:32:21.621Z"
   },
   {
    "duration": 605,
    "start_time": "2021-09-01T20:32:21.625Z"
   },
   {
    "duration": 602,
    "start_time": "2021-09-01T20:32:21.629Z"
   },
   {
    "duration": 599,
    "start_time": "2021-09-01T20:32:21.634Z"
   },
   {
    "duration": 595,
    "start_time": "2021-09-01T20:32:21.639Z"
   },
   {
    "duration": 596,
    "start_time": "2021-09-01T20:32:21.644Z"
   },
   {
    "duration": 449,
    "start_time": "2021-09-01T20:32:21.793Z"
   },
   {
    "duration": 447,
    "start_time": "2021-09-01T20:32:21.797Z"
   },
   {
    "duration": 445,
    "start_time": "2021-09-01T20:32:21.801Z"
   },
   {
    "duration": 442,
    "start_time": "2021-09-01T20:32:21.806Z"
   },
   {
    "duration": 440,
    "start_time": "2021-09-01T20:32:21.810Z"
   },
   {
    "duration": 438,
    "start_time": "2021-09-01T20:32:21.814Z"
   },
   {
    "duration": 434,
    "start_time": "2021-09-01T20:32:21.819Z"
   },
   {
    "duration": 431,
    "start_time": "2021-09-01T20:32:21.824Z"
   },
   {
    "duration": 429,
    "start_time": "2021-09-01T20:32:21.828Z"
   },
   {
    "duration": 426,
    "start_time": "2021-09-01T20:32:21.832Z"
   },
   {
    "duration": 479,
    "start_time": "2021-09-01T20:32:21.836Z"
   },
   {
    "duration": 478,
    "start_time": "2021-09-01T20:32:21.840Z"
   },
   {
    "duration": 475,
    "start_time": "2021-09-01T20:32:21.845Z"
   },
   {
    "duration": 473,
    "start_time": "2021-09-01T20:32:21.849Z"
   },
   {
    "duration": 471,
    "start_time": "2021-09-01T20:32:21.853Z"
   },
   {
    "duration": 364,
    "start_time": "2021-09-01T20:32:35.768Z"
   },
   {
    "duration": 29,
    "start_time": "2021-09-01T20:32:40.784Z"
   },
   {
    "duration": 20,
    "start_time": "2021-09-01T20:32:55.631Z"
   },
   {
    "duration": 31,
    "start_time": "2021-09-01T20:33:01.091Z"
   },
   {
    "duration": 5,
    "start_time": "2021-09-01T20:34:44.684Z"
   },
   {
    "duration": 30,
    "start_time": "2021-09-01T20:34:54.678Z"
   },
   {
    "duration": 213,
    "start_time": "2021-09-01T20:35:38.063Z"
   },
   {
    "duration": 414,
    "start_time": "2021-09-01T20:35:52.200Z"
   },
   {
    "duration": 4,
    "start_time": "2021-09-01T20:36:18.429Z"
   },
   {
    "duration": 96,
    "start_time": "2021-09-01T20:36:18.439Z"
   },
   {
    "duration": 8,
    "start_time": "2021-09-01T20:36:18.538Z"
   },
   {
    "duration": 104,
    "start_time": "2021-09-01T20:36:18.549Z"
   },
   {
    "duration": 4,
    "start_time": "2021-09-01T20:36:18.656Z"
   },
   {
    "duration": 67,
    "start_time": "2021-09-01T20:36:18.663Z"
   },
   {
    "duration": 19,
    "start_time": "2021-09-01T20:36:18.733Z"
   },
   {
    "duration": 13,
    "start_time": "2021-09-01T20:36:18.756Z"
   },
   {
    "duration": 79,
    "start_time": "2021-09-01T20:36:18.772Z"
   },
   {
    "duration": 421,
    "start_time": "2021-09-01T20:36:18.853Z"
   },
   {
    "duration": 511,
    "start_time": "2021-09-01T20:36:18.770Z"
   },
   {
    "duration": 486,
    "start_time": "2021-09-01T20:36:18.798Z"
   },
   {
    "duration": 484,
    "start_time": "2021-09-01T20:36:18.802Z"
   },
   {
    "duration": 481,
    "start_time": "2021-09-01T20:36:18.807Z"
   },
   {
    "duration": 479,
    "start_time": "2021-09-01T20:36:18.811Z"
   },
   {
    "duration": 477,
    "start_time": "2021-09-01T20:36:18.815Z"
   },
   {
    "duration": 475,
    "start_time": "2021-09-01T20:36:18.819Z"
   },
   {
    "duration": 474,
    "start_time": "2021-09-01T20:36:18.823Z"
   },
   {
    "duration": 470,
    "start_time": "2021-09-01T20:36:18.828Z"
   },
   {
    "duration": 468,
    "start_time": "2021-09-01T20:36:18.832Z"
   },
   {
    "duration": 466,
    "start_time": "2021-09-01T20:36:18.836Z"
   },
   {
    "duration": 464,
    "start_time": "2021-09-01T20:36:18.840Z"
   },
   {
    "duration": 462,
    "start_time": "2021-09-01T20:36:18.844Z"
   },
   {
    "duration": 457,
    "start_time": "2021-09-01T20:36:18.851Z"
   },
   {
    "duration": 454,
    "start_time": "2021-09-01T20:36:18.856Z"
   },
   {
    "duration": 436,
    "start_time": "2021-09-01T20:36:18.876Z"
   },
   {
    "duration": 432,
    "start_time": "2021-09-01T20:36:18.883Z"
   },
   {
    "duration": 430,
    "start_time": "2021-09-01T20:36:18.887Z"
   },
   {
    "duration": 425,
    "start_time": "2021-09-01T20:36:18.894Z"
   },
   {
    "duration": 422,
    "start_time": "2021-09-01T20:36:18.898Z"
   },
   {
    "duration": 420,
    "start_time": "2021-09-01T20:36:18.902Z"
   },
   {
    "duration": 417,
    "start_time": "2021-09-01T20:36:18.907Z"
   },
   {
    "duration": 415,
    "start_time": "2021-09-01T20:36:18.911Z"
   },
   {
    "duration": 413,
    "start_time": "2021-09-01T20:36:18.915Z"
   },
   {
    "duration": 416,
    "start_time": "2021-09-01T20:36:18.919Z"
   },
   {
    "duration": 413,
    "start_time": "2021-09-01T20:36:18.924Z"
   },
   {
    "duration": 411,
    "start_time": "2021-09-01T20:36:18.928Z"
   },
   {
    "duration": 407,
    "start_time": "2021-09-01T20:36:18.933Z"
   },
   {
    "duration": 406,
    "start_time": "2021-09-01T20:36:18.936Z"
   },
   {
    "duration": 403,
    "start_time": "2021-09-01T20:36:18.941Z"
   },
   {
    "duration": 402,
    "start_time": "2021-09-01T20:36:18.944Z"
   },
   {
    "duration": 400,
    "start_time": "2021-09-01T20:36:18.948Z"
   },
   {
    "duration": 399,
    "start_time": "2021-09-01T20:36:18.952Z"
   },
   {
    "duration": 397,
    "start_time": "2021-09-01T20:36:18.956Z"
   },
   {
    "duration": 395,
    "start_time": "2021-09-01T20:36:18.960Z"
   },
   {
    "duration": 393,
    "start_time": "2021-09-01T20:36:18.964Z"
   },
   {
    "duration": 392,
    "start_time": "2021-09-01T20:36:18.967Z"
   },
   {
    "duration": 443,
    "start_time": "2021-09-01T20:36:18.972Z"
   },
   {
    "duration": 432,
    "start_time": "2021-09-01T20:36:18.986Z"
   },
   {
    "duration": 427,
    "start_time": "2021-09-01T20:36:18.993Z"
   },
   {
    "duration": 425,
    "start_time": "2021-09-01T20:36:18.997Z"
   },
   {
    "duration": 423,
    "start_time": "2021-09-01T20:36:19.001Z"
   },
   {
    "duration": 418,
    "start_time": "2021-09-01T20:36:19.008Z"
   },
   {
    "duration": 417,
    "start_time": "2021-09-01T20:36:19.012Z"
   },
   {
    "duration": 416,
    "start_time": "2021-09-01T20:36:19.016Z"
   },
   {
    "duration": 414,
    "start_time": "2021-09-01T20:36:19.020Z"
   },
   {
    "duration": 412,
    "start_time": "2021-09-01T20:36:19.024Z"
   },
   {
    "duration": 410,
    "start_time": "2021-09-01T20:36:19.028Z"
   },
   {
    "duration": 407,
    "start_time": "2021-09-01T20:36:19.033Z"
   },
   {
    "duration": 375,
    "start_time": "2021-09-01T20:36:26.192Z"
   },
   {
    "duration": 9,
    "start_time": "2021-09-01T20:36:45.503Z"
   },
   {
    "duration": 363,
    "start_time": "2021-09-01T20:37:20.787Z"
   },
   {
    "duration": 17,
    "start_time": "2021-09-01T20:37:27.195Z"
   },
   {
    "duration": 11,
    "start_time": "2021-09-01T20:37:41.439Z"
   },
   {
    "duration": 9,
    "start_time": "2021-09-01T20:37:42.944Z"
   },
   {
    "duration": 13,
    "start_time": "2021-09-01T20:37:49.696Z"
   },
   {
    "duration": 1074,
    "start_time": "2021-09-01T20:38:37.731Z"
   },
   {
    "duration": 88,
    "start_time": "2021-09-01T20:38:38.808Z"
   },
   {
    "duration": 21,
    "start_time": "2021-09-01T20:38:38.899Z"
   },
   {
    "duration": 104,
    "start_time": "2021-09-01T20:38:38.924Z"
   },
   {
    "duration": 4,
    "start_time": "2021-09-01T20:38:39.030Z"
   },
   {
    "duration": 37,
    "start_time": "2021-09-01T20:38:39.037Z"
   },
   {
    "duration": 41,
    "start_time": "2021-09-01T20:38:39.077Z"
   },
   {
    "duration": 23,
    "start_time": "2021-09-01T20:38:39.122Z"
   },
   {
    "duration": 78,
    "start_time": "2021-09-01T20:38:39.149Z"
   },
   {
    "duration": 16,
    "start_time": "2021-09-01T20:38:39.230Z"
   },
   {
    "duration": 148,
    "start_time": "2021-09-01T20:38:39.249Z"
   },
   {
    "duration": 26,
    "start_time": "2021-09-01T20:38:39.400Z"
   },
   {
    "duration": 27,
    "start_time": "2021-09-01T20:38:39.429Z"
   },
   {
    "duration": 13,
    "start_time": "2021-09-01T20:38:39.459Z"
   },
   {
    "duration": 7,
    "start_time": "2021-09-01T20:38:39.475Z"
   },
   {
    "duration": 64,
    "start_time": "2021-09-01T20:38:39.484Z"
   },
   {
    "duration": 13,
    "start_time": "2021-09-01T20:38:39.551Z"
   },
   {
    "duration": 9,
    "start_time": "2021-09-01T20:38:39.568Z"
   },
   {
    "duration": 43,
    "start_time": "2021-09-01T20:38:39.580Z"
   },
   {
    "duration": 52,
    "start_time": "2021-09-01T20:38:39.626Z"
   },
   {
    "duration": 35,
    "start_time": "2021-09-01T20:38:39.681Z"
   },
   {
    "duration": 35,
    "start_time": "2021-09-01T20:38:39.720Z"
   },
   {
    "duration": 5,
    "start_time": "2021-09-01T20:38:39.761Z"
   },
   {
    "duration": 67,
    "start_time": "2021-09-01T20:38:39.770Z"
   },
   {
    "duration": 7,
    "start_time": "2021-09-01T20:38:39.840Z"
   },
   {
    "duration": 76,
    "start_time": "2021-09-01T20:38:39.849Z"
   },
   {
    "duration": 804,
    "start_time": "2021-09-01T20:38:39.927Z"
   },
   {
    "duration": 5074,
    "start_time": "2021-09-01T20:38:40.734Z"
   },
   {
    "duration": 531,
    "start_time": "2021-09-01T20:38:45.812Z"
   },
   {
    "duration": 103,
    "start_time": "2021-09-01T20:38:46.347Z"
   },
   {
    "duration": 495,
    "start_time": "2021-09-01T20:38:46.453Z"
   },
   {
    "duration": 44,
    "start_time": "2021-09-01T20:38:46.951Z"
   },
   {
    "duration": 15,
    "start_time": "2021-09-01T20:38:47.016Z"
   },
   {
    "duration": 5117,
    "start_time": "2021-09-01T20:38:47.036Z"
   },
   {
    "duration": 1498,
    "start_time": "2021-09-01T20:38:52.156Z"
   },
   {
    "duration": 6,
    "start_time": "2021-09-01T20:38:53.657Z"
   },
   {
    "duration": 12,
    "start_time": "2021-09-01T20:38:53.665Z"
   },
   {
    "duration": 641,
    "start_time": "2021-09-01T20:38:53.679Z"
   },
   {
    "duration": 19,
    "start_time": "2021-09-01T20:38:54.324Z"
   },
   {
    "duration": 16,
    "start_time": "2021-09-01T20:38:54.346Z"
   },
   {
    "duration": 814,
    "start_time": "2021-09-01T20:38:54.365Z"
   },
   {
    "duration": 1079,
    "start_time": "2021-09-01T20:38:55.183Z"
   },
   {
    "duration": 508,
    "start_time": "2021-09-01T20:38:56.265Z"
   },
   {
    "duration": 827,
    "start_time": "2021-09-01T20:38:56.776Z"
   },
   {
    "duration": 47,
    "start_time": "2021-09-01T20:38:57.606Z"
   },
   {
    "duration": 337,
    "start_time": "2021-09-01T20:38:57.656Z"
   },
   {
    "duration": 349,
    "start_time": "2021-09-01T20:38:57.996Z"
   },
   {
    "duration": 7,
    "start_time": "2021-09-01T20:38:58.348Z"
   },
   {
    "duration": 341,
    "start_time": "2021-09-01T20:38:58.357Z"
   },
   {
    "duration": 19,
    "start_time": "2021-09-01T20:38:58.700Z"
   },
   {
    "duration": 13,
    "start_time": "2021-09-01T20:38:58.722Z"
   },
   {
    "duration": 81,
    "start_time": "2021-09-01T20:38:58.737Z"
   },
   {
    "duration": 24,
    "start_time": "2021-09-01T20:38:58.825Z"
   },
   {
    "duration": 33,
    "start_time": "2021-09-01T20:38:58.851Z"
   },
   {
    "duration": 32,
    "start_time": "2021-09-01T20:38:58.886Z"
   },
   {
    "duration": 15,
    "start_time": "2021-09-01T20:38:58.922Z"
   },
   {
    "duration": 17,
    "start_time": "2021-09-01T20:38:58.940Z"
   },
   {
    "duration": 58,
    "start_time": "2021-09-01T20:38:58.960Z"
   },
   {
    "duration": 38,
    "start_time": "2021-09-01T20:38:59.021Z"
   },
   {
    "duration": 5,
    "start_time": "2021-09-01T20:38:59.062Z"
   },
   {
    "duration": 6,
    "start_time": "2021-09-01T20:39:33.562Z"
   },
   {
    "duration": 35,
    "start_time": "2021-09-01T20:39:35.939Z"
   },
   {
    "duration": 7,
    "start_time": "2021-09-01T20:39:51.892Z"
   },
   {
    "duration": 37,
    "start_time": "2021-09-01T20:39:53.182Z"
   },
   {
    "duration": 39,
    "start_time": "2021-09-01T20:40:19.688Z"
   },
   {
    "duration": 40,
    "start_time": "2021-09-01T20:40:31.614Z"
   },
   {
    "duration": 53,
    "start_time": "2021-09-01T20:40:51.406Z"
   },
   {
    "duration": 54,
    "start_time": "2021-09-01T20:40:59.370Z"
   },
   {
    "duration": 52,
    "start_time": "2021-09-01T20:41:07.211Z"
   },
   {
    "duration": 7,
    "start_time": "2021-09-01T20:41:14.723Z"
   },
   {
    "duration": 6,
    "start_time": "2021-09-01T20:41:20.762Z"
   },
   {
    "duration": 449,
    "start_time": "2021-09-01T20:51:42.745Z"
   },
   {
    "duration": 5,
    "start_time": "2021-09-01T20:51:53.564Z"
   },
   {
    "duration": 13180,
    "start_time": "2021-09-01T20:51:56.013Z"
   },
   {
    "duration": 5,
    "start_time": "2021-09-01T20:53:53.067Z"
   },
   {
    "duration": 112,
    "start_time": "2021-09-01T20:53:53.076Z"
   },
   {
    "duration": 12,
    "start_time": "2021-09-01T20:53:53.192Z"
   },
   {
    "duration": 79,
    "start_time": "2021-09-01T20:53:53.217Z"
   },
   {
    "duration": 4,
    "start_time": "2021-09-01T20:53:53.298Z"
   },
   {
    "duration": 38,
    "start_time": "2021-09-01T20:53:53.317Z"
   },
   {
    "duration": 17,
    "start_time": "2021-09-01T20:53:53.358Z"
   },
   {
    "duration": 53,
    "start_time": "2021-09-01T20:53:53.379Z"
   },
   {
    "duration": 88,
    "start_time": "2021-09-01T20:53:53.435Z"
   },
   {
    "duration": 18,
    "start_time": "2021-09-01T20:53:53.526Z"
   },
   {
    "duration": 142,
    "start_time": "2021-09-01T20:53:53.548Z"
   },
   {
    "duration": 25,
    "start_time": "2021-09-01T20:53:53.693Z"
   },
   {
    "duration": 14,
    "start_time": "2021-09-01T20:53:53.722Z"
   },
   {
    "duration": 14,
    "start_time": "2021-09-01T20:53:53.739Z"
   },
   {
    "duration": 7,
    "start_time": "2021-09-01T20:53:53.756Z"
   },
   {
    "duration": 62,
    "start_time": "2021-09-01T20:53:53.765Z"
   },
   {
    "duration": 13,
    "start_time": "2021-09-01T20:53:53.831Z"
   },
   {
    "duration": 6,
    "start_time": "2021-09-01T20:53:53.847Z"
   },
   {
    "duration": 18,
    "start_time": "2021-09-01T20:53:53.855Z"
   },
   {
    "duration": 75,
    "start_time": "2021-09-01T20:53:53.875Z"
   },
   {
    "duration": 8,
    "start_time": "2021-09-01T20:53:53.953Z"
   },
   {
    "duration": 60,
    "start_time": "2021-09-01T20:53:53.963Z"
   },
   {
    "duration": 6,
    "start_time": "2021-09-01T20:53:54.026Z"
   },
   {
    "duration": 33,
    "start_time": "2021-09-01T20:53:54.035Z"
   },
   {
    "duration": 6,
    "start_time": "2021-09-01T20:53:54.071Z"
   },
   {
    "duration": 86,
    "start_time": "2021-09-01T20:53:54.080Z"
   },
   {
    "duration": 613,
    "start_time": "2021-09-01T20:53:54.169Z"
   },
   {
    "duration": 3539,
    "start_time": "2021-09-01T20:53:54.784Z"
   },
   {
    "duration": 353,
    "start_time": "2021-09-01T20:53:58.326Z"
   },
   {
    "duration": 94,
    "start_time": "2021-09-01T20:53:58.682Z"
   },
   {
    "duration": 473,
    "start_time": "2021-09-01T20:53:58.778Z"
   },
   {
    "duration": 40,
    "start_time": "2021-09-01T20:53:59.254Z"
   },
   {
    "duration": 15,
    "start_time": "2021-09-01T20:53:59.317Z"
   },
   {
    "duration": 5081,
    "start_time": "2021-09-01T20:53:59.334Z"
   },
   {
    "duration": 1913,
    "start_time": "2021-09-01T20:54:04.425Z"
   },
   {
    "duration": 7,
    "start_time": "2021-09-01T20:54:06.341Z"
   },
   {
    "duration": 13,
    "start_time": "2021-09-01T20:54:06.350Z"
   },
   {
    "duration": 628,
    "start_time": "2021-09-01T20:54:06.365Z"
   },
   {
    "duration": 26,
    "start_time": "2021-09-01T20:54:06.996Z"
   },
   {
    "duration": 18,
    "start_time": "2021-09-01T20:54:07.024Z"
   },
   {
    "duration": 595,
    "start_time": "2021-09-01T20:54:07.045Z"
   },
   {
    "duration": 761,
    "start_time": "2021-09-01T20:54:07.644Z"
   },
   {
    "duration": 436,
    "start_time": "2021-09-01T20:54:08.416Z"
   },
   {
    "duration": 768,
    "start_time": "2021-09-01T20:54:08.855Z"
   },
   {
    "duration": 33,
    "start_time": "2021-09-01T20:54:09.626Z"
   },
   {
    "duration": 337,
    "start_time": "2021-09-01T20:54:09.661Z"
   },
   {
    "duration": 369,
    "start_time": "2021-09-01T20:54:10.001Z"
   },
   {
    "duration": 7,
    "start_time": "2021-09-01T20:54:10.372Z"
   },
   {
    "duration": 328,
    "start_time": "2021-09-01T20:54:10.382Z"
   },
   {
    "duration": 19,
    "start_time": "2021-09-01T20:54:10.716Z"
   },
   {
    "duration": 18,
    "start_time": "2021-09-01T20:54:10.738Z"
   },
   {
    "duration": 71,
    "start_time": "2021-09-01T20:54:10.759Z"
   },
   {
    "duration": 22,
    "start_time": "2021-09-01T20:54:10.833Z"
   },
   {
    "duration": 62,
    "start_time": "2021-09-01T20:54:10.857Z"
   },
   {
    "duration": 6,
    "start_time": "2021-09-01T20:54:10.921Z"
   },
   {
    "duration": 12,
    "start_time": "2021-09-01T20:54:10.931Z"
   },
   {
    "duration": 73,
    "start_time": "2021-09-01T20:54:10.946Z"
   },
   {
    "duration": 47,
    "start_time": "2021-09-01T20:54:11.022Z"
   },
   {
    "duration": 5,
    "start_time": "2021-09-01T20:54:11.071Z"
   },
   {
    "duration": 9456,
    "start_time": "2021-09-01T20:54:11.079Z"
   },
   {
    "duration": 514,
    "start_time": "2021-09-01T20:55:14.996Z"
   },
   {
    "duration": 506,
    "start_time": "2021-09-01T20:56:01.887Z"
   },
   {
    "duration": 118,
    "start_time": "2021-09-01T20:56:26.804Z"
   },
   {
    "duration": 500,
    "start_time": "2021-09-01T20:56:33.484Z"
   },
   {
    "duration": 483,
    "start_time": "2021-09-01T21:01:00.271Z"
   },
   {
    "duration": 445,
    "start_time": "2021-09-01T21:03:53.682Z"
   },
   {
    "duration": 370,
    "start_time": "2021-09-01T21:04:03.014Z"
   },
   {
    "duration": 7,
    "start_time": "2021-09-01T21:11:40.487Z"
   },
   {
    "duration": 17,
    "start_time": "2021-09-01T21:11:50.499Z"
   },
   {
    "duration": 5,
    "start_time": "2021-09-02T17:18:05.924Z"
   },
   {
    "duration": 23,
    "start_time": "2021-09-02T17:18:22.884Z"
   },
   {
    "duration": 6872,
    "start_time": "2021-09-02T17:20:51.857Z"
   },
   {
    "duration": 8761,
    "start_time": "2021-09-02T17:21:24.391Z"
   },
   {
    "duration": 6,
    "start_time": "2021-09-02T17:22:58.445Z"
   },
   {
    "duration": 23,
    "start_time": "2021-09-02T17:22:59.655Z"
   },
   {
    "duration": 7599,
    "start_time": "2021-09-02T17:23:06.746Z"
   },
   {
    "duration": 6,
    "start_time": "2021-09-02T17:32:19.853Z"
   },
   {
    "duration": 15018,
    "start_time": "2021-09-02T17:32:20.968Z"
   },
   {
    "duration": 553,
    "start_time": "2021-09-02T17:38:52.938Z"
   },
   {
    "duration": 570,
    "start_time": "2021-09-02T17:39:51.049Z"
   },
   {
    "duration": 12,
    "start_time": "2021-09-02T18:01:25.261Z"
   },
   {
    "duration": 7,
    "start_time": "2021-09-02T18:05:32.370Z"
   },
   {
    "duration": 790,
    "start_time": "2021-09-03T15:17:11.966Z"
   },
   {
    "duration": 69,
    "start_time": "2021-09-03T15:17:12.759Z"
   },
   {
    "duration": 18,
    "start_time": "2021-09-03T15:17:12.831Z"
   },
   {
    "duration": 91,
    "start_time": "2021-09-03T15:17:12.851Z"
   },
   {
    "duration": 4,
    "start_time": "2021-09-03T15:17:12.944Z"
   },
   {
    "duration": 46,
    "start_time": "2021-09-03T15:17:12.950Z"
   },
   {
    "duration": 17,
    "start_time": "2021-09-03T15:17:12.998Z"
   },
   {
    "duration": 12,
    "start_time": "2021-09-03T15:17:13.019Z"
   },
   {
    "duration": 67,
    "start_time": "2021-09-03T15:17:13.034Z"
   },
   {
    "duration": 12,
    "start_time": "2021-09-03T15:17:13.103Z"
   },
   {
    "duration": 119,
    "start_time": "2021-09-03T15:17:13.117Z"
   },
   {
    "duration": 8,
    "start_time": "2021-09-03T15:17:13.238Z"
   },
   {
    "duration": 34,
    "start_time": "2021-09-03T15:17:13.249Z"
   },
   {
    "duration": 12,
    "start_time": "2021-09-03T15:17:13.286Z"
   },
   {
    "duration": 7,
    "start_time": "2021-09-03T15:17:13.300Z"
   },
   {
    "duration": 16,
    "start_time": "2021-09-03T15:17:13.309Z"
   },
   {
    "duration": 11,
    "start_time": "2021-09-03T15:17:13.328Z"
   },
   {
    "duration": 47,
    "start_time": "2021-09-03T15:17:13.341Z"
   },
   {
    "duration": 12,
    "start_time": "2021-09-03T15:17:13.391Z"
   },
   {
    "duration": 38,
    "start_time": "2021-09-03T15:17:13.405Z"
   },
   {
    "duration": 41,
    "start_time": "2021-09-03T15:17:13.445Z"
   },
   {
    "duration": 28,
    "start_time": "2021-09-03T15:17:13.489Z"
   },
   {
    "duration": 5,
    "start_time": "2021-09-03T15:17:13.523Z"
   },
   {
    "duration": 54,
    "start_time": "2021-09-03T15:17:13.531Z"
   },
   {
    "duration": 6,
    "start_time": "2021-09-03T15:17:13.588Z"
   },
   {
    "duration": 55,
    "start_time": "2021-09-03T15:17:13.597Z"
   },
   {
    "duration": 620,
    "start_time": "2021-09-03T15:17:13.654Z"
   },
   {
    "duration": 2975,
    "start_time": "2021-09-03T15:17:14.276Z"
   },
   {
    "duration": 305,
    "start_time": "2021-09-03T15:17:17.254Z"
   },
   {
    "duration": 77,
    "start_time": "2021-09-03T15:17:17.561Z"
   },
   {
    "duration": 469,
    "start_time": "2021-09-03T15:17:17.640Z"
   },
   {
    "duration": 37,
    "start_time": "2021-09-03T15:17:18.111Z"
   },
   {
    "duration": 36,
    "start_time": "2021-09-03T15:17:18.151Z"
   },
   {
    "duration": 5366,
    "start_time": "2021-09-03T15:17:18.190Z"
   },
   {
    "duration": 1353,
    "start_time": "2021-09-03T15:17:23.559Z"
   },
   {
    "duration": 6,
    "start_time": "2021-09-03T15:17:24.915Z"
   },
   {
    "duration": 9,
    "start_time": "2021-09-03T15:17:24.923Z"
   },
   {
    "duration": 570,
    "start_time": "2021-09-03T15:17:24.934Z"
   },
   {
    "duration": 17,
    "start_time": "2021-09-03T15:17:25.506Z"
   },
   {
    "duration": 15,
    "start_time": "2021-09-03T15:17:25.525Z"
   },
   {
    "duration": 557,
    "start_time": "2021-09-03T15:17:25.543Z"
   },
   {
    "duration": 907,
    "start_time": "2021-09-03T15:17:26.103Z"
   },
   {
    "duration": 456,
    "start_time": "2021-09-03T15:17:27.012Z"
   },
   {
    "duration": 776,
    "start_time": "2021-09-03T15:17:27.471Z"
   },
   {
    "duration": 45,
    "start_time": "2021-09-03T15:17:28.250Z"
   },
   {
    "duration": 301,
    "start_time": "2021-09-03T15:17:28.298Z"
   },
   {
    "duration": 294,
    "start_time": "2021-09-03T15:17:28.601Z"
   },
   {
    "duration": 7,
    "start_time": "2021-09-03T15:17:28.898Z"
   },
   {
    "duration": 292,
    "start_time": "2021-09-03T15:17:28.907Z"
   },
   {
    "duration": 11,
    "start_time": "2021-09-03T15:17:29.202Z"
   },
   {
    "duration": 14,
    "start_time": "2021-09-03T15:17:29.215Z"
   },
   {
    "duration": 71,
    "start_time": "2021-09-03T15:17:29.232Z"
   },
   {
    "duration": 20,
    "start_time": "2021-09-03T15:17:29.305Z"
   },
   {
    "duration": 54,
    "start_time": "2021-09-03T15:17:29.328Z"
   },
   {
    "duration": 4,
    "start_time": "2021-09-03T15:17:29.385Z"
   },
   {
    "duration": 15,
    "start_time": "2021-09-03T15:17:29.391Z"
   },
   {
    "duration": 15,
    "start_time": "2021-09-03T15:17:29.409Z"
   },
   {
    "duration": 59,
    "start_time": "2021-09-03T15:17:29.426Z"
   },
   {
    "duration": 35,
    "start_time": "2021-09-03T15:17:29.487Z"
   },
   {
    "duration": 5,
    "start_time": "2021-09-03T15:17:29.524Z"
   },
   {
    "duration": 356,
    "start_time": "2021-09-03T15:17:29.531Z"
   },
   {
    "duration": 7994,
    "start_time": "2021-09-03T15:17:29.889Z"
   },
   {
    "duration": 35703,
    "start_time": "2021-09-03T15:17:02.183Z"
   },
   {
    "duration": 35698,
    "start_time": "2021-09-03T15:17:02.189Z"
   },
   {
    "duration": 35694,
    "start_time": "2021-09-03T15:17:02.195Z"
   },
   {
    "duration": 426,
    "start_time": "2021-09-03T15:18:02.519Z"
   },
   {
    "duration": 7,
    "start_time": "2021-09-03T15:18:08.219Z"
   },
   {
    "duration": 13,
    "start_time": "2021-09-03T19:34:07.148Z"
   },
   {
    "duration": 329,
    "start_time": "2021-09-03T19:34:33.515Z"
   },
   {
    "duration": 15,
    "start_time": "2021-09-03T19:34:44.625Z"
   },
   {
    "duration": 14,
    "start_time": "2021-09-03T19:34:57.604Z"
   },
   {
    "duration": 14,
    "start_time": "2021-09-03T19:36:35.626Z"
   },
   {
    "duration": 4,
    "start_time": "2021-09-03T19:37:38.416Z"
   },
   {
    "duration": 94,
    "start_time": "2021-09-03T19:37:38.423Z"
   },
   {
    "duration": 10,
    "start_time": "2021-09-03T19:37:38.520Z"
   },
   {
    "duration": 110,
    "start_time": "2021-09-03T19:37:38.533Z"
   },
   {
    "duration": 4,
    "start_time": "2021-09-03T19:37:38.645Z"
   },
   {
    "duration": 46,
    "start_time": "2021-09-03T19:37:38.651Z"
   },
   {
    "duration": 15,
    "start_time": "2021-09-03T19:37:38.717Z"
   },
   {
    "duration": 15,
    "start_time": "2021-09-03T19:37:38.736Z"
   },
   {
    "duration": 86,
    "start_time": "2021-09-03T19:37:38.754Z"
   },
   {
    "duration": 13,
    "start_time": "2021-09-03T19:37:38.842Z"
   },
   {
    "duration": 20,
    "start_time": "2021-09-03T19:37:38.857Z"
   },
   {
    "duration": 138,
    "start_time": "2021-09-03T19:37:38.917Z"
   },
   {
    "duration": 10,
    "start_time": "2021-09-03T19:37:39.057Z"
   },
   {
    "duration": 46,
    "start_time": "2021-09-03T19:37:39.069Z"
   },
   {
    "duration": 14,
    "start_time": "2021-09-03T19:37:39.118Z"
   },
   {
    "duration": 7,
    "start_time": "2021-09-03T19:37:39.136Z"
   },
   {
    "duration": 18,
    "start_time": "2021-09-03T19:37:39.147Z"
   },
   {
    "duration": 57,
    "start_time": "2021-09-03T19:37:39.167Z"
   },
   {
    "duration": 6,
    "start_time": "2021-09-03T19:37:39.226Z"
   },
   {
    "duration": 13,
    "start_time": "2021-09-03T19:37:39.235Z"
   },
   {
    "duration": 77,
    "start_time": "2021-09-03T19:37:39.250Z"
   },
   {
    "duration": 6,
    "start_time": "2021-09-03T19:37:39.329Z"
   },
   {
    "duration": 40,
    "start_time": "2021-09-03T19:37:39.337Z"
   },
   {
    "duration": 9,
    "start_time": "2021-09-03T19:37:39.380Z"
   },
   {
    "duration": 49,
    "start_time": "2021-09-03T19:37:39.391Z"
   },
   {
    "duration": 7,
    "start_time": "2021-09-03T19:37:39.443Z"
   },
   {
    "duration": 80,
    "start_time": "2021-09-03T19:37:39.453Z"
   },
   {
    "duration": 651,
    "start_time": "2021-09-03T19:37:39.536Z"
   },
   {
    "duration": 3155,
    "start_time": "2021-09-03T19:37:40.189Z"
   },
   {
    "duration": 348,
    "start_time": "2021-09-03T19:37:43.347Z"
   },
   {
    "duration": 78,
    "start_time": "2021-09-03T19:37:43.698Z"
   },
   {
    "duration": 1047,
    "start_time": "2021-09-03T19:37:43.779Z"
   },
   {
    "duration": 40,
    "start_time": "2021-09-03T19:37:44.829Z"
   },
   {
    "duration": 45,
    "start_time": "2021-09-03T19:37:44.871Z"
   },
   {
    "duration": 4500,
    "start_time": "2021-09-03T19:37:44.919Z"
   },
   {
    "duration": 1444,
    "start_time": "2021-09-03T19:37:49.422Z"
   },
   {
    "duration": 5,
    "start_time": "2021-09-03T19:37:50.869Z"
   },
   {
    "duration": 14,
    "start_time": "2021-09-03T19:37:50.877Z"
   },
   {
    "duration": 597,
    "start_time": "2021-09-03T19:37:50.893Z"
   },
   {
    "duration": 30,
    "start_time": "2021-09-03T19:37:51.493Z"
   },
   {
    "duration": 17,
    "start_time": "2021-09-03T19:37:51.525Z"
   },
   {
    "duration": 580,
    "start_time": "2021-09-03T19:37:51.548Z"
   },
   {
    "duration": 760,
    "start_time": "2021-09-03T19:37:52.131Z"
   },
   {
    "duration": 444,
    "start_time": "2021-09-03T19:37:52.894Z"
   },
   {
    "duration": 718,
    "start_time": "2021-09-03T19:37:53.340Z"
   },
   {
    "duration": 30,
    "start_time": "2021-09-03T19:37:54.060Z"
   },
   {
    "duration": 309,
    "start_time": "2021-09-03T19:37:54.116Z"
   },
   {
    "duration": 399,
    "start_time": "2021-09-03T19:37:54.427Z"
   },
   {
    "duration": 7,
    "start_time": "2021-09-03T19:37:54.829Z"
   },
   {
    "duration": 329,
    "start_time": "2021-09-03T19:37:54.838Z"
   },
   {
    "duration": 10,
    "start_time": "2021-09-03T19:37:55.170Z"
   },
   {
    "duration": 35,
    "start_time": "2021-09-03T19:37:55.183Z"
   },
   {
    "duration": 51,
    "start_time": "2021-09-03T19:37:55.221Z"
   },
   {
    "duration": 62,
    "start_time": "2021-09-03T19:37:55.276Z"
   },
   {
    "duration": 38,
    "start_time": "2021-09-03T19:37:55.341Z"
   },
   {
    "duration": 7,
    "start_time": "2021-09-03T19:37:55.417Z"
   },
   {
    "duration": 14,
    "start_time": "2021-09-03T19:37:55.427Z"
   },
   {
    "duration": 16,
    "start_time": "2021-09-03T19:37:55.444Z"
   },
   {
    "duration": 80,
    "start_time": "2021-09-03T19:37:55.462Z"
   },
   {
    "duration": 37,
    "start_time": "2021-09-03T19:37:55.546Z"
   },
   {
    "duration": 5,
    "start_time": "2021-09-03T19:37:55.616Z"
   },
   {
    "duration": 369,
    "start_time": "2021-09-03T19:37:55.624Z"
   },
   {
    "duration": 5,
    "start_time": "2021-09-03T19:37:55.996Z"
   },
   {
    "duration": 13,
    "start_time": "2021-09-03T19:38:04.409Z"
   },
   {
    "duration": 15515,
    "start_time": "2021-09-03T19:38:04.425Z"
   },
   {
    "duration": 8078,
    "start_time": "2021-09-03T19:38:19.943Z"
   },
   {
    "duration": 12,
    "start_time": "2021-09-03T19:43:45.351Z"
   },
   {
    "duration": 20,
    "start_time": "2021-09-03T19:46:11.876Z"
   },
   {
    "duration": 103,
    "start_time": "2021-09-03T19:48:53.754Z"
   },
   {
    "duration": 19,
    "start_time": "2021-09-03T19:48:57.510Z"
   },
   {
    "duration": 12,
    "start_time": "2021-09-03T19:49:54.529Z"
   },
   {
    "duration": 8,
    "start_time": "2021-09-03T19:50:06.630Z"
   },
   {
    "duration": 8,
    "start_time": "2021-09-03T19:50:16.202Z"
   },
   {
    "duration": 12,
    "start_time": "2021-09-03T19:50:33.887Z"
   },
   {
    "duration": 11,
    "start_time": "2021-09-03T19:56:10.159Z"
   },
   {
    "duration": 12,
    "start_time": "2021-09-03T19:56:25.114Z"
   },
   {
    "duration": 11,
    "start_time": "2021-09-03T19:56:33.384Z"
   },
   {
    "duration": 4,
    "start_time": "2021-09-03T19:56:41.726Z"
   },
   {
    "duration": 102,
    "start_time": "2021-09-03T19:56:41.734Z"
   },
   {
    "duration": 9,
    "start_time": "2021-09-03T19:56:41.839Z"
   },
   {
    "duration": 109,
    "start_time": "2021-09-03T19:56:41.851Z"
   },
   {
    "duration": 3,
    "start_time": "2021-09-03T19:56:41.963Z"
   },
   {
    "duration": 52,
    "start_time": "2021-09-03T19:56:41.969Z"
   },
   {
    "duration": 16,
    "start_time": "2021-09-03T19:56:42.024Z"
   },
   {
    "duration": 10,
    "start_time": "2021-09-03T19:56:42.044Z"
   },
   {
    "duration": 84,
    "start_time": "2021-09-03T19:56:42.056Z"
   },
   {
    "duration": 12,
    "start_time": "2021-09-03T19:56:42.143Z"
   },
   {
    "duration": 13,
    "start_time": "2021-09-03T19:56:42.157Z"
   },
   {
    "duration": 164,
    "start_time": "2021-09-03T19:56:42.172Z"
   },
   {
    "duration": 10,
    "start_time": "2021-09-03T19:56:42.338Z"
   },
   {
    "duration": 15,
    "start_time": "2021-09-03T19:56:42.351Z"
   },
   {
    "duration": 48,
    "start_time": "2021-09-03T19:56:42.370Z"
   },
   {
    "duration": 8,
    "start_time": "2021-09-03T19:56:42.420Z"
   },
   {
    "duration": 15,
    "start_time": "2021-09-03T19:56:42.431Z"
   },
   {
    "duration": 10,
    "start_time": "2021-09-03T19:56:42.449Z"
   },
   {
    "duration": 67,
    "start_time": "2021-09-03T19:56:42.462Z"
   },
   {
    "duration": 20,
    "start_time": "2021-09-03T19:56:42.532Z"
   },
   {
    "duration": 19,
    "start_time": "2021-09-03T19:56:42.555Z"
   },
   {
    "duration": 12,
    "start_time": "2021-09-03T19:56:42.668Z"
   },
   {
    "duration": 14,
    "start_time": "2021-09-03T19:56:42.683Z"
   },
   {
    "duration": 13,
    "start_time": "2021-09-03T19:56:42.700Z"
   },
   {
    "duration": 44,
    "start_time": "2021-09-03T19:56:42.716Z"
   },
   {
    "duration": 10,
    "start_time": "2021-09-03T19:56:42.763Z"
   },
   {
    "duration": 71,
    "start_time": "2021-09-03T19:56:42.776Z"
   },
   {
    "duration": 6,
    "start_time": "2021-09-03T19:56:42.852Z"
   },
   {
    "duration": 78,
    "start_time": "2021-09-03T19:56:42.862Z"
   },
   {
    "duration": 9,
    "start_time": "2021-09-03T19:56:42.943Z"
   },
   {
    "duration": 106,
    "start_time": "2021-09-03T19:56:42.955Z"
   },
   {
    "duration": 604,
    "start_time": "2021-09-03T19:56:43.064Z"
   },
   {
    "duration": 3748,
    "start_time": "2021-09-03T19:56:43.671Z"
   },
   {
    "duration": 354,
    "start_time": "2021-09-03T19:56:47.422Z"
   },
   {
    "duration": 83,
    "start_time": "2021-09-03T19:56:47.779Z"
   },
   {
    "duration": 468,
    "start_time": "2021-09-03T19:56:47.865Z"
   },
   {
    "duration": 41,
    "start_time": "2021-09-03T19:56:48.336Z"
   },
   {
    "duration": 42,
    "start_time": "2021-09-03T19:56:48.384Z"
   },
   {
    "duration": 5966,
    "start_time": "2021-09-03T19:56:48.429Z"
   },
   {
    "duration": 1693,
    "start_time": "2021-09-03T19:56:54.397Z"
   },
   {
    "duration": 7,
    "start_time": "2021-09-03T19:56:56.092Z"
   },
   {
    "duration": 6,
    "start_time": "2021-09-03T19:56:56.117Z"
   },
   {
    "duration": 619,
    "start_time": "2021-09-03T19:56:56.125Z"
   },
   {
    "duration": 16,
    "start_time": "2021-09-03T19:56:56.747Z"
   },
   {
    "duration": 17,
    "start_time": "2021-09-03T19:56:56.765Z"
   },
   {
    "duration": 608,
    "start_time": "2021-09-03T19:56:56.817Z"
   },
   {
    "duration": 771,
    "start_time": "2021-09-03T19:56:57.429Z"
   },
   {
    "duration": 553,
    "start_time": "2021-09-03T19:56:58.202Z"
   },
   {
    "duration": 718,
    "start_time": "2021-09-03T19:56:58.758Z"
   },
   {
    "duration": 44,
    "start_time": "2021-09-03T19:56:59.479Z"
   },
   {
    "duration": 322,
    "start_time": "2021-09-03T19:56:59.526Z"
   },
   {
    "duration": 329,
    "start_time": "2021-09-03T19:56:59.850Z"
   },
   {
    "duration": 7,
    "start_time": "2021-09-03T19:57:00.182Z"
   },
   {
    "duration": 368,
    "start_time": "2021-09-03T19:57:00.191Z"
   },
   {
    "duration": 13,
    "start_time": "2021-09-03T19:57:00.561Z"
   },
   {
    "duration": 39,
    "start_time": "2021-09-03T19:57:00.577Z"
   },
   {
    "duration": 67,
    "start_time": "2021-09-03T19:57:00.619Z"
   },
   {
    "duration": 29,
    "start_time": "2021-09-03T19:57:00.689Z"
   },
   {
    "duration": 26,
    "start_time": "2021-09-03T19:57:00.721Z"
   },
   {
    "duration": 14,
    "start_time": "2021-09-03T19:57:00.749Z"
   },
   {
    "duration": 23,
    "start_time": "2021-09-03T19:57:00.765Z"
   },
   {
    "duration": 28,
    "start_time": "2021-09-03T19:57:00.790Z"
   },
   {
    "duration": 51,
    "start_time": "2021-09-03T19:57:00.820Z"
   },
   {
    "duration": 33,
    "start_time": "2021-09-03T19:57:00.874Z"
   },
   {
    "duration": 25,
    "start_time": "2021-09-03T19:57:00.910Z"
   },
   {
    "duration": 349,
    "start_time": "2021-09-03T19:57:00.938Z"
   },
   {
    "duration": -42,
    "start_time": "2021-09-03T19:57:01.333Z"
   },
   {
    "duration": -54,
    "start_time": "2021-09-03T19:57:01.347Z"
   },
   {
    "duration": -59,
    "start_time": "2021-09-03T19:57:01.354Z"
   },
   {
    "duration": -64,
    "start_time": "2021-09-03T19:57:01.361Z"
   },
   {
    "duration": 5,
    "start_time": "2021-09-03T20:06:43.499Z"
   },
   {
    "duration": 88,
    "start_time": "2021-09-03T20:06:43.506Z"
   },
   {
    "duration": 9,
    "start_time": "2021-09-03T20:06:43.597Z"
   },
   {
    "duration": 83,
    "start_time": "2021-09-03T20:06:43.608Z"
   },
   {
    "duration": 4,
    "start_time": "2021-09-03T20:06:43.716Z"
   },
   {
    "duration": 42,
    "start_time": "2021-09-03T20:06:43.723Z"
   },
   {
    "duration": 55,
    "start_time": "2021-09-03T20:06:43.768Z"
   },
   {
    "duration": 10,
    "start_time": "2021-09-03T20:06:43.826Z"
   },
   {
    "duration": 81,
    "start_time": "2021-09-03T20:06:43.838Z"
   },
   {
    "duration": 14,
    "start_time": "2021-09-03T20:06:43.922Z"
   },
   {
    "duration": 18,
    "start_time": "2021-09-03T20:06:43.939Z"
   },
   {
    "duration": 187,
    "start_time": "2021-09-03T20:06:43.960Z"
   },
   {
    "duration": 13,
    "start_time": "2021-09-03T20:06:44.150Z"
   },
   {
    "duration": 51,
    "start_time": "2021-09-03T20:06:44.167Z"
   },
   {
    "duration": 15,
    "start_time": "2021-09-03T20:06:44.221Z"
   },
   {
    "duration": 8,
    "start_time": "2021-09-03T20:06:44.239Z"
   },
   {
    "duration": 68,
    "start_time": "2021-09-03T20:06:44.249Z"
   },
   {
    "duration": 10,
    "start_time": "2021-09-03T20:06:44.319Z"
   },
   {
    "duration": 23,
    "start_time": "2021-09-03T20:06:44.335Z"
   },
   {
    "duration": 18,
    "start_time": "2021-09-03T20:06:44.362Z"
   },
   {
    "duration": 47,
    "start_time": "2021-09-03T20:06:44.383Z"
   },
   {
    "duration": 13,
    "start_time": "2021-09-03T20:06:44.432Z"
   },
   {
    "duration": 20,
    "start_time": "2021-09-03T20:06:44.448Z"
   },
   {
    "duration": 13,
    "start_time": "2021-09-03T20:06:44.470Z"
   },
   {
    "duration": 63,
    "start_time": "2021-09-03T20:06:44.486Z"
   },
   {
    "duration": 7,
    "start_time": "2021-09-03T20:06:44.551Z"
   },
   {
    "duration": 59,
    "start_time": "2021-09-03T20:06:44.560Z"
   },
   {
    "duration": 4,
    "start_time": "2021-09-03T20:06:44.622Z"
   },
   {
    "duration": 35,
    "start_time": "2021-09-03T20:06:44.628Z"
   },
   {
    "duration": 7,
    "start_time": "2021-09-03T20:06:44.665Z"
   },
   {
    "duration": 87,
    "start_time": "2021-09-03T20:06:44.675Z"
   },
   {
    "duration": 641,
    "start_time": "2021-09-03T20:06:44.765Z"
   },
   {
    "duration": 4093,
    "start_time": "2021-09-03T20:06:45.408Z"
   },
   {
    "duration": 343,
    "start_time": "2021-09-03T20:06:49.504Z"
   },
   {
    "duration": 90,
    "start_time": "2021-09-03T20:06:49.850Z"
   },
   {
    "duration": 463,
    "start_time": "2021-09-03T20:06:49.942Z"
   },
   {
    "duration": 43,
    "start_time": "2021-09-03T20:06:50.415Z"
   },
   {
    "duration": 18,
    "start_time": "2021-09-03T20:06:50.460Z"
   },
   {
    "duration": 4591,
    "start_time": "2021-09-03T20:06:50.481Z"
   },
   {
    "duration": 1569,
    "start_time": "2021-09-03T20:06:55.075Z"
   },
   {
    "duration": 6,
    "start_time": "2021-09-03T20:06:56.646Z"
   },
   {
    "duration": 22,
    "start_time": "2021-09-03T20:06:56.654Z"
   },
   {
    "duration": 587,
    "start_time": "2021-09-03T20:06:56.678Z"
   },
   {
    "duration": 16,
    "start_time": "2021-09-03T20:06:57.267Z"
   },
   {
    "duration": 40,
    "start_time": "2021-09-03T20:06:57.285Z"
   },
   {
    "duration": 615,
    "start_time": "2021-09-03T20:06:57.327Z"
   },
   {
    "duration": 765,
    "start_time": "2021-09-03T20:06:57.944Z"
   },
   {
    "duration": 424,
    "start_time": "2021-09-03T20:06:58.715Z"
   },
   {
    "duration": 730,
    "start_time": "2021-09-03T20:06:59.141Z"
   },
   {
    "duration": 48,
    "start_time": "2021-09-03T20:06:59.874Z"
   },
   {
    "duration": 330,
    "start_time": "2021-09-03T20:06:59.924Z"
   },
   {
    "duration": 356,
    "start_time": "2021-09-03T20:07:00.257Z"
   },
   {
    "duration": 8,
    "start_time": "2021-09-03T20:07:00.617Z"
   },
   {
    "duration": 345,
    "start_time": "2021-09-03T20:07:00.627Z"
   },
   {
    "duration": 12,
    "start_time": "2021-09-03T20:07:00.979Z"
   },
   {
    "duration": 44,
    "start_time": "2021-09-03T20:07:00.994Z"
   },
   {
    "duration": 64,
    "start_time": "2021-09-03T20:07:01.041Z"
   },
   {
    "duration": 23,
    "start_time": "2021-09-03T20:07:01.108Z"
   },
   {
    "duration": 31,
    "start_time": "2021-09-03T20:07:01.135Z"
   },
   {
    "duration": 25,
    "start_time": "2021-09-03T20:07:01.169Z"
   },
   {
    "duration": 46,
    "start_time": "2021-09-03T20:07:01.197Z"
   },
   {
    "duration": 62,
    "start_time": "2021-09-03T20:07:01.246Z"
   },
   {
    "duration": 44,
    "start_time": "2021-09-03T20:07:01.310Z"
   },
   {
    "duration": 45,
    "start_time": "2021-09-03T20:07:01.358Z"
   },
   {
    "duration": 53,
    "start_time": "2021-09-03T20:07:01.406Z"
   },
   {
    "duration": 358,
    "start_time": "2021-09-03T20:07:01.461Z"
   },
   {
    "duration": 119,
    "start_time": "2021-09-03T20:07:01.702Z"
   },
   {
    "duration": 115,
    "start_time": "2021-09-03T20:07:01.708Z"
   },
   {
    "duration": 108,
    "start_time": "2021-09-03T20:07:01.717Z"
   },
   {
    "duration": 97,
    "start_time": "2021-09-03T20:07:01.729Z"
   },
   {
    "duration": 551,
    "start_time": "2021-09-03T20:11:31.474Z"
   },
   {
    "duration": 890,
    "start_time": "2021-09-03T20:13:23.268Z"
   },
   {
    "duration": 83,
    "start_time": "2021-09-03T20:13:24.161Z"
   },
   {
    "duration": 20,
    "start_time": "2021-09-03T20:13:24.248Z"
   },
   {
    "duration": 104,
    "start_time": "2021-09-03T20:13:24.270Z"
   },
   {
    "duration": 4,
    "start_time": "2021-09-03T20:13:24.376Z"
   },
   {
    "duration": 54,
    "start_time": "2021-09-03T20:13:24.382Z"
   },
   {
    "duration": 18,
    "start_time": "2021-09-03T20:13:24.438Z"
   },
   {
    "duration": 13,
    "start_time": "2021-09-03T20:13:24.460Z"
   },
   {
    "duration": 77,
    "start_time": "2021-09-03T20:13:24.477Z"
   },
   {
    "duration": 20,
    "start_time": "2021-09-03T20:13:24.556Z"
   },
   {
    "duration": 44,
    "start_time": "2021-09-03T20:13:24.578Z"
   },
   {
    "duration": 138,
    "start_time": "2021-09-03T20:13:24.625Z"
   },
   {
    "duration": 10,
    "start_time": "2021-09-03T20:13:24.765Z"
   },
   {
    "duration": 43,
    "start_time": "2021-09-03T20:13:24.777Z"
   },
   {
    "duration": 13,
    "start_time": "2021-09-03T20:13:24.823Z"
   },
   {
    "duration": 9,
    "start_time": "2021-09-03T20:13:24.839Z"
   },
   {
    "duration": 17,
    "start_time": "2021-09-03T20:13:24.851Z"
   },
   {
    "duration": 49,
    "start_time": "2021-09-03T20:13:24.871Z"
   },
   {
    "duration": 26,
    "start_time": "2021-09-03T20:13:24.924Z"
   },
   {
    "duration": 24,
    "start_time": "2021-09-03T20:13:24.953Z"
   },
   {
    "duration": 45,
    "start_time": "2021-09-03T20:13:24.980Z"
   },
   {
    "duration": 14,
    "start_time": "2021-09-03T20:13:25.028Z"
   },
   {
    "duration": 10,
    "start_time": "2021-09-03T20:13:25.049Z"
   },
   {
    "duration": 57,
    "start_time": "2021-09-03T20:13:25.063Z"
   },
   {
    "duration": 64,
    "start_time": "2021-09-03T20:13:25.123Z"
   },
   {
    "duration": 31,
    "start_time": "2021-09-03T20:13:25.189Z"
   },
   {
    "duration": 36,
    "start_time": "2021-09-03T20:13:25.222Z"
   },
   {
    "duration": 4,
    "start_time": "2021-09-03T20:13:25.260Z"
   },
   {
    "duration": 64,
    "start_time": "2021-09-03T20:13:25.267Z"
   },
   {
    "duration": 7,
    "start_time": "2021-09-03T20:13:25.333Z"
   },
   {
    "duration": 74,
    "start_time": "2021-09-03T20:13:25.342Z"
   },
   {
    "duration": 643,
    "start_time": "2021-09-03T20:13:25.418Z"
   },
   {
    "duration": 3276,
    "start_time": "2021-09-03T20:13:26.063Z"
   },
   {
    "duration": 474,
    "start_time": "2021-09-03T20:13:29.342Z"
   },
   {
    "duration": 69,
    "start_time": "2021-09-03T20:13:29.818Z"
   },
   {
    "duration": 456,
    "start_time": "2021-09-03T20:13:29.917Z"
   },
   {
    "duration": 53,
    "start_time": "2021-09-03T20:13:30.376Z"
   },
   {
    "duration": 11,
    "start_time": "2021-09-03T20:13:30.432Z"
   },
   {
    "duration": 4677,
    "start_time": "2021-09-03T20:13:30.446Z"
   },
   {
    "duration": 1386,
    "start_time": "2021-09-03T20:13:35.126Z"
   },
   {
    "duration": 7,
    "start_time": "2021-09-03T20:13:36.516Z"
   },
   {
    "duration": 14,
    "start_time": "2021-09-03T20:13:36.526Z"
   },
   {
    "duration": 682,
    "start_time": "2021-09-03T20:13:36.543Z"
   },
   {
    "duration": 20,
    "start_time": "2021-09-03T20:13:37.228Z"
   },
   {
    "duration": 20,
    "start_time": "2021-09-03T20:13:37.251Z"
   },
   {
    "duration": 644,
    "start_time": "2021-09-03T20:13:37.275Z"
   },
   {
    "duration": 952,
    "start_time": "2021-09-03T20:13:37.923Z"
   },
   {
    "duration": 470,
    "start_time": "2021-09-03T20:13:38.879Z"
   },
   {
    "duration": 757,
    "start_time": "2021-09-03T20:13:39.352Z"
   },
   {
    "duration": 42,
    "start_time": "2021-09-03T20:13:40.112Z"
   },
   {
    "duration": 323,
    "start_time": "2021-09-03T20:13:40.157Z"
   },
   {
    "duration": 300,
    "start_time": "2021-09-03T20:13:40.482Z"
   },
   {
    "duration": 7,
    "start_time": "2021-09-03T20:13:40.785Z"
   },
   {
    "duration": 313,
    "start_time": "2021-09-03T20:13:40.794Z"
   },
   {
    "duration": 12,
    "start_time": "2021-09-03T20:13:41.116Z"
   },
   {
    "duration": 18,
    "start_time": "2021-09-03T20:13:41.130Z"
   },
   {
    "duration": 74,
    "start_time": "2021-09-03T20:13:41.150Z"
   },
   {
    "duration": 14,
    "start_time": "2021-09-03T20:13:41.226Z"
   },
   {
    "duration": 22,
    "start_time": "2021-09-03T20:13:41.242Z"
   },
   {
    "duration": 9,
    "start_time": "2021-09-03T20:13:41.266Z"
   },
   {
    "duration": 41,
    "start_time": "2021-09-03T20:13:41.277Z"
   },
   {
    "duration": 11,
    "start_time": "2021-09-03T20:13:41.321Z"
   },
   {
    "duration": 20,
    "start_time": "2021-09-03T20:13:41.335Z"
   },
   {
    "duration": 18,
    "start_time": "2021-09-03T20:13:41.358Z"
   },
   {
    "duration": 42,
    "start_time": "2021-09-03T20:13:41.378Z"
   },
   {
    "duration": 407,
    "start_time": "2021-09-03T20:13:41.422Z"
   },
   {
    "duration": 117,
    "start_time": "2021-09-03T20:13:41.714Z"
   },
   {
    "duration": 107,
    "start_time": "2021-09-03T20:13:41.726Z"
   },
   {
    "duration": 98,
    "start_time": "2021-09-03T20:13:41.736Z"
   },
   {
    "duration": 94,
    "start_time": "2021-09-03T20:13:41.742Z"
   },
   {
    "duration": 22,
    "start_time": "2021-09-03T20:14:48.858Z"
   },
   {
    "duration": 34,
    "start_time": "2021-09-03T20:14:48.883Z"
   },
   {
    "duration": 7,
    "start_time": "2021-09-03T20:14:48.920Z"
   },
   {
    "duration": 13,
    "start_time": "2021-09-03T20:14:48.930Z"
   },
   {
    "duration": 13,
    "start_time": "2021-09-03T20:14:48.945Z"
   },
   {
    "duration": 76,
    "start_time": "2021-09-03T20:14:48.961Z"
   },
   {
    "duration": 35,
    "start_time": "2021-09-03T20:14:49.039Z"
   },
   {
    "duration": 4,
    "start_time": "2021-09-03T20:14:49.077Z"
   },
   {
    "duration": 362,
    "start_time": "2021-09-03T20:14:49.115Z"
   },
   {
    "duration": 322,
    "start_time": "2021-09-03T20:14:49.480Z"
   },
   {
    "duration": 177,
    "start_time": "2021-09-03T20:14:49.628Z"
   },
   {
    "duration": 170,
    "start_time": "2021-09-03T20:14:49.636Z"
   },
   {
    "duration": 122,
    "start_time": "2021-09-03T20:14:49.685Z"
   },
   {
    "duration": 8,
    "start_time": "2021-09-03T20:17:50.232Z"
   },
   {
    "duration": 7,
    "start_time": "2021-09-03T20:17:57.669Z"
   },
   {
    "duration": 12,
    "start_time": "2021-09-03T20:17:57.683Z"
   },
   {
    "duration": 7559,
    "start_time": "2021-09-03T20:17:57.698Z"
   },
   {
    "duration": 7,
    "start_time": "2021-09-03T20:18:05.261Z"
   },
   {
    "duration": 8767,
    "start_time": "2021-09-03T20:18:19.939Z"
   },
   {
    "duration": 14327,
    "start_time": "2021-09-03T20:18:28.717Z"
   },
   {
    "duration": 8,
    "start_time": "2021-09-03T20:23:04.668Z"
   },
   {
    "duration": 8174,
    "start_time": "2021-09-03T20:23:53.646Z"
   },
   {
    "duration": 6,
    "start_time": "2021-09-03T20:24:03.755Z"
   },
   {
    "duration": 323,
    "start_time": "2021-09-03T20:25:44.522Z"
   },
   {
    "duration": 9,
    "start_time": "2021-09-03T20:25:52.826Z"
   },
   {
    "duration": 4290,
    "start_time": "2021-09-03T20:34:58.368Z"
   },
   {
    "duration": 620,
    "start_time": "2021-09-03T20:37:21.728Z"
   },
   {
    "duration": 885,
    "start_time": "2021-09-03T20:37:46.666Z"
   },
   {
    "duration": 919,
    "start_time": "2021-09-03T20:39:23.362Z"
   },
   {
    "duration": 3023,
    "start_time": "2021-09-03T20:39:36.854Z"
   },
   {
    "duration": 611,
    "start_time": "2021-09-03T20:43:39.917Z"
   },
   {
    "duration": 288,
    "start_time": "2021-09-03T20:43:52.605Z"
   },
   {
    "duration": 606,
    "start_time": "2021-09-03T20:43:58.035Z"
   },
   {
    "duration": 8750,
    "start_time": "2021-09-03T20:47:55.432Z"
   },
   {
    "duration": 779,
    "start_time": "2021-09-03T20:49:21.779Z"
   },
   {
    "duration": 3719,
    "start_time": "2021-09-03T20:49:40.828Z"
   },
   {
    "duration": 533,
    "start_time": "2021-09-03T20:51:28.946Z"
   },
   {
    "duration": 7,
    "start_time": "2021-09-03T20:57:55.367Z"
   },
   {
    "duration": 7,
    "start_time": "2021-09-03T20:59:37.402Z"
   },
   {
    "duration": 6,
    "start_time": "2021-09-03T20:59:49.137Z"
   },
   {
    "duration": 7,
    "start_time": "2021-09-03T21:00:05.467Z"
   },
   {
    "duration": 11,
    "start_time": "2021-09-03T21:03:23.895Z"
   },
   {
    "duration": 12,
    "start_time": "2021-09-03T21:04:11.747Z"
   },
   {
    "duration": 10,
    "start_time": "2021-09-03T21:04:18.565Z"
   },
   {
    "duration": 11,
    "start_time": "2021-09-03T21:06:15.657Z"
   },
   {
    "duration": 13,
    "start_time": "2021-09-03T21:06:29.913Z"
   },
   {
    "duration": 13,
    "start_time": "2021-09-03T21:06:32.709Z"
   },
   {
    "duration": 8,
    "start_time": "2021-09-03T21:07:03.645Z"
   },
   {
    "duration": 7,
    "start_time": "2021-09-03T21:07:05.141Z"
   },
   {
    "duration": 8,
    "start_time": "2021-09-03T21:07:06.056Z"
   },
   {
    "duration": 7,
    "start_time": "2021-09-03T21:10:02.861Z"
   },
   {
    "duration": 8,
    "start_time": "2021-09-03T21:10:28.617Z"
   },
   {
    "duration": 7,
    "start_time": "2021-09-03T21:11:40.414Z"
   },
   {
    "duration": 7,
    "start_time": "2021-09-03T21:17:06.144Z"
   },
   {
    "duration": 6,
    "start_time": "2021-09-03T21:23:50.144Z"
   },
   {
    "duration": 8,
    "start_time": "2021-09-03T21:28:59.228Z"
   },
   {
    "duration": 7294,
    "start_time": "2021-09-03T21:29:54.134Z"
   },
   {
    "duration": 16,
    "start_time": "2021-09-03T21:31:31.401Z"
   },
   {
    "duration": 18,
    "start_time": "2021-09-03T21:32:12.982Z"
   },
   {
    "duration": 16,
    "start_time": "2021-09-03T21:32:34.375Z"
   },
   {
    "duration": 18,
    "start_time": "2021-09-03T21:34:11.086Z"
   },
   {
    "duration": 7112,
    "start_time": "2021-09-03T21:35:33.656Z"
   },
   {
    "duration": 7406,
    "start_time": "2021-09-03T21:39:46.815Z"
   },
   {
    "duration": 14067,
    "start_time": "2021-09-03T21:39:54.224Z"
   },
   {
    "duration": 7240,
    "start_time": "2021-09-03T21:40:08.294Z"
   },
   {
    "duration": 6950,
    "start_time": "2021-09-03T21:40:32.760Z"
   },
   {
    "duration": 7259,
    "start_time": "2021-09-03T21:40:49.939Z"
   },
   {
    "duration": 14090,
    "start_time": "2021-09-03T21:42:51.454Z"
   },
   {
    "duration": 311,
    "start_time": "2021-09-03T22:08:13.367Z"
   },
   {
    "duration": 327,
    "start_time": "2021-09-03T22:08:16.880Z"
   },
   {
    "duration": 310,
    "start_time": "2021-09-03T22:08:17.848Z"
   },
   {
    "duration": 323,
    "start_time": "2021-09-03T22:08:40.045Z"
   },
   {
    "duration": 126,
    "start_time": "2021-09-03T22:09:24.085Z"
   },
   {
    "duration": 8,
    "start_time": "2021-09-03T22:09:28.676Z"
   },
   {
    "duration": 46,
    "start_time": "2021-09-03T22:09:30.452Z"
   },
   {
    "duration": 85,
    "start_time": "2021-09-03T22:11:08.103Z"
   },
   {
    "duration": 9,
    "start_time": "2021-09-03T22:11:09.742Z"
   },
   {
    "duration": 35,
    "start_time": "2021-09-03T22:11:10.507Z"
   },
   {
    "duration": 33,
    "start_time": "2021-09-03T22:11:40.215Z"
   },
   {
    "duration": 34,
    "start_time": "2021-09-03T22:12:02.020Z"
   },
   {
    "duration": 30,
    "start_time": "2021-09-03T22:12:32.827Z"
   },
   {
    "duration": 32,
    "start_time": "2021-09-03T22:12:35.244Z"
   },
   {
    "duration": 30,
    "start_time": "2021-09-03T22:12:54.725Z"
   },
   {
    "duration": 33,
    "start_time": "2021-09-03T22:12:57.516Z"
   },
   {
    "duration": 36,
    "start_time": "2021-09-03T22:13:09.970Z"
   },
   {
    "duration": 32,
    "start_time": "2021-09-03T22:13:21.745Z"
   },
   {
    "duration": 33,
    "start_time": "2021-09-03T22:15:07.764Z"
   },
   {
    "duration": 7,
    "start_time": "2021-09-03T22:16:28.189Z"
   },
   {
    "duration": 303,
    "start_time": "2021-09-03T22:17:04.179Z"
   },
   {
    "duration": 8,
    "start_time": "2021-09-03T22:17:26.308Z"
   },
   {
    "duration": 8,
    "start_time": "2021-09-03T22:17:36.871Z"
   },
   {
    "duration": 8,
    "start_time": "2021-09-03T22:17:41.733Z"
   },
   {
    "duration": 8,
    "start_time": "2021-09-03T22:18:23.027Z"
   },
   {
    "duration": 8,
    "start_time": "2021-09-03T22:18:35.202Z"
   },
   {
    "duration": -610,
    "start_time": "2021-09-03T22:20:34.187Z"
   },
   {
    "duration": 320,
    "start_time": "2021-09-03T22:20:51.119Z"
   },
   {
    "duration": 314,
    "start_time": "2021-09-03T22:21:17.583Z"
   },
   {
    "duration": 69,
    "start_time": "2021-09-03T22:21:39.206Z"
   },
   {
    "duration": 56,
    "start_time": "2021-09-03T22:22:26.717Z"
   },
   {
    "duration": 54,
    "start_time": "2021-09-03T22:23:56.128Z"
   },
   {
    "duration": 312,
    "start_time": "2021-09-03T22:26:16.436Z"
   },
   {
    "duration": 68,
    "start_time": "2021-09-03T22:26:26.922Z"
   },
   {
    "duration": 53,
    "start_time": "2021-09-03T22:27:12.878Z"
   },
   {
    "duration": 56,
    "start_time": "2021-09-03T22:27:42.698Z"
   },
   {
    "duration": 46,
    "start_time": "2021-09-03T22:27:46.802Z"
   },
   {
    "duration": 233,
    "start_time": "2021-09-03T22:31:52.986Z"
   },
   {
    "duration": 105,
    "start_time": "2021-09-03T22:32:52.746Z"
   },
   {
    "duration": 12,
    "start_time": "2021-09-03T22:32:56.634Z"
   },
   {
    "duration": 290,
    "start_time": "2021-09-03T22:34:20.930Z"
   },
   {
    "duration": 353,
    "start_time": "2021-09-03T22:34:25.540Z"
   },
   {
    "duration": 227,
    "start_time": "2021-09-03T22:35:28.072Z"
   },
   {
    "duration": 208,
    "start_time": "2021-09-03T22:35:58.156Z"
   },
   {
    "duration": 217,
    "start_time": "2021-09-03T22:37:24.450Z"
   },
   {
    "duration": 52,
    "start_time": "2021-09-03T22:39:40.391Z"
   },
   {
    "duration": 127,
    "start_time": "2021-09-03T22:41:34.141Z"
   },
   {
    "duration": 12,
    "start_time": "2021-09-03T22:41:36.087Z"
   },
   {
    "duration": 109,
    "start_time": "2021-09-03T22:41:40.213Z"
   },
   {
    "duration": 137,
    "start_time": "2021-09-03T22:41:43.125Z"
   },
   {
    "duration": 217,
    "start_time": "2021-09-03T22:41:49.383Z"
   },
   {
    "duration": 215,
    "start_time": "2021-09-03T22:41:57.424Z"
   },
   {
    "duration": 261,
    "start_time": "2021-09-03T22:42:03.423Z"
   },
   {
    "duration": 230,
    "start_time": "2021-09-03T22:42:15.549Z"
   },
   {
    "duration": 210,
    "start_time": "2021-09-03T22:42:22.794Z"
   },
   {
    "duration": 205,
    "start_time": "2021-09-03T22:44:57.138Z"
   },
   {
    "duration": 67,
    "start_time": "2021-09-03T22:48:20.279Z"
   },
   {
    "duration": 40,
    "start_time": "2021-09-03T22:50:02.886Z"
   },
   {
    "duration": 46,
    "start_time": "2021-09-03T22:50:05.727Z"
   },
   {
    "duration": 485,
    "start_time": "2021-09-03T22:52:28.759Z"
   },
   {
    "duration": 12,
    "start_time": "2021-09-03T22:52:59.121Z"
   },
   {
    "duration": 212,
    "start_time": "2021-09-03T22:54:02.844Z"
   },
   {
    "duration": 9,
    "start_time": "2021-09-03T22:54:25.240Z"
   },
   {
    "duration": 9,
    "start_time": "2021-09-03T22:54:48.641Z"
   },
   {
    "duration": 9,
    "start_time": "2021-09-03T22:55:02.647Z"
   },
   {
    "duration": 6,
    "start_time": "2021-09-03T22:55:22.603Z"
   },
   {
    "duration": 7,
    "start_time": "2021-09-03T22:55:32.933Z"
   },
   {
    "duration": 11,
    "start_time": "2021-09-03T23:05:39.987Z"
   },
   {
    "duration": 10,
    "start_time": "2021-09-03T23:09:13.373Z"
   },
   {
    "duration": 10,
    "start_time": "2021-09-03T23:09:58.347Z"
   },
   {
    "duration": 10,
    "start_time": "2021-09-03T23:10:11.619Z"
   },
   {
    "duration": 125,
    "start_time": "2021-09-03T23:14:50.913Z"
   },
   {
    "duration": 106,
    "start_time": "2021-09-03T23:15:32.456Z"
   },
   {
    "duration": 114,
    "start_time": "2021-09-03T23:15:36.032Z"
   },
   {
    "duration": 113,
    "start_time": "2021-09-03T23:16:11.628Z"
   },
   {
    "duration": 136,
    "start_time": "2021-09-03T23:16:43.182Z"
   },
   {
    "duration": 130,
    "start_time": "2021-09-03T23:18:22.586Z"
   },
   {
    "duration": 7,
    "start_time": "2021-09-03T23:18:38.296Z"
   },
   {
    "duration": 8,
    "start_time": "2021-09-03T23:18:42.650Z"
   },
   {
    "duration": 7,
    "start_time": "2021-09-03T23:18:53.780Z"
   },
   {
    "duration": 130,
    "start_time": "2021-09-03T23:19:16.747Z"
   },
   {
    "duration": 196,
    "start_time": "2021-09-03T23:19:31.287Z"
   },
   {
    "duration": 180,
    "start_time": "2021-09-03T23:19:41.974Z"
   },
   {
    "duration": 10,
    "start_time": "2021-09-03T23:20:35.212Z"
   },
   {
    "duration": 339,
    "start_time": "2021-09-03T23:23:31.707Z"
   },
   {
    "duration": 15,
    "start_time": "2021-09-03T23:23:37.708Z"
   },
   {
    "duration": 42,
    "start_time": "2021-09-03T23:24:17.035Z"
   },
   {
    "duration": 10,
    "start_time": "2021-09-03T23:25:32.005Z"
   },
   {
    "duration": 41,
    "start_time": "2021-09-03T23:29:27.183Z"
   },
   {
    "duration": 43,
    "start_time": "2021-09-03T23:29:38.636Z"
   },
   {
    "duration": 10,
    "start_time": "2021-09-03T23:34:02.538Z"
   },
   {
    "duration": 835,
    "start_time": "2021-09-04T06:49:03.950Z"
   },
   {
    "duration": 76,
    "start_time": "2021-09-04T06:49:04.788Z"
   },
   {
    "duration": 19,
    "start_time": "2021-09-04T06:49:04.867Z"
   },
   {
    "duration": 90,
    "start_time": "2021-09-04T06:49:04.889Z"
   },
   {
    "duration": 3,
    "start_time": "2021-09-04T06:49:04.982Z"
   },
   {
    "duration": 41,
    "start_time": "2021-09-04T06:49:04.987Z"
   },
   {
    "duration": 20,
    "start_time": "2021-09-04T06:49:05.030Z"
   },
   {
    "duration": 25,
    "start_time": "2021-09-04T06:49:05.054Z"
   },
   {
    "duration": 41,
    "start_time": "2021-09-04T06:49:05.082Z"
   },
   {
    "duration": 46,
    "start_time": "2021-09-04T06:49:05.126Z"
   },
   {
    "duration": 12,
    "start_time": "2021-09-04T06:49:05.175Z"
   },
   {
    "duration": 125,
    "start_time": "2021-09-04T06:49:05.189Z"
   },
   {
    "duration": 9,
    "start_time": "2021-09-04T06:49:05.316Z"
   },
   {
    "duration": 41,
    "start_time": "2021-09-04T06:49:05.327Z"
   },
   {
    "duration": 16,
    "start_time": "2021-09-04T06:49:05.372Z"
   },
   {
    "duration": 13,
    "start_time": "2021-09-04T06:49:05.391Z"
   },
   {
    "duration": 21,
    "start_time": "2021-09-04T06:49:05.406Z"
   },
   {
    "duration": 41,
    "start_time": "2021-09-04T06:49:05.429Z"
   },
   {
    "duration": 28,
    "start_time": "2021-09-04T06:49:05.472Z"
   },
   {
    "duration": 19,
    "start_time": "2021-09-04T06:49:05.503Z"
   },
   {
    "duration": 14,
    "start_time": "2021-09-04T06:49:05.524Z"
   },
   {
    "duration": 37,
    "start_time": "2021-09-04T06:49:05.540Z"
   },
   {
    "duration": 12,
    "start_time": "2021-09-04T06:49:05.583Z"
   },
   {
    "duration": 13,
    "start_time": "2021-09-04T06:49:05.599Z"
   },
   {
    "duration": 61,
    "start_time": "2021-09-04T06:49:05.615Z"
   },
   {
    "duration": 7,
    "start_time": "2021-09-04T06:49:05.679Z"
   },
   {
    "duration": 38,
    "start_time": "2021-09-04T06:49:05.688Z"
   },
   {
    "duration": 4,
    "start_time": "2021-09-04T06:49:05.728Z"
   },
   {
    "duration": 58,
    "start_time": "2021-09-04T06:49:05.734Z"
   },
   {
    "duration": 6,
    "start_time": "2021-09-04T06:49:05.795Z"
   },
   {
    "duration": 69,
    "start_time": "2021-09-04T06:49:05.803Z"
   },
   {
    "duration": 674,
    "start_time": "2021-09-04T06:49:05.874Z"
   },
   {
    "duration": 3087,
    "start_time": "2021-09-04T06:49:06.551Z"
   },
   {
    "duration": 340,
    "start_time": "2021-09-04T06:49:09.641Z"
   },
   {
    "duration": 92,
    "start_time": "2021-09-04T06:49:09.984Z"
   },
   {
    "duration": 440,
    "start_time": "2021-09-04T06:49:10.079Z"
   },
   {
    "duration": 59,
    "start_time": "2021-09-04T06:49:10.522Z"
   },
   {
    "duration": 13,
    "start_time": "2021-09-04T06:49:10.585Z"
   },
   {
    "duration": 4644,
    "start_time": "2021-09-04T06:49:10.601Z"
   },
   {
    "duration": 1433,
    "start_time": "2021-09-04T06:49:15.247Z"
   },
   {
    "duration": 6,
    "start_time": "2021-09-04T06:49:16.682Z"
   },
   {
    "duration": 8,
    "start_time": "2021-09-04T06:49:16.691Z"
   },
   {
    "duration": 711,
    "start_time": "2021-09-04T06:49:16.702Z"
   },
   {
    "duration": 17,
    "start_time": "2021-09-04T06:49:17.415Z"
   },
   {
    "duration": 36,
    "start_time": "2021-09-04T06:49:17.434Z"
   },
   {
    "duration": 610,
    "start_time": "2021-09-04T06:49:17.473Z"
   },
   {
    "duration": 962,
    "start_time": "2021-09-04T06:49:18.085Z"
   },
   {
    "duration": 448,
    "start_time": "2021-09-04T06:49:19.049Z"
   },
   {
    "duration": 7,
    "start_time": "2021-09-04T06:49:19.499Z"
   },
   {
    "duration": 6,
    "start_time": "2021-09-04T06:49:19.508Z"
   },
   {
    "duration": 10,
    "start_time": "2021-09-04T06:49:19.517Z"
   },
   {
    "duration": 39,
    "start_time": "2021-09-04T06:49:19.529Z"
   },
   {
    "duration": 6,
    "start_time": "2021-09-04T06:49:19.571Z"
   },
   {
    "duration": 749,
    "start_time": "2021-09-04T06:49:19.579Z"
   },
   {
    "duration": 10,
    "start_time": "2021-09-04T06:49:20.330Z"
   },
   {
    "duration": 51,
    "start_time": "2021-09-04T06:49:20.342Z"
   },
   {
    "duration": 310,
    "start_time": "2021-09-04T06:49:20.396Z"
   },
   {
    "duration": 7,
    "start_time": "2021-09-04T06:49:20.709Z"
   },
   {
    "duration": 321,
    "start_time": "2021-09-04T06:49:20.720Z"
   },
   {
    "duration": 23,
    "start_time": "2021-09-04T06:49:21.044Z"
   },
   {
    "duration": 10,
    "start_time": "2021-09-04T06:49:21.069Z"
   },
   {
    "duration": 318,
    "start_time": "2021-09-04T06:49:21.082Z"
   },
   {
    "duration": 7,
    "start_time": "2021-09-04T06:49:21.404Z"
   },
   {
    "duration": 13,
    "start_time": "2021-09-04T06:49:21.414Z"
   },
   {
    "duration": 40,
    "start_time": "2021-09-04T06:49:21.430Z"
   },
   {
    "duration": 51,
    "start_time": "2021-09-04T06:49:21.473Z"
   },
   {
    "duration": 52,
    "start_time": "2021-09-04T06:49:21.528Z"
   },
   {
    "duration": 37,
    "start_time": "2021-09-04T06:49:21.590Z"
   },
   {
    "duration": 5,
    "start_time": "2021-09-04T06:49:21.631Z"
   },
   {
    "duration": 13,
    "start_time": "2021-09-04T06:49:21.667Z"
   },
   {
    "duration": 14,
    "start_time": "2021-09-04T06:49:21.682Z"
   },
   {
    "duration": 75,
    "start_time": "2021-09-04T06:49:21.699Z"
   },
   {
    "duration": 38,
    "start_time": "2021-09-04T06:49:21.777Z"
   },
   {
    "duration": 7,
    "start_time": "2021-09-04T06:49:21.818Z"
   },
   {
    "duration": 396,
    "start_time": "2021-09-04T06:49:21.829Z"
   },
   {
    "duration": 8,
    "start_time": "2021-09-04T06:49:22.228Z"
   },
   {
    "duration": 9,
    "start_time": "2021-09-04T06:49:22.239Z"
   },
   {
    "duration": 7174,
    "start_time": "2021-09-04T06:49:22.268Z"
   },
   {
    "duration": 8,
    "start_time": "2021-09-04T06:49:29.445Z"
   },
   {
    "duration": 14331,
    "start_time": "2021-09-04T06:49:29.468Z"
   },
   {
    "duration": 15,
    "start_time": "2021-09-04T06:49:43.801Z"
   },
   {
    "duration": 16,
    "start_time": "2021-09-04T06:49:43.818Z"
   },
   {
    "duration": 72,
    "start_time": "2021-09-04T06:49:43.836Z"
   },
   {
    "duration": 10,
    "start_time": "2021-09-04T06:49:43.910Z"
   },
   {
    "duration": 351,
    "start_time": "2021-09-04T06:49:43.923Z"
   },
   {
    "duration": 9,
    "start_time": "2021-09-04T06:49:44.276Z"
   },
   {
    "duration": 45,
    "start_time": "2021-09-04T06:49:44.287Z"
   }
  ],
  "kernelspec": {
   "display_name": "Python 3",
   "language": "python",
   "name": "python3"
  },
  "language_info": {
   "codemirror_mode": {
    "name": "ipython",
    "version": 3
   },
   "file_extension": ".py",
   "mimetype": "text/x-python",
   "name": "python",
   "nbconvert_exporter": "python",
   "pygments_lexer": "ipython3",
   "version": "3.8.5"
  },
  "toc": {
   "base_numbering": 1,
   "nav_menu": {},
   "number_sections": true,
   "sideBar": true,
   "skip_h1_title": true,
   "title_cell": "Содержание",
   "title_sidebar": "Contents",
   "toc_cell": true,
   "toc_position": {},
   "toc_section_display": true,
   "toc_window_display": true
  }
 },
 "nbformat": 4,
 "nbformat_minor": 2
}
