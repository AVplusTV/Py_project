{
 "cells": [
  {
   "cell_type": "markdown",
   "metadata": {},
   "source": [
    "<div style=\"background: #C0C0C0; padding: 5px; border: 1px solid black; border-radius: 5px;\">\n",
    "    <font color='black'><u><b>КОММЕНТАРИЙ РЕВЬЮЕРА</b></u></font><br />\n",
    "    <br />\n",
    "    Привет, Роман! Меня зовут Кирилл Киселев.<br />\n",
    "        На этом проекте я буду ревьюером. Предлагаю общаться на \"ты\". Если так будет неудобно, пожалуйста, дай знать.<br />\n",
    "        <br />\n",
    "        Моя цель - помочь тебе освоиться в новой профессии и научиться применять полученные знания максимально эффективно. Не стесняйся спрашивать, если что-то непонятно. Вместе проще разобраться с любыми вопросами. Из своего опыта скажу, хорошо и важно, когда переписка ревьюера и студента - сохраняется на следующие проекты и даже на будущую практическую деятельность.<br />\n",
    "        <br />\n",
    "В проекте тебе встретятся мои комментарии к коду и выводам. Пожалуйста, не удаляй их, так будет удобнее вести общение.<br />\n",
    "        Ниже приведены примеры оформления моих комментариев:<br />\n",
    "</div>"
   ]
  },
  {
   "cell_type": "markdown",
   "metadata": {},
   "source": [
    "<div class=\"alert alert-success\" style=\"border-color: green; border-radius: 5px\">\n",
    "    <p><u><b>✅ КОММЕНТАРИЙ РЕВЬЮЕРА</b></u></p>\n",
    "    <p>Таким образом оформляется комментарий, означающий что пункт выполнен без ошибок.</p>\n",
    "</div>"
   ]
  },
  {
   "cell_type": "markdown",
   "metadata": {},
   "source": [
    "<div class=\"alert alert-warning\" style=\"border-color: orange; border-radius: 5px\">\n",
    "    <p><u><b>⚠️ КОММЕНТАРИЙ РЕВЬЮЕРА</b></u></p>\n",
    "    <p>Таким образом оформляется комментарий, означающий что в пункте есть некритичные недочеты.</p>\n",
    "</div>"
   ]
  },
  {
   "cell_type": "markdown",
   "metadata": {},
   "source": [
    "<div class=\"alert alert-danger\" style=\"border-color: #8B0000; border-radius: 5px\">\n",
    "    <p><u><b>❌ КОММЕНТАРИЙ РЕВЬЮЕРА</b></u></p>\n",
    "    <p>Таким образом оформляется комментарий, означающий что в пункте есть критичные недочеты, требующие исправления.</p>\n",
    "</div>"
   ]
  },
  {
   "cell_type": "markdown",
   "metadata": {},
   "source": [
    "<div style=\"background: #B0E0E6; padding: 5px; border: 1px solid SteelBlue; border-radius: 5px;\">\n",
    "    <font color='4682B4'><u><b>КОММЕНТАРИЙ СТУДЕНТА</b></u></font>\n",
    "    <br />\n",
    "    <font color='4682B4'>Буду очень признателен, если ты тоже оформишь свои комментарии и вопросы ко мне с прменением цветовой разметки. Например, так.</font>\n",
    "</div>"
   ]
  },
  {
   "cell_type": "markdown",
   "metadata": {
    "toc": true
   },
   "source": [
    "<h1>Table of Contents<span class=\"tocSkip\"></span></h1>\n",
    "<div class=\"toc\"><ul class=\"toc-item\"><li><span><a href=\"#Исследование-данных\" data-toc-modified-id=\"Исследование-данных-1\"><span class=\"toc-item-num\">1&nbsp;&nbsp;</span>Исследование данных</a></span><ul class=\"toc-item\"><li><span><a href=\"#Открываем-файл-с-данными-и-анализируем-содержимое\" data-toc-modified-id=\"Открываем-файл-с-данными-и-анализируем-содержимое-1.1\"><span class=\"toc-item-num\">1.1&nbsp;&nbsp;</span>Открываем файл с данными и анализируем содержимое</a></span></li><li><span><a href=\"#Разделяем-выборки-без-шифрования\" data-toc-modified-id=\"Разделяем-выборки-без-шифрования-1.2\"><span class=\"toc-item-num\">1.2&nbsp;&nbsp;</span>Разделяем выборки без шифрования</a></span></li><li><span><a href=\"#Модель-линейной-регрессии-без-шифрования,-проверяем-метрику-R2\" data-toc-modified-id=\"Модель-линейной-регрессии-без-шифрования,-проверяем-метрику-R2-1.3\"><span class=\"toc-item-num\">1.3&nbsp;&nbsp;</span>Модель линейной регрессии без шифрования, проверяем метрику R2</a></span></li><li><span><a href=\"#Предложим-алгоритм-преобразования-данных-для-решения-задачи\" data-toc-modified-id=\"Предложим-алгоритм-преобразования-данных-для-решения-задачи-1.4\"><span class=\"toc-item-num\">1.4&nbsp;&nbsp;</span>Предложим алгоритм преобразования данных для решения задачи</a></span></li><li><span><a href=\"#Преобразуем-выборки-в-матрицы-и-шифруем-при-помощи-обратимой-матрицы\" data-toc-modified-id=\"Преобразуем-выборки-в-матрицы-и-шифруем-при-помощи-обратимой-матрицы-1.5\"><span class=\"toc-item-num\">1.5&nbsp;&nbsp;</span>Преобразуем выборки в матрицы и шифруем при помощи обратимой матрицы</a></span></li><li><span><a href=\"#Модель-линейной-регрессии-c-шифрованием-данных-признаков,-проверяем-метрику-R2\" data-toc-modified-id=\"Модель-линейной-регрессии-c-шифрованием-данных-признаков,-проверяем-метрику-R2-1.6\"><span class=\"toc-item-num\">1.6&nbsp;&nbsp;</span>Модель линейной регрессии c шифрованием данных признаков, проверяем метрику R2</a></span></li><li><span><a href=\"#Проанализируем-почему-умножение-признаков-на-обратимую-матрицу-не-влияет-на-работу-модели-линейнной-регрессии\" data-toc-modified-id=\"Проанализируем-почему-умножение-признаков-на-обратимую-матрицу-не-влияет-на-работу-модели-линейнной-регрессии-1.7\"><span class=\"toc-item-num\">1.7&nbsp;&nbsp;</span>Проанализируем почему умножение признаков на обратимую матрицу не влияет на работу модели линейнной регрессии</a></span></li><li><span><a href=\"#А-вот-интересно-а-если-придумать-матрицу-4:4-необратимую\" data-toc-modified-id=\"А-вот-интересно-а-если-придумать-матрицу-4:4-необратимую-1.8\"><span class=\"toc-item-num\">1.8&nbsp;&nbsp;</span>А вот интересно а если придумать матрицу 4:4 необратимую</a></span></li></ul></li></ul></div>"
   ]
  },
  {
   "cell_type": "markdown",
   "metadata": {},
   "source": [
    "The version of the notebook server is: 6.1.4\n",
    "\n",
    "The server is running on this version of Python: Python 3.8.5\n",
    "\n",
    "OS Windows 10 Home\n",
    "\n",
    "Configurable nbextensions Table of Contents (2) compatibility: 4.x, 5.x (https://www.codegrepper.com/code-examples/shell/install+toc2+jupyter+notebook)\n",
    "\n",
    "<b>Описание проекта:</b>\n",
    "\n",
    "Вам нужно защитить данные клиентов страховой компании «Хоть потоп». Разработайте такой метод преобразования данных, чтобы по ним было сложно восстановить персональную информацию. Обоснуйте корректность его работы.\n",
    "Нужно защитить данные, чтобы при преобразовании качество моделей машинного обучения не ухудшилось. Подбирать наилучшую модель не требуется.\n",
    "\n",
    "\n"
   ]
  },
  {
   "cell_type": "markdown",
   "metadata": {},
   "source": [
    "Импортируем модули и библиотеки:"
   ]
  },
  {
   "cell_type": "code",
   "execution_count": 1,
   "metadata": {},
   "outputs": [],
   "source": [
    "import pandas as pd # импорт библиотеки pandas\n",
    "import matplotlib.pyplot as plt # импорт библиотеки работы с графиками\n",
    "import numpy as np # импорт библиотеки для вычислений\n",
    "import warnings\n",
    "warnings.filterwarnings('ignore') # отключаем сообщения об ошибках pandas\n",
    "pd.set_option('display.max_columns', None) # Сброс ограничений на число выводимых столбцов\n",
    "from pandas.plotting import scatter_matrix # импорт метода для матрицы кореляций\n",
    "from sklearn.linear_model import LinearRegression # импорт модели линейной регрессии\n",
    "from sklearn.model_selection import train_test_split # импорт метода для разделения таблицы\n",
    "from sklearn.metrics import r2_score # импорт метрики R2"
   ]
  },
  {
   "cell_type": "markdown",
   "metadata": {},
   "source": [
    "## Исследование данных"
   ]
  },
  {
   "cell_type": "markdown",
   "metadata": {},
   "source": [
    "### Открываем файл с данными и анализируем содержимое\n",
    "\n"
   ]
  },
  {
   "cell_type": "markdown",
   "metadata": {},
   "source": [
    "Функция для чтения файла в таблицу с учетом возможности работы на разных платформах и заодно исследование данных в таблицах:\n"
   ]
  },
  {
   "cell_type": "code",
   "execution_count": 2,
   "metadata": {},
   "outputs": [],
   "source": [
    "def read_csv(link):\n",
    "    link1 = 'datasets/' + link\n",
    "    link2 = '/datasets/' + link\n",
    "    try:\n",
    "        name_link = pd.read_csv(link1)\n",
    "    except:\n",
    "        name_link = pd.read_csv(link2)\n",
    "    display(name_link.head()) #просмотрим сразу первые пять строк\n",
    "    display(name_link.info()) #просмотрим информацию    \n",
    "    display(name_link.nunique()) # посчитаем уникальные значения\n",
    "    display(name_link.columns) #проверим имена столбцов\n",
    "    display('Количество явных дубликатов:', name_link.duplicated().sum()) #проверка на явные дубликаты\n",
    "    display(name_link.describe()) #проверим численные данные\n",
    "    display(name_link.corr()) #проверим корреляции\n",
    "    return name_link"
   ]
  },
  {
   "cell_type": "code",
   "execution_count": 3,
   "metadata": {
    "scrolled": true
   },
   "outputs": [
    {
     "data": {
      "text/html": [
       "<div>\n",
       "<style scoped>\n",
       "    .dataframe tbody tr th:only-of-type {\n",
       "        vertical-align: middle;\n",
       "    }\n",
       "\n",
       "    .dataframe tbody tr th {\n",
       "        vertical-align: top;\n",
       "    }\n",
       "\n",
       "    .dataframe thead th {\n",
       "        text-align: right;\n",
       "    }\n",
       "</style>\n",
       "<table border=\"1\" class=\"dataframe\">\n",
       "  <thead>\n",
       "    <tr style=\"text-align: right;\">\n",
       "      <th></th>\n",
       "      <th>Пол</th>\n",
       "      <th>Возраст</th>\n",
       "      <th>Зарплата</th>\n",
       "      <th>Члены семьи</th>\n",
       "      <th>Страховые выплаты</th>\n",
       "    </tr>\n",
       "  </thead>\n",
       "  <tbody>\n",
       "    <tr>\n",
       "      <th>0</th>\n",
       "      <td>1</td>\n",
       "      <td>41.0</td>\n",
       "      <td>49600.0</td>\n",
       "      <td>1</td>\n",
       "      <td>0</td>\n",
       "    </tr>\n",
       "    <tr>\n",
       "      <th>1</th>\n",
       "      <td>0</td>\n",
       "      <td>46.0</td>\n",
       "      <td>38000.0</td>\n",
       "      <td>1</td>\n",
       "      <td>1</td>\n",
       "    </tr>\n",
       "    <tr>\n",
       "      <th>2</th>\n",
       "      <td>0</td>\n",
       "      <td>29.0</td>\n",
       "      <td>21000.0</td>\n",
       "      <td>0</td>\n",
       "      <td>0</td>\n",
       "    </tr>\n",
       "    <tr>\n",
       "      <th>3</th>\n",
       "      <td>0</td>\n",
       "      <td>21.0</td>\n",
       "      <td>41700.0</td>\n",
       "      <td>2</td>\n",
       "      <td>0</td>\n",
       "    </tr>\n",
       "    <tr>\n",
       "      <th>4</th>\n",
       "      <td>1</td>\n",
       "      <td>28.0</td>\n",
       "      <td>26100.0</td>\n",
       "      <td>0</td>\n",
       "      <td>0</td>\n",
       "    </tr>\n",
       "  </tbody>\n",
       "</table>\n",
       "</div>"
      ],
      "text/plain": [
       "   Пол  Возраст  Зарплата  Члены семьи  Страховые выплаты\n",
       "0    1     41.0   49600.0            1                  0\n",
       "1    0     46.0   38000.0            1                  1\n",
       "2    0     29.0   21000.0            0                  0\n",
       "3    0     21.0   41700.0            2                  0\n",
       "4    1     28.0   26100.0            0                  0"
      ]
     },
     "metadata": {},
     "output_type": "display_data"
    },
    {
     "name": "stdout",
     "output_type": "stream",
     "text": [
      "<class 'pandas.core.frame.DataFrame'>\n",
      "RangeIndex: 5000 entries, 0 to 4999\n",
      "Data columns (total 5 columns):\n",
      " #   Column             Non-Null Count  Dtype  \n",
      "---  ------             --------------  -----  \n",
      " 0   Пол                5000 non-null   int64  \n",
      " 1   Возраст            5000 non-null   float64\n",
      " 2   Зарплата           5000 non-null   float64\n",
      " 3   Члены семьи        5000 non-null   int64  \n",
      " 4   Страховые выплаты  5000 non-null   int64  \n",
      "dtypes: float64(2), int64(3)\n",
      "memory usage: 195.4 KB\n"
     ]
    },
    {
     "data": {
      "text/plain": [
       "None"
      ]
     },
     "metadata": {},
     "output_type": "display_data"
    },
    {
     "data": {
      "text/plain": [
       "Пол                    2\n",
       "Возраст               46\n",
       "Зарплата             524\n",
       "Члены семьи            7\n",
       "Страховые выплаты      6\n",
       "dtype: int64"
      ]
     },
     "metadata": {},
     "output_type": "display_data"
    },
    {
     "data": {
      "text/plain": [
       "Index(['Пол', 'Возраст', 'Зарплата', 'Члены семьи', 'Страховые выплаты'], dtype='object')"
      ]
     },
     "metadata": {},
     "output_type": "display_data"
    },
    {
     "data": {
      "text/plain": [
       "'Количество явных дубликатов:'"
      ]
     },
     "metadata": {},
     "output_type": "display_data"
    },
    {
     "data": {
      "text/plain": [
       "153"
      ]
     },
     "metadata": {},
     "output_type": "display_data"
    },
    {
     "data": {
      "text/html": [
       "<div>\n",
       "<style scoped>\n",
       "    .dataframe tbody tr th:only-of-type {\n",
       "        vertical-align: middle;\n",
       "    }\n",
       "\n",
       "    .dataframe tbody tr th {\n",
       "        vertical-align: top;\n",
       "    }\n",
       "\n",
       "    .dataframe thead th {\n",
       "        text-align: right;\n",
       "    }\n",
       "</style>\n",
       "<table border=\"1\" class=\"dataframe\">\n",
       "  <thead>\n",
       "    <tr style=\"text-align: right;\">\n",
       "      <th></th>\n",
       "      <th>Пол</th>\n",
       "      <th>Возраст</th>\n",
       "      <th>Зарплата</th>\n",
       "      <th>Члены семьи</th>\n",
       "      <th>Страховые выплаты</th>\n",
       "    </tr>\n",
       "  </thead>\n",
       "  <tbody>\n",
       "    <tr>\n",
       "      <th>count</th>\n",
       "      <td>5000.000000</td>\n",
       "      <td>5000.000000</td>\n",
       "      <td>5000.000000</td>\n",
       "      <td>5000.000000</td>\n",
       "      <td>5000.000000</td>\n",
       "    </tr>\n",
       "    <tr>\n",
       "      <th>mean</th>\n",
       "      <td>0.499000</td>\n",
       "      <td>30.952800</td>\n",
       "      <td>39916.360000</td>\n",
       "      <td>1.194200</td>\n",
       "      <td>0.148000</td>\n",
       "    </tr>\n",
       "    <tr>\n",
       "      <th>std</th>\n",
       "      <td>0.500049</td>\n",
       "      <td>8.440807</td>\n",
       "      <td>9900.083569</td>\n",
       "      <td>1.091387</td>\n",
       "      <td>0.463183</td>\n",
       "    </tr>\n",
       "    <tr>\n",
       "      <th>min</th>\n",
       "      <td>0.000000</td>\n",
       "      <td>18.000000</td>\n",
       "      <td>5300.000000</td>\n",
       "      <td>0.000000</td>\n",
       "      <td>0.000000</td>\n",
       "    </tr>\n",
       "    <tr>\n",
       "      <th>25%</th>\n",
       "      <td>0.000000</td>\n",
       "      <td>24.000000</td>\n",
       "      <td>33300.000000</td>\n",
       "      <td>0.000000</td>\n",
       "      <td>0.000000</td>\n",
       "    </tr>\n",
       "    <tr>\n",
       "      <th>50%</th>\n",
       "      <td>0.000000</td>\n",
       "      <td>30.000000</td>\n",
       "      <td>40200.000000</td>\n",
       "      <td>1.000000</td>\n",
       "      <td>0.000000</td>\n",
       "    </tr>\n",
       "    <tr>\n",
       "      <th>75%</th>\n",
       "      <td>1.000000</td>\n",
       "      <td>37.000000</td>\n",
       "      <td>46600.000000</td>\n",
       "      <td>2.000000</td>\n",
       "      <td>0.000000</td>\n",
       "    </tr>\n",
       "    <tr>\n",
       "      <th>max</th>\n",
       "      <td>1.000000</td>\n",
       "      <td>65.000000</td>\n",
       "      <td>79000.000000</td>\n",
       "      <td>6.000000</td>\n",
       "      <td>5.000000</td>\n",
       "    </tr>\n",
       "  </tbody>\n",
       "</table>\n",
       "</div>"
      ],
      "text/plain": [
       "               Пол      Возраст      Зарплата  Члены семьи  Страховые выплаты\n",
       "count  5000.000000  5000.000000   5000.000000  5000.000000        5000.000000\n",
       "mean      0.499000    30.952800  39916.360000     1.194200           0.148000\n",
       "std       0.500049     8.440807   9900.083569     1.091387           0.463183\n",
       "min       0.000000    18.000000   5300.000000     0.000000           0.000000\n",
       "25%       0.000000    24.000000  33300.000000     0.000000           0.000000\n",
       "50%       0.000000    30.000000  40200.000000     1.000000           0.000000\n",
       "75%       1.000000    37.000000  46600.000000     2.000000           0.000000\n",
       "max       1.000000    65.000000  79000.000000     6.000000           5.000000"
      ]
     },
     "metadata": {},
     "output_type": "display_data"
    },
    {
     "data": {
      "text/html": [
       "<div>\n",
       "<style scoped>\n",
       "    .dataframe tbody tr th:only-of-type {\n",
       "        vertical-align: middle;\n",
       "    }\n",
       "\n",
       "    .dataframe tbody tr th {\n",
       "        vertical-align: top;\n",
       "    }\n",
       "\n",
       "    .dataframe thead th {\n",
       "        text-align: right;\n",
       "    }\n",
       "</style>\n",
       "<table border=\"1\" class=\"dataframe\">\n",
       "  <thead>\n",
       "    <tr style=\"text-align: right;\">\n",
       "      <th></th>\n",
       "      <th>Пол</th>\n",
       "      <th>Возраст</th>\n",
       "      <th>Зарплата</th>\n",
       "      <th>Члены семьи</th>\n",
       "      <th>Страховые выплаты</th>\n",
       "    </tr>\n",
       "  </thead>\n",
       "  <tbody>\n",
       "    <tr>\n",
       "      <th>Пол</th>\n",
       "      <td>1.000000</td>\n",
       "      <td>0.002074</td>\n",
       "      <td>0.014910</td>\n",
       "      <td>-0.008991</td>\n",
       "      <td>0.010140</td>\n",
       "    </tr>\n",
       "    <tr>\n",
       "      <th>Возраст</th>\n",
       "      <td>0.002074</td>\n",
       "      <td>1.000000</td>\n",
       "      <td>-0.019093</td>\n",
       "      <td>-0.006692</td>\n",
       "      <td>0.651030</td>\n",
       "    </tr>\n",
       "    <tr>\n",
       "      <th>Зарплата</th>\n",
       "      <td>0.014910</td>\n",
       "      <td>-0.019093</td>\n",
       "      <td>1.000000</td>\n",
       "      <td>-0.030296</td>\n",
       "      <td>-0.014963</td>\n",
       "    </tr>\n",
       "    <tr>\n",
       "      <th>Члены семьи</th>\n",
       "      <td>-0.008991</td>\n",
       "      <td>-0.006692</td>\n",
       "      <td>-0.030296</td>\n",
       "      <td>1.000000</td>\n",
       "      <td>-0.036290</td>\n",
       "    </tr>\n",
       "    <tr>\n",
       "      <th>Страховые выплаты</th>\n",
       "      <td>0.010140</td>\n",
       "      <td>0.651030</td>\n",
       "      <td>-0.014963</td>\n",
       "      <td>-0.036290</td>\n",
       "      <td>1.000000</td>\n",
       "    </tr>\n",
       "  </tbody>\n",
       "</table>\n",
       "</div>"
      ],
      "text/plain": [
       "                        Пол   Возраст  Зарплата  Члены семьи  \\\n",
       "Пол                1.000000  0.002074  0.014910    -0.008991   \n",
       "Возраст            0.002074  1.000000 -0.019093    -0.006692   \n",
       "Зарплата           0.014910 -0.019093  1.000000    -0.030296   \n",
       "Члены семьи       -0.008991 -0.006692 -0.030296     1.000000   \n",
       "Страховые выплаты  0.010140  0.651030 -0.014963    -0.036290   \n",
       "\n",
       "                   Страховые выплаты  \n",
       "Пол                         0.010140  \n",
       "Возраст                     0.651030  \n",
       "Зарплата                   -0.014963  \n",
       "Члены семьи                -0.036290  \n",
       "Страховые выплаты           1.000000  "
      ]
     },
     "metadata": {},
     "output_type": "display_data"
    }
   ],
   "source": [
    "df = read_csv('insurance.csv')"
   ]
  },
  {
   "cell_type": "markdown",
   "metadata": {},
   "source": [
    "Посмотрим на распределения: Создадим функцию построения гистограмм"
   ]
  },
  {
   "cell_type": "code",
   "execution_count": 4,
   "metadata": {},
   "outputs": [],
   "source": [
    "def hist(col):\n",
    "    plt.hist(df[col], range = (df[col].min(), df[col].max()), bins=df[col].nunique(), label = col)\n",
    "    plt.ylabel('Частотность')\n",
    "    plt.xlabel(col)\n",
    "    plt.legend()\n",
    "    plt.grid();"
   ]
  },
  {
   "cell_type": "code",
   "execution_count": 5,
   "metadata": {},
   "outputs": [
    {
     "data": {
      "image/png": "[encoded data removed]",
      "text/plain": [
       "<Figure size 432x288 with 1 Axes>"
      ]
     },
     "metadata": {
      "needs_background": "light"
     },
     "output_type": "display_data"
    }
   ],
   "source": [
    "hist('Пол')"
   ]
  },
  {
   "cell_type": "markdown",
   "metadata": {},
   "source": [
    "Количество мужчин и женщин практически одинаковое"
   ]
  },
  {
   "cell_type": "code",
   "execution_count": 6,
   "metadata": {},
   "outputs": [
    {
     "name": "stdout",
     "output_type": "stream",
     "text": [
      "2505\n",
      "2495\n"
     ]
    }
   ],
   "source": [
    "print(len(df[df['Пол'] == 0]))\n",
    "print(len(df[df['Пол'] == 1]))"
   ]
  },
  {
   "cell_type": "code",
   "execution_count": 7,
   "metadata": {},
   "outputs": [
    {
     "data": {
      "image/png": "[encoded data removed]",
      "text/plain": [
       "<Figure size 432x288 with 1 Axes>"
      ]
     },
     "metadata": {
      "needs_background": "light"
     },
     "output_type": "display_data"
    }
   ],
   "source": [
    "hist('Возраст')"
   ]
  },
  {
   "cell_type": "markdown",
   "metadata": {},
   "source": [
    "Есть выброс 18 летних, возможно проводилась компания по привлечению к страхованию совершеннолетних"
   ]
  },
  {
   "cell_type": "code",
   "execution_count": 8,
   "metadata": {},
   "outputs": [
    {
     "data": {
      "image/png": "[encoded data removed]",
      "text/plain": [
       "<Figure size 432x288 with 1 Axes>"
      ]
     },
     "metadata": {
      "needs_background": "light"
     },
     "output_type": "display_data"
    }
   ],
   "source": [
    "hist('Зарплата')"
   ]
  },
  {
   "cell_type": "markdown",
   "metadata": {},
   "source": [
    "По зарплате боле менее нормальное распределение"
   ]
  },
  {
   "cell_type": "code",
   "execution_count": 9,
   "metadata": {},
   "outputs": [
    {
     "data": {
      "image/png": "[encoded data removed]",
      "text/plain": [
       "<Figure size 432x288 with 1 Axes>"
      ]
     },
     "metadata": {
      "needs_background": "light"
     },
     "output_type": "display_data"
    }
   ],
   "source": [
    "hist('Члены семьи')"
   ]
  },
  {
   "cell_type": "markdown",
   "metadata": {},
   "source": [
    "Видимо 0 означает, что страхователь один. 1 более всего так как сюда попадают женатые, с одним ребенком, с одним родителем, с сестрой или братом."
   ]
  },
  {
   "cell_type": "code",
   "execution_count": 10,
   "metadata": {},
   "outputs": [
    {
     "data": {
      "image/png": "[encoded data removed]",
      "text/plain": [
       "<Figure size 432x288 with 1 Axes>"
      ]
     },
     "metadata": {
      "needs_background": "light"
     },
     "output_type": "display_data"
    }
   ],
   "source": [
    "hist('Страховые выплаты')"
   ]
  },
  {
   "cell_type": "markdown",
   "metadata": {},
   "source": [
    "Хорошее распределение, страховых случаев немного, соответственно немного и страховых выплат."
   ]
  },
  {
   "cell_type": "markdown",
   "metadata": {},
   "source": [
    "Посмотрим на матрицу корреляций"
   ]
  },
  {
   "cell_type": "code",
   "execution_count": 11,
   "metadata": {},
   "outputs": [
    {
     "data": {
      "image/png": "[encoded data removed]",
      "text/plain": [
       "<Figure size 1296x1296 with 25 Axes>"
      ]
     },
     "metadata": {
      "needs_background": "light"
     },
     "output_type": "display_data"
    }
   ],
   "source": [
    "scatter_matrix(df,diagonal='kde', figsize=(18, 18))\n",
    "plt.show()"
   ]
  },
  {
   "cell_type": "markdown",
   "metadata": {},
   "source": [
    "<b>Выводы и замечания:</b>\n",
    "\n",
    "\n",
    "- переименовывать столбцы (и отдельно расписывать расшивровки) видимо смысла нет, так как данные весьма понятны и нацелены на рускоязычную аудиторию, хотя если таки и их шифровать\n",
    "\n",
    "\n",
    "- пропусков нет\n",
    "\n",
    "\n",
    "- 153 явных дубликата, но скорее всего из таблицы выкинут столбец уникального ID клиента, так как данные в самих столбцах большая вероятность, что могут и совпадать, так как не особо то и уникальны, поэтому не будем их удалять\n",
    "\n",
    "\n",
    "- по максимальным и минимальным значениям все впорядке - интересто, что с нулевыми зарплатами клиентов нет, видимо включены пенсионные выплаты.\n",
    "\n",
    "\n",
    "- высокая корреляция между возрастом и количеством страховых выплат\n",
    "\n",
    "\n",
    "- по матрице корреляций интересно посмотреть распределения по страховым выплатам: 1) по полу примерно распределение одинаковое, разве, что в пола 0 нет 5-ти случаев 2) весьма выгодно иметь в клиентах людей от 18 до 40 (судя по всему страхование здоровья)  3) по идее у людей с большей зарплатой и здоровье должно быть получше, но здесь такая зависимоть не наблюдается 4) по членам семьи есть странность - чем больше членов, тем меньше страховых случаев (некогда болеть, надо бороться за место под солнцем?)\n",
    "\n",
    "\n",
    "- как целевой признак у нас колонка 'Страховые выплаты'\n",
    "\n",
    "\n",
    "- преобразовывать текущую талицу не требуется"
   ]
  },
  {
   "cell_type": "markdown",
   "metadata": {},
   "source": [
    "<div class=\"alert alert-success\" style=\"border-color: green; border-radius: 5px\">\n",
    "    <p><u><b>✅ КОММЕНТАРИЙ РЕВЬЮЕРА v.1</b></u></p>\n",
    "    <p>Данные загружены, отлично. Молодец, что используешь инструкцию <code>try-except</code>.</p>\n",
    "    <p>Хорошо, что применяешь метод <code>.head()</code> таким образом в тетрадку не будет загружен весь датасет, объем которого может быть огромным.</p>\n",
    "    <p>Методы <code>.info()</code> и <code>.describe()</code> также обязательны к применению в таких задачах, с их помощью можно получить первые инсайты.</p>\n",
    "    <p>Молодец, что провел предварительный анализ данных, проверил на дубликаты и построил графики.</p>\n",
    "</div>"
   ]
  },
  {
   "cell_type": "markdown",
   "metadata": {},
   "source": [
    "### Разделяем выборки без шифрования"
   ]
  },
  {
   "cell_type": "markdown",
   "metadata": {},
   "source": [
    "Выделим признаки для обучения  целевой признак"
   ]
  },
  {
   "cell_type": "code",
   "execution_count": 12,
   "metadata": {},
   "outputs": [],
   "source": [
    "target = df.loc[:, 'Страховые выплаты']\n",
    "features = df.drop(['Страховые выплаты'], axis=1)"
   ]
  },
  {
   "cell_type": "markdown",
   "metadata": {},
   "source": [
    "<div class=\"alert alert-success\" style=\"border-color: green; border-radius: 5px\">\n",
    "    <p><u><b>✅ КОММЕНТАРИЙ РЕВЬЮЕРА v.1</b></u></p>\n",
    "    <p>Выделение таргета можно выполнить так <code>target = df['Страховые выплаты']</code></p>\n",
    "</div>"
   ]
  },
  {
   "cell_type": "markdown",
   "metadata": {},
   "source": [
    "Разделим на выборки для обучения  для тестирования"
   ]
  },
  {
   "cell_type": "code",
   "execution_count": 13,
   "metadata": {},
   "outputs": [],
   "source": [
    "features_train, features_test, target_train, target_test = train_test_split(features, target\n",
    "                                                                            , test_size=0.25, random_state=12345)"
   ]
  },
  {
   "cell_type": "markdown",
   "metadata": {},
   "source": [
    "Проверим как разделилось"
   ]
  },
  {
   "cell_type": "code",
   "execution_count": 14,
   "metadata": {
    "scrolled": true
   },
   "outputs": [
    {
     "data": {
      "text/plain": [
       "(3750, 4)"
      ]
     },
     "execution_count": 14,
     "metadata": {},
     "output_type": "execute_result"
    }
   ],
   "source": [
    "features_train.shape"
   ]
  },
  {
   "cell_type": "code",
   "execution_count": 15,
   "metadata": {},
   "outputs": [
    {
     "data": {
      "text/plain": [
       "(3750,)"
      ]
     },
     "execution_count": 15,
     "metadata": {},
     "output_type": "execute_result"
    }
   ],
   "source": [
    "target_train.shape"
   ]
  },
  {
   "cell_type": "markdown",
   "metadata": {},
   "source": [
    "### Модель линейной регрессии без шифрования, проверяем метрику R2\n"
   ]
  },
  {
   "cell_type": "code",
   "execution_count": 16,
   "metadata": {},
   "outputs": [
    {
     "name": "stdout",
     "output_type": "stream",
     "text": [
      "0.43522757127026546\n"
     ]
    }
   ],
   "source": [
    "model = LinearRegression()\n",
    "model.fit(features_train, target_train)\n",
    "predictions = model.predict(features_test)\n",
    "r2 = r2_score(target_test, predictions)\n",
    "print(r2)"
   ]
  },
  {
   "cell_type": "markdown",
   "metadata": {},
   "source": [
    "### Предложим алгоритм преобразования данных для решения задачи"
   ]
  },
  {
   "cell_type": "markdown",
   "metadata": {},
   "source": [
    "<div style=\"background: #B0E0E6; padding: 5px; border: 1px solid SteelBlue; border-radius: 5px;\">\n",
    "    <font color='4682B4'><u><b>КОММЕНТАРИЙ СТУДЕНТА</b></u></font>\n",
    "    <br />\n",
    "    <font color='4682B4'>Предлагаю применить алгоритм преобразования-шифрования данных из таблицы клиентов путем умножения данных на обратимую квадратную матрицу с количеством строк  и столбцов равных количеству признаков в данных, а именно 4х4.\n",
    "    \n",
    "Применим данный алгоритм и проверим изменится или не изменится показатель метрики R2 линейной регрессии        \n",
    "    </font>\n",
    "</div>"
   ]
  },
  {
   "cell_type": "markdown",
   "metadata": {},
   "source": [
    "### Преобразуем выборки в матрицы и шифруем при помощи обратимой матрицы"
   ]
  },
  {
   "cell_type": "code",
   "execution_count": 17,
   "metadata": {},
   "outputs": [],
   "source": [
    "features_train_mtx = features_train.values\n",
    "features_test_mtx = features_test.values"
   ]
  },
  {
   "cell_type": "markdown",
   "metadata": {},
   "source": [
    "создадим марицу 4х4 по количеству столбцов признаков, применим numpy случайный генератор матриц"
   ]
  },
  {
   "cell_type": "code",
   "execution_count": 18,
   "metadata": {},
   "outputs": [
    {
     "name": "stdout",
     "output_type": "stream",
     "text": [
      "[[0.70955494 0.88205299 0.49725681 0.52961103]\n",
      " [0.57467023 0.14968195 0.65655675 0.8336132 ]\n",
      " [0.38310563 0.90457562 0.97221717 0.7535256 ]\n",
      " [0.52719892 0.14693178 0.77431344 0.08118585]]\n"
     ]
    }
   ],
   "source": [
    "mtx = np.random.random((4, 4))\n",
    "print(mtx)"
   ]
  },
  {
   "cell_type": "markdown",
   "metadata": {},
   "source": [
    "проверим матрицу на обратимость"
   ]
  },
  {
   "cell_type": "code",
   "execution_count": 19,
   "metadata": {},
   "outputs": [
    {
     "name": "stdout",
     "output_type": "stream",
     "text": [
      "[[ 1.38973101  0.44064633 -1.53556064  0.66192301]\n",
      " [ 0.77092346 -0.97495739  0.57939211 -0.39586946]\n",
      " [-1.06552767 -0.24775368  0.91067845  1.04237894]\n",
      " [-0.25725478  1.26602067  0.23728554 -1.20621153]]\n"
     ]
    }
   ],
   "source": [
    "revert_mtx = np.linalg.inv(mtx)\n",
    "print(revert_mtx)"
   ]
  },
  {
   "cell_type": "markdown",
   "metadata": {},
   "source": [
    "Для полного счастья проверим  - умножив эти две матрицы должны получить еденичную матрицу"
   ]
  },
  {
   "cell_type": "code",
   "execution_count": 20,
   "metadata": {},
   "outputs": [
    {
     "name": "stdout",
     "output_type": "stream",
     "text": [
      "[[ 1.00000000e+00 -5.20593991e-17  1.25263023e-16 -8.80600179e-17]\n",
      " [-5.17644258e-17  1.00000000e+00 -1.08416328e-16 -4.92588126e-17]\n",
      " [-5.88146224e-18 -5.94014585e-17  1.00000000e+00 -1.80186904e-17]\n",
      " [-1.36603296e-16 -5.54191486e-17  4.75334655e-17  1.00000000e+00]]\n"
     ]
    }
   ],
   "source": [
    "print(mtx@revert_mtx)"
   ]
  },
  {
   "cell_type": "markdown",
   "metadata": {},
   "source": [
    "Мда вот и вылез наш примерный питон, округлим"
   ]
  },
  {
   "cell_type": "code",
   "execution_count": 21,
   "metadata": {},
   "outputs": [
    {
     "name": "stdout",
     "output_type": "stream",
     "text": [
      "[[ 1. -0.  0. -0.]\n",
      " [-0.  1. -0. -0.]\n",
      " [-0. -0.  1. -0.]\n",
      " [-0. -0.  0.  1.]]\n"
     ]
    }
   ],
   "source": [
    "print(np.round(mtx@revert_mtx, 10))"
   ]
  },
  {
   "cell_type": "markdown",
   "metadata": {},
   "source": [
    "Итого получаем еденичную матрицу, проверка матриц прошла успешно"
   ]
  },
  {
   "cell_type": "markdown",
   "metadata": {},
   "source": [
    "Умножаем признаки на обратимую матрицу"
   ]
  },
  {
   "cell_type": "code",
   "execution_count": 22,
   "metadata": {},
   "outputs": [],
   "source": [
    "features_train_crypt_mtx = features_train_mtx@mtx\n",
    "features_test_crypt_mtx = features_test_mtx@mtx"
   ]
  },
  {
   "cell_type": "markdown",
   "metadata": {},
   "source": [
    "Преобразовываем мтрицы обратно в пандас таблицы"
   ]
  },
  {
   "cell_type": "code",
   "execution_count": 23,
   "metadata": {},
   "outputs": [],
   "source": [
    "features_train_crypt = pd.DataFrame(features_train_crypt_mtx, columns=features_train.columns)\n",
    "features_test_crypt = pd.DataFrame(features_test_crypt_mtx, columns=features_train.columns)"
   ]
  },
  {
   "cell_type": "markdown",
   "metadata": {},
   "source": [
    "Проверим что получилось"
   ]
  },
  {
   "cell_type": "code",
   "execution_count": 24,
   "metadata": {},
   "outputs": [
    {
     "data": {
      "text/plain": [
       "<bound method NDFrame.head of                Пол       Возраст      Зарплата   Члены семьи\n",
       "0     13894.371410  32753.102914  35223.764982  27314.082775\n",
       "1     22087.132680  52109.527209  56022.529047  43431.946845\n",
       "2     15764.558074  37182.994920  39979.909723  30996.658844\n",
       "3     17299.279278  40801.896145  43871.404620  34014.095684\n",
       "4     19405.163436  45776.759966  49217.403686  38156.066814\n",
       "...            ...           ...           ...           ...\n",
       "3745  12321.826900  29043.164187  31235.746467  24223.183417\n",
       "3746   8714.697382  20538.645497  22090.810550  17128.696964\n",
       "3747  17149.619932  40441.696358  43486.297794  33717.383123\n",
       "3748  19208.343646  45323.119516  48725.621605  37770.296642\n",
       "3749  15641.628473  36909.529435  39678.935021  30759.683007\n",
       "\n",
       "[3750 rows x 4 columns]>"
      ]
     },
     "execution_count": 24,
     "metadata": {},
     "output_type": "execute_result"
    }
   ],
   "source": [
    "features_train_crypt.head"
   ]
  },
  {
   "cell_type": "code",
   "execution_count": 25,
   "metadata": {},
   "outputs": [
    {
     "data": {
      "text/plain": [
       "<bound method NDFrame.head of                Пол       Возраст      Зарплата   Члены семьи\n",
       "0     14962.192516  35283.976586  37941.233167  29415.332261\n",
       "1     16541.640599  38994.987376  41936.936393  32518.796261\n",
       "2     16151.868753  38089.353439  40956.445731  31756.468158\n",
       "3     13343.569358  31482.225370  33846.288572  26239.363039\n",
       "4     15349.895509  36189.749666  38918.702789  30175.526763\n",
       "...            ...           ...           ...           ...\n",
       "1245  11141.135429  26241.502805  28229.828142  21895.448568\n",
       "1246  22203.071295  52381.191009  56315.860581  43657.414469\n",
       "1247  16226.191198  38269.669836  41148.262937  31903.838825\n",
       "1248  15843.660237  37365.243894  40176.702327  31151.146841\n",
       "1249  11943.271159  28139.783268  30268.899510  23475.574299\n",
       "\n",
       "[1250 rows x 4 columns]>"
      ]
     },
     "execution_count": 25,
     "metadata": {},
     "output_type": "execute_result"
    }
   ],
   "source": [
    "features_test_crypt.head"
   ]
  },
  {
   "cell_type": "code",
   "execution_count": 26,
   "metadata": {},
   "outputs": [
    {
     "data": {
      "text/html": [
       "<div>\n",
       "<style scoped>\n",
       "    .dataframe tbody tr th:only-of-type {\n",
       "        vertical-align: middle;\n",
       "    }\n",
       "\n",
       "    .dataframe tbody tr th {\n",
       "        vertical-align: top;\n",
       "    }\n",
       "\n",
       "    .dataframe thead th {\n",
       "        text-align: right;\n",
       "    }\n",
       "</style>\n",
       "<table border=\"1\" class=\"dataframe\">\n",
       "  <thead>\n",
       "    <tr style=\"text-align: right;\">\n",
       "      <th></th>\n",
       "      <th>Пол</th>\n",
       "      <th>Возраст</th>\n",
       "      <th>Зарплата</th>\n",
       "      <th>Члены семьи</th>\n",
       "    </tr>\n",
       "  </thead>\n",
       "  <tbody>\n",
       "    <tr>\n",
       "      <th>count</th>\n",
       "      <td>3750.000000</td>\n",
       "      <td>3750.000000</td>\n",
       "      <td>3750.000000</td>\n",
       "      <td>3750.000000</td>\n",
       "    </tr>\n",
       "    <tr>\n",
       "      <th>mean</th>\n",
       "      <td>15317.836268</td>\n",
       "      <td>36128.762189</td>\n",
       "      <td>38846.251606</td>\n",
       "      <td>30117.677272</td>\n",
       "    </tr>\n",
       "    <tr>\n",
       "      <th>std</th>\n",
       "      <td>3782.407000</td>\n",
       "      <td>8931.017657</td>\n",
       "      <td>9598.782415</td>\n",
       "      <td>7439.618624</td>\n",
       "    </tr>\n",
       "    <tr>\n",
       "      <th>min</th>\n",
       "      <td>2043.190002</td>\n",
       "      <td>4798.273433</td>\n",
       "      <td>5167.153694</td>\n",
       "      <td>4010.968725</td>\n",
       "    </tr>\n",
       "    <tr>\n",
       "      <th>25%</th>\n",
       "      <td>12769.438111</td>\n",
       "      <td>30125.508866</td>\n",
       "      <td>32388.825451</td>\n",
       "      <td>25108.912018</td>\n",
       "    </tr>\n",
       "    <tr>\n",
       "      <th>50%</th>\n",
       "      <td>15450.913927</td>\n",
       "      <td>36457.464771</td>\n",
       "      <td>39193.870151</td>\n",
       "      <td>30383.794415</td>\n",
       "    </tr>\n",
       "    <tr>\n",
       "      <th>75%</th>\n",
       "      <td>17908.193078</td>\n",
       "      <td>42248.862946</td>\n",
       "      <td>45422.091631</td>\n",
       "      <td>35213.027839</td>\n",
       "    </tr>\n",
       "    <tr>\n",
       "      <th>max</th>\n",
       "      <td>30290.670269</td>\n",
       "      <td>71468.787209</td>\n",
       "      <td>76834.120960</td>\n",
       "      <td>59563.392285</td>\n",
       "    </tr>\n",
       "  </tbody>\n",
       "</table>\n",
       "</div>"
      ],
      "text/plain": [
       "                Пол       Возраст      Зарплата   Члены семьи\n",
       "count   3750.000000   3750.000000   3750.000000   3750.000000\n",
       "mean   15317.836268  36128.762189  38846.251606  30117.677272\n",
       "std     3782.407000   8931.017657   9598.782415   7439.618624\n",
       "min     2043.190002   4798.273433   5167.153694   4010.968725\n",
       "25%    12769.438111  30125.508866  32388.825451  25108.912018\n",
       "50%    15450.913927  36457.464771  39193.870151  30383.794415\n",
       "75%    17908.193078  42248.862946  45422.091631  35213.027839\n",
       "max    30290.670269  71468.787209  76834.120960  59563.392285"
      ]
     },
     "execution_count": 26,
     "metadata": {},
     "output_type": "execute_result"
    }
   ],
   "source": [
    "features_train_crypt.describe()"
   ]
  },
  {
   "cell_type": "markdown",
   "metadata": {},
   "source": [
    "Мда теперь черт ногу сломит, как стало все непонятно"
   ]
  },
  {
   "cell_type": "markdown",
   "metadata": {},
   "source": [
    "А теперь дишефруем наши данные:"
   ]
  },
  {
   "cell_type": "code",
   "execution_count": 27,
   "metadata": {},
   "outputs": [
    {
     "data": {
      "text/html": [
       "<div>\n",
       "<style scoped>\n",
       "    .dataframe tbody tr th:only-of-type {\n",
       "        vertical-align: middle;\n",
       "    }\n",
       "\n",
       "    .dataframe tbody tr th {\n",
       "        vertical-align: top;\n",
       "    }\n",
       "\n",
       "    .dataframe thead th {\n",
       "        text-align: right;\n",
       "    }\n",
       "</style>\n",
       "<table border=\"1\" class=\"dataframe\">\n",
       "  <thead>\n",
       "    <tr style=\"text-align: right;\">\n",
       "      <th></th>\n",
       "      <th>0</th>\n",
       "      <th>1</th>\n",
       "      <th>2</th>\n",
       "      <th>3</th>\n",
       "    </tr>\n",
       "  </thead>\n",
       "  <tbody>\n",
       "    <tr>\n",
       "      <th>0</th>\n",
       "      <td>-0.0</td>\n",
       "      <td>33.0</td>\n",
       "      <td>39000.0</td>\n",
       "      <td>4.0</td>\n",
       "    </tr>\n",
       "    <tr>\n",
       "      <th>1</th>\n",
       "      <td>-0.0</td>\n",
       "      <td>50.0</td>\n",
       "      <td>43100.0</td>\n",
       "      <td>2.0</td>\n",
       "    </tr>\n",
       "    <tr>\n",
       "      <th>2</th>\n",
       "      <td>1.0</td>\n",
       "      <td>39.0</td>\n",
       "      <td>42100.0</td>\n",
       "      <td>0.0</td>\n",
       "    </tr>\n",
       "    <tr>\n",
       "      <th>3</th>\n",
       "      <td>0.0</td>\n",
       "      <td>20.0</td>\n",
       "      <td>34800.0</td>\n",
       "      <td>-0.0</td>\n",
       "    </tr>\n",
       "    <tr>\n",
       "      <th>4</th>\n",
       "      <td>0.0</td>\n",
       "      <td>41.0</td>\n",
       "      <td>40000.0</td>\n",
       "      <td>4.0</td>\n",
       "    </tr>\n",
       "  </tbody>\n",
       "</table>\n",
       "</div>"
      ],
      "text/plain": [
       "     0     1        2    3\n",
       "0 -0.0  33.0  39000.0  4.0\n",
       "1 -0.0  50.0  43100.0  2.0\n",
       "2  1.0  39.0  42100.0  0.0\n",
       "3  0.0  20.0  34800.0 -0.0\n",
       "4  0.0  41.0  40000.0  4.0"
      ]
     },
     "execution_count": 27,
     "metadata": {},
     "output_type": "execute_result"
    }
   ],
   "source": [
    "np.round(features_test_crypt@revert_mtx).head()"
   ]
  },
  {
   "cell_type": "code",
   "execution_count": 28,
   "metadata": {},
   "outputs": [
    {
     "data": {
      "text/html": [
       "<div>\n",
       "<style scoped>\n",
       "    .dataframe tbody tr th:only-of-type {\n",
       "        vertical-align: middle;\n",
       "    }\n",
       "\n",
       "    .dataframe tbody tr th {\n",
       "        vertical-align: top;\n",
       "    }\n",
       "\n",
       "    .dataframe thead th {\n",
       "        text-align: right;\n",
       "    }\n",
       "</style>\n",
       "<table border=\"1\" class=\"dataframe\">\n",
       "  <thead>\n",
       "    <tr style=\"text-align: right;\">\n",
       "      <th></th>\n",
       "      <th>Пол</th>\n",
       "      <th>Возраст</th>\n",
       "      <th>Зарплата</th>\n",
       "      <th>Члены семьи</th>\n",
       "    </tr>\n",
       "  </thead>\n",
       "  <tbody>\n",
       "    <tr>\n",
       "      <th>3183</th>\n",
       "      <td>0</td>\n",
       "      <td>33.0</td>\n",
       "      <td>39000.0</td>\n",
       "      <td>4</td>\n",
       "    </tr>\n",
       "    <tr>\n",
       "      <th>1071</th>\n",
       "      <td>0</td>\n",
       "      <td>50.0</td>\n",
       "      <td>43100.0</td>\n",
       "      <td>2</td>\n",
       "    </tr>\n",
       "    <tr>\n",
       "      <th>2640</th>\n",
       "      <td>1</td>\n",
       "      <td>39.0</td>\n",
       "      <td>42100.0</td>\n",
       "      <td>0</td>\n",
       "    </tr>\n",
       "    <tr>\n",
       "      <th>2282</th>\n",
       "      <td>0</td>\n",
       "      <td>20.0</td>\n",
       "      <td>34800.0</td>\n",
       "      <td>0</td>\n",
       "    </tr>\n",
       "    <tr>\n",
       "      <th>1595</th>\n",
       "      <td>0</td>\n",
       "      <td>41.0</td>\n",
       "      <td>40000.0</td>\n",
       "      <td>4</td>\n",
       "    </tr>\n",
       "  </tbody>\n",
       "</table>\n",
       "</div>"
      ],
      "text/plain": [
       "      Пол  Возраст  Зарплата  Члены семьи\n",
       "3183    0     33.0   39000.0            4\n",
       "1071    0     50.0   43100.0            2\n",
       "2640    1     39.0   42100.0            0\n",
       "2282    0     20.0   34800.0            0\n",
       "1595    0     41.0   40000.0            4"
      ]
     },
     "execution_count": 28,
     "metadata": {},
     "output_type": "execute_result"
    }
   ],
   "source": [
    "features_test.head()"
   ]
  },
  {
   "cell_type": "markdown",
   "metadata": {},
   "source": [
    "даст ист фантастишь! ))))"
   ]
  },
  {
   "cell_type": "markdown",
   "metadata": {},
   "source": [
    "### Модель линейной регрессии c шифрованием данных признаков, проверяем метрику R2"
   ]
  },
  {
   "cell_type": "code",
   "execution_count": 29,
   "metadata": {},
   "outputs": [
    {
     "name": "stdout",
     "output_type": "stream",
     "text": [
      "0.43522757127042744\n"
     ]
    }
   ],
   "source": [
    "model_crypt = LinearRegression()\n",
    "model_crypt.fit(features_train_crypt, target_train)\n",
    "predictions_crypt = model_crypt.predict(features_test_crypt)\n",
    "r2_crypt = r2_score(target_test, predictions_crypt)\n",
    "print(r2_crypt)"
   ]
  },
  {
   "cell_type": "code",
   "execution_count": 30,
   "metadata": {},
   "outputs": [
    {
     "name": "stdout",
     "output_type": "stream",
     "text": [
      "0.43522757127026546\n"
     ]
    }
   ],
   "source": [
    "print(r2)"
   ]
  },
  {
   "cell_type": "markdown",
   "metadata": {},
   "source": [
    "Процентное отношение:\n"
   ]
  },
  {
   "cell_type": "code",
   "execution_count": 31,
   "metadata": {},
   "outputs": [
    {
     "name": "stdout",
     "output_type": "stream",
     "text": [
      "3.721467578543525e-11 %\n"
     ]
    }
   ],
   "source": [
    "print((1 - r2/r2_crypt) * 100, '%')"
   ]
  },
  {
   "cell_type": "markdown",
   "metadata": {},
   "source": [
    "Как видим разница исчезающе мала"
   ]
  },
  {
   "cell_type": "markdown",
   "metadata": {},
   "source": [
    "<div class=\"alert alert-success\" style=\"border-color: green; border-radius: 5px\">\n",
    "    <p><u><b>✅ КОММЕНТАРИЙ РЕВЬЮЕРА v.1</b></u></p>\n",
    "    <p>Алгоритм проверки выполнен верно. Отлично, что сравнение метрики с предсказаниями на незашифрованных данных тоже есть.</p>\n",
    "</div>"
   ]
  },
  {
   "cell_type": "markdown",
   "metadata": {},
   "source": [
    "### Проанализируем почему умножение признаков на обратимую матрицу не влияет на работу модели линейнной регрессии"
   ]
  },
  {
   "attachments": {
    "image.png": {
     "image/png": "[encoded data removed]"
    }
   },
   "cell_type": "markdown",
   "metadata": {},
   "source": [
    "Из курса обучения мы знаем формулу расчета множителя весов w\n",
    "\n",
    "![image.png](attachment:image.png)\n",
    "\n",
    "где <b>X</b> наша первоначальная матрица признаков, а <b>y</b> целевой признак"
   ]
  },
  {
   "cell_type": "markdown",
   "metadata": {},
   "source": [
    "Обозначим нашу обратимую матрицу R и соответсвенно вместо X у нас в новой модели появится матрица X@R и новые веса wr\n",
    "\n",
    "ну и далее работаем по алгебраическим правилам работы с матрицами\n",
    "\n"
   ]
  },
  {
   "cell_type": "markdown",
   "metadata": {},
   "source": [
    "$$wr = ((XR)^TXR)^{-1}(XR)^Ty$$"
   ]
  },
  {
   "cell_type": "markdown",
   "metadata": {},
   "source": [
    "$$wr = (X^TR^TXR)^{-1}X^TR^Ty Неверно$$"
   ]
  },
  {
   "cell_type": "markdown",
   "metadata": {},
   "source": [
    "<div style=\"background: #B0E0E6; padding: 5px; border: 1px solid SteelBlue; border-radius: 5px;\">\n",
    "    <font color='4682B4'><u><b>КОММЕНТАРИЙ СТУДЕНТА</b></u></font>\n",
    "    <br />\n",
    "    <font color='4682B4'>Исправление - мда обращался с матрицами, как с обычными числами</font>\n",
    "</div>"
   ]
  },
  {
   "cell_type": "markdown",
   "metadata": {},
   "source": [
    "$$wr = (R^TX^TXR)^{-1}R^TX^Ty$$"
   ]
  },
  {
   "cell_type": "markdown",
   "metadata": {},
   "source": [
    "<div class=\"alert alert-danger\" style=\"border-color: #8B0000; border-radius: 5px\">\n",
    "    <p><u><b>❌ КОММЕНТАРИЙ РЕВЬЮЕРА v.1</b></u></p>\n",
    "<br>Одно из свойств транспонированных матриц: Транспонированное произведение матриц равно произведению транспонированных матриц, взятых в обратном порядке.\n",
    "\n",
    "$$\n",
    "(AB)^T = B^T A^T \n",
    "$$\n",
    "    \n",
    "Исправь пожалуйста."
   ]
  },
  {
   "cell_type": "markdown",
   "metadata": {},
   "source": [
    "$$wr = (X^T)^{-1}(R^T)^{-1}X^{-1}R^{-1}X^TR^Ty Неверно$$"
   ]
  },
  {
   "cell_type": "markdown",
   "metadata": {},
   "source": [
    "<div style=\"background: #B0E0E6; padding: 5px; border: 1px solid SteelBlue; border-radius: 5px;\">\n",
    "    <font color='4682B4'><u><b>КОММЕНТАРИЙ СТУДЕНТА</b></u></font>\n",
    "    <br />\n",
    "    <font color='4682B4'>Исправление -  значит -1 я могу раскрывать только работая с квадратными матрицами - R и если матрица умножается на транспонированную себя то так же получается квадратная матрица</font>\n",
    "</div>"
   ]
  },
  {
   "cell_type": "markdown",
   "metadata": {},
   "source": [
    "$$wr = R^{-1}(X^TX)^{-1}(R^T)^{-1}R^TX^Ty$$\n"
   ]
  },
  {
   "cell_type": "markdown",
   "metadata": {},
   "source": [
    "<div class=\"alert alert-danger\" style=\"border-color: #8B0000; border-radius: 5px\">\n",
    "    <p><u><b>❌ КОММЕНТАРИЙ РЕВЬЮЕРА v.1</b></u></p>\n",
    "К сожалению, мы не можем применять здесь это правило:\n",
    "$$\n",
    "(AB)^{-1} = B^{-1} A^{-1} \n",
    "$$\n",
    "Поскольку X неквадратная матрица и матрица произведения XR также неквадратная. Давай попробуем подойти к доказетельству как-то иначе."
   ]
  },
  {
   "cell_type": "markdown",
   "metadata": {},
   "source": [
    "Так как R обратимая то: $$(R^T)^{-1}R^T = E\\ , \\ где\\ Е\\  -\\ единичная\\ матрица\\ и\\ оно\\ исчезает!$$"
   ]
  },
  {
   "cell_type": "markdown",
   "metadata": {},
   "source": [
    "<div style=\"background: #B0E0E6; padding: 5px; border: 1px solid SteelBlue; border-radius: 5px;\">\n",
    "    <font color='4682B4'><u><b>КОММЕНТАРИЙ СТУДЕНТА</b></u></font>\n",
    "    <br />\n",
    "    <font color='4682B4'>Исправление далее</font>\n",
    "</div>"
   ]
  },
  {
   "cell_type": "markdown",
   "metadata": {},
   "source": [
    "Убираем единичную матрицу"
   ]
  },
  {
   "cell_type": "markdown",
   "metadata": {},
   "source": [
    "$$wr = R^{-1}(X^TX)^{-1}X^Ty$$"
   ]
  },
  {
   "cell_type": "markdown",
   "metadata": {},
   "source": [
    "Формула для w:"
   ]
  },
  {
   "cell_type": "markdown",
   "metadata": {},
   "source": [
    "$$w = (X^TX)^{-1}X^Ty$$"
   ]
  },
  {
   "cell_type": "markdown",
   "metadata": {},
   "source": [
    "Ну и получаем: $$wr = R^{-1}w$$"
   ]
  },
  {
   "attachments": {
    "image-2.png": {
     "image/png": "[encoded data removed]"
    }
   },
   "cell_type": "markdown",
   "metadata": {},
   "source": [
    "Еще у нас есть формула предсказаний линейной регрессии:\n",
    "\n",
    "![image-2.png](attachment:image-2.png)"
   ]
  },
  {
   "cell_type": "markdown",
   "metadata": {},
   "source": [
    "<div style=\"background: #B0E0E6; padding: 5px; border: 1px solid SteelBlue; border-radius: 5px;\">\n",
    "    <font color='4682B4'><u><b>КОММЕНТАРИЙ СТУДЕНТА</b></u></font>\n",
    "    <br />\n",
    "    <font color='4682B4'>Что то дальше у меня не клеится с формулой из теории, так как вектор w длиной n не умножается на матрицу c количеством столбов n, а вот матрица на вектор норм умножается - то то смотрю в упражнениях при попытке следовать формуле из теории решения не было, и пришлось местами менять, что получить верный результат. То есть правильно это: $$yr = Xrwr$$</font>\n",
    "</div>"
   ]
  },
  {
   "cell_type": "markdown",
   "metadata": {},
   "source": [
    "Ну что же возьмем, что у нас при сравнении и расчете y - расчитаннного по реальным признакам и yr  - расчитанного по шифрованным признакам, параметр w0 одинаков и не влияет на сравнение y и yr, тогда имеем:"
   ]
  },
  {
   "cell_type": "markdown",
   "metadata": {},
   "source": [
    "$$yr = Xrwr\\,\\ где \\ Xr = XR$$"
   ]
  },
  {
   "cell_type": "markdown",
   "metadata": {},
   "source": [
    "$$yr = XRR^{-1}w$$"
   ]
  },
  {
   "cell_type": "markdown",
   "metadata": {},
   "source": [
    "Опять финт с умножением обратимой матрицы и: $$yr = Xw = y$$"
   ]
  },
  {
   "cell_type": "markdown",
   "metadata": {},
   "source": [
    "То есть при умнжении данных на обратимую матрицу результат предсказания не меняется"
   ]
  },
  {
   "cell_type": "markdown",
   "metadata": {},
   "source": [
    "<div class=\"alert alert-danger\" style=\"border-color: #8B0000; border-radius: 5px\">\n",
    "    <p><u><b>❌ КОММЕНТАРИЙ РЕВЬЮЕРА v.1</b></u></p>\n",
    "    <p>Оставил тебе комментарии к обоснованию.</p>\n",
    "    <p>Исправь их пожалуйста.</p>\n",
    "</div>"
   ]
  },
  {
   "cell_type": "markdown",
   "metadata": {},
   "source": [
    "<div class=\"alert alert-success\" style=\"border-color: green; border-radius: 5px\">\n",
    "    <p><u><b>✅ КОММЕНТАРИЙ РЕВЬЮЕРА v.2</b></u></p>\n",
    "    <p>Да, теперь все верно! Отлично)).</p>\n",
    "</div>"
   ]
  },
  {
   "cell_type": "markdown",
   "metadata": {},
   "source": [
    "### А вот интересно а если придумать матрицу 4:4 необратимую"
   ]
  },
  {
   "cell_type": "code",
   "execution_count": 32,
   "metadata": {},
   "outputs": [
    {
     "name": "stdout",
     "output_type": "stream",
     "text": [
      "[[1 2 3 4]\n",
      " [2 3 4 5]\n",
      " [3 4 5 6]\n",
      " [4 5 6 7]]\n"
     ]
    }
   ],
   "source": [
    "m = np.array([[1,2,3,4],[2,3,4,5],[3,4,5,6],[4,5,6,7]])\n",
    "print(m)"
   ]
  },
  {
   "cell_type": "code",
   "execution_count": 33,
   "metadata": {},
   "outputs": [
    {
     "ename": "LinAlgError",
     "evalue": "Singular matrix",
     "output_type": "error",
     "traceback": [
      "\u001b[0;31m---------------------------------------------------------------------------\u001b[0m",
      "\u001b[0;31mLinAlgError\u001b[0m                               Traceback (most recent call last)",
      "\u001b[0;32m/tmp/ipykernel_63/2456183173.py\u001b[0m in \u001b[0;36m<module>\u001b[0;34m\u001b[0m\n\u001b[0;32m----> 1\u001b[0;31m \u001b[0mprint\u001b[0m\u001b[0;34m(\u001b[0m\u001b[0mnp\u001b[0m\u001b[0;34m.\u001b[0m\u001b[0mlinalg\u001b[0m\u001b[0;34m.\u001b[0m\u001b[0minv\u001b[0m\u001b[0;34m(\u001b[0m\u001b[0mm\u001b[0m\u001b[0;34m)\u001b[0m\u001b[0;34m)\u001b[0m\u001b[0;34m\u001b[0m\u001b[0;34m\u001b[0m\u001b[0m\n\u001b[0m",
      "\u001b[0;32m<__array_function__ internals>\u001b[0m in \u001b[0;36minv\u001b[0;34m(*args, **kwargs)\u001b[0m\n",
      "\u001b[0;32m/opt/conda/lib/python3.9/site-packages/numpy/linalg/linalg.py\u001b[0m in \u001b[0;36minv\u001b[0;34m(a)\u001b[0m\n\u001b[1;32m    543\u001b[0m     \u001b[0msignature\u001b[0m \u001b[0;34m=\u001b[0m \u001b[0;34m'D->D'\u001b[0m \u001b[0;32mif\u001b[0m \u001b[0misComplexType\u001b[0m\u001b[0;34m(\u001b[0m\u001b[0mt\u001b[0m\u001b[0;34m)\u001b[0m \u001b[0;32melse\u001b[0m \u001b[0;34m'd->d'\u001b[0m\u001b[0;34m\u001b[0m\u001b[0;34m\u001b[0m\u001b[0m\n\u001b[1;32m    544\u001b[0m     \u001b[0mextobj\u001b[0m \u001b[0;34m=\u001b[0m \u001b[0mget_linalg_error_extobj\u001b[0m\u001b[0;34m(\u001b[0m\u001b[0m_raise_linalgerror_singular\u001b[0m\u001b[0;34m)\u001b[0m\u001b[0;34m\u001b[0m\u001b[0;34m\u001b[0m\u001b[0m\n\u001b[0;32m--> 545\u001b[0;31m     \u001b[0mainv\u001b[0m \u001b[0;34m=\u001b[0m \u001b[0m_umath_linalg\u001b[0m\u001b[0;34m.\u001b[0m\u001b[0minv\u001b[0m\u001b[0;34m(\u001b[0m\u001b[0ma\u001b[0m\u001b[0;34m,\u001b[0m \u001b[0msignature\u001b[0m\u001b[0;34m=\u001b[0m\u001b[0msignature\u001b[0m\u001b[0;34m,\u001b[0m \u001b[0mextobj\u001b[0m\u001b[0;34m=\u001b[0m\u001b[0mextobj\u001b[0m\u001b[0;34m)\u001b[0m\u001b[0;34m\u001b[0m\u001b[0;34m\u001b[0m\u001b[0m\n\u001b[0m\u001b[1;32m    546\u001b[0m     \u001b[0;32mreturn\u001b[0m \u001b[0mwrap\u001b[0m\u001b[0;34m(\u001b[0m\u001b[0mainv\u001b[0m\u001b[0;34m.\u001b[0m\u001b[0mastype\u001b[0m\u001b[0;34m(\u001b[0m\u001b[0mresult_t\u001b[0m\u001b[0;34m,\u001b[0m \u001b[0mcopy\u001b[0m\u001b[0;34m=\u001b[0m\u001b[0;32mFalse\u001b[0m\u001b[0;34m)\u001b[0m\u001b[0;34m)\u001b[0m\u001b[0;34m\u001b[0m\u001b[0;34m\u001b[0m\u001b[0m\n\u001b[1;32m    547\u001b[0m \u001b[0;34m\u001b[0m\u001b[0m\n",
      "\u001b[0;32m/opt/conda/lib/python3.9/site-packages/numpy/linalg/linalg.py\u001b[0m in \u001b[0;36m_raise_linalgerror_singular\u001b[0;34m(err, flag)\u001b[0m\n\u001b[1;32m     86\u001b[0m \u001b[0;34m\u001b[0m\u001b[0m\n\u001b[1;32m     87\u001b[0m \u001b[0;32mdef\u001b[0m \u001b[0m_raise_linalgerror_singular\u001b[0m\u001b[0;34m(\u001b[0m\u001b[0merr\u001b[0m\u001b[0;34m,\u001b[0m \u001b[0mflag\u001b[0m\u001b[0;34m)\u001b[0m\u001b[0;34m:\u001b[0m\u001b[0;34m\u001b[0m\u001b[0;34m\u001b[0m\u001b[0m\n\u001b[0;32m---> 88\u001b[0;31m     \u001b[0;32mraise\u001b[0m \u001b[0mLinAlgError\u001b[0m\u001b[0;34m(\u001b[0m\u001b[0;34m\"Singular matrix\"\u001b[0m\u001b[0;34m)\u001b[0m\u001b[0;34m\u001b[0m\u001b[0;34m\u001b[0m\u001b[0m\n\u001b[0m\u001b[1;32m     89\u001b[0m \u001b[0;34m\u001b[0m\u001b[0m\n\u001b[1;32m     90\u001b[0m \u001b[0;32mdef\u001b[0m \u001b[0m_raise_linalgerror_nonposdef\u001b[0m\u001b[0;34m(\u001b[0m\u001b[0merr\u001b[0m\u001b[0;34m,\u001b[0m \u001b[0mflag\u001b[0m\u001b[0;34m)\u001b[0m\u001b[0;34m:\u001b[0m\u001b[0;34m\u001b[0m\u001b[0;34m\u001b[0m\u001b[0m\n",
      "\u001b[0;31mLinAlgError\u001b[0m: Singular matrix"
     ]
    }
   ],
   "source": [
    "print(np.linalg.inv(m))"
   ]
  },
  {
   "cell_type": "markdown",
   "metadata": {},
   "source": [
    "Матрица не обратима"
   ]
  },
  {
   "cell_type": "code",
   "execution_count": 34,
   "metadata": {},
   "outputs": [],
   "source": [
    "features_train_crypt_m = features_train_mtx@m\n",
    "features_test_crypt_m = features_test_mtx@m"
   ]
  },
  {
   "cell_type": "code",
   "execution_count": 35,
   "metadata": {},
   "outputs": [],
   "source": [
    "features_train_m = pd.DataFrame(features_train_crypt_m, columns=features_train.columns)\n",
    "features_test_m = pd.DataFrame(features_test_crypt_m, columns=features_train.columns)"
   ]
  },
  {
   "cell_type": "code",
   "execution_count": 36,
   "metadata": {},
   "outputs": [
    {
     "data": {
      "text/plain": [
       "<bound method NDFrame.head of            Пол   Возраст  Зарплата  Члены семьи\n",
       "0     108691.0  144936.0  181181.0     217426.0\n",
       "1     172869.0  230504.0  288139.0     345774.0\n",
       "2     123368.0  164501.0  205634.0     246767.0\n",
       "3     135376.0  180513.0  225650.0     270787.0\n",
       "4     151874.0  202509.0  253144.0     303779.0\n",
       "...        ...       ...       ...          ...\n",
       "3745   96384.0  128526.0  160668.0     192810.0\n",
       "3746   68172.0   90904.0  113636.0     136368.0\n",
       "3747  134187.0  178930.0  223673.0     268416.0\n",
       "3748  150360.0  200486.0  250612.0     300738.0\n",
       "3749  122438.0  163257.0  204076.0     244895.0\n",
       "\n",
       "[3750 rows x 4 columns]>"
      ]
     },
     "execution_count": 36,
     "metadata": {},
     "output_type": "execute_result"
    }
   ],
   "source": [
    "features_train_m.head"
   ]
  },
  {
   "cell_type": "code",
   "execution_count": 37,
   "metadata": {},
   "outputs": [
    {
     "name": "stdout",
     "output_type": "stream",
     "text": [
      "0.4248216423869612\n"
     ]
    }
   ],
   "source": [
    "model_m = LinearRegression()\n",
    "model_m.fit(features_train_m, target_train)\n",
    "predictions_m = model_m.predict(features_test_m)\n",
    "r2_m = r2_score(target_test, predictions_m)\n",
    "print(r2_m)"
   ]
  },
  {
   "cell_type": "code",
   "execution_count": 38,
   "metadata": {},
   "outputs": [
    {
     "name": "stdout",
     "output_type": "stream",
     "text": [
      "-2.449481816612753 %\n"
     ]
    }
   ],
   "source": [
    "print((1 - r2/r2_m) * 100, '%')"
   ]
  },
  {
   "cell_type": "markdown",
   "metadata": {},
   "source": [
    "Ну что же вполне себе 2,5 % падение характеристики R2"
   ]
  },
  {
   "cell_type": "markdown",
   "metadata": {},
   "source": [
    "<div class=\"alert alert-success\" style=\"border-color: green; border-radius: 5px\">\n",
    "    <p><u><b>✅ КОММЕНТАРИЙ РЕВЬЮЕРА v.1</b></u></p>\n",
    "    <p>Молодец, что проверил метрику на необратимой матрице))</p>\n",
    "</div>"
   ]
  },
  {
   "cell_type": "markdown",
   "metadata": {},
   "source": [
    "<div class=\"alert alert-danger\" style=\"border-color: #8B0000; border-radius: 5px\">\n",
    "    <p><u><b>❌ КОММЕНТАРИЙ РЕВЬЮЕРА v.1</b></u></p>\n",
    "    <p>Отлично. Эффективность метода шифрования с помощью умножения признаков на обратимую матрицу доказана.</p>\n",
    "    <p>Давай обсудим оставшиеся замечания.</p>\n",
    "    <p>1. Поправить обосновние неизменности качества линейной регресси при умножении на обратимую квадратную матрицу.</p>\n",
    "    <p>2. Добавить в проект пункт \"Предложите алгоритм преобразования данных для решения задачи\".</p>\n",
    "    <p>3. Добавить лаконичный финальный вывод о проделаной работе.</p>\n",
    "    <p>Уверен, что тебе не составит труда устранить замечания. Жду твою тетрадку на повторное ревью!</p>\n",
    "</div>"
   ]
  },
  {
   "cell_type": "markdown",
   "metadata": {},
   "source": [
    "<div style=\"background: #B0E0E6; padding: 5px; border: 1px solid SteelBlue; border-radius: 5px;\">\n",
    "    <font color='4682B4'><u><b>КОММЕНТАРИЙ СТУДЕНТА</b></u></font>\n",
    "    <br />\n",
    "    <font color='4682B4'><br><b>Вывод:</b> \n",
    "        \n",
    "        - Метрика линейной регрессии R2 на не зашифрованных данных и на зашифрованых отличаются только в 11-12 знаках после запятой\n",
    "        \n",
    "        - При умножении матрицы данных таблицы на обратимую матрицу можно зашифровать данные клиентов, при этом модель линейной регрессии будет так же нормально обучатся и выдавать предсказания аналогичные модели, обученной на не зашифрованных данных.\n",
    "        \n",
    "        - Выбранный алгоритм шифрования данных при применениии линейной регрессии в математических расчетах дал полное равенство предсказаний на шифрованных и не шифрованных данных y = yr\n",
    "        \n",
    "        - Проверка умножения данных на не обратимую матрицу дала разницу в метрики R2 в -2,5% - уменьшение точности работы модели линейной регрессии\n",
    "</div>"
   ]
  },
  {
   "cell_type": "markdown",
   "metadata": {},
   "source": [
    "<div class=\"alert alert-success\" style=\"border-color: green; border-radius: 5px\">\n",
    "    <p><u><b>✅ КОММЕНТАРИЙ РЕВЬЮЕРА v.3</b></u></p>\n",
    "    <p>Роман, мы добрались до зачета по всем пунктам, замечаний нет. Молодец, что самостоятельно разобрался с доказательством обоснования!</p>\n",
    "    <p>Желаю не останавливаться на пути к поставленной цели. Успехов!</p>\n",
    "</div>"
   ]
  },
  {
   "cell_type": "code",
   "execution_count": null,
   "metadata": {},
   "outputs": [],
   "source": []
  },
  {
   "cell_type": "code",
   "execution_count": null,
   "metadata": {},
   "outputs": [],
   "source": []
  },
  {
   "cell_type": "code",
   "execution_count": null,
   "metadata": {},
   "outputs": [],
   "source": []
  }
 ],
 "metadata": {
  "ExecuteTimeLog": [
   {
    "duration": 1102,
    "start_time": "2021-12-14T20:30:05.356Z"
   },
   {
    "duration": 4,
    "start_time": "2021-12-14T20:30:18.523Z"
   },
   {
    "duration": 615,
    "start_time": "2021-12-14T20:30:22.693Z"
   },
   {
    "duration": 638,
    "start_time": "2021-12-14T20:30:38.135Z"
   },
   {
    "duration": 81,
    "start_time": "2021-12-14T20:33:23.996Z"
   },
   {
    "duration": 62,
    "start_time": "2021-12-14T20:33:24.862Z"
   },
   {
    "duration": 10,
    "start_time": "2021-12-14T20:33:41.756Z"
   },
   {
    "duration": 12,
    "start_time": "2021-12-14T20:33:41.984Z"
   },
   {
    "duration": 21,
    "start_time": "2021-12-14T20:34:46.613Z"
   },
   {
    "duration": 20,
    "start_time": "2021-12-14T20:34:49.889Z"
   },
   {
    "duration": 11,
    "start_time": "2021-12-14T20:38:01.037Z"
   },
   {
    "duration": 9,
    "start_time": "2021-12-14T20:38:01.694Z"
   },
   {
    "duration": 6,
    "start_time": "2021-12-14T20:39:39.901Z"
   },
   {
    "duration": 6,
    "start_time": "2021-12-14T20:39:40.942Z"
   },
   {
    "duration": 555,
    "start_time": "2021-12-14T20:39:47.844Z"
   },
   {
    "duration": 5,
    "start_time": "2021-12-14T20:41:14.612Z"
   },
   {
    "duration": 6,
    "start_time": "2021-12-14T20:41:15.343Z"
   },
   {
    "duration": 4,
    "start_time": "2021-12-14T20:42:14.674Z"
   },
   {
    "duration": 17,
    "start_time": "2021-12-14T20:42:16.020Z"
   },
   {
    "duration": 11,
    "start_time": "2021-12-14T20:42:17.905Z"
   },
   {
    "duration": 3,
    "start_time": "2021-12-14T20:42:55.132Z"
   },
   {
    "duration": 57,
    "start_time": "2021-12-14T20:42:55.822Z"
   },
   {
    "duration": 32,
    "start_time": "2021-12-14T20:43:06.552Z"
   },
   {
    "duration": 20,
    "start_time": "2021-12-14T21:05:22.172Z"
   },
   {
    "duration": 12,
    "start_time": "2021-12-14T21:05:29.326Z"
   },
   {
    "duration": 5,
    "start_time": "2021-12-14T21:05:32.733Z"
   },
   {
    "duration": 6,
    "start_time": "2021-12-14T21:05:32.949Z"
   },
   {
    "duration": 25,
    "start_time": "2021-12-14T21:05:33.416Z"
   },
   {
    "duration": 5,
    "start_time": "2021-12-14T21:05:34.121Z"
   },
   {
    "duration": 5,
    "start_time": "2021-12-14T21:05:36.363Z"
   },
   {
    "duration": 1398,
    "start_time": "2021-12-14T21:05:36.976Z"
   },
   {
    "duration": 4,
    "start_time": "2021-12-14T21:05:39.220Z"
   },
   {
    "duration": 8,
    "start_time": "2021-12-14T21:19:38.067Z"
   },
   {
    "duration": 778,
    "start_time": "2021-12-14T21:19:39.712Z"
   },
   {
    "duration": 5,
    "start_time": "2021-12-14T21:19:48.270Z"
   },
   {
    "duration": 17,
    "start_time": "2021-12-14T21:23:16.494Z"
   },
   {
    "duration": 140,
    "start_time": "2021-12-14T21:23:17.030Z"
   },
   {
    "duration": 106,
    "start_time": "2021-12-14T21:23:18.677Z"
   },
   {
    "duration": 33,
    "start_time": "2021-12-14T21:25:14.022Z"
   },
   {
    "duration": 2,
    "start_time": "2021-12-14T21:25:20.214Z"
   },
   {
    "duration": 94,
    "start_time": "2021-12-14T21:25:20.394Z"
   },
   {
    "duration": 4,
    "start_time": "2021-12-14T21:25:21.179Z"
   },
   {
    "duration": 4,
    "start_time": "2021-12-14T21:25:21.366Z"
   },
   {
    "duration": 25,
    "start_time": "2021-12-14T21:26:05.071Z"
   },
   {
    "duration": 23441,
    "start_time": "2021-12-14T21:26:09.257Z"
   },
   {
    "duration": 173116,
    "start_time": "2021-12-14T21:26:45.110Z"
   },
   {
    "duration": 2,
    "start_time": "2021-12-14T21:29:38.228Z"
   },
   {
    "duration": 21,
    "start_time": "2021-12-14T21:29:38.244Z"
   },
   {
    "duration": 159,
    "start_time": "2021-12-14T21:29:38.267Z"
   },
   {
    "duration": 1225,
    "start_time": "2021-12-14T21:29:38.428Z"
   },
   {
    "duration": 12,
    "start_time": "2021-12-14T21:42:31.722Z"
   },
   {
    "duration": 184,
    "start_time": "2021-12-14T21:42:32.520Z"
   },
   {
    "duration": 4,
    "start_time": "2021-12-14T21:42:36.091Z"
   },
   {
    "duration": 4,
    "start_time": "2021-12-14T21:42:36.279Z"
   },
   {
    "duration": 10,
    "start_time": "2021-12-14T21:42:39.675Z"
   },
   {
    "duration": 50,
    "start_time": "2021-12-14T21:42:40.188Z"
   },
   {
    "duration": 15,
    "start_time": "2021-12-14T21:42:40.373Z"
   },
   {
    "duration": 6,
    "start_time": "2021-12-14T21:42:41.003Z"
   },
   {
    "duration": 1527,
    "start_time": "2021-12-14T21:42:43.302Z"
   },
   {
    "duration": 805,
    "start_time": "2021-12-16T15:47:19.311Z"
   },
   {
    "duration": 993,
    "start_time": "2021-12-16T15:47:30.339Z"
   },
   {
    "duration": 5,
    "start_time": "2021-12-16T15:47:31.334Z"
   },
   {
    "duration": 838,
    "start_time": "2021-12-16T15:47:31.342Z"
   },
   {
    "duration": 544,
    "start_time": "2021-12-16T15:47:32.183Z"
   },
   {
    "duration": 133,
    "start_time": "2021-12-16T15:47:32.730Z"
   },
   {
    "duration": 123,
    "start_time": "2021-12-16T15:47:32.866Z"
   },
   {
    "duration": 32,
    "start_time": "2021-12-16T15:47:32.991Z"
   },
   {
    "duration": 20,
    "start_time": "2021-12-16T15:47:33.026Z"
   },
   {
    "duration": 76,
    "start_time": "2021-12-16T15:47:33.049Z"
   },
   {
    "duration": 39,
    "start_time": "2021-12-16T15:47:33.127Z"
   },
   {
    "duration": 64,
    "start_time": "2021-12-16T15:47:33.170Z"
   },
   {
    "duration": 21,
    "start_time": "2021-12-16T15:47:33.237Z"
   },
   {
    "duration": 11,
    "start_time": "2021-12-16T15:47:33.261Z"
   },
   {
    "duration": 21,
    "start_time": "2021-12-16T15:47:33.275Z"
   },
   {
    "duration": 27,
    "start_time": "2021-12-16T15:47:33.298Z"
   },
   {
    "duration": 1063,
    "start_time": "2021-12-16T15:47:33.327Z"
   },
   {
    "duration": 8,
    "start_time": "2021-12-16T15:47:34.393Z"
   },
   {
    "duration": 24,
    "start_time": "2021-12-16T15:47:34.404Z"
   },
   {
    "duration": 5,
    "start_time": "2021-12-16T15:47:34.431Z"
   },
   {
    "duration": 30,
    "start_time": "2021-12-16T15:47:34.439Z"
   },
   {
    "duration": 62,
    "start_time": "2021-12-16T15:47:34.472Z"
   },
   {
    "duration": 3,
    "start_time": "2021-12-16T15:47:34.537Z"
   },
   {
    "duration": 108,
    "start_time": "2021-12-16T15:47:34.546Z"
   },
   {
    "duration": 47,
    "start_time": "2021-12-16T15:47:34.658Z"
   },
   {
    "duration": 39,
    "start_time": "2021-12-16T15:47:34.708Z"
   },
   {
    "duration": 22,
    "start_time": "2021-12-16T15:47:34.750Z"
   },
   {
    "duration": 30,
    "start_time": "2021-12-16T15:47:34.775Z"
   },
   {
    "duration": 10,
    "start_time": "2021-12-16T15:47:34.808Z"
   },
   {
    "duration": 39,
    "start_time": "2021-12-16T15:47:34.821Z"
   },
   {
    "duration": 35,
    "start_time": "2021-12-16T15:47:34.863Z"
   },
   {
    "duration": 26,
    "start_time": "2021-12-16T15:47:34.900Z"
   },
   {
    "duration": 2742,
    "start_time": "2021-12-16T15:47:34.929Z"
   },
   {
    "duration": 5,
    "start_time": "2021-12-16T15:47:37.674Z"
   },
   {
    "duration": 13,
    "start_time": "2021-12-16T15:47:37.681Z"
   },
   {
    "duration": 1293,
    "start_time": "2021-12-16T15:47:37.696Z"
   },
   {
    "duration": 6,
    "start_time": "2021-12-16T15:47:38.991Z"
   },
   {
    "duration": 36,
    "start_time": "2021-12-16T15:47:38.999Z"
   },
   {
    "duration": 161,
    "start_time": "2021-12-16T15:47:39.038Z"
   },
   {
    "duration": 204,
    "start_time": "2021-12-16T15:47:39.201Z"
   },
   {
    "duration": 42,
    "start_time": "2021-12-16T15:47:39.407Z"
   },
   {
    "duration": 4,
    "start_time": "2021-12-16T15:47:39.451Z"
   },
   {
    "duration": 141,
    "start_time": "2021-12-16T15:47:39.457Z"
   },
   {
    "duration": 6,
    "start_time": "2021-12-16T15:47:39.600Z"
   },
   {
    "duration": 8,
    "start_time": "2021-12-16T15:47:39.624Z"
   },
   {
    "duration": 17,
    "start_time": "2021-12-16T15:47:39.634Z"
   },
   {
    "duration": 27027,
    "start_time": "2021-12-16T15:47:39.653Z"
   },
   {
    "duration": 227720,
    "start_time": "2021-12-16T15:48:06.682Z"
   },
   {
    "duration": 3,
    "start_time": "2021-12-16T15:51:54.405Z"
   },
   {
    "duration": 32,
    "start_time": "2021-12-16T15:51:54.411Z"
   },
   {
    "duration": 263,
    "start_time": "2021-12-16T15:51:54.445Z"
   },
   {
    "duration": 2006,
    "start_time": "2021-12-16T15:51:54.722Z"
   },
   {
    "duration": 99,
    "start_time": "2021-12-16T15:51:56.733Z"
   },
   {
    "duration": 219,
    "start_time": "2021-12-16T15:51:56.834Z"
   },
   {
    "duration": 4,
    "start_time": "2021-12-16T15:51:57.056Z"
   },
   {
    "duration": 25,
    "start_time": "2021-12-16T15:51:57.062Z"
   },
   {
    "duration": 42,
    "start_time": "2021-12-16T15:51:57.089Z"
   },
   {
    "duration": 98,
    "start_time": "2021-12-16T15:51:57.133Z"
   },
   {
    "duration": 17,
    "start_time": "2021-12-16T15:51:57.233Z"
   },
   {
    "duration": 32,
    "start_time": "2021-12-16T15:51:57.253Z"
   },
   {
    "duration": 2085,
    "start_time": "2021-12-16T15:51:57.288Z"
   },
   {
    "duration": 3,
    "start_time": "2021-12-16T15:51:59.376Z"
   },
   {
    "duration": 651,
    "start_time": "2021-12-16T15:51:59.382Z"
   },
   {
    "duration": 6,
    "start_time": "2021-12-16T15:52:00.035Z"
   },
   {
    "duration": 25,
    "start_time": "2021-12-16T15:52:00.043Z"
   },
   {
    "duration": 103,
    "start_time": "2021-12-16T15:52:00.070Z"
   },
   {
    "duration": 17,
    "start_time": "2021-12-16T15:52:00.175Z"
   },
   {
    "duration": 8,
    "start_time": "2021-12-16T15:52:00.194Z"
   },
   {
    "duration": 2186,
    "start_time": "2021-12-16T15:52:00.224Z"
   },
   {
    "duration": 244726,
    "start_time": "2021-12-16T15:52:02.413Z"
   },
   {
    "duration": 679,
    "start_time": "2021-12-16T15:57:19.965Z"
   },
   {
    "duration": 385,
    "start_time": "2021-12-16T15:58:48.411Z"
   },
   {
    "duration": 26215,
    "start_time": "2021-12-16T15:59:20.328Z"
   },
   {
    "duration": 2346,
    "start_time": "2021-12-16T16:00:29.992Z"
   },
   {
    "duration": 2156,
    "start_time": "2021-12-16T16:00:52.565Z"
   },
   {
    "duration": 5,
    "start_time": "2021-12-16T16:04:24.039Z"
   },
   {
    "duration": 25502,
    "start_time": "2021-12-16T16:04:43.997Z"
   },
   {
    "duration": 2122,
    "start_time": "2021-12-16T16:05:39.104Z"
   },
   {
    "duration": 2045,
    "start_time": "2021-12-16T16:05:50.881Z"
   },
   {
    "duration": 2142,
    "start_time": "2021-12-16T16:06:14.682Z"
   },
   {
    "duration": 347,
    "start_time": "2021-12-16T16:08:51.840Z"
   },
   {
    "duration": 28238,
    "start_time": "2021-12-16T16:09:10.588Z"
   },
   {
    "duration": 10663,
    "start_time": "2021-12-16T16:09:58.264Z"
   },
   {
    "duration": 9533,
    "start_time": "2021-12-16T16:11:14.638Z"
   },
   {
    "duration": 9906,
    "start_time": "2021-12-16T16:12:24.012Z"
   },
   {
    "duration": 6983,
    "start_time": "2021-12-16T16:26:21.725Z"
   },
   {
    "duration": 5,
    "start_time": "2021-12-16T16:27:05.035Z"
   },
   {
    "duration": 12,
    "start_time": "2021-12-16T16:27:05.043Z"
   },
   {
    "duration": 610,
    "start_time": "2021-12-16T16:27:05.058Z"
   },
   {
    "duration": 441,
    "start_time": "2021-12-16T16:27:05.670Z"
   },
   {
    "duration": 119,
    "start_time": "2021-12-16T16:27:06.124Z"
   },
   {
    "duration": 109,
    "start_time": "2021-12-16T16:27:06.246Z"
   },
   {
    "duration": 19,
    "start_time": "2021-12-16T16:27:06.357Z"
   },
   {
    "duration": 22,
    "start_time": "2021-12-16T16:27:06.378Z"
   },
   {
    "duration": 48,
    "start_time": "2021-12-16T16:27:06.424Z"
   },
   {
    "duration": 63,
    "start_time": "2021-12-16T16:27:06.477Z"
   },
   {
    "duration": 47,
    "start_time": "2021-12-16T16:27:06.545Z"
   },
   {
    "duration": 36,
    "start_time": "2021-12-16T16:27:06.596Z"
   },
   {
    "duration": 13,
    "start_time": "2021-12-16T16:27:06.635Z"
   },
   {
    "duration": 14,
    "start_time": "2021-12-16T16:27:06.651Z"
   },
   {
    "duration": 7,
    "start_time": "2021-12-16T16:27:06.668Z"
   },
   {
    "duration": 47,
    "start_time": "2021-12-16T16:27:06.677Z"
   },
   {
    "duration": 868,
    "start_time": "2021-12-16T16:27:06.727Z"
   },
   {
    "duration": 8,
    "start_time": "2021-12-16T16:27:07.597Z"
   },
   {
    "duration": 21,
    "start_time": "2021-12-16T16:27:07.607Z"
   },
   {
    "duration": 7,
    "start_time": "2021-12-16T16:27:07.630Z"
   },
   {
    "duration": 33,
    "start_time": "2021-12-16T16:27:07.639Z"
   },
   {
    "duration": 16,
    "start_time": "2021-12-16T16:27:07.674Z"
   },
   {
    "duration": 31,
    "start_time": "2021-12-16T16:27:07.692Z"
   },
   {
    "duration": 141,
    "start_time": "2021-12-16T16:27:07.726Z"
   },
   {
    "duration": 87,
    "start_time": "2021-12-16T16:27:07.877Z"
   },
   {
    "duration": 60,
    "start_time": "2021-12-16T16:27:07.970Z"
   },
   {
    "duration": 20,
    "start_time": "2021-12-16T16:27:08.033Z"
   },
   {
    "duration": 22,
    "start_time": "2021-12-16T16:27:08.056Z"
   },
   {
    "duration": 27,
    "start_time": "2021-12-16T16:27:08.081Z"
   },
   {
    "duration": 62,
    "start_time": "2021-12-16T16:27:08.111Z"
   },
   {
    "duration": 31,
    "start_time": "2021-12-16T16:27:08.176Z"
   },
   {
    "duration": 22,
    "start_time": "2021-12-16T16:27:08.209Z"
   },
   {
    "duration": 3232,
    "start_time": "2021-12-16T16:27:08.234Z"
   },
   {
    "duration": 7,
    "start_time": "2021-12-16T16:27:11.468Z"
   },
   {
    "duration": 31,
    "start_time": "2021-12-16T16:27:11.478Z"
   },
   {
    "duration": 1269,
    "start_time": "2021-12-16T16:27:11.512Z"
   },
   {
    "duration": 5,
    "start_time": "2021-12-16T16:27:12.784Z"
   },
   {
    "duration": 39,
    "start_time": "2021-12-16T16:27:12.791Z"
   },
   {
    "duration": 151,
    "start_time": "2021-12-16T16:27:12.833Z"
   },
   {
    "duration": 208,
    "start_time": "2021-12-16T16:27:12.986Z"
   },
   {
    "duration": 45,
    "start_time": "2021-12-16T16:27:13.196Z"
   },
   {
    "duration": 4,
    "start_time": "2021-12-16T16:27:13.243Z"
   },
   {
    "duration": 142,
    "start_time": "2021-12-16T16:27:13.249Z"
   },
   {
    "duration": 4,
    "start_time": "2021-12-16T16:27:13.394Z"
   },
   {
    "duration": 18,
    "start_time": "2021-12-16T16:27:13.400Z"
   },
   {
    "duration": 18,
    "start_time": "2021-12-16T16:27:13.424Z"
   },
   {
    "duration": 576,
    "start_time": "2021-12-16T16:27:13.445Z"
   },
   {
    "duration": 287,
    "start_time": "2021-12-16T16:27:14.024Z"
   },
   {
    "duration": 3,
    "start_time": "2021-12-16T16:27:14.313Z"
   },
   {
    "duration": 22,
    "start_time": "2021-12-16T16:27:14.318Z"
   },
   {
    "duration": 265,
    "start_time": "2021-12-16T16:27:14.342Z"
   },
   {
    "duration": 1914,
    "start_time": "2021-12-16T16:27:14.609Z"
   },
   {
    "duration": 17,
    "start_time": "2021-12-16T16:27:16.525Z"
   },
   {
    "duration": 263,
    "start_time": "2021-12-16T16:27:16.545Z"
   },
   {
    "duration": 15,
    "start_time": "2021-12-16T16:27:16.810Z"
   },
   {
    "duration": 7,
    "start_time": "2021-12-16T16:27:16.827Z"
   },
   {
    "duration": 16,
    "start_time": "2021-12-16T16:27:16.837Z"
   },
   {
    "duration": 108,
    "start_time": "2021-12-16T16:27:16.856Z"
   },
   {
    "duration": 13,
    "start_time": "2021-12-16T16:27:16.966Z"
   },
   {
    "duration": 7,
    "start_time": "2021-12-16T16:27:16.982Z"
   },
   {
    "duration": 1981,
    "start_time": "2021-12-16T16:27:16.992Z"
   },
   {
    "duration": 3,
    "start_time": "2021-12-16T16:27:18.976Z"
   },
   {
    "duration": 550,
    "start_time": "2021-12-16T16:27:18.981Z"
   },
   {
    "duration": 6,
    "start_time": "2021-12-16T16:27:19.534Z"
   },
   {
    "duration": 17,
    "start_time": "2021-12-16T16:27:19.542Z"
   },
   {
    "duration": 99,
    "start_time": "2021-12-16T16:27:19.561Z"
   },
   {
    "duration": 13,
    "start_time": "2021-12-16T16:27:19.662Z"
   },
   {
    "duration": 12,
    "start_time": "2021-12-16T16:27:19.677Z"
   },
   {
    "duration": 1774,
    "start_time": "2021-12-16T16:27:19.691Z"
   },
   {
    "duration": 231,
    "start_time": "2021-12-16T16:27:21.472Z"
   },
   {
    "duration": 344,
    "start_time": "2021-12-16T17:43:48.447Z"
   },
   {
    "duration": 478,
    "start_time": "2021-12-16T17:45:24.773Z"
   },
   {
    "duration": 353,
    "start_time": "2021-12-16T17:46:31.810Z"
   },
   {
    "duration": 401,
    "start_time": "2021-12-16T17:47:06.894Z"
   },
   {
    "duration": 1493,
    "start_time": "2021-12-16T17:48:17.213Z"
   },
   {
    "duration": 5,
    "start_time": "2021-12-16T17:48:18.709Z"
   },
   {
    "duration": 723,
    "start_time": "2021-12-16T17:48:18.727Z"
   },
   {
    "duration": 493,
    "start_time": "2021-12-16T17:48:19.453Z"
   },
   {
    "duration": 142,
    "start_time": "2021-12-16T17:48:19.949Z"
   },
   {
    "duration": 157,
    "start_time": "2021-12-16T17:48:20.093Z"
   },
   {
    "duration": 23,
    "start_time": "2021-12-16T17:48:20.253Z"
   },
   {
    "duration": 45,
    "start_time": "2021-12-16T17:48:20.282Z"
   },
   {
    "duration": 69,
    "start_time": "2021-12-16T17:48:20.331Z"
   },
   {
    "duration": 71,
    "start_time": "2021-12-16T17:48:20.403Z"
   },
   {
    "duration": 67,
    "start_time": "2021-12-16T17:48:20.477Z"
   },
   {
    "duration": 15,
    "start_time": "2021-12-16T17:48:20.548Z"
   },
   {
    "duration": 8,
    "start_time": "2021-12-16T17:48:20.566Z"
   },
   {
    "duration": 7,
    "start_time": "2021-12-16T17:48:20.577Z"
   },
   {
    "duration": 38,
    "start_time": "2021-12-16T17:48:20.587Z"
   },
   {
    "duration": 920,
    "start_time": "2021-12-16T17:48:20.628Z"
   },
   {
    "duration": 10,
    "start_time": "2021-12-16T17:48:21.551Z"
   },
   {
    "duration": 10,
    "start_time": "2021-12-16T17:48:21.564Z"
   },
   {
    "duration": 10,
    "start_time": "2021-12-16T17:48:21.577Z"
   },
   {
    "duration": 71,
    "start_time": "2021-12-16T17:48:21.590Z"
   },
   {
    "duration": 22,
    "start_time": "2021-12-16T17:48:21.665Z"
   },
   {
    "duration": 3,
    "start_time": "2021-12-16T17:48:21.690Z"
   },
   {
    "duration": 118,
    "start_time": "2021-12-16T17:48:21.725Z"
   },
   {
    "duration": 41,
    "start_time": "2021-12-16T17:48:21.847Z"
   },
   {
    "duration": 65,
    "start_time": "2021-12-16T17:48:21.891Z"
   },
   {
    "duration": 15,
    "start_time": "2021-12-16T17:48:21.959Z"
   },
   {
    "duration": 16,
    "start_time": "2021-12-16T17:48:21.976Z"
   },
   {
    "duration": 40,
    "start_time": "2021-12-16T17:48:21.995Z"
   },
   {
    "duration": 53,
    "start_time": "2021-12-16T17:48:22.037Z"
   },
   {
    "duration": 12,
    "start_time": "2021-12-16T17:48:22.092Z"
   },
   {
    "duration": 10,
    "start_time": "2021-12-16T17:48:22.106Z"
   },
   {
    "duration": 2621,
    "start_time": "2021-12-16T17:48:22.119Z"
   },
   {
    "duration": 7,
    "start_time": "2021-12-16T17:48:24.743Z"
   },
   {
    "duration": 13,
    "start_time": "2021-12-16T17:48:24.752Z"
   },
   {
    "duration": 1327,
    "start_time": "2021-12-16T17:48:24.768Z"
   },
   {
    "duration": 6,
    "start_time": "2021-12-16T17:48:26.098Z"
   },
   {
    "duration": 37,
    "start_time": "2021-12-16T17:48:26.106Z"
   },
   {
    "duration": 163,
    "start_time": "2021-12-16T17:48:26.146Z"
   },
   {
    "duration": 213,
    "start_time": "2021-12-16T17:48:26.312Z"
   },
   {
    "duration": 37,
    "start_time": "2021-12-16T17:48:26.528Z"
   },
   {
    "duration": 4,
    "start_time": "2021-12-16T17:48:26.567Z"
   },
   {
    "duration": 153,
    "start_time": "2021-12-16T17:48:26.573Z"
   },
   {
    "duration": 9,
    "start_time": "2021-12-16T17:48:26.729Z"
   },
   {
    "duration": 13,
    "start_time": "2021-12-16T17:48:26.741Z"
   },
   {
    "duration": 31,
    "start_time": "2021-12-16T17:48:26.756Z"
   },
   {
    "duration": 11106,
    "start_time": "2021-12-16T17:48:26.790Z"
   },
   {
    "duration": 244329,
    "start_time": "2021-12-16T17:48:37.898Z"
   },
   {
    "duration": 4,
    "start_time": "2021-12-16T17:52:42.230Z"
   },
   {
    "duration": 13,
    "start_time": "2021-12-16T17:52:42.239Z"
   },
   {
    "duration": 357,
    "start_time": "2021-12-16T17:52:42.255Z"
   },
   {
    "duration": 2115,
    "start_time": "2021-12-16T17:52:42.623Z"
   },
   {
    "duration": 90,
    "start_time": "2021-12-16T17:52:44.749Z"
   },
   {
    "duration": 242,
    "start_time": "2021-12-16T17:52:44.842Z"
   },
   {
    "duration": 6,
    "start_time": "2021-12-16T17:52:45.088Z"
   },
   {
    "duration": 28,
    "start_time": "2021-12-16T17:52:45.097Z"
   },
   {
    "duration": 34,
    "start_time": "2021-12-16T17:52:45.129Z"
   },
   {
    "duration": 140,
    "start_time": "2021-12-16T17:52:45.166Z"
   },
   {
    "duration": 24,
    "start_time": "2021-12-16T17:52:45.309Z"
   },
   {
    "duration": 21,
    "start_time": "2021-12-16T17:52:45.335Z"
   },
   {
    "duration": 2209,
    "start_time": "2021-12-16T17:52:45.359Z"
   },
   {
    "duration": 4,
    "start_time": "2021-12-16T17:52:47.570Z"
   },
   {
    "duration": 586,
    "start_time": "2021-12-16T17:52:47.576Z"
   },
   {
    "duration": 6,
    "start_time": "2021-12-16T17:52:48.164Z"
   },
   {
    "duration": 65,
    "start_time": "2021-12-16T17:52:48.172Z"
   },
   {
    "duration": 95,
    "start_time": "2021-12-16T17:52:48.240Z"
   },
   {
    "duration": 17,
    "start_time": "2021-12-16T17:52:48.338Z"
   },
   {
    "duration": 7,
    "start_time": "2021-12-16T17:52:48.358Z"
   },
   {
    "duration": 2190,
    "start_time": "2021-12-16T17:52:48.373Z"
   },
   {
    "duration": 255181,
    "start_time": "2021-12-16T17:52:50.566Z"
   },
   {
    "duration": 252944,
    "start_time": "2021-12-16T17:57:05.750Z"
   },
   {
    "duration": 2182,
    "start_time": "2021-12-16T18:06:56.947Z"
   },
   {
    "duration": 2141,
    "start_time": "2021-12-16T18:07:13.898Z"
   },
   {
    "duration": 973,
    "start_time": "2021-12-16T18:18:59.234Z"
   },
   {
    "duration": 551,
    "start_time": "2021-12-16T18:20:02.341Z"
   },
   {
    "duration": 290,
    "start_time": "2021-12-16T18:29:46.797Z"
   },
   {
    "duration": 5,
    "start_time": "2021-12-16T18:30:35.915Z"
   },
   {
    "duration": 6,
    "start_time": "2021-12-16T18:30:47.158Z"
   },
   {
    "duration": 543,
    "start_time": "2021-12-16T18:31:15.161Z"
   },
   {
    "duration": 5,
    "start_time": "2021-12-16T18:31:22.065Z"
   },
   {
    "duration": 6,
    "start_time": "2021-12-16T18:32:30.067Z"
   },
   {
    "duration": 540,
    "start_time": "2021-12-16T18:33:18.466Z"
   },
   {
    "duration": 7,
    "start_time": "2021-12-16T18:33:31.401Z"
   },
   {
    "duration": 5,
    "start_time": "2021-12-16T18:33:34.660Z"
   },
   {
    "duration": 15,
    "start_time": "2021-12-16T18:33:45.988Z"
   },
   {
    "duration": 111,
    "start_time": "2021-12-16T18:33:46.660Z"
   },
   {
    "duration": 15,
    "start_time": "2021-12-16T18:33:47.606Z"
   },
   {
    "duration": 9,
    "start_time": "2021-12-16T18:33:48.274Z"
   },
   {
    "duration": 506,
    "start_time": "2021-12-16T18:33:51.907Z"
   },
   {
    "duration": 739,
    "start_time": "2021-12-16T18:35:09.150Z"
   },
   {
    "duration": 7,
    "start_time": "2021-12-16T18:35:15.934Z"
   },
   {
    "duration": 521,
    "start_time": "2021-12-16T18:35:25.364Z"
   },
   {
    "duration": 499,
    "start_time": "2021-12-16T18:38:28.998Z"
   },
   {
    "duration": 259,
    "start_time": "2021-12-16T18:39:35.736Z"
   },
   {
    "duration": 476,
    "start_time": "2021-12-16T18:44:00.818Z"
   },
   {
    "duration": 301,
    "start_time": "2021-12-16T18:44:09.113Z"
   },
   {
    "duration": 68,
    "start_time": "2021-12-16T18:44:38.600Z"
   },
   {
    "duration": 6209,
    "start_time": "2021-12-16T18:44:46.028Z"
   },
   {
    "duration": 10,
    "start_time": "2021-12-16T18:49:35.473Z"
   },
   {
    "duration": 20,
    "start_time": "2021-12-16T18:49:39.987Z"
   },
   {
    "duration": 21,
    "start_time": "2021-12-16T18:49:53.005Z"
   },
   {
    "duration": 14,
    "start_time": "2021-12-16T18:50:22.035Z"
   },
   {
    "duration": 25,
    "start_time": "2021-12-16T18:50:54.324Z"
   },
   {
    "duration": 285,
    "start_time": "2021-12-16T18:51:10.128Z"
   },
   {
    "duration": 15,
    "start_time": "2021-12-16T18:51:21.655Z"
   },
   {
    "duration": 94,
    "start_time": "2021-12-16T18:55:50.750Z"
   },
   {
    "duration": 10212,
    "start_time": "2021-12-16T18:55:57.655Z"
   },
   {
    "duration": 1779,
    "start_time": "2022-04-16T12:23:33.939Z"
   },
   {
    "duration": 5,
    "start_time": "2022-04-16T12:23:35.721Z"
   },
   {
    "duration": 177,
    "start_time": "2022-04-16T12:23:35.727Z"
   },
   {
    "duration": 4,
    "start_time": "2022-04-16T12:23:35.906Z"
   },
   {
    "duration": 121,
    "start_time": "2022-04-16T12:23:35.913Z"
   },
   {
    "duration": 6,
    "start_time": "2022-04-16T12:23:36.036Z"
   },
   {
    "duration": 178,
    "start_time": "2022-04-16T12:23:36.044Z"
   },
   {
    "duration": 809,
    "start_time": "2022-04-16T12:23:36.224Z"
   },
   {
    "duration": 140,
    "start_time": "2022-04-16T12:23:37.034Z"
   },
   {
    "duration": 120,
    "start_time": "2022-04-16T12:23:37.175Z"
   },
   {
    "duration": 2245,
    "start_time": "2022-04-16T12:23:37.296Z"
   },
   {
    "duration": 4,
    "start_time": "2022-04-16T12:23:39.543Z"
   },
   {
    "duration": 7,
    "start_time": "2022-04-16T12:23:39.549Z"
   },
   {
    "duration": 4,
    "start_time": "2022-04-16T12:23:39.559Z"
   },
   {
    "duration": 7,
    "start_time": "2022-04-16T12:23:39.564Z"
   },
   {
    "duration": 10,
    "start_time": "2022-04-16T12:23:39.573Z"
   },
   {
    "duration": 3,
    "start_time": "2022-04-16T12:23:39.584Z"
   },
   {
    "duration": 3,
    "start_time": "2022-04-16T12:23:39.601Z"
   },
   {
    "duration": 5,
    "start_time": "2022-04-16T12:23:39.606Z"
   },
   {
    "duration": 17,
    "start_time": "2022-04-16T12:23:39.612Z"
   },
   {
    "duration": 12,
    "start_time": "2022-04-16T12:23:39.701Z"
   },
   {
    "duration": 86,
    "start_time": "2022-04-16T12:23:39.715Z"
   },
   {
    "duration": 7,
    "start_time": "2022-04-16T12:23:39.802Z"
   },
   {
    "duration": 11,
    "start_time": "2022-04-16T12:23:39.811Z"
   },
   {
    "duration": 12,
    "start_time": "2022-04-16T12:23:39.823Z"
   },
   {
    "duration": 19,
    "start_time": "2022-04-16T12:23:39.836Z"
   },
   {
    "duration": 9,
    "start_time": "2022-04-16T12:23:39.857Z"
   },
   {
    "duration": 12,
    "start_time": "2022-04-16T12:23:39.867Z"
   },
   {
    "duration": 24,
    "start_time": "2022-04-16T12:23:39.880Z"
   },
   {
    "duration": 3,
    "start_time": "2022-04-16T12:23:39.906Z"
   },
   {
    "duration": 6,
    "start_time": "2022-04-16T12:23:39.910Z"
   },
   {
    "duration": 4,
    "start_time": "2022-04-16T12:23:39.918Z"
   },
   {
    "duration": 541,
    "start_time": "2022-04-16T12:23:39.924Z"
   },
   {
    "duration": 0,
    "start_time": "2022-04-16T12:23:40.466Z"
   },
   {
    "duration": 0,
    "start_time": "2022-04-16T12:23:40.468Z"
   },
   {
    "duration": 0,
    "start_time": "2022-04-16T12:23:40.469Z"
   },
   {
    "duration": 0,
    "start_time": "2022-04-16T12:23:40.470Z"
   },
   {
    "duration": 0,
    "start_time": "2022-04-16T12:23:40.471Z"
   },
   {
    "duration": 3,
    "start_time": "2022-04-16T12:24:07.776Z"
   },
   {
    "duration": 4,
    "start_time": "2022-04-16T12:24:08.033Z"
   },
   {
    "duration": 8,
    "start_time": "2022-04-16T12:24:08.269Z"
   },
   {
    "duration": 8,
    "start_time": "2022-04-16T12:24:08.501Z"
   },
   {
    "duration": 3,
    "start_time": "2022-04-16T12:24:09.780Z"
   },
   {
    "duration": 6,
    "start_time": "2022-04-16T12:24:36.592Z"
   },
   {
    "duration": 6,
    "start_time": "2022-04-16T12:25:07.263Z"
   },
   {
    "duration": 182,
    "start_time": "2022-04-16T19:13:52.125Z"
   },
   {
    "duration": 4,
    "start_time": "2022-04-16T19:26:58.381Z"
   },
   {
    "duration": 20973,
    "start_time": "2022-06-30T17:16:43.025Z"
   },
   {
    "duration": 5,
    "start_time": "2022-06-30T17:17:04.000Z"
   },
   {
    "duration": 169,
    "start_time": "2022-06-30T17:17:04.006Z"
   },
   {
    "duration": 4,
    "start_time": "2022-06-30T17:17:04.177Z"
   },
   {
    "duration": 177,
    "start_time": "2022-06-30T17:17:04.183Z"
   },
   {
    "duration": 7,
    "start_time": "2022-06-30T17:17:04.361Z"
   },
   {
    "duration": 206,
    "start_time": "2022-06-30T17:17:04.369Z"
   },
   {
    "duration": 946,
    "start_time": "2022-06-30T17:17:04.577Z"
   },
   {
    "duration": 151,
    "start_time": "2022-06-30T17:17:05.525Z"
   },
   {
    "duration": 159,
    "start_time": "2022-06-30T17:17:05.680Z"
   },
   {
    "duration": 2435,
    "start_time": "2022-06-30T17:17:05.841Z"
   },
   {
    "duration": 4,
    "start_time": "2022-06-30T17:17:08.277Z"
   },
   {
    "duration": 11,
    "start_time": "2022-06-30T17:17:08.283Z"
   },
   {
    "duration": 9,
    "start_time": "2022-06-30T17:17:08.296Z"
   },
   {
    "duration": 12,
    "start_time": "2022-06-30T17:17:08.307Z"
   },
   {
    "duration": 17,
    "start_time": "2022-06-30T17:17:08.321Z"
   },
   {
    "duration": 3,
    "start_time": "2022-06-30T17:17:08.340Z"
   },
   {
    "duration": 15,
    "start_time": "2022-06-30T17:17:08.344Z"
   },
   {
    "duration": 11,
    "start_time": "2022-06-30T17:17:08.361Z"
   },
   {
    "duration": 88,
    "start_time": "2022-06-30T17:17:08.374Z"
   },
   {
    "duration": 102,
    "start_time": "2022-06-30T17:17:08.464Z"
   },
   {
    "duration": 9,
    "start_time": "2022-06-30T17:17:08.567Z"
   },
   {
    "duration": 6,
    "start_time": "2022-06-30T17:17:08.578Z"
   },
   {
    "duration": 12,
    "start_time": "2022-06-30T17:17:08.585Z"
   },
   {
    "duration": 12,
    "start_time": "2022-06-30T17:17:08.599Z"
   },
   {
    "duration": 23,
    "start_time": "2022-06-30T17:17:08.613Z"
   },
   {
    "duration": 23,
    "start_time": "2022-06-30T17:17:08.638Z"
   },
   {
    "duration": 10,
    "start_time": "2022-06-30T17:17:08.664Z"
   },
   {
    "duration": 10,
    "start_time": "2022-06-30T17:17:08.676Z"
   },
   {
    "duration": 3,
    "start_time": "2022-06-30T17:17:08.688Z"
   },
   {
    "duration": 7,
    "start_time": "2022-06-30T17:17:08.692Z"
   },
   {
    "duration": 7,
    "start_time": "2022-06-30T17:17:08.700Z"
   },
   {
    "duration": 202,
    "start_time": "2022-06-30T17:17:08.709Z"
   },
   {
    "duration": 0,
    "start_time": "2022-06-30T17:17:08.913Z"
   },
   {
    "duration": 0,
    "start_time": "2022-06-30T17:17:08.914Z"
   },
   {
    "duration": 0,
    "start_time": "2022-06-30T17:17:08.915Z"
   },
   {
    "duration": 0,
    "start_time": "2022-06-30T17:17:08.917Z"
   },
   {
    "duration": 0,
    "start_time": "2022-06-30T17:17:08.918Z"
   },
   {
    "duration": 2,
    "start_time": "2022-06-30T17:17:40.365Z"
   },
   {
    "duration": 3,
    "start_time": "2022-06-30T17:17:44.845Z"
   },
   {
    "duration": 8,
    "start_time": "2022-06-30T17:17:45.901Z"
   },
   {
    "duration": 9,
    "start_time": "2022-06-30T17:17:50.304Z"
   },
   {
    "duration": 3,
    "start_time": "2022-06-30T17:17:51.560Z"
   }
  ],
  "kernelspec": {
   "display_name": "Python 3 (ipykernel)",
   "language": "python",
   "name": "python3"
  },
  "language_info": {
   "codemirror_mode": {
    "name": "ipython",
    "version": 3
   },
   "file_extension": ".py",
   "mimetype": "text/x-python",
   "name": "python",
   "nbconvert_exporter": "python",
   "pygments_lexer": "ipython3",
   "version": "3.9.5"
  },
  "toc": {
   "base_numbering": 1,
   "nav_menu": {},
   "number_sections": true,
   "sideBar": true,
   "skip_h1_title": false,
   "title_cell": "Table of Contents",
   "title_sidebar": "Contents",
   "toc_cell": true,
   "toc_position": {
    "height": "calc(100% - 180px)",
    "left": "10px",
    "top": "150px",
    "width": "320px"
   },
   "toc_section_display": true,
   "toc_window_display": true
  }
 },
 "nbformat": 4,
 "nbformat_minor": 4
}
