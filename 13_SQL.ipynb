{
 "cells": [
  {
   "cell_type": "markdown",
   "metadata": {
    "toc": true
   },
   "source": [
    "<h1>Table of Contents<span class=\"tocSkip\"></span></h1>\n",
    "<div class=\"toc\"><ul class=\"toc-item\"><li><ul class=\"toc-item\"><li><ul class=\"toc-item\"><li><span><a href=\"#Роман,-привет!\" data-toc-modified-id=\"Роман,-привет!-0.0.1\">Роман, привет!</a></span></li></ul></li><li><span><a href=\"#Комментарий-от-ревьюера\" data-toc-modified-id=\"Комментарий-от-ревьюера-0.1\">Комментарий от ревьюера</a></span></li><li><span><a href=\"#Комментарий-от-ревьюера\" data-toc-modified-id=\"Комментарий-от-ревьюера-0.2\">Комментарий от ревьюера</a></span></li><li><span><a href=\"#Комментарий-от-ревьюера\" data-toc-modified-id=\"Комментарий-от-ревьюера-0.3\">Комментарий от ревьюера</a></span></li><li><span><a href=\"#Комментарий-студента:\" data-toc-modified-id=\"Комментарий-студента:-0.4\">Комментарий студента:</a></span></li><li><span><a href=\"#Комментарий-от-ревьюера\" data-toc-modified-id=\"Комментарий-от-ревьюера-0.5\">Комментарий от ревьюера</a></span></li><li><span><a href=\"#Комментарий-от-ревьюера-v_1\" data-toc-modified-id=\"Комментарий-от-ревьюера-v_1-0.6\">Комментарий от ревьюера v_1</a></span></li></ul></li><li><span><a href=\"#Задание-1\" data-toc-modified-id=\"Задание-1-1\">Задание 1</a></span><ul class=\"toc-item\"><li><span><a href=\"#Комментарий-от-ревьюера-v_1\" data-toc-modified-id=\"Комментарий-от-ревьюера-v_1-1.1\">Комментарий от ревьюера v_1</a></span></li><li><span><a href=\"#Комментарий-от-ревьюера-v_1\" data-toc-modified-id=\"Комментарий-от-ревьюера-v_1-1.2\">Комментарий от ревьюера v_1</a></span></li></ul></li><li><span><a href=\"#Задание-2\" data-toc-modified-id=\"Задание-2-2\">Задание 2</a></span><ul class=\"toc-item\"><li><span><a href=\"#Комментарий-от-ревьюера-v_1\" data-toc-modified-id=\"Комментарий-от-ревьюера-v_1-2.1\">Комментарий от ревьюера v_1</a></span></li></ul></li><li><span><a href=\"#Задание-3\" data-toc-modified-id=\"Задание-3-3\">Задание 3</a></span><ul class=\"toc-item\"><li><span><a href=\"#Комментарий-от-ревьюера-v_1\" data-toc-modified-id=\"Комментарий-от-ревьюера-v_1-3.1\">Комментарий от ревьюера v_1</a></span></li><li><span><a href=\"#Комментарий-от-ревьюера-v_1\" data-toc-modified-id=\"Комментарий-от-ревьюера-v_1-3.2\">Комментарий от ревьюера v_1</a></span></li></ul></li><li><span><a href=\"#Задание-4\" data-toc-modified-id=\"Задание-4-4\">Задание 4</a></span><ul class=\"toc-item\"><li><span><a href=\"#Комментарий-от-ревьюера-v_1\" data-toc-modified-id=\"Комментарий-от-ревьюера-v_1-4.1\">Комментарий от ревьюера v_1</a></span></li></ul></li><li><span><a href=\"#Задание-5\" data-toc-modified-id=\"Задание-5-5\">Задание 5</a></span><ul class=\"toc-item\"><li><span><a href=\"#Комментарий-от-ревьюера-v_1\" data-toc-modified-id=\"Комментарий-от-ревьюера-v_1-5.1\">Комментарий от ревьюера v_1</a></span></li></ul></li><li><span><a href=\"#Задание-6\" data-toc-modified-id=\"Задание-6-6\">Задание 6</a></span><ul class=\"toc-item\"><li><span><a href=\"#Комментарий-от-ревьюера-v_1\" data-toc-modified-id=\"Комментарий-от-ревьюера-v_1-6.1\">Комментарий от ревьюера v_1</a></span></li></ul></li><li><span><a href=\"#Задание-7\" data-toc-modified-id=\"Задание-7-7\">Задание 7</a></span><ul class=\"toc-item\"><li><span><a href=\"#Комментарий-от-ревьюера-v_1\" data-toc-modified-id=\"Комментарий-от-ревьюера-v_1-7.1\">Комментарий от ревьюера v_1</a></span></li></ul></li><li><span><a href=\"#Задание-8\" data-toc-modified-id=\"Задание-8-8\">Задание 8</a></span><ul class=\"toc-item\"><li><span><a href=\"#Комментарий-от-ревьюера-v_1\" data-toc-modified-id=\"Комментарий-от-ревьюера-v_1-8.1\">Комментарий от ревьюера v_1</a></span></li><li><span><a href=\"#Комментарий-от-ревьюера-v_1\" data-toc-modified-id=\"Комментарий-от-ревьюера-v_1-8.2\">Комментарий от ревьюера v_1</a></span></li></ul></li><li><span><a href=\"#Задание-9\" data-toc-modified-id=\"Задание-9-9\">Задание 9</a></span><ul class=\"toc-item\"><li><span><a href=\"#Комментарий-от-ревьюера-v_1\" data-toc-modified-id=\"Комментарий-от-ревьюера-v_1-9.1\">Комментарий от ревьюера v_1</a></span></li></ul></li><li><span><a href=\"#Задание-10\" data-toc-modified-id=\"Задание-10-10\">Задание 10</a></span><ul class=\"toc-item\"><li><span><a href=\"#Комментарий-от-ревьюера-v_1\" data-toc-modified-id=\"Комментарий-от-ревьюера-v_1-10.1\">Комментарий от ревьюера v_1</a></span></li></ul></li><li><span><a href=\"#Заключение\" data-toc-modified-id=\"Заключение-11\">Заключение</a></span><ul class=\"toc-item\"><li><span><a href=\"#Комментарий-от-ревьюера-v_1\" data-toc-modified-id=\"Комментарий-от-ревьюера-v_1-11.1\">Комментарий от ревьюера v_1</a></span></li></ul></li></ul></div>"
   ]
  },
  {
   "cell_type": "markdown",
   "metadata": {},
   "source": [
    "#### Роман, привет! \n",
    "\n",
    "Меня зовут Максим Попов, и я буду проверять твой проект. Давай будем общаться на «ты». Но если тебе комфортнее на «вы», обязательно сообщи мне об этом. \n",
    "По ходу тетрадки ты найдешь комментарии к проекту, они будут в отдельных ячейках Markdown с заголовком «Комментарий ревьюера». Постарайся учесть эти комментарии для дальнейших проектов.\n",
    "\n",
    "---\n",
    "\n",
    "Я буду отмечать комментарии цветом и примечанием. В конце заголовка комментария будет указан номер итерации проверки. Пожалуйста, не удаляй и не правь мои комментарии\n",
    "\n",
    "Критично - требует исправления, влияет на удачное выполнение проекта\n",
    "\n",
    "Рекомендация - комментарий является рекомендацией или советом. Mожешь учесть их при выполнении будущих заданий. На твое усмотрение\n",
    "\n",
    "Отлично - Так отмечены удачные решения и подходы, на которые стоит опираться в будущих проектах\n",
    "\n",
    "\n",
    "---\n",
    "<div class=\"alert alert-block alert-danger\">\n",
    "    \n",
    "\n",
    "### Комментарий от ревьюера\n",
    "Критично\n",
    "\n",
    "Такой комментарий нужно исправить обязательно, он критически влияет на удачное выполнение проекта.\n",
    "</div>\n",
    "    \n",
    "---\n",
    "\n",
    "<div class=\"alert alert-block alert-warning\">\n",
    "    \n",
    "\n",
    "### Комментарий от ревьюера\n",
    "Рекомендация\n",
    "\n",
    "Такой комментарий является рекомендацией или советом. Mожешь учесть их при выполнении будущих заданий. На твое усмотрение. \n",
    "</div>\n",
    "\n",
    "---\n",
    "\n",
    "<div class=\"alert alert-block alert-success\">\n",
    "    \n",
    "\n",
    "### Комментарий от ревьюера\n",
    "Отлично\n",
    "    \n",
    "Так отмечены удачные решения и подходы, на которые стоит опираться в будущих проектах\n",
    "</div>\n",
    "\n",
    "\n",
    "Желательно реагировать на комментарии ('исправлено', 'не понятно как исправить ошибку' и т.п.) - так мы сможем более эффективно поработать над этим проектом.\n",
    "\n",
    "---\n",
    "\n",
    "Будет здорово, если ты будешь помечать свои действия следующим образом:\n",
    "\n",
    "\n",
    "\n",
    "<div class=\"alert alert-block alert-info\">\n",
    "\n",
    "### Комментарий студента:\n",
    "\n",
    "</div>"
   ]
  },
  {
   "cell_type": "markdown",
   "metadata": {},
   "source": [
    "<div class=\"alert alert-block alert-success\">\n",
    "    \n",
    "\n",
    "### Комментарий от ревьюера\n",
    "    \n",
    "Роман, ты блестяще разбираешься с запросами, 10 из 10 с первого раза 👍👍👍\n",
    "    \n",
    "Код в запросах у тебя достаточно чистый, но все же ты не везде соблюдаешь общепринятый стиль. Рекомендую ознакомиться с общепринятым оформление кода в SQL\n",
    "    \n",
    "https://www.sqlstyle.guide/ru/\n",
    "        \n",
    "Если у тебя пока небольшой опыт работы с SQL, для дальнейшего изучения рекомендую следующие ресурсы:\n",
    "    \n",
    "1. https://datalearn.ru/kurs-po-sql \n",
    "    \n",
    "Сразу к последней части переходи, к MS SQL Server, там много полезной инфы будет уже про создание таблиц, хранимые процедуры и т. п. \n",
    "    \n",
    "2. https://stepik.org/course/3203/promo (если есть желание изучить поглубже)\n",
    "    \n",
    "Тут уже про то, что под капотом SQL (было бы неплохо ориентироваться в алгоритмах для прохождения, очень рекомендую книгу \"Грокаем алгоритмы\", чтобы изучить основы, вдохновиться и понять, что алгоритмы - это не сложно, а увлекательно и красиво)\n",
    "    \n",
    "    \n",
    "Успеха в дальнейшем обучении!\n",
    "    \n",
    "    \n",
    "</div>"
   ]
  },
  {
   "cell_type": "markdown",
   "metadata": {
    "id": "sRW85nPMDWKb"
   },
   "source": [
    "В этой части проекта вам нужно написать несколько SQL-запросов в Jupyter Notebook. Эти задания проверят вручную, и вы получите комментарии к составленным запросам. \n",
    "\n",
    "Необходимые данные находятся в таблицах схемы `stackoverflow`. Не забудьте подключиться к базе с помощью SQLAlchemy. Вспомните инструкцию из [урока про представление результатов](https://practicum.yandex.ru/learn/data-analyst-plus/courses/96ccbf7a-b65d-4f51-b5f3-18360ad1e301/sprints/6116/topics/27f7c9a7-a474-4a82-8392-b3f069b26f69/lessons/e12d84bb-ffa8-490c-8bde-0935d86ceccb/). Пример кода для подключения к базе и выгрузки результатов вы найдёте и в этой тетрадке. \n",
    "\n",
    "Некоторые задания включают дополнительные вопросы — не пропустите их. На часть вопросов можно ответить текстом, а для некоторых понадобится визуализация. Помните, что результат запроса можно выгрузить в датафрейм. \n",
    "\n",
    "Чтобы ожидаемый результат было легче представить, мы добавили к каждому заданию небольшой фрагмент итоговой таблицы. В запросах вы можете использовать любые подходящие названия полей."
   ]
  },
  {
   "cell_type": "code",
   "execution_count": 1,
   "metadata": {
    "id": "nlZBlglMDWKe"
   },
   "outputs": [],
   "source": [
    "import pandas as pd\n",
    "import matplotlib.pyplot as plt\n",
    "from sqlalchemy import create_engine "
   ]
  },
  {
   "cell_type": "markdown",
   "metadata": {
    "id": "XnOE3n28DWKg"
   },
   "source": [
    "<b>Конфигурация для подключения к базе данных `data-analyst-advanced-sql`</b>\n",
    "\n",
    "Эта база данных содержит схему `stackoverflow`, с которой вы будете работать в проекте"
   ]
  },
  {
   "cell_type": "code",
   "execution_count": 2,
   "metadata": {
    "id": "6p-yGp7qDWKg"
   },
   "outputs": [],
   "source": [
    "db_config = {\n",
    "    'user': 'praktikum_student', # имя пользователя\n",
    "    'pwd': 'Sdf4$2;d-d30pp', # пароль\n",
    "    'host': 'rc1b-wcoijxj3yxfsf3fs.mdb.yandexcloud.net',\n",
    "    'port': 6432, # порт подключения\n",
    "    'db': 'data-analyst-advanced-sql' # название базы данных\n",
    "}  \n",
    "\n",
    "connection_string = 'postgresql://{}:{}@{}:{}/{}'.format(\n",
    "    db_config['user'],\n",
    "    db_config['pwd'],\n",
    "    db_config['host'],\n",
    "    db_config['port'],\n",
    "    db_config['db'],\n",
    ")"
   ]
  },
  {
   "cell_type": "markdown",
   "metadata": {
    "id": "2Rg8ZpS0DWKh"
   },
   "source": [
    "Создание подключения"
   ]
  },
  {
   "cell_type": "code",
   "execution_count": 3,
   "metadata": {
    "id": "DamCUTR6DWKi"
   },
   "outputs": [],
   "source": [
    "engine = create_engine(connection_string) "
   ]
  },
  {
   "cell_type": "markdown",
   "metadata": {
    "id": "bel8XeSlDWKj"
   },
   "source": [
    "Пример запроса к базе данных\n",
    "\n",
    "`sample_df` является pandas-датафреймом."
   ]
  },
  {
   "cell_type": "code",
   "execution_count": 4,
   "metadata": {
    "id": "6Z_fw0yLDWKk"
   },
   "outputs": [],
   "source": [
    "query = '''\n",
    "SELECT *\n",
    "FROM stackoverflow.users\n",
    "LIMIT 10;\n",
    "'''\n",
    "\n",
    "sample_df = pd.read_sql_query(query, con=engine) "
   ]
  },
  {
   "cell_type": "code",
   "execution_count": 5,
   "metadata": {
    "id": "ZpuZ290oDWKk",
    "outputId": "22785a0a-e2bc-4559-ec3c-4879c4b377eb"
   },
   "outputs": [
    {
     "data": {
      "text/html": [
       "<div>\n",
       "<style scoped>\n",
       "    .dataframe tbody tr th:only-of-type {\n",
       "        vertical-align: middle;\n",
       "    }\n",
       "\n",
       "    .dataframe tbody tr th {\n",
       "        vertical-align: top;\n",
       "    }\n",
       "\n",
       "    .dataframe thead th {\n",
       "        text-align: right;\n",
       "    }\n",
       "</style>\n",
       "<table border=\"1\" class=\"dataframe\">\n",
       "  <thead>\n",
       "    <tr style=\"text-align: right;\">\n",
       "      <th></th>\n",
       "      <th>id</th>\n",
       "      <th>creation_date</th>\n",
       "      <th>display_name</th>\n",
       "      <th>last_access_date</th>\n",
       "      <th>location</th>\n",
       "      <th>reputation</th>\n",
       "      <th>views</th>\n",
       "    </tr>\n",
       "  </thead>\n",
       "  <tbody>\n",
       "    <tr>\n",
       "      <th>0</th>\n",
       "      <td>1</td>\n",
       "      <td>2008-07-31 14:22:31</td>\n",
       "      <td>Jeff Atwood</td>\n",
       "      <td>2018-08-29 02:34:23</td>\n",
       "      <td>El Cerrito, CA</td>\n",
       "      <td>44300</td>\n",
       "      <td>408587</td>\n",
       "    </tr>\n",
       "    <tr>\n",
       "      <th>1</th>\n",
       "      <td>2</td>\n",
       "      <td>2008-07-31 14:22:31</td>\n",
       "      <td>Geoff Dalgas</td>\n",
       "      <td>2018-08-23 17:31:56</td>\n",
       "      <td>Corvallis, OR</td>\n",
       "      <td>3491</td>\n",
       "      <td>23966</td>\n",
       "    </tr>\n",
       "    <tr>\n",
       "      <th>2</th>\n",
       "      <td>3</td>\n",
       "      <td>2008-07-31 14:22:31</td>\n",
       "      <td>Jarrod Dixon</td>\n",
       "      <td>2018-08-30 20:56:24</td>\n",
       "      <td>Raleigh, NC, United States</td>\n",
       "      <td>13418</td>\n",
       "      <td>24396</td>\n",
       "    </tr>\n",
       "    <tr>\n",
       "      <th>3</th>\n",
       "      <td>4</td>\n",
       "      <td>2008-07-31 14:22:31</td>\n",
       "      <td>Joel Spolsky</td>\n",
       "      <td>2018-08-14 22:18:15</td>\n",
       "      <td>New York, NY</td>\n",
       "      <td>28768</td>\n",
       "      <td>73755</td>\n",
       "    </tr>\n",
       "    <tr>\n",
       "      <th>4</th>\n",
       "      <td>5</td>\n",
       "      <td>2008-07-31 14:22:31</td>\n",
       "      <td>Jon Galloway</td>\n",
       "      <td>2018-08-29 16:48:36</td>\n",
       "      <td>San Diego, CA</td>\n",
       "      <td>39172</td>\n",
       "      <td>11700</td>\n",
       "    </tr>\n",
       "    <tr>\n",
       "      <th>5</th>\n",
       "      <td>8</td>\n",
       "      <td>2008-07-31 21:33:24</td>\n",
       "      <td>Eggs McLaren</td>\n",
       "      <td>2018-04-09 02:04:56</td>\n",
       "      <td>None</td>\n",
       "      <td>942</td>\n",
       "      <td>6372</td>\n",
       "    </tr>\n",
       "    <tr>\n",
       "      <th>6</th>\n",
       "      <td>9</td>\n",
       "      <td>2008-07-31 21:35:27</td>\n",
       "      <td>Kevin Dente</td>\n",
       "      <td>2018-08-30 18:18:03</td>\n",
       "      <td>Oakland, CA</td>\n",
       "      <td>14337</td>\n",
       "      <td>4949</td>\n",
       "    </tr>\n",
       "    <tr>\n",
       "      <th>7</th>\n",
       "      <td>11</td>\n",
       "      <td>2008-08-01 00:59:11</td>\n",
       "      <td>Anonymous User</td>\n",
       "      <td>2008-08-01 00:59:11</td>\n",
       "      <td>None</td>\n",
       "      <td>1890</td>\n",
       "      <td>2123</td>\n",
       "    </tr>\n",
       "    <tr>\n",
       "      <th>8</th>\n",
       "      <td>13</td>\n",
       "      <td>2008-08-01 04:18:05</td>\n",
       "      <td>Chris Jester-Young</td>\n",
       "      <td>2018-08-30 02:47:23</td>\n",
       "      <td>Raleigh, NC, United States</td>\n",
       "      <td>177138</td>\n",
       "      <td>35414</td>\n",
       "    </tr>\n",
       "    <tr>\n",
       "      <th>9</th>\n",
       "      <td>17</td>\n",
       "      <td>2008-08-01 12:02:22</td>\n",
       "      <td>Nick Berardi</td>\n",
       "      <td>2018-01-22 01:35:38</td>\n",
       "      <td>Issaquah, WA</td>\n",
       "      <td>44443</td>\n",
       "      <td>4786</td>\n",
       "    </tr>\n",
       "  </tbody>\n",
       "</table>\n",
       "</div>"
      ],
      "text/plain": [
       "   id       creation_date        display_name    last_access_date  \\\n",
       "0   1 2008-07-31 14:22:31         Jeff Atwood 2018-08-29 02:34:23   \n",
       "1   2 2008-07-31 14:22:31        Geoff Dalgas 2018-08-23 17:31:56   \n",
       "2   3 2008-07-31 14:22:31        Jarrod Dixon 2018-08-30 20:56:24   \n",
       "3   4 2008-07-31 14:22:31        Joel Spolsky 2018-08-14 22:18:15   \n",
       "4   5 2008-07-31 14:22:31        Jon Galloway 2018-08-29 16:48:36   \n",
       "5   8 2008-07-31 21:33:24        Eggs McLaren 2018-04-09 02:04:56   \n",
       "6   9 2008-07-31 21:35:27         Kevin Dente 2018-08-30 18:18:03   \n",
       "7  11 2008-08-01 00:59:11      Anonymous User 2008-08-01 00:59:11   \n",
       "8  13 2008-08-01 04:18:05  Chris Jester-Young 2018-08-30 02:47:23   \n",
       "9  17 2008-08-01 12:02:22        Nick Berardi 2018-01-22 01:35:38   \n",
       "\n",
       "                     location  reputation   views  \n",
       "0              El Cerrito, CA       44300  408587  \n",
       "1               Corvallis, OR        3491   23966  \n",
       "2  Raleigh, NC, United States       13418   24396  \n",
       "3                New York, NY       28768   73755  \n",
       "4               San Diego, CA       39172   11700  \n",
       "5                        None         942    6372  \n",
       "6                 Oakland, CA       14337    4949  \n",
       "7                        None        1890    2123  \n",
       "8  Raleigh, NC, United States      177138   35414  \n",
       "9                Issaquah, WA       44443    4786  "
      ]
     },
     "execution_count": 5,
     "metadata": {},
     "output_type": "execute_result"
    }
   ],
   "source": [
    "sample_df"
   ]
  },
  {
   "cell_type": "markdown",
   "metadata": {},
   "source": [
    "<div class=\"alert alert-block alert-success\">\n",
    "    \n",
    "    \n",
    "### Комментарий от ревьюера v_1\n",
    "Отлично\n",
    "    \n",
    "К базе подключились, приступаем к запросам\n",
    "</div>"
   ]
  },
  {
   "cell_type": "markdown",
   "metadata": {
    "id": "gnBMXkDBDWKm"
   },
   "source": [
    "## Задание 1"
   ]
  },
  {
   "cell_type": "markdown",
   "metadata": {
    "id": "vHsfOrrNDWKn"
   },
   "source": [
    "Выведите общую сумму просмотров постов за каждый месяц 2008 года. Если данных за какой-либо месяц в базе нет, такой месяц можно пропустить. Результат отсортируйте по убыванию общего количества просмотров."
   ]
  },
  {
   "cell_type": "markdown",
   "metadata": {
    "id": "N5rTgGNmDWKn"
   },
   "source": [
    "| month_date  | total_views |\n",
    "| ------------- | ------------- |\n",
    "| 2008-09-01  | 452928568  |\n",
    "| 2008-10-01  | 365400138  |\n",
    "| ...         | ... |"
   ]
  },
  {
   "cell_type": "code",
   "execution_count": 7,
   "metadata": {
    "id": "eWvykcXTDWKo"
   },
   "outputs": [],
   "source": [
    "# напишите запрос\n",
    "query1 = '''\n",
    "WITH tem AS \n",
    "\t(SELECT DISTINCT DATE_TRUNC('MONTH', creation_date) AS dt, SUM(views_count)\n",
    "\t\tOVER (PARTITION BY DATE_TRUNC('MONTH', creation_date)) AS total\n",
    "\tFROM stackoverflow.posts\n",
    "\tWHERE (creation_date\n",
    "\t\tBETWEEN '2008-01-01'\n",
    "\t\t\tAND '2009-01-01')\n",
    "\t\t\tAND (post_type_id = 1))\n",
    "SELECT *\n",
    "FROM tem\n",
    "ORDER BY  total DESC\n",
    "'''\n",
    "\n",
    "df1 = pd.read_sql_query(query1, con=engine) \n",
    "# выполните запрос"
   ]
  },
  {
   "cell_type": "markdown",
   "metadata": {},
   "source": [
    "<div class=\"alert alert-block alert-warning\">\n",
    "    \n",
    "\n",
    "### Комментарий от ревьюера v_1\n",
    "Рекомендация\n",
    "\n",
    "1. А зачем подзапрос?)\n",
    "    \n",
    "2. Не следует использовать оконки для простой агрегации, запрос выполняется ощутимо дольше, почти в два раза. Можешь проверить время работы оконки и group by с помощью EXPLAIN ANALYZE \n",
    "    \n",
    "</div>"
   ]
  },
  {
   "cell_type": "markdown",
   "metadata": {
    "id": "XMr_UeU6DWKo"
   },
   "source": [
    "<details>\n",
    "\n",
    "<summary>Подсказка</summary>\n",
    "Используйте функцию для усечения даты, а затем сгруппируйте и отсортируйте данные.\n",
    "</details>"
   ]
  },
  {
   "cell_type": "markdown",
   "metadata": {
    "id": "I_ZvhOxkDWKp"
   },
   "source": [
    "Проанализируйте итоговую таблицу. Отличаются ли данные за разные месяцы? С чем могут быть связаны отличия?"
   ]
  },
  {
   "cell_type": "code",
   "execution_count": 8,
   "metadata": {},
   "outputs": [
    {
     "data": {
      "text/html": [
       "<div>\n",
       "<style scoped>\n",
       "    .dataframe tbody tr th:only-of-type {\n",
       "        vertical-align: middle;\n",
       "    }\n",
       "\n",
       "    .dataframe tbody tr th {\n",
       "        vertical-align: top;\n",
       "    }\n",
       "\n",
       "    .dataframe thead th {\n",
       "        text-align: right;\n",
       "    }\n",
       "</style>\n",
       "<table border=\"1\" class=\"dataframe\">\n",
       "  <thead>\n",
       "    <tr style=\"text-align: right;\">\n",
       "      <th></th>\n",
       "      <th>dt</th>\n",
       "      <th>total</th>\n",
       "    </tr>\n",
       "  </thead>\n",
       "  <tbody>\n",
       "    <tr>\n",
       "      <th>0</th>\n",
       "      <td>2008-09-01</td>\n",
       "      <td>452928568</td>\n",
       "    </tr>\n",
       "    <tr>\n",
       "      <th>1</th>\n",
       "      <td>2008-10-01</td>\n",
       "      <td>365400138</td>\n",
       "    </tr>\n",
       "    <tr>\n",
       "      <th>2</th>\n",
       "      <td>2008-11-01</td>\n",
       "      <td>221759651</td>\n",
       "    </tr>\n",
       "    <tr>\n",
       "      <th>3</th>\n",
       "      <td>2008-12-01</td>\n",
       "      <td>197792841</td>\n",
       "    </tr>\n",
       "    <tr>\n",
       "      <th>4</th>\n",
       "      <td>2008-08-01</td>\n",
       "      <td>131367083</td>\n",
       "    </tr>\n",
       "    <tr>\n",
       "      <th>5</th>\n",
       "      <td>2008-07-01</td>\n",
       "      <td>669895</td>\n",
       "    </tr>\n",
       "  </tbody>\n",
       "</table>\n",
       "</div>"
      ],
      "text/plain": [
       "          dt      total\n",
       "0 2008-09-01  452928568\n",
       "1 2008-10-01  365400138\n",
       "2 2008-11-01  221759651\n",
       "3 2008-12-01  197792841\n",
       "4 2008-08-01  131367083\n",
       "5 2008-07-01     669895"
      ]
     },
     "metadata": {},
     "output_type": "display_data"
    }
   ],
   "source": [
    "display(df1)"
   ]
  },
  {
   "cell_type": "markdown",
   "metadata": {
    "id": "luxSj17oDWKq"
   },
   "source": [
    "Судя по всему в августе - сентябре было проведена рекламная компания платформы, возможно, как с привлечннием новых пользователей, так и с мотивирующими мероприятиями создавать новые посты и просматривать чужие."
   ]
  },
  {
   "cell_type": "markdown",
   "metadata": {},
   "source": [
    "<div class=\"alert alert-block alert-success\">\n",
    "\n",
    "    \n",
    "### Комментарий от ревьюера v_1\n",
    "\n",
    "👍🏻\n",
    "\n",
    "</div>"
   ]
  },
  {
   "cell_type": "markdown",
   "metadata": {
    "id": "FziIXkn5DWKr"
   },
   "source": [
    "## Задание 2"
   ]
  },
  {
   "cell_type": "markdown",
   "metadata": {
    "id": "fTGESZvYDWKr"
   },
   "source": [
    "Выведите имена самых активных пользователей, которые в первый месяц после регистрации (включая день регистрации) дали больше 100 ответов. Вопросы, которые задавали пользователи, не учитывайте. Для каждого имени пользователя выведите количество уникальных значений `user_id`. Отсортируйте результат по полю с именами в лексикографическом порядке."
   ]
  },
  {
   "cell_type": "markdown",
   "metadata": {
    "id": "W5-tv6Y3DWKs"
   },
   "source": [
    "| display_name | count |\n",
    "| ------------ | ----- |\n",
    "| 1800 INFORMATION | 1 |\n",
    "| Adam Bellaire | 1 |\n",
    "| Adam Davis | 1 |\n",
    "| ... | ... |"
   ]
  },
  {
   "cell_type": "code",
   "execution_count": 9,
   "metadata": {
    "id": "fIO-y-YjDWKt"
   },
   "outputs": [],
   "source": [
    "# напишите запрос\n",
    "query2 = '''\n",
    "WITH tem AS \n",
    "\t(SELECT DISTINCT u.display_name,\n",
    "\t\t po.user_id,\n",
    "\t\t COUNT(po.id) OVER(PARTITION BY u.id) AS coun\n",
    "\tFROM stackoverflow.users AS u FULL\n",
    "\tJOIN stackoverflow.posts AS po\n",
    "\t\tON u.id = po.user_id\n",
    "\tWHERE post_type_id = 2\n",
    "\t\t\tAND po.creation_date < u.creation_date::timestamp + INTERVAL '1 MONTH')\n",
    "SELECT display_name,\n",
    "\t\t COUNT(user_id) OVER(PARTITION BY display_name)\n",
    "FROM tem\n",
    "WHERE coun > 100\n",
    "ORDER BY  display_name\n",
    "'''\n",
    "\n",
    "df2 = pd.read_sql_query(query2, con=engine) \n",
    "# выполните запрос"
   ]
  },
  {
   "cell_type": "markdown",
   "metadata": {
    "id": "YIqqc-7HDWKt"
   },
   "source": [
    "<details>\n",
    "\n",
    "<summary>Подсказка</summary>\n",
    "Вам нужно присоединить несколько таблиц — изучите внимательнее описание базы. Чтобы добавить промежуток времени к дате, используйте ключевое слово INTERVAL, например, так: <дата> + INTERVAL '1 year 2 months 3 days'\n",
    ".</details>"
   ]
  },
  {
   "cell_type": "markdown",
   "metadata": {
    "id": "I3Wr82TplKpI"
   },
   "source": [
    "Какие аномалии наблюдаются в данных? О чём они говорят?"
   ]
  },
  {
   "cell_type": "code",
   "execution_count": 10,
   "metadata": {
    "id": "CEIGGQ6ODWKy"
   },
   "outputs": [
    {
     "data": {
      "text/html": [
       "<div>\n",
       "<style scoped>\n",
       "    .dataframe tbody tr th:only-of-type {\n",
       "        vertical-align: middle;\n",
       "    }\n",
       "\n",
       "    .dataframe tbody tr th {\n",
       "        vertical-align: top;\n",
       "    }\n",
       "\n",
       "    .dataframe thead th {\n",
       "        text-align: right;\n",
       "    }\n",
       "</style>\n",
       "<table border=\"1\" class=\"dataframe\">\n",
       "  <thead>\n",
       "    <tr style=\"text-align: right;\">\n",
       "      <th></th>\n",
       "      <th>display_name</th>\n",
       "      <th>count</th>\n",
       "    </tr>\n",
       "  </thead>\n",
       "  <tbody>\n",
       "    <tr>\n",
       "      <th>0</th>\n",
       "      <td>1800 INFORMATION</td>\n",
       "      <td>1</td>\n",
       "    </tr>\n",
       "    <tr>\n",
       "      <th>1</th>\n",
       "      <td>Adam Bellaire</td>\n",
       "      <td>1</td>\n",
       "    </tr>\n",
       "    <tr>\n",
       "      <th>2</th>\n",
       "      <td>Adam Davis</td>\n",
       "      <td>1</td>\n",
       "    </tr>\n",
       "    <tr>\n",
       "      <th>3</th>\n",
       "      <td>Adam Liss</td>\n",
       "      <td>1</td>\n",
       "    </tr>\n",
       "    <tr>\n",
       "      <th>4</th>\n",
       "      <td>Amy B</td>\n",
       "      <td>1</td>\n",
       "    </tr>\n",
       "    <tr>\n",
       "      <th>5</th>\n",
       "      <td>Ben Hoffstein</td>\n",
       "      <td>1</td>\n",
       "    </tr>\n",
       "    <tr>\n",
       "      <th>6</th>\n",
       "      <td>Cade Roux</td>\n",
       "      <td>1</td>\n",
       "    </tr>\n",
       "    <tr>\n",
       "      <th>7</th>\n",
       "      <td>CesarB</td>\n",
       "      <td>1</td>\n",
       "    </tr>\n",
       "    <tr>\n",
       "      <th>8</th>\n",
       "      <td>ConcernedOfTunbridgeWells</td>\n",
       "      <td>1</td>\n",
       "    </tr>\n",
       "    <tr>\n",
       "      <th>9</th>\n",
       "      <td>Dale Ragan</td>\n",
       "      <td>1</td>\n",
       "    </tr>\n",
       "    <tr>\n",
       "      <th>10</th>\n",
       "      <td>Dan</td>\n",
       "      <td>1</td>\n",
       "    </tr>\n",
       "    <tr>\n",
       "      <th>11</th>\n",
       "      <td>Eric Z Beard</td>\n",
       "      <td>1</td>\n",
       "    </tr>\n",
       "    <tr>\n",
       "      <th>12</th>\n",
       "      <td>Espo</td>\n",
       "      <td>1</td>\n",
       "    </tr>\n",
       "    <tr>\n",
       "      <th>13</th>\n",
       "      <td>FlySwat</td>\n",
       "      <td>1</td>\n",
       "    </tr>\n",
       "    <tr>\n",
       "      <th>14</th>\n",
       "      <td>Franci Penov</td>\n",
       "      <td>1</td>\n",
       "    </tr>\n",
       "    <tr>\n",
       "      <th>15</th>\n",
       "      <td>GEOCHET</td>\n",
       "      <td>1</td>\n",
       "    </tr>\n",
       "    <tr>\n",
       "      <th>16</th>\n",
       "      <td>GateKiller</td>\n",
       "      <td>1</td>\n",
       "    </tr>\n",
       "    <tr>\n",
       "      <th>17</th>\n",
       "      <td>Greg</td>\n",
       "      <td>1</td>\n",
       "    </tr>\n",
       "    <tr>\n",
       "      <th>18</th>\n",
       "      <td>Gulzar Nazim</td>\n",
       "      <td>1</td>\n",
       "    </tr>\n",
       "    <tr>\n",
       "      <th>19</th>\n",
       "      <td>Ilya Kochetov</td>\n",
       "      <td>1</td>\n",
       "    </tr>\n",
       "    <tr>\n",
       "      <th>20</th>\n",
       "      <td>James Curran</td>\n",
       "      <td>1</td>\n",
       "    </tr>\n",
       "    <tr>\n",
       "      <th>21</th>\n",
       "      <td>Joe</td>\n",
       "      <td>1</td>\n",
       "    </tr>\n",
       "    <tr>\n",
       "      <th>22</th>\n",
       "      <td>Joel Coehoorn</td>\n",
       "      <td>1</td>\n",
       "    </tr>\n",
       "    <tr>\n",
       "      <th>23</th>\n",
       "      <td>Johannes Schaub - litb</td>\n",
       "      <td>1</td>\n",
       "    </tr>\n",
       "    <tr>\n",
       "      <th>24</th>\n",
       "      <td>John Millikin</td>\n",
       "      <td>1</td>\n",
       "    </tr>\n",
       "    <tr>\n",
       "      <th>25</th>\n",
       "      <td>Jon Limjap</td>\n",
       "      <td>1</td>\n",
       "    </tr>\n",
       "    <tr>\n",
       "      <th>26</th>\n",
       "      <td>Jon Skeet</td>\n",
       "      <td>1</td>\n",
       "    </tr>\n",
       "    <tr>\n",
       "      <th>27</th>\n",
       "      <td>Jorge Ferreira</td>\n",
       "      <td>1</td>\n",
       "    </tr>\n",
       "    <tr>\n",
       "      <th>28</th>\n",
       "      <td>Keith</td>\n",
       "      <td>1</td>\n",
       "    </tr>\n",
       "    <tr>\n",
       "      <th>29</th>\n",
       "      <td>Kibbee</td>\n",
       "      <td>1</td>\n",
       "    </tr>\n",
       "    <tr>\n",
       "      <th>30</th>\n",
       "      <td>Konrad Rudolph</td>\n",
       "      <td>1</td>\n",
       "    </tr>\n",
       "    <tr>\n",
       "      <th>31</th>\n",
       "      <td>Lasse Vågsæther Karlsen</td>\n",
       "      <td>1</td>\n",
       "    </tr>\n",
       "    <tr>\n",
       "      <th>32</th>\n",
       "      <td>Marc Gravell</td>\n",
       "      <td>1</td>\n",
       "    </tr>\n",
       "    <tr>\n",
       "      <th>33</th>\n",
       "      <td>Mark Cidade</td>\n",
       "      <td>1</td>\n",
       "    </tr>\n",
       "    <tr>\n",
       "      <th>34</th>\n",
       "      <td>Mark Harrison</td>\n",
       "      <td>1</td>\n",
       "    </tr>\n",
       "    <tr>\n",
       "      <th>35</th>\n",
       "      <td>Matt Hamilton</td>\n",
       "      <td>1</td>\n",
       "    </tr>\n",
       "    <tr>\n",
       "      <th>36</th>\n",
       "      <td>Michael Burr</td>\n",
       "      <td>1</td>\n",
       "    </tr>\n",
       "    <tr>\n",
       "      <th>37</th>\n",
       "      <td>Michael Stum</td>\n",
       "      <td>1</td>\n",
       "    </tr>\n",
       "    <tr>\n",
       "      <th>38</th>\n",
       "      <td>Mitchel Sellers</td>\n",
       "      <td>1</td>\n",
       "    </tr>\n",
       "    <tr>\n",
       "      <th>39</th>\n",
       "      <td>Norman Ramsey</td>\n",
       "      <td>1</td>\n",
       "    </tr>\n",
       "    <tr>\n",
       "      <th>40</th>\n",
       "      <td>Oli</td>\n",
       "      <td>1</td>\n",
       "    </tr>\n",
       "    <tr>\n",
       "      <th>41</th>\n",
       "      <td>Orion Edwards</td>\n",
       "      <td>1</td>\n",
       "    </tr>\n",
       "    <tr>\n",
       "      <th>42</th>\n",
       "      <td>Paul Nathan</td>\n",
       "      <td>1</td>\n",
       "    </tr>\n",
       "    <tr>\n",
       "      <th>43</th>\n",
       "      <td>PhiLho</td>\n",
       "      <td>1</td>\n",
       "    </tr>\n",
       "    <tr>\n",
       "      <th>44</th>\n",
       "      <td>Rob Cooper</td>\n",
       "      <td>1</td>\n",
       "    </tr>\n",
       "    <tr>\n",
       "      <th>45</th>\n",
       "      <td>Rob Walker</td>\n",
       "      <td>1</td>\n",
       "    </tr>\n",
       "    <tr>\n",
       "      <th>46</th>\n",
       "      <td>S.Lott</td>\n",
       "      <td>1</td>\n",
       "    </tr>\n",
       "    <tr>\n",
       "      <th>47</th>\n",
       "      <td>Sklivvz</td>\n",
       "      <td>1</td>\n",
       "    </tr>\n",
       "    <tr>\n",
       "      <th>48</th>\n",
       "      <td>Steven A. Lowe</td>\n",
       "      <td>1</td>\n",
       "    </tr>\n",
       "    <tr>\n",
       "      <th>49</th>\n",
       "      <td>TheSmurf</td>\n",
       "      <td>1</td>\n",
       "    </tr>\n",
       "    <tr>\n",
       "      <th>50</th>\n",
       "      <td>Vilx-</td>\n",
       "      <td>1</td>\n",
       "    </tr>\n",
       "    <tr>\n",
       "      <th>51</th>\n",
       "      <td>Vinko Vrsalovic</td>\n",
       "      <td>1</td>\n",
       "    </tr>\n",
       "    <tr>\n",
       "      <th>52</th>\n",
       "      <td>aku</td>\n",
       "      <td>1</td>\n",
       "    </tr>\n",
       "    <tr>\n",
       "      <th>53</th>\n",
       "      <td>anjanb</td>\n",
       "      <td>1</td>\n",
       "    </tr>\n",
       "    <tr>\n",
       "      <th>54</th>\n",
       "      <td>dkretz</td>\n",
       "      <td>1</td>\n",
       "    </tr>\n",
       "    <tr>\n",
       "      <th>55</th>\n",
       "      <td>frankodwyer</td>\n",
       "      <td>1</td>\n",
       "    </tr>\n",
       "    <tr>\n",
       "      <th>56</th>\n",
       "      <td>gbjbaanb</td>\n",
       "      <td>1</td>\n",
       "    </tr>\n",
       "    <tr>\n",
       "      <th>57</th>\n",
       "      <td>leppie</td>\n",
       "      <td>1</td>\n",
       "    </tr>\n",
       "    <tr>\n",
       "      <th>58</th>\n",
       "      <td>lomaxx</td>\n",
       "      <td>1</td>\n",
       "    </tr>\n",
       "    <tr>\n",
       "      <th>59</th>\n",
       "      <td>mattlant</td>\n",
       "      <td>1</td>\n",
       "    </tr>\n",
       "    <tr>\n",
       "      <th>60</th>\n",
       "      <td>paxdiablo</td>\n",
       "      <td>1</td>\n",
       "    </tr>\n",
       "    <tr>\n",
       "      <th>61</th>\n",
       "      <td>tzot</td>\n",
       "      <td>1</td>\n",
       "    </tr>\n",
       "  </tbody>\n",
       "</table>\n",
       "</div>"
      ],
      "text/plain": [
       "                 display_name  count\n",
       "0            1800 INFORMATION      1\n",
       "1               Adam Bellaire      1\n",
       "2                  Adam Davis      1\n",
       "3                   Adam Liss      1\n",
       "4                       Amy B      1\n",
       "5               Ben Hoffstein      1\n",
       "6                   Cade Roux      1\n",
       "7                      CesarB      1\n",
       "8   ConcernedOfTunbridgeWells      1\n",
       "9                  Dale Ragan      1\n",
       "10                        Dan      1\n",
       "11               Eric Z Beard      1\n",
       "12                       Espo      1\n",
       "13                    FlySwat      1\n",
       "14               Franci Penov      1\n",
       "15                    GEOCHET      1\n",
       "16                 GateKiller      1\n",
       "17                       Greg      1\n",
       "18               Gulzar Nazim      1\n",
       "19              Ilya Kochetov      1\n",
       "20               James Curran      1\n",
       "21                        Joe      1\n",
       "22              Joel Coehoorn      1\n",
       "23     Johannes Schaub - litb      1\n",
       "24              John Millikin      1\n",
       "25                 Jon Limjap      1\n",
       "26                  Jon Skeet      1\n",
       "27             Jorge Ferreira      1\n",
       "28                      Keith      1\n",
       "29                     Kibbee      1\n",
       "30             Konrad Rudolph      1\n",
       "31    Lasse Vågsæther Karlsen      1\n",
       "32               Marc Gravell      1\n",
       "33                Mark Cidade      1\n",
       "34              Mark Harrison      1\n",
       "35              Matt Hamilton      1\n",
       "36               Michael Burr      1\n",
       "37               Michael Stum      1\n",
       "38            Mitchel Sellers      1\n",
       "39              Norman Ramsey      1\n",
       "40                        Oli      1\n",
       "41              Orion Edwards      1\n",
       "42                Paul Nathan      1\n",
       "43                     PhiLho      1\n",
       "44                 Rob Cooper      1\n",
       "45                 Rob Walker      1\n",
       "46                     S.Lott      1\n",
       "47                    Sklivvz      1\n",
       "48             Steven A. Lowe      1\n",
       "49                   TheSmurf      1\n",
       "50                      Vilx-      1\n",
       "51            Vinko Vrsalovic      1\n",
       "52                        aku      1\n",
       "53                     anjanb      1\n",
       "54                     dkretz      1\n",
       "55                frankodwyer      1\n",
       "56                   gbjbaanb      1\n",
       "57                     leppie      1\n",
       "58                     lomaxx      1\n",
       "59                   mattlant      1\n",
       "60                  paxdiablo      1\n",
       "61                       tzot      1"
      ]
     },
     "execution_count": 10,
     "metadata": {},
     "output_type": "execute_result"
    }
   ],
   "source": [
    "pd.set_option('display.max_rows', None)\n",
    "df2.head(100)"
   ]
  },
  {
   "cell_type": "markdown",
   "metadata": {},
   "source": [
    "В столбце count все 1, значит или так совпало, что только 1 из всех именованных пользователей написал более 100 ответов в первый месяц, или система не позволяет разным user_id присвоить одинаковые имена.\n",
    "\n",
    "Имена могут включать цифры и знаки '-' и '.'\n",
    "\n",
    "Имена не обязательно из двух слов\n",
    "\n",
    "Имена не обязательно осмысленны\n",
    "\n",
    "Видимо при регистрации для имени  одно поле, и запись в SQL таблицу идет в ячейку с возмоностью записи любого типа данных "
   ]
  },
  {
   "cell_type": "markdown",
   "metadata": {},
   "source": [
    " <div class=\"alert alert-block alert-warning\">\n",
    "    \n",
    "\n",
    "### Комментарий от ревьюера v_1\n",
    "Рекомендация\n",
    "\n",
    "1. Ты в первом запросе уже группируешь по айдишнику клиента, а тут аномалии в том, что могут быть одинаковые имена у разных пользователей и это нужно было посчитать\n",
    "    \n",
    "Но это не совсем ясно сформулировано в условии, критичным комментарием не ставлю, сама логика запроса у тебя верная\n",
    "    \n",
    "2. При фильтрации дат следует приводить данные к дню\n",
    "</div>"
   ]
  },
  {
   "cell_type": "markdown",
   "metadata": {
    "id": "JhM2xXj5DWKu"
   },
   "source": [
    "## Задание 3"
   ]
  },
  {
   "cell_type": "markdown",
   "metadata": {
    "id": "IS6xPqyyDWKu"
   },
   "source": [
    "Выведите количество постов за 2008 год по месяцам. Отберите посты от пользователей, которые зарегистрировались в сентябре 2008 года и сделали хотя бы один пост в декабре того же года. Отсортируйте таблицу по значению месяца по убыванию."
   ]
  },
  {
   "cell_type": "markdown",
   "metadata": {
    "id": "WmjhjV2xDWKv"
   },
   "source": [
    "| month | count |\n",
    "| ------|------ |\n",
    "| 2008-12-01 | 17641 |\n",
    "| 2008-11-01 | 18294 |\n",
    "| ... | ... |"
   ]
  },
  {
   "cell_type": "code",
   "execution_count": 11,
   "metadata": {
    "id": "kVu0FB8WDWKv"
   },
   "outputs": [],
   "source": [
    "# напишите запрос\n",
    "query3 = '''\n",
    "SELECT DISTINCT DATE_TRUNC('MONTH', creation_date) AS dt,\n",
    "    COUNT(id) OVER (PARTITION BY DATE_TRUNC('MONTH', creation_date))\n",
    "FROM stackoverflow.posts\n",
    "WHERE creation_date\n",
    "\tBETWEEN '2008-01-01' AND '2009-01-01'\n",
    "\t\tAND user_id IN \n",
    "\t(SELECT user_id\n",
    "\tFROM stackoverflow.posts\n",
    "\tWHERE creation_date\n",
    "\t\tBETWEEN '2008-12-01' AND '2009-01-01')\n",
    "\t\tAND user_id IN \n",
    "\t(SELECT id\n",
    "\tFROM stackoverflow.users\n",
    "\tWHERE creation_date\n",
    "\t\tBETWEEN '2008-09-01' AND '2008-10-01')\n",
    "ORDER BY dt DESC\n",
    "\n",
    "'''\n",
    "df3 = pd.read_sql_query(query3, con=engine)\n",
    "\n",
    "# выполните запрос"
   ]
  },
  {
   "cell_type": "markdown",
   "metadata": {},
   "source": [
    "<div class=\"alert alert-block alert-success\">\n",
    "\n",
    "    \n",
    "### Комментарий от ревьюера v_1\n",
    "\n",
    "👍🏻\n",
    "    \n",
    "Но два подзапроса не нужны, можно в одном отфильтровать все))\n",
    "    \n",
    "</div>"
   ]
  },
  {
   "cell_type": "markdown",
   "metadata": {
    "id": "nWf0JsTMDWKx"
   },
   "source": [
    "<details>\n",
    "\n",
    "<summary>Подсказка</summary>\n",
    "Сначала найдите идентификаторы пользователей, которые зарегистрировались в сентябре 2008 года и оставили хотя бы один пост в декабре. Затем используйте результат для среза и посчитайте посты по месяцам.</details>"
   ]
  },
  {
   "cell_type": "markdown",
   "metadata": {
    "id": "Vnxn9DVHDWKx"
   },
   "source": [
    "Изучите данные: есть ли в них аномалии? Предположите, почему могли появиться аномальные значения."
   ]
  },
  {
   "cell_type": "code",
   "execution_count": 12,
   "metadata": {
    "id": "MMVIz4yMlKpN"
   },
   "outputs": [
    {
     "data": {
      "text/html": [
       "<div>\n",
       "<style scoped>\n",
       "    .dataframe tbody tr th:only-of-type {\n",
       "        vertical-align: middle;\n",
       "    }\n",
       "\n",
       "    .dataframe tbody tr th {\n",
       "        vertical-align: top;\n",
       "    }\n",
       "\n",
       "    .dataframe thead th {\n",
       "        text-align: right;\n",
       "    }\n",
       "</style>\n",
       "<table border=\"1\" class=\"dataframe\">\n",
       "  <thead>\n",
       "    <tr style=\"text-align: right;\">\n",
       "      <th></th>\n",
       "      <th>dt</th>\n",
       "      <th>count</th>\n",
       "    </tr>\n",
       "  </thead>\n",
       "  <tbody>\n",
       "    <tr>\n",
       "      <th>0</th>\n",
       "      <td>2008-12-01</td>\n",
       "      <td>17641</td>\n",
       "    </tr>\n",
       "    <tr>\n",
       "      <th>1</th>\n",
       "      <td>2008-11-01</td>\n",
       "      <td>18294</td>\n",
       "    </tr>\n",
       "    <tr>\n",
       "      <th>2</th>\n",
       "      <td>2008-10-01</td>\n",
       "      <td>27171</td>\n",
       "    </tr>\n",
       "    <tr>\n",
       "      <th>3</th>\n",
       "      <td>2008-09-01</td>\n",
       "      <td>24870</td>\n",
       "    </tr>\n",
       "    <tr>\n",
       "      <th>4</th>\n",
       "      <td>2008-08-01</td>\n",
       "      <td>32</td>\n",
       "    </tr>\n",
       "  </tbody>\n",
       "</table>\n",
       "</div>"
      ],
      "text/plain": [
       "          dt  count\n",
       "0 2008-12-01  17641\n",
       "1 2008-11-01  18294\n",
       "2 2008-10-01  27171\n",
       "3 2008-09-01  24870\n",
       "4 2008-08-01     32"
      ]
     },
     "execution_count": 12,
     "metadata": {},
     "output_type": "execute_result"
    }
   ],
   "source": [
    "df3.head(10)"
   ]
  },
  {
   "cell_type": "markdown",
   "metadata": {},
   "source": [
    "Основная аномалия  - это 32 поста в августе 2008 года, при том что фильтр регистрации с сентября 2008 года. Либо сбои с записьмю в базу даты поста, либо в августе были записи постов с ошибочными user_id"
   ]
  },
  {
   "cell_type": "markdown",
   "metadata": {},
   "source": [
    "<div class=\"alert alert-block alert-success\">\n",
    "\n",
    "    \n",
    "### Комментарий от ревьюера v_1\n",
    "\n",
    "Да, непорядок какой-то получается 😃\n",
    "    \n",
    "</div>"
   ]
  },
  {
   "cell_type": "markdown",
   "metadata": {
    "id": "5Pcizm0DDWKz"
   },
   "source": [
    "## Задание 4"
   ]
  },
  {
   "cell_type": "markdown",
   "metadata": {
    "id": "KUZPF6vHDWKz"
   },
   "source": [
    "Используя данные о постах, выведите несколько полей:\n",
    "\n",
    "- идентификатор пользователя, который написал пост;\n",
    "- дата создания поста;\n",
    "- количество просмотров у текущего поста;\n",
    "- сумму просмотров постов автора с накоплением.\n",
    "\n",
    "Данные в таблице должны быть отсортированы по возрастанию идентификаторов пользователей, а данные об одном и том же пользователе — по возрастанию даты создания поста."
   ]
  },
  {
   "cell_type": "markdown",
   "metadata": {
    "id": "ZpsTUVDYDWK0"
   },
   "source": [
    "| user_id | creation_date | views_count | cumulative_count |\n",
    "| ------ | -------------- | ----------- | ---------------- |\n",
    "| 1 | 2008-07-31 23:41:00  | 480476   | 480476  |\n",
    "| 1 | 2008-07-31 23:55:38  | 136033 | 616509  | \n",
    "| 1 | 2008-07-31 23:56:41  | 0 |  616509  |\n",
    "| ... | ... | ... | ... |\n",
    "| 2 | 2008-07-31 23:56:41 | 79087  | 79087 |\n",
    "| 2 | 2008-08-01 05:09:56 | 65443 | 144530 |\n",
    "| ... | ...  | ...  | ...  |"
   ]
  },
  {
   "cell_type": "code",
   "execution_count": 13,
   "metadata": {
    "id": "hDoJhMzfDWK0"
   },
   "outputs": [
    {
     "data": {
      "text/html": [
       "<div>\n",
       "<style scoped>\n",
       "    .dataframe tbody tr th:only-of-type {\n",
       "        vertical-align: middle;\n",
       "    }\n",
       "\n",
       "    .dataframe tbody tr th {\n",
       "        vertical-align: top;\n",
       "    }\n",
       "\n",
       "    .dataframe thead th {\n",
       "        text-align: right;\n",
       "    }\n",
       "</style>\n",
       "<table border=\"1\" class=\"dataframe\">\n",
       "  <thead>\n",
       "    <tr style=\"text-align: right;\">\n",
       "      <th></th>\n",
       "      <th>user_id</th>\n",
       "      <th>creation_date</th>\n",
       "      <th>views_count</th>\n",
       "      <th>sum_views</th>\n",
       "    </tr>\n",
       "  </thead>\n",
       "  <tbody>\n",
       "    <tr>\n",
       "      <th>0</th>\n",
       "      <td>1</td>\n",
       "      <td>2008-07-31 23:41:00</td>\n",
       "      <td>480476</td>\n",
       "      <td>480476</td>\n",
       "    </tr>\n",
       "    <tr>\n",
       "      <th>1</th>\n",
       "      <td>1</td>\n",
       "      <td>2008-07-31 23:55:38</td>\n",
       "      <td>136033</td>\n",
       "      <td>616509</td>\n",
       "    </tr>\n",
       "    <tr>\n",
       "      <th>2</th>\n",
       "      <td>1</td>\n",
       "      <td>2008-07-31 23:56:41</td>\n",
       "      <td>0</td>\n",
       "      <td>616509</td>\n",
       "    </tr>\n",
       "    <tr>\n",
       "      <th>3</th>\n",
       "      <td>1</td>\n",
       "      <td>2008-08-04 02:45:08</td>\n",
       "      <td>0</td>\n",
       "      <td>616509</td>\n",
       "    </tr>\n",
       "    <tr>\n",
       "      <th>4</th>\n",
       "      <td>1</td>\n",
       "      <td>2008-08-04 04:31:03</td>\n",
       "      <td>0</td>\n",
       "      <td>616509</td>\n",
       "    </tr>\n",
       "    <tr>\n",
       "      <th>5</th>\n",
       "      <td>1</td>\n",
       "      <td>2008-08-04 08:04:42</td>\n",
       "      <td>0</td>\n",
       "      <td>616509</td>\n",
       "    </tr>\n",
       "    <tr>\n",
       "      <th>6</th>\n",
       "      <td>1</td>\n",
       "      <td>2008-08-10 08:28:52</td>\n",
       "      <td>0</td>\n",
       "      <td>616509</td>\n",
       "    </tr>\n",
       "    <tr>\n",
       "      <th>7</th>\n",
       "      <td>1</td>\n",
       "      <td>2008-08-11 19:23:47</td>\n",
       "      <td>0</td>\n",
       "      <td>616509</td>\n",
       "    </tr>\n",
       "    <tr>\n",
       "      <th>8</th>\n",
       "      <td>1</td>\n",
       "      <td>2008-08-12 00:30:43</td>\n",
       "      <td>0</td>\n",
       "      <td>616509</td>\n",
       "    </tr>\n",
       "    <tr>\n",
       "      <th>9</th>\n",
       "      <td>1</td>\n",
       "      <td>2008-08-12 04:59:35</td>\n",
       "      <td>72431</td>\n",
       "      <td>688940</td>\n",
       "    </tr>\n",
       "  </tbody>\n",
       "</table>\n",
       "</div>"
      ],
      "text/plain": [
       "   user_id       creation_date  views_count  sum_views\n",
       "0        1 2008-07-31 23:41:00       480476     480476\n",
       "1        1 2008-07-31 23:55:38       136033     616509\n",
       "2        1 2008-07-31 23:56:41            0     616509\n",
       "3        1 2008-08-04 02:45:08            0     616509\n",
       "4        1 2008-08-04 04:31:03            0     616509\n",
       "5        1 2008-08-04 08:04:42            0     616509\n",
       "6        1 2008-08-10 08:28:52            0     616509\n",
       "7        1 2008-08-11 19:23:47            0     616509\n",
       "8        1 2008-08-12 00:30:43            0     616509\n",
       "9        1 2008-08-12 04:59:35        72431     688940"
      ]
     },
     "execution_count": 13,
     "metadata": {},
     "output_type": "execute_result"
    }
   ],
   "source": [
    "# напишите запрос\n",
    "query4 = '''\n",
    "SELECT user_id,\n",
    "\t\t creation_date,\n",
    "\t\t views_count,\n",
    "\t\t SUM(views_count) OVER(PARTITION BY user_id ORDER BY  creation_date) AS sum_views\n",
    "FROM stackoverflow.posts\n",
    "ORDER BY  user_id, creation_date\n",
    "'''\n",
    "\n",
    "df4 = pd.read_sql_query(query4, con=engine)\n",
    "df4.head(10)\n",
    "# выполните запрос"
   ]
  },
  {
   "cell_type": "markdown",
   "metadata": {},
   "source": [
    "<div class=\"alert alert-block alert-success\">\n",
    "\n",
    "    \n",
    "### Комментарий от ревьюера v_1\n",
    "\n",
    "Правильное использование оконки для накопительной суммы 👍🏻\n",
    "    \n",
    "\n",
    "</div>"
   ]
  },
  {
   "cell_type": "markdown",
   "metadata": {
    "id": "toidOivXDWK1"
   },
   "source": [
    "<details>\n",
    "\n",
    "<summary>Подсказка</summary>\n",
    "Для подсчёта суммы с накоплением используйте оконную функцию.\n",
    "</details>"
   ]
  },
  {
   "cell_type": "markdown",
   "metadata": {
    "id": "N0kHRHvIDWK2"
   },
   "source": [
    "## Задание 5"
   ]
  },
  {
   "cell_type": "markdown",
   "metadata": {
    "id": "gBgvmPtODWK2"
   },
   "source": [
    "Найдите среднее количество постов пользователей в день за август 2008 года. Отберите данные о пользователях, которые опубликовали больше 120 постов за август. Дни без публикаций не учитывайте. \n",
    "\n",
    "Отсортируйте результат по возрастанию среднего количества постов. Значения можно не округлять."
   ]
  },
  {
   "cell_type": "markdown",
   "metadata": {
    "id": "nfzR08BODWK3"
   },
   "source": [
    "| user_id | avg_daily |\n",
    "| ------- | --------- |\n",
    "| 116     | 4.777778  |\n",
    "| 234     | 5.208333  |\n",
    "| ...     | ... |"
   ]
  },
  {
   "cell_type": "code",
   "execution_count": 14,
   "metadata": {
    "id": "YFyPNz5GDWK3"
   },
   "outputs": [
    {
     "data": {
      "text/html": [
       "<div>\n",
       "<style scoped>\n",
       "    .dataframe tbody tr th:only-of-type {\n",
       "        vertical-align: middle;\n",
       "    }\n",
       "\n",
       "    .dataframe tbody tr th {\n",
       "        vertical-align: top;\n",
       "    }\n",
       "\n",
       "    .dataframe thead th {\n",
       "        text-align: right;\n",
       "    }\n",
       "</style>\n",
       "<table border=\"1\" class=\"dataframe\">\n",
       "  <thead>\n",
       "    <tr style=\"text-align: right;\">\n",
       "      <th></th>\n",
       "      <th>user_id</th>\n",
       "      <th>avgs</th>\n",
       "    </tr>\n",
       "  </thead>\n",
       "  <tbody>\n",
       "    <tr>\n",
       "      <th>0</th>\n",
       "      <td>116</td>\n",
       "      <td>4.777778</td>\n",
       "    </tr>\n",
       "    <tr>\n",
       "      <th>1</th>\n",
       "      <td>234</td>\n",
       "      <td>5.208333</td>\n",
       "    </tr>\n",
       "    <tr>\n",
       "      <th>2</th>\n",
       "      <td>91</td>\n",
       "      <td>5.681818</td>\n",
       "    </tr>\n",
       "    <tr>\n",
       "      <th>3</th>\n",
       "      <td>905</td>\n",
       "      <td>7.000000</td>\n",
       "    </tr>\n",
       "    <tr>\n",
       "      <th>4</th>\n",
       "      <td>383</td>\n",
       "      <td>7.277778</td>\n",
       "    </tr>\n",
       "  </tbody>\n",
       "</table>\n",
       "</div>"
      ],
      "text/plain": [
       "   user_id      avgs\n",
       "0      116  4.777778\n",
       "1      234  5.208333\n",
       "2       91  5.681818\n",
       "3      905  7.000000\n",
       "4      383  7.277778"
      ]
     },
     "execution_count": 14,
     "metadata": {},
     "output_type": "execute_result"
    }
   ],
   "source": [
    "# напишите запрос\n",
    "query5 = '''\n",
    "SELECT user_id,\n",
    "\t\t CAST(COUNT(user_id) AS FLOAT)/COUNT(DISTINCT DATE_TRUNC('DAY',creation_date)) AS avgs\n",
    "FROM stackoverflow.posts\n",
    "WHERE creation_date\n",
    "\tBETWEEN '2008-08-01'\n",
    "\t\tAND '2008-09-01'\n",
    "GROUP BY  user_id\n",
    "HAVING COUNT(user_id) >120\n",
    "ORDER BY  avgs\n",
    "\n",
    "'''\n",
    "df5 = pd.read_sql_query(query5, con=engine)\n",
    "df5.head(10)\n",
    "# выполните запрос"
   ]
  },
  {
   "cell_type": "markdown",
   "metadata": {},
   "source": [
    "<div class=\"alert alert-block alert-success\">\n",
    "\n",
    "    \n",
    "### Комментарий от ревьюера v_1\n",
    "\n",
    "👍🏻\n",
    "    \n",
    "\n",
    "</div>"
   ]
  },
  {
   "cell_type": "markdown",
   "metadata": {
    "id": "5Gs8kiJvDWK4"
   },
   "source": [
    "<details>\n",
    "\n",
    "<summary>Подсказка</summary>\n",
    "Сначала найдите идентификаторы пользователей, которые написали более 120 постов за август. Используя этот запрос в качестве подзапроса для среза, найдите и сохраните во временную таблицу идентификаторы нужных пользователей, дни августа и количество постов в день. В основном запросе сгруппируйте данные по пользователям и найдите для каждого из них среднее количество постов.\n",
    "</details>"
   ]
  },
  {
   "cell_type": "markdown",
   "metadata": {
    "id": "EQ0dcFH4DWK5"
   },
   "source": [
    "## Задание 6"
   ]
  },
  {
   "cell_type": "markdown",
   "metadata": {
    "id": "c7flfg_hDWK5"
   },
   "source": [
    "Сколько в среднем дней в период с 1 по 7 декабря 2008 года пользователи взаимодействовали с платформой? Для каждого пользователя отберите дни, в которые он или она опубликовали хотя бы один пост. Нужно получить одно целое число — не забудьте округлить результат. "
   ]
  },
  {
   "cell_type": "markdown",
   "metadata": {
    "id": "RC1Ibzm9DWK6"
   },
   "source": [
    "| result |\n",
    "| -----  |\n",
    "| <целое число> |"
   ]
  },
  {
   "cell_type": "code",
   "execution_count": 15,
   "metadata": {
    "id": "kZ7LXTr6DWK6"
   },
   "outputs": [
    {
     "data": {
      "text/html": [
       "<div>\n",
       "<style scoped>\n",
       "    .dataframe tbody tr th:only-of-type {\n",
       "        vertical-align: middle;\n",
       "    }\n",
       "\n",
       "    .dataframe tbody tr th {\n",
       "        vertical-align: top;\n",
       "    }\n",
       "\n",
       "    .dataframe thead th {\n",
       "        text-align: right;\n",
       "    }\n",
       "</style>\n",
       "<table border=\"1\" class=\"dataframe\">\n",
       "  <thead>\n",
       "    <tr style=\"text-align: right;\">\n",
       "      <th></th>\n",
       "      <th>avg</th>\n",
       "    </tr>\n",
       "  </thead>\n",
       "  <tbody>\n",
       "    <tr>\n",
       "      <th>0</th>\n",
       "      <td>2</td>\n",
       "    </tr>\n",
       "  </tbody>\n",
       "</table>\n",
       "</div>"
      ],
      "text/plain": [
       "   avg\n",
       "0    2"
      ]
     },
     "execution_count": 15,
     "metadata": {},
     "output_type": "execute_result"
    }
   ],
   "source": [
    "# напишите запрос\n",
    "query6 = '''\n",
    "WITH tem AS \n",
    "\t(SELECT user_id,\n",
    "\t\t COUNT(DISTINCT DATE_TRUNC('DAY',creation_date)) AS coun\n",
    "\tFROM stackoverflow.posts\n",
    "\tWHERE creation_date\n",
    "\t\tBETWEEN '2008-12-01'\n",
    "\t\t\tAND '2008-12-08'\n",
    "\tGROUP BY  user_id)\n",
    "SELECT CAST(SUM(coun)/COUNT(user_id) as INT) AS avg\n",
    "FROM tem\n",
    "'''\n",
    "df6 = pd.read_sql_query(query6, con=engine)\n",
    "df6.head()\n",
    "# выполните запрос"
   ]
  },
  {
   "cell_type": "markdown",
   "metadata": {},
   "source": [
    "<div class=\"alert alert-block alert-success\">\n",
    "\n",
    "    \n",
    "### Комментарий от ревьюера v_1\n",
    "\n",
    "👍🏻\n",
    "    \n",
    "\n",
    "</div>"
   ]
  },
  {
   "cell_type": "markdown",
   "metadata": {
    "id": "2K5G3xuBDWK7"
   },
   "source": [
    "<details>\n",
    "\n",
    "<summary>Подсказка</summary>\n",
    "Посчитайте, сколько активных дней было у каждого пользователя. Добавьте данные во временную таблицу и используйте в основном запросе.\n",
    "</details>"
   ]
  },
  {
   "cell_type": "markdown",
   "metadata": {
    "id": "UJFtNNggDWK7"
   },
   "source": [
    "Проанализируйте итоговую таблицу — какие выводы можно сделать?"
   ]
  },
  {
   "cell_type": "markdown",
   "metadata": {
    "id": "LfUuYz-1DWK8"
   },
   "source": [
    "За неделю - 7 дней, пользователи в среднем всего 2 раза оставляли посты, что возможно не очень хороший показатель, нужно стремится к большей активности пользователей"
   ]
  },
  {
   "cell_type": "markdown",
   "metadata": {
    "id": "wfOmqmfLDWK8"
   },
   "source": [
    "## Задание 7"
   ]
  },
  {
   "cell_type": "markdown",
   "metadata": {
    "id": "X4ARQimADWK9"
   },
   "source": [
    "Выведите историю активности каждого пользователя в таком виде: идентификатор пользователя, дата публикации поста. Отсортируйте вывод по возрастанию идентификаторов пользователей, а для каждого пользователя — по возрастанию даты публикации.\n",
    "\n",
    "Добавьте в таблицу новое поле: для каждого поста в нём будет указано название месяца предпоследней публикации пользователя относительно текущей. Если такой публикации нет, укажите `NULL`.  Python автоматически поменяет `NULL` на `None`, но дополнительно преобразовывать значения `None` вам не нужно.\n",
    "\n",
    "Посмотрите внимательно на образец таблицы: для первых двух постов предпоследней публикации нет, но, начиная с третьего поста, в новое поле входит нужный месяц. Для следующего пользователя в первые две записи поля `second_last_month` тоже войдёт `NULL`."
   ]
  },
  {
   "cell_type": "markdown",
   "metadata": {
    "id": "IGPjRP01DWK9"
   },
   "source": [
    "| user_id | creation_date | second_last_month |\n",
    "| ------- | ------------- | ----------------- |\n",
    "| 1       | 2008-07-31 23:41:00 | None |\n",
    "| 1       | 2008-07-31 23:55:38 | None |\n",
    "| 1       | 2008-07-31 23:56:41 | July |\n",
    "| 1       | 2008-08-04 02:45:08 | July |\n",
    "| 1       | 2008-08-04 04:31:03 | July |\n",
    "| 1       | 2008-08-04 08:04:42 | August |\n",
    "| ... | ... | ... |"
   ]
  },
  {
   "cell_type": "code",
   "execution_count": 16,
   "metadata": {
    "id": "HzI1vhaMDWK-"
   },
   "outputs": [
    {
     "data": {
      "text/html": [
       "<div>\n",
       "<style scoped>\n",
       "    .dataframe tbody tr th:only-of-type {\n",
       "        vertical-align: middle;\n",
       "    }\n",
       "\n",
       "    .dataframe tbody tr th {\n",
       "        vertical-align: top;\n",
       "    }\n",
       "\n",
       "    .dataframe thead th {\n",
       "        text-align: right;\n",
       "    }\n",
       "</style>\n",
       "<table border=\"1\" class=\"dataframe\">\n",
       "  <thead>\n",
       "    <tr style=\"text-align: right;\">\n",
       "      <th></th>\n",
       "      <th>user_id</th>\n",
       "      <th>creation_date</th>\n",
       "      <th>second_last_month</th>\n",
       "    </tr>\n",
       "  </thead>\n",
       "  <tbody>\n",
       "    <tr>\n",
       "      <th>0</th>\n",
       "      <td>1</td>\n",
       "      <td>2008-07-31 23:41:00</td>\n",
       "      <td>None</td>\n",
       "    </tr>\n",
       "    <tr>\n",
       "      <th>1</th>\n",
       "      <td>1</td>\n",
       "      <td>2008-07-31 23:55:38</td>\n",
       "      <td>None</td>\n",
       "    </tr>\n",
       "    <tr>\n",
       "      <th>2</th>\n",
       "      <td>1</td>\n",
       "      <td>2008-07-31 23:56:41</td>\n",
       "      <td>July</td>\n",
       "    </tr>\n",
       "    <tr>\n",
       "      <th>3</th>\n",
       "      <td>1</td>\n",
       "      <td>2008-08-04 02:45:08</td>\n",
       "      <td>July</td>\n",
       "    </tr>\n",
       "    <tr>\n",
       "      <th>4</th>\n",
       "      <td>1</td>\n",
       "      <td>2008-08-04 04:31:03</td>\n",
       "      <td>July</td>\n",
       "    </tr>\n",
       "    <tr>\n",
       "      <th>5</th>\n",
       "      <td>1</td>\n",
       "      <td>2008-08-04 08:04:42</td>\n",
       "      <td>August</td>\n",
       "    </tr>\n",
       "    <tr>\n",
       "      <th>6</th>\n",
       "      <td>1</td>\n",
       "      <td>2008-08-10 08:28:52</td>\n",
       "      <td>August</td>\n",
       "    </tr>\n",
       "    <tr>\n",
       "      <th>7</th>\n",
       "      <td>1</td>\n",
       "      <td>2008-08-11 19:23:47</td>\n",
       "      <td>August</td>\n",
       "    </tr>\n",
       "    <tr>\n",
       "      <th>8</th>\n",
       "      <td>1</td>\n",
       "      <td>2008-08-12 00:30:43</td>\n",
       "      <td>August</td>\n",
       "    </tr>\n",
       "    <tr>\n",
       "      <th>9</th>\n",
       "      <td>1</td>\n",
       "      <td>2008-08-12 04:59:35</td>\n",
       "      <td>August</td>\n",
       "    </tr>\n",
       "    <tr>\n",
       "      <th>10</th>\n",
       "      <td>1</td>\n",
       "      <td>2008-08-12 05:02:49</td>\n",
       "      <td>August</td>\n",
       "    </tr>\n",
       "    <tr>\n",
       "      <th>11</th>\n",
       "      <td>1</td>\n",
       "      <td>2008-08-12 23:13:41</td>\n",
       "      <td>August</td>\n",
       "    </tr>\n",
       "    <tr>\n",
       "      <th>12</th>\n",
       "      <td>1</td>\n",
       "      <td>2008-08-12 23:27:54</td>\n",
       "      <td>August</td>\n",
       "    </tr>\n",
       "    <tr>\n",
       "      <th>13</th>\n",
       "      <td>1</td>\n",
       "      <td>2008-08-13 03:30:59</td>\n",
       "      <td>August</td>\n",
       "    </tr>\n",
       "    <tr>\n",
       "      <th>14</th>\n",
       "      <td>1</td>\n",
       "      <td>2008-08-13 12:03:06</td>\n",
       "      <td>August</td>\n",
       "    </tr>\n",
       "    <tr>\n",
       "      <th>15</th>\n",
       "      <td>1</td>\n",
       "      <td>2008-08-14 03:10:23</td>\n",
       "      <td>August</td>\n",
       "    </tr>\n",
       "    <tr>\n",
       "      <th>16</th>\n",
       "      <td>1</td>\n",
       "      <td>2008-08-14 03:13:57</td>\n",
       "      <td>August</td>\n",
       "    </tr>\n",
       "    <tr>\n",
       "      <th>17</th>\n",
       "      <td>1</td>\n",
       "      <td>2008-08-14 03:17:18</td>\n",
       "      <td>August</td>\n",
       "    </tr>\n",
       "    <tr>\n",
       "      <th>18</th>\n",
       "      <td>1</td>\n",
       "      <td>2008-08-14 13:48:03</td>\n",
       "      <td>August</td>\n",
       "    </tr>\n",
       "    <tr>\n",
       "      <th>19</th>\n",
       "      <td>1</td>\n",
       "      <td>2008-08-17 02:58:18</td>\n",
       "      <td>August</td>\n",
       "    </tr>\n",
       "    <tr>\n",
       "      <th>20</th>\n",
       "      <td>1</td>\n",
       "      <td>2008-08-17 03:00:34</td>\n",
       "      <td>August</td>\n",
       "    </tr>\n",
       "    <tr>\n",
       "      <th>21</th>\n",
       "      <td>1</td>\n",
       "      <td>2008-08-19 16:51:17</td>\n",
       "      <td>August</td>\n",
       "    </tr>\n",
       "    <tr>\n",
       "      <th>22</th>\n",
       "      <td>1</td>\n",
       "      <td>2008-08-21 14:18:42</td>\n",
       "      <td>August</td>\n",
       "    </tr>\n",
       "    <tr>\n",
       "      <th>23</th>\n",
       "      <td>1</td>\n",
       "      <td>2008-08-24 23:40:09</td>\n",
       "      <td>August</td>\n",
       "    </tr>\n",
       "    <tr>\n",
       "      <th>24</th>\n",
       "      <td>1</td>\n",
       "      <td>2008-08-25 00:11:44</td>\n",
       "      <td>August</td>\n",
       "    </tr>\n",
       "    <tr>\n",
       "      <th>25</th>\n",
       "      <td>1</td>\n",
       "      <td>2008-08-25 13:43:42</td>\n",
       "      <td>August</td>\n",
       "    </tr>\n",
       "    <tr>\n",
       "      <th>26</th>\n",
       "      <td>1</td>\n",
       "      <td>2008-08-27 13:08:30</td>\n",
       "      <td>August</td>\n",
       "    </tr>\n",
       "    <tr>\n",
       "      <th>27</th>\n",
       "      <td>1</td>\n",
       "      <td>2008-08-28 11:23:59</td>\n",
       "      <td>August</td>\n",
       "    </tr>\n",
       "    <tr>\n",
       "      <th>28</th>\n",
       "      <td>1</td>\n",
       "      <td>2008-08-28 13:26:28</td>\n",
       "      <td>August</td>\n",
       "    </tr>\n",
       "    <tr>\n",
       "      <th>29</th>\n",
       "      <td>1</td>\n",
       "      <td>2008-09-01 12:03:31</td>\n",
       "      <td>August</td>\n",
       "    </tr>\n",
       "    <tr>\n",
       "      <th>30</th>\n",
       "      <td>1</td>\n",
       "      <td>2008-09-07 19:17:04</td>\n",
       "      <td>August</td>\n",
       "    </tr>\n",
       "    <tr>\n",
       "      <th>31</th>\n",
       "      <td>1</td>\n",
       "      <td>2008-09-08 20:04:18</td>\n",
       "      <td>September</td>\n",
       "    </tr>\n",
       "    <tr>\n",
       "      <th>32</th>\n",
       "      <td>1</td>\n",
       "      <td>2008-09-10 16:08:15</td>\n",
       "      <td>September</td>\n",
       "    </tr>\n",
       "    <tr>\n",
       "      <th>33</th>\n",
       "      <td>1</td>\n",
       "      <td>2008-09-15 11:03:36</td>\n",
       "      <td>September</td>\n",
       "    </tr>\n",
       "    <tr>\n",
       "      <th>34</th>\n",
       "      <td>1</td>\n",
       "      <td>2008-09-19 08:46:43</td>\n",
       "      <td>September</td>\n",
       "    </tr>\n",
       "    <tr>\n",
       "      <th>35</th>\n",
       "      <td>1</td>\n",
       "      <td>2008-09-20 16:22:52</td>\n",
       "      <td>September</td>\n",
       "    </tr>\n",
       "    <tr>\n",
       "      <th>36</th>\n",
       "      <td>1</td>\n",
       "      <td>2008-09-25 18:42:55</td>\n",
       "      <td>September</td>\n",
       "    </tr>\n",
       "    <tr>\n",
       "      <th>37</th>\n",
       "      <td>1</td>\n",
       "      <td>2008-09-25 21:58:05</td>\n",
       "      <td>September</td>\n",
       "    </tr>\n",
       "    <tr>\n",
       "      <th>38</th>\n",
       "      <td>1</td>\n",
       "      <td>2008-10-01 01:19:17</td>\n",
       "      <td>September</td>\n",
       "    </tr>\n",
       "    <tr>\n",
       "      <th>39</th>\n",
       "      <td>1</td>\n",
       "      <td>2008-10-03 06:37:26</td>\n",
       "      <td>September</td>\n",
       "    </tr>\n",
       "    <tr>\n",
       "      <th>40</th>\n",
       "      <td>1</td>\n",
       "      <td>2008-10-04 10:06:38</td>\n",
       "      <td>October</td>\n",
       "    </tr>\n",
       "    <tr>\n",
       "      <th>41</th>\n",
       "      <td>1</td>\n",
       "      <td>2008-10-07 08:01:40</td>\n",
       "      <td>October</td>\n",
       "    </tr>\n",
       "    <tr>\n",
       "      <th>42</th>\n",
       "      <td>1</td>\n",
       "      <td>2008-10-07 08:48:00</td>\n",
       "      <td>October</td>\n",
       "    </tr>\n",
       "    <tr>\n",
       "      <th>43</th>\n",
       "      <td>1</td>\n",
       "      <td>2008-10-09 22:49:01</td>\n",
       "      <td>October</td>\n",
       "    </tr>\n",
       "    <tr>\n",
       "      <th>44</th>\n",
       "      <td>1</td>\n",
       "      <td>2008-10-10 12:59:40</td>\n",
       "      <td>October</td>\n",
       "    </tr>\n",
       "    <tr>\n",
       "      <th>45</th>\n",
       "      <td>1</td>\n",
       "      <td>2008-10-12 08:38:43</td>\n",
       "      <td>October</td>\n",
       "    </tr>\n",
       "    <tr>\n",
       "      <th>46</th>\n",
       "      <td>1</td>\n",
       "      <td>2008-10-13 09:34:26</td>\n",
       "      <td>October</td>\n",
       "    </tr>\n",
       "    <tr>\n",
       "      <th>47</th>\n",
       "      <td>1</td>\n",
       "      <td>2008-10-15 18:56:40</td>\n",
       "      <td>October</td>\n",
       "    </tr>\n",
       "    <tr>\n",
       "      <th>48</th>\n",
       "      <td>1</td>\n",
       "      <td>2008-10-15 22:20:54</td>\n",
       "      <td>October</td>\n",
       "    </tr>\n",
       "    <tr>\n",
       "      <th>49</th>\n",
       "      <td>1</td>\n",
       "      <td>2008-10-16 03:00:52</td>\n",
       "      <td>October</td>\n",
       "    </tr>\n",
       "    <tr>\n",
       "      <th>50</th>\n",
       "      <td>1</td>\n",
       "      <td>2008-10-24 06:10:58</td>\n",
       "      <td>October</td>\n",
       "    </tr>\n",
       "    <tr>\n",
       "      <th>51</th>\n",
       "      <td>1</td>\n",
       "      <td>2008-10-24 08:39:47</td>\n",
       "      <td>October</td>\n",
       "    </tr>\n",
       "    <tr>\n",
       "      <th>52</th>\n",
       "      <td>1</td>\n",
       "      <td>2008-10-24 15:45:16</td>\n",
       "      <td>October</td>\n",
       "    </tr>\n",
       "    <tr>\n",
       "      <th>53</th>\n",
       "      <td>1</td>\n",
       "      <td>2008-10-30 16:49:27</td>\n",
       "      <td>October</td>\n",
       "    </tr>\n",
       "    <tr>\n",
       "      <th>54</th>\n",
       "      <td>1</td>\n",
       "      <td>2008-11-01 17:56:16</td>\n",
       "      <td>October</td>\n",
       "    </tr>\n",
       "    <tr>\n",
       "      <th>55</th>\n",
       "      <td>1</td>\n",
       "      <td>2008-11-06 01:17:47</td>\n",
       "      <td>October</td>\n",
       "    </tr>\n",
       "    <tr>\n",
       "      <th>56</th>\n",
       "      <td>1</td>\n",
       "      <td>2008-11-12 14:02:14</td>\n",
       "      <td>November</td>\n",
       "    </tr>\n",
       "    <tr>\n",
       "      <th>57</th>\n",
       "      <td>1</td>\n",
       "      <td>2008-11-13 14:59:51</td>\n",
       "      <td>November</td>\n",
       "    </tr>\n",
       "    <tr>\n",
       "      <th>58</th>\n",
       "      <td>1</td>\n",
       "      <td>2008-11-17 12:58:22</td>\n",
       "      <td>November</td>\n",
       "    </tr>\n",
       "    <tr>\n",
       "      <th>59</th>\n",
       "      <td>1</td>\n",
       "      <td>2008-11-26 04:15:42</td>\n",
       "      <td>November</td>\n",
       "    </tr>\n",
       "    <tr>\n",
       "      <th>60</th>\n",
       "      <td>1</td>\n",
       "      <td>2008-12-01 04:56:38</td>\n",
       "      <td>November</td>\n",
       "    </tr>\n",
       "    <tr>\n",
       "      <th>61</th>\n",
       "      <td>1</td>\n",
       "      <td>2008-12-01 18:04:52</td>\n",
       "      <td>November</td>\n",
       "    </tr>\n",
       "    <tr>\n",
       "      <th>62</th>\n",
       "      <td>1</td>\n",
       "      <td>2008-12-03 09:31:04</td>\n",
       "      <td>December</td>\n",
       "    </tr>\n",
       "    <tr>\n",
       "      <th>63</th>\n",
       "      <td>1</td>\n",
       "      <td>2008-12-03 16:16:43</td>\n",
       "      <td>December</td>\n",
       "    </tr>\n",
       "    <tr>\n",
       "      <th>64</th>\n",
       "      <td>1</td>\n",
       "      <td>2008-12-05 00:34:40</td>\n",
       "      <td>December</td>\n",
       "    </tr>\n",
       "    <tr>\n",
       "      <th>65</th>\n",
       "      <td>1</td>\n",
       "      <td>2008-12-11 16:57:58</td>\n",
       "      <td>December</td>\n",
       "    </tr>\n",
       "    <tr>\n",
       "      <th>66</th>\n",
       "      <td>1</td>\n",
       "      <td>2008-12-13 00:24:17</td>\n",
       "      <td>December</td>\n",
       "    </tr>\n",
       "    <tr>\n",
       "      <th>67</th>\n",
       "      <td>1</td>\n",
       "      <td>2008-12-23 11:00:13</td>\n",
       "      <td>December</td>\n",
       "    </tr>\n",
       "    <tr>\n",
       "      <th>68</th>\n",
       "      <td>1</td>\n",
       "      <td>2008-12-24 13:07:56</td>\n",
       "      <td>December</td>\n",
       "    </tr>\n",
       "    <tr>\n",
       "      <th>69</th>\n",
       "      <td>1</td>\n",
       "      <td>2008-12-30 08:23:07</td>\n",
       "      <td>December</td>\n",
       "    </tr>\n",
       "    <tr>\n",
       "      <th>70</th>\n",
       "      <td>2</td>\n",
       "      <td>2008-08-01 04:59:34</td>\n",
       "      <td>None</td>\n",
       "    </tr>\n",
       "    <tr>\n",
       "      <th>71</th>\n",
       "      <td>2</td>\n",
       "      <td>2008-08-01 05:09:56</td>\n",
       "      <td>None</td>\n",
       "    </tr>\n",
       "    <tr>\n",
       "      <th>72</th>\n",
       "      <td>2</td>\n",
       "      <td>2008-08-04 05:51:57</td>\n",
       "      <td>August</td>\n",
       "    </tr>\n",
       "    <tr>\n",
       "      <th>73</th>\n",
       "      <td>2</td>\n",
       "      <td>2008-08-21 20:53:51</td>\n",
       "      <td>August</td>\n",
       "    </tr>\n",
       "    <tr>\n",
       "      <th>74</th>\n",
       "      <td>2</td>\n",
       "      <td>2008-10-13 23:46:09</td>\n",
       "      <td>August</td>\n",
       "    </tr>\n",
       "    <tr>\n",
       "      <th>75</th>\n",
       "      <td>2</td>\n",
       "      <td>2008-12-15 03:59:56</td>\n",
       "      <td>August</td>\n",
       "    </tr>\n",
       "    <tr>\n",
       "      <th>76</th>\n",
       "      <td>3</td>\n",
       "      <td>2008-08-04 06:39:40</td>\n",
       "      <td>None</td>\n",
       "    </tr>\n",
       "    <tr>\n",
       "      <th>77</th>\n",
       "      <td>3</td>\n",
       "      <td>2008-08-04 22:42:55</td>\n",
       "      <td>None</td>\n",
       "    </tr>\n",
       "    <tr>\n",
       "      <th>78</th>\n",
       "      <td>3</td>\n",
       "      <td>2008-08-17 18:42:03</td>\n",
       "      <td>August</td>\n",
       "    </tr>\n",
       "    <tr>\n",
       "      <th>79</th>\n",
       "      <td>3</td>\n",
       "      <td>2008-08-27 13:36:08</td>\n",
       "      <td>August</td>\n",
       "    </tr>\n",
       "    <tr>\n",
       "      <th>80</th>\n",
       "      <td>3</td>\n",
       "      <td>2008-08-29 04:50:50</td>\n",
       "      <td>August</td>\n",
       "    </tr>\n",
       "    <tr>\n",
       "      <th>81</th>\n",
       "      <td>3</td>\n",
       "      <td>2008-08-29 19:38:32</td>\n",
       "      <td>August</td>\n",
       "    </tr>\n",
       "    <tr>\n",
       "      <th>82</th>\n",
       "      <td>3</td>\n",
       "      <td>2008-09-14 08:37:14</td>\n",
       "      <td>August</td>\n",
       "    </tr>\n",
       "    <tr>\n",
       "      <th>83</th>\n",
       "      <td>3</td>\n",
       "      <td>2008-10-05 23:33:44</td>\n",
       "      <td>August</td>\n",
       "    </tr>\n",
       "    <tr>\n",
       "      <th>84</th>\n",
       "      <td>3</td>\n",
       "      <td>2008-11-13 02:56:02</td>\n",
       "      <td>September</td>\n",
       "    </tr>\n",
       "    <tr>\n",
       "      <th>85</th>\n",
       "      <td>3</td>\n",
       "      <td>2008-11-14 03:30:04</td>\n",
       "      <td>October</td>\n",
       "    </tr>\n",
       "    <tr>\n",
       "      <th>86</th>\n",
       "      <td>3</td>\n",
       "      <td>2008-11-16 01:21:29</td>\n",
       "      <td>November</td>\n",
       "    </tr>\n",
       "    <tr>\n",
       "      <th>87</th>\n",
       "      <td>4</td>\n",
       "      <td>2008-08-15 20:06:53</td>\n",
       "      <td>None</td>\n",
       "    </tr>\n",
       "    <tr>\n",
       "      <th>88</th>\n",
       "      <td>4</td>\n",
       "      <td>2008-08-20 03:58:09</td>\n",
       "      <td>None</td>\n",
       "    </tr>\n",
       "    <tr>\n",
       "      <th>89</th>\n",
       "      <td>4</td>\n",
       "      <td>2008-08-20 21:47:57</td>\n",
       "      <td>August</td>\n",
       "    </tr>\n",
       "    <tr>\n",
       "      <th>90</th>\n",
       "      <td>4</td>\n",
       "      <td>2008-08-20 21:54:53</td>\n",
       "      <td>August</td>\n",
       "    </tr>\n",
       "    <tr>\n",
       "      <th>91</th>\n",
       "      <td>4</td>\n",
       "      <td>2008-08-21 13:40:14</td>\n",
       "      <td>August</td>\n",
       "    </tr>\n",
       "    <tr>\n",
       "      <th>92</th>\n",
       "      <td>4</td>\n",
       "      <td>2008-08-22 14:21:43</td>\n",
       "      <td>August</td>\n",
       "    </tr>\n",
       "    <tr>\n",
       "      <th>93</th>\n",
       "      <td>4</td>\n",
       "      <td>2008-08-24 03:22:54</td>\n",
       "      <td>August</td>\n",
       "    </tr>\n",
       "    <tr>\n",
       "      <th>94</th>\n",
       "      <td>4</td>\n",
       "      <td>2008-08-26 04:54:02</td>\n",
       "      <td>August</td>\n",
       "    </tr>\n",
       "    <tr>\n",
       "      <th>95</th>\n",
       "      <td>4</td>\n",
       "      <td>2008-09-14 19:51:49</td>\n",
       "      <td>August</td>\n",
       "    </tr>\n",
       "    <tr>\n",
       "      <th>96</th>\n",
       "      <td>4</td>\n",
       "      <td>2008-09-16 08:59:23</td>\n",
       "      <td>August</td>\n",
       "    </tr>\n",
       "    <tr>\n",
       "      <th>97</th>\n",
       "      <td>4</td>\n",
       "      <td>2008-09-17 00:04:02</td>\n",
       "      <td>September</td>\n",
       "    </tr>\n",
       "    <tr>\n",
       "      <th>98</th>\n",
       "      <td>4</td>\n",
       "      <td>2008-09-17 01:14:02</td>\n",
       "      <td>September</td>\n",
       "    </tr>\n",
       "    <tr>\n",
       "      <th>99</th>\n",
       "      <td>4</td>\n",
       "      <td>2008-09-20 03:28:34</td>\n",
       "      <td>September</td>\n",
       "    </tr>\n",
       "  </tbody>\n",
       "</table>\n",
       "</div>"
      ],
      "text/plain": [
       "    user_id       creation_date second_last_month\n",
       "0         1 2008-07-31 23:41:00              None\n",
       "1         1 2008-07-31 23:55:38              None\n",
       "2         1 2008-07-31 23:56:41              July\n",
       "3         1 2008-08-04 02:45:08              July\n",
       "4         1 2008-08-04 04:31:03              July\n",
       "5         1 2008-08-04 08:04:42            August\n",
       "6         1 2008-08-10 08:28:52            August\n",
       "7         1 2008-08-11 19:23:47            August\n",
       "8         1 2008-08-12 00:30:43            August\n",
       "9         1 2008-08-12 04:59:35            August\n",
       "10        1 2008-08-12 05:02:49            August\n",
       "11        1 2008-08-12 23:13:41            August\n",
       "12        1 2008-08-12 23:27:54            August\n",
       "13        1 2008-08-13 03:30:59            August\n",
       "14        1 2008-08-13 12:03:06            August\n",
       "15        1 2008-08-14 03:10:23            August\n",
       "16        1 2008-08-14 03:13:57            August\n",
       "17        1 2008-08-14 03:17:18            August\n",
       "18        1 2008-08-14 13:48:03            August\n",
       "19        1 2008-08-17 02:58:18            August\n",
       "20        1 2008-08-17 03:00:34            August\n",
       "21        1 2008-08-19 16:51:17            August\n",
       "22        1 2008-08-21 14:18:42            August\n",
       "23        1 2008-08-24 23:40:09            August\n",
       "24        1 2008-08-25 00:11:44            August\n",
       "25        1 2008-08-25 13:43:42            August\n",
       "26        1 2008-08-27 13:08:30            August\n",
       "27        1 2008-08-28 11:23:59            August\n",
       "28        1 2008-08-28 13:26:28            August\n",
       "29        1 2008-09-01 12:03:31            August\n",
       "30        1 2008-09-07 19:17:04            August\n",
       "31        1 2008-09-08 20:04:18         September\n",
       "32        1 2008-09-10 16:08:15         September\n",
       "33        1 2008-09-15 11:03:36         September\n",
       "34        1 2008-09-19 08:46:43         September\n",
       "35        1 2008-09-20 16:22:52         September\n",
       "36        1 2008-09-25 18:42:55         September\n",
       "37        1 2008-09-25 21:58:05         September\n",
       "38        1 2008-10-01 01:19:17         September\n",
       "39        1 2008-10-03 06:37:26         September\n",
       "40        1 2008-10-04 10:06:38           October\n",
       "41        1 2008-10-07 08:01:40           October\n",
       "42        1 2008-10-07 08:48:00           October\n",
       "43        1 2008-10-09 22:49:01           October\n",
       "44        1 2008-10-10 12:59:40           October\n",
       "45        1 2008-10-12 08:38:43           October\n",
       "46        1 2008-10-13 09:34:26           October\n",
       "47        1 2008-10-15 18:56:40           October\n",
       "48        1 2008-10-15 22:20:54           October\n",
       "49        1 2008-10-16 03:00:52           October\n",
       "50        1 2008-10-24 06:10:58           October\n",
       "51        1 2008-10-24 08:39:47           October\n",
       "52        1 2008-10-24 15:45:16           October\n",
       "53        1 2008-10-30 16:49:27           October\n",
       "54        1 2008-11-01 17:56:16           October\n",
       "55        1 2008-11-06 01:17:47           October\n",
       "56        1 2008-11-12 14:02:14          November\n",
       "57        1 2008-11-13 14:59:51          November\n",
       "58        1 2008-11-17 12:58:22          November\n",
       "59        1 2008-11-26 04:15:42          November\n",
       "60        1 2008-12-01 04:56:38          November\n",
       "61        1 2008-12-01 18:04:52          November\n",
       "62        1 2008-12-03 09:31:04          December\n",
       "63        1 2008-12-03 16:16:43          December\n",
       "64        1 2008-12-05 00:34:40          December\n",
       "65        1 2008-12-11 16:57:58          December\n",
       "66        1 2008-12-13 00:24:17          December\n",
       "67        1 2008-12-23 11:00:13          December\n",
       "68        1 2008-12-24 13:07:56          December\n",
       "69        1 2008-12-30 08:23:07          December\n",
       "70        2 2008-08-01 04:59:34              None\n",
       "71        2 2008-08-01 05:09:56              None\n",
       "72        2 2008-08-04 05:51:57            August\n",
       "73        2 2008-08-21 20:53:51            August\n",
       "74        2 2008-10-13 23:46:09            August\n",
       "75        2 2008-12-15 03:59:56            August\n",
       "76        3 2008-08-04 06:39:40              None\n",
       "77        3 2008-08-04 22:42:55              None\n",
       "78        3 2008-08-17 18:42:03            August\n",
       "79        3 2008-08-27 13:36:08            August\n",
       "80        3 2008-08-29 04:50:50            August\n",
       "81        3 2008-08-29 19:38:32            August\n",
       "82        3 2008-09-14 08:37:14            August\n",
       "83        3 2008-10-05 23:33:44            August\n",
       "84        3 2008-11-13 02:56:02         September\n",
       "85        3 2008-11-14 03:30:04           October\n",
       "86        3 2008-11-16 01:21:29          November\n",
       "87        4 2008-08-15 20:06:53              None\n",
       "88        4 2008-08-20 03:58:09              None\n",
       "89        4 2008-08-20 21:47:57            August\n",
       "90        4 2008-08-20 21:54:53            August\n",
       "91        4 2008-08-21 13:40:14            August\n",
       "92        4 2008-08-22 14:21:43            August\n",
       "93        4 2008-08-24 03:22:54            August\n",
       "94        4 2008-08-26 04:54:02            August\n",
       "95        4 2008-09-14 19:51:49            August\n",
       "96        4 2008-09-16 08:59:23            August\n",
       "97        4 2008-09-17 00:04:02         September\n",
       "98        4 2008-09-17 01:14:02         September\n",
       "99        4 2008-09-20 03:28:34         September"
      ]
     },
     "execution_count": 16,
     "metadata": {},
     "output_type": "execute_result"
    }
   ],
   "source": [
    "# напишите запрос\n",
    "query7 = '''\n",
    "SELECT user_id,\n",
    "\t\t creation_date,\n",
    "\t\t to_char(to_timestamp (EXTRACT(MONTH\n",
    "            FROM LAG(creation_date, 2, NULL)\n",
    "            OVER (PARTITION BY user_id\n",
    "            ORDER BY  creation_date))::text, 'MM'), 'TMMonth') AS second_last_month\n",
    "FROM stackoverflow.posts\n",
    "ORDER BY  user_id, creation_date\n",
    "'''\n",
    "df7 = pd.read_sql_query(query7, con=engine)\n",
    "df7.head(100)\n",
    "# выполните запрос"
   ]
  },
  {
   "cell_type": "markdown",
   "metadata": {
    "id": "7dqoKkncDWK_"
   },
   "source": [
    "<details>\n",
    "\n",
    "<summary>Подсказка</summary>\n",
    "Преобразовать результат оконной функции в нужное значение вам поможет аналог условного оператора в SQL: CASE <поле> WHEN <старое значение> THEN <новое значение> END.\n",
    "</details>"
   ]
  },
  {
   "cell_type": "markdown",
   "metadata": {},
   "source": [
    "да при помощи CASE ясно как сделать с заменой, но интересно было сразу же получить имя месяца из LAG."
   ]
  },
  {
   "cell_type": "markdown",
   "metadata": {},
   "source": [
    "<div class=\"alert alert-block alert-success\">\n",
    "\n",
    "    \n",
    "### Комментарий от ревьюера v_1\n",
    "\n",
    "Здорово, что находишь способ получить месяц без нагромождения в CASE 👍🏻\n",
    "    \n",
    "\n",
    "</div>"
   ]
  },
  {
   "cell_type": "markdown",
   "metadata": {
    "id": "tf9qq2yzDWK_"
   },
   "source": [
    "## Задание 8"
   ]
  },
  {
   "cell_type": "markdown",
   "metadata": {
    "id": "gfwLVXBYDWLA"
   },
   "source": [
    "Рассчитайте аналог Retention Rate по месяцам для пользователей StackOverflow. Объедините пользователей в когорты по месяцу их первого поста. Возвращение определяйте по наличию поста в текущем месяце. "
   ]
  },
  {
   "cell_type": "markdown",
   "metadata": {
    "id": "kN2ic39WlKpl"
   },
   "source": [
    "| cohort_dt | session_date | users_cnt | cohort_users_cnt | retention_rate |\n",
    "| --- | --- | --- | --- | --- |\n",
    "| 2008-07-01 00:00:00 | 2008-07-01 00:00:00 | 3 | 3 | 100 |\n",
    "| 2008-07-01 00:00:00 | 2008-08-01 00:00:00 | 2 | 3 | 66,67 |\n",
    "| 2008-07-01 00:00:00 | 2008-09-01 00:00:00 | 1 | 3 | 33,33 |\n",
    "| 2008-07-01 00:00:00 | 2008-10-01 00:00:00 | 2 | 3 | 66,67 |\n",
    "| 2008-07-01 00:00:00 | 2008-11-01 00:00:00 | 1 | 3 | 33,33 |\n",
    "| 2008-07-01 00:00:00 | 2008-12-01 00:00:00 | 2 | 3 | 66,67 |\n",
    "| 2008-08-01 00:00:00 | 2008-08-01 00:00:00 | 2151 | 2151 | 100 |\n",
    "| ... | ... | ... | ... | ... |"
   ]
  },
  {
   "cell_type": "code",
   "execution_count": 6,
   "metadata": {
    "id": "LUgFmwmTDWLB",
    "scrolled": true
   },
   "outputs": [
    {
     "data": {
      "text/html": [
       "<div>\n",
       "<style scoped>\n",
       "    .dataframe tbody tr th:only-of-type {\n",
       "        vertical-align: middle;\n",
       "    }\n",
       "\n",
       "    .dataframe tbody tr th {\n",
       "        vertical-align: top;\n",
       "    }\n",
       "\n",
       "    .dataframe thead th {\n",
       "        text-align: right;\n",
       "    }\n",
       "</style>\n",
       "<table border=\"1\" class=\"dataframe\">\n",
       "  <thead>\n",
       "    <tr style=\"text-align: right;\">\n",
       "      <th></th>\n",
       "      <th>cohort_dt</th>\n",
       "      <th>session_date</th>\n",
       "      <th>users_cnt</th>\n",
       "      <th>cohort_users_cnt</th>\n",
       "      <th>retention_rate</th>\n",
       "    </tr>\n",
       "  </thead>\n",
       "  <tbody>\n",
       "    <tr>\n",
       "      <th>0</th>\n",
       "      <td>2008-07-01</td>\n",
       "      <td>2008-07-01</td>\n",
       "      <td>3</td>\n",
       "      <td>3</td>\n",
       "      <td>100.00</td>\n",
       "    </tr>\n",
       "    <tr>\n",
       "      <th>1</th>\n",
       "      <td>2008-07-01</td>\n",
       "      <td>2008-08-01</td>\n",
       "      <td>2</td>\n",
       "      <td>3</td>\n",
       "      <td>66.67</td>\n",
       "    </tr>\n",
       "    <tr>\n",
       "      <th>2</th>\n",
       "      <td>2008-07-01</td>\n",
       "      <td>2008-09-01</td>\n",
       "      <td>1</td>\n",
       "      <td>3</td>\n",
       "      <td>33.33</td>\n",
       "    </tr>\n",
       "    <tr>\n",
       "      <th>3</th>\n",
       "      <td>2008-07-01</td>\n",
       "      <td>2008-10-01</td>\n",
       "      <td>2</td>\n",
       "      <td>3</td>\n",
       "      <td>66.67</td>\n",
       "    </tr>\n",
       "    <tr>\n",
       "      <th>4</th>\n",
       "      <td>2008-07-01</td>\n",
       "      <td>2008-11-01</td>\n",
       "      <td>1</td>\n",
       "      <td>3</td>\n",
       "      <td>33.33</td>\n",
       "    </tr>\n",
       "    <tr>\n",
       "      <th>5</th>\n",
       "      <td>2008-07-01</td>\n",
       "      <td>2008-12-01</td>\n",
       "      <td>2</td>\n",
       "      <td>3</td>\n",
       "      <td>66.67</td>\n",
       "    </tr>\n",
       "    <tr>\n",
       "      <th>6</th>\n",
       "      <td>2008-08-01</td>\n",
       "      <td>2008-08-01</td>\n",
       "      <td>2151</td>\n",
       "      <td>2151</td>\n",
       "      <td>100.00</td>\n",
       "    </tr>\n",
       "    <tr>\n",
       "      <th>7</th>\n",
       "      <td>2008-08-01</td>\n",
       "      <td>2008-09-01</td>\n",
       "      <td>1571</td>\n",
       "      <td>2151</td>\n",
       "      <td>73.04</td>\n",
       "    </tr>\n",
       "    <tr>\n",
       "      <th>8</th>\n",
       "      <td>2008-08-01</td>\n",
       "      <td>2008-10-01</td>\n",
       "      <td>1275</td>\n",
       "      <td>2151</td>\n",
       "      <td>59.27</td>\n",
       "    </tr>\n",
       "    <tr>\n",
       "      <th>9</th>\n",
       "      <td>2008-08-01</td>\n",
       "      <td>2008-11-01</td>\n",
       "      <td>1050</td>\n",
       "      <td>2151</td>\n",
       "      <td>48.81</td>\n",
       "    </tr>\n",
       "  </tbody>\n",
       "</table>\n",
       "</div>"
      ],
      "text/plain": [
       "   cohort_dt session_date  users_cnt  cohort_users_cnt  retention_rate\n",
       "0 2008-07-01   2008-07-01          3                 3          100.00\n",
       "1 2008-07-01   2008-08-01          2                 3           66.67\n",
       "2 2008-07-01   2008-09-01          1                 3           33.33\n",
       "3 2008-07-01   2008-10-01          2                 3           66.67\n",
       "4 2008-07-01   2008-11-01          1                 3           33.33\n",
       "5 2008-07-01   2008-12-01          2                 3           66.67\n",
       "6 2008-08-01   2008-08-01       2151              2151          100.00\n",
       "7 2008-08-01   2008-09-01       1571              2151           73.04\n",
       "8 2008-08-01   2008-10-01       1275              2151           59.27\n",
       "9 2008-08-01   2008-11-01       1050              2151           48.81"
      ]
     },
     "execution_count": 6,
     "metadata": {},
     "output_type": "execute_result"
    }
   ],
   "source": [
    "# напишите запрос\n",
    "query8 = '''\n",
    "WITH profile AS\n",
    "    (WITH tem AS \n",
    "\t(SELECT user_id,\n",
    "\t\t DATE_TRUNC('month', creation_date) AS dt,\n",
    "         row_number(*)OVER (partition by user_id\n",
    "\tORDER BY  DATE_TRUNC('month', creation_date)) AS rown\n",
    "\tFROM stackoverflow.posts\n",
    "\tORDER BY  dt, user_id)\n",
    "\tSELECT user_id,\n",
    "\t\t dt,\n",
    "\t\t COUNT(*)OVER (PARTITION BY dt) AS cohort_users_cnt\n",
    "\tFROM tem\n",
    "\tWHERE rown = 1\n",
    "\tORDER BY  dt, user_id), sessions AS \n",
    "\t(SELECT user_id,\n",
    "\t\t DATE_TRUNC('month', creation_date) AS session_date\n",
    "\tFROM stackoverflow.posts\n",
    "\tGROUP BY  1, 2)\n",
    "SELECT p.dt AS cohort_dt,\n",
    "\t\t session_date,\n",
    "\t\t COUNT(p.user_id) AS users_cnt,\n",
    "\t\t cohort_users_cnt,\n",
    "\t\t ROUND(COUNT(p.user_id) * 100.0 / cohort_users_cnt,\n",
    "\t\t 2) AS retention_rate\n",
    "FROM profile AS p full\n",
    "JOIN sessions AS s\n",
    "\tON p.user_id = s.user_id\n",
    "GROUP BY  1, 2, 4\n",
    "ORDER BY  cohort_dt, session_date\n",
    "\n",
    "'''\n",
    "df8 = pd.read_sql_query(query8, con=engine)\n",
    "df8.head(10)\n",
    "# выполните запрос"
   ]
  },
  {
   "cell_type": "markdown",
   "metadata": {},
   "source": [
    "<div class=\"alert alert-block alert-success\">\n",
    "\n",
    "    \n",
    "### Комментарий от ревьюера v_1\n",
    "\n",
    "Отлично разбираешься с ретеншеном 👍🏻\n",
    "    \n",
    "\n",
    "</div>"
   ]
  },
  {
   "cell_type": "markdown",
   "metadata": {
    "id": "Yavb5o9JDWLB"
   },
   "source": [
    "<details>\n",
    "\n",
    "<summary>Подсказка</summary>\n",
    "Вспомните, как выглядел запрос для расчёта Retention Rate в теории. Создайте две временные таблицы: `profile` и `sessions` (в ней будет информация о публикациях), а затем используйте их в основном запросе.\n",
    "\n",
    "Во временной таблице `profile` вам понадобятся три поля:\n",
    "\n",
    "- идентификатор пользователя;\n",
    "- дата первого поста пользователя, усечённая до месяца (признак начала когорты);\n",
    "- количество пользователей этой когорты.\n",
    "</details>"
   ]
  },
  {
   "cell_type": "markdown",
   "metadata": {
    "id": "_msBtnb2DWLC"
   },
   "source": [
    "Постройте тепловую карту Retention Rate. Какие аномалии или другие необычные явления удалось выявить? Сформулируйте гипотезы о возможных причинах."
   ]
  },
  {
   "cell_type": "code",
   "execution_count": 18,
   "metadata": {
    "id": "qAEJc8H1DWLC"
   },
   "outputs": [
    {
     "data": {
      "image/png": "[encoded data removed]",
      "text/plain": [
       "<Figure size 1152x1152 with 2 Axes>"
      ]
     },
     "metadata": {
      "needs_background": "light"
     },
     "output_type": "display_data"
    }
   ],
   "source": [
    "# постройте тепловую карту Retention Rate\n",
    "import seaborn as sns\n",
    "retention = df8.pivot('session_date', 'cohort_dt', 'retention_rate')\n",
    "retention.index = [str(x)[0:10] for x in retention.index]\n",
    "retention.columns  = [str(x)[0:10] for x in retention.columns]\n",
    "\n",
    "# строим хитмэп\n",
    "\n",
    "plt.figure(figsize=(16, 16)) # задаём размер графика\n",
    "sns.heatmap(retention, # датафрейм с данными\n",
    "            annot=True, # добавляем подписи\n",
    "            fmt='') # задаём исходный формат\n",
    "plt.title('Тепловая карта') # название графика\n",
    "plt.show() "
   ]
  },
  {
   "cell_type": "markdown",
   "metadata": {
    "id": "EgOfIsI4DWLC"
   },
   "source": [
    "<b>Выводы</b>\n",
    "\n",
    "\n",
    "\n",
    "1) за 2008-07-01 мало данных поэтому по этим трем юзерам не отслеживается особая зависимость, разве , что переодичность одинаковых значений старнна, но это совпало так, скорее всего.\n",
    "\n",
    "2) видно, что с течением времени активность пользователей во второй месяц снижается, так же как и в последующие (смотреть не только горизонтальное изменение, но и диагональное от левого верхнего угла к правому нижнему), тут может быть варанты:\n",
    "\n",
    "а) снижение интереса пользователей к платформе вообще\n",
    "\n",
    "б) приходят новые пользователи, которые задают один вопрос, и потом более не учавствуют в жизни платформы и большинство постов создаются старыми пользователями\n",
    "\n",
    "в) приток новых пользователей снижается\n"
   ]
  },
  {
   "cell_type": "markdown",
   "metadata": {},
   "source": [
    "<div class=\"alert alert-block alert-success\">\n",
    "\n",
    "    \n",
    "### Комментарий от ревьюера v_1\n",
    "\n",
    "Классный хитмап и интересные рассуждения 👍🏻\n",
    "    \n",
    "\n",
    "</div>"
   ]
  },
  {
   "cell_type": "markdown",
   "metadata": {
    "id": "1k7oPWt5DWLK"
   },
   "source": [
    "## Задание 9\n"
   ]
  },
  {
   "cell_type": "markdown",
   "metadata": {
    "id": "ALsYVSyRDWLM"
   },
   "source": [
    "На сколько процентов менялось количество постов ежемесячно с 1 сентября по 31 декабря 2008 года? Отобразите таблицу со следующими полями:\n",
    "\n",
    "- номер месяца;\n",
    "- количество постов за месяц;\n",
    "- процент, который показывает, насколько изменилось количество постов в текущем месяце по сравнению с предыдущим.\n",
    "\n",
    "Если постов стало меньше, значение процента должно быть отрицательным, если больше — положительным. Округлите значение процента до двух знаков после запятой.\n",
    "\n",
    "Напомним, что при делении одного целого числа на другое в PostgreSQL в результате получится целое число, округлённое до ближайшего целого вниз. Чтобы этого избежать, переведите делимое в тип `numeric`."
   ]
  },
  {
   "cell_type": "markdown",
   "metadata": {
    "id": "u4E2zF8DDWLM"
   },
   "source": [
    "| creation_month | posts_count | percentage |\n",
    "| -------------- | ----------- | ---------- |\n",
    "| 9 | 70731 | Nan |\n",
    "| 10 | 63102 | -10.33 |\n",
    "| ... | ... | ... |"
   ]
  },
  {
   "cell_type": "code",
   "execution_count": 19,
   "metadata": {
    "id": "Mb5pShStDWLN"
   },
   "outputs": [
    {
     "data": {
      "text/html": [
       "<div>\n",
       "<style scoped>\n",
       "    .dataframe tbody tr th:only-of-type {\n",
       "        vertical-align: middle;\n",
       "    }\n",
       "\n",
       "    .dataframe tbody tr th {\n",
       "        vertical-align: top;\n",
       "    }\n",
       "\n",
       "    .dataframe thead th {\n",
       "        text-align: right;\n",
       "    }\n",
       "</style>\n",
       "<table border=\"1\" class=\"dataframe\">\n",
       "  <thead>\n",
       "    <tr style=\"text-align: right;\">\n",
       "      <th></th>\n",
       "      <th>creation_month</th>\n",
       "      <th>posts_count</th>\n",
       "      <th>percentage</th>\n",
       "    </tr>\n",
       "  </thead>\n",
       "  <tbody>\n",
       "    <tr>\n",
       "      <th>0</th>\n",
       "      <td>9.0</td>\n",
       "      <td>70371</td>\n",
       "      <td>NaN</td>\n",
       "    </tr>\n",
       "    <tr>\n",
       "      <th>1</th>\n",
       "      <td>10.0</td>\n",
       "      <td>63102</td>\n",
       "      <td>-10.33</td>\n",
       "    </tr>\n",
       "    <tr>\n",
       "      <th>2</th>\n",
       "      <td>11.0</td>\n",
       "      <td>46975</td>\n",
       "      <td>-25.56</td>\n",
       "    </tr>\n",
       "    <tr>\n",
       "      <th>3</th>\n",
       "      <td>12.0</td>\n",
       "      <td>44592</td>\n",
       "      <td>-5.07</td>\n",
       "    </tr>\n",
       "  </tbody>\n",
       "</table>\n",
       "</div>"
      ],
      "text/plain": [
       "   creation_month  posts_count  percentage\n",
       "0             9.0        70371         NaN\n",
       "1            10.0        63102      -10.33\n",
       "2            11.0        46975      -25.56\n",
       "3            12.0        44592       -5.07"
      ]
     },
     "execution_count": 19,
     "metadata": {},
     "output_type": "execute_result"
    }
   ],
   "source": [
    "# напишите запрос\n",
    "query9 = '''\n",
    "WITH tem AS \n",
    "\t(SELECT DISTINCT extract(month\n",
    "\tFROM creation_date) AS creation_month,\n",
    "\tcount(*)\tOVER (partition by date_trunc('month', creation_date)) AS posts_count\n",
    "\tFROM stackoverflow.posts\n",
    "\tWHERE creation_date\n",
    "\t\tBETWEEN '2008-09-01'\n",
    "\t\t\tAND '2009-01-01')\n",
    "SELECT *,\n",
    "\t\t ROUND(-100 + CAST(posts_count AS numeric) / CAST(lag(posts_count) OVER () AS numeric) * 100, 2) as percentage\n",
    "FROM tem\n",
    "\n",
    "\n",
    "'''\n",
    "df9 = pd.read_sql_query(query9, con=engine)\n",
    "df9.head()\n",
    "# выполните запрос"
   ]
  },
  {
   "cell_type": "markdown",
   "metadata": {},
   "source": [
    "<div class=\"alert alert-block alert-warning\">\n",
    "    \n",
    "\n",
    "### Комментарий от ревьюера v_1\n",
    "Рекомендация\n",
    "\n",
    "В лаге в окне надо ставить по какому полю сортировать\n",
    "</div>"
   ]
  },
  {
   "cell_type": "markdown",
   "metadata": {
    "id": "G0VSDL4HDWLO"
   },
   "source": [
    "<details>\n",
    "\n",
    "<summary>Подсказка</summary>\n",
    "Эту задачу стоит декомпозировать. Сформируйте запрос, который отобразит номер месяца и количество постов. Затем можно использовать оконную функцию, которая вернёт значение за предыдущий месяц, и посчитать процент.\n",
    "</details>"
   ]
  },
  {
   "cell_type": "markdown",
   "metadata": {
    "id": "9NQE2y_MDWLP"
   },
   "source": [
    "Постройте круговую диаграмму с количеством постов по месяцам."
   ]
  },
  {
   "cell_type": "code",
   "execution_count": 22,
   "metadata": {
    "id": "377ABjiVDWLP"
   },
   "outputs": [
    {
     "data": {
      "image/png": "[encoded data removed]",
      "text/plain": [
       "<Figure size 1440x1152 with 1 Axes>"
      ]
     },
     "metadata": {},
     "output_type": "display_data"
    }
   ],
   "source": [
    "# постройте круговую диаграмму с количеством постов по месяцам\n",
    "sns.set(rc={'figure.figsize':(20,16)})\n",
    "# declaring exploding pie\n",
    "explode = [0.1, 0, 0, 0]\n",
    "# define Seaborn color palette to use\n",
    "palette_color = sns.color_palette('bright')\n",
    "\n",
    "def make_autopct(values):\n",
    "    lister = []\n",
    "    def my_autopct(pct):\n",
    "        total = sum(df9['posts_count'])\n",
    "        val = int(round(pct*total/100.0))\n",
    "        lister.append(val)\n",
    "        for i in range(len(lister)):\n",
    "            if i == 0:\n",
    "                per = 'NaN'\n",
    "            else:\n",
    "                per = - round(100 - lister[i]/lister[i-1]*100,2)\n",
    "        return (f'Постов в месяц:{val:d},\\n'\n",
    "                f'Уменьшение числа постов:{per}%')\n",
    "    return my_autopct\n",
    "  \n",
    "# plotting data on chart\n",
    "plt.pie(df9['posts_count'], labels= df9['creation_month'], colors=palette_color,\n",
    "        explode=explode, autopct=make_autopct(df9['posts_count']))\n",
    "  \n",
    "# displaying chart\n",
    "plt.show();"
   ]
  },
  {
   "cell_type": "markdown",
   "metadata": {
    "id": "uw7qMtafDWLP"
   },
   "source": [
    "## Задание 10"
   ]
  },
  {
   "cell_type": "markdown",
   "metadata": {
    "id": "oRBpWKx3DWLQ"
   },
   "source": [
    "Выгрузите данные активности пользователя, который опубликовал больше всего постов за всё время. Выведите данные за октябрь 2008 года в таком виде:\n",
    "\n",
    "- номер недели;\n",
    "- дата и время последнего поста, опубликованного на этой неделе."
   ]
  },
  {
   "cell_type": "markdown",
   "metadata": {
    "id": "XjAWSn_3DWLQ"
   },
   "source": [
    "| week_creation | creation_date |\n",
    "| ------------- | ------------- |\n",
    "| 40 | 2008-10-05 09:00:58 |\n",
    "| 41 | 2008-10-12 21:22:23 |\n",
    "| ... | ... |"
   ]
  },
  {
   "cell_type": "code",
   "execution_count": 21,
   "metadata": {
    "id": "r5F5fSkwDWLQ"
   },
   "outputs": [
    {
     "data": {
      "text/html": [
       "<div>\n",
       "<style scoped>\n",
       "    .dataframe tbody tr th:only-of-type {\n",
       "        vertical-align: middle;\n",
       "    }\n",
       "\n",
       "    .dataframe tbody tr th {\n",
       "        vertical-align: top;\n",
       "    }\n",
       "\n",
       "    .dataframe thead th {\n",
       "        text-align: right;\n",
       "    }\n",
       "</style>\n",
       "<table border=\"1\" class=\"dataframe\">\n",
       "  <thead>\n",
       "    <tr style=\"text-align: right;\">\n",
       "      <th></th>\n",
       "      <th>week_creation</th>\n",
       "      <th>creation_date</th>\n",
       "    </tr>\n",
       "  </thead>\n",
       "  <tbody>\n",
       "    <tr>\n",
       "      <th>0</th>\n",
       "      <td>40</td>\n",
       "      <td>2008-10-05 09:00:58</td>\n",
       "    </tr>\n",
       "    <tr>\n",
       "      <th>1</th>\n",
       "      <td>41</td>\n",
       "      <td>2008-10-12 21:22:23</td>\n",
       "    </tr>\n",
       "    <tr>\n",
       "      <th>2</th>\n",
       "      <td>42</td>\n",
       "      <td>2008-10-19 06:49:30</td>\n",
       "    </tr>\n",
       "    <tr>\n",
       "      <th>3</th>\n",
       "      <td>43</td>\n",
       "      <td>2008-10-26 21:44:36</td>\n",
       "    </tr>\n",
       "    <tr>\n",
       "      <th>4</th>\n",
       "      <td>44</td>\n",
       "      <td>2008-10-31 22:16:01</td>\n",
       "    </tr>\n",
       "  </tbody>\n",
       "</table>\n",
       "</div>"
      ],
      "text/plain": [
       "   week_creation       creation_date\n",
       "0             40 2008-10-05 09:00:58\n",
       "1             41 2008-10-12 21:22:23\n",
       "2             42 2008-10-19 06:49:30\n",
       "3             43 2008-10-26 21:44:36\n",
       "4             44 2008-10-31 22:16:01"
      ]
     },
     "execution_count": 21,
     "metadata": {},
     "output_type": "execute_result"
    }
   ],
   "source": [
    "# напишите запрос\n",
    "query10 = '''\n",
    "SELECT DISTINCT CAST(EXTRACT(week FROM creation_date) AS INT) AS week_creation ,\n",
    "       MAX(creation_date)OVER (PARTITION BY extract(week FROM creation_date)) AS creation_date\n",
    "FROM stackoverflow.posts\n",
    "WHERE user_id IN \n",
    "\t(SELECT user_id\n",
    "\tFROM stackoverflow.posts\n",
    "\tGROUP BY  user_id\n",
    "\tORDER BY  count(id) DESC\n",
    "\tLIMIT 1)\n",
    "\t\tAND\n",
    "\tcreation_date\n",
    "\tBETWEEN '2008-10-01'\n",
    "\t\tAND '2008-11-01'\n",
    "'''\n",
    "df10 = pd.read_sql_query(query10, con=engine)\n",
    "df10.head()\n",
    "# выполните запрос"
   ]
  },
  {
   "cell_type": "markdown",
   "metadata": {},
   "source": [
    "<div class=\"alert alert-block alert-success\">\n",
    "\n",
    "    \n",
    "### Комментарий от ревьюера v_1\n",
    "\n",
    "И здесь все верно 👍🏻\n",
    "    \n",
    "</div>"
   ]
  },
  {
   "cell_type": "markdown",
   "metadata": {
    "id": "KAcmxvLgDWLR"
   },
   "source": [
    "<details>\n",
    "\n",
    "<summary>Подсказка</summary>\n",
    "Декомпозируйте задачу:\n",
    "1) Найдите пользователя, который опубликовал больше всего постов. 2) Найдите дату и время создания каждого поста этого пользователя и номер недели. \n",
    "3) Отобразите данные только о последних постах пользователя. Для этого можно использовать оконную функцию.\n",
    "</details>"
   ]
  },
  {
   "cell_type": "markdown",
   "metadata": {},
   "source": [
    "## Заключение\n",
    "<div class=\"alert alert-info\">\n",
    "<b>Коментарий:</b> Респект тому кто придумал эти задачи, такого мозговыноса не часто случается :-) </div>"
   ]
  },
  {
   "cell_type": "markdown",
   "metadata": {},
   "source": [
    "<div class=\"alert alert-block alert-success\">\n",
    "\n",
    "    \n",
    "### Комментарий от ревьюера v_1\n",
    "\n",
    "Круто 👍🏻\n",
    "    \n",
    "Передам автору, ему приятно будет :))\n",
    "\n",
    "</div>"
   ]
  },
  {
   "cell_type": "code",
   "execution_count": null,
   "metadata": {},
   "outputs": [],
   "source": []
  }
 ],
 "metadata": {
  "ExecuteTimeLog": [
   {
    "duration": 3,
    "start_time": "2022-06-06T20:48:18.246Z"
   },
   {
    "duration": 4,
    "start_time": "2022-06-06T20:48:20.814Z"
   },
   {
    "duration": 3,
    "start_time": "2022-06-06T20:48:22.121Z"
   },
   {
    "duration": 179,
    "start_time": "2022-06-06T20:48:23.165Z"
   },
   {
    "duration": 10,
    "start_time": "2022-06-06T20:48:23.894Z"
   },
   {
    "duration": 91,
    "start_time": "2022-06-06T21:03:48.993Z"
   },
   {
    "duration": 21,
    "start_time": "2022-06-06T21:04:18.567Z"
   },
   {
    "duration": 7,
    "start_time": "2022-06-06T21:04:23.929Z"
   },
   {
    "duration": 1013,
    "start_time": "2022-06-07T22:09:56.864Z"
   },
   {
    "duration": 4,
    "start_time": "2022-06-07T22:10:00.748Z"
   },
   {
    "duration": 67,
    "start_time": "2022-06-07T22:10:02.500Z"
   },
   {
    "duration": 196,
    "start_time": "2022-06-07T22:10:04.140Z"
   },
   {
    "duration": 15,
    "start_time": "2022-06-07T22:10:07.678Z"
   },
   {
    "duration": 97,
    "start_time": "2022-06-07T22:10:10.855Z"
   },
   {
    "duration": 8,
    "start_time": "2022-06-07T22:10:13.592Z"
   },
   {
    "duration": 3,
    "start_time": "2022-06-07T22:10:17.755Z"
   },
   {
    "duration": 2502,
    "start_time": "2022-06-07T22:10:38.555Z"
   },
   {
    "duration": 10,
    "start_time": "2022-06-07T22:10:48.069Z"
   },
   {
    "duration": 10,
    "start_time": "2022-06-07T22:18:15.380Z"
   },
   {
    "duration": 12,
    "start_time": "2022-06-07T22:20:15.402Z"
   },
   {
    "duration": 19,
    "start_time": "2022-06-07T22:20:31.526Z"
   },
   {
    "duration": 94,
    "start_time": "2022-06-07T22:28:55.411Z"
   },
   {
    "duration": 8,
    "start_time": "2022-06-07T22:28:57.452Z"
   },
   {
    "duration": 26738,
    "start_time": "2022-06-07T22:46:59.936Z"
   },
   {
    "duration": 8,
    "start_time": "2022-06-07T22:47:30.198Z"
   },
   {
    "duration": 7,
    "start_time": "2022-06-07T22:47:42.864Z"
   },
   {
    "duration": 25893,
    "start_time": "2022-06-07T22:48:18.128Z"
   },
   {
    "duration": 206,
    "start_time": "2022-06-07T23:31:41.670Z"
   },
   {
    "duration": 220,
    "start_time": "2022-06-07T23:31:52.241Z"
   },
   {
    "duration": 11,
    "start_time": "2022-06-07T23:31:54.151Z"
   },
   {
    "duration": 3,
    "start_time": "2022-06-07T23:50:41.449Z"
   },
   {
    "duration": 1251,
    "start_time": "2022-06-07T23:51:06.464Z"
   },
   {
    "duration": 1348,
    "start_time": "2022-06-07T23:51:17.523Z"
   },
   {
    "duration": 1272,
    "start_time": "2022-06-07T23:51:42.280Z"
   },
   {
    "duration": 54,
    "start_time": "2022-06-08T11:40:50.914Z"
   },
   {
    "duration": 32730,
    "start_time": "2022-06-08T11:40:59.628Z"
   },
   {
    "duration": 4,
    "start_time": "2022-06-08T11:41:32.360Z"
   },
   {
    "duration": 45,
    "start_time": "2022-06-08T11:41:32.365Z"
   },
   {
    "duration": 210,
    "start_time": "2022-06-08T11:41:32.411Z"
   },
   {
    "duration": 13,
    "start_time": "2022-06-08T11:41:32.623Z"
   },
   {
    "duration": 113,
    "start_time": "2022-06-08T11:41:32.638Z"
   },
   {
    "duration": 7,
    "start_time": "2022-06-08T11:41:32.752Z"
   },
   {
    "duration": 257,
    "start_time": "2022-06-08T11:41:32.761Z"
   },
   {
    "duration": 9,
    "start_time": "2022-06-08T11:41:33.020Z"
   },
   {
    "duration": 216,
    "start_time": "2022-06-08T11:41:33.032Z"
   },
   {
    "duration": 8,
    "start_time": "2022-06-08T11:41:33.250Z"
   },
   {
    "duration": 1274,
    "start_time": "2022-06-08T11:41:33.259Z"
   },
   {
    "duration": 76,
    "start_time": "2022-06-08T11:41:34.534Z"
   },
   {
    "duration": 903,
    "start_time": "2022-06-08T16:33:34.509Z"
   },
   {
    "duration": 4,
    "start_time": "2022-06-08T16:33:35.431Z"
   },
   {
    "duration": 53,
    "start_time": "2022-06-08T16:33:35.704Z"
   },
   {
    "duration": 66,
    "start_time": "2022-06-08T16:33:35.922Z"
   },
   {
    "duration": 15,
    "start_time": "2022-06-08T16:33:36.037Z"
   },
   {
    "duration": 74,
    "start_time": "2022-06-08T16:33:36.511Z"
   },
   {
    "duration": 9,
    "start_time": "2022-06-08T16:33:36.818Z"
   },
   {
    "duration": 218,
    "start_time": "2022-06-08T16:33:37.418Z"
   },
   {
    "duration": 10,
    "start_time": "2022-06-08T16:33:37.782Z"
   },
   {
    "duration": 172,
    "start_time": "2022-06-08T16:33:38.388Z"
   },
   {
    "duration": 7,
    "start_time": "2022-06-08T16:33:38.782Z"
   },
   {
    "duration": 1135,
    "start_time": "2022-06-08T16:33:39.598Z"
   },
   {
    "duration": 43,
    "start_time": "2022-06-08T16:33:41.085Z"
   },
   {
    "duration": 43,
    "start_time": "2022-06-08T16:33:43.786Z"
   },
   {
    "duration": 39,
    "start_time": "2022-06-08T16:33:58.033Z"
   },
   {
    "duration": 42,
    "start_time": "2022-06-08T16:34:42.494Z"
   },
   {
    "duration": 27,
    "start_time": "2022-06-08T16:37:55.386Z"
   },
   {
    "duration": 27,
    "start_time": "2022-06-08T16:38:22.541Z"
   },
   {
    "duration": 28,
    "start_time": "2022-06-08T16:38:35.489Z"
   },
   {
    "duration": 40,
    "start_time": "2022-06-08T16:38:44.560Z"
   },
   {
    "duration": 41,
    "start_time": "2022-06-08T16:38:55.402Z"
   },
   {
    "duration": 825,
    "start_time": "2022-06-08T22:58:34.116Z"
   },
   {
    "duration": 4,
    "start_time": "2022-06-08T22:58:34.943Z"
   },
   {
    "duration": 174,
    "start_time": "2022-06-08T22:58:34.952Z"
   },
   {
    "duration": 272,
    "start_time": "2022-06-08T22:58:35.128Z"
   },
   {
    "duration": 15,
    "start_time": "2022-06-08T22:58:35.402Z"
   },
   {
    "duration": 104,
    "start_time": "2022-06-08T22:58:35.418Z"
   },
   {
    "duration": 6,
    "start_time": "2022-06-08T22:58:35.524Z"
   },
   {
    "duration": 249,
    "start_time": "2022-06-08T22:58:35.531Z"
   },
   {
    "duration": 9,
    "start_time": "2022-06-08T22:58:35.782Z"
   },
   {
    "duration": 205,
    "start_time": "2022-06-08T22:58:35.792Z"
   },
   {
    "duration": 7,
    "start_time": "2022-06-08T22:58:35.999Z"
   },
   {
    "duration": 1149,
    "start_time": "2022-06-08T22:58:36.008Z"
   },
   {
    "duration": 71,
    "start_time": "2022-06-08T22:58:37.158Z"
   },
   {
    "duration": 64,
    "start_time": "2022-06-08T22:58:37.232Z"
   },
   {
    "duration": 1149,
    "start_time": "2022-06-08T22:59:01.512Z"
   },
   {
    "duration": 1116,
    "start_time": "2022-06-08T23:01:03.283Z"
   },
   {
    "duration": 1305,
    "start_time": "2022-06-08T23:01:16.199Z"
   },
   {
    "duration": 1174,
    "start_time": "2022-06-08T23:01:23.478Z"
   },
   {
    "duration": 1317,
    "start_time": "2022-06-08T23:01:31.964Z"
   },
   {
    "duration": 1181,
    "start_time": "2022-06-08T23:01:38.920Z"
   },
   {
    "duration": 1278,
    "start_time": "2022-06-08T23:01:49.191Z"
   },
   {
    "duration": 1222,
    "start_time": "2022-06-08T23:02:27.975Z"
   },
   {
    "duration": 1219,
    "start_time": "2022-06-08T23:02:37.957Z"
   },
   {
    "duration": 1257,
    "start_time": "2022-06-08T23:02:52.315Z"
   },
   {
    "duration": 36031,
    "start_time": "2022-06-16T17:59:49.845Z"
   },
   {
    "duration": 3,
    "start_time": "2022-06-16T18:00:25.878Z"
   },
   {
    "duration": 41,
    "start_time": "2022-06-16T18:00:25.882Z"
   },
   {
    "duration": 70,
    "start_time": "2022-06-16T18:00:25.925Z"
   },
   {
    "duration": 13,
    "start_time": "2022-06-16T18:00:25.997Z"
   },
   {
    "duration": 79,
    "start_time": "2022-06-16T18:00:26.011Z"
   },
   {
    "duration": 7,
    "start_time": "2022-06-16T18:00:26.092Z"
   },
   {
    "duration": 235,
    "start_time": "2022-06-16T18:00:26.100Z"
   },
   {
    "duration": 9,
    "start_time": "2022-06-16T18:00:26.337Z"
   },
   {
    "duration": 182,
    "start_time": "2022-06-16T18:00:26.348Z"
   },
   {
    "duration": 7,
    "start_time": "2022-06-16T18:00:26.532Z"
   },
   {
    "duration": 1189,
    "start_time": "2022-06-16T18:00:26.541Z"
   },
   {
    "duration": 45,
    "start_time": "2022-06-16T18:00:27.731Z"
   },
   {
    "duration": 39,
    "start_time": "2022-06-16T18:00:27.778Z"
   },
   {
    "duration": 1220,
    "start_time": "2022-06-16T18:00:27.819Z"
   },
   {
    "duration": 2,
    "start_time": "2022-06-16T18:00:29.041Z"
   },
   {
    "duration": 39,
    "start_time": "2022-06-16T18:00:42.347Z"
   },
   {
    "duration": 451,
    "start_time": "2022-06-16T18:00:54.896Z"
   },
   {
    "duration": 404,
    "start_time": "2022-06-16T18:01:02.600Z"
   },
   {
    "duration": 68,
    "start_time": "2022-06-16T18:02:38.290Z"
   },
   {
    "duration": 14,
    "start_time": "2022-06-16T18:02:49.941Z"
   },
   {
    "duration": 34973,
    "start_time": "2022-06-16T18:03:04.958Z"
   },
   {
    "duration": 428,
    "start_time": "2022-06-16T18:05:42.430Z"
   },
   {
    "duration": 528,
    "start_time": "2022-06-16T19:07:01.788Z"
   },
   {
    "duration": 541,
    "start_time": "2022-06-16T19:07:32.888Z"
   },
   {
    "duration": 487,
    "start_time": "2022-06-16T19:07:57.317Z"
   },
   {
    "duration": 539,
    "start_time": "2022-06-16T19:08:29.991Z"
   },
   {
    "duration": 519,
    "start_time": "2022-06-16T19:10:02.659Z"
   },
   {
    "duration": 204,
    "start_time": "2022-06-16T20:01:51.293Z"
   },
   {
    "duration": 35,
    "start_time": "2022-06-16T20:05:48.749Z"
   },
   {
    "duration": 73,
    "start_time": "2022-06-16T20:06:04.874Z"
   },
   {
    "duration": 38207,
    "start_time": "2022-06-16T20:06:29.410Z"
   },
   {
    "duration": 207,
    "start_time": "2022-06-16T20:07:36.392Z"
   },
   {
    "duration": 509,
    "start_time": "2022-06-16T20:08:07.632Z"
   },
   {
    "duration": 110,
    "start_time": "2022-06-16T20:08:36.260Z"
   },
   {
    "duration": 100,
    "start_time": "2022-06-16T20:08:54.665Z"
   },
   {
    "duration": 86,
    "start_time": "2022-06-16T20:09:40.264Z"
   },
   {
    "duration": 85,
    "start_time": "2022-06-16T20:10:01.449Z"
   },
   {
    "duration": 72,
    "start_time": "2022-06-16T20:13:08.121Z"
   },
   {
    "duration": 37,
    "start_time": "2022-06-16T20:13:30.869Z"
   },
   {
    "duration": 67,
    "start_time": "2022-06-16T20:13:40.126Z"
   },
   {
    "duration": 163,
    "start_time": "2022-06-16T20:18:44.924Z"
   },
   {
    "duration": 83,
    "start_time": "2022-06-16T20:21:43.995Z"
   },
   {
    "duration": 74,
    "start_time": "2022-06-16T20:22:15.317Z"
   },
   {
    "duration": 83,
    "start_time": "2022-06-16T20:22:28.290Z"
   },
   {
    "duration": 75,
    "start_time": "2022-06-16T20:22:38.577Z"
   },
   {
    "duration": 113,
    "start_time": "2022-06-16T20:23:35.444Z"
   },
   {
    "duration": 87,
    "start_time": "2022-06-16T20:23:46.890Z"
   },
   {
    "duration": 69,
    "start_time": "2022-06-16T20:28:46.355Z"
   },
   {
    "duration": 33,
    "start_time": "2022-06-16T20:30:43.061Z"
   },
   {
    "duration": 36,
    "start_time": "2022-06-16T20:33:09.011Z"
   },
   {
    "duration": 76,
    "start_time": "2022-06-16T20:33:21.991Z"
   },
   {
    "duration": 118,
    "start_time": "2022-06-16T20:33:59.426Z"
   },
   {
    "duration": 114,
    "start_time": "2022-06-16T20:35:03.027Z"
   },
   {
    "duration": 73,
    "start_time": "2022-06-16T20:35:09.595Z"
   },
   {
    "duration": 80,
    "start_time": "2022-06-16T20:35:26.392Z"
   },
   {
    "duration": 106,
    "start_time": "2022-06-16T20:35:47.391Z"
   },
   {
    "duration": 167,
    "start_time": "2022-06-16T20:36:22.695Z"
   },
   {
    "duration": 76,
    "start_time": "2022-06-16T20:36:36.408Z"
   },
   {
    "duration": 82,
    "start_time": "2022-06-16T20:36:46.567Z"
   },
   {
    "duration": 80,
    "start_time": "2022-06-16T20:37:02.491Z"
   },
   {
    "duration": 76,
    "start_time": "2022-06-16T20:37:16.458Z"
   },
   {
    "duration": 73,
    "start_time": "2022-06-16T20:37:43.949Z"
   },
   {
    "duration": 116,
    "start_time": "2022-06-16T20:38:11.165Z"
   },
   {
    "duration": 74,
    "start_time": "2022-06-16T20:38:22.472Z"
   },
   {
    "duration": 75,
    "start_time": "2022-06-16T20:38:33.575Z"
   },
   {
    "duration": 100,
    "start_time": "2022-06-16T20:39:37.214Z"
   },
   {
    "duration": 92,
    "start_time": "2022-06-16T20:39:52.430Z"
   },
   {
    "duration": 103,
    "start_time": "2022-06-16T20:40:00.657Z"
   },
   {
    "duration": 241,
    "start_time": "2022-06-16T20:40:29.792Z"
   },
   {
    "duration": 211,
    "start_time": "2022-06-16T20:41:40.356Z"
   },
   {
    "duration": 323,
    "start_time": "2022-06-16T20:41:59.725Z"
   },
   {
    "duration": 207,
    "start_time": "2022-06-16T20:42:03.212Z"
   },
   {
    "duration": 215,
    "start_time": "2022-06-16T20:42:17.142Z"
   },
   {
    "duration": 203,
    "start_time": "2022-06-16T20:42:20.501Z"
   },
   {
    "duration": 40,
    "start_time": "2022-06-16T20:44:17.700Z"
   },
   {
    "duration": 202,
    "start_time": "2022-06-16T20:44:34.054Z"
   },
   {
    "duration": 210,
    "start_time": "2022-06-16T20:45:29.678Z"
   },
   {
    "duration": 217,
    "start_time": "2022-06-16T20:45:55.472Z"
   },
   {
    "duration": 183,
    "start_time": "2022-06-16T20:46:05.699Z"
   },
   {
    "duration": 193,
    "start_time": "2022-06-16T20:46:16.607Z"
   },
   {
    "duration": 4,
    "start_time": "2022-06-16T20:46:52.213Z"
   },
   {
    "duration": 192,
    "start_time": "2022-06-16T20:47:03.005Z"
   },
   {
    "duration": 158,
    "start_time": "2022-06-16T21:16:17.442Z"
   },
   {
    "duration": 96,
    "start_time": "2022-06-16T21:16:49.237Z"
   },
   {
    "duration": 94,
    "start_time": "2022-06-16T21:17:33.227Z"
   },
   {
    "duration": 100,
    "start_time": "2022-06-16T21:17:50.709Z"
   },
   {
    "duration": 94,
    "start_time": "2022-06-16T21:18:02.188Z"
   },
   {
    "duration": 822,
    "start_time": "2022-06-16T21:21:10.812Z"
   },
   {
    "duration": 4,
    "start_time": "2022-06-16T21:21:11.638Z"
   },
   {
    "duration": 154,
    "start_time": "2022-06-16T21:21:11.659Z"
   },
   {
    "duration": 89,
    "start_time": "2022-06-16T21:21:11.823Z"
   },
   {
    "duration": 18,
    "start_time": "2022-06-16T21:21:11.923Z"
   },
   {
    "duration": 76,
    "start_time": "2022-06-16T21:21:11.946Z"
   },
   {
    "duration": 14,
    "start_time": "2022-06-16T21:21:12.027Z"
   },
   {
    "duration": 260,
    "start_time": "2022-06-16T21:21:12.044Z"
   },
   {
    "duration": 19,
    "start_time": "2022-06-16T21:21:12.309Z"
   },
   {
    "duration": 175,
    "start_time": "2022-06-16T21:21:12.332Z"
   },
   {
    "duration": 8,
    "start_time": "2022-06-16T21:21:12.511Z"
   },
   {
    "duration": 1230,
    "start_time": "2022-06-16T21:21:12.523Z"
   },
   {
    "duration": 57,
    "start_time": "2022-06-16T21:21:13.760Z"
   },
   {
    "duration": 44,
    "start_time": "2022-06-16T21:21:13.822Z"
   },
   {
    "duration": 1459,
    "start_time": "2022-06-16T21:21:13.871Z"
   },
   {
    "duration": 528,
    "start_time": "2022-06-16T21:21:15.337Z"
   },
   {
    "duration": 1137,
    "start_time": "2022-06-16T21:21:15.870Z"
   },
   {
    "duration": 220,
    "start_time": "2022-06-16T21:21:17.011Z"
   },
   {
    "duration": 368,
    "start_time": "2022-06-16T21:21:17.237Z"
   },
   {
    "duration": 126,
    "start_time": "2022-06-16T21:21:17.612Z"
   },
   {
    "duration": 777,
    "start_time": "2022-06-16T21:27:06.333Z"
   },
   {
    "duration": 6,
    "start_time": "2022-06-16T21:27:07.115Z"
   },
   {
    "duration": 39,
    "start_time": "2022-06-16T21:27:07.124Z"
   },
   {
    "duration": 60,
    "start_time": "2022-06-16T21:27:07.166Z"
   },
   {
    "duration": 13,
    "start_time": "2022-06-16T21:27:07.229Z"
   },
   {
    "duration": 80,
    "start_time": "2022-06-16T21:27:07.246Z"
   },
   {
    "duration": 11,
    "start_time": "2022-06-16T21:27:07.331Z"
   },
   {
    "duration": 240,
    "start_time": "2022-06-16T21:27:07.347Z"
   },
   {
    "duration": 14,
    "start_time": "2022-06-16T21:27:07.591Z"
   },
   {
    "duration": 201,
    "start_time": "2022-06-16T21:27:07.609Z"
   },
   {
    "duration": 8,
    "start_time": "2022-06-16T21:27:07.815Z"
   },
   {
    "duration": 1237,
    "start_time": "2022-06-16T21:27:07.827Z"
   },
   {
    "duration": 50,
    "start_time": "2022-06-16T21:27:09.070Z"
   },
   {
    "duration": 39,
    "start_time": "2022-06-16T21:27:09.124Z"
   },
   {
    "duration": 1182,
    "start_time": "2022-06-16T21:27:09.166Z"
   },
   {
    "duration": 568,
    "start_time": "2022-06-16T21:27:10.352Z"
   },
   {
    "duration": 923,
    "start_time": "2022-06-16T21:27:10.924Z"
   },
   {
    "duration": 212,
    "start_time": "2022-06-16T21:27:11.851Z"
   },
   {
    "duration": 242,
    "start_time": "2022-06-16T21:27:12.067Z"
   },
   {
    "duration": 101,
    "start_time": "2022-06-16T21:27:12.314Z"
   },
   {
    "duration": 595,
    "start_time": "2022-06-16T22:25:15.516Z"
   },
   {
    "duration": 3,
    "start_time": "2022-06-16T22:25:16.113Z"
   },
   {
    "duration": 37,
    "start_time": "2022-06-16T22:25:16.118Z"
   },
   {
    "duration": 55,
    "start_time": "2022-06-16T22:25:16.156Z"
   },
   {
    "duration": 12,
    "start_time": "2022-06-16T22:25:16.213Z"
   },
   {
    "duration": 75,
    "start_time": "2022-06-16T22:25:16.226Z"
   },
   {
    "duration": 7,
    "start_time": "2022-06-16T22:25:16.302Z"
   },
   {
    "duration": 228,
    "start_time": "2022-06-16T22:25:16.310Z"
   },
   {
    "duration": 8,
    "start_time": "2022-06-16T22:25:16.540Z"
   },
   {
    "duration": 178,
    "start_time": "2022-06-16T22:25:16.550Z"
   },
   {
    "duration": 6,
    "start_time": "2022-06-16T22:25:16.729Z"
   },
   {
    "duration": 1447,
    "start_time": "2022-06-16T22:25:16.736Z"
   },
   {
    "duration": 46,
    "start_time": "2022-06-16T22:25:18.185Z"
   },
   {
    "duration": 39,
    "start_time": "2022-06-16T22:25:18.233Z"
   },
   {
    "duration": 1174,
    "start_time": "2022-06-16T22:25:18.274Z"
   },
   {
    "duration": 526,
    "start_time": "2022-06-16T22:25:19.449Z"
   },
   {
    "duration": 823,
    "start_time": "2022-06-16T22:25:19.976Z"
   },
   {
    "duration": 209,
    "start_time": "2022-06-16T22:25:20.801Z"
   },
   {
    "duration": 199,
    "start_time": "2022-06-16T22:25:21.012Z"
   },
   {
    "duration": 94,
    "start_time": "2022-06-16T22:25:21.212Z"
   },
   {
    "duration": 525,
    "start_time": "2022-06-16T22:31:11.240Z"
   },
   {
    "duration": 517,
    "start_time": "2022-06-16T22:31:15.504Z"
   },
   {
    "duration": 46,
    "start_time": "2022-06-16T23:16:08.874Z"
   },
   {
    "duration": 37236,
    "start_time": "2022-06-16T23:16:18.455Z"
   },
   {
    "duration": 4,
    "start_time": "2022-06-16T23:16:55.693Z"
   },
   {
    "duration": 44,
    "start_time": "2022-06-16T23:16:55.698Z"
   },
   {
    "duration": 198,
    "start_time": "2022-06-16T23:16:55.744Z"
   },
   {
    "duration": 13,
    "start_time": "2022-06-16T23:16:55.943Z"
   },
   {
    "duration": 117,
    "start_time": "2022-06-16T23:16:55.957Z"
   },
   {
    "duration": 6,
    "start_time": "2022-06-16T23:16:56.076Z"
   },
   {
    "duration": 246,
    "start_time": "2022-06-16T23:16:56.084Z"
   },
   {
    "duration": 8,
    "start_time": "2022-06-16T23:16:56.332Z"
   },
   {
    "duration": 205,
    "start_time": "2022-06-16T23:16:56.343Z"
   },
   {
    "duration": 6,
    "start_time": "2022-06-16T23:16:56.550Z"
   },
   {
    "duration": 1128,
    "start_time": "2022-06-16T23:16:56.557Z"
   },
   {
    "duration": 73,
    "start_time": "2022-06-16T23:16:57.687Z"
   },
   {
    "duration": 67,
    "start_time": "2022-06-16T23:16:57.762Z"
   },
   {
    "duration": 1158,
    "start_time": "2022-06-16T23:16:57.831Z"
   },
   {
    "duration": 554,
    "start_time": "2022-06-16T23:16:58.990Z"
   },
   {
    "duration": 849,
    "start_time": "2022-06-16T23:16:59.546Z"
   },
   {
    "duration": 238,
    "start_time": "2022-06-16T23:17:00.396Z"
   },
   {
    "duration": 217,
    "start_time": "2022-06-16T23:17:00.635Z"
   },
   {
    "duration": 123,
    "start_time": "2022-06-16T23:17:00.854Z"
   },
   {
    "duration": 168,
    "start_time": "2022-06-16T23:17:37.538Z"
   }
  ],
  "colab": {
   "name": "AdvansedSQLProjectTemplate.ipynb",
   "provenance": []
  },
  "kernelspec": {
   "display_name": "Python 3 (ipykernel)",
   "language": "python",
   "name": "python3"
  },
  "language_info": {
   "codemirror_mode": {
    "name": "ipython",
    "version": 3
   },
   "file_extension": ".py",
   "mimetype": "text/x-python",
   "name": "python",
   "nbconvert_exporter": "python",
   "pygments_lexer": "ipython3",
   "version": "3.8.13"
  },
  "toc": {
   "base_numbering": 1,
   "nav_menu": {},
   "number_sections": false,
   "sideBar": true,
   "skip_h1_title": false,
   "title_cell": "Table of Contents",
   "title_sidebar": "Contents",
   "toc_cell": true,
   "toc_position": {
    "height": "calc(100% - 180px)",
    "left": "10px",
    "top": "150px",
    "width": "165px"
   },
   "toc_section_display": true,
   "toc_window_display": true
  }
 },
 "nbformat": 4,
 "nbformat_minor": 1
}
