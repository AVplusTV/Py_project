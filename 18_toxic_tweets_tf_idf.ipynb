{
 "cells": [
  {
   "cell_type": "markdown",
   "id": "fac299fc",
   "metadata": {
    "cellId": "inqsksx20wywutt6o3zk",
    "execution_id": "ff448083-1165-45e2-972b-e0ccad884dca"
   },
   "source": [
    "<font color='blue' size=5><b>Комментарий ревьюера</b></font>\n",
    "\n",
    "<font color='blue'>Привет, Роман! Меня зовут Павел Григорьев, и я буду проверять этот проект.<br>Моя основная цель - не указать на совершённые тобой ошибки, а поделиться своим опытом и помочь тебе совершенствоваться как профессионалу.<br>Спасибо за проделанную работу! Предлагаю общаться на «ты».</font>\n",
    "<details>\n",
    "\t<summary><u>Инструкция по организационным мометнам (кликабельно)</u></summary>\n",
    "<font color='blue'>Я буду использовать различные цвета, чтобы было удобнее воспринимать мои комментарии:</font>\n",
    "\n",
    "\n",
    "---\n",
    "\n",
    "\n",
    "<font color='blue'>синий текст - просто текст комментария</font>\n",
    "\n",
    "<font color='green'>✔️ и зеленый текст - все отлично</font>\n",
    "\n",
    "<font color='orange'>⚠️ и оранжевый текст - сделано все правильно, однако есть рекомендации, на что стоит обратить внимание</font>\n",
    "\n",
    "<font color='red'>❌ и красный текст - есть недочеты</font>\n",
    "\n",
    "\n",
    "</details>    \n",
    "    </br>\n",
    "<font color='blue'>Пожалуйста, не удаляй мои комментарии в случае возврата работы, так будет проще разобраться, какие были недочеты, а также сразу увидеть исправленное. </font>\n",
    "\n",
    "Ответы на мои комментарии лучше тоже помечать.\n",
    "Например: <font color='purple'><b>Комментарий студента</b></font>\n",
    "\n",
    "<font color='blue'><b>Давай смотреть, что получилось!</b></font>"
   ]
  },
  {
   "cell_type": "markdown",
   "id": "652fe14a",
   "metadata": {},
   "source": [
    "<font color='purple'><b>Павел Привет! Принято, основные исправления помечаю этим цветом. Спасибо!</b></font>"
   ]
  },
  {
   "cell_type": "markdown",
   "id": "93338b74",
   "metadata": {},
   "source": [
    "<font color='blue' size=3><b>Комментарий ревьюера 2</b></font>\n",
    "\n",
    "<font color='blue'>Привет еще раз. Спасибо, за исправления. Оформление комментариев по работе сохраняется. Только обозначим, что это вторая итерация.</font>"
   ]
  },
  {
   "cell_type": "markdown",
   "id": "186e12d3",
   "metadata": {
    "cellId": "dxfl6m9nxin5shtrgnx0j",
    "execution_id": "d923c8cd-5fe8-4b39-8ed7-f044c6bb2802",
    "toc": true
   },
   "source": [
    "<h1>Table of Contents<span class=\"tocSkip\"></span></h1>\n",
    "<div class=\"toc\"><ul class=\"toc-item\"><li><span><a href=\"#Формулировка-задачи\" data-toc-modified-id=\"Формулировка-задачи-1\"><span class=\"toc-item-num\">1&nbsp;&nbsp;</span>Формулировка задачи</a></span></li><li><span><a href=\"#Загрузим-необходимые-модули\" data-toc-modified-id=\"Загрузим-необходимые-модули-2\"><span class=\"toc-item-num\">2&nbsp;&nbsp;</span>Загрузим необходимые модули</a></span></li><li><span><a href=\"#Загрузим-и-проанализируем-данные\" data-toc-modified-id=\"Загрузим-и-проанализируем-данные-3\"><span class=\"toc-item-num\">3&nbsp;&nbsp;</span>Загрузим и проанализируем данные</a></span><ul class=\"toc-item\"><li><span><a href=\"#Открываем-файл-с-данными-и-анализируем-содержимое\" data-toc-modified-id=\"Открываем-файл-с-данными-и-анализируем-содержимое-3.1\"><span class=\"toc-item-num\">3.1&nbsp;&nbsp;</span>Открываем файл с данными и анализируем содержимое</a></span></li><li><span><a href=\"#Балланс-классов\" data-toc-modified-id=\"Балланс-классов-3.2\"><span class=\"toc-item-num\">3.2&nbsp;&nbsp;</span>Балланс классов</a></span></li><li><span><a href=\"#Выводы:\" data-toc-modified-id=\"Выводы:-3.3\"><span class=\"toc-item-num\">3.3&nbsp;&nbsp;</span>Выводы:</a></span></li></ul></li><li><span><a href=\"#Подготовка-данных-c-применением-метода-TF_IDF\" data-toc-modified-id=\"Подготовка-данных-c-применением-метода-TF_IDF-4\"><span class=\"toc-item-num\">4&nbsp;&nbsp;</span>Подготовка данных c применением метода TF_IDF</a></span><ul class=\"toc-item\"><li><span><a href=\"#Лемматизация-текста\" data-toc-modified-id=\"Лемматизация-текста-4.1\"><span class=\"toc-item-num\">4.1&nbsp;&nbsp;</span>Лемматизация текста</a></span></li><li><span><a href=\"#Очистка-текста\" data-toc-modified-id=\"Очистка-текста-4.2\"><span class=\"toc-item-num\">4.2&nbsp;&nbsp;</span>Очистка текста</a></span></li><li><span><a href=\"#Разделение-таблицы-на-выборки\" data-toc-modified-id=\"Разделение-таблицы-на-выборки-4.3\"><span class=\"toc-item-num\">4.3&nbsp;&nbsp;</span>Разделение таблицы на выборки</a></span></li><li><span><a href=\"#Выделение-целевых-признаков-для-тренировочной-и-валидационной-выборки\" data-toc-modified-id=\"Выделение-целевых-признаков-для-тренировочной-и-валидационной-выборки-4.4\"><span class=\"toc-item-num\">4.4&nbsp;&nbsp;</span>Выделение целевых признаков для тренировочной и валидационной выборки</a></span></li><li><span><a href=\"#Изменение-балланса-классов-тренировочной-выборки-для-повышения-полноты-предсказаний\" data-toc-modified-id=\"Изменение-балланса-классов-тренировочной-выборки-для-повышения-полноты-предсказаний-4.5\"><span class=\"toc-item-num\">4.5&nbsp;&nbsp;</span>Изменение балланса классов тренировочной выборки для повышения полноты предсказаний</a></span></li><li><span><a href=\"#Векторизация-данных\" data-toc-modified-id=\"Векторизация-данных-4.6\"><span class=\"toc-item-num\">4.6&nbsp;&nbsp;</span>Векторизация данных</a></span></li></ul></li><li><span><a href=\"#Обучение-логистической-регрессии\" data-toc-modified-id=\"Обучение-логистической-регрессии-5\"><span class=\"toc-item-num\">5&nbsp;&nbsp;</span>Обучение логистической регрессии</a></span></li><li><span><a href=\"#Проверим-на-тестовой-выборке,-для-полной-уверенности\" data-toc-modified-id=\"Проверим-на-тестовой-выборке,-для-полной-уверенности-6\"><span class=\"toc-item-num\">6&nbsp;&nbsp;</span>Проверим на тестовой выборке, для полной уверенности</a></span></li><li><span><a href=\"#Посмотрим-еще-на-CAT-BOOST-на-валидационной-и-тестовой-выборке\" data-toc-modified-id=\"Посмотрим-еще-на-CAT-BOOST-на-валидационной-и-тестовой-выборке-7\"><span class=\"toc-item-num\">7&nbsp;&nbsp;</span>Посмотрим еще на CAT BOOST на валидационной и тестовой выборке</a></span></li><li><span><a href=\"#ROC-кривая\" data-toc-modified-id=\"ROC-кривая-8\"><span class=\"toc-item-num\">8&nbsp;&nbsp;</span>ROC кривая</a></span></li><li><span><a href=\"#Матрица-ошибок\" data-toc-modified-id=\"Матрица-ошибок-9\"><span class=\"toc-item-num\">9&nbsp;&nbsp;</span>Матрица ошибок</a></span></li><li><span><a href=\"#Выводы-и-результаты-применения-TF_IDF\" data-toc-modified-id=\"Выводы-и-результаты-применения-TF_IDF-10\"><span class=\"toc-item-num\">10&nbsp;&nbsp;</span>Выводы и результаты применения TF_IDF</a></span></li></ul></div>"
   ]
  },
  {
   "cell_type": "markdown",
   "id": "5cdea6f8",
   "metadata": {
    "cellId": "7ktrl65nhb87b19ev1q02e",
    "execution_id": "0ef5806b-0050-491b-a98a-72c924e0f4eb"
   },
   "source": []
  },
  {
   "cell_type": "markdown",
   "id": "76b793a7",
   "metadata": {
    "cellId": "uxhlnqt76fdi1se92zm2",
    "execution_id": "eb2771ac-26d8-40c2-b762-4221f4f75052",
    "id": "8eab17ed"
   },
   "source": [
    "## Формулировка задачи\n"
   ]
  },
  {
   "cell_type": "markdown",
   "id": "0331532b",
   "metadata": {
    "cellId": "pzn2gdvb5njrtpk754xra",
    "execution_id": "899e5692-3280-456a-952f-081d5ee1a587",
    "id": "2729cc18"
   },
   "source": [
    "Интернет-магазин «Викишоп» запускает новый сервис.\n",
    "\n",
    "Теперь пользователи могут редактировать и дополнять описания товаров, как в вики-сообществах. То есть клиенты предлагают свои правки и комментируют изменения других. Магазину нужен инструмент, который будет искать токсичные комментарии и отправлять их на модерацию.\n",
    "\n",
    "\n",
    "Обучите модель классифицировать комментарии на позитивные и негативные. В вашем распоряжении набор данных с разметкой о токсичности правок.\n",
    "\n",
    "\n",
    "Постройте модель со значением метрики качества F1 не меньше 0.75."
   ]
  },
  {
   "cell_type": "markdown",
   "id": "500c359d",
   "metadata": {
    "cellId": "wqk6wp11dr0pyimcnk9jo",
    "execution_id": "6ea02815-2dce-4117-b132-63d1f31904fe",
    "id": "788e24b8"
   },
   "source": [
    "## Загрузим необходимые модули"
   ]
  },
  {
   "cell_type": "code",
   "execution_count": 1,
   "id": "9f7afadc",
   "metadata": {
    "cellId": "8l5f6vp6fi6r8sq6u3nt",
    "id": "d4576d3c"
   },
   "outputs": [
    {
     "name": "stderr",
     "output_type": "stream",
     "text": [
      "[nltk_data] Downloading package wordnet to /home/jupyter/nltk_data...\n",
      "[nltk_data]   Package wordnet is already up-to-date!\n",
      "[nltk_data] Downloading package stopwords to\n",
      "[nltk_data]     /home/jupyter/nltk_data...\n",
      "[nltk_data]   Package stopwords is already up-to-date!\n",
      "[nltk_data] Downloading package omw-1.4 to /home/jupyter/nltk_data...\n",
      "[nltk_data]   Package omw-1.4 is already up-to-date!\n"
     ]
    }
   ],
   "source": [
    "import pandas as pd\n",
    "import matplotlib.pyplot as plt\n",
    "from catboost import CatBoostClassifier\n",
    "from sklearn.metrics import plot_confusion_matrix\n",
    "import numpy as np\n",
    "#from pymystem3 import Mystem\n",
    "from nltk.stem import WordNetLemmatizer\n",
    "from sklearn.model_selection import train_test_split\n",
    "from sklearn.linear_model import LogisticRegression\n",
    "from sklearn.model_selection import GridSearchCV\n",
    "from sklearn.model_selection import cross_val_score\n",
    "from sklearn.metrics import accuracy_score\n",
    "from sklearn.metrics import f1_score \n",
    "from sklearn.metrics import roc_auc_score\n",
    "from sklearn.metrics import recall_score\n",
    "from sklearn.metrics import precision_score\n",
    "\n",
    "import torch\n",
    "import transformers as ppb\n",
    "\n",
    "import warnings\n",
    "warnings.filterwarnings('ignore')\n",
    "\n",
    "from sklearn.feature_extraction.text import CountVectorizer \n",
    "from nltk.corpus import stopwords\n",
    "import re \n",
    "import nltk\n",
    "import nltk.corpus\n",
    "nltk.download('wordnet')\n",
    "nltk.download('stopwords')\n",
    "nltk.download('omw-1.4')\n",
    "from sklearn.feature_extraction.text import TfidfVectorizer "
   ]
  },
  {
   "cell_type": "markdown",
   "id": "6ee4a60e",
   "metadata": {
    "cellId": "dtfbza0hy72o5blel41p6",
    "execution_id": "c08c5aba-e557-4e53-84f9-63790e8f2600"
   },
   "source": [
    "<font color='blue'><b>Комментарий ревьюера: </b></font> ✔️\\\n",
    "<font color='green'> Хорошее оформление импортов! \\\n",
    "Импорты собраны в одной ячейке, разделены на функциональные группы пустой строкой.</font>"
   ]
  },
  {
   "cell_type": "markdown",
   "id": "a79f0cb9",
   "metadata": {
    "cellId": "dprg5i7i546mywjnaposwd",
    "execution_id": "55ac9855-f3a5-4a61-afc0-17488c52aa9e",
    "id": "8a5db2ae"
   },
   "source": [
    "## Загрузим и проанализируем данные"
   ]
  },
  {
   "cell_type": "markdown",
   "id": "c3bafb5f",
   "metadata": {
    "cellId": "r7dw762jcdile3uk467o",
    "execution_id": "b26f8405-5f3b-4182-9dd7-ac76ffe53c8c",
    "id": "083d7fbe"
   },
   "source": [
    "### Открываем файл с данными и анализируем содержимое"
   ]
  },
  {
   "cell_type": "markdown",
   "id": "bed6097d",
   "metadata": {
    "cellId": "dnzfz563d1spvrac2j74e",
    "execution_id": "c89f7fd0-85b3-42dc-a0d6-26c54cda6a8a",
    "id": "0b7bd432"
   },
   "source": [
    "Функция для чтения файла в таблицу с учетом возможности работы на разных платформах и заодно исследование данных в таблицах:"
   ]
  },
  {
   "cell_type": "code",
   "execution_count": 2,
   "id": "d850c3b5",
   "metadata": {
    "cellId": "kb48qrxbhtnps5y3xbs39p",
    "id": "62d37539"
   },
   "outputs": [],
   "source": [
    "def read_csv(link):\n",
    "    link1 = 'datasets/' + link\n",
    "    link2 = '/datasets/' + link\n",
    "    try:\n",
    "        name_link = pd.read_csv(link1)\n",
    "    except:\n",
    "        name_link = pd.read_csv(link2)\n",
    "    display(name_link.head()) #просмотрим сразу первые пять строк\n",
    "    display(name_link.info()) #просмотрим информацию    \n",
    "    display(name_link.nunique()) # посчитаем уникальные значения\n",
    "    display(name_link.columns) #проверим имена столбцов\n",
    "    display('Количество явных дубликатов:', name_link.duplicated().sum()) #проверка на явные дубликаты\n",
    "    \n",
    "    return name_link"
   ]
  },
  {
   "cell_type": "code",
   "execution_count": 3,
   "id": "ecc3ae4e",
   "metadata": {
    "cellId": "ia2puvvpdcq0ay4t1j43b",
    "colab": {
     "base_uri": "https://localhost:8080/",
     "height": 424
    },
    "id": "ed032800",
    "outputId": "b52a37b5-f263-414d-eb73-cf05cb56dcfa",
    "scrolled": true
   },
   "outputs": [
    {
     "data": {
      "text/html": [
       "<div>\n",
       "<style scoped>\n",
       "    .dataframe tbody tr th:only-of-type {\n",
       "        vertical-align: middle;\n",
       "    }\n",
       "\n",
       "    .dataframe tbody tr th {\n",
       "        vertical-align: top;\n",
       "    }\n",
       "\n",
       "    .dataframe thead th {\n",
       "        text-align: right;\n",
       "    }\n",
       "</style>\n",
       "<table border=\"1\" class=\"dataframe\">\n",
       "  <thead>\n",
       "    <tr style=\"text-align: right;\">\n",
       "      <th></th>\n",
       "      <th>Unnamed: 0</th>\n",
       "      <th>text</th>\n",
       "      <th>toxic</th>\n",
       "    </tr>\n",
       "  </thead>\n",
       "  <tbody>\n",
       "    <tr>\n",
       "      <th>0</th>\n",
       "      <td>0</td>\n",
       "      <td>Explanation\\nWhy the edits made under my usern...</td>\n",
       "      <td>0</td>\n",
       "    </tr>\n",
       "    <tr>\n",
       "      <th>1</th>\n",
       "      <td>1</td>\n",
       "      <td>D'aww! He matches this background colour I'm s...</td>\n",
       "      <td>0</td>\n",
       "    </tr>\n",
       "    <tr>\n",
       "      <th>2</th>\n",
       "      <td>2</td>\n",
       "      <td>Hey man, I'm really not trying to edit war. It...</td>\n",
       "      <td>0</td>\n",
       "    </tr>\n",
       "    <tr>\n",
       "      <th>3</th>\n",
       "      <td>3</td>\n",
       "      <td>\"\\nMore\\nI can't make any real suggestions on ...</td>\n",
       "      <td>0</td>\n",
       "    </tr>\n",
       "    <tr>\n",
       "      <th>4</th>\n",
       "      <td>4</td>\n",
       "      <td>You, sir, are my hero. Any chance you remember...</td>\n",
       "      <td>0</td>\n",
       "    </tr>\n",
       "  </tbody>\n",
       "</table>\n",
       "</div>"
      ],
      "text/plain": [
       "   Unnamed: 0                                               text  toxic\n",
       "0           0  Explanation\\nWhy the edits made under my usern...      0\n",
       "1           1  D'aww! He matches this background colour I'm s...      0\n",
       "2           2  Hey man, I'm really not trying to edit war. It...      0\n",
       "3           3  \"\\nMore\\nI can't make any real suggestions on ...      0\n",
       "4           4  You, sir, are my hero. Any chance you remember...      0"
      ]
     },
     "metadata": {},
     "output_type": "display_data"
    },
    {
     "name": "stdout",
     "output_type": "stream",
     "text": [
      "<class 'pandas.core.frame.DataFrame'>\n",
      "RangeIndex: 159292 entries, 0 to 159291\n",
      "Data columns (total 3 columns):\n",
      "Unnamed: 0    159292 non-null int64\n",
      "text          159292 non-null object\n",
      "toxic         159292 non-null int64\n",
      "dtypes: int64(2), object(1)\n",
      "memory usage: 3.6+ MB\n"
     ]
    },
    {
     "data": {
      "text/plain": [
       "None"
      ]
     },
     "metadata": {},
     "output_type": "display_data"
    },
    {
     "data": {
      "text/plain": [
       "Unnamed: 0    159292\n",
       "text          159292\n",
       "toxic              2\n",
       "dtype: int64"
      ]
     },
     "metadata": {},
     "output_type": "display_data"
    },
    {
     "data": {
      "text/plain": [
       "Index(['Unnamed: 0', 'text', 'toxic'], dtype='object')"
      ]
     },
     "metadata": {},
     "output_type": "display_data"
    },
    {
     "data": {
      "text/plain": [
       "'Количество явных дубликатов:'"
      ]
     },
     "metadata": {},
     "output_type": "display_data"
    },
    {
     "data": {
      "text/plain": [
       "0"
      ]
     },
     "metadata": {},
     "output_type": "display_data"
    }
   ],
   "source": [
    "df = read_csv('toxic_comments.csv')"
   ]
  },
  {
   "cell_type": "markdown",
   "id": "adb89da0",
   "metadata": {
    "cellId": "bhotbs24xjmw4w4ldbyygk",
    "execution_id": "d4cff27f-79aa-4885-b12c-cfe954bafafe"
   },
   "source": [
    "<font color='blue'><b>Комментарий ревьюера: </b></font> ✔️\\\n",
    "<font color='green'>Данные загружены корректно, первичный осмотр проведен.</font>"
   ]
  },
  {
   "cell_type": "markdown",
   "id": "5dfe0c24",
   "metadata": {
    "cellId": "nm15sidmj2lewzz3gf6c",
    "execution_id": "707c7491-e660-4f6f-8ad0-cb12ac419135",
    "id": "a7d94ba9"
   },
   "source": [
    "### Балланс классов"
   ]
  },
  {
   "cell_type": "code",
   "execution_count": 4,
   "id": "fc045d1f",
   "metadata": {
    "cellId": "13nx80uupa5h288tdxa7qh",
    "colab": {
     "base_uri": "https://localhost:8080/"
    },
    "id": "30db66b4",
    "outputId": "52e35c7e-074e-4898-c341-781c31967857"
   },
   "outputs": [
    {
     "data": {
      "text/plain": [
       "0    89.838787\n",
       "1    10.161213\n",
       "Name: toxic, dtype: float64"
      ]
     },
     "execution_count": 4,
     "metadata": {},
     "output_type": "execute_result"
    }
   ],
   "source": [
    "df['toxic'].value_counts(normalize=True)*100"
   ]
  },
  {
   "cell_type": "markdown",
   "id": "c3e637c4",
   "metadata": {
    "cellId": "49yxlhd38gjf89aisotqxu",
    "execution_id": "025ccb93-4c77-4a00-8e39-a961d485e935"
   },
   "source": [
    "Удалим лишний столбец"
   ]
  },
  {
   "cell_type": "code",
   "execution_count": 5,
   "id": "88be800b",
   "metadata": {
    "cellId": "vwujf0uqfy0rs549pwtu2j"
   },
   "outputs": [],
   "source": [
    "df = df.drop(['Unnamed: 0'], axis=1)"
   ]
  },
  {
   "cell_type": "markdown",
   "id": "996f4107",
   "metadata": {
    "cellId": "dv1mw9pz36fowxhjd5hxk",
    "execution_id": "1f1de1f3-e222-4603-946d-c2c068566284",
    "id": "09dac631"
   },
   "source": [
    " ### Выводы:\n",
    " \n",
    " \n",
    "* содержание файлов соответствует задаче, пропусков нет\n",
    "\n",
    "* необходимо провести лемматизацию и очистку теста и далее векторизацию\n",
    "\n",
    "* Данные дисбалансированны в сторону 0, поэтому предсказания моделей скорее всего будут так же еще сильнее дисбалансится в больший ноль. Понадобится балансировка классов"
   ]
  },
  {
   "cell_type": "markdown",
   "id": "6af0c7a5",
   "metadata": {
    "cellId": "2bohb6esi4lh3mzzc0lpwa",
    "execution_id": "2f84cede-bca5-495c-8c51-0dcec5616a27"
   },
   "source": [
    "<font color='blue'><b>Комментарий ревьюера: </b></font> ✔️\\\n",
    "<font color='green'>Отлично, что отметил дисбаланс классов! Как дополнительные материалы, рекомендую статью <a href='https://dyakonov.org/2021/05/27/imbalance/'>Дисбаланс классов</a>, очень классная, как и весь блог Дьяконова. Ещё такой <a href='https://github.com/Dyakonov/ml_hacks/blob/master/book_disbalance_public_v1.ipynb'>ноутбук</a> есть.</font>"
   ]
  },
  {
   "cell_type": "markdown",
   "id": "bbf545fe",
   "metadata": {
    "cellId": "sm1ztk6p9xlhtt70t2mey6",
    "execution_id": "93e1e138-2a50-41b7-bf6e-cdcb38a2f9ab",
    "id": "e8e411d6"
   },
   "source": [
    "## Подготовка данных c применением метода TF_IDF"
   ]
  },
  {
   "cell_type": "markdown",
   "id": "5e5691a7",
   "metadata": {
    "cellId": "006m5fb4a4aer293su4j3t2k",
    "execution_id": "c849358d-f43d-4999-9e19-dbafc48289d3"
   },
   "source": [
    "### Лемматизация текста\n"
   ]
  },
  {
   "cell_type": "markdown",
   "id": "9644b485",
   "metadata": {
    "cellId": "onx1n74x0jkq5v4dyp5x",
    "execution_id": "0d832af4-7cc0-449b-821b-186350b1e22f"
   },
   "source": [
    "Функция лемматизации текста"
   ]
  },
  {
   "cell_type": "code",
   "execution_count": 6,
   "id": "ab32052b",
   "metadata": {
    "cellId": "arn0ienfioka4eakgi55tv"
   },
   "outputs": [],
   "source": [
    "lemmatizer = WordNetLemmatizer()"
   ]
  },
  {
   "cell_type": "code",
   "execution_count": 7,
   "id": "706e9621",
   "metadata": {
    "cellId": "u3ha4jz4x19j9riiiqhs"
   },
   "outputs": [
    {
     "name": "stdout",
     "output_type": "stream",
     "text": [
      "CPU times: user 2min 4s, sys: 2.15 s, total: 2min 6s\n",
      "Wall time: 2min 5s\n"
     ]
    }
   ],
   "source": [
    "%%time\n",
    "def df_lemmatize(row):\n",
    "    row.at['lemma_words'] = \" \".join([lemmatizer.lemmatize(w,pos='a') for w in row['text'].split()])\n",
    "    return row\n",
    "    \n",
    "df = df.apply(df_lemmatize, axis=1)  "
   ]
  },
  {
   "cell_type": "code",
   "execution_count": 8,
   "id": "091b932e",
   "metadata": {
    "cellId": "28oezqql0hisn32gjgl6l"
   },
   "outputs": [
    {
     "data": {
      "text/html": [
       "<div>\n",
       "<style scoped>\n",
       "    .dataframe tbody tr th:only-of-type {\n",
       "        vertical-align: middle;\n",
       "    }\n",
       "\n",
       "    .dataframe tbody tr th {\n",
       "        vertical-align: top;\n",
       "    }\n",
       "\n",
       "    .dataframe thead th {\n",
       "        text-align: right;\n",
       "    }\n",
       "</style>\n",
       "<table border=\"1\" class=\"dataframe\">\n",
       "  <thead>\n",
       "    <tr style=\"text-align: right;\">\n",
       "      <th></th>\n",
       "      <th>text</th>\n",
       "      <th>toxic</th>\n",
       "      <th>lemma_words</th>\n",
       "    </tr>\n",
       "  </thead>\n",
       "  <tbody>\n",
       "    <tr>\n",
       "      <th>0</th>\n",
       "      <td>Explanation\\nWhy the edits made under my usern...</td>\n",
       "      <td>0</td>\n",
       "      <td>Explanation Why the edits made under my userna...</td>\n",
       "    </tr>\n",
       "    <tr>\n",
       "      <th>1</th>\n",
       "      <td>D'aww! He matches this background colour I'm s...</td>\n",
       "      <td>0</td>\n",
       "      <td>D'aww! He matches this background colour I'm s...</td>\n",
       "    </tr>\n",
       "    <tr>\n",
       "      <th>2</th>\n",
       "      <td>Hey man, I'm really not trying to edit war. It...</td>\n",
       "      <td>0</td>\n",
       "      <td>Hey man, I'm really not trying to edit war. It...</td>\n",
       "    </tr>\n",
       "    <tr>\n",
       "      <th>3</th>\n",
       "      <td>\"\\nMore\\nI can't make any real suggestions on ...</td>\n",
       "      <td>0</td>\n",
       "      <td>\" More I can't make any real suggestions on im...</td>\n",
       "    </tr>\n",
       "    <tr>\n",
       "      <th>4</th>\n",
       "      <td>You, sir, are my hero. Any chance you remember...</td>\n",
       "      <td>0</td>\n",
       "      <td>You, sir, are my hero. Any chance you remember...</td>\n",
       "    </tr>\n",
       "  </tbody>\n",
       "</table>\n",
       "</div>"
      ],
      "text/plain": [
       "                                                text  toxic  \\\n",
       "0  Explanation\\nWhy the edits made under my usern...      0   \n",
       "1  D'aww! He matches this background colour I'm s...      0   \n",
       "2  Hey man, I'm really not trying to edit war. It...      0   \n",
       "3  \"\\nMore\\nI can't make any real suggestions on ...      0   \n",
       "4  You, sir, are my hero. Any chance you remember...      0   \n",
       "\n",
       "                                         lemma_words  \n",
       "0  Explanation Why the edits made under my userna...  \n",
       "1  D'aww! He matches this background colour I'm s...  \n",
       "2  Hey man, I'm really not trying to edit war. It...  \n",
       "3  \" More I can't make any real suggestions on im...  \n",
       "4  You, sir, are my hero. Any chance you remember...  "
      ]
     },
     "execution_count": 8,
     "metadata": {},
     "output_type": "execute_result"
    }
   ],
   "source": [
    "df.head()"
   ]
  },
  {
   "cell_type": "markdown",
   "id": "0e6dce97",
   "metadata": {
    "cellId": "29p9qvq5dxycjay1ktnk",
    "execution_id": "9fb5e2f7-10f8-465a-a100-14bbae29d277"
   },
   "source": [
    "<font color='blue'><b>Комментарий ревьюера: </b></font> ⚠️\\\n",
    "<font color='darkorange'>Обрати внимание, не все слова приведены к начальным формам. Чтобы корректно обработались все части речи, для WordNetLemmatizer() нужно передать каждому слову соответствующий POS-тег (Part of Speech, часть речи). Примеры работы с WordNetLemmatizer(), а также с другими инструментами для лемматизации, можно найти в [этой статье](https://webdevblog.ru/podhody-lemmatizacii-s-primerami-v-python/)</font>"
   ]
  },
  {
   "cell_type": "markdown",
   "id": "0ff6ebf5",
   "metadata": {
    "cellId": "s8zto72j0ogmb7ypbid3yc",
    "execution_id": "53bca427-b76e-440d-b37f-c66dfb1af3ee"
   },
   "source": [
    "<font color='purple'><b>Комментарий студента: да по умолчанию стоит pos='v', но оно, к примеру, уже building превращает в build, что уже не корректно. Хотя и при pos='a' к примеру not war превратилось в war.\n",
    "    Для эксперимента добавлю еще лемматизацию по pos='v' и проведу сравнение результатов проекта</b></font>"
   ]
  },
  {
   "cell_type": "markdown",
   "id": "6079b303",
   "metadata": {},
   "source": [
    "<font color='blue'><b>Комментарий ревьюера 2: </b></font> ⚠️\\\n",
    "<font color='darkorange'> Можно подавать POS-тег каждому слову отдельно через функцию:\n",
    "```python\n",
    "def get_wordnet_pos(word):\n",
    "    \"\"\"Map POS tag to first character lemmatize() accepts\"\"\"\n",
    "    tag = nltk.pos_tag([word])[0][1][0].upper()\n",
    "    tag_dict = {\"J\": wordnet.ADJ,\n",
    "                \"N\": wordnet.NOUN,\n",
    "                \"V\": wordnet.VERB,\n",
    "                \"R\": wordnet.ADV}\n",
    "    return tag_dict.get(tag, wordnet.NOUN)```\n",
    "\n",
    "И подать её в метод lemmatize\\\n",
    "```.lemmatize(x, get_wordnet_pos(x))```</font>"
   ]
  },
  {
   "cell_type": "code",
   "execution_count": 9,
   "id": "39ab6e29",
   "metadata": {
    "cellId": "ho5sxg8e3l8o9hsh1j91s"
   },
   "outputs": [
    {
     "name": "stdout",
     "output_type": "stream",
     "text": [
      "CPU times: user 49.1 s, sys: 492 ms, total: 49.6 s\n",
      "Wall time: 49.1 s\n"
     ]
    }
   ],
   "source": [
    "%%time\n",
    "def df_lemmatize(row):\n",
    "    row.at['lemma_words'] = \" \".join([lemmatizer.lemmatize(w,pos='v') for w in row['lemma_words'].split()])\n",
    "    return row\n",
    "    \n",
    "df = df.apply(df_lemmatize, axis=1)"
   ]
  },
  {
   "cell_type": "code",
   "execution_count": 10,
   "id": "dc547083",
   "metadata": {
    "cellId": "dm35433bq0a5wypvje2ugq"
   },
   "outputs": [
    {
     "data": {
      "text/html": [
       "<div>\n",
       "<style scoped>\n",
       "    .dataframe tbody tr th:only-of-type {\n",
       "        vertical-align: middle;\n",
       "    }\n",
       "\n",
       "    .dataframe tbody tr th {\n",
       "        vertical-align: top;\n",
       "    }\n",
       "\n",
       "    .dataframe thead th {\n",
       "        text-align: right;\n",
       "    }\n",
       "</style>\n",
       "<table border=\"1\" class=\"dataframe\">\n",
       "  <thead>\n",
       "    <tr style=\"text-align: right;\">\n",
       "      <th></th>\n",
       "      <th>text</th>\n",
       "      <th>toxic</th>\n",
       "      <th>lemma_words</th>\n",
       "    </tr>\n",
       "  </thead>\n",
       "  <tbody>\n",
       "    <tr>\n",
       "      <th>0</th>\n",
       "      <td>Explanation\\nWhy the edits made under my usern...</td>\n",
       "      <td>0</td>\n",
       "      <td>Explanation Why the edit make under my usernam...</td>\n",
       "    </tr>\n",
       "    <tr>\n",
       "      <th>1</th>\n",
       "      <td>D'aww! He matches this background colour I'm s...</td>\n",
       "      <td>0</td>\n",
       "      <td>D'aww! He match this background colour I'm see...</td>\n",
       "    </tr>\n",
       "    <tr>\n",
       "      <th>2</th>\n",
       "      <td>Hey man, I'm really not trying to edit war. It...</td>\n",
       "      <td>0</td>\n",
       "      <td>Hey man, I'm really not try to edit war. It's ...</td>\n",
       "    </tr>\n",
       "    <tr>\n",
       "      <th>3</th>\n",
       "      <td>\"\\nMore\\nI can't make any real suggestions on ...</td>\n",
       "      <td>0</td>\n",
       "      <td>\" More I can't make any real suggestions on im...</td>\n",
       "    </tr>\n",
       "    <tr>\n",
       "      <th>4</th>\n",
       "      <td>You, sir, are my hero. Any chance you remember...</td>\n",
       "      <td>0</td>\n",
       "      <td>You, sir, be my hero. Any chance you remember ...</td>\n",
       "    </tr>\n",
       "  </tbody>\n",
       "</table>\n",
       "</div>"
      ],
      "text/plain": [
       "                                                text  toxic  \\\n",
       "0  Explanation\\nWhy the edits made under my usern...      0   \n",
       "1  D'aww! He matches this background colour I'm s...      0   \n",
       "2  Hey man, I'm really not trying to edit war. It...      0   \n",
       "3  \"\\nMore\\nI can't make any real suggestions on ...      0   \n",
       "4  You, sir, are my hero. Any chance you remember...      0   \n",
       "\n",
       "                                         lemma_words  \n",
       "0  Explanation Why the edit make under my usernam...  \n",
       "1  D'aww! He match this background colour I'm see...  \n",
       "2  Hey man, I'm really not try to edit war. It's ...  \n",
       "3  \" More I can't make any real suggestions on im...  \n",
       "4  You, sir, be my hero. Any chance you remember ...  "
      ]
     },
     "execution_count": 10,
     "metadata": {},
     "output_type": "execute_result"
    }
   ],
   "source": [
    "df.head()"
   ]
  },
  {
   "cell_type": "markdown",
   "id": "a312b4a8",
   "metadata": {
    "cellId": "z7sahvo8a6i5znfthv5l87",
    "execution_id": "ed31f1b8-88ae-48fb-94d7-0ecdfce3b4d9"
   },
   "source": [
    "### Очистка текста"
   ]
  },
  {
   "cell_type": "code",
   "execution_count": 11,
   "id": "aba8da4c",
   "metadata": {
    "cellId": "j4c6tycu4sh0v70by9gsmyr"
   },
   "outputs": [],
   "source": [
    "stop_words = stopwords.words('english')"
   ]
  },
  {
   "cell_type": "code",
   "execution_count": 12,
   "id": "c8ad58e0",
   "metadata": {
    "cellId": "lkk650v11fhnete7or2l5"
   },
   "outputs": [],
   "source": [
    "#add = ['!', '\"', '#', '$', '%', '&', '(', ')', ',', '*', '+', ',', '-', '.', '/', ':',\n",
    "#       ';', '<', '=', '>', '?', '@', '[', ']', '^', '_', '`', '{', '|', '}', '~', '\\t', '\\n',\n",
    "#       '\\r', '\\x0b', '\\x0c', \"'\"]\n",
    "#for sym in add:\n",
    "#    stop_words.append(sym)"
   ]
  },
  {
   "cell_type": "markdown",
   "id": "bdcc525c",
   "metadata": {
    "cellId": "rrxgtkgfnas1619e2lgh",
    "execution_id": "dbf5ae0c-78cf-4fd1-b34f-c6b64528d6de"
   },
   "source": [
    "Просто добавить в стоп слова знаки не помогло, так как эти знаки присоеденены к словам без пробелов, поэтому сделаем это при помощи re"
   ]
  },
  {
   "cell_type": "code",
   "execution_count": 13,
   "id": "3122ea95",
   "metadata": {
    "cellId": "td1g6c4aw7bg9w2ef1h50g"
   },
   "outputs": [
    {
     "name": "stdout",
     "output_type": "stream",
     "text": [
      "CPU times: user 16.2 s, sys: 128 ms, total: 16.3 s\n",
      "Wall time: 16.1 s\n"
     ]
    }
   ],
   "source": [
    "%%time\n",
    "df['clean_words'] = df['lemma_words'].apply(lambda x: ' '.join([word for\n",
    "                    word in x.split() if word not in (stop_words)]))"
   ]
  },
  {
   "cell_type": "code",
   "execution_count": 14,
   "id": "47d05046",
   "metadata": {
    "cellId": "9xojr39u07ccjm6b8o74f8"
   },
   "outputs": [
    {
     "data": {
      "text/html": [
       "<div>\n",
       "<style scoped>\n",
       "    .dataframe tbody tr th:only-of-type {\n",
       "        vertical-align: middle;\n",
       "    }\n",
       "\n",
       "    .dataframe tbody tr th {\n",
       "        vertical-align: top;\n",
       "    }\n",
       "\n",
       "    .dataframe thead th {\n",
       "        text-align: right;\n",
       "    }\n",
       "</style>\n",
       "<table border=\"1\" class=\"dataframe\">\n",
       "  <thead>\n",
       "    <tr style=\"text-align: right;\">\n",
       "      <th></th>\n",
       "      <th>text</th>\n",
       "      <th>toxic</th>\n",
       "      <th>lemma_words</th>\n",
       "      <th>clean_words</th>\n",
       "    </tr>\n",
       "  </thead>\n",
       "  <tbody>\n",
       "    <tr>\n",
       "      <th>0</th>\n",
       "      <td>Explanation\\nWhy the edits made under my usern...</td>\n",
       "      <td>0</td>\n",
       "      <td>Explanation Why the edit make under my usernam...</td>\n",
       "      <td>Explanation Why edit make username Hardcore Me...</td>\n",
       "    </tr>\n",
       "    <tr>\n",
       "      <th>1</th>\n",
       "      <td>D'aww! He matches this background colour I'm s...</td>\n",
       "      <td>0</td>\n",
       "      <td>D'aww! He match this background colour I'm see...</td>\n",
       "      <td>D'aww! He match background colour I'm seemingl...</td>\n",
       "    </tr>\n",
       "    <tr>\n",
       "      <th>2</th>\n",
       "      <td>Hey man, I'm really not trying to edit war. It...</td>\n",
       "      <td>0</td>\n",
       "      <td>Hey man, I'm really not try to edit war. It's ...</td>\n",
       "      <td>Hey man, I'm really try edit war. It's guy con...</td>\n",
       "    </tr>\n",
       "    <tr>\n",
       "      <th>3</th>\n",
       "      <td>\"\\nMore\\nI can't make any real suggestions on ...</td>\n",
       "      <td>0</td>\n",
       "      <td>\" More I can't make any real suggestions on im...</td>\n",
       "      <td>\" More I can't make real suggestions improveme...</td>\n",
       "    </tr>\n",
       "    <tr>\n",
       "      <th>4</th>\n",
       "      <td>You, sir, are my hero. Any chance you remember...</td>\n",
       "      <td>0</td>\n",
       "      <td>You, sir, be my hero. Any chance you remember ...</td>\n",
       "      <td>You, sir, hero. Any chance remember page that'...</td>\n",
       "    </tr>\n",
       "  </tbody>\n",
       "</table>\n",
       "</div>"
      ],
      "text/plain": [
       "                                                text  toxic  \\\n",
       "0  Explanation\\nWhy the edits made under my usern...      0   \n",
       "1  D'aww! He matches this background colour I'm s...      0   \n",
       "2  Hey man, I'm really not trying to edit war. It...      0   \n",
       "3  \"\\nMore\\nI can't make any real suggestions on ...      0   \n",
       "4  You, sir, are my hero. Any chance you remember...      0   \n",
       "\n",
       "                                         lemma_words  \\\n",
       "0  Explanation Why the edit make under my usernam...   \n",
       "1  D'aww! He match this background colour I'm see...   \n",
       "2  Hey man, I'm really not try to edit war. It's ...   \n",
       "3  \" More I can't make any real suggestions on im...   \n",
       "4  You, sir, be my hero. Any chance you remember ...   \n",
       "\n",
       "                                         clean_words  \n",
       "0  Explanation Why edit make username Hardcore Me...  \n",
       "1  D'aww! He match background colour I'm seemingl...  \n",
       "2  Hey man, I'm really try edit war. It's guy con...  \n",
       "3  \" More I can't make real suggestions improveme...  \n",
       "4  You, sir, hero. Any chance remember page that'...  "
      ]
     },
     "execution_count": 14,
     "metadata": {},
     "output_type": "execute_result"
    }
   ],
   "source": [
    "df.head()"
   ]
  },
  {
   "cell_type": "markdown",
   "id": "a4ca717d",
   "metadata": {
    "cellId": "jwnqvj4z2ziwnxt8csnyg",
    "execution_id": "602967db-c735-4a2a-b9a5-61a7bb239e22"
   },
   "source": [
    "<font color='blue'><b>Комментарий ревьюера: </b></font> ✔️\\\n",
    "<font color='green'> Убрали частые неинформативные слова!</font>"
   ]
  },
  {
   "cell_type": "code",
   "execution_count": 15,
   "id": "aac7e131",
   "metadata": {
    "cellId": "8snqpmnz9igu9hvfo4808"
   },
   "outputs": [
    {
     "name": "stdout",
     "output_type": "stream",
     "text": [
      "CPU times: user 19.7 s, sys: 216 ms, total: 19.9 s\n",
      "Wall time: 19.7 s\n"
     ]
    }
   ],
   "source": [
    "%%time\n",
    "def clear_text(row):\n",
    "    temp = re.sub(r'[^a-zA-Z]', ' ', row['clean_words'])\n",
    "    temp1 = temp.split()\n",
    "    temp2 = \" \".join(temp1)\n",
    "    row['clean_words'] = temp2\n",
    "    return row\n",
    "\n",
    "df = df.apply(clear_text, axis=1)"
   ]
  },
  {
   "cell_type": "markdown",
   "id": "40bc2811",
   "metadata": {
    "cellId": "n29paev2vl8z8sq58jj49k",
    "execution_id": "8ca25780-83a5-4ae4-951f-72f21f0da381"
   },
   "source": [
    "<font color='blue'><b>Комментарий ревьюера: </b></font> ⚠️\\\n",
    "<font color='darkorange'> Можно так же убрать пунктуацию и спец символы. </font>"
   ]
  },
  {
   "cell_type": "markdown",
   "id": "ba2c21ca",
   "metadata": {
    "cellId": "ukrqj7hokfkmpvzq0leos",
    "execution_id": "9d118943-e730-4b25-bcb1-f937d0c5dfc5"
   },
   "source": [
    "<font color='purple'> Добавил очистку при помощи re"
   ]
  },
  {
   "cell_type": "markdown",
   "id": "68995166",
   "metadata": {},
   "source": [
    "<font color='blue'><b>Комментарий ревьюера 2: </b></font> ✔️\\\n",
    "<font color='green'>👍</font>"
   ]
  },
  {
   "cell_type": "code",
   "execution_count": 16,
   "id": "9bd5474d",
   "metadata": {
    "cellId": "cclc3fxggx8ve6pg206k0g",
    "scrolled": true
   },
   "outputs": [
    {
     "data": {
      "text/html": [
       "<div>\n",
       "<style scoped>\n",
       "    .dataframe tbody tr th:only-of-type {\n",
       "        vertical-align: middle;\n",
       "    }\n",
       "\n",
       "    .dataframe tbody tr th {\n",
       "        vertical-align: top;\n",
       "    }\n",
       "\n",
       "    .dataframe thead th {\n",
       "        text-align: right;\n",
       "    }\n",
       "</style>\n",
       "<table border=\"1\" class=\"dataframe\">\n",
       "  <thead>\n",
       "    <tr style=\"text-align: right;\">\n",
       "      <th></th>\n",
       "      <th>text</th>\n",
       "      <th>toxic</th>\n",
       "      <th>lemma_words</th>\n",
       "      <th>clean_words</th>\n",
       "    </tr>\n",
       "  </thead>\n",
       "  <tbody>\n",
       "    <tr>\n",
       "      <th>0</th>\n",
       "      <td>Explanation\\nWhy the edits made under my usern...</td>\n",
       "      <td>0</td>\n",
       "      <td>Explanation Why the edit make under my usernam...</td>\n",
       "      <td>Explanation Why edit make username Hardcore Me...</td>\n",
       "    </tr>\n",
       "    <tr>\n",
       "      <th>1</th>\n",
       "      <td>D'aww! He matches this background colour I'm s...</td>\n",
       "      <td>0</td>\n",
       "      <td>D'aww! He match this background colour I'm see...</td>\n",
       "      <td>D aww He match background colour I m seemingly...</td>\n",
       "    </tr>\n",
       "    <tr>\n",
       "      <th>2</th>\n",
       "      <td>Hey man, I'm really not trying to edit war. It...</td>\n",
       "      <td>0</td>\n",
       "      <td>Hey man, I'm really not try to edit war. It's ...</td>\n",
       "      <td>Hey man I m really try edit war It s guy const...</td>\n",
       "    </tr>\n",
       "    <tr>\n",
       "      <th>3</th>\n",
       "      <td>\"\\nMore\\nI can't make any real suggestions on ...</td>\n",
       "      <td>0</td>\n",
       "      <td>\" More I can't make any real suggestions on im...</td>\n",
       "      <td>More I can t make real suggestions improvement...</td>\n",
       "    </tr>\n",
       "    <tr>\n",
       "      <th>4</th>\n",
       "      <td>You, sir, are my hero. Any chance you remember...</td>\n",
       "      <td>0</td>\n",
       "      <td>You, sir, be my hero. Any chance you remember ...</td>\n",
       "      <td>You sir hero Any chance remember page that s on</td>\n",
       "    </tr>\n",
       "  </tbody>\n",
       "</table>\n",
       "</div>"
      ],
      "text/plain": [
       "                                                text  toxic  \\\n",
       "0  Explanation\\nWhy the edits made under my usern...      0   \n",
       "1  D'aww! He matches this background colour I'm s...      0   \n",
       "2  Hey man, I'm really not trying to edit war. It...      0   \n",
       "3  \"\\nMore\\nI can't make any real suggestions on ...      0   \n",
       "4  You, sir, are my hero. Any chance you remember...      0   \n",
       "\n",
       "                                         lemma_words  \\\n",
       "0  Explanation Why the edit make under my usernam...   \n",
       "1  D'aww! He match this background colour I'm see...   \n",
       "2  Hey man, I'm really not try to edit war. It's ...   \n",
       "3  \" More I can't make any real suggestions on im...   \n",
       "4  You, sir, be my hero. Any chance you remember ...   \n",
       "\n",
       "                                         clean_words  \n",
       "0  Explanation Why edit make username Hardcore Me...  \n",
       "1  D aww He match background colour I m seemingly...  \n",
       "2  Hey man I m really try edit war It s guy const...  \n",
       "3  More I can t make real suggestions improvement...  \n",
       "4    You sir hero Any chance remember page that s on  "
      ]
     },
     "execution_count": 16,
     "metadata": {},
     "output_type": "execute_result"
    }
   ],
   "source": [
    "df.head()"
   ]
  },
  {
   "cell_type": "markdown",
   "id": "2a915558",
   "metadata": {
    "cellId": "d2xwyfpaidmfwkcyxhu2k",
    "execution_id": "3eb73f03-dcd8-48b5-8133-ad7a7d936277"
   },
   "source": [
    "### Разделение таблицы на выборки"
   ]
  },
  {
   "cell_type": "code",
   "execution_count": 17,
   "id": "309b9d99",
   "metadata": {
    "cellId": "ric0d81xpp1vfsnuy0vbu",
    "id": "e9d103d4"
   },
   "outputs": [],
   "source": [
    "temp, valid = train_test_split(df, stratify=df['toxic'],test_size=0.1,\n",
    "                                   shuffle=True, random_state=12345)"
   ]
  },
  {
   "cell_type": "code",
   "execution_count": 18,
   "id": "4aa4d8c6",
   "metadata": {
    "cellId": "cm4ychrx4uanei6dzml5xb"
   },
   "outputs": [],
   "source": [
    "train, test = train_test_split(temp, stratify=temp['toxic'],test_size=0.1,\n",
    "                                   shuffle=True, random_state=12345)"
   ]
  },
  {
   "cell_type": "code",
   "execution_count": 19,
   "id": "c4755241",
   "metadata": {
    "cellId": "ol8c8rcajdaucdffysvul",
    "colab": {
     "base_uri": "https://localhost:8080/",
     "height": 424
    },
    "id": "e83dde38",
    "outputId": "04ee220f-f7e7-4636-b995-b2a5b75db0f4"
   },
   "outputs": [
    {
     "data": {
      "text/plain": [
       "(129025, 4)"
      ]
     },
     "execution_count": 19,
     "metadata": {},
     "output_type": "execute_result"
    }
   ],
   "source": [
    "train.shape"
   ]
  },
  {
   "cell_type": "code",
   "execution_count": 20,
   "id": "dc023271",
   "metadata": {
    "cellId": "wm9vleb0vnb1nsyze40l",
    "colab": {
     "base_uri": "https://localhost:8080/"
    },
    "id": "7b930614",
    "outputId": "634e29d2-69f1-4b26-bc57-a0252ba7589e"
   },
   "outputs": [
    {
     "data": {
      "text/plain": [
       "0    89.839178\n",
       "1    10.160822\n",
       "Name: toxic, dtype: float64"
      ]
     },
     "execution_count": 20,
     "metadata": {},
     "output_type": "execute_result"
    }
   ],
   "source": [
    "train['toxic'].value_counts(normalize=True)*100"
   ]
  },
  {
   "cell_type": "code",
   "execution_count": 21,
   "id": "db3247b6",
   "metadata": {
    "cellId": "vpmxf4ffuoeminpdh6ewsb",
    "colab": {
     "base_uri": "https://localhost:8080/"
    },
    "id": "94fd11b2",
    "outputId": "cd1807da-835a-4f8e-e2d5-60a0151b811d",
    "scrolled": true
   },
   "outputs": [
    {
     "data": {
      "text/plain": [
       "(15930, 4)"
      ]
     },
     "execution_count": 21,
     "metadata": {},
     "output_type": "execute_result"
    }
   ],
   "source": [
    "valid.shape"
   ]
  },
  {
   "cell_type": "code",
   "execution_count": 22,
   "id": "138726f9",
   "metadata": {
    "cellId": "73db8pko8q5zofxdzje9u"
   },
   "outputs": [
    {
     "data": {
      "text/plain": [
       "(14337, 4)"
      ]
     },
     "execution_count": 22,
     "metadata": {},
     "output_type": "execute_result"
    }
   ],
   "source": [
    "test.shape"
   ]
  },
  {
   "cell_type": "markdown",
   "id": "61830d47",
   "metadata": {
    "cellId": "y2e3hzbjble683fslwgtg5",
    "execution_id": "fdeb4fd9-68fd-4a0f-b551-d1ccdd608ad4"
   },
   "source": [
    "<font color='blue'><b>Комментарий ревьюера: </b></font> ✔️\\\n",
    "<font color='green'> Здорово , что у нас есть три выборки!</font>"
   ]
  },
  {
   "cell_type": "markdown",
   "id": "40bc2c96",
   "metadata": {
    "cellId": "ozx197iv0g8dxheuxt04nv",
    "execution_id": "d114b8c2-fffd-4909-8d4e-7ea382466c6e"
   },
   "source": [
    "### Выделение целевых признаков для тренировочной и валидационной выборки"
   ]
  },
  {
   "cell_type": "code",
   "execution_count": 23,
   "id": "6b2bce39",
   "metadata": {
    "cellId": "nz8opr27yxech15xqj1jh"
   },
   "outputs": [
    {
     "data": {
      "text/plain": [
       "10831     0\n",
       "101498    0\n",
       "93397     0\n",
       "36671     0\n",
       "49978     0\n",
       "Name: toxic, dtype: int64"
      ]
     },
     "execution_count": 23,
     "metadata": {},
     "output_type": "execute_result"
    }
   ],
   "source": [
    "y_train = train['toxic']\n",
    "y_train.head()"
   ]
  },
  {
   "cell_type": "code",
   "execution_count": 24,
   "id": "fc32ceaf",
   "metadata": {
    "cellId": "g4och53ati53cajb6a1fr3",
    "id": "e897dca0"
   },
   "outputs": [
    {
     "data": {
      "text/plain": [
       "149182    1\n",
       "120994    0\n",
       "102071    0\n",
       "114282    0\n",
       "110680    0\n",
       "Name: toxic, dtype: int64"
      ]
     },
     "execution_count": 24,
     "metadata": {},
     "output_type": "execute_result"
    }
   ],
   "source": [
    "y_valid = valid['toxic']\n",
    "y_valid.head()"
   ]
  },
  {
   "cell_type": "code",
   "execution_count": 25,
   "id": "d96b99d9",
   "metadata": {
    "cellId": "ybvnbof6qy4ij0hclpodf"
   },
   "outputs": [
    {
     "data": {
      "text/plain": [
       "128267    0\n",
       "96052     1\n",
       "9691      0\n",
       "148662    0\n",
       "59423     1\n",
       "Name: toxic, dtype: int64"
      ]
     },
     "execution_count": 25,
     "metadata": {},
     "output_type": "execute_result"
    }
   ],
   "source": [
    "y_test = test['toxic']\n",
    "y_test.head()"
   ]
  },
  {
   "cell_type": "markdown",
   "id": "8f2edbaf",
   "metadata": {
    "cellId": "po9tigkaxbgtm3thn8kys",
    "execution_id": "37b66ca0-6b22-456c-a2c1-4f52da3e847c"
   },
   "source": [
    "### Изменение балланса классов тренировочной выборки для повышения полноты предсказаний"
   ]
  },
  {
   "cell_type": "code",
   "execution_count": 26,
   "id": "b1e08d42",
   "metadata": {
    "cellId": "8fxw2smdh68kxx97f93gjj"
   },
   "outputs": [],
   "source": [
    "from sklearn.utils import shuffle"
   ]
  },
  {
   "cell_type": "code",
   "execution_count": 27,
   "id": "f19f0111",
   "metadata": {
    "cellId": "o11lgm917zrs1jzkpjb4k"
   },
   "outputs": [],
   "source": [
    "def downsample(features, target, fraction):\n",
    "    features_zeros = features[target == 0]\n",
    "    features_ones = features[target == 1]\n",
    "    target_zeros = target[target == 0]\n",
    "    target_ones = target[target == 1]\n",
    "\n",
    "    features_downsampled = pd.concat(\n",
    "        [features_zeros.sample(frac=fraction, random_state=12345)] + [features_ones])\n",
    "    target_downsampled = pd.concat(\n",
    "        [target_zeros.sample(frac=fraction, random_state=12345)] + [target_ones])\n",
    "    \n",
    "    features_downsampled, target_downsampled = shuffle(\n",
    "        features_downsampled, target_downsampled, random_state=12347)\n",
    "    \n",
    "    return features_downsampled, target_downsampled"
   ]
  },
  {
   "cell_type": "code",
   "execution_count": 28,
   "id": "013cb78e",
   "metadata": {
    "cellId": "nuejwqcqkrhnlmhm3gbi"
   },
   "outputs": [],
   "source": [
    "train_down, y_train_down = downsample(train, y_train, 0.5)"
   ]
  },
  {
   "cell_type": "markdown",
   "id": "334e5aaa",
   "metadata": {
    "cellId": "6ler83ccd0ic401x4c3x7l",
    "execution_id": "3db60b76-3de2-4f62-bb8c-418645e4c369"
   },
   "source": [
    "<font color='blue'><b>Комментарий ревьюера: </b></font> ✔️\\\n",
    "<font color='green'> Отлично, что балансируются только обучающая выборка.</font>"
   ]
  },
  {
   "cell_type": "code",
   "execution_count": 29,
   "id": "63a5d0a5",
   "metadata": {
    "cellId": "pvrgxo4titktsbbhayfj5"
   },
   "outputs": [
    {
     "data": {
      "text/plain": [
       "0    0.815529\n",
       "1    0.184471\n",
       "Name: toxic, dtype: float64"
      ]
     },
     "execution_count": 29,
     "metadata": {},
     "output_type": "execute_result"
    }
   ],
   "source": [
    "y_train_down.value_counts(normalize=True)"
   ]
  },
  {
   "cell_type": "markdown",
   "id": "2885aa9f",
   "metadata": {
    "cellId": "xgzt4q3xm1t59lafhdxxj",
    "execution_id": "ee1673a7-397b-4950-aa80-07742bcf2534",
    "id": "f745b1ff"
   },
   "source": [
    "### Векторизация данных"
   ]
  },
  {
   "cell_type": "markdown",
   "id": "a01fd556",
   "metadata": {
    "cellId": "68xfe7kh9r6yunozhnxbu",
    "execution_id": "b85ad59b-36dd-4b3e-8fd1-77e2531d6103",
    "id": "a38e6ffb"
   },
   "source": [
    "Преобразовываем слова в цифры"
   ]
  },
  {
   "cell_type": "markdown",
   "id": "65fa02bb",
   "metadata": {
    "cellId": "2s4eug73e94rlmheuq05ii",
    "execution_id": "d199984e-2804-4fac-be26-4362b0a4be71"
   },
   "source": [
    "Преобразуем тип данных в юникод"
   ]
  },
  {
   "cell_type": "code",
   "execution_count": 30,
   "id": "36b0ed0d",
   "metadata": {
    "cellId": "cxy3zx33jn59doak5pe8ft"
   },
   "outputs": [],
   "source": [
    "#corpus_train = train_down['clean_words'].values.astype('U')\n",
    "#corpus_train.shape"
   ]
  },
  {
   "cell_type": "code",
   "execution_count": 31,
   "id": "43ee35e5",
   "metadata": {
    "cellId": "dfog23m0ycqjuanti66qc"
   },
   "outputs": [],
   "source": [
    "#corpus_valid = valid['clean_words'].values.astype('U')\n",
    "#corpus_valid.shape"
   ]
  },
  {
   "cell_type": "code",
   "execution_count": 32,
   "id": "b4d10545",
   "metadata": {
    "cellId": "3t9ym9vsgz3zd5lhqyx64"
   },
   "outputs": [],
   "source": [
    "#corpus_test = test['clean_words'].values.astype('U')\n",
    "#corpus_test.shape"
   ]
  },
  {
   "cell_type": "markdown",
   "id": "33fefdbd",
   "metadata": {
    "cellId": "e3umn5lzivjnlz5a1e511",
    "execution_id": "2bd12235-ba43-4b3b-856d-443bca33b8fd"
   },
   "source": [
    "<font color='blue'><b>Комментарий ревьюера: </b></font> ❌\\\n",
    "<font color='red'><s>Приводить тексты к юникоду не имеет смысла, так как тексты в основном на латиннице. Юникод  сильно увеличивает  количество потребляемой памяти.</s></font>"
   ]
  },
  {
   "cell_type": "markdown",
   "id": "7f26c46c",
   "metadata": {
    "cellId": "mjq2zyhr3z8dis6u789e5",
    "execution_id": "275ee547-61d9-4f8b-b182-017a51be9689"
   },
   "source": [
    "<font color='purple'> Сохраню для запоминания"
   ]
  },
  {
   "cell_type": "markdown",
   "id": "31c557f9",
   "metadata": {},
   "source": [
    "<font color='blue'><b>Комментарий ревьюера 2: </b></font> ✔️\\\n",
    "<font color='green'>👍</font>"
   ]
  },
  {
   "cell_type": "markdown",
   "id": "0b33d534",
   "metadata": {
    "cellId": "0edz5g1mnwnwfpuv10ej5",
    "execution_id": "d3cc07ac-79cf-4a4a-b34c-bcdbd01eba33"
   },
   "source": [
    "Векторизация"
   ]
  },
  {
   "cell_type": "code",
   "execution_count": 33,
   "id": "7da53890",
   "metadata": {
    "cellId": "58vhu1rnoifacr7ec6gws"
   },
   "outputs": [],
   "source": [
    "count_tf_idf = TfidfVectorizer()"
   ]
  },
  {
   "cell_type": "code",
   "execution_count": 34,
   "id": "f20aa6fb",
   "metadata": {
    "cellId": "rar10v5akd333syaorzvk"
   },
   "outputs": [
    {
     "data": {
      "text/plain": [
       "<71068x101006 sparse matrix of type '<class 'numpy.float64'>'\n",
       "\twith 2070291 stored elements in Compressed Sparse Row format>"
      ]
     },
     "execution_count": 34,
     "metadata": {},
     "output_type": "execute_result"
    }
   ],
   "source": [
    "x_train = count_tf_idf.fit_transform(train_down['clean_words'])\n",
    "x_train"
   ]
  },
  {
   "cell_type": "code",
   "execution_count": 35,
   "id": "9a08ccb2",
   "metadata": {
    "cellId": "wnywzxubamjfn7jdgoj03"
   },
   "outputs": [
    {
     "data": {
      "text/plain": [
       "<15930x101006 sparse matrix of type '<class 'numpy.float64'>'\n",
       "\twith 461465 stored elements in Compressed Sparse Row format>"
      ]
     },
     "execution_count": 35,
     "metadata": {},
     "output_type": "execute_result"
    }
   ],
   "source": [
    "x_valid = count_tf_idf.transform(valid['clean_words'])\n",
    "x_valid"
   ]
  },
  {
   "cell_type": "code",
   "execution_count": 36,
   "id": "c8def4ae",
   "metadata": {
    "cellId": "xcv8mio6fe9c6lma4c00t6"
   },
   "outputs": [
    {
     "data": {
      "text/plain": [
       "<14337x101006 sparse matrix of type '<class 'numpy.float64'>'\n",
       "\twith 418195 stored elements in Compressed Sparse Row format>"
      ]
     },
     "execution_count": 36,
     "metadata": {},
     "output_type": "execute_result"
    }
   ],
   "source": [
    "x_test = count_tf_idf.transform(test['clean_words'])\n",
    "x_test"
   ]
  },
  {
   "cell_type": "markdown",
   "id": "1128a255",
   "metadata": {
    "cellId": "lr0hs21kau457v2w8xq6c",
    "execution_id": "1ab3d079-87e8-4ced-ab9c-4fed99c5b4b5"
   },
   "source": [
    "<font color='blue'><b>Комментарий ревьюера: </b></font> ✔️\\\n",
    "<font color='green'> Классно, что векторизатор был обучен только на тренировочной части данных!</font>"
   ]
  },
  {
   "cell_type": "markdown",
   "id": "b5434803",
   "metadata": {
    "cellId": "0q9cyj98bg1k517boq1uf",
    "execution_id": "30074fff-7106-4357-bdfd-70702c2155bb"
   },
   "source": [
    "## Обучение логистической регрессии"
   ]
  },
  {
   "cell_type": "code",
   "execution_count": 37,
   "id": "512a3ac1",
   "metadata": {
    "cellId": "jtkatgc89lhv8bhe7j31la",
    "id": "b40cdd0a"
   },
   "outputs": [
    {
     "name": "stdout",
     "output_type": "stream",
     "text": [
      "F1-мера модели : 0.7704413274033527\n",
      "roc_auc модели 0.9712641299390505\n",
      "Accuracy модели: 0.9578782172002511\n",
      "Полнота модели: 0.695491043854231\n",
      "Точность модели: 0.8634969325153374\n",
      "CPU times: user 9.65 s, sys: 19.9 s, total: 29.6 s\n",
      "Wall time: 7.47 s\n"
     ]
    }
   ],
   "source": [
    "%%time\n",
    "model_log = LogisticRegression(random_state=12345)\n",
    "# инициализируйте модель логистической регрессии с параметром random_state=12345\n",
    "model_log.fit(x_train, y_train_down) # обучите модель на тренировочной выборке\n",
    "predictions = model_log.predict(x_valid)\n",
    "F1_log = f1_score(y_valid, predictions) # получите метрику качества модели на валидационной выборке\n",
    "probabilities_valid = model_log.predict_proba(x_valid)\n",
    "probabilities_one_valid = probabilities_valid[:, 1]\n",
    "roc_auc_log = roc_auc_score(y_valid, probabilities_one_valid)\n",
    "rec_log = recall_score(y_valid, predictions)\n",
    "prec_log = precision_score(y_valid, predictions)                       \n",
    "\n",
    "print(\"F1-мера модели :\", F1_log)\n",
    "print(\"roc_auc модели\", roc_auc_log)\n",
    "print(\"Accuracy модели:\", model_log.score(x_valid, y_valid))\n",
    "print(\"Полнота модели:\", rec_log) # сколько единиц мы верно предсказали?\n",
    "print(\"Точность модели:\", prec_log) # сколько нулей мы верно предсказали?"
   ]
  },
  {
   "cell_type": "markdown",
   "id": "64a92c6b",
   "metadata": {
    "cellId": "jqwzrxp6t2bf92w0drpqn",
    "execution_id": "04e15e5b-f015-4de8-801f-f21da8376e89"
   },
   "source": [
    "<font color='blue'><b>Комментарий ревьюера: </b></font> ✔️\\\n",
    "<font color='green'>Верно, что оценка по валидационной выборке, но кроссвалидация даёт более стабильную оценку.</font>"
   ]
  },
  {
   "cell_type": "markdown",
   "id": "00882140",
   "metadata": {
    "cellId": "vvubhekdotmb6xlz5gxl3m",
    "execution_id": "21d87b03-2d45-4703-a206-14bb90c0620e"
   },
   "source": [
    "Баланс класов предсказаний по валидационной выборке"
   ]
  },
  {
   "cell_type": "code",
   "execution_count": 38,
   "id": "4dff9c19",
   "metadata": {
    "cellId": "b93x5t94hkwey3ojcxpfsl",
    "id": "f8f499e0"
   },
   "outputs": [
    {
     "data": {
      "text/plain": [
       "8.185812931575644"
      ]
     },
     "execution_count": 38,
     "metadata": {},
     "output_type": "execute_result"
    }
   ],
   "source": [
    "sum(predictions)/len(predictions) * 100"
   ]
  },
  {
   "cell_type": "markdown",
   "id": "ecfdba86",
   "metadata": {
    "cellId": "ze9du6rtd0nn5jwqp8b8w",
    "execution_id": "4fb017c0-ded3-4ffd-b608-b6019495abac"
   },
   "source": [
    "явно еще не дотягиваем до баланса в 10%, но целевой показатель F1 в 0,75 преодолен"
   ]
  },
  {
   "cell_type": "markdown",
   "id": "ac3d41c6",
   "metadata": {
    "cellId": "3guu5ukvbv7as5g5r6obu9",
    "execution_id": "10e0babe-e1d4-49d3-843c-06a60cb8065a"
   },
   "source": [
    "## Проверим на тестовой выборке, для полной уверенности"
   ]
  },
  {
   "cell_type": "code",
   "execution_count": 39,
   "id": "97d008d1",
   "metadata": {
    "cellId": "n0cgerrkp8sp0hgje259xc"
   },
   "outputs": [],
   "source": [
    "predictions_test = model_log.predict(x_test)"
   ]
  },
  {
   "cell_type": "markdown",
   "id": "78983ee8",
   "metadata": {
    "cellId": "1vnsxcwbd35ka6zkw8wf",
    "execution_id": "c7aebaa1-a984-4459-b2bb-32594b890aa1"
   },
   "source": [
    "F1"
   ]
  },
  {
   "cell_type": "code",
   "execution_count": 40,
   "id": "53c3d088",
   "metadata": {
    "cellId": "r5nvr0rwbai5rrne71zzoj"
   },
   "outputs": [
    {
     "data": {
      "text/plain": [
       "0.7725739977519671"
      ]
     },
     "execution_count": 40,
     "metadata": {},
     "output_type": "execute_result"
    }
   ],
   "source": [
    "f1_score(y_test, predictions_test)"
   ]
  },
  {
   "cell_type": "markdown",
   "id": "0c9a865d",
   "metadata": {
    "cellId": "w2tc8gwwsrqxtdxxr3eks7",
    "execution_id": "93b0d5c9-7471-4c57-b9eb-5a972714df16"
   },
   "source": [
    "Баланс класов предсказаний по тестовой выборке"
   ]
  },
  {
   "cell_type": "code",
   "execution_count": 41,
   "id": "e24046bf",
   "metadata": {
    "cellId": "0th13fpnak4lgbfv6hd83c"
   },
   "outputs": [
    {
     "data": {
      "text/plain": [
       "8.453651391504499"
      ]
     },
     "execution_count": 41,
     "metadata": {},
     "output_type": "execute_result"
    }
   ],
   "source": [
    "sum(predictions_test)/len(predictions_test) * 100"
   ]
  },
  {
   "cell_type": "markdown",
   "id": "7da533ca",
   "metadata": {
    "cellId": "79w89s0bbptnsdzsl766ef",
    "execution_id": "d845c92d-aeba-4317-8844-4789947902bd"
   },
   "source": [
    "Целевой показатель F1 в 0,75 превзойден.\n",
    "\n",
    "повышением качества лемматизации и очистки немного повысили качество предсказаний."
   ]
  },
  {
   "cell_type": "markdown",
   "id": "c0e44313",
   "metadata": {
    "cellId": "t5qip35t0vcvzk6deuaiqm",
    "execution_id": "e51a22bf-43f1-495d-b244-7c1ba369ccd5"
   },
   "source": [
    "<font color='blue'><b>Комментарий ревьюера: </b></font> ✔️\\\n",
    "<font color='green'>Тестирование проведено верно.</font> "
   ]
  },
  {
   "cell_type": "markdown",
   "id": "1343d957",
   "metadata": {
    "cellId": "2e7d979e0kd3r16d2hw1pv",
    "execution_id": "cfff4ba6-0799-4e2c-b60c-93ac914e5fe0"
   },
   "source": [
    "<font color='purple'>Данные до исправлекний: \n",
    "\n",
    "F1-мера модели valid: 0.7678509830976198\n",
    "\n",
    "roc_auc модели 0.9707766357931885\n",
    "\n",
    "Accuracy модели: 0.9577526679221594\n",
    "\n",
    "Полнота модели: 0.6874613959234095\n",
    "\n",
    "Точность модели: 0.86953125\n",
    "\n",
    "F1 test - 0.763416477702192"
   ]
  },
  {
   "cell_type": "markdown",
   "id": "6579ef20",
   "metadata": {
    "cellId": "025qrkk2d3np4x2cgqsf23w",
    "execution_id": "6095f9ae-0aff-419c-852d-b51037a1e217"
   },
   "source": [
    "Вообще для определения тональности текста именно логистическая регрессия показывает отличные результаты. И скорость работы так же имеет значение."
   ]
  },
  {
   "cell_type": "markdown",
   "id": "bf7ba776",
   "metadata": {
    "cellId": "at6lkeamc2n9eq0ucg2hl",
    "execution_id": "37423423-2a39-4eec-9667-0b59751f14e4"
   },
   "source": [
    "## Посмотрим еще на CAT BOOST на валидационной и тестовой выборке"
   ]
  },
  {
   "cell_type": "markdown",
   "id": "fbb25d79",
   "metadata": {
    "cellId": "2rd7m092w9smb8cjrw3ykd",
    "execution_id": "76dffbe6-6e1b-4b17-9704-7bcea5c13298"
   },
   "source": [
    "<font color='purple'>Здесь при обучении локально наблюдаются проблемы с памятью и процессором на ноутбуке, пришлось запускать расчет на Yandex Schere (наблюдается 100% загрузка процессора и использование памяти до 4 гб, на БЕРТ наблюдалось использование памяти до 18 гб - выше этого и яндекс сфера уже выдает проблемы с памятью)\n",
    "    \n",
    "    Для обучения модели видимо так же есть методики разбиения на батчи по строкам и/или сиквенции по столбцам?"
   ]
  },
  {
   "cell_type": "markdown",
   "id": "55e705ba",
   "metadata": {},
   "source": [
    "<font color='blue'><b>Комментарий ревьюера 2: </b></font> ✔️\\\n",
    "<font color='blue'> BERT обучается батчами, CatBoost батчи нужно разбивать вручную. https://catboost.ai/en/docs/concepts/python-usages-examples#batch-training, а можно читать данные из файла, В Catboost есть своя обработка текста https://catboost.ai/en/docs/features/text-features.</font>"
   ]
  },
  {
   "cell_type": "code",
   "execution_count": 42,
   "id": "39df5a36",
   "metadata": {
    "cellId": "4wv3hhiw9mx8olthnxgb1m"
   },
   "outputs": [
    {
     "name": "stdout",
     "output_type": "stream",
     "text": [
      "CPU times: user 41min 39s, sys: 8min 45s, total: 50min 24s\n",
      "Wall time: 16min 28s\n"
     ]
    }
   ],
   "source": [
    "%%time\n",
    "cc = CatBoostClassifier(silent=True, thread_count = -1)\n",
    "model_сс=cc.fit(x_train, y_train_down)"
   ]
  },
  {
   "cell_type": "code",
   "execution_count": 43,
   "id": "0295410b",
   "metadata": {
    "cellId": "295y94psy8qe8mj6d6y54j"
   },
   "outputs": [
    {
     "name": "stdout",
     "output_type": "stream",
     "text": [
      "ROC AUC: 0.968094835328621\n",
      "Полнота: 0.7078443483631871\n",
      "Точность: 0.8629518072289156\n",
      "CPU times: user 1.17 s, sys: 168 ms, total: 1.34 s\n",
      "Wall time: 575 ms\n"
     ]
    }
   ],
   "source": [
    "%%time\n",
    "predictions = model_сс.predict(x_valid)\n",
    "\n",
    "ccpred = cc.predict(x_valid)\n",
    "probabilities_valid_сс = model_сс.predict_proba(x_valid)\n",
    "probabilities_one_valid_сс = probabilities_valid_сс[:, 1]\n",
    "roc_auc_cat = roc_auc_score(y_valid, probabilities_one_valid_сс)\n",
    "rec_cat = recall_score(y_valid, predictions)\n",
    "prec_cat = precision_score(y_valid, predictions)                            \n",
    "\n",
    "print('ROC AUC:', roc_auc_cat)\n",
    "print('Полнота:', rec_cat)\n",
    "print('Точность:', prec_cat)"
   ]
  },
  {
   "cell_type": "code",
   "execution_count": 44,
   "id": "911e2c71",
   "metadata": {
    "cellId": "lw15h43k4bli97ryy1y5s"
   },
   "outputs": [
    {
     "data": {
      "text/plain": [
       "0.7777400746521886"
      ]
     },
     "execution_count": 44,
     "metadata": {},
     "output_type": "execute_result"
    }
   ],
   "source": [
    "f1_score(y_valid, predictions)"
   ]
  },
  {
   "cell_type": "code",
   "execution_count": 46,
   "id": "964cbbcd",
   "metadata": {
    "cellId": "rp0eqev4v58dtn2zb07bo"
   },
   "outputs": [],
   "source": [
    "predictions = model_сс.predict(x_test)"
   ]
  },
  {
   "cell_type": "code",
   "execution_count": 47,
   "id": "72b140ef",
   "metadata": {
    "cellId": "tg04h15svlsqvdxjizwmg"
   },
   "outputs": [
    {
     "data": {
      "text/plain": [
       "0.783376241265171"
      ]
     },
     "execution_count": 47,
     "metadata": {},
     "output_type": "execute_result"
    }
   ],
   "source": [
    "f1_score(y_test, predictions)"
   ]
  },
  {
   "cell_type": "markdown",
   "id": "ec43ffc5",
   "metadata": {
    "cellId": "uglvp3g4r7qjzspvb7w2qj",
    "execution_id": "cf42c3bf-f8c6-42f8-8254-adf80219f45a"
   },
   "source": [
    "<font color='purple'>Данные до исправлений:\n",
    "\n",
    "ROC AUC: 0.9657450229092036\n",
    "\n",
    "\n",
    "Полнота: 0.7004323656578134\n",
    "\n",
    "Точность: 0.858440575321726\n",
    "\n",
    "F1 valid - 0.7714285714285714\n",
    "\n",
    "F1 test - 0.7844155844155845\n"
   ]
  },
  {
   "cell_type": "markdown",
   "id": "585f796c",
   "metadata": {
    "cellId": "glj82355h2584dxqpqmk7c",
    "execution_id": "8e3e138e-bb8b-4454-bfc7-45595aec68a4"
   },
   "source": [
    "Так же весьма уверенно перескочила  целевой показатель в 0.75, но время обучения в 17 минут, против времени обучения логистической регрессии в 8 секунды \n",
    "\n",
    "(кстати исполнение ячеек на яндекс сфере примерно в 2 раза мебленнее чем локально)\n",
    "\n",
    "Тут показатели то же чут чуть подрасли"
   ]
  },
  {
   "cell_type": "markdown",
   "id": "e11c9340",
   "metadata": {
    "cellId": "kaej85kjv2o780p185x2",
    "execution_id": "36a29032-df95-48f7-923a-b016ba3ca80d"
   },
   "source": [
    "<font color='blue'><b>Комментарий ревьюера: </b></font> ✔️\\\n",
    "<font color='green'>👍</font>"
   ]
  },
  {
   "cell_type": "markdown",
   "id": "71686acc",
   "metadata": {
    "cellId": "76besuevtfe2iyzacmslu7",
    "execution_id": "174f456f-bcd6-4497-b295-ac250c57a078"
   },
   "source": [
    "## ROC кривая"
   ]
  },
  {
   "cell_type": "code",
   "execution_count": 48,
   "id": "b051360c",
   "metadata": {
    "cellId": "gubrr2i30c8h1yza8lxkn"
   },
   "outputs": [],
   "source": [
    "from sklearn.metrics import roc_curve "
   ]
  },
  {
   "cell_type": "code",
   "execution_count": 49,
   "id": "fa6b985c",
   "metadata": {
    "cellId": "i22ty7bsn3adq2mdlvp3m"
   },
   "outputs": [],
   "source": [
    "fpr, tpr, thresholds = roc_curve(y_valid, probabilities_one_valid)"
   ]
  },
  {
   "cell_type": "code",
   "execution_count": 50,
   "id": "ca0588ff",
   "metadata": {
    "cellId": "sq7wcov2ar6p6pa51uot9"
   },
   "outputs": [
    {
     "data": {
      "image/png": "[encoded data removed]",
      "text/plain": [
       "<Figure size 432x288 with 1 Axes>"
      ]
     },
     "metadata": {
      "needs_background": "light"
     },
     "output_type": "display_data"
    }
   ],
   "source": [
    "plt.figure()\n",
    "plt.plot(fpr, tpr)\n",
    "plt.plot([0, 1], [0, 1], linestyle='--')\n",
    "plt.xlim([0.0, 1.0])\n",
    "plt.ylim([0.0, 1.0])\n",
    "plt.xlabel('False Positive Rate')\n",
    "plt.ylabel('True Positive Rate')\n",
    "plt.title('ROC-кривая')\n",
    "plt.show() "
   ]
  },
  {
   "cell_type": "markdown",
   "id": "5645ef98",
   "metadata": {
    "cellId": "kkf8dwp73x96lhp9h6z925",
    "execution_id": "5bd709b6-274c-4964-84f5-c25e80287214"
   },
   "source": [
    "Весьма хорошее качество предсказаний"
   ]
  },
  {
   "cell_type": "markdown",
   "id": "72f83800",
   "metadata": {
    "cellId": "gs38z3x019mc72elw6qd6j",
    "execution_id": "6dd528ea-e7d9-4bb7-a33a-00d105df60d9"
   },
   "source": [
    "## Матрица ошибок"
   ]
  },
  {
   "cell_type": "code",
   "execution_count": 51,
   "id": "cc42cf07",
   "metadata": {
    "cellId": "qmlxcjoafk42cmx2aeplh"
   },
   "outputs": [
    {
     "name": "stdout",
     "output_type": "stream",
     "text": [
      "Матрица ошибок работы модели логистической регрессии\n"
     ]
    },
    {
     "data": {
      "image/png": "[encoded data removed]",
      "text/plain": [
       "<Figure size 432x288 with 2 Axes>"
      ]
     },
     "metadata": {
      "needs_background": "light"
     },
     "output_type": "display_data"
    }
   ],
   "source": [
    "print(\"Матрица ошибок работы модели логистической регрессии\")\n",
    "displr = plot_confusion_matrix(model_сс, x_valid, y_valid, cmap=plt.cm.OrRd , values_format='d')"
   ]
  },
  {
   "cell_type": "markdown",
   "id": "e4897332",
   "metadata": {
    "cellId": "p9klk7vvvngseunly50n",
    "execution_id": "6f4c4af6-232e-43b2-bcbb-4acb97ef77f1"
   },
   "source": [
    "Видим что в результате предсказаний модели в работу модератора пришло 182 лишних постов для проверки и 473 постов с негативной тональностью не проходили ручную модерацию.\n",
    "\n",
    "Показатели улучшились (вместо 187 и 485 ранее)"
   ]
  },
  {
   "cell_type": "markdown",
   "id": "bdb9ac88",
   "metadata": {
    "cellId": "lenvru29ovu5n1yf21fqq",
    "execution_id": "fb7522ca-3622-4f49-bd81-0c27358c4929"
   },
   "source": [
    "<font color='blue'><b>Комментарий ревьюера: </b></font> ✔️\\\n",
    "<font color='green'> Отличная визуализация результатов!</font>"
   ]
  },
  {
   "cell_type": "markdown",
   "id": "acf6f1bc",
   "metadata": {
    "cellId": "txqpvxtjc0mvcbmh23csw",
    "execution_id": "5e38a959-4ef2-4855-a4da-73cc7eed5d60"
   },
   "source": [
    "## Выводы и результаты применения TF_IDF"
   ]
  },
  {
   "cell_type": "markdown",
   "id": "6f7725e1",
   "metadata": {
    "cellId": "ni7th3jpigg48410zhhtun",
    "execution_id": "fa023038-2438-4ee9-b7db-30f9fdd13050"
   },
   "source": [
    "* Целевой показатель F1 в 0,75 превзойден с двойной проверкой на валидационной и тестовой выборке\n",
    "\n",
    "* при необходимости повышения полноты предсказаний именно параметра 1, можно еще повышать баланс тренировочной выборки - повышая количество постов с негативной тональностью, но тогда и лишних позитивных постов будет больше падать на проверку.\n",
    "\n",
    "* Логистическая регрессия достаточна для получения необходимых показателей качества обучения и предсказаний"
   ]
  },
  {
   "cell_type": "markdown",
   "id": "12f5f9b7",
   "metadata": {
    "cellId": "2kxq6kex12jrfevhphoos9",
    "execution_id": "7af3371e-915c-42d7-99c9-0002642a1b54"
   },
   "source": [
    "<font color='blue'><b>Комментарий ревьюера: </b></font> ✔️\\\n",
    "<font color='green'> Очень приятно видеть вывод в конце проекта!\\\n",
    "Приведены ответы на главные вопросы проекта.</font>"
   ]
  },
  {
   "cell_type": "markdown",
   "id": "b0b5734d",
   "metadata": {
    "cellId": "gcxrd3umvmoik2n9vzzx7i",
    "execution_id": "9003cf9a-b064-4dac-9b66-09c5a4f62bda",
    "id": "d2802ae6"
   },
   "source": [
    "<font color='blue'><b>Итоговый комментарий ревьюера</b></font>\\\n",
    "<font color='green'>Роман, хороший проект получился!\n",
    "Большое спасибо за проделанную работу. Видно, что приложено много усилий.\n",
    "</font>\n",
    "\n",
    "<font color='blue'>Что нужно исправить:</font>\n",
    "<ul><font color='red'>Не применяй Юникод для текстов на латинице.</font></ul>\n",
    "\n",
    "<font color='purple'> Сделано</font></ul>\n",
    "\n",
    "<font color='blue'>Что можно сделать лучше:</font>\n",
    "<font color='orange'>В работе я оставил несколько советов. Буду рад, если ты учтешь их.</font></ul>\n",
    "\n",
    "<font color='purple'> Сделано. немного улучшились показатели качества предсказаний, Спасибо за подсказки!</font></ul>\n",
    "\n",
    "<font color='blue'><b>Жду новую версию проекта :)</b></font>"
   ]
  },
  {
   "cell_type": "markdown",
   "id": "ad5a3d4a",
   "metadata": {
    "cellId": "wzwogsfpzk6szadd0t5k"
   },
   "source": [
    "<font color='blue'><b>Итоговый комментарий ревьюера 2</b></font>\\\n",
    "<font color='green'> Роман, проект принят! \\\n",
    "Все этапы пройдены. Все рекомендации учтены.\\\n",
    "Надеюсь, тебе понравился процесс выполнения и результат.</font> \\\n",
    "<font color='blue'><b>Спасибо, удачи в освоении профессии!</b></font>"
   ]
  },
  {
   "cell_type": "markdown",
   "id": "a83dda3b",
   "metadata": {},
   "source": [
    "<font color='green'><b>Полезные (и просто интересные) материалы:</b></font> \\\n",
    "Для работы с текстами используют и другие подходы. Например, сейчас активно используются RNN (LSTM) и трансформеры (BERT и другие с улицы Сезам, например, ELMO). НО! Они не являются панацеей, не всегда они нужны, так как и TF-IDF или Word2Vec + модели из классического ML тоже могут справляться. \\\n",
    "BERT тяжелый, существует много его вариаций для разных задач, есть готовые модели, есть надстройки над библиотекой transformers. Если, обучать BERT на GPU (можно в Google Colab или Kaggle), то должно быть побыстрее.\\\n",
    "https://huggingface.co/transformers/model_doc/bert.html \\\n",
    "https://t.me/renat_alimbekov \\\n",
    "https://colah.github.io/posts/2015-08-Understanding-LSTMs/ - Про LSTM \\\n",
    "https://web.stanford.edu/~jurafsky/slp3/10.pdf - про энкодер-декодер модели, этеншены\\\n",
    "https://pytorch.org/tutorials/beginner/transformer_tutorial.html - официальный гайд\n",
    "по трансформеру от создателей pytorch\\\n",
    "https://transformer.huggingface.co/ - поболтать с трансформером \\\n",
    "Библиотеки: allennlp, fairseq, transformers, tensorflow-text — множествореализованных\n",
    "методов для трансформеров методов NLP \\\n",
    "Word2Vec https://radimrehurek.com/gensim/models/word2vec.html \n",
    "\n",
    "<font color='green'>Пример BERT с GPU:\n",
    "```python\n",
    "%%time\n",
    "from tqdm import notebook\n",
    "batch_size = 2 # для примера возьмем такой батч, где будет всего две строки датасета\n",
    "embeddings = [] \n",
    "for i in notebook.tqdm(range(input_ids.shape[0] // batch_size)):\n",
    "        batch = torch.LongTensor(input_ids[batch_size*i:batch_size*(i+1)]).cuda() # закидываем тензор на GPU\n",
    "        attention_mask_batch = torch.LongTensor(attention_mask[batch_size*i:batch_size*(i+1)]).cuda()\n",
    "        \n",
    "        with torch.no_grad():\n",
    "            model.cuda()\n",
    "            batch_embeddings = model(batch, attention_mask=attention_mask_batch)\n",
    "        \n",
    "        embeddings.append(batch_embeddings[0][:,0,:].cpu().numpy()) # перевод обратно на проц, чтобы в нумпай кинуть\n",
    "        del batch\n",
    "        del attention_mask_batch\n",
    "        del batch_embeddings\n",
    "        \n",
    "features = np.concatenate(embeddings) \n",
    "```\n",
    "Можно сделать предварительную проверку на наличие GPU.\\\n",
    "Например, так: ```device = torch.device(\"cuda:0\") if torch.cuda.is_available() else torch.device(\"cpu\")```\\\n",
    "Тогда вместо .cuda() нужно писать .to(device)\n",
    "\n",
    "Если понравилась работа с текстами, то можешь посмотреть очень интересный (но очень-очень сложный) курс лекций: https://github.com/yandexdataschool/nlp_course .\n",
    "</font>"
   ]
  }
 ],
 "metadata": {
  "ExecuteTimeLog": [
   {
    "duration": 9500,
    "start_time": "2022-09-18T08:00:14.712Z"
   },
   {
    "duration": 6,
    "start_time": "2022-09-18T08:00:24.215Z"
   },
   {
    "duration": 3919,
    "start_time": "2022-09-18T08:00:24.223Z"
   },
   {
    "duration": 7,
    "start_time": "2022-09-18T08:00:28.144Z"
   },
   {
    "duration": 28,
    "start_time": "2022-09-18T08:00:28.152Z"
   },
   {
    "duration": 40,
    "start_time": "2022-09-18T08:00:28.182Z"
   },
   {
    "duration": 139666,
    "start_time": "2022-09-18T08:00:28.224Z"
   },
   {
    "duration": 9,
    "start_time": "2022-09-18T08:02:47.902Z"
   },
   {
    "duration": 15189,
    "start_time": "2022-09-18T08:02:47.912Z"
   },
   {
    "duration": 8,
    "start_time": "2022-09-18T08:03:03.105Z"
   },
   {
    "duration": 119,
    "start_time": "2022-09-18T08:03:03.114Z"
   },
   {
    "duration": 84,
    "start_time": "2022-09-18T08:03:03.234Z"
   },
   {
    "duration": 5,
    "start_time": "2022-09-18T08:03:03.319Z"
   },
   {
    "duration": 9,
    "start_time": "2022-09-18T08:03:03.325Z"
   },
   {
    "duration": 8,
    "start_time": "2022-09-18T08:03:03.336Z"
   },
   {
    "duration": 15,
    "start_time": "2022-09-18T08:03:03.346Z"
   },
   {
    "duration": 16,
    "start_time": "2022-09-18T08:03:03.362Z"
   },
   {
    "duration": 32,
    "start_time": "2022-09-18T08:03:03.379Z"
   },
   {
    "duration": 6,
    "start_time": "2022-09-18T08:03:03.413Z"
   },
   {
    "duration": 5,
    "start_time": "2022-09-18T08:03:03.421Z"
   },
   {
    "duration": 7,
    "start_time": "2022-09-18T08:03:03.428Z"
   },
   {
    "duration": 156,
    "start_time": "2022-09-18T08:03:03.437Z"
   },
   {
    "duration": 7,
    "start_time": "2022-09-18T08:03:03.598Z"
   },
   {
    "duration": 16,
    "start_time": "2022-09-18T08:03:03.607Z"
   },
   {
    "duration": 14,
    "start_time": "2022-09-18T08:03:03.625Z"
   },
   {
    "duration": 10,
    "start_time": "2022-09-18T08:03:03.641Z"
   },
   {
    "duration": 15,
    "start_time": "2022-09-18T08:03:03.653Z"
   },
   {
    "duration": 2675,
    "start_time": "2022-09-18T08:03:03.671Z"
   },
   {
    "duration": 559,
    "start_time": "2022-09-18T08:03:06.348Z"
   },
   {
    "duration": 547,
    "start_time": "2022-09-18T08:03:06.909Z"
   },
   {
    "duration": 36551,
    "start_time": "2022-09-18T08:03:07.458Z"
   },
   {
    "duration": 5,
    "start_time": "2022-09-18T08:07:51.765Z"
   },
   {
    "duration": 6,
    "start_time": "2022-09-18T08:07:54.311Z"
   },
   {
    "duration": 11,
    "start_time": "2022-09-18T08:07:59.519Z"
   },
   {
    "duration": 6,
    "start_time": "2022-09-18T08:08:06.762Z"
   }
  ],
  "accelerator": "GPU",
  "colab": {
   "collapsed_sections": [
    "09dac631"
   ],
   "provenance": []
  },
  "gpuClass": "standard",
  "kernelspec": {
   "display_name": "Python 3 (ipykernel)",
   "language": "python",
   "name": "python3"
  },
  "language_info": {
   "codemirror_mode": {
    "name": "ipython",
    "version": 3
   },
   "file_extension": ".py",
   "mimetype": "text/x-python",
   "name": "python",
   "nbconvert_exporter": "python",
   "pygments_lexer": "ipython3",
   "version": "3.9.5"
  },
  "notebookId": "0938e827-d799-4da4-9d86-74fb51a74f78",
  "notebookPath": "18_toxic_tweets_tf_idf_check.ipynb",
  "toc": {
   "base_numbering": 1,
   "nav_menu": {},
   "number_sections": true,
   "sideBar": true,
   "skip_h1_title": false,
   "title_cell": "Table of Contents",
   "title_sidebar": "Contents",
   "toc_cell": true,
   "toc_position": {
    "height": "calc(100% - 180px)",
    "left": "10px",
    "top": "150px",
    "width": "189.812px"
   },
   "toc_section_display": true,
   "toc_window_display": true
  }
 },
 "nbformat": 4,
 "nbformat_minor": 5
}
