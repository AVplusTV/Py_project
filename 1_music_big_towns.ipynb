{
 "cells": [
  {
   "cell_type": "markdown",
   "metadata": {
    "toc": true
   },
   "source": [
    "<h1>Table of Contents<span class=\"tocSkip\"></span></h1>\n",
    "<div class=\"toc\"><ul class=\"toc-item\"><li><span><a href=\"#Обзор-данных\" data-toc-modified-id=\"Обзор-данных-1\"><span class=\"toc-item-num\">1&nbsp;&nbsp;</span>Обзор данных</a></span></li><li><span><a href=\"#Предобработка-данных\" data-toc-modified-id=\"Предобработка-данных-2\"><span class=\"toc-item-num\">2&nbsp;&nbsp;</span>Предобработка данных</a></span><ul class=\"toc-item\"><li><span><a href=\"#Удаляем-лишний-столбец\" data-toc-modified-id=\"Удаляем-лишний-столбец-2.1\"><span class=\"toc-item-num\">2.1&nbsp;&nbsp;</span>Удаляем лишний столбец</a></span></li><li><span><a href=\"#Стиль-заголовков\" data-toc-modified-id=\"Стиль-заголовков-2.2\"><span class=\"toc-item-num\">2.2&nbsp;&nbsp;</span>Стиль заголовков</a></span></li><li><span><a href=\"#Пропуски-значений\" data-toc-modified-id=\"Пропуски-значений-2.3\"><span class=\"toc-item-num\">2.3&nbsp;&nbsp;</span>Пропуски значений</a></span></li><li><span><a href=\"#Дубликаты\" data-toc-modified-id=\"Дубликаты-2.4\"><span class=\"toc-item-num\">2.4&nbsp;&nbsp;</span>Дубликаты</a></span></li></ul></li><li><span><a href=\"#Проверка-гипотез\" data-toc-modified-id=\"Проверка-гипотез-3\"><span class=\"toc-item-num\">3&nbsp;&nbsp;</span>Проверка гипотез</a></span><ul class=\"toc-item\"><li><span><a href=\"#Сравнение-поведения-пользователей-двух-столиц\" data-toc-modified-id=\"Сравнение-поведения-пользователей-двух-столиц-3.1\"><span class=\"toc-item-num\">3.1&nbsp;&nbsp;</span>Сравнение поведения пользователей двух столиц</a></span></li><li><span><a href=\"#Музыка-в-начале-и-в-конце-недели\" data-toc-modified-id=\"Музыка-в-начале-и-в-конце-недели-3.2\"><span class=\"toc-item-num\">3.2&nbsp;&nbsp;</span>Музыка в начале и в конце недели</a></span></li><li><span><a href=\"#Жанровые-предпочтения-в-Москве-и-Петербурге\" data-toc-modified-id=\"Жанровые-предпочтения-в-Москве-и-Петербурге-3.3\"><span class=\"toc-item-num\">3.3&nbsp;&nbsp;</span>Жанровые предпочтения в Москве и Петербурге</a></span></li></ul></li><li><span><a href=\"#Итоги-исследования\" data-toc-modified-id=\"Итоги-исследования-4\"><span class=\"toc-item-num\">4&nbsp;&nbsp;</span>Итоги исследования</a></span></li></ul></div>"
   ]
  },
  {
   "cell_type": "markdown",
   "metadata": {},
   "source": [
    "<div class=\"alert alert-info\">\n",
    "<h2> Комментарий от ревьюера<a class=\"tocSkip\"></a></h2>\n",
    "Привет. Меня зовут Алина Гусева, я буду делать ревью к твоей работе по базовому питону. В дальнейшем предлагаю общаться на \"ты\".\n",
    "    \n",
    "Видно, что ты старался, делая проект. Все ключевые этапы проекта выполнены, в целом тебе удалось со всем справиться. Особенно хочется отметить, что соблюдена структура проекта, а код написан аккуратно.\n",
    "    \n",
    "Для того, чтобы и тебе и мне удобнее было ориентироваться в комментариях, я буду помечать их разными цветами:\n",
    "- красный цвет означает комментарии, которые требуют доработки. Как только ты их исправишь - проект будет принят;\n",
    "- желтый цвет - то, что в следующий раз можно будет сделать по-другому. На твое усмотрение можешь доделать маленькие правки сейчас или учесть замечание для выполнения следующих проектов;\n",
    "- зеленый цвет - очень элегантные и удачные решение, которые желательно использовать в дальнейшей работе.\n",
    "- синий цвет - информация\n",
    "    \n",
    "Предлагаю работать над проектом в диалоге: если ты что-то изменяешь или вносишь какие-то коррективы - выделяй это каким-нибудь цветом и пиши об этом мне. Так мне гораздо легче будет отследить сделанные изменения.\n",
    "    \n",
    "Также попрошу тебя не изменять и не удалять мои комментарии, чтобы проверка твоего самостоятельного проекта прошла оперативнее.\n",
    "    \n",
    " \n",
    "</div>"
   ]
  },
  {
   "cell_type": "markdown",
   "metadata": {
    "id": "E0vqbgi9ay0H"
   },
   "source": [
    "# Яндекс.Музыка"
   ]
  },
  {
   "cell_type": "markdown",
   "metadata": {
    "id": "VUC88oWjTJw2"
   },
   "source": [
    "Сравнение Москвы и Петербурга окружено мифами. Например:\n",
    " * Москва — мегаполис, подчинённый жёсткому ритму рабочей недели;\n",
    " * Петербург — культурная столица, со своими вкусами.\n",
    "\n",
    "На данных Яндекс.Музыки вы сравните поведение пользователей двух столиц.\n",
    "\n",
    "**Цель исследования** — проверьте три гипотезы:\n",
    "1. Активность пользователей зависит от дня недели. Причём в Москве и Петербурге это проявляется по-разному.\n",
    "2. В понедельник утром в Москве преобладают одни жанры, а в Петербурге — другие. Так же и вечером пятницы преобладают разные жанры — в зависимости от города. \n",
    "3. Москва и Петербург предпочитают разные жанры музыки. В Москве чаще слушают поп-музыку, в Петербурге — русский рэп.\n",
    "\n",
    "**Ход исследования**\n",
    "\n",
    "Данные о поведении пользователей вы получите из файла `yandex_music_project.csv`. О качестве данных ничего не известно. Поэтому перед проверкой гипотез понадобится обзор данных. \n",
    "\n",
    "Вы проверите данные на ошибки и оцените их влияние на исследование. Затем, на этапе предобработки вы поищете возможность исправить самые критичные ошибки данных.\n",
    " \n",
    "Таким образом, исследование пройдёт в три этапа:\n",
    " 1. Обзор данных.\n",
    " 2. Предобработка данных.\n",
    " 3. Проверка гипотез.\n",
    "\n"
   ]
  },
  {
   "cell_type": "markdown",
   "metadata": {
    "id": "Ml1hmfXC_Zcs"
   },
   "source": [
    "## Обзор данных\n",
    "\n",
    "Составьте первое представление о данных Яндекс.Музыки.\n",
    "\n",
    "\n"
   ]
  },
  {
   "cell_type": "markdown",
   "metadata": {
    "id": "57eAOGIz_Zcs"
   },
   "source": [
    "Основной инструмент аналитика — `pandas`. Импортируйте эту библиотеку."
   ]
  },
  {
   "cell_type": "code",
   "execution_count": 1,
   "metadata": {
    "id": "AXN7PHPN_Zcs"
   },
   "outputs": [],
   "source": [
    "import pandas as pd # импорт библиотеки pandas"
   ]
  },
  {
   "cell_type": "markdown",
   "metadata": {},
   "source": [
    "<div class=\"alert alert-success\">\n",
    "<h2> Комментарий от ревьюера<a class=\"tocSkip\"></a></h2>\n",
    "Очень здорово, что ты используешь сокращение pd для Pandas, это общепринятое сокращение для этой библиотеки для удобной дальнейшей работы.\n",
    "</div>\n"
   ]
  },
  {
   "cell_type": "markdown",
   "metadata": {
    "id": "SG23P8tt_Zcs"
   },
   "source": [
    "Прочитайте файл `yandex_music_project.csv` из папки `/datasets` и сохраните его в переменной `df`:"
   ]
  },
  {
   "cell_type": "code",
   "execution_count": 2,
   "metadata": {
    "id": "fFVu7vqh_Zct"
   },
   "outputs": [],
   "source": [
    "df = pd.read_csv('datasets/yandex_music_project.csv') # чтение файла с данными (Win10) и сохранение в df"
   ]
  },
  {
   "cell_type": "markdown",
   "metadata": {
    "id": "rDoOMd3uTqnZ"
   },
   "source": [
    "Выведите на экран первые десять строк таблицы:"
   ]
  },
  {
   "cell_type": "code",
   "execution_count": 3,
   "metadata": {
    "id": "oWTVX3gW_Zct"
   },
   "outputs": [
    {
     "data": {
      "text/html": [
       "<div>\n",
       "<style scoped>\n",
       "    .dataframe tbody tr th:only-of-type {\n",
       "        vertical-align: middle;\n",
       "    }\n",
       "\n",
       "    .dataframe tbody tr th {\n",
       "        vertical-align: top;\n",
       "    }\n",
       "\n",
       "    .dataframe thead th {\n",
       "        text-align: right;\n",
       "    }\n",
       "</style>\n",
       "<table border=\"1\" class=\"dataframe\">\n",
       "  <thead>\n",
       "    <tr style=\"text-align: right;\">\n",
       "      <th></th>\n",
       "      <th>Unnamed: 0</th>\n",
       "      <th>userID</th>\n",
       "      <th>Track</th>\n",
       "      <th>artist</th>\n",
       "      <th>genre</th>\n",
       "      <th>City</th>\n",
       "      <th>time</th>\n",
       "      <th>Day</th>\n",
       "    </tr>\n",
       "  </thead>\n",
       "  <tbody>\n",
       "    <tr>\n",
       "      <th>0</th>\n",
       "      <td>0</td>\n",
       "      <td>FFB692EC</td>\n",
       "      <td>Kamigata To Boots</td>\n",
       "      <td>The Mass Missile</td>\n",
       "      <td>rock</td>\n",
       "      <td>Saint-Petersburg</td>\n",
       "      <td>20:28:33</td>\n",
       "      <td>Wednesday</td>\n",
       "    </tr>\n",
       "    <tr>\n",
       "      <th>1</th>\n",
       "      <td>1</td>\n",
       "      <td>55204538</td>\n",
       "      <td>Delayed Because of Accident</td>\n",
       "      <td>Andreas Rönnberg</td>\n",
       "      <td>rock</td>\n",
       "      <td>Moscow</td>\n",
       "      <td>14:07:09</td>\n",
       "      <td>Friday</td>\n",
       "    </tr>\n",
       "    <tr>\n",
       "      <th>2</th>\n",
       "      <td>2</td>\n",
       "      <td>20EC38</td>\n",
       "      <td>Funiculì funiculà</td>\n",
       "      <td>Mario Lanza</td>\n",
       "      <td>pop</td>\n",
       "      <td>Saint-Petersburg</td>\n",
       "      <td>20:58:07</td>\n",
       "      <td>Wednesday</td>\n",
       "    </tr>\n",
       "    <tr>\n",
       "      <th>3</th>\n",
       "      <td>3</td>\n",
       "      <td>A3DD03C9</td>\n",
       "      <td>Dragons in the Sunset</td>\n",
       "      <td>Fire + Ice</td>\n",
       "      <td>folk</td>\n",
       "      <td>Saint-Petersburg</td>\n",
       "      <td>08:37:09</td>\n",
       "      <td>Monday</td>\n",
       "    </tr>\n",
       "    <tr>\n",
       "      <th>4</th>\n",
       "      <td>4</td>\n",
       "      <td>E2DC1FAE</td>\n",
       "      <td>Soul People</td>\n",
       "      <td>Space Echo</td>\n",
       "      <td>dance</td>\n",
       "      <td>Moscow</td>\n",
       "      <td>08:34:34</td>\n",
       "      <td>Monday</td>\n",
       "    </tr>\n",
       "    <tr>\n",
       "      <th>5</th>\n",
       "      <td>5</td>\n",
       "      <td>842029A1</td>\n",
       "      <td>Преданная</td>\n",
       "      <td>IMPERVTOR</td>\n",
       "      <td>rusrap</td>\n",
       "      <td>Saint-Petersburg</td>\n",
       "      <td>13:09:41</td>\n",
       "      <td>Friday</td>\n",
       "    </tr>\n",
       "    <tr>\n",
       "      <th>6</th>\n",
       "      <td>6</td>\n",
       "      <td>4CB90AA5</td>\n",
       "      <td>True</td>\n",
       "      <td>Roman Messer</td>\n",
       "      <td>dance</td>\n",
       "      <td>Moscow</td>\n",
       "      <td>13:00:07</td>\n",
       "      <td>Wednesday</td>\n",
       "    </tr>\n",
       "    <tr>\n",
       "      <th>7</th>\n",
       "      <td>7</td>\n",
       "      <td>F03E1C1F</td>\n",
       "      <td>Feeling This Way</td>\n",
       "      <td>Polina Griffith</td>\n",
       "      <td>dance</td>\n",
       "      <td>Moscow</td>\n",
       "      <td>20:47:49</td>\n",
       "      <td>Wednesday</td>\n",
       "    </tr>\n",
       "    <tr>\n",
       "      <th>8</th>\n",
       "      <td>8</td>\n",
       "      <td>8FA1D3BE</td>\n",
       "      <td>И вновь продолжается бой</td>\n",
       "      <td>NaN</td>\n",
       "      <td>ruspop</td>\n",
       "      <td>Moscow</td>\n",
       "      <td>09:17:40</td>\n",
       "      <td>Friday</td>\n",
       "    </tr>\n",
       "    <tr>\n",
       "      <th>9</th>\n",
       "      <td>9</td>\n",
       "      <td>E772D5C0</td>\n",
       "      <td>Pessimist</td>\n",
       "      <td>NaN</td>\n",
       "      <td>dance</td>\n",
       "      <td>Saint-Petersburg</td>\n",
       "      <td>21:20:49</td>\n",
       "      <td>Wednesday</td>\n",
       "    </tr>\n",
       "  </tbody>\n",
       "</table>\n",
       "</div>"
      ],
      "text/plain": [
       "   Unnamed: 0    userID                        Track            artist  \\\n",
       "0           0  FFB692EC            Kamigata To Boots  The Mass Missile   \n",
       "1           1  55204538  Delayed Because of Accident  Andreas Rönnberg   \n",
       "2           2    20EC38            Funiculì funiculà       Mario Lanza   \n",
       "3           3  A3DD03C9        Dragons in the Sunset        Fire + Ice   \n",
       "4           4  E2DC1FAE                  Soul People        Space Echo   \n",
       "5           5  842029A1                    Преданная         IMPERVTOR   \n",
       "6           6  4CB90AA5                         True      Roman Messer   \n",
       "7           7  F03E1C1F             Feeling This Way   Polina Griffith   \n",
       "8           8  8FA1D3BE     И вновь продолжается бой               NaN   \n",
       "9           9  E772D5C0                    Pessimist               NaN   \n",
       "\n",
       "    genre            City        time        Day  \n",
       "0    rock  Saint-Petersburg  20:28:33  Wednesday  \n",
       "1    rock            Moscow  14:07:09     Friday  \n",
       "2     pop  Saint-Petersburg  20:58:07  Wednesday  \n",
       "3    folk  Saint-Petersburg  08:37:09     Monday  \n",
       "4   dance            Moscow  08:34:34     Monday  \n",
       "5  rusrap  Saint-Petersburg  13:09:41     Friday  \n",
       "6   dance            Moscow  13:00:07  Wednesday  \n",
       "7   dance            Moscow  20:47:49  Wednesday  \n",
       "8  ruspop            Moscow  09:17:40     Friday  \n",
       "9   dance  Saint-Petersburg  21:20:49  Wednesday  "
      ]
     },
     "metadata": {},
     "output_type": "display_data"
    }
   ],
   "source": [
    "display(df.head(10)) # получение первых 10 строк таблицы df"
   ]
  },
  {
   "cell_type": "markdown",
   "metadata": {
    "id": "EO73Kwic_Zct"
   },
   "source": [
    "Одной командой получить общую информацию о таблице:"
   ]
  },
  {
   "cell_type": "code",
   "execution_count": 4,
   "metadata": {
    "id": "DSf2kIb-_Zct"
   },
   "outputs": [
    {
     "name": "stdout",
     "output_type": "stream",
     "text": [
      "<class 'pandas.core.frame.DataFrame'>\n",
      "RangeIndex: 65079 entries, 0 to 65078\n",
      "Data columns (total 8 columns):\n",
      " #   Column      Non-Null Count  Dtype \n",
      "---  ------      --------------  ----- \n",
      " 0   Unnamed: 0  65079 non-null  int64 \n",
      " 1     userID    65079 non-null  object\n",
      " 2   Track       63848 non-null  object\n",
      " 3   artist      57876 non-null  object\n",
      " 4   genre       63881 non-null  object\n",
      " 5     City      65079 non-null  object\n",
      " 6   time        65079 non-null  object\n",
      " 7   Day         65079 non-null  object\n",
      "dtypes: int64(1), object(7)\n",
      "memory usage: 4.0+ MB\n"
     ]
    }
   ],
   "source": [
    "df.info() # получение общей информации о данных в таблице df"
   ]
  },
  {
   "cell_type": "markdown",
   "metadata": {
    "id": "TaQ2Iwbr_Zct"
   },
   "source": [
    "Итак, в таблице восемь столбцов. Тип данных во всех столбцах — `object`, кроме столбца `Unnamed: 0` - тип `int64`.\n",
    "\n",
    "Согласно документации к данным:\n",
    "* `Unnamed: 0` - неизвестный столбец, не прописанный в документации\n",
    "* `userID` — идентификатор пользователя;\n",
    "* `Track` — название трека;  \n",
    "* `artist` — имя исполнителя;\n",
    "* `genre` — название жанра;\n",
    "* `City` — город пользователя;\n",
    "* `time` — время начала прослушивания;\n",
    "* `Day` — день недели.\n",
    "\n",
    "В названиях колонок видны три нарушения стиля:\n",
    "1. Строчные буквы сочетаются с прописными.\n",
    "2. Встречаются пробелы.\n",
    "3. Используется стиль camelCase\n",
    "\n",
    "\n",
    "\n",
    "\n",
    "Количество значений в столбцах различается. Значит, в данных есть пропущенные значения.\n"
   ]
  },
  {
   "cell_type": "markdown",
   "metadata": {},
   "source": [
    "<div class=\"alert alert-success\">\n",
    "<h2> Комментарий от ревьюера<a class=\"tocSkip\"></a></h2>\n",
    "Отлично, ты верно заметил, что названия столбцов написаны в разном стиле. На будущее старайся использовать именно snake_case, это считается хорошим тоном.\n",
    "</div>\n"
   ]
  },
  {
   "cell_type": "markdown",
   "metadata": {
    "id": "MCB6-dXG_Zct"
   },
   "source": [
    "**Выводы**\n",
    "\n",
    "Требуется удалить лишний столбец `Unnamed: 0`, так как он дублирует индексы строк таблицы\n",
    "\n",
    "В каждой строке таблицы — данные о прослушанном треке. Часть колонок описывает саму композицию: название, исполнителя и жанр. Остальные данные рассказывают о пользователе: из какого он города, когда он слушал музыку. \n",
    "\n",
    "Предварительно можно утверждать, что, данных достаточно для проверки гипотез. Но встречаются пропуски в данных, а в названиях колонок — расхождения с хорошим стилем.\n",
    "\n",
    "Чтобы двигаться дальше, нужно устранить проблемы в данных."
   ]
  },
  {
   "cell_type": "markdown",
   "metadata": {
    "id": "SjYF6Ub9_Zct"
   },
   "source": [
    "## Предобработка данных\n",
    "Удаляем лишний столбец, Исправляем стили в заголовках столбцов, исключаем пропуски. Затем проверяем данные на дубликаты."
   ]
  },
  {
   "cell_type": "markdown",
   "metadata": {},
   "source": [
    "### Удаляем лишний столбец"
   ]
  },
  {
   "cell_type": "code",
   "execution_count": 5,
   "metadata": {},
   "outputs": [],
   "source": [
    "df = df.drop(['Unnamed: 0'], axis=1)"
   ]
  },
  {
   "cell_type": "markdown",
   "metadata": {},
   "source": [
    "Проверим удалился ли столбец:"
   ]
  },
  {
   "cell_type": "code",
   "execution_count": 6,
   "metadata": {},
   "outputs": [
    {
     "data": {
      "text/html": [
       "<div>\n",
       "<style scoped>\n",
       "    .dataframe tbody tr th:only-of-type {\n",
       "        vertical-align: middle;\n",
       "    }\n",
       "\n",
       "    .dataframe tbody tr th {\n",
       "        vertical-align: top;\n",
       "    }\n",
       "\n",
       "    .dataframe thead th {\n",
       "        text-align: right;\n",
       "    }\n",
       "</style>\n",
       "<table border=\"1\" class=\"dataframe\">\n",
       "  <thead>\n",
       "    <tr style=\"text-align: right;\">\n",
       "      <th></th>\n",
       "      <th>userID</th>\n",
       "      <th>Track</th>\n",
       "      <th>artist</th>\n",
       "      <th>genre</th>\n",
       "      <th>City</th>\n",
       "      <th>time</th>\n",
       "      <th>Day</th>\n",
       "    </tr>\n",
       "  </thead>\n",
       "  <tbody>\n",
       "    <tr>\n",
       "      <th>0</th>\n",
       "      <td>FFB692EC</td>\n",
       "      <td>Kamigata To Boots</td>\n",
       "      <td>The Mass Missile</td>\n",
       "      <td>rock</td>\n",
       "      <td>Saint-Petersburg</td>\n",
       "      <td>20:28:33</td>\n",
       "      <td>Wednesday</td>\n",
       "    </tr>\n",
       "    <tr>\n",
       "      <th>1</th>\n",
       "      <td>55204538</td>\n",
       "      <td>Delayed Because of Accident</td>\n",
       "      <td>Andreas Rönnberg</td>\n",
       "      <td>rock</td>\n",
       "      <td>Moscow</td>\n",
       "      <td>14:07:09</td>\n",
       "      <td>Friday</td>\n",
       "    </tr>\n",
       "    <tr>\n",
       "      <th>2</th>\n",
       "      <td>20EC38</td>\n",
       "      <td>Funiculì funiculà</td>\n",
       "      <td>Mario Lanza</td>\n",
       "      <td>pop</td>\n",
       "      <td>Saint-Petersburg</td>\n",
       "      <td>20:58:07</td>\n",
       "      <td>Wednesday</td>\n",
       "    </tr>\n",
       "    <tr>\n",
       "      <th>3</th>\n",
       "      <td>A3DD03C9</td>\n",
       "      <td>Dragons in the Sunset</td>\n",
       "      <td>Fire + Ice</td>\n",
       "      <td>folk</td>\n",
       "      <td>Saint-Petersburg</td>\n",
       "      <td>08:37:09</td>\n",
       "      <td>Monday</td>\n",
       "    </tr>\n",
       "    <tr>\n",
       "      <th>4</th>\n",
       "      <td>E2DC1FAE</td>\n",
       "      <td>Soul People</td>\n",
       "      <td>Space Echo</td>\n",
       "      <td>dance</td>\n",
       "      <td>Moscow</td>\n",
       "      <td>08:34:34</td>\n",
       "      <td>Monday</td>\n",
       "    </tr>\n",
       "  </tbody>\n",
       "</table>\n",
       "</div>"
      ],
      "text/plain": [
       "     userID                        Track            artist  genre  \\\n",
       "0  FFB692EC            Kamigata To Boots  The Mass Missile   rock   \n",
       "1  55204538  Delayed Because of Accident  Andreas Rönnberg   rock   \n",
       "2    20EC38            Funiculì funiculà       Mario Lanza    pop   \n",
       "3  A3DD03C9        Dragons in the Sunset        Fire + Ice   folk   \n",
       "4  E2DC1FAE                  Soul People        Space Echo  dance   \n",
       "\n",
       "             City        time        Day  \n",
       "0  Saint-Petersburg  20:28:33  Wednesday  \n",
       "1            Moscow  14:07:09     Friday  \n",
       "2  Saint-Petersburg  20:58:07  Wednesday  \n",
       "3  Saint-Petersburg  08:37:09     Monday  \n",
       "4            Moscow  08:34:34     Monday  "
      ]
     },
     "execution_count": 6,
     "metadata": {},
     "output_type": "execute_result"
    }
   ],
   "source": [
    "df.head(5)"
   ]
  },
  {
   "cell_type": "markdown",
   "metadata": {},
   "source": [
    "да все нормально"
   ]
  },
  {
   "cell_type": "markdown",
   "metadata": {
    "id": "dIaKXr29_Zct"
   },
   "source": [
    "### Стиль заголовков\n",
    "Выведите на экран названия столбцов:"
   ]
  },
  {
   "cell_type": "code",
   "execution_count": 7,
   "metadata": {
    "id": "oKOTdF_Q_Zct"
   },
   "outputs": [
    {
     "name": "stdout",
     "output_type": "stream",
     "text": [
      "Index(['  userID', 'Track', 'artist', 'genre', '  City  ', 'time', 'Day'], dtype='object')\n"
     ]
    }
   ],
   "source": [
    "print(df.columns) # перечень названий столбцов таблицы df"
   ]
  },
  {
   "cell_type": "markdown",
   "metadata": {
    "id": "zj5534cv_Zct"
   },
   "source": [
    "Приведите названия в соответствие с хорошим стилем:\n",
    "* несколько слов в названии запишите в «змеином_регистре»,\n",
    "* все символы сделайте строчными,\n",
    "* устраните пробелы.\n",
    "\n",
    "Для этого переименуйте колонки так:\n",
    "* `'  userID'` → `'user_id'`;\n",
    "* `'Track'` → `'track'`;\n",
    "* `'  City  '` → `'city'`;\n",
    "* `'Day'` → `'day'`.\n",
    "\n",
    "хотя мне кажется правильнее:\n",
    "['user_id','track','artist','genre','city','start_time','week_day']"
   ]
  },
  {
   "cell_type": "code",
   "execution_count": 8,
   "metadata": {
    "id": "ISlFqs5y_Zct"
   },
   "outputs": [],
   "source": [
    "df.set_axis(['user_id','track','artist','genre','city','start_time','week_day'],axis = 'columns',inplace = True)\n",
    "# вариант выше замены столбцов как то больше нравится по причине полного вида всех столбцов\n",
    "# в отличии от df = df.rename(columns={'  userID': 'user_id', 'Track': track', and so on...})\n",
    "# вдруг когда нибудь понадобится переименовать конкретный столбец тогда Edit -> Find and Replaсe "
   ]
  },
  {
   "cell_type": "markdown",
   "metadata": {},
   "source": [
    "<div class=\"alert alert-info\">\n",
    "<h2> Комментарий от ревьюера<a class=\"tocSkip\"></a></h2>\n",
    "Да, с помощью set_axis ты можешь переименовать столбцы, но минус этого способа в том, что ты должен прописывать все столбцы. А с помощью метода rename можно переименовать конкретные столбцы.\n",
    "</div>\n"
   ]
  },
  {
   "cell_type": "markdown",
   "metadata": {
    "id": "1dqbh00J_Zct"
   },
   "source": [
    "Проверьте результат. Для этого ещё раз выведите на экран названия столбцов:"
   ]
  },
  {
   "cell_type": "code",
   "execution_count": 9,
   "metadata": {
    "id": "d4NOAmTW_Zct"
   },
   "outputs": [
    {
     "name": "stdout",
     "output_type": "stream",
     "text": [
      "Index(['user_id', 'track', 'artist', 'genre', 'city', 'start_time',\n",
      "       'week_day'],\n",
      "      dtype='object')\n"
     ]
    }
   ],
   "source": [
    "print(df.columns) # проверка результатов - перечень названий столбцов"
   ]
  },
  {
   "cell_type": "markdown",
   "metadata": {
    "id": "5ISfbcfY_Zct"
   },
   "source": [
    "### Пропуски значений\n",
    "Сначала посчитайте, сколько в таблице пропущенных значений. Для этого достаточно двух методов `pandas`:"
   ]
  },
  {
   "cell_type": "code",
   "execution_count": 10,
   "metadata": {
    "id": "RskX29qr_Zct"
   },
   "outputs": [
    {
     "name": "stdout",
     "output_type": "stream",
     "text": [
      "user_id          0\n",
      "track         1231\n",
      "artist        7203\n",
      "genre         1198\n",
      "city             0\n",
      "start_time       0\n",
      "week_day         0\n",
      "dtype: int64\n"
     ]
    }
   ],
   "source": [
    "print(df.isna().sum()) # подсчёт пропусков"
   ]
  },
  {
   "cell_type": "markdown",
   "metadata": {},
   "source": [
    "<div class=\"alert alert-success\">\n",
    "<h2> Комментарий от ревьюера<a class=\"tocSkip\"></a></h2>\n",
    "Ты использовал метод *isna()* для нахождения пропущенных значений, это отлично! На самом деле, *isnull()* и *isna()* делают одно и то же, но использование isna() предпочтительнее.\n",
    "</div>\n"
   ]
  },
  {
   "cell_type": "markdown",
   "metadata": {
    "id": "qubhgnlO_Zct"
   },
   "source": [
    "Не все пропущенные значения влияют на исследование. Так в `track` и `artist` пропуски не важны для вашей работы. Достаточно заменить их явными обозначениями.\n",
    "\n",
    "Но пропуски в `genre` могут помешать сравнению музыкальных вкусов в Москве и Санкт-Петербурге. На практике было бы правильно установить причину пропусков и восстановить данные. Такой возможности нет в учебном проекте. Придётся:\n",
    "* заполнить и эти пропуски явными обозначениями,\n",
    "* оценить, насколько они повредят расчётам. "
   ]
  },
  {
   "cell_type": "markdown",
   "metadata": {
    "id": "fSv2laPA_Zct"
   },
   "source": [
    "Замените пропущенные значения в столбцах `track`, `artist` и `genre` на строку `'unknown'`. Для этого создайте список `columns_to_replace`, переберите его элементы циклом `for` и для каждого столбца выполните замену пропущенных значений:"
   ]
  },
  {
   "cell_type": "code",
   "execution_count": 11,
   "metadata": {},
   "outputs": [],
   "source": [
    "#columns_to_replace = ['track', 'artist', 'genre']\n",
    "#for column in columns_to_replace:\n",
    "#    df[column] = df[column].fillna('unknown')\n",
    "#  перебор названий столбцов в цикле и замена пропущенных значений на 'unknown'\n",
    "#print(df.isna().sum())\n",
    "# этот вариант замены использовать для замены в конкретных столбцах\n",
    "# к примеру могло бы быть так, что в 'time' есть NaN тогда для этого столбца использовать другую замену\n",
    "# ну или выяснили бы причины пропусков в genre,\n",
    "# по идее наверное можно обучить нейросеть определить жанр музыки и песни :-) (особо просто если есть artist\n",
    "#или track)"
   ]
  },
  {
   "cell_type": "code",
   "execution_count": 12,
   "metadata": {
    "id": "KplB5qWs_Zct"
   },
   "outputs": [],
   "source": [
    "df = df.fillna('unknown') # если все пропущенные значения в таблице заменяем на одно и тоже\n",
    "# то проще использовать сразу такой вариант замены по всей таблице"
   ]
  },
  {
   "cell_type": "markdown",
   "metadata": {},
   "source": [
    "<div class=\"alert alert-success\">\n",
    "<h2> Комментарий от ревьюера<a class=\"tocSkip\"></a></h2>\n",
    "Молодец, верное решение! Если тебе необходимо заменить пропущенные значения лишь в некоторых столбцах, то удобнее всего сделать это через цикл.\n",
    "</div>"
   ]
  },
  {
   "cell_type": "markdown",
   "metadata": {
    "id": "Ilsm-MZo_Zct"
   },
   "source": [
    "Убедитесь, что в таблице не осталось пропусков. Для этого ещё раз посчитайте пропущенные значения."
   ]
  },
  {
   "cell_type": "code",
   "execution_count": 13,
   "metadata": {
    "id": "Tq4nYRX4_Zct"
   },
   "outputs": [
    {
     "name": "stdout",
     "output_type": "stream",
     "text": [
      "user_id       0\n",
      "track         0\n",
      "artist        0\n",
      "genre         0\n",
      "city          0\n",
      "start_time    0\n",
      "week_day      0\n",
      "dtype: int64\n"
     ]
    },
    {
     "data": {
      "text/html": [
       "<div>\n",
       "<style scoped>\n",
       "    .dataframe tbody tr th:only-of-type {\n",
       "        vertical-align: middle;\n",
       "    }\n",
       "\n",
       "    .dataframe tbody tr th {\n",
       "        vertical-align: top;\n",
       "    }\n",
       "\n",
       "    .dataframe thead th {\n",
       "        text-align: right;\n",
       "    }\n",
       "</style>\n",
       "<table border=\"1\" class=\"dataframe\">\n",
       "  <thead>\n",
       "    <tr style=\"text-align: right;\">\n",
       "      <th></th>\n",
       "      <th>user_id</th>\n",
       "      <th>track</th>\n",
       "      <th>artist</th>\n",
       "      <th>genre</th>\n",
       "      <th>city</th>\n",
       "      <th>start_time</th>\n",
       "      <th>week_day</th>\n",
       "    </tr>\n",
       "  </thead>\n",
       "  <tbody>\n",
       "    <tr>\n",
       "      <th>0</th>\n",
       "      <td>FFB692EC</td>\n",
       "      <td>Kamigata To Boots</td>\n",
       "      <td>The Mass Missile</td>\n",
       "      <td>rock</td>\n",
       "      <td>Saint-Petersburg</td>\n",
       "      <td>20:28:33</td>\n",
       "      <td>Wednesday</td>\n",
       "    </tr>\n",
       "    <tr>\n",
       "      <th>1</th>\n",
       "      <td>55204538</td>\n",
       "      <td>Delayed Because of Accident</td>\n",
       "      <td>Andreas Rönnberg</td>\n",
       "      <td>rock</td>\n",
       "      <td>Moscow</td>\n",
       "      <td>14:07:09</td>\n",
       "      <td>Friday</td>\n",
       "    </tr>\n",
       "    <tr>\n",
       "      <th>2</th>\n",
       "      <td>20EC38</td>\n",
       "      <td>Funiculì funiculà</td>\n",
       "      <td>Mario Lanza</td>\n",
       "      <td>pop</td>\n",
       "      <td>Saint-Petersburg</td>\n",
       "      <td>20:58:07</td>\n",
       "      <td>Wednesday</td>\n",
       "    </tr>\n",
       "    <tr>\n",
       "      <th>3</th>\n",
       "      <td>A3DD03C9</td>\n",
       "      <td>Dragons in the Sunset</td>\n",
       "      <td>Fire + Ice</td>\n",
       "      <td>folk</td>\n",
       "      <td>Saint-Petersburg</td>\n",
       "      <td>08:37:09</td>\n",
       "      <td>Monday</td>\n",
       "    </tr>\n",
       "    <tr>\n",
       "      <th>4</th>\n",
       "      <td>E2DC1FAE</td>\n",
       "      <td>Soul People</td>\n",
       "      <td>Space Echo</td>\n",
       "      <td>dance</td>\n",
       "      <td>Moscow</td>\n",
       "      <td>08:34:34</td>\n",
       "      <td>Monday</td>\n",
       "    </tr>\n",
       "    <tr>\n",
       "      <th>5</th>\n",
       "      <td>842029A1</td>\n",
       "      <td>Преданная</td>\n",
       "      <td>IMPERVTOR</td>\n",
       "      <td>rusrap</td>\n",
       "      <td>Saint-Petersburg</td>\n",
       "      <td>13:09:41</td>\n",
       "      <td>Friday</td>\n",
       "    </tr>\n",
       "    <tr>\n",
       "      <th>6</th>\n",
       "      <td>4CB90AA5</td>\n",
       "      <td>True</td>\n",
       "      <td>Roman Messer</td>\n",
       "      <td>dance</td>\n",
       "      <td>Moscow</td>\n",
       "      <td>13:00:07</td>\n",
       "      <td>Wednesday</td>\n",
       "    </tr>\n",
       "    <tr>\n",
       "      <th>7</th>\n",
       "      <td>F03E1C1F</td>\n",
       "      <td>Feeling This Way</td>\n",
       "      <td>Polina Griffith</td>\n",
       "      <td>dance</td>\n",
       "      <td>Moscow</td>\n",
       "      <td>20:47:49</td>\n",
       "      <td>Wednesday</td>\n",
       "    </tr>\n",
       "    <tr>\n",
       "      <th>8</th>\n",
       "      <td>8FA1D3BE</td>\n",
       "      <td>И вновь продолжается бой</td>\n",
       "      <td>unknown</td>\n",
       "      <td>ruspop</td>\n",
       "      <td>Moscow</td>\n",
       "      <td>09:17:40</td>\n",
       "      <td>Friday</td>\n",
       "    </tr>\n",
       "    <tr>\n",
       "      <th>9</th>\n",
       "      <td>E772D5C0</td>\n",
       "      <td>Pessimist</td>\n",
       "      <td>unknown</td>\n",
       "      <td>dance</td>\n",
       "      <td>Saint-Petersburg</td>\n",
       "      <td>21:20:49</td>\n",
       "      <td>Wednesday</td>\n",
       "    </tr>\n",
       "  </tbody>\n",
       "</table>\n",
       "</div>"
      ],
      "text/plain": [
       "    user_id                        track            artist   genre  \\\n",
       "0  FFB692EC            Kamigata To Boots  The Mass Missile    rock   \n",
       "1  55204538  Delayed Because of Accident  Andreas Rönnberg    rock   \n",
       "2    20EC38            Funiculì funiculà       Mario Lanza     pop   \n",
       "3  A3DD03C9        Dragons in the Sunset        Fire + Ice    folk   \n",
       "4  E2DC1FAE                  Soul People        Space Echo   dance   \n",
       "5  842029A1                    Преданная         IMPERVTOR  rusrap   \n",
       "6  4CB90AA5                         True      Roman Messer   dance   \n",
       "7  F03E1C1F             Feeling This Way   Polina Griffith   dance   \n",
       "8  8FA1D3BE     И вновь продолжается бой           unknown  ruspop   \n",
       "9  E772D5C0                    Pessimist           unknown   dance   \n",
       "\n",
       "               city start_time   week_day  \n",
       "0  Saint-Petersburg   20:28:33  Wednesday  \n",
       "1            Moscow   14:07:09     Friday  \n",
       "2  Saint-Petersburg   20:58:07  Wednesday  \n",
       "3  Saint-Petersburg   08:37:09     Monday  \n",
       "4            Moscow   08:34:34     Monday  \n",
       "5  Saint-Petersburg   13:09:41     Friday  \n",
       "6            Moscow   13:00:07  Wednesday  \n",
       "7            Moscow   20:47:49  Wednesday  \n",
       "8            Moscow   09:17:40     Friday  \n",
       "9  Saint-Petersburg   21:20:49  Wednesday  "
      ]
     },
     "metadata": {},
     "output_type": "display_data"
    }
   ],
   "source": [
    "print(df.isna().sum()) # подсчёт пропусков\n",
    "display(df.head(10)) # вывод 10-ти строк таблицы для оценки замены"
   ]
  },
  {
   "cell_type": "markdown",
   "metadata": {},
   "source": [
    "Видим что в колонке artist появились unknown вместо NaN"
   ]
  },
  {
   "cell_type": "markdown",
   "metadata": {
    "id": "BWKRtBJ3_Zct"
   },
   "source": [
    "### Дубликаты\n",
    "Посчитайте явные дубликаты в таблице одной командой:"
   ]
  },
  {
   "cell_type": "code",
   "execution_count": 14,
   "metadata": {
    "id": "36eES_S0_Zct"
   },
   "outputs": [
    {
     "name": "stdout",
     "output_type": "stream",
     "text": [
      "3826\n"
     ]
    }
   ],
   "source": [
    "print(df.duplicated().sum()) # подсчёт явных дубликатов"
   ]
  },
  {
   "cell_type": "markdown",
   "metadata": {
    "id": "Ot25h6XR_Zct"
   },
   "source": [
    "Вызовите специальный метод `pandas`, чтобы удалить явные дубликаты:"
   ]
  },
  {
   "cell_type": "code",
   "execution_count": 15,
   "metadata": {
    "id": "exFHq6tt_Zct"
   },
   "outputs": [],
   "source": [
    "df = df.drop_duplicates().reset_index(drop=True)\n",
    "# удаление явных дубликатов (с удалением старых индексов и формированием новых)"
   ]
  },
  {
   "cell_type": "markdown",
   "metadata": {
    "id": "Im2YwBEG_Zct"
   },
   "source": [
    "Ещё раз посчитайте явные дубликаты в таблице — убедитесь, что полностью от них избавились:"
   ]
  },
  {
   "cell_type": "code",
   "execution_count": 16,
   "metadata": {
    "id": "-8PuNWQ0_Zct"
   },
   "outputs": [
    {
     "name": "stdout",
     "output_type": "stream",
     "text": [
      "0\n"
     ]
    }
   ],
   "source": [
    "print(df.duplicated().sum()) # проверка на отсутствие дубликатов"
   ]
  },
  {
   "cell_type": "markdown",
   "metadata": {},
   "source": [
    "<div class=\"alert alert-success\">\n",
    "<h2> Комментарий от ревьюера<a class=\"tocSkip\"></a></h2>\n",
    "Отлично, это абсолютно верный способ поиска повторов!\n",
    "</div>"
   ]
  },
  {
   "cell_type": "markdown",
   "metadata": {
    "id": "QlFBsxAr_Zct"
   },
   "source": [
    "Теперь избавьтесь от неявных дубликатов в колонке `genre`. Например, название одного и того же жанра может быть записано немного по-разному. Такие ошибки тоже повлияют на результат исследования."
   ]
  },
  {
   "cell_type": "markdown",
   "metadata": {
    "id": "eSjWwsOh_Zct"
   },
   "source": [
    "Выведите на экран список уникальных названий жанров, отсортированный в алфавитном порядке. Для этого:\n",
    "* извлеките нужный столбец датафрейма, \n",
    "* примените к нему метод сортировки,\n",
    "* для отсортированного столбца вызовите метод, который вернёт уникальные значения из столбца."
   ]
  },
  {
   "cell_type": "code",
   "execution_count": 17,
   "metadata": {
    "id": "JIUcqzZN_Zct"
   },
   "outputs": [
    {
     "name": "stdout",
     "output_type": "stream",
     "text": [
      "['acid' 'acoustic' 'action' 'adult' 'africa' 'afrikaans' 'alternative'\n",
      " 'alternativepunk' 'ambient' 'americana' 'animated' 'anime' 'arabesk'\n",
      " 'arabic' 'arena' 'argentinetango' 'art' 'audiobook' 'author' 'avantgarde'\n",
      " 'axé' 'baile' 'balkan' 'beats' 'bigroom' 'black' 'bluegrass' 'blues'\n",
      " 'bollywood' 'bossa' 'brazilian' 'breakbeat' 'breaks' 'broadway'\n",
      " 'cantautori' 'cantopop' 'canzone' 'caribbean' 'caucasian' 'celtic'\n",
      " 'chamber' 'chanson' 'children' 'chill' 'chinese' 'choral' 'christian'\n",
      " 'christmas' 'classical' 'classicmetal' 'club' 'colombian' 'comedy'\n",
      " 'conjazz' 'contemporary' 'country' 'cuban' 'dance' 'dancehall' 'dancepop'\n",
      " 'dark' 'death' 'deep' 'deutschrock' 'deutschspr' 'dirty' 'disco' 'dnb'\n",
      " 'documentary' 'downbeat' 'downtempo' 'drum' 'dub' 'dubstep' 'eastern'\n",
      " 'easy' 'electronic' 'electropop' 'emo' 'entehno' 'epicmetal' 'estrada'\n",
      " 'ethnic' 'eurofolk' 'european' 'experimental' 'extrememetal' 'fado'\n",
      " 'fairytail' 'film' 'fitness' 'flamenco' 'folk' 'folklore' 'folkmetal'\n",
      " 'folkrock' 'folktronica' 'forró' 'frankreich' 'französisch' 'french'\n",
      " 'funk' 'future' 'gangsta' 'garage' 'german' 'ghazal' 'gitarre' 'glitch'\n",
      " 'gospel' 'gothic' 'grime' 'grunge' 'gypsy' 'handsup' \"hard'n'heavy\"\n",
      " 'hardcore' 'hardstyle' 'hardtechno' 'hip' 'hiphop' 'historisch' 'holiday'\n",
      " 'horror' 'house' 'hymn' 'idm' 'independent' 'indian' 'indie' 'indipop'\n",
      " 'industrial' 'inspirational' 'instrumental' 'international' 'irish' 'jam'\n",
      " 'japanese' 'jazz' 'jewish' 'jpop' 'jungle' 'k-pop' 'karadeniz' 'karaoke'\n",
      " 'kayokyoku' 'korean' 'laiko' 'latin' 'latino' 'leftfield' 'local'\n",
      " 'lounge' 'loungeelectronic' 'lovers' 'malaysian' 'mandopop' 'marschmusik'\n",
      " 'meditative' 'mediterranean' 'melodic' 'metal' 'metalcore' 'mexican'\n",
      " 'middle' 'minimal' 'miscellaneous' 'modern' 'mood' 'mpb' 'muslim'\n",
      " 'native' 'neoklassik' 'neue' 'new' 'newage' 'newwave' 'nu' 'nujazz'\n",
      " 'numetal' 'oceania' 'old' 'opera' 'orchestral' 'other' 'piano' 'podcasts'\n",
      " 'pop' 'popdance' 'popelectronic' 'popeurodance' 'poprussian' 'post'\n",
      " 'posthardcore' 'postrock' 'power' 'progmetal' 'progressive' 'psychedelic'\n",
      " 'punjabi' 'punk' 'quebecois' 'ragga' 'ram' 'rancheras' 'rap' 'rave'\n",
      " 'reggae' 'reggaeton' 'regional' 'relax' 'religious' 'retro' 'rhythm'\n",
      " 'rnb' 'rnr' 'rock' 'rockabilly' 'rockalternative' 'rockindie' 'rockother'\n",
      " 'romance' 'roots' 'ruspop' 'rusrap' 'rusrock' 'russian' 'salsa' 'samba'\n",
      " 'scenic' 'schlager' 'self' 'sertanejo' 'shanson' 'shoegazing' 'showtunes'\n",
      " 'singer' 'ska' 'skarock' 'slow' 'smooth' 'soft' 'soul' 'soulful' 'sound'\n",
      " 'soundtrack' 'southern' 'specialty' 'speech' 'spiritual' 'sport'\n",
      " 'stonerrock' 'surf' 'swing' 'synthpop' 'synthrock' 'sängerportrait'\n",
      " 'tango' 'tanzorchester' 'taraftar' 'tatar' 'tech' 'techno' 'teen'\n",
      " 'thrash' 'top' 'traditional' 'tradjazz' 'trance' 'tribal' 'trip'\n",
      " 'triphop' 'tropical' 'türk' 'türkçe' 'ukrrock' 'unknown' 'urban' 'uzbek'\n",
      " 'variété' 'vi' 'videogame' 'vocal' 'western' 'world' 'worldbeat' 'ïîï'\n",
      " 'электроника']\n"
     ]
    }
   ],
   "source": [
    "print(df['genre'].sort_values().unique()) # Просмотр уникальных названий жанров\n",
    "# сортировка облегчит просмотр"
   ]
  },
  {
   "cell_type": "markdown",
   "metadata": {},
   "source": [
    "<div class=\"alert alert-success\">\n",
    "<h2> Комментарий от ревьюера<a class=\"tocSkip\"></a></h2>\n",
    "Верно, есть еще один способ. Сначла выбрать уникальные значения, а потом отсортировать столбец.\n",
    "    \n",
    "`sorted(df['genre'].unique())`\n",
    "</div>"
   ]
  },
  {
   "cell_type": "markdown",
   "metadata": {
    "id": "qej-Qmuo_Zct"
   },
   "source": [
    "Просмотрите список и найдите неявные дубликаты названия `hiphop`. Это могут быть названия с ошибками или альтернативные названия того же жанра.\n",
    "\n",
    "Вы увидите следующие неявные дубликаты:\n",
    "\n",
    "*hip*, *hop*, *hip-hop*,\n",
    "\n",
    "*электроника*, *electronic*,\n",
    "\n",
    "есть вопросы к названиям *ïîï*, *vi* (но видимо это тайна покрытая мраком).\n",
    "\n",
    "Чтобы очистить от них таблицу, напишите функцию `replace_wrong_genres()` с двумя параметрами: \n",
    "* `wrong_genres` — список дубликатов,\n",
    "* `correct_genre` — строка с правильным значением.\n",
    "\n",
    "Функция должна исправить колонку `genre` в таблице `df`: заменить каждое значение из списка `wrong_genres` на значение из `correct_genre`."
   ]
  },
  {
   "cell_type": "code",
   "execution_count": 18,
   "metadata": {
    "id": "ErNDkmns_Zct"
   },
   "outputs": [],
   "source": [
    "wrong_genres = ['hip', 'hop', 'hip-hop']\n",
    "correct_genre = 'hiphop'\n",
    "def replace_wrong_genres(wrong, correct):\n",
    "    for wrong_genre in wrong:\n",
    "        df['genre'] = df['genre'].replace(wrong_genre, correct)\n",
    "# Функция для замены неявных дубликатов"
   ]
  },
  {
   "cell_type": "markdown",
   "metadata": {},
   "source": [
    "<div class=\"alert alert-success\">\n",
    "<h2> Комментарий от ревьюера<a class=\"tocSkip\"></a></h2>\n",
    "Да, в данном случае удобнее всего решить задачу с помощью replace(), молодец)\n",
    "</div>"
   ]
  },
  {
   "cell_type": "markdown",
   "metadata": {
    "id": "aDoBJxbA_Zct"
   },
   "source": [
    "Вызовите `replace_wrong_genres()` и передайте ей такие аргументы, чтобы она устранила неявные дубликаты: вместо `hip`, `hop` и `hip-hop` в таблице должно быть значение `hiphop`:"
   ]
  },
  {
   "cell_type": "code",
   "execution_count": 19,
   "metadata": {
    "id": "YN5i2hpmSo09"
   },
   "outputs": [],
   "source": [
    "replace_wrong_genres(wrong_genres, correct_genre) # Устранение неявных дубликатов\n",
    "replace_wrong_genres(['электроника'], 'electronic') # Устранение неявных дубликатов"
   ]
  },
  {
   "cell_type": "markdown",
   "metadata": {
    "id": "zQKF16_RG15m"
   },
   "source": [
    "Проверьте, что заменили неправильные названия:\n",
    "\n",
    "*   hip\n",
    "*   hop\n",
    "*   hip-hop\n",
    "*   электроника\n",
    "\n",
    "\n",
    "Выведите отсортированный список уникальных значений столбца `genre`:"
   ]
  },
  {
   "cell_type": "code",
   "execution_count": 20,
   "metadata": {
    "id": "wvixALnFG15m"
   },
   "outputs": [
    {
     "name": "stdout",
     "output_type": "stream",
     "text": [
      "['acid' 'acoustic' 'action' 'adult' 'africa' 'afrikaans' 'alternative'\n",
      " 'alternativepunk' 'ambient' 'americana' 'animated' 'anime' 'arabesk'\n",
      " 'arabic' 'arena' 'argentinetango' 'art' 'audiobook' 'author' 'avantgarde'\n",
      " 'axé' 'baile' 'balkan' 'beats' 'bigroom' 'black' 'bluegrass' 'blues'\n",
      " 'bollywood' 'bossa' 'brazilian' 'breakbeat' 'breaks' 'broadway'\n",
      " 'cantautori' 'cantopop' 'canzone' 'caribbean' 'caucasian' 'celtic'\n",
      " 'chamber' 'chanson' 'children' 'chill' 'chinese' 'choral' 'christian'\n",
      " 'christmas' 'classical' 'classicmetal' 'club' 'colombian' 'comedy'\n",
      " 'conjazz' 'contemporary' 'country' 'cuban' 'dance' 'dancehall' 'dancepop'\n",
      " 'dark' 'death' 'deep' 'deutschrock' 'deutschspr' 'dirty' 'disco' 'dnb'\n",
      " 'documentary' 'downbeat' 'downtempo' 'drum' 'dub' 'dubstep' 'eastern'\n",
      " 'easy' 'electronic' 'electropop' 'emo' 'entehno' 'epicmetal' 'estrada'\n",
      " 'ethnic' 'eurofolk' 'european' 'experimental' 'extrememetal' 'fado'\n",
      " 'fairytail' 'film' 'fitness' 'flamenco' 'folk' 'folklore' 'folkmetal'\n",
      " 'folkrock' 'folktronica' 'forró' 'frankreich' 'französisch' 'french'\n",
      " 'funk' 'future' 'gangsta' 'garage' 'german' 'ghazal' 'gitarre' 'glitch'\n",
      " 'gospel' 'gothic' 'grime' 'grunge' 'gypsy' 'handsup' \"hard'n'heavy\"\n",
      " 'hardcore' 'hardstyle' 'hardtechno' 'hiphop' 'historisch' 'holiday'\n",
      " 'horror' 'house' 'hymn' 'idm' 'independent' 'indian' 'indie' 'indipop'\n",
      " 'industrial' 'inspirational' 'instrumental' 'international' 'irish' 'jam'\n",
      " 'japanese' 'jazz' 'jewish' 'jpop' 'jungle' 'k-pop' 'karadeniz' 'karaoke'\n",
      " 'kayokyoku' 'korean' 'laiko' 'latin' 'latino' 'leftfield' 'local'\n",
      " 'lounge' 'loungeelectronic' 'lovers' 'malaysian' 'mandopop' 'marschmusik'\n",
      " 'meditative' 'mediterranean' 'melodic' 'metal' 'metalcore' 'mexican'\n",
      " 'middle' 'minimal' 'miscellaneous' 'modern' 'mood' 'mpb' 'muslim'\n",
      " 'native' 'neoklassik' 'neue' 'new' 'newage' 'newwave' 'nu' 'nujazz'\n",
      " 'numetal' 'oceania' 'old' 'opera' 'orchestral' 'other' 'piano' 'podcasts'\n",
      " 'pop' 'popdance' 'popelectronic' 'popeurodance' 'poprussian' 'post'\n",
      " 'posthardcore' 'postrock' 'power' 'progmetal' 'progressive' 'psychedelic'\n",
      " 'punjabi' 'punk' 'quebecois' 'ragga' 'ram' 'rancheras' 'rap' 'rave'\n",
      " 'reggae' 'reggaeton' 'regional' 'relax' 'religious' 'retro' 'rhythm'\n",
      " 'rnb' 'rnr' 'rock' 'rockabilly' 'rockalternative' 'rockindie' 'rockother'\n",
      " 'romance' 'roots' 'ruspop' 'rusrap' 'rusrock' 'russian' 'salsa' 'samba'\n",
      " 'scenic' 'schlager' 'self' 'sertanejo' 'shanson' 'shoegazing' 'showtunes'\n",
      " 'singer' 'ska' 'skarock' 'slow' 'smooth' 'soft' 'soul' 'soulful' 'sound'\n",
      " 'soundtrack' 'southern' 'specialty' 'speech' 'spiritual' 'sport'\n",
      " 'stonerrock' 'surf' 'swing' 'synthpop' 'synthrock' 'sängerportrait'\n",
      " 'tango' 'tanzorchester' 'taraftar' 'tatar' 'tech' 'techno' 'teen'\n",
      " 'thrash' 'top' 'traditional' 'tradjazz' 'trance' 'tribal' 'trip'\n",
      " 'triphop' 'tropical' 'türk' 'türkçe' 'ukrrock' 'unknown' 'urban' 'uzbek'\n",
      " 'variété' 'vi' 'videogame' 'vocal' 'western' 'world' 'worldbeat' 'ïîï']\n"
     ]
    }
   ],
   "source": [
    "print(df['genre'].sort_values().unique()) # Проверка на неявные дубликаты"
   ]
  },
  {
   "cell_type": "markdown",
   "metadata": {
    "id": "jz6a9-7HQUDd"
   },
   "source": [
    "**Выводы**\n",
    "\n",
    "Предобработка обнаружила три проблемы в данных:\n",
    "\n",
    "- нарушения в стиле заголовков,\n",
    "- пропущенные значения,\n",
    "- дубликаты — явные и неявные.\n",
    "\n",
    "Вы исправили заголовки, чтобы упростить работу с таблицей. Без дубликатов исследование станет более точным.\n",
    "\n",
    "Пропущенные значения вы заменили на `'unknown'`. Ещё предстоит увидеть, не повредят ли исследованию пропуски в колонке `genre`.\n",
    "\n",
    "Теперь можно перейти к проверке гипотез. "
   ]
  },
  {
   "cell_type": "markdown",
   "metadata": {
    "id": "WttZHXH0SqKk"
   },
   "source": [
    "## Проверка гипотез"
   ]
  },
  {
   "cell_type": "markdown",
   "metadata": {
    "id": "Im936VVi_Zcu"
   },
   "source": [
    "### Сравнение поведения пользователей двух столиц"
   ]
  },
  {
   "cell_type": "markdown",
   "metadata": {
    "id": "nwt_MuaL_Zcu"
   },
   "source": [
    "Первая гипотеза утверждает, что пользователи по-разному слушают музыку в Москве и Санкт-Петербурге. Проверьте это предположение по данным о трёх днях недели — понедельнике, среде и пятнице. Для этого:\n",
    "\n",
    "* Разделите пользователей Москвы и Санкт-Петербурга\n",
    "* Сравните, сколько треков послушала каждая группа пользователей в понедельник, среду и пятницу.\n"
   ]
  },
  {
   "cell_type": "markdown",
   "metadata": {
    "id": "8Dw_YMmT_Zcu"
   },
   "source": [
    "Для тренировки сначала выполните каждый из расчётов по отдельности. \n",
    "\n",
    "Оцените активность пользователей в каждом городе. Сгруппируйте данные по городу и посчитайте прослушивания в каждой группе.\n",
    "\n"
   ]
  },
  {
   "cell_type": "code",
   "execution_count": 21,
   "metadata": {
    "id": "0_Qs96oh_Zcu"
   },
   "outputs": [
    {
     "name": "stdout",
     "output_type": "stream",
     "text": [
      "city\n",
      "Moscow              42741\n",
      "Saint-Petersburg    18512\n",
      "Name: user_id, dtype: int64\n"
     ]
    }
   ],
   "source": [
    "tracks_cityes = df.groupby('city').count()['user_id']\n",
    "print(tracks_cityes)# Подсчёт прослушиваний в каждом городе"
   ]
  },
  {
   "cell_type": "markdown",
   "metadata": {
    "id": "dzli3w8o_Zcu"
   },
   "source": [
    "В Москве прослушиваний больше, чем в Петербурге. Из этого не следует, что московские пользователи чаще слушают музыку. Просто самих пользователей в Москве больше.\n",
    "\n",
    "Теперь сгруппируйте данные по дню недели и подсчитайте прослушивания в понедельник, среду и пятницу. Учтите, что в данных есть информация только о прослушиваниях только за эти дни.\n"
   ]
  },
  {
   "cell_type": "code",
   "execution_count": 22,
   "metadata": {
    "id": "uZMKjiJz_Zcu"
   },
   "outputs": [
    {
     "name": "stdout",
     "output_type": "stream",
     "text": [
      "week_day\n",
      "Friday       21840\n",
      "Monday       21354\n",
      "Wednesday    18059\n",
      "Name: user_id, dtype: int64\n"
     ]
    }
   ],
   "source": [
    "print(df.groupby('week_day').count()['user_id'])\n",
    "# Подсчёт прослушиваний в каждый из трёх дней"
   ]
  },
  {
   "cell_type": "markdown",
   "metadata": {},
   "source": [
    "<div class=\"alert alert-success\">\n",
    "<h2> Комментарий от ревьюера<a class=\"tocSkip\"></a></h2>\n",
    "Супер, абсолютно верное решение!\n",
    "</div>"
   ]
  },
  {
   "cell_type": "markdown",
   "metadata": {
    "id": "cC2tNrlL_Zcu"
   },
   "source": [
    "В среднем пользователи из двух городов менее активны по средам. Но картина может измениться, если рассмотреть каждый город в отдельности."
   ]
  },
  {
   "cell_type": "markdown",
   "metadata": {
    "id": "POzs8bGa_Zcu"
   },
   "source": [
    "Вы видели, как работает группировка по городу и по дням недели. Теперь напишите функцию, которая объединит два эти расчёта.\n",
    "\n",
    "Создайте функцию `number_tracks()`, которая посчитает прослушивания для заданного дня и города. Ей понадобятся два параметра:\n",
    "* день недели,\n",
    "* название города.\n",
    "\n",
    "Создадим списки дней и городов для перебора в циклах при помощи unique() - это позволит загружать таблицы с разными городами и днями недели, без правки кода фильтрации и формирования датафрейма.\n",
    "\n",
    "Применим последовательную фильтрацию с логической индексацией."
   ]
  },
  {
   "cell_type": "code",
   "execution_count": 23,
   "metadata": {},
   "outputs": [],
   "source": [
    "# для правильной сортироваки дней недели определяем столбец именно как категория дней недели из календаря\n",
    "# иначе просто сортировка расставит дни недели по главенству первой буквы и тд и тп.\n",
    "from calendar import day_name # можно было просто задать список дней недели\n",
    "df['week_day'] = pd.Categorical(df['week_day'], categories=list(day_name), ordered=True)\n",
    "# теперь в таблице в колонке week_day у нас не просто строки с буквами, а строки с днями недели."
   ]
  },
  {
   "cell_type": "code",
   "execution_count": 24,
   "metadata": {
    "id": "Nz3GdQB1_Zcu"
   },
   "outputs": [],
   "source": [
    "cities = df['city'].sort_values().unique() # формируем список городов из таблицы\n",
    "days = list(df.sort_values('week_day')['week_day'].unique())\n",
    "# формируем список дней недели присутствующих в таблице и сортируем правильно как дни недели\n",
    "cities_days = [] # запись данных по дням для каждого города в виде списка списков для создания DataFrame\n",
    "\n",
    "'''Создаем функцию для перебора городов и дней при помощи цикла в цикле'''\n",
    "\n",
    "def number_tracks(cities, days):\n",
    "    for city in cities: # цикл перебора городов\n",
    "        city_days =[city] # промежуточный список с подсчетом прослушиваний по дням для города\n",
    "        for day in days: # цикл перебора дней\n",
    "            df_fitered = df[df['city'] == city] # промежуточный датафрейм и фильтрация по городу\n",
    "            df_fitered = df_fitered[df_fitered['week_day'] == day] # промежуточный датафрейм и фильтрация по дню\n",
    "            count = df_fitered['user_id'].count() # подсчет отфильтрованных значений прослушиваний\n",
    "            city_days.append(count) # добавление прослушиваний в промежуточный список\n",
    "        cities_days.append(city_days) # добавление списка прослушиваний в список для создания DataFrame\n",
    "\n",
    "number_tracks(cities, days)\n",
    "\n",
    "days.insert(0, 'City') # - названия колонок — ['City', 'Monday', 'Wednesday', 'Friday'] для создания DataFrame"
   ]
  },
  {
   "cell_type": "markdown",
   "metadata": {
    "id": "7QXffbO-_Zcu"
   },
   "source": [
    "Создайте c помощью конструктора `pd.DataFrame` таблицу, где\n",
    "* названия колонок — `['Сity', 'Monday', 'Wednesday', 'Friday']`;\n",
    "* данные — результаты, которые получили в `cities_days`."
   ]
  },
  {
   "cell_type": "code",
   "execution_count": 25,
   "metadata": {
    "id": "APAcLpOr_Zcu"
   },
   "outputs": [
    {
     "data": {
      "text/html": [
       "<div>\n",
       "<style scoped>\n",
       "    .dataframe tbody tr th:only-of-type {\n",
       "        vertical-align: middle;\n",
       "    }\n",
       "\n",
       "    .dataframe tbody tr th {\n",
       "        vertical-align: top;\n",
       "    }\n",
       "\n",
       "    .dataframe thead th {\n",
       "        text-align: right;\n",
       "    }\n",
       "</style>\n",
       "<table border=\"1\" class=\"dataframe\">\n",
       "  <thead>\n",
       "    <tr style=\"text-align: right;\">\n",
       "      <th></th>\n",
       "      <th>City</th>\n",
       "      <th>Monday</th>\n",
       "      <th>Wednesday</th>\n",
       "      <th>Friday</th>\n",
       "    </tr>\n",
       "  </thead>\n",
       "  <tbody>\n",
       "    <tr>\n",
       "      <th>0</th>\n",
       "      <td>Moscow</td>\n",
       "      <td>15740</td>\n",
       "      <td>11056</td>\n",
       "      <td>15945</td>\n",
       "    </tr>\n",
       "    <tr>\n",
       "      <th>1</th>\n",
       "      <td>Saint-Petersburg</td>\n",
       "      <td>5614</td>\n",
       "      <td>7003</td>\n",
       "      <td>5895</td>\n",
       "    </tr>\n",
       "  </tbody>\n",
       "</table>\n",
       "</div>"
      ],
      "text/plain": [
       "               City  Monday  Wednesday  Friday\n",
       "0            Moscow   15740      11056   15945\n",
       "1  Saint-Petersburg    5614       7003    5895"
      ]
     },
     "metadata": {},
     "output_type": "display_data"
    }
   ],
   "source": [
    "cities_by_days = pd.DataFrame(data=cities_days, columns=days)\n",
    "display(cities_by_days) # Таблица с результатами"
   ]
  },
  {
   "cell_type": "markdown",
   "metadata": {},
   "source": [
    "<div class=\"alert alert-success\">\n",
    "<h2> Комментарий от ревьюера<a class=\"tocSkip\"></a></h2>\n",
    "Очень хорошо, что ты используешь стандартные методы библиотеки pandas.\n",
    "</div>"
   ]
  },
  {
   "cell_type": "markdown",
   "metadata": {
    "id": "-EgPIHYu_Zcu"
   },
   "source": [
    "**Выводы**\n",
    "\n",
    "Данные показывают разницу поведения пользователей:\n",
    "\n",
    "- В Москве пик прослушиваний приходится на понедельник и пятницу, а в среду заметен спад.\n",
    "- В Петербурге, наоборот, больше слушают музыку по средам. Активность в понедельник и пятницу здесь почти в равной мере уступает среде.\n",
    "\n",
    "Значит, данные говорят в пользу первой гипотезы."
   ]
  },
  {
   "cell_type": "markdown",
   "metadata": {
    "id": "atZAxtq4_Zcu"
   },
   "source": [
    "### Музыка в начале и в конце недели"
   ]
  },
  {
   "cell_type": "markdown",
   "metadata": {
    "id": "eXrQqXFH_Zcu"
   },
   "source": [
    "Согласно второй гипотезе, утром в понедельник в Москве преобладают одни жанры, а в Петербурге — другие. Так же и вечером пятницы преобладают разные жанры — в зависимости от города."
   ]
  },
  {
   "cell_type": "markdown",
   "metadata": {
    "id": "S8UcW6Hw_Zcu"
   },
   "source": [
    "Сохраните таблицы с данными в две переменные:\n",
    "* по Москве — в `moscow_general`;\n",
    "* по Санкт-Петербургу — в `spb_general`."
   ]
  },
  {
   "cell_type": "code",
   "execution_count": 26,
   "metadata": {
    "id": "qeaFfM_P_Zcu"
   },
   "outputs": [],
   "source": [
    "# получение таблицы moscow_general из тех строк таблицы df, \n",
    "# для которых значение в столбце 'city' равно 'Moscow'\n",
    "moscow_general = df[df['city'] == 'Moscow']"
   ]
  },
  {
   "cell_type": "code",
   "execution_count": 27,
   "metadata": {
    "id": "ORaVRKto_Zcu"
   },
   "outputs": [],
   "source": [
    "# получение таблицы spb_general из тех строк таблицы df,\n",
    "# для которых значение в столбце 'city' равно 'Saint-Petersburg'\n",
    "spb_general = df[df['city'] == 'Saint-Petersburg']"
   ]
  },
  {
   "cell_type": "markdown",
   "metadata": {},
   "source": [
    "<div class=\"alert alert-success\">\n",
    "<h2> Комментарий от ревьюера<a class=\"tocSkip\"></a></h2>\n",
    "Здесь можно использовать либо маску(как у тебя), либо метод query. Результат будет одинаковый.\n",
    "</div>"
   ]
  },
  {
   "cell_type": "markdown",
   "metadata": {
    "id": "MEJV-CX2_Zcu"
   },
   "source": [
    "Создайте функцию `genre_weekday()` с четырьмя параметрами:\n",
    "* таблица (датафрейм) с данными,\n",
    "* день недели,\n",
    "* начальная временная метка в формате 'hh:mm', \n",
    "* последняя временная метка в формате 'hh:mm'.\n",
    "\n",
    "Функция должна вернуть информацию о топ-10 жанров тех треков, которые прослушивали в указанный день, в промежутке между двумя отметками времени."
   ]
  },
  {
   "cell_type": "code",
   "execution_count": 28,
   "metadata": {
    "id": "laJT9BYl_Zcu"
   },
   "outputs": [],
   "source": [
    "# Объявление функции genre_weekday() с параметрами table, day, time1, time2,\n",
    "def genre_weekday(table, day, time1, time2):\n",
    "    genre_df = table[table['week_day'] == day]\n",
    "    genre_df = genre_df[genre_df['start_time'] > time1]\n",
    "    genre_df = genre_df[genre_df['start_time'] < time2]\n",
    "    genre_df_count = genre_df.groupby('genre')['user_id'].count()\n",
    "    genre_df_sorted = genre_df_count.sort_values(ascending = False)\n",
    "    return genre_df_sorted.head(10)\n",
    "\n",
    "# которая возвращает информацию о самых популярных жанрах в указанный день в\n",
    "# заданное время:\n",
    "# 1) в переменную genre_df сохраняются те строки переданного датафрейма table, для\n",
    "#    которых одновременно:\n",
    "#    - значение в столбце day равно значению аргумента day\n",
    "#    - значение в столбце time больше значения аргумента time1\n",
    "#    - значение в столбце time меньше значения аргумента time2\n",
    "#    Используйте последовательную фильтрацию с помощью логической индексации.\n",
    "# 2) сгруппировать датафрейм genre_df по столбцу genre, взять один из его\n",
    "#    столбцов и посчитать методом count() количество записей для каждого из\n",
    "#    присутствующих жанров, получившийся Series записать в переменную\n",
    "#    genre_df_count\n",
    "# 3) отсортировать genre_df_count по убыванию встречаемости и сохранить\n",
    "#    в переменную genre_df_sorted\n",
    "# 4) вернуть Series из 10 первых значений genre_df_sorted, это будут топ-10\n",
    "#    популярных жанров (в указанный день, в заданное время)"
   ]
  },
  {
   "cell_type": "markdown",
   "metadata": {},
   "source": [
    "<div class=\"alert alert-success\">\n",
    "<h2> Комментарий от ревьюера<a class=\"tocSkip\"></a></h2>\n",
    "Все верно, самый оптимальный способ фильтрации --- фильтрация через маску.\n",
    "</div>"
   ]
  },
  {
   "cell_type": "markdown",
   "metadata": {
    "id": "la2s2_PF_Zcu"
   },
   "source": [
    "Cравните результаты функции `genre_weekday()` для Москвы и Санкт-Петербурга в понедельник утром (с 7:00 до 11:00) и в пятницу вечером (с 17:00 до 23:00):"
   ]
  },
  {
   "cell_type": "code",
   "execution_count": 29,
   "metadata": {
    "id": "yz7itPUQ_Zcu"
   },
   "outputs": [
    {
     "name": "stdout",
     "output_type": "stream",
     "text": [
      "genre\n",
      "pop            781\n",
      "dance          549\n",
      "electronic     480\n",
      "rock           474\n",
      "hiphop         286\n",
      "ruspop         186\n",
      "world          181\n",
      "rusrap         175\n",
      "alternative    164\n",
      "unknown        161\n",
      "Name: user_id, dtype: int64\n"
     ]
    }
   ],
   "source": [
    "print(genre_weekday(moscow_general, 'Monday', '07:00', '11:00'))\n",
    "# вызов функции для утра понедельника в Москве (вместо df — таблица moscow_general)\n",
    "# объекты, хранящие время, являются строками и сравниваются как строки\n",
    "# пример вызова: genre_weekday(moscow_general, 'Monday', '07:00', '11:00')"
   ]
  },
  {
   "cell_type": "markdown",
   "metadata": {},
   "source": [
    "Интересно - попал жанр unknown "
   ]
  },
  {
   "cell_type": "code",
   "execution_count": 30,
   "metadata": {
    "id": "kwUcHPdy_Zcu"
   },
   "outputs": [
    {
     "name": "stdout",
     "output_type": "stream",
     "text": [
      "genre\n",
      "pop            218\n",
      "dance          182\n",
      "rock           162\n",
      "electronic     147\n",
      "hiphop          80\n",
      "ruspop          64\n",
      "alternative     58\n",
      "rusrap          55\n",
      "jazz            44\n",
      "classical       40\n",
      "Name: user_id, dtype: int64\n"
     ]
    }
   ],
   "source": [
    "print(genre_weekday(spb_general, 'Monday', '07:00', '11:00'))\n",
    "# вызов функции для утра понедельника в Петербурге (вместо df — таблица spb_general)"
   ]
  },
  {
   "cell_type": "code",
   "execution_count": 31,
   "metadata": {
    "id": "EzXVRE1o_Zcu"
   },
   "outputs": [
    {
     "name": "stdout",
     "output_type": "stream",
     "text": [
      "genre\n",
      "pop            713\n",
      "rock           517\n",
      "dance          495\n",
      "electronic     482\n",
      "hiphop         273\n",
      "world          208\n",
      "ruspop         170\n",
      "alternative    163\n",
      "classical      163\n",
      "rusrap         142\n",
      "Name: user_id, dtype: int64\n"
     ]
    }
   ],
   "source": [
    "print(genre_weekday(moscow_general, 'Friday', '18:00', '24:00')) # вызов функции для вечера пятницы в Москве"
   ]
  },
  {
   "cell_type": "code",
   "execution_count": 32,
   "metadata": {
    "id": "JZaEKu5v_Zcu"
   },
   "outputs": [
    {
     "name": "stdout",
     "output_type": "stream",
     "text": [
      "genre\n",
      "pop            256\n",
      "rock           216\n",
      "electronic     216\n",
      "dance          210\n",
      "hiphop          97\n",
      "alternative     63\n",
      "jazz            61\n",
      "classical       60\n",
      "rusrap          59\n",
      "world           54\n",
      "Name: user_id, dtype: int64\n"
     ]
    }
   ],
   "source": [
    "print(genre_weekday(spb_general, 'Friday', '18:00', '24:00')) # вызов функции для вечера пятницы в Петербурге"
   ]
  },
  {
   "cell_type": "markdown",
   "metadata": {
    "id": "wrCe4MNX_Zcu"
   },
   "source": [
    "**Выводы**\n",
    "\n",
    "Если сравнить топ-10 жанров в понедельник утром, можно сделать такие выводы:\n",
    "\n",
    "1. В Москве и Петербурге слушают похожую музыку. Единственное отличие — в московский рейтинг вошёл жанр “world”, а в петербургский — джаз и классика.\n",
    "\n",
    "2. В Москве пропущенных значений оказалось так много, что значение `'unknown'` заняло десятое место среди самых популярных жанров. Значит, пропущенные значения занимают существенную долю в данных и угрожают достоверности исследования.\n",
    "\n",
    "Вечер пятницы не меняет эту картину. Некоторые жанры поднимаются немного выше, другие спускаются, но в целом топ-10 остаётся тем же самым.\n",
    "\n",
    "Таким образом, вторая гипотеза подтвердилась лишь частично:\n",
    "* Пользователи слушают похожую музыку в начале недели и в конце.\n",
    "* Разница между Москвой и Петербургом не слишком выражена. В Москве чаще слушают русскую популярную музыку, в Петербурге — джаз.\n",
    "\n",
    "Однако пропуски в данных ставят под сомнение этот результат. В Москве их так много, что рейтинг топ-10 мог бы выглядеть иначе, если бы не утерянные  данные о жанрах."
   ]
  },
  {
   "cell_type": "markdown",
   "metadata": {
    "id": "JolODAqr_Zcu"
   },
   "source": [
    "### Жанровые предпочтения в Москве и Петербурге\n",
    "\n",
    "Гипотеза: Петербург — столица рэпа, музыку этого жанра там слушают чаще, чем в Москве.  А Москва — город контрастов, в котором, тем не менее, преобладает поп-музыка."
   ]
  },
  {
   "cell_type": "markdown",
   "metadata": {
    "id": "DlegSvaT_Zcu"
   },
   "source": [
    "Сгруппируйте таблицу `moscow_general` по жанру и посчитайте прослушивания треков каждого жанра методом `count()`. Затем отсортируйте результат в порядке убывания и сохраните его в таблице `moscow_genres`."
   ]
  },
  {
   "cell_type": "code",
   "execution_count": 33,
   "metadata": {
    "id": "r19lIPke_Zcu"
   },
   "outputs": [],
   "source": [
    "moscow_genres = (moscow_general.groupby('genre')['user_id'].count()).sort_values(ascending = False)\n",
    "# одной строкой: группировка таблицы moscow_general по столбцу 'genre', \n",
    "# подсчёт числа значений 'genre' в этой группировке методом count(), \n",
    "# сортировка получившегося Series в порядке убывания и сохранение в moscow_genres"
   ]
  },
  {
   "cell_type": "markdown",
   "metadata": {
    "id": "6kMuomxTiIr8"
   },
   "source": [
    "Выведите на экран первые десять строк `moscow_genres`:"
   ]
  },
  {
   "cell_type": "code",
   "execution_count": 34,
   "metadata": {
    "id": "WhCSooF8_Zcv"
   },
   "outputs": [
    {
     "name": "stdout",
     "output_type": "stream",
     "text": [
      "genre\n",
      "pop            5892\n",
      "dance          4435\n",
      "rock           3965\n",
      "electronic     3786\n",
      "hiphop         2096\n",
      "classical      1616\n",
      "world          1432\n",
      "alternative    1379\n",
      "ruspop         1372\n",
      "rusrap         1161\n",
      "Name: user_id, dtype: int64\n"
     ]
    }
   ],
   "source": [
    "print(moscow_genres.head(10)) # просмотр первых 10 строк moscow_genres"
   ]
  },
  {
   "cell_type": "markdown",
   "metadata": {
    "id": "cnPG2vnN_Zcv"
   },
   "source": [
    "Теперь повторите то же и для Петербурга.\n",
    "\n",
    "Сгруппируйте таблицу `spb_general` по жанру. Посчитайте прослушивания треков каждого жанра. Результат отсортируйте в порядке убывания и сохраните в таблице `spb_genres`:\n"
   ]
  },
  {
   "cell_type": "code",
   "execution_count": 35,
   "metadata": {
    "id": "gluLIpE7_Zcv"
   },
   "outputs": [],
   "source": [
    "spb_genres = (spb_general.groupby('genre')['user_id'].count()).sort_values(ascending = False)\n",
    "# одной строкой: группировка таблицы spb_general по столбцу 'genre', \n",
    "# подсчёт числа значений 'genre' в этой группировке методом count(), \n",
    "# сортировка получившегося Series в порядке убывания и сохранение в spb_genres"
   ]
  },
  {
   "cell_type": "markdown",
   "metadata": {
    "id": "5Doha_ODgyQ8"
   },
   "source": [
    "Выведите на экран первые десять строк `spb_genres`:"
   ]
  },
  {
   "cell_type": "code",
   "execution_count": 36,
   "metadata": {
    "id": "uaGJHjVU_Zcv"
   },
   "outputs": [
    {
     "name": "stdout",
     "output_type": "stream",
     "text": [
      "genre\n",
      "pop            2431\n",
      "dance          1932\n",
      "rock           1879\n",
      "electronic     1737\n",
      "hiphop          960\n",
      "alternative     649\n",
      "classical       646\n",
      "rusrap          564\n",
      "ruspop          538\n",
      "world           515\n",
      "Name: user_id, dtype: int64\n"
     ]
    }
   ],
   "source": [
    "print(spb_genres.head(10)) # просмотр первых 10 строк spb_genres"
   ]
  },
  {
   "cell_type": "markdown",
   "metadata": {},
   "source": [
    "<div class=\"alert alert-success\">\n",
    "<h2> Комментарий от ревьюера<a class=\"tocSkip\"></a></h2>\n",
    "Молодец, верное решение!\n",
    "</div>"
   ]
  },
  {
   "cell_type": "markdown",
   "metadata": {
    "id": "RY51YJYu_Zcv"
   },
   "source": [
    "**Выводы**"
   ]
  },
  {
   "cell_type": "markdown",
   "metadata": {
    "id": "nVhnJEm__Zcv"
   },
   "source": [
    "Гипотеза частично подтвердилась:\n",
    "* Поп-музыка — самый популярный жанр в Москве, как и предполагала гипотеза. Более того, в топ-10 жанров встречается близкий жанр — русская популярная музыка.\n",
    "* Вопреки ожиданиям, рэп одинаково популярен в Москве и Петербурге. \n"
   ]
  },
  {
   "cell_type": "markdown",
   "metadata": {
    "id": "ykKQ0N65_Zcv"
   },
   "source": [
    "## Итоги исследования"
   ]
  },
  {
   "cell_type": "markdown",
   "metadata": {
    "id": "tjUwbHb3_Zcv"
   },
   "source": [
    "Вы проверили три гипотезы и установили:\n",
    "\n",
    "1. День недели по-разному влияет на активность пользователей в Москве и Петербурге. \n",
    "\n",
    "Первая гипотеза полностью подтвердилась.\n",
    "\n",
    "2. Музыкальные предпочтения не сильно меняются в течение недели — будь то Москва или Петербург. Небольшие различия заметны в начале недели, по понедельникам:\n",
    "* в Москве слушают музыку жанра “world”,\n",
    "* в Петербурге — джаз и классику.\n",
    "\n",
    "Таким образом, вторая гипотеза подтвердилась лишь отчасти. Этот результат мог оказаться иным, если бы не пропуски в данных.\n",
    "\n",
    "3. Во вкусах пользователей Москвы и Петербурга больше общего чем различий. Вопреки ожиданиям, предпочтения жанров в Петербурге напоминают московские.\n",
    "\n",
    "Третья гипотеза не подтвердилась. Если различия в предпочтениях и существуют, на основной массе пользователей они незаметны.\n",
    "\n",
    "**На практике исследования содержат проверки статистических гипотез.**\n",
    "Из данных одного сервиса не всегда можно сделать вывод о всех жителях города.\n",
    "Проверки статистических гипотез покажут, насколько они достоверны, исходя из имеющихся данных. \n",
    "С методами проверок гипотез вы ещё познакомитесь в следующих темах."
   ]
  },
  {
   "cell_type": "markdown",
   "metadata": {},
   "source": [
    "<div class=\"alert alert-success\">\n",
    "<h2> Комментарий от ревьюера<a class=\"tocSkip\"></a></h2>\n",
    "\n",
    "Поздравляю с первым проектом!\n",
    "\n",
    "Код написан аккуратно и качественно, видно, что есть какой-то определенный бэкграунд.\n",
    "    \n",
    "\n",
    "\n",
    " \n",
    "\n",
    "\n",
    "Желаю дальнейших успехов!\n",
    "\n",
    "\n",
    "</div>"
   ]
  },
  {
   "cell_type": "code",
   "execution_count": null,
   "metadata": {},
   "outputs": [],
   "source": []
  }
 ],
 "metadata": {
  "ExecuteTimeLog": [
   {
    "duration": 774,
    "start_time": "2021-06-13T17:29:10.567Z"
   },
   {
    "duration": 2174,
    "start_time": "2021-06-13T17:29:13.145Z"
   },
   {
    "duration": 187,
    "start_time": "2021-06-13T17:29:54.005Z"
   },
   {
    "duration": 28,
    "start_time": "2021-06-13T17:30:16.851Z"
   },
   {
    "duration": 34,
    "start_time": "2021-06-13T17:30:57.206Z"
   },
   {
    "duration": 6,
    "start_time": "2021-06-13T17:49:58.465Z"
   },
   {
    "duration": 361,
    "start_time": "2021-06-13T18:01:57.453Z"
   },
   {
    "duration": 4,
    "start_time": "2021-06-13T18:02:03.860Z"
   },
   {
    "duration": 5,
    "start_time": "2021-06-13T18:02:13.601Z"
   },
   {
    "duration": 12,
    "start_time": "2021-06-13T18:04:59.513Z"
   },
   {
    "duration": 39,
    "start_time": "2021-06-13T18:05:14.214Z"
   },
   {
    "duration": 29,
    "start_time": "2021-06-13T18:05:24.713Z"
   },
   {
    "duration": 28,
    "start_time": "2021-06-13T18:05:45.046Z"
   },
   {
    "duration": 5,
    "start_time": "2021-06-13T18:05:53.994Z"
   },
   {
    "duration": 5,
    "start_time": "2021-06-13T18:06:19.313Z"
   },
   {
    "duration": 59,
    "start_time": "2021-06-13T18:08:06.035Z"
   },
   {
    "duration": 28,
    "start_time": "2021-06-13T18:08:19.674Z"
   },
   {
    "duration": 26,
    "start_time": "2021-06-13T18:09:24.373Z"
   },
   {
    "duration": 46,
    "start_time": "2021-06-13T18:10:02.973Z"
   },
   {
    "duration": 42,
    "start_time": "2021-06-13T18:10:40.135Z"
   },
   {
    "duration": 55,
    "start_time": "2021-06-13T18:12:25.893Z"
   },
   {
    "duration": 47,
    "start_time": "2021-06-13T18:12:34.733Z"
   },
   {
    "duration": 44,
    "start_time": "2021-06-13T18:13:57.313Z"
   },
   {
    "duration": 85,
    "start_time": "2021-06-13T18:24:46.034Z"
   },
   {
    "duration": 86,
    "start_time": "2021-06-13T18:26:12.113Z"
   },
   {
    "duration": 256,
    "start_time": "2021-06-13T18:28:31.314Z"
   },
   {
    "duration": 10,
    "start_time": "2021-06-13T18:28:37.433Z"
   },
   {
    "duration": 35,
    "start_time": "2021-06-13T18:29:12.694Z"
   },
   {
    "duration": 39,
    "start_time": "2021-06-13T18:33:35.254Z"
   },
   {
    "duration": 48,
    "start_time": "2021-06-13T18:34:42.636Z"
   },
   {
    "duration": 37,
    "start_time": "2021-06-13T18:34:44.595Z"
   },
   {
    "duration": 44,
    "start_time": "2021-06-13T18:37:12.434Z"
   },
   {
    "duration": 3,
    "start_time": "2021-06-13T18:37:29.973Z"
   },
   {
    "duration": 41,
    "start_time": "2021-06-13T18:41:23.853Z"
   },
   {
    "duration": 5,
    "start_time": "2021-06-13T18:46:32.939Z"
   },
   {
    "duration": 6,
    "start_time": "2021-06-13T18:46:40.679Z"
   },
   {
    "duration": 4,
    "start_time": "2021-06-13T18:52:29.641Z"
   },
   {
    "duration": 5,
    "start_time": "2021-06-13T18:52:33.019Z"
   },
   {
    "duration": 27,
    "start_time": "2021-06-13T18:52:40.819Z"
   },
   {
    "duration": 722,
    "start_time": "2021-06-13T18:52:54.868Z"
   },
   {
    "duration": 169,
    "start_time": "2021-06-13T18:52:55.593Z"
   },
   {
    "duration": 31,
    "start_time": "2021-06-13T18:52:55.765Z"
   },
   {
    "duration": 34,
    "start_time": "2021-06-13T18:52:55.799Z"
   },
   {
    "duration": 5,
    "start_time": "2021-06-13T18:52:55.836Z"
   },
   {
    "duration": 40,
    "start_time": "2021-06-13T18:52:55.844Z"
   },
   {
    "duration": 7,
    "start_time": "2021-06-13T18:52:55.887Z"
   },
   {
    "duration": 35,
    "start_time": "2021-06-13T18:52:55.896Z"
   },
   {
    "duration": 3,
    "start_time": "2021-06-13T18:52:55.938Z"
   },
   {
    "duration": 61,
    "start_time": "2021-06-13T18:52:55.985Z"
   },
   {
    "duration": 51,
    "start_time": "2021-06-13T18:52:56.049Z"
   },
   {
    "duration": 3,
    "start_time": "2021-06-13T18:52:56.103Z"
   },
   {
    "duration": 10,
    "start_time": "2021-06-13T18:52:56.109Z"
   },
   {
    "duration": 7,
    "start_time": "2021-06-13T18:52:56.122Z"
   },
   {
    "duration": 9,
    "start_time": "2021-06-13T18:52:56.132Z"
   },
   {
    "duration": 6,
    "start_time": "2021-06-13T18:52:56.144Z"
   },
   {
    "duration": 33,
    "start_time": "2021-06-13T18:52:56.153Z"
   },
   {
    "duration": 6,
    "start_time": "2021-06-13T18:52:56.188Z"
   },
   {
    "duration": 6,
    "start_time": "2021-06-13T18:52:56.196Z"
   },
   {
    "duration": 9,
    "start_time": "2021-06-13T18:52:56.204Z"
   },
   {
    "duration": 7,
    "start_time": "2021-06-13T18:52:56.215Z"
   },
   {
    "duration": 13,
    "start_time": "2021-06-13T18:52:56.224Z"
   },
   {
    "duration": 7,
    "start_time": "2021-06-13T18:52:56.239Z"
   },
   {
    "duration": 8,
    "start_time": "2021-06-13T18:52:56.248Z"
   },
   {
    "duration": 3,
    "start_time": "2021-06-13T18:52:56.282Z"
   },
   {
    "duration": 5,
    "start_time": "2021-06-13T18:52:56.288Z"
   },
   {
    "duration": 8,
    "start_time": "2021-06-13T18:52:56.298Z"
   },
   {
    "duration": 8,
    "start_time": "2021-06-13T18:52:56.308Z"
   },
   {
    "duration": 7,
    "start_time": "2021-06-13T18:52:56.318Z"
   },
   {
    "duration": 8,
    "start_time": "2021-06-13T18:52:56.327Z"
   },
   {
    "duration": 9,
    "start_time": "2021-06-13T18:52:56.338Z"
   },
   {
    "duration": 11,
    "start_time": "2021-06-13T18:52:56.349Z"
   },
   {
    "duration": 4,
    "start_time": "2021-06-13T18:52:56.383Z"
   },
   {
    "duration": 11,
    "start_time": "2021-06-13T18:52:56.389Z"
   },
   {
    "duration": 8,
    "start_time": "2021-06-13T18:52:56.402Z"
   },
   {
    "duration": 7,
    "start_time": "2021-06-13T18:52:56.412Z"
   },
   {
    "duration": 11,
    "start_time": "2021-06-13T18:52:56.421Z"
   },
   {
    "duration": 9,
    "start_time": "2021-06-13T18:52:56.435Z"
   },
   {
    "duration": 12,
    "start_time": "2021-06-13T18:52:56.447Z"
   },
   {
    "duration": 39,
    "start_time": "2021-06-13T18:57:24.291Z"
   },
   {
    "duration": 52,
    "start_time": "2021-06-13T19:01:21.151Z"
   },
   {
    "duration": 42,
    "start_time": "2021-06-13T19:01:31.271Z"
   },
   {
    "duration": 79,
    "start_time": "2021-06-13T19:23:26.971Z"
   },
   {
    "duration": 74,
    "start_time": "2021-06-13T19:24:25.668Z"
   },
   {
    "duration": 101,
    "start_time": "2021-06-13T19:24:28.986Z"
   },
   {
    "duration": 72,
    "start_time": "2021-06-13T19:24:31.566Z"
   },
   {
    "duration": 9,
    "start_time": "2021-06-13T19:26:19.386Z"
   },
   {
    "duration": 325,
    "start_time": "2021-06-13T19:27:46.086Z"
   },
   {
    "duration": 54,
    "start_time": "2021-06-13T19:28:17.548Z"
   },
   {
    "duration": 53,
    "start_time": "2021-06-13T19:28:36.427Z"
   },
   {
    "duration": 4,
    "start_time": "2021-06-13T19:49:12.469Z"
   },
   {
    "duration": 13,
    "start_time": "2021-06-13T19:49:15.048Z"
   },
   {
    "duration": 55,
    "start_time": "2021-06-13T19:49:42.229Z"
   },
   {
    "duration": 17,
    "start_time": "2021-06-13T19:51:21.210Z"
   },
   {
    "duration": 54,
    "start_time": "2021-06-13T19:51:24.288Z"
   },
   {
    "duration": 37,
    "start_time": "2021-06-13T19:56:36.011Z"
   },
   {
    "duration": 38,
    "start_time": "2021-06-13T19:57:30.530Z"
   },
   {
    "duration": 38,
    "start_time": "2021-06-13T19:57:57.969Z"
   },
   {
    "duration": 37,
    "start_time": "2021-06-13T19:58:07.709Z"
   },
   {
    "duration": 250,
    "start_time": "2021-06-13T20:05:30.528Z"
   },
   {
    "duration": 256,
    "start_time": "2021-06-13T20:05:43.888Z"
   },
   {
    "duration": 6,
    "start_time": "2021-06-13T20:06:03.108Z"
   },
   {
    "duration": 16,
    "start_time": "2021-06-13T20:06:36.407Z"
   },
   {
    "duration": 244,
    "start_time": "2021-06-13T20:06:56.788Z"
   },
   {
    "duration": 251,
    "start_time": "2021-06-13T20:07:23.849Z"
   },
   {
    "duration": 249,
    "start_time": "2021-06-13T20:08:22.068Z"
   },
   {
    "duration": 254,
    "start_time": "2021-06-13T20:09:41.027Z"
   },
   {
    "duration": 252,
    "start_time": "2021-06-13T20:09:51.347Z"
   },
   {
    "duration": 235,
    "start_time": "2021-06-13T20:10:29.748Z"
   },
   {
    "duration": 264,
    "start_time": "2021-06-13T20:11:53.488Z"
   },
   {
    "duration": 297,
    "start_time": "2021-06-13T20:12:11.241Z"
   },
   {
    "duration": 757,
    "start_time": "2021-06-13T20:12:14.347Z"
   },
   {
    "duration": 190,
    "start_time": "2021-06-13T20:12:15.106Z"
   },
   {
    "duration": 26,
    "start_time": "2021-06-13T20:12:15.299Z"
   },
   {
    "duration": 34,
    "start_time": "2021-06-13T20:12:15.328Z"
   },
   {
    "duration": 4,
    "start_time": "2021-06-13T20:12:15.364Z"
   },
   {
    "duration": 13,
    "start_time": "2021-06-13T20:12:15.371Z"
   },
   {
    "duration": 7,
    "start_time": "2021-06-13T20:12:15.387Z"
   },
   {
    "duration": 34,
    "start_time": "2021-06-13T20:12:15.396Z"
   },
   {
    "duration": 3,
    "start_time": "2021-06-13T20:12:15.434Z"
   },
   {
    "duration": 76,
    "start_time": "2021-06-13T20:12:15.440Z"
   },
   {
    "duration": 42,
    "start_time": "2021-06-13T20:12:15.520Z"
   },
   {
    "duration": 99,
    "start_time": "2021-06-13T20:12:15.564Z"
   },
   {
    "duration": 107,
    "start_time": "2021-06-13T20:12:15.666Z"
   },
   {
    "duration": 122,
    "start_time": "2021-06-13T20:12:15.775Z"
   },
   {
    "duration": 57,
    "start_time": "2021-06-13T20:12:15.899Z"
   },
   {
    "duration": 5,
    "start_time": "2021-06-13T20:12:15.958Z"
   },
   {
    "duration": 18,
    "start_time": "2021-06-13T20:12:15.984Z"
   },
   {
    "duration": 96,
    "start_time": "2021-06-13T20:12:16.005Z"
   },
   {
    "duration": 100,
    "start_time": "2021-06-13T20:12:16.104Z"
   },
   {
    "duration": 8,
    "start_time": "2021-06-13T20:12:16.207Z"
   },
   {
    "duration": 6,
    "start_time": "2021-06-13T20:12:16.217Z"
   },
   {
    "duration": 59,
    "start_time": "2021-06-13T20:12:16.225Z"
   },
   {
    "duration": 7,
    "start_time": "2021-06-13T20:12:16.286Z"
   },
   {
    "duration": 6,
    "start_time": "2021-06-13T20:12:16.295Z"
   },
   {
    "duration": 6,
    "start_time": "2021-06-13T20:12:16.303Z"
   },
   {
    "duration": 9,
    "start_time": "2021-06-13T20:12:16.312Z"
   },
   {
    "duration": 8,
    "start_time": "2021-06-13T20:12:16.326Z"
   },
   {
    "duration": 47,
    "start_time": "2021-06-13T20:12:16.336Z"
   },
   {
    "duration": 7,
    "start_time": "2021-06-13T20:12:16.386Z"
   },
   {
    "duration": 12,
    "start_time": "2021-06-13T20:12:16.396Z"
   },
   {
    "duration": 9,
    "start_time": "2021-06-13T20:12:16.410Z"
   },
   {
    "duration": 10,
    "start_time": "2021-06-13T20:12:16.422Z"
   },
   {
    "duration": 14,
    "start_time": "2021-06-13T20:12:16.434Z"
   },
   {
    "duration": 9,
    "start_time": "2021-06-13T20:12:16.451Z"
   },
   {
    "duration": 7,
    "start_time": "2021-06-13T20:12:16.463Z"
   },
   {
    "duration": 16,
    "start_time": "2021-06-13T20:12:16.472Z"
   },
   {
    "duration": 8,
    "start_time": "2021-06-13T20:12:16.490Z"
   },
   {
    "duration": 8,
    "start_time": "2021-06-13T20:12:16.500Z"
   },
   {
    "duration": 8,
    "start_time": "2021-06-13T20:12:16.510Z"
   },
   {
    "duration": 41,
    "start_time": "2021-06-13T20:15:21.039Z"
   },
   {
    "duration": 38,
    "start_time": "2021-06-13T20:15:36.600Z"
   },
   {
    "duration": 62,
    "start_time": "2021-06-13T20:27:39.844Z"
   },
   {
    "duration": 65,
    "start_time": "2021-06-13T20:29:04.263Z"
   },
   {
    "duration": 65,
    "start_time": "2021-06-13T20:30:34.282Z"
   },
   {
    "duration": 56,
    "start_time": "2021-06-13T20:36:22.143Z"
   },
   {
    "duration": 61,
    "start_time": "2021-06-13T20:36:52.575Z"
   },
   {
    "duration": 6324,
    "start_time": "2021-06-13T20:38:43.763Z"
   },
   {
    "duration": 6350,
    "start_time": "2021-06-13T20:38:51.006Z"
   },
   {
    "duration": 6026,
    "start_time": "2021-06-13T20:39:22.415Z"
   },
   {
    "duration": 66,
    "start_time": "2021-06-13T20:41:01.853Z"
   },
   {
    "duration": 61,
    "start_time": "2021-06-13T20:41:36.993Z"
   },
   {
    "duration": 61,
    "start_time": "2021-06-13T20:43:38.136Z"
   },
   {
    "duration": 62,
    "start_time": "2021-06-13T20:44:09.105Z"
   },
   {
    "duration": 127,
    "start_time": "2021-06-13T20:44:46.478Z"
   },
   {
    "duration": 127,
    "start_time": "2021-06-13T20:45:11.820Z"
   },
   {
    "duration": 122,
    "start_time": "2021-06-13T20:45:37.454Z"
   },
   {
    "duration": 117,
    "start_time": "2021-06-13T20:47:08.318Z"
   },
   {
    "duration": 95,
    "start_time": "2021-06-13T20:47:41.817Z"
   },
   {
    "duration": 100,
    "start_time": "2021-06-13T20:50:44.007Z"
   },
   {
    "duration": 102,
    "start_time": "2021-06-13T20:59:34.336Z"
   },
   {
    "duration": 369,
    "start_time": "2021-06-13T21:02:02.407Z"
   },
   {
    "duration": 110,
    "start_time": "2021-06-13T21:03:03.136Z"
   },
   {
    "duration": 112,
    "start_time": "2021-06-13T21:04:16.325Z"
   },
   {
    "duration": 11,
    "start_time": "2021-06-13T21:05:16.553Z"
   },
   {
    "duration": 94,
    "start_time": "2021-06-13T21:05:39.155Z"
   },
   {
    "duration": 97,
    "start_time": "2021-06-13T21:06:44.755Z"
   },
   {
    "duration": 12,
    "start_time": "2021-06-13T21:06:47.754Z"
   },
   {
    "duration": 94,
    "start_time": "2021-06-13T21:08:59.996Z"
   },
   {
    "duration": 93,
    "start_time": "2021-06-13T21:10:55.476Z"
   },
   {
    "duration": 11,
    "start_time": "2021-06-13T21:11:00.354Z"
   },
   {
    "duration": -412,
    "start_time": "2021-06-13T21:23:26.911Z"
   },
   {
    "duration": 6811,
    "start_time": "2021-06-13T21:23:35.796Z"
   },
   {
    "duration": 7339,
    "start_time": "2021-06-13T21:24:14.765Z"
   },
   {
    "duration": 39,
    "start_time": "2021-06-13T21:27:43.311Z"
   },
   {
    "duration": 93,
    "start_time": "2021-06-13T21:36:25.056Z"
   },
   {
    "duration": 12,
    "start_time": "2021-06-13T21:36:28.125Z"
   },
   {
    "duration": 90,
    "start_time": "2021-06-13T21:42:48.768Z"
   },
   {
    "duration": 13,
    "start_time": "2021-06-13T21:43:02.735Z"
   },
   {
    "duration": 39,
    "start_time": "2021-06-13T21:44:25.663Z"
   },
   {
    "duration": 38,
    "start_time": "2021-06-13T21:44:32.725Z"
   },
   {
    "duration": 12,
    "start_time": "2021-06-13T21:44:52.732Z"
   },
   {
    "duration": 29,
    "start_time": "2021-06-13T21:49:01.787Z"
   },
   {
    "duration": 25,
    "start_time": "2021-06-13T21:49:30.004Z"
   },
   {
    "duration": 17,
    "start_time": "2021-06-13T21:49:47.745Z"
   },
   {
    "duration": 13,
    "start_time": "2021-06-13T21:49:49.863Z"
   },
   {
    "duration": 241,
    "start_time": "2021-06-13T22:03:24.756Z"
   },
   {
    "duration": 5,
    "start_time": "2021-06-13T22:03:41.309Z"
   },
   {
    "duration": 25,
    "start_time": "2021-06-13T22:03:44.476Z"
   },
   {
    "duration": 24,
    "start_time": "2021-06-13T22:04:07.144Z"
   },
   {
    "duration": 25,
    "start_time": "2021-06-13T22:04:17.518Z"
   },
   {
    "duration": 23,
    "start_time": "2021-06-13T22:04:29.555Z"
   },
   {
    "duration": 17,
    "start_time": "2021-06-13T22:04:48.022Z"
   },
   {
    "duration": 23,
    "start_time": "2021-06-13T22:06:03.862Z"
   },
   {
    "duration": 16,
    "start_time": "2021-06-13T22:06:06.872Z"
   },
   {
    "duration": 29,
    "start_time": "2021-06-13T22:13:48.547Z"
   },
   {
    "duration": 38,
    "start_time": "2021-06-13T22:14:08.836Z"
   },
   {
    "duration": 271,
    "start_time": "2021-06-13T22:14:58.396Z"
   },
   {
    "duration": 280,
    "start_time": "2021-06-13T22:15:19.229Z"
   },
   {
    "duration": 38,
    "start_time": "2021-06-13T22:15:27.035Z"
   },
   {
    "duration": 250,
    "start_time": "2021-06-13T22:15:58.785Z"
   },
   {
    "duration": 14,
    "start_time": "2021-06-13T22:17:08.750Z"
   },
   {
    "duration": 14,
    "start_time": "2021-06-13T22:17:27.127Z"
   },
   {
    "duration": 7,
    "start_time": "2021-06-13T22:18:06.406Z"
   },
   {
    "duration": 11,
    "start_time": "2021-06-13T22:18:09.342Z"
   },
   {
    "duration": 6,
    "start_time": "2021-06-13T22:19:10.694Z"
   },
   {
    "duration": 267,
    "start_time": "2021-06-13T22:19:21.933Z"
   },
   {
    "duration": 9,
    "start_time": "2021-06-13T22:19:30.248Z"
   },
   {
    "duration": 6,
    "start_time": "2021-06-13T22:19:32.326Z"
   },
   {
    "duration": 44,
    "start_time": "2021-06-13T22:25:23.000Z"
   },
   {
    "duration": 55,
    "start_time": "2021-06-13T22:25:29.730Z"
   },
   {
    "duration": 530,
    "start_time": "2021-06-13T22:27:03.215Z"
   },
   {
    "duration": 17,
    "start_time": "2021-06-13T22:27:57.525Z"
   },
   {
    "duration": 56,
    "start_time": "2021-06-13T22:28:04.119Z"
   },
   {
    "duration": 56,
    "start_time": "2021-06-13T22:29:14.632Z"
   },
   {
    "duration": 59,
    "start_time": "2021-06-13T22:30:06.941Z"
   },
   {
    "duration": 7,
    "start_time": "2021-06-13T22:30:18.611Z"
   },
   {
    "duration": 46,
    "start_time": "2021-06-13T22:30:26.039Z"
   },
   {
    "duration": 49,
    "start_time": "2021-06-13T22:31:06.877Z"
   },
   {
    "duration": 86,
    "start_time": "2021-06-13T22:31:24.825Z"
   },
   {
    "duration": 325,
    "start_time": "2021-06-13T22:35:40.602Z"
   },
   {
    "duration": 87,
    "start_time": "2021-06-13T22:35:59.626Z"
   },
   {
    "duration": 90,
    "start_time": "2021-06-13T22:41:19.864Z"
   },
   {
    "duration": 306,
    "start_time": "2021-06-13T22:42:13.866Z"
   },
   {
    "duration": 312,
    "start_time": "2021-06-13T22:43:31.862Z"
   },
   {
    "duration": 339,
    "start_time": "2021-06-13T22:52:14.869Z"
   },
   {
    "duration": 85,
    "start_time": "2021-06-13T22:52:40.196Z"
   },
   {
    "duration": 290,
    "start_time": "2021-06-13T22:52:54.057Z"
   },
   {
    "duration": 84,
    "start_time": "2021-06-13T22:53:09.746Z"
   },
   {
    "duration": 281,
    "start_time": "2021-06-13T22:54:06.791Z"
   },
   {
    "duration": 74,
    "start_time": "2021-06-13T22:54:22.279Z"
   },
   {
    "duration": 63,
    "start_time": "2021-06-13T22:54:39.917Z"
   },
   {
    "duration": 65,
    "start_time": "2021-06-13T22:55:43.177Z"
   },
   {
    "duration": 130,
    "start_time": "2021-06-13T22:56:13.137Z"
   },
   {
    "duration": 12,
    "start_time": "2021-06-13T22:56:18.516Z"
   },
   {
    "duration": 388,
    "start_time": "2021-06-13T23:01:08.259Z"
   },
   {
    "duration": 146,
    "start_time": "2021-06-13T23:01:30.437Z"
   },
   {
    "duration": 11,
    "start_time": "2021-06-13T23:01:33.821Z"
   },
   {
    "duration": 5,
    "start_time": "2021-06-13T23:03:23.142Z"
   },
   {
    "duration": 143,
    "start_time": "2021-06-13T23:03:53.544Z"
   },
   {
    "duration": 11,
    "start_time": "2021-06-13T23:03:56.311Z"
   },
   {
    "duration": 776,
    "start_time": "2021-06-13T23:07:06.062Z"
   },
   {
    "duration": 179,
    "start_time": "2021-06-13T23:07:06.840Z"
   },
   {
    "duration": 25,
    "start_time": "2021-06-13T23:07:07.022Z"
   },
   {
    "duration": 48,
    "start_time": "2021-06-13T23:07:07.050Z"
   },
   {
    "duration": 5,
    "start_time": "2021-06-13T23:07:07.100Z"
   },
   {
    "duration": 15,
    "start_time": "2021-06-13T23:07:07.108Z"
   },
   {
    "duration": 12,
    "start_time": "2021-06-13T23:07:07.126Z"
   },
   {
    "duration": 45,
    "start_time": "2021-06-13T23:07:07.142Z"
   },
   {
    "duration": 4,
    "start_time": "2021-06-13T23:07:07.190Z"
   },
   {
    "duration": 78,
    "start_time": "2021-06-13T23:07:07.196Z"
   },
   {
    "duration": 39,
    "start_time": "2021-06-13T23:07:07.283Z"
   },
   {
    "duration": 102,
    "start_time": "2021-06-13T23:07:07.325Z"
   },
   {
    "duration": 105,
    "start_time": "2021-06-13T23:07:07.430Z"
   },
   {
    "duration": 85,
    "start_time": "2021-06-13T23:07:07.538Z"
   },
   {
    "duration": 62,
    "start_time": "2021-06-13T23:07:07.625Z"
   },
   {
    "duration": 4,
    "start_time": "2021-06-13T23:07:07.690Z"
   },
   {
    "duration": 29,
    "start_time": "2021-06-13T23:07:07.696Z"
   },
   {
    "duration": 61,
    "start_time": "2021-06-13T23:07:07.728Z"
   },
   {
    "duration": 40,
    "start_time": "2021-06-13T23:07:07.792Z"
   },
   {
    "duration": 65,
    "start_time": "2021-06-13T23:07:07.835Z"
   },
   {
    "duration": 16,
    "start_time": "2021-06-13T23:07:07.902Z"
   },
   {
    "duration": 165,
    "start_time": "2021-06-13T23:07:07.921Z"
   },
   {
    "duration": 11,
    "start_time": "2021-06-13T23:07:08.090Z"
   },
   {
    "duration": 18,
    "start_time": "2021-06-13T23:07:08.104Z"
   },
   {
    "duration": 13,
    "start_time": "2021-06-13T23:07:08.124Z"
   },
   {
    "duration": 6,
    "start_time": "2021-06-13T23:07:08.139Z"
   },
   {
    "duration": 55,
    "start_time": "2021-06-13T23:07:08.148Z"
   },
   {
    "duration": 16,
    "start_time": "2021-06-13T23:07:08.205Z"
   },
   {
    "duration": 21,
    "start_time": "2021-06-13T23:07:08.224Z"
   },
   {
    "duration": 49,
    "start_time": "2021-06-13T23:07:08.247Z"
   },
   {
    "duration": 11,
    "start_time": "2021-06-13T23:07:08.299Z"
   },
   {
    "duration": 9,
    "start_time": "2021-06-13T23:07:08.312Z"
   },
   {
    "duration": 13,
    "start_time": "2021-06-13T23:07:08.323Z"
   },
   {
    "duration": 6,
    "start_time": "2021-06-13T23:07:08.338Z"
   },
   {
    "duration": 792,
    "start_time": "2021-06-14T20:05:19.156Z"
   },
   {
    "duration": 201,
    "start_time": "2021-06-14T20:05:19.951Z"
   },
   {
    "duration": 38,
    "start_time": "2021-06-14T20:05:20.156Z"
   },
   {
    "duration": 32,
    "start_time": "2021-06-14T20:05:20.196Z"
   },
   {
    "duration": 4,
    "start_time": "2021-06-14T20:05:20.231Z"
   },
   {
    "duration": 7,
    "start_time": "2021-06-14T20:05:20.238Z"
   },
   {
    "duration": 40,
    "start_time": "2021-06-14T20:05:20.247Z"
   },
   {
    "duration": 36,
    "start_time": "2021-06-14T20:05:20.289Z"
   },
   {
    "duration": 3,
    "start_time": "2021-06-14T20:05:20.330Z"
   },
   {
    "duration": 95,
    "start_time": "2021-06-14T20:05:20.337Z"
   },
   {
    "duration": 52,
    "start_time": "2021-06-14T20:05:20.435Z"
   },
   {
    "duration": 79,
    "start_time": "2021-06-14T20:05:20.490Z"
   },
   {
    "duration": 103,
    "start_time": "2021-06-14T20:05:20.586Z"
   },
   {
    "duration": 73,
    "start_time": "2021-06-14T20:05:20.692Z"
   },
   {
    "duration": 69,
    "start_time": "2021-06-14T20:05:20.767Z"
   },
   {
    "duration": 4,
    "start_time": "2021-06-14T20:05:20.839Z"
   },
   {
    "duration": 43,
    "start_time": "2021-06-14T20:05:20.846Z"
   },
   {
    "duration": 57,
    "start_time": "2021-06-14T20:05:20.891Z"
   },
   {
    "duration": 64,
    "start_time": "2021-06-14T20:05:20.951Z"
   },
   {
    "duration": 38,
    "start_time": "2021-06-14T20:05:21.018Z"
   },
   {
    "duration": 35,
    "start_time": "2021-06-14T20:05:21.059Z"
   },
   {
    "duration": 173,
    "start_time": "2021-06-14T20:05:21.096Z"
   },
   {
    "duration": 13,
    "start_time": "2021-06-14T20:05:21.272Z"
   },
   {
    "duration": 14,
    "start_time": "2021-06-14T20:05:21.288Z"
   },
   {
    "duration": 11,
    "start_time": "2021-06-14T20:05:21.305Z"
   },
   {
    "duration": 10,
    "start_time": "2021-06-14T20:05:21.319Z"
   },
   {
    "duration": 55,
    "start_time": "2021-06-14T20:05:21.333Z"
   },
   {
    "duration": 15,
    "start_time": "2021-06-14T20:05:21.391Z"
   },
   {
    "duration": 18,
    "start_time": "2021-06-14T20:05:21.408Z"
   },
   {
    "duration": 14,
    "start_time": "2021-06-14T20:05:21.428Z"
   },
   {
    "duration": 50,
    "start_time": "2021-06-14T20:05:21.445Z"
   },
   {
    "duration": 7,
    "start_time": "2021-06-14T20:05:21.499Z"
   },
   {
    "duration": 10,
    "start_time": "2021-06-14T20:05:21.509Z"
   },
   {
    "duration": 5,
    "start_time": "2021-06-14T20:05:21.521Z"
   }
  ],
  "colab": {
   "collapsed_sections": [
    "E0vqbgi9ay0H",
    "VUC88oWjTJw2"
   ],
   "name": "yandex_music_project_2021.2.ipynb",
   "provenance": []
  },
  "kernelspec": {
   "display_name": "Python 3",
   "language": "python",
   "name": "python3"
  },
  "language_info": {
   "codemirror_mode": {
    "name": "ipython",
    "version": 3
   },
   "file_extension": ".py",
   "mimetype": "text/x-python",
   "name": "python",
   "nbconvert_exporter": "python",
   "pygments_lexer": "ipython3",
   "version": "3.8.5"
  },
  "toc": {
   "base_numbering": 1,
   "nav_menu": {},
   "number_sections": true,
   "sideBar": true,
   "skip_h1_title": true,
   "title_cell": "Table of Contents",
   "title_sidebar": "Contents",
   "toc_cell": true,
   "toc_position": {
    "height": "calc(100% - 180px)",
    "left": "10px",
    "top": "150px",
    "width": "270.178px"
   },
   "toc_section_display": true,
   "toc_window_display": true
  }
 },
 "nbformat": 4,
 "nbformat_minor": 1
}
