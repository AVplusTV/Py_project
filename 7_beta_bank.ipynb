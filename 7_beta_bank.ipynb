{
 "cells": [
  {
   "cell_type": "markdown",
   "metadata": {},
   "source": [
    "<hr style=\"border: 2px solid green;\" />\n",
    "\n",
    "## Комментарий ревьювера\n",
    "\n",
    "Роман, привет! \n",
    "\n",
    "🤚Меня зовут, Олег Юрьев, я буду проверять твой проект. Если не против, я буду обращаться к тебе на _ТЫ_ . Если это неприемлемо, обязательно напиши мне в комментариях - мы перейдем на _ВЫ_ .\n",
    "\n",
    "🤝Спасибо, что сдал проект вовремя. Тобой проделана большая работа, молодец! \n",
    "\n",
    "✏️В этой тетрадке ты найдешь мои комментарии.\n",
    "\n",
    "Комментарии будут выделены:\n",
    "\n",
    "<div style=\"border-radius: 15px; box-shadow: 4px 4px 4px; border: solid green 2px; padding: 20px\"> <b>Отличная работа</b><br>\n",
    "    Безупречная работа</div>       \n",
    "<br>\n",
    "<div style=\"border-radius: 15px; box-shadow: 4px 4px 4px; border: solid orange 2px; padding: 20px\"> <b>Что можно улучшить</b><br>\n",
    "    Ничего дорабатывать не надо, данные пункты работают нормально, но есть способы улучшить. Несколько таких комментариев допустимы, но более - придется некоторые доработать. Большое кол-во мелких замечаний и помарок сказываются на общем впечатлении от работы.</div>   \n",
    "<br>\n",
    "<div style=\"border-radius: 15px; box-shadow: 4px 4px 4px; border: solid red 2px; padding: 20px\"> <b>Что необходимо доработать</b><br>\n",
    "    Такие пункты необходимо исправить в первую очередь, чтобы я смог принять проект.</div>\n",
    " \n",
    "Не удаляй комментарии, так будем следить за динамикой 📈\n",
    "   \n",
    "Давай будем в диалоге - основные цели в диалоге:\n",
    "- обмен опытом (да я тоже учусь у студентов👨‍🎓)\n",
    "- выполнить проект еще лучше\n",
    "- помочь тебе стать аналитиком\n",
    "\n",
    "Поэтому чтобы мне проще было проверять повторно, а тебе контролировать процесс ревью, оставляй свои комментарии и выделяй их. \n",
    "    \n",
    "<div class=\"alert alert-info\" style=\"border:solid blue 2px; padding: 20px\"> <b>Комментарий студента:</b> Например, вот так.</div>\n",
    "   \n",
    "Поехали! :)\n",
    "\n",
    "<hr style=\"border: 2px solid green;\" />"
   ]
  },
  {
   "cell_type": "markdown",
   "metadata": {},
   "source": [
    "<b>Содержание проекта:"
   ]
  },
  {
   "cell_type": "markdown",
   "metadata": {},
   "source": [
    "## Содержание проекта"
   ]
  },
  {
   "cell_type": "markdown",
   "metadata": {
    "toc": true
   },
   "source": [
    "<h1>Table of Contents<span class=\"tocSkip\"></span></h1>\n",
    "<div class=\"toc\"><ul class=\"toc-item\"><li><span><a href=\"#Комментарий-ревьювера\" data-toc-modified-id=\"Комментарий-ревьювера-1\"><span class=\"toc-item-num\">1&nbsp;&nbsp;</span>Комментарий ревьювера</a></span></li><li><span><a href=\"#Содержание-проекта\" data-toc-modified-id=\"Содержание-проекта-2\"><span class=\"toc-item-num\">2&nbsp;&nbsp;</span>Содержание проекта</a></span></li><li><span><a href=\"#Исследование-данных-Бета-Банка\" data-toc-modified-id=\"Исследование-данных-Бета-Банка-3\"><span class=\"toc-item-num\">3&nbsp;&nbsp;</span>Исследование данных Бета-Банка</a></span><ul class=\"toc-item\"><li><span><a href=\"#Открываем-файл-с-данными-и-анализируем-содержимое\" data-toc-modified-id=\"Открываем-файл-с-данными-и-анализируем-содержимое-3.1\"><span class=\"toc-item-num\">3.1&nbsp;&nbsp;</span>Открываем файл с данными и анализируем содержимое</a></span></li></ul></li><li><span><a href=\"#Предобработка-данных-таблицы\" data-toc-modified-id=\"Предобработка-данных-таблицы-4\"><span class=\"toc-item-num\">4&nbsp;&nbsp;</span>Предобработка данных таблицы</a></span><ul class=\"toc-item\"><li><span><a href=\"#Удаляем-столбец\" data-toc-modified-id=\"Удаляем-столбец-4.1\"><span class=\"toc-item-num\">4.1&nbsp;&nbsp;</span>Удаляем столбец</a></span></li><li><span><a href=\"#Переименовываем-столбцы\" data-toc-modified-id=\"Переименовываем-столбцы-4.2\"><span class=\"toc-item-num\">4.2&nbsp;&nbsp;</span>Переименовываем столбцы</a></span></li><li><span><a href=\"#Явные-дубликаты\" data-toc-modified-id=\"Явные-дубликаты-4.3\"><span class=\"toc-item-num\">4.3&nbsp;&nbsp;</span>Явные дубликаты</a></span></li><li><span><a href=\"#Не-явные-дубликаты\" data-toc-modified-id=\"Не-явные-дубликаты-4.4\"><span class=\"toc-item-num\">4.4&nbsp;&nbsp;</span>Не явные дубликаты</a></span></li><li><span><a href=\"#Исследуем-столбец-tenure\" data-toc-modified-id=\"Исследуем-столбец-tenure-4.5\"><span class=\"toc-item-num\">4.5&nbsp;&nbsp;</span>Исследуем столбец tenure</a></span></li></ul></li><li><span><a href=\"#Удаление-столбцов-из-таблицы,-не-влияющих-на-обучение-моделей-предсказаний\" data-toc-modified-id=\"Удаление-столбцов-из-таблицы,-не-влияющих-на-обучение-моделей-предсказаний-5\"><span class=\"toc-item-num\">5&nbsp;&nbsp;</span>Удаление столбцов из таблицы, не влияющих на обучение моделей предсказаний</a></span></li><li><span><a href=\"#Преобразование-категориальных-данных-в-числовые,-метод-OHE\" data-toc-modified-id=\"Преобразование-категориальных-данных-в-числовые,-метод-OHE-6\"><span class=\"toc-item-num\">6&nbsp;&nbsp;</span>Преобразование категориальных данных в числовые, метод OHE</a></span></li><li><span><a href=\"#Массштабирование-признаков\" data-toc-modified-id=\"Массштабирование-признаков-7\"><span class=\"toc-item-num\">7&nbsp;&nbsp;</span>Массштабирование признаков</a></span></li><li><span><a href=\"#Разделим-исходные-данные-на-обучающую,-валидационную-и-тестовую-выборки-без-стратификации-и-баланса-классов.\" data-toc-modified-id=\"Разделим-исходные-данные-на-обучающую,-валидационную-и-тестовую-выборки-без-стратификации-и-баланса-классов.-8\"><span class=\"toc-item-num\">8&nbsp;&nbsp;</span>Разделим исходные данные на обучающую, валидационную и тестовую выборки без стратификации и баланса классов.</a></span></li><li><span><a href=\"#Исследуем-качество-F1-меры-разных-моделей-на-данных-без-стратификации,-меняя-гиперпараметры.\" data-toc-modified-id=\"Исследуем-качество-F1-меры-разных-моделей-на-данных-без-стратификации,-меняя-гиперпараметры.-9\"><span class=\"toc-item-num\">9&nbsp;&nbsp;</span>Исследуем качество F1-меры разных моделей на данных без стратификации, меняя гиперпараметры.</a></span><ul class=\"toc-item\"><li><span><a href=\"#Модель-решающего-дерева:\" data-toc-modified-id=\"Модель-решающего-дерева:-9.1\"><span class=\"toc-item-num\">9.1&nbsp;&nbsp;</span>Модель решающего дерева:</a></span></li><li><span><a href=\"#Модель-случайного-леса\" data-toc-modified-id=\"Модель-случайного-леса-9.2\"><span class=\"toc-item-num\">9.2&nbsp;&nbsp;</span>Модель случайного леса</a></span></li><li><span><a href=\"#Логистическая-регрессия\" data-toc-modified-id=\"Логистическая-регрессия-9.3\"><span class=\"toc-item-num\">9.3&nbsp;&nbsp;</span>Логистическая регрессия</a></span></li></ul></li><li><span><a href=\"#Разделим-исходные-данные-на-обучающую,-валидационную-и-тестовую-выборки-учитывая-стратификацию-классов.\" data-toc-modified-id=\"Разделим-исходные-данные-на-обучающую,-валидационную-и-тестовую-выборки-учитывая-стратификацию-классов.-10\"><span class=\"toc-item-num\">10&nbsp;&nbsp;</span>Разделим исходные данные на обучающую, валидационную и тестовую выборки учитывая стратификацию классов.</a></span></li><li><span><a href=\"#Исследуем-качество-F1-меры-разных-моделей-на-данных-c-учетом-баланса-классов,-меняя-гиперпараметры.\" data-toc-modified-id=\"Исследуем-качество-F1-меры-разных-моделей-на-данных-c-учетом-баланса-классов,-меняя-гиперпараметры.-11\"><span class=\"toc-item-num\">11&nbsp;&nbsp;</span>Исследуем качество F1-меры разных моделей на данных c учетом баланса классов, меняя гиперпараметры.</a></span><ul class=\"toc-item\"><li><span><a href=\"#Модель-решающего-дерева:\" data-toc-modified-id=\"Модель-решающего-дерева:-11.1\"><span class=\"toc-item-num\">11.1&nbsp;&nbsp;</span>Модель решающего дерева:</a></span></li><li><span><a href=\"#Модель-случайного-леса\" data-toc-modified-id=\"Модель-случайного-леса-11.2\"><span class=\"toc-item-num\">11.2&nbsp;&nbsp;</span>Модель случайного леса</a></span></li><li><span><a href=\"#Логистическая-регрессия\" data-toc-modified-id=\"Логистическая-регрессия-11.3\"><span class=\"toc-item-num\">11.3&nbsp;&nbsp;</span>Логистическая регрессия</a></span></li></ul></li><li><span><a href=\"#Проверим-качество-модели-на-тестовой-выборке-с-учетом-баланса-классов.\" data-toc-modified-id=\"Проверим-качество-модели-на-тестовой-выборке-с-учетом-баланса-классов.-12\"><span class=\"toc-item-num\">12&nbsp;&nbsp;</span>Проверим качество модели на тестовой выборке с учетом баланса классов.</a></span><ul class=\"toc-item\"><li><span><a href=\"#Модель-решающего-дерева---обучение-на-60%-данных\" data-toc-modified-id=\"Модель-решающего-дерева---обучение-на-60%-данных-12.1\"><span class=\"toc-item-num\">12.1&nbsp;&nbsp;</span>Модель решающего дерева - обучение на 60% данных</a></span></li><li><span><a href=\"#Модель-случайного-леса---обучение-на-60%-данных\" data-toc-modified-id=\"Модель-случайного-леса---обучение-на-60%-данных-12.2\"><span class=\"toc-item-num\">12.2&nbsp;&nbsp;</span>Модель случайного леса - обучение на 60% данных</a></span></li><li><span><a href=\"#Разделим-данные-на-тренировочные-и-тестовые-80\\20\" data-toc-modified-id=\"Разделим-данные-на-тренировочные-и-тестовые-80\\20-12.3\"><span class=\"toc-item-num\">12.3&nbsp;&nbsp;</span>Разделим данные на тренировочные и тестовые 80\\20</a></span></li><li><span><a href=\"#Модель-решающего-дерева---обучение-на-80%-данных\" data-toc-modified-id=\"Модель-решающего-дерева---обучение-на-80%-данных-12.4\"><span class=\"toc-item-num\">12.4&nbsp;&nbsp;</span>Модель решающего дерева - обучение на 80% данных</a></span></li><li><span><a href=\"#Модель-случайного-леса---обучение-на-80%-данных\" data-toc-modified-id=\"Модель-случайного-леса---обучение-на-80%-данных-12.5\"><span class=\"toc-item-num\">12.5&nbsp;&nbsp;</span>Модель случайного леса - обучение на 80% данных</a></span></li><li><span><a href=\"#Модель-случайного-леса-на-данных-без-массштабирования\" data-toc-modified-id=\"Модель-случайного-леса-на-данных-без-массштабирования-12.6\"><span class=\"toc-item-num\">12.6&nbsp;&nbsp;</span>Модель случайного леса на данных без массштабирования</a></span></li><li><span><a href=\"#ROC-кривая-лучшей-модели\" data-toc-modified-id=\"ROC-кривая-лучшей-модели-12.7\"><span class=\"toc-item-num\">12.7&nbsp;&nbsp;</span>ROC кривая лучшей модели</a></span></li><li><span><a href=\"#Модель-случайного-леса-на-данных-без-массштабирования-с-Дамми-ловушкой\" data-toc-modified-id=\"Модель-случайного-леса-на-данных-без-массштабирования-с-Дамми-ловушкой-12.8\"><span class=\"toc-item-num\">12.8&nbsp;&nbsp;</span>Модель случайного леса на данных без массштабирования с Дамми-ловушкой</a></span></li><li><span><a href=\"#Проверка-на-адекватность-моделей\" data-toc-modified-id=\"Проверка-на-адекватность-моделей-12.9\"><span class=\"toc-item-num\">12.9&nbsp;&nbsp;</span>Проверка на адекватность моделей</a></span></li><li><span><a href=\"#А-что-если-мы-уменьшим-количество-данных-с-нулями?\" data-toc-modified-id=\"А-что-если-мы-уменьшим-количество-данных-с-нулями?-12.10\"><span class=\"toc-item-num\">12.10&nbsp;&nbsp;</span>А что если мы уменьшим количество данных с нулями?</a></span></li></ul></li><li><span><a href=\"#Обобщим-исследования\" data-toc-modified-id=\"Обобщим-исследования-13\"><span class=\"toc-item-num\">13&nbsp;&nbsp;</span>Обобщим исследования</a></span></li><li><span><a href=\"#Финальный-комментарий\" data-toc-modified-id=\"Финальный-комментарий-14\"><span class=\"toc-item-num\">14&nbsp;&nbsp;</span><span style=\"color: green\">Финальный комментарий<span></span></span></a></span></li></ul></div>"
   ]
  },
  {
   "cell_type": "markdown",
   "metadata": {},
   "source": [
    "The version of the notebook server is: 6.1.4\n",
    "\n",
    "The server is running on this version of Python: Python 3.8.5\n",
    "\n",
    "OS Windows 10 Home\n",
    "\n",
    "Configurable nbextensions Table of Contents (2) compatibility: 4.x, 5.x (https://www.codegrepper.com/code-examples/shell/install+toc2+jupyter+notebook)"
   ]
  },
  {
   "cell_type": "markdown",
   "metadata": {},
   "source": [
    "<b>Описание проекта:</b>\n",
    "\n",
    "\n",
    "Из «Бета-Банка» стали уходить клиенты. Каждый месяц. Немного, но заметно. Банковские маркетологи посчитали: сохранять текущих клиентов дешевле, чем привлекать новых.\n",
    "\n",
    "\n",
    "Нужно спрогнозировать, уйдёт клиент из банка в ближайшее время или нет. Вам предоставлены исторические данные о поведении клиентов и расторжении договоров с банком.\n",
    "\n",
    "\n",
    "Постройте модель с предельно большим значением F1-меры. Чтобы сдать проект успешно, нужно довести метрику до 0.59. Проверьте F1-меру на тестовой выборке самостоятельно.\n",
    "\n",
    "\n",
    "Дополнительно измеряйте AUC-ROC, сравнивайте её значение с F1-мерой."
   ]
  },
  {
   "cell_type": "code",
   "execution_count": 1,
   "metadata": {},
   "outputs": [],
   "source": [
    "import pandas as pd # импорт библиотеки pandas\n",
    "import matplotlib.pyplot as plt # импорт библиотеки работы с графиками\n",
    "import numpy as np # импорт библиотеки для вычислений\n",
    "import warnings\n",
    "warnings.filterwarnings('ignore') # отключаем сообщения об ошибках pandas\n",
    "pd.set_option('display.max_columns', None) # Сброс ограничений на число выводимых столбцов"
   ]
  },
  {
   "cell_type": "markdown",
   "metadata": {},
   "source": [
    "## Исследование данных Бета-Банка"
   ]
  },
  {
   "cell_type": "markdown",
   "metadata": {},
   "source": [
    "### Открываем файл с данными и анализируем содержимое\n",
    "\n",
    "от Бета-Банка получен следующий файл: Churn.csv  отток клиентов"
   ]
  },
  {
   "cell_type": "markdown",
   "metadata": {},
   "source": [
    "Функция для чтения файла в таблицу с учетом возможности работы на разных платформах:"
   ]
  },
  {
   "cell_type": "code",
   "execution_count": 2,
   "metadata": {},
   "outputs": [],
   "source": [
    "def read_csv(link):\n",
    "    link1 = 'datasets/'+link\n",
    "    link2 = '/datasets/'+link\n",
    "    try:\n",
    "        name_link = pd.read_csv(link1)\n",
    "    except:\n",
    "        name_link = pd.read_csv(link2)\n",
    "    return name_link"
   ]
  },
  {
   "cell_type": "code",
   "execution_count": 3,
   "metadata": {},
   "outputs": [],
   "source": [
    "df = read_csv('Churn.csv') #применяем функцию чтения"
   ]
  },
  {
   "cell_type": "code",
   "execution_count": 4,
   "metadata": {},
   "outputs": [
    {
     "data": {
      "text/html": [
       "<div>\n",
       "<style scoped>\n",
       "    .dataframe tbody tr th:only-of-type {\n",
       "        vertical-align: middle;\n",
       "    }\n",
       "\n",
       "    .dataframe tbody tr th {\n",
       "        vertical-align: top;\n",
       "    }\n",
       "\n",
       "    .dataframe thead th {\n",
       "        text-align: right;\n",
       "    }\n",
       "</style>\n",
       "<table border=\"1\" class=\"dataframe\">\n",
       "  <thead>\n",
       "    <tr style=\"text-align: right;\">\n",
       "      <th></th>\n",
       "      <th>RowNumber</th>\n",
       "      <th>CustomerId</th>\n",
       "      <th>Surname</th>\n",
       "      <th>CreditScore</th>\n",
       "      <th>Geography</th>\n",
       "      <th>Gender</th>\n",
       "      <th>Age</th>\n",
       "      <th>Tenure</th>\n",
       "      <th>Balance</th>\n",
       "      <th>NumOfProducts</th>\n",
       "      <th>HasCrCard</th>\n",
       "      <th>IsActiveMember</th>\n",
       "      <th>EstimatedSalary</th>\n",
       "      <th>Exited</th>\n",
       "    </tr>\n",
       "  </thead>\n",
       "  <tbody>\n",
       "    <tr>\n",
       "      <th>0</th>\n",
       "      <td>1</td>\n",
       "      <td>15634602</td>\n",
       "      <td>Hargrave</td>\n",
       "      <td>619</td>\n",
       "      <td>France</td>\n",
       "      <td>Female</td>\n",
       "      <td>42</td>\n",
       "      <td>2.0</td>\n",
       "      <td>0.00</td>\n",
       "      <td>1</td>\n",
       "      <td>1</td>\n",
       "      <td>1</td>\n",
       "      <td>101348.88</td>\n",
       "      <td>1</td>\n",
       "    </tr>\n",
       "    <tr>\n",
       "      <th>1</th>\n",
       "      <td>2</td>\n",
       "      <td>15647311</td>\n",
       "      <td>Hill</td>\n",
       "      <td>608</td>\n",
       "      <td>Spain</td>\n",
       "      <td>Female</td>\n",
       "      <td>41</td>\n",
       "      <td>1.0</td>\n",
       "      <td>83807.86</td>\n",
       "      <td>1</td>\n",
       "      <td>0</td>\n",
       "      <td>1</td>\n",
       "      <td>112542.58</td>\n",
       "      <td>0</td>\n",
       "    </tr>\n",
       "    <tr>\n",
       "      <th>2</th>\n",
       "      <td>3</td>\n",
       "      <td>15619304</td>\n",
       "      <td>Onio</td>\n",
       "      <td>502</td>\n",
       "      <td>France</td>\n",
       "      <td>Female</td>\n",
       "      <td>42</td>\n",
       "      <td>8.0</td>\n",
       "      <td>159660.80</td>\n",
       "      <td>3</td>\n",
       "      <td>1</td>\n",
       "      <td>0</td>\n",
       "      <td>113931.57</td>\n",
       "      <td>1</td>\n",
       "    </tr>\n",
       "    <tr>\n",
       "      <th>3</th>\n",
       "      <td>4</td>\n",
       "      <td>15701354</td>\n",
       "      <td>Boni</td>\n",
       "      <td>699</td>\n",
       "      <td>France</td>\n",
       "      <td>Female</td>\n",
       "      <td>39</td>\n",
       "      <td>1.0</td>\n",
       "      <td>0.00</td>\n",
       "      <td>2</td>\n",
       "      <td>0</td>\n",
       "      <td>0</td>\n",
       "      <td>93826.63</td>\n",
       "      <td>0</td>\n",
       "    </tr>\n",
       "    <tr>\n",
       "      <th>4</th>\n",
       "      <td>5</td>\n",
       "      <td>15737888</td>\n",
       "      <td>Mitchell</td>\n",
       "      <td>850</td>\n",
       "      <td>Spain</td>\n",
       "      <td>Female</td>\n",
       "      <td>43</td>\n",
       "      <td>2.0</td>\n",
       "      <td>125510.82</td>\n",
       "      <td>1</td>\n",
       "      <td>1</td>\n",
       "      <td>1</td>\n",
       "      <td>79084.10</td>\n",
       "      <td>0</td>\n",
       "    </tr>\n",
       "  </tbody>\n",
       "</table>\n",
       "</div>"
      ],
      "text/plain": [
       "   RowNumber  CustomerId   Surname  CreditScore Geography  Gender  Age  \\\n",
       "0          1    15634602  Hargrave          619    France  Female   42   \n",
       "1          2    15647311      Hill          608     Spain  Female   41   \n",
       "2          3    15619304      Onio          502    France  Female   42   \n",
       "3          4    15701354      Boni          699    France  Female   39   \n",
       "4          5    15737888  Mitchell          850     Spain  Female   43   \n",
       "\n",
       "   Tenure    Balance  NumOfProducts  HasCrCard  IsActiveMember  \\\n",
       "0     2.0       0.00              1          1               1   \n",
       "1     1.0   83807.86              1          0               1   \n",
       "2     8.0  159660.80              3          1               0   \n",
       "3     1.0       0.00              2          0               0   \n",
       "4     2.0  125510.82              1          1               1   \n",
       "\n",
       "   EstimatedSalary  Exited  \n",
       "0        101348.88       1  \n",
       "1        112542.58       0  \n",
       "2        113931.57       1  \n",
       "3         93826.63       0  \n",
       "4         79084.10       0  "
      ]
     },
     "execution_count": 4,
     "metadata": {},
     "output_type": "execute_result"
    }
   ],
   "source": [
    "df.head() # просмотрим перве 10 строчек"
   ]
  },
  {
   "cell_type": "code",
   "execution_count": 5,
   "metadata": {},
   "outputs": [
    {
     "name": "stdout",
     "output_type": "stream",
     "text": [
      "<class 'pandas.core.frame.DataFrame'>\n",
      "RangeIndex: 10000 entries, 0 to 9999\n",
      "Data columns (total 14 columns):\n",
      " #   Column           Non-Null Count  Dtype  \n",
      "---  ------           --------------  -----  \n",
      " 0   RowNumber        10000 non-null  int64  \n",
      " 1   CustomerId       10000 non-null  int64  \n",
      " 2   Surname          10000 non-null  object \n",
      " 3   CreditScore      10000 non-null  int64  \n",
      " 4   Geography        10000 non-null  object \n",
      " 5   Gender           10000 non-null  object \n",
      " 6   Age              10000 non-null  int64  \n",
      " 7   Tenure           9091 non-null   float64\n",
      " 8   Balance          10000 non-null  float64\n",
      " 9   NumOfProducts    10000 non-null  int64  \n",
      " 10  HasCrCard        10000 non-null  int64  \n",
      " 11  IsActiveMember   10000 non-null  int64  \n",
      " 12  EstimatedSalary  10000 non-null  float64\n",
      " 13  Exited           10000 non-null  int64  \n",
      "dtypes: float64(3), int64(8), object(3)\n",
      "memory usage: 1.1+ MB\n"
     ]
    }
   ],
   "source": [
    "df.info() # просмотрим информацию о таблице"
   ]
  },
  {
   "cell_type": "markdown",
   "metadata": {},
   "source": [
    "Таблица содержит 10000 строк, требуется приеобразование всех имен столбцов в формат snake_case\n",
    "\n",
    "<b>Признаки:</b>\n",
    "\n",
    "* RowNumber — индекс строки в данных\n",
    "\n",
    "        тип данных int64 верный, пропусков нет, но этот столбец можно удалить из данных\n",
    "\n",
    "* CustomerId — уникальный идентификатор клиента\n",
    "\n",
    "        тип данных int64 верный, пропусков нет\n",
    "\n",
    "* Surname — фамилия\n",
    "\n",
    "        тип данных object верный, пропусков нет\n",
    "\n",
    "* CreditScore — кредитный рейтинг\n",
    "\n",
    "        тип данных int64 верный, пропусков нет\n",
    "\n",
    "* Geography — страна проживания\n",
    "\n",
    "        тип данных object верный, пропусков нет\n",
    "\n",
    "* Gender — пол\n",
    "\n",
    "        тип данных object верный, пропусков нет\n",
    "\n",
    "* Age — возраст\n",
    "\n",
    "        тип данных int64 верный, пропусков нет\n",
    "\n",
    "* Tenure — сколько лет человек является клиентом банка\n",
    "\n",
    "        тип данных float64, тут нужно проверить есть ли действительно десятые доли года в ячейках, если нет, то можно преобразовывать в int64, так же есть 909 пустых ячеек, проверить почему они пустые, и возможно ли их заполнить. Есть предположение, что пустые ячейки у новых клиентов.\n",
    "\n",
    "* Balance — баланс на счёте\n",
    "\n",
    "        тип данных float64 верный, пропусков нет\n",
    "\n",
    "* NumOfProducts — количество продуктов банка, используемых клиентом\n",
    "\n",
    "        тип данных int64 верный, пропусков нет\n",
    "\n",
    "* HasCrCard — наличие кредитной карты\n",
    "\n",
    "        тип данных int64 верный, пропусков нет\n",
    "\n",
    "* IsActiveMember — активность клиента\n",
    "\n",
    "        тип данных int64 верный, пропусков нет\n",
    "\n",
    "* EstimatedSalary — предполагаемая зарплата\n",
    "\n",
    "        тип данных float64 верный, пропусков нет\n",
    "\n",
    "\n",
    "<b>Целевой признак:</b>\n",
    "\n",
    "* Exited — факт ухода клиента\n",
    "\n",
    "        тип данных int64 верный, пропусков нет"
   ]
  },
  {
   "cell_type": "code",
   "execution_count": 6,
   "metadata": {},
   "outputs": [
    {
     "data": {
      "text/html": [
       "<div>\n",
       "<style scoped>\n",
       "    .dataframe tbody tr th:only-of-type {\n",
       "        vertical-align: middle;\n",
       "    }\n",
       "\n",
       "    .dataframe tbody tr th {\n",
       "        vertical-align: top;\n",
       "    }\n",
       "\n",
       "    .dataframe thead th {\n",
       "        text-align: right;\n",
       "    }\n",
       "</style>\n",
       "<table border=\"1\" class=\"dataframe\">\n",
       "  <thead>\n",
       "    <tr style=\"text-align: right;\">\n",
       "      <th></th>\n",
       "      <th>CreditScore</th>\n",
       "      <th>Age</th>\n",
       "      <th>Tenure</th>\n",
       "      <th>Balance</th>\n",
       "      <th>NumOfProducts</th>\n",
       "      <th>HasCrCard</th>\n",
       "      <th>IsActiveMember</th>\n",
       "      <th>EstimatedSalary</th>\n",
       "    </tr>\n",
       "  </thead>\n",
       "  <tbody>\n",
       "    <tr>\n",
       "      <th>count</th>\n",
       "      <td>10000.000000</td>\n",
       "      <td>10000.000000</td>\n",
       "      <td>9091.000000</td>\n",
       "      <td>10000.000000</td>\n",
       "      <td>10000.000000</td>\n",
       "      <td>10000.00000</td>\n",
       "      <td>10000.000000</td>\n",
       "      <td>10000.000000</td>\n",
       "    </tr>\n",
       "    <tr>\n",
       "      <th>mean</th>\n",
       "      <td>650.528800</td>\n",
       "      <td>38.921800</td>\n",
       "      <td>4.997690</td>\n",
       "      <td>76485.889288</td>\n",
       "      <td>1.530200</td>\n",
       "      <td>0.70550</td>\n",
       "      <td>0.515100</td>\n",
       "      <td>100090.239881</td>\n",
       "    </tr>\n",
       "    <tr>\n",
       "      <th>std</th>\n",
       "      <td>96.653299</td>\n",
       "      <td>10.487806</td>\n",
       "      <td>2.894723</td>\n",
       "      <td>62397.405202</td>\n",
       "      <td>0.581654</td>\n",
       "      <td>0.45584</td>\n",
       "      <td>0.499797</td>\n",
       "      <td>57510.492818</td>\n",
       "    </tr>\n",
       "    <tr>\n",
       "      <th>min</th>\n",
       "      <td>350.000000</td>\n",
       "      <td>18.000000</td>\n",
       "      <td>0.000000</td>\n",
       "      <td>0.000000</td>\n",
       "      <td>1.000000</td>\n",
       "      <td>0.00000</td>\n",
       "      <td>0.000000</td>\n",
       "      <td>11.580000</td>\n",
       "    </tr>\n",
       "    <tr>\n",
       "      <th>25%</th>\n",
       "      <td>584.000000</td>\n",
       "      <td>32.000000</td>\n",
       "      <td>2.000000</td>\n",
       "      <td>0.000000</td>\n",
       "      <td>1.000000</td>\n",
       "      <td>0.00000</td>\n",
       "      <td>0.000000</td>\n",
       "      <td>51002.110000</td>\n",
       "    </tr>\n",
       "    <tr>\n",
       "      <th>50%</th>\n",
       "      <td>652.000000</td>\n",
       "      <td>37.000000</td>\n",
       "      <td>5.000000</td>\n",
       "      <td>97198.540000</td>\n",
       "      <td>1.000000</td>\n",
       "      <td>1.00000</td>\n",
       "      <td>1.000000</td>\n",
       "      <td>100193.915000</td>\n",
       "    </tr>\n",
       "    <tr>\n",
       "      <th>75%</th>\n",
       "      <td>718.000000</td>\n",
       "      <td>44.000000</td>\n",
       "      <td>7.000000</td>\n",
       "      <td>127644.240000</td>\n",
       "      <td>2.000000</td>\n",
       "      <td>1.00000</td>\n",
       "      <td>1.000000</td>\n",
       "      <td>149388.247500</td>\n",
       "    </tr>\n",
       "    <tr>\n",
       "      <th>max</th>\n",
       "      <td>850.000000</td>\n",
       "      <td>92.000000</td>\n",
       "      <td>10.000000</td>\n",
       "      <td>250898.090000</td>\n",
       "      <td>4.000000</td>\n",
       "      <td>1.00000</td>\n",
       "      <td>1.000000</td>\n",
       "      <td>199992.480000</td>\n",
       "    </tr>\n",
       "  </tbody>\n",
       "</table>\n",
       "</div>"
      ],
      "text/plain": [
       "        CreditScore           Age       Tenure        Balance  NumOfProducts  \\\n",
       "count  10000.000000  10000.000000  9091.000000   10000.000000   10000.000000   \n",
       "mean     650.528800     38.921800     4.997690   76485.889288       1.530200   \n",
       "std       96.653299     10.487806     2.894723   62397.405202       0.581654   \n",
       "min      350.000000     18.000000     0.000000       0.000000       1.000000   \n",
       "25%      584.000000     32.000000     2.000000       0.000000       1.000000   \n",
       "50%      652.000000     37.000000     5.000000   97198.540000       1.000000   \n",
       "75%      718.000000     44.000000     7.000000  127644.240000       2.000000   \n",
       "max      850.000000     92.000000    10.000000  250898.090000       4.000000   \n",
       "\n",
       "         HasCrCard  IsActiveMember  EstimatedSalary  \n",
       "count  10000.00000    10000.000000     10000.000000  \n",
       "mean       0.70550        0.515100    100090.239881  \n",
       "std        0.45584        0.499797     57510.492818  \n",
       "min        0.00000        0.000000        11.580000  \n",
       "25%        0.00000        0.000000     51002.110000  \n",
       "50%        1.00000        1.000000    100193.915000  \n",
       "75%        1.00000        1.000000    149388.247500  \n",
       "max        1.00000        1.000000    199992.480000  "
      ]
     },
     "execution_count": 6,
     "metadata": {},
     "output_type": "execute_result"
    }
   ],
   "source": [
    "df[['CreditScore', 'Age', 'Tenure', 'Balance', 'NumOfProducts', 'HasCrCard', 'IsActiveMember', 'EstimatedSalary']].describe()\n",
    "# просмотрим информацию о числовых данных в интересных столбцах"
   ]
  },
  {
   "cell_type": "markdown",
   "metadata": {},
   "source": [
    "<b>Вывод: \n",
    "\n",
    "Требуется предобработка данных, а именно:\n",
    "    \n",
    "    - удалить столбец RowNumber\n",
    "    - переименование столбцов в формат snake_case;\n",
    "    - исследование на явные дубликаты;\n",
    "    - исследовать столбцы с категориальными данным на не явные дубликаты;\n",
    "    - исследовать столбец Tenure - пустые значения в нем;\n",
    "\n",
    "    \n",
    "В остальном даннные вполне правдоподобные, нереальных выбросов не наблюдается.\n",
    "    \n",
    "\n",
    "Целевым параметром для модели предсказания является столбец Exited. так как в столбце лишь 1 и 0 то у нас формируется задача Классификации.\n",
    "\n",
    "    "
   ]
  },
  {
   "cell_type": "markdown",
   "metadata": {},
   "source": [
    "## Предобработка данных таблицы"
   ]
  },
  {
   "cell_type": "markdown",
   "metadata": {},
   "source": [
    "### Удаляем столбец"
   ]
  },
  {
   "cell_type": "code",
   "execution_count": 7,
   "metadata": {},
   "outputs": [],
   "source": [
    "df = df.drop(['RowNumber'], axis=1)"
   ]
  },
  {
   "cell_type": "markdown",
   "metadata": {},
   "source": [
    "### Переименовываем столбцы"
   ]
  },
  {
   "cell_type": "markdown",
   "metadata": {},
   "source": [
    "Так как нужно переименовывать все столбцы то:"
   ]
  },
  {
   "cell_type": "code",
   "execution_count": 8,
   "metadata": {},
   "outputs": [],
   "source": [
    "df.set_axis(['customer_id', 'surname', 'credit_score', 'geography', 'gender', 'age',\n",
    "       'tenure', 'balance', 'num_products', 'has_card', 'active_member',\n",
    "       'estimated_salary', 'exited'],axis = 'columns',inplace = True)"
   ]
  },
  {
   "cell_type": "markdown",
   "metadata": {},
   "source": [
    "<div style=\"border-radius: 15px; box-shadow: 4px 4px 4px; border: solid orange 2px; padding: 20px\"> <b>Что можно улучшить</b><br>\n",
    "Для переименования лучше использовать метод <code>df.rename(columns={old_name: new_name})</code> - это убережет тебя от перестановки столбцов</code></div> <br>"
   ]
  },
  {
   "cell_type": "code",
   "execution_count": 9,
   "metadata": {},
   "outputs": [
    {
     "data": {
      "text/plain": [
       "Index(['customer_id', 'surname', 'credit_score', 'geography', 'gender', 'age',\n",
       "       'tenure', 'balance', 'num_products', 'has_card', 'active_member',\n",
       "       'estimated_salary', 'exited'],\n",
       "      dtype='object')"
      ]
     },
     "execution_count": 9,
     "metadata": {},
     "output_type": "execute_result"
    }
   ],
   "source": [
    "df.columns # проверим имена столбцов после переименования"
   ]
  },
  {
   "cell_type": "markdown",
   "metadata": {},
   "source": [
    "### Явные дубликаты"
   ]
  },
  {
   "cell_type": "code",
   "execution_count": 10,
   "metadata": {},
   "outputs": [
    {
     "data": {
      "text/plain": [
       "0"
      ]
     },
     "execution_count": 10,
     "metadata": {},
     "output_type": "execute_result"
    }
   ],
   "source": [
    "df.duplicated().sum()"
   ]
  },
  {
   "cell_type": "markdown",
   "metadata": {},
   "source": [
    "### Не явные дубликаты"
   ]
  },
  {
   "cell_type": "markdown",
   "metadata": {},
   "source": [
    "Посмотрим содержимое столбцов с категориальными данными"
   ]
  },
  {
   "cell_type": "code",
   "execution_count": 11,
   "metadata": {},
   "outputs": [
    {
     "name": "stdout",
     "output_type": "stream",
     "text": [
      "Уникальные значения в ячейках для столбца surname\n",
      "['Hargrave', 'Hill', 'Onio', 'Boni', 'Mitchell', 'Chu', 'Bartlett', 'Obinna', 'He', 'H?', 'Bearce', 'Andrews', 'Kay', 'Chin', 'Scott', 'Goforth', 'Romeo', 'Henderson', 'Muldrow', 'Hao', 'McDonald', 'Dellucci', 'Gerasimov', 'Mosman', 'Yen', 'Maclean', 'Young', 'Nebechi', 'McWilliams', 'Lucciano', 'Azikiwe', 'Odinakachukwu', 'Sanderson', 'Maggard', 'Clements', 'Lombardo', 'Watson', 'Lorenzo', 'Armstrong', 'Cameron', 'Hsiao', 'Clarke', 'Osborne', 'Lavine', 'Bianchi', 'Tyler', 'Martin', 'Okagbue', 'Yin', 'Buccho', 'Chidiebele', 'Trevisani', \"O'Brien\", 'Parkhill', 'Yoo', 'Phillipps', 'Tsao', 'Endrizzi', \"T'ien\", 'Velazquez', 'Hunter', 'Clark', 'Jeffrey', 'Pirozzi', 'Jackson', 'Hammond', 'Brownless', 'Chibugo', 'Glauert', 'Pisano', 'Konovalova', 'McKee', 'Palermo', 'Ballard', 'Wallace', 'Cavenagh', 'Hu', 'Read', 'Bushell', 'Postle', 'Buley', 'Leonard', 'Mills', 'Onyeorulu', 'Beit', 'Ndukaku', 'Gant', 'Rowley', 'Sharpe', 'Heap', 'Ritchie', 'Cole', 'Capon', 'Fiorentini', 'Graham', 'Yuille', 'Allard', 'Fanucci', 'Fu', 'Hung', 'Bradley', 'Dunbabin', 'Mauldon', 'Stiger', 'Parsons', 'Walkom', \"T'ang\", 'Eremenko', 'Rowntree', 'Thorpe', 'Chiemela', 'Ko', 'Welch', 'Duncan', 'Chidozie', 'Wu', 'Culbreth', 'Kennedy', 'Calabresi', 'Zetticci', 'Fuller', 'MacDonald', 'Piccio', 'Fernie', 'Kaodilinakachukwu', 'Cocci', 'Alekseeva', 'Chinweike', 'Arthur', 'Li', 'Ma', 'Chia', 'Vasin', 'Groves', 'Tien', 'Forwood', 'Greeves', 'Taylor', 'Madukwe', 'Bennelong', 'Olisanugo', 'Chukwufumnanya', 'Harris', 'Morgan', 'Alexeeva', 'Metcalfe', 'Humphries', 'Milne', 'Chou', 'Clayton', 'Chigolum', 'Wilkinson', 'Wei', 'Treacy', 'Taverner', 'Sherman', 'Taubman', 'Robinson', 'Pinto', 'Wood', 'Hawkins', 'Sun', 'Yost', 'Ting', 'Rowe', 'Ho', 'Okechukwu', 'Campbell', 'Ashbolt', 'Rozier', 'Hsia', 'Ogbonnaya', 'Chang', \"T'ao\", 'Ford', 'Marshall', 'Tsai', 'Onwumelu', 'Golovanov', 'Potts', 'Crawford', 'Aleshire', 'Moran', 'Samsonova', 'Jenkins', 'Volkov', 'Chiemezie', 'Jude', 'Onuora', 'Ginikanwa', 'Ku', 'Collins', 'Hackett', 'Dike', 'Trevisano', 'Tan', 'Glassman', 'Miller', 'Kornilova', 'Marchesi', 'Millar', 'Shih', 'Hay', 'Yang', 'McIntyre', 'Stevenson', 'Poole', 'Bagley', \"Ch'ien\", 'Cattaneo', \"O'Sullivan\", 'Lucas', 'Ringrose', 'Freeman', 'Sergeyev', 'Fiore', 'Smith', 'Dumetochukwu', 'Pacheco', 'Synnot', 'Johnston', 'Stevens', 'Grant', 'Barnes', 'McIntosh', 'Madison', 'Ifesinachi', 'Glazkov', 'Dimauro', 'Wieck', 'Liao', 'Hughes', 'Morrison', 'Matveyeva', 'Cheatham', 'Yao', 'Kirkland', 'Rose', 'Jess', 'Ifeajuna', 'Morton', 'Rossi', 'Reppert', 'Kang', \"Ch'iu\", 'Wallis', 'Fielding', 'Dulhunty', 'Bevington', 'Boyle', 'Newton', 'Bowman', 'Dubinina', 'Toscani', 'Chiazagomekpere', 'Allen', \"K'ung\", 'Wilsmore', 'Hargreaves', 'Huang', 'Wallwork', 'Davidson', \"O'Donnell\", 'Nnachetam', 'Ahmed', 'Booth', 'Chuang', 'Shao', 'Johnson', 'French', 'Efremov', 'Hartley', 'Calabrese', 'Chiu', 'Brennan', 'Onwuatuegwu', 'Hewitt', 'Balashov', 'Doyle', 'Pokrovskii', 'Russo', 'Skinner', 'Robertson', 'Atkinson', 'McEncroe', 'Pearson', 'Gordon', \"Ts'ai\", 'Lung', 'Yuan', 'Pardey', 'Tai', 'Mazzanti', 'L?', 'Beach', 'Hsieh', 'Faulkner', 'Knowles', 'Day', 'Hsueh', 'Nwabugwu', 'Kerr', 'Marrero', 'White', 'Brown', 'Russell', 'Seleznyov', 'Yusupova', 'Foley', 'Ikedinachukwu', 'Power', 'Amos', 'Reed', 'Simmons', 'Ricci', 'West', 'Chen', 'Madukaego', 'Ibrahimova', 'Nolan', 'Blair', 'Monaldo', 'Sutherland', 'Briggs', 'Gregory', 'Angelo', 'Gardiner', 'Distefano', 'Farrell', 'Milano', 'Boyd', 'Onyemaechi', 'Black', 'Oliver', 'Greco', 'Whitehead', 'Ikemefuna', 'Onyeoruru', 'Cunningham', 'Demidov', 'Celis', 'Cheng', 'Knight', 'Morin', 'Outhwaite', 'Tung', 'Pai', 'Carpenter', 'Fennell', 'Fontaine', 'Pratt', 'Franklin', 'McKenzie', 'Pino', 'Fisk', 'Chiang', 'Moseley', 'Hsiung', 'Heath', 'De Salis', 'Richardson', 'Fitch', 'Estes', 'Lattimore', 'Chung', 'Utz', 'Nwachinemelu', 'Kuznetsova', 'Pisani', 'Manna', 'Collier', 'Carr', 'Hs?', 'Findlay', 'Chukwuemeka', 'Genovese', 'Swift', 'Ugoji', 'Parkinson', 'Ross', 'Oleary', 'Turnbull', 'Uspensky', 'Cook', 'Newbold', 'Uchechukwu', \"Ch'en\", 'Hilton', 'Sal', 'Eluemuno', 'Titus', 'Lettiere', 'Templeman', 'Chibuzo', 'Evans', 'Enyinnaya', 'Brookes', 'Padovano', 'Hare', 'Muir', 'Elewechi', 'Ankudinov', 'Nwokike', 'Atkins', 'Burns', 'Obiuto', 'George', 'Lewis', 'Dalrymple', 'Carslaw', 'Kirby', 'Houghton', 'Westerberg', 'Hale', 'Kryukova', 'Sopuluchukwu', 'Barry', 'Selezneva', 'Chizuoke', 'Lueck', 'Udinese', 'Udobata', 'Outlaw', 'Lo', 'King', 'Forbes', 'Macleod', 'Gibbs', 'Isayev', 'Belstead', 'Vassiliev', 'Schneider', 'Knipe', 'Macartney', 'Watts', 'Humphreys', 'Chesnokova', 'Kung', 'Lu', 'Nkemakolam', 'Walton', 'Baldwin', 'Mai', 'Ferreira', 'Ukaegbunam', 'De Luca', 'Davide', 'Kodilinyechukwu', 'Little', 'Paterson', 'Han', 'Ijendu', 'Reichard', 'Price', 'Bruce', 'Sumrall', 'Lazarev', 'Wentworth-Shields', 'Mackenzie', 'Pendergrass', 'Billson', 'Teng', 'Moretti', 'Jordan', \"Ts'ao\", \"Ch'ang\", 'Obialo', 'Gray', 'Lin', 'Hopkins', 'Dobson', 'McKay', 'Revell', 'Rickards', 'Begum', 'Onyinyechukwuka', 'Zuyev', 'Nwankwo', 'Okwuadigbo', 'Chan', 'Buchi', 'Lombardi', 'Uchenna', 'Coffman', 'Alexandrova', 'Fallaci', 'Hudson', 'Stout', 'Burke', 'Chadwick', 'Lawrence', 'Bellucci', 'Harper', 'Moss', 'Avdeyeva', 'Lynton', 'Gether', 'Larionova', 'Loggia', 'Steinhoff', 'Guerra', 'Craig', 'Lazareva', 'Alderete', 'Rahman', 'McMillan', 'Pickering', 'Mirams', 'Douglas', 'Jideofor', 'Bell', 'Mairinger', 'Pagnotto', 'Feng', 'Donaldson', 'Chambers', 'Marcelo', 'Ejimofor', 'Dale', 'Pokrovsky', 'Stonebraker', 'Liang', 'Anderson', 'Christian', 'Mao', 'Sagese', 'Fleming', 'Grubb', 'Napolitani', 'Anenechi', 'Chandler', 'Howells', 'Akeroyd', 'Uwaezuoke', 'Loyau', 'Small', 'Bledsoe', 'Kao', 'Wickens', 'Wertheim', 'Jarvis', \"P'an\", 'Repina', 'Pugliesi', 'Blakey', 'Nucci', 'Higinbotham', 'Achebe', 'Dobie', 'Maccallum', 'Watkins', 'Mitchel', 'Ferdinand', 'Otitodilinna', 'Mamelu', 'Beneventi', 'Perrodin', 'Chinagorom', 'Napolitano', 'Edgar', 'Walker', 'Steele', 'Elkins', 'Toscano', 'Savage', 'Mordvinova', 'Kent', 'Cooper', 'Mazzi', 'Fisher', 'Summers', 'Brady', 'Nicholls', 'Golubov', 'Oldham', 'Kambinachi', 'Chinwemma', 'Olsen', 'Jen', 'Preston', 'Ozioma', 'Cody', 'Ponomarev', 'Milani', 'Tang', 'Romani', 'Davis', 'Onyemauchechukwu', 'Gell', 'Chiwetelu', 'Kirillova', 'Shaw', 'Okwudilichukwu', 'Onuoha', 'Muecke', 'Azubuike', 'Nnonso', 'Ashley', \"Ts'ui\", 'Kenenna', 'Beluchi', 'Williamson', 'Bobrov', 'Pitts', 'Standish', 'Cartwright', 'Johnstone', 'Nikitina', 'McElroy', 'Shen', 'Archer', 'Otutodilinna', 'Denisov', 'Owens', \"P'eng\", 'Verco', 'Bergamaschi', 'Outtrim', 'Hou', 'Galkin', 'Echezonachukwu', 'Munro', 'Ball', 'Virgo', 'Tao', 'Perez', 'Fraser', 'Alley', 'Hooper', 'Rice', 'Cox', 'Ikenna', 'Alexander', 'Piazza', 'Ni', 'Harker', 'Chiabuotu', 'Kuo', 'Gallagher', 'Zhirov', 'Lloyd', 'Palmer', \"Ch'eng\", 'Avent', 'Trentini', 'Koehler', 'Okoli', 'Nwokezuike', 'Artemiev', 'Esposito', 'Abbie', 'Averyanov', 'Unaipon', 'Clamp', 'Lim', 'Wan', 'Pettit', 'Baresi', 'Newbery', 'Iheanacho', 'Landry', 'McGregor', 'Pirogov', 'Oguejiofor', 'Ugochukwu', 'Rohu', 'Cary', \"O'Loghlen\", 'Quinn', 'Page', 'Stanley', 'Bednall', 'She', 'May', 'Seabrook', 'Herrera', 'Kincaid', 'Sleeman', 'Artemieva', 'Barwell', 'Wright', 'Moore', 'Sung', 'Mello', 'Mistry', 'Chukwukadibia', 'Zikoranachidimma', 'Oluchukwu', 'Rivera', 'Niu', 'Bennett', 'Wollstonecraft', 'Thomsen', 'Chinwendu', 'James', 'Lamb', 'Olejuru', 'Chiawuotu', 'Yeates', 'Thurgood', 'Knupp', 'Baryshnikov', 'Shephard', 'Avdeeva', 'Hsu', 'Buchanan', 'Yeh', 'Palazzi', 'Y?an', 'Schofield', 'Wall', 'Blackburn', 'Wickham', 'Bird', 'Brizendine', \"Ch'in\", 'Yusupov', 'Jibunoh', 'Wilder', 'Nepean', 'McNess', 'Coles', 'Benson', 'Gilbert', 'Wilhelm', 'Sinclair', 'Buckner', 'Padovesi', 'Palerma', 'Pan', 'Kenniff', 'Spencer', 'Lees', 'David', 'Hsing', 'Ginn', 'Sozonov', 'Manfrin', 'Artamonova', 'Hansen', 'Larsen', 'Owen', 'Murphy', 'Ekechukwu', 'Ayers', 'Sanders', 'Eberechukwu', 'Bardin', 'Talbot', 'Goold', 'Zikoranaudodimma', 'Garner', 'Naylor', 'Fulton', 'McCaffrey', 'Zuev', 'Fabro', 'Chatfield', 'Volkova', 'Abramovich', 'Chien', 'Timms', 'Williford', 'Hamilton', 'Su', 'Akobundu', 'Chukwuebuka', 'Lampungmeiua', 'Kline', 'Riggs', 'Davison', 'Ingram', 'Dilke', 'Gibson', 'Iadanza', 'Hebert', 'Jamieson', 'Chiganu', 'Burgess', 'Woods', 'Bluett', 'Chapman', 'Andrejew', 'Spyer', 'Philip', 'Perry', 'Fokine', 'Mackay', 'Maslova', 'McLean', 'Thompson', 'Tisdall', 'Onochie', 'Mironova', 'Ndubueze', 'Stephenson', 'Golubev', 'Mullan', 'Glover', 'Northey', 'Howarde', 'Colman', 'Butcher', 'Wilkie', 'Bray', 'Ann', 'Souter', 'Medvedeva', 'Onwudiwe', 'Ferrari', 'Hazon', 'Hardy', 'Dickson', 'Holden', 'Doherty', 'Samuel', 'Malloy', 'Fitts', 'Yefimova', 'Abramov', 'Demuth', 'Lawless', 'Brooks', 'Ignatyeva', 'Balmain', 'Ecuyer', 'Li Fonti', 'Despeissis', 'Williams', 'Hancock', 'Wilkins', 'Longo', 'Mancini', 'Winter-Irving', 'Stewart', 'Murray', 'Rischbieth', 'Otutodilichukwu', 'Thomas', 'Whitworth', 'Trentino', 'McMasters', 'Alekseyeva', 'Baranova', 'Yobachi', 'Sorokina', 'Ervin', 'Vance', 'Noble', 'Milanesi', 'Parkin', 'Cremonesi', 'Docherty', 'Ugonna', 'Bevan', \"O'Neill\", 'Pham', 'Osinachi', 'Muravyov', 'Igwebuike', 'Zack', 'Chidiegwu', 'Lucchesi', 'Yudin', 'Wade', 'Septimus', 'Hargraves', 'Sidorov', 'Bunton', 'Conti', 'Sims', 'Carter', 'Dumetolisa', 'Peng', 'Drake-Brockman', 'Tretiakov', 'Lai', 'Justice', 'Osonduagwuike', 'Ewing', 'Tsou', 'Ubanwa', 'Kapustin', 'Nnamutaezinwa', 'Ferri', 'Amechi', 'Kirk', 'Griffin', 'Longstaff', 'McWilliam', 'Coffee', 'Creswell', 'Dodds', 'Ewen', 'Boniwell', 'Vasilieva', 'Kwemto', 'Bocharova', 'Morres', 'Vogel', \"T'an\", 'Wisdom', 'Shahan', 'Bryant', 'Hayward', 'Liu', 'Greece', 'Norman', 'Chukwudi', 'Fedorov', 'Reid', 'Wofford', 'Stephens', 'Frolov', 'Fields', 'Suffolk', 'Judd', 'Degtyarev', 'Kinlaw', 'Omeokachie', 'Gorbunova', 'Tikhonov', 'Campa', 'Donoghue', 'Tuan', 'Baxter', 'Rogers', 'Byrne', 'Aitken', 'Macintyre', 'Simpson', 'Praed', 'Laurens', 'Bykov', 'Vorobyova', 'Pirogova', 'Sturt', 'Panicucci', 'Siciliani', 'Lucchese', 'Swaim', 'Quinones', 'Ludowici', 'Larson', 'Landman', 'K?', 'Alexeyeva', 'Chukwualuka', 'McCall', 'Okeke', 'Iloabuchi', 'Nebechukwu', 'Diribe', 'Macgroarty', 'Artemova', 'Kelly', 'Reilly', 'Ojiofor', 'Shelton', 'Lange', 'Hovell', 'Espinosa', 'Barbour', 'Ozerova', 'Ulyanova', 'Steiner', 'Akabueze', 'Aleksandrova', 'Griffiths', 'McNeil', 'Bruno', 'Okorie', 'Moen', 'McGuigan', 'Fancher', 'Matthews', 'Kaeppel', 'Yudina', 'Jamison', 'Hardiman', 'Woodard', 'Chienezie', 'Chineze', 'Buckland', 'Flannery', 'Payne', 'Vincent', 'Pearce', 'Riley', 'Honore', 'Macarthur', 'Gould', 'Medvedev', 'Sholes', 'Rolon', 'Bligh', 'Lamble', 'Jose', 'Howard', 'Onwuamaeze', \"D'Albertis\", 'Nwachukwu', 'Simpkinson', 'Conway', 'Maslow', 'Swadling', 'Gallo', 'Onyemachukwu', 'Samoylova', 'Leak', 'Frost', 'Warner', 'Ifeatu', 'Fan', 'Whiddon', 'Onyekachukwu', 'Ermakova', 'Marino', 'Onyemere', 'Everingham', 'Huie', 'Crowther', 'Skelton', 'Giordano', 'Bateson', 'Elizabeth', 'Serrano', 'Willis', 'Mashman', 'Tu', 'Romano', 'Goliwe', 'Chiemeka', 'Kellway', 'Sopuluchi', 'Spitzer', 'Potter', 'Kovalyova', 'Miah', 'Builder', 'Baddeley', 'Todd', 'Obiajulu', 'Farmer', 'Ignatieff', 'Okonkwo', 'Dore', 'Bazarova', 'Burn', 'Andreyev', 'Nock', 'Kelley', 'Wilson', 'McFarland', 'Cisneros', 'Borchgrevink', 'Rozhkova', 'Veltri', 'Golibe', 'Udinesi', 'Curtis', 'Hayden', 'Green', 'Gough', 'Bates', 'Kharlamov', 'Ferguson', 'Le Grand', 'Valdez', 'Godfrey', 'Robson', 'Yevdokimova', 'Colombo', 'Akubundu', 'Francis', 'Rhodes', 'Y?', 'Burgmann', 'Macvitie', 'Townsend', 'Pope', 'Jensen', 'Thomson', 'Chiazagomekpele', 'Ozuluonye', 'Fang', 'Horton', 'Schiavone', 'Fiorentino', 'Butusov', 'Wang', 'Alexeieva', 'Vinogradova', 'Bage', 'Naquin', 'Schroeder', 'Swearingen', 'Kozlova', 'Nekrasov', 'Olague', 'Holt', 'Davila', 'Giles', \"O'Meara\", 'Chukwuraenye', 'Tipton', 'Morey', 'Afamefuna', 'Ibbott', 'Law', 'Chinedum', 'Kruglov', 'Stone', 'Wiley', 'Chiagoziem', 'Chukwukere', 'Lee', 'Theus', 'Jennings', 'Parker', 'Patterson', 'Ofodile', 'Nash', 'Brenan', 'Obidimkpa', 'Terry', 'Spring', 'Mahmood', 'Amaechi', 'Foxall', 'Bentley', 'Baird', 'Henry', 'Rocher', 'Komar', 'Loewenthal', 'Aliyeva', 'Montes', 'Tyndall', 'Bailey', 'Onyekaozulu', 'Christmas', 'Genovesi', 'Ellis', 'Onuchukwu', 'Quaife', 'Holder', 'Lahti', 'Perkins', 'Hayes', 'Rizzo', 'Krylov', 'Matthias', 'Mason', 'Smeaton', 'Gotch', \"O'Toole\", 'Ledford', 'Alaniz', 'Saunders', 'Streeter', 'Barclay', 'Otitodilichukwu', 'Wheare', 'Soto', 'Bogle', 'Grimmett', 'Webb', 'Nwokeocha', 'Olisaemeka', 'Yobanna', 'Trevisan', 'Knox', 'Moyes', 'Beavers', 'Tretiakova', 'Aikenhead', 'Cran', 'Golubova', 'McElyea', 'Rosas', 'Phillips', 'Morris', 'Pavlova', 'Yamamoto', 'Zaitsev', 'Cawker', 'Froggatt', 'Gorbunov', 'Mikkelsen', 'Kovalyov', 'Mbanefo', 'Enderby', 'Lira', 'Castiglione', 'Yuryeva', 'Dean', 'Vasiliev', 'Fedorova', 'Samson', 'Fenton', 'Mackey', 'Payton', 'Cowger', 'Banks', 'Fantin', 'Wong', 'Roberts', 'Lo Duca', 'Ashton', 'Melton', 'Zakharov', 'Patrick', 'DeRose', 'Vavilov', 'Browne', 'Collingridge de Tourcey', 'Korovin', 'Hammonds', 'Ward', 'Gallop', 'Gartrell', 'Oluchi', 'Barlow', 'Burgin', 'Nnaife', 'Okwudiliolisa', 'Parkes', 'Kapustina', 'Greathouse', 'Beers', 'Tretyakova', 'Costa', 'Ibezimako', 'Lumholtz', 'Mouzon', 'Ibeabuchi', 'Garnsey', 'Wildman', 'Anenechukwu', 'Plant', 'Babbage', 'Norton', 'Bogolyubov', 'Gibbons', 'Gregson', 'Speth', 'Boag', 'Grave', 'Streeten', 'Fox', 'Artemyeva', 'Gardner', 'Uwakwe', 'Bellew', 'Krichauff', 'Becker', 'Ainsworth', 'Biryukov', 'Redding', 'Inman', 'Hanson', 'Fischer', 'Chinweuba', 'Henning', 'Ogochukwu', 'Narelle', 'Bergman', 'Harrison', 'Goodman', 'Ugochukwutubelum', 'Uvarova', 'Innes', 'Craigie', 'Onyekachi', 'Pethard', 'Obielumani', 'Emery', 'Dufresne', 'Vial', 'Pruneda', 'Neumann', 'Yobachukwu', 'Hess', 'Anayolisa', 'Zhou', 'Bustard', 'Ngozichukwuka', 'Lane', 'Davy', 'Barrera', 'Hall', 'Lysaght', 'Kelechi', 'Chikezie', 'Dreyer', 'Short', 'Hunt', 'Kibby', 'Ramos', 'Keeley', 'Farrar', 'Greenhalgh', 'Odili', 'Kolesnikov', 'Rutherford', 'Mendes', 'Bronner', 'Meany', 'Le Gallienne', 'Wheeler', 'Christie', 'Favors', 'Vida', 'Wayn', 'Nuttall', 'McEwan', 'Holman', 'Bazhenov', 'Kemp', 'Ebelegbulam', 'Tseng', 'Yermakov', 'Chukwunonso', 'Dawson', 'Ifeanyichukwu', 'Musgrove', 'Boulger', 'Gow', 'Robe', 'Bibi', 'Arcuri', 'Muriel', 'MacDevitt', 'Chijindum', 'Nott', 'Lei', 'Sheets', 'Tokaryev', 'Unwin', 'Frater', 'Vanmeter', 'Rearick', 'Glenny', 'Marks', 'Trout', 'Morley', 'Somadina', 'Chieloka', 'Chioke', 'Kovalev', 'Baranov', 'Bidencope', 'De Bernales', 'Cashin', 'Seppelt', \"O'Connor\", 'McGuirk', 'Ruth', 'Aksenov', 'Meng', 'Nwoye', 'Aksyonova', 'Hammer', 'Abbott', 'Davydova', 'Nkemjika', 'Mario', 'Long', 'Nelson', 'Thornton', 'Warlow-Davies', 'Champion', 'William', 'Ozoemena', 'Archambault', 'Udegbulam', 'Greene', 'Blinova', 'De Garis', 'Holmwood', 'Chidubem', 'Randall', 'Leach', 'Light', 'Holloway', 'Nwebube', 'Chibueze', 'Lanford', 'Anthony', 'Myers', 'Davey', 'Chikere', 'Hs?eh', 'Witt', 'Kazantseva', 'Bowhay', 'Beyer', 'Fries', 'Connely', 'Connolly', 'Fomin', 'Chamberlain', 'Barber', 'Zimmer', 'Brazenor', 'Caldwell', 'Yirawala', 'Tokareva', 'Castella', 'Du Cane', 'Woronoff', 'Onodugoadiegbemma', 'Darling', 'Ponomaryov', 'Prokhorova', 'Blacklock', 'Sazonova', 'Henty', 'Azuka', 'Brock', 'Bulgakov', 'Lord', 'Uspenskaya', 'Powell', 'McChesney', 'Yuriev', 'Lablanc', 'Dodd', 'Dillon', 'Hoelscher', 'Udokamma', 'Sinnett', 'Chimaijem', 'Porter', 'Younger', 'Nwagugheuzo', 'Drake', 'Hanna', 'Loftus', 'Chidalu', 'Iredale', 'Padilla', 'Ibragimova', 'Nakayama', 'Gardener', 'Aksenova', 'Kudryashova', 'Hart', 'Kruglova', 'Shaffer', 'Laurie', 'Whitfield', 'Rioux', 'Matveyev', 'Nkemdirim', 'Brim', 'Soubeiran', 'Helena', 'Macdonald', 'Chiekwugo', 'Weller', 'Bess', 'Randell', 'Randolph', 'Hurst', 'Montalvo', 'Kosisochukwu', 'Vigano', 'Windradyne', 'Curnow', 'De Neeve', 'Ebelechukwu', 'Keating', 'Shearston', 'Arnold', 'Chao', 'Zhdanova', 'Fetherstonhaugh', 'Severson', 'Speight', 'Greenwalt', 'Grover', 'Muse', 'Marsden', 'Dennis', 'Nixon', 'Rivers', 'Sochima', 'Heydon', 'Holland', 'Debellis', 'Kibble', 'Lori', 'Enemuo', 'Nebeolisa', 'Chikwado', 'Yates', 'Watt', 'Lavrov', 'Korovina', 'Manning', 'Ingrassia', 'Langdon', 'Goddard', 'Zubareva', 'Newsom', 'Shoobridge', 'Fyodorova', 'Solomon', 'Layh', 'John', 'Slattery', 'Daniels', 'Chiemenam', 'Wanliss', 'Eames', 'Kenyon', 'Parry', 'Arnott', 'Steere', 'Dickinson', 'Evseyev', 'Ulyanov', 'Kazakova', 'Hannaford', 'Mahon', 'Miles', 'Voss', 'Colebatch', 'Chikelu', 'Allan', 'Yefremova', 'Garran', 'Nkemdilim', 'Rubensohn', 'Iqbal', 'Dyer', 'Lyons', 'Namatjira', 'Leibius', 'Coppin', 'Gerasimova', 'Humffray', 'Degtyaryov', 'Cawthorne', 'Khan', 'Iroawuchi', 'Bottrill', 'Jones', 'Sanford', 'Chimaobim', 'Jowers', 'Kirsova', 'Cockrum', 'Greaves', 'Reeves', 'Nnamdi', 'Charlton', 'Marsh', 'Pottinger', 'Buckley', 'Folliero', 'Jessop', 'Hodge', 'Ignatiev', 'Mansom', 'Komarova', 'Yu', 'Sutton', 'Hyde', 'Smalley', 'Barton', 'Horrocks', 'Frye', 'Mellor', 'Meredith', 'Chinomso', 'Chimaoke', 'Winters', 'Hawthorn', 'Hawdon', 'Joslin', 'Bidwill', 'Tate', 'Neal', 'Fulks', 'Siciliano', 'Ositadimma', 'Kazantsev', 'Dolgorukova', 'Singh', 'Shipton', 'Rivas', 'Hoolan', 'Pepper', 'Abramowitz', 'Abazu', 'Harriman', 'Frankland', 'Kwemtochukwu', 'To Rot', 'Lear', 'Winter', 'Hughes-Jones', 'Estrada', 'Heard', 'Efremova', 'Morphett', 'Lenhardt', 'McMorran', 'Phelan', 'Hotchin', 'Aksyonov', 'McGarry', 'Akhtar', 'McDaniels', 'Tennant', 'Donaghy', 'Tobenna', 'Vicars', 'Vessels', 'Heller', 'Dunn', 'Vasilyeva', 'Mollison', 'Aiken', 'Brabyn', 'Traeger', 'Ekwueme', 'Chinwenma', 'Estep', 'Mishina', 'Lavrentiev', 'Kilgour', 'Sheppard', 'Nnanna', 'Norris', 'Chidiebere', 'Okwukwe', 'Elliott', 'Walsh', 'Mahomed', 'Bogdanov', 'Moysey', 'Angel', 'Toosey', 'Hassall', 'Poninski', 'Bonham', 'Bold', 'Izmailov', 'Valentin', 'McIver', 'Fishbourne', 'Chukwueloka', 'Real', 'Odell', 'Enticknap', 'Mann', 'Adams', 'Hirst', 'Horan', 'Cumbrae-Stewart', 'Kinney', 'Nina', 'Mort', 'Martinez', 'Vasilyev', 'Lacross', 'Maughan', 'Tochukwu', 'Slate', 'Chiebuka', 'Berry', 'Boylan', 'Warren', 'Liston', 'Mazure', 'Rudduck', 'Darwin', 'Tomlinson', 'Coates', 'Hickey', 'Stobie', 'Drakeford', 'Bermudez', 'Wyatt', 'Blackwood', 'Storey', 'Glasgow', 'Crotty', 'Hysell', 'Compton', 'See', 'Threatt', 'Davies', 'Matlock', 'Chiedozie', 'Adamson', 'Mishin', 'Bull', 'Serra', 'Summerville', 'Astorga', 'Blesing', 'Nevzorova', 'Sheehan', 'McElhone', 'Chigbogu', 'Tilley', 'McCartney', 'Badgery', 'Zarate', 'Congreve', 'Hayslett', 'Loving', 'Ugonnatubelum', 'Corbett', 'Eiland', 'Labrador', 'Dettmann', 'Hope', 'Ives', 'Brierly', 'Rapuokwu', 'Senior', 'Garmon', 'Biryukova', 'Hutcheon', 'Bateman', 'Haugh', 'Micklem', 'Kegley', 'Valenzuela', 'Fomina', 'Dixon', 'Belov', 'Cross', 'Cullen', 'Rudd', 'Gidney', 'Dalton', 'Hartzler', 'Lambert', 'Game', 'Haynes', 'Jimenez', 'Pharr', 'Jerger', 'Ramsden', 'Jowett', 'Venables', 'Monnier', 'Gadsden', 'Oster', 'Chizoba', 'Peyser', 'Seleznev', 'Alleyne', 'Zikoranachukwudimma', 'Ejikemeifeuwa', 'Rickard', 'Andreev', 'Shand', 'Stehle', 'Belonwu', 'Baker', 'Garcia', 'Field', 'Jefferies', 'Lockyer', 'Torreggiani', 'Richards', 'Herbert', 'Andreyeva', 'Bowen', 'Fowler', 'Lockett', 'Phelps', 'Frederick', 'Carlson', 'Mbadiwe', 'Sabbatini', 'Ewers', 'Hannam', 'Mofflin', 'Ifeanacho', 'Maitland', 'Pollard', 'Brigstocke', 'Gboliwe', 'Seleznyova', 'Joseph', 'Salier', 'Evdokimov', 'Ponomaryova', 'Grosse', 'Belbin', 'Titheradge', 'Hobbs', 'Beggs', 'Luffman', 'Evseev', 'Hagins', 'Kirwan', 'Milligan', 'Royster', 'Gouger', 'Ignatyev', 'Munz', 'Paling', 'Clancy', 'Rios', 'Onyemauchechi', 'Nkemakonam', 'Kirillov', 'Stiles', 'Gaffney', 'Tsui', 'Armit', 'Ramsbotham', 'Scannell', 'Edman', 'Shaver', 'Coupp', 'Bezrukova', 'Cohn', 'Lay', 'Schmidt', 'Hussey', 'Macfarlan', 'Szabados', 'McKelvey', 'McConnell', 'Iheatu', 'Winifred', 'Holmes', 'Riddle', 'McClemans', 'Basedow', 'Nwora', 'Howey', 'Kramer', 'Reynolds', 'Herrin', 'Newland', 'Demaine', 'Harewood', 'Bischof', 'Uren', 'Ruggiero', 'Wilding', 'Yashina', 'Yevseyev', 'Maslov', 'Sullivan', 'Allsop', 'Castles', 'Colbert', 'Chimezie', 'Daluchi', 'Sheffield', 'Dyson', 'Onwuka', 'Flores', 'Nicoll', 'Waters', 'Raynor', 'Eberegbulam', 'Micco', 'Avdeev', 'Bremer', 'Gadsdon', 'Hicks', 'Logan', 'Weber', 'Schnaars', 'Algarin', 'Metcalf', 'Lupton', 'Ibeamaka', 'Rueda', 'Madueke', 'Torres', 'Chukwubuikem', 'Semmens', 'Bogdanova', 'Corser', 'McCardle', 'Radcliffe-Brown', 'Chukwumaobim', 'Cardus', 'Whitehouse', 'McCulloch', 'Koo', 'Woolnough', 'Vinogradov', 'Snider', 'Isayeva', 'Moreno', 'Gill', 'Vaguine', 'Toomey', 'Bonwick', 'Middleton', 'Vale', 'Arkwookerum', 'Lujan', 'Gannon', 'Romero', 'Onwuamaegbu', 'Peacock', 'Barese', 'Nnaemeka', 'Efimov', 'Maynard', 'Zotova', 'Hannah', 'Cartagena', 'Victor', 'Krawczyk', 'Abel', 'Cavill', 'Renwick', 'Linton', 'Langlands', 'Sykes', 'Kryukov', 'Donnelly', 'Boucaut', 'Silva', 'Iweobiegbunam', 'Zito', 'Edmondstone', 'Georg', 'Michelides', 'Chidimma', 'Edmund la Touche', 'Belousov', 'McCane', 'Parry-Okeden', 'Aldrich', 'Shillito', 'Ikechukwu', 'Kauffmann', 'Bock', 'Brewer', 'Yermakova', 'Jacka', 'Sharp', 'Atherton', 'Cookson', 'Hort', 'Zaytseva', 'Diehl', 'Mead', 'Nicholson', 'Huddart', 'Swain', 'Brient', 'Tucker', 'Izmailova', 'Hutchinson', 'Okwuoma', 'Amadi', 'Percy', 'Floyd', 'Melendez', 'Kovaleva', 'Chukwuma', 'Gilroy', 'Hearn', 'Swanson', 'Benjamin', 'Ryrie', 'Montemayor', 'Izuchukwu', 'Herring', 'Duffy', 'Chiefo', 'Fyodorov', 'Palmerston', 'Polyakov', 'Connor', 'Chester', 'Denisova', 'Clogstoun', 'Kalinina', 'Bennet', 'Hallahan', 'Louis', 'Trouette', 'Cribb', 'Fletcher', 'Corson', 'Hinton', 'Bromby', 'Nweke', 'Batty', 'Agafonova', 'Chidumaga', 'Birk', 'Childs', 'Obioma', 'Stetson', 'Waring', 'Thao', 'Armfield', 'Panina', 'Martel', 'Buddicom', 'Walters', 'Muravyova', 'Keen', 'Liebe', 'Rogova', 'Raff', 'Kanayochukwu', 'Guerin', 'Dominguez', 'Pugh', 'Sawtell', 'Kharitonova', 'Muramats', 'Sokolov', 'Gay', 'Maurer', 'Grieve', 'Lowell', 'Philipp', 'Dynon', 'Bishop', 'Rene', 'Daigle', 'Joshua', 'Cochran', 'Bibb', 'Corran', 'Lovely', 'Plascencia', 'Zotov', 'Lynch', 'McCarthy', 'Nnabuife', 'Tinline', 'Esomchi', 'Retana', \"O'Loughlin\", 'Gorman', 'Finch', 'Reyes', 'Downie', 'Yegorov', 'Cantrell', 'Glennon', 'Yancy', 'Cruz', 'Bukowski', 'Chikwendu', 'Kharlamova', 'Diaz', 'Ross-Watt', 'Shubin', 'Sadler', 'Whittaker', 'Gratwick', 'Bovee', 'Frolova', 'Bradshaw', 'Clunie', 'Cover', 'Hodgson', 'Harvey', 'Chase', 'Aparicio', 'Udegbunam', 'Alexandrov', 'Campos', 'McKinnon', 'Burt', 'Feetham', 'Coburn', 'Yegorova', 'Corones', 'Morrice', 'Barrett', 'Tardent', 'Castillo', 'Lindsay', 'Macnamara', 'Aksakova', 'Farnsworth', 'Koch', 'Fleetwood-Smith', 'Chinonyelum', 'Montague', 'Yewen', 'Kalinin', 'Woodward', 'Iweobiegbulam', 'Burton', 'Schwartz', 'Sargent', 'Kepley', 'Lassetter', 'Iloerika', 'Michel', 'Goodwin', 'Rapuluolisa', 'Osorio', 'Barnett', 'Pike', 'Gearheart', 'Egobudike', 'Ahern', 'Anayochukwu', 'Nevels', 'Winn', 'Lopez', 'Steen', 'Pipes', 'Windsor', 'Wark', 'Allnutt', 'Pedder', 'Chialuka', 'Selwyn', 'Koger', 'Kendall', 'Elliot', 'Gratton', 'Carandini', 'Barker', 'Korff', 'Kiernan', 'Mathews', 'Macrossan', 'Illingworth', 'Menhennitt', 'Shoebridge', 'Eva', 'Howe', 'Belisario', 'Pomeroy', 'Schaffer', 'Gonzalez', 'Temple', 'Ridley', 'Slye', 'Takasuka', 'Bruche', 'Ryan', 'Abramova', 'Purdy', 'Higgins', 'Reye', 'Willoughby', 'Mayne', 'Paramor', 'Daly', 'Gorshkov', 'McClinton', 'Holbrook', 'Solomina', 'Faulk', 'Forster', 'Chamberlin', 'Buttenshaw', 'Nazarova', 'Merrett', 'Elder', 'Gunson', 'Gleeson', 'Lang', 'Eve', 'Stradford', 'Brownlow', 'Fyans', 'Creel', 'Nicolay', 'Somerville', 'Pauley', 'Goering', 'Maduabuchim', 'Linger', 'Kenechukwu', 'Learmonth', 'Fitzgerald', 'Duggan', 'Krischock', 'Binder', 'Zubarev', 'Coleman', 'Molineux', 'Duigan', 'Jobson', 'Perreault', 'Algeranoff', 'Galloway', 'Arrington', 'Kamdibe', 'Cousens', 'Hawks', 'Thynne', 'Greenwood', 'Ogle', 'Wolfe', 'Dilibe', 'Austin', 'Santiago', 'Afanasyeva', 'Priestley', 'Salmond', 'Goloubev', 'Dipietro', 'Niehaus', 'Barclay-Harvey', 'Hartung', 'Sternberg', 'Shepherd', 'Marcum', 'North', 'Whitelegge', 'Rooke', 'Horsley', 'Eskridge', 'Claiborne', 'Ibrahimov', 'Enriquez', 'Gilleland', 'Fullwood', 'Doyne', 'Rawling', 'Ankudinova', 'Balsillie', 'Worsnop', 'Buda', 'Broadhurst', 'Garrett', 'Edwards', 'Logue', 'Rechner', 'Batt', 'Trujillo', 'Ash', 'Kumm', 'Carey', 'Farber', 'Edments', 'Lindon', 'Pitcher', 'Kable', 'Kulikova', 'Navarrete', 'Huguley', 'Massie', 'Onwubiko', 'Obiora', 'Slater', 'Menkens', 'Beatham', 'Dowse', 'Griffen', 'Uvarov', 'Hussain', 'Grigoryeva', 'Gunter', 'Collee', 'Ibekwe', 'Hairston', 'Abdulov', 'Perkin', 'Bond', 'Stirling', 'Rutledge', 'Mullah', 'Candler', 'Hollis', 'Lionel', 'Serena', 'Cummins', 'Zhdanov', 'Peck', 'Gerald', 'Nebeuwa', 'Maruff', 'Knepper', 'Hand', 'Chidi', 'Maxwell', 'Berkeley', 'Kaur', 'Mountgarrett', 'Wreford', 'Bolton', 'Corrie', 'Lambie', 'Streeton', 'Pennington', 'Ansell', 'Stokes', 'Ampt', 'Wynn', 'Wagner', 'Argyle', 'Locke', 'Bullen', 'Munson', 'Cooke', 'Hawes', 'Swanton', 'Shipp', 'Jonathan', 'Hernandez', 'Highland', 'Peel', 'Herz', 'Salas', 'Laney', 'Messersmith', 'Etheridge', 'Jolly', 'Botts', 'Fink', 'Morehead', 'Balashova', 'Lowe', 'Ponce', 'Zuyeva', 'Chukwujamuike', 'Flynn', 'Klein', 'Shcherbakov', 'Sokolova', 'Mosley', 'Everett', 'Rouse', 'Burrows', 'Artyomova', 'Yermolayeva', 'Le Hunte', 'Blake', 'Sparks', 'Northern', 'Jack', 'Secombe', 'Ugorji', 'Bancks', 'Fairley', 'Boothby', 'Chukwuhaenye', 'Lock', 'Ramsey', 'Eipper', 'Fernandez', 'Yermolayev', 'Kolesnikova', 'Sharwood', 'Bufkin', 'Neitenstein', 'Sandover', 'Sergeyeva', 'Bales', 'Romilly', 'Lawson', 'Bracewell', 'Torkelson', 'Hightower', 'Levan', 'Loginov', 'Lafleur', 'Miranda', 'Simon', 'Golubeva', 'Stange', 'Milliner', 'Swinton', 'Sukhorukova', 'Combes', 'Carruthers', \"O'Loghlin\", 'Troupe', 'Deleon', 'Downer', 'Bochsa', 'Czajkowski', 'Pankhurst', 'Birdseye', 'Moon', 'Chuter', 'Nielson', 'Ajuluchukwu', 'Board', 'Leckie', 'Cayley', 'Kuykendall', 'Ukaegbulam', 'Onwuemelie', 'Clendinnen', 'Mactier', 'Lipton', 'Levy', 'Amies', 'Aliyev', 'Langler', 'Pye', 'Asher', 'Major', 'Halpern', 'Nyhan', 'Birdsall', 'Mackie', 'Vinogradoff', 'Pokrovskaya', 'Moroney', 'Spence', 'Cherkasova', 'Crocker', 'Polyakova', 'Cantamessa', 'Teakle', 'Challis', 'Dodgshun', 'Blackall', 'Schoenheimer', 'Bromley', 'Shubina', 'Kinder', 'Shepherdson', 'Burson', 'Hopwood', 'Lindeman', 'McKinley', 'Sanchez', 'Muomelu', 'McVey', 'McKissick', 'Horsfall', 'Clapp', 'MacDonnell', 'Ermakov', 'Peppin', 'Fontenot', 'Howarth', 'Gentry', 'Sunderland', 'Knorr', 'Chimaraoke', 'Frederickson', 'Pickworth', 'McGill', 'Sarratt', 'Leworthy', 'Rivero', 'Hornung', 'Barnet', 'Dennys', 'Salter', 'Lazar', 'Onyenachiya', 'McCawley', 'Teague', 'Nekrasova', 'Carroll', 'Landor', 'Wardell', 'Ali', 'Somayina', 'Ruiz', 'Waterhouse', 'Jara', \"O'Callaghan\", 'Pease', 'Lavrentyev', 'Hobson', 'Lappin', 'Travis', 'Jefferson', 'Begley', 'Levien', 'Erskine', 'Monds', 'Castro', 'Voronova', 'Dietz', 'Voronoff', 'Trevascus', 'Durant', 'Chigozie', 'Ardis', 'Butler', 'Pettry', 'Elmore', 'Voronkov', 'Garland', 'Ndubuagha', 'Duke', 'Bradbury', 'Bayley', 'Cremin', 'Gilchrist', 'Fitzpatrick', 'Pagan', 'Hendrick', 'Harding', 'Burfitt', 'Nieves', 'Bruny', 'Felix', 'Rippey', 'Converse', 'Bogolyubova', 'Remington', 'Levi', 'Bennetts', 'Vachon', 'Upjohn', 'Marcus', 'Alvares', 'McDavid', 'Brothers', 'Molle', 'Galgano', 'Raymond', 'Brodney', 'Afanasyev', 'Meagher', 'McGuffog', 'Sargood', 'Harrington', 'Lorenzen', 'Vidler', 'Allingham', 'Stelzer', 'Rubin', 'Harrell', 'Welsh', 'Sousa', 'Obijiaku', 'Mullen', 'Howell', 'Clifton', 'Rees', 'Onwughara', 'Geoghegan', 'Ilyina', 'Quezada', 'Tobeolisa', 'Akudinobi', 'Flemming', 'Azarov', 'Chill', 'Dumolo', 'Wetherspoon', 'Hampton', 'Ireland', 'Hibbins', 'Lea', 'Singleton', 'Sauve', 'Eidson', 'Melvin', 'Dawkins', 'Rita', 'Woolacott', 'Service', 'Dancy', 'Hankinson', 'Afamefula', 'Sherrod', 'Barling', 'Hobler', 'Bair', 'Drury', 'Beale', 'McMinn', 'Hajek', 'Mays', 'Swayne', 'Fennescey', 'Colon', 'Lederer', 'Cecil', 'Manners', 'Wynne', 'Disher', 'Yocum', 'Lowrie', 'Lavarack', 'Gomes', 'Gibney', 'Foran', 'Wyckoff', 'Soares', 'Kenechi', 'Becher', 'Runyon', 'Dobbs', 'Foveaux', 'Currey', 'Nicholas', 'Foster', 'Edmondson', 'Ah Mouy', 'Blue', 'Sievier', 'Watterston', 'Butters', 'Weaver', 'Earl', 'Begg', 'McNaughtan', 'Reagan', 'Bancroft', 'Band', 'Sandefur', 'Cone', 'Liardet', 'Wilkes', 'Patel', 'Howell-Price', 'Rowland', 'Barnard', 'Pendred', 'Samaniego', 'Burgos', 'Spinelli', 'Peavy', 'Lindell', 'Sorenson', 'Cockett', 'Galkina', 'Spears', 'Hardacre', 'Wakelin', 'Shah', 'Combs', 'Mayrhofer', 'Yefremov', 'Kosovich', 'Taplin', 'Yefimov', 'Hales', 'Copeland', 'Rishel', 'Larkin', 'Eddy', 'Sells', 'Bezrukov', 'St Clair', 'Lockington', 'Weston', 'Groom', 'Cambage', 'Burdekin', 'Franz', 'Morant', 'Loton', 'Sani', 'Von Doussa', 'Miracle', 'Burtch', 'McLachlan', 'Wenz', 'Kisch', 'Newman', 'Ndubuisi', 'Plummer', 'Ershova', 'Brookman', 'McBurney', 'Mickey', 'Olszewski', 'Chijioke', 'Bellasis', 'De Mestre', 'Mundy', 'Donahue', 'Verjus', 'Spaull', 'Voronina', 'Crumbley', 'Birch', 'Custance', 'Marshall-Hall', 'More', 'Bazile', 'Wardle', 'Lilly', 'Medland', 'Denman', 'Ratten', 'Abron', 'Belcher', 'Abernathy', 'Pape', 'Earle', 'Coombes', 'Hopman', 'Trejo', 'Macknight', 'Glossop', 'Chalmers', 'Picot', 'Neumayer', 'Yip', 'Ingle', 'Coffey', 'Istomin', 'Fernando', 'McClaran', 'Townsley', 'Mueller', 'Madukaife', 'Abdullah', 'Caraway', 'Loane', 'Geach', 'Charteris', 'Descoteaux', 'Crump', 'Diggs', 'Carvosso', 'Furneaux', 'Nickson', 'Highett', 'Rendall', 'Allardyce', 'Weatherford', 'Chong', 'Alvarez', 'Pritchard', 'Rawlings', 'Truscott', 'Willmore', 'Godson', 'Bitter', 'Forlonge', 'Reyna', 'Tran', 'Otoole', 'Kane', 'Isaacs', 'Timperley', 'Christopher', 'Lawley', 'Whitson', 'Wimble', 'Fermin', 'Fadden', 'Zox', 'Landseer', 'Jenks', 'Crace', 'Packham', 'Emenike', 'Nero', 'Haddon', 'Slone', 'Dann', 'Hooker', 'Kistler', 'Leason', 'Bruner', 'Rubeo', 'Claypool', 'Walpole', 'Steigrad', 'Hixson', 'Laura', 'Hendley', 'Birnie', 'Montgomery', 'Gamble', 'Chifo', 'Michael', 'Quesada', 'Wunder', 'Burlingame', 'Kesteven', 'Abrego', 'Parrott', 'Zinachukwudi', 'Keane', 'McCollum', 'Gambrell', 'Rieke', 'Cawood', 'Yelverton', 'Mault', 'Frewin', 'Royston', 'Wearing', 'Suttor', 'Catchpole', 'Siddons', 'Arbour', 'Hingston', 'Sacco', 'Robb', 'Ochoa', 'Richmond', 'Nworie', 'Wentcher', 'Hayes-Williams', 'Cairns', 'Schatz', 'Stanton', 'Ramirez', 'Bryan', 'Mullawirraburka', 'Chubb', 'Huggins', 'Cowen', 'Kaleski', 'Sugden', 'Beck', 'Beam', 'Haworth', 'Guidry', 'Maher', 'Rapuluchukwu', 'Cyril', 'Laidley', 'McNeill', 'Kentish', 'Persse', 'Chukwujekwu', 'Ham', 'Paten', 'Esquivel', 'Sidorova', 'Santana', 'Mironov', 'Ruse', 'Palfreyman', 'Webster', 'Cardell', 'Lennox', 'Meldrum', 'Vidal', 'Veale', 'Kershaw', 'Vanzetti', 'Boone', 'Nagy', 'Lehr', 'Upchurch', 'Woodhouse', 'Toth', 'Ingamells', 'Overby', 'Chifley', 'Rodriguez', 'Kingsley', 'Gosnell', 'Gearhart', 'Seccombe', 'Rounsevell', 'Stoneman', 'Moody', 'Keldie', 'Defalco', 'Tillman', 'Beede', 'Sadlier', 'Bozeman', 'Shelby', 'Marian', 'Fane', 'Caffyn', 'Dahlenburg', 'Olson', 'Andersen', 'Mackinlay', 'Norriss', 'Mott', 'Fokina', 'Boan', 'Topp', 'Burgoyne', 'Gebhart', 'Tudawali', 'Maconochie', 'Plumb', 'Benford', 'Cobb', 'Macadam', 'Tychonoff', 'Urban', 'Lascelles', 'Mack', 'Sneddon', 'Hopetoun', 'Faria', 'Marquez', 'Barnhill', 'Ogg', 'Wells', 'Calzada', 'Gresswell', 'Aguirre', 'Morales', 'Moffitt', 'Weigel', 'Ohearn', 'Munroe', 'Trumbull', 'Crist', \"O'Kane\", 'Lorimer', 'McDowell', 'Root', 'Saad', 'Corby', 'Dwyer', 'Flannagan', 'Sturdee', 'Hull', 'Vagin', 'Mach', 'MacPherson', 'Parks', 'Edith', 'Lajoie', 'Torode', 'Salinas', 'Cleveland', 'Kashiwagi', 'Aldridge', 'Burbidge']\n",
      "\n",
      "Уникальные значения в ячейках для столбца geography\n",
      "['France', 'Spain', 'Germany']\n",
      "\n",
      "Уникальные значения в ячейках для столбца gender\n",
      "['Female', 'Male']\n",
      "\n"
     ]
    }
   ],
   "source": [
    "lister = ['surname', 'geography', 'gender']\n",
    "for col in lister:\n",
    "    print(f'Уникальные значения в ячейках для столбца {col}')\n",
    "    print(list(df[col].unique()))\n",
    "    print()"
   ]
  },
  {
   "cell_type": "markdown",
   "metadata": {},
   "source": [
    "<b>Вывод: Неверных значений в ячейках нет. Так же видим, что география охвата клиентов включает в себя только три страны: Франция, Испания, Германия."
   ]
  },
  {
   "cell_type": "markdown",
   "metadata": {},
   "source": [
    "### Исследуем столбец tenure"
   ]
  },
  {
   "cell_type": "code",
   "execution_count": 12,
   "metadata": {},
   "outputs": [
    {
     "data": {
      "text/plain": [
       "1.0     952\n",
       "2.0     950\n",
       "8.0     933\n",
       "3.0     928\n",
       "5.0     927\n",
       "7.0     925\n",
       "4.0     885\n",
       "9.0     882\n",
       "6.0     881\n",
       "10.0    446\n",
       "0.0     382\n",
       "Name: tenure, dtype: int64"
      ]
     },
     "execution_count": 12,
     "metadata": {},
     "output_type": "execute_result"
    }
   ],
   "source": [
    "df['tenure'].value_counts()"
   ]
  },
  {
   "cell_type": "markdown",
   "metadata": {},
   "source": [
    "Заполним пустые столбцы занчемем -1 и посмотрим что это за записи."
   ]
  },
  {
   "cell_type": "code",
   "execution_count": 13,
   "metadata": {},
   "outputs": [
    {
     "data": {
      "text/html": [
       "<div>\n",
       "<style scoped>\n",
       "    .dataframe tbody tr th:only-of-type {\n",
       "        vertical-align: middle;\n",
       "    }\n",
       "\n",
       "    .dataframe tbody tr th {\n",
       "        vertical-align: top;\n",
       "    }\n",
       "\n",
       "    .dataframe thead th {\n",
       "        text-align: right;\n",
       "    }\n",
       "</style>\n",
       "<table border=\"1\" class=\"dataframe\">\n",
       "  <thead>\n",
       "    <tr style=\"text-align: right;\">\n",
       "      <th></th>\n",
       "      <th>customer_id</th>\n",
       "      <th>surname</th>\n",
       "      <th>credit_score</th>\n",
       "      <th>geography</th>\n",
       "      <th>gender</th>\n",
       "      <th>age</th>\n",
       "      <th>tenure</th>\n",
       "      <th>balance</th>\n",
       "      <th>num_products</th>\n",
       "      <th>has_card</th>\n",
       "      <th>active_member</th>\n",
       "      <th>estimated_salary</th>\n",
       "      <th>exited</th>\n",
       "    </tr>\n",
       "  </thead>\n",
       "  <tbody>\n",
       "    <tr>\n",
       "      <th>30</th>\n",
       "      <td>15589475</td>\n",
       "      <td>Azikiwe</td>\n",
       "      <td>591</td>\n",
       "      <td>Spain</td>\n",
       "      <td>Female</td>\n",
       "      <td>39</td>\n",
       "      <td>-1.0</td>\n",
       "      <td>0.00</td>\n",
       "      <td>3</td>\n",
       "      <td>1</td>\n",
       "      <td>0</td>\n",
       "      <td>140469.38</td>\n",
       "      <td>1</td>\n",
       "    </tr>\n",
       "    <tr>\n",
       "      <th>48</th>\n",
       "      <td>15766205</td>\n",
       "      <td>Yin</td>\n",
       "      <td>550</td>\n",
       "      <td>Germany</td>\n",
       "      <td>Male</td>\n",
       "      <td>38</td>\n",
       "      <td>-1.0</td>\n",
       "      <td>103391.38</td>\n",
       "      <td>1</td>\n",
       "      <td>0</td>\n",
       "      <td>1</td>\n",
       "      <td>90878.13</td>\n",
       "      <td>0</td>\n",
       "    </tr>\n",
       "    <tr>\n",
       "      <th>51</th>\n",
       "      <td>15768193</td>\n",
       "      <td>Trevisani</td>\n",
       "      <td>585</td>\n",
       "      <td>Germany</td>\n",
       "      <td>Male</td>\n",
       "      <td>36</td>\n",
       "      <td>-1.0</td>\n",
       "      <td>146050.97</td>\n",
       "      <td>2</td>\n",
       "      <td>0</td>\n",
       "      <td>0</td>\n",
       "      <td>86424.57</td>\n",
       "      <td>0</td>\n",
       "    </tr>\n",
       "    <tr>\n",
       "      <th>53</th>\n",
       "      <td>15702298</td>\n",
       "      <td>Parkhill</td>\n",
       "      <td>655</td>\n",
       "      <td>Germany</td>\n",
       "      <td>Male</td>\n",
       "      <td>41</td>\n",
       "      <td>-1.0</td>\n",
       "      <td>125561.97</td>\n",
       "      <td>1</td>\n",
       "      <td>0</td>\n",
       "      <td>0</td>\n",
       "      <td>164040.94</td>\n",
       "      <td>1</td>\n",
       "    </tr>\n",
       "    <tr>\n",
       "      <th>60</th>\n",
       "      <td>15651280</td>\n",
       "      <td>Hunter</td>\n",
       "      <td>742</td>\n",
       "      <td>Germany</td>\n",
       "      <td>Male</td>\n",
       "      <td>35</td>\n",
       "      <td>-1.0</td>\n",
       "      <td>136857.00</td>\n",
       "      <td>1</td>\n",
       "      <td>0</td>\n",
       "      <td>0</td>\n",
       "      <td>84509.57</td>\n",
       "      <td>0</td>\n",
       "    </tr>\n",
       "    <tr>\n",
       "      <th>...</th>\n",
       "      <td>...</td>\n",
       "      <td>...</td>\n",
       "      <td>...</td>\n",
       "      <td>...</td>\n",
       "      <td>...</td>\n",
       "      <td>...</td>\n",
       "      <td>...</td>\n",
       "      <td>...</td>\n",
       "      <td>...</td>\n",
       "      <td>...</td>\n",
       "      <td>...</td>\n",
       "      <td>...</td>\n",
       "      <td>...</td>\n",
       "    </tr>\n",
       "    <tr>\n",
       "      <th>9944</th>\n",
       "      <td>15703923</td>\n",
       "      <td>Cameron</td>\n",
       "      <td>744</td>\n",
       "      <td>Germany</td>\n",
       "      <td>Male</td>\n",
       "      <td>41</td>\n",
       "      <td>-1.0</td>\n",
       "      <td>190409.34</td>\n",
       "      <td>2</td>\n",
       "      <td>1</td>\n",
       "      <td>1</td>\n",
       "      <td>138361.48</td>\n",
       "      <td>0</td>\n",
       "    </tr>\n",
       "    <tr>\n",
       "      <th>9956</th>\n",
       "      <td>15707861</td>\n",
       "      <td>Nucci</td>\n",
       "      <td>520</td>\n",
       "      <td>France</td>\n",
       "      <td>Female</td>\n",
       "      <td>46</td>\n",
       "      <td>-1.0</td>\n",
       "      <td>85216.61</td>\n",
       "      <td>1</td>\n",
       "      <td>1</td>\n",
       "      <td>0</td>\n",
       "      <td>117369.52</td>\n",
       "      <td>1</td>\n",
       "    </tr>\n",
       "    <tr>\n",
       "      <th>9964</th>\n",
       "      <td>15642785</td>\n",
       "      <td>Douglas</td>\n",
       "      <td>479</td>\n",
       "      <td>France</td>\n",
       "      <td>Male</td>\n",
       "      <td>34</td>\n",
       "      <td>-1.0</td>\n",
       "      <td>117593.48</td>\n",
       "      <td>2</td>\n",
       "      <td>0</td>\n",
       "      <td>0</td>\n",
       "      <td>113308.29</td>\n",
       "      <td>0</td>\n",
       "    </tr>\n",
       "    <tr>\n",
       "      <th>9985</th>\n",
       "      <td>15586914</td>\n",
       "      <td>Nepean</td>\n",
       "      <td>659</td>\n",
       "      <td>France</td>\n",
       "      <td>Male</td>\n",
       "      <td>36</td>\n",
       "      <td>-1.0</td>\n",
       "      <td>123841.49</td>\n",
       "      <td>2</td>\n",
       "      <td>1</td>\n",
       "      <td>0</td>\n",
       "      <td>96833.00</td>\n",
       "      <td>0</td>\n",
       "    </tr>\n",
       "    <tr>\n",
       "      <th>9999</th>\n",
       "      <td>15628319</td>\n",
       "      <td>Walker</td>\n",
       "      <td>792</td>\n",
       "      <td>France</td>\n",
       "      <td>Female</td>\n",
       "      <td>28</td>\n",
       "      <td>-1.0</td>\n",
       "      <td>130142.79</td>\n",
       "      <td>1</td>\n",
       "      <td>1</td>\n",
       "      <td>0</td>\n",
       "      <td>38190.78</td>\n",
       "      <td>0</td>\n",
       "    </tr>\n",
       "  </tbody>\n",
       "</table>\n",
       "<p>909 rows × 13 columns</p>\n",
       "</div>"
      ],
      "text/plain": [
       "      customer_id    surname  credit_score geography  gender  age  tenure  \\\n",
       "30       15589475    Azikiwe           591     Spain  Female   39    -1.0   \n",
       "48       15766205        Yin           550   Germany    Male   38    -1.0   \n",
       "51       15768193  Trevisani           585   Germany    Male   36    -1.0   \n",
       "53       15702298   Parkhill           655   Germany    Male   41    -1.0   \n",
       "60       15651280     Hunter           742   Germany    Male   35    -1.0   \n",
       "...           ...        ...           ...       ...     ...  ...     ...   \n",
       "9944     15703923    Cameron           744   Germany    Male   41    -1.0   \n",
       "9956     15707861      Nucci           520    France  Female   46    -1.0   \n",
       "9964     15642785    Douglas           479    France    Male   34    -1.0   \n",
       "9985     15586914     Nepean           659    France    Male   36    -1.0   \n",
       "9999     15628319     Walker           792    France  Female   28    -1.0   \n",
       "\n",
       "        balance  num_products  has_card  active_member  estimated_salary  \\\n",
       "30         0.00             3         1              0         140469.38   \n",
       "48    103391.38             1         0              1          90878.13   \n",
       "51    146050.97             2         0              0          86424.57   \n",
       "53    125561.97             1         0              0         164040.94   \n",
       "60    136857.00             1         0              0          84509.57   \n",
       "...         ...           ...       ...            ...               ...   \n",
       "9944  190409.34             2         1              1         138361.48   \n",
       "9956   85216.61             1         1              0         117369.52   \n",
       "9964  117593.48             2         0              0         113308.29   \n",
       "9985  123841.49             2         1              0          96833.00   \n",
       "9999  130142.79             1         1              0          38190.78   \n",
       "\n",
       "      exited  \n",
       "30         1  \n",
       "48         0  \n",
       "51         0  \n",
       "53         1  \n",
       "60         0  \n",
       "...      ...  \n",
       "9944       0  \n",
       "9956       1  \n",
       "9964       0  \n",
       "9985       0  \n",
       "9999       0  \n",
       "\n",
       "[909 rows x 13 columns]"
      ]
     },
     "metadata": {},
     "output_type": "display_data"
    }
   ],
   "source": [
    "df_1 = df.fillna(-1.0)\n",
    "display(df_1[df_1['tenure'] == -1.0])"
   ]
  },
  {
   "cell_type": "markdown",
   "metadata": {},
   "source": [
    "Построим гистограммы по этим пустым ячейкам и сравним с гистограммами с похожим количеством строк при tenure = 1"
   ]
  },
  {
   "cell_type": "code",
   "execution_count": 14,
   "metadata": {},
   "outputs": [
    {
     "data": {
      "image/png": "[encoded data removed]",
      "text/plain": [
       "<Figure size 432x288 with 1 Axes>"
      ]
     },
     "metadata": {
      "needs_background": "light"
     },
     "output_type": "display_data"
    }
   ],
   "source": [
    "plt.hist(df['age'][df['tenure'] == 1.0] , range = (0, 100), bins=100, label = 'df')\n",
    "plt.hist(df_1['age'][df_1['tenure'] == -1.0] , range = (0, 100), bins=100, label = 'df_1')\n",
    "plt.ylabel('Частотность')\n",
    "plt.xlabel('Возраст')\n",
    "plt.legend()\n",
    "plt.grid();"
   ]
  },
  {
   "cell_type": "code",
   "execution_count": 15,
   "metadata": {},
   "outputs": [
    {
     "data": {
      "image/png": "[encoded data removed]",
      "text/plain": [
       "<Figure size 432x288 with 1 Axes>"
      ]
     },
     "metadata": {
      "needs_background": "light"
     },
     "output_type": "display_data"
    }
   ],
   "source": [
    "plt.hist(df['credit_score'][df['tenure'] == 1.0] , range = (0, 1000), bins=100, label = 'df')\n",
    "plt.hist(df_1['credit_score'][df_1['tenure'] == -1.0] , range = (0, 1000), bins=100, label = 'df_1')\n",
    "plt.ylabel('Частотность')\n",
    "plt.xlabel('Возраст')\n",
    "plt.legend()\n",
    "plt.grid();"
   ]
  },
  {
   "cell_type": "markdown",
   "metadata": {},
   "source": [
    "Из гистограмм видно что данные с пустыми ячейками весьма похожи на данные клиентов второго года, то есть данные с пустыми tenure содержат некий похожий срез данных."
   ]
  },
  {
   "cell_type": "markdown",
   "metadata": {},
   "source": [
    "Очень хорошо бы узнать у разработчиков, что это за пустые ячейки, но судя по анализу и тому, что новых клиентов при  tenure = 0.0    всего 382, и видим тенденцию уменьшения клентов с годами то вероятно эти пустые ячейки - это новые клиенты, и заполним их нулями, так же можно будет сразу преобразовать в тип данных int64"
   ]
  },
  {
   "cell_type": "code",
   "execution_count": 16,
   "metadata": {},
   "outputs": [],
   "source": [
    "df['tenure'] = df['tenure'].fillna(0).astype('int64')"
   ]
  },
  {
   "cell_type": "code",
   "execution_count": 17,
   "metadata": {},
   "outputs": [
    {
     "name": "stdout",
     "output_type": "stream",
     "text": [
      "<class 'pandas.core.frame.DataFrame'>\n",
      "RangeIndex: 10000 entries, 0 to 9999\n",
      "Data columns (total 13 columns):\n",
      " #   Column            Non-Null Count  Dtype  \n",
      "---  ------            --------------  -----  \n",
      " 0   customer_id       10000 non-null  int64  \n",
      " 1   surname           10000 non-null  object \n",
      " 2   credit_score      10000 non-null  int64  \n",
      " 3   geography         10000 non-null  object \n",
      " 4   gender            10000 non-null  object \n",
      " 5   age               10000 non-null  int64  \n",
      " 6   tenure            10000 non-null  int64  \n",
      " 7   balance           10000 non-null  float64\n",
      " 8   num_products      10000 non-null  int64  \n",
      " 9   has_card          10000 non-null  int64  \n",
      " 10  active_member     10000 non-null  int64  \n",
      " 11  estimated_salary  10000 non-null  float64\n",
      " 12  exited            10000 non-null  int64  \n",
      "dtypes: float64(2), int64(8), object(3)\n",
      "memory usage: 1015.8+ KB\n"
     ]
    }
   ],
   "source": [
    "df.info()"
   ]
  },
  {
   "cell_type": "code",
   "execution_count": 18,
   "metadata": {},
   "outputs": [
    {
     "data": {
      "text/plain": [
       "0     1291\n",
       "1      952\n",
       "2      950\n",
       "8      933\n",
       "3      928\n",
       "5      927\n",
       "7      925\n",
       "4      885\n",
       "9      882\n",
       "6      881\n",
       "10     446\n",
       "Name: tenure, dtype: int64"
      ]
     },
     "execution_count": 18,
     "metadata": {},
     "output_type": "execute_result"
    }
   ],
   "source": [
    "df['tenure'].value_counts()"
   ]
  },
  {
   "cell_type": "markdown",
   "metadata": {},
   "source": [
    "<b>Вывод: Все необходимые преобразования таблицы проделаны, можно приступать к дальнейшей работе с данными для создания моделей предсказаний."
   ]
  },
  {
   "cell_type": "markdown",
   "metadata": {},
   "source": [
    "<div style=\"border-radius: 15px; box-shadow: 4px 4px 4px; border: solid green 2px; padding: 20px\"> <b>Отличная работа</b><br>\n",
    "Отличное исследование пропущенных значений и выбор заполнения на основании этого👍</div> <br>"
   ]
  },
  {
   "cell_type": "markdown",
   "metadata": {},
   "source": [
    "## Удаление столбцов из таблицы, не влияющих на обучение моделей предсказаний"
   ]
  },
  {
   "cell_type": "markdown",
   "metadata": {},
   "source": [
    "Для создания модели предсказаний не важны следующие столбцы: customer_id, surname , так как они никак не должны влиять на то: \"Ушел ли клент или остался в банке\"... Если конечно отбросить возможность влияния имени на решения и жизнь человека."
   ]
  },
  {
   "cell_type": "code",
   "execution_count": 19,
   "metadata": {},
   "outputs": [],
   "source": [
    "df = df.drop(['customer_id', 'surname'], axis=1)"
   ]
  },
  {
   "cell_type": "code",
   "execution_count": 20,
   "metadata": {},
   "outputs": [
    {
     "name": "stdout",
     "output_type": "stream",
     "text": [
      "<class 'pandas.core.frame.DataFrame'>\n",
      "RangeIndex: 10000 entries, 0 to 9999\n",
      "Data columns (total 11 columns):\n",
      " #   Column            Non-Null Count  Dtype  \n",
      "---  ------            --------------  -----  \n",
      " 0   credit_score      10000 non-null  int64  \n",
      " 1   geography         10000 non-null  object \n",
      " 2   gender            10000 non-null  object \n",
      " 3   age               10000 non-null  int64  \n",
      " 4   tenure            10000 non-null  int64  \n",
      " 5   balance           10000 non-null  float64\n",
      " 6   num_products      10000 non-null  int64  \n",
      " 7   has_card          10000 non-null  int64  \n",
      " 8   active_member     10000 non-null  int64  \n",
      " 9   estimated_salary  10000 non-null  float64\n",
      " 10  exited            10000 non-null  int64  \n",
      "dtypes: float64(2), int64(7), object(2)\n",
      "memory usage: 859.5+ KB\n"
     ]
    }
   ],
   "source": [
    "df.info()"
   ]
  },
  {
   "cell_type": "markdown",
   "metadata": {},
   "source": [
    "## Преобразование категориальных данных в числовые, метод OHE"
   ]
  },
  {
   "cell_type": "code",
   "execution_count": 21,
   "metadata": {},
   "outputs": [],
   "source": [
    "df_ohe_drop = pd.get_dummies(df, drop_first=True)"
   ]
  },
  {
   "cell_type": "code",
   "execution_count": 22,
   "metadata": {},
   "outputs": [
    {
     "data": {
      "text/html": [
       "<div>\n",
       "<style scoped>\n",
       "    .dataframe tbody tr th:only-of-type {\n",
       "        vertical-align: middle;\n",
       "    }\n",
       "\n",
       "    .dataframe tbody tr th {\n",
       "        vertical-align: top;\n",
       "    }\n",
       "\n",
       "    .dataframe thead th {\n",
       "        text-align: right;\n",
       "    }\n",
       "</style>\n",
       "<table border=\"1\" class=\"dataframe\">\n",
       "  <thead>\n",
       "    <tr style=\"text-align: right;\">\n",
       "      <th></th>\n",
       "      <th>credit_score</th>\n",
       "      <th>age</th>\n",
       "      <th>tenure</th>\n",
       "      <th>balance</th>\n",
       "      <th>num_products</th>\n",
       "      <th>has_card</th>\n",
       "      <th>active_member</th>\n",
       "      <th>estimated_salary</th>\n",
       "      <th>exited</th>\n",
       "      <th>geography_Germany</th>\n",
       "      <th>geography_Spain</th>\n",
       "      <th>gender_Male</th>\n",
       "    </tr>\n",
       "  </thead>\n",
       "  <tbody>\n",
       "    <tr>\n",
       "      <th>0</th>\n",
       "      <td>619</td>\n",
       "      <td>42</td>\n",
       "      <td>2</td>\n",
       "      <td>0.00</td>\n",
       "      <td>1</td>\n",
       "      <td>1</td>\n",
       "      <td>1</td>\n",
       "      <td>101348.88</td>\n",
       "      <td>1</td>\n",
       "      <td>0</td>\n",
       "      <td>0</td>\n",
       "      <td>0</td>\n",
       "    </tr>\n",
       "    <tr>\n",
       "      <th>1</th>\n",
       "      <td>608</td>\n",
       "      <td>41</td>\n",
       "      <td>1</td>\n",
       "      <td>83807.86</td>\n",
       "      <td>1</td>\n",
       "      <td>0</td>\n",
       "      <td>1</td>\n",
       "      <td>112542.58</td>\n",
       "      <td>0</td>\n",
       "      <td>0</td>\n",
       "      <td>1</td>\n",
       "      <td>0</td>\n",
       "    </tr>\n",
       "    <tr>\n",
       "      <th>2</th>\n",
       "      <td>502</td>\n",
       "      <td>42</td>\n",
       "      <td>8</td>\n",
       "      <td>159660.80</td>\n",
       "      <td>3</td>\n",
       "      <td>1</td>\n",
       "      <td>0</td>\n",
       "      <td>113931.57</td>\n",
       "      <td>1</td>\n",
       "      <td>0</td>\n",
       "      <td>0</td>\n",
       "      <td>0</td>\n",
       "    </tr>\n",
       "    <tr>\n",
       "      <th>3</th>\n",
       "      <td>699</td>\n",
       "      <td>39</td>\n",
       "      <td>1</td>\n",
       "      <td>0.00</td>\n",
       "      <td>2</td>\n",
       "      <td>0</td>\n",
       "      <td>0</td>\n",
       "      <td>93826.63</td>\n",
       "      <td>0</td>\n",
       "      <td>0</td>\n",
       "      <td>0</td>\n",
       "      <td>0</td>\n",
       "    </tr>\n",
       "    <tr>\n",
       "      <th>4</th>\n",
       "      <td>850</td>\n",
       "      <td>43</td>\n",
       "      <td>2</td>\n",
       "      <td>125510.82</td>\n",
       "      <td>1</td>\n",
       "      <td>1</td>\n",
       "      <td>1</td>\n",
       "      <td>79084.10</td>\n",
       "      <td>0</td>\n",
       "      <td>0</td>\n",
       "      <td>1</td>\n",
       "      <td>0</td>\n",
       "    </tr>\n",
       "  </tbody>\n",
       "</table>\n",
       "</div>"
      ],
      "text/plain": [
       "   credit_score  age  tenure    balance  num_products  has_card  \\\n",
       "0           619   42       2       0.00             1         1   \n",
       "1           608   41       1   83807.86             1         0   \n",
       "2           502   42       8  159660.80             3         1   \n",
       "3           699   39       1       0.00             2         0   \n",
       "4           850   43       2  125510.82             1         1   \n",
       "\n",
       "   active_member  estimated_salary  exited  geography_Germany  \\\n",
       "0              1         101348.88       1                  0   \n",
       "1              1         112542.58       0                  0   \n",
       "2              0         113931.57       1                  0   \n",
       "3              0          93826.63       0                  0   \n",
       "4              1          79084.10       0                  0   \n",
       "\n",
       "   geography_Spain  gender_Male  \n",
       "0                0            0  \n",
       "1                1            0  \n",
       "2                0            0  \n",
       "3                0            0  \n",
       "4                1            0  "
      ]
     },
     "execution_count": 22,
     "metadata": {},
     "output_type": "execute_result"
    }
   ],
   "source": [
    "df_ohe_drop.head()"
   ]
  },
  {
   "cell_type": "markdown",
   "metadata": {},
   "source": [
    "Вот у нас и нет более категориальных данных"
   ]
  },
  {
   "cell_type": "markdown",
   "metadata": {},
   "source": [
    "## Массштабирование признаков\n"
   ]
  },
  {
   "cell_type": "code",
   "execution_count": 23,
   "metadata": {},
   "outputs": [],
   "source": [
    "from sklearn.preprocessing import StandardScaler #импортируем метод массштабирования\n",
    "pd.options.mode.chained_assignment = None"
   ]
  },
  {
   "cell_type": "code",
   "execution_count": 24,
   "metadata": {},
   "outputs": [
    {
     "name": "stdout",
     "output_type": "stream",
     "text": [
      "['credit_score', 'age', 'tenure', 'balance', 'num_products', 'has_card', 'active_member', 'estimated_salary', 'exited', 'geography_Germany', 'geography_Spain', 'gender_Male']\n"
     ]
    }
   ],
   "source": [
    "lister = list(df_ohe_drop.columns)\n",
    "print(lister)"
   ]
  },
  {
   "cell_type": "code",
   "execution_count": 25,
   "metadata": {},
   "outputs": [],
   "source": [
    "numeric = ['credit_score', 'age', 'tenure', 'balance',\n",
    "           'num_products', 'has_card', 'active_member',\n",
    "           'estimated_salary']\n",
    "\n",
    "scaler = StandardScaler()\n",
    "\n",
    "scaler.fit(df_ohe_drop[numeric])\n",
    "df_ohe_drop[numeric] = scaler.transform(df_ohe_drop[numeric])"
   ]
  },
  {
   "cell_type": "code",
   "execution_count": 26,
   "metadata": {},
   "outputs": [
    {
     "data": {
      "text/html": [
       "<div>\n",
       "<style scoped>\n",
       "    .dataframe tbody tr th:only-of-type {\n",
       "        vertical-align: middle;\n",
       "    }\n",
       "\n",
       "    .dataframe tbody tr th {\n",
       "        vertical-align: top;\n",
       "    }\n",
       "\n",
       "    .dataframe thead th {\n",
       "        text-align: right;\n",
       "    }\n",
       "</style>\n",
       "<table border=\"1\" class=\"dataframe\">\n",
       "  <thead>\n",
       "    <tr style=\"text-align: right;\">\n",
       "      <th></th>\n",
       "      <th>credit_score</th>\n",
       "      <th>age</th>\n",
       "      <th>tenure</th>\n",
       "      <th>balance</th>\n",
       "      <th>num_products</th>\n",
       "      <th>has_card</th>\n",
       "      <th>active_member</th>\n",
       "      <th>estimated_salary</th>\n",
       "      <th>exited</th>\n",
       "      <th>geography_Germany</th>\n",
       "      <th>geography_Spain</th>\n",
       "      <th>gender_Male</th>\n",
       "    </tr>\n",
       "  </thead>\n",
       "  <tbody>\n",
       "    <tr>\n",
       "      <th>0</th>\n",
       "      <td>-0.326221</td>\n",
       "      <td>0.293517</td>\n",
       "      <td>-0.817441</td>\n",
       "      <td>-1.225848</td>\n",
       "      <td>-0.911583</td>\n",
       "      <td>0.646092</td>\n",
       "      <td>0.970243</td>\n",
       "      <td>0.021886</td>\n",
       "      <td>1</td>\n",
       "      <td>0</td>\n",
       "      <td>0</td>\n",
       "      <td>0</td>\n",
       "    </tr>\n",
       "    <tr>\n",
       "      <th>1</th>\n",
       "      <td>-0.440036</td>\n",
       "      <td>0.198164</td>\n",
       "      <td>-1.138838</td>\n",
       "      <td>0.117350</td>\n",
       "      <td>-0.911583</td>\n",
       "      <td>-1.547768</td>\n",
       "      <td>0.970243</td>\n",
       "      <td>0.216534</td>\n",
       "      <td>0</td>\n",
       "      <td>0</td>\n",
       "      <td>1</td>\n",
       "      <td>0</td>\n",
       "    </tr>\n",
       "    <tr>\n",
       "      <th>2</th>\n",
       "      <td>-1.536794</td>\n",
       "      <td>0.293517</td>\n",
       "      <td>1.110941</td>\n",
       "      <td>1.333053</td>\n",
       "      <td>2.527057</td>\n",
       "      <td>0.646092</td>\n",
       "      <td>-1.030670</td>\n",
       "      <td>0.240687</td>\n",
       "      <td>1</td>\n",
       "      <td>0</td>\n",
       "      <td>0</td>\n",
       "      <td>0</td>\n",
       "    </tr>\n",
       "    <tr>\n",
       "      <th>3</th>\n",
       "      <td>0.501521</td>\n",
       "      <td>0.007457</td>\n",
       "      <td>-1.138838</td>\n",
       "      <td>-1.225848</td>\n",
       "      <td>0.807737</td>\n",
       "      <td>-1.547768</td>\n",
       "      <td>-1.030670</td>\n",
       "      <td>-0.108918</td>\n",
       "      <td>0</td>\n",
       "      <td>0</td>\n",
       "      <td>0</td>\n",
       "      <td>0</td>\n",
       "    </tr>\n",
       "    <tr>\n",
       "      <th>4</th>\n",
       "      <td>2.063884</td>\n",
       "      <td>0.388871</td>\n",
       "      <td>-0.817441</td>\n",
       "      <td>0.785728</td>\n",
       "      <td>-0.911583</td>\n",
       "      <td>0.646092</td>\n",
       "      <td>0.970243</td>\n",
       "      <td>-0.365276</td>\n",
       "      <td>0</td>\n",
       "      <td>0</td>\n",
       "      <td>1</td>\n",
       "      <td>0</td>\n",
       "    </tr>\n",
       "  </tbody>\n",
       "</table>\n",
       "</div>"
      ],
      "text/plain": [
       "   credit_score       age    tenure   balance  num_products  has_card  \\\n",
       "0     -0.326221  0.293517 -0.817441 -1.225848     -0.911583  0.646092   \n",
       "1     -0.440036  0.198164 -1.138838  0.117350     -0.911583 -1.547768   \n",
       "2     -1.536794  0.293517  1.110941  1.333053      2.527057  0.646092   \n",
       "3      0.501521  0.007457 -1.138838 -1.225848      0.807737 -1.547768   \n",
       "4      2.063884  0.388871 -0.817441  0.785728     -0.911583  0.646092   \n",
       "\n",
       "   active_member  estimated_salary  exited  geography_Germany  \\\n",
       "0       0.970243          0.021886       1                  0   \n",
       "1       0.970243          0.216534       0                  0   \n",
       "2      -1.030670          0.240687       1                  0   \n",
       "3      -1.030670         -0.108918       0                  0   \n",
       "4       0.970243         -0.365276       0                  0   \n",
       "\n",
       "   geography_Spain  gender_Male  \n",
       "0                0            0  \n",
       "1                1            0  \n",
       "2                0            0  \n",
       "3                0            0  \n",
       "4                1            0  "
      ]
     },
     "execution_count": 26,
     "metadata": {},
     "output_type": "execute_result"
    }
   ],
   "source": [
    "df_ohe_drop.head()"
   ]
  },
  {
   "cell_type": "markdown",
   "metadata": {},
   "source": [
    "## Разделим исходные данные на обучающую, валидационную и тестовую выборки без стратификации и баланса классов."
   ]
  },
  {
   "cell_type": "markdown",
   "metadata": {},
   "source": [
    "Разделим данные на следующие части:\n",
    "\n",
    "* 60% - тренировочные данные,\n",
    "* 20% - валидационные данные,\n",
    "* 20% - тестовые данные"
   ]
  },
  {
   "cell_type": "code",
   "execution_count": 27,
   "metadata": {},
   "outputs": [],
   "source": [
    "train, validate, test = np.split(df_ohe_drop.sample(frac=1, random_state=12345),[int(.6*len(df)), int(.8*len(df))])\n",
    "# первый аргумент случайно перемешивает таблицу, второй разбивает на 60 и от 60 до 100%\n",
    "# и далее еще на два от 60 до 80 и от 80 до 100%"
   ]
  },
  {
   "cell_type": "code",
   "execution_count": 28,
   "metadata": {},
   "outputs": [
    {
     "data": {
      "text/plain": [
       "(6000, 12)"
      ]
     },
     "execution_count": 28,
     "metadata": {},
     "output_type": "execute_result"
    }
   ],
   "source": [
    "train.shape"
   ]
  },
  {
   "cell_type": "code",
   "execution_count": 29,
   "metadata": {},
   "outputs": [
    {
     "data": {
      "text/plain": [
       "(2000, 12)"
      ]
     },
     "execution_count": 29,
     "metadata": {},
     "output_type": "execute_result"
    }
   ],
   "source": [
    "validate.shape"
   ]
  },
  {
   "cell_type": "code",
   "execution_count": 30,
   "metadata": {},
   "outputs": [
    {
     "data": {
      "text/plain": [
       "(2000, 12)"
      ]
     },
     "execution_count": 30,
     "metadata": {},
     "output_type": "execute_result"
    }
   ],
   "source": [
    "test.shape"
   ]
  },
  {
   "cell_type": "code",
   "execution_count": 31,
   "metadata": {},
   "outputs": [],
   "source": [
    "features_train = train.drop(['exited'], axis=1)\n",
    "target_train = train['exited']"
   ]
  },
  {
   "cell_type": "code",
   "execution_count": 32,
   "metadata": {},
   "outputs": [],
   "source": [
    "features_valid = validate.drop(['exited'], axis=1)\n",
    "target_valid = validate['exited']"
   ]
  },
  {
   "cell_type": "code",
   "execution_count": 33,
   "metadata": {},
   "outputs": [],
   "source": [
    "features_test = test.drop(['exited'], axis=1)\n",
    "target_test = test['exited']"
   ]
  },
  {
   "cell_type": "markdown",
   "metadata": {},
   "source": [
    "<div style=\"border-radius: 15px; box-shadow: 4px 4px 4px; border: solid green 2px; padding: 20px\"> <b>Отличная работа</b><br>Отлично, данные разделены корректно! Классно, что использовал <code>np.split</code> - редко такое встретишь =)</div> <br>"
   ]
  },
  {
   "cell_type": "markdown",
   "metadata": {},
   "source": [
    "## Исследуем качество F1-меры разных моделей на данных без стратификации, меняя гиперпараметры."
   ]
  },
  {
   "cell_type": "markdown",
   "metadata": {},
   "source": [
    "Импортируем все необходимые модули:"
   ]
  },
  {
   "cell_type": "code",
   "execution_count": 34,
   "metadata": {},
   "outputs": [],
   "source": [
    "from sklearn.tree import DecisionTreeClassifier\n",
    "from sklearn.ensemble import RandomForestClassifier\n",
    "from sklearn.linear_model import LogisticRegression\n",
    "from sklearn.metrics import f1_score \n",
    "from sklearn.metrics import roc_auc_score"
   ]
  },
  {
   "cell_type": "markdown",
   "metadata": {},
   "source": [
    "### Модель решающего дерева:"
   ]
  },
  {
   "cell_type": "code",
   "execution_count": 35,
   "metadata": {},
   "outputs": [
    {
     "name": "stdout",
     "output_type": "stream",
     "text": [
      "Наилучшая depth: 7\n",
      "F1-мера наилучшей модели на валидационной выборке: 0.5446293494704992\n",
      "roc_auc наилучшей модели на валидационной выборке: 0.8083453252944778\n"
     ]
    }
   ],
   "source": [
    "best_model = None\n",
    "best_result = 0\n",
    "roc_auc = 0\n",
    "best_depth = 0\n",
    "for depth in range(1, 20):\n",
    "    model_tree = DecisionTreeClassifier(random_state=12345, max_depth=depth) # обучите модель с заданной глубиной дерева\n",
    "    model_tree.fit(features_train, target_train) # обучите модель\n",
    "    predictions = model_tree.predict(features_valid) # получите предсказания модели\n",
    "    result = f1_score(target_valid, predictions) # посчитайте качество модели\n",
    "    probabilities_valid = model_tree.predict_proba(features_valid)\n",
    "    probabilities_one_valid = probabilities_valid[:, 1]\n",
    "    auc_roc = roc_auc_score(target_valid, probabilities_one_valid)\n",
    "    if result > best_result:\n",
    "        best_model = model_tree# сохраните наилучшую модель\n",
    "        best_result = result\n",
    "        roc_auc = auc_roc\n",
    "        best_depth = depth\n",
    "print(\"Наилучшая depth:\", best_depth)\n",
    "print(\"F1-мера наилучшей модели на валидационной выборке:\", best_result)\n",
    "print(\"roc_auc наилучшей модели на валидационной выборке:\", roc_auc)"
   ]
  },
  {
   "cell_type": "markdown",
   "metadata": {},
   "source": [
    "### Модель случайного леса"
   ]
  },
  {
   "cell_type": "code",
   "execution_count": 36,
   "metadata": {},
   "outputs": [
    {
     "name": "stdout",
     "output_type": "stream",
     "text": [
      "Наилучшая n_estimators: 7\n",
      "Наилучшая depth: 16\n",
      "F1-мера наилучшей модели на валидационной выборке: 0.5529411764705883\n",
      "roc_auc наилучшей модели на валидационной выборке: 0.7955305073949143\n"
     ]
    }
   ],
   "source": [
    "best_model = None\n",
    "best_result = 0\n",
    "best_est = 0\n",
    "roc_auc = 0\n",
    "best_depth = 0\n",
    "for est in range(1, 20):\n",
    "    for depth in range(1, 20):\n",
    "        model_forest = RandomForestClassifier(random_state=12345, n_estimators=est, max_depth=depth)\n",
    "        # обучите модель с заданным количеством деревьев И ГЛУБИНЫ ДЕРЕВЬЕВ\n",
    "        model_forest.fit(features_train, target_train) # обучите модель на тренировочной выборке\n",
    "        predictions = model_forest.predict(features_valid)\n",
    "        result = f1_score(target_valid, predictions) # посчитайте качество модели на валидационной выборке\n",
    "        probabilities_valid = model_forest.predict_proba(features_valid)\n",
    "        probabilities_one_valid = probabilities_valid[:, 1]\n",
    "        auc_roc = roc_auc_score(target_valid, probabilities_one_valid)\n",
    "        if result > best_result:\n",
    "            best_model = model_forest# сохраните наилучшую модель\n",
    "            best_result = result#  сохраните наилучшее значение метрики F1 на валидационных данных\n",
    "            best_est = est\n",
    "            roc_auc = auc_roc\n",
    "            best_depth = depth\n",
    "        \n",
    "print(\"Наилучшая n_estimators:\", best_est)\n",
    "print(\"Наилучшая depth:\", best_depth)\n",
    "print(\"F1-мера наилучшей модели на валидационной выборке:\", best_result)\n",
    "print(\"roc_auc наилучшей модели на валидационной выборке:\", roc_auc)"
   ]
  },
  {
   "cell_type": "markdown",
   "metadata": {},
   "source": [
    "<div style=\"border-radius: 15px; box-shadow: 4px 4px 4px; border: solid orange 2px; padding: 20px\"> <b>Что можно улучшить</b><br>\n",
    "<ul>\n",
    "    <li> Преимущество ансамблевых методов (леса, бустинги) именно в большом разнообразии моделей (необязательно сильных), поэтому выгоднее использовать большое кол-во деревьев, например, в своей работе обычно поиск начинаю со 100. Расширенный поиск 100-1000. А вот глубину можно ограничить 15-20 - это уже очень глубокое дерево,  способное запомнить выборку\n",
    "    <li> Процесс подбора параметров может идти долго, а иногда хочется знать где мы сейчас находимся, для этого поможет <a href=\"https://github.com/tqdm/tqdm\">библиотека tqdm</a></ul>\n",
    "<br>\n",
    "<img src=https://alexanderdyakonov.files.wordpress.com/2018/08/new_tqdm.jpeg></div> <br>"
   ]
  },
  {
   "cell_type": "markdown",
   "metadata": {},
   "source": [
    "### Логистическая регрессия"
   ]
  },
  {
   "cell_type": "code",
   "execution_count": 37,
   "metadata": {},
   "outputs": [
    {
     "name": "stdout",
     "output_type": "stream",
     "text": [
      "F1-мера модели логистической регрессии на валидационной выборке: 0.3054003724394786\n",
      "roc_auc модели логистической регрессии на валидационной выборке: 0.7657919861309692\n"
     ]
    }
   ],
   "source": [
    "model_log = LogisticRegression(random_state=12345)\n",
    "# инициализируйте модель логистической регрессии с параметром random_state=12345\n",
    "model_log.fit(features_train, target_train) # обучите модель на тренировочной выборке\n",
    "predictions = model_log.predict(features_valid)\n",
    "result = f1_score(target_valid, predictions) # получите метрику качества модели на валидационной выборке\n",
    "probabilities_valid = model_log.predict_proba(features_valid)\n",
    "probabilities_one_valid = probabilities_valid[:, 1]\n",
    "auc_roc = roc_auc_score(target_valid, probabilities_one_valid)\n",
    "\n",
    "print(\"F1-мера модели логистической регрессии на валидационной выборке:\", result)\n",
    "print(\"roc_auc модели логистической регрессии на валидационной выборке:\", auc_roc)"
   ]
  },
  {
   "cell_type": "markdown",
   "metadata": {},
   "source": [
    "Да на логистической регрессии вообще все очень плохо."
   ]
  },
  {
   "cell_type": "markdown",
   "metadata": {},
   "source": [
    "## Разделим исходные данные на обучающую, валидационную и тестовую выборки учитывая стратификацию классов."
   ]
  },
  {
   "cell_type": "code",
   "execution_count": 38,
   "metadata": {},
   "outputs": [],
   "source": [
    "from sklearn.model_selection import train_test_split"
   ]
  },
  {
   "cell_type": "markdown",
   "metadata": {},
   "source": [
    "Разделение талицы с учетом баланса классов\n",
    "\n",
    "Разделим таблицу сначала на 60 и 40 процентов и далее вторую выборку 50/50"
   ]
  },
  {
   "cell_type": "code",
   "execution_count": 39,
   "metadata": {},
   "outputs": [],
   "source": [
    "features = df_ohe_drop.drop(['exited'], axis=1)\n",
    "target = df_ohe_drop['exited']"
   ]
  },
  {
   "cell_type": "code",
   "execution_count": 40,
   "metadata": {},
   "outputs": [],
   "source": [
    "features_train, features_40, target_train, target_40 = train_test_split(features, target, stratify=target,\n",
    "                                                              test_size=0.4, random_state=12345)"
   ]
  },
  {
   "cell_type": "code",
   "execution_count": 41,
   "metadata": {},
   "outputs": [],
   "source": [
    "features_valid, features_test, target_valid, target_test = train_test_split(features_40, target_40, stratify=target_40,\n",
    "                                                              test_size=0.5, random_state=12345)"
   ]
  },
  {
   "cell_type": "code",
   "execution_count": 42,
   "metadata": {},
   "outputs": [
    {
     "data": {
      "text/plain": [
       "(6000, 11)"
      ]
     },
     "execution_count": 42,
     "metadata": {},
     "output_type": "execute_result"
    }
   ],
   "source": [
    "features_train.shape"
   ]
  },
  {
   "cell_type": "code",
   "execution_count": 43,
   "metadata": {},
   "outputs": [
    {
     "data": {
      "text/plain": [
       "(2000, 11)"
      ]
     },
     "execution_count": 43,
     "metadata": {},
     "output_type": "execute_result"
    }
   ],
   "source": [
    "features_valid.shape"
   ]
  },
  {
   "cell_type": "code",
   "execution_count": 44,
   "metadata": {},
   "outputs": [
    {
     "data": {
      "text/plain": [
       "(2000, 11)"
      ]
     },
     "execution_count": 44,
     "metadata": {},
     "output_type": "execute_result"
    }
   ],
   "source": [
    "features_test.shape"
   ]
  },
  {
   "cell_type": "code",
   "execution_count": 45,
   "metadata": {},
   "outputs": [
    {
     "data": {
      "text/html": [
       "<div>\n",
       "<style scoped>\n",
       "    .dataframe tbody tr th:only-of-type {\n",
       "        vertical-align: middle;\n",
       "    }\n",
       "\n",
       "    .dataframe tbody tr th {\n",
       "        vertical-align: top;\n",
       "    }\n",
       "\n",
       "    .dataframe thead th {\n",
       "        text-align: right;\n",
       "    }\n",
       "</style>\n",
       "<table border=\"1\" class=\"dataframe\">\n",
       "  <thead>\n",
       "    <tr style=\"text-align: right;\">\n",
       "      <th></th>\n",
       "      <th>credit_score</th>\n",
       "      <th>age</th>\n",
       "      <th>tenure</th>\n",
       "      <th>balance</th>\n",
       "      <th>num_products</th>\n",
       "      <th>has_card</th>\n",
       "      <th>active_member</th>\n",
       "      <th>estimated_salary</th>\n",
       "      <th>geography_Germany</th>\n",
       "      <th>geography_Spain</th>\n",
       "      <th>gender_Male</th>\n",
       "    </tr>\n",
       "  </thead>\n",
       "  <tbody>\n",
       "    <tr>\n",
       "      <th>6612</th>\n",
       "      <td>-1.536794</td>\n",
       "      <td>2.391296</td>\n",
       "      <td>-0.496044</td>\n",
       "      <td>1.012552</td>\n",
       "      <td>-0.911583</td>\n",
       "      <td>-1.547768</td>\n",
       "      <td>0.970243</td>\n",
       "      <td>0.015735</td>\n",
       "      <td>0</td>\n",
       "      <td>0</td>\n",
       "      <td>0</td>\n",
       "    </tr>\n",
       "    <tr>\n",
       "      <th>519</th>\n",
       "      <td>0.584295</td>\n",
       "      <td>1.819175</td>\n",
       "      <td>0.468147</td>\n",
       "      <td>0.211558</td>\n",
       "      <td>-0.911583</td>\n",
       "      <td>-1.547768</td>\n",
       "      <td>0.970243</td>\n",
       "      <td>0.458737</td>\n",
       "      <td>0</td>\n",
       "      <td>0</td>\n",
       "      <td>1</td>\n",
       "    </tr>\n",
       "    <tr>\n",
       "      <th>1609</th>\n",
       "      <td>-0.326221</td>\n",
       "      <td>-0.373958</td>\n",
       "      <td>1.110941</td>\n",
       "      <td>0.894421</td>\n",
       "      <td>-0.911583</td>\n",
       "      <td>0.646092</td>\n",
       "      <td>-1.030670</td>\n",
       "      <td>-0.598309</td>\n",
       "      <td>0</td>\n",
       "      <td>0</td>\n",
       "      <td>0</td>\n",
       "    </tr>\n",
       "    <tr>\n",
       "      <th>3475</th>\n",
       "      <td>1.225795</td>\n",
       "      <td>-0.755372</td>\n",
       "      <td>-0.174647</td>\n",
       "      <td>-0.243433</td>\n",
       "      <td>0.807737</td>\n",
       "      <td>0.646092</td>\n",
       "      <td>0.970243</td>\n",
       "      <td>-1.616694</td>\n",
       "      <td>0</td>\n",
       "      <td>0</td>\n",
       "      <td>1</td>\n",
       "    </tr>\n",
       "    <tr>\n",
       "      <th>2707</th>\n",
       "      <td>-0.139979</td>\n",
       "      <td>-0.087897</td>\n",
       "      <td>-0.496044</td>\n",
       "      <td>0.446414</td>\n",
       "      <td>-0.911583</td>\n",
       "      <td>-1.547768</td>\n",
       "      <td>-1.030670</td>\n",
       "      <td>0.344174</td>\n",
       "      <td>0</td>\n",
       "      <td>0</td>\n",
       "      <td>0</td>\n",
       "    </tr>\n",
       "    <tr>\n",
       "      <th>...</th>\n",
       "      <td>...</td>\n",
       "      <td>...</td>\n",
       "      <td>...</td>\n",
       "      <td>...</td>\n",
       "      <td>...</td>\n",
       "      <td>...</td>\n",
       "      <td>...</td>\n",
       "      <td>...</td>\n",
       "      <td>...</td>\n",
       "      <td>...</td>\n",
       "      <td>...</td>\n",
       "    </tr>\n",
       "    <tr>\n",
       "      <th>3063</th>\n",
       "      <td>-0.429689</td>\n",
       "      <td>-0.660018</td>\n",
       "      <td>0.789544</td>\n",
       "      <td>-0.073944</td>\n",
       "      <td>-0.911583</td>\n",
       "      <td>0.646092</td>\n",
       "      <td>0.970243</td>\n",
       "      <td>0.901353</td>\n",
       "      <td>0</td>\n",
       "      <td>0</td>\n",
       "      <td>1</td>\n",
       "    </tr>\n",
       "    <tr>\n",
       "      <th>5951</th>\n",
       "      <td>0.729150</td>\n",
       "      <td>0.198164</td>\n",
       "      <td>0.789544</td>\n",
       "      <td>-1.225848</td>\n",
       "      <td>0.807737</td>\n",
       "      <td>-1.547768</td>\n",
       "      <td>0.970243</td>\n",
       "      <td>-0.679412</td>\n",
       "      <td>0</td>\n",
       "      <td>0</td>\n",
       "      <td>1</td>\n",
       "    </tr>\n",
       "    <tr>\n",
       "      <th>9702</th>\n",
       "      <td>-0.067552</td>\n",
       "      <td>-0.755372</td>\n",
       "      <td>0.146750</td>\n",
       "      <td>0.152585</td>\n",
       "      <td>-0.911583</td>\n",
       "      <td>0.646092</td>\n",
       "      <td>0.970243</td>\n",
       "      <td>-0.455023</td>\n",
       "      <td>0</td>\n",
       "      <td>1</td>\n",
       "      <td>0</td>\n",
       "    </tr>\n",
       "    <tr>\n",
       "      <th>7518</th>\n",
       "      <td>-1.557488</td>\n",
       "      <td>-0.850726</td>\n",
       "      <td>-0.817441</td>\n",
       "      <td>0.785485</td>\n",
       "      <td>0.807737</td>\n",
       "      <td>0.646092</td>\n",
       "      <td>0.970243</td>\n",
       "      <td>-0.543976</td>\n",
       "      <td>1</td>\n",
       "      <td>0</td>\n",
       "      <td>1</td>\n",
       "    </tr>\n",
       "    <tr>\n",
       "      <th>828</th>\n",
       "      <td>-0.212407</td>\n",
       "      <td>-0.755372</td>\n",
       "      <td>-1.460235</td>\n",
       "      <td>0.575174</td>\n",
       "      <td>0.807737</td>\n",
       "      <td>0.646092</td>\n",
       "      <td>0.970243</td>\n",
       "      <td>0.540411</td>\n",
       "      <td>1</td>\n",
       "      <td>0</td>\n",
       "      <td>0</td>\n",
       "    </tr>\n",
       "  </tbody>\n",
       "</table>\n",
       "<p>2000 rows × 11 columns</p>\n",
       "</div>"
      ],
      "text/plain": [
       "      credit_score       age    tenure   balance  num_products  has_card  \\\n",
       "6612     -1.536794  2.391296 -0.496044  1.012552     -0.911583 -1.547768   \n",
       "519       0.584295  1.819175  0.468147  0.211558     -0.911583 -1.547768   \n",
       "1609     -0.326221 -0.373958  1.110941  0.894421     -0.911583  0.646092   \n",
       "3475      1.225795 -0.755372 -0.174647 -0.243433      0.807737  0.646092   \n",
       "2707     -0.139979 -0.087897 -0.496044  0.446414     -0.911583 -1.547768   \n",
       "...            ...       ...       ...       ...           ...       ...   \n",
       "3063     -0.429689 -0.660018  0.789544 -0.073944     -0.911583  0.646092   \n",
       "5951      0.729150  0.198164  0.789544 -1.225848      0.807737 -1.547768   \n",
       "9702     -0.067552 -0.755372  0.146750  0.152585     -0.911583  0.646092   \n",
       "7518     -1.557488 -0.850726 -0.817441  0.785485      0.807737  0.646092   \n",
       "828      -0.212407 -0.755372 -1.460235  0.575174      0.807737  0.646092   \n",
       "\n",
       "      active_member  estimated_salary  geography_Germany  geography_Spain  \\\n",
       "6612       0.970243          0.015735                  0                0   \n",
       "519        0.970243          0.458737                  0                0   \n",
       "1609      -1.030670         -0.598309                  0                0   \n",
       "3475       0.970243         -1.616694                  0                0   \n",
       "2707      -1.030670          0.344174                  0                0   \n",
       "...             ...               ...                ...              ...   \n",
       "3063       0.970243          0.901353                  0                0   \n",
       "5951       0.970243         -0.679412                  0                0   \n",
       "9702       0.970243         -0.455023                  0                1   \n",
       "7518       0.970243         -0.543976                  1                0   \n",
       "828        0.970243          0.540411                  1                0   \n",
       "\n",
       "      gender_Male  \n",
       "6612            0  \n",
       "519             1  \n",
       "1609            0  \n",
       "3475            1  \n",
       "2707            0  \n",
       "...           ...  \n",
       "3063            1  \n",
       "5951            1  \n",
       "9702            0  \n",
       "7518            1  \n",
       "828             0  \n",
       "\n",
       "[2000 rows x 11 columns]"
      ]
     },
     "metadata": {},
     "output_type": "display_data"
    }
   ],
   "source": [
    "display(features_valid)"
   ]
  },
  {
   "cell_type": "code",
   "execution_count": 46,
   "metadata": {},
   "outputs": [
    {
     "data": {
      "text/plain": [
       "6612    0\n",
       "519     0\n",
       "1609    0\n",
       "3475    0\n",
       "2707    0\n",
       "       ..\n",
       "3063    0\n",
       "5951    0\n",
       "9702    0\n",
       "7518    0\n",
       "828     0\n",
       "Name: exited, Length: 2000, dtype: int64"
      ]
     },
     "metadata": {},
     "output_type": "display_data"
    }
   ],
   "source": [
    "display(target_valid)"
   ]
  },
  {
   "cell_type": "markdown",
   "metadata": {},
   "source": [
    "## Исследуем качество F1-меры разных моделей на данных c учетом баланса классов, меняя гиперпараметры."
   ]
  },
  {
   "cell_type": "markdown",
   "metadata": {},
   "source": [
    "### Модель решающего дерева:"
   ]
  },
  {
   "cell_type": "code",
   "execution_count": 47,
   "metadata": {},
   "outputs": [
    {
     "name": "stdout",
     "output_type": "stream",
     "text": [
      "Наилучшая depth: 7\n",
      "F1-мера наилучшей модели на валидационной выборке с балансом классов: 0.5924855491329479\n",
      "roc_auc наилучшей модели на валидационной выборке с балансом классов: 0.8247056360232534\n",
      "Wall time: 858 ms\n"
     ]
    }
   ],
   "source": [
    "%%time\n",
    "best_model = None\n",
    "best_result = 0\n",
    "roc_auc = 0\n",
    "best_depth = 0\n",
    "for depth in range(1, 20):\n",
    "    model_tree_bal = DecisionTreeClassifier(random_state=12345, max_depth=depth) # обучите модель с заданной глубиной дерева\n",
    "    model_tree_bal.fit(features_train, target_train) # обучите модель\n",
    "    predictions = model_tree_bal.predict(features_valid) # получите предсказания модели\n",
    "    result = f1_score(target_valid, predictions) # посчитайте качество модели\n",
    "    probabilities_valid = model_tree_bal.predict_proba(features_valid)\n",
    "    probabilities_one_valid = probabilities_valid[:, 1]\n",
    "    auc_roc = roc_auc_score(target_valid, probabilities_one_valid)\n",
    "    if result > best_result:\n",
    "        best_model = model_tree_bal# сохраните наилучшую модель\n",
    "        best_result = result\n",
    "        roc_auc = auc_roc\n",
    "        best_depth = depth\n",
    "print(\"Наилучшая depth:\", best_depth)\n",
    "print(\"F1-мера наилучшей модели на валидационной выборке с балансом классов:\", best_result)\n",
    "print(\"roc_auc наилучшей модели на валидационной выборке с балансом классов:\", roc_auc)"
   ]
  },
  {
   "cell_type": "markdown",
   "metadata": {},
   "source": [
    "Баланс классов улучшил модель"
   ]
  },
  {
   "cell_type": "markdown",
   "metadata": {},
   "source": [
    "### Модель случайного леса"
   ]
  },
  {
   "cell_type": "code",
   "execution_count": 48,
   "metadata": {},
   "outputs": [
    {
     "name": "stdout",
     "output_type": "stream",
     "text": [
      "Наилучшая n_estimators: 15\n",
      "Наилучшая depth: 18\n",
      "F1-мера наилучшей модели на валидационной выборке с балансом классов: 0.6246418338108882\n",
      "roc_auc наилучшей модели на валидационной выборке с балансом классов: 0.8436098999901468\n",
      "Wall time: 28.4 s\n"
     ]
    }
   ],
   "source": [
    "%%time\n",
    "best_model = None\n",
    "best_result = 0\n",
    "best_est = 0\n",
    "roc_auc = 0\n",
    "best_depth = 0\n",
    "for est in range(1, 20):\n",
    "    for depth in range(1, 20):\n",
    "        model_forest_bal = RandomForestClassifier(random_state=12345, n_estimators=est, max_depth=depth)\n",
    "        # обучите модель с заданным количеством деревьев И ГЛУБИНЫ ДЕРЕВЬЕВ\n",
    "        model_forest_bal.fit(features_train, target_train) # обучите модель на тренировочной выборке\n",
    "        predictions = model_forest_bal.predict(features_valid)\n",
    "        result = f1_score(target_valid, predictions) # посчитайте качество модели на валидационной выборке\n",
    "        probabilities_valid = model_forest_bal.predict_proba(features_valid)\n",
    "        probabilities_one_valid = probabilities_valid[:, 1]\n",
    "        auc_roc = roc_auc_score(target_valid, probabilities_one_valid)\n",
    "        if result > best_result:\n",
    "            best_model = model_forest_bal# сохраните наилучшую модель\n",
    "            best_result = result#  сохраните наилучшее значение метрики F1 на валидационных данных\n",
    "            best_est = est\n",
    "            roc_auc = auc_roc\n",
    "            best_depth = depth\n",
    "        \n",
    "print(\"Наилучшая n_estimators:\", best_est)\n",
    "print(\"Наилучшая depth:\", best_depth)\n",
    "print(\"F1-мера наилучшей модели на валидационной выборке с балансом классов:\", best_result)\n",
    "print(\"roc_auc наилучшей модели на валидационной выборке с балансом классов:\", roc_auc)"
   ]
  },
  {
   "cell_type": "markdown",
   "metadata": {},
   "source": [
    "Баланс классов улучшил модель"
   ]
  },
  {
   "cell_type": "markdown",
   "metadata": {},
   "source": [
    "### Логистическая регрессия"
   ]
  },
  {
   "cell_type": "code",
   "execution_count": 49,
   "metadata": {},
   "outputs": [
    {
     "name": "stdout",
     "output_type": "stream",
     "text": [
      "F1-мера модели логистической регрессии на валидационной выборке с балансом классов: 0.30458715596330277\n",
      "roc_auc модели логистической регрессии на валидационной выборке с балансом классов: 0.7875144718691497\n",
      "Wall time: 32 ms\n"
     ]
    }
   ],
   "source": [
    "%%time\n",
    "model_log = LogisticRegression(random_state=12345)\n",
    "# инициализируйте модель логистической регрессии с параметром random_state=12345\n",
    "model_log.fit(features_train, target_train) # обучите модель на тренировочной выборке\n",
    "predictions = model_log.predict(features_valid)\n",
    "result = f1_score(target_valid, predictions) # получите метрику качества модели на валидационной выборке\n",
    "probabilities_valid = model_log.predict_proba(features_valid)\n",
    "probabilities_one_valid = probabilities_valid[:, 1]\n",
    "auc_roc = roc_auc_score(target_valid, probabilities_one_valid)\n",
    "\n",
    "print(\"F1-мера модели логистической регрессии на валидационной выборке с балансом классов:\", result)\n",
    "print(\"roc_auc модели логистической регрессии на валидационной выборке с балансом классов:\", auc_roc)"
   ]
  },
  {
   "cell_type": "markdown",
   "metadata": {},
   "source": [
    "Для решающего дерева и случайного леса баланс классов дал существенное улучшение F1-меры, для логистической регрессии стало даже немного хуже."
   ]
  },
  {
   "cell_type": "markdown",
   "metadata": {},
   "source": [
    "<div style=\"border-radius: 15px; box-shadow: 4px 4px 4px; border: solid green 2px; padding: 20px\"> <b>Отличная работа</b><br>\n",
    "Отличное подтверждение важности использования стратификации при разделении выборки!</div> <br>"
   ]
  },
  {
   "cell_type": "markdown",
   "metadata": {},
   "source": [
    "## Проверим качество модели на тестовой выборке с учетом баланса классов."
   ]
  },
  {
   "cell_type": "markdown",
   "metadata": {},
   "source": [
    "### Модель решающего дерева - обучение на 60% данных"
   ]
  },
  {
   "cell_type": "code",
   "execution_count": 50,
   "metadata": {},
   "outputs": [
    {
     "name": "stdout",
     "output_type": "stream",
     "text": [
      "F1-мера наилучшей модели на тестовой выборке с балансом классов: 0.4724602203182375\n",
      "auc_roc наилучшей модели на тестовой выборке с балансом классов: 0.6666543276712767\n",
      "Wall time: 41 ms\n"
     ]
    }
   ],
   "source": [
    "%%time\n",
    "predictions = model_tree_bal.predict(features_test) # получите предсказания модели\n",
    "result = f1_score(target_test, predictions) # посчитайте качество модели на тестовой выборке\n",
    "probabilities_test = model_tree_bal.predict_proba(features_test)\n",
    "probabilities_one_test = probabilities_test[:, 1]\n",
    "auc_roc = roc_auc_score(target_test, probabilities_one_test)\n",
    "print(\"F1-мера наилучшей модели на тестовой выборке с балансом классов:\", result)\n",
    "print(\"auc_roc наилучшей модели на тестовой выборке с балансом классов:\", auc_roc)"
   ]
  },
  {
   "cell_type": "markdown",
   "metadata": {},
   "source": [
    "### Модель случайного леса - обучение на 60% данных"
   ]
  },
  {
   "cell_type": "code",
   "execution_count": 51,
   "metadata": {},
   "outputs": [
    {
     "name": "stdout",
     "output_type": "stream",
     "text": [
      "F1-мера наилучшей модели на тестовой выборке с балансом классов: 0.5327380952380952\n",
      "roc_auc наилучшей модели на тестовой выборке с балансом классов: 0.8436098999901468\n",
      "Wall time: 55 ms\n"
     ]
    }
   ],
   "source": [
    "%%time\n",
    "predictions = model_forest_bal.predict(features_test)\n",
    "result = f1_score(target_test, predictions) # посчитайте качество модели на валидационной выборке\n",
    "probabilities_test = model_forest_bal.predict_proba(features_test)\n",
    "probabilities_one_test = probabilities_test[:, 1]\n",
    "auc_roc = roc_auc_score(target_test, probabilities_one_test)\n",
    "        \n",
    "print(\"F1-мера наилучшей модели на тестовой выборке с балансом классов:\", result)\n",
    "print(\"roc_auc наилучшей модели на тестовой выборке с балансом классов:\", roc_auc)"
   ]
  },
  {
   "cell_type": "markdown",
   "metadata": {},
   "source": [
    "На тестовой выборке видим падение показателей качества модели, но мы использовали для обучения только 60% данных, далее попробуем разделить данные так, что бы использовать для обучения 80% данных\n",
    "    \n",
    "<div class=\"alert alert-info\">Вопрос к ревьюверу: Почему показатели на тестовой выборке так упали по сравнению с валидационной?</div>"
   ]
  },
  {
   "cell_type": "markdown",
   "metadata": {},
   "source": [
    "<div style=\"border-radius: 15px; box-shadow: 4px 4px 4px; border: solid green 2px; padding: 20px\"> <b>Комментарий</b><br>Это нормальное явление:\n",
    "<ul>\n",
    "    <li> модель обучалась и настраивалась на train\\valid выборке, то есть модель не видела test выборку, поэтому качество всегда будет не лучше (если только по случайности)\n",
    "    <li> процесс разбиения на выборки случаен, поэтому в test могут попасть достаточно отличные части исходной\n",
    "    <li> модель еще не научилась очень хорошо обобщать данные\n",
    "    <li> модель настигло переобучение (в случае сильного падения метрики)</ul>\n",
    "в основном отложенная выборка (test) используется, чтобы получить устойчивую, хорошо обобщающую и непереобученную модель<br>\n",
    "Для тестирования модели можно выбрать один из двух вариантов:<br>\n",
    "<ul>\n",
    "    <li> Обучать на train, подбор гиперпараметров по оценка на valid, результирующее тестирование на test\n",
    "    <li> Обучать на train, подбор гиперпараметров по оценка на valid, выбранная лучшая модель обучается на train+valid и тестируется на test</ul><br>\n",
    "Ты можешь использовать 2 способ тестирования модели, как более точный.\n",
    "</div>"
   ]
  },
  {
   "cell_type": "markdown",
   "metadata": {},
   "source": [
    "### Разделим данные на тренировочные и тестовые 80\\20"
   ]
  },
  {
   "cell_type": "code",
   "execution_count": 52,
   "metadata": {},
   "outputs": [],
   "source": [
    "features_train, features_test, target_train, target_test = train_test_split(features, target, stratify=target,\n",
    "                                                              test_size=0.2, random_state=12345)"
   ]
  },
  {
   "cell_type": "code",
   "execution_count": 53,
   "metadata": {},
   "outputs": [
    {
     "data": {
      "text/plain": [
       "(8000, 11)"
      ]
     },
     "execution_count": 53,
     "metadata": {},
     "output_type": "execute_result"
    }
   ],
   "source": [
    "features_train.shape"
   ]
  },
  {
   "cell_type": "markdown",
   "metadata": {},
   "source": [
    "### Модель решающего дерева - обучение на 80% данных"
   ]
  },
  {
   "cell_type": "code",
   "execution_count": 54,
   "metadata": {},
   "outputs": [
    {
     "name": "stdout",
     "output_type": "stream",
     "text": [
      "Наилучшая depth: 7\n",
      "F1-мера наилучшей модели на тестовой выборке с балансом классов: 0.574404761904762\n",
      "roc_auc наилучшей модели на тестовой выборке с балансом классов: 0.8371730744612101\n",
      "Wall time: 992 ms\n"
     ]
    }
   ],
   "source": [
    "%%time\n",
    "best_model = None\n",
    "best_result = 0\n",
    "roc_auc = 0\n",
    "best_depth = 0\n",
    "for depth in range(1, 20):\n",
    "    model_tree = DecisionTreeClassifier(random_state=12345, max_depth=depth) # обучите модель с заданной глубиной дерева\n",
    "    model_tree.fit(features_train, target_train) # обучите модель\n",
    "    predictions = model_tree.predict(features_test) # получите предсказания модели\n",
    "    result = f1_score(target_test, predictions) # посчитайте качество модели\n",
    "    probabilities_test = model_tree.predict_proba(features_test)\n",
    "    probabilities_one_test = probabilities_test[:, 1]\n",
    "    auc_roc = roc_auc_score(target_test, probabilities_one_test)\n",
    "    if result > best_result:\n",
    "        best_model = model_tree# сохраните наилучшую модель\n",
    "        best_result = result\n",
    "        roc_auc = auc_roc\n",
    "        best_depth = depth\n",
    "print(\"Наилучшая depth:\", best_depth)\n",
    "print(\"F1-мера наилучшей модели на тестовой выборке с балансом классов:\", best_result)\n",
    "print(\"roc_auc наилучшей модели на тестовой выборке с балансом классов:\", roc_auc)"
   ]
  },
  {
   "cell_type": "markdown",
   "metadata": {},
   "source": [
    "###  Модель случайного леса - обучение на 80% данных"
   ]
  },
  {
   "cell_type": "code",
   "execution_count": 55,
   "metadata": {},
   "outputs": [
    {
     "name": "stdout",
     "output_type": "stream",
     "text": [
      "Наилучшая n_estimators: 19\n",
      "Наилучшая depth: 14\n",
      "F1-мера наилучшей модели на тестовой выборке с балансом классов: 0.6000000000000001\n",
      "roc_auc наилучшей модели на тестовой выборке с балансом классов: 0.8608415811805642\n",
      "Accuracy модели: 0.8575\n",
      "Wall time: 33.3 s\n"
     ]
    }
   ],
   "source": [
    "%%time\n",
    "best_model = None\n",
    "best_result = 0\n",
    "best_est = 0\n",
    "roc_auc = 0\n",
    "best_depth = 0\n",
    "for est in range(1, 20):\n",
    "    for depth in range(1, 20):\n",
    "        model_forest = RandomForestClassifier(random_state=12345, n_estimators=est, max_depth=depth)\n",
    "        # обучите модель с заданным количеством деревьев И ГЛУБИНЫ ДЕРЕВЬЕВ\n",
    "        model_forest.fit(features_train, target_train) # обучите модель на тренировочной выборке\n",
    "        predictions = model_forest.predict(features_test)\n",
    "        result = f1_score(target_test, predictions) # посчитайте качество модели на валидационной выборке\n",
    "        probabilities_test = model_forest.predict_proba(features_test)\n",
    "        probabilities_one_test = probabilities_test[:, 1]\n",
    "        auc_roc = roc_auc_score(target_test, probabilities_one_test)\n",
    "        if result > best_result:\n",
    "            best_model = model_forest# сохраните наилучшую модель\n",
    "            best_result = result#  сохраните наилучшее значение метрики F1 на валидационных данных\n",
    "            best_est = est\n",
    "            roc_auc = auc_roc\n",
    "            best_depth = depth\n",
    "        \n",
    "print(\"Наилучшая n_estimators:\", best_est)\n",
    "print(\"Наилучшая depth:\", best_depth)\n",
    "print(\"F1-мера наилучшей модели на тестовой выборке с балансом классов:\", best_result)\n",
    "print(\"roc_auc наилучшей модели на тестовой выборке с балансом классов:\", roc_auc)\n",
    "print(\"Accuracy модели:\",model_forest.score(features_test, target_test))"
   ]
  },
  {
   "cell_type": "markdown",
   "metadata": {},
   "source": [
    "### Модель случайного леса на данных без массштабирования"
   ]
  },
  {
   "cell_type": "code",
   "execution_count": 56,
   "metadata": {},
   "outputs": [],
   "source": [
    "df_ohe = pd.get_dummies(df, drop_first=True)"
   ]
  },
  {
   "cell_type": "code",
   "execution_count": 57,
   "metadata": {},
   "outputs": [],
   "source": [
    "features = df_ohe.drop(['exited'], axis=1)\n",
    "target = df_ohe['exited']"
   ]
  },
  {
   "cell_type": "code",
   "execution_count": 58,
   "metadata": {},
   "outputs": [],
   "source": [
    "features_train, features_test, target_train, target_test = train_test_split(features, target, stratify=target,\n",
    "                                                              test_size=0.2, random_state=12345)"
   ]
  },
  {
   "cell_type": "code",
   "execution_count": 59,
   "metadata": {},
   "outputs": [
    {
     "name": "stdout",
     "output_type": "stream",
     "text": [
      "Наилучшая n_estimators: 19\n",
      "Наилучшая depth: 14\n",
      "F1-мера наилучшей модели на тестовой выборке с балансом классов: 0.6000000000000001\n",
      "roc_auc наилучшей модели на тестовой выборке с балансом классов: 0.861261107023819\n",
      "Accuracy модели: 0.859\n",
      "Wall time: 34.3 s\n"
     ]
    }
   ],
   "source": [
    "%%time\n",
    "best_model = None\n",
    "best_result = 0\n",
    "best_est = 0\n",
    "roc_auc = 0\n",
    "best_depth = 0\n",
    "for est in range(1, 20):\n",
    "    for depth in range(1, 20):\n",
    "        model_forest = RandomForestClassifier(random_state=12345, n_estimators=est, max_depth=depth)\n",
    "        # обучите модель с заданным количеством деревьев И ГЛУБИНЫ ДЕРЕВЬЕВ\n",
    "        model_forest.fit(features_train, target_train) # обучите модель на тренировочной выборке\n",
    "        predictions = model_forest.predict(features_test)\n",
    "        result = f1_score(target_test, predictions) # посчитайте качество модели на валидационной выборке\n",
    "        probabilities_test = model_forest.predict_proba(features_test)\n",
    "        probabilities_one_test = probabilities_test[:, 1]\n",
    "        auc_roc = roc_auc_score(target_test, probabilities_one_test)\n",
    "        if result > best_result:\n",
    "            best_model = model_forest# сохраните наилучшую модель\n",
    "            best_result = result#  сохраните наилучшее значение метрики F1 на валидационных данных\n",
    "            best_est = est\n",
    "            roc_auc = auc_roc\n",
    "            best_depth = depth\n",
    "        \n",
    "print(\"Наилучшая n_estimators:\", best_est)\n",
    "print(\"Наилучшая depth:\", best_depth)\n",
    "print(\"F1-мера наилучшей модели на тестовой выборке с балансом классов:\", best_result)\n",
    "print(\"roc_auc наилучшей модели на тестовой выборке с балансом классов:\", roc_auc)\n",
    "print(\"Accuracy модели:\",model_forest.score(features_test, target_test))"
   ]
  },
  {
   "cell_type": "markdown",
   "metadata": {},
   "source": [
    "<b>Массштабирование данных не повлияло на результат F1 и незначительно увеличило roc_auc и Accuracy\n",
    "    \n",
    "    В данном случае это лучшая модель"
   ]
  },
  {
   "cell_type": "markdown",
   "metadata": {},
   "source": [
    "<div style=\"border-radius: 15px; box-shadow: 4px 4px 4px; border: solid green 2px; padding: 20px\"> <b>Отличная работа</b><br>\n",
    "Да, это дейсвительно так - масштабирование не влияет на качество логических моделей (деревья\\леса), тк алгоритм их обучения не зависит масштаба признаков - это хорошая особенность таких моделей!</div> <br>"
   ]
  },
  {
   "cell_type": "markdown",
   "metadata": {},
   "source": [
    "### ROC кривая лучшей модели"
   ]
  },
  {
   "cell_type": "code",
   "execution_count": 60,
   "metadata": {},
   "outputs": [],
   "source": [
    "from sklearn.metrics import roc_curve "
   ]
  },
  {
   "cell_type": "code",
   "execution_count": 61,
   "metadata": {},
   "outputs": [],
   "source": [
    "fpr, tpr, thresholds = roc_curve(target_test, probabilities_one_test)"
   ]
  },
  {
   "cell_type": "code",
   "execution_count": 62,
   "metadata": {},
   "outputs": [
    {
     "data": {
      "image/png": "[encoded data removed]",
      "text/plain": [
       "<Figure size 432x288 with 1 Axes>"
      ]
     },
     "metadata": {
      "needs_background": "light"
     },
     "output_type": "display_data"
    }
   ],
   "source": [
    "plt.figure()\n",
    "plt.plot(fpr, tpr)\n",
    "plt.plot([0, 1], [0, 1], linestyle='--')\n",
    "plt.xlim([0.0, 1.0])\n",
    "plt.ylim([0.0, 1.0])\n",
    "plt.xlabel('False Positive Rate')\n",
    "plt.ylabel('True Positive Rate')\n",
    "plt.title('ROC-кривая')\n",
    "plt.show() "
   ]
  },
  {
   "cell_type": "markdown",
   "metadata": {},
   "source": [
    "### Модель случайного леса на данных без массштабирования с Дамми-ловушкой"
   ]
  },
  {
   "cell_type": "code",
   "execution_count": 63,
   "metadata": {},
   "outputs": [],
   "source": [
    "df_ohe_dummy = pd.get_dummies(df)"
   ]
  },
  {
   "cell_type": "code",
   "execution_count": 64,
   "metadata": {},
   "outputs": [
    {
     "data": {
      "text/html": [
       "<div>\n",
       "<style scoped>\n",
       "    .dataframe tbody tr th:only-of-type {\n",
       "        vertical-align: middle;\n",
       "    }\n",
       "\n",
       "    .dataframe tbody tr th {\n",
       "        vertical-align: top;\n",
       "    }\n",
       "\n",
       "    .dataframe thead th {\n",
       "        text-align: right;\n",
       "    }\n",
       "</style>\n",
       "<table border=\"1\" class=\"dataframe\">\n",
       "  <thead>\n",
       "    <tr style=\"text-align: right;\">\n",
       "      <th></th>\n",
       "      <th>credit_score</th>\n",
       "      <th>age</th>\n",
       "      <th>tenure</th>\n",
       "      <th>balance</th>\n",
       "      <th>num_products</th>\n",
       "      <th>has_card</th>\n",
       "      <th>active_member</th>\n",
       "      <th>estimated_salary</th>\n",
       "      <th>exited</th>\n",
       "      <th>geography_France</th>\n",
       "      <th>geography_Germany</th>\n",
       "      <th>geography_Spain</th>\n",
       "      <th>gender_Female</th>\n",
       "      <th>gender_Male</th>\n",
       "    </tr>\n",
       "  </thead>\n",
       "  <tbody>\n",
       "    <tr>\n",
       "      <th>0</th>\n",
       "      <td>619</td>\n",
       "      <td>42</td>\n",
       "      <td>2</td>\n",
       "      <td>0.00</td>\n",
       "      <td>1</td>\n",
       "      <td>1</td>\n",
       "      <td>1</td>\n",
       "      <td>101348.88</td>\n",
       "      <td>1</td>\n",
       "      <td>1</td>\n",
       "      <td>0</td>\n",
       "      <td>0</td>\n",
       "      <td>1</td>\n",
       "      <td>0</td>\n",
       "    </tr>\n",
       "    <tr>\n",
       "      <th>1</th>\n",
       "      <td>608</td>\n",
       "      <td>41</td>\n",
       "      <td>1</td>\n",
       "      <td>83807.86</td>\n",
       "      <td>1</td>\n",
       "      <td>0</td>\n",
       "      <td>1</td>\n",
       "      <td>112542.58</td>\n",
       "      <td>0</td>\n",
       "      <td>0</td>\n",
       "      <td>0</td>\n",
       "      <td>1</td>\n",
       "      <td>1</td>\n",
       "      <td>0</td>\n",
       "    </tr>\n",
       "    <tr>\n",
       "      <th>2</th>\n",
       "      <td>502</td>\n",
       "      <td>42</td>\n",
       "      <td>8</td>\n",
       "      <td>159660.80</td>\n",
       "      <td>3</td>\n",
       "      <td>1</td>\n",
       "      <td>0</td>\n",
       "      <td>113931.57</td>\n",
       "      <td>1</td>\n",
       "      <td>1</td>\n",
       "      <td>0</td>\n",
       "      <td>0</td>\n",
       "      <td>1</td>\n",
       "      <td>0</td>\n",
       "    </tr>\n",
       "    <tr>\n",
       "      <th>3</th>\n",
       "      <td>699</td>\n",
       "      <td>39</td>\n",
       "      <td>1</td>\n",
       "      <td>0.00</td>\n",
       "      <td>2</td>\n",
       "      <td>0</td>\n",
       "      <td>0</td>\n",
       "      <td>93826.63</td>\n",
       "      <td>0</td>\n",
       "      <td>1</td>\n",
       "      <td>0</td>\n",
       "      <td>0</td>\n",
       "      <td>1</td>\n",
       "      <td>0</td>\n",
       "    </tr>\n",
       "    <tr>\n",
       "      <th>4</th>\n",
       "      <td>850</td>\n",
       "      <td>43</td>\n",
       "      <td>2</td>\n",
       "      <td>125510.82</td>\n",
       "      <td>1</td>\n",
       "      <td>1</td>\n",
       "      <td>1</td>\n",
       "      <td>79084.10</td>\n",
       "      <td>0</td>\n",
       "      <td>0</td>\n",
       "      <td>0</td>\n",
       "      <td>1</td>\n",
       "      <td>1</td>\n",
       "      <td>0</td>\n",
       "    </tr>\n",
       "  </tbody>\n",
       "</table>\n",
       "</div>"
      ],
      "text/plain": [
       "   credit_score  age  tenure    balance  num_products  has_card  \\\n",
       "0           619   42       2       0.00             1         1   \n",
       "1           608   41       1   83807.86             1         0   \n",
       "2           502   42       8  159660.80             3         1   \n",
       "3           699   39       1       0.00             2         0   \n",
       "4           850   43       2  125510.82             1         1   \n",
       "\n",
       "   active_member  estimated_salary  exited  geography_France  \\\n",
       "0              1         101348.88       1                 1   \n",
       "1              1         112542.58       0                 0   \n",
       "2              0         113931.57       1                 1   \n",
       "3              0          93826.63       0                 1   \n",
       "4              1          79084.10       0                 0   \n",
       "\n",
       "   geography_Germany  geography_Spain  gender_Female  gender_Male  \n",
       "0                  0                0              1            0  \n",
       "1                  0                1              1            0  \n",
       "2                  0                0              1            0  \n",
       "3                  0                0              1            0  \n",
       "4                  0                1              1            0  "
      ]
     },
     "execution_count": 64,
     "metadata": {},
     "output_type": "execute_result"
    }
   ],
   "source": [
    "df_ohe_dummy.head(5)"
   ]
  },
  {
   "cell_type": "code",
   "execution_count": 65,
   "metadata": {},
   "outputs": [],
   "source": [
    "features = df_ohe_dummy.drop(['exited'], axis=1)\n",
    "target = df_ohe_dummy['exited']"
   ]
  },
  {
   "cell_type": "code",
   "execution_count": 66,
   "metadata": {},
   "outputs": [],
   "source": [
    "features_train, features_test, target_train, target_test = train_test_split(features, target, stratify=target,\n",
    "                                                              test_size=0.2, random_state=12345)"
   ]
  },
  {
   "cell_type": "code",
   "execution_count": 67,
   "metadata": {},
   "outputs": [
    {
     "name": "stdout",
     "output_type": "stream",
     "text": [
      "Наилучшая n_estimators: 13\n",
      "Наилучшая depth: 18\n",
      "F1-мера наилучшей модели на тестовой выборке с Дамми-ловушкой: 0.5853658536585367\n",
      "roc_auc наилучшей модели на тестовой выборке с Дамми-ловушкой: 0.8353823777552591\n",
      "Accuracy модели с Дамми-ловушкой: 0.852\n",
      "Wall time: 32.9 s\n"
     ]
    }
   ],
   "source": [
    "%%time\n",
    "best_model = None\n",
    "best_result = 0\n",
    "best_est = 0\n",
    "roc_auc = 0\n",
    "best_depth = 0\n",
    "for est in range(1, 20):\n",
    "    for depth in range(1, 20):\n",
    "        model_forest = RandomForestClassifier(random_state=12345, n_estimators=est, max_depth=depth)\n",
    "        # обучите модель с заданным количеством деревьев И ГЛУБИНЫ ДЕРЕВЬЕВ\n",
    "        model_forest.fit(features_train, target_train) # обучите модель на тренировочной выборке\n",
    "        predictions = model_forest.predict(features_test)\n",
    "        result = f1_score(target_test, predictions) # посчитайте качество модели на валидационной выборке\n",
    "        probabilities_test = model_forest.predict_proba(features_test)\n",
    "        probabilities_one_test = probabilities_test[:, 1]\n",
    "        auc_roc = roc_auc_score(target_test, probabilities_one_test)\n",
    "        if result > best_result:\n",
    "            best_model = model_forest# сохраните наилучшую модель\n",
    "            best_result = result#  сохраните наилучшее значение метрики F1 на валидационных данных\n",
    "            best_est = est\n",
    "            roc_auc = auc_roc\n",
    "            best_depth = depth\n",
    "        \n",
    "print(\"Наилучшая n_estimators:\", best_est)\n",
    "print(\"Наилучшая depth:\", best_depth)\n",
    "print(\"F1-мера наилучшей модели на тестовой выборке с Дамми-ловушкой:\", best_result)\n",
    "print(\"roc_auc наилучшей модели на тестовой выборке с Дамми-ловушкой:\", roc_auc)\n",
    "print(\"Accuracy модели с Дамми-ловушкой:\",model_forest.score(features_test, target_test))"
   ]
  },
  {
   "cell_type": "markdown",
   "metadata": {},
   "source": [
    "### Проверка на адекватность моделей"
   ]
  },
  {
   "cell_type": "markdown",
   "metadata": {},
   "source": [
    "Для того что бы модели были адекватные Accuracy должно быть больше процентного отношения наибольшего класса в целевом признаке:"
   ]
  },
  {
   "cell_type": "code",
   "execution_count": 68,
   "metadata": {},
   "outputs": [
    {
     "data": {
      "text/plain": [
       "0    0.7963\n",
       "1    0.2037\n",
       "Name: exited, dtype: float64"
      ]
     },
     "execution_count": 68,
     "metadata": {},
     "output_type": "execute_result"
    }
   ],
   "source": [
    "df['exited'].value_counts(normalize=True)"
   ]
  },
  {
   "cell_type": "markdown",
   "metadata": {},
   "source": [
    "Accuracy наилучшей модели: 0.859, что больше процентного содержания нулей в целевых данных.\n",
    "\n",
    "Баланс классов сохраняет это отношение для всех выборок."
   ]
  },
  {
   "cell_type": "markdown",
   "metadata": {},
   "source": [
    "### А что если мы уменьшим количество данных с нулями?"
   ]
  },
  {
   "cell_type": "markdown",
   "metadata": {},
   "source": [
    "Функция уменьшения данных с классом целевого признака - ноль"
   ]
  },
  {
   "cell_type": "code",
   "execution_count": 69,
   "metadata": {},
   "outputs": [],
   "source": [
    "from sklearn.utils import shuffle"
   ]
  },
  {
   "cell_type": "code",
   "execution_count": 70,
   "metadata": {},
   "outputs": [],
   "source": [
    "def downsample(features, target, fraction):\n",
    "    features_zeros = features[target == 0]\n",
    "    features_ones = features[target == 1]\n",
    "    target_zeros = target[target == 0]\n",
    "    target_ones = target[target == 1]\n",
    "\n",
    "    features_downsampled = pd.concat(\n",
    "        [features_zeros.sample(frac=fraction, random_state=12345)] + [features_ones])\n",
    "    target_downsampled = pd.concat(\n",
    "        [target_zeros.sample(frac=fraction, random_state=12345)] + [target_ones])\n",
    "    \n",
    "    features_downsampled, target_downsampled = shuffle(\n",
    "        features_downsampled, target_downsampled, random_state=12345)\n",
    "    \n",
    "    return features_downsampled, target_downsampled\n",
    "\n",
    "features_downsampled, target_downsampled = downsample(features_train, target_train, 0.5)"
   ]
  },
  {
   "cell_type": "code",
   "execution_count": 71,
   "metadata": {},
   "outputs": [
    {
     "data": {
      "text/plain": [
       "0    0.661475\n",
       "1    0.338525\n",
       "Name: exited, dtype: float64"
      ]
     },
     "execution_count": 71,
     "metadata": {},
     "output_type": "execute_result"
    }
   ],
   "source": [
    "target_downsampled.value_counts(normalize=True)"
   ]
  },
  {
   "cell_type": "code",
   "execution_count": 72,
   "metadata": {},
   "outputs": [
    {
     "data": {
      "text/plain": [
       "(4815,)"
      ]
     },
     "execution_count": 72,
     "metadata": {},
     "output_type": "execute_result"
    }
   ],
   "source": [
    "target_downsampled.shape"
   ]
  },
  {
   "cell_type": "markdown",
   "metadata": {},
   "source": [
    "Изменили соотношение на тренировочных выборках, оставив в тестовой прежнее"
   ]
  },
  {
   "cell_type": "code",
   "execution_count": 73,
   "metadata": {},
   "outputs": [
    {
     "name": "stdout",
     "output_type": "stream",
     "text": [
      "Наилучшая n_estimators: 12\n",
      "Наилучшая depth: 9\n",
      "F1-мера наилучшей модели на тестовой выборке с Дамми-ловушкой: 0.6294416243654822\n",
      "roc_auc наилучшей модели на тестовой выборке с Дамми-ловушкой: 0.8552219399677027\n",
      "Accuracy модели с Дамми-ловушкой: 0.838\n",
      "Wall time: 24.7 s\n"
     ]
    }
   ],
   "source": [
    "%%time\n",
    "best_model = None\n",
    "best_result = 0\n",
    "best_est = 0\n",
    "roc_auc = 0\n",
    "best_depth = 0\n",
    "for est in range(1, 20):\n",
    "    for depth in range(1, 20):\n",
    "        model_forest = RandomForestClassifier(random_state=12345, n_estimators=est, max_depth=depth)\n",
    "        # обучите модель с заданным количеством деревьев И ГЛУБИНЫ ДЕРЕВЬЕВ\n",
    "        model_forest.fit(features_downsampled, target_downsampled) # обучите модель на тренировочной выборке\n",
    "        predictions = model_forest.predict(features_test)\n",
    "        result = f1_score(target_test, predictions) # посчитайте качество модели на валидационной выборке\n",
    "        probabilities_test = model_forest.predict_proba(features_test)\n",
    "        probabilities_one_test = probabilities_test[:, 1]\n",
    "        auc_roc = roc_auc_score(target_test, probabilities_one_test)\n",
    "        if result > best_result:\n",
    "            best_model = model_forest# сохраните наилучшую модель\n",
    "            best_result = result#  сохраните наилучшее значение метрики F1 на валидационных данных\n",
    "            best_est = est\n",
    "            roc_auc = auc_roc\n",
    "            best_depth = depth\n",
    "        \n",
    "print(\"Наилучшая n_estimators:\", best_est)\n",
    "print(\"Наилучшая depth:\", best_depth)\n",
    "print(\"F1-мера наилучшей модели на тестовой выборке с Дамми-ловушкой:\", best_result)\n",
    "print(\"roc_auc наилучшей модели на тестовой выборке с Дамми-ловушкой:\", roc_auc)\n",
    "print(\"Accuracy модели с Дамми-ловушкой:\",model_forest.score(features_test, target_test))"
   ]
  },
  {
   "cell_type": "markdown",
   "metadata": {},
   "source": [
    "ХМ, в модели с дамми-ловушкой наблюдаетя увеличение показателей качества модели (то есть на лучшей модели предположительно эти показатели будут еще больше на 0,02-0,03), правда немного снижается Accuracy и хорошо так снижается время обучения модели."
   ]
  },
  {
   "cell_type": "markdown",
   "metadata": {},
   "source": [
    "<div style=\"border-radius: 15px; box-shadow: 4px 4px 4px; border: solid green 2px; padding: 20px\"> <b>Комментарий</b><br>Это не говорит, что так следует делать🤷  Опять же так происходит из-за использования логических моделей, для линейных моделей, например, это неустранимая неопределенность в признаках (мультиколлинеарность)</div> "
   ]
  },
  {
   "cell_type": "markdown",
   "metadata": {},
   "source": [
    "<b>Посчитаем метрики без дамми ловушки:"
   ]
  },
  {
   "cell_type": "code",
   "execution_count": 74,
   "metadata": {},
   "outputs": [],
   "source": [
    "df_ohe = pd.get_dummies(df, drop_first=True)"
   ]
  },
  {
   "cell_type": "code",
   "execution_count": 75,
   "metadata": {},
   "outputs": [],
   "source": [
    "features = df_ohe.drop(['exited'], axis=1)\n",
    "target = df_ohe['exited']"
   ]
  },
  {
   "cell_type": "code",
   "execution_count": 76,
   "metadata": {},
   "outputs": [],
   "source": [
    "features_train, features_test, target_train, target_test = train_test_split(features, target, stratify=target,\n",
    "                                                              test_size=0.2, random_state=12345)"
   ]
  },
  {
   "cell_type": "code",
   "execution_count": 77,
   "metadata": {},
   "outputs": [],
   "source": [
    "features_downsampled, target_downsampled = downsample(features_train, target_train, 0.5)"
   ]
  },
  {
   "cell_type": "code",
   "execution_count": 78,
   "metadata": {},
   "outputs": [
    {
     "name": "stdout",
     "output_type": "stream",
     "text": [
      "Наилучшая n_estimators: 16\n",
      "Наилучшая depth: 10\n",
      "F1-мера наилучшей модели на тестовой выборке: 0.6507537688442212\n",
      "roc_auc наилучшей модели на тестовой выборке: 0.8644869831310509\n",
      "Accuracy модели: 0.841\n",
      "Wall time: 26.4 s\n"
     ]
    }
   ],
   "source": [
    "%%time\n",
    "best_model = None\n",
    "best_result = 0\n",
    "best_est = 0\n",
    "roc_auc = 0\n",
    "best_depth = 0\n",
    "for est in range(1, 20):\n",
    "    for depth in range(1, 20):\n",
    "        model_forest = RandomForestClassifier(random_state=12345, n_estimators=est, max_depth=depth)\n",
    "        # обучите модель с заданным количеством деревьев И ГЛУБИНЫ ДЕРЕВЬЕВ\n",
    "        model_forest.fit(features_downsampled, target_downsampled) # обучите модель на тренировочной выборке\n",
    "        predictions = model_forest.predict(features_test)\n",
    "        result = f1_score(target_test, predictions) # посчитайте качество модели на валидационной выборке\n",
    "        probabilities_test = model_forest.predict_proba(features_test)\n",
    "        probabilities_one_test = probabilities_test[:, 1]\n",
    "        auc_roc = roc_auc_score(target_test, probabilities_one_test)\n",
    "        if result > best_result:\n",
    "            best_model = model_forest# сохраните наилучшую модель\n",
    "            best_result = result#  сохраните наилучшее значение метрики F1 на валидационных данных\n",
    "            best_est = est\n",
    "            roc_auc = auc_roc\n",
    "            best_depth = depth\n",
    "        \n",
    "print(\"Наилучшая n_estimators:\", best_est)\n",
    "print(\"Наилучшая depth:\", best_depth)\n",
    "print(\"F1-мера наилучшей модели на тестовой выборке:\", best_result)\n",
    "print(\"roc_auc наилучшей модели на тестовой выборке:\", roc_auc)\n",
    "print(\"Accuracy модели:\",model_forest.score(features_test, target_test))"
   ]
  },
  {
   "cell_type": "markdown",
   "metadata": {},
   "source": [
    "Интересно, а что будет если еще сильнее сбалансируем классы:"
   ]
  },
  {
   "cell_type": "code",
   "execution_count": 79,
   "metadata": {},
   "outputs": [],
   "source": [
    "features_downsampled, target_downsampled = downsample(features_train, target_train, 0.3)"
   ]
  },
  {
   "cell_type": "code",
   "execution_count": 80,
   "metadata": {},
   "outputs": [
    {
     "data": {
      "text/plain": [
       "0    0.539678\n",
       "1    0.460322\n",
       "Name: exited, dtype: float64"
      ]
     },
     "execution_count": 80,
     "metadata": {},
     "output_type": "execute_result"
    }
   ],
   "source": [
    "target_downsampled.value_counts(normalize=True)"
   ]
  },
  {
   "cell_type": "code",
   "execution_count": 81,
   "metadata": {},
   "outputs": [
    {
     "name": "stdout",
     "output_type": "stream",
     "text": [
      "Наилучшая n_estimators: 18\n",
      "Наилучшая depth: 5\n",
      "F1-мера наилучшей модели на тестовой выборке: 0.6235662148070906\n",
      "roc_auc наилучшей модели на тестовой выборке: 0.8506942998468422\n",
      "Accuracy модели: 0.789\n",
      "Wall time: 22.3 s\n"
     ]
    }
   ],
   "source": [
    "%%time\n",
    "best_model = None\n",
    "best_result = 0\n",
    "best_est = 0\n",
    "roc_auc = 0\n",
    "best_depth = 0\n",
    "for est in range(1, 20):\n",
    "    for depth in range(1, 20):\n",
    "        model_forest = RandomForestClassifier(random_state=12345, n_estimators=est, max_depth=depth)\n",
    "        # обучите модель с заданным количеством деревьев И ГЛУБИНЫ ДЕРЕВЬЕВ\n",
    "        model_forest.fit(features_downsampled, target_downsampled) # обучите модель на тренировочной выборке\n",
    "        predictions = model_forest.predict(features_test)\n",
    "        result = f1_score(target_test, predictions) # посчитайте качество модели на валидационной выборке\n",
    "        probabilities_test = model_forest.predict_proba(features_test)\n",
    "        probabilities_one_test = probabilities_test[:, 1]\n",
    "        auc_roc = roc_auc_score(target_test, probabilities_one_test)\n",
    "        if result > best_result:\n",
    "            best_model = model_forest# сохраните наилучшую модель\n",
    "            best_result = result#  сохраните наилучшее значение метрики F1 на валидационных данных\n",
    "            best_est = est\n",
    "            roc_auc = auc_roc\n",
    "            best_depth = depth\n",
    "        \n",
    "print(\"Наилучшая n_estimators:\", best_est)\n",
    "print(\"Наилучшая depth:\", best_depth)\n",
    "print(\"F1-мера наилучшей модели на тестовой выборке:\", best_result)\n",
    "print(\"roc_auc наилучшей модели на тестовой выборке:\", roc_auc)\n",
    "print(\"Accuracy модели:\",model_forest.score(features_test, target_test))"
   ]
  },
  {
   "cell_type": "markdown",
   "metadata": {},
   "source": [
    "Наблюдаем уменьшение качества"
   ]
  },
  {
   "cell_type": "markdown",
   "metadata": {},
   "source": [
    "То есть по идее можно найти такой баланс классов на обучающей выборке, что можно максимизировать метрики качества модели, при этом уменьшая время обучения модели."
   ]
  },
  {
   "cell_type": "markdown",
   "metadata": {},
   "source": [
    "<div style=\"border-radius: 15px; box-shadow: 4px 4px 4px; border: solid green 2px; padding: 20px\"> <b>Отличная работа</b><br>\n",
    "Да, ты абсолютно прав, коэффициент баланса классов - это тоже параметр, который можно подобрать и максимизировать необходимую метрику!</div> <br>"
   ]
  },
  {
   "cell_type": "markdown",
   "metadata": {},
   "source": [
    "## Обобщим исследования"
   ]
  },
  {
   "cell_type": "markdown",
   "metadata": {},
   "source": [
    "* Без стратификации по классам целевого признака имеем наилучшие показатели следующие:\n",
    "\n",
    "F1 случайного леса: 0.55\n",
    "\n",
    "AUC-ROC случайного леса: 0.79"
   ]
  },
  {
   "cell_type": "markdown",
   "metadata": {},
   "source": [
    "* С учетом баланса классов целевого признака:\n",
    "\n",
    "F1 случайного леса: 0.60\n",
    "\n",
    "AUC-ROC случайного леса: 0.86\n"
   ]
  },
  {
   "cell_type": "markdown",
   "metadata": {},
   "source": [
    "* Введение в выборки баланса классов повышает качество модели по F1 и AUC-ROC на 0.05 - 0.07"
   ]
  },
  {
   "cell_type": "markdown",
   "metadata": {},
   "source": [
    "* Увеличение тренировочной выборки на 20% не гарантирует повышение показателя F1, а показывает даже снижение этого показателя на 0.02 (видимо влияние - какие именно данные мы взяли для обучения), тогда как показатель AUC-ROC растет на  0.02"
   ]
  },
  {
   "cell_type": "markdown",
   "metadata": {},
   "source": [
    "* Модели с масштабированием и без масштабирования данных показали практически одинаковое качество"
   ]
  },
  {
   "cell_type": "markdown",
   "metadata": {},
   "source": [
    "* Ловушка фиктивных признаков уменьшила качество модели, хотя и уменьшила время обучения"
   ]
  },
  {
   "cell_type": "markdown",
   "metadata": {},
   "source": [
    "* Увеличение тренировочных данных с 60 до 80% (от 10000) увеличило время обучения на 3-5 секунды"
   ]
  },
  {
   "cell_type": "markdown",
   "metadata": {},
   "source": [
    "* Улучшение баланса классов в тренировочных выборках положительно сказывается на качестве модели"
   ]
  },
  {
   "cell_type": "markdown",
   "metadata": {},
   "source": [
    "* Можно найти такой баланс классов на обучающей выборке, что можно максимизировать метрики качества модели, при этом уменьшая время обучения модели.\n",
    "\n",
    "в нашем случае при балансе классов 1/0  - 66/34 %, получаем наилучшие показатели качества:\n",
    "\n",
    "F1: 0.65\n",
    "\n",
    "AUC-ROC: 0.85\n",
    "\n",
    "Accuracy: 0.841"
   ]
  },
  {
   "cell_type": "markdown",
   "metadata": {},
   "source": [
    "<b>Вывод: \n",
    "    \n",
    "Наилучшая модель хорошо описывает данные, предоставленные банком, предсказывая возможность ухода клента. Значит имея подобные данные по клиенту, можно предсказать его возможный уход из банка и предложить ему лучшие условия или продукты банка, для сохранения лояльности клента банку."
   ]
  },
  {
   "cell_type": "markdown",
   "metadata": {},
   "source": [
    "<img src=https://www.meme-arsenal.com/memes/5f0ccdd82eda80ded9db721a8746f804.jpg><br>\n",
    "<hr style=\"border: 10px solid green;\" />\n",
    "\n",
    "## <span style=\"color:green\">Финальный комментарий<span>\n",
    "Спасибо за проделанную работу🤝\n",
    "\n",
    "Роман, ты провел отличное исследование по влиянию различных механизмов на метрики моделей, убедился в отсутствии влиянния масштабирования на метрики деревянных моделей, выяснил, что соотношение классов при его подборе - это тоже гиперпараметр (точнее метапараметр). Главное мы достигли нужного качества модели, поздравляю!\n",
    "\n",
    "Поздравляю, проект принят👍"
   ]
  }
 ],
 "metadata": {
  "ExecuteTimeLog": [
   {
    "duration": 909,
    "start_time": "2021-10-24T06:15:41.156Z"
   },
   {
    "duration": 16,
    "start_time": "2021-10-24T06:15:42.067Z"
   },
   {
    "duration": 248,
    "start_time": "2021-10-24T06:15:42.086Z"
   },
   {
    "duration": 23,
    "start_time": "2021-10-24T06:15:42.337Z"
   },
   {
    "duration": 12,
    "start_time": "2021-10-24T06:15:42.362Z"
   },
   {
    "duration": 49,
    "start_time": "2021-10-24T06:15:42.376Z"
   },
   {
    "duration": 6,
    "start_time": "2021-10-24T06:15:42.427Z"
   },
   {
    "duration": 5,
    "start_time": "2021-10-24T06:15:42.436Z"
   },
   {
    "duration": 6,
    "start_time": "2021-10-24T06:15:42.443Z"
   },
   {
    "duration": 17,
    "start_time": "2021-10-24T06:15:42.482Z"
   },
   {
    "duration": 8,
    "start_time": "2021-10-24T06:15:42.501Z"
   },
   {
    "duration": 7,
    "start_time": "2021-10-24T06:15:42.511Z"
   },
   {
    "duration": 71,
    "start_time": "2021-10-24T06:15:42.520Z"
   },
   {
    "duration": 917,
    "start_time": "2021-10-24T06:15:42.593Z"
   },
   {
    "duration": 969,
    "start_time": "2021-10-24T06:15:43.513Z"
   },
   {
    "duration": 5,
    "start_time": "2021-10-24T06:15:44.484Z"
   },
   {
    "duration": 22,
    "start_time": "2021-10-24T06:15:44.491Z"
   },
   {
    "duration": 8,
    "start_time": "2021-10-24T06:15:44.515Z"
   },
   {
    "duration": 6,
    "start_time": "2021-10-24T06:15:44.525Z"
   },
   {
    "duration": 12,
    "start_time": "2021-10-24T06:15:44.534Z"
   },
   {
    "duration": 48,
    "start_time": "2021-10-24T06:15:44.548Z"
   },
   {
    "duration": 18,
    "start_time": "2021-10-24T06:15:44.598Z"
   },
   {
    "duration": 489,
    "start_time": "2021-10-24T06:15:44.623Z"
   },
   {
    "duration": 5,
    "start_time": "2021-10-24T06:15:45.116Z"
   },
   {
    "duration": 34,
    "start_time": "2021-10-24T06:15:45.123Z"
   },
   {
    "duration": 35,
    "start_time": "2021-10-24T06:15:45.159Z"
   },
   {
    "duration": 9,
    "start_time": "2021-10-24T06:15:45.197Z"
   },
   {
    "duration": 5,
    "start_time": "2021-10-24T06:15:45.209Z"
   },
   {
    "duration": 7,
    "start_time": "2021-10-24T06:15:45.216Z"
   },
   {
    "duration": 6,
    "start_time": "2021-10-24T06:15:45.225Z"
   },
   {
    "duration": 50,
    "start_time": "2021-10-24T06:15:45.233Z"
   },
   {
    "duration": 5,
    "start_time": "2021-10-24T06:15:45.285Z"
   },
   {
    "duration": 8,
    "start_time": "2021-10-24T06:15:45.292Z"
   },
   {
    "duration": 138,
    "start_time": "2021-10-24T06:15:45.302Z"
   },
   {
    "duration": 619,
    "start_time": "2021-10-24T06:15:45.442Z"
   },
   {
    "duration": 30709,
    "start_time": "2021-10-24T06:15:46.063Z"
   },
   {
    "duration": 115,
    "start_time": "2021-10-24T06:16:16.774Z"
   },
   {
    "duration": 91,
    "start_time": "2021-10-24T06:16:16.892Z"
   },
   {
    "duration": 7,
    "start_time": "2021-10-24T06:16:16.986Z"
   },
   {
    "duration": 17,
    "start_time": "2021-10-24T06:16:16.995Z"
   },
   {
    "duration": 9,
    "start_time": "2021-10-24T06:16:17.015Z"
   },
   {
    "duration": 5,
    "start_time": "2021-10-24T06:16:17.027Z"
   },
   {
    "duration": 5,
    "start_time": "2021-10-24T06:16:17.034Z"
   },
   {
    "duration": 44,
    "start_time": "2021-10-24T06:16:17.041Z"
   },
   {
    "duration": 22,
    "start_time": "2021-10-24T06:16:17.087Z"
   },
   {
    "duration": 7,
    "start_time": "2021-10-24T06:16:17.112Z"
   },
   {
    "duration": 649,
    "start_time": "2021-10-24T06:16:17.121Z"
   },
   {
    "duration": 31165,
    "start_time": "2021-10-24T06:16:17.772Z"
   },
   {
    "duration": 143,
    "start_time": "2021-10-24T06:16:48.939Z"
   },
   {
    "duration": 102,
    "start_time": "2021-10-24T06:16:49.085Z"
   },
   {
    "duration": 38,
    "start_time": "2021-10-24T06:16:49.190Z"
   },
   {
    "duration": 15,
    "start_time": "2021-10-24T06:16:49.230Z"
   },
   {
    "duration": 36,
    "start_time": "2021-10-24T06:16:49.247Z"
   },
   {
    "duration": 863,
    "start_time": "2021-10-24T06:16:49.287Z"
   },
   {
    "duration": 39107,
    "start_time": "2021-10-24T06:16:50.153Z"
   },
   {
    "duration": 29,
    "start_time": "2021-10-24T06:17:29.262Z"
   },
   {
    "duration": 7,
    "start_time": "2021-10-24T06:17:29.293Z"
   },
   {
    "duration": 13,
    "start_time": "2021-10-24T06:17:29.302Z"
   },
   {
    "duration": 38613,
    "start_time": "2021-10-24T06:17:29.318Z"
   },
   {
    "duration": 3,
    "start_time": "2021-10-24T06:18:07.933Z"
   },
   {
    "duration": 8,
    "start_time": "2021-10-24T06:18:07.939Z"
   },
   {
    "duration": 284,
    "start_time": "2021-10-24T06:18:07.950Z"
   },
   {
    "duration": 22,
    "start_time": "2021-10-24T06:18:08.237Z"
   },
   {
    "duration": 34,
    "start_time": "2021-10-24T06:18:08.261Z"
   },
   {
    "duration": 7,
    "start_time": "2021-10-24T06:18:08.297Z"
   },
   {
    "duration": 13,
    "start_time": "2021-10-24T06:18:08.306Z"
   },
   {
    "duration": 36379,
    "start_time": "2021-10-24T06:18:08.321Z"
   },
   {
    "duration": 14,
    "start_time": "2021-10-24T06:18:44.707Z"
   },
   {
    "duration": 3,
    "start_time": "2021-10-24T06:18:44.724Z"
   },
   {
    "duration": 23,
    "start_time": "2021-10-24T06:18:44.729Z"
   },
   {
    "duration": 31,
    "start_time": "2021-10-24T06:18:44.754Z"
   },
   {
    "duration": 5,
    "start_time": "2021-10-24T06:18:44.787Z"
   },
   {
    "duration": 26328,
    "start_time": "2021-10-24T06:18:44.794Z"
   },
   {
    "duration": 18,
    "start_time": "2021-10-24T06:19:11.125Z"
   },
   {
    "duration": 7,
    "start_time": "2021-10-24T06:19:11.145Z"
   },
   {
    "duration": 35,
    "start_time": "2021-10-24T06:19:11.154Z"
   },
   {
    "duration": 18,
    "start_time": "2021-10-24T06:19:11.192Z"
   },
   {
    "duration": 27895,
    "start_time": "2021-10-24T06:19:11.212Z"
   },
   {
    "duration": 17,
    "start_time": "2021-10-24T06:19:39.109Z"
   },
   {
    "duration": 8,
    "start_time": "2021-10-24T06:19:39.128Z"
   },
   {
    "duration": 23828,
    "start_time": "2021-10-24T06:19:39.138Z"
   },
   {
    "duration": 5,
    "start_time": "2021-10-24T06:35:52.091Z"
   },
   {
    "duration": 6,
    "start_time": "2021-10-24T06:36:12.400Z"
   },
   {
    "duration": 6,
    "start_time": "2021-10-24T06:36:23.586Z"
   }
  ],
  "kernelspec": {
   "display_name": "Python 3",
   "language": "python",
   "name": "python3"
  },
  "language_info": {
   "codemirror_mode": {
    "name": "ipython",
    "version": 3
   },
   "file_extension": ".py",
   "mimetype": "text/x-python",
   "name": "python",
   "nbconvert_exporter": "python",
   "pygments_lexer": "ipython3",
   "version": "3.8.5"
  },
  "toc": {
   "base_numbering": 1,
   "nav_menu": {},
   "number_sections": true,
   "sideBar": true,
   "skip_h1_title": false,
   "title_cell": "Table of Contents",
   "title_sidebar": "Contents",
   "toc_cell": true,
   "toc_position": {
    "height": "calc(100% - 180px)",
    "left": "10px",
    "top": "150px",
    "width": "282.995px"
   },
   "toc_section_display": true,
   "toc_window_display": true
  }
 },
 "nbformat": 4,
 "nbformat_minor": 4
}
