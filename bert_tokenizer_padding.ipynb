{
 "cells": [
  {
   "cell_type": "code",
   "execution_count": 7,
   "id": "ffb2968d",
   "metadata": {},
   "outputs": [],
   "source": [
    "import torch\n",
    "import transformers\n",
    "import pandas as pd\n",
    "import numpy as np"
   ]
  },
  {
   "cell_type": "code",
   "execution_count": 3,
   "id": "7986d69a",
   "metadata": {},
   "outputs": [],
   "source": [
    "def read_csv(link):\n",
    "    link1 = 'datasets/' + link\n",
    "    link2 = '/datasets/' + link\n",
    "    try:\n",
    "        name_link = pd.read_csv(link1)\n",
    "    except:\n",
    "        name_link = pd.read_csv(link2)\n",
    "    display(name_link.head()) #просмотрим сразу первые пять строк\n",
    "    display(name_link.info()) #просмотрим информацию    \n",
    "    display(name_link.nunique()) # посчитаем уникальные значения\n",
    "    display(name_link.columns) #проверим имена столбцов\n",
    "    display('Количество явных дубликатов:', name_link.duplicated().sum()) #проверка на явные дубликаты\n",
    "    display(name_link.describe()) #проверим численные данные\n",
    "    \n",
    "    return name_link"
   ]
  },
  {
   "cell_type": "code",
   "execution_count": 4,
   "id": "149bda38",
   "metadata": {},
   "outputs": [
    {
     "data": {
      "text/html": [
       "<div>\n",
       "<style scoped>\n",
       "    .dataframe tbody tr th:only-of-type {\n",
       "        vertical-align: middle;\n",
       "    }\n",
       "\n",
       "    .dataframe tbody tr th {\n",
       "        vertical-align: top;\n",
       "    }\n",
       "\n",
       "    .dataframe thead th {\n",
       "        text-align: right;\n",
       "    }\n",
       "</style>\n",
       "<table border=\"1\" class=\"dataframe\">\n",
       "  <thead>\n",
       "    <tr style=\"text-align: right;\">\n",
       "      <th></th>\n",
       "      <th>text</th>\n",
       "      <th>positive</th>\n",
       "    </tr>\n",
       "  </thead>\n",
       "  <tbody>\n",
       "    <tr>\n",
       "      <th>0</th>\n",
       "      <td>@first_timee хоть я и школота, но поверь, у на...</td>\n",
       "      <td>1</td>\n",
       "    </tr>\n",
       "    <tr>\n",
       "      <th>1</th>\n",
       "      <td>Да, все-таки он немного похож на него. Но мой ...</td>\n",
       "      <td>1</td>\n",
       "    </tr>\n",
       "    <tr>\n",
       "      <th>2</th>\n",
       "      <td>RT @KatiaCheh: Ну ты идиотка) я испугалась за ...</td>\n",
       "      <td>1</td>\n",
       "    </tr>\n",
       "    <tr>\n",
       "      <th>3</th>\n",
       "      <td>RT @digger2912: \"Кто то в углу сидит и погибае...</td>\n",
       "      <td>1</td>\n",
       "    </tr>\n",
       "    <tr>\n",
       "      <th>4</th>\n",
       "      <td>@irina_dyshkant Вот что значит страшилка :D\\nН...</td>\n",
       "      <td>1</td>\n",
       "    </tr>\n",
       "  </tbody>\n",
       "</table>\n",
       "</div>"
      ],
      "text/plain": [
       "                                                text  positive\n",
       "0  @first_timee хоть я и школота, но поверь, у на...         1\n",
       "1  Да, все-таки он немного похож на него. Но мой ...         1\n",
       "2  RT @KatiaCheh: Ну ты идиотка) я испугалась за ...         1\n",
       "3  RT @digger2912: \"Кто то в углу сидит и погибае...         1\n",
       "4  @irina_dyshkant Вот что значит страшилка :D\\nН...         1"
      ]
     },
     "metadata": {},
     "output_type": "display_data"
    },
    {
     "name": "stdout",
     "output_type": "stream",
     "text": [
      "<class 'pandas.core.frame.DataFrame'>\n",
      "RangeIndex: 5000 entries, 0 to 4999\n",
      "Data columns (total 2 columns):\n",
      " #   Column    Non-Null Count  Dtype \n",
      "---  ------    --------------  ----- \n",
      " 0   text      5000 non-null   object\n",
      " 1   positive  5000 non-null   int64 \n",
      "dtypes: int64(1), object(1)\n",
      "memory usage: 78.2+ KB\n"
     ]
    },
    {
     "data": {
      "text/plain": [
       "None"
      ]
     },
     "metadata": {},
     "output_type": "display_data"
    },
    {
     "data": {
      "text/plain": [
       "text        4945\n",
       "positive       2\n",
       "dtype: int64"
      ]
     },
     "metadata": {},
     "output_type": "display_data"
    },
    {
     "data": {
      "text/plain": [
       "Index(['text', 'positive'], dtype='object')"
      ]
     },
     "metadata": {},
     "output_type": "display_data"
    },
    {
     "data": {
      "text/plain": [
       "'Количество явных дубликатов:'"
      ]
     },
     "metadata": {},
     "output_type": "display_data"
    },
    {
     "data": {
      "text/plain": [
       "55"
      ]
     },
     "metadata": {},
     "output_type": "display_data"
    },
    {
     "data": {
      "text/html": [
       "<div>\n",
       "<style scoped>\n",
       "    .dataframe tbody tr th:only-of-type {\n",
       "        vertical-align: middle;\n",
       "    }\n",
       "\n",
       "    .dataframe tbody tr th {\n",
       "        vertical-align: top;\n",
       "    }\n",
       "\n",
       "    .dataframe thead th {\n",
       "        text-align: right;\n",
       "    }\n",
       "</style>\n",
       "<table border=\"1\" class=\"dataframe\">\n",
       "  <thead>\n",
       "    <tr style=\"text-align: right;\">\n",
       "      <th></th>\n",
       "      <th>positive</th>\n",
       "    </tr>\n",
       "  </thead>\n",
       "  <tbody>\n",
       "    <tr>\n",
       "      <th>count</th>\n",
       "      <td>5000.00000</td>\n",
       "    </tr>\n",
       "    <tr>\n",
       "      <th>mean</th>\n",
       "      <td>0.50000</td>\n",
       "    </tr>\n",
       "    <tr>\n",
       "      <th>std</th>\n",
       "      <td>0.50005</td>\n",
       "    </tr>\n",
       "    <tr>\n",
       "      <th>min</th>\n",
       "      <td>0.00000</td>\n",
       "    </tr>\n",
       "    <tr>\n",
       "      <th>25%</th>\n",
       "      <td>0.00000</td>\n",
       "    </tr>\n",
       "    <tr>\n",
       "      <th>50%</th>\n",
       "      <td>0.50000</td>\n",
       "    </tr>\n",
       "    <tr>\n",
       "      <th>75%</th>\n",
       "      <td>1.00000</td>\n",
       "    </tr>\n",
       "    <tr>\n",
       "      <th>max</th>\n",
       "      <td>1.00000</td>\n",
       "    </tr>\n",
       "  </tbody>\n",
       "</table>\n",
       "</div>"
      ],
      "text/plain": [
       "         positive\n",
       "count  5000.00000\n",
       "mean      0.50000\n",
       "std       0.50005\n",
       "min       0.00000\n",
       "25%       0.00000\n",
       "50%       0.50000\n",
       "75%       1.00000\n",
       "max       1.00000"
      ]
     },
     "metadata": {},
     "output_type": "display_data"
    }
   ],
   "source": [
    "df_tweets = read_csv('tweets.csv')"
   ]
  },
  {
   "cell_type": "code",
   "execution_count": 12,
   "id": "d4f949cb",
   "metadata": {},
   "outputs": [],
   "source": [
    "# инициализируем токенизатор\n",
    "tokenizer = transformers.BertTokenizer(vocab_file='datasets/vocab.txt')"
   ]
  },
  {
   "cell_type": "code",
   "execution_count": 13,
   "id": "4d50b327",
   "metadata": {},
   "outputs": [],
   "source": [
    "#Чтобы токенизировать все твиты, примените метод apply():\n",
    "tokenized = df_tweets['text'].apply(lambda x: tokenizer.encode(x, add_special_tokens=True))"
   ]
  },
  {
   "cell_type": "code",
   "execution_count": 14,
   "id": "4e83eae4",
   "metadata": {},
   "outputs": [
    {
     "data": {
      "text/plain": [
       "0       [101, 168, 10934, 230, 11147, 241, 1985, 358, ...\n",
       "1       [101, 886, 128, 888, 130, 1135, 988, 2302, 100...\n",
       "2       [101, 88488, 168, 252, 13771, 31785, 247, 156,...\n",
       "3       [101, 88488, 168, 10632, 37992, 11295, 3773, 1...\n",
       "4       [101, 168, 10990, 11579, 230, 238, 13194, 247,...\n",
       "                              ...                        \n",
       "4995    [101, 168, 15627, 10978, 4502, 128, 301, 352, ...\n",
       "4996    [101, 825, 1367, 3005, 949, 51158, 797, 18927,...\n",
       "4997    [101, 1097, 1064, 444, 2831, 16052, 3448, 132,...\n",
       "4998    [101, 1086, 1965, 128, 997, 358, 2605, 16279, ...\n",
       "4999    [101, 168, 11061, 10881, 2850, 4810, 233, 5971...\n",
       "Name: text, Length: 5000, dtype: object"
      ]
     },
     "execution_count": 14,
     "metadata": {},
     "output_type": "execute_result"
    }
   ],
   "source": [
    "tokenized"
   ]
  },
  {
   "cell_type": "code",
   "execution_count": 15,
   "id": "db2c3910",
   "metadata": {},
   "outputs": [],
   "source": [
    "max_len = 0\n",
    "for i in tokenized.values:\n",
    "    if len(i) > max_len:\n",
    "        max_len = len(i)\n",
    "\n",
    "padded = np.array([i + [0]*(max_len-len(i)) for i in tokenized.values])"
   ]
  },
  {
   "cell_type": "code",
   "execution_count": 16,
   "id": "4c8cd497",
   "metadata": {},
   "outputs": [
    {
     "data": {
      "text/plain": [
       "array([[  101,   168, 10934, ...,     0,     0,     0],\n",
       "       [  101,   886,   128, ...,     0,     0,     0],\n",
       "       [  101, 88488,   168, ...,     0,     0,     0],\n",
       "       ...,\n",
       "       [  101,  1097,  1064, ...,     0,     0,     0],\n",
       "       [  101,  1086,  1965, ...,     0,     0,     0],\n",
       "       [  101,   168, 11061, ...,     0,     0,     0]])"
      ]
     },
     "execution_count": 16,
     "metadata": {},
     "output_type": "execute_result"
    }
   ],
   "source": [
    "padded"
   ]
  },
  {
   "cell_type": "code",
   "execution_count": 17,
   "id": "5acab966",
   "metadata": {},
   "outputs": [],
   "source": [
    "# создадим маску для важных токенов\n",
    "attention_mask = np.where(padded != 0, 1, 0)"
   ]
  },
  {
   "cell_type": "code",
   "execution_count": 19,
   "id": "4fa93f9c",
   "metadata": {},
   "outputs": [
    {
     "data": {
      "text/plain": [
       "(5000, 133)"
      ]
     },
     "execution_count": 19,
     "metadata": {},
     "output_type": "execute_result"
    }
   ],
   "source": [
    "attention_mask.shape"
   ]
  },
  {
   "cell_type": "code",
   "execution_count": null,
   "id": "12ab37bc",
   "metadata": {},
   "outputs": [],
   "source": [
    "Вариант паддинга с вектором\n",
    "\n",
    "# токенизируем текст\n",
    "vector = tokenizer.encode('Очень удобно использовать уже готовый трансформатор текста', add_special_tokens=True)\n",
    "\n",
    "# применим padding к векторам\n",
    "n = 280\n",
    "# англ. вектор с отступами\n",
    "padded = vector + [0]*(n - len(vector))"
   ]
  }
 ],
 "metadata": {
  "kernelspec": {
   "display_name": "Python 3 (ipykernel)",
   "language": "python",
   "name": "python3"
  },
  "language_info": {
   "codemirror_mode": {
    "name": "ipython",
    "version": 3
   },
   "file_extension": ".py",
   "mimetype": "text/x-python",
   "name": "python",
   "nbconvert_exporter": "python",
   "pygments_lexer": "ipython3",
   "version": "3.8.13"
  },
  "toc": {
   "base_numbering": 1,
   "nav_menu": {},
   "number_sections": true,
   "sideBar": true,
   "skip_h1_title": false,
   "title_cell": "Table of Contents",
   "title_sidebar": "Contents",
   "toc_cell": false,
   "toc_position": {},
   "toc_section_display": true,
   "toc_window_display": false
  }
 },
 "nbformat": 4,
 "nbformat_minor": 5
}
