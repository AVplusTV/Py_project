{
 "cells": [
  {
   "cell_type": "markdown",
   "id": "66030823",
   "metadata": {},
   "source": [
    "## ЙОУ!\n",
    "## Сегодня речь пойдёт о найстройке гиперпараметров"
   ]
  },
  {
   "cell_type": "markdown",
   "id": "cf6d2d68",
   "metadata": {},
   "source": [
    "### Наш небольшой планчик:\n",
    "- У нас будет 3 вебинара\n",
    "- После 2го вебинара (это тот, что перед третим и через один после первого) будет домашняя работу, которую буду проверять лично я\n",
    "- По результатам домашки будем отчислять с курсов (шутка, конечно же нет)\n",
    "\n",
    "### Теперь подробно про вебинары\n",
    "\n",
    "#### 1 - Вводный вебинар, он покроет базовые темы о гиперпараметрах (1 час, но какой!):\n",
    "- начнём с того что такое гиперпараметр?\n",
    "- продолжим деревьями решений и случайным лесом\n",
    "- закончим градиентным спуском\n",
    "- разберём 2 задачи из жизни\n",
    "\n",
    "#### 2 - Самая жара, здесь разберём основные подходы к подбору оптимальных гиперпараметров (1,5 часа):\n",
    "- \"Кривых обучения\" - дальше он нам пригодится в deep learning-е\n",
    "- как делать оптимизацию по сетке?\n",
    "- как мы проводим оценку моделей при фиксе гиперпараметров с помощью кросс-валидации?\n",
    "- что такое логарифмическая сетка, и как её использовать?\n",
    "- что выбрать: GridSearchCV или RandomizeSearchCV\n",
    "- какие интервалы стоит выбирать, чтобы не ждать примерно вечность?\n",
    "- распараллеливание подбора\n",
    "\n",
    "-------------------- Примерно тут домашка\n",
    "\n",
    "-------------------- Или тут\n",
    "\n",
    "#### 3 - Тематический: научим машину самостоятельно искать оптимум, а также поговорим про оптимизацию в общем и целом (1,5 часа):\n",
    "- можем ли мы заставить компьютер искать гиперпараметры (спойлер - да)\n",
    "- сравним результаты GridSearchCV и /*метод не назван*/\n",
    "- усложним задачу - будем использовать /*метод не назван*/ для поиска оптимумов у функций\n",
    "- мы все забыли про один гиперпараметр в классификации, и это..."
   ]
  },
  {
   "cell_type": "markdown",
   "id": "2315977c",
   "metadata": {},
   "source": [
    "### Фигура первая: гиперпараметрическая"
   ]
  },
  {
   "cell_type": "markdown",
   "id": "ba8cb40f",
   "metadata": {},
   "source": [
    "<img src = 'https://media.istockphoto.com/vectors/saucepan-with-vegetable-soup-vector-id480618397'>"
   ]
  },
  {
   "cell_type": "markdown",
   "id": "bef84a81",
   "metadata": {},
   "source": [
    "## Фигура вторая: деревянная"
   ]
  },
  {
   "cell_type": "markdown",
   "id": "c8a2140b",
   "metadata": {},
   "source": [
    "<img src='https://habrastorage.org/files/dae/a88/2b0/daea882b0a8e4ef4b23325c88f0353a1.png'>"
   ]
  },
  {
   "cell_type": "markdown",
   "id": "be33dc83",
   "metadata": {},
   "source": [
    "Задача состоит в том, чтобы с помощью случайного леса на основе метеорологических данных предсказать, будет ли дождь на следующий день. Данные собраны в разных регионах Австралии за 2013-2017 годы."
   ]
  },
  {
   "cell_type": "code",
   "execution_count": 1,
   "id": "2c5b1f31",
   "metadata": {},
   "outputs": [],
   "source": [
    "import pandas as pd\n",
    "from sklearn.ensemble import RandomForestClassifier\n",
    "from sklearn.model_selection import train_test_split\n",
    "from sklearn.metrics import precision_score, recall_score, confusion_matrix\n",
    "import seaborn as sns"
   ]
  },
  {
   "cell_type": "code",
   "execution_count": 2,
   "id": "81f97c69",
   "metadata": {},
   "outputs": [],
   "source": [
    "weather = pd.read_csv('/Users/kirillsokolov/Desktop/MY_DATA/karpov.courses/Karpov.Courses/randomforest/AUS_train_dataset.csv')"
   ]
  },
  {
   "cell_type": "code",
   "execution_count": 3,
   "id": "23b101b7",
   "metadata": {},
   "outputs": [
    {
     "data": {
      "text/html": [
       "<div>\n",
       "<style scoped>\n",
       "    .dataframe tbody tr th:only-of-type {\n",
       "        vertical-align: middle;\n",
       "    }\n",
       "\n",
       "    .dataframe tbody tr th {\n",
       "        vertical-align: top;\n",
       "    }\n",
       "\n",
       "    .dataframe thead th {\n",
       "        text-align: right;\n",
       "    }\n",
       "</style>\n",
       "<table border=\"1\" class=\"dataframe\">\n",
       "  <thead>\n",
       "    <tr style=\"text-align: right;\">\n",
       "      <th></th>\n",
       "      <th>MinTemp</th>\n",
       "      <th>MaxTemp</th>\n",
       "      <th>Rainfall</th>\n",
       "      <th>Evaporation</th>\n",
       "      <th>Sunshine</th>\n",
       "      <th>WindGustSpeed</th>\n",
       "      <th>WindSpeed9am</th>\n",
       "      <th>WindSpeed3pm</th>\n",
       "      <th>Humidity9am</th>\n",
       "      <th>Humidity3pm</th>\n",
       "      <th>Pressure9am</th>\n",
       "      <th>Pressure3pm</th>\n",
       "      <th>Cloud9am</th>\n",
       "      <th>Cloud3pm</th>\n",
       "      <th>Temp9am</th>\n",
       "      <th>Temp3pm</th>\n",
       "      <th>RainTomorrow</th>\n",
       "    </tr>\n",
       "  </thead>\n",
       "  <tbody>\n",
       "    <tr>\n",
       "      <th>0</th>\n",
       "      <td>12.3</td>\n",
       "      <td>25.7</td>\n",
       "      <td>10.8</td>\n",
       "      <td>9.8</td>\n",
       "      <td>12.6</td>\n",
       "      <td>22.0</td>\n",
       "      <td>6.0</td>\n",
       "      <td>11.0</td>\n",
       "      <td>38.0</td>\n",
       "      <td>34.0</td>\n",
       "      <td>1018.4</td>\n",
       "      <td>1014.5</td>\n",
       "      <td>1.0</td>\n",
       "      <td>1.0</td>\n",
       "      <td>21.0</td>\n",
       "      <td>24.4</td>\n",
       "      <td>0</td>\n",
       "    </tr>\n",
       "    <tr>\n",
       "      <th>1</th>\n",
       "      <td>11.5</td>\n",
       "      <td>21.5</td>\n",
       "      <td>0.0</td>\n",
       "      <td>NaN</td>\n",
       "      <td>NaN</td>\n",
       "      <td>41.0</td>\n",
       "      <td>15.0</td>\n",
       "      <td>19.0</td>\n",
       "      <td>71.0</td>\n",
       "      <td>56.0</td>\n",
       "      <td>1018.5</td>\n",
       "      <td>1017.0</td>\n",
       "      <td>NaN</td>\n",
       "      <td>NaN</td>\n",
       "      <td>16.0</td>\n",
       "      <td>18.4</td>\n",
       "      <td>0</td>\n",
       "    </tr>\n",
       "    <tr>\n",
       "      <th>2</th>\n",
       "      <td>1.6</td>\n",
       "      <td>9.0</td>\n",
       "      <td>0.8</td>\n",
       "      <td>NaN</td>\n",
       "      <td>NaN</td>\n",
       "      <td>31.0</td>\n",
       "      <td>17.0</td>\n",
       "      <td>20.0</td>\n",
       "      <td>100.0</td>\n",
       "      <td>100.0</td>\n",
       "      <td>1024.4</td>\n",
       "      <td>1024.9</td>\n",
       "      <td>7.0</td>\n",
       "      <td>7.0</td>\n",
       "      <td>5.0</td>\n",
       "      <td>8.3</td>\n",
       "      <td>0</td>\n",
       "    </tr>\n",
       "    <tr>\n",
       "      <th>3</th>\n",
       "      <td>7.6</td>\n",
       "      <td>14.2</td>\n",
       "      <td>4.6</td>\n",
       "      <td>NaN</td>\n",
       "      <td>NaN</td>\n",
       "      <td>37.0</td>\n",
       "      <td>20.0</td>\n",
       "      <td>20.0</td>\n",
       "      <td>85.0</td>\n",
       "      <td>68.0</td>\n",
       "      <td>1017.9</td>\n",
       "      <td>1017.9</td>\n",
       "      <td>8.0</td>\n",
       "      <td>8.0</td>\n",
       "      <td>8.7</td>\n",
       "      <td>12.8</td>\n",
       "      <td>0</td>\n",
       "    </tr>\n",
       "    <tr>\n",
       "      <th>4</th>\n",
       "      <td>15.4</td>\n",
       "      <td>24.7</td>\n",
       "      <td>0.0</td>\n",
       "      <td>NaN</td>\n",
       "      <td>NaN</td>\n",
       "      <td>37.0</td>\n",
       "      <td>15.0</td>\n",
       "      <td>19.0</td>\n",
       "      <td>60.0</td>\n",
       "      <td>45.0</td>\n",
       "      <td>1010.3</td>\n",
       "      <td>1009.6</td>\n",
       "      <td>NaN</td>\n",
       "      <td>NaN</td>\n",
       "      <td>21.6</td>\n",
       "      <td>23.8</td>\n",
       "      <td>0</td>\n",
       "    </tr>\n",
       "  </tbody>\n",
       "</table>\n",
       "</div>"
      ],
      "text/plain": [
       "   MinTemp  MaxTemp  Rainfall  Evaporation  Sunshine  WindGustSpeed  \\\n",
       "0     12.3     25.7      10.8          9.8      12.6           22.0   \n",
       "1     11.5     21.5       0.0          NaN       NaN           41.0   \n",
       "2      1.6      9.0       0.8          NaN       NaN           31.0   \n",
       "3      7.6     14.2       4.6          NaN       NaN           37.0   \n",
       "4     15.4     24.7       0.0          NaN       NaN           37.0   \n",
       "\n",
       "   WindSpeed9am  WindSpeed3pm  Humidity9am  Humidity3pm  Pressure9am  \\\n",
       "0           6.0          11.0         38.0         34.0       1018.4   \n",
       "1          15.0          19.0         71.0         56.0       1018.5   \n",
       "2          17.0          20.0        100.0        100.0       1024.4   \n",
       "3          20.0          20.0         85.0         68.0       1017.9   \n",
       "4          15.0          19.0         60.0         45.0       1010.3   \n",
       "\n",
       "   Pressure3pm  Cloud9am  Cloud3pm  Temp9am  Temp3pm  RainTomorrow  \n",
       "0       1014.5       1.0       1.0     21.0     24.4             0  \n",
       "1       1017.0       NaN       NaN     16.0     18.4             0  \n",
       "2       1024.9       7.0       7.0      5.0      8.3             0  \n",
       "3       1017.9       8.0       8.0      8.7     12.8             0  \n",
       "4       1009.6       NaN       NaN     21.6     23.8             0  "
      ]
     },
     "execution_count": 3,
     "metadata": {},
     "output_type": "execute_result"
    }
   ],
   "source": [
    "weather.head()"
   ]
  },
  {
   "cell_type": "code",
   "execution_count": 4,
   "id": "5be5320c",
   "metadata": {},
   "outputs": [],
   "source": [
    "medians_dict = {}\n",
    "for col in weather.columns.drop('RainTomorrow'):\n",
    "    medians_dict[col] = weather[col].median()\n",
    "    \n",
    "for col in weather.columns.drop('RainTomorrow'):\n",
    "    weather[col] = weather[col].fillna(medians_dict[col])"
   ]
  },
  {
   "cell_type": "code",
   "execution_count": 7,
   "id": "0fa52528",
   "metadata": {},
   "outputs": [
    {
     "name": "stderr",
     "output_type": "stream",
     "text": [
      "/var/folders/1d/ns2_mhcx2599g7zqsmbp6x0m0000gn/T/ipykernel_88373/2434043895.py:2: FutureWarning: In a future version of pandas all arguments of DataFrame.drop except for the argument 'labels' will be keyword-only\n",
      "  X_train = weather.drop('RainTomorrow', 1)\n"
     ]
    }
   ],
   "source": [
    "y_train = weather.RainTomorrow\n",
    "X_train = weather.drop('RainTomorrow', 1)"
   ]
  },
  {
   "cell_type": "code",
   "execution_count": 8,
   "id": "0bde4268",
   "metadata": {},
   "outputs": [],
   "source": [
    "X_train, X_test, y_train, y_test = train_test_split(X_train, y_train, test_size=0.2, random_state=42)"
   ]
  },
  {
   "cell_type": "code",
   "execution_count": 9,
   "id": "08278429",
   "metadata": {},
   "outputs": [],
   "source": [
    "ran_for = RandomForestClassifier(\n",
    "    n_estimators=100,\n",
    "    max_depth=25,\n",
    "    max_features=3,\n",
    "    class_weight='balanced'\n",
    ")"
   ]
  },
  {
   "cell_type": "code",
   "execution_count": 10,
   "id": "0b27c983",
   "metadata": {},
   "outputs": [
    {
     "name": "stdout",
     "output_type": "stream",
     "text": [
      "CPU times: user 4.78 s, sys: 58.6 ms, total: 4.84 s\n",
      "Wall time: 4.85 s\n"
     ]
    },
    {
     "data": {
      "text/plain": [
       "RandomForestClassifier(class_weight='balanced', max_depth=25, max_features=3)"
      ]
     },
     "execution_count": 10,
     "metadata": {},
     "output_type": "execute_result"
    }
   ],
   "source": [
    "%%time\n",
    "ran_for.fit(X_train, y_train)"
   ]
  },
  {
   "cell_type": "code",
   "execution_count": 11,
   "id": "40653e17",
   "metadata": {},
   "outputs": [],
   "source": [
    "y_pred = ran_for.predict(X_test)"
   ]
  },
  {
   "cell_type": "code",
   "execution_count": 12,
   "id": "d32e0485",
   "metadata": {},
   "outputs": [
    {
     "name": "stdout",
     "output_type": "stream",
     "text": [
      "precision:   0.7386609071274298\n",
      "recall:   0.4570155902004454\n"
     ]
    }
   ],
   "source": [
    "print('precision:  ', precision_score(y_test, y_pred))\n",
    "print('recall:  ', recall_score(y_test, y_pred))"
   ]
  },
  {
   "cell_type": "code",
   "execution_count": 13,
   "id": "fd4a7e0a",
   "metadata": {},
   "outputs": [
    {
     "data": {
      "text/plain": [
       "array([[7944,  363],\n",
       "       [1219, 1026]])"
      ]
     },
     "execution_count": 13,
     "metadata": {},
     "output_type": "execute_result"
    }
   ],
   "source": [
    "confusion_matrix(y_test, y_pred)"
   ]
  },
  {
   "cell_type": "markdown",
   "id": "b6a4e3fe",
   "metadata": {},
   "source": [
    "## Фигура третья: градиентная"
   ]
  },
  {
   "cell_type": "markdown",
   "id": "b81834f5",
   "metadata": {},
   "source": [
    "#### Пример 1"
   ]
  },
  {
   "cell_type": "markdown",
   "id": "52d43ffd",
   "metadata": {},
   "source": [
    "<img src='https://habrastorage.org/web/0e6/7dd/614/0e67dd614076499e91c8c4238457ae4d.png'>"
   ]
  },
  {
   "cell_type": "markdown",
   "id": "93f75de6",
   "metadata": {},
   "source": [
    "#### Пример 2"
   ]
  },
  {
   "cell_type": "markdown",
   "id": "657c48a4",
   "metadata": {},
   "source": [
    "<img src='https://habrastorage.org/web/7b4/ab0/5fa/7b4ab05fa0a543bfad94950e47f91568.png'>"
   ]
  },
  {
   "cell_type": "markdown",
   "id": "b1c00f03",
   "metadata": {},
   "source": [
    "#### Суть"
   ]
  },
  {
   "cell_type": "markdown",
   "id": "90462f53",
   "metadata": {},
   "source": [
    "<img src='http://scott.fortmann-roe.com/docs/docs/BiasVariance/biasvariance.png'>"
   ]
  },
  {
   "cell_type": "markdown",
   "id": "7addaa0d",
   "metadata": {},
   "source": [
    "<img src='https://nvsyashwanth.github.io/machinelearningmaster/assets/images/bias_variance.jpg'>"
   ]
  },
  {
   "cell_type": "markdown",
   "id": "dd0ca230",
   "metadata": {},
   "source": [
    "Мы предскажем стоимость подержанного авто по его описанию. Но теперь подойдём к задаче, вооружившись более сильным методом - градиентным бустингом. Снова предположим, что вы работаете в компании, которая занимается размещением объявлений. Но в этот раз вы собрали выборку объявлений, размещённых в США, и должны предсказать цену в долларах. "
   ]
  },
  {
   "cell_type": "markdown",
   "id": "28fc9552",
   "metadata": {},
   "source": [
    "В качестве метрики качества у нас будет $RMSE$, и нам необходимо побороть baseline с $RMSE = 8500$"
   ]
  },
  {
   "cell_type": "code",
   "execution_count": 23,
   "id": "6efdb55a",
   "metadata": {},
   "outputs": [],
   "source": [
    "import pandas as pd\n",
    "import seaborn as sns\n",
    "from catboost import CatBoostRegressor\n",
    "from sklearn.preprocessing import LabelEncoder, OneHotEncoder\n",
    "from sklearn.model_selection import train_test_split\n",
    "from sklearn.metrics import mean_squared_error as mse\n",
    "from matplotlib import pyplot as plt\n",
    "from sklearn.metrics import r2_score\n",
    "\n",
    "class MultiColumnLabelEncoder:\n",
    "    def __init__(self,columns = None):\n",
    "        self.columns = columns # array of column names to encode\n",
    "\n",
    "    def fit(self, X, y=None):\n",
    "        return self # not relevant here\n",
    "\n",
    "    def transform(self,X):\n",
    "        '''\n",
    "        Transforms columns of X specified in self.columns using\n",
    "        LabelEncoder(). If no columns specified, transforms all\n",
    "        columns in X.\n",
    "        '''\n",
    "        output = X.copy()\n",
    "        if self.columns is not None:\n",
    "            for col in self.columns:\n",
    "                output[col] = LabelEncoder().fit_transform(output[col])\n",
    "        else:\n",
    "            for colname,col in output.iteritems():\n",
    "                output[colname] = LabelEncoder().fit_transform(col)\n",
    "        return output\n",
    "\n",
    "    def fit_transform(self,X,y=None):\n",
    "        return self.fit(X,y).transform(X)\n",
    "    \n",
    "    \n",
    "def fillna_with_popular(df):\n",
    "\n",
    "    most_popular = {}\n",
    "    dataframe = df.copy()\n",
    "\n",
    "    for col in dataframe.columns.drop('target', 1):\n",
    "        most_popular[col] = dataframe[col].dropna().value_counts().index[0]\n",
    "\n",
    "    for col in dataframe.columns.drop('target', 1):\n",
    "        dataframe[col] = dataframe[col].fillna(most_popular[col])\n",
    "\n",
    "    return dataframe"
   ]
  },
  {
   "cell_type": "code",
   "execution_count": 19,
   "id": "df6d352e",
   "metadata": {},
   "outputs": [],
   "source": [
    "df = pd.read_csv('/Users/kirillsokolov/Desktop/MY_DATA/karpov.courses/Karpov.Courses/GradientBoosting/car_price_train.csv')\n",
    "\n",
    "cat_columns = [\n",
    "    'region', 'manufacturer', 'model', 'condition',\n",
    "    'cylinders', 'fuel', 'title_status', 'transmission',\n",
    "    'drive', 'size', 'type', 'paint_color',\n",
    "    'state'\n",
    "]\n",
    "\n",
    "filler = df.target.quantile(.99)\n",
    "df.target = df.target.apply(lambda price: filler if price > filler else price)\n",
    "df = fillna_with_popular(df)"
   ]
  },
  {
   "cell_type": "code",
   "execution_count": 21,
   "id": "0780d93f",
   "metadata": {},
   "outputs": [
    {
     "data": {
      "text/html": [
       "<div>\n",
       "<style scoped>\n",
       "    .dataframe tbody tr th:only-of-type {\n",
       "        vertical-align: middle;\n",
       "    }\n",
       "\n",
       "    .dataframe tbody tr th {\n",
       "        vertical-align: top;\n",
       "    }\n",
       "\n",
       "    .dataframe thead th {\n",
       "        text-align: right;\n",
       "    }\n",
       "</style>\n",
       "<table border=\"1\" class=\"dataframe\">\n",
       "  <thead>\n",
       "    <tr style=\"text-align: right;\">\n",
       "      <th></th>\n",
       "      <th>region</th>\n",
       "      <th>year</th>\n",
       "      <th>manufacturer</th>\n",
       "      <th>model</th>\n",
       "      <th>condition</th>\n",
       "      <th>cylinders</th>\n",
       "      <th>fuel</th>\n",
       "      <th>odometer</th>\n",
       "      <th>title_status</th>\n",
       "      <th>transmission</th>\n",
       "      <th>drive</th>\n",
       "      <th>size</th>\n",
       "      <th>type</th>\n",
       "      <th>paint_color</th>\n",
       "      <th>state</th>\n",
       "      <th>target</th>\n",
       "    </tr>\n",
       "  </thead>\n",
       "  <tbody>\n",
       "    <tr>\n",
       "      <th>0</th>\n",
       "      <td>portland</td>\n",
       "      <td>2012.0</td>\n",
       "      <td>ford</td>\n",
       "      <td>f-150</td>\n",
       "      <td>excellent</td>\n",
       "      <td>6 cylinders</td>\n",
       "      <td>gas</td>\n",
       "      <td>108410.0</td>\n",
       "      <td>clean</td>\n",
       "      <td>automatic</td>\n",
       "      <td>rwd</td>\n",
       "      <td>full-size</td>\n",
       "      <td>truck</td>\n",
       "      <td>white</td>\n",
       "      <td>or</td>\n",
       "      <td>17995.0</td>\n",
       "    </tr>\n",
       "    <tr>\n",
       "      <th>1</th>\n",
       "      <td>boise</td>\n",
       "      <td>2011.0</td>\n",
       "      <td>lexus</td>\n",
       "      <td>rx350 awd</td>\n",
       "      <td>like new</td>\n",
       "      <td>6 cylinders</td>\n",
       "      <td>gas</td>\n",
       "      <td>146234.0</td>\n",
       "      <td>clean</td>\n",
       "      <td>automatic</td>\n",
       "      <td>4wd</td>\n",
       "      <td>full-size</td>\n",
       "      <td>SUV</td>\n",
       "      <td>white</td>\n",
       "      <td>id</td>\n",
       "      <td>14995.0</td>\n",
       "    </tr>\n",
       "    <tr>\n",
       "      <th>2</th>\n",
       "      <td>milwaukee</td>\n",
       "      <td>2012.0</td>\n",
       "      <td>volkswagen</td>\n",
       "      <td>jetta</td>\n",
       "      <td>good</td>\n",
       "      <td>4 cylinders</td>\n",
       "      <td>diesel</td>\n",
       "      <td>110000.0</td>\n",
       "      <td>clean</td>\n",
       "      <td>manual</td>\n",
       "      <td>fwd</td>\n",
       "      <td>compact</td>\n",
       "      <td>wagon</td>\n",
       "      <td>black</td>\n",
       "      <td>wi</td>\n",
       "      <td>5000.0</td>\n",
       "    </tr>\n",
       "    <tr>\n",
       "      <th>3</th>\n",
       "      <td>fresno</td>\n",
       "      <td>2002.0</td>\n",
       "      <td>ford</td>\n",
       "      <td>f-550 super duty</td>\n",
       "      <td>good</td>\n",
       "      <td>10 cylinders</td>\n",
       "      <td>gas</td>\n",
       "      <td>147848.0</td>\n",
       "      <td>rebuilt</td>\n",
       "      <td>automatic</td>\n",
       "      <td>rwd</td>\n",
       "      <td>full-size</td>\n",
       "      <td>truck</td>\n",
       "      <td>white</td>\n",
       "      <td>ca</td>\n",
       "      <td>16500.0</td>\n",
       "    </tr>\n",
       "    <tr>\n",
       "      <th>4</th>\n",
       "      <td>spokane</td>\n",
       "      <td>2017.0</td>\n",
       "      <td>ram</td>\n",
       "      <td>1500</td>\n",
       "      <td>excellent</td>\n",
       "      <td>6 cylinders</td>\n",
       "      <td>gas</td>\n",
       "      <td>80732.0</td>\n",
       "      <td>clean</td>\n",
       "      <td>automatic</td>\n",
       "      <td>4wd</td>\n",
       "      <td>full-size</td>\n",
       "      <td>pickup</td>\n",
       "      <td>blue</td>\n",
       "      <td>id</td>\n",
       "      <td>30999.0</td>\n",
       "    </tr>\n",
       "    <tr>\n",
       "      <th>...</th>\n",
       "      <td>...</td>\n",
       "      <td>...</td>\n",
       "      <td>...</td>\n",
       "      <td>...</td>\n",
       "      <td>...</td>\n",
       "      <td>...</td>\n",
       "      <td>...</td>\n",
       "      <td>...</td>\n",
       "      <td>...</td>\n",
       "      <td>...</td>\n",
       "      <td>...</td>\n",
       "      <td>...</td>\n",
       "      <td>...</td>\n",
       "      <td>...</td>\n",
       "      <td>...</td>\n",
       "      <td>...</td>\n",
       "    </tr>\n",
       "    <tr>\n",
       "      <th>54883</th>\n",
       "      <td>reno</td>\n",
       "      <td>2006.0</td>\n",
       "      <td>ford</td>\n",
       "      <td>explorer eddie bauer 4x4</td>\n",
       "      <td>excellent</td>\n",
       "      <td>8 cylinders</td>\n",
       "      <td>gas</td>\n",
       "      <td>199000.0</td>\n",
       "      <td>clean</td>\n",
       "      <td>automatic</td>\n",
       "      <td>4wd</td>\n",
       "      <td>full-size</td>\n",
       "      <td>SUV</td>\n",
       "      <td>brown</td>\n",
       "      <td>ca</td>\n",
       "      <td>5950.0</td>\n",
       "    </tr>\n",
       "    <tr>\n",
       "      <th>54884</th>\n",
       "      <td>bend</td>\n",
       "      <td>2012.0</td>\n",
       "      <td>audi</td>\n",
       "      <td>a5</td>\n",
       "      <td>excellent</td>\n",
       "      <td>4 cylinders</td>\n",
       "      <td>gas</td>\n",
       "      <td>119000.0</td>\n",
       "      <td>clean</td>\n",
       "      <td>automatic</td>\n",
       "      <td>4wd</td>\n",
       "      <td>sub-compact</td>\n",
       "      <td>coupe</td>\n",
       "      <td>black</td>\n",
       "      <td>or</td>\n",
       "      <td>12995.0</td>\n",
       "    </tr>\n",
       "    <tr>\n",
       "      <th>54885</th>\n",
       "      <td>seattle-tacoma</td>\n",
       "      <td>2004.0</td>\n",
       "      <td>ford</td>\n",
       "      <td>excursion xlt 4dr suv</td>\n",
       "      <td>excellent</td>\n",
       "      <td>6 cylinders</td>\n",
       "      <td>diesel</td>\n",
       "      <td>161045.0</td>\n",
       "      <td>clean</td>\n",
       "      <td>automatic</td>\n",
       "      <td>4wd</td>\n",
       "      <td>full-size</td>\n",
       "      <td>SUV</td>\n",
       "      <td>white</td>\n",
       "      <td>wa</td>\n",
       "      <td>29991.0</td>\n",
       "    </tr>\n",
       "    <tr>\n",
       "      <th>54886</th>\n",
       "      <td>fresno</td>\n",
       "      <td>2020.0</td>\n",
       "      <td>subaru</td>\n",
       "      <td>wrx sedan 4d</td>\n",
       "      <td>good</td>\n",
       "      <td>6 cylinders</td>\n",
       "      <td>gas</td>\n",
       "      <td>12567.0</td>\n",
       "      <td>clean</td>\n",
       "      <td>other</td>\n",
       "      <td>4wd</td>\n",
       "      <td>full-size</td>\n",
       "      <td>sedan</td>\n",
       "      <td>blue</td>\n",
       "      <td>ca</td>\n",
       "      <td>28990.0</td>\n",
       "    </tr>\n",
       "    <tr>\n",
       "      <th>54887</th>\n",
       "      <td>orlando</td>\n",
       "      <td>2015.0</td>\n",
       "      <td>dodge</td>\n",
       "      <td>dart sxt</td>\n",
       "      <td>excellent</td>\n",
       "      <td>4 cylinders</td>\n",
       "      <td>gas</td>\n",
       "      <td>120000.0</td>\n",
       "      <td>clean</td>\n",
       "      <td>automatic</td>\n",
       "      <td>fwd</td>\n",
       "      <td>mid-size</td>\n",
       "      <td>sedan</td>\n",
       "      <td>grey</td>\n",
       "      <td>fl</td>\n",
       "      <td>8995.0</td>\n",
       "    </tr>\n",
       "  </tbody>\n",
       "</table>\n",
       "<p>54888 rows × 16 columns</p>\n",
       "</div>"
      ],
      "text/plain": [
       "               region    year manufacturer                     model  \\\n",
       "0            portland  2012.0         ford                     f-150   \n",
       "1               boise  2011.0        lexus                 rx350 awd   \n",
       "2           milwaukee  2012.0   volkswagen                     jetta   \n",
       "3              fresno  2002.0         ford          f-550 super duty   \n",
       "4             spokane  2017.0          ram                      1500   \n",
       "...               ...     ...          ...                       ...   \n",
       "54883            reno  2006.0         ford  explorer eddie bauer 4x4   \n",
       "54884            bend  2012.0         audi                        a5   \n",
       "54885  seattle-tacoma  2004.0         ford     excursion xlt 4dr suv   \n",
       "54886          fresno  2020.0       subaru              wrx sedan 4d   \n",
       "54887         orlando  2015.0        dodge                  dart sxt   \n",
       "\n",
       "       condition     cylinders    fuel  odometer title_status transmission  \\\n",
       "0      excellent   6 cylinders     gas  108410.0        clean    automatic   \n",
       "1       like new   6 cylinders     gas  146234.0        clean    automatic   \n",
       "2           good   4 cylinders  diesel  110000.0        clean       manual   \n",
       "3           good  10 cylinders     gas  147848.0      rebuilt    automatic   \n",
       "4      excellent   6 cylinders     gas   80732.0        clean    automatic   \n",
       "...          ...           ...     ...       ...          ...          ...   \n",
       "54883  excellent   8 cylinders     gas  199000.0        clean    automatic   \n",
       "54884  excellent   4 cylinders     gas  119000.0        clean    automatic   \n",
       "54885  excellent   6 cylinders  diesel  161045.0        clean    automatic   \n",
       "54886       good   6 cylinders     gas   12567.0        clean        other   \n",
       "54887  excellent   4 cylinders     gas  120000.0        clean    automatic   \n",
       "\n",
       "      drive         size    type paint_color state   target  \n",
       "0       rwd    full-size   truck       white    or  17995.0  \n",
       "1       4wd    full-size     SUV       white    id  14995.0  \n",
       "2       fwd      compact   wagon       black    wi   5000.0  \n",
       "3       rwd    full-size   truck       white    ca  16500.0  \n",
       "4       4wd    full-size  pickup        blue    id  30999.0  \n",
       "...     ...          ...     ...         ...   ...      ...  \n",
       "54883   4wd    full-size     SUV       brown    ca   5950.0  \n",
       "54884   4wd  sub-compact   coupe       black    or  12995.0  \n",
       "54885   4wd    full-size     SUV       white    wa  29991.0  \n",
       "54886   4wd    full-size   sedan        blue    ca  28990.0  \n",
       "54887   fwd     mid-size   sedan        grey    fl   8995.0  \n",
       "\n",
       "[54888 rows x 16 columns]"
      ]
     },
     "execution_count": 21,
     "metadata": {},
     "output_type": "execute_result"
    }
   ],
   "source": [
    "df"
   ]
  },
  {
   "cell_type": "code",
   "execution_count": 22,
   "id": "d44037f1",
   "metadata": {},
   "outputs": [],
   "source": [
    "LE = MultiColumnLabelEncoder(cat_columns)"
   ]
  },
  {
   "cell_type": "code",
   "execution_count": 24,
   "id": "d6c570e8",
   "metadata": {},
   "outputs": [
    {
     "name": "stderr",
     "output_type": "stream",
     "text": [
      "/var/folders/1d/ns2_mhcx2599g7zqsmbp6x0m0000gn/T/ipykernel_88373/949886066.py:1: FutureWarning: In a future version of pandas all arguments of DataFrame.drop except for the argument 'labels' will be keyword-only\n",
      "  X = df.drop('target', 1)\n"
     ]
    }
   ],
   "source": [
    "X = df.drop('target', 1)\n",
    "y = df.target\n",
    "\n",
    "X_train, X_test, y_train, y_test = train_test_split(\n",
    "    X,\n",
    "    y,\n",
    "    test_size=0.2,\n",
    "    random_state=42\n",
    ")"
   ]
  },
  {
   "cell_type": "code",
   "execution_count": 25,
   "id": "b05d893f",
   "metadata": {},
   "outputs": [],
   "source": [
    "X_train = LE.fit_transform(X_train)\n",
    "X_test = LE.transform(X_test)"
   ]
  },
  {
   "cell_type": "code",
   "execution_count": 27,
   "id": "ee00d783",
   "metadata": {},
   "outputs": [
    {
     "name": "stdout",
     "output_type": "stream",
     "text": [
      "8390.809534556533\n",
      "0.6703553421677209\n"
     ]
    }
   ],
   "source": [
    "cbr = CatBoostRegressor(\n",
    "    max_depth=5, \n",
    "    n_estimators=400,\n",
    "    learning_rate=0.1,\n",
    "    verbose=False, \n",
    "    loss_function='RMSE'\n",
    ")\n",
    "\n",
    "cbr.fit(X_train, y_train)\n",
    "\n",
    "print(mse(y_test, cbr.predict(X_test)) ** .5)\n",
    "print(r2_score(y_test, cbr.predict(X_test)))"
   ]
  },
  {
   "cell_type": "code",
   "execution_count": 28,
   "id": "987b9d44",
   "metadata": {},
   "outputs": [
    {
     "data": {
      "text/plain": [
       "[<matplotlib.lines.Line2D at 0x7fd471d1a5b0>]"
      ]
     },
     "execution_count": 28,
     "metadata": {},
     "output_type": "execute_result"
    },
    {
     "data": {
      "image/png": "[encoded data removed]",
      "text/plain": [
       "<Figure size 432x288 with 1 Axes>"
      ]
     },
     "metadata": {
      "needs_background": "light"
     },
     "output_type": "display_data"
    }
   ],
   "source": [
    "plt.plot(y_test, cbr.predict(X_test), 'b.')"
   ]
  },
  {
   "cell_type": "code",
   "execution_count": null,
   "id": "d4682cf0",
   "metadata": {},
   "outputs": [],
   "source": []
  }
 ],
 "metadata": {
  "kernelspec": {
   "display_name": "Python 3 (ipykernel)",
   "language": "python",
   "name": "python3"
  },
  "language_info": {
   "codemirror_mode": {
    "name": "ipython",
    "version": 3
   },
   "file_extension": ".py",
   "mimetype": "text/x-python",
   "name": "python",
   "nbconvert_exporter": "python",
   "pygments_lexer": "ipython3",
   "version": "3.9.7"
  }
 },
 "nbformat": 4,
 "nbformat_minor": 5
}
