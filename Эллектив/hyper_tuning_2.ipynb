{
 "cells": [
  {
   "cell_type": "markdown",
   "id": "4d822fd6",
   "metadata": {},
   "source": [
    "## ЙОУ!\n",
    "## Сегодня снова речь пойдёт о найстройке гиперпараметров"
   ]
  },
  {
   "cell_type": "markdown",
   "id": "0e15a337",
   "metadata": {},
   "source": [
    "#### Сегодня вебинар №2 - Самая жара, здесь разберём основные подходы к подбору оптимальных гиперпараметров (1,5 часа):\n",
    "- \"Кривых обучения\" - дальше он нам пригодится в deep learning-е\n",
    "- как делать оптимизацию по сетке?\n",
    "- как мы проводим оценку моделей при фиксе гиперпараметров с помощью кросс-валидации?\n",
    "- что такое логарифмическая сетка, и как её использовать?\n",
    "- что выбрать: GridSearchCV или RandomizeSearchCV\n",
    "- какие интервалы стоит выбирать, чтобы не ждать примерно вечность?\n",
    "- распараллеливание подбора"
   ]
  },
  {
   "cell_type": "code",
   "execution_count": 1,
   "id": "bd5e5135",
   "metadata": {},
   "outputs": [],
   "source": [
    "import pandas as pd\n",
    "import numpy as np\n",
    "from sklearn.ensemble import RandomForestClassifier\n",
    "from sklearn.model_selection import train_test_split, GridSearchCV, cross_val_predict, cross_val_score\n",
    "from sklearn.metrics import roc_auc_score, f1_score, classification_report, precision_score, recall_score\n",
    "import matplotlib.pyplot as plt"
   ]
  },
  {
   "cell_type": "markdown",
   "id": "837373f2",
   "metadata": {},
   "source": [
    "Сегодня наша задача как раз состоит в том, чтобы с помощью случайного леса на основе метеорологических данных предсказать, будет ли дождь на следующий день. Данные собраны в разных регионах Австралии за 2013-2017 годы."
   ]
  },
  {
   "cell_type": "code",
   "execution_count": 2,
   "id": "4376af72",
   "metadata": {},
   "outputs": [
    {
     "name": "stderr",
     "output_type": "stream",
     "text": [
      "/var/folders/1d/ns2_mhcx2599g7zqsmbp6x0m0000gn/T/ipykernel_91387/3122520859.py:11: FutureWarning: In a future version of pandas all arguments of DataFrame.drop except for the argument 'labels' will be keyword-only\n",
      "  X_train = weather.drop('RainTomorrow', 1)\n"
     ]
    }
   ],
   "source": [
    "weather = pd.read_csv('/Users/kirillsokolov/Desktop/MY_DATA/karpov.courses/Karpov.Courses/randomforest/AUS_train_dataset.csv')\n",
    "\n",
    "medians_dict = {}\n",
    "\n",
    "for col in weather.columns.drop('RainTomorrow'):\n",
    "    medians_dict[col] = weather[col].median()\n",
    "\n",
    "for col in weather.columns.drop('RainTomorrow'):\n",
    "    weather[col] = weather[col].fillna(medians_dict[col])\n",
    "\n",
    "y_train = weather.RainTomorrow\n",
    "X_train = weather.drop('RainTomorrow', 1)"
   ]
  },
  {
   "cell_type": "code",
   "execution_count": 3,
   "id": "05ea8b96",
   "metadata": {},
   "outputs": [
    {
     "data": {
      "text/html": [
       "<div>\n",
       "<style scoped>\n",
       "    .dataframe tbody tr th:only-of-type {\n",
       "        vertical-align: middle;\n",
       "    }\n",
       "\n",
       "    .dataframe tbody tr th {\n",
       "        vertical-align: top;\n",
       "    }\n",
       "\n",
       "    .dataframe thead th {\n",
       "        text-align: right;\n",
       "    }\n",
       "</style>\n",
       "<table border=\"1\" class=\"dataframe\">\n",
       "  <thead>\n",
       "    <tr style=\"text-align: right;\">\n",
       "      <th></th>\n",
       "      <th>MinTemp</th>\n",
       "      <th>MaxTemp</th>\n",
       "      <th>Rainfall</th>\n",
       "      <th>Evaporation</th>\n",
       "      <th>Sunshine</th>\n",
       "      <th>WindGustSpeed</th>\n",
       "      <th>WindSpeed9am</th>\n",
       "      <th>WindSpeed3pm</th>\n",
       "      <th>Humidity9am</th>\n",
       "      <th>Humidity3pm</th>\n",
       "      <th>Pressure9am</th>\n",
       "      <th>Pressure3pm</th>\n",
       "      <th>Cloud9am</th>\n",
       "      <th>Cloud3pm</th>\n",
       "      <th>Temp9am</th>\n",
       "      <th>Temp3pm</th>\n",
       "      <th>RainTomorrow</th>\n",
       "    </tr>\n",
       "  </thead>\n",
       "  <tbody>\n",
       "    <tr>\n",
       "      <th>0</th>\n",
       "      <td>12.3</td>\n",
       "      <td>25.7</td>\n",
       "      <td>10.8</td>\n",
       "      <td>9.8</td>\n",
       "      <td>12.6</td>\n",
       "      <td>22.0</td>\n",
       "      <td>6.0</td>\n",
       "      <td>11.0</td>\n",
       "      <td>38.0</td>\n",
       "      <td>34.0</td>\n",
       "      <td>1018.4</td>\n",
       "      <td>1014.5</td>\n",
       "      <td>1.0</td>\n",
       "      <td>1.0</td>\n",
       "      <td>21.0</td>\n",
       "      <td>24.4</td>\n",
       "      <td>0</td>\n",
       "    </tr>\n",
       "    <tr>\n",
       "      <th>1</th>\n",
       "      <td>11.5</td>\n",
       "      <td>21.5</td>\n",
       "      <td>0.0</td>\n",
       "      <td>5.2</td>\n",
       "      <td>8.6</td>\n",
       "      <td>41.0</td>\n",
       "      <td>15.0</td>\n",
       "      <td>19.0</td>\n",
       "      <td>71.0</td>\n",
       "      <td>56.0</td>\n",
       "      <td>1018.5</td>\n",
       "      <td>1017.0</td>\n",
       "      <td>5.0</td>\n",
       "      <td>5.0</td>\n",
       "      <td>16.0</td>\n",
       "      <td>18.4</td>\n",
       "      <td>0</td>\n",
       "    </tr>\n",
       "    <tr>\n",
       "      <th>2</th>\n",
       "      <td>1.6</td>\n",
       "      <td>9.0</td>\n",
       "      <td>0.8</td>\n",
       "      <td>5.2</td>\n",
       "      <td>8.6</td>\n",
       "      <td>31.0</td>\n",
       "      <td>17.0</td>\n",
       "      <td>20.0</td>\n",
       "      <td>100.0</td>\n",
       "      <td>100.0</td>\n",
       "      <td>1024.4</td>\n",
       "      <td>1024.9</td>\n",
       "      <td>7.0</td>\n",
       "      <td>7.0</td>\n",
       "      <td>5.0</td>\n",
       "      <td>8.3</td>\n",
       "      <td>0</td>\n",
       "    </tr>\n",
       "    <tr>\n",
       "      <th>3</th>\n",
       "      <td>7.6</td>\n",
       "      <td>14.2</td>\n",
       "      <td>4.6</td>\n",
       "      <td>5.2</td>\n",
       "      <td>8.6</td>\n",
       "      <td>37.0</td>\n",
       "      <td>20.0</td>\n",
       "      <td>20.0</td>\n",
       "      <td>85.0</td>\n",
       "      <td>68.0</td>\n",
       "      <td>1017.9</td>\n",
       "      <td>1017.9</td>\n",
       "      <td>8.0</td>\n",
       "      <td>8.0</td>\n",
       "      <td>8.7</td>\n",
       "      <td>12.8</td>\n",
       "      <td>0</td>\n",
       "    </tr>\n",
       "    <tr>\n",
       "      <th>4</th>\n",
       "      <td>15.4</td>\n",
       "      <td>24.7</td>\n",
       "      <td>0.0</td>\n",
       "      <td>5.2</td>\n",
       "      <td>8.6</td>\n",
       "      <td>37.0</td>\n",
       "      <td>15.0</td>\n",
       "      <td>19.0</td>\n",
       "      <td>60.0</td>\n",
       "      <td>45.0</td>\n",
       "      <td>1010.3</td>\n",
       "      <td>1009.6</td>\n",
       "      <td>5.0</td>\n",
       "      <td>5.0</td>\n",
       "      <td>21.6</td>\n",
       "      <td>23.8</td>\n",
       "      <td>0</td>\n",
       "    </tr>\n",
       "    <tr>\n",
       "      <th>...</th>\n",
       "      <td>...</td>\n",
       "      <td>...</td>\n",
       "      <td>...</td>\n",
       "      <td>...</td>\n",
       "      <td>...</td>\n",
       "      <td>...</td>\n",
       "      <td>...</td>\n",
       "      <td>...</td>\n",
       "      <td>...</td>\n",
       "      <td>...</td>\n",
       "      <td>...</td>\n",
       "      <td>...</td>\n",
       "      <td>...</td>\n",
       "      <td>...</td>\n",
       "      <td>...</td>\n",
       "      <td>...</td>\n",
       "      <td>...</td>\n",
       "    </tr>\n",
       "    <tr>\n",
       "      <th>52752</th>\n",
       "      <td>19.7</td>\n",
       "      <td>25.7</td>\n",
       "      <td>29.6</td>\n",
       "      <td>5.2</td>\n",
       "      <td>8.6</td>\n",
       "      <td>41.0</td>\n",
       "      <td>28.0</td>\n",
       "      <td>6.0</td>\n",
       "      <td>95.0</td>\n",
       "      <td>70.0</td>\n",
       "      <td>1016.4</td>\n",
       "      <td>1016.2</td>\n",
       "      <td>8.0</td>\n",
       "      <td>5.0</td>\n",
       "      <td>20.0</td>\n",
       "      <td>24.3</td>\n",
       "      <td>1</td>\n",
       "    </tr>\n",
       "    <tr>\n",
       "      <th>52753</th>\n",
       "      <td>11.2</td>\n",
       "      <td>26.5</td>\n",
       "      <td>0.0</td>\n",
       "      <td>4.0</td>\n",
       "      <td>8.9</td>\n",
       "      <td>33.0</td>\n",
       "      <td>13.0</td>\n",
       "      <td>20.0</td>\n",
       "      <td>45.0</td>\n",
       "      <td>23.0</td>\n",
       "      <td>1028.5</td>\n",
       "      <td>1024.4</td>\n",
       "      <td>6.0</td>\n",
       "      <td>4.0</td>\n",
       "      <td>21.3</td>\n",
       "      <td>25.9</td>\n",
       "      <td>0</td>\n",
       "    </tr>\n",
       "    <tr>\n",
       "      <th>52754</th>\n",
       "      <td>8.7</td>\n",
       "      <td>28.0</td>\n",
       "      <td>0.0</td>\n",
       "      <td>5.6</td>\n",
       "      <td>8.6</td>\n",
       "      <td>33.0</td>\n",
       "      <td>17.0</td>\n",
       "      <td>9.0</td>\n",
       "      <td>48.0</td>\n",
       "      <td>51.0</td>\n",
       "      <td>1017.9</td>\n",
       "      <td>1013.3</td>\n",
       "      <td>0.0</td>\n",
       "      <td>5.0</td>\n",
       "      <td>17.0</td>\n",
       "      <td>21.6</td>\n",
       "      <td>0</td>\n",
       "    </tr>\n",
       "    <tr>\n",
       "      <th>52755</th>\n",
       "      <td>1.0</td>\n",
       "      <td>16.7</td>\n",
       "      <td>0.2</td>\n",
       "      <td>5.2</td>\n",
       "      <td>8.6</td>\n",
       "      <td>44.0</td>\n",
       "      <td>0.0</td>\n",
       "      <td>17.0</td>\n",
       "      <td>100.0</td>\n",
       "      <td>54.0</td>\n",
       "      <td>1024.7</td>\n",
       "      <td>1020.0</td>\n",
       "      <td>8.0</td>\n",
       "      <td>5.0</td>\n",
       "      <td>4.3</td>\n",
       "      <td>16.4</td>\n",
       "      <td>0</td>\n",
       "    </tr>\n",
       "    <tr>\n",
       "      <th>52756</th>\n",
       "      <td>13.3</td>\n",
       "      <td>22.7</td>\n",
       "      <td>1.0</td>\n",
       "      <td>5.2</td>\n",
       "      <td>8.6</td>\n",
       "      <td>57.0</td>\n",
       "      <td>24.0</td>\n",
       "      <td>28.0</td>\n",
       "      <td>61.0</td>\n",
       "      <td>38.0</td>\n",
       "      <td>1013.0</td>\n",
       "      <td>1011.8</td>\n",
       "      <td>5.0</td>\n",
       "      <td>3.0</td>\n",
       "      <td>17.2</td>\n",
       "      <td>20.9</td>\n",
       "      <td>0</td>\n",
       "    </tr>\n",
       "  </tbody>\n",
       "</table>\n",
       "<p>52757 rows × 17 columns</p>\n",
       "</div>"
      ],
      "text/plain": [
       "       MinTemp  MaxTemp  Rainfall  Evaporation  Sunshine  WindGustSpeed  \\\n",
       "0         12.3     25.7      10.8          9.8      12.6           22.0   \n",
       "1         11.5     21.5       0.0          5.2       8.6           41.0   \n",
       "2          1.6      9.0       0.8          5.2       8.6           31.0   \n",
       "3          7.6     14.2       4.6          5.2       8.6           37.0   \n",
       "4         15.4     24.7       0.0          5.2       8.6           37.0   \n",
       "...        ...      ...       ...          ...       ...            ...   \n",
       "52752     19.7     25.7      29.6          5.2       8.6           41.0   \n",
       "52753     11.2     26.5       0.0          4.0       8.9           33.0   \n",
       "52754      8.7     28.0       0.0          5.6       8.6           33.0   \n",
       "52755      1.0     16.7       0.2          5.2       8.6           44.0   \n",
       "52756     13.3     22.7       1.0          5.2       8.6           57.0   \n",
       "\n",
       "       WindSpeed9am  WindSpeed3pm  Humidity9am  Humidity3pm  Pressure9am  \\\n",
       "0               6.0          11.0         38.0         34.0       1018.4   \n",
       "1              15.0          19.0         71.0         56.0       1018.5   \n",
       "2              17.0          20.0        100.0        100.0       1024.4   \n",
       "3              20.0          20.0         85.0         68.0       1017.9   \n",
       "4              15.0          19.0         60.0         45.0       1010.3   \n",
       "...             ...           ...          ...          ...          ...   \n",
       "52752          28.0           6.0         95.0         70.0       1016.4   \n",
       "52753          13.0          20.0         45.0         23.0       1028.5   \n",
       "52754          17.0           9.0         48.0         51.0       1017.9   \n",
       "52755           0.0          17.0        100.0         54.0       1024.7   \n",
       "52756          24.0          28.0         61.0         38.0       1013.0   \n",
       "\n",
       "       Pressure3pm  Cloud9am  Cloud3pm  Temp9am  Temp3pm  RainTomorrow  \n",
       "0           1014.5       1.0       1.0     21.0     24.4             0  \n",
       "1           1017.0       5.0       5.0     16.0     18.4             0  \n",
       "2           1024.9       7.0       7.0      5.0      8.3             0  \n",
       "3           1017.9       8.0       8.0      8.7     12.8             0  \n",
       "4           1009.6       5.0       5.0     21.6     23.8             0  \n",
       "...            ...       ...       ...      ...      ...           ...  \n",
       "52752       1016.2       8.0       5.0     20.0     24.3             1  \n",
       "52753       1024.4       6.0       4.0     21.3     25.9             0  \n",
       "52754       1013.3       0.0       5.0     17.0     21.6             0  \n",
       "52755       1020.0       8.0       5.0      4.3     16.4             0  \n",
       "52756       1011.8       5.0       3.0     17.2     20.9             0  \n",
       "\n",
       "[52757 rows x 17 columns]"
      ]
     },
     "execution_count": 3,
     "metadata": {},
     "output_type": "execute_result"
    }
   ],
   "source": [
    "weather"
   ]
  },
  {
   "cell_type": "markdown",
   "id": "03e6a1fb",
   "metadata": {},
   "source": [
    "### Начнём с простого: как правильно оценивать качество модели?\n",
    "### Ответ: с помощью кросс-валидации!"
   ]
  },
  {
   "cell_type": "markdown",
   "id": "0c82fb63",
   "metadata": {},
   "source": [
    "<img src='https://scikit-learn.org/stable/_images/grid_search_cross_validation.png'>"
   ]
  },
  {
   "cell_type": "markdown",
   "id": "100f6693",
   "metadata": {},
   "source": [
    "Для кросс-валидации существует ряд уже готовых функций в sklearn:\n",
    "\n",
    "    - sklearn.model_selection.cross_val_score\n",
    "    - sklearn.model_selection.cross_val_predict"
   ]
  },
  {
   "cell_type": "code",
   "execution_count": 4,
   "id": "860f8b7d",
   "metadata": {},
   "outputs": [],
   "source": [
    "rf_no_grid = RandomForestClassifier(    \n",
    "    n_estimators=50,\n",
    "    max_depth=6,\n",
    "    max_features=3,\n",
    "    class_weight='balanced'\n",
    ")"
   ]
  },
  {
   "cell_type": "code",
   "execution_count": 9,
   "id": "665a4308",
   "metadata": {},
   "outputs": [
    {
     "name": "stdout",
     "output_type": "stream",
     "text": [
      "CPU times: user 10.6 s, sys: 65.3 ms, total: 10.7 s\n",
      "Wall time: 10.7 s\n"
     ]
    }
   ],
   "source": [
    "%%time\n",
    "cross_val_result = cross_val_score(rf_no_grid, X_train, y_train, cv=10, scoring='roc_auc')"
   ]
  },
  {
   "cell_type": "code",
   "execution_count": 10,
   "id": "54dac54a",
   "metadata": {
    "scrolled": true
   },
   "outputs": [
    {
     "data": {
      "text/plain": [
       "array([0.85352532, 0.85713595, 0.85640967, 0.84837844, 0.85351246,\n",
       "       0.84889596, 0.84867391, 0.84776624, 0.85973784, 0.85066491])"
      ]
     },
     "execution_count": 10,
     "metadata": {},
     "output_type": "execute_result"
    }
   ],
   "source": [
    "cross_val_result"
   ]
  },
  {
   "cell_type": "code",
   "execution_count": 11,
   "id": "b89d0289",
   "metadata": {
    "scrolled": true
   },
   "outputs": [
    {
     "data": {
      "text/plain": [
       "0.8524700711268377"
      ]
     },
     "execution_count": 11,
     "metadata": {},
     "output_type": "execute_result"
    }
   ],
   "source": [
    "cross_val_result.mean()"
   ]
  },
  {
   "cell_type": "code",
   "execution_count": 12,
   "id": "d6a655bb",
   "metadata": {},
   "outputs": [
    {
     "data": {
      "text/plain": [
       "0.004020232476248245"
      ]
     },
     "execution_count": 12,
     "metadata": {},
     "output_type": "execute_result"
    }
   ],
   "source": [
    "cross_val_result.std()"
   ]
  },
  {
   "cell_type": "code",
   "execution_count": 14,
   "id": "0d2872df",
   "metadata": {},
   "outputs": [
    {
     "name": "stdout",
     "output_type": "stream",
     "text": [
      "CPU times: user 2.63 s, sys: 24 ms, total: 2.65 s\n",
      "Wall time: 2.66 s\n"
     ]
    },
    {
     "data": {
      "text/plain": [
       "array([0, 0, 1, ..., 0, 0, 0])"
      ]
     },
     "execution_count": 14,
     "metadata": {},
     "output_type": "execute_result"
    }
   ],
   "source": [
    "%%time\n",
    "cross_val_predict(rf_no_grid, X_train, y_train, cv=3)"
   ]
  },
  {
   "cell_type": "code",
   "execution_count": 30,
   "id": "58b638aa",
   "metadata": {},
   "outputs": [
    {
     "name": "stdout",
     "output_type": "stream",
     "text": [
      "CPU times: user 21.5 s, sys: 149 ms, total: 21.7 s\n",
      "Wall time: 21.7 s\n"
     ]
    }
   ],
   "source": [
    "%%time\n",
    "y_pred = cross_val_predict(rf_no_grid, X_train, y_train, cv=10, method='predict')\n",
    "y_pred_proba = cross_val_predict(rf_no_grid, X_train, y_train, cv=10, method='predict_proba')"
   ]
  },
  {
   "cell_type": "code",
   "execution_count": 32,
   "id": "733443a9",
   "metadata": {},
   "outputs": [
    {
     "data": {
      "text/plain": [
       "0.7690394037582615"
      ]
     },
     "execution_count": 32,
     "metadata": {},
     "output_type": "execute_result"
    }
   ],
   "source": [
    "roc_auc_score(y_train, y_pred)"
   ]
  },
  {
   "cell_type": "code",
   "execution_count": 33,
   "id": "c3400c76",
   "metadata": {},
   "outputs": [
    {
     "data": {
      "text/plain": [
       "0.8519719765140945"
      ]
     },
     "execution_count": 33,
     "metadata": {},
     "output_type": "execute_result"
    }
   ],
   "source": [
    "roc_auc_score(y_train, y_pred_proba[:, 1])"
   ]
  },
  {
   "cell_type": "markdown",
   "id": "7775de4f",
   "metadata": {},
   "source": [
    "### Самый простой способ найти гиперпараметр - кривые обучения"
   ]
  },
  {
   "cell_type": "code",
   "execution_count": 40,
   "id": "bf1f0751",
   "metadata": {},
   "outputs": [],
   "source": [
    "curve = []\n",
    "curve_train = []\n",
    "depths = [i for i in range(5, 30, 4)]"
   ]
  },
  {
   "cell_type": "code",
   "execution_count": 41,
   "id": "c83c8001",
   "metadata": {},
   "outputs": [
    {
     "data": {
      "text/plain": [
       "[5, 9, 13, 17, 21, 25, 29]"
      ]
     },
     "execution_count": 41,
     "metadata": {},
     "output_type": "execute_result"
    }
   ],
   "source": [
    "depths"
   ]
  },
  {
   "cell_type": "code",
   "execution_count": 42,
   "id": "1428f481",
   "metadata": {},
   "outputs": [
    {
     "name": "stdout",
     "output_type": "stream",
     "text": [
      "CPU times: user 1min 47s, sys: 600 ms, total: 1min 47s\n",
      "Wall time: 1min 47s\n"
     ]
    }
   ],
   "source": [
    "%%time\n",
    "\n",
    "for i in depths:\n",
    "    rf_learning_curve = RandomForestClassifier(    \n",
    "        n_estimators=100,\n",
    "        max_depth=i,\n",
    "        max_features=3,\n",
    "        class_weight='balanced'\n",
    "    )\n",
    "    \n",
    "    curve.append(\n",
    "        cross_val_score(\n",
    "            rf_learning_curve, \n",
    "            X_train, \n",
    "            y_train, \n",
    "            cv=3, \n",
    "            scoring='roc_auc'\n",
    "        ).mean()\n",
    "    )\n",
    "    \n",
    "    rf_learning_curve.fit(X_train, y_train)\n",
    "    curve_train.append(\n",
    "        roc_auc_score(y_train, rf_learning_curve.predict_proba(X_train)[:, 1])\n",
    "    )\n",
    "    "
   ]
  },
  {
   "cell_type": "code",
   "execution_count": 63,
   "id": "9f7ad4ef",
   "metadata": {},
   "outputs": [
    {
     "data": {
      "text/plain": [
       "[<matplotlib.lines.Line2D at 0x7fe7916082b0>]"
      ]
     },
     "execution_count": 63,
     "metadata": {},
     "output_type": "execute_result"
    },
    {
     "data": {
      "image/png": "[encoded data removed]",
      "text/plain": [
       "<Figure size 432x288 with 1 Axes>"
      ]
     },
     "metadata": {
      "needs_background": "light"
     },
     "output_type": "display_data"
    }
   ],
   "source": [
    "plt.plot(curve)\n",
    "plt.plot(curve_train)"
   ]
  },
  {
   "cell_type": "markdown",
   "id": "c6ece235",
   "metadata": {},
   "source": [
    "### Более общий подход к оценке параметров - это настройка по сетке. И тут мы разберём несколько нюансов."
   ]
  },
  {
   "cell_type": "code",
   "execution_count": 64,
   "id": "de32b01d",
   "metadata": {
    "scrolled": true
   },
   "outputs": [
    {
     "name": "stderr",
     "output_type": "stream",
     "text": [
      "/var/folders/1d/ns2_mhcx2599g7zqsmbp6x0m0000gn/T/ipykernel_91387/143387447.py:4: FutureWarning: In a future version of pandas all arguments of DataFrame.drop except for the argument 'labels' will be keyword-only\n",
      "  X_train = new_df.drop('RainTomorrow', 1)\n"
     ]
    }
   ],
   "source": [
    "new_df = weather.sample(5000).reset_index(drop=True)\n",
    "\n",
    "y_train = new_df.RainTomorrow\n",
    "X_train = new_df.drop('RainTomorrow', 1)"
   ]
  },
  {
   "cell_type": "markdown",
   "id": "7de93588",
   "metadata": {},
   "source": [
    "1: [80, 320, 1280] -> 1280\n",
    "\n",
    "2: [760, 1280, 2560] -> 2560\n",
    "\n",
    "3: [2000, 2560, 5120] -> 5120"
   ]
  },
  {
   "cell_type": "code",
   "execution_count": null,
   "id": "e29a2b8c",
   "metadata": {},
   "outputs": [],
   "source": [
    "parameters = {\n",
    "    'n_estimators': [100, 150, 200, 250, 300, 350, 400, 450],\n",
    "    'max_depth': [4, 5, 6, 7, 8, 9, 10, 11, 12],\n",
    "    'max_features': [3, 4, 5]\n",
    "}"
   ]
  },
  {
   "cell_type": "code",
   "execution_count": 110,
   "id": "736b99d6",
   "metadata": {},
   "outputs": [],
   "source": [
    "# Логарифмическая сетка параметров\n",
    "\n",
    "parameters = {\n",
    "    'n_estimators': [80, 240, 540],\n",
    "    'max_depth': [8, 16],\n",
    "    'max_features': [4]\n",
    "}"
   ]
  },
  {
   "cell_type": "code",
   "execution_count": 111,
   "id": "fc841d36",
   "metadata": {},
   "outputs": [],
   "source": [
    "rf = RandomForestClassifier()"
   ]
  },
  {
   "cell_type": "code",
   "execution_count": 112,
   "id": "3f2fc2a6",
   "metadata": {},
   "outputs": [],
   "source": [
    "clf = GridSearchCV(rf, parameters, scoring='roc_auc', cv=8, n_jobs=-1)"
   ]
  },
  {
   "cell_type": "code",
   "execution_count": 113,
   "id": "feab56fd",
   "metadata": {
    "scrolled": true
   },
   "outputs": [
    {
     "name": "stdout",
     "output_type": "stream",
     "text": [
      "CPU times: user 7.77 s, sys: 336 ms, total: 8.11 s\n",
      "Wall time: 47.7 s\n"
     ]
    },
    {
     "data": {
      "text/plain": [
       "GridSearchCV(cv=8, estimator=RandomForestClassifier(), n_jobs=-1,\n",
       "             param_grid={'max_depth': [6, 12, 24], 'max_features': [4],\n",
       "                         'n_estimators': [20, 40, 80, 160, 320, 640, 1280]},\n",
       "             scoring='roc_auc')"
      ]
     },
     "execution_count": 113,
     "metadata": {},
     "output_type": "execute_result"
    }
   ],
   "source": [
    "%%time\n",
    "clf.fit(X_train, y_train)"
   ]
  },
  {
   "cell_type": "code",
   "execution_count": 114,
   "id": "c0c02f5b",
   "metadata": {},
   "outputs": [
    {
     "data": {
      "text/plain": [
       "0.854604748579336"
      ]
     },
     "execution_count": 114,
     "metadata": {},
     "output_type": "execute_result"
    }
   ],
   "source": [
    "clf.best_score_"
   ]
  },
  {
   "cell_type": "code",
   "execution_count": 115,
   "id": "5c600a4c",
   "metadata": {},
   "outputs": [
    {
     "data": {
      "text/plain": [
       "{'max_depth': 12, 'max_features': 4, 'n_estimators': 1280}"
      ]
     },
     "execution_count": 115,
     "metadata": {},
     "output_type": "execute_result"
    }
   ],
   "source": [
    "clf.best_params_"
   ]
  },
  {
   "cell_type": "code",
   "execution_count": null,
   "id": "a8851925",
   "metadata": {},
   "outputs": [],
   "source": []
  }
 ],
 "metadata": {
  "kernelspec": {
   "display_name": "Python 3 (ipykernel)",
   "language": "python",
   "name": "python3"
  },
  "language_info": {
   "codemirror_mode": {
    "name": "ipython",
    "version": 3
   },
   "file_extension": ".py",
   "mimetype": "text/x-python",
   "name": "python",
   "nbconvert_exporter": "python",
   "pygments_lexer": "ipython3",
   "version": "3.9.7"
  }
 },
 "nbformat": 4,
 "nbformat_minor": 5
}
