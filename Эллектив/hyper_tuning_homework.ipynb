{
 "cells": [
  {
   "cell_type": "markdown",
   "id": "e1793f8a-e9ca-4498-b3b3-c91c9236baa0",
   "metadata": {},
   "source": [
    "## Модули"
   ]
  },
  {
   "cell_type": "code",
   "execution_count": 91,
   "id": "d9df89e7-32ac-4b60-96ac-22d9793b2125",
   "metadata": {},
   "outputs": [],
   "source": [
    "import pandas as pd\n",
    "import seaborn as sns\n",
    "import optuna\n",
    "from catboost import CatBoostRegressor\n",
    "from sklearn.preprocessing import LabelEncoder, OneHotEncoder, OrdinalEncoder\n",
    "from sklearn.model_selection import train_test_split, GridSearchCV\n",
    "from sklearn.metrics import mean_squared_error as mse\n",
    "from matplotlib import pyplot as plt\n",
    "from sklearn.metrics import r2_score"
   ]
  },
  {
   "cell_type": "markdown",
   "id": "2c26bbf6-2b5b-48d0-868f-bdc18a147a7b",
   "metadata": {},
   "source": [
    "## Постановка задачи"
   ]
  },
  {
   "cell_type": "markdown",
   "id": "4abf94da-2319-4270-bce5-ba32a0a774c3",
   "metadata": {},
   "source": [
    "Мы предскажем стоимость подержанного авто по его описанию. Но теперь подойдём к задаче, вооружившись более сильным методом - градиентным бустингом. Снова предположим, что вы работаете в компании, которая занимается размещением объявлений. Но в этот раз вы собрали выборку объявлений, размещённых в США, и должны предсказать цену в долларах. "
   ]
  },
  {
   "cell_type": "markdown",
   "id": "aa21508d-179d-42e5-a0e9-b1c01573ce86",
   "metadata": {},
   "source": [
    "В качестве метрики качества у нас будет $RMSE$, и нам необходимо получить модель c $RMSE < 7550$"
   ]
  },
  {
   "cell_type": "markdown",
   "id": "c371aa0c-fa8d-450f-a73a-7640c9e891f7",
   "metadata": {},
   "source": [
    "## Загрузка данных "
   ]
  },
  {
   "cell_type": "markdown",
   "id": "9d4c9f1f",
   "metadata": {},
   "source": [
    "Данные уже подготовлены:\n",
    "- удалены аномалии в таргете (замена 99 перцентилем)\n",
    "- пропуски заполнены наиболее популярными значениями\n",
    "- категориальные признаки не тронуты"
   ]
  },
  {
   "cell_type": "code",
   "execution_count": 143,
   "id": "f0ba0cd7",
   "metadata": {},
   "outputs": [],
   "source": [
    "df = pd.read_csv('car_pricing_preprocessed.csv')"
   ]
  },
  {
   "cell_type": "markdown",
   "id": "ce752a52",
   "metadata": {},
   "source": [
    "Разделим данные на трейн и тест"
   ]
  },
  {
   "cell_type": "code",
   "execution_count": 144,
   "id": "7b7cc30a-d7d6-491d-a0fe-1480b634ef6b",
   "metadata": {},
   "outputs": [
    {
     "name": "stderr",
     "output_type": "stream",
     "text": [
      "/var/folders/1d/ns2_mhcx2599g7zqsmbp6x0m0000gn/T/ipykernel_37163/2568610407.py:1: FutureWarning: In a future version of pandas all arguments of DataFrame.drop except for the argument 'labels' will be keyword-only\n",
      "  X = df.drop('target', 1)\n"
     ]
    }
   ],
   "source": [
    "X = df.drop('target', 1)\n",
    "y = df.target\n",
    "\n",
    "X_train, X_test, y_train, y_test = train_test_split(\n",
    "    X, \n",
    "    y, \n",
    "    test_size=0.2, \n",
    "    random_state=42\n",
    ")"
   ]
  },
  {
   "cell_type": "code",
   "execution_count": 94,
   "id": "4d57b555",
   "metadata": {},
   "outputs": [],
   "source": [
    "encoding = OrdinalEncoder(handle_unknown='use_encoded_value', unknown_value=-1)\n",
    "X_train = encoding.fit_transform(X_train)\n",
    "X_test = encoding.transform(X_test)"
   ]
  },
  {
   "cell_type": "markdown",
   "id": "030e9a6e",
   "metadata": {},
   "source": [
    "Неплохим начальным приближением для обучения модели может быть запуск алгоритма без передачи в него параметров"
   ]
  },
  {
   "cell_type": "code",
   "execution_count": 135,
   "id": "10515544-a31a-4c23-8560-308bfafb00a1",
   "metadata": {
    "scrolled": true
   },
   "outputs": [
    {
     "name": "stdout",
     "output_type": "stream",
     "text": [
      "7891.952156022228\n",
      "0.8203702896524507\n"
     ]
    }
   ],
   "source": [
    "cbr = CatBoostRegressor()\n",
    "\n",
    "cbr.fit(X_train, y_train)\n",
    "print(mse(y_test, cbr.predict(X_test)) ** .5)\n",
    "print(r2_score(y_train, cbr.predict(X_train)))"
   ]
  },
  {
   "cell_type": "markdown",
   "id": "f871ad89",
   "metadata": {},
   "source": [
    "  "
   ]
  },
  {
   "cell_type": "markdown",
   "id": "516f35b6",
   "metadata": {},
   "source": [
    "### Далее поработайте с optuna:\n",
    "- создайте сетку из основных гиперпараметров для алгоритма\n",
    "- дополните функцию objective проверкой качества модели на тестовой выборке\n",
    "- не забудьте, что objective должна возвращать итоговое качество модели\n",
    "\n",
    "И запустите оптимизатор"
   ]
  },
  {
   "cell_type": "code",
   "execution_count": 140,
   "id": "f6376914",
   "metadata": {},
   "outputs": [],
   "source": [
    "def objective(trial):\n",
    "\n",
    "    param = {\n",
    "        \"depth\": trial.suggest_int(\"depth\", 5, 8),\n",
    "        ###\n",
    "    }\n",
    "\n",
    "    model = ###\n",
    "\n",
    "    accuracy = ###\n",
    "\n",
    "    return accuracy"
   ]
  },
  {
   "cell_type": "code",
   "execution_count": 141,
   "id": "f97ef10d",
   "metadata": {
    "scrolled": true
   },
   "outputs": [
    {
     "name": "stderr",
     "output_type": "stream",
     "text": [
      "\u001b[32m[I 2022-08-22 14:51:08,005]\u001b[0m A new study created in memory with name: no-name-332d3b59-f252-4522-9cab-9a8886c6f2c6\u001b[0m\n",
      "/Users/kirillsokolov/opt/anaconda3/lib/python3.9/site-packages/optuna/study/study.py:393: FutureWarning: `n_jobs` argument has been deprecated in v2.7.0. This feature will be removed in v4.0.0. See https://github.com/optuna/optuna/releases/tag/v2.7.0.\n",
      "  warnings.warn(\n",
      "Custom logger is already specified. Specify more than one logger at same time is not thread safe.Custom logger is already specified. Specify more than one logger at same time is not thread safe.Custom logger is already specified. Specify more than one logger at same time is not thread safe.Custom logger is already specified. Specify more than one logger at same time is not thread safe.Custom logger is already specified. Specify more than one logger at same time is not thread safe.Custom logger is already specified. Specify more than one logger at same time is not thread safe.Custom logger is already specified. Specify more than one logger at same time is not thread safe.Custom logger is already specified. Specify more than one logger at same time is not thread safe.Custom logger is already specified. Specify more than one logger at same time is not thread safe.\u001b[32m[I 2022-08-22 14:51:14,656]\u001b[0m Trial 8 finished with value: 7732.186138370837 and parameters: {'objective': 'RMSE', 'depth': 5, 'n_estimators': 747, 'learning_rate': 0.18618038875906834}. Best is trial 8 with value: 7732.186138370837.\u001b[0m\n",
      "\u001b[32m[I 2022-08-22 14:51:20,194]\u001b[0m Trial 0 finished with value: 7970.180318349774 and parameters: {'objective': 'RMSE', 'depth': 7, 'n_estimators': 1270, 'learning_rate': 0.019707821415797716}. Best is trial 8 with value: 7732.186138370837.\u001b[0m\n",
      "\u001b[32m[I 2022-08-22 14:51:22,011]\u001b[0m Trial 3 finished with value: 8038.833201990873 and parameters: {'objective': 'RMSE', 'depth': 6, 'n_estimators': 1716, 'learning_rate': 0.019144925205183884}. Best is trial 8 with value: 7732.186138370837.\u001b[0m\n",
      "\u001b[32m[I 2022-08-22 14:51:23,041]\u001b[0m Trial 6 finished with value: 7786.734684605822 and parameters: {'objective': 'RMSE', 'depth': 8, 'n_estimators': 1426, 'learning_rate': 0.0251298637445079}. Best is trial 8 with value: 7732.186138370837.\u001b[0m\n",
      "\u001b[32m[I 2022-08-22 14:51:23,208]\u001b[0m Trial 5 finished with value: 7823.625680913324 and parameters: {'objective': 'RMSE', 'depth': 6, 'n_estimators': 1864, 'learning_rate': 0.0291348675458853}. Best is trial 8 with value: 7732.186138370837.\u001b[0m\n",
      "Custom logger is already specified. Specify more than one logger at same time is not thread safe.\u001b[32m[I 2022-08-22 14:51:23,786]\u001b[0m Trial 1 finished with value: 7830.698236568809 and parameters: {'objective': 'RMSE', 'depth': 6, 'n_estimators': 1934, 'learning_rate': 0.09849075493295273}. Best is trial 8 with value: 7732.186138370837.\u001b[0m\n",
      "\u001b[32m[I 2022-08-22 14:51:24,473]\u001b[0m Trial 2 finished with value: 7824.398457067499 and parameters: {'objective': 'RMSE', 'depth': 6, 'n_estimators': 2038, 'learning_rate': 0.031399390887978926}. Best is trial 8 with value: 7732.186138370837.\u001b[0m\n",
      "\u001b[32m[I 2022-08-22 14:51:24,965]\u001b[0m Trial 9 finished with value: 7645.728618016533 and parameters: {'objective': 'RMSE', 'depth': 8, 'n_estimators': 1630, 'learning_rate': 0.04417768337425982}. Best is trial 9 with value: 7645.728618016533.\u001b[0m\n",
      "Custom logger is already specified. Specify more than one logger at same time is not thread safe.\u001b[32m[I 2022-08-22 14:51:25,216]\u001b[0m Trial 7 finished with value: 7612.133570805617 and parameters: {'objective': 'RMSE', 'depth': 8, 'n_estimators': 1659, 'learning_rate': 0.03418795828958688}. Best is trial 7 with value: 7612.133570805617.\u001b[0m\n",
      "\u001b[32m[I 2022-08-22 14:51:27,986]\u001b[0m Trial 10 finished with value: 7559.906234587073 and parameters: {'objective': 'RMSE', 'depth': 8, 'n_estimators': 1356, 'learning_rate': 0.10529048963680099}. Best is trial 10 with value: 7559.906234587073.\u001b[0m\n",
      "\u001b[32m[I 2022-08-22 14:51:29,305]\u001b[0m Trial 16 finished with value: 8422.484771054147 and parameters: {'objective': 'RMSE', 'depth': 5, 'n_estimators': 711, 'learning_rate': 0.03064372262851951}. Best is trial 10 with value: 7559.906234587073.\u001b[0m\n",
      "\u001b[32m[I 2022-08-22 14:51:29,690]\u001b[0m Trial 12 finished with value: 7762.40450702825 and parameters: {'objective': 'RMSE', 'depth': 6, 'n_estimators': 1011, 'learning_rate': 0.1373539463293666}. Best is trial 10 with value: 7559.906234587073.\u001b[0m\n",
      "\u001b[32m[I 2022-08-22 14:51:32,679]\u001b[0m Trial 11 finished with value: 7766.944618708881 and parameters: {'objective': 'RMSE', 'depth': 6, 'n_estimators': 1696, 'learning_rate': 0.04043289245552335}. Best is trial 10 with value: 7559.906234587073.\u001b[0m\n",
      "\u001b[32m[I 2022-08-22 14:51:33,922]\u001b[0m Trial 18 finished with value: 8230.854788583725 and parameters: {'objective': 'RMSE', 'depth': 6, 'n_estimators': 1193, 'learning_rate': 0.016479355401411187}. Best is trial 10 with value: 7559.906234587073.\u001b[0m\n",
      "\u001b[32m[I 2022-08-22 14:51:34,500]\u001b[0m Trial 13 finished with value: 8069.5312194781745 and parameters: {'objective': 'RMSE', 'depth': 6, 'n_estimators': 1541, 'learning_rate': 0.015561231396782466}. Best is trial 10 with value: 7559.906234587073.\u001b[0m\n",
      "\u001b[32m[I 2022-08-22 14:51:36,498]\u001b[0m Trial 14 finished with value: 8150.614563121277 and parameters: {'objective': 'RMSE', 'depth': 6, 'n_estimators': 1854, 'learning_rate': 0.012102596652789744}. Best is trial 10 with value: 7559.906234587073.\u001b[0m\n",
      "\u001b[32m[I 2022-08-22 14:51:37,450]\u001b[0m Trial 4 finished with value: 7569.839069814615 and parameters: {'objective': 'RMSE', 'depth': 8, 'n_estimators': 2886, 'learning_rate': 0.035779568306135955}. Best is trial 10 with value: 7559.906234587073.\u001b[0m\n",
      "\u001b[32m[I 2022-08-22 14:51:38,956]\u001b[0m Trial 20 finished with value: 7654.699654556565 and parameters: {'objective': 'RMSE', 'depth': 8, 'n_estimators': 1020, 'learning_rate': 0.0711122011766663}. Best is trial 10 with value: 7559.906234587073.\u001b[0m\n",
      "\u001b[32m[I 2022-08-22 14:51:44,888]\u001b[0m Trial 17 finished with value: 7704.984908470989 and parameters: {'objective': 'RMSE', 'depth': 6, 'n_estimators': 2837, 'learning_rate': 0.032984551575069736}. Best is trial 10 with value: 7559.906234587073.\u001b[0m\n",
      "\u001b[32m[I 2022-08-22 14:51:48,796]\u001b[0m Trial 15 finished with value: 7476.929221375097 and parameters: {'objective': 'RMSE', 'depth': 8, 'n_estimators': 2700, 'learning_rate': 0.050710717474789405}. Best is trial 15 with value: 7476.929221375097.\u001b[0m\n",
      "\u001b[32m[I 2022-08-22 14:51:50,837]\u001b[0m Trial 19 finished with value: 7640.567364674238 and parameters: {'objective': 'RMSE', 'depth': 7, 'n_estimators': 2823, 'learning_rate': 0.08744109285533924}. Best is trial 15 with value: 7476.929221375097.\u001b[0m\n",
      "\u001b[32m[I 2022-08-22 14:51:57,287]\u001b[0m Trial 21 finished with value: 7752.790399083006 and parameters: {'objective': 'RMSE', 'depth': 8, 'n_estimators': 2948, 'learning_rate': 0.011384039453924447}. Best is trial 15 with value: 7476.929221375097.\u001b[0m\n",
      "\u001b[32m[I 2022-08-22 14:51:59,668]\u001b[0m Trial 24 finished with value: 7537.958610314988 and parameters: {'objective': 'RMSE', 'depth': 8, 'n_estimators': 2666, 'learning_rate': 0.07694582332703191}. Best is trial 15 with value: 7476.929221375097.\u001b[0m\n",
      "\u001b[32m[I 2022-08-22 14:52:00,531]\u001b[0m Trial 23 finished with value: 7608.505812456427 and parameters: {'objective': 'RMSE', 'depth': 8, 'n_estimators': 2842, 'learning_rate': 0.07475022838349303}. Best is trial 15 with value: 7476.929221375097.\u001b[0m\n",
      "\u001b[32m[I 2022-08-22 14:52:00,765]\u001b[0m Trial 22 finished with value: 7539.674408685807 and parameters: {'objective': 'RMSE', 'depth': 8, 'n_estimators': 2930, 'learning_rate': 0.08904773637349242}. Best is trial 15 with value: 7476.929221375097.\u001b[0m\n",
      "Custom logger is already specified. Specify more than one logger at same time is not thread safe.\u001b[32m[I 2022-08-22 14:52:01,471]\u001b[0m Trial 26 finished with value: 7681.754045482684 and parameters: {'objective': 'RMSE', 'depth': 7, 'n_estimators': 2930, 'learning_rate': 0.07102767861346536}. Best is trial 15 with value: 7476.929221375097.\u001b[0m\n",
      "\u001b[32m[I 2022-08-22 14:52:02,529]\u001b[0m Trial 27 finished with value: 7560.261125145329 and parameters: {'objective': 'RMSE', 'depth': 7, 'n_estimators': 2884, 'learning_rate': 0.06436344054373774}. Best is trial 15 with value: 7476.929221375097.\u001b[0m\n"
     ]
    },
    {
     "name": "stderr",
     "output_type": "stream",
     "text": [
      "\u001b[32m[I 2022-08-22 14:52:03,959]\u001b[0m Trial 25 finished with value: 7520.746103037355 and parameters: {'objective': 'RMSE', 'depth': 8, 'n_estimators': 2897, 'learning_rate': 0.07291719116567735}. Best is trial 15 with value: 7476.929221375097.\u001b[0m\n",
      "\u001b[32m[I 2022-08-22 14:52:07,396]\u001b[0m Trial 29 finished with value: 7618.350569675734 and parameters: {'objective': 'RMSE', 'depth': 7, 'n_estimators': 2289, 'learning_rate': 0.06850753120327935}. Best is trial 15 with value: 7476.929221375097.\u001b[0m\n",
      "\u001b[32m[I 2022-08-22 14:52:09,484]\u001b[0m Trial 28 finished with value: 7625.325952200094 and parameters: {'objective': 'RMSE', 'depth': 7, 'n_estimators': 2996, 'learning_rate': 0.06525382119446618}. Best is trial 15 with value: 7476.929221375097.\u001b[0m\n",
      "\u001b[32m[I 2022-08-22 14:52:10,823]\u001b[0m Trial 30 finished with value: 7630.66893306071 and parameters: {'objective': 'RMSE', 'depth': 7, 'n_estimators': 2445, 'learning_rate': 0.059841261832796484}. Best is trial 15 with value: 7476.929221375097.\u001b[0m\n",
      "\u001b[32m[I 2022-08-22 14:52:16,111]\u001b[0m Trial 31 finished with value: 7627.159784617109 and parameters: {'objective': 'RMSE', 'depth': 7, 'n_estimators': 2275, 'learning_rate': 0.060032633879558955}. Best is trial 15 with value: 7476.929221375097.\u001b[0m\n",
      "\u001b[32m[I 2022-08-22 14:52:19,279]\u001b[0m Trial 35 finished with value: 7685.669925311164 and parameters: {'objective': 'RMSE', 'depth': 7, 'n_estimators': 2209, 'learning_rate': 0.05870204384654745}. Best is trial 15 with value: 7476.929221375097.\u001b[0m\n",
      "\u001b[32m[I 2022-08-22 14:52:19,553]\u001b[0m Trial 32 finished with value: 7576.47896813326 and parameters: {'objective': 'RMSE', 'depth': 7, 'n_estimators': 2432, 'learning_rate': 0.060833262791948305}. Best is trial 15 with value: 7476.929221375097.\u001b[0m\n",
      "\u001b[32m[I 2022-08-22 14:52:19,556]\u001b[0m Trial 34 finished with value: 7647.35005157611 and parameters: {'objective': 'RMSE', 'depth': 7, 'n_estimators': 2329, 'learning_rate': 0.05663713818498173}. Best is trial 15 with value: 7476.929221375097.\u001b[0m\n",
      "\u001b[32m[I 2022-08-22 14:52:19,562]\u001b[0m Trial 33 finished with value: 7661.669540743147 and parameters: {'objective': 'RMSE', 'depth': 7, 'n_estimators': 2333, 'learning_rate': 0.057099252715335336}. Best is trial 15 with value: 7476.929221375097.\u001b[0m\n",
      "Custom logger is already specified. Specify more than one logger at same time is not thread safe.Custom logger is already specified. Specify more than one logger at same time is not thread safe.\u001b[32m[I 2022-08-22 14:52:21,926]\u001b[0m Trial 36 finished with value: 7715.457140832953 and parameters: {'objective': 'RMSE', 'depth': 7, 'n_estimators': 2343, 'learning_rate': 0.05691271690055277}. Best is trial 15 with value: 7476.929221375097.\u001b[0m\n",
      "\u001b[32m[I 2022-08-22 14:52:22,525]\u001b[0m Trial 37 finished with value: 7749.284837784004 and parameters: {'objective': 'RMSE', 'depth': 7, 'n_estimators': 2263, 'learning_rate': 0.054585653824360654}. Best is trial 15 with value: 7476.929221375097.\u001b[0m\n",
      "\u001b[32m[I 2022-08-22 14:52:26,734]\u001b[0m Trial 38 finished with value: 7651.215141762991 and parameters: {'objective': 'RMSE', 'depth': 7, 'n_estimators': 2305, 'learning_rate': 0.05346176604071225}. Best is trial 15 with value: 7476.929221375097.\u001b[0m\n",
      "\u001b[32m[I 2022-08-22 14:52:32,532]\u001b[0m Trial 39 finished with value: 7496.128905832031 and parameters: {'objective': 'RMSE', 'depth': 8, 'n_estimators': 2379, 'learning_rate': 0.05323403158477805}. Best is trial 15 with value: 7476.929221375097.\u001b[0m\n",
      "\u001b[32m[I 2022-08-22 14:52:34,251]\u001b[0m Trial 40 finished with value: 7543.874707223254 and parameters: {'objective': 'RMSE', 'depth': 8, 'n_estimators': 2430, 'learning_rate': 0.052875488987798265}. Best is trial 15 with value: 7476.929221375097.\u001b[0m\n",
      "\u001b[32m[I 2022-08-22 14:52:38,669]\u001b[0m Trial 43 finished with value: 7638.455327231634 and parameters: {'objective': 'RMSE', 'depth': 8, 'n_estimators': 1986, 'learning_rate': 0.11160185369229111}. Best is trial 15 with value: 7476.929221375097.\u001b[0m\n",
      "\u001b[32m[I 2022-08-22 14:52:40,339]\u001b[0m Trial 41 finished with value: 7392.627513275784 and parameters: {'objective': 'RMSE', 'depth': 8, 'n_estimators': 2525, 'learning_rate': 0.05051190338606648}. Best is trial 41 with value: 7392.627513275784.\u001b[0m\n",
      "\u001b[32m[I 2022-08-22 14:52:43,933]\u001b[0m Trial 42 finished with value: 7671.396191441795 and parameters: {'objective': 'RMSE', 'depth': 8, 'n_estimators': 2535, 'learning_rate': 0.11996310363894663}. Best is trial 41 with value: 7392.627513275784.\u001b[0m\n",
      "\u001b[32m[I 2022-08-22 14:52:44,336]\u001b[0m Trial 44 finished with value: 7592.490996324624 and parameters: {'objective': 'RMSE', 'depth': 8, 'n_estimators': 2579, 'learning_rate': 0.11548445252834859}. Best is trial 41 with value: 7392.627513275784.\u001b[0m\n",
      "\u001b[32m[I 2022-08-22 14:52:44,568]\u001b[0m Trial 45 finished with value: 7372.664077418726 and parameters: {'objective': 'RMSE', 'depth': 8, 'n_estimators': 2581, 'learning_rate': 0.11286509483643932}. Best is trial 45 with value: 7372.664077418726.\u001b[0m\n",
      "Custom logger is already specified. Specify more than one logger at same time is not thread safe.\u001b[32m[I 2022-08-22 14:52:47,388]\u001b[0m Trial 46 finished with value: 7624.5852028508625 and parameters: {'objective': 'RMSE', 'depth': 8, 'n_estimators': 2644, 'learning_rate': 0.11750093376161347}. Best is trial 45 with value: 7372.664077418726.\u001b[0m\n",
      "\u001b[32m[I 2022-08-22 14:52:47,639]\u001b[0m Trial 47 finished with value: 7626.372851612044 and parameters: {'objective': 'RMSE', 'depth': 8, 'n_estimators': 2600, 'learning_rate': 0.11468194729053988}. Best is trial 45 with value: 7372.664077418726.\u001b[0m\n",
      "Custom logger is already specified. Specify more than one logger at same time is not thread safe.\u001b[32m[I 2022-08-22 14:52:52,175]\u001b[0m Trial 48 finished with value: 7382.505981798802 and parameters: {'objective': 'RMSE', 'depth': 8, 'n_estimators': 2612, 'learning_rate': 0.11417072613624538}. Best is trial 45 with value: 7372.664077418726.\u001b[0m\n",
      "\u001b[32m[I 2022-08-22 14:52:58,255]\u001b[0m Trial 49 finished with value: 7609.157055973946 and parameters: {'objective': 'RMSE', 'depth': 8, 'n_estimators': 2632, 'learning_rate': 0.11472215015659468}. Best is trial 45 with value: 7372.664077418726.\u001b[0m\n",
      "\u001b[32m[I 2022-08-22 14:52:59,887]\u001b[0m Trial 50 finished with value: 7534.134224951161 and parameters: {'objective': 'RMSE', 'depth': 8, 'n_estimators': 2610, 'learning_rate': 0.10094071180331991}. Best is trial 45 with value: 7372.664077418726.\u001b[0m\n",
      "\u001b[32m[I 2022-08-22 14:53:00,210]\u001b[0m Trial 52 finished with value: 7583.793031820044 and parameters: {'objective': 'RMSE', 'depth': 8, 'n_estimators': 2079, 'learning_rate': 0.043288446066394246}. Best is trial 45 with value: 7372.664077418726.\u001b[0m\n",
      "\u001b[32m[I 2022-08-22 14:53:05,830]\u001b[0m Trial 55 finished with value: 7517.027372284766 and parameters: {'objective': 'RMSE', 'depth': 8, 'n_estimators': 2089, 'learning_rate': 0.04461796983888924}. Best is trial 45 with value: 7372.664077418726.\u001b[0m\n",
      "Custom logger is already specified. Specify more than one logger at same time is not thread safe.\u001b[32m[I 2022-08-22 14:53:06,061]\u001b[0m Trial 54 finished with value: 7495.383231234259 and parameters: {'objective': 'RMSE', 'depth': 8, 'n_estimators': 2095, 'learning_rate': 0.042378361960660055}. Best is trial 45 with value: 7372.664077418726.\u001b[0m\n",
      "\u001b[32m[I 2022-08-22 14:53:06,561]\u001b[0m Trial 51 finished with value: 7572.070858742436 and parameters: {'objective': 'RMSE', 'depth': 8, 'n_estimators': 2612, 'learning_rate': 0.08670539540960119}. Best is trial 45 with value: 7372.664077418726.\u001b[0m\n",
      "\u001b[32m[I 2022-08-22 14:53:09,801]\u001b[0m Trial 57 finished with value: 7443.929187332488 and parameters: {'objective': 'RMSE', 'depth': 8, 'n_estimators': 2108, 'learning_rate': 0.045593816578797075}. Best is trial 45 with value: 7372.664077418726.\u001b[0m\n",
      "\u001b[32m[I 2022-08-22 14:53:10,029]\u001b[0m Trial 56 finished with value: 7515.233625221695 and parameters: {'objective': 'RMSE', 'depth': 8, 'n_estimators': 2126, 'learning_rate': 0.03997582147003517}. Best is trial 45 with value: 7372.664077418726.\u001b[0m\n",
      "Custom logger is already specified. Specify more than one logger at same time is not thread safe.\u001b[32m[I 2022-08-22 14:53:12,294]\u001b[0m Trial 53 finished with value: 7496.651902549655 and parameters: {'objective': 'RMSE', 'depth': 8, 'n_estimators': 2628, 'learning_rate': 0.044344908624400936}. Best is trial 45 with value: 7372.664077418726.\u001b[0m\n"
     ]
    },
    {
     "name": "stderr",
     "output_type": "stream",
     "text": [
      "\u001b[32m[I 2022-08-22 14:53:14,826]\u001b[0m Trial 58 finished with value: 7864.02483661008 and parameters: {'objective': 'RMSE', 'depth': 8, 'n_estimators': 2047, 'learning_rate': 0.16453822326793485}. Best is trial 45 with value: 7372.664077418726.\u001b[0m\n",
      "\u001b[32m[I 2022-08-22 14:53:21,971]\u001b[0m Trial 59 finished with value: 7625.715021720525 and parameters: {'objective': 'RMSE', 'depth': 8, 'n_estimators': 2095, 'learning_rate': 0.1781434424897509}. Best is trial 45 with value: 7372.664077418726.\u001b[0m\n",
      "\u001b[32m[I 2022-08-22 14:53:23,763]\u001b[0m Trial 60 finished with value: 7598.210341005203 and parameters: {'objective': 'RMSE', 'depth': 8, 'n_estimators': 2121, 'learning_rate': 0.18776567207351919}. Best is trial 45 with value: 7372.664077418726.\u001b[0m\n",
      "\u001b[32m[I 2022-08-22 14:53:23,943]\u001b[0m Trial 61 finished with value: 7697.206667509515 and parameters: {'objective': 'RMSE', 'depth': 8, 'n_estimators': 2130, 'learning_rate': 0.15857044233934914}. Best is trial 45 with value: 7372.664077418726.\u001b[0m\n",
      "Custom logger is already specified. Specify more than one logger at same time is not thread safe.\u001b[32m[I 2022-08-22 14:53:26,696]\u001b[0m Trial 63 finished with value: 7656.340253246008 and parameters: {'objective': 'RMSE', 'depth': 8, 'n_estimators': 1929, 'learning_rate': 0.024683429508985694}. Best is trial 45 with value: 7372.664077418726.\u001b[0m\n",
      "\u001b[32m[I 2022-08-22 14:53:26,962]\u001b[0m Trial 64 finished with value: 7691.54459181628 and parameters: {'objective': 'RMSE', 'depth': 8, 'n_estimators': 1912, 'learning_rate': 0.02748593871567376}. Best is trial 45 with value: 7372.664077418726.\u001b[0m\n",
      "Custom logger is already specified. Specify more than one logger at same time is not thread safe.\u001b[32m[I 2022-08-22 14:53:27,757]\u001b[0m Trial 68 finished with value: 8176.4133414325515 and parameters: {'objective': 'RMSE', 'depth': 5, 'n_estimators': 1807, 'learning_rate': 0.023832223560901346}. Best is trial 45 with value: 7372.664077418726.\u001b[0m\n",
      "\u001b[32m[I 2022-08-22 14:53:28,389]\u001b[0m Trial 62 finished with value: 7666.357093400358 and parameters: {'objective': 'RMSE', 'depth': 8, 'n_estimators': 2089, 'learning_rate': 0.02541529013536072}. Best is trial 45 with value: 7372.664077418726.\u001b[0m\n",
      "\u001b[32m[I 2022-08-22 14:53:28,691]\u001b[0m Trial 65 finished with value: 7691.053120009536 and parameters: {'objective': 'RMSE', 'depth': 8, 'n_estimators': 1792, 'learning_rate': 0.02554577109304857}. Best is trial 45 with value: 7372.664077418726.\u001b[0m\n",
      "\u001b[32m[I 2022-08-22 14:53:28,920]\u001b[0m Trial 66 finished with value: 7568.659194536101 and parameters: {'objective': 'RMSE', 'depth': 8, 'n_estimators': 1763, 'learning_rate': 0.18175631086610697}. Best is trial 45 with value: 7372.664077418726.\u001b[0m\n",
      "Custom logger is already specified. Specify more than one logger at same time is not thread safe.\u001b[32m[I 2022-08-22 14:53:30,830]\u001b[0m Trial 67 finished with value: 7753.043654609688 and parameters: {'objective': 'RMSE', 'depth': 8, 'n_estimators': 1760, 'learning_rate': 0.025891069938539058}. Best is trial 45 with value: 7372.664077418726.\u001b[0m\n",
      "\u001b[32m[I 2022-08-22 14:53:35,558]\u001b[0m Trial 69 finished with value: 8165.729778049689 and parameters: {'objective': 'RMSE', 'depth': 5, 'n_estimators': 1867, 'learning_rate': 0.023384156334188104}. Best is trial 45 with value: 7372.664077418726.\u001b[0m\n",
      "\u001b[32m[I 2022-08-22 14:53:36,025]\u001b[0m Trial 74 finished with value: 7740.677153959095 and parameters: {'objective': 'RMSE', 'depth': 8, 'n_estimators': 796, 'learning_rate': 0.050268391145189134}. Best is trial 45 with value: 7372.664077418726.\u001b[0m\n",
      "\u001b[32m[I 2022-08-22 14:53:37,254]\u001b[0m Trial 71 finished with value: 8064.729606361106 and parameters: {'objective': 'RMSE', 'depth': 5, 'n_estimators': 1844, 'learning_rate': 0.026179626968017396}. Best is trial 45 with value: 7372.664077418726.\u001b[0m\n",
      "\u001b[32m[I 2022-08-22 14:53:39,785]\u001b[0m Trial 73 finished with value: 7908.552418715246 and parameters: {'objective': 'RMSE', 'depth': 5, 'n_estimators': 1777, 'learning_rate': 0.03787993677440773}. Best is trial 45 with value: 7372.664077418726.\u001b[0m\n",
      "\u001b[32m[I 2022-08-22 14:53:40,636]\u001b[0m Trial 75 finished with value: 7710.815187076415 and parameters: {'objective': 'RMSE', 'depth': 8, 'n_estimators': 1174, 'learning_rate': 0.03658970098254291}. Best is trial 45 with value: 7372.664077418726.\u001b[0m\n",
      "\u001b[32m[I 2022-08-22 14:53:42,823]\u001b[0m Trial 72 finished with value: 7697.555432835364 and parameters: {'objective': 'RMSE', 'depth': 8, 'n_estimators': 1494, 'learning_rate': 0.035729375136000024}. Best is trial 45 with value: 7372.664077418726.\u001b[0m\n",
      "\u001b[32m[I 2022-08-22 14:53:44,252]\u001b[0m Trial 70 finished with value: 7647.373822185039 and parameters: {'objective': 'RMSE', 'depth': 8, 'n_estimators': 1867, 'learning_rate': 0.026126435559098646}. Best is trial 45 with value: 7372.664077418726.\u001b[0m\n",
      "\u001b[32m[I 2022-08-22 14:53:44,516]\u001b[0m Trial 76 finished with value: 7635.685590887421 and parameters: {'objective': 'RMSE', 'depth': 8, 'n_estimators': 1514, 'learning_rate': 0.036204332192869206}. Best is trial 45 with value: 7372.664077418726.\u001b[0m\n",
      "Custom logger is already specified. Specify more than one logger at same time is not thread safe.\u001b[32m[I 2022-08-22 14:53:45,532]\u001b[0m Trial 77 finished with value: 7627.709158149202 and parameters: {'objective': 'RMSE', 'depth': 8, 'n_estimators': 1590, 'learning_rate': 0.036244689282104024}. Best is trial 45 with value: 7372.664077418726.\u001b[0m\n",
      "\u001b[32m[I 2022-08-22 14:53:47,403]\u001b[0m Trial 78 finished with value: 7662.657503580895 and parameters: {'objective': 'RMSE', 'depth': 8, 'n_estimators': 1572, 'learning_rate': 0.03530007516157866}. Best is trial 45 with value: 7372.664077418726.\u001b[0m\n",
      "\u001b[32m[I 2022-08-22 14:53:52,863]\u001b[0m Trial 79 finished with value: 7585.0668332764835 and parameters: {'objective': 'RMSE', 'depth': 8, 'n_estimators': 1590, 'learning_rate': 0.035916489600966696}. Best is trial 45 with value: 7372.664077418726.\u001b[0m\n",
      "\u001b[32m[I 2022-08-22 14:54:04,613]\u001b[0m Trial 80 finished with value: 7561.198318429968 and parameters: {'objective': 'RMSE', 'depth': 8, 'n_estimators': 2745, 'learning_rate': 0.0356819534465272}. Best is trial 45 with value: 7372.664077418726.\u001b[0m\n",
      "\u001b[32m[I 2022-08-22 14:54:06,022]\u001b[0m Trial 81 finished with value: 7563.689705950191 and parameters: {'objective': 'RMSE', 'depth': 8, 'n_estimators': 2776, 'learning_rate': 0.036200912899840905}. Best is trial 45 with value: 7372.664077418726.\u001b[0m\n",
      "\u001b[32m[I 2022-08-22 14:54:08,837]\u001b[0m Trial 82 finished with value: 7526.995753553757 and parameters: {'objective': 'RMSE', 'depth': 8, 'n_estimators': 2803, 'learning_rate': 0.033517001022016914}. Best is trial 45 with value: 7372.664077418726.\u001b[0m\n",
      "Custom logger is already specified. Specify more than one logger at same time is not thread safe.\u001b[32m[I 2022-08-22 14:54:09,063]\u001b[0m Trial 83 finished with value: 7414.771540177316 and parameters: {'objective': 'RMSE', 'depth': 8, 'n_estimators': 2762, 'learning_rate': 0.047263542758570525}. Best is trial 45 with value: 7372.664077418726.\u001b[0m\n",
      "\u001b[32m[I 2022-08-22 14:54:11,035]\u001b[0m Trial 84 finished with value: 7523.290302999811 and parameters: {'objective': 'RMSE', 'depth': 8, 'n_estimators': 2742, 'learning_rate': 0.0464613060507188}. Best is trial 45 with value: 7372.664077418726.\u001b[0m\n",
      "\u001b[32m[I 2022-08-22 14:54:12,532]\u001b[0m Trial 86 finished with value: 7557.71618810155 and parameters: {'objective': 'RMSE', 'depth': 8, 'n_estimators': 2754, 'learning_rate': 0.0498984638486992}. Best is trial 45 with value: 7372.664077418726.\u001b[0m\n",
      "\u001b[32m[I 2022-08-22 14:54:13,473]\u001b[0m Trial 85 finished with value: 7450.081201255779 and parameters: {'objective': 'RMSE', 'depth': 8, 'n_estimators': 2796, 'learning_rate': 0.04885651144160427}. Best is trial 45 with value: 7372.664077418726.\u001b[0m\n",
      "\u001b[32m[I 2022-08-22 14:54:13,685]\u001b[0m Trial 87 finished with value: 7589.510852023963 and parameters: {'objective': 'RMSE', 'depth': 8, 'n_estimators': 2768, 'learning_rate': 0.049641748828476065}. Best is trial 45 with value: 7372.664077418726.\u001b[0m\n",
      "Custom logger is already specified. Specify more than one logger at same time is not thread safe.\u001b[32m[I 2022-08-22 14:54:15,415]\u001b[0m Trial 88 finished with value: 7553.212387113941 and parameters: {'objective': 'RMSE', 'depth': 8, 'n_estimators': 2785, 'learning_rate': 0.048997011501841145}. Best is trial 45 with value: 7372.664077418726.\u001b[0m\n"
     ]
    },
    {
     "name": "stderr",
     "output_type": "stream",
     "text": [
      "\u001b[32m[I 2022-08-22 14:54:17,853]\u001b[0m Trial 89 finished with value: 7587.703519519214 and parameters: {'objective': 'RMSE', 'depth': 8, 'n_estimators': 2483, 'learning_rate': 0.04861034877597294}. Best is trial 45 with value: 7372.664077418726.\u001b[0m\n",
      "\u001b[32m[I 2022-08-22 14:54:30,069]\u001b[0m Trial 90 finished with value: 7450.08652754123 and parameters: {'objective': 'RMSE', 'depth': 8, 'n_estimators': 2449, 'learning_rate': 0.049378709595340076}. Best is trial 45 with value: 7372.664077418726.\u001b[0m\n",
      "\u001b[32m[I 2022-08-22 14:54:31,410]\u001b[0m Trial 91 finished with value: 7550.718928527533 and parameters: {'objective': 'RMSE', 'depth': 8, 'n_estimators': 2469, 'learning_rate': 0.04012177473162759}. Best is trial 45 with value: 7372.664077418726.\u001b[0m\n",
      "\u001b[32m[I 2022-08-22 14:54:33,250]\u001b[0m Trial 93 finished with value: 7587.5583102272985 and parameters: {'objective': 'RMSE', 'depth': 8, 'n_estimators': 2441, 'learning_rate': 0.0496134828370788}. Best is trial 45 with value: 7372.664077418726.\u001b[0m\n",
      "\u001b[32m[I 2022-08-22 14:54:33,842]\u001b[0m Trial 92 finished with value: 7459.2140442114005 and parameters: {'objective': 'RMSE', 'depth': 8, 'n_estimators': 2470, 'learning_rate': 0.04720401200784331}. Best is trial 45 with value: 7372.664077418726.\u001b[0m\n",
      "\u001b[32m[I 2022-08-22 14:54:35,631]\u001b[0m Trial 94 finished with value: 7585.765709765756 and parameters: {'objective': 'RMSE', 'depth': 8, 'n_estimators': 2451, 'learning_rate': 0.030856586307181636}. Best is trial 45 with value: 7372.664077418726.\u001b[0m\n",
      "\u001b[32m[I 2022-08-22 14:54:37,378]\u001b[0m Trial 95 finished with value: 7583.678684179906 and parameters: {'objective': 'RMSE', 'depth': 8, 'n_estimators': 2477, 'learning_rate': 0.04158287884217293}. Best is trial 45 with value: 7372.664077418726.\u001b[0m\n",
      "\u001b[32m[I 2022-08-22 14:54:37,616]\u001b[0m Trial 97 finished with value: 7464.859098835799 and parameters: {'objective': 'RMSE', 'depth': 8, 'n_estimators': 2419, 'learning_rate': 0.042168246021117343}. Best is trial 45 with value: 7372.664077418726.\u001b[0m\n",
      "\u001b[32m[I 2022-08-22 14:54:38,374]\u001b[0m Trial 96 finished with value: 7539.064302615901 and parameters: {'objective': 'RMSE', 'depth': 8, 'n_estimators': 2459, 'learning_rate': 0.08185070408677163}. Best is trial 45 with value: 7372.664077418726.\u001b[0m\n",
      "\u001b[32m[I 2022-08-22 14:54:39,549]\u001b[0m Trial 98 finished with value: 7591.480063934776 and parameters: {'objective': 'RMSE', 'depth': 8, 'n_estimators': 2386, 'learning_rate': 0.13655211822355415}. Best is trial 45 with value: 7372.664077418726.\u001b[0m\n",
      "\u001b[32m[I 2022-08-22 14:54:42,197]\u001b[0m Trial 99 finished with value: 7482.366079233152 and parameters: {'objective': 'RMSE', 'depth': 8, 'n_estimators': 2397, 'learning_rate': 0.07845495600248235}. Best is trial 45 with value: 7372.664077418726.\u001b[0m\n",
      "\u001b[32m[I 2022-08-22 14:54:54,303]\u001b[0m Trial 101 finished with value: 7511.911807692934 and parameters: {'objective': 'RMSE', 'depth': 8, 'n_estimators': 2207, 'learning_rate': 0.13825083102537086}. Best is trial 45 with value: 7372.664077418726.\u001b[0m\n",
      "\u001b[32m[I 2022-08-22 14:54:54,304]\u001b[0m Trial 100 finished with value: 7576.026458624846 and parameters: {'objective': 'RMSE', 'depth': 8, 'n_estimators': 2373, 'learning_rate': 0.030931669774244486}. Best is trial 45 with value: 7372.664077418726.\u001b[0m\n",
      "Custom logger is already specified. Specify more than one logger at same time is not thread safe.\u001b[32m[I 2022-08-22 14:54:55,683]\u001b[0m Trial 102 finished with value: 7569.765794892725 and parameters: {'objective': 'RMSE', 'depth': 8, 'n_estimators': 2192, 'learning_rate': 0.0805918069458992}. Best is trial 45 with value: 7372.664077418726.\u001b[0m\n",
      "\u001b[32m[I 2022-08-22 14:54:55,939]\u001b[0m Trial 107 finished with value: 7670.755451117186 and parameters: {'objective': 'RMSE', 'depth': 6, 'n_estimators': 2249, 'learning_rate': 0.13814230922380702}. Best is trial 45 with value: 7372.664077418726.\u001b[0m\n",
      "\u001b[32m[I 2022-08-22 14:54:56,329]\u001b[0m Trial 103 finished with value: 7609.0404054902365 and parameters: {'objective': 'RMSE', 'depth': 8, 'n_estimators': 2217, 'learning_rate': 0.03029612808031417}. Best is trial 45 with value: 7372.664077418726.\u001b[0m\n",
      "\u001b[32m[I 2022-08-22 14:54:57,072]\u001b[0m Trial 108 finished with value: 7677.965233144374 and parameters: {'objective': 'RMSE', 'depth': 6, 'n_estimators': 2245, 'learning_rate': 0.06497525789937987}. Best is trial 45 with value: 7372.664077418726.\u001b[0m\n",
      "\u001b[32m[I 2022-08-22 14:54:58,870]\u001b[0m Trial 104 finished with value: 7460.128637528164 and parameters: {'objective': 'RMSE', 'depth': 8, 'n_estimators': 2249, 'learning_rate': 0.0662239657290978}. Best is trial 45 with value: 7372.664077418726.\u001b[0m\n",
      "\u001b[32m[I 2022-08-22 14:55:00,212]\u001b[0m Trial 106 finished with value: 7447.328334378375 and parameters: {'objective': 'RMSE', 'depth': 8, 'n_estimators': 2218, 'learning_rate': 0.06356810186936383}. Best is trial 45 with value: 7372.664077418726.\u001b[0m\n",
      "\u001b[32m[I 2022-08-22 14:55:00,969]\u001b[0m Trial 105 finished with value: 7581.01429854918 and parameters: {'objective': 'RMSE', 'depth': 8, 'n_estimators': 2264, 'learning_rate': 0.1395950590778436}. Best is trial 45 with value: 7372.664077418726.\u001b[0m\n",
      "\u001b[32m[I 2022-08-22 14:55:04,618]\u001b[0m Trial 109 finished with value: 7673.352784275985 and parameters: {'objective': 'RMSE', 'depth': 8, 'n_estimators': 2195, 'learning_rate': 0.1314743546435435}. Best is trial 45 with value: 7372.664077418726.\u001b[0m\n",
      "\u001b[32m[I 2022-08-22 14:55:16,379]\u001b[0m Trial 111 finished with value: 7505.0109115184 and parameters: {'objective': 'RMSE', 'depth': 8, 'n_estimators': 2222, 'learning_rate': 0.062080457489088456}. Best is trial 45 with value: 7372.664077418726.\u001b[0m\n",
      "\u001b[32m[I 2022-08-22 14:55:17,368]\u001b[0m Trial 112 finished with value: 7734.6944031734365 and parameters: {'objective': 'RMSE', 'depth': 6, 'n_estimators': 2896, 'learning_rate': 0.0642306625211288}. Best is trial 45 with value: 7372.664077418726.\u001b[0m\n",
      "\u001b[32m[I 2022-08-22 14:55:21,831]\u001b[0m Trial 114 finished with value: 7454.581903129439 and parameters: {'objective': 'RMSE', 'depth': 8, 'n_estimators': 2539, 'learning_rate': 0.06464639141914551}. Best is trial 45 with value: 7372.664077418726.\u001b[0m\n",
      "\u001b[32m[I 2022-08-22 14:55:25,109]\u001b[0m Trial 113 finished with value: 7511.436768855634 and parameters: {'objective': 'RMSE', 'depth': 8, 'n_estimators': 2891, 'learning_rate': 0.06382838005924385}. Best is trial 45 with value: 7372.664077418726.\u001b[0m\n",
      "\u001b[32m[I 2022-08-22 14:55:25,561]\u001b[0m Trial 110 finished with value: 7369.925521565112 and parameters: {'objective': 'RMSE', 'depth': 8, 'n_estimators': 2992, 'learning_rate': 0.09631303679162141}. Best is trial 110 with value: 7369.925521565112.\u001b[0m\n",
      "\u001b[32m[I 2022-08-22 14:55:25,793]\u001b[0m Trial 117 finished with value: 7591.9144817545475 and parameters: {'objective': 'RMSE', 'depth': 8, 'n_estimators': 2537, 'learning_rate': 0.0963216128887971}. Best is trial 110 with value: 7369.925521565112.\u001b[0m\n",
      "Custom logger is already specified. Specify more than one logger at same time is not thread safe.\u001b[32m[I 2022-08-22 14:55:26,641]\u001b[0m Trial 118 finished with value: 7461.504143858634 and parameters: {'objective': 'RMSE', 'depth': 8, 'n_estimators': 2542, 'learning_rate': 0.046217411541959685}. Best is trial 110 with value: 7369.925521565112.\u001b[0m\n",
      "\u001b[32m[I 2022-08-22 14:55:27,661]\u001b[0m Trial 115 finished with value: 7514.322556438403 and parameters: {'objective': 'RMSE', 'depth': 8, 'n_estimators': 2978, 'learning_rate': 0.09475924077913898}. Best is trial 110 with value: 7369.925521565112.\u001b[0m\n",
      "\u001b[32m[I 2022-08-22 14:55:28,979]\u001b[0m Trial 116 finished with value: 7508.50031717508 and parameters: {'objective': 'RMSE', 'depth': 8, 'n_estimators': 2952, 'learning_rate': 0.045886826428693524}. Best is trial 110 with value: 7369.925521565112.\u001b[0m\n",
      "\u001b[32m[I 2022-08-22 14:55:30,517]\u001b[0m Trial 119 finished with value: 7587.280192692578 and parameters: {'objective': 'RMSE', 'depth': 8, 'n_estimators': 2535, 'learning_rate': 0.06854048474621556}. Best is trial 110 with value: 7369.925521565112.\u001b[0m\n",
      "\u001b[32m[I 2022-08-22 14:55:42,926]\u001b[0m Trial 120 finished with value: 7477.56242167986 and parameters: {'objective': 'RMSE', 'depth': 8, 'n_estimators': 2537, 'learning_rate': 0.05522365899854266}. Best is trial 110 with value: 7369.925521565112.\u001b[0m\n",
      "\u001b[32m[I 2022-08-22 14:55:43,770]\u001b[0m Trial 121 finished with value: 7561.691668672261 and parameters: {'objective': 'RMSE', 'depth': 8, 'n_estimators': 2547, 'learning_rate': 0.09455071367548581}. Best is trial 110 with value: 7369.925521565112.\u001b[0m\n"
     ]
    },
    {
     "name": "stderr",
     "output_type": "stream",
     "text": [
      "\u001b[32m[I 2022-08-22 14:55:48,125]\u001b[0m Trial 122 finished with value: 7557.83074834727 and parameters: {'objective': 'RMSE', 'depth': 8, 'n_estimators': 2542, 'learning_rate': 0.054345637414041026}. Best is trial 110 with value: 7369.925521565112.\u001b[0m\n",
      "\u001b[32m[I 2022-08-22 14:55:51,187]\u001b[0m Trial 123 finished with value: 7495.748005918362 and parameters: {'objective': 'RMSE', 'depth': 8, 'n_estimators': 2537, 'learning_rate': 0.05493425733540716}. Best is trial 110 with value: 7369.925521565112.\u001b[0m\n",
      "\u001b[32m[I 2022-08-22 14:55:53,215]\u001b[0m Trial 125 finished with value: 7503.192510496138 and parameters: {'objective': 'RMSE', 'depth': 8, 'n_estimators': 2675, 'learning_rate': 0.09223869397108671}. Best is trial 110 with value: 7369.925521565112.\u001b[0m\n",
      "\u001b[32m[I 2022-08-22 14:55:53,587]\u001b[0m Trial 126 finished with value: 7439.266999250298 and parameters: {'objective': 'RMSE', 'depth': 8, 'n_estimators': 2640, 'learning_rate': 0.06836699731579357}. Best is trial 110 with value: 7369.925521565112.\u001b[0m\n",
      "\u001b[32m[I 2022-08-22 14:55:54,954]\u001b[0m Trial 127 finished with value: 7497.896026847796 and parameters: {'objective': 'RMSE', 'depth': 8, 'n_estimators': 2678, 'learning_rate': 0.06921158777254884}. Best is trial 110 with value: 7369.925521565112.\u001b[0m\n",
      "\u001b[32m[I 2022-08-22 14:55:55,578]\u001b[0m Trial 128 finished with value: 7544.9953375659725 and parameters: {'objective': 'RMSE', 'depth': 8, 'n_estimators': 2630, 'learning_rate': 0.06903735619119793}. Best is trial 110 with value: 7369.925521565112.\u001b[0m\n",
      "\u001b[32m[I 2022-08-22 14:55:56,621]\u001b[0m Trial 124 finished with value: 7529.77237216734 and parameters: {'objective': 'RMSE', 'depth': 8, 'n_estimators': 2990, 'learning_rate': 0.09952841766776789}. Best is trial 110 with value: 7369.925521565112.\u001b[0m\n",
      "\u001b[32m[I 2022-08-22 14:55:57,373]\u001b[0m Trial 129 finished with value: 7488.710884112201 and parameters: {'objective': 'RMSE', 'depth': 8, 'n_estimators': 2658, 'learning_rate': 0.055216404955498496}. Best is trial 110 with value: 7369.925521565112.\u001b[0m\n",
      "\u001b[32m[I 2022-08-22 14:56:01,215]\u001b[0m Trial 136 finished with value: 7810.123621950835 and parameters: {'objective': 'RMSE', 'depth': 8, 'n_estimators': 631, 'learning_rate': 0.07421414634566577}. Best is trial 110 with value: 7369.925521565112.\u001b[0m\n",
      "\u001b[32m[I 2022-08-22 14:56:10,400]\u001b[0m Trial 130 finished with value: 7503.649854620621 and parameters: {'objective': 'RMSE', 'depth': 8, 'n_estimators': 2698, 'learning_rate': 0.10334370263969869}. Best is trial 110 with value: 7369.925521565112.\u001b[0m\n",
      "\u001b[32m[I 2022-08-22 14:56:10,872]\u001b[0m Trial 131 finished with value: 7603.070490239627 and parameters: {'objective': 'RMSE', 'depth': 8, 'n_estimators': 2690, 'learning_rate': 0.10792210239021031}. Best is trial 110 with value: 7369.925521565112.\u001b[0m\n",
      "\u001b[32m[I 2022-08-22 14:56:14,280]\u001b[0m Trial 132 finished with value: 7536.768066778161 and parameters: {'objective': 'RMSE', 'depth': 8, 'n_estimators': 2641, 'learning_rate': 0.12618421912154973}. Best is trial 110 with value: 7369.925521565112.\u001b[0m\n",
      "\u001b[32m[I 2022-08-22 14:56:14,803]\u001b[0m Trial 137 finished with value: 7571.2021962911185 and parameters: {'objective': 'RMSE', 'depth': 8, 'n_estimators': 2014, 'learning_rate': 0.05931702197952238}. Best is trial 110 with value: 7369.925521565112.\u001b[0m\n",
      "\u001b[32m[I 2022-08-22 14:56:17,333]\u001b[0m Trial 133 finished with value: 7533.8781353223085 and parameters: {'objective': 'RMSE', 'depth': 8, 'n_estimators': 2664, 'learning_rate': 0.10279639841345597}. Best is trial 110 with value: 7369.925521565112.\u001b[0m\n",
      "\u001b[32m[I 2022-08-22 14:56:19,102]\u001b[0m Trial 134 finished with value: 7506.637773923958 and parameters: {'objective': 'RMSE', 'depth': 8, 'n_estimators': 2690, 'learning_rate': 0.10287630714363938}. Best is trial 110 with value: 7369.925521565112.\u001b[0m\n",
      "\u001b[32m[I 2022-08-22 14:56:19,273]\u001b[0m Trial 138 finished with value: 7511.2290545974365 and parameters: {'objective': 'RMSE', 'depth': 8, 'n_estimators': 2327, 'learning_rate': 0.058728582262762265}. Best is trial 110 with value: 7369.925521565112.\u001b[0m\n",
      "Custom logger is already specified. Specify more than one logger at same time is not thread safe.\u001b[32m[I 2022-08-22 14:56:19,878]\u001b[0m Trial 135 finished with value: 7498.541043405506 and parameters: {'objective': 'RMSE', 'depth': 8, 'n_estimators': 2673, 'learning_rate': 0.10647354501930203}. Best is trial 110 with value: 7369.925521565112.\u001b[0m\n",
      "\u001b[32m[I 2022-08-22 14:56:20,267]\u001b[0m Trial 139 finished with value: 7395.321616159136 and parameters: {'objective': 'RMSE', 'depth': 8, 'n_estimators': 2320, 'learning_rate': 0.10800916555433322}. Best is trial 110 with value: 7369.925521565112.\u001b[0m\n",
      "\u001b[32m[I 2022-08-22 14:56:21,183]\u001b[0m Trial 140 finished with value: 7612.056099680483 and parameters: {'objective': 'RMSE', 'depth': 8, 'n_estimators': 2009, 'learning_rate': 0.1056940131275417}. Best is trial 110 with value: 7369.925521565112.\u001b[0m\n",
      "\u001b[32m[I 2022-08-22 14:56:33,523]\u001b[0m Trial 141 finished with value: 7548.200166258756 and parameters: {'objective': 'RMSE', 'depth': 8, 'n_estimators': 2321, 'learning_rate': 0.10870586274243975}. Best is trial 110 with value: 7369.925521565112.\u001b[0m\n",
      "\u001b[32m[I 2022-08-22 14:56:37,322]\u001b[0m Trial 143 finished with value: 7628.91217413281 and parameters: {'objective': 'RMSE', 'depth': 8, 'n_estimators': 2341, 'learning_rate': 0.08563478711636692}. Best is trial 110 with value: 7369.925521565112.\u001b[0m\n",
      "\u001b[32m[I 2022-08-22 14:56:37,324]\u001b[0m Trial 144 finished with value: 7578.519126847783 and parameters: {'objective': 'RMSE', 'depth': 8, 'n_estimators': 2319, 'learning_rate': 0.04569640085763315}. Best is trial 110 with value: 7369.925521565112.\u001b[0m\n",
      "Custom logger is already specified. Specify more than one logger at same time is not thread safe.\u001b[32m[I 2022-08-22 14:56:39,165]\u001b[0m Trial 142 finished with value: 7715.219336610705 and parameters: {'objective': 'RMSE', 'depth': 8, 'n_estimators': 2835, 'learning_rate': 0.12518543549789282}. Best is trial 110 with value: 7369.925521565112.\u001b[0m\n",
      "\u001b[32m[I 2022-08-22 14:56:41,754]\u001b[0m Trial 146 finished with value: 7610.719284964908 and parameters: {'objective': 'RMSE', 'depth': 8, 'n_estimators': 2315, 'learning_rate': 0.0464589143057538}. Best is trial 110 with value: 7369.925521565112.\u001b[0m\n",
      "\u001b[32m[I 2022-08-22 14:56:43,591]\u001b[0m Trial 150 finished with value: 7436.480393414739 and parameters: {'objective': 'RMSE', 'depth': 8, 'n_estimators': 2308, 'learning_rate': 0.046753672991469084}. Best is trial 110 with value: 7369.925521565112.\u001b[0m\n",
      "\u001b[32m[I 2022-08-22 14:56:45,303]\u001b[0m Trial 145 finished with value: 7512.072118718614 and parameters: {'objective': 'RMSE', 'depth': 8, 'n_estimators': 2845, 'learning_rate': 0.04461445055150434}. Best is trial 110 with value: 7369.925521565112.\u001b[0m\n",
      "\u001b[32m[I 2022-08-22 14:56:46,763]\u001b[0m Trial 147 finished with value: 7430.946661876712 and parameters: {'objective': 'RMSE', 'depth': 8, 'n_estimators': 2830, 'learning_rate': 0.046710565970360655}. Best is trial 110 with value: 7369.925521565112.\u001b[0m\n",
      "\u001b[32m[I 2022-08-22 14:56:47,069]\u001b[0m Trial 148 finished with value: 7537.7099375764865 and parameters: {'objective': 'RMSE', 'depth': 8, 'n_estimators': 2815, 'learning_rate': 0.04530485126692024}. Best is trial 110 with value: 7369.925521565112.\u001b[0m\n",
      "\u001b[32m[I 2022-08-22 14:56:47,625]\u001b[0m Trial 149 finished with value: 7501.435480838622 and parameters: {'objective': 'RMSE', 'depth': 8, 'n_estimators': 2850, 'learning_rate': 0.05236400322461542}. Best is trial 110 with value: 7369.925521565112.\u001b[0m\n",
      "\u001b[32m[I 2022-08-22 14:56:54,913]\u001b[0m Trial 155 finished with value: 7612.250601427462 and parameters: {'objective': 'RMSE', 'depth': 8, 'n_estimators': 1358, 'learning_rate': 0.041949927773832774}. Best is trial 110 with value: 7369.925521565112.\u001b[0m\n",
      "\u001b[32m[I 2022-08-22 14:56:55,972]\u001b[0m Trial 160 finished with value: 7786.649538196018 and parameters: {'objective': 'RMSE', 'depth': 8, 'n_estimators': 869, 'learning_rate': 0.03853293456083444}. Best is trial 110 with value: 7369.925521565112.\u001b[0m\n",
      "\u001b[32m[I 2022-08-22 14:56:56,205]\u001b[0m Trial 159 finished with value: 7680.510728575161 and parameters: {'objective': 'RMSE', 'depth': 8, 'n_estimators': 949, 'learning_rate': 0.04009307509608441}. Best is trial 110 with value: 7369.925521565112.\u001b[0m\n"
     ]
    },
    {
     "name": "stderr",
     "output_type": "stream",
     "text": [
      "\u001b[32m[I 2022-08-22 14:56:59,065]\u001b[0m Trial 157 finished with value: 7639.056100458166 and parameters: {'objective': 'RMSE', 'depth': 8, 'n_estimators': 1393, 'learning_rate': 0.05146135938941713}. Best is trial 110 with value: 7369.925521565112.\u001b[0m\n",
      "\u001b[32m[I 2022-08-22 14:57:02,070]\u001b[0m Trial 151 finished with value: 7404.263266402815 and parameters: {'objective': 'RMSE', 'depth': 8, 'n_estimators': 2833, 'learning_rate': 0.047116592796634646}. Best is trial 110 with value: 7369.925521565112.\u001b[0m\n",
      "\u001b[32m[I 2022-08-22 14:57:05,134]\u001b[0m Trial 153 finished with value: 7511.717794602177 and parameters: {'objective': 'RMSE', 'depth': 8, 'n_estimators': 2867, 'learning_rate': 0.03959899129789085}. Best is trial 110 with value: 7369.925521565112.\u001b[0m\n",
      "\u001b[32m[I 2022-08-22 14:57:05,355]\u001b[0m Trial 152 finished with value: 7455.90855919724 and parameters: {'objective': 'RMSE', 'depth': 8, 'n_estimators': 2876, 'learning_rate': 0.03891585646334435}. Best is trial 110 with value: 7369.925521565112.\u001b[0m\n",
      "Custom logger is already specified. Specify more than one logger at same time is not thread safe.\u001b[32m[I 2022-08-22 14:57:06,583]\u001b[0m Trial 154 finished with value: 7460.260365522366 and parameters: {'objective': 'RMSE', 'depth': 8, 'n_estimators': 2835, 'learning_rate': 0.05232144930936922}. Best is trial 110 with value: 7369.925521565112.\u001b[0m\n",
      "\u001b[32m[I 2022-08-22 14:57:06,971]\u001b[0m Trial 156 finished with value: 7530.966946048683 and parameters: {'objective': 'RMSE', 'depth': 8, 'n_estimators': 2409, 'learning_rate': 0.05182289461344852}. Best is trial 110 with value: 7369.925521565112.\u001b[0m\n",
      "\u001b[32m[I 2022-08-22 14:57:14,006]\u001b[0m Trial 158 finished with value: 7510.497800228216 and parameters: {'objective': 'RMSE', 'depth': 8, 'n_estimators': 2831, 'learning_rate': 0.03946526225167642}. Best is trial 110 with value: 7369.925521565112.\u001b[0m\n",
      "\u001b[32m[I 2022-08-22 14:57:16,806]\u001b[0m Trial 163 finished with value: 7467.775355897271 and parameters: {'objective': 'RMSE', 'depth': 8, 'n_estimators': 2161, 'learning_rate': 0.05217082995642629}. Best is trial 110 with value: 7369.925521565112.\u001b[0m\n",
      "\u001b[32m[I 2022-08-22 14:57:18,205]\u001b[0m Trial 161 finished with value: 7518.780450401281 and parameters: {'objective': 'RMSE', 'depth': 8, 'n_estimators': 2413, 'learning_rate': 0.040336113967725885}. Best is trial 110 with value: 7369.925521565112.\u001b[0m\n",
      "\u001b[32m[I 2022-08-22 14:57:19,154]\u001b[0m Trial 162 finished with value: 7506.849955392899 and parameters: {'objective': 'RMSE', 'depth': 8, 'n_estimators': 2413, 'learning_rate': 0.05217005167793003}. Best is trial 110 with value: 7369.925521565112.\u001b[0m\n",
      "\u001b[32m[I 2022-08-22 14:57:21,924]\u001b[0m Trial 164 finished with value: 7457.501722377027 and parameters: {'objective': 'RMSE', 'depth': 8, 'n_estimators': 2410, 'learning_rate': 0.04856741362258431}. Best is trial 110 with value: 7369.925521565112.\u001b[0m\n",
      "\u001b[32m[I 2022-08-22 14:57:26,070]\u001b[0m Trial 170 finished with value: 7591.291260420551 and parameters: {'objective': 'RMSE', 'depth': 8, 'n_estimators': 1267, 'learning_rate': 0.04819916150902053}. Best is trial 110 with value: 7369.925521565112.\u001b[0m\n",
      "\u001b[32m[I 2022-08-22 14:57:27,791]\u001b[0m Trial 166 finished with value: 7840.091840138221 and parameters: {'objective': 'RMSE', 'depth': 8, 'n_estimators': 2417, 'learning_rate': 0.01314116588771922}. Best is trial 110 with value: 7369.925521565112.\u001b[0m\n",
      "\u001b[32m[I 2022-08-22 14:57:28,855]\u001b[0m Trial 165 finished with value: 7461.747522255547 and parameters: {'objective': 'RMSE', 'depth': 8, 'n_estimators': 2784, 'learning_rate': 0.04923759295467037}. Best is trial 110 with value: 7369.925521565112.\u001b[0m\n",
      "\u001b[32m[I 2022-08-22 14:57:31,596]\u001b[0m Trial 167 finished with value: 7422.80112308261 and parameters: {'objective': 'RMSE', 'depth': 8, 'n_estimators': 2765, 'learning_rate': 0.042806864690201556}. Best is trial 110 with value: 7369.925521565112.\u001b[0m\n",
      "\u001b[32m[I 2022-08-22 14:57:33,169]\u001b[0m Trial 168 finished with value: 7529.793727891318 and parameters: {'objective': 'RMSE', 'depth': 8, 'n_estimators': 2761, 'learning_rate': 0.150079834677196}. Best is trial 110 with value: 7369.925521565112.\u001b[0m\n",
      "\u001b[32m[I 2022-08-22 14:57:35,079]\u001b[0m Trial 169 finished with value: 7492.960128703672 and parameters: {'objective': 'RMSE', 'depth': 8, 'n_estimators': 2955, 'learning_rate': 0.04285013020484917}. Best is trial 110 with value: 7369.925521565112.\u001b[0m\n",
      "\u001b[32m[I 2022-08-22 14:57:44,645]\u001b[0m Trial 173 finished with value: 7514.000788320444 and parameters: {'objective': 'RMSE', 'depth': 8, 'n_estimators': 2749, 'learning_rate': 0.04854844674908364}. Best is trial 110 with value: 7369.925521565112.\u001b[0m\n",
      "\u001b[32m[I 2022-08-22 14:57:45,496]\u001b[0m Trial 171 finished with value: 7490.292071963991 and parameters: {'objective': 'RMSE', 'depth': 8, 'n_estimators': 2923, 'learning_rate': 0.04812206394397598}. Best is trial 110 with value: 7369.925521565112.\u001b[0m\n",
      "\u001b[32m[I 2022-08-22 14:57:46,860]\u001b[0m Trial 172 finished with value: 7486.285192564083 and parameters: {'objective': 'RMSE', 'depth': 8, 'n_estimators': 2963, 'learning_rate': 0.048530140720142015}. Best is trial 110 with value: 7369.925521565112.\u001b[0m\n",
      "\u001b[32m[I 2022-08-22 14:57:50,255]\u001b[0m Trial 174 finished with value: 7494.311364930972 and parameters: {'objective': 'RMSE', 'depth': 8, 'n_estimators': 2933, 'learning_rate': 0.042320524944185714}. Best is trial 110 with value: 7369.925521565112.\u001b[0m\n",
      "\u001b[32m[I 2022-08-22 14:57:52,859]\u001b[0m Trial 175 finished with value: 7477.503923523088 and parameters: {'objective': 'RMSE', 'depth': 8, 'n_estimators': 2751, 'learning_rate': 0.04318988835014587}. Best is trial 110 with value: 7369.925521565112.\u001b[0m\n",
      "\u001b[32m[I 2022-08-22 14:57:54,791]\u001b[0m Trial 176 finished with value: 7398.820215668663 and parameters: {'objective': 'RMSE', 'depth': 8, 'n_estimators': 2755, 'learning_rate': 0.04311164132939079}. Best is trial 110 with value: 7369.925521565112.\u001b[0m\n",
      "\u001b[32m[I 2022-08-22 14:57:55,928]\u001b[0m Trial 177 finished with value: 7526.454324799359 and parameters: {'objective': 'RMSE', 'depth': 8, 'n_estimators': 2994, 'learning_rate': 0.11683358213185507}. Best is trial 110 with value: 7369.925521565112.\u001b[0m\n",
      "\u001b[32m[I 2022-08-22 14:57:56,731]\u001b[0m Trial 178 finished with value: 7481.634932699291 and parameters: {'objective': 'RMSE', 'depth': 8, 'n_estimators': 2580, 'learning_rate': 0.04378284009924559}. Best is trial 110 with value: 7369.925521565112.\u001b[0m\n",
      "\u001b[32m[I 2022-08-22 14:58:00,085]\u001b[0m Trial 179 finished with value: 7450.662560821147 and parameters: {'objective': 'RMSE', 'depth': 8, 'n_estimators': 2915, 'learning_rate': 0.04285965412979659}. Best is trial 110 with value: 7369.925521565112.\u001b[0m\n",
      "\u001b[32m[I 2022-08-22 14:58:00,886]\u001b[0m Trial 180 finished with value: 7565.210927890768 and parameters: {'objective': 'RMSE', 'depth': 8, 'n_estimators': 2601, 'learning_rate': 0.11991455898607806}. Best is trial 110 with value: 7369.925521565112.\u001b[0m\n",
      "\u001b[32m[I 2022-08-22 14:58:07,698]\u001b[0m Trial 181 finished with value: 7531.341713972723 and parameters: {'objective': 'RMSE', 'depth': 8, 'n_estimators': 2602, 'learning_rate': 0.11750709602421225}. Best is trial 110 with value: 7369.925521565112.\u001b[0m\n",
      "\u001b[32m[I 2022-08-22 14:58:10,487]\u001b[0m Trial 182 finished with value: 7534.785062052541 and parameters: {'objective': 'RMSE', 'depth': 8, 'n_estimators': 2586, 'learning_rate': 0.04368498880224631}. Best is trial 110 with value: 7369.925521565112.\u001b[0m\n",
      "\u001b[32m[I 2022-08-22 14:58:12,246]\u001b[0m Trial 183 finished with value: 7381.224341554932 and parameters: {'objective': 'RMSE', 'depth': 8, 'n_estimators': 2607, 'learning_rate': 0.1165535531674145}. Best is trial 110 with value: 7369.925521565112.\u001b[0m\n",
      "\u001b[32m[I 2022-08-22 14:58:16,072]\u001b[0m Trial 184 finished with value: 7644.183875879214 and parameters: {'objective': 'RMSE', 'depth': 8, 'n_estimators': 2602, 'learning_rate': 0.1195952216233329}. Best is trial 110 with value: 7369.925521565112.\u001b[0m\n",
      "\u001b[32m[I 2022-08-22 14:58:18,653]\u001b[0m Trial 185 finished with value: 7509.378591771837 and parameters: {'objective': 'RMSE', 'depth': 8, 'n_estimators': 2582, 'learning_rate': 0.059645585853634574}. Best is trial 110 with value: 7369.925521565112.\u001b[0m\n",
      "\u001b[32m[I 2022-08-22 14:58:21,390]\u001b[0m Trial 186 finished with value: 7610.380098240368 and parameters: {'objective': 'RMSE', 'depth': 8, 'n_estimators': 2606, 'learning_rate': 0.11566174543920132}. Best is trial 110 with value: 7369.925521565112.\u001b[0m\n"
     ]
    },
    {
     "name": "stderr",
     "output_type": "stream",
     "text": [
      "\u001b[32m[I 2022-08-22 14:58:21,945]\u001b[0m Trial 187 finished with value: 7536.9330349497795 and parameters: {'objective': 'RMSE', 'depth': 8, 'n_estimators': 2593, 'learning_rate': 0.0577962367090374}. Best is trial 110 with value: 7369.925521565112.\u001b[0m\n",
      "\u001b[32m[I 2022-08-22 14:58:22,796]\u001b[0m Trial 188 finished with value: 7491.396729828956 and parameters: {'objective': 'RMSE', 'depth': 8, 'n_estimators': 2592, 'learning_rate': 0.037846238826091394}. Best is trial 110 with value: 7369.925521565112.\u001b[0m\n",
      "\u001b[32m[I 2022-08-22 14:58:26,955]\u001b[0m Trial 189 finished with value: 7514.5174506559515 and parameters: {'objective': 'RMSE', 'depth': 8, 'n_estimators': 2601, 'learning_rate': 0.044326069565152657}. Best is trial 110 with value: 7369.925521565112.\u001b[0m\n",
      "\u001b[32m[I 2022-08-22 14:58:28,038]\u001b[0m Trial 190 finished with value: 7484.861208055789 and parameters: {'objective': 'RMSE', 'depth': 8, 'n_estimators': 2604, 'learning_rate': 0.037722060173226026}. Best is trial 110 with value: 7369.925521565112.\u001b[0m\n",
      "\u001b[32m[I 2022-08-22 14:58:36,833]\u001b[0m Trial 191 finished with value: 7454.762311817733 and parameters: {'objective': 'RMSE', 'depth': 8, 'n_estimators': 2752, 'learning_rate': 0.058154269187627596}. Best is trial 110 with value: 7369.925521565112.\u001b[0m\n",
      "\u001b[32m[I 2022-08-22 14:58:38,789]\u001b[0m Trial 193 finished with value: 7463.260359182547 and parameters: {'objective': 'RMSE', 'depth': 8, 'n_estimators': 2501, 'learning_rate': 0.0580172740502448}. Best is trial 110 with value: 7369.925521565112.\u001b[0m\n",
      "\u001b[32m[I 2022-08-22 14:58:39,079]\u001b[0m Trial 192 finished with value: 7512.104840229368 and parameters: {'objective': 'RMSE', 'depth': 8, 'n_estimators': 2716, 'learning_rate': 0.05693422004256727}. Best is trial 110 with value: 7369.925521565112.\u001b[0m\n",
      "\u001b[32m[I 2022-08-22 14:58:42,119]\u001b[0m Trial 194 finished with value: 7536.048597292095 and parameters: {'objective': 'RMSE', 'depth': 8, 'n_estimators': 2488, 'learning_rate': 0.057745330966165846}. Best is trial 110 with value: 7369.925521565112.\u001b[0m\n",
      "\u001b[32m[I 2022-08-22 14:58:44,834]\u001b[0m Trial 195 finished with value: 7527.074409545511 and parameters: {'objective': 'RMSE', 'depth': 8, 'n_estimators': 2504, 'learning_rate': 0.05662935880543363}. Best is trial 110 with value: 7369.925521565112.\u001b[0m\n",
      "\u001b[32m[I 2022-08-22 14:58:49,606]\u001b[0m Trial 196 finished with value: 7466.5646777498005 and parameters: {'objective': 'RMSE', 'depth': 8, 'n_estimators': 2735, 'learning_rate': 0.05619107758931769}. Best is trial 110 with value: 7369.925521565112.\u001b[0m\n",
      "\u001b[32m[I 2022-08-22 14:58:50,008]\u001b[0m Trial 197 finished with value: 7513.105460141418 and parameters: {'objective': 'RMSE', 'depth': 8, 'n_estimators': 2724, 'learning_rate': 0.07311746747783252}. Best is trial 110 with value: 7369.925521565112.\u001b[0m\n",
      "\u001b[32m[I 2022-08-22 14:58:50,427]\u001b[0m Trial 198 finished with value: 7443.87362313762 and parameters: {'objective': 'RMSE', 'depth': 8, 'n_estimators': 2729, 'learning_rate': 0.04535626413603945}. Best is trial 110 with value: 7369.925521565112.\u001b[0m\n",
      "\u001b[32m[I 2022-08-22 14:58:54,986]\u001b[0m Trial 199 finished with value: 7556.703602438431 and parameters: {'objective': 'RMSE', 'depth': 8, 'n_estimators': 2740, 'learning_rate': 0.11077081610614384}. Best is trial 110 with value: 7369.925521565112.\u001b[0m\n",
      "\u001b[32m[I 2022-08-22 14:58:55,535]\u001b[0m Trial 200 finished with value: 7459.001881203127 and parameters: {'objective': 'RMSE', 'depth': 8, 'n_estimators': 2730, 'learning_rate': 0.04562396341347496}. Best is trial 110 with value: 7369.925521565112.\u001b[0m\n",
      "\u001b[32m[I 2022-08-22 14:59:02,934]\u001b[0m Trial 201 finished with value: 7658.288705457102 and parameters: {'objective': 'RMSE', 'depth': 8, 'n_estimators': 2493, 'learning_rate': 0.12666178315318}. Best is trial 110 with value: 7369.925521565112.\u001b[0m\n",
      "\u001b[32m[I 2022-08-22 14:59:07,058]\u001b[0m Trial 202 finished with value: 7546.057500703647 and parameters: {'objective': 'RMSE', 'depth': 8, 'n_estimators': 2739, 'learning_rate': 0.07314516897017016}. Best is trial 110 with value: 7369.925521565112.\u001b[0m\n",
      "\u001b[32m[I 2022-08-22 14:59:07,064]\u001b[0m Trial 203 finished with value: 7484.159559974574 and parameters: {'objective': 'RMSE', 'depth': 8, 'n_estimators': 2734, 'learning_rate': 0.06271341541231862}. Best is trial 110 with value: 7369.925521565112.\u001b[0m\n",
      "Custom logger is already specified. Specify more than one logger at same time is not thread safe.\u001b[32m[I 2022-08-22 14:59:10,437]\u001b[0m Trial 204 finished with value: 7631.1019723911395 and parameters: {'objective': 'RMSE', 'depth': 8, 'n_estimators': 2729, 'learning_rate': 0.12774940772955734}. Best is trial 110 with value: 7369.925521565112.\u001b[0m\n",
      "\u001b[32m[I 2022-08-22 14:59:13,568]\u001b[0m Trial 205 finished with value: 7646.449261886897 and parameters: {'objective': 'RMSE', 'depth': 8, 'n_estimators': 2773, 'learning_rate': 0.12562555282488921}. Best is trial 110 with value: 7369.925521565112.\u001b[0m\n",
      "\u001b[32m[I 2022-08-22 14:59:18,121]\u001b[0m Trial 206 finished with value: 7432.896914146277 and parameters: {'objective': 'RMSE', 'depth': 8, 'n_estimators': 2799, 'learning_rate': 0.06529135003252966}. Best is trial 110 with value: 7369.925521565112.\u001b[0m\n",
      "\u001b[32m[I 2022-08-22 14:59:18,468]\u001b[0m Trial 207 finished with value: 7478.487983461466 and parameters: {'objective': 'RMSE', 'depth': 8, 'n_estimators': 2834, 'learning_rate': 0.06156346783131651}. Best is trial 110 with value: 7369.925521565112.\u001b[0m\n",
      "\u001b[32m[I 2022-08-22 14:59:18,893]\u001b[0m Trial 208 finished with value: 7463.041994287252 and parameters: {'objective': 'RMSE', 'depth': 8, 'n_estimators': 2838, 'learning_rate': 0.04605647466705549}. Best is trial 110 with value: 7369.925521565112.\u001b[0m\n",
      "\u001b[32m[I 2022-08-22 14:59:23,875]\u001b[0m Trial 210 finished with value: 7448.596242379085 and parameters: {'objective': 'RMSE', 'depth': 8, 'n_estimators': 2851, 'learning_rate': 0.06209884053783523}. Best is trial 110 with value: 7369.925521565112.\u001b[0m\n",
      "\u001b[32m[I 2022-08-22 14:59:24,201]\u001b[0m Trial 209 finished with value: 7629.162560436043 and parameters: {'objective': 'RMSE', 'depth': 8, 'n_estimators': 2894, 'learning_rate': 0.126725682626549}. Best is trial 110 with value: 7369.925521565112.\u001b[0m\n",
      "\u001b[32m[I 2022-08-22 14:59:30,414]\u001b[0m Trial 211 finished with value: 7484.63063352685 and parameters: {'objective': 'RMSE', 'depth': 8, 'n_estimators': 2839, 'learning_rate': 0.047206275800217426}. Best is trial 110 with value: 7369.925521565112.\u001b[0m\n",
      "\u001b[32m[I 2022-08-22 14:59:34,084]\u001b[0m Trial 213 finished with value: 7551.617192121009 and parameters: {'objective': 'RMSE', 'depth': 8, 'n_estimators': 2846, 'learning_rate': 0.04735259367708201}. Best is trial 110 with value: 7369.925521565112.\u001b[0m\n",
      "\u001b[32m[I 2022-08-22 14:59:34,467]\u001b[0m Trial 212 finished with value: 7526.477220073359 and parameters: {'objective': 'RMSE', 'depth': 8, 'n_estimators': 2858, 'learning_rate': 0.0516212859844607}. Best is trial 110 with value: 7369.925521565112.\u001b[0m\n",
      "\u001b[32m[I 2022-08-22 14:59:37,860]\u001b[0m Trial 214 finished with value: 7445.865611099617 and parameters: {'objective': 'RMSE', 'depth': 8, 'n_estimators': 2884, 'learning_rate': 0.041195627441842866}. Best is trial 110 with value: 7369.925521565112.\u001b[0m\n",
      "\u001b[32m[I 2022-08-22 14:59:40,549]\u001b[0m Trial 215 finished with value: 7559.269286271812 and parameters: {'objective': 'RMSE', 'depth': 8, 'n_estimators': 2870, 'learning_rate': 0.046436290556694015}. Best is trial 110 with value: 7369.925521565112.\u001b[0m\n",
      "\u001b[32m[I 2022-08-22 14:59:45,310]\u001b[0m Trial 216 finished with value: 7495.438181543365 and parameters: {'objective': 'RMSE', 'depth': 8, 'n_estimators': 2881, 'learning_rate': 0.04607117354398691}. Best is trial 110 with value: 7369.925521565112.\u001b[0m\n",
      "\u001b[32m[I 2022-08-22 14:59:45,312]\u001b[0m Trial 217 finished with value: 7715.330135508823 and parameters: {'objective': 'RMSE', 'depth': 8, 'n_estimators': 2833, 'learning_rate': 0.0906513001118328}. Best is trial 110 with value: 7369.925521565112.\u001b[0m\n",
      "Custom logger is already specified. Specify more than one logger at same time is not thread safe.\u001b[32m[I 2022-08-22 14:59:45,979]\u001b[0m Trial 218 finished with value: 7491.126289084658 and parameters: {'objective': 'RMSE', 'depth': 8, 'n_estimators': 2898, 'learning_rate': 0.0424105818836693}. Best is trial 110 with value: 7369.925521565112.\u001b[0m\n"
     ]
    },
    {
     "name": "stderr",
     "output_type": "stream",
     "text": [
      "\u001b[32m[I 2022-08-22 14:59:50,800]\u001b[0m Trial 220 finished with value: 7488.754357556243 and parameters: {'objective': 'RMSE', 'depth': 8, 'n_estimators': 2859, 'learning_rate': 0.04209908358075723}. Best is trial 110 with value: 7369.925521565112.\u001b[0m\n",
      "\u001b[32m[I 2022-08-22 14:59:51,389]\u001b[0m Trial 219 finished with value: 7459.9289095361255 and parameters: {'objective': 'RMSE', 'depth': 8, 'n_estimators': 2905, 'learning_rate': 0.04688255059458876}. Best is trial 110 with value: 7369.925521565112.\u001b[0m\n",
      "\u001b[32m[I 2022-08-22 14:59:59,328]\u001b[0m Trial 221 finished with value: 7525.640121017343 and parameters: {'objective': 'RMSE', 'depth': 8, 'n_estimators': 2993, 'learning_rate': 0.06630176514111938}. Best is trial 110 with value: 7369.925521565112.\u001b[0m\n",
      "\u001b[32m[I 2022-08-22 15:00:01,181]\u001b[0m Trial 222 finished with value: 7523.404149279698 and parameters: {'objective': 'RMSE', 'depth': 8, 'n_estimators': 2971, 'learning_rate': 0.06554958666182314}. Best is trial 110 with value: 7369.925521565112.\u001b[0m\n",
      "\u001b[32m[I 2022-08-22 15:00:01,405]\u001b[0m Trial 223 finished with value: 7459.9355135185515 and parameters: {'objective': 'RMSE', 'depth': 8, 'n_estimators': 2968, 'learning_rate': 0.06683611406241222}. Best is trial 110 with value: 7369.925521565112.\u001b[0m\n",
      "Custom logger is already specified. Specify more than one logger at same time is not thread safe.\u001b[32m[I 2022-08-22 15:00:04,804]\u001b[0m Trial 224 finished with value: 7492.1157797663855 and parameters: {'objective': 'RMSE', 'depth': 8, 'n_estimators': 2985, 'learning_rate': 0.040111651017596124}. Best is trial 110 with value: 7369.925521565112.\u001b[0m\n",
      "\u001b[32m[I 2022-08-22 15:00:08,874]\u001b[0m Trial 225 finished with value: 7409.705572584737 and parameters: {'objective': 'RMSE', 'depth': 8, 'n_estimators': 2933, 'learning_rate': 0.04098986924490521}. Best is trial 110 with value: 7369.925521565112.\u001b[0m\n",
      "\u001b[32m[I 2022-08-22 15:00:13,614]\u001b[0m Trial 227 finished with value: 7452.082435620775 and parameters: {'objective': 'RMSE', 'depth': 8, 'n_estimators': 2940, 'learning_rate': 0.04391461502283956}. Best is trial 110 with value: 7369.925521565112.\u001b[0m\n",
      "\u001b[32m[I 2022-08-22 15:00:15,370]\u001b[0m Trial 226 finished with value: 7500.044304909771 and parameters: {'objective': 'RMSE', 'depth': 8, 'n_estimators': 2995, 'learning_rate': 0.04196506455805044}. Best is trial 110 with value: 7369.925521565112.\u001b[0m\n",
      "Custom logger is already specified. Specify more than one logger at same time is not thread safe.\u001b[32m[I 2022-08-22 15:00:15,634]\u001b[0m Trial 228 finished with value: 7525.803202796756 and parameters: {'objective': 'RMSE', 'depth': 8, 'n_estimators': 2982, 'learning_rate': 0.04176791198503961}. Best is trial 110 with value: 7369.925521565112.\u001b[0m\n",
      "\u001b[32m[I 2022-08-22 15:00:15,987]\u001b[0m Trial 229 finished with value: 7446.3121510789715 and parameters: {'objective': 'RMSE', 'depth': 8, 'n_estimators': 2645, 'learning_rate': 0.04042254725747795}. Best is trial 110 with value: 7369.925521565112.\u001b[0m\n",
      "\u001b[32m[I 2022-08-22 15:00:21,582]\u001b[0m Trial 230 finished with value: 7541.20499608506 and parameters: {'objective': 'RMSE', 'depth': 8, 'n_estimators': 2979, 'learning_rate': 0.06495850465625655}. Best is trial 110 with value: 7369.925521565112.\u001b[0m\n",
      "\u001b[32m[I 2022-08-22 15:00:23,977]\u001b[0m Trial 231 finished with value: 7487.609339868964 and parameters: {'objective': 'RMSE', 'depth': 8, 'n_estimators': 2683, 'learning_rate': 0.04080624365307166}. Best is trial 110 with value: 7369.925521565112.\u001b[0m\n",
      "\u001b[32m[I 2022-08-22 15:00:25,634]\u001b[0m Trial 232 finished with value: 7491.068358392218 and parameters: {'objective': 'RMSE', 'depth': 8, 'n_estimators': 2704, 'learning_rate': 0.0400847182163873}. Best is trial 110 with value: 7369.925521565112.\u001b[0m\n",
      "\u001b[32m[I 2022-08-22 15:00:27,816]\u001b[0m Trial 233 finished with value: 7468.08057253279 and parameters: {'objective': 'RMSE', 'depth': 8, 'n_estimators': 2660, 'learning_rate': 0.04062004223165114}. Best is trial 110 with value: 7369.925521565112.\u001b[0m\n",
      "\u001b[32m[I 2022-08-22 15:00:31,430]\u001b[0m Trial 234 finished with value: 7505.143148431707 and parameters: {'objective': 'RMSE', 'depth': 8, 'n_estimators': 2636, 'learning_rate': 0.050854788315204486}. Best is trial 110 with value: 7369.925521565112.\u001b[0m\n",
      "\u001b[32m[I 2022-08-22 15:00:31,599]\u001b[0m Trial 235 finished with value: 7588.61698472218 and parameters: {'objective': 'RMSE', 'depth': 7, 'n_estimators': 2671, 'learning_rate': 0.040850370748318175}. Best is trial 110 with value: 7369.925521565112.\u001b[0m\n",
      "Custom logger is already specified. Specify more than one logger at same time is not thread safe.\u001b[32m[I 2022-08-22 15:00:35,979]\u001b[0m Trial 236 finished with value: 7743.155218569277 and parameters: {'objective': 'RMSE', 'depth': 7, 'n_estimators': 2675, 'learning_rate': 0.04109578811983914}. Best is trial 110 with value: 7369.925521565112.\u001b[0m\n",
      "\u001b[32m[I 2022-08-22 15:00:41,430]\u001b[0m Trial 237 finished with value: 7649.635534874931 and parameters: {'objective': 'RMSE', 'depth': 8, 'n_estimators': 2656, 'learning_rate': 0.02030760585132306}. Best is trial 110 with value: 7369.925521565112.\u001b[0m\n",
      "\u001b[32m[I 2022-08-22 15:00:41,708]\u001b[0m Trial 238 finished with value: 7443.139990697947 and parameters: {'objective': 'RMSE', 'depth': 8, 'n_estimators': 2664, 'learning_rate': 0.0519968659186478}. Best is trial 110 with value: 7369.925521565112.\u001b[0m\n",
      "Custom logger is already specified. Specify more than one logger at same time is not thread safe.\u001b[32m[I 2022-08-22 15:00:41,956]\u001b[0m Trial 239 finished with value: 7537.663501708169 and parameters: {'objective': 'RMSE', 'depth': 8, 'n_estimators': 2665, 'learning_rate': 0.033730738502461284}. Best is trial 110 with value: 7369.925521565112.\u001b[0m\n",
      "\u001b[32m[I 2022-08-22 15:00:45,712]\u001b[0m Trial 244 finished with value: 7846.686970532777 and parameters: {'objective': 'RMSE', 'depth': 7, 'n_estimators': 1681, 'learning_rate': 0.043175628929674637}. Best is trial 110 with value: 7369.925521565112.\u001b[0m\n",
      "\u001b[32m[I 2022-08-22 15:00:47,586]\u001b[0m Trial 240 finished with value: 7447.774844644822 and parameters: {'objective': 'RMSE', 'depth': 8, 'n_estimators': 2676, 'learning_rate': 0.0502183217212875}. Best is trial 110 with value: 7369.925521565112.\u001b[0m\n",
      "\u001b[32m[I 2022-08-22 15:00:50,151]\u001b[0m Trial 241 finished with value: 7538.23835410072 and parameters: {'objective': 'RMSE', 'depth': 8, 'n_estimators': 2687, 'learning_rate': 0.032944690173958416}. Best is trial 110 with value: 7369.925521565112.\u001b[0m\n",
      "\u001b[32m[I 2022-08-22 15:00:51,089]\u001b[0m Trial 243 finished with value: 7726.64925214376 and parameters: {'objective': 'RMSE', 'depth': 7, 'n_estimators': 2793, 'learning_rate': 0.11056769607193827}. Best is trial 110 with value: 7369.925521565112.\u001b[0m\n",
      "\u001b[32m[I 2022-08-22 15:00:51,679]\u001b[0m Trial 242 finished with value: 7544.327512644935 and parameters: {'objective': 'RMSE', 'depth': 8, 'n_estimators': 2668, 'learning_rate': 0.044243840304182866}. Best is trial 110 with value: 7369.925521565112.\u001b[0m\n",
      "\u001b[32m[I 2022-08-22 15:00:58,364]\u001b[0m Trial 245 finished with value: 7527.114140701509 and parameters: {'objective': 'RMSE', 'depth': 8, 'n_estimators': 2772, 'learning_rate': 0.033750043043932025}. Best is trial 110 with value: 7369.925521565112.\u001b[0m\n",
      "\u001b[32m[I 2022-08-22 15:01:03,089]\u001b[0m Trial 246 finished with value: 7442.3855295739595 and parameters: {'objective': 'RMSE', 'depth': 8, 'n_estimators': 2791, 'learning_rate': 0.044293975994716156}. Best is trial 110 with value: 7369.925521565112.\u001b[0m\n",
      "\u001b[32m[I 2022-08-22 15:01:08,204]\u001b[0m Trial 247 finished with value: 7607.393564380486 and parameters: {'objective': 'RMSE', 'depth': 8, 'n_estimators': 2797, 'learning_rate': 0.11139232923577869}. Best is trial 110 with value: 7369.925521565112.\u001b[0m\n",
      "\u001b[32m[I 2022-08-22 15:01:08,274]\u001b[0m Trial 249 finished with value: 7488.707746236046 and parameters: {'objective': 'RMSE', 'depth': 8, 'n_estimators': 2791, 'learning_rate': 0.049519597945671366}. Best is trial 110 with value: 7369.925521565112.\u001b[0m\n",
      "\u001b[32m[I 2022-08-22 15:01:08,345]\u001b[0m Trial 248 finished with value: 7596.797189029765 and parameters: {'objective': 'RMSE', 'depth': 8, 'n_estimators': 2780, 'learning_rate': 0.05043306079027385}. Best is trial 110 with value: 7369.925521565112.\u001b[0m\n",
      "\u001b[32m[I 2022-08-22 15:01:10,571]\u001b[0m Trial 251 finished with value: 7550.34626211092 and parameters: {'objective': 'RMSE', 'depth': 8, 'n_estimators': 2487, 'learning_rate': 0.049745692569525365}. Best is trial 110 with value: 7369.925521565112.\u001b[0m\n"
     ]
    },
    {
     "name": "stderr",
     "output_type": "stream",
     "text": [
      "\u001b[32m[I 2022-08-22 15:01:11,333]\u001b[0m Trial 250 finished with value: 7514.399386608373 and parameters: {'objective': 'RMSE', 'depth': 8, 'n_estimators': 2797, 'learning_rate': 0.050750664818474026}. Best is trial 110 with value: 7369.925521565112.\u001b[0m\n",
      "\u001b[32m[I 2022-08-22 15:01:12,941]\u001b[0m Trial 253 finished with value: 7490.434743745271 and parameters: {'objective': 'RMSE', 'depth': 8, 'n_estimators': 2513, 'learning_rate': 0.05350620318894378}. Best is trial 110 with value: 7369.925521565112.\u001b[0m\n",
      "\u001b[32m[I 2022-08-22 15:01:13,817]\u001b[0m Trial 252 finished with value: 7502.527630605924 and parameters: {'objective': 'RMSE', 'depth': 8, 'n_estimators': 2784, 'learning_rate': 0.05278843500480975}. Best is trial 110 with value: 7369.925521565112.\u001b[0m\n",
      "\u001b[32m[I 2022-08-22 15:01:14,948]\u001b[0m Trial 254 finished with value: 7496.46694936107 and parameters: {'objective': 'RMSE', 'depth': 8, 'n_estimators': 2786, 'learning_rate': 0.05490239685097793}. Best is trial 110 with value: 7369.925521565112.\u001b[0m\n",
      "\u001b[32m[I 2022-08-22 15:01:17,251]\u001b[0m Trial 255 finished with value: 7454.08507916421 and parameters: {'objective': 'RMSE', 'depth': 8, 'n_estimators': 2512, 'learning_rate': 0.050679987656361496}. Best is trial 110 with value: 7369.925521565112.\u001b[0m\n",
      "\u001b[32m[I 2022-08-22 15:01:21,172]\u001b[0m Trial 256 finished with value: 7480.7040583335 and parameters: {'objective': 'RMSE', 'depth': 8, 'n_estimators': 2792, 'learning_rate': 0.0505102830237497}. Best is trial 110 with value: 7369.925521565112.\u001b[0m\n"
     ]
    },
    {
     "name": "stdout",
     "output_type": "stream",
     "text": [
      "CPU times: user 1h 31min 49s, sys: 1min 31s, total: 1h 33min 20s\n",
      "Wall time: 10min 13s\n"
     ]
    }
   ],
   "source": [
    "%%time\n",
    "study = optuna.create_study(direction='minimize')\n",
    "study.optimize(objective, n_trials=500, timeout=600, n_jobs=-1)"
   ]
  },
  {
   "cell_type": "markdown",
   "id": "d8ef10d4",
   "metadata": {},
   "source": [
    "### Теперь попробуйте улучшить результат самостоятельно, для этого вы можете пересмотреть подход работы с категориальными признаками\n",
    "\n",
    "Домашнюю работу считаем принятой, если вы получите результат на тесте ниже 7300"
   ]
  },
  {
   "cell_type": "code",
   "execution_count": null,
   "id": "310c3448",
   "metadata": {},
   "outputs": [],
   "source": []
  }
 ],
 "metadata": {
  "kernelspec": {
   "display_name": "Python 3 (ipykernel)",
   "language": "python",
   "name": "python3"
  },
  "language_info": {
   "codemirror_mode": {
    "name": "ipython",
    "version": 3
   },
   "file_extension": ".py",
   "mimetype": "text/x-python",
   "name": "python",
   "nbconvert_exporter": "python",
   "pygments_lexer": "ipython3",
   "version": "3.9.7"
  }
 },
 "nbformat": 4,
 "nbformat_minor": 5
}
